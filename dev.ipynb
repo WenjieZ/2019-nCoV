{
 "cells": [
  {
   "cell_type": "code",
   "execution_count": 1,
   "metadata": {},
   "outputs": [],
   "source": [
    "from abc import ABCMeta, abstractmethod\n",
    "from collections import namedtuple\n",
    "import numpy as np\n",
    "\n",
    "import plotly.graph_objects as go \n",
    "import plotly.express as px \n",
    "import plotly.io as pio\n",
    "from plotly.subplots import make_subplots\n",
    "\n",
    "from scipy.optimize import minimize, dual_annealing"
   ]
  },
  {
   "cell_type": "code",
   "execution_count": 2,
   "metadata": {},
   "outputs": [],
   "source": [
    "class Law(metaclass=ABCMeta):\n",
    "    @staticmethod\n",
    "    @abstractmethod\n",
    "    def sample(n, d):\n",
    "        pass\n",
    "\n",
    "    @staticmethod\n",
    "    @abstractmethod\n",
    "    def loglikely(n, d, k):\n",
    "        pass\n",
    "   \n",
    "    @staticmethod\n",
    "    def likelihood(n, d, k):\n",
    "        return np.exp(loglikely(n, d, k))\n",
    "\n",
    "\n",
    "class Bin(Law):\n",
    "    def sample(n, d):\n",
    "        return np.random.binomial(n, d)\n",
    "    \n",
    "    def loglikely(n, d, k):\n",
    "        return k*np.log(d) + (n-k)*np.log(1-d)\n",
    " \n",
    "       \n",
    "class Poi(Law):\n",
    "    def sample(n, d):\n",
    "        return np.random.poisson(n*d)\n",
    "    \n",
    "    def loglikely(n, d, k):\n",
    "        return k*np.log(n*d) - n*d - np.sum(np.log(np.arange(k)+1))\n",
    "    \n",
    "\n",
    "class Gau(Law):\n",
    "    def sample(n, d=1):\n",
    "        return n * (1 + 0.1*np.random.randn())\n",
    "    \n",
    "    def loglikely(n, d, k):\n",
    "        return -50 * np.log(k/n)**2 "
   ]
  },
  {
   "cell_type": "code",
   "execution_count": 3,
   "metadata": {},
   "outputs": [],
   "source": [
    "def variation1(x):\n",
    "    return np.mean(np.abs(np.diff(x)))\n",
    "\n",
    "\n",
    "def variation2(x):\n",
    "    return np.sqrt(np.mean(np.diff(x)**2))\n",
    "\n",
    "\n",
    "def elastic_net(x, mu=1):\n",
    "    return (variation1(x) + mu*variation2(x)) / (1+mu)"
   ]
  },
  {
   "cell_type": "code",
   "execution_count": 4,
   "metadata": {},
   "outputs": [],
   "source": [
    "Region = namedtuple('Region', 'S I R Q')\n",
    "Epidemic = namedtuple('Epidemic', 'S I R Q')\n",
    "\n",
    "\n",
    "class Sample:\n",
    "    def __init__(self, epidemic, ts, ms, ns, law, seed=None):\n",
    "        if seed is not None:\n",
    "            np.random.seed(seed)\n",
    "        \n",
    "        positive = np.zeros_like(ts)\n",
    "        for i, (t, m, n) in enumerate(zip(ts, ms, ns)):\n",
    "            positive[i] = law.sample(n, epidemic.I[t]/m)\n",
    "            \n",
    "        self.t = ts\n",
    "        self.m = ms\n",
    "        self.n = ns\n",
    "        self.positive = positive\n",
    "        self._law = law\n",
    "        \n",
    "    def __repr__(self):\n",
    "        return \" t: {} \\n m: {} \\n n: {} \\n positive: {}\".format(self.t, self.m, self.n, self.positive)\n",
    "    \n",
    "    def plot(self, fig):\n",
    "        fig.add_scatter(\n",
    "            x=self.t, y=self.positive / self.n * self.m, \n",
    "            mode=\"markers\", marker_symbol=1, name=\"Guessed\", hovertemplate=\"%{y}\"\n",
    "        )\n",
    "        return fig\n",
    "    \n",
    "\n",
    "class Confirmed:\n",
    "    def __init__(self, epidemic, ts, law=Poi, seed=None):\n",
    "        if seed is not None:\n",
    "            np.random.seed(seed)\n",
    "        \n",
    "        c = np.zeros_like(ts)\n",
    "        for i, t in enumerate(ts):\n",
    "            c[i] = law.sample(epidemic.Q[t], 1)\n",
    "\n",
    "        self.t = ts\n",
    "        self.c = c\n",
    "        \n",
    "    def __repr__(self):\n",
    "        return \" t: {} \\n c: {}\".format(self.t, self.c)\n",
    "    \n",
    "    def plot(self, fig):\n",
    "        fig.add_scatter(\n",
    "            x=self.t, y=self.c, \n",
    "            mode=\"markers\", marker_symbol=2, name=\"Confirmed\", hovertemplate=\"%{y}\"\n",
    "        )\n",
    "        return fig"
   ]
  },
  {
   "cell_type": "code",
   "execution_count": 18,
   "metadata": {},
   "outputs": [],
   "source": [
    "class JumpProcess:\n",
    "    def __init__(self, start, amplitude, wait, horizon, seed=None):\n",
    "        if seed is not None:\n",
    "            np.random.seed(seed)\n",
    "            \n",
    "        process = np.zeros(horizon)\n",
    "        t = 0\n",
    "        while t < horizon:\n",
    "            T = int(np.random.exponential(wait))\n",
    "            process[t:t+T] = start\n",
    "            start *= (1 + np.random.choice([-1, 1]) * amplitude)\n",
    "            t += T\n",
    "            \n",
    "        self.value = process\n",
    "            \n",
    "    def plot(self, ls='hv', log=True):\n",
    "        fig = px.scatter(x=range(len(self.value)), y=self.value, hovertemplate=\"%{y}\", line_shape=ls)\n",
    "        if log:\n",
    "            fig.update_yaxes(type=\"log\")\n",
    "        return fig"
   ]
  },
  {
   "cell_type": "code",
   "execution_count": 102,
   "metadata": {},
   "outputs": [],
   "source": [
    "class SIRQt:\n",
    "    def __init__(self, beta, gamma, theta, dt=1):\n",
    "        beta = np.array(beta)\n",
    "        if np.isscalar(gamma):\n",
    "            gamma = gamma * np.ones_like(beta)\n",
    "        else:\n",
    "            gamma = np.array(gamma)\n",
    "        theta = np.array(theta)\n",
    "        if not beta.size == gamma.size == theta.size:\n",
    "            raise Exception(\"Dimensions not equal. β: {}, γ: {}, θ: {}\".format(beta.size, gamma.size, theta.size))\n",
    "            \n",
    "        self.beta = beta * dt\n",
    "        self.gamma = gamma * dt\n",
    "        self.theta = theta * dt\n",
    "    \n",
    "    def self_plot(self, ls='hv', log=False, **kvargs):\n",
    "        fig = go.Figure()\n",
    "        fig.add_scatter(x=np.arange(len(self.beta)), y=self.beta, line_shape=ls, name='β', hovertemplate=\"%{y}\")\n",
    "        fig.add_scatter(x=np.arange(len(self.gamma)), y=self.gamma, line_shape=ls, name='γ', hovertemplate=\"%{y}\")\n",
    "        fig.add_scatter(x=np.arange(len(self.theta)), y=self.theta, line_shape=ls, name='θ', hovertemplate=\"%{y}\")\n",
    "        if log:\n",
    "            fig.update_yaxes(type=\"log\")\n",
    "        return fig\n",
    "    \n",
    "    def __repr__(self):\n",
    "        self.self_plot().show()\n",
    "        return \"\"\n",
    "\n",
    "    def r0(self, control=False):\n",
    "        if control:\n",
    "            return self.beta / (self.gamma + self.theta)\n",
    "        else:\n",
    "            return self.beta / self.gamma\n",
    "        \n",
    "    def estimate(self, region, horizon=None):\n",
    "        T = self.beta.size if horizon is None else horizon\n",
    "        S = np.zeros(T+1)\n",
    "        I = np.zeros(T+1)\n",
    "        R = np.zeros(T+1)\n",
    "        Q = np.zeros(T+1)\n",
    "        S[0] = region.S\n",
    "        I[0] = region.I\n",
    "        R[0] = region.R\n",
    "        Q[0] = region.Q\n",
    "        \n",
    "        for t in range(T):\n",
    "            if t < self.beta.size:\n",
    "                beta, gamma, theta = self.beta[t], self.gamma[t], self.theta[t]\n",
    "            else:\n",
    "                beta, gamma, theta = self.beta[-1], self.gamma[-1], self.theta[-1]\n",
    "                \n",
    "            M = S[t] + I[t] + R[t] + Q[t]\n",
    "            a, b, c = beta*S[t]*I[t]/M, gamma*I[t], theta*I[t]\n",
    "            S[t+1] = S[t] - a\n",
    "            I[t+1] = I[t] + a - b - c\n",
    "            R[t+1] = R[t] + b \n",
    "            Q[t+1] = Q[t] + c\n",
    "        \n",
    "        return Epidemic(S, I, R, Q)\n",
    "    \n",
    "    @staticmethod\n",
    "    def plot(epidemic, T0=0, T=None, line=None, fig=None):\n",
    "        if fig is None:\n",
    "            fig = go.Figure()\n",
    "            fig.update_layout(margin=dict(b=0, l=0, r=0, t=25))\n",
    "        if T is None:    \n",
    "            T = epidemic.S.size - 1 + T0\n",
    "        fig.add_scatter(x=np.arange(T0, T+1), y=epidemic.S.astype(int), name=\"Susceptible\", hovertemplate=\"%{y}\")\n",
    "        fig.add_scatter(x=np.arange(T0, T+1), y=epidemic.I.astype(int), name=\"Infectious\", hovertemplate=\"%{y}\")\n",
    "        fig.add_scatter(x=np.arange(T0, T+1), y=epidemic.R.astype(int), name=\"Removed\", hovertemplate=\"%{y}\")\n",
    "        fig.add_scatter(x=np.arange(T0, T+1), y=epidemic.Q.astype(int), name=\"Quarantined\", hovertemplate=\"%{y}\")\n",
    "        return fig"
   ]
  },
  {
   "cell_type": "code",
   "execution_count": 103,
   "metadata": {},
   "outputs": [
    {
     "data": {
      "application/vnd.plotly.v1+json": {
       "config": {
        "plotlyServerURL": "https://plot.ly"
       },
       "data": [
        {
         "hovertemplate": "%{y}",
         "line": {
          "shape": "hv"
         },
         "name": "β",
         "type": "scatter",
         "x": [
          0,
          1,
          2,
          3,
          4,
          5,
          6,
          7,
          8,
          9,
          10,
          11,
          12,
          13,
          14,
          15,
          16,
          17,
          18,
          19,
          20,
          21,
          22,
          23,
          24,
          25,
          26,
          27,
          28,
          29,
          30,
          31,
          32,
          33,
          34,
          35,
          36,
          37,
          38,
          39,
          40,
          41,
          42,
          43,
          44,
          45,
          46,
          47,
          48,
          49,
          50,
          51,
          52,
          53,
          54,
          55,
          56,
          57,
          58,
          59,
          60,
          61,
          62,
          63,
          64,
          65,
          66,
          67,
          68,
          69,
          70,
          71,
          72,
          73,
          74,
          75,
          76,
          77,
          78,
          79,
          80,
          81,
          82,
          83,
          84,
          85,
          86,
          87,
          88,
          89,
          90,
          91,
          92,
          93,
          94,
          95,
          96,
          97,
          98,
          99
         ],
         "y": [
          0.15,
          0.15,
          0.15,
          0.15,
          0.15,
          0.15,
          0.15,
          0.195,
          0.195,
          0.195,
          0.195,
          0.195,
          0.195,
          0.195,
          0.195,
          0.195,
          0.195,
          0.195,
          0.195,
          0.195,
          0.195,
          0.195,
          0.195,
          0.195,
          0.195,
          0.2535,
          0.2535,
          0.2535,
          0.2535,
          0.2535,
          0.2535,
          0.2535,
          0.32955,
          0.32955,
          0.32955,
          0.32955,
          0.32955,
          0.32955,
          0.32955,
          0.32955,
          0.32955,
          0.230685,
          0.230685,
          0.230685,
          0.230685,
          0.230685,
          0.11303564999999999,
          0.11303564999999999,
          0.11303564999999999,
          0.11303564999999999,
          0.07912495499999998,
          0.07912495499999998,
          0.07912495499999998,
          0.07912495499999998,
          0.07912495499999998,
          0.07912495499999998,
          0.07912495499999998,
          0.07912495499999998,
          0.07912495499999998,
          0.07912495499999998,
          0.07912495499999998,
          0.07912495499999998,
          0.07912495499999998,
          0.07912495499999998,
          0.07912495499999998,
          0.07912495499999998,
          0.05538746849999998,
          0.05538746849999998,
          0.05538746849999998,
          0.05538746849999998,
          0.05538746849999998,
          0.05538746849999998,
          0.05538746849999998,
          0.05538746849999998,
          0.07200370904999998,
          0.07200370904999998,
          0.07200370904999998,
          0.07200370904999998,
          0.07200370904999998,
          0.07200370904999998,
          0.07200370904999998,
          0.07200370904999998,
          0.07200370904999998,
          0.07200370904999998,
          0.07200370904999998,
          0.07200370904999998,
          0.07200370904999998,
          0.07200370904999998,
          0.07200370904999998,
          0.07200370904999998,
          0.07200370904999998,
          0.07200370904999998,
          0.06552337523549998,
          0.06552337523549998,
          0.06552337523549998,
          0.06552337523549998,
          0.08518038780614998,
          0.08518038780614998,
          0.08518038780614998,
          0.08518038780614998
         ]
        },
        {
         "hovertemplate": "%{y}",
         "line": {
          "shape": "hv"
         },
         "name": "γ",
         "type": "scatter",
         "x": [
          0,
          1,
          2,
          3,
          4,
          5,
          6,
          7,
          8,
          9,
          10,
          11,
          12,
          13,
          14,
          15,
          16,
          17,
          18,
          19,
          20,
          21,
          22,
          23,
          24,
          25,
          26,
          27,
          28,
          29,
          30,
          31,
          32,
          33,
          34,
          35,
          36,
          37,
          38,
          39,
          40,
          41,
          42,
          43,
          44,
          45,
          46,
          47,
          48,
          49,
          50,
          51,
          52,
          53,
          54,
          55,
          56,
          57,
          58,
          59,
          60,
          61,
          62,
          63,
          64,
          65,
          66,
          67,
          68,
          69,
          70,
          71,
          72,
          73,
          74,
          75,
          76,
          77,
          78,
          79,
          80,
          81,
          82,
          83,
          84,
          85,
          86,
          87,
          88,
          89,
          90,
          91,
          92,
          93,
          94,
          95,
          96,
          97,
          98,
          99
         ],
         "y": [
          0.03,
          0.03,
          0.03,
          0.03,
          0.03,
          0.03,
          0.03,
          0.0303,
          0.0303,
          0.0303,
          0.0303,
          0.0303,
          0.0303,
          0.0303,
          0.0303,
          0.0303,
          0.0303,
          0.0303,
          0.0303,
          0.0303,
          0.0303,
          0.0303,
          0.0303,
          0.0303,
          0.0303,
          0.030602999999999998,
          0.030602999999999998,
          0.030602999999999998,
          0.030602999999999998,
          0.030602999999999998,
          0.030602999999999998,
          0.030602999999999998,
          0.030909029999999997,
          0.030909029999999997,
          0.030909029999999997,
          0.030909029999999997,
          0.030909029999999997,
          0.030909029999999997,
          0.030909029999999997,
          0.030909029999999997,
          0.030909029999999997,
          0.03059993969999999,
          0.03059993969999999,
          0.03059993969999999,
          0.03059993969999999,
          0.03059993969999999,
          0.029991000899969988,
          0.029991000899969988,
          0.029991000899969988,
          0.029991000899969988,
          0.02969109089097029,
          0.02969109089097029,
          0.02969109089097029,
          0.02969109089097029,
          0.02969109089097029,
          0.02969109089097029,
          0.02969109089097029,
          0.02969109089097029,
          0.02969109089097029,
          0.02969109089097029,
          0.02969109089097029,
          0.02969109089097029,
          0.02969109089097029,
          0.02969109089097029,
          0.02969109089097029,
          0.02969109089097029,
          0.02939417998206059,
          0.02939417998206059,
          0.02939417998206059,
          0.02939417998206059,
          0.02939417998206059,
          0.02939417998206059,
          0.02939417998206059,
          0.02939417998206059,
          0.029688121781881193,
          0.029688121781881193,
          0.029688121781881193,
          0.029688121781881193,
          0.029688121781881193,
          0.029688121781881193,
          0.029688121781881193,
          0.029688121781881193,
          0.029688121781881193,
          0.029688121781881193,
          0.029688121781881193,
          0.029688121781881193,
          0.029688121781881193,
          0.029688121781881193,
          0.029688121781881193,
          0.029688121781881193,
          0.029688121781881193,
          0.029688121781881193,
          0.029685152969703005,
          0.029685152969703005,
          0.029685152969703005,
          0.029685152969703005,
          0.029982004499400035,
          0.029982004499400035,
          0.029982004499400035,
          0.029982004499400035
         ]
        },
        {
         "hovertemplate": "%{y}",
         "line": {
          "shape": "hv"
         },
         "name": "θ",
         "type": "scatter",
         "x": [
          0,
          1,
          2,
          3,
          4,
          5,
          6,
          7,
          8,
          9,
          10,
          11,
          12,
          13,
          14,
          15,
          16,
          17,
          18,
          19,
          20,
          21,
          22,
          23,
          24,
          25,
          26,
          27,
          28,
          29,
          30,
          31,
          32,
          33,
          34,
          35,
          36,
          37,
          38,
          39,
          40,
          41,
          42,
          43,
          44,
          45,
          46,
          47,
          48,
          49,
          50,
          51,
          52,
          53,
          54,
          55,
          56,
          57,
          58,
          59,
          60,
          61,
          62,
          63,
          64,
          65,
          66,
          67,
          68,
          69,
          70,
          71,
          72,
          73,
          74,
          75,
          76,
          77,
          78,
          79,
          80,
          81,
          82,
          83,
          84,
          85,
          86,
          87,
          88,
          89,
          90,
          91,
          92,
          93,
          94,
          95,
          96,
          97,
          98,
          99
         ],
         "y": [
          0.06,
          0.06,
          0.06,
          0.06,
          0.06,
          0.06,
          0.06,
          0.06,
          0.06,
          0.06,
          0.048,
          0.048,
          0.048,
          0.048,
          0.048,
          0.048,
          0.048,
          0.048,
          0.048,
          0.048,
          0.048,
          0.048,
          0.048,
          0.048,
          0.048,
          0.048,
          0.048,
          0.048,
          0.048,
          0.048,
          0.048,
          0.048,
          0.048,
          0.048,
          0.048,
          0.048,
          0.048,
          0.048,
          0.048,
          0.048,
          0.048,
          0.048,
          0.048,
          0.048,
          0.048,
          0.048,
          0.048,
          0.048,
          0.048,
          0.048,
          0.048,
          0.048,
          0.048,
          0.048,
          0.048,
          0.048,
          0.048,
          0.048,
          0.048,
          0.048,
          0.048,
          0.048,
          0.048,
          0.0576,
          0.0576,
          0.0576,
          0.0576,
          0.0576,
          0.0576,
          0.0576,
          0.06911999999999999,
          0.06911999999999999,
          0.06911999999999999,
          0.06911999999999999,
          0.06911999999999999,
          0.08294399999999999,
          0.08294399999999999,
          0.08294399999999999,
          0.08294399999999999,
          0.09953279999999998,
          0.09953279999999998,
          0.09953279999999998,
          0.09953279999999998,
          0.09953279999999998,
          0.09953279999999998,
          0.09953279999999998,
          0.09953279999999998,
          0.09953279999999998,
          0.09953279999999998,
          0.09953279999999998,
          0.09953279999999998,
          0.09953279999999998,
          0.09953279999999998,
          0.09953279999999998,
          0.09953279999999998,
          0.09953279999999998,
          0.09953279999999998,
          0.09953279999999998,
          0.09953279999999998,
          0.09953279999999998
         ]
        }
       ],
       "layout": {
        "template": {
         "data": {
          "bar": [
           {
            "error_x": {
             "color": "#2a3f5f"
            },
            "error_y": {
             "color": "#2a3f5f"
            },
            "marker": {
             "line": {
              "color": "#E5ECF6",
              "width": 0.5
             }
            },
            "type": "bar"
           }
          ],
          "barpolar": [
           {
            "marker": {
             "line": {
              "color": "#E5ECF6",
              "width": 0.5
             }
            },
            "type": "barpolar"
           }
          ],
          "carpet": [
           {
            "aaxis": {
             "endlinecolor": "#2a3f5f",
             "gridcolor": "white",
             "linecolor": "white",
             "minorgridcolor": "white",
             "startlinecolor": "#2a3f5f"
            },
            "baxis": {
             "endlinecolor": "#2a3f5f",
             "gridcolor": "white",
             "linecolor": "white",
             "minorgridcolor": "white",
             "startlinecolor": "#2a3f5f"
            },
            "type": "carpet"
           }
          ],
          "choropleth": [
           {
            "colorbar": {
             "outlinewidth": 0,
             "ticks": ""
            },
            "type": "choropleth"
           }
          ],
          "contour": [
           {
            "colorbar": {
             "outlinewidth": 0,
             "ticks": ""
            },
            "colorscale": [
             [
              0,
              "#0d0887"
             ],
             [
              0.1111111111111111,
              "#46039f"
             ],
             [
              0.2222222222222222,
              "#7201a8"
             ],
             [
              0.3333333333333333,
              "#9c179e"
             ],
             [
              0.4444444444444444,
              "#bd3786"
             ],
             [
              0.5555555555555556,
              "#d8576b"
             ],
             [
              0.6666666666666666,
              "#ed7953"
             ],
             [
              0.7777777777777778,
              "#fb9f3a"
             ],
             [
              0.8888888888888888,
              "#fdca26"
             ],
             [
              1,
              "#f0f921"
             ]
            ],
            "type": "contour"
           }
          ],
          "contourcarpet": [
           {
            "colorbar": {
             "outlinewidth": 0,
             "ticks": ""
            },
            "type": "contourcarpet"
           }
          ],
          "heatmap": [
           {
            "colorbar": {
             "outlinewidth": 0,
             "ticks": ""
            },
            "colorscale": [
             [
              0,
              "#0d0887"
             ],
             [
              0.1111111111111111,
              "#46039f"
             ],
             [
              0.2222222222222222,
              "#7201a8"
             ],
             [
              0.3333333333333333,
              "#9c179e"
             ],
             [
              0.4444444444444444,
              "#bd3786"
             ],
             [
              0.5555555555555556,
              "#d8576b"
             ],
             [
              0.6666666666666666,
              "#ed7953"
             ],
             [
              0.7777777777777778,
              "#fb9f3a"
             ],
             [
              0.8888888888888888,
              "#fdca26"
             ],
             [
              1,
              "#f0f921"
             ]
            ],
            "type": "heatmap"
           }
          ],
          "heatmapgl": [
           {
            "colorbar": {
             "outlinewidth": 0,
             "ticks": ""
            },
            "colorscale": [
             [
              0,
              "#0d0887"
             ],
             [
              0.1111111111111111,
              "#46039f"
             ],
             [
              0.2222222222222222,
              "#7201a8"
             ],
             [
              0.3333333333333333,
              "#9c179e"
             ],
             [
              0.4444444444444444,
              "#bd3786"
             ],
             [
              0.5555555555555556,
              "#d8576b"
             ],
             [
              0.6666666666666666,
              "#ed7953"
             ],
             [
              0.7777777777777778,
              "#fb9f3a"
             ],
             [
              0.8888888888888888,
              "#fdca26"
             ],
             [
              1,
              "#f0f921"
             ]
            ],
            "type": "heatmapgl"
           }
          ],
          "histogram": [
           {
            "marker": {
             "colorbar": {
              "outlinewidth": 0,
              "ticks": ""
             }
            },
            "type": "histogram"
           }
          ],
          "histogram2d": [
           {
            "colorbar": {
             "outlinewidth": 0,
             "ticks": ""
            },
            "colorscale": [
             [
              0,
              "#0d0887"
             ],
             [
              0.1111111111111111,
              "#46039f"
             ],
             [
              0.2222222222222222,
              "#7201a8"
             ],
             [
              0.3333333333333333,
              "#9c179e"
             ],
             [
              0.4444444444444444,
              "#bd3786"
             ],
             [
              0.5555555555555556,
              "#d8576b"
             ],
             [
              0.6666666666666666,
              "#ed7953"
             ],
             [
              0.7777777777777778,
              "#fb9f3a"
             ],
             [
              0.8888888888888888,
              "#fdca26"
             ],
             [
              1,
              "#f0f921"
             ]
            ],
            "type": "histogram2d"
           }
          ],
          "histogram2dcontour": [
           {
            "colorbar": {
             "outlinewidth": 0,
             "ticks": ""
            },
            "colorscale": [
             [
              0,
              "#0d0887"
             ],
             [
              0.1111111111111111,
              "#46039f"
             ],
             [
              0.2222222222222222,
              "#7201a8"
             ],
             [
              0.3333333333333333,
              "#9c179e"
             ],
             [
              0.4444444444444444,
              "#bd3786"
             ],
             [
              0.5555555555555556,
              "#d8576b"
             ],
             [
              0.6666666666666666,
              "#ed7953"
             ],
             [
              0.7777777777777778,
              "#fb9f3a"
             ],
             [
              0.8888888888888888,
              "#fdca26"
             ],
             [
              1,
              "#f0f921"
             ]
            ],
            "type": "histogram2dcontour"
           }
          ],
          "mesh3d": [
           {
            "colorbar": {
             "outlinewidth": 0,
             "ticks": ""
            },
            "type": "mesh3d"
           }
          ],
          "parcoords": [
           {
            "line": {
             "colorbar": {
              "outlinewidth": 0,
              "ticks": ""
             }
            },
            "type": "parcoords"
           }
          ],
          "pie": [
           {
            "automargin": true,
            "type": "pie"
           }
          ],
          "scatter": [
           {
            "marker": {
             "colorbar": {
              "outlinewidth": 0,
              "ticks": ""
             }
            },
            "type": "scatter"
           }
          ],
          "scatter3d": [
           {
            "line": {
             "colorbar": {
              "outlinewidth": 0,
              "ticks": ""
             }
            },
            "marker": {
             "colorbar": {
              "outlinewidth": 0,
              "ticks": ""
             }
            },
            "type": "scatter3d"
           }
          ],
          "scattercarpet": [
           {
            "marker": {
             "colorbar": {
              "outlinewidth": 0,
              "ticks": ""
             }
            },
            "type": "scattercarpet"
           }
          ],
          "scattergeo": [
           {
            "marker": {
             "colorbar": {
              "outlinewidth": 0,
              "ticks": ""
             }
            },
            "type": "scattergeo"
           }
          ],
          "scattergl": [
           {
            "marker": {
             "colorbar": {
              "outlinewidth": 0,
              "ticks": ""
             }
            },
            "type": "scattergl"
           }
          ],
          "scattermapbox": [
           {
            "marker": {
             "colorbar": {
              "outlinewidth": 0,
              "ticks": ""
             }
            },
            "type": "scattermapbox"
           }
          ],
          "scatterpolar": [
           {
            "marker": {
             "colorbar": {
              "outlinewidth": 0,
              "ticks": ""
             }
            },
            "type": "scatterpolar"
           }
          ],
          "scatterpolargl": [
           {
            "marker": {
             "colorbar": {
              "outlinewidth": 0,
              "ticks": ""
             }
            },
            "type": "scatterpolargl"
           }
          ],
          "scatterternary": [
           {
            "marker": {
             "colorbar": {
              "outlinewidth": 0,
              "ticks": ""
             }
            },
            "type": "scatterternary"
           }
          ],
          "surface": [
           {
            "colorbar": {
             "outlinewidth": 0,
             "ticks": ""
            },
            "colorscale": [
             [
              0,
              "#0d0887"
             ],
             [
              0.1111111111111111,
              "#46039f"
             ],
             [
              0.2222222222222222,
              "#7201a8"
             ],
             [
              0.3333333333333333,
              "#9c179e"
             ],
             [
              0.4444444444444444,
              "#bd3786"
             ],
             [
              0.5555555555555556,
              "#d8576b"
             ],
             [
              0.6666666666666666,
              "#ed7953"
             ],
             [
              0.7777777777777778,
              "#fb9f3a"
             ],
             [
              0.8888888888888888,
              "#fdca26"
             ],
             [
              1,
              "#f0f921"
             ]
            ],
            "type": "surface"
           }
          ],
          "table": [
           {
            "cells": {
             "fill": {
              "color": "#EBF0F8"
             },
             "line": {
              "color": "white"
             }
            },
            "header": {
             "fill": {
              "color": "#C8D4E3"
             },
             "line": {
              "color": "white"
             }
            },
            "type": "table"
           }
          ]
         },
         "layout": {
          "annotationdefaults": {
           "arrowcolor": "#2a3f5f",
           "arrowhead": 0,
           "arrowwidth": 1
          },
          "coloraxis": {
           "colorbar": {
            "outlinewidth": 0,
            "ticks": ""
           }
          },
          "colorscale": {
           "diverging": [
            [
             0,
             "#8e0152"
            ],
            [
             0.1,
             "#c51b7d"
            ],
            [
             0.2,
             "#de77ae"
            ],
            [
             0.3,
             "#f1b6da"
            ],
            [
             0.4,
             "#fde0ef"
            ],
            [
             0.5,
             "#f7f7f7"
            ],
            [
             0.6,
             "#e6f5d0"
            ],
            [
             0.7,
             "#b8e186"
            ],
            [
             0.8,
             "#7fbc41"
            ],
            [
             0.9,
             "#4d9221"
            ],
            [
             1,
             "#276419"
            ]
           ],
           "sequential": [
            [
             0,
             "#0d0887"
            ],
            [
             0.1111111111111111,
             "#46039f"
            ],
            [
             0.2222222222222222,
             "#7201a8"
            ],
            [
             0.3333333333333333,
             "#9c179e"
            ],
            [
             0.4444444444444444,
             "#bd3786"
            ],
            [
             0.5555555555555556,
             "#d8576b"
            ],
            [
             0.6666666666666666,
             "#ed7953"
            ],
            [
             0.7777777777777778,
             "#fb9f3a"
            ],
            [
             0.8888888888888888,
             "#fdca26"
            ],
            [
             1,
             "#f0f921"
            ]
           ],
           "sequentialminus": [
            [
             0,
             "#0d0887"
            ],
            [
             0.1111111111111111,
             "#46039f"
            ],
            [
             0.2222222222222222,
             "#7201a8"
            ],
            [
             0.3333333333333333,
             "#9c179e"
            ],
            [
             0.4444444444444444,
             "#bd3786"
            ],
            [
             0.5555555555555556,
             "#d8576b"
            ],
            [
             0.6666666666666666,
             "#ed7953"
            ],
            [
             0.7777777777777778,
             "#fb9f3a"
            ],
            [
             0.8888888888888888,
             "#fdca26"
            ],
            [
             1,
             "#f0f921"
            ]
           ]
          },
          "colorway": [
           "#636efa",
           "#EF553B",
           "#00cc96",
           "#ab63fa",
           "#FFA15A",
           "#19d3f3",
           "#FF6692",
           "#B6E880",
           "#FF97FF",
           "#FECB52"
          ],
          "font": {
           "color": "#2a3f5f"
          },
          "geo": {
           "bgcolor": "white",
           "lakecolor": "white",
           "landcolor": "#E5ECF6",
           "showlakes": true,
           "showland": true,
           "subunitcolor": "white"
          },
          "hoverlabel": {
           "align": "left"
          },
          "hovermode": "closest",
          "mapbox": {
           "style": "light"
          },
          "paper_bgcolor": "white",
          "plot_bgcolor": "#E5ECF6",
          "polar": {
           "angularaxis": {
            "gridcolor": "white",
            "linecolor": "white",
            "ticks": ""
           },
           "bgcolor": "#E5ECF6",
           "radialaxis": {
            "gridcolor": "white",
            "linecolor": "white",
            "ticks": ""
           }
          },
          "scene": {
           "xaxis": {
            "backgroundcolor": "#E5ECF6",
            "gridcolor": "white",
            "gridwidth": 2,
            "linecolor": "white",
            "showbackground": true,
            "ticks": "",
            "zerolinecolor": "white"
           },
           "yaxis": {
            "backgroundcolor": "#E5ECF6",
            "gridcolor": "white",
            "gridwidth": 2,
            "linecolor": "white",
            "showbackground": true,
            "ticks": "",
            "zerolinecolor": "white"
           },
           "zaxis": {
            "backgroundcolor": "#E5ECF6",
            "gridcolor": "white",
            "gridwidth": 2,
            "linecolor": "white",
            "showbackground": true,
            "ticks": "",
            "zerolinecolor": "white"
           }
          },
          "shapedefaults": {
           "line": {
            "color": "#2a3f5f"
           }
          },
          "ternary": {
           "aaxis": {
            "gridcolor": "white",
            "linecolor": "white",
            "ticks": ""
           },
           "baxis": {
            "gridcolor": "white",
            "linecolor": "white",
            "ticks": ""
           },
           "bgcolor": "#E5ECF6",
           "caxis": {
            "gridcolor": "white",
            "linecolor": "white",
            "ticks": ""
           }
          },
          "title": {
           "x": 0.05
          },
          "xaxis": {
           "automargin": true,
           "gridcolor": "white",
           "linecolor": "white",
           "ticks": "",
           "title": {
            "standoff": 15
           },
           "zerolinecolor": "white",
           "zerolinewidth": 2
          },
          "yaxis": {
           "automargin": true,
           "gridcolor": "white",
           "linecolor": "white",
           "ticks": "",
           "title": {
            "standoff": 15
           },
           "zerolinecolor": "white",
           "zerolinewidth": 2
          }
         }
        }
       }
      },
      "text/html": [
       "<div>\n",
       "        \n",
       "        \n",
       "            <div id=\"99a5b172-2162-4a4f-8389-c742010d2abc\" class=\"plotly-graph-div\" style=\"height:525px; width:100%;\"></div>\n",
       "            <script type=\"text/javascript\">\n",
       "                require([\"plotly\"], function(Plotly) {\n",
       "                    window.PLOTLYENV=window.PLOTLYENV || {};\n",
       "                    \n",
       "                if (document.getElementById(\"99a5b172-2162-4a4f-8389-c742010d2abc\")) {\n",
       "                    Plotly.newPlot(\n",
       "                        '99a5b172-2162-4a4f-8389-c742010d2abc',\n",
       "                        [{\"hovertemplate\": \"%{y}\", \"line\": {\"shape\": \"hv\"}, \"name\": \"\\u03b2\", \"type\": \"scatter\", \"x\": [0, 1, 2, 3, 4, 5, 6, 7, 8, 9, 10, 11, 12, 13, 14, 15, 16, 17, 18, 19, 20, 21, 22, 23, 24, 25, 26, 27, 28, 29, 30, 31, 32, 33, 34, 35, 36, 37, 38, 39, 40, 41, 42, 43, 44, 45, 46, 47, 48, 49, 50, 51, 52, 53, 54, 55, 56, 57, 58, 59, 60, 61, 62, 63, 64, 65, 66, 67, 68, 69, 70, 71, 72, 73, 74, 75, 76, 77, 78, 79, 80, 81, 82, 83, 84, 85, 86, 87, 88, 89, 90, 91, 92, 93, 94, 95, 96, 97, 98, 99], \"y\": [0.15, 0.15, 0.15, 0.15, 0.15, 0.15, 0.15, 0.195, 0.195, 0.195, 0.195, 0.195, 0.195, 0.195, 0.195, 0.195, 0.195, 0.195, 0.195, 0.195, 0.195, 0.195, 0.195, 0.195, 0.195, 0.2535, 0.2535, 0.2535, 0.2535, 0.2535, 0.2535, 0.2535, 0.32955, 0.32955, 0.32955, 0.32955, 0.32955, 0.32955, 0.32955, 0.32955, 0.32955, 0.230685, 0.230685, 0.230685, 0.230685, 0.230685, 0.11303564999999999, 0.11303564999999999, 0.11303564999999999, 0.11303564999999999, 0.07912495499999998, 0.07912495499999998, 0.07912495499999998, 0.07912495499999998, 0.07912495499999998, 0.07912495499999998, 0.07912495499999998, 0.07912495499999998, 0.07912495499999998, 0.07912495499999998, 0.07912495499999998, 0.07912495499999998, 0.07912495499999998, 0.07912495499999998, 0.07912495499999998, 0.07912495499999998, 0.05538746849999998, 0.05538746849999998, 0.05538746849999998, 0.05538746849999998, 0.05538746849999998, 0.05538746849999998, 0.05538746849999998, 0.05538746849999998, 0.07200370904999998, 0.07200370904999998, 0.07200370904999998, 0.07200370904999998, 0.07200370904999998, 0.07200370904999998, 0.07200370904999998, 0.07200370904999998, 0.07200370904999998, 0.07200370904999998, 0.07200370904999998, 0.07200370904999998, 0.07200370904999998, 0.07200370904999998, 0.07200370904999998, 0.07200370904999998, 0.07200370904999998, 0.07200370904999998, 0.06552337523549998, 0.06552337523549998, 0.06552337523549998, 0.06552337523549998, 0.08518038780614998, 0.08518038780614998, 0.08518038780614998, 0.08518038780614998]}, {\"hovertemplate\": \"%{y}\", \"line\": {\"shape\": \"hv\"}, \"name\": \"\\u03b3\", \"type\": \"scatter\", \"x\": [0, 1, 2, 3, 4, 5, 6, 7, 8, 9, 10, 11, 12, 13, 14, 15, 16, 17, 18, 19, 20, 21, 22, 23, 24, 25, 26, 27, 28, 29, 30, 31, 32, 33, 34, 35, 36, 37, 38, 39, 40, 41, 42, 43, 44, 45, 46, 47, 48, 49, 50, 51, 52, 53, 54, 55, 56, 57, 58, 59, 60, 61, 62, 63, 64, 65, 66, 67, 68, 69, 70, 71, 72, 73, 74, 75, 76, 77, 78, 79, 80, 81, 82, 83, 84, 85, 86, 87, 88, 89, 90, 91, 92, 93, 94, 95, 96, 97, 98, 99], \"y\": [0.03, 0.03, 0.03, 0.03, 0.03, 0.03, 0.03, 0.0303, 0.0303, 0.0303, 0.0303, 0.0303, 0.0303, 0.0303, 0.0303, 0.0303, 0.0303, 0.0303, 0.0303, 0.0303, 0.0303, 0.0303, 0.0303, 0.0303, 0.0303, 0.030602999999999998, 0.030602999999999998, 0.030602999999999998, 0.030602999999999998, 0.030602999999999998, 0.030602999999999998, 0.030602999999999998, 0.030909029999999997, 0.030909029999999997, 0.030909029999999997, 0.030909029999999997, 0.030909029999999997, 0.030909029999999997, 0.030909029999999997, 0.030909029999999997, 0.030909029999999997, 0.03059993969999999, 0.03059993969999999, 0.03059993969999999, 0.03059993969999999, 0.03059993969999999, 0.029991000899969988, 0.029991000899969988, 0.029991000899969988, 0.029991000899969988, 0.02969109089097029, 0.02969109089097029, 0.02969109089097029, 0.02969109089097029, 0.02969109089097029, 0.02969109089097029, 0.02969109089097029, 0.02969109089097029, 0.02969109089097029, 0.02969109089097029, 0.02969109089097029, 0.02969109089097029, 0.02969109089097029, 0.02969109089097029, 0.02969109089097029, 0.02969109089097029, 0.02939417998206059, 0.02939417998206059, 0.02939417998206059, 0.02939417998206059, 0.02939417998206059, 0.02939417998206059, 0.02939417998206059, 0.02939417998206059, 0.029688121781881193, 0.029688121781881193, 0.029688121781881193, 0.029688121781881193, 0.029688121781881193, 0.029688121781881193, 0.029688121781881193, 0.029688121781881193, 0.029688121781881193, 0.029688121781881193, 0.029688121781881193, 0.029688121781881193, 0.029688121781881193, 0.029688121781881193, 0.029688121781881193, 0.029688121781881193, 0.029688121781881193, 0.029688121781881193, 0.029685152969703005, 0.029685152969703005, 0.029685152969703005, 0.029685152969703005, 0.029982004499400035, 0.029982004499400035, 0.029982004499400035, 0.029982004499400035]}, {\"hovertemplate\": \"%{y}\", \"line\": {\"shape\": \"hv\"}, \"name\": \"\\u03b8\", \"type\": \"scatter\", \"x\": [0, 1, 2, 3, 4, 5, 6, 7, 8, 9, 10, 11, 12, 13, 14, 15, 16, 17, 18, 19, 20, 21, 22, 23, 24, 25, 26, 27, 28, 29, 30, 31, 32, 33, 34, 35, 36, 37, 38, 39, 40, 41, 42, 43, 44, 45, 46, 47, 48, 49, 50, 51, 52, 53, 54, 55, 56, 57, 58, 59, 60, 61, 62, 63, 64, 65, 66, 67, 68, 69, 70, 71, 72, 73, 74, 75, 76, 77, 78, 79, 80, 81, 82, 83, 84, 85, 86, 87, 88, 89, 90, 91, 92, 93, 94, 95, 96, 97, 98, 99], \"y\": [0.06, 0.06, 0.06, 0.06, 0.06, 0.06, 0.06, 0.06, 0.06, 0.06, 0.048, 0.048, 0.048, 0.048, 0.048, 0.048, 0.048, 0.048, 0.048, 0.048, 0.048, 0.048, 0.048, 0.048, 0.048, 0.048, 0.048, 0.048, 0.048, 0.048, 0.048, 0.048, 0.048, 0.048, 0.048, 0.048, 0.048, 0.048, 0.048, 0.048, 0.048, 0.048, 0.048, 0.048, 0.048, 0.048, 0.048, 0.048, 0.048, 0.048, 0.048, 0.048, 0.048, 0.048, 0.048, 0.048, 0.048, 0.048, 0.048, 0.048, 0.048, 0.048, 0.048, 0.0576, 0.0576, 0.0576, 0.0576, 0.0576, 0.0576, 0.0576, 0.06911999999999999, 0.06911999999999999, 0.06911999999999999, 0.06911999999999999, 0.06911999999999999, 0.08294399999999999, 0.08294399999999999, 0.08294399999999999, 0.08294399999999999, 0.09953279999999998, 0.09953279999999998, 0.09953279999999998, 0.09953279999999998, 0.09953279999999998, 0.09953279999999998, 0.09953279999999998, 0.09953279999999998, 0.09953279999999998, 0.09953279999999998, 0.09953279999999998, 0.09953279999999998, 0.09953279999999998, 0.09953279999999998, 0.09953279999999998, 0.09953279999999998, 0.09953279999999998, 0.09953279999999998, 0.09953279999999998, 0.09953279999999998, 0.09953279999999998]}],\n",
       "                        {\"template\": {\"data\": {\"bar\": [{\"error_x\": {\"color\": \"#2a3f5f\"}, \"error_y\": {\"color\": \"#2a3f5f\"}, \"marker\": {\"line\": {\"color\": \"#E5ECF6\", \"width\": 0.5}}, \"type\": \"bar\"}], \"barpolar\": [{\"marker\": {\"line\": {\"color\": \"#E5ECF6\", \"width\": 0.5}}, \"type\": \"barpolar\"}], \"carpet\": [{\"aaxis\": {\"endlinecolor\": \"#2a3f5f\", \"gridcolor\": \"white\", \"linecolor\": \"white\", \"minorgridcolor\": \"white\", \"startlinecolor\": \"#2a3f5f\"}, \"baxis\": {\"endlinecolor\": \"#2a3f5f\", \"gridcolor\": \"white\", \"linecolor\": \"white\", \"minorgridcolor\": \"white\", \"startlinecolor\": \"#2a3f5f\"}, \"type\": \"carpet\"}], \"choropleth\": [{\"colorbar\": {\"outlinewidth\": 0, \"ticks\": \"\"}, \"type\": \"choropleth\"}], \"contour\": [{\"colorbar\": {\"outlinewidth\": 0, \"ticks\": \"\"}, \"colorscale\": [[0.0, \"#0d0887\"], [0.1111111111111111, \"#46039f\"], [0.2222222222222222, \"#7201a8\"], [0.3333333333333333, \"#9c179e\"], [0.4444444444444444, \"#bd3786\"], [0.5555555555555556, \"#d8576b\"], [0.6666666666666666, \"#ed7953\"], [0.7777777777777778, \"#fb9f3a\"], [0.8888888888888888, \"#fdca26\"], [1.0, \"#f0f921\"]], \"type\": \"contour\"}], \"contourcarpet\": [{\"colorbar\": {\"outlinewidth\": 0, \"ticks\": \"\"}, \"type\": \"contourcarpet\"}], \"heatmap\": [{\"colorbar\": {\"outlinewidth\": 0, \"ticks\": \"\"}, \"colorscale\": [[0.0, \"#0d0887\"], [0.1111111111111111, \"#46039f\"], [0.2222222222222222, \"#7201a8\"], [0.3333333333333333, \"#9c179e\"], [0.4444444444444444, \"#bd3786\"], [0.5555555555555556, \"#d8576b\"], [0.6666666666666666, \"#ed7953\"], [0.7777777777777778, \"#fb9f3a\"], [0.8888888888888888, \"#fdca26\"], [1.0, \"#f0f921\"]], \"type\": \"heatmap\"}], \"heatmapgl\": [{\"colorbar\": {\"outlinewidth\": 0, \"ticks\": \"\"}, \"colorscale\": [[0.0, \"#0d0887\"], [0.1111111111111111, \"#46039f\"], [0.2222222222222222, \"#7201a8\"], [0.3333333333333333, \"#9c179e\"], [0.4444444444444444, \"#bd3786\"], [0.5555555555555556, \"#d8576b\"], [0.6666666666666666, \"#ed7953\"], [0.7777777777777778, \"#fb9f3a\"], [0.8888888888888888, \"#fdca26\"], [1.0, \"#f0f921\"]], \"type\": \"heatmapgl\"}], \"histogram\": [{\"marker\": {\"colorbar\": {\"outlinewidth\": 0, \"ticks\": \"\"}}, \"type\": \"histogram\"}], \"histogram2d\": [{\"colorbar\": {\"outlinewidth\": 0, \"ticks\": \"\"}, \"colorscale\": [[0.0, \"#0d0887\"], [0.1111111111111111, \"#46039f\"], [0.2222222222222222, \"#7201a8\"], [0.3333333333333333, \"#9c179e\"], [0.4444444444444444, \"#bd3786\"], [0.5555555555555556, \"#d8576b\"], [0.6666666666666666, \"#ed7953\"], [0.7777777777777778, \"#fb9f3a\"], [0.8888888888888888, \"#fdca26\"], [1.0, \"#f0f921\"]], \"type\": \"histogram2d\"}], \"histogram2dcontour\": [{\"colorbar\": {\"outlinewidth\": 0, \"ticks\": \"\"}, \"colorscale\": [[0.0, \"#0d0887\"], [0.1111111111111111, \"#46039f\"], [0.2222222222222222, \"#7201a8\"], [0.3333333333333333, \"#9c179e\"], [0.4444444444444444, \"#bd3786\"], [0.5555555555555556, \"#d8576b\"], [0.6666666666666666, \"#ed7953\"], [0.7777777777777778, \"#fb9f3a\"], [0.8888888888888888, \"#fdca26\"], [1.0, \"#f0f921\"]], \"type\": \"histogram2dcontour\"}], \"mesh3d\": [{\"colorbar\": {\"outlinewidth\": 0, \"ticks\": \"\"}, \"type\": \"mesh3d\"}], \"parcoords\": [{\"line\": {\"colorbar\": {\"outlinewidth\": 0, \"ticks\": \"\"}}, \"type\": \"parcoords\"}], \"pie\": [{\"automargin\": true, \"type\": \"pie\"}], \"scatter\": [{\"marker\": {\"colorbar\": {\"outlinewidth\": 0, \"ticks\": \"\"}}, \"type\": \"scatter\"}], \"scatter3d\": [{\"line\": {\"colorbar\": {\"outlinewidth\": 0, \"ticks\": \"\"}}, \"marker\": {\"colorbar\": {\"outlinewidth\": 0, \"ticks\": \"\"}}, \"type\": \"scatter3d\"}], \"scattercarpet\": [{\"marker\": {\"colorbar\": {\"outlinewidth\": 0, \"ticks\": \"\"}}, \"type\": \"scattercarpet\"}], \"scattergeo\": [{\"marker\": {\"colorbar\": {\"outlinewidth\": 0, \"ticks\": \"\"}}, \"type\": \"scattergeo\"}], \"scattergl\": [{\"marker\": {\"colorbar\": {\"outlinewidth\": 0, \"ticks\": \"\"}}, \"type\": \"scattergl\"}], \"scattermapbox\": [{\"marker\": {\"colorbar\": {\"outlinewidth\": 0, \"ticks\": \"\"}}, \"type\": \"scattermapbox\"}], \"scatterpolar\": [{\"marker\": {\"colorbar\": {\"outlinewidth\": 0, \"ticks\": \"\"}}, \"type\": \"scatterpolar\"}], \"scatterpolargl\": [{\"marker\": {\"colorbar\": {\"outlinewidth\": 0, \"ticks\": \"\"}}, \"type\": \"scatterpolargl\"}], \"scatterternary\": [{\"marker\": {\"colorbar\": {\"outlinewidth\": 0, \"ticks\": \"\"}}, \"type\": \"scatterternary\"}], \"surface\": [{\"colorbar\": {\"outlinewidth\": 0, \"ticks\": \"\"}, \"colorscale\": [[0.0, \"#0d0887\"], [0.1111111111111111, \"#46039f\"], [0.2222222222222222, \"#7201a8\"], [0.3333333333333333, \"#9c179e\"], [0.4444444444444444, \"#bd3786\"], [0.5555555555555556, \"#d8576b\"], [0.6666666666666666, \"#ed7953\"], [0.7777777777777778, \"#fb9f3a\"], [0.8888888888888888, \"#fdca26\"], [1.0, \"#f0f921\"]], \"type\": \"surface\"}], \"table\": [{\"cells\": {\"fill\": {\"color\": \"#EBF0F8\"}, \"line\": {\"color\": \"white\"}}, \"header\": {\"fill\": {\"color\": \"#C8D4E3\"}, \"line\": {\"color\": \"white\"}}, \"type\": \"table\"}]}, \"layout\": {\"annotationdefaults\": {\"arrowcolor\": \"#2a3f5f\", \"arrowhead\": 0, \"arrowwidth\": 1}, \"coloraxis\": {\"colorbar\": {\"outlinewidth\": 0, \"ticks\": \"\"}}, \"colorscale\": {\"diverging\": [[0, \"#8e0152\"], [0.1, \"#c51b7d\"], [0.2, \"#de77ae\"], [0.3, \"#f1b6da\"], [0.4, \"#fde0ef\"], [0.5, \"#f7f7f7\"], [0.6, \"#e6f5d0\"], [0.7, \"#b8e186\"], [0.8, \"#7fbc41\"], [0.9, \"#4d9221\"], [1, \"#276419\"]], \"sequential\": [[0.0, \"#0d0887\"], [0.1111111111111111, \"#46039f\"], [0.2222222222222222, \"#7201a8\"], [0.3333333333333333, \"#9c179e\"], [0.4444444444444444, \"#bd3786\"], [0.5555555555555556, \"#d8576b\"], [0.6666666666666666, \"#ed7953\"], [0.7777777777777778, \"#fb9f3a\"], [0.8888888888888888, \"#fdca26\"], [1.0, \"#f0f921\"]], \"sequentialminus\": [[0.0, \"#0d0887\"], [0.1111111111111111, \"#46039f\"], [0.2222222222222222, \"#7201a8\"], [0.3333333333333333, \"#9c179e\"], [0.4444444444444444, \"#bd3786\"], [0.5555555555555556, \"#d8576b\"], [0.6666666666666666, \"#ed7953\"], [0.7777777777777778, \"#fb9f3a\"], [0.8888888888888888, \"#fdca26\"], [1.0, \"#f0f921\"]]}, \"colorway\": [\"#636efa\", \"#EF553B\", \"#00cc96\", \"#ab63fa\", \"#FFA15A\", \"#19d3f3\", \"#FF6692\", \"#B6E880\", \"#FF97FF\", \"#FECB52\"], \"font\": {\"color\": \"#2a3f5f\"}, \"geo\": {\"bgcolor\": \"white\", \"lakecolor\": \"white\", \"landcolor\": \"#E5ECF6\", \"showlakes\": true, \"showland\": true, \"subunitcolor\": \"white\"}, \"hoverlabel\": {\"align\": \"left\"}, \"hovermode\": \"closest\", \"mapbox\": {\"style\": \"light\"}, \"paper_bgcolor\": \"white\", \"plot_bgcolor\": \"#E5ECF6\", \"polar\": {\"angularaxis\": {\"gridcolor\": \"white\", \"linecolor\": \"white\", \"ticks\": \"\"}, \"bgcolor\": \"#E5ECF6\", \"radialaxis\": {\"gridcolor\": \"white\", \"linecolor\": \"white\", \"ticks\": \"\"}}, \"scene\": {\"xaxis\": {\"backgroundcolor\": \"#E5ECF6\", \"gridcolor\": \"white\", \"gridwidth\": 2, \"linecolor\": \"white\", \"showbackground\": true, \"ticks\": \"\", \"zerolinecolor\": \"white\"}, \"yaxis\": {\"backgroundcolor\": \"#E5ECF6\", \"gridcolor\": \"white\", \"gridwidth\": 2, \"linecolor\": \"white\", \"showbackground\": true, \"ticks\": \"\", \"zerolinecolor\": \"white\"}, \"zaxis\": {\"backgroundcolor\": \"#E5ECF6\", \"gridcolor\": \"white\", \"gridwidth\": 2, \"linecolor\": \"white\", \"showbackground\": true, \"ticks\": \"\", \"zerolinecolor\": \"white\"}}, \"shapedefaults\": {\"line\": {\"color\": \"#2a3f5f\"}}, \"ternary\": {\"aaxis\": {\"gridcolor\": \"white\", \"linecolor\": \"white\", \"ticks\": \"\"}, \"baxis\": {\"gridcolor\": \"white\", \"linecolor\": \"white\", \"ticks\": \"\"}, \"bgcolor\": \"#E5ECF6\", \"caxis\": {\"gridcolor\": \"white\", \"linecolor\": \"white\", \"ticks\": \"\"}}, \"title\": {\"x\": 0.05}, \"xaxis\": {\"automargin\": true, \"gridcolor\": \"white\", \"linecolor\": \"white\", \"ticks\": \"\", \"title\": {\"standoff\": 15}, \"zerolinecolor\": \"white\", \"zerolinewidth\": 2}, \"yaxis\": {\"automargin\": true, \"gridcolor\": \"white\", \"linecolor\": \"white\", \"ticks\": \"\", \"title\": {\"standoff\": 15}, \"zerolinecolor\": \"white\", \"zerolinewidth\": 2}}}},\n",
       "                        {\"responsive\": true}\n",
       "                    ).then(function(){\n",
       "                            \n",
       "var gd = document.getElementById('99a5b172-2162-4a4f-8389-c742010d2abc');\n",
       "var x = new MutationObserver(function (mutations, observer) {{\n",
       "        var display = window.getComputedStyle(gd).display;\n",
       "        if (!display || display === 'none') {{\n",
       "            console.log([gd, 'removed!']);\n",
       "            Plotly.purge(gd);\n",
       "            observer.disconnect();\n",
       "        }}\n",
       "}});\n",
       "\n",
       "// Listen for the removal of the full notebook cells\n",
       "var notebookContainer = gd.closest('#notebook-container');\n",
       "if (notebookContainer) {{\n",
       "    x.observe(notebookContainer, {childList: true});\n",
       "}}\n",
       "\n",
       "// Listen for the clearing of the current output cell\n",
       "var outputEl = gd.closest('.output');\n",
       "if (outputEl) {{\n",
       "    x.observe(outputEl, {childList: true});\n",
       "}}\n",
       "\n",
       "                        })\n",
       "                };\n",
       "                });\n",
       "            </script>\n",
       "        </div>"
      ]
     },
     "metadata": {},
     "output_type": "display_data"
    },
    {
     "data": {
      "text/plain": []
     },
     "execution_count": 103,
     "metadata": {},
     "output_type": "execute_result"
    }
   ],
   "source": [
    "T = 100\n",
    "beta = JumpProcess(5, 0.3, 10, T, 0)\n",
    "gamma = JumpProcess(1, 0.01, 10, T, 0)\n",
    "theta = JumpProcess(2, 0.2, 20, T, 1)\n",
    "dynamic = SIRQt(beta.value, gamma.value, theta.value, 0.03)\n",
    "dynamic"
   ]
  },
  {
   "cell_type": "code",
   "execution_count": 142,
   "metadata": {},
   "outputs": [
    {
     "data": {
      "application/vnd.plotly.v1+json": {
       "config": {
        "plotlyServerURL": "https://plot.ly"
       },
       "data": [
        {
         "hovertemplate": "%{y}",
         "name": "Susceptible",
         "type": "scatter",
         "x": [
          0,
          1,
          2,
          3,
          4,
          5,
          6,
          7,
          8,
          9,
          10,
          11,
          12,
          13,
          14,
          15,
          16,
          17,
          18,
          19,
          20,
          21,
          22,
          23,
          24,
          25,
          26,
          27,
          28,
          29,
          30,
          31,
          32,
          33,
          34,
          35,
          36,
          37,
          38,
          39,
          40,
          41,
          42,
          43,
          44,
          45,
          46,
          47,
          48,
          49,
          50,
          51,
          52,
          53,
          54,
          55,
          56,
          57,
          58,
          59,
          60,
          61,
          62,
          63,
          64,
          65,
          66,
          67,
          68,
          69,
          70,
          71,
          72,
          73,
          74,
          75,
          76,
          77,
          78,
          79,
          80,
          81,
          82,
          83,
          84,
          85,
          86,
          87,
          88,
          89,
          90,
          91,
          92,
          93,
          94,
          95,
          96,
          97,
          98,
          99,
          100
         ],
         "y": [
          990,
          988,
          986,
          985,
          983,
          981,
          979,
          977,
          974,
          971,
          968,
          964,
          960,
          955,
          950,
          945,
          939,
          932,
          925,
          917,
          908,
          898,
          888,
          877,
          864,
          851,
          833,
          813,
          790,
          765,
          738,
          709,
          679,
          636,
          591,
          543,
          495,
          446,
          398,
          352,
          310,
          271,
          247,
          225,
          205,
          188,
          173,
          166,
          160,
          155,
          150,
          147,
          144,
          141,
          139,
          136,
          134,
          132,
          131,
          129,
          128,
          126,
          125,
          124,
          123,
          122,
          121,
          120,
          120,
          119,
          119,
          119,
          118,
          118,
          118,
          117,
          117,
          117,
          116,
          116,
          116,
          116,
          116,
          115,
          115,
          115,
          115,
          115,
          115,
          115,
          115,
          115,
          115,
          115,
          115,
          115,
          115,
          115,
          115,
          115,
          115
         ]
        },
        {
         "hovertemplate": "%{y}",
         "name": "Infectious",
         "type": "scatter",
         "x": [
          0,
          1,
          2,
          3,
          4,
          5,
          6,
          7,
          8,
          9,
          10,
          11,
          12,
          13,
          14,
          15,
          16,
          17,
          18,
          19,
          20,
          21,
          22,
          23,
          24,
          25,
          26,
          27,
          28,
          29,
          30,
          31,
          32,
          33,
          34,
          35,
          36,
          37,
          38,
          39,
          40,
          41,
          42,
          43,
          44,
          45,
          46,
          47,
          48,
          49,
          50,
          51,
          52,
          53,
          54,
          55,
          56,
          57,
          58,
          59,
          60,
          61,
          62,
          63,
          64,
          65,
          66,
          67,
          68,
          69,
          70,
          71,
          72,
          73,
          74,
          75,
          76,
          77,
          78,
          79,
          80,
          81,
          82,
          83,
          84,
          85,
          86,
          87,
          88,
          89,
          90,
          91,
          92,
          93,
          94,
          95,
          96,
          97,
          98,
          99,
          100
         ],
         "y": [
          10,
          10,
          11,
          11,
          12,
          13,
          14,
          14,
          16,
          17,
          19,
          21,
          24,
          26,
          29,
          33,
          36,
          40,
          44,
          49,
          54,
          59,
          65,
          71,
          77,
          85,
          96,
          109,
          123,
          138,
          154,
          171,
          188,
          216,
          244,
          272,
          299,
          325,
          347,
          365,
          379,
          388,
          381,
          373,
          363,
          352,
          340,
          320,
          301,
          283,
          266,
          248,
          232,
          216,
          202,
          188,
          176,
          164,
          153,
          143,
          133,
          124,
          115,
          108,
          99,
          92,
          84,
          78,
          71,
          66,
          60,
          55,
          50,
          45,
          41,
          37,
          33,
          30,
          26,
          24,
          21,
          18,
          16,
          14,
          12,
          11,
          9,
          8,
          7,
          6,
          5,
          5,
          4,
          3,
          3,
          3,
          2,
          2,
          2,
          1,
          1
         ]
        },
        {
         "hovertemplate": "%{y}",
         "name": "Removed",
         "type": "scatter",
         "x": [
          0,
          1,
          2,
          3,
          4,
          5,
          6,
          7,
          8,
          9,
          10,
          11,
          12,
          13,
          14,
          15,
          16,
          17,
          18,
          19,
          20,
          21,
          22,
          23,
          24,
          25,
          26,
          27,
          28,
          29,
          30,
          31,
          32,
          33,
          34,
          35,
          36,
          37,
          38,
          39,
          40,
          41,
          42,
          43,
          44,
          45,
          46,
          47,
          48,
          49,
          50,
          51,
          52,
          53,
          54,
          55,
          56,
          57,
          58,
          59,
          60,
          61,
          62,
          63,
          64,
          65,
          66,
          67,
          68,
          69,
          70,
          71,
          72,
          73,
          74,
          75,
          76,
          77,
          78,
          79,
          80,
          81,
          82,
          83,
          84,
          85,
          86,
          87,
          88,
          89,
          90,
          91,
          92,
          93,
          94,
          95,
          96,
          97,
          98,
          99,
          100
         ],
         "y": [
          0,
          0,
          0,
          0,
          1,
          1,
          2,
          2,
          2,
          3,
          3,
          4,
          5,
          5,
          6,
          7,
          8,
          9,
          11,
          12,
          13,
          15,
          17,
          19,
          21,
          23,
          26,
          29,
          32,
          36,
          40,
          45,
          50,
          56,
          63,
          70,
          79,
          88,
          98,
          109,
          120,
          132,
          144,
          155,
          167,
          178,
          189,
          199,
          208,
          218,
          226,
          234,
          241,
          248,
          255,
          261,
          266,
          271,
          276,
          281,
          285,
          289,
          293,
          296,
          299,
          302,
          305,
          308,
          310,
          312,
          314,
          316,
          317,
          319,
          320,
          321,
          323,
          324,
          324,
          325,
          326,
          327,
          327,
          328,
          328,
          328,
          329,
          329,
          329,
          330,
          330,
          330,
          330,
          330,
          330,
          330,
          331,
          331,
          331,
          331,
          331
         ]
        },
        {
         "hovertemplate": "%{y}",
         "name": "Quarantined",
         "type": "scatter",
         "x": [
          0,
          1,
          2,
          3,
          4,
          5,
          6,
          7,
          8,
          9,
          10,
          11,
          12,
          13,
          14,
          15,
          16,
          17,
          18,
          19,
          20,
          21,
          22,
          23,
          24,
          25,
          26,
          27,
          28,
          29,
          30,
          31,
          32,
          33,
          34,
          35,
          36,
          37,
          38,
          39,
          40,
          41,
          42,
          43,
          44,
          45,
          46,
          47,
          48,
          49,
          50,
          51,
          52,
          53,
          54,
          55,
          56,
          57,
          58,
          59,
          60,
          61,
          62,
          63,
          64,
          65,
          66,
          67,
          68,
          69,
          70,
          71,
          72,
          73,
          74,
          75,
          76,
          77,
          78,
          79,
          80,
          81,
          82,
          83,
          84,
          85,
          86,
          87,
          88,
          89,
          90,
          91,
          92,
          93,
          94,
          95,
          96,
          97,
          98,
          99,
          100
         ],
         "y": [
          0,
          0,
          1,
          1,
          2,
          3,
          4,
          5,
          5,
          6,
          7,
          8,
          9,
          11,
          12,
          13,
          15,
          17,
          19,
          21,
          23,
          26,
          29,
          32,
          35,
          39,
          43,
          48,
          53,
          59,
          65,
          73,
          81,
          90,
          100,
          112,
          125,
          140,
          155,
          172,
          190,
          208,
          226,
          245,
          263,
          280,
          297,
          313,
          329,
          343,
          357,
          369,
          381,
          393,
          403,
          413,
          422,
          430,
          438,
          445,
          452,
          459,
          465,
          470,
          476,
          482,
          488,
          492,
          497,
          501,
          505,
          509,
          513,
          516,
          519,
          522,
          525,
          528,
          531,
          533,
          535,
          537,
          539,
          541,
          542,
          544,
          545,
          546,
          547,
          547,
          548,
          549,
          549,
          550,
          550,
          550,
          551,
          551,
          551,
          551,
          552
         ]
        },
        {
         "hovertemplate": "%{y}",
         "marker": {
          "symbol": 1
         },
         "mode": "markers",
         "name": "Guessed",
         "type": "scatter",
         "x": [
          10,
          20,
          30,
          40,
          50,
          60,
          70,
          80,
          90
         ],
         "y": [
          0,
          100,
          200,
          400,
          200,
          200,
          0,
          100,
          100
         ]
        },
        {
         "hovertemplate": "%{y}",
         "marker": {
          "symbol": 2
         },
         "mode": "markers",
         "name": "Confirmed",
         "type": "scatter",
         "x": [
          10,
          20,
          30,
          40,
          50,
          60,
          70,
          80,
          90
         ],
         "y": [
          7,
          28,
          73,
          196,
          397,
          448,
          524,
          540,
          556
         ]
        }
       ],
       "layout": {
        "margin": {
         "b": 0,
         "l": 0,
         "r": 0,
         "t": 25
        },
        "template": {
         "data": {
          "bar": [
           {
            "error_x": {
             "color": "#2a3f5f"
            },
            "error_y": {
             "color": "#2a3f5f"
            },
            "marker": {
             "line": {
              "color": "#E5ECF6",
              "width": 0.5
             }
            },
            "type": "bar"
           }
          ],
          "barpolar": [
           {
            "marker": {
             "line": {
              "color": "#E5ECF6",
              "width": 0.5
             }
            },
            "type": "barpolar"
           }
          ],
          "carpet": [
           {
            "aaxis": {
             "endlinecolor": "#2a3f5f",
             "gridcolor": "white",
             "linecolor": "white",
             "minorgridcolor": "white",
             "startlinecolor": "#2a3f5f"
            },
            "baxis": {
             "endlinecolor": "#2a3f5f",
             "gridcolor": "white",
             "linecolor": "white",
             "minorgridcolor": "white",
             "startlinecolor": "#2a3f5f"
            },
            "type": "carpet"
           }
          ],
          "choropleth": [
           {
            "colorbar": {
             "outlinewidth": 0,
             "ticks": ""
            },
            "type": "choropleth"
           }
          ],
          "contour": [
           {
            "colorbar": {
             "outlinewidth": 0,
             "ticks": ""
            },
            "colorscale": [
             [
              0,
              "#0d0887"
             ],
             [
              0.1111111111111111,
              "#46039f"
             ],
             [
              0.2222222222222222,
              "#7201a8"
             ],
             [
              0.3333333333333333,
              "#9c179e"
             ],
             [
              0.4444444444444444,
              "#bd3786"
             ],
             [
              0.5555555555555556,
              "#d8576b"
             ],
             [
              0.6666666666666666,
              "#ed7953"
             ],
             [
              0.7777777777777778,
              "#fb9f3a"
             ],
             [
              0.8888888888888888,
              "#fdca26"
             ],
             [
              1,
              "#f0f921"
             ]
            ],
            "type": "contour"
           }
          ],
          "contourcarpet": [
           {
            "colorbar": {
             "outlinewidth": 0,
             "ticks": ""
            },
            "type": "contourcarpet"
           }
          ],
          "heatmap": [
           {
            "colorbar": {
             "outlinewidth": 0,
             "ticks": ""
            },
            "colorscale": [
             [
              0,
              "#0d0887"
             ],
             [
              0.1111111111111111,
              "#46039f"
             ],
             [
              0.2222222222222222,
              "#7201a8"
             ],
             [
              0.3333333333333333,
              "#9c179e"
             ],
             [
              0.4444444444444444,
              "#bd3786"
             ],
             [
              0.5555555555555556,
              "#d8576b"
             ],
             [
              0.6666666666666666,
              "#ed7953"
             ],
             [
              0.7777777777777778,
              "#fb9f3a"
             ],
             [
              0.8888888888888888,
              "#fdca26"
             ],
             [
              1,
              "#f0f921"
             ]
            ],
            "type": "heatmap"
           }
          ],
          "heatmapgl": [
           {
            "colorbar": {
             "outlinewidth": 0,
             "ticks": ""
            },
            "colorscale": [
             [
              0,
              "#0d0887"
             ],
             [
              0.1111111111111111,
              "#46039f"
             ],
             [
              0.2222222222222222,
              "#7201a8"
             ],
             [
              0.3333333333333333,
              "#9c179e"
             ],
             [
              0.4444444444444444,
              "#bd3786"
             ],
             [
              0.5555555555555556,
              "#d8576b"
             ],
             [
              0.6666666666666666,
              "#ed7953"
             ],
             [
              0.7777777777777778,
              "#fb9f3a"
             ],
             [
              0.8888888888888888,
              "#fdca26"
             ],
             [
              1,
              "#f0f921"
             ]
            ],
            "type": "heatmapgl"
           }
          ],
          "histogram": [
           {
            "marker": {
             "colorbar": {
              "outlinewidth": 0,
              "ticks": ""
             }
            },
            "type": "histogram"
           }
          ],
          "histogram2d": [
           {
            "colorbar": {
             "outlinewidth": 0,
             "ticks": ""
            },
            "colorscale": [
             [
              0,
              "#0d0887"
             ],
             [
              0.1111111111111111,
              "#46039f"
             ],
             [
              0.2222222222222222,
              "#7201a8"
             ],
             [
              0.3333333333333333,
              "#9c179e"
             ],
             [
              0.4444444444444444,
              "#bd3786"
             ],
             [
              0.5555555555555556,
              "#d8576b"
             ],
             [
              0.6666666666666666,
              "#ed7953"
             ],
             [
              0.7777777777777778,
              "#fb9f3a"
             ],
             [
              0.8888888888888888,
              "#fdca26"
             ],
             [
              1,
              "#f0f921"
             ]
            ],
            "type": "histogram2d"
           }
          ],
          "histogram2dcontour": [
           {
            "colorbar": {
             "outlinewidth": 0,
             "ticks": ""
            },
            "colorscale": [
             [
              0,
              "#0d0887"
             ],
             [
              0.1111111111111111,
              "#46039f"
             ],
             [
              0.2222222222222222,
              "#7201a8"
             ],
             [
              0.3333333333333333,
              "#9c179e"
             ],
             [
              0.4444444444444444,
              "#bd3786"
             ],
             [
              0.5555555555555556,
              "#d8576b"
             ],
             [
              0.6666666666666666,
              "#ed7953"
             ],
             [
              0.7777777777777778,
              "#fb9f3a"
             ],
             [
              0.8888888888888888,
              "#fdca26"
             ],
             [
              1,
              "#f0f921"
             ]
            ],
            "type": "histogram2dcontour"
           }
          ],
          "mesh3d": [
           {
            "colorbar": {
             "outlinewidth": 0,
             "ticks": ""
            },
            "type": "mesh3d"
           }
          ],
          "parcoords": [
           {
            "line": {
             "colorbar": {
              "outlinewidth": 0,
              "ticks": ""
             }
            },
            "type": "parcoords"
           }
          ],
          "pie": [
           {
            "automargin": true,
            "type": "pie"
           }
          ],
          "scatter": [
           {
            "marker": {
             "colorbar": {
              "outlinewidth": 0,
              "ticks": ""
             }
            },
            "type": "scatter"
           }
          ],
          "scatter3d": [
           {
            "line": {
             "colorbar": {
              "outlinewidth": 0,
              "ticks": ""
             }
            },
            "marker": {
             "colorbar": {
              "outlinewidth": 0,
              "ticks": ""
             }
            },
            "type": "scatter3d"
           }
          ],
          "scattercarpet": [
           {
            "marker": {
             "colorbar": {
              "outlinewidth": 0,
              "ticks": ""
             }
            },
            "type": "scattercarpet"
           }
          ],
          "scattergeo": [
           {
            "marker": {
             "colorbar": {
              "outlinewidth": 0,
              "ticks": ""
             }
            },
            "type": "scattergeo"
           }
          ],
          "scattergl": [
           {
            "marker": {
             "colorbar": {
              "outlinewidth": 0,
              "ticks": ""
             }
            },
            "type": "scattergl"
           }
          ],
          "scattermapbox": [
           {
            "marker": {
             "colorbar": {
              "outlinewidth": 0,
              "ticks": ""
             }
            },
            "type": "scattermapbox"
           }
          ],
          "scatterpolar": [
           {
            "marker": {
             "colorbar": {
              "outlinewidth": 0,
              "ticks": ""
             }
            },
            "type": "scatterpolar"
           }
          ],
          "scatterpolargl": [
           {
            "marker": {
             "colorbar": {
              "outlinewidth": 0,
              "ticks": ""
             }
            },
            "type": "scatterpolargl"
           }
          ],
          "scatterternary": [
           {
            "marker": {
             "colorbar": {
              "outlinewidth": 0,
              "ticks": ""
             }
            },
            "type": "scatterternary"
           }
          ],
          "surface": [
           {
            "colorbar": {
             "outlinewidth": 0,
             "ticks": ""
            },
            "colorscale": [
             [
              0,
              "#0d0887"
             ],
             [
              0.1111111111111111,
              "#46039f"
             ],
             [
              0.2222222222222222,
              "#7201a8"
             ],
             [
              0.3333333333333333,
              "#9c179e"
             ],
             [
              0.4444444444444444,
              "#bd3786"
             ],
             [
              0.5555555555555556,
              "#d8576b"
             ],
             [
              0.6666666666666666,
              "#ed7953"
             ],
             [
              0.7777777777777778,
              "#fb9f3a"
             ],
             [
              0.8888888888888888,
              "#fdca26"
             ],
             [
              1,
              "#f0f921"
             ]
            ],
            "type": "surface"
           }
          ],
          "table": [
           {
            "cells": {
             "fill": {
              "color": "#EBF0F8"
             },
             "line": {
              "color": "white"
             }
            },
            "header": {
             "fill": {
              "color": "#C8D4E3"
             },
             "line": {
              "color": "white"
             }
            },
            "type": "table"
           }
          ]
         },
         "layout": {
          "annotationdefaults": {
           "arrowcolor": "#2a3f5f",
           "arrowhead": 0,
           "arrowwidth": 1
          },
          "coloraxis": {
           "colorbar": {
            "outlinewidth": 0,
            "ticks": ""
           }
          },
          "colorscale": {
           "diverging": [
            [
             0,
             "#8e0152"
            ],
            [
             0.1,
             "#c51b7d"
            ],
            [
             0.2,
             "#de77ae"
            ],
            [
             0.3,
             "#f1b6da"
            ],
            [
             0.4,
             "#fde0ef"
            ],
            [
             0.5,
             "#f7f7f7"
            ],
            [
             0.6,
             "#e6f5d0"
            ],
            [
             0.7,
             "#b8e186"
            ],
            [
             0.8,
             "#7fbc41"
            ],
            [
             0.9,
             "#4d9221"
            ],
            [
             1,
             "#276419"
            ]
           ],
           "sequential": [
            [
             0,
             "#0d0887"
            ],
            [
             0.1111111111111111,
             "#46039f"
            ],
            [
             0.2222222222222222,
             "#7201a8"
            ],
            [
             0.3333333333333333,
             "#9c179e"
            ],
            [
             0.4444444444444444,
             "#bd3786"
            ],
            [
             0.5555555555555556,
             "#d8576b"
            ],
            [
             0.6666666666666666,
             "#ed7953"
            ],
            [
             0.7777777777777778,
             "#fb9f3a"
            ],
            [
             0.8888888888888888,
             "#fdca26"
            ],
            [
             1,
             "#f0f921"
            ]
           ],
           "sequentialminus": [
            [
             0,
             "#0d0887"
            ],
            [
             0.1111111111111111,
             "#46039f"
            ],
            [
             0.2222222222222222,
             "#7201a8"
            ],
            [
             0.3333333333333333,
             "#9c179e"
            ],
            [
             0.4444444444444444,
             "#bd3786"
            ],
            [
             0.5555555555555556,
             "#d8576b"
            ],
            [
             0.6666666666666666,
             "#ed7953"
            ],
            [
             0.7777777777777778,
             "#fb9f3a"
            ],
            [
             0.8888888888888888,
             "#fdca26"
            ],
            [
             1,
             "#f0f921"
            ]
           ]
          },
          "colorway": [
           "#636efa",
           "#EF553B",
           "#00cc96",
           "#ab63fa",
           "#FFA15A",
           "#19d3f3",
           "#FF6692",
           "#B6E880",
           "#FF97FF",
           "#FECB52"
          ],
          "font": {
           "color": "#2a3f5f"
          },
          "geo": {
           "bgcolor": "white",
           "lakecolor": "white",
           "landcolor": "#E5ECF6",
           "showlakes": true,
           "showland": true,
           "subunitcolor": "white"
          },
          "hoverlabel": {
           "align": "left"
          },
          "hovermode": "closest",
          "mapbox": {
           "style": "light"
          },
          "paper_bgcolor": "white",
          "plot_bgcolor": "#E5ECF6",
          "polar": {
           "angularaxis": {
            "gridcolor": "white",
            "linecolor": "white",
            "ticks": ""
           },
           "bgcolor": "#E5ECF6",
           "radialaxis": {
            "gridcolor": "white",
            "linecolor": "white",
            "ticks": ""
           }
          },
          "scene": {
           "xaxis": {
            "backgroundcolor": "#E5ECF6",
            "gridcolor": "white",
            "gridwidth": 2,
            "linecolor": "white",
            "showbackground": true,
            "ticks": "",
            "zerolinecolor": "white"
           },
           "yaxis": {
            "backgroundcolor": "#E5ECF6",
            "gridcolor": "white",
            "gridwidth": 2,
            "linecolor": "white",
            "showbackground": true,
            "ticks": "",
            "zerolinecolor": "white"
           },
           "zaxis": {
            "backgroundcolor": "#E5ECF6",
            "gridcolor": "white",
            "gridwidth": 2,
            "linecolor": "white",
            "showbackground": true,
            "ticks": "",
            "zerolinecolor": "white"
           }
          },
          "shapedefaults": {
           "line": {
            "color": "#2a3f5f"
           }
          },
          "ternary": {
           "aaxis": {
            "gridcolor": "white",
            "linecolor": "white",
            "ticks": ""
           },
           "baxis": {
            "gridcolor": "white",
            "linecolor": "white",
            "ticks": ""
           },
           "bgcolor": "#E5ECF6",
           "caxis": {
            "gridcolor": "white",
            "linecolor": "white",
            "ticks": ""
           }
          },
          "title": {
           "x": 0.05
          },
          "xaxis": {
           "automargin": true,
           "gridcolor": "white",
           "linecolor": "white",
           "ticks": "",
           "title": {
            "standoff": 15
           },
           "zerolinecolor": "white",
           "zerolinewidth": 2
          },
          "yaxis": {
           "automargin": true,
           "gridcolor": "white",
           "linecolor": "white",
           "ticks": "",
           "title": {
            "standoff": 15
           },
           "zerolinecolor": "white",
           "zerolinewidth": 2
          }
         }
        }
       }
      },
      "text/html": [
       "<div>\n",
       "        \n",
       "        \n",
       "            <div id=\"1b8b8471-b9f0-4dd4-9d82-40cc73069594\" class=\"plotly-graph-div\" style=\"height:525px; width:100%;\"></div>\n",
       "            <script type=\"text/javascript\">\n",
       "                require([\"plotly\"], function(Plotly) {\n",
       "                    window.PLOTLYENV=window.PLOTLYENV || {};\n",
       "                    \n",
       "                if (document.getElementById(\"1b8b8471-b9f0-4dd4-9d82-40cc73069594\")) {\n",
       "                    Plotly.newPlot(\n",
       "                        '1b8b8471-b9f0-4dd4-9d82-40cc73069594',\n",
       "                        [{\"hovertemplate\": \"%{y}\", \"name\": \"Susceptible\", \"type\": \"scatter\", \"x\": [0, 1, 2, 3, 4, 5, 6, 7, 8, 9, 10, 11, 12, 13, 14, 15, 16, 17, 18, 19, 20, 21, 22, 23, 24, 25, 26, 27, 28, 29, 30, 31, 32, 33, 34, 35, 36, 37, 38, 39, 40, 41, 42, 43, 44, 45, 46, 47, 48, 49, 50, 51, 52, 53, 54, 55, 56, 57, 58, 59, 60, 61, 62, 63, 64, 65, 66, 67, 68, 69, 70, 71, 72, 73, 74, 75, 76, 77, 78, 79, 80, 81, 82, 83, 84, 85, 86, 87, 88, 89, 90, 91, 92, 93, 94, 95, 96, 97, 98, 99, 100], \"y\": [990, 988, 986, 985, 983, 981, 979, 977, 974, 971, 968, 964, 960, 955, 950, 945, 939, 932, 925, 917, 908, 898, 888, 877, 864, 851, 833, 813, 790, 765, 738, 709, 679, 636, 591, 543, 495, 446, 398, 352, 310, 271, 247, 225, 205, 188, 173, 166, 160, 155, 150, 147, 144, 141, 139, 136, 134, 132, 131, 129, 128, 126, 125, 124, 123, 122, 121, 120, 120, 119, 119, 119, 118, 118, 118, 117, 117, 117, 116, 116, 116, 116, 116, 115, 115, 115, 115, 115, 115, 115, 115, 115, 115, 115, 115, 115, 115, 115, 115, 115, 115]}, {\"hovertemplate\": \"%{y}\", \"name\": \"Infectious\", \"type\": \"scatter\", \"x\": [0, 1, 2, 3, 4, 5, 6, 7, 8, 9, 10, 11, 12, 13, 14, 15, 16, 17, 18, 19, 20, 21, 22, 23, 24, 25, 26, 27, 28, 29, 30, 31, 32, 33, 34, 35, 36, 37, 38, 39, 40, 41, 42, 43, 44, 45, 46, 47, 48, 49, 50, 51, 52, 53, 54, 55, 56, 57, 58, 59, 60, 61, 62, 63, 64, 65, 66, 67, 68, 69, 70, 71, 72, 73, 74, 75, 76, 77, 78, 79, 80, 81, 82, 83, 84, 85, 86, 87, 88, 89, 90, 91, 92, 93, 94, 95, 96, 97, 98, 99, 100], \"y\": [10, 10, 11, 11, 12, 13, 14, 14, 16, 17, 19, 21, 24, 26, 29, 33, 36, 40, 44, 49, 54, 59, 65, 71, 77, 85, 96, 109, 123, 138, 154, 171, 188, 216, 244, 272, 299, 325, 347, 365, 379, 388, 381, 373, 363, 352, 340, 320, 301, 283, 266, 248, 232, 216, 202, 188, 176, 164, 153, 143, 133, 124, 115, 108, 99, 92, 84, 78, 71, 66, 60, 55, 50, 45, 41, 37, 33, 30, 26, 24, 21, 18, 16, 14, 12, 11, 9, 8, 7, 6, 5, 5, 4, 3, 3, 3, 2, 2, 2, 1, 1]}, {\"hovertemplate\": \"%{y}\", \"name\": \"Removed\", \"type\": \"scatter\", \"x\": [0, 1, 2, 3, 4, 5, 6, 7, 8, 9, 10, 11, 12, 13, 14, 15, 16, 17, 18, 19, 20, 21, 22, 23, 24, 25, 26, 27, 28, 29, 30, 31, 32, 33, 34, 35, 36, 37, 38, 39, 40, 41, 42, 43, 44, 45, 46, 47, 48, 49, 50, 51, 52, 53, 54, 55, 56, 57, 58, 59, 60, 61, 62, 63, 64, 65, 66, 67, 68, 69, 70, 71, 72, 73, 74, 75, 76, 77, 78, 79, 80, 81, 82, 83, 84, 85, 86, 87, 88, 89, 90, 91, 92, 93, 94, 95, 96, 97, 98, 99, 100], \"y\": [0, 0, 0, 0, 1, 1, 2, 2, 2, 3, 3, 4, 5, 5, 6, 7, 8, 9, 11, 12, 13, 15, 17, 19, 21, 23, 26, 29, 32, 36, 40, 45, 50, 56, 63, 70, 79, 88, 98, 109, 120, 132, 144, 155, 167, 178, 189, 199, 208, 218, 226, 234, 241, 248, 255, 261, 266, 271, 276, 281, 285, 289, 293, 296, 299, 302, 305, 308, 310, 312, 314, 316, 317, 319, 320, 321, 323, 324, 324, 325, 326, 327, 327, 328, 328, 328, 329, 329, 329, 330, 330, 330, 330, 330, 330, 330, 331, 331, 331, 331, 331]}, {\"hovertemplate\": \"%{y}\", \"name\": \"Quarantined\", \"type\": \"scatter\", \"x\": [0, 1, 2, 3, 4, 5, 6, 7, 8, 9, 10, 11, 12, 13, 14, 15, 16, 17, 18, 19, 20, 21, 22, 23, 24, 25, 26, 27, 28, 29, 30, 31, 32, 33, 34, 35, 36, 37, 38, 39, 40, 41, 42, 43, 44, 45, 46, 47, 48, 49, 50, 51, 52, 53, 54, 55, 56, 57, 58, 59, 60, 61, 62, 63, 64, 65, 66, 67, 68, 69, 70, 71, 72, 73, 74, 75, 76, 77, 78, 79, 80, 81, 82, 83, 84, 85, 86, 87, 88, 89, 90, 91, 92, 93, 94, 95, 96, 97, 98, 99, 100], \"y\": [0, 0, 1, 1, 2, 3, 4, 5, 5, 6, 7, 8, 9, 11, 12, 13, 15, 17, 19, 21, 23, 26, 29, 32, 35, 39, 43, 48, 53, 59, 65, 73, 81, 90, 100, 112, 125, 140, 155, 172, 190, 208, 226, 245, 263, 280, 297, 313, 329, 343, 357, 369, 381, 393, 403, 413, 422, 430, 438, 445, 452, 459, 465, 470, 476, 482, 488, 492, 497, 501, 505, 509, 513, 516, 519, 522, 525, 528, 531, 533, 535, 537, 539, 541, 542, 544, 545, 546, 547, 547, 548, 549, 549, 550, 550, 550, 551, 551, 551, 551, 552]}, {\"hovertemplate\": \"%{y}\", \"marker\": {\"symbol\": 1}, \"mode\": \"markers\", \"name\": \"Guessed\", \"type\": \"scatter\", \"x\": [10, 20, 30, 40, 50, 60, 70, 80, 90], \"y\": [0.0, 100.0, 200.0, 400.0, 200.0, 200.0, 0.0, 100.0, 100.0]}, {\"hovertemplate\": \"%{y}\", \"marker\": {\"symbol\": 2}, \"mode\": \"markers\", \"name\": \"Confirmed\", \"type\": \"scatter\", \"x\": [10, 20, 30, 40, 50, 60, 70, 80, 90], \"y\": [7, 28, 73, 196, 397, 448, 524, 540, 556]}],\n",
       "                        {\"margin\": {\"b\": 0, \"l\": 0, \"r\": 0, \"t\": 25}, \"template\": {\"data\": {\"bar\": [{\"error_x\": {\"color\": \"#2a3f5f\"}, \"error_y\": {\"color\": \"#2a3f5f\"}, \"marker\": {\"line\": {\"color\": \"#E5ECF6\", \"width\": 0.5}}, \"type\": \"bar\"}], \"barpolar\": [{\"marker\": {\"line\": {\"color\": \"#E5ECF6\", \"width\": 0.5}}, \"type\": \"barpolar\"}], \"carpet\": [{\"aaxis\": {\"endlinecolor\": \"#2a3f5f\", \"gridcolor\": \"white\", \"linecolor\": \"white\", \"minorgridcolor\": \"white\", \"startlinecolor\": \"#2a3f5f\"}, \"baxis\": {\"endlinecolor\": \"#2a3f5f\", \"gridcolor\": \"white\", \"linecolor\": \"white\", \"minorgridcolor\": \"white\", \"startlinecolor\": \"#2a3f5f\"}, \"type\": \"carpet\"}], \"choropleth\": [{\"colorbar\": {\"outlinewidth\": 0, \"ticks\": \"\"}, \"type\": \"choropleth\"}], \"contour\": [{\"colorbar\": {\"outlinewidth\": 0, \"ticks\": \"\"}, \"colorscale\": [[0.0, \"#0d0887\"], [0.1111111111111111, \"#46039f\"], [0.2222222222222222, \"#7201a8\"], [0.3333333333333333, \"#9c179e\"], [0.4444444444444444, \"#bd3786\"], [0.5555555555555556, \"#d8576b\"], [0.6666666666666666, \"#ed7953\"], [0.7777777777777778, \"#fb9f3a\"], [0.8888888888888888, \"#fdca26\"], [1.0, \"#f0f921\"]], \"type\": \"contour\"}], \"contourcarpet\": [{\"colorbar\": {\"outlinewidth\": 0, \"ticks\": \"\"}, \"type\": \"contourcarpet\"}], \"heatmap\": [{\"colorbar\": {\"outlinewidth\": 0, \"ticks\": \"\"}, \"colorscale\": [[0.0, \"#0d0887\"], [0.1111111111111111, \"#46039f\"], [0.2222222222222222, \"#7201a8\"], [0.3333333333333333, \"#9c179e\"], [0.4444444444444444, \"#bd3786\"], [0.5555555555555556, \"#d8576b\"], [0.6666666666666666, \"#ed7953\"], [0.7777777777777778, \"#fb9f3a\"], [0.8888888888888888, \"#fdca26\"], [1.0, \"#f0f921\"]], \"type\": \"heatmap\"}], \"heatmapgl\": [{\"colorbar\": {\"outlinewidth\": 0, \"ticks\": \"\"}, \"colorscale\": [[0.0, \"#0d0887\"], [0.1111111111111111, \"#46039f\"], [0.2222222222222222, \"#7201a8\"], [0.3333333333333333, \"#9c179e\"], [0.4444444444444444, \"#bd3786\"], [0.5555555555555556, \"#d8576b\"], [0.6666666666666666, \"#ed7953\"], [0.7777777777777778, \"#fb9f3a\"], [0.8888888888888888, \"#fdca26\"], [1.0, \"#f0f921\"]], \"type\": \"heatmapgl\"}], \"histogram\": [{\"marker\": {\"colorbar\": {\"outlinewidth\": 0, \"ticks\": \"\"}}, \"type\": \"histogram\"}], \"histogram2d\": [{\"colorbar\": {\"outlinewidth\": 0, \"ticks\": \"\"}, \"colorscale\": [[0.0, \"#0d0887\"], [0.1111111111111111, \"#46039f\"], [0.2222222222222222, \"#7201a8\"], [0.3333333333333333, \"#9c179e\"], [0.4444444444444444, \"#bd3786\"], [0.5555555555555556, \"#d8576b\"], [0.6666666666666666, \"#ed7953\"], [0.7777777777777778, \"#fb9f3a\"], [0.8888888888888888, \"#fdca26\"], [1.0, \"#f0f921\"]], \"type\": \"histogram2d\"}], \"histogram2dcontour\": [{\"colorbar\": {\"outlinewidth\": 0, \"ticks\": \"\"}, \"colorscale\": [[0.0, \"#0d0887\"], [0.1111111111111111, \"#46039f\"], [0.2222222222222222, \"#7201a8\"], [0.3333333333333333, \"#9c179e\"], [0.4444444444444444, \"#bd3786\"], [0.5555555555555556, \"#d8576b\"], [0.6666666666666666, \"#ed7953\"], [0.7777777777777778, \"#fb9f3a\"], [0.8888888888888888, \"#fdca26\"], [1.0, \"#f0f921\"]], \"type\": \"histogram2dcontour\"}], \"mesh3d\": [{\"colorbar\": {\"outlinewidth\": 0, \"ticks\": \"\"}, \"type\": \"mesh3d\"}], \"parcoords\": [{\"line\": {\"colorbar\": {\"outlinewidth\": 0, \"ticks\": \"\"}}, \"type\": \"parcoords\"}], \"pie\": [{\"automargin\": true, \"type\": \"pie\"}], \"scatter\": [{\"marker\": {\"colorbar\": {\"outlinewidth\": 0, \"ticks\": \"\"}}, \"type\": \"scatter\"}], \"scatter3d\": [{\"line\": {\"colorbar\": {\"outlinewidth\": 0, \"ticks\": \"\"}}, \"marker\": {\"colorbar\": {\"outlinewidth\": 0, \"ticks\": \"\"}}, \"type\": \"scatter3d\"}], \"scattercarpet\": [{\"marker\": {\"colorbar\": {\"outlinewidth\": 0, \"ticks\": \"\"}}, \"type\": \"scattercarpet\"}], \"scattergeo\": [{\"marker\": {\"colorbar\": {\"outlinewidth\": 0, \"ticks\": \"\"}}, \"type\": \"scattergeo\"}], \"scattergl\": [{\"marker\": {\"colorbar\": {\"outlinewidth\": 0, \"ticks\": \"\"}}, \"type\": \"scattergl\"}], \"scattermapbox\": [{\"marker\": {\"colorbar\": {\"outlinewidth\": 0, \"ticks\": \"\"}}, \"type\": \"scattermapbox\"}], \"scatterpolar\": [{\"marker\": {\"colorbar\": {\"outlinewidth\": 0, \"ticks\": \"\"}}, \"type\": \"scatterpolar\"}], \"scatterpolargl\": [{\"marker\": {\"colorbar\": {\"outlinewidth\": 0, \"ticks\": \"\"}}, \"type\": \"scatterpolargl\"}], \"scatterternary\": [{\"marker\": {\"colorbar\": {\"outlinewidth\": 0, \"ticks\": \"\"}}, \"type\": \"scatterternary\"}], \"surface\": [{\"colorbar\": {\"outlinewidth\": 0, \"ticks\": \"\"}, \"colorscale\": [[0.0, \"#0d0887\"], [0.1111111111111111, \"#46039f\"], [0.2222222222222222, \"#7201a8\"], [0.3333333333333333, \"#9c179e\"], [0.4444444444444444, \"#bd3786\"], [0.5555555555555556, \"#d8576b\"], [0.6666666666666666, \"#ed7953\"], [0.7777777777777778, \"#fb9f3a\"], [0.8888888888888888, \"#fdca26\"], [1.0, \"#f0f921\"]], \"type\": \"surface\"}], \"table\": [{\"cells\": {\"fill\": {\"color\": \"#EBF0F8\"}, \"line\": {\"color\": \"white\"}}, \"header\": {\"fill\": {\"color\": \"#C8D4E3\"}, \"line\": {\"color\": \"white\"}}, \"type\": \"table\"}]}, \"layout\": {\"annotationdefaults\": {\"arrowcolor\": \"#2a3f5f\", \"arrowhead\": 0, \"arrowwidth\": 1}, \"coloraxis\": {\"colorbar\": {\"outlinewidth\": 0, \"ticks\": \"\"}}, \"colorscale\": {\"diverging\": [[0, \"#8e0152\"], [0.1, \"#c51b7d\"], [0.2, \"#de77ae\"], [0.3, \"#f1b6da\"], [0.4, \"#fde0ef\"], [0.5, \"#f7f7f7\"], [0.6, \"#e6f5d0\"], [0.7, \"#b8e186\"], [0.8, \"#7fbc41\"], [0.9, \"#4d9221\"], [1, \"#276419\"]], \"sequential\": [[0.0, \"#0d0887\"], [0.1111111111111111, \"#46039f\"], [0.2222222222222222, \"#7201a8\"], [0.3333333333333333, \"#9c179e\"], [0.4444444444444444, \"#bd3786\"], [0.5555555555555556, \"#d8576b\"], [0.6666666666666666, \"#ed7953\"], [0.7777777777777778, \"#fb9f3a\"], [0.8888888888888888, \"#fdca26\"], [1.0, \"#f0f921\"]], \"sequentialminus\": [[0.0, \"#0d0887\"], [0.1111111111111111, \"#46039f\"], [0.2222222222222222, \"#7201a8\"], [0.3333333333333333, \"#9c179e\"], [0.4444444444444444, \"#bd3786\"], [0.5555555555555556, \"#d8576b\"], [0.6666666666666666, \"#ed7953\"], [0.7777777777777778, \"#fb9f3a\"], [0.8888888888888888, \"#fdca26\"], [1.0, \"#f0f921\"]]}, \"colorway\": [\"#636efa\", \"#EF553B\", \"#00cc96\", \"#ab63fa\", \"#FFA15A\", \"#19d3f3\", \"#FF6692\", \"#B6E880\", \"#FF97FF\", \"#FECB52\"], \"font\": {\"color\": \"#2a3f5f\"}, \"geo\": {\"bgcolor\": \"white\", \"lakecolor\": \"white\", \"landcolor\": \"#E5ECF6\", \"showlakes\": true, \"showland\": true, \"subunitcolor\": \"white\"}, \"hoverlabel\": {\"align\": \"left\"}, \"hovermode\": \"closest\", \"mapbox\": {\"style\": \"light\"}, \"paper_bgcolor\": \"white\", \"plot_bgcolor\": \"#E5ECF6\", \"polar\": {\"angularaxis\": {\"gridcolor\": \"white\", \"linecolor\": \"white\", \"ticks\": \"\"}, \"bgcolor\": \"#E5ECF6\", \"radialaxis\": {\"gridcolor\": \"white\", \"linecolor\": \"white\", \"ticks\": \"\"}}, \"scene\": {\"xaxis\": {\"backgroundcolor\": \"#E5ECF6\", \"gridcolor\": \"white\", \"gridwidth\": 2, \"linecolor\": \"white\", \"showbackground\": true, \"ticks\": \"\", \"zerolinecolor\": \"white\"}, \"yaxis\": {\"backgroundcolor\": \"#E5ECF6\", \"gridcolor\": \"white\", \"gridwidth\": 2, \"linecolor\": \"white\", \"showbackground\": true, \"ticks\": \"\", \"zerolinecolor\": \"white\"}, \"zaxis\": {\"backgroundcolor\": \"#E5ECF6\", \"gridcolor\": \"white\", \"gridwidth\": 2, \"linecolor\": \"white\", \"showbackground\": true, \"ticks\": \"\", \"zerolinecolor\": \"white\"}}, \"shapedefaults\": {\"line\": {\"color\": \"#2a3f5f\"}}, \"ternary\": {\"aaxis\": {\"gridcolor\": \"white\", \"linecolor\": \"white\", \"ticks\": \"\"}, \"baxis\": {\"gridcolor\": \"white\", \"linecolor\": \"white\", \"ticks\": \"\"}, \"bgcolor\": \"#E5ECF6\", \"caxis\": {\"gridcolor\": \"white\", \"linecolor\": \"white\", \"ticks\": \"\"}}, \"title\": {\"x\": 0.05}, \"xaxis\": {\"automargin\": true, \"gridcolor\": \"white\", \"linecolor\": \"white\", \"ticks\": \"\", \"title\": {\"standoff\": 15}, \"zerolinecolor\": \"white\", \"zerolinewidth\": 2}, \"yaxis\": {\"automargin\": true, \"gridcolor\": \"white\", \"linecolor\": \"white\", \"ticks\": \"\", \"title\": {\"standoff\": 15}, \"zerolinecolor\": \"white\", \"zerolinewidth\": 2}}}},\n",
       "                        {\"responsive\": true}\n",
       "                    ).then(function(){\n",
       "                            \n",
       "var gd = document.getElementById('1b8b8471-b9f0-4dd4-9d82-40cc73069594');\n",
       "var x = new MutationObserver(function (mutations, observer) {{\n",
       "        var display = window.getComputedStyle(gd).display;\n",
       "        if (!display || display === 'none') {{\n",
       "            console.log([gd, 'removed!']);\n",
       "            Plotly.purge(gd);\n",
       "            observer.disconnect();\n",
       "        }}\n",
       "}});\n",
       "\n",
       "// Listen for the removal of the full notebook cells\n",
       "var notebookContainer = gd.closest('#notebook-container');\n",
       "if (notebookContainer) {{\n",
       "    x.observe(notebookContainer, {childList: true});\n",
       "}}\n",
       "\n",
       "// Listen for the clearing of the current output cell\n",
       "var outputEl = gd.closest('.output');\n",
       "if (outputEl) {{\n",
       "    x.observe(outputEl, {childList: true});\n",
       "}}\n",
       "\n",
       "                        })\n",
       "                };\n",
       "                });\n",
       "            </script>\n",
       "        </div>"
      ]
     },
     "metadata": {},
     "output_type": "display_data"
    }
   ],
   "source": [
    "city = Region(990, 10, 0, 0)\n",
    "epidemic = dynamic.estimate(city)\n",
    "fig = SIRQt.plot(epidemic)\n",
    "sample = Sample(epidemic, np.arange(T//10, T, T//10), 1000*np.ones(9), 10*np.ones(9), Bin, seed=0)\n",
    "sample.plot(fig)\n",
    "confirmed = Confirmed(epidemic, np.arange(T//10, T, T//10))\n",
    "confirmed.plot(fig)"
   ]
  },
  {
   "cell_type": "code",
   "execution_count": 147,
   "metadata": {},
   "outputs": [],
   "source": [
    "def loglikely(epidemic, sample, law_s, confirmed, law_c, weight_c=1):\n",
    "    ll = 0\n",
    "\n",
    "    if sample is not None:\n",
    "        ms = sample.m\n",
    "        ns = sample.n\n",
    "        ds = epidemic.I[sample.t] / ms\n",
    "        ks = sample.positive\n",
    "        ll = sum(law_s.loglikely(n, d, k) for n, d, k in zip(ns, ds, ks)) / len(ns)\n",
    "\n",
    "    if confirmed is not None:\n",
    "        qs = epidemic.Q[confirmed.t]\n",
    "        cs = confirmed.c\n",
    "        ll += weight_c * sum(law_c.loglikely(n, 1, k) for n, k in zip(qs, cs)) / len(qs)\n",
    "\n",
    "    return ll\n",
    "\n",
    "\n",
    "def likelihood(epidemic, sample, law_s, confirmed, law_c, weight_c=1):\n",
    "    return np.exp(loglikely(epidemic, sample, law_s, confirmed, law_c, weight_c))\n",
    "\n",
    "\n",
    "class InferSIRQt:\n",
    "    def __init__(self, law_s=Bin, law_c=Poi, weight_c=1, \n",
    "                 penalty_b=variation1, weight_b=1, penalty_t=variation1, weight_t=1, algo='map'):\n",
    "        self.law_s = law_s\n",
    "        self.law_c = law_c\n",
    "        self.weight_c = weight_c\n",
    "        self.penalty_b = penalty_b\n",
    "        self.weight_b = weight_b\n",
    "        self.penalty_t = penalty_t\n",
    "        self.weight_t = weight_t\n",
    "        self.algo = algo\n",
    "        self.dynamic = None\n",
    "        self.walker = None\n",
    "        self.funcval = None\n",
    "        \n",
    "    def self_plot(self, **options):\n",
    "        return self.dynamic.self_plot(**options)\n",
    "    \n",
    "    def __repr__(self):\n",
    "        self.self_plot().show()\n",
    "        return \"Function value={}\".format(self.funcval)\n",
    "\n",
    "    def fit(self, region, sample, confirmed, **options):\n",
    "        if self.algo == \"map\":\n",
    "            self.fit_beta_gamma_theta_map(region, sample, confirmed, **options)\n",
    "        elif self.algo == \"mcmc\":\n",
    "            self.fit_beta_gamma_theta_mh(region, sample, confirmed, **options)\n",
    "            \n",
    "    def fit_beta_gamma_theta_map(self, region, sample, confirmed, **kvarg):        \n",
    "        def func(x):\n",
    "            d = len(x) // 2 + 1\n",
    "            dynamic = SIRQt(x[1:d], x[0], x[d:])\n",
    "            epidemic = dynamic.estimate(region, d-1)\n",
    "            ll = -loglikely(epidemic, sample, self.law_s, confirmed, self.law_c, self.weight_c)\n",
    "            ll += self.weight_b * self.penalty_b(x[1:d])\n",
    "            ll += self.weight_t * self.penalty_t(x[d:])\n",
    "            return ll\n",
    "        \n",
    "        x0 = np.ones(1 + 2 * max(confirmed.t[-1], sample.t[-1]))\n",
    "        d = len(x0) // 2 + 1\n",
    "        x0[0] = 0.01\n",
    "        x0[1:d] = 0.5\n",
    "        x0[d:] = 0.01\n",
    "        res = minimize(func, x0, method='nelder-mead', options={'xatol': 1e-8, 'disp': True, 'maxiter': 500000})\n",
    "#        res = dual_annealing(func, np.tile([0, 1], (len(x0), 1)), maxiter=100000, seed=0)\n",
    "        self.dynamic = SIRQt(res.x[1:d], res.x[0], res.x[d:])\n",
    "        self.funcval = res.fun"
   ]
  },
  {
   "cell_type": "code",
   "execution_count": null,
   "metadata": {},
   "outputs": [],
   "source": [
    "a = InferSIRQt(weight_b=100, weight_t=10, weight_c=1)\n",
    "a.fit(city, sample, confirmed)"
   ]
  },
  {
   "cell_type": "code",
   "execution_count": null,
   "metadata": {},
   "outputs": [],
   "source": [
    "a.dynamic"
   ]
  },
  {
   "cell_type": "code",
   "execution_count": null,
   "metadata": {},
   "outputs": [],
   "source": [
    "fig = SIRQt.plot(a.dynamic.estimate(city))\n",
    "sample.plot(fig)\n",
    "confirmed.plot(fig)"
   ]
  },
  {
   "cell_type": "code",
   "execution_count": null,
   "metadata": {},
   "outputs": [],
   "source": []
  },
  {
   "cell_type": "code",
   "execution_count": null,
   "metadata": {},
   "outputs": [],
   "source": []
  },
  {
   "cell_type": "code",
   "execution_count": null,
   "metadata": {},
   "outputs": [],
   "source": []
  },
  {
   "cell_type": "code",
   "execution_count": null,
   "metadata": {},
   "outputs": [],
   "source": []
  },
  {
   "cell_type": "code",
   "execution_count": null,
   "metadata": {},
   "outputs": [],
   "source": []
  },
  {
   "cell_type": "code",
   "execution_count": null,
   "metadata": {},
   "outputs": [],
   "source": []
  },
  {
   "cell_type": "code",
   "execution_count": null,
   "metadata": {},
   "outputs": [],
   "source": []
  },
  {
   "cell_type": "code",
   "execution_count": null,
   "metadata": {},
   "outputs": [],
   "source": []
  },
  {
   "cell_type": "code",
   "execution_count": null,
   "metadata": {},
   "outputs": [],
   "source": []
  },
  {
   "cell_type": "code",
   "execution_count": null,
   "metadata": {},
   "outputs": [],
   "source": []
  },
  {
   "cell_type": "code",
   "execution_count": 18,
   "metadata": {},
   "outputs": [],
   "source": [
    "def jump(x, t=0, state=0, cube=None, law=uniform, wait=10, *vargs, seed=None, **options):\n",
    "    x = np.array(x, dtype='float64')   # caution: must specify the datatype, in-place operation below\n",
    "    d = x.size\n",
    "    \n",
    "    if state is None:\n",
    "        state = 0\n",
    "        \n",
    "    if cube is None:\n",
    "        cube = inf_cube(d)\n",
    "    cube = np.array(cube)\n",
    "    \n",
    "    if not incube(x, cube):\n",
    "        raise Exception(MESSAGE)\n",
    "        \n",
    "    if seed is not None and t==0:\n",
    "        np.random.seed(seed)\n",
    "        \n",
    "    y = law(0, **extract_options(options, 'law'))\n",
    "    if state == 0:\n",
    "        if cube[0, 0] < x[0] + y < cube[0, 1]:\n",
    "            x[0] += y\n",
    "        state += 1\n",
    "    else:\n",
    "        window = int(np.random.exponential(wait))\n",
    "        stop = min(d - 1, state + window)\n",
    "        if incube(x[state:stop+1] + y, cube[state:stop+1, :]):\n",
    "            x[state:stop+1] += y\n",
    "        state = stop + 1 if stop + 1 < d else 0\n",
    "    return x, state         "
   ]
  },
  {
   "cell_type": "code",
   "execution_count": 24,
   "metadata": {},
   "outputs": [],
   "source": [
    "def jump2(x, t=0, state=0, cube=None, law=uniform, wait=5, *vargs, seed=None, **options):\n",
    "    x = np.array(x, dtype='float64')   # caution: must specify the datatype, in-place operation below\n",
    "    d = x.size\n",
    "    \n",
    "    if state is None:\n",
    "        state = 0\n",
    "        \n",
    "    if cube is None:\n",
    "        cube = inf_cube(d)\n",
    "    cube = np.array(cube)\n",
    "    \n",
    "    if not incube(x, cube):\n",
    "        raise Exception(MESSAGE)\n",
    "        \n",
    "    if seed is not None and t==0:\n",
    "        np.random.seed(seed)\n",
    "        \n",
    "    y = law(0, **extract_options(options, 'law'))\n",
    "    if state == 0:\n",
    "        if cube[0, 0] < x[0] + y < cube[0, 1]:\n",
    "            x[0] += y\n",
    "        state += 1\n",
    "    else:\n",
    "        window = int(np.random.exponential(wait))\n",
    "        stop = min(d - 1, state + window)\n",
    "        if incube(x[state] + y, cube[state:state+1, :]):\n",
    "            x[state:stop+1] = x[state] + y\n",
    "        state = stop + 1 if stop + 1 < d else 0\n",
    "    return x, state"
   ]
  },
  {
   "cell_type": "code",
   "execution_count": 68,
   "metadata": {},
   "outputs": [],
   "source": [
    "def jump3(x, t=0, state=0, cube=None, law=uniform, wait=5, *vargs, seed=None, **options):\n",
    "    x = np.array(x, dtype='float64')   # caution: must specify the datatype, in-place operation below\n",
    "    d = x.size\n",
    "    \n",
    "    if state is None:\n",
    "        state = 0\n",
    "        \n",
    "    if cube is None:\n",
    "        cube = inf_cube(d)\n",
    "    cube = np.array(cube)\n",
    "    \n",
    "    if not incube(x, cube):\n",
    "        raise Exception(MESSAGE)\n",
    "        \n",
    "    if seed is not None and t==0:\n",
    "        np.random.seed(seed)\n",
    "        \n",
    "    y = law(0, **extract_options(options, 'law'))\n",
    "    if state == 0:\n",
    "        if cube[0, 0] < x[0] + y < cube[0, 1]:\n",
    "            x[0] += y\n",
    "        state += 1\n",
    "    else:\n",
    "        window = int(np.random.exponential(wait))\n",
    "        stop = min(d - 1, state + window)\n",
    "        if incube(x[d-state] + y, cube[d-state:d-state+1, :]):\n",
    "            x[d-stop:d-state+1] = x[d-state] + y\n",
    "        state = stop + 1 if stop + 1 < d else 0\n",
    "    return x, state"
   ]
  },
  {
   "cell_type": "code",
   "execution_count": null,
   "metadata": {},
   "outputs": [],
   "source": []
  }
 ],
 "metadata": {
  "@webio": {
   "lastCommId": null,
   "lastKernelId": null
  },
  "kernelspec": {
   "display_name": "Python 3",
   "language": "python",
   "name": "python3"
  },
  "language_info": {
   "codemirror_mode": {
    "name": "ipython",
    "version": 3
   },
   "file_extension": ".py",
   "mimetype": "text/x-python",
   "name": "python",
   "nbconvert_exporter": "python",
   "pygments_lexer": "ipython3",
   "version": "3.7.3"
  }
 },
 "nbformat": 4,
 "nbformat_minor": 2
}
