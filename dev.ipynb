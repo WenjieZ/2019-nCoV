{
 "cells": [
  {
   "cell_type": "code",
   "execution_count": 1,
   "metadata": {},
   "outputs": [],
   "source": [
    "from abc import ABCMeta, abstractmethod\n",
    "from collections import namedtuple\n",
    "import numpy as np\n",
    "\n",
    "import plotly.graph_objects as go \n",
    "import plotly.express as px \n",
    "import plotly.io as pio\n",
    "from plotly.subplots import make_subplots\n",
    "\n",
    "from scipy.optimize import minimize, dual_annealing"
   ]
  },
  {
   "cell_type": "code",
   "execution_count": 29,
   "metadata": {},
   "outputs": [],
   "source": [
    "import os\n",
    "from hsir import InferSIRQ, SIRQ"
   ]
  },
  {
   "cell_type": "code",
   "execution_count": 167,
   "metadata": {},
   "outputs": [],
   "source": [
    "class Law(metaclass=ABCMeta):\n",
    "    @staticmethod\n",
    "    @abstractmethod\n",
    "    def sample(n, d):\n",
    "        pass\n",
    "\n",
    "    @staticmethod\n",
    "    @abstractmethod\n",
    "    def loglikely(n, d, k):\n",
    "        pass\n",
    "   \n",
    "    @staticmethod\n",
    "    def likelihood(n, d, k):\n",
    "        return np.exp(loglikely(n, d, k))\n",
    "\n",
    "\n",
    "class Bin(Law):\n",
    "    def sample(n, d):\n",
    "        return np.random.binomial(n, d)\n",
    "    \n",
    "    def loglikely(n, d, k):\n",
    "        return k*np.log(d) + (n-k)*np.log(1-d)\n",
    "\n",
    "\n",
    "class Poi(Law):\n",
    "    def sample(n, d):\n",
    "        return np.random.poisson(n*d)\n",
    "    \n",
    "    def loglikely(n, d, k):\n",
    "        return k*np.log(n*d) - n*d # - np.sum(np.log(np.arange(k)+1))\n",
    "    \n",
    "\n",
    "class Gau(Law):\n",
    "    def sample(n, d=1):\n",
    "        return n * (1 + 0.1*np.random.randn())\n",
    "    \n",
    "    def loglikely(n, d, k):\n",
    "        return -50 * np.log(k/n)**2 "
   ]
  },
  {
   "cell_type": "code",
   "execution_count": 168,
   "metadata": {},
   "outputs": [],
   "source": [
    "def Id(x, *vargs, **kvargs):\n",
    "    return x\n",
    "\n",
    "\n",
    "def variation1(x):\n",
    "    return np.mean(np.abs(np.diff(x)))\n",
    "\n",
    "\n",
    "def variation2(x):\n",
    "    return np.sqrt(np.mean(np.diff(x)**2))\n",
    "\n",
    "\n",
    "def elastic_net(x, mu=1):\n",
    "    return (variation1(x) + mu*variation2(x)) / (1+mu)"
   ]
  },
  {
   "cell_type": "code",
   "execution_count": 182,
   "metadata": {},
   "outputs": [],
   "source": [
    "Region = namedtuple('Region', 'S I R Q')\n",
    "Epidemic = namedtuple('Epidemic', 'S I R Q')\n",
    "\n",
    "\n",
    "class Sample:\n",
    "    def __init__(self, epidemic, ts, ms, ns, law, seed=None):\n",
    "        if seed is not None:\n",
    "            np.random.seed(seed)\n",
    "        \n",
    "        positive = np.zeros_like(ts)\n",
    "        for i, (t, m, n) in enumerate(zip(ts, ms, ns)):\n",
    "            positive[i] = law.sample(n, epidemic.I[t]/m)\n",
    "            \n",
    "        self.t = ts\n",
    "        self.m = ms\n",
    "        self.n = ns\n",
    "        self.positive = positive\n",
    "        self._law = law\n",
    "        \n",
    "    def __repr__(self):\n",
    "        return \" t: {} \\n m: {} \\n n: {} \\n positive: {}\".format(self.t, self.m, self.n, self.positive)\n",
    "    \n",
    "    def plot(self, fig):\n",
    "        fig.add_scatter(\n",
    "            x=self.t, y=self.positive / self.n * self.m, \n",
    "            mode=\"markers\", marker_symbol=1, name=\"Estimated\", hovertemplate=\"%{y}\"\n",
    "        )\n",
    "        return fig\n",
    "    \n",
    "\n",
    "class Confirmed:\n",
    "    def __init__(self, epidemic, ts, law=Poi, seed=None):\n",
    "        if seed is not None:\n",
    "            np.random.seed(seed)\n",
    "        \n",
    "        c = np.zeros_like(ts)\n",
    "        for i, t in enumerate(ts):\n",
    "            c[i] = law.sample(epidemic.Q[t], 1)\n",
    "\n",
    "        self.t = ts\n",
    "        self.c = c\n",
    "        \n",
    "    def __repr__(self):\n",
    "        return \" t: {} \\n c: {}\".format(self.t, self.c)\n",
    "    \n",
    "    def plot(self, fig):\n",
    "        fig.add_scatter(\n",
    "            x=self.t, y=self.c, \n",
    "            mode=\"markers\", marker_symbol=2, name=\"Confirmed\", hovertemplate=\"%{y}\"\n",
    "        )\n",
    "        return fig\n",
    "    \n",
    "    \n",
    "class Resisted:\n",
    "    def __init__(self, epidemic, ts, ns, law, seed=None):\n",
    "        if seed is not None:\n",
    "            np.random.seed(seed)\n",
    "        \n",
    "        positive = np.zeros_like(ts)\n",
    "        ms = np.zeros_like(ts)\n",
    "        for i, (t, n) in enumerate(zip(ts, ns)):\n",
    "            ms[i] = epidemic.S[t] + epidemic.I[t] + epidemic.R[t]\n",
    "            positive[i] = law.sample(n, epidemic.R[t] / ms[i])\n",
    "            \n",
    "        self.t = ts\n",
    "        self.m = ms\n",
    "        self.n = ns\n",
    "        self.positive = positive\n",
    "        self._law = law\n",
    "        \n",
    "    def __repr__(self):\n",
    "        return \" t: {} \\n m: {} \\n n: {} \\n positive: {}\".format(self.t, self.m, self.n, self.positive)\n",
    "    \n",
    "    def plot(self, fig):\n",
    "        fig.add_scatter(\n",
    "            x=self.t, y=self.positive / self.n * self.m, \n",
    "            mode=\"markers\", marker_symbol=3, name=\"Resisted\", hovertemplate=\"%{y}\"\n",
    "        )\n",
    "        return fig"
   ]
  },
  {
   "cell_type": "code",
   "execution_count": 238,
   "metadata": {},
   "outputs": [],
   "source": [
    "class JumpProcess:\n",
    "    @staticmethod\n",
    "    def jump(start, amplitude, wait, horizon, seed=None):\n",
    "        if seed is not None:\n",
    "            np.random.seed(seed)\n",
    "            \n",
    "        process = np.zeros(horizon)\n",
    "        t = 0\n",
    "        while t < horizon:\n",
    "            T = int(np.random.exponential(wait))\n",
    "            process[t:t+T] = start\n",
    "            start *= (1 + np.random.choice([-1, 1]) * amplitude)\n",
    "            t += T\n",
    "        return process\n",
    "\n",
    "    @staticmethod\n",
    "    def pulse(base, wait, high, duration, horizon, seed=None):\n",
    "        if seed is not None:\n",
    "            np.random.seed(seed)\n",
    "            \n",
    "        process = np.zeros(horizon)\n",
    "        t = 0\n",
    "        while t < horizon:\n",
    "            T = int(np.random.exponential(wait))\n",
    "            process[t:t+T] = base\n",
    "            t += T\n",
    "            T = int(np.random.exponential(duration))\n",
    "            process[t:t+T] = high\n",
    "            t += T\n",
    "        return process        \n",
    "    \n",
    "    @staticmethod\n",
    "    def plot(y, log=True):\n",
    "        fig = px.scatter(y=y)\n",
    "        fig.update_layout(margin=dict(b=0, l=0, r=150, t=25))\n",
    "        if log:\n",
    "            fig.update_yaxes(type=\"log\")\n",
    "        return fig"
   ]
  },
  {
   "cell_type": "code",
   "execution_count": 184,
   "metadata": {},
   "outputs": [],
   "source": [
    "class SIRQt:\n",
    "    def __init__(self, beta, gamma, theta, dt=1):\n",
    "        beta = np.array(beta)\n",
    "        if np.isscalar(gamma):\n",
    "            gamma = gamma * np.ones_like(beta)\n",
    "        else:\n",
    "            gamma = np.array(gamma)\n",
    "        theta = np.array(theta)\n",
    "        if not beta.size == gamma.size == theta.size:\n",
    "            raise Exception(\"Dimensions not equal. β: {}, γ: {}, θ: {}\".format(beta.size, gamma.size, theta.size))\n",
    "            \n",
    "        self.beta = beta * dt\n",
    "        self.gamma = gamma * dt\n",
    "        self.theta = theta * dt\n",
    "    \n",
    "    def self_plot(self, ls='hv', log=False, **kvargs):\n",
    "        fig = go.Figure()\n",
    "        fig.add_scatter(x=np.arange(len(self.beta)), y=self.beta, line_shape=ls, name='β', hovertemplate=\"%{y}\")\n",
    "        fig.add_scatter(x=np.arange(len(self.gamma)), y=self.gamma, line_shape=ls, name='γ', hovertemplate=\"%{y}\")\n",
    "        fig.add_scatter(x=np.arange(len(self.theta)), y=self.theta, line_shape=ls, name='θ', hovertemplate=\"%{y}\")\n",
    "        fig.update_layout(margin=dict(b=0, l=0, r=150, t=25))\n",
    "        if log:\n",
    "            fig.update_yaxes(type=\"log\")\n",
    "        return fig\n",
    "    \n",
    "    def __repr__(self):\n",
    "        self.self_plot().show()\n",
    "        return \"\"\n",
    "\n",
    "    def r0(self, control=False):\n",
    "        if control:\n",
    "            return self.beta / (self.gamma + self.theta)\n",
    "        else:\n",
    "            return self.beta / self.gamma\n",
    "        \n",
    "    def estimate(self, region, horizon=None):\n",
    "        T = self.beta.size if horizon is None else horizon\n",
    "        S = np.zeros(T+1)\n",
    "        I = np.zeros(T+1)\n",
    "        R = np.zeros(T+1)\n",
    "        Q = np.zeros(T+1)\n",
    "        S[0] = region.S\n",
    "        I[0] = region.I\n",
    "        R[0] = region.R\n",
    "        Q[0] = region.Q\n",
    "        \n",
    "        for t in range(T):\n",
    "            if t < self.beta.size:\n",
    "                beta, gamma, theta = self.beta[t], self.gamma[t], self.theta[t]\n",
    "            else:\n",
    "                beta, gamma, theta = self.beta[-1], self.gamma[-1], self.theta[-1]\n",
    "                \n",
    "            M = S[t] + I[t] + R[t] + Q[t]\n",
    "            a, b, c = beta*S[t]*I[t]/M, gamma*I[t], theta*I[t]\n",
    "            S[t+1] = S[t] - a\n",
    "            I[t+1] = I[t] + a - b - c\n",
    "            R[t+1] = R[t] + b \n",
    "            Q[t+1] = Q[t] + c\n",
    "        \n",
    "        return Epidemic(S, I, R, Q)\n",
    "    \n",
    "    @staticmethod\n",
    "    def plot(epidemic, T0=0, T=None, line=None, fig=None):\n",
    "        if fig is None:\n",
    "            fig = go.Figure()\n",
    "            fig.update_layout(margin=dict(b=0, l=0, r=150, t=25))\n",
    "        if T is None:    \n",
    "            T = epidemic.S.size - 1 + T0\n",
    "        fig.add_scatter(x=np.arange(T0, T+1), y=epidemic.S.astype(int), name=\"Susceptible\", hovertemplate=\"%{y}\")\n",
    "        fig.add_scatter(x=np.arange(T0, T+1), y=epidemic.I.astype(int), name=\"Infectious\", hovertemplate=\"%{y}\")\n",
    "        fig.add_scatter(x=np.arange(T0, T+1), y=epidemic.R.astype(int), name=\"Removed\", hovertemplate=\"%{y}\")\n",
    "        fig.add_scatter(x=np.arange(T0, T+1), y=epidemic.Q.astype(int), name=\"Quarantined\", hovertemplate=\"%{y}\")\n",
    "        return fig"
   ]
  },
  {
   "cell_type": "code",
   "execution_count": 185,
   "metadata": {},
   "outputs": [
    {
     "data": {
      "application/vnd.plotly.v1+json": {
       "config": {
        "plotlyServerURL": "https://plot.ly"
       },
       "data": [
        {
         "hovertemplate": "%{y}",
         "line": {
          "shape": "hv"
         },
         "name": "β",
         "type": "scatter",
         "x": [
          0,
          1,
          2,
          3,
          4,
          5,
          6,
          7,
          8,
          9,
          10,
          11,
          12,
          13,
          14,
          15,
          16,
          17,
          18,
          19,
          20,
          21,
          22,
          23,
          24,
          25,
          26,
          27,
          28,
          29,
          30,
          31,
          32,
          33,
          34,
          35,
          36,
          37,
          38,
          39,
          40,
          41,
          42,
          43,
          44,
          45,
          46,
          47,
          48,
          49,
          50,
          51,
          52,
          53,
          54,
          55,
          56,
          57,
          58,
          59,
          60,
          61,
          62,
          63,
          64,
          65,
          66,
          67,
          68,
          69,
          70,
          71,
          72,
          73,
          74,
          75,
          76,
          77,
          78,
          79,
          80,
          81,
          82,
          83,
          84,
          85,
          86,
          87,
          88,
          89,
          90,
          91,
          92,
          93,
          94,
          95,
          96,
          97,
          98,
          99
         ],
         "y": [
          0.15,
          0.15,
          0.15,
          0.15,
          0.15,
          0.15,
          0.15,
          0.195,
          0.195,
          0.195,
          0.195,
          0.195,
          0.195,
          0.195,
          0.195,
          0.195,
          0.195,
          0.195,
          0.195,
          0.195,
          0.195,
          0.195,
          0.195,
          0.195,
          0.195,
          0.2535,
          0.2535,
          0.2535,
          0.2535,
          0.2535,
          0.2535,
          0.2535,
          0.32955,
          0.32955,
          0.32955,
          0.32955,
          0.32955,
          0.32955,
          0.32955,
          0.32955,
          0.32955,
          0.230685,
          0.230685,
          0.230685,
          0.230685,
          0.230685,
          0.11303564999999999,
          0.11303564999999999,
          0.11303564999999999,
          0.11303564999999999,
          0.07912495499999998,
          0.07912495499999998,
          0.07912495499999998,
          0.07912495499999998,
          0.07912495499999998,
          0.07912495499999998,
          0.07912495499999998,
          0.07912495499999998,
          0.07912495499999998,
          0.07912495499999998,
          0.07912495499999998,
          0.07912495499999998,
          0.07912495499999998,
          0.07912495499999998,
          0.07912495499999998,
          0.07912495499999998,
          0.05538746849999998,
          0.05538746849999998,
          0.05538746849999998,
          0.05538746849999998,
          0.05538746849999998,
          0.05538746849999998,
          0.05538746849999998,
          0.05538746849999998,
          0.07200370904999998,
          0.07200370904999998,
          0.07200370904999998,
          0.07200370904999998,
          0.07200370904999998,
          0.07200370904999998,
          0.07200370904999998,
          0.07200370904999998,
          0.07200370904999998,
          0.07200370904999998,
          0.07200370904999998,
          0.07200370904999998,
          0.07200370904999998,
          0.07200370904999998,
          0.07200370904999998,
          0.07200370904999998,
          0.07200370904999998,
          0.07200370904999998,
          0.06552337523549998,
          0.06552337523549998,
          0.06552337523549998,
          0.06552337523549998,
          0.08518038780614998,
          0.08518038780614998,
          0.08518038780614998,
          0.08518038780614998
         ]
        },
        {
         "hovertemplate": "%{y}",
         "line": {
          "shape": "hv"
         },
         "name": "γ",
         "type": "scatter",
         "x": [
          0,
          1,
          2,
          3,
          4,
          5,
          6,
          7,
          8,
          9,
          10,
          11,
          12,
          13,
          14,
          15,
          16,
          17,
          18,
          19,
          20,
          21,
          22,
          23,
          24,
          25,
          26,
          27,
          28,
          29,
          30,
          31,
          32,
          33,
          34,
          35,
          36,
          37,
          38,
          39,
          40,
          41,
          42,
          43,
          44,
          45,
          46,
          47,
          48,
          49,
          50,
          51,
          52,
          53,
          54,
          55,
          56,
          57,
          58,
          59,
          60,
          61,
          62,
          63,
          64,
          65,
          66,
          67,
          68,
          69,
          70,
          71,
          72,
          73,
          74,
          75,
          76,
          77,
          78,
          79,
          80,
          81,
          82,
          83,
          84,
          85,
          86,
          87,
          88,
          89,
          90,
          91,
          92,
          93,
          94,
          95,
          96,
          97,
          98,
          99
         ],
         "y": [
          0.03,
          0.03,
          0.03,
          0.03,
          0.03,
          0.03,
          0.03,
          0.0303,
          0.0303,
          0.0303,
          0.0303,
          0.0303,
          0.0303,
          0.0303,
          0.0303,
          0.0303,
          0.0303,
          0.0303,
          0.0303,
          0.0303,
          0.0303,
          0.0303,
          0.0303,
          0.0303,
          0.0303,
          0.030602999999999998,
          0.030602999999999998,
          0.030602999999999998,
          0.030602999999999998,
          0.030602999999999998,
          0.030602999999999998,
          0.030602999999999998,
          0.030909029999999997,
          0.030909029999999997,
          0.030909029999999997,
          0.030909029999999997,
          0.030909029999999997,
          0.030909029999999997,
          0.030909029999999997,
          0.030909029999999997,
          0.030909029999999997,
          0.03059993969999999,
          0.03059993969999999,
          0.03059993969999999,
          0.03059993969999999,
          0.03059993969999999,
          0.029991000899969988,
          0.029991000899969988,
          0.029991000899969988,
          0.029991000899969988,
          0.02969109089097029,
          0.02969109089097029,
          0.02969109089097029,
          0.02969109089097029,
          0.02969109089097029,
          0.02969109089097029,
          0.02969109089097029,
          0.02969109089097029,
          0.02969109089097029,
          0.02969109089097029,
          0.02969109089097029,
          0.02969109089097029,
          0.02969109089097029,
          0.02969109089097029,
          0.02969109089097029,
          0.02969109089097029,
          0.02939417998206059,
          0.02939417998206059,
          0.02939417998206059,
          0.02939417998206059,
          0.02939417998206059,
          0.02939417998206059,
          0.02939417998206059,
          0.02939417998206059,
          0.029688121781881193,
          0.029688121781881193,
          0.029688121781881193,
          0.029688121781881193,
          0.029688121781881193,
          0.029688121781881193,
          0.029688121781881193,
          0.029688121781881193,
          0.029688121781881193,
          0.029688121781881193,
          0.029688121781881193,
          0.029688121781881193,
          0.029688121781881193,
          0.029688121781881193,
          0.029688121781881193,
          0.029688121781881193,
          0.029688121781881193,
          0.029688121781881193,
          0.029685152969703005,
          0.029685152969703005,
          0.029685152969703005,
          0.029685152969703005,
          0.029982004499400035,
          0.029982004499400035,
          0.029982004499400035,
          0.029982004499400035
         ]
        },
        {
         "hovertemplate": "%{y}",
         "line": {
          "shape": "hv"
         },
         "name": "θ",
         "type": "scatter",
         "x": [
          0,
          1,
          2,
          3,
          4,
          5,
          6,
          7,
          8,
          9,
          10,
          11,
          12,
          13,
          14,
          15,
          16,
          17,
          18,
          19,
          20,
          21,
          22,
          23,
          24,
          25,
          26,
          27,
          28,
          29,
          30,
          31,
          32,
          33,
          34,
          35,
          36,
          37,
          38,
          39,
          40,
          41,
          42,
          43,
          44,
          45,
          46,
          47,
          48,
          49,
          50,
          51,
          52,
          53,
          54,
          55,
          56,
          57,
          58,
          59,
          60,
          61,
          62,
          63,
          64,
          65,
          66,
          67,
          68,
          69,
          70,
          71,
          72,
          73,
          74,
          75,
          76,
          77,
          78,
          79,
          80,
          81,
          82,
          83,
          84,
          85,
          86,
          87,
          88,
          89,
          90,
          91,
          92,
          93,
          94,
          95,
          96,
          97,
          98,
          99
         ],
         "y": [
          0.06,
          0.06,
          0.06,
          0.06,
          0.06,
          0.06,
          0.06,
          0.06,
          0.06,
          0.06,
          0.048,
          0.048,
          0.048,
          0.048,
          0.048,
          0.048,
          0.048,
          0.048,
          0.048,
          0.048,
          0.048,
          0.048,
          0.048,
          0.048,
          0.048,
          0.048,
          0.048,
          0.048,
          0.048,
          0.048,
          0.048,
          0.048,
          0.048,
          0.048,
          0.048,
          0.048,
          0.048,
          0.048,
          0.048,
          0.048,
          0.048,
          0.048,
          0.048,
          0.048,
          0.048,
          0.048,
          0.048,
          0.048,
          0.048,
          0.048,
          0.048,
          0.048,
          0.048,
          0.048,
          0.048,
          0.048,
          0.048,
          0.048,
          0.048,
          0.048,
          0.048,
          0.048,
          0.048,
          0.0576,
          0.0576,
          0.0576,
          0.0576,
          0.0576,
          0.0576,
          0.0576,
          0.06911999999999999,
          0.06911999999999999,
          0.06911999999999999,
          0.06911999999999999,
          0.06911999999999999,
          0.08294399999999999,
          0.08294399999999999,
          0.08294399999999999,
          0.08294399999999999,
          0.09953279999999998,
          0.09953279999999998,
          0.09953279999999998,
          0.09953279999999998,
          0.09953279999999998,
          0.09953279999999998,
          0.09953279999999998,
          0.09953279999999998,
          0.09953279999999998,
          0.09953279999999998,
          0.09953279999999998,
          0.09953279999999998,
          0.09953279999999998,
          0.09953279999999998,
          0.09953279999999998,
          0.09953279999999998,
          0.09953279999999998,
          0.09953279999999998,
          0.09953279999999998,
          0.09953279999999998,
          0.09953279999999998
         ]
        }
       ],
       "layout": {
        "margin": {
         "b": 0,
         "l": 0,
         "r": 150,
         "t": 25
        },
        "template": {
         "data": {
          "bar": [
           {
            "error_x": {
             "color": "#2a3f5f"
            },
            "error_y": {
             "color": "#2a3f5f"
            },
            "marker": {
             "line": {
              "color": "#E5ECF6",
              "width": 0.5
             }
            },
            "type": "bar"
           }
          ],
          "barpolar": [
           {
            "marker": {
             "line": {
              "color": "#E5ECF6",
              "width": 0.5
             }
            },
            "type": "barpolar"
           }
          ],
          "carpet": [
           {
            "aaxis": {
             "endlinecolor": "#2a3f5f",
             "gridcolor": "white",
             "linecolor": "white",
             "minorgridcolor": "white",
             "startlinecolor": "#2a3f5f"
            },
            "baxis": {
             "endlinecolor": "#2a3f5f",
             "gridcolor": "white",
             "linecolor": "white",
             "minorgridcolor": "white",
             "startlinecolor": "#2a3f5f"
            },
            "type": "carpet"
           }
          ],
          "choropleth": [
           {
            "colorbar": {
             "outlinewidth": 0,
             "ticks": ""
            },
            "type": "choropleth"
           }
          ],
          "contour": [
           {
            "colorbar": {
             "outlinewidth": 0,
             "ticks": ""
            },
            "colorscale": [
             [
              0,
              "#0d0887"
             ],
             [
              0.1111111111111111,
              "#46039f"
             ],
             [
              0.2222222222222222,
              "#7201a8"
             ],
             [
              0.3333333333333333,
              "#9c179e"
             ],
             [
              0.4444444444444444,
              "#bd3786"
             ],
             [
              0.5555555555555556,
              "#d8576b"
             ],
             [
              0.6666666666666666,
              "#ed7953"
             ],
             [
              0.7777777777777778,
              "#fb9f3a"
             ],
             [
              0.8888888888888888,
              "#fdca26"
             ],
             [
              1,
              "#f0f921"
             ]
            ],
            "type": "contour"
           }
          ],
          "contourcarpet": [
           {
            "colorbar": {
             "outlinewidth": 0,
             "ticks": ""
            },
            "type": "contourcarpet"
           }
          ],
          "heatmap": [
           {
            "colorbar": {
             "outlinewidth": 0,
             "ticks": ""
            },
            "colorscale": [
             [
              0,
              "#0d0887"
             ],
             [
              0.1111111111111111,
              "#46039f"
             ],
             [
              0.2222222222222222,
              "#7201a8"
             ],
             [
              0.3333333333333333,
              "#9c179e"
             ],
             [
              0.4444444444444444,
              "#bd3786"
             ],
             [
              0.5555555555555556,
              "#d8576b"
             ],
             [
              0.6666666666666666,
              "#ed7953"
             ],
             [
              0.7777777777777778,
              "#fb9f3a"
             ],
             [
              0.8888888888888888,
              "#fdca26"
             ],
             [
              1,
              "#f0f921"
             ]
            ],
            "type": "heatmap"
           }
          ],
          "heatmapgl": [
           {
            "colorbar": {
             "outlinewidth": 0,
             "ticks": ""
            },
            "colorscale": [
             [
              0,
              "#0d0887"
             ],
             [
              0.1111111111111111,
              "#46039f"
             ],
             [
              0.2222222222222222,
              "#7201a8"
             ],
             [
              0.3333333333333333,
              "#9c179e"
             ],
             [
              0.4444444444444444,
              "#bd3786"
             ],
             [
              0.5555555555555556,
              "#d8576b"
             ],
             [
              0.6666666666666666,
              "#ed7953"
             ],
             [
              0.7777777777777778,
              "#fb9f3a"
             ],
             [
              0.8888888888888888,
              "#fdca26"
             ],
             [
              1,
              "#f0f921"
             ]
            ],
            "type": "heatmapgl"
           }
          ],
          "histogram": [
           {
            "marker": {
             "colorbar": {
              "outlinewidth": 0,
              "ticks": ""
             }
            },
            "type": "histogram"
           }
          ],
          "histogram2d": [
           {
            "colorbar": {
             "outlinewidth": 0,
             "ticks": ""
            },
            "colorscale": [
             [
              0,
              "#0d0887"
             ],
             [
              0.1111111111111111,
              "#46039f"
             ],
             [
              0.2222222222222222,
              "#7201a8"
             ],
             [
              0.3333333333333333,
              "#9c179e"
             ],
             [
              0.4444444444444444,
              "#bd3786"
             ],
             [
              0.5555555555555556,
              "#d8576b"
             ],
             [
              0.6666666666666666,
              "#ed7953"
             ],
             [
              0.7777777777777778,
              "#fb9f3a"
             ],
             [
              0.8888888888888888,
              "#fdca26"
             ],
             [
              1,
              "#f0f921"
             ]
            ],
            "type": "histogram2d"
           }
          ],
          "histogram2dcontour": [
           {
            "colorbar": {
             "outlinewidth": 0,
             "ticks": ""
            },
            "colorscale": [
             [
              0,
              "#0d0887"
             ],
             [
              0.1111111111111111,
              "#46039f"
             ],
             [
              0.2222222222222222,
              "#7201a8"
             ],
             [
              0.3333333333333333,
              "#9c179e"
             ],
             [
              0.4444444444444444,
              "#bd3786"
             ],
             [
              0.5555555555555556,
              "#d8576b"
             ],
             [
              0.6666666666666666,
              "#ed7953"
             ],
             [
              0.7777777777777778,
              "#fb9f3a"
             ],
             [
              0.8888888888888888,
              "#fdca26"
             ],
             [
              1,
              "#f0f921"
             ]
            ],
            "type": "histogram2dcontour"
           }
          ],
          "mesh3d": [
           {
            "colorbar": {
             "outlinewidth": 0,
             "ticks": ""
            },
            "type": "mesh3d"
           }
          ],
          "parcoords": [
           {
            "line": {
             "colorbar": {
              "outlinewidth": 0,
              "ticks": ""
             }
            },
            "type": "parcoords"
           }
          ],
          "pie": [
           {
            "automargin": true,
            "type": "pie"
           }
          ],
          "scatter": [
           {
            "marker": {
             "colorbar": {
              "outlinewidth": 0,
              "ticks": ""
             }
            },
            "type": "scatter"
           }
          ],
          "scatter3d": [
           {
            "line": {
             "colorbar": {
              "outlinewidth": 0,
              "ticks": ""
             }
            },
            "marker": {
             "colorbar": {
              "outlinewidth": 0,
              "ticks": ""
             }
            },
            "type": "scatter3d"
           }
          ],
          "scattercarpet": [
           {
            "marker": {
             "colorbar": {
              "outlinewidth": 0,
              "ticks": ""
             }
            },
            "type": "scattercarpet"
           }
          ],
          "scattergeo": [
           {
            "marker": {
             "colorbar": {
              "outlinewidth": 0,
              "ticks": ""
             }
            },
            "type": "scattergeo"
           }
          ],
          "scattergl": [
           {
            "marker": {
             "colorbar": {
              "outlinewidth": 0,
              "ticks": ""
             }
            },
            "type": "scattergl"
           }
          ],
          "scattermapbox": [
           {
            "marker": {
             "colorbar": {
              "outlinewidth": 0,
              "ticks": ""
             }
            },
            "type": "scattermapbox"
           }
          ],
          "scatterpolar": [
           {
            "marker": {
             "colorbar": {
              "outlinewidth": 0,
              "ticks": ""
             }
            },
            "type": "scatterpolar"
           }
          ],
          "scatterpolargl": [
           {
            "marker": {
             "colorbar": {
              "outlinewidth": 0,
              "ticks": ""
             }
            },
            "type": "scatterpolargl"
           }
          ],
          "scatterternary": [
           {
            "marker": {
             "colorbar": {
              "outlinewidth": 0,
              "ticks": ""
             }
            },
            "type": "scatterternary"
           }
          ],
          "surface": [
           {
            "colorbar": {
             "outlinewidth": 0,
             "ticks": ""
            },
            "colorscale": [
             [
              0,
              "#0d0887"
             ],
             [
              0.1111111111111111,
              "#46039f"
             ],
             [
              0.2222222222222222,
              "#7201a8"
             ],
             [
              0.3333333333333333,
              "#9c179e"
             ],
             [
              0.4444444444444444,
              "#bd3786"
             ],
             [
              0.5555555555555556,
              "#d8576b"
             ],
             [
              0.6666666666666666,
              "#ed7953"
             ],
             [
              0.7777777777777778,
              "#fb9f3a"
             ],
             [
              0.8888888888888888,
              "#fdca26"
             ],
             [
              1,
              "#f0f921"
             ]
            ],
            "type": "surface"
           }
          ],
          "table": [
           {
            "cells": {
             "fill": {
              "color": "#EBF0F8"
             },
             "line": {
              "color": "white"
             }
            },
            "header": {
             "fill": {
              "color": "#C8D4E3"
             },
             "line": {
              "color": "white"
             }
            },
            "type": "table"
           }
          ]
         },
         "layout": {
          "annotationdefaults": {
           "arrowcolor": "#2a3f5f",
           "arrowhead": 0,
           "arrowwidth": 1
          },
          "coloraxis": {
           "colorbar": {
            "outlinewidth": 0,
            "ticks": ""
           }
          },
          "colorscale": {
           "diverging": [
            [
             0,
             "#8e0152"
            ],
            [
             0.1,
             "#c51b7d"
            ],
            [
             0.2,
             "#de77ae"
            ],
            [
             0.3,
             "#f1b6da"
            ],
            [
             0.4,
             "#fde0ef"
            ],
            [
             0.5,
             "#f7f7f7"
            ],
            [
             0.6,
             "#e6f5d0"
            ],
            [
             0.7,
             "#b8e186"
            ],
            [
             0.8,
             "#7fbc41"
            ],
            [
             0.9,
             "#4d9221"
            ],
            [
             1,
             "#276419"
            ]
           ],
           "sequential": [
            [
             0,
             "#0d0887"
            ],
            [
             0.1111111111111111,
             "#46039f"
            ],
            [
             0.2222222222222222,
             "#7201a8"
            ],
            [
             0.3333333333333333,
             "#9c179e"
            ],
            [
             0.4444444444444444,
             "#bd3786"
            ],
            [
             0.5555555555555556,
             "#d8576b"
            ],
            [
             0.6666666666666666,
             "#ed7953"
            ],
            [
             0.7777777777777778,
             "#fb9f3a"
            ],
            [
             0.8888888888888888,
             "#fdca26"
            ],
            [
             1,
             "#f0f921"
            ]
           ],
           "sequentialminus": [
            [
             0,
             "#0d0887"
            ],
            [
             0.1111111111111111,
             "#46039f"
            ],
            [
             0.2222222222222222,
             "#7201a8"
            ],
            [
             0.3333333333333333,
             "#9c179e"
            ],
            [
             0.4444444444444444,
             "#bd3786"
            ],
            [
             0.5555555555555556,
             "#d8576b"
            ],
            [
             0.6666666666666666,
             "#ed7953"
            ],
            [
             0.7777777777777778,
             "#fb9f3a"
            ],
            [
             0.8888888888888888,
             "#fdca26"
            ],
            [
             1,
             "#f0f921"
            ]
           ]
          },
          "colorway": [
           "#636efa",
           "#EF553B",
           "#00cc96",
           "#ab63fa",
           "#FFA15A",
           "#19d3f3",
           "#FF6692",
           "#B6E880",
           "#FF97FF",
           "#FECB52"
          ],
          "font": {
           "color": "#2a3f5f"
          },
          "geo": {
           "bgcolor": "white",
           "lakecolor": "white",
           "landcolor": "#E5ECF6",
           "showlakes": true,
           "showland": true,
           "subunitcolor": "white"
          },
          "hoverlabel": {
           "align": "left"
          },
          "hovermode": "closest",
          "mapbox": {
           "style": "light"
          },
          "paper_bgcolor": "white",
          "plot_bgcolor": "#E5ECF6",
          "polar": {
           "angularaxis": {
            "gridcolor": "white",
            "linecolor": "white",
            "ticks": ""
           },
           "bgcolor": "#E5ECF6",
           "radialaxis": {
            "gridcolor": "white",
            "linecolor": "white",
            "ticks": ""
           }
          },
          "scene": {
           "xaxis": {
            "backgroundcolor": "#E5ECF6",
            "gridcolor": "white",
            "gridwidth": 2,
            "linecolor": "white",
            "showbackground": true,
            "ticks": "",
            "zerolinecolor": "white"
           },
           "yaxis": {
            "backgroundcolor": "#E5ECF6",
            "gridcolor": "white",
            "gridwidth": 2,
            "linecolor": "white",
            "showbackground": true,
            "ticks": "",
            "zerolinecolor": "white"
           },
           "zaxis": {
            "backgroundcolor": "#E5ECF6",
            "gridcolor": "white",
            "gridwidth": 2,
            "linecolor": "white",
            "showbackground": true,
            "ticks": "",
            "zerolinecolor": "white"
           }
          },
          "shapedefaults": {
           "line": {
            "color": "#2a3f5f"
           }
          },
          "ternary": {
           "aaxis": {
            "gridcolor": "white",
            "linecolor": "white",
            "ticks": ""
           },
           "baxis": {
            "gridcolor": "white",
            "linecolor": "white",
            "ticks": ""
           },
           "bgcolor": "#E5ECF6",
           "caxis": {
            "gridcolor": "white",
            "linecolor": "white",
            "ticks": ""
           }
          },
          "title": {
           "x": 0.05
          },
          "xaxis": {
           "automargin": true,
           "gridcolor": "white",
           "linecolor": "white",
           "ticks": "",
           "title": {
            "standoff": 15
           },
           "zerolinecolor": "white",
           "zerolinewidth": 2
          },
          "yaxis": {
           "automargin": true,
           "gridcolor": "white",
           "linecolor": "white",
           "ticks": "",
           "title": {
            "standoff": 15
           },
           "zerolinecolor": "white",
           "zerolinewidth": 2
          }
         }
        }
       }
      },
      "text/html": [
       "<div>\n",
       "        \n",
       "        \n",
       "            <div id=\"81156c7e-4b60-4350-ab89-bd6291effeb0\" class=\"plotly-graph-div\" style=\"height:525px; width:100%;\"></div>\n",
       "            <script type=\"text/javascript\">\n",
       "                require([\"plotly\"], function(Plotly) {\n",
       "                    window.PLOTLYENV=window.PLOTLYENV || {};\n",
       "                    \n",
       "                if (document.getElementById(\"81156c7e-4b60-4350-ab89-bd6291effeb0\")) {\n",
       "                    Plotly.newPlot(\n",
       "                        '81156c7e-4b60-4350-ab89-bd6291effeb0',\n",
       "                        [{\"hovertemplate\": \"%{y}\", \"line\": {\"shape\": \"hv\"}, \"name\": \"\\u03b2\", \"type\": \"scatter\", \"x\": [0, 1, 2, 3, 4, 5, 6, 7, 8, 9, 10, 11, 12, 13, 14, 15, 16, 17, 18, 19, 20, 21, 22, 23, 24, 25, 26, 27, 28, 29, 30, 31, 32, 33, 34, 35, 36, 37, 38, 39, 40, 41, 42, 43, 44, 45, 46, 47, 48, 49, 50, 51, 52, 53, 54, 55, 56, 57, 58, 59, 60, 61, 62, 63, 64, 65, 66, 67, 68, 69, 70, 71, 72, 73, 74, 75, 76, 77, 78, 79, 80, 81, 82, 83, 84, 85, 86, 87, 88, 89, 90, 91, 92, 93, 94, 95, 96, 97, 98, 99], \"y\": [0.15, 0.15, 0.15, 0.15, 0.15, 0.15, 0.15, 0.195, 0.195, 0.195, 0.195, 0.195, 0.195, 0.195, 0.195, 0.195, 0.195, 0.195, 0.195, 0.195, 0.195, 0.195, 0.195, 0.195, 0.195, 0.2535, 0.2535, 0.2535, 0.2535, 0.2535, 0.2535, 0.2535, 0.32955, 0.32955, 0.32955, 0.32955, 0.32955, 0.32955, 0.32955, 0.32955, 0.32955, 0.230685, 0.230685, 0.230685, 0.230685, 0.230685, 0.11303564999999999, 0.11303564999999999, 0.11303564999999999, 0.11303564999999999, 0.07912495499999998, 0.07912495499999998, 0.07912495499999998, 0.07912495499999998, 0.07912495499999998, 0.07912495499999998, 0.07912495499999998, 0.07912495499999998, 0.07912495499999998, 0.07912495499999998, 0.07912495499999998, 0.07912495499999998, 0.07912495499999998, 0.07912495499999998, 0.07912495499999998, 0.07912495499999998, 0.05538746849999998, 0.05538746849999998, 0.05538746849999998, 0.05538746849999998, 0.05538746849999998, 0.05538746849999998, 0.05538746849999998, 0.05538746849999998, 0.07200370904999998, 0.07200370904999998, 0.07200370904999998, 0.07200370904999998, 0.07200370904999998, 0.07200370904999998, 0.07200370904999998, 0.07200370904999998, 0.07200370904999998, 0.07200370904999998, 0.07200370904999998, 0.07200370904999998, 0.07200370904999998, 0.07200370904999998, 0.07200370904999998, 0.07200370904999998, 0.07200370904999998, 0.07200370904999998, 0.06552337523549998, 0.06552337523549998, 0.06552337523549998, 0.06552337523549998, 0.08518038780614998, 0.08518038780614998, 0.08518038780614998, 0.08518038780614998]}, {\"hovertemplate\": \"%{y}\", \"line\": {\"shape\": \"hv\"}, \"name\": \"\\u03b3\", \"type\": \"scatter\", \"x\": [0, 1, 2, 3, 4, 5, 6, 7, 8, 9, 10, 11, 12, 13, 14, 15, 16, 17, 18, 19, 20, 21, 22, 23, 24, 25, 26, 27, 28, 29, 30, 31, 32, 33, 34, 35, 36, 37, 38, 39, 40, 41, 42, 43, 44, 45, 46, 47, 48, 49, 50, 51, 52, 53, 54, 55, 56, 57, 58, 59, 60, 61, 62, 63, 64, 65, 66, 67, 68, 69, 70, 71, 72, 73, 74, 75, 76, 77, 78, 79, 80, 81, 82, 83, 84, 85, 86, 87, 88, 89, 90, 91, 92, 93, 94, 95, 96, 97, 98, 99], \"y\": [0.03, 0.03, 0.03, 0.03, 0.03, 0.03, 0.03, 0.0303, 0.0303, 0.0303, 0.0303, 0.0303, 0.0303, 0.0303, 0.0303, 0.0303, 0.0303, 0.0303, 0.0303, 0.0303, 0.0303, 0.0303, 0.0303, 0.0303, 0.0303, 0.030602999999999998, 0.030602999999999998, 0.030602999999999998, 0.030602999999999998, 0.030602999999999998, 0.030602999999999998, 0.030602999999999998, 0.030909029999999997, 0.030909029999999997, 0.030909029999999997, 0.030909029999999997, 0.030909029999999997, 0.030909029999999997, 0.030909029999999997, 0.030909029999999997, 0.030909029999999997, 0.03059993969999999, 0.03059993969999999, 0.03059993969999999, 0.03059993969999999, 0.03059993969999999, 0.029991000899969988, 0.029991000899969988, 0.029991000899969988, 0.029991000899969988, 0.02969109089097029, 0.02969109089097029, 0.02969109089097029, 0.02969109089097029, 0.02969109089097029, 0.02969109089097029, 0.02969109089097029, 0.02969109089097029, 0.02969109089097029, 0.02969109089097029, 0.02969109089097029, 0.02969109089097029, 0.02969109089097029, 0.02969109089097029, 0.02969109089097029, 0.02969109089097029, 0.02939417998206059, 0.02939417998206059, 0.02939417998206059, 0.02939417998206059, 0.02939417998206059, 0.02939417998206059, 0.02939417998206059, 0.02939417998206059, 0.029688121781881193, 0.029688121781881193, 0.029688121781881193, 0.029688121781881193, 0.029688121781881193, 0.029688121781881193, 0.029688121781881193, 0.029688121781881193, 0.029688121781881193, 0.029688121781881193, 0.029688121781881193, 0.029688121781881193, 0.029688121781881193, 0.029688121781881193, 0.029688121781881193, 0.029688121781881193, 0.029688121781881193, 0.029688121781881193, 0.029685152969703005, 0.029685152969703005, 0.029685152969703005, 0.029685152969703005, 0.029982004499400035, 0.029982004499400035, 0.029982004499400035, 0.029982004499400035]}, {\"hovertemplate\": \"%{y}\", \"line\": {\"shape\": \"hv\"}, \"name\": \"\\u03b8\", \"type\": \"scatter\", \"x\": [0, 1, 2, 3, 4, 5, 6, 7, 8, 9, 10, 11, 12, 13, 14, 15, 16, 17, 18, 19, 20, 21, 22, 23, 24, 25, 26, 27, 28, 29, 30, 31, 32, 33, 34, 35, 36, 37, 38, 39, 40, 41, 42, 43, 44, 45, 46, 47, 48, 49, 50, 51, 52, 53, 54, 55, 56, 57, 58, 59, 60, 61, 62, 63, 64, 65, 66, 67, 68, 69, 70, 71, 72, 73, 74, 75, 76, 77, 78, 79, 80, 81, 82, 83, 84, 85, 86, 87, 88, 89, 90, 91, 92, 93, 94, 95, 96, 97, 98, 99], \"y\": [0.06, 0.06, 0.06, 0.06, 0.06, 0.06, 0.06, 0.06, 0.06, 0.06, 0.048, 0.048, 0.048, 0.048, 0.048, 0.048, 0.048, 0.048, 0.048, 0.048, 0.048, 0.048, 0.048, 0.048, 0.048, 0.048, 0.048, 0.048, 0.048, 0.048, 0.048, 0.048, 0.048, 0.048, 0.048, 0.048, 0.048, 0.048, 0.048, 0.048, 0.048, 0.048, 0.048, 0.048, 0.048, 0.048, 0.048, 0.048, 0.048, 0.048, 0.048, 0.048, 0.048, 0.048, 0.048, 0.048, 0.048, 0.048, 0.048, 0.048, 0.048, 0.048, 0.048, 0.0576, 0.0576, 0.0576, 0.0576, 0.0576, 0.0576, 0.0576, 0.06911999999999999, 0.06911999999999999, 0.06911999999999999, 0.06911999999999999, 0.06911999999999999, 0.08294399999999999, 0.08294399999999999, 0.08294399999999999, 0.08294399999999999, 0.09953279999999998, 0.09953279999999998, 0.09953279999999998, 0.09953279999999998, 0.09953279999999998, 0.09953279999999998, 0.09953279999999998, 0.09953279999999998, 0.09953279999999998, 0.09953279999999998, 0.09953279999999998, 0.09953279999999998, 0.09953279999999998, 0.09953279999999998, 0.09953279999999998, 0.09953279999999998, 0.09953279999999998, 0.09953279999999998, 0.09953279999999998, 0.09953279999999998, 0.09953279999999998]}],\n",
       "                        {\"margin\": {\"b\": 0, \"l\": 0, \"r\": 150, \"t\": 25}, \"template\": {\"data\": {\"bar\": [{\"error_x\": {\"color\": \"#2a3f5f\"}, \"error_y\": {\"color\": \"#2a3f5f\"}, \"marker\": {\"line\": {\"color\": \"#E5ECF6\", \"width\": 0.5}}, \"type\": \"bar\"}], \"barpolar\": [{\"marker\": {\"line\": {\"color\": \"#E5ECF6\", \"width\": 0.5}}, \"type\": \"barpolar\"}], \"carpet\": [{\"aaxis\": {\"endlinecolor\": \"#2a3f5f\", \"gridcolor\": \"white\", \"linecolor\": \"white\", \"minorgridcolor\": \"white\", \"startlinecolor\": \"#2a3f5f\"}, \"baxis\": {\"endlinecolor\": \"#2a3f5f\", \"gridcolor\": \"white\", \"linecolor\": \"white\", \"minorgridcolor\": \"white\", \"startlinecolor\": \"#2a3f5f\"}, \"type\": \"carpet\"}], \"choropleth\": [{\"colorbar\": {\"outlinewidth\": 0, \"ticks\": \"\"}, \"type\": \"choropleth\"}], \"contour\": [{\"colorbar\": {\"outlinewidth\": 0, \"ticks\": \"\"}, \"colorscale\": [[0.0, \"#0d0887\"], [0.1111111111111111, \"#46039f\"], [0.2222222222222222, \"#7201a8\"], [0.3333333333333333, \"#9c179e\"], [0.4444444444444444, \"#bd3786\"], [0.5555555555555556, \"#d8576b\"], [0.6666666666666666, \"#ed7953\"], [0.7777777777777778, \"#fb9f3a\"], [0.8888888888888888, \"#fdca26\"], [1.0, \"#f0f921\"]], \"type\": \"contour\"}], \"contourcarpet\": [{\"colorbar\": {\"outlinewidth\": 0, \"ticks\": \"\"}, \"type\": \"contourcarpet\"}], \"heatmap\": [{\"colorbar\": {\"outlinewidth\": 0, \"ticks\": \"\"}, \"colorscale\": [[0.0, \"#0d0887\"], [0.1111111111111111, \"#46039f\"], [0.2222222222222222, \"#7201a8\"], [0.3333333333333333, \"#9c179e\"], [0.4444444444444444, \"#bd3786\"], [0.5555555555555556, \"#d8576b\"], [0.6666666666666666, \"#ed7953\"], [0.7777777777777778, \"#fb9f3a\"], [0.8888888888888888, \"#fdca26\"], [1.0, \"#f0f921\"]], \"type\": \"heatmap\"}], \"heatmapgl\": [{\"colorbar\": {\"outlinewidth\": 0, \"ticks\": \"\"}, \"colorscale\": [[0.0, \"#0d0887\"], [0.1111111111111111, \"#46039f\"], [0.2222222222222222, \"#7201a8\"], [0.3333333333333333, \"#9c179e\"], [0.4444444444444444, \"#bd3786\"], [0.5555555555555556, \"#d8576b\"], [0.6666666666666666, \"#ed7953\"], [0.7777777777777778, \"#fb9f3a\"], [0.8888888888888888, \"#fdca26\"], [1.0, \"#f0f921\"]], \"type\": \"heatmapgl\"}], \"histogram\": [{\"marker\": {\"colorbar\": {\"outlinewidth\": 0, \"ticks\": \"\"}}, \"type\": \"histogram\"}], \"histogram2d\": [{\"colorbar\": {\"outlinewidth\": 0, \"ticks\": \"\"}, \"colorscale\": [[0.0, \"#0d0887\"], [0.1111111111111111, \"#46039f\"], [0.2222222222222222, \"#7201a8\"], [0.3333333333333333, \"#9c179e\"], [0.4444444444444444, \"#bd3786\"], [0.5555555555555556, \"#d8576b\"], [0.6666666666666666, \"#ed7953\"], [0.7777777777777778, \"#fb9f3a\"], [0.8888888888888888, \"#fdca26\"], [1.0, \"#f0f921\"]], \"type\": \"histogram2d\"}], \"histogram2dcontour\": [{\"colorbar\": {\"outlinewidth\": 0, \"ticks\": \"\"}, \"colorscale\": [[0.0, \"#0d0887\"], [0.1111111111111111, \"#46039f\"], [0.2222222222222222, \"#7201a8\"], [0.3333333333333333, \"#9c179e\"], [0.4444444444444444, \"#bd3786\"], [0.5555555555555556, \"#d8576b\"], [0.6666666666666666, \"#ed7953\"], [0.7777777777777778, \"#fb9f3a\"], [0.8888888888888888, \"#fdca26\"], [1.0, \"#f0f921\"]], \"type\": \"histogram2dcontour\"}], \"mesh3d\": [{\"colorbar\": {\"outlinewidth\": 0, \"ticks\": \"\"}, \"type\": \"mesh3d\"}], \"parcoords\": [{\"line\": {\"colorbar\": {\"outlinewidth\": 0, \"ticks\": \"\"}}, \"type\": \"parcoords\"}], \"pie\": [{\"automargin\": true, \"type\": \"pie\"}], \"scatter\": [{\"marker\": {\"colorbar\": {\"outlinewidth\": 0, \"ticks\": \"\"}}, \"type\": \"scatter\"}], \"scatter3d\": [{\"line\": {\"colorbar\": {\"outlinewidth\": 0, \"ticks\": \"\"}}, \"marker\": {\"colorbar\": {\"outlinewidth\": 0, \"ticks\": \"\"}}, \"type\": \"scatter3d\"}], \"scattercarpet\": [{\"marker\": {\"colorbar\": {\"outlinewidth\": 0, \"ticks\": \"\"}}, \"type\": \"scattercarpet\"}], \"scattergeo\": [{\"marker\": {\"colorbar\": {\"outlinewidth\": 0, \"ticks\": \"\"}}, \"type\": \"scattergeo\"}], \"scattergl\": [{\"marker\": {\"colorbar\": {\"outlinewidth\": 0, \"ticks\": \"\"}}, \"type\": \"scattergl\"}], \"scattermapbox\": [{\"marker\": {\"colorbar\": {\"outlinewidth\": 0, \"ticks\": \"\"}}, \"type\": \"scattermapbox\"}], \"scatterpolar\": [{\"marker\": {\"colorbar\": {\"outlinewidth\": 0, \"ticks\": \"\"}}, \"type\": \"scatterpolar\"}], \"scatterpolargl\": [{\"marker\": {\"colorbar\": {\"outlinewidth\": 0, \"ticks\": \"\"}}, \"type\": \"scatterpolargl\"}], \"scatterternary\": [{\"marker\": {\"colorbar\": {\"outlinewidth\": 0, \"ticks\": \"\"}}, \"type\": \"scatterternary\"}], \"surface\": [{\"colorbar\": {\"outlinewidth\": 0, \"ticks\": \"\"}, \"colorscale\": [[0.0, \"#0d0887\"], [0.1111111111111111, \"#46039f\"], [0.2222222222222222, \"#7201a8\"], [0.3333333333333333, \"#9c179e\"], [0.4444444444444444, \"#bd3786\"], [0.5555555555555556, \"#d8576b\"], [0.6666666666666666, \"#ed7953\"], [0.7777777777777778, \"#fb9f3a\"], [0.8888888888888888, \"#fdca26\"], [1.0, \"#f0f921\"]], \"type\": \"surface\"}], \"table\": [{\"cells\": {\"fill\": {\"color\": \"#EBF0F8\"}, \"line\": {\"color\": \"white\"}}, \"header\": {\"fill\": {\"color\": \"#C8D4E3\"}, \"line\": {\"color\": \"white\"}}, \"type\": \"table\"}]}, \"layout\": {\"annotationdefaults\": {\"arrowcolor\": \"#2a3f5f\", \"arrowhead\": 0, \"arrowwidth\": 1}, \"coloraxis\": {\"colorbar\": {\"outlinewidth\": 0, \"ticks\": \"\"}}, \"colorscale\": {\"diverging\": [[0, \"#8e0152\"], [0.1, \"#c51b7d\"], [0.2, \"#de77ae\"], [0.3, \"#f1b6da\"], [0.4, \"#fde0ef\"], [0.5, \"#f7f7f7\"], [0.6, \"#e6f5d0\"], [0.7, \"#b8e186\"], [0.8, \"#7fbc41\"], [0.9, \"#4d9221\"], [1, \"#276419\"]], \"sequential\": [[0.0, \"#0d0887\"], [0.1111111111111111, \"#46039f\"], [0.2222222222222222, \"#7201a8\"], [0.3333333333333333, \"#9c179e\"], [0.4444444444444444, \"#bd3786\"], [0.5555555555555556, \"#d8576b\"], [0.6666666666666666, \"#ed7953\"], [0.7777777777777778, \"#fb9f3a\"], [0.8888888888888888, \"#fdca26\"], [1.0, \"#f0f921\"]], \"sequentialminus\": [[0.0, \"#0d0887\"], [0.1111111111111111, \"#46039f\"], [0.2222222222222222, \"#7201a8\"], [0.3333333333333333, \"#9c179e\"], [0.4444444444444444, \"#bd3786\"], [0.5555555555555556, \"#d8576b\"], [0.6666666666666666, \"#ed7953\"], [0.7777777777777778, \"#fb9f3a\"], [0.8888888888888888, \"#fdca26\"], [1.0, \"#f0f921\"]]}, \"colorway\": [\"#636efa\", \"#EF553B\", \"#00cc96\", \"#ab63fa\", \"#FFA15A\", \"#19d3f3\", \"#FF6692\", \"#B6E880\", \"#FF97FF\", \"#FECB52\"], \"font\": {\"color\": \"#2a3f5f\"}, \"geo\": {\"bgcolor\": \"white\", \"lakecolor\": \"white\", \"landcolor\": \"#E5ECF6\", \"showlakes\": true, \"showland\": true, \"subunitcolor\": \"white\"}, \"hoverlabel\": {\"align\": \"left\"}, \"hovermode\": \"closest\", \"mapbox\": {\"style\": \"light\"}, \"paper_bgcolor\": \"white\", \"plot_bgcolor\": \"#E5ECF6\", \"polar\": {\"angularaxis\": {\"gridcolor\": \"white\", \"linecolor\": \"white\", \"ticks\": \"\"}, \"bgcolor\": \"#E5ECF6\", \"radialaxis\": {\"gridcolor\": \"white\", \"linecolor\": \"white\", \"ticks\": \"\"}}, \"scene\": {\"xaxis\": {\"backgroundcolor\": \"#E5ECF6\", \"gridcolor\": \"white\", \"gridwidth\": 2, \"linecolor\": \"white\", \"showbackground\": true, \"ticks\": \"\", \"zerolinecolor\": \"white\"}, \"yaxis\": {\"backgroundcolor\": \"#E5ECF6\", \"gridcolor\": \"white\", \"gridwidth\": 2, \"linecolor\": \"white\", \"showbackground\": true, \"ticks\": \"\", \"zerolinecolor\": \"white\"}, \"zaxis\": {\"backgroundcolor\": \"#E5ECF6\", \"gridcolor\": \"white\", \"gridwidth\": 2, \"linecolor\": \"white\", \"showbackground\": true, \"ticks\": \"\", \"zerolinecolor\": \"white\"}}, \"shapedefaults\": {\"line\": {\"color\": \"#2a3f5f\"}}, \"ternary\": {\"aaxis\": {\"gridcolor\": \"white\", \"linecolor\": \"white\", \"ticks\": \"\"}, \"baxis\": {\"gridcolor\": \"white\", \"linecolor\": \"white\", \"ticks\": \"\"}, \"bgcolor\": \"#E5ECF6\", \"caxis\": {\"gridcolor\": \"white\", \"linecolor\": \"white\", \"ticks\": \"\"}}, \"title\": {\"x\": 0.05}, \"xaxis\": {\"automargin\": true, \"gridcolor\": \"white\", \"linecolor\": \"white\", \"ticks\": \"\", \"title\": {\"standoff\": 15}, \"zerolinecolor\": \"white\", \"zerolinewidth\": 2}, \"yaxis\": {\"automargin\": true, \"gridcolor\": \"white\", \"linecolor\": \"white\", \"ticks\": \"\", \"title\": {\"standoff\": 15}, \"zerolinecolor\": \"white\", \"zerolinewidth\": 2}}}},\n",
       "                        {\"responsive\": true}\n",
       "                    ).then(function(){\n",
       "                            \n",
       "var gd = document.getElementById('81156c7e-4b60-4350-ab89-bd6291effeb0');\n",
       "var x = new MutationObserver(function (mutations, observer) {{\n",
       "        var display = window.getComputedStyle(gd).display;\n",
       "        if (!display || display === 'none') {{\n",
       "            console.log([gd, 'removed!']);\n",
       "            Plotly.purge(gd);\n",
       "            observer.disconnect();\n",
       "        }}\n",
       "}});\n",
       "\n",
       "// Listen for the removal of the full notebook cells\n",
       "var notebookContainer = gd.closest('#notebook-container');\n",
       "if (notebookContainer) {{\n",
       "    x.observe(notebookContainer, {childList: true});\n",
       "}}\n",
       "\n",
       "// Listen for the clearing of the current output cell\n",
       "var outputEl = gd.closest('.output');\n",
       "if (outputEl) {{\n",
       "    x.observe(outputEl, {childList: true});\n",
       "}}\n",
       "\n",
       "                        })\n",
       "                };\n",
       "                });\n",
       "            </script>\n",
       "        </div>"
      ]
     },
     "metadata": {},
     "output_type": "display_data"
    },
    {
     "data": {
      "text/plain": []
     },
     "execution_count": 185,
     "metadata": {},
     "output_type": "execute_result"
    }
   ],
   "source": [
    "T = 100\n",
    "beta = JumpProcess(5, 0.3, 10, T, 0)\n",
    "gamma = JumpProcess(1, 0.01, 10, T, 0)\n",
    "theta = JumpProcess(2, 0.2, 20, T, 1)\n",
    "dynamic = SIRQt(beta.value, gamma.value, theta.value, 0.03)\n",
    "dynamic"
   ]
  },
  {
   "cell_type": "code",
   "execution_count": 186,
   "metadata": {},
   "outputs": [
    {
     "data": {
      "application/vnd.plotly.v1+json": {
       "config": {
        "plotlyServerURL": "https://plot.ly"
       },
       "data": [
        {
         "hovertemplate": "%{y}",
         "name": "Susceptible",
         "type": "scatter",
         "x": [
          0,
          1,
          2,
          3,
          4,
          5,
          6,
          7,
          8,
          9,
          10,
          11,
          12,
          13,
          14,
          15,
          16,
          17,
          18,
          19,
          20,
          21,
          22,
          23,
          24,
          25,
          26,
          27,
          28,
          29,
          30,
          31,
          32,
          33,
          34,
          35,
          36,
          37,
          38,
          39,
          40,
          41,
          42,
          43,
          44,
          45,
          46,
          47,
          48,
          49,
          50,
          51,
          52,
          53,
          54,
          55,
          56,
          57,
          58,
          59,
          60,
          61,
          62,
          63,
          64,
          65,
          66,
          67,
          68,
          69,
          70,
          71,
          72,
          73,
          74,
          75,
          76,
          77,
          78,
          79,
          80,
          81,
          82,
          83,
          84,
          85,
          86,
          87,
          88,
          89,
          90,
          91,
          92,
          93,
          94,
          95,
          96,
          97,
          98,
          99,
          100
         ],
         "y": [
          99000,
          98851,
          98694,
          98528,
          98353,
          98168,
          97973,
          97767,
          97484,
          97174,
          96835,
          96463,
          96051,
          95596,
          95094,
          94540,
          93931,
          93262,
          92527,
          91723,
          90845,
          89887,
          88846,
          87717,
          86496,
          85181,
          83346,
          81303,
          79046,
          76571,
          73882,
          70988,
          67906,
          63683,
          59150,
          54388,
          49501,
          44607,
          39826,
          35266,
          31017,
          27141,
          24711,
          22534,
          20592,
          18864,
          17331,
          16665,
          16062,
          15515,
          15018,
          14702,
          14413,
          14148,
          13905,
          13683,
          13478,
          13290,
          13117,
          12958,
          12812,
          12676,
          12552,
          12436,
          12330,
          12233,
          12144,
          12087,
          12034,
          11986,
          11943,
          11902,
          11866,
          11833,
          11803,
          11768,
          11737,
          11708,
          11683,
          11660,
          11640,
          11622,
          11606,
          11592,
          11580,
          11570,
          11561,
          11552,
          11545,
          11539,
          11533,
          11528,
          11524,
          11521,
          11518,
          11515,
          11513,
          11510,
          11508,
          11506,
          11504
         ]
        },
        {
         "hovertemplate": "%{y}",
         "name": "Infectious",
         "type": "scatter",
         "x": [
          0,
          1,
          2,
          3,
          4,
          5,
          6,
          7,
          8,
          9,
          10,
          11,
          12,
          13,
          14,
          15,
          16,
          17,
          18,
          19,
          20,
          21,
          22,
          23,
          24,
          25,
          26,
          27,
          28,
          29,
          30,
          31,
          32,
          33,
          34,
          35,
          36,
          37,
          38,
          39,
          40,
          41,
          42,
          43,
          44,
          45,
          46,
          47,
          48,
          49,
          50,
          51,
          52,
          53,
          54,
          55,
          56,
          57,
          58,
          59,
          60,
          61,
          62,
          63,
          64,
          65,
          66,
          67,
          68,
          69,
          70,
          71,
          72,
          73,
          74,
          75,
          76,
          77,
          78,
          79,
          80,
          81,
          82,
          83,
          84,
          85,
          86,
          87,
          88,
          89,
          90,
          91,
          92,
          93,
          94,
          95,
          96,
          97,
          98,
          99,
          100
         ],
         "y": [
          1000,
          1058,
          1120,
          1185,
          1253,
          1325,
          1401,
          1481,
          1630,
          1792,
          1970,
          2188,
          2428,
          2693,
          2984,
          3304,
          3655,
          4038,
          4456,
          4911,
          5405,
          5940,
          6516,
          7134,
          7796,
          8501,
          9668,
          10951,
          12347,
          13851,
          15451,
          17131,
          18867,
          21600,
          24429,
          27264,
          29999,
          32526,
          34740,
          36559,
          37923,
          38807,
          38186,
          37362,
          36367,
          35236,
          34000,
          32015,
          30121,
          28318,
          26606,
          24856,
          23214,
          21675,
          20233,
          18884,
          17621,
          16440,
          15336,
          14304,
          13339,
          12438,
          11596,
          10810,
          9973,
          9200,
          8486,
          7805,
          7178,
          6601,
          6071,
          5513,
          5006,
          4546,
          4128,
          3755,
          3364,
          3013,
          2699,
          2418,
          2126,
          1869,
          1643,
          1444,
          1270,
          1116,
          981,
          862,
          758,
          666,
          586,
          515,
          453,
          397,
          349,
          306,
          269,
          237,
          208,
          183,
          161
         ]
        },
        {
         "hovertemplate": "%{y}",
         "name": "Removed",
         "type": "scatter",
         "x": [
          0,
          1,
          2,
          3,
          4,
          5,
          6,
          7,
          8,
          9,
          10,
          11,
          12,
          13,
          14,
          15,
          16,
          17,
          18,
          19,
          20,
          21,
          22,
          23,
          24,
          25,
          26,
          27,
          28,
          29,
          30,
          31,
          32,
          33,
          34,
          35,
          36,
          37,
          38,
          39,
          40,
          41,
          42,
          43,
          44,
          45,
          46,
          47,
          48,
          49,
          50,
          51,
          52,
          53,
          54,
          55,
          56,
          57,
          58,
          59,
          60,
          61,
          62,
          63,
          64,
          65,
          66,
          67,
          68,
          69,
          70,
          71,
          72,
          73,
          74,
          75,
          76,
          77,
          78,
          79,
          80,
          81,
          82,
          83,
          84,
          85,
          86,
          87,
          88,
          89,
          90,
          91,
          92,
          93,
          94,
          95,
          96,
          97,
          98,
          99,
          100
         ],
         "y": [
          0,
          30,
          61,
          95,
          130,
          168,
          208,
          250,
          295,
          344,
          398,
          458,
          524,
          598,
          680,
          770,
          870,
          981,
          1103,
          1238,
          1387,
          1551,
          1731,
          1928,
          2145,
          2381,
          2641,
          2937,
          3272,
          3650,
          4074,
          4547,
          5071,
          5654,
          6322,
          7077,
          7920,
          8847,
          9852,
          10926,
          12056,
          13228,
          14416,
          15584,
          16728,
          17840,
          18919,
          19938,
          20899,
          21802,
          22651,
          23441,
          24179,
          24868,
          25512,
          26113,
          26674,
          27197,
          27685,
          28140,
          28565,
          28961,
          29330,
          29675,
          29996,
          30292,
          30565,
          30814,
          31044,
          31255,
          31449,
          31627,
          31789,
          31937,
          32070,
          32193,
          32304,
          32404,
          32494,
          32574,
          32646,
          32709,
          32764,
          32813,
          32856,
          32893,
          32927,
          32956,
          32981,
          33004,
          33024,
          33041,
          33056,
          33070,
          33082,
          33092,
          33101,
          33109,
          33116,
          33123,
          33128
         ]
        },
        {
         "hovertemplate": "%{y}",
         "name": "Quarantined",
         "type": "scatter",
         "x": [
          0,
          1,
          2,
          3,
          4,
          5,
          6,
          7,
          8,
          9,
          10,
          11,
          12,
          13,
          14,
          15,
          16,
          17,
          18,
          19,
          20,
          21,
          22,
          23,
          24,
          25,
          26,
          27,
          28,
          29,
          30,
          31,
          32,
          33,
          34,
          35,
          36,
          37,
          38,
          39,
          40,
          41,
          42,
          43,
          44,
          45,
          46,
          47,
          48,
          49,
          50,
          51,
          52,
          53,
          54,
          55,
          56,
          57,
          58,
          59,
          60,
          61,
          62,
          63,
          64,
          65,
          66,
          67,
          68,
          69,
          70,
          71,
          72,
          73,
          74,
          75,
          76,
          77,
          78,
          79,
          80,
          81,
          82,
          83,
          84,
          85,
          86,
          87,
          88,
          89,
          90,
          91,
          92,
          93,
          94,
          95,
          96,
          97,
          98,
          99,
          100
         ],
         "y": [
          0,
          60,
          123,
          190,
          261,
          337,
          416,
          500,
          589,
          687,
          794,
          889,
          994,
          1111,
          1240,
          1383,
          1542,
          1717,
          1911,
          2125,
          2361,
          2620,
          2906,
          3218,
          3561,
          3935,
          4343,
          4807,
          5333,
          5926,
          6590,
          7332,
          8154,
          9060,
          10097,
          11270,
          12578,
          14018,
          15579,
          17247,
          19002,
          20822,
          22685,
          24518,
          26311,
          28057,
          29748,
          31380,
          32917,
          34363,
          35722,
          36999,
          38192,
          39307,
          40347,
          41318,
          42225,
          43071,
          43860,
          44596,
          45283,
          45923,
          46520,
          47077,
          47699,
          48274,
          48804,
          49292,
          49742,
          50156,
          50536,
          50955,
          51336,
          51683,
          51997,
          52282,
          52594,
          52873,
          53123,
          53347,
          53587,
          53799,
          53985,
          54148,
          54292,
          54419,
          54530,
          54627,
          54713,
          54789,
          54855,
          54914,
          54965,
          55010,
          55050,
          55084,
          55115,
          55142,
          55165,
          55186,
          55204
         ]
        },
        {
         "hovertemplate": "%{y}",
         "marker": {
          "symbol": 1
         },
         "mode": "markers",
         "name": "Estimated",
         "type": "scatter",
         "x": [
          10,
          20,
          30,
          40,
          50,
          60,
          70,
          80,
          90
         ],
         "y": [
          2000,
          5700,
          14199.999999999998,
          36000,
          26800,
          13400,
          6000,
          2700,
          899.9999999999999
         ]
        },
        {
         "hovertemplate": "%{y}",
         "marker": {
          "symbol": 3
         },
         "mode": "markers",
         "name": "Resisted",
         "type": "scatter",
         "x": [
          10,
          20,
          30,
          40,
          50,
          60,
          70,
          80,
          90
         ],
         "y": [
          99.205,
          781.104,
          3642.951,
          11663.568,
          20890.025,
          28288.172000000002,
          32546.654000000002,
          31235.276,
          33496.848
         ]
        },
        {
         "hovertemplate": "%{y}",
         "marker": {
          "symbol": 2
         },
         "mode": "markers",
         "name": "Confirmed",
         "type": "scatter",
         "x": [
          10,
          20,
          30,
          40,
          50,
          60,
          70,
          80,
          90
         ],
         "y": [
          753,
          2439,
          6540,
          18878,
          35718,
          45328,
          50593,
          53242,
          54990
         ]
        }
       ],
       "layout": {
        "margin": {
         "b": 0,
         "l": 0,
         "r": 150,
         "t": 25
        },
        "template": {
         "data": {
          "bar": [
           {
            "error_x": {
             "color": "#2a3f5f"
            },
            "error_y": {
             "color": "#2a3f5f"
            },
            "marker": {
             "line": {
              "color": "#E5ECF6",
              "width": 0.5
             }
            },
            "type": "bar"
           }
          ],
          "barpolar": [
           {
            "marker": {
             "line": {
              "color": "#E5ECF6",
              "width": 0.5
             }
            },
            "type": "barpolar"
           }
          ],
          "carpet": [
           {
            "aaxis": {
             "endlinecolor": "#2a3f5f",
             "gridcolor": "white",
             "linecolor": "white",
             "minorgridcolor": "white",
             "startlinecolor": "#2a3f5f"
            },
            "baxis": {
             "endlinecolor": "#2a3f5f",
             "gridcolor": "white",
             "linecolor": "white",
             "minorgridcolor": "white",
             "startlinecolor": "#2a3f5f"
            },
            "type": "carpet"
           }
          ],
          "choropleth": [
           {
            "colorbar": {
             "outlinewidth": 0,
             "ticks": ""
            },
            "type": "choropleth"
           }
          ],
          "contour": [
           {
            "colorbar": {
             "outlinewidth": 0,
             "ticks": ""
            },
            "colorscale": [
             [
              0,
              "#0d0887"
             ],
             [
              0.1111111111111111,
              "#46039f"
             ],
             [
              0.2222222222222222,
              "#7201a8"
             ],
             [
              0.3333333333333333,
              "#9c179e"
             ],
             [
              0.4444444444444444,
              "#bd3786"
             ],
             [
              0.5555555555555556,
              "#d8576b"
             ],
             [
              0.6666666666666666,
              "#ed7953"
             ],
             [
              0.7777777777777778,
              "#fb9f3a"
             ],
             [
              0.8888888888888888,
              "#fdca26"
             ],
             [
              1,
              "#f0f921"
             ]
            ],
            "type": "contour"
           }
          ],
          "contourcarpet": [
           {
            "colorbar": {
             "outlinewidth": 0,
             "ticks": ""
            },
            "type": "contourcarpet"
           }
          ],
          "heatmap": [
           {
            "colorbar": {
             "outlinewidth": 0,
             "ticks": ""
            },
            "colorscale": [
             [
              0,
              "#0d0887"
             ],
             [
              0.1111111111111111,
              "#46039f"
             ],
             [
              0.2222222222222222,
              "#7201a8"
             ],
             [
              0.3333333333333333,
              "#9c179e"
             ],
             [
              0.4444444444444444,
              "#bd3786"
             ],
             [
              0.5555555555555556,
              "#d8576b"
             ],
             [
              0.6666666666666666,
              "#ed7953"
             ],
             [
              0.7777777777777778,
              "#fb9f3a"
             ],
             [
              0.8888888888888888,
              "#fdca26"
             ],
             [
              1,
              "#f0f921"
             ]
            ],
            "type": "heatmap"
           }
          ],
          "heatmapgl": [
           {
            "colorbar": {
             "outlinewidth": 0,
             "ticks": ""
            },
            "colorscale": [
             [
              0,
              "#0d0887"
             ],
             [
              0.1111111111111111,
              "#46039f"
             ],
             [
              0.2222222222222222,
              "#7201a8"
             ],
             [
              0.3333333333333333,
              "#9c179e"
             ],
             [
              0.4444444444444444,
              "#bd3786"
             ],
             [
              0.5555555555555556,
              "#d8576b"
             ],
             [
              0.6666666666666666,
              "#ed7953"
             ],
             [
              0.7777777777777778,
              "#fb9f3a"
             ],
             [
              0.8888888888888888,
              "#fdca26"
             ],
             [
              1,
              "#f0f921"
             ]
            ],
            "type": "heatmapgl"
           }
          ],
          "histogram": [
           {
            "marker": {
             "colorbar": {
              "outlinewidth": 0,
              "ticks": ""
             }
            },
            "type": "histogram"
           }
          ],
          "histogram2d": [
           {
            "colorbar": {
             "outlinewidth": 0,
             "ticks": ""
            },
            "colorscale": [
             [
              0,
              "#0d0887"
             ],
             [
              0.1111111111111111,
              "#46039f"
             ],
             [
              0.2222222222222222,
              "#7201a8"
             ],
             [
              0.3333333333333333,
              "#9c179e"
             ],
             [
              0.4444444444444444,
              "#bd3786"
             ],
             [
              0.5555555555555556,
              "#d8576b"
             ],
             [
              0.6666666666666666,
              "#ed7953"
             ],
             [
              0.7777777777777778,
              "#fb9f3a"
             ],
             [
              0.8888888888888888,
              "#fdca26"
             ],
             [
              1,
              "#f0f921"
             ]
            ],
            "type": "histogram2d"
           }
          ],
          "histogram2dcontour": [
           {
            "colorbar": {
             "outlinewidth": 0,
             "ticks": ""
            },
            "colorscale": [
             [
              0,
              "#0d0887"
             ],
             [
              0.1111111111111111,
              "#46039f"
             ],
             [
              0.2222222222222222,
              "#7201a8"
             ],
             [
              0.3333333333333333,
              "#9c179e"
             ],
             [
              0.4444444444444444,
              "#bd3786"
             ],
             [
              0.5555555555555556,
              "#d8576b"
             ],
             [
              0.6666666666666666,
              "#ed7953"
             ],
             [
              0.7777777777777778,
              "#fb9f3a"
             ],
             [
              0.8888888888888888,
              "#fdca26"
             ],
             [
              1,
              "#f0f921"
             ]
            ],
            "type": "histogram2dcontour"
           }
          ],
          "mesh3d": [
           {
            "colorbar": {
             "outlinewidth": 0,
             "ticks": ""
            },
            "type": "mesh3d"
           }
          ],
          "parcoords": [
           {
            "line": {
             "colorbar": {
              "outlinewidth": 0,
              "ticks": ""
             }
            },
            "type": "parcoords"
           }
          ],
          "pie": [
           {
            "automargin": true,
            "type": "pie"
           }
          ],
          "scatter": [
           {
            "marker": {
             "colorbar": {
              "outlinewidth": 0,
              "ticks": ""
             }
            },
            "type": "scatter"
           }
          ],
          "scatter3d": [
           {
            "line": {
             "colorbar": {
              "outlinewidth": 0,
              "ticks": ""
             }
            },
            "marker": {
             "colorbar": {
              "outlinewidth": 0,
              "ticks": ""
             }
            },
            "type": "scatter3d"
           }
          ],
          "scattercarpet": [
           {
            "marker": {
             "colorbar": {
              "outlinewidth": 0,
              "ticks": ""
             }
            },
            "type": "scattercarpet"
           }
          ],
          "scattergeo": [
           {
            "marker": {
             "colorbar": {
              "outlinewidth": 0,
              "ticks": ""
             }
            },
            "type": "scattergeo"
           }
          ],
          "scattergl": [
           {
            "marker": {
             "colorbar": {
              "outlinewidth": 0,
              "ticks": ""
             }
            },
            "type": "scattergl"
           }
          ],
          "scattermapbox": [
           {
            "marker": {
             "colorbar": {
              "outlinewidth": 0,
              "ticks": ""
             }
            },
            "type": "scattermapbox"
           }
          ],
          "scatterpolar": [
           {
            "marker": {
             "colorbar": {
              "outlinewidth": 0,
              "ticks": ""
             }
            },
            "type": "scatterpolar"
           }
          ],
          "scatterpolargl": [
           {
            "marker": {
             "colorbar": {
              "outlinewidth": 0,
              "ticks": ""
             }
            },
            "type": "scatterpolargl"
           }
          ],
          "scatterternary": [
           {
            "marker": {
             "colorbar": {
              "outlinewidth": 0,
              "ticks": ""
             }
            },
            "type": "scatterternary"
           }
          ],
          "surface": [
           {
            "colorbar": {
             "outlinewidth": 0,
             "ticks": ""
            },
            "colorscale": [
             [
              0,
              "#0d0887"
             ],
             [
              0.1111111111111111,
              "#46039f"
             ],
             [
              0.2222222222222222,
              "#7201a8"
             ],
             [
              0.3333333333333333,
              "#9c179e"
             ],
             [
              0.4444444444444444,
              "#bd3786"
             ],
             [
              0.5555555555555556,
              "#d8576b"
             ],
             [
              0.6666666666666666,
              "#ed7953"
             ],
             [
              0.7777777777777778,
              "#fb9f3a"
             ],
             [
              0.8888888888888888,
              "#fdca26"
             ],
             [
              1,
              "#f0f921"
             ]
            ],
            "type": "surface"
           }
          ],
          "table": [
           {
            "cells": {
             "fill": {
              "color": "#EBF0F8"
             },
             "line": {
              "color": "white"
             }
            },
            "header": {
             "fill": {
              "color": "#C8D4E3"
             },
             "line": {
              "color": "white"
             }
            },
            "type": "table"
           }
          ]
         },
         "layout": {
          "annotationdefaults": {
           "arrowcolor": "#2a3f5f",
           "arrowhead": 0,
           "arrowwidth": 1
          },
          "coloraxis": {
           "colorbar": {
            "outlinewidth": 0,
            "ticks": ""
           }
          },
          "colorscale": {
           "diverging": [
            [
             0,
             "#8e0152"
            ],
            [
             0.1,
             "#c51b7d"
            ],
            [
             0.2,
             "#de77ae"
            ],
            [
             0.3,
             "#f1b6da"
            ],
            [
             0.4,
             "#fde0ef"
            ],
            [
             0.5,
             "#f7f7f7"
            ],
            [
             0.6,
             "#e6f5d0"
            ],
            [
             0.7,
             "#b8e186"
            ],
            [
             0.8,
             "#7fbc41"
            ],
            [
             0.9,
             "#4d9221"
            ],
            [
             1,
             "#276419"
            ]
           ],
           "sequential": [
            [
             0,
             "#0d0887"
            ],
            [
             0.1111111111111111,
             "#46039f"
            ],
            [
             0.2222222222222222,
             "#7201a8"
            ],
            [
             0.3333333333333333,
             "#9c179e"
            ],
            [
             0.4444444444444444,
             "#bd3786"
            ],
            [
             0.5555555555555556,
             "#d8576b"
            ],
            [
             0.6666666666666666,
             "#ed7953"
            ],
            [
             0.7777777777777778,
             "#fb9f3a"
            ],
            [
             0.8888888888888888,
             "#fdca26"
            ],
            [
             1,
             "#f0f921"
            ]
           ],
           "sequentialminus": [
            [
             0,
             "#0d0887"
            ],
            [
             0.1111111111111111,
             "#46039f"
            ],
            [
             0.2222222222222222,
             "#7201a8"
            ],
            [
             0.3333333333333333,
             "#9c179e"
            ],
            [
             0.4444444444444444,
             "#bd3786"
            ],
            [
             0.5555555555555556,
             "#d8576b"
            ],
            [
             0.6666666666666666,
             "#ed7953"
            ],
            [
             0.7777777777777778,
             "#fb9f3a"
            ],
            [
             0.8888888888888888,
             "#fdca26"
            ],
            [
             1,
             "#f0f921"
            ]
           ]
          },
          "colorway": [
           "#636efa",
           "#EF553B",
           "#00cc96",
           "#ab63fa",
           "#FFA15A",
           "#19d3f3",
           "#FF6692",
           "#B6E880",
           "#FF97FF",
           "#FECB52"
          ],
          "font": {
           "color": "#2a3f5f"
          },
          "geo": {
           "bgcolor": "white",
           "lakecolor": "white",
           "landcolor": "#E5ECF6",
           "showlakes": true,
           "showland": true,
           "subunitcolor": "white"
          },
          "hoverlabel": {
           "align": "left"
          },
          "hovermode": "closest",
          "mapbox": {
           "style": "light"
          },
          "paper_bgcolor": "white",
          "plot_bgcolor": "#E5ECF6",
          "polar": {
           "angularaxis": {
            "gridcolor": "white",
            "linecolor": "white",
            "ticks": ""
           },
           "bgcolor": "#E5ECF6",
           "radialaxis": {
            "gridcolor": "white",
            "linecolor": "white",
            "ticks": ""
           }
          },
          "scene": {
           "xaxis": {
            "backgroundcolor": "#E5ECF6",
            "gridcolor": "white",
            "gridwidth": 2,
            "linecolor": "white",
            "showbackground": true,
            "ticks": "",
            "zerolinecolor": "white"
           },
           "yaxis": {
            "backgroundcolor": "#E5ECF6",
            "gridcolor": "white",
            "gridwidth": 2,
            "linecolor": "white",
            "showbackground": true,
            "ticks": "",
            "zerolinecolor": "white"
           },
           "zaxis": {
            "backgroundcolor": "#E5ECF6",
            "gridcolor": "white",
            "gridwidth": 2,
            "linecolor": "white",
            "showbackground": true,
            "ticks": "",
            "zerolinecolor": "white"
           }
          },
          "shapedefaults": {
           "line": {
            "color": "#2a3f5f"
           }
          },
          "ternary": {
           "aaxis": {
            "gridcolor": "white",
            "linecolor": "white",
            "ticks": ""
           },
           "baxis": {
            "gridcolor": "white",
            "linecolor": "white",
            "ticks": ""
           },
           "bgcolor": "#E5ECF6",
           "caxis": {
            "gridcolor": "white",
            "linecolor": "white",
            "ticks": ""
           }
          },
          "title": {
           "x": 0.05
          },
          "xaxis": {
           "automargin": true,
           "gridcolor": "white",
           "linecolor": "white",
           "ticks": "",
           "title": {
            "standoff": 15
           },
           "zerolinecolor": "white",
           "zerolinewidth": 2
          },
          "yaxis": {
           "automargin": true,
           "gridcolor": "white",
           "linecolor": "white",
           "ticks": "",
           "title": {
            "standoff": 15
           },
           "zerolinecolor": "white",
           "zerolinewidth": 2
          }
         }
        }
       }
      },
      "text/html": [
       "<div>\n",
       "        \n",
       "        \n",
       "            <div id=\"4b13e635-b293-4a00-985d-9f310e86e32d\" class=\"plotly-graph-div\" style=\"height:525px; width:100%;\"></div>\n",
       "            <script type=\"text/javascript\">\n",
       "                require([\"plotly\"], function(Plotly) {\n",
       "                    window.PLOTLYENV=window.PLOTLYENV || {};\n",
       "                    \n",
       "                if (document.getElementById(\"4b13e635-b293-4a00-985d-9f310e86e32d\")) {\n",
       "                    Plotly.newPlot(\n",
       "                        '4b13e635-b293-4a00-985d-9f310e86e32d',\n",
       "                        [{\"hovertemplate\": \"%{y}\", \"name\": \"Susceptible\", \"type\": \"scatter\", \"x\": [0, 1, 2, 3, 4, 5, 6, 7, 8, 9, 10, 11, 12, 13, 14, 15, 16, 17, 18, 19, 20, 21, 22, 23, 24, 25, 26, 27, 28, 29, 30, 31, 32, 33, 34, 35, 36, 37, 38, 39, 40, 41, 42, 43, 44, 45, 46, 47, 48, 49, 50, 51, 52, 53, 54, 55, 56, 57, 58, 59, 60, 61, 62, 63, 64, 65, 66, 67, 68, 69, 70, 71, 72, 73, 74, 75, 76, 77, 78, 79, 80, 81, 82, 83, 84, 85, 86, 87, 88, 89, 90, 91, 92, 93, 94, 95, 96, 97, 98, 99, 100], \"y\": [99000, 98851, 98694, 98528, 98353, 98168, 97973, 97767, 97484, 97174, 96835, 96463, 96051, 95596, 95094, 94540, 93931, 93262, 92527, 91723, 90845, 89887, 88846, 87717, 86496, 85181, 83346, 81303, 79046, 76571, 73882, 70988, 67906, 63683, 59150, 54388, 49501, 44607, 39826, 35266, 31017, 27141, 24711, 22534, 20592, 18864, 17331, 16665, 16062, 15515, 15018, 14702, 14413, 14148, 13905, 13683, 13478, 13290, 13117, 12958, 12812, 12676, 12552, 12436, 12330, 12233, 12144, 12087, 12034, 11986, 11943, 11902, 11866, 11833, 11803, 11768, 11737, 11708, 11683, 11660, 11640, 11622, 11606, 11592, 11580, 11570, 11561, 11552, 11545, 11539, 11533, 11528, 11524, 11521, 11518, 11515, 11513, 11510, 11508, 11506, 11504]}, {\"hovertemplate\": \"%{y}\", \"name\": \"Infectious\", \"type\": \"scatter\", \"x\": [0, 1, 2, 3, 4, 5, 6, 7, 8, 9, 10, 11, 12, 13, 14, 15, 16, 17, 18, 19, 20, 21, 22, 23, 24, 25, 26, 27, 28, 29, 30, 31, 32, 33, 34, 35, 36, 37, 38, 39, 40, 41, 42, 43, 44, 45, 46, 47, 48, 49, 50, 51, 52, 53, 54, 55, 56, 57, 58, 59, 60, 61, 62, 63, 64, 65, 66, 67, 68, 69, 70, 71, 72, 73, 74, 75, 76, 77, 78, 79, 80, 81, 82, 83, 84, 85, 86, 87, 88, 89, 90, 91, 92, 93, 94, 95, 96, 97, 98, 99, 100], \"y\": [1000, 1058, 1120, 1185, 1253, 1325, 1401, 1481, 1630, 1792, 1970, 2188, 2428, 2693, 2984, 3304, 3655, 4038, 4456, 4911, 5405, 5940, 6516, 7134, 7796, 8501, 9668, 10951, 12347, 13851, 15451, 17131, 18867, 21600, 24429, 27264, 29999, 32526, 34740, 36559, 37923, 38807, 38186, 37362, 36367, 35236, 34000, 32015, 30121, 28318, 26606, 24856, 23214, 21675, 20233, 18884, 17621, 16440, 15336, 14304, 13339, 12438, 11596, 10810, 9973, 9200, 8486, 7805, 7178, 6601, 6071, 5513, 5006, 4546, 4128, 3755, 3364, 3013, 2699, 2418, 2126, 1869, 1643, 1444, 1270, 1116, 981, 862, 758, 666, 586, 515, 453, 397, 349, 306, 269, 237, 208, 183, 161]}, {\"hovertemplate\": \"%{y}\", \"name\": \"Removed\", \"type\": \"scatter\", \"x\": [0, 1, 2, 3, 4, 5, 6, 7, 8, 9, 10, 11, 12, 13, 14, 15, 16, 17, 18, 19, 20, 21, 22, 23, 24, 25, 26, 27, 28, 29, 30, 31, 32, 33, 34, 35, 36, 37, 38, 39, 40, 41, 42, 43, 44, 45, 46, 47, 48, 49, 50, 51, 52, 53, 54, 55, 56, 57, 58, 59, 60, 61, 62, 63, 64, 65, 66, 67, 68, 69, 70, 71, 72, 73, 74, 75, 76, 77, 78, 79, 80, 81, 82, 83, 84, 85, 86, 87, 88, 89, 90, 91, 92, 93, 94, 95, 96, 97, 98, 99, 100], \"y\": [0, 30, 61, 95, 130, 168, 208, 250, 295, 344, 398, 458, 524, 598, 680, 770, 870, 981, 1103, 1238, 1387, 1551, 1731, 1928, 2145, 2381, 2641, 2937, 3272, 3650, 4074, 4547, 5071, 5654, 6322, 7077, 7920, 8847, 9852, 10926, 12056, 13228, 14416, 15584, 16728, 17840, 18919, 19938, 20899, 21802, 22651, 23441, 24179, 24868, 25512, 26113, 26674, 27197, 27685, 28140, 28565, 28961, 29330, 29675, 29996, 30292, 30565, 30814, 31044, 31255, 31449, 31627, 31789, 31937, 32070, 32193, 32304, 32404, 32494, 32574, 32646, 32709, 32764, 32813, 32856, 32893, 32927, 32956, 32981, 33004, 33024, 33041, 33056, 33070, 33082, 33092, 33101, 33109, 33116, 33123, 33128]}, {\"hovertemplate\": \"%{y}\", \"name\": \"Quarantined\", \"type\": \"scatter\", \"x\": [0, 1, 2, 3, 4, 5, 6, 7, 8, 9, 10, 11, 12, 13, 14, 15, 16, 17, 18, 19, 20, 21, 22, 23, 24, 25, 26, 27, 28, 29, 30, 31, 32, 33, 34, 35, 36, 37, 38, 39, 40, 41, 42, 43, 44, 45, 46, 47, 48, 49, 50, 51, 52, 53, 54, 55, 56, 57, 58, 59, 60, 61, 62, 63, 64, 65, 66, 67, 68, 69, 70, 71, 72, 73, 74, 75, 76, 77, 78, 79, 80, 81, 82, 83, 84, 85, 86, 87, 88, 89, 90, 91, 92, 93, 94, 95, 96, 97, 98, 99, 100], \"y\": [0, 60, 123, 190, 261, 337, 416, 500, 589, 687, 794, 889, 994, 1111, 1240, 1383, 1542, 1717, 1911, 2125, 2361, 2620, 2906, 3218, 3561, 3935, 4343, 4807, 5333, 5926, 6590, 7332, 8154, 9060, 10097, 11270, 12578, 14018, 15579, 17247, 19002, 20822, 22685, 24518, 26311, 28057, 29748, 31380, 32917, 34363, 35722, 36999, 38192, 39307, 40347, 41318, 42225, 43071, 43860, 44596, 45283, 45923, 46520, 47077, 47699, 48274, 48804, 49292, 49742, 50156, 50536, 50955, 51336, 51683, 51997, 52282, 52594, 52873, 53123, 53347, 53587, 53799, 53985, 54148, 54292, 54419, 54530, 54627, 54713, 54789, 54855, 54914, 54965, 55010, 55050, 55084, 55115, 55142, 55165, 55186, 55204]}, {\"hovertemplate\": \"%{y}\", \"marker\": {\"symbol\": 1}, \"mode\": \"markers\", \"name\": \"Estimated\", \"type\": \"scatter\", \"x\": [10, 20, 30, 40, 50, 60, 70, 80, 90], \"y\": [2000.0, 5700.0, 14199.999999999998, 36000.0, 26800.0, 13400.0, 6000.0, 2700.0, 899.9999999999999]}, {\"hovertemplate\": \"%{y}\", \"marker\": {\"symbol\": 3}, \"mode\": \"markers\", \"name\": \"Resisted\", \"type\": \"scatter\", \"x\": [10, 20, 30, 40, 50, 60, 70, 80, 90], \"y\": [99.205, 781.104, 3642.951, 11663.568, 20890.025, 28288.172000000002, 32546.654000000002, 31235.276, 33496.848]}, {\"hovertemplate\": \"%{y}\", \"marker\": {\"symbol\": 2}, \"mode\": \"markers\", \"name\": \"Confirmed\", \"type\": \"scatter\", \"x\": [10, 20, 30, 40, 50, 60, 70, 80, 90], \"y\": [753, 2439, 6540, 18878, 35718, 45328, 50593, 53242, 54990]}],\n",
       "                        {\"margin\": {\"b\": 0, \"l\": 0, \"r\": 150, \"t\": 25}, \"template\": {\"data\": {\"bar\": [{\"error_x\": {\"color\": \"#2a3f5f\"}, \"error_y\": {\"color\": \"#2a3f5f\"}, \"marker\": {\"line\": {\"color\": \"#E5ECF6\", \"width\": 0.5}}, \"type\": \"bar\"}], \"barpolar\": [{\"marker\": {\"line\": {\"color\": \"#E5ECF6\", \"width\": 0.5}}, \"type\": \"barpolar\"}], \"carpet\": [{\"aaxis\": {\"endlinecolor\": \"#2a3f5f\", \"gridcolor\": \"white\", \"linecolor\": \"white\", \"minorgridcolor\": \"white\", \"startlinecolor\": \"#2a3f5f\"}, \"baxis\": {\"endlinecolor\": \"#2a3f5f\", \"gridcolor\": \"white\", \"linecolor\": \"white\", \"minorgridcolor\": \"white\", \"startlinecolor\": \"#2a3f5f\"}, \"type\": \"carpet\"}], \"choropleth\": [{\"colorbar\": {\"outlinewidth\": 0, \"ticks\": \"\"}, \"type\": \"choropleth\"}], \"contour\": [{\"colorbar\": {\"outlinewidth\": 0, \"ticks\": \"\"}, \"colorscale\": [[0.0, \"#0d0887\"], [0.1111111111111111, \"#46039f\"], [0.2222222222222222, \"#7201a8\"], [0.3333333333333333, \"#9c179e\"], [0.4444444444444444, \"#bd3786\"], [0.5555555555555556, \"#d8576b\"], [0.6666666666666666, \"#ed7953\"], [0.7777777777777778, \"#fb9f3a\"], [0.8888888888888888, \"#fdca26\"], [1.0, \"#f0f921\"]], \"type\": \"contour\"}], \"contourcarpet\": [{\"colorbar\": {\"outlinewidth\": 0, \"ticks\": \"\"}, \"type\": \"contourcarpet\"}], \"heatmap\": [{\"colorbar\": {\"outlinewidth\": 0, \"ticks\": \"\"}, \"colorscale\": [[0.0, \"#0d0887\"], [0.1111111111111111, \"#46039f\"], [0.2222222222222222, \"#7201a8\"], [0.3333333333333333, \"#9c179e\"], [0.4444444444444444, \"#bd3786\"], [0.5555555555555556, \"#d8576b\"], [0.6666666666666666, \"#ed7953\"], [0.7777777777777778, \"#fb9f3a\"], [0.8888888888888888, \"#fdca26\"], [1.0, \"#f0f921\"]], \"type\": \"heatmap\"}], \"heatmapgl\": [{\"colorbar\": {\"outlinewidth\": 0, \"ticks\": \"\"}, \"colorscale\": [[0.0, \"#0d0887\"], [0.1111111111111111, \"#46039f\"], [0.2222222222222222, \"#7201a8\"], [0.3333333333333333, \"#9c179e\"], [0.4444444444444444, \"#bd3786\"], [0.5555555555555556, \"#d8576b\"], [0.6666666666666666, \"#ed7953\"], [0.7777777777777778, \"#fb9f3a\"], [0.8888888888888888, \"#fdca26\"], [1.0, \"#f0f921\"]], \"type\": \"heatmapgl\"}], \"histogram\": [{\"marker\": {\"colorbar\": {\"outlinewidth\": 0, \"ticks\": \"\"}}, \"type\": \"histogram\"}], \"histogram2d\": [{\"colorbar\": {\"outlinewidth\": 0, \"ticks\": \"\"}, \"colorscale\": [[0.0, \"#0d0887\"], [0.1111111111111111, \"#46039f\"], [0.2222222222222222, \"#7201a8\"], [0.3333333333333333, \"#9c179e\"], [0.4444444444444444, \"#bd3786\"], [0.5555555555555556, \"#d8576b\"], [0.6666666666666666, \"#ed7953\"], [0.7777777777777778, \"#fb9f3a\"], [0.8888888888888888, \"#fdca26\"], [1.0, \"#f0f921\"]], \"type\": \"histogram2d\"}], \"histogram2dcontour\": [{\"colorbar\": {\"outlinewidth\": 0, \"ticks\": \"\"}, \"colorscale\": [[0.0, \"#0d0887\"], [0.1111111111111111, \"#46039f\"], [0.2222222222222222, \"#7201a8\"], [0.3333333333333333, \"#9c179e\"], [0.4444444444444444, \"#bd3786\"], [0.5555555555555556, \"#d8576b\"], [0.6666666666666666, \"#ed7953\"], [0.7777777777777778, \"#fb9f3a\"], [0.8888888888888888, \"#fdca26\"], [1.0, \"#f0f921\"]], \"type\": \"histogram2dcontour\"}], \"mesh3d\": [{\"colorbar\": {\"outlinewidth\": 0, \"ticks\": \"\"}, \"type\": \"mesh3d\"}], \"parcoords\": [{\"line\": {\"colorbar\": {\"outlinewidth\": 0, \"ticks\": \"\"}}, \"type\": \"parcoords\"}], \"pie\": [{\"automargin\": true, \"type\": \"pie\"}], \"scatter\": [{\"marker\": {\"colorbar\": {\"outlinewidth\": 0, \"ticks\": \"\"}}, \"type\": \"scatter\"}], \"scatter3d\": [{\"line\": {\"colorbar\": {\"outlinewidth\": 0, \"ticks\": \"\"}}, \"marker\": {\"colorbar\": {\"outlinewidth\": 0, \"ticks\": \"\"}}, \"type\": \"scatter3d\"}], \"scattercarpet\": [{\"marker\": {\"colorbar\": {\"outlinewidth\": 0, \"ticks\": \"\"}}, \"type\": \"scattercarpet\"}], \"scattergeo\": [{\"marker\": {\"colorbar\": {\"outlinewidth\": 0, \"ticks\": \"\"}}, \"type\": \"scattergeo\"}], \"scattergl\": [{\"marker\": {\"colorbar\": {\"outlinewidth\": 0, \"ticks\": \"\"}}, \"type\": \"scattergl\"}], \"scattermapbox\": [{\"marker\": {\"colorbar\": {\"outlinewidth\": 0, \"ticks\": \"\"}}, \"type\": \"scattermapbox\"}], \"scatterpolar\": [{\"marker\": {\"colorbar\": {\"outlinewidth\": 0, \"ticks\": \"\"}}, \"type\": \"scatterpolar\"}], \"scatterpolargl\": [{\"marker\": {\"colorbar\": {\"outlinewidth\": 0, \"ticks\": \"\"}}, \"type\": \"scatterpolargl\"}], \"scatterternary\": [{\"marker\": {\"colorbar\": {\"outlinewidth\": 0, \"ticks\": \"\"}}, \"type\": \"scatterternary\"}], \"surface\": [{\"colorbar\": {\"outlinewidth\": 0, \"ticks\": \"\"}, \"colorscale\": [[0.0, \"#0d0887\"], [0.1111111111111111, \"#46039f\"], [0.2222222222222222, \"#7201a8\"], [0.3333333333333333, \"#9c179e\"], [0.4444444444444444, \"#bd3786\"], [0.5555555555555556, \"#d8576b\"], [0.6666666666666666, \"#ed7953\"], [0.7777777777777778, \"#fb9f3a\"], [0.8888888888888888, \"#fdca26\"], [1.0, \"#f0f921\"]], \"type\": \"surface\"}], \"table\": [{\"cells\": {\"fill\": {\"color\": \"#EBF0F8\"}, \"line\": {\"color\": \"white\"}}, \"header\": {\"fill\": {\"color\": \"#C8D4E3\"}, \"line\": {\"color\": \"white\"}}, \"type\": \"table\"}]}, \"layout\": {\"annotationdefaults\": {\"arrowcolor\": \"#2a3f5f\", \"arrowhead\": 0, \"arrowwidth\": 1}, \"coloraxis\": {\"colorbar\": {\"outlinewidth\": 0, \"ticks\": \"\"}}, \"colorscale\": {\"diverging\": [[0, \"#8e0152\"], [0.1, \"#c51b7d\"], [0.2, \"#de77ae\"], [0.3, \"#f1b6da\"], [0.4, \"#fde0ef\"], [0.5, \"#f7f7f7\"], [0.6, \"#e6f5d0\"], [0.7, \"#b8e186\"], [0.8, \"#7fbc41\"], [0.9, \"#4d9221\"], [1, \"#276419\"]], \"sequential\": [[0.0, \"#0d0887\"], [0.1111111111111111, \"#46039f\"], [0.2222222222222222, \"#7201a8\"], [0.3333333333333333, \"#9c179e\"], [0.4444444444444444, \"#bd3786\"], [0.5555555555555556, \"#d8576b\"], [0.6666666666666666, \"#ed7953\"], [0.7777777777777778, \"#fb9f3a\"], [0.8888888888888888, \"#fdca26\"], [1.0, \"#f0f921\"]], \"sequentialminus\": [[0.0, \"#0d0887\"], [0.1111111111111111, \"#46039f\"], [0.2222222222222222, \"#7201a8\"], [0.3333333333333333, \"#9c179e\"], [0.4444444444444444, \"#bd3786\"], [0.5555555555555556, \"#d8576b\"], [0.6666666666666666, \"#ed7953\"], [0.7777777777777778, \"#fb9f3a\"], [0.8888888888888888, \"#fdca26\"], [1.0, \"#f0f921\"]]}, \"colorway\": [\"#636efa\", \"#EF553B\", \"#00cc96\", \"#ab63fa\", \"#FFA15A\", \"#19d3f3\", \"#FF6692\", \"#B6E880\", \"#FF97FF\", \"#FECB52\"], \"font\": {\"color\": \"#2a3f5f\"}, \"geo\": {\"bgcolor\": \"white\", \"lakecolor\": \"white\", \"landcolor\": \"#E5ECF6\", \"showlakes\": true, \"showland\": true, \"subunitcolor\": \"white\"}, \"hoverlabel\": {\"align\": \"left\"}, \"hovermode\": \"closest\", \"mapbox\": {\"style\": \"light\"}, \"paper_bgcolor\": \"white\", \"plot_bgcolor\": \"#E5ECF6\", \"polar\": {\"angularaxis\": {\"gridcolor\": \"white\", \"linecolor\": \"white\", \"ticks\": \"\"}, \"bgcolor\": \"#E5ECF6\", \"radialaxis\": {\"gridcolor\": \"white\", \"linecolor\": \"white\", \"ticks\": \"\"}}, \"scene\": {\"xaxis\": {\"backgroundcolor\": \"#E5ECF6\", \"gridcolor\": \"white\", \"gridwidth\": 2, \"linecolor\": \"white\", \"showbackground\": true, \"ticks\": \"\", \"zerolinecolor\": \"white\"}, \"yaxis\": {\"backgroundcolor\": \"#E5ECF6\", \"gridcolor\": \"white\", \"gridwidth\": 2, \"linecolor\": \"white\", \"showbackground\": true, \"ticks\": \"\", \"zerolinecolor\": \"white\"}, \"zaxis\": {\"backgroundcolor\": \"#E5ECF6\", \"gridcolor\": \"white\", \"gridwidth\": 2, \"linecolor\": \"white\", \"showbackground\": true, \"ticks\": \"\", \"zerolinecolor\": \"white\"}}, \"shapedefaults\": {\"line\": {\"color\": \"#2a3f5f\"}}, \"ternary\": {\"aaxis\": {\"gridcolor\": \"white\", \"linecolor\": \"white\", \"ticks\": \"\"}, \"baxis\": {\"gridcolor\": \"white\", \"linecolor\": \"white\", \"ticks\": \"\"}, \"bgcolor\": \"#E5ECF6\", \"caxis\": {\"gridcolor\": \"white\", \"linecolor\": \"white\", \"ticks\": \"\"}}, \"title\": {\"x\": 0.05}, \"xaxis\": {\"automargin\": true, \"gridcolor\": \"white\", \"linecolor\": \"white\", \"ticks\": \"\", \"title\": {\"standoff\": 15}, \"zerolinecolor\": \"white\", \"zerolinewidth\": 2}, \"yaxis\": {\"automargin\": true, \"gridcolor\": \"white\", \"linecolor\": \"white\", \"ticks\": \"\", \"title\": {\"standoff\": 15}, \"zerolinecolor\": \"white\", \"zerolinewidth\": 2}}}},\n",
       "                        {\"responsive\": true}\n",
       "                    ).then(function(){\n",
       "                            \n",
       "var gd = document.getElementById('4b13e635-b293-4a00-985d-9f310e86e32d');\n",
       "var x = new MutationObserver(function (mutations, observer) {{\n",
       "        var display = window.getComputedStyle(gd).display;\n",
       "        if (!display || display === 'none') {{\n",
       "            console.log([gd, 'removed!']);\n",
       "            Plotly.purge(gd);\n",
       "            observer.disconnect();\n",
       "        }}\n",
       "}});\n",
       "\n",
       "// Listen for the removal of the full notebook cells\n",
       "var notebookContainer = gd.closest('#notebook-container');\n",
       "if (notebookContainer) {{\n",
       "    x.observe(notebookContainer, {childList: true});\n",
       "}}\n",
       "\n",
       "// Listen for the clearing of the current output cell\n",
       "var outputEl = gd.closest('.output');\n",
       "if (outputEl) {{\n",
       "    x.observe(outputEl, {childList: true});\n",
       "}}\n",
       "\n",
       "                        })\n",
       "                };\n",
       "                });\n",
       "            </script>\n",
       "        </div>"
      ]
     },
     "metadata": {},
     "output_type": "display_data"
    }
   ],
   "source": [
    "city = Region(99000, 1000, 0, 0)\n",
    "epidemic = dynamic.estimate(city)\n",
    "fig = SIRQt.plot(epidemic)\n",
    "sample = Sample(epidemic, np.arange(T//10, T, T//10), 100000*np.ones(9), 1000*np.ones(9), Bin)\n",
    "sample.plot(fig)\n",
    "resisted = Resisted(epidemic, np.arange(T//10, T, T//10), 1000*np.ones(9), Bin)\n",
    "resisted.plot(fig)\n",
    "confirmed = Confirmed(epidemic, np.arange(T//10, T, T//10))\n",
    "confirmed.plot(fig)"
   ]
  },
  {
   "cell_type": "code",
   "execution_count": 187,
   "metadata": {},
   "outputs": [],
   "source": [
    "def loglikely(epidemic, sample=None, resisted=None, confirmed=None, \n",
    "              law_s=Bin, law_r=Bin, law_c=Poi, weight_r=1, weight_c=1, *vargs, verbose=False, **kvargs):\n",
    "    ll = 0\n",
    "\n",
    "    if sample is not None:\n",
    "        ms = sample.m\n",
    "        ns = sample.n\n",
    "        ds = epidemic.I[sample.t] / ms\n",
    "        ks = sample.positive\n",
    "        ll = sum(law_s.loglikely(n, d, k) for n, d, k in zip(ns, ds, ks)) / len(ns)\n",
    "    if verbose:\n",
    "        print('sample', ll)\n",
    "\n",
    "    if resisted is not None:\n",
    "        ms = resisted.m\n",
    "        ns = resisted.n\n",
    "        ds = epidemic.R[resisted.t] / ms\n",
    "        ks = resisted.positive\n",
    "        ll += weight_r * sum(law_s.loglikely(n, d, k) for n, d, k in zip(ns, ds, ks)) / len(ns)\n",
    "    if verbose:\n",
    "        print('resisted', ll)\n",
    "        \n",
    "    if confirmed is not None:\n",
    "        qs = epidemic.Q[confirmed.t]\n",
    "        cs = confirmed.c\n",
    "        ll += weight_c * sum(law_c.loglikely(n, 1, k) for n, k in zip(qs, cs)) / len(qs)\n",
    "    if verbose:\n",
    "        print('confirmed', ll)\n",
    "\n",
    "    return ll\n",
    "\n",
    "\n",
    "def likelihood(epidemic, sample=None, resisted=None, confirmed=None, \n",
    "              law_s=Bin, law_r=Bin, law_c=Poi, weight_r=1, weight_c=1, *vargs, **kvargs):\n",
    "    return np.exp(loglikely(epidemic, sample, resisted, confirmed, \n",
    "                            law_s, law_r, law_c, weight_r, weight_c, *vargs, **kvargs))\n",
    "\n",
    "\n",
    "class InferSIRQt:\n",
    "    def __init__(self, law_s=Bin, law_r=Bin, weight_r=1, law_c=Poi, weight_c=1, \n",
    "                 penalty_b=variation1, weight_b=1, penalty_t=variation1, weight_t=1, \n",
    "                 algo='map', ascdes=(Id, Id)):\n",
    "        self.law_s = law_s\n",
    "        self.law_r = law_r\n",
    "        self.law_c = law_c\n",
    "        self.weight_r = weight_r\n",
    "        self.weight_c = weight_c\n",
    "        self.penalty_b = penalty_b\n",
    "        self.weight_b = weight_b\n",
    "        self.penalty_t = penalty_t\n",
    "        self.weight_t = weight_t\n",
    "        self.ascdes = ascdes\n",
    "        self.algo = algo\n",
    "        self.dynamic = None\n",
    "        self.walker = None\n",
    "        self.funcval = None\n",
    "        \n",
    "    def self_plot(self, **options):\n",
    "        return self.dynamic.self_plot(**options)\n",
    "    \n",
    "    def __repr__(self):\n",
    "        self.self_plot().show()\n",
    "        return \"Function value={}\".format(self.funcval)\n",
    "\n",
    "    def fit(self, region, sample, confirmed, **options):\n",
    "        if self.algo == \"map\":\n",
    "            self.fit_beta_gamma_theta_map(region, sample, confirmed, **options)\n",
    "        elif self.algo == \"mcmc\":\n",
    "            self.fit_beta_gamma_theta_mh(region, sample, confirmed, **options)\n",
    "            \n",
    "    def fit_beta_gamma_theta_map(self, region, sample, confirmed, **options):        \n",
    "        asc, des = self.ascdes\n",
    "\n",
    "        def func(x):\n",
    "            x = des(x)\n",
    "            d = len(x) // 2 + 1\n",
    "            dynamic = SIRQt(x[1:d], x[0], x[d:])\n",
    "            epidemic = dynamic.estimate(region, d-1)\n",
    "            ll = -loglikely(epidemic, sample, resisted, confirmed, \n",
    "                            self.law_s, self.law_r, self.law_c, self.weight_r, self.weight_c, **options)\n",
    "            ll += self.weight_b * self.penalty_b(x[1:d])\n",
    "            ll += self.weight_t * self.penalty_t(x[d:])\n",
    "            return ll\n",
    "        \n",
    "        x0 = np.ones(1 + 2 * max(confirmed.t[-1], sample.t[-1]))\n",
    "        d = len(x0) // 2 + 1\n",
    "        x0[0] = 0.03\n",
    "        x0[1:d] = 0.2\n",
    "        x0[d:] = 0.04\n",
    "        res = minimize(func, asc(x0), method='nelder-mead', options={'xatol': 1e-8, 'disp': True, 'maxiter': 1000000})\n",
    "#        res = dual_annealing(func, np.tile([0, 1], (len(x0), 1)), maxiter=100000, seed=0)\n",
    "        res.x = des(res.x)\n",
    "        self.dynamic = SIRQt(res.x[1:d], res.x[0], res.x[d:])\n",
    "        self.funcval = res.fun"
   ]
  },
  {
   "cell_type": "code",
   "execution_count": 160,
   "metadata": {},
   "outputs": [
    {
     "name": "stderr",
     "output_type": "stream",
     "text": [
      "/home/zheng/2019-nCoV/hsir/law.py:36: RuntimeWarning:\n",
      "\n",
      "invalid value encountered in log\n",
      "\n"
     ]
    },
    {
     "name": "stdout",
     "output_type": "stream",
     "text": [
      "Optimization terminated successfully.\n",
      "         Current function value: 2840.533189\n",
      "         Iterations: 158\n",
      "         Function evaluations: 279\n"
     ]
    },
    {
     "data": {
      "application/vnd.plotly.v1+json": {
       "config": {
        "plotlyServerURL": "https://plot.ly"
       },
       "data": [
        {
         "name": "log(-loglikely)",
         "showscale": false,
         "type": "contour",
         "x": [
          0.01,
          0.010831631524280023,
          0.01173242414777768,
          0.012708129525529292,
          0.013764977638335682,
          0.014909716571840646,
          0.01614965560376294,
          0.017492711874398423,
          0.018947460938388148,
          0.020523191520530944,
          0.022229964825261943,
          0.024078678778494334,
          0.026081137612015182,
          0.02825012723473889,
          0.03059949687207196,
          0.03314424749466426,
          0.03590062760117447,
          0.03888623696663189,
          0.04212013901883932,
          0.04562298256035173,
          0.04941713361323833,
          0.05352681822847106,
          0.057978277171791374,
          0.06279993347374203,
          0.06802257391368725,
          0.0736795455966163,
          0.07980696887789365,
          0.08644396799550276,
          0.09363292088239417,
          0.10141972975401581,
          0.10985411419875583,
          0.11898992864271016,
          0.12888550621582098,
          0.13960403121500756,
          0.15121394254250484,
          0.1637893706954064,
          0.17741061109663506,
          0.19216463678960968,
          0.2081456537702157,
          0.22545570250193436,
          0.2442053094548651,
          0.2645141928287876,
          0.286512026966378,
          0.31033927033743886,
          0.3361480623809065,
          0.3641031949310675,
          0.3943831644306426,
          0.427181311649226,
          0.46270705618430463,
          0.5011872336272722
         ],
         "y": [
          0.01,
          0.010831631524280023,
          0.01173242414777768,
          0.012708129525529292,
          0.013764977638335682,
          0.014909716571840646,
          0.01614965560376294,
          0.017492711874398423,
          0.018947460938388148,
          0.020523191520530944,
          0.022229964825261943,
          0.024078678778494334,
          0.026081137612015182,
          0.02825012723473889,
          0.03059949687207196,
          0.03314424749466426,
          0.03590062760117447,
          0.03888623696663189,
          0.04212013901883932,
          0.04562298256035173,
          0.04941713361323833,
          0.05352681822847106,
          0.057978277171791374,
          0.06279993347374203,
          0.06802257391368725,
          0.0736795455966163,
          0.07980696887789365,
          0.08644396799550276,
          0.09363292088239417,
          0.10141972975401581,
          0.10985411419875583,
          0.11898992864271016,
          0.12888550621582098,
          0.13960403121500756,
          0.15121394254250484,
          0.1637893706954064,
          0.17741061109663506,
          0.19216463678960968,
          0.2081456537702157,
          0.22545570250193436,
          0.2442053094548651,
          0.2645141928287876,
          0.286512026966378,
          0.31033927033743886,
          0.3361480623809065,
          0.3641031949310675,
          0.3943831644306426,
          0.427181311649226,
          0.46270705618430463,
          0.5011872336272722
         ],
         "z": [
          [
           7.8326290165339305,
           7.790399257467045,
           7.746473278133882,
           7.701016217833365,
           7.654263347428739,
           7.606535687543398,
           7.558257398752659,
           7.5099741731972625,
           7.462371150880652,
           7.416287920199731,
           7.3727269936090645,
           7.332850974783865,
           7.297962873921717,
           7.269464349944793,
           7.248788852008578,
           7.237311238705719,
           7.2362421652990605,
           7.24652266777532,
           7.268739005201962,
           7.303076971201216,
           7.349327453847387,
           7.406943078857496,
           7.475133853003774,
           7.552982338891771,
           7.639558025978593,
           7.7340150320124526,
           7.835664024560192,
           7.9440152839035285,
           8.058793317733599,
           8.179923794568918,
           8.307490757994637,
           8.441655780945098,
           8.582519605340472,
           8.729889514596916,
           8.882899258474115,
           9.039460934872547,
           9.195751028370468,
           9.346409848210302,
           9.486141427010049,
           9.611960403427663,
           9.724116668132867,
           9.8250810505315,
           9.917930297994412,
           10.005367151257442,
           10.089470168964285,
           10.171785735030948,
           10.253490455094656,
           10.335529638441388,
           10.418719974872293,
           10.50382706026976
          ],
          [
           7.754810648907045,
           7.7116760178269494,
           7.666695554411947,
           7.6200231241160274,
           7.571885350376386,
           7.522598993121603,
           7.472590699769511,
           7.4224184329642435,
           7.37279308602131,
           7.324597660831673,
           7.278899929151435,
           7.236952924728382,
           7.200176405773894,
           7.170112427127713,
           7.148350456859717,
           7.136422936694265,
           7.135680643535296,
           7.147166598823378,
           7.171513658752961,
           7.208890114576045,
           7.25900799733865,
           7.321193162798415,
           7.394500954249974,
           7.477852402175148,
           7.5701658667563265,
           7.670465695159598,
           7.777958511837311,
           7.892075307100804,
           8.012481523451326,
           8.1390575242629,
           8.271848494704038,
           8.41097587928247,
           8.556490717449174,
           8.708131644019591,
           8.864935438760847,
           9.02468836042962,
           9.183445379012275,
           9.335814503589155,
           9.476629239084284,
           9.603146560925579,
           9.715836785420754,
           9.817291895472508,
           9.91062821501614,
           9.998551987920868,
           10.083136710294294,
           10.16592438463829,
           10.248089395895972,
           10.33057651629371,
           10.41420298544214,
           10.499735673345224
          ],
          [
           7.673260993557338,
           7.6291360509293495,
           7.583002272780386,
           7.534999872950628,
           7.485344313645079,
           7.434345623687174,
           7.38243081802798,
           7.330168846579142,
           7.278296618122855,
           7.22774331255297,
           7.179648392552333,
           7.135366633681332,
           7.096451658334467,
           7.06460894438121,
           7.041611583270038,
           7.0291785647580145,
           7.028826152664955,
           7.041715451110734,
           7.068528168087239,
           7.109401860195895,
           7.163943125369742,
           7.231316364298964,
           7.310385891830761,
           7.399878715373508,
           7.498536833927204,
           7.605237860698553,
           7.719074896778837,
           7.839395914696524,
           7.965807365461562,
           8.098146452190619,
           8.236422375190113,
           8.380719069362781,
           8.531039476803121,
           8.687053542418873,
           8.847699201981767,
           9.010634941577852,
           9.1717982073231,
           9.32578173227156,
           9.467575301622233,
           9.594700382799846,
           9.707856091812749,
           9.809753497830899,
           9.903543141193127,
           9.99193000368607,
           10.076979188770013,
           10.160226169488853,
           10.242841754022875,
           10.325769322674741,
           10.409826127593272,
           10.4957799844904
          ],
          [
           7.587826488493149,
           7.542611121667529,
           7.495208161624561,
           7.44574129746786,
           7.39441173181139,
           7.341519630541649,
           7.287489558403348,
           7.2328995199457795,
           7.178512257621065,
           7.125305907088483,
           7.074498883960343,
           7.027561108353494,
           6.986200964138831,
           6.952316066363289,
           6.927898045386842,
           6.914889306358613,
           6.915003670421428,
           6.929539828013938,
           6.959229137049868,
           7.004158679591154,
           7.0637929270116615,
           7.137088905298739,
           7.222673668359978,
           7.31904080071853,
           7.424727172409868,
           7.53844603963552,
           7.659168798002226,
           7.786159005878338,
           7.918966851696124,
           8.057391056518505,
           8.201409890038732,
           8.351074127106495,
           8.506341462572543,
           8.66681387291146,
           8.831329000265306,
           8.997416274690938,
           9.160901472187279,
           9.31638222707489,
           9.459033929051536,
           9.586664929940742,
           9.700210158095741,
           9.802496245278341,
           9.896701660929315,
           9.985524860706912,
           10.071018950575684,
           10.154710560525015,
           10.237765458764045,
           10.321124706848883,
           10.40560498333365,
           10.491974688600466
          ],
          [
           7.498367341489129,
           7.451944861392305,
           7.403137385458587,
           7.352048564470042,
           7.2988614750584855,
           7.243862400483412,
           7.187469671006386,
           7.130267468272142,
           7.073043458260681,
           7.016827328265029,
           6.962924566338656,
           6.912936172040267,
           6.868751045192702,
           6.832495211370923,
           6.806423681836197,
           6.792749974970999,
           6.793426643810986,
           6.809913739663243,
           6.8429902817791595,
           6.8926632605865406,
           6.958203804188884,
           7.038300320684008,
           7.1312837634752055,
           7.235366932260079,
           7.348849614480795,
           7.470263608451836,
           7.598453185471226,
           7.732599803384994,
           7.8722038863111035,
           8.017033692898753,
           8.167044328254976,
           8.322259792954394,
           8.482596759658437,
           8.647590726096562,
           8.81597798412547,
           8.985158373337942,
           9.150854068335255,
           9.307691291745316,
           9.451062817441166,
           9.57908608882539,
           9.692937097889372,
           9.795552861982717,
           9.890132508846666,
           9.979362198449529,
           10.065279162181842,
           10.149398709432212,
           10.232879997985442,
           10.316660770864837,
           10.40155649680788,
           10.488335766143766
          ],
          [
           7.404764788349635,
           7.356999961781732,
           7.306630576551045,
           7.253735901069584,
           7.198476005777369,
           7.141118072492772,
           7.082069066119687,
           7.021915086982123,
           6.961466640109677,
           6.901807025765809,
           6.84433771084653,
           6.790809740905429,
           6.743324565408925,
           6.704283080654206,
           6.67626224084264,
           6.661809515200384,
           6.66316995571223,
           6.681994083452642,
           6.719101456520408,
           6.774374135617492,
           6.846817592386965,
           6.934769407122033,
           7.0361896980995,
           7.148954439455544,
           7.271092363004231,
           7.4009393073307175,
           7.53721195942938,
           7.679017565372951,
           7.825818431872505,
           7.97736462871539,
           8.133599109008262,
           8.29452777459608,
           8.460031928178504,
           8.629582772007913,
           8.801814500836501,
           8.973997690150814,
           9.141761607116308,
           9.29978860892744,
           9.443722917879807,
           9.572012556489224,
           9.686077626337342,
           9.78895850643061,
           9.883866685488762,
           9.973469755726086,
           10.059784932700724,
           10.144313568330517,
           10.228206533825412,
           10.312397180838518,
           10.397699081274963,
           10.484880586258665
          ],
          [
           7.306930438779935,
           7.2576675543664075,
           7.205554143894377,
           7.15063967201128,
           7.093054981237119,
           7.0330413069987054,
           6.970987232492317,
           6.907474493491455,
           6.843332477215512,
           6.779699006060398,
           6.718080949865766,
           6.660401915976927,
           6.609016093426489,
           6.566659638739262,
           6.536309352186476,
           6.520931128412609,
           6.523134063534922,
           6.544794830113241,
           6.586757073786246,
           6.6487092313325,
           6.7292878077043214,
           6.826368676715131,
           6.9374468533680504,
           7.059996981040905,
           7.1917433567250875,
           7.330817382642242,
           7.4758158209624,
           7.625787587885833,
           7.780175283307285,
           7.938728263971264,
           8.101392054345755,
           8.268165559571408,
           8.438901716096963,
           8.613010120042837,
           8.789022286738296,
           8.964080851819697,
           9.133735971935971,
           9.292757863437716,
           9.437078231010311,
           9.56549578606619,
           9.679675099661967,
           9.782750860665308,
           9.877937570409388,
           9.967877493733388,
           10.054563439518923,
           10.139480014189274,
           10.223768024038616,
           10.308355284483445,
           10.39405273273197,
           10.481628016781888
          ],
          [
           7.204818129221764,
           7.153879262965285,
           7.099812423983829,
           7.0426304571856795,
           6.982426980288533,
           6.9194082278882325,
           6.853934736571886,
           6.786574617804005,
           6.718169219851682,
           6.649909581159385,
           6.583417261321119,
           6.52081492133594,
           6.464760293354828,
           6.418404524165561,
           6.38523003291865,
           6.368737318281622,
           6.3719967451106125,
           6.397154649897239,
           6.445045352554044,
           6.515056885146252,
           6.605307469928159,
           6.713061482228002,
           6.835231710212645,
           6.9688207744029045,
           7.111220798903131,
           7.260361661536852,
           7.41474032332353,
           7.573374205461605,
           7.735713113755565,
           7.901529221140052,
           8.070789334527298,
           8.243498821481131,
           8.419490341975795,
           8.598114746113788,
           8.777800239933448,
           8.955564024591036,
           9.12689459949274,
           9.286686197964878,
           9.431195513221082,
           9.55958988825119,
           9.673775532519544,
           9.776970208649933,
           9.87238103094046,
           9.962617718880038,
           10.04964405639165,
           10.134924977468895,
           10.219589348744677,
           10.30455823484307,
           10.390639150296861,
           10.478598541452278
          ],
          [
           7.0984386662621946,
           7.045622412719848,
           6.989363275536484,
           6.929628868479312,
           6.8664652454648785,
           6.800031585490208,
           6.7306469886647795,
           6.658852300485728,
           6.585489237311547,
           6.511796720193064,
           6.4395187599809764,
           6.371007618139735,
           6.309289135128922,
           6.258036460224292,
           6.221384561058285,
           6.203532513824809,
           6.208147232049899,
           6.237696822701885,
           6.292941694858038,
           6.372800684499799,
           6.474655645461256,
           6.594957858641402,
           6.729896590018223,
           6.8759319409241675,
           7.030110694192645,
           7.190183462276239,
           7.354585615483054,
           7.522344191488696,
           7.692953230372639,
           7.866237835910098,
           8.042208719685581,
           8.220893139892253,
           8.40211213163151,
           8.585160315296559,
           8.768361638834055,
           8.948611817424515,
           9.121359436463317,
           9.281663480393547,
           9.426143886927626,
           9.554351484941737,
           9.668427590318599,
           9.7716595013924,
           9.867235524760163,
           9.957725203996104,
           10.045058483011019,
           10.130677574351397,
           10.215697442226784,
           10.301031120099163,
           10.387481863411137,
           10.475814384506384
          ],
          [
           6.987877695344241,
           6.9329587720809895,
           6.874237669229654,
           6.8116258690780445,
           6.74510845344343,
           6.6747814326091035,
           6.600903849053212,
           6.523969191033961,
           6.444800611116702,
           6.364672480008262,
           6.2854547302274675,
           6.209762981111364,
           6.141073340627018,
           6.08372707093798,
           6.042721098068468,
           6.023191497717254,
           6.029595060822721,
           6.0647811660785695,
           6.12931336658217,
           6.2213695063152175,
           6.337274068871658,
           6.472397576082164,
           6.622044770789821,
           6.78207688107923,
           6.949211459081111,
           7.1210725188564155,
           7.296096792244878,
           7.473379530409699,
           7.65250719455145,
           7.833394403686886,
           8.016121663777874,
           8.20075468719429,
           8.387111247827656,
           8.574431196373483,
           8.760932651747625,
           8.943395622721217,
           9.117255523398732,
           9.277781366540005,
           9.421994350544642,
           9.549839512717812,
           9.663682554082275,
           9.766864406471932,
           9.8625421942337,
           9.953237306331403,
           10.040840874880201,
           10.126769241766507,
           10.212121429302314,
           10.297801099239152,
           10.384606365861725,
           10.473299642849081
          ],
          [
           6.873316585156942,
           6.816046908273541,
           6.754563598897455,
           6.688708235768941,
           6.618387546837811,
           6.543612817870296,
           6.464557104198693,
           6.381636979237378,
           6.295626610729512,
           6.2078110985985715,
           6.12018013394057,
           6.035646638068457,
           5.958240846005571,
           5.893175103274743,
           5.846615564108175,
           5.824994189442164,
           5.833842464179004,
           5.876450736680982,
           5.952950701966666,
           6.060333052497637,
           6.193391523144085,
           6.346071651570184,
           6.512630950509352,
           6.68831641993824,
           6.86958423558201,
           7.054028884199149,
           7.240182899655698,
           7.427287978185941,
           7.615082129051931,
           7.803611347514214,
           7.993053640277396,
           8.183529472506086,
           8.37486020978942,
           8.566230434287702,
           8.755749965619287,
           8.94009129278433,
           9.114709165001907,
           9.275132149932691,
           9.418819188363813,
           9.54611497577689,
           9.659594256076122,
           9.762633339703644,
           9.858344950387986,
           9.949194080570308,
           10.0370279721409,
           10.123233874255675,
           10.208892765653113,
           10.294897543263644,
           10.382040256552395,
           10.471080425944244
          ],
          [
           6.755055565424292,
           6.695167630818067,
           6.630594113831575,
           6.561089404866464,
           6.486459455358226,
           6.406602083150751,
           6.321568327460724,
           6.231654493095936,
           6.137537451809716,
           6.040467308016768,
           5.942527569150499,
           5.846954667503788,
           5.7584613080012685,
           5.683417509119755,
           5.629624727386055,
           5.605373551137841,
           5.617704592215931,
           5.670384700808782,
           5.762656779501302,
           5.889578698546449,
           6.043722321413044,
           6.217195506381024,
           6.403090187594954,
           6.596111536770375,
           6.792604949523817,
           6.99029194584564,
           7.187931507623403,
           7.3850091822194495,
           7.581482192693581,
           7.777572300440084,
           7.973582061749461,
           8.169700683135344,
           8.365756864365629,
           8.56087642103631,
           8.753057351821656,
           8.93887605732463,
           9.11384566064701,
           9.273807402058479,
           9.416691286749922,
           9.543240650474619,
           9.656218985298485,
           9.759017476884281,
           9.854690544321329,
           9.945638384932133,
           10.033659225819633,
           10.120107961546127,
           10.206045381359885,
           10.292352181505018,
           10.3798133868788,
           10.46918500352825
          ],
          [
           6.63353726445616,
           6.570750931148993,
           6.502738271845977,
           6.429145076696459,
           6.349647909478095,
           6.2639931282746915,
           6.17206004238178,
           6.073961506519622,
           5.970201198467093,
           5.861912992001056,
           5.751209438619703,
           5.64165026934365,
           5.538780051495799,
           5.450536323638983,
           5.387090228634796,
           5.359517693640485,
           5.377057915227886,
           5.443892146283861,
           5.557462219027102,
           5.709631158392385,
           5.889774708424981,
           6.087745017805666,
           6.295492352420714,
           6.507412670066042,
           6.720010058435947,
           6.931360243020792,
           7.140614459299693,
           7.347613501877541,
           7.552604426541959,
           7.756026985184211,
           7.958331072443666,
           8.159783640392732,
           8.360219449117203,
           8.558697989511977,
           8.753100988701537,
           8.939924607742345,
           9.114786593088677,
           9.273896422741167,
           9.415683370839973,
           9.54128074669278,
           9.653615363039663,
           9.756070743890895,
           9.851628623853717,
           9.94261597829802,
           10.030776919787183,
           10.117430725536764,
           10.203615826736948,
           10.29019925251147,
           10.377958014480171,
           10.467643961204873
          ],
          [
           6.509367163291334,
           6.4434011634956105,
           6.371592161081763,
           6.293451397445593,
           6.20849024007694,
           6.116254199814756,
           6.01638321553704,
           5.908715724956232,
           5.793464532499783,
           5.671506858070559,
           5.544845353191743,
           5.417294337956176,
           5.295377133924212,
           5.189186768199099,
           5.1124730155430855,
           5.080717470723387,
           5.106502107621605,
           5.194043927803798,
           5.337102405985735,
           5.522214022612173,
           5.734308179087301,
           5.960754065360107,
           6.1927052046796565,
           6.424734779400562,
           6.653922353686839,
           6.878993034673149,
           7.099679235568799,
           7.3162902563472025,
           7.529427080783829,
           7.739780787930663,
           7.947962533912575,
           8.154317901672611,
           8.358679385747905,
           8.560027654279306,
           8.756123381600634,
           8.943404312820347,
           9.117646708720514,
           9.275484541138558,
           9.415867185047418,
           9.540300534746523,
           9.651844190031456,
           9.75384978386166,
           9.849211773306568,
           9.940175606220924,
           10.028426286575247,
           10.115244255234794,
           10.201643419415817,
           10.288475658832219,
           10.376508963058027,
           10.466490363936602
          ],
          [
           6.383325361413165,
           6.313914947214646,
           6.237964759681907,
           6.154821126217104,
           6.06378679701285,
           5.964144018299843,
           5.855203567924177,
           5.73640126353149,
           5.607480115379005,
           5.468823897603894,
           5.322048029973423,
           5.170991893843116,
           5.023219760984652,
           4.891804996393279,
           4.796168422459962,
           4.759251041469302,
           4.798969527075674,
           4.9182054089095715,
           5.103029712343855,
           5.331189487925458,
           5.58195462372202,
           5.8406365735464405,
           6.098523725298121,
           6.351186671215763,
           6.596837158596925,
           6.835182425465887,
           7.066719890412796,
           7.292322229711287,
           7.512988767747572,
           7.729678128776676,
           7.943162655961415,
           8.153856104638376,
           8.361571465659646,
           8.56519274625688,
           8.762355770717193,
           8.949469593481764,
           9.122530470673357,
           9.2786513326851,
           9.41731265060341,
           9.540365950236211,
           9.650968268174404,
           9.752413900772336,
           9.847495534475792,
           9.938369073649458,
           10.026655615077708,
           10.11359363803622,
           10.200170391485978,
           10.287221124924471,
           10.37550378787242,
           10.465759927409186
          ],
          [
           6.256361836218724,
           6.183283757113103,
           6.102890567861445,
           6.014330071675477,
           5.916646365509176,
           5.808783109868997,
           5.689607560822869,
           5.557978712117854,
           5.412906350622355,
           5.253893712785315,
           5.081641493246115,
           4.899426253899283,
           4.715583933670519,
           4.547214198138492,
           4.423238324712198,
           4.380395466213436,
           4.445552850672911,
           4.615667221362831,
           4.860447753757181,
           5.143985728748731,
           5.4399204381928286,
           5.733422942277437,
           6.017686816461101,
           6.2904092448550575,
           6.551545669583214,
           6.802084936632688,
           7.043422513450632,
           7.277044236928309,
           7.504357497610936,
           7.726579180444225,
           7.9446239729975385,
           8.15894926435839,
           8.369321142180675,
           8.574504245814337,
           8.772009007303492,
           8.95825557646926,
           9.129528426161274,
           9.28346884462635,
           9.420087043206413,
           9.541543192820297,
           9.65105220135719,
           9.751824979421336,
           9.846538407139583,
           9.937251302244642,
           10.025516348095277,
           10.112527085626812,
           10.19924203537881,
           10.28647835729907,
           10.374982946456308,
           10.465491197219166
          ],
          [
           6.129566129499894,
           6.052671473287006,
           5.967618691835336,
           5.873323171259836,
           5.768517399055797,
           5.651722333120762,
           5.5212259142655595,
           5.375087998387148,
           5.211218196468829,
           5.027636704489817,
           4.823175227823044,
           4.599198077345994,
           4.363514463872461,
           4.138051151271203,
           3.968643577493351,
           3.9207956381354356,
           4.036847622619606,
           4.292118493694223,
           4.621988133707296,
           4.9733346898527,
           5.3184496451608165,
           5.646692489662208,
           5.955669475427098,
           6.246373344631149,
           6.520976010636293,
           6.7819058201052425,
           7.031483454974586,
           7.27178566243938,
           7.504589906221302,
           7.731330181084069,
           7.9530227148775365,
           8.170128390127292,
           8.382328729739903,
           8.588243226682758,
           8.785263022839233,
           8.96987127094663,
           9.138713598882417,
           9.289999949763837,
           9.424254242304352,
           9.543898337907885,
           9.65216218135138,
           9.7521473826282,
           9.846401827830448,
           9.936880370307348,
           10.025063167679,
           10.112096052708155,
           10.198906847088063,
           10.286293205940026,
           10.374989974037394,
           10.46572573582711
          ],
          [
           6.004104086896582,
           5.923358443293395,
           5.833568698589071,
           5.733389278902969,
           5.621193299654288,
           5.494997574985065,
           5.3523688333072785,
           5.190314721766547,
           5.005182843333382,
           4.792652399047411,
           4.5480899759058575,
           4.268107034446231,
           3.955795919219259,
           3.6358684755228996,
           3.38588282945355,
           3.342383721886903,
           3.5714166945236787,
           3.9704599444787956,
           4.412791005179365,
           4.838244837665522,
           5.2303632947517045,
           5.588905558620465,
           5.9181477914544525,
           6.223009822581432,
           6.507949249649784,
           6.7767396750720215,
           7.032504378280945,
           7.2778000707835275,
           7.514682674680357,
           7.7447284406279415,
           7.968992015873122,
           8.18788246135189,
           8.40095043574666,
           8.60664500398207,
           8.802255226928194,
           8.984392665810002,
           9.150138189325398,
           9.298296970386316,
           9.429874108967494,
           9.547496982244905,
           9.654365766030512,
           9.753447827300857,
           9.847150126103733,
           9.937317533580252,
           10.02535406630887,
           10.112355346743376,
           10.199216665273774,
           10.286714825986936,
           10.37557166313653,
           10.466508317243303
          ],
          [
           5.881121765793905,
           5.796651194626571,
           5.702250964911418,
           5.596300453371857,
           5.4767851983934515,
           5.341162115952272,
           5.186165834065282,
           5.007526994522419,
           4.799562095307179,
           4.554594911607206,
           4.262252023812023,
           3.909185455881301,
           3.4824406595867914,
           2.9927215157273075,
           2.57500006443118,
           2.5915077290969935,
           3.092305346807141,
           3.709434678632861,
           4.272573910996474,
           4.761700383318944,
           5.188845507880868,
           5.567956505534804,
           5.910137590536658,
           6.22370405829814,
           6.514878212851929,
           6.788386067411947,
           7.0478756531573925,
           7.296188651654549,
           7.5355199162461775,
           7.767483957157888,
           7.993091745295442,
           8.2126329600855,
           8.425476334793627,
           8.629881364193393,
           8.823068454996251,
           9.001856317941229,
           9.163830929181984,
           9.30840072653117,
           9.437002049930058,
           9.552403944787455,
           9.6577316580722,
           9.755795241894486,
           9.848850458152464,
           9.938627225557065,
           10.026450402129933,
           10.113363226990588,
           10.200226804814706,
           10.287795838675901,
           10.376778246838395,
           10.467887129483444
          ],
          [
           5.761632924421673,
           5.673774614719231,
           5.5751682223508485,
           5.463931381001959,
           5.337675204810721,
           5.193304654356405,
           5.026711120860162,
           4.832280643328541,
           4.6020714676550085,
           4.324366346304056,
           3.9809768742617284,
           3.5419749474023967,
           2.955768756216139,
           2.1453291398524357,
           1.281442152893036,
           1.7308446137989717,
           2.781437396789186,
           3.6057162958568707,
           4.243621761088457,
           4.762863973823833,
           5.203490749830895,
           5.589231506769472,
           5.935010220004273,
           6.250771293509262,
           6.543471969420033,
           6.818173821391998,
           7.078666184627572,
           7.327827195851808,
           7.567821579083674,
           7.800180051811862,
           8.02577590387624,
           8.244705284362142,
           8.456105680509312,
           8.658041678087619,
           8.847719439022683,
           9.022254169106654,
           9.179795474469941,
           9.320340158441828,
           9.44568881953929,
           9.558683042691298,
           9.662329492714377,
           9.759260608623151,
           9.851572718346425,
           9.940877036439364,
           10.028416936782179,
           10.115181491272764,
           10.201996183481294,
           10.289592490615926,
           10.378663585324034,
           10.469913984969168
          ],
          [
           5.6464333908082525,
           5.555793743591853,
           5.453749233237216,
           5.338212816061926,
           5.206504333297242,
           5.0551010167897665,
           4.879241725536564,
           4.672269033796602,
           4.424470745255795,
           4.120887147644746,
           3.7367558780686414,
           3.2268117947978854,
           2.495771369641604,
           1.3078117969632694,
           0,
           1.6722336991402336,
           2.900307193574914,
           3.7218973264806388,
           4.342640664508563,
           4.847107133299848,
           5.27655927166448,
           5.654052429549419,
           5.993771797833661,
           6.305086817149052,
           6.5945278811549635,
           6.866834201660301,
           7.1255400577197605,
           7.373307019086779,
           7.612098011212665,
           7.843235296327266,
           8.067358414665252,
           8.284297497048124,
           8.492920418275185,
           8.691114284941149,
           8.87614915864672,
           9.045530452606167,
           9.198010215579117,
           9.334132646680086,
           9.455980597995987,
           9.566396958460992,
           9.668229642952321,
           9.763916794551365,
           9.855389430105593,
           9.944137670541114,
           10.03132185482609,
           10.117875549248426,
           10.20458744062365,
           10.29216481066027,
           10.381285355441948,
           10.472644539278036
          ],
          [
           5.536122597029271,
           5.443654789196875,
           5.3394145327644145,
           5.221229218722603,
           5.086312197123889,
           4.93101121206148,
           4.75041755641601,
           4.5377372265236975,
           4.283241873459838,
           3.972465924504751,
           3.583130474824801,
           3.0809278975674737,
           2.425464529759367,
           1.7102791598995482,
           1.718121369882284,
           2.5466052087624655,
           3.3555798833368873,
           4.0094543369751765,
           4.546674612532414,
           5.003111424562292,
           5.402273745252649,
           5.759453208278629,
           6.084957858687091,
           6.386016173588302,
           6.6678766655966974,
           6.934454534977151,
           7.18871578710979,
           7.432897684319953,
           7.668614286088361,
           7.896868071896928,
           8.117977767507831,
           8.331447138809454,
           8.535858524655742,
           8.72897027291643,
           8.908216770039074,
           9.071581576418952,
           9.218429811542599,
           9.3497851015792,
           9.467919363429738,
           9.575607208364715,
           9.675503049751855,
           9.769838376354603,
           9.860375618445829,
           9.948482882765719,
           10.035236764408166,
           10.121514481428646,
           10.208067047140691,
           10.295576763949121,
           10.384705243407536,
           10.476138519003575
          ],
          [
           5.431357782208897,
           5.338485618366636,
           5.233930652528896,
           5.115632569746077,
           4.981009392117397,
           4.8267880763519395,
           4.648782695209667,
           4.441633583108955,
           4.19861427913565,
           3.9119730084743347,
           3.5756285409576423,
           3.196874131070823,
           2.8359478406778913,
           2.6722674476052433,
           2.8846531614182065,
           3.356736816885847,
           3.8814639984862658,
           4.372343535683817,
           4.813786386257091,
           5.2102856975619405,
           5.569754026558788,
           5.899431046370945,
           6.205192857364997,
           6.4916695229404295,
           6.762494376039732,
           7.020520512003889,
           7.267972740362627,
           7.506533587290609,
           7.737364733652193,
           7.961063488162564,
           8.177560607413215,
           8.38599752926622,
           8.584689953225862,
           8.771352563110428,
           8.943698981642346,
           9.10025973707015,
           9.240988607336494,
           9.367295817965669,
           9.48154354856061,
           9.586374214588915,
           9.684221083482498,
           9.777101464083172,
           9.866608667552075,
           9.953989395782054,
           10.040236679655651,
           10.12617108386667,
           10.212505406554277,
           10.299896403190502,
           10.388989141200671,
           10.480459960010842
          ],
          [
           5.333517712479667,
           5.2423462283972055,
           5.140254093679961,
           5.025575542607194,
           4.89636564333657,
           4.750409302881991,
           4.585332488320664,
           4.398978803728793,
           4.190445097990334,
           3.962681536595462,
           3.728425269637063,
           3.521107117742092,
           3.4039603891832577,
           3.447366448948219,
           3.664494650385204,
           3.9959423008490185,
           4.371317799335208,
           4.7482553820972555,
           5.109027209977775,
           5.4485983803454445,
           5.767190098323108,
           6.066863246204296,
           6.3501188999027365,
           6.619365442739179,
           6.876734540058214,
           7.124026978540691,
           7.362695074980096,
           7.593818923544372,
           7.8180540977751285,
           8.03554070263984,
           8.245784578011854,
           8.447566469909821,
           8.638999472904088,
           8.817873793854073,
           8.982296588077684,
           9.131380678519164,
           9.265605869157646,
           9.386656999095072,
           9.496888943156357,
           9.598757475145547,
           9.694455441016483,
           9.785783529709256,
           9.874168167839672,
           9.960736800716212,
           10.046399986364234,
           10.13192189936448,
           10.217976947800922,
           10.30519601795879,
           10.394207347929177,
           10.485677458121954
          ],
          [
           5.245995347031025,
           5.15963758136748,
           5.064042029774044,
           4.9582734532657415,
           4.841494205872828,
           4.713190161147438,
           4.573618016577842,
           4.424656278027785,
           4.271329748398508,
           4.124226815165476,
           4.002327143752777,
           3.9335284740941554,
           3.9474514480220484,
           4.0594717720549705,
           4.259594942517563,
           4.519952484263647,
           4.81136238647417,
           5.112823812579941,
           5.412210849602938,
           5.7036085971961965,
           5.98471132593224,
           6.255104826572921,
           6.515284081114021,
           6.766123888401607,
           7.008596937720059,
           7.24361623378951,
           7.471931518878607,
           7.694038638814419,
           7.910078283739584,
           8.119718096621694,
           8.322042439860247,
           8.51552278885778,
           8.698182191608531,
           8.868026513544242,
           9.023649230222563,
           9.164735452882075,
           9.292192498981755,
           9.407857760022841,
           9.513989775791531,
           9.612815817448197,
           9.70627808107318,
           9.795963246631715,
           9.883135758165263,
           9.968807445568297,
           10.05380839387542,
           10.138847237237751,
           10.224560211424201,
           10.311552283782374,
           10.40043477840552,
           10.491864435309434
          ],
          [
           5.176280355276033,
           5.099230223802027,
           5.015732873742373,
           4.925857887420898,
           4.8301586694593315,
           4.730012169877869,
           4.628134313541377,
           4.529293098268843,
           4.4411209373463745,
           4.374625978355119,
           4.3435383066647235,
           4.3614928210443,
           4.437273423539274,
           4.570813301426478,
           4.753249234016324,
           4.97098101018498,
           5.210404997682047,
           5.460677519691482,
           5.714330055441977,
           5.966742121262271,
           6.215325430370872,
           6.458809654408797,
           6.696722610277203,
           6.929039710540803,
           7.155950775413756,
           7.377697177827464,
           7.5944435564243475,
           7.8061592306665935,
           8.012496844071299,
           8.212676013798065,
           8.405413524221904,
           8.588979382665313,
           8.76145826491304,
           8.92120818337207,
           9.067358247461419,
           9.200105324883925,
           9.320658617828025,
           9.430887344362581,
           9.532879887742714,
           9.628607715086684,
           9.719761198764973,
           9.807720346741489,
           9.893594970165383,
           9.978286317176586,
           10.062546877663292,
           10.147031185204181,
           10.232337932263283,
           10.319046414134062,
           10.407751182525036,
           10.499099425903815
          ],
          [
           5.138502574189096,
           5.076684061446969,
           5.012184616537292,
           4.946066914690845,
           4.880051621105946,
           4.816760595254079,
           4.759970398376257,
           4.714784686508498,
           4.687554724178237,
           4.685324890239787,
           4.714669325115891,
           4.780118451982631,
           4.88281704730116,
           5.020161281357939,
           5.186641346843612,
           5.375379045514269,
           5.57958462610654,
           5.79346504627459,
           6.012552731184279,
           6.233651660745412,
           6.454610721340401,
           6.674059980028229,
           6.891172463619928,
           7.105468503296651,
           7.316657836963676,
           7.524506706970569,
           7.728716517150757,
           7.928805168545339,
           8.123993822270688,
           8.313123585788547,
           8.494654796804971,
           8.666813845819254,
           8.827912064650672,
           8.976761177021883,
           9.113015835117693,
           9.237278238047155,
           9.350921206720974,
           9.455738248899427,
           9.55359390280053,
           9.646191643888226,
           9.734977239298484,
           9.821135502226657,
           9.905631083169293,
           9.989260924409814,
           10.072703619101246,
           10.156561618864819,
           10.24139712355866,
           10.327764320215982,
           10.41624138083679,
           10.50746638925289
          ],
          [
           5.154567760456337,
           5.114231385470134,
           5.0751668801039065,
           5.038965408469293,
           5.007724142955327,
           4.984092574968886,
           4.971245828449529,
           4.972735288584188,
           4.992177277057244,
           5.0327859853308015,
           5.096836166626209,
           5.1852167478436,
           5.297245225637575,
           5.43082139509117,
           5.582855066639602,
           5.749802414183464,
           5.928144750347153,
           6.114715377723362,
           6.306861309494343,
           6.502475831211117,
           6.699950908669943,
           6.898090070094141,
           7.096007461483989,
           7.2930254459136785,
           7.488574004382738,
           7.682090486019183,
           7.87291809299134,
           8.060207106045329,
           8.242835921061209,
           8.419387605422981,
           8.58822964591933,
           8.747726833121687,
           8.896557001303611,
           9.03402449424325,
           9.160236978482507,
           9.276064745974834,
           9.382910932735951,
           9.482408961124214,
           9.576168302025525,
           9.66562645370692,
           9.751998950748918,
           9.836290240157037,
           9.919330999808448,
           10.001821192409615,
           10.084369951204415,
           10.167530216599799,
           10.251829169721544,
           10.337796785752094,
           10.425995524091494,
           10.517055057857172
          ],
          [
           5.2497956345079295,
           5.234671945661707,
           5.223666757837143,
           5.218231195496098,
           5.220034011219419,
           5.2309103420879195,
           5.252766057610957,
           5.287436065181328,
           5.336508187820762,
           5.401140246856292,
           5.481909759689698,
           5.578735046348786,
           5.690890085478731,
           5.817108739898158,
           5.9557492709444695,
           6.104978294389585,
           6.262937173356326,
           6.427867744878303,
           6.598189882688851,
           6.772534799421988,
           6.949743411543791,
           7.128839669230875,
           7.308986626570308,
           7.489430129416394,
           7.669432802040212,
           7.848200829336872,
           8.024809325776978,
           8.19814007449302,
           8.366856999075493,
           8.529452915805381,
           8.68439252736556,
           8.830341465453852,
           8.966420384246218,
           9.092390097469382,
           9.208689395069882,
           9.316311224102337,
           9.416577402256438,
           9.510906077251402,
           9.600642331847439,
           9.68697173678283,
           9.770899477011344,
           9.853266899181369,
           9.934783154405125,
           10.016059380184204,
           10.097640321905658,
           10.180032490581763,
           10.263729937947422,
           10.349239667002127,
           10.43710938770096,
           10.527961333452692
          ],
          [
           5.440756507356743,
           5.449118086279505,
           5.462600028259874,
           5.482170400759899,
           5.508837853450551,
           5.5436071007828165,
           5.587422676270062,
           5.641105436944514,
           5.7052892468935985,
           5.780367181271271,
           5.866456441214472,
           5.963388494135482,
           6.0707262609060875,
           6.187804862304767,
           6.313788196915134,
           6.447731631575504,
           6.5886415451596685,
           6.735524687646435,
           6.887423208160775,
           7.043433803150765,
           7.202711202178523,
           7.364457076115038,
           7.527895726812391,
           7.692238187421383,
           7.856637464623119,
           8.020140580882714,
           8.181648506954504,
           8.339902143105194,
           8.493517087246591,
           8.64108466735617,
           8.781336005888004,
           8.913334287203739,
           9.03663499349645,
           9.151354077230316,
           9.258116599787716,
           9.357908625943507,
           9.451892360343807,
           9.541245670898979,
           9.627058704199452,
           9.710288181537921,
           9.791752494570199,
           9.87214863954448,
           9.952077468569355,
           10.032070036751259,
           10.112612289707839,
           10.194167848131444,
           10.277199922537429,
           10.362194132068387,
           10.449684716171106,
           10.540287748092723
          ],
          [
           5.723440008594308,
           5.7485155494478555,
           5.778360725735849,
           5.813534289092535,
           5.8545869259215095,
           5.902040038633087,
           5.956362433487561,
           6.017946725302996,
           6.087087698059273,
           6.163964970557045,
           6.2486320072961865,
           6.341012785398613,
           6.440906396324657,
           6.5479987364754875,
           6.661879459913878,
           6.782061713755656,
           6.908001929944738,
           7.039117068439221,
           7.174797080058209,
           7.314410851175265,
           7.45730442972148,
           7.60279094960789,
           7.750132564899987,
           7.898516237258196,
           8.047027811518872,
           8.194632595879714,
           8.340174800620769,
           8.482410201509472,
           8.620082511141213,
           8.752041600690486,
           8.877383230278003,
           8.995573645335083,
           9.106518771117816,
           9.210552808657603,
           9.308350521674882,
           9.400795950106913,
           9.488850725657047,
           9.573453902773569,
           9.65546408312059,
           9.735637911345608,
           9.81463240061648,
           9.89301952023243,
           9.971305371298357,
           10.049950014459206,
           10.129386570486572,
           10.21003970194985,
           10.292344440412036,
           10.376766958518612,
           10.46382963797283,
           10.554144013370195
          ],
          [
           6.074957049243638,
           6.108653071895863,
           6.146339908571096,
           6.188348746698152,
           6.235000955417891,
           6.2865988107077895,
           6.343415647300404,
           6.405685979843091,
           6.473596221801848,
           6.547276646101558,
           6.626795157982428,
           6.7121532834540565,
           6.803284528622257,
           6.900054964613334,
           7.002265578692916,
           7.109655645422675,
           7.221906148194642,
           7.338642149886218,
           7.459432999026138,
           7.583789405482946,
           7.711156801698836,
           7.840905144922026,
           7.972316568920992,
           8.104574161041734,
           8.236757463777373,
           8.367852373175442,
           8.49678352025869,
           8.62247424995789,
           8.743932067749848,
           8.860347232879572,
           8.971182939677668,
           9.076232382122592,
           9.175624698173642,
           9.2697776036738,
           9.359312546539229,
           9.444958668444583,
           9.527469715405601,
           9.607566973126689,
           9.685909387226786,
           9.763084819843089,
           9.839614565180419,
           9.915964660525475,
           9.992559904428447,
           10.069798562249709,
           10.148067158974124,
           10.227755653070897,
           10.309273902120559,
           10.393070914720191,
           10.479659178403619,
           10.569647689048013
          ],
          [
           6.466522002680937,
           6.502561618484501,
           6.541886279077167,
           6.584715963145343,
           6.6312652927557485,
           6.681738916434336,
           6.736326495201707,
           6.795197440117189,
           6.858495577043059,
           6.92633392392876,
           6.998789751563598,
           7.075900056183398,
           7.15765750077002,
           7.2440067853148475,
           7.334841294475324,
           7.429999760553978,
           7.529262595647209,
           7.632347525143444,
           7.738904245325633,
           7.848508095006423,
           7.960653245630394,
           8.074746724820962,
           8.190105660848317,
           8.305961262077071,
           8.421473765319186,
           8.535762216292078,
           8.647950822770554,
           8.757229560198951,
           8.862921438157308,
           8.964544104218035,
           9.061851630506393,
           9.154845371232936,
           9.243750781900772,
           9.328967158707771,
           9.411004562654963,
           9.49042328523171,
           9.567786582469676,
           9.643630599870582,
           9.71844996639104,
           9.792694926515725,
           9.866775666201644,
           9.94107050774575,
           10.015935938764503,
           10.091717526702807,
           10.16876155429991,
           10.247427776991598,
           10.328104190036191,
           10.411225258532948,
           10.497295907348207,
           10.58692501327515
          ],
          [
           6.873768525728574,
           6.908397079244018,
           6.945764406145167,
           6.986032148059156,
           7.0293590860126836,
           7.07589831541379,
           7.1257940496897945,
           7.179178073078577,
           7.236165871850567,
           7.296852477728065,
           7.361308055762238,
           7.429573260603674,
           7.5016543709152375,
           7.57751819551984,
           7.657086734948479,
           7.740231592239892,
           7.82676817759528,
           7.916449869139289,
           8.00896250458408,
           8.103919905284364,
           8.200861566448403,
           8.299254121982187,
           8.398498566246841,
           8.497945260154474,
           8.59691819704867,
           8.6947486517978,
           8.790816196851594,
           8.884592506526316,
           8.97568115289845,
           9.063845766066834,
           9.149020396698825,
           9.231299789266606,
           9.310912367326079,
           9.388182926202052,
           9.463493534967617,
           9.537249693031242,
           9.609855606444373,
           9.681699245479017,
           9.753145730916025,
           9.824536787699964,
           9.8961941337464,
           9.968425238744585,
           10.041530531922467,
           10.115811695082042,
           10.191581126283465,
           10.269173051799815,
           10.348957184915482,
           10.431356397801835,
           10.516870771308573,
           10.606111951353702
          ],
          [
           7.278865622499331,
           7.3101740278022636,
           7.34377971107778,
           7.379807192004523,
           7.418378710116983,
           7.459612118061534,
           7.503618428058434,
           7.550498994109093,
           7.600342317703997,
           7.653220471478794,
           7.709185144288358,
           7.768263324202058,
           7.8304526558767344,
           7.895716540138263,
           7.963979092624288,
           8.035120152503563,
           8.10897063879426,
           8.18530869430576,
           8.26385723046824,
           8.34428366902418,
           8.426202824456464,
           8.509183913806558,
           8.592762528297332,
           8.676457965573706,
           8.759795553357906,
           8.842332535212837,
           8.923684915486323,
           9.003551709134236,
           9.081732748036504,
           9.158136917720645,
           9.232779465161352,
           9.305769361694201,
           9.37728979237849,
           9.447575906830329,
           9.516893737588255,
           9.58552299778428,
           9.653744955230366,
           9.721835317136257,
           9.790061322215584,
           9.858682008530806,
           9.92795073796985,
           9.998119330008597,
           10.069443466315494,
           10.142189322784835,
           10.216641668547569,
           10.293113977894388,
           10.371961494383392,
           10.453598771401488,
           10.538524175878505,
           10.627355540308695
          ],
          [
           7.667959057308477,
           7.695055843278054,
           7.72405697552685,
           7.755058278236413,
           7.788153060469598,
           7.8234303959970095,
           7.86097311689748,
           7.9008555064723005,
           7.943140685436924,
           7.987877697879832,
           8.035098321436234,
           8.084813651131677,
           8.137010540217217,
           8.191648025773086,
           8.24865392299929,
           8.307921839462253,
           8.369308935692285,
           8.432634833290116,
           8.497682131499763,
           8.564199015903174,
           8.631904399579696,
           8.700495896112269,
           8.769660659614036,
           8.839088734057606,
           8.908488065139322,
           8.977599828362969,
           9.046212355839259,
           9.114171863222728,
           9.181388506003673,
           9.24783702745038,
           9.313552231366174,
           9.378620434147496,
           9.443168639468388,
           9.507353289455658,
           9.571350125165711,
           9.635346125500735,
           9.69953390917639,
           9.764108538537597,
           9.82926641769178,
           9.895205911063636,
           9.962129365232006,
           10.030246340687322,
           10.099778015453223,
           10.170962898362845,
           10.244064196801684,
           10.31937945307123,
           10.397253453364247,
           10.478096028872038,
           10.562407407847862,
           10.650815634759383
          ],
          [
           8.028463066242267,
           8.050988500056219,
           8.075052508740026,
           8.100727647748808,
           8.128083943397156,
           8.15718755927199,
           8.188099269198963,
           8.220872737198645,
           8.25555261485231,
           8.292172480072024,
           8.330752659034413,
           8.371297995430606,
           8.413795658286963,
           8.458213110857029,
           8.504496396876746,
           8.55256893371993,
           8.60233102963776,
           8.653660356990828,
           8.706413605687455,
           8.760429500140825,
           8.815533278971182,
           8.871542603850111,
           8.928274686129454,
           8.985554215538578,
           9.043221479861076,
           9.10113992783311,
           9.15920240153824,
           9.217335384035538,
           9.275500870133346,
           9.333695823706257,
           9.391949548516177,
           9.450319579763224,
           9.508886837894865,
           9.567750762449595,
           9.627024998734864,
           9.686834008085349,
           9.747310776920628,
           9.808595653724996,
           9.870836262685946,
           9.934188423833657,
           9.9988180386983,
           10.06490396517748,
           10.132641999789419,
           10.2022502137406,
           10.273976067132521,
           10.348105985836069,
           10.424978488815665,
           10.505002613177181,
           10.588684518191592,
           10.676667199611815
          ],
          [
           8.349238419330495,
           8.367251867820842,
           8.386476749313804,
           8.406968699821844,
           8.428781484776994,
           8.451966088156121,
           8.47656969299722,
           8.502634561617304,
           8.53019683161489,
           8.559285253468094,
           8.589919907244079,
           8.622110949407402,
           8.655857455399925,
           8.691146438531227,
           8.727952139125346,
           8.766235687479103,
           8.805945246973584,
           8.847016736129644,
           8.889375206987449,
           8.932936919225392,
           8.977612094235825,
           9.023308263633064,
           9.06993404955035,
           9.117403141449968,
           9.165638181231907,
           9.21457425046478,
           9.264161681221259,
           9.314367986598638,
           9.365178818034593,
           9.416597983088836,
           9.468646673752454,
           9.521362138931327,
           9.574796072877113,
           9.629012984406733,
           9.684088771399054,
           9.74010966879697,
           9.797171683383825,
           9.855380587496406,
           9.914852523180075,
           9.975715270104509,
           10.038110254990954,
           10.10219542843084,
           10.168149211233754,
           10.236175827136632,
           10.306512511796923,
           10.379439356105449,
           10.455292972114451,
           10.534485888270039,
           10.617534832799455,
           10.705103352926574
          ],
          [
           8.62389678320774,
           8.637890971406113,
           8.65282869358663,
           8.668754980783758,
           8.685714050218946,
           8.703748757526302,
           8.722899992257462,
           8.743206024267119,
           8.764701813102985,
           8.787418297836206,
           8.811381690739358,
           8.836612804579138,
           8.86312644959426,
           8.890930941823084,
           8.92002776846187,
           8.950411457316475,
           8.982069695000616,
           9.014983731236535,
           9.049129093641383,
           9.084476618568308,
           9.120993779696798,
           9.158646269111063,
           9.19739975878429,
           9.237221747865275,
           9.278083387376157,
           9.319961172574217,
           9.362838406175282,
           9.406706362095175,
           9.451565115714564,
           9.497424047110412,
           9.544302061646512,
           9.592227602136106,
           9.641238545211724,
           9.691382081312893,
           9.742714675308987,
           9.795302197405933,
           9.84922030633821,
           9.904555163215724,
           9.961404558367695,
           10.019879548291447,
           10.080106728921296,
           10.142231319899215,
           10.206421310414804,
           10.272873034092234,
           10.341818721874144,
           10.413536869558756,
           10.48836672644805,
           10.566729006442356,
           10.649156324082531,
           10.736339447752181
          ],
          [
           8.853510902672518,
           8.864283453793561,
           8.875797721310672,
           8.888092429772632,
           8.901206472746196,
           8.915178615041876,
           8.930047162278878,
           8.945849601747865,
           8.962622220746548,
           8.980399711085811,
           8.999214771208015,
           9.019097720182115,
           9.040076140534818,
           9.062174569166073,
           9.085414257143134,
           9.109813019591773,
           9.135385195828107,
           9.162141736982642,
           9.190090433479638,
           9.219236287893278,
           9.249582030248602,
           9.28112876345085,
           9.31387671721396,
           9.347826080841903,
           9.382977879761171,
           9.419334858875406,
           9.456902338233178,
           9.495689013157433,
           9.535707681191441,
           9.576975890726708,
           9.61951651947133,
           9.663358303555286,
           9.70853634904076,
           9.755092666549398,
           9.803076776984168,
           9.8525464428991,
           9.903568587449975,
           9.956220472957096,
           10.010591226298425,
           10.066783821677603,
           10.124917666977995,
           10.185131994127238,
           10.24759033637056,
           10.312486501997606,
           10.380052651948581,
           10.450570405477064,
           10.524386420544662,
           10.601934788699012,
           10.683770175248565,
           10.770618611029148
          ],
          [
           9.045350605342067,
           9.053748667464578,
           9.062743460872051,
           9.072369477682448,
           9.082662052974388,
           9.093657219020976,
           9.105391537632821,
           9.11790191172339,
           9.131225378232172,
           9.145398885720574,
           9.160459061262312,
           9.176441972633347,
           9.19338289319145,
           9.21131607812293,
           9.230274561802505,
           9.250289986725278,
           9.271392474687813,
           9.293610550493696,
           9.316971127350918,
           9.341499561288716,
           9.367219779410613,
           9.394154483778706,
           9.422325429454403,
           9.451753772050703,
           9.482460477477291,
           9.514466784773752,
           9.547794712354687,
           9.58246759884105,
           9.618510671981479,
           9.655951642883888,
           9.694821327679835,
           9.735154304590381,
           9.776989620959752,
           9.820371572115498,
           9.865350582065021,
           9.911984225503943,
           9.960338442221174,
           10.01048901004908,
           10.062523362993721,
           10.116542870021725,
           10.172665731602146,
           10.231030712363552,
           10.291802020100898,
           10.355175781997957,
           10.421388789341732,
           10.490730537101774,
           10.563560175394894,
           10.640331009261326,
           10.721627019705014,
           10.80821935869389
          ],
          [
           9.208960523428589,
           9.215684937587293,
           9.22290271978329,
           9.230644968989298,
           9.238944003160137,
           9.247833303411392,
           9.257347442694403,
           9.267521998629029,
           9.278393450610361,
           9.28999906186142,
           9.302376747757311,
           9.315564932486236,
           9.329602396918888,
           9.344528121399074,
           9.360381128004072,
           9.377200327602186,
           9.395024377700434,
           9.41389155756768,
           9.433839667383785,
           9.454905958161474,
           9.477127098894785,
           9.500539186816127,
           9.525177805839288,
           9.551078137312901,
           9.578275126229126,
           9.606803705174801,
           9.636699077743447,
           9.667997063014344,
           9.700734503207919,
           9.734949737885104,
           9.770683150196449,
           9.807977793825232,
           9.846880113551878,
           9.887440778002084,
           9.929715650458078,
           9.973766933139258,
           10.019664532930676,
           10.067487713453048,
           10.117327121624152,
           10.169287309539365,
           10.223489919402342,
           10.280077767998712,
           10.339220170253803,
           10.401119999554993,
           10.466023231674937,
           10.534232123482571,
           10.606123856291928,
           10.68217765757991,
           10.763015574648929,
           10.849466227965959
          ],
          [
           9.35293341441704,
           9.358483922366325,
           9.364452780400034,
           9.370868134046423,
           9.377759522053527,
           9.385157874773293,
           9.393095501918282,
           9.401606068806474,
           9.410724560387253,
           9.420487232585552,
           9.430931550817977,
           9.442096115927114,
           9.454020578248487,
           9.466745541064205,
           9.480312455298533,
           9.494763507958758,
           9.510141507499027,
           9.526489769960314,
           9.54385201038827,
           9.562272244623212,
           9.5817947070674,
           9.602463790444503,
           9.624324013867414,
           9.647420025731195,
           9.671796648075684,
           9.697498969167555,
           9.724572491208221,
           9.753063340380876,
           9.783018547029911,
           9.814486404767278,
           9.847516918899723,
           9.882162356981569,
           9.918477917787103,
           9.956522539913662,
           9.996359878049166,
           10.038059484345139,
           10.08169824531972,
           10.127362142752673,
           10.17514843236705,
           10.225168370174837,
           10.27755066862649,
           10.332445941863785,
           10.390032515776172,
           10.45052415846647,
           10.51418057247072,
           10.581321958104242,
           10.652349751268396,
           10.727777041365014,
           10.80827477099445,
           10.894744900348128
          ],
          [
           9.483731918871896,
           9.488441031908257,
           9.49351251337342,
           9.498971918347662,
           9.50484625268785,
           9.51116400467112,
           9.517955169942681,
           9.525251268792921,
           9.533085354828453,
           9.541492014183069,
           9.550507354545706,
           9.560168983470673,
           9.570515975687423,
           9.581588829448265,
           9.59342941234606,
           9.606080897501082,
           9.619587691554715,
           9.633995356512088,
           9.649350528137463,
           9.665700834313665,
           9.68309481751678,
           9.701581866316229,
           9.721212161576819,
           9.742036643807468,
           9.764107008873463,
           9.787475740081284,
           9.812196185490246,
           9.83832269025968,
           9.8659107949885,
           9.89501751246579,
           9.925701697191803,
           9.958024524671206,
           9.992050101127024,
           10.027846229345725,
           10.065485363412355,
           10.105045794936334,
           10.14661312716926,
           10.190282112896075,
           10.236158959735372,
           10.284364246514569,
           10.335036653002037,
           10.388337792681746,
           10.444458571370783,
           10.50362770221182,
           10.566123340899805,
           10.63228935714667,
           10.702558707001277,
           10.777488070798677,
           10.857811123601579,
           10.944524203406433
          ],
          [
           9.60585632596325,
           9.60994252859778,
           9.614348103267787,
           9.619096356611701,
           9.624212041584135,
           9.629721409631188,
           9.635652259279235,
           9.642033980271004,
           9.64889759235687,
           9.656275777848174,
           9.664202907069914,
           9.67271505592001,
           9.681850014859616,
           9.691647288831794,
           9.702148087842577,
           9.71339530824655,
           9.72543350516519,
           9.738308856935967,
           9.752069123046944,
           9.766763597657446,
           9.782443061540569,
           9.799159736106558,
           9.816967244076643,
           9.835920582374877,
           9.856076113895455,
           9.877491585996841,
           9.900226184895711,
           9.924340636625502,
           9.949897366953879,
           9.976960734724505,
           10.005597355653789,
           10.035876536893383,
           10.067870846978305,
           10.101656851566002,
           10.137316053271391,
           10.174936084837714,
           10.214612220198468,
           10.256449289684813,
           10.300564116755776,
           10.347088638891323,
           10.396173942181855,
           10.447995539875517,
           10.502760380145585,
           10.560716312897956,
           10.622165142557632,
           10.68748106032207,
           10.757137411786776,
           10.83174687557749,
           10.912124203466053,
           10.999389018406085
          ],
          [
           9.722400417743955,
           9.726010253816904,
           9.729905578639281,
           9.734107762903216,
           9.738639588420416,
           9.743525312927174,
           9.748790733708265,
           9.754463249353945,
           9.76057191891266,
           9.767147517663753,
           9.77422258871525,
           9.781831489638167,
           9.790010433388051,
           9.798797522845367,
           9.80823277843756,
           9.818358158497466,
           9.829217572275207,
           9.840856885864353,
           9.853323921738728,
           9.866668453133759,
           9.880942195156354,
           9.896198795279536,
           9.912493826783436,
           9.929884789754478,
           9.948431125465067,
           9.968194251347999,
           9.989237625384321,
           10.011626850587543,
           10.035429832461654,
           10.06071700494158,
           10.087561643549412,
           10.116040288548406,
           10.14623330608556,
           10.178225622171471,
           10.21210767356731,
           10.247976632281931,
           10.285937977986723,
           10.326107517582729,
           10.368613987014355,
           10.41360242287604,
           10.46123856948463,
           10.51171470584451,
           10.565257461651129,
           10.622138486469028,
           10.682689321773626,
           10.74732265313929,
           10.816563588810146,
           10.891097345409026,
           10.971845108934454,
           11.060091208369935
          ],
          [
           9.835547486703536,
           9.83878282966466,
           9.842276393480162,
           9.846047888284938,
           9.850118386580181,
           9.854510395721345,
           9.85924793106631,
           9.86435658929235,
           9.86986362133423,
           9.875798004346112,
           9.882190512051338,
           9.889073782821479,
           9.896482384826115,
           9.904452877624612,
           9.913023869639822,
           9.922236071070769,
           9.932132341978635,
           9.942757735529966,
           9.954159536716912,
           9.966387297311723,
           9.979492868367903,
           9.993530432271525,
           10.008556537193595,
           10.02463013782069,
           10.041812647474769,
           10.060168008208077,
           10.079762787221528,
           10.100666310066686,
           10.122950843639535,
           10.146691845083092,
           10.171968296564868,
           10.198863150744849,
           10.22746391798033,
           10.257863434483141,
           10.290160861575302,
           10.324462981105652,
           10.360885872836835,
           10.399557089007448,
           10.44061848370067,
           10.484229917065154,
           10.530574148140365,
           10.579863373895925,
           10.632348098510107,
           10.688329383456562,
           10.748176141828525,
           10.81235020395971,
           10.881443809470573,
           10.956237860422434,
           11.03779673967384,
           11.12763185256302
          ],
          [
           9.946917350129656,
           9.949851976545178,
           9.953022533693701,
           9.956447310335712,
           9.960145904674981,
           9.964139301440706,
           9.968449951041427,
           9.973101850483712,
           9.978120625699008,
           9.983533614875395,
           9.989369952350675,
           9.99566065259338,
           10.002438693783903,
           10.009739100515826,
           10.017599025175121,
           10.026057827631792,
           10.035157153005839,
           10.044941007459958,
           10.055455832240655,
           10.066750576554597,
           10.078876770348566,
           10.091888598682766,
           10.10584298017555,
           10.120799652985893,
           10.136821273026998,
           10.153973530619433,
           10.172325293657806,
           10.191948787663508,
           10.212919825939546,
           10.235318106586464,
           10.259227597599498,
           10.284737036959342,
           10.31194058200592,
           10.340938652111964,
           10.371839021737472,
           10.404758238827988,
           10.439823468472278,
           10.477174897241559,
           10.516968885179722,
           10.559382128829565,
           10.604617214515246,
           10.65291012101177,
           10.704540517810988,
           10.759846177456016,
           10.819243624885633,
           10.883258573568412,
           10.952572351681246,
           11.028095742553143,
           11.111092663297198,
           11.203401331508777
          ],
          [
           10.057794287283565,
           10.060483913566488,
           10.063391067429741,
           10.066532824843465,
           10.069927519369918,
           10.073594821951028,
           10.077555823864074,
           10.081833122705502,
           10.086450911225601,
           10.091435068801147,
           10.096813255301603,
           10.102615007080427,
           10.108871834810865,
           10.115617322890866,
           10.122887230171443,
           10.130719591825537,
           10.139154822280958,
           10.148235819304185,
           10.158008069557333,
           10.168519756277385,
           10.179821870167546,
           10.19196832517242,
           10.205016081565107,
           10.219025279745322,
           10.234059389383647,
           10.250185380111212,
           10.267473921927438,
           10.285999625988154,
           10.305841339585292,
           10.327082513134282,
           10.349811662120777,
           10.374122953615023,
           10.400116955704629,
           10.42790159985267,
           10.4575934219904,
           10.489319169964963,
           10.523217895643535,
           10.559443694001548,
           10.598169316037087,
           10.639590979021088,
           10.683934845961415,
           10.731465879958417,
           10.782500158526544,
           10.837422369410673,
           10.89671131858245,
           10.960978301719667,
           11.031027069617972,
           11.107952049289429,
           11.19330900254551,
           11.289434970779935
          ],
          [
           10.169280336638234,
           10.171768870727277,
           10.174459685022008,
           10.17736882794068,
           10.180513557824014,
           10.183912424345666,
           10.187585353965549,
           10.191553739435685,
           10.19584053334641,
           10.200470345680456,
           10.205469545326071,
           10.210866365490402,
           10.216691012955266,
           10.2229757811337,
           10.229755166924122,
           10.237065991427608,
           10.244947524703088,
           10.253441614898192,
           10.262592822326091,
           10.27244855938105,
           10.283059237622297,
           10.294478423938155,
           10.306763008468367,
           10.319973387960674,
           10.334173669529063,
           10.349431901444222,
           10.365820339724353,
           10.383415762042366,
           10.40229984400704,
           10.42255961746338,
           10.444288036443565,
           10.467584684287315,
           10.492556665966527,
           10.51931974386571,
           10.547999794792366,
           10.578734693267586,
           10.611676764977853,
           10.646996010677967,
           10.684884384584231,
           10.725561538605698,
           10.769282642344898,
           10.816349207543423,
           10.86712437394894,
           10.92205502181964,
           10.981704705090593,
           11.046804468759946,
           11.118334751291869,
           11.197664760423784,
           11.286806715896674,
           11.388924229445161
          ]
         ]
        },
        {
         "name": "optimum",
         "type": "scatter",
         "x": [
          0.03049532422894547
         ],
         "y": [
          0.04896612114663207
         ]
        }
       ],
       "layout": {
        "margin": {
         "b": 0,
         "l": 0,
         "r": 0,
         "t": 25
        },
        "showlegend": false,
        "template": {
         "data": {
          "bar": [
           {
            "error_x": {
             "color": "#2a3f5f"
            },
            "error_y": {
             "color": "#2a3f5f"
            },
            "marker": {
             "line": {
              "color": "#E5ECF6",
              "width": 0.5
             }
            },
            "type": "bar"
           }
          ],
          "barpolar": [
           {
            "marker": {
             "line": {
              "color": "#E5ECF6",
              "width": 0.5
             }
            },
            "type": "barpolar"
           }
          ],
          "carpet": [
           {
            "aaxis": {
             "endlinecolor": "#2a3f5f",
             "gridcolor": "white",
             "linecolor": "white",
             "minorgridcolor": "white",
             "startlinecolor": "#2a3f5f"
            },
            "baxis": {
             "endlinecolor": "#2a3f5f",
             "gridcolor": "white",
             "linecolor": "white",
             "minorgridcolor": "white",
             "startlinecolor": "#2a3f5f"
            },
            "type": "carpet"
           }
          ],
          "choropleth": [
           {
            "colorbar": {
             "outlinewidth": 0,
             "ticks": ""
            },
            "type": "choropleth"
           }
          ],
          "contour": [
           {
            "colorbar": {
             "outlinewidth": 0,
             "ticks": ""
            },
            "colorscale": [
             [
              0,
              "#0d0887"
             ],
             [
              0.1111111111111111,
              "#46039f"
             ],
             [
              0.2222222222222222,
              "#7201a8"
             ],
             [
              0.3333333333333333,
              "#9c179e"
             ],
             [
              0.4444444444444444,
              "#bd3786"
             ],
             [
              0.5555555555555556,
              "#d8576b"
             ],
             [
              0.6666666666666666,
              "#ed7953"
             ],
             [
              0.7777777777777778,
              "#fb9f3a"
             ],
             [
              0.8888888888888888,
              "#fdca26"
             ],
             [
              1,
              "#f0f921"
             ]
            ],
            "type": "contour"
           }
          ],
          "contourcarpet": [
           {
            "colorbar": {
             "outlinewidth": 0,
             "ticks": ""
            },
            "type": "contourcarpet"
           }
          ],
          "heatmap": [
           {
            "colorbar": {
             "outlinewidth": 0,
             "ticks": ""
            },
            "colorscale": [
             [
              0,
              "#0d0887"
             ],
             [
              0.1111111111111111,
              "#46039f"
             ],
             [
              0.2222222222222222,
              "#7201a8"
             ],
             [
              0.3333333333333333,
              "#9c179e"
             ],
             [
              0.4444444444444444,
              "#bd3786"
             ],
             [
              0.5555555555555556,
              "#d8576b"
             ],
             [
              0.6666666666666666,
              "#ed7953"
             ],
             [
              0.7777777777777778,
              "#fb9f3a"
             ],
             [
              0.8888888888888888,
              "#fdca26"
             ],
             [
              1,
              "#f0f921"
             ]
            ],
            "type": "heatmap"
           }
          ],
          "heatmapgl": [
           {
            "colorbar": {
             "outlinewidth": 0,
             "ticks": ""
            },
            "colorscale": [
             [
              0,
              "#0d0887"
             ],
             [
              0.1111111111111111,
              "#46039f"
             ],
             [
              0.2222222222222222,
              "#7201a8"
             ],
             [
              0.3333333333333333,
              "#9c179e"
             ],
             [
              0.4444444444444444,
              "#bd3786"
             ],
             [
              0.5555555555555556,
              "#d8576b"
             ],
             [
              0.6666666666666666,
              "#ed7953"
             ],
             [
              0.7777777777777778,
              "#fb9f3a"
             ],
             [
              0.8888888888888888,
              "#fdca26"
             ],
             [
              1,
              "#f0f921"
             ]
            ],
            "type": "heatmapgl"
           }
          ],
          "histogram": [
           {
            "marker": {
             "colorbar": {
              "outlinewidth": 0,
              "ticks": ""
             }
            },
            "type": "histogram"
           }
          ],
          "histogram2d": [
           {
            "colorbar": {
             "outlinewidth": 0,
             "ticks": ""
            },
            "colorscale": [
             [
              0,
              "#0d0887"
             ],
             [
              0.1111111111111111,
              "#46039f"
             ],
             [
              0.2222222222222222,
              "#7201a8"
             ],
             [
              0.3333333333333333,
              "#9c179e"
             ],
             [
              0.4444444444444444,
              "#bd3786"
             ],
             [
              0.5555555555555556,
              "#d8576b"
             ],
             [
              0.6666666666666666,
              "#ed7953"
             ],
             [
              0.7777777777777778,
              "#fb9f3a"
             ],
             [
              0.8888888888888888,
              "#fdca26"
             ],
             [
              1,
              "#f0f921"
             ]
            ],
            "type": "histogram2d"
           }
          ],
          "histogram2dcontour": [
           {
            "colorbar": {
             "outlinewidth": 0,
             "ticks": ""
            },
            "colorscale": [
             [
              0,
              "#0d0887"
             ],
             [
              0.1111111111111111,
              "#46039f"
             ],
             [
              0.2222222222222222,
              "#7201a8"
             ],
             [
              0.3333333333333333,
              "#9c179e"
             ],
             [
              0.4444444444444444,
              "#bd3786"
             ],
             [
              0.5555555555555556,
              "#d8576b"
             ],
             [
              0.6666666666666666,
              "#ed7953"
             ],
             [
              0.7777777777777778,
              "#fb9f3a"
             ],
             [
              0.8888888888888888,
              "#fdca26"
             ],
             [
              1,
              "#f0f921"
             ]
            ],
            "type": "histogram2dcontour"
           }
          ],
          "mesh3d": [
           {
            "colorbar": {
             "outlinewidth": 0,
             "ticks": ""
            },
            "type": "mesh3d"
           }
          ],
          "parcoords": [
           {
            "line": {
             "colorbar": {
              "outlinewidth": 0,
              "ticks": ""
             }
            },
            "type": "parcoords"
           }
          ],
          "pie": [
           {
            "automargin": true,
            "type": "pie"
           }
          ],
          "scatter": [
           {
            "marker": {
             "colorbar": {
              "outlinewidth": 0,
              "ticks": ""
             }
            },
            "type": "scatter"
           }
          ],
          "scatter3d": [
           {
            "line": {
             "colorbar": {
              "outlinewidth": 0,
              "ticks": ""
             }
            },
            "marker": {
             "colorbar": {
              "outlinewidth": 0,
              "ticks": ""
             }
            },
            "type": "scatter3d"
           }
          ],
          "scattercarpet": [
           {
            "marker": {
             "colorbar": {
              "outlinewidth": 0,
              "ticks": ""
             }
            },
            "type": "scattercarpet"
           }
          ],
          "scattergeo": [
           {
            "marker": {
             "colorbar": {
              "outlinewidth": 0,
              "ticks": ""
             }
            },
            "type": "scattergeo"
           }
          ],
          "scattergl": [
           {
            "marker": {
             "colorbar": {
              "outlinewidth": 0,
              "ticks": ""
             }
            },
            "type": "scattergl"
           }
          ],
          "scattermapbox": [
           {
            "marker": {
             "colorbar": {
              "outlinewidth": 0,
              "ticks": ""
             }
            },
            "type": "scattermapbox"
           }
          ],
          "scatterpolar": [
           {
            "marker": {
             "colorbar": {
              "outlinewidth": 0,
              "ticks": ""
             }
            },
            "type": "scatterpolar"
           }
          ],
          "scatterpolargl": [
           {
            "marker": {
             "colorbar": {
              "outlinewidth": 0,
              "ticks": ""
             }
            },
            "type": "scatterpolargl"
           }
          ],
          "scatterternary": [
           {
            "marker": {
             "colorbar": {
              "outlinewidth": 0,
              "ticks": ""
             }
            },
            "type": "scatterternary"
           }
          ],
          "surface": [
           {
            "colorbar": {
             "outlinewidth": 0,
             "ticks": ""
            },
            "colorscale": [
             [
              0,
              "#0d0887"
             ],
             [
              0.1111111111111111,
              "#46039f"
             ],
             [
              0.2222222222222222,
              "#7201a8"
             ],
             [
              0.3333333333333333,
              "#9c179e"
             ],
             [
              0.4444444444444444,
              "#bd3786"
             ],
             [
              0.5555555555555556,
              "#d8576b"
             ],
             [
              0.6666666666666666,
              "#ed7953"
             ],
             [
              0.7777777777777778,
              "#fb9f3a"
             ],
             [
              0.8888888888888888,
              "#fdca26"
             ],
             [
              1,
              "#f0f921"
             ]
            ],
            "type": "surface"
           }
          ],
          "table": [
           {
            "cells": {
             "fill": {
              "color": "#EBF0F8"
             },
             "line": {
              "color": "white"
             }
            },
            "header": {
             "fill": {
              "color": "#C8D4E3"
             },
             "line": {
              "color": "white"
             }
            },
            "type": "table"
           }
          ]
         },
         "layout": {
          "annotationdefaults": {
           "arrowcolor": "#2a3f5f",
           "arrowhead": 0,
           "arrowwidth": 1
          },
          "coloraxis": {
           "colorbar": {
            "outlinewidth": 0,
            "ticks": ""
           }
          },
          "colorscale": {
           "diverging": [
            [
             0,
             "#8e0152"
            ],
            [
             0.1,
             "#c51b7d"
            ],
            [
             0.2,
             "#de77ae"
            ],
            [
             0.3,
             "#f1b6da"
            ],
            [
             0.4,
             "#fde0ef"
            ],
            [
             0.5,
             "#f7f7f7"
            ],
            [
             0.6,
             "#e6f5d0"
            ],
            [
             0.7,
             "#b8e186"
            ],
            [
             0.8,
             "#7fbc41"
            ],
            [
             0.9,
             "#4d9221"
            ],
            [
             1,
             "#276419"
            ]
           ],
           "sequential": [
            [
             0,
             "#0d0887"
            ],
            [
             0.1111111111111111,
             "#46039f"
            ],
            [
             0.2222222222222222,
             "#7201a8"
            ],
            [
             0.3333333333333333,
             "#9c179e"
            ],
            [
             0.4444444444444444,
             "#bd3786"
            ],
            [
             0.5555555555555556,
             "#d8576b"
            ],
            [
             0.6666666666666666,
             "#ed7953"
            ],
            [
             0.7777777777777778,
             "#fb9f3a"
            ],
            [
             0.8888888888888888,
             "#fdca26"
            ],
            [
             1,
             "#f0f921"
            ]
           ],
           "sequentialminus": [
            [
             0,
             "#0d0887"
            ],
            [
             0.1111111111111111,
             "#46039f"
            ],
            [
             0.2222222222222222,
             "#7201a8"
            ],
            [
             0.3333333333333333,
             "#9c179e"
            ],
            [
             0.4444444444444444,
             "#bd3786"
            ],
            [
             0.5555555555555556,
             "#d8576b"
            ],
            [
             0.6666666666666666,
             "#ed7953"
            ],
            [
             0.7777777777777778,
             "#fb9f3a"
            ],
            [
             0.8888888888888888,
             "#fdca26"
            ],
            [
             1,
             "#f0f921"
            ]
           ]
          },
          "colorway": [
           "#636efa",
           "#EF553B",
           "#00cc96",
           "#ab63fa",
           "#FFA15A",
           "#19d3f3",
           "#FF6692",
           "#B6E880",
           "#FF97FF",
           "#FECB52"
          ],
          "font": {
           "color": "#2a3f5f"
          },
          "geo": {
           "bgcolor": "white",
           "lakecolor": "white",
           "landcolor": "#E5ECF6",
           "showlakes": true,
           "showland": true,
           "subunitcolor": "white"
          },
          "hoverlabel": {
           "align": "left"
          },
          "hovermode": "closest",
          "mapbox": {
           "style": "light"
          },
          "paper_bgcolor": "white",
          "plot_bgcolor": "#E5ECF6",
          "polar": {
           "angularaxis": {
            "gridcolor": "white",
            "linecolor": "white",
            "ticks": ""
           },
           "bgcolor": "#E5ECF6",
           "radialaxis": {
            "gridcolor": "white",
            "linecolor": "white",
            "ticks": ""
           }
          },
          "scene": {
           "xaxis": {
            "backgroundcolor": "#E5ECF6",
            "gridcolor": "white",
            "gridwidth": 2,
            "linecolor": "white",
            "showbackground": true,
            "ticks": "",
            "zerolinecolor": "white"
           },
           "yaxis": {
            "backgroundcolor": "#E5ECF6",
            "gridcolor": "white",
            "gridwidth": 2,
            "linecolor": "white",
            "showbackground": true,
            "ticks": "",
            "zerolinecolor": "white"
           },
           "zaxis": {
            "backgroundcolor": "#E5ECF6",
            "gridcolor": "white",
            "gridwidth": 2,
            "linecolor": "white",
            "showbackground": true,
            "ticks": "",
            "zerolinecolor": "white"
           }
          },
          "shapedefaults": {
           "line": {
            "color": "#2a3f5f"
           }
          },
          "ternary": {
           "aaxis": {
            "gridcolor": "white",
            "linecolor": "white",
            "ticks": ""
           },
           "baxis": {
            "gridcolor": "white",
            "linecolor": "white",
            "ticks": ""
           },
           "bgcolor": "#E5ECF6",
           "caxis": {
            "gridcolor": "white",
            "linecolor": "white",
            "ticks": ""
           }
          },
          "title": {
           "x": 0.05
          },
          "xaxis": {
           "automargin": true,
           "gridcolor": "white",
           "linecolor": "white",
           "ticks": "",
           "title": {
            "standoff": 15
           },
           "zerolinecolor": "white",
           "zerolinewidth": 2
          },
          "yaxis": {
           "automargin": true,
           "gridcolor": "white",
           "linecolor": "white",
           "ticks": "",
           "title": {
            "standoff": 15
           },
           "zerolinecolor": "white",
           "zerolinewidth": 2
          }
         }
        },
        "xaxis": {
         "constrain": "domain",
         "range": [
          -2,
          -0.3
         ],
         "scaleanchor": "y",
         "scaleratio": 1,
         "type": "log"
        },
        "yaxis": {
         "type": "log"
        }
       }
      },
      "text/html": [
       "<div>\n",
       "        \n",
       "        \n",
       "            <div id=\"819de620-5626-4ab4-8eda-ebfca2086c2e\" class=\"plotly-graph-div\" style=\"height:525px; width:100%;\"></div>\n",
       "            <script type=\"text/javascript\">\n",
       "                require([\"plotly\"], function(Plotly) {\n",
       "                    window.PLOTLYENV=window.PLOTLYENV || {};\n",
       "                    \n",
       "                if (document.getElementById(\"819de620-5626-4ab4-8eda-ebfca2086c2e\")) {\n",
       "                    Plotly.newPlot(\n",
       "                        '819de620-5626-4ab4-8eda-ebfca2086c2e',\n",
       "                        [{\"name\": \"log(-loglikely)\", \"showscale\": false, \"type\": \"contour\", \"x\": [0.01, 0.010831631524280023, 0.01173242414777768, 0.012708129525529292, 0.013764977638335682, 0.014909716571840646, 0.01614965560376294, 0.017492711874398423, 0.018947460938388148, 0.020523191520530944, 0.022229964825261943, 0.024078678778494334, 0.026081137612015182, 0.02825012723473889, 0.03059949687207196, 0.03314424749466426, 0.03590062760117447, 0.03888623696663189, 0.04212013901883932, 0.04562298256035173, 0.04941713361323833, 0.05352681822847106, 0.057978277171791374, 0.06279993347374203, 0.06802257391368725, 0.0736795455966163, 0.07980696887789365, 0.08644396799550276, 0.09363292088239417, 0.10141972975401581, 0.10985411419875583, 0.11898992864271016, 0.12888550621582098, 0.13960403121500756, 0.15121394254250484, 0.1637893706954064, 0.17741061109663506, 0.19216463678960968, 0.2081456537702157, 0.22545570250193436, 0.2442053094548651, 0.2645141928287876, 0.286512026966378, 0.31033927033743886, 0.3361480623809065, 0.3641031949310675, 0.3943831644306426, 0.427181311649226, 0.46270705618430463, 0.5011872336272722], \"y\": [0.01, 0.010831631524280023, 0.01173242414777768, 0.012708129525529292, 0.013764977638335682, 0.014909716571840646, 0.01614965560376294, 0.017492711874398423, 0.018947460938388148, 0.020523191520530944, 0.022229964825261943, 0.024078678778494334, 0.026081137612015182, 0.02825012723473889, 0.03059949687207196, 0.03314424749466426, 0.03590062760117447, 0.03888623696663189, 0.04212013901883932, 0.04562298256035173, 0.04941713361323833, 0.05352681822847106, 0.057978277171791374, 0.06279993347374203, 0.06802257391368725, 0.0736795455966163, 0.07980696887789365, 0.08644396799550276, 0.09363292088239417, 0.10141972975401581, 0.10985411419875583, 0.11898992864271016, 0.12888550621582098, 0.13960403121500756, 0.15121394254250484, 0.1637893706954064, 0.17741061109663506, 0.19216463678960968, 0.2081456537702157, 0.22545570250193436, 0.2442053094548651, 0.2645141928287876, 0.286512026966378, 0.31033927033743886, 0.3361480623809065, 0.3641031949310675, 0.3943831644306426, 0.427181311649226, 0.46270705618430463, 0.5011872336272722], \"z\": [[7.8326290165339305, 7.790399257467045, 7.746473278133882, 7.701016217833365, 7.654263347428739, 7.606535687543398, 7.558257398752659, 7.5099741731972625, 7.462371150880652, 7.416287920199731, 7.3727269936090645, 7.332850974783865, 7.297962873921717, 7.269464349944793, 7.248788852008578, 7.237311238705719, 7.2362421652990605, 7.24652266777532, 7.268739005201962, 7.303076971201216, 7.349327453847387, 7.406943078857496, 7.475133853003774, 7.552982338891771, 7.639558025978593, 7.7340150320124526, 7.835664024560192, 7.9440152839035285, 8.058793317733599, 8.179923794568918, 8.307490757994637, 8.441655780945098, 8.582519605340472, 8.729889514596916, 8.882899258474115, 9.039460934872547, 9.195751028370468, 9.346409848210302, 9.486141427010049, 9.611960403427663, 9.724116668132867, 9.8250810505315, 9.917930297994412, 10.005367151257442, 10.089470168964285, 10.171785735030948, 10.253490455094656, 10.335529638441388, 10.418719974872293, 10.50382706026976], [7.754810648907045, 7.7116760178269494, 7.666695554411947, 7.6200231241160274, 7.571885350376386, 7.522598993121603, 7.472590699769511, 7.4224184329642435, 7.37279308602131, 7.324597660831673, 7.278899929151435, 7.236952924728382, 7.200176405773894, 7.170112427127713, 7.148350456859717, 7.136422936694265, 7.135680643535296, 7.147166598823378, 7.171513658752961, 7.208890114576045, 7.25900799733865, 7.321193162798415, 7.394500954249974, 7.477852402175148, 7.5701658667563265, 7.670465695159598, 7.777958511837311, 7.892075307100804, 8.012481523451326, 8.1390575242629, 8.271848494704038, 8.41097587928247, 8.556490717449174, 8.708131644019591, 8.864935438760847, 9.02468836042962, 9.183445379012275, 9.335814503589155, 9.476629239084284, 9.603146560925579, 9.715836785420754, 9.817291895472508, 9.91062821501614, 9.998551987920868, 10.083136710294294, 10.16592438463829, 10.248089395895972, 10.33057651629371, 10.41420298544214, 10.499735673345224], [7.673260993557338, 7.6291360509293495, 7.583002272780386, 7.534999872950628, 7.485344313645079, 7.434345623687174, 7.38243081802798, 7.330168846579142, 7.278296618122855, 7.22774331255297, 7.179648392552333, 7.135366633681332, 7.096451658334467, 7.06460894438121, 7.041611583270038, 7.0291785647580145, 7.028826152664955, 7.041715451110734, 7.068528168087239, 7.109401860195895, 7.163943125369742, 7.231316364298964, 7.310385891830761, 7.399878715373508, 7.498536833927204, 7.605237860698553, 7.719074896778837, 7.839395914696524, 7.965807365461562, 8.098146452190619, 8.236422375190113, 8.380719069362781, 8.531039476803121, 8.687053542418873, 8.847699201981767, 9.010634941577852, 9.1717982073231, 9.32578173227156, 9.467575301622233, 9.594700382799846, 9.707856091812749, 9.809753497830899, 9.903543141193127, 9.99193000368607, 10.076979188770013, 10.160226169488853, 10.242841754022875, 10.325769322674741, 10.409826127593272, 10.4957799844904], [7.587826488493149, 7.542611121667529, 7.495208161624561, 7.44574129746786, 7.39441173181139, 7.341519630541649, 7.287489558403348, 7.2328995199457795, 7.178512257621065, 7.125305907088483, 7.074498883960343, 7.027561108353494, 6.986200964138831, 6.952316066363289, 6.927898045386842, 6.914889306358613, 6.915003670421428, 6.929539828013938, 6.959229137049868, 7.004158679591154, 7.0637929270116615, 7.137088905298739, 7.222673668359978, 7.31904080071853, 7.424727172409868, 7.53844603963552, 7.659168798002226, 7.786159005878338, 7.918966851696124, 8.057391056518505, 8.201409890038732, 8.351074127106495, 8.506341462572543, 8.66681387291146, 8.831329000265306, 8.997416274690938, 9.160901472187279, 9.31638222707489, 9.459033929051536, 9.586664929940742, 9.700210158095741, 9.802496245278341, 9.896701660929315, 9.985524860706912, 10.071018950575684, 10.154710560525015, 10.237765458764045, 10.321124706848883, 10.40560498333365, 10.491974688600466], [7.498367341489129, 7.451944861392305, 7.403137385458587, 7.352048564470042, 7.2988614750584855, 7.243862400483412, 7.187469671006386, 7.130267468272142, 7.073043458260681, 7.016827328265029, 6.962924566338656, 6.912936172040267, 6.868751045192702, 6.832495211370923, 6.806423681836197, 6.792749974970999, 6.793426643810986, 6.809913739663243, 6.8429902817791595, 6.8926632605865406, 6.958203804188884, 7.038300320684008, 7.1312837634752055, 7.235366932260079, 7.348849614480795, 7.470263608451836, 7.598453185471226, 7.732599803384994, 7.8722038863111035, 8.017033692898753, 8.167044328254976, 8.322259792954394, 8.482596759658437, 8.647590726096562, 8.81597798412547, 8.985158373337942, 9.150854068335255, 9.307691291745316, 9.451062817441166, 9.57908608882539, 9.692937097889372, 9.795552861982717, 9.890132508846666, 9.979362198449529, 10.065279162181842, 10.149398709432212, 10.232879997985442, 10.316660770864837, 10.40155649680788, 10.488335766143766], [7.404764788349635, 7.356999961781732, 7.306630576551045, 7.253735901069584, 7.198476005777369, 7.141118072492772, 7.082069066119687, 7.021915086982123, 6.961466640109677, 6.901807025765809, 6.84433771084653, 6.790809740905429, 6.743324565408925, 6.704283080654206, 6.67626224084264, 6.661809515200384, 6.66316995571223, 6.681994083452642, 6.719101456520408, 6.774374135617492, 6.846817592386965, 6.934769407122033, 7.0361896980995, 7.148954439455544, 7.271092363004231, 7.4009393073307175, 7.53721195942938, 7.679017565372951, 7.825818431872505, 7.97736462871539, 8.133599109008262, 8.29452777459608, 8.460031928178504, 8.629582772007913, 8.801814500836501, 8.973997690150814, 9.141761607116308, 9.29978860892744, 9.443722917879807, 9.572012556489224, 9.686077626337342, 9.78895850643061, 9.883866685488762, 9.973469755726086, 10.059784932700724, 10.144313568330517, 10.228206533825412, 10.312397180838518, 10.397699081274963, 10.484880586258665], [7.306930438779935, 7.2576675543664075, 7.205554143894377, 7.15063967201128, 7.093054981237119, 7.0330413069987054, 6.970987232492317, 6.907474493491455, 6.843332477215512, 6.779699006060398, 6.718080949865766, 6.660401915976927, 6.609016093426489, 6.566659638739262, 6.536309352186476, 6.520931128412609, 6.523134063534922, 6.544794830113241, 6.586757073786246, 6.6487092313325, 6.7292878077043214, 6.826368676715131, 6.9374468533680504, 7.059996981040905, 7.1917433567250875, 7.330817382642242, 7.4758158209624, 7.625787587885833, 7.780175283307285, 7.938728263971264, 8.101392054345755, 8.268165559571408, 8.438901716096963, 8.613010120042837, 8.789022286738296, 8.964080851819697, 9.133735971935971, 9.292757863437716, 9.437078231010311, 9.56549578606619, 9.679675099661967, 9.782750860665308, 9.877937570409388, 9.967877493733388, 10.054563439518923, 10.139480014189274, 10.223768024038616, 10.308355284483445, 10.39405273273197, 10.481628016781888], [7.204818129221764, 7.153879262965285, 7.099812423983829, 7.0426304571856795, 6.982426980288533, 6.9194082278882325, 6.853934736571886, 6.786574617804005, 6.718169219851682, 6.649909581159385, 6.583417261321119, 6.52081492133594, 6.464760293354828, 6.418404524165561, 6.38523003291865, 6.368737318281622, 6.3719967451106125, 6.397154649897239, 6.445045352554044, 6.515056885146252, 6.605307469928159, 6.713061482228002, 6.835231710212645, 6.9688207744029045, 7.111220798903131, 7.260361661536852, 7.41474032332353, 7.573374205461605, 7.735713113755565, 7.901529221140052, 8.070789334527298, 8.243498821481131, 8.419490341975795, 8.598114746113788, 8.777800239933448, 8.955564024591036, 9.12689459949274, 9.286686197964878, 9.431195513221082, 9.55958988825119, 9.673775532519544, 9.776970208649933, 9.87238103094046, 9.962617718880038, 10.04964405639165, 10.134924977468895, 10.219589348744677, 10.30455823484307, 10.390639150296861, 10.478598541452278], [7.0984386662621946, 7.045622412719848, 6.989363275536484, 6.929628868479312, 6.8664652454648785, 6.800031585490208, 6.7306469886647795, 6.658852300485728, 6.585489237311547, 6.511796720193064, 6.4395187599809764, 6.371007618139735, 6.309289135128922, 6.258036460224292, 6.221384561058285, 6.203532513824809, 6.208147232049899, 6.237696822701885, 6.292941694858038, 6.372800684499799, 6.474655645461256, 6.594957858641402, 6.729896590018223, 6.8759319409241675, 7.030110694192645, 7.190183462276239, 7.354585615483054, 7.522344191488696, 7.692953230372639, 7.866237835910098, 8.042208719685581, 8.220893139892253, 8.40211213163151, 8.585160315296559, 8.768361638834055, 8.948611817424515, 9.121359436463317, 9.281663480393547, 9.426143886927626, 9.554351484941737, 9.668427590318599, 9.7716595013924, 9.867235524760163, 9.957725203996104, 10.045058483011019, 10.130677574351397, 10.215697442226784, 10.301031120099163, 10.387481863411137, 10.475814384506384], [6.987877695344241, 6.9329587720809895, 6.874237669229654, 6.8116258690780445, 6.74510845344343, 6.6747814326091035, 6.600903849053212, 6.523969191033961, 6.444800611116702, 6.364672480008262, 6.2854547302274675, 6.209762981111364, 6.141073340627018, 6.08372707093798, 6.042721098068468, 6.023191497717254, 6.029595060822721, 6.0647811660785695, 6.12931336658217, 6.2213695063152175, 6.337274068871658, 6.472397576082164, 6.622044770789821, 6.78207688107923, 6.949211459081111, 7.1210725188564155, 7.296096792244878, 7.473379530409699, 7.65250719455145, 7.833394403686886, 8.016121663777874, 8.20075468719429, 8.387111247827656, 8.574431196373483, 8.760932651747625, 8.943395622721217, 9.117255523398732, 9.277781366540005, 9.421994350544642, 9.549839512717812, 9.663682554082275, 9.766864406471932, 9.8625421942337, 9.953237306331403, 10.040840874880201, 10.126769241766507, 10.212121429302314, 10.297801099239152, 10.384606365861725, 10.473299642849081], [6.873316585156942, 6.816046908273541, 6.754563598897455, 6.688708235768941, 6.618387546837811, 6.543612817870296, 6.464557104198693, 6.381636979237378, 6.295626610729512, 6.2078110985985715, 6.12018013394057, 6.035646638068457, 5.958240846005571, 5.893175103274743, 5.846615564108175, 5.824994189442164, 5.833842464179004, 5.876450736680982, 5.952950701966666, 6.060333052497637, 6.193391523144085, 6.346071651570184, 6.512630950509352, 6.68831641993824, 6.86958423558201, 7.054028884199149, 7.240182899655698, 7.427287978185941, 7.615082129051931, 7.803611347514214, 7.993053640277396, 8.183529472506086, 8.37486020978942, 8.566230434287702, 8.755749965619287, 8.94009129278433, 9.114709165001907, 9.275132149932691, 9.418819188363813, 9.54611497577689, 9.659594256076122, 9.762633339703644, 9.858344950387986, 9.949194080570308, 10.0370279721409, 10.123233874255675, 10.208892765653113, 10.294897543263644, 10.382040256552395, 10.471080425944244], [6.755055565424292, 6.695167630818067, 6.630594113831575, 6.561089404866464, 6.486459455358226, 6.406602083150751, 6.321568327460724, 6.231654493095936, 6.137537451809716, 6.040467308016768, 5.942527569150499, 5.846954667503788, 5.7584613080012685, 5.683417509119755, 5.629624727386055, 5.605373551137841, 5.617704592215931, 5.670384700808782, 5.762656779501302, 5.889578698546449, 6.043722321413044, 6.217195506381024, 6.403090187594954, 6.596111536770375, 6.792604949523817, 6.99029194584564, 7.187931507623403, 7.3850091822194495, 7.581482192693581, 7.777572300440084, 7.973582061749461, 8.169700683135344, 8.365756864365629, 8.56087642103631, 8.753057351821656, 8.93887605732463, 9.11384566064701, 9.273807402058479, 9.416691286749922, 9.543240650474619, 9.656218985298485, 9.759017476884281, 9.854690544321329, 9.945638384932133, 10.033659225819633, 10.120107961546127, 10.206045381359885, 10.292352181505018, 10.3798133868788, 10.46918500352825], [6.63353726445616, 6.570750931148993, 6.502738271845977, 6.429145076696459, 6.349647909478095, 6.2639931282746915, 6.17206004238178, 6.073961506519622, 5.970201198467093, 5.861912992001056, 5.751209438619703, 5.64165026934365, 5.538780051495799, 5.450536323638983, 5.387090228634796, 5.359517693640485, 5.377057915227886, 5.443892146283861, 5.557462219027102, 5.709631158392385, 5.889774708424981, 6.087745017805666, 6.295492352420714, 6.507412670066042, 6.720010058435947, 6.931360243020792, 7.140614459299693, 7.347613501877541, 7.552604426541959, 7.756026985184211, 7.958331072443666, 8.159783640392732, 8.360219449117203, 8.558697989511977, 8.753100988701537, 8.939924607742345, 9.114786593088677, 9.273896422741167, 9.415683370839973, 9.54128074669278, 9.653615363039663, 9.756070743890895, 9.851628623853717, 9.94261597829802, 10.030776919787183, 10.117430725536764, 10.203615826736948, 10.29019925251147, 10.377958014480171, 10.467643961204873], [6.509367163291334, 6.4434011634956105, 6.371592161081763, 6.293451397445593, 6.20849024007694, 6.116254199814756, 6.01638321553704, 5.908715724956232, 5.793464532499783, 5.671506858070559, 5.544845353191743, 5.417294337956176, 5.295377133924212, 5.189186768199099, 5.1124730155430855, 5.080717470723387, 5.106502107621605, 5.194043927803798, 5.337102405985735, 5.522214022612173, 5.734308179087301, 5.960754065360107, 6.1927052046796565, 6.424734779400562, 6.653922353686839, 6.878993034673149, 7.099679235568799, 7.3162902563472025, 7.529427080783829, 7.739780787930663, 7.947962533912575, 8.154317901672611, 8.358679385747905, 8.560027654279306, 8.756123381600634, 8.943404312820347, 9.117646708720514, 9.275484541138558, 9.415867185047418, 9.540300534746523, 9.651844190031456, 9.75384978386166, 9.849211773306568, 9.940175606220924, 10.028426286575247, 10.115244255234794, 10.201643419415817, 10.288475658832219, 10.376508963058027, 10.466490363936602], [6.383325361413165, 6.313914947214646, 6.237964759681907, 6.154821126217104, 6.06378679701285, 5.964144018299843, 5.855203567924177, 5.73640126353149, 5.607480115379005, 5.468823897603894, 5.322048029973423, 5.170991893843116, 5.023219760984652, 4.891804996393279, 4.796168422459962, 4.759251041469302, 4.798969527075674, 4.9182054089095715, 5.103029712343855, 5.331189487925458, 5.58195462372202, 5.8406365735464405, 6.098523725298121, 6.351186671215763, 6.596837158596925, 6.835182425465887, 7.066719890412796, 7.292322229711287, 7.512988767747572, 7.729678128776676, 7.943162655961415, 8.153856104638376, 8.361571465659646, 8.56519274625688, 8.762355770717193, 8.949469593481764, 9.122530470673357, 9.2786513326851, 9.41731265060341, 9.540365950236211, 9.650968268174404, 9.752413900772336, 9.847495534475792, 9.938369073649458, 10.026655615077708, 10.11359363803622, 10.200170391485978, 10.287221124924471, 10.37550378787242, 10.465759927409186], [6.256361836218724, 6.183283757113103, 6.102890567861445, 6.014330071675477, 5.916646365509176, 5.808783109868997, 5.689607560822869, 5.557978712117854, 5.412906350622355, 5.253893712785315, 5.081641493246115, 4.899426253899283, 4.715583933670519, 4.547214198138492, 4.423238324712198, 4.380395466213436, 4.445552850672911, 4.615667221362831, 4.860447753757181, 5.143985728748731, 5.4399204381928286, 5.733422942277437, 6.017686816461101, 6.2904092448550575, 6.551545669583214, 6.802084936632688, 7.043422513450632, 7.277044236928309, 7.504357497610936, 7.726579180444225, 7.9446239729975385, 8.15894926435839, 8.369321142180675, 8.574504245814337, 8.772009007303492, 8.95825557646926, 9.129528426161274, 9.28346884462635, 9.420087043206413, 9.541543192820297, 9.65105220135719, 9.751824979421336, 9.846538407139583, 9.937251302244642, 10.025516348095277, 10.112527085626812, 10.19924203537881, 10.28647835729907, 10.374982946456308, 10.465491197219166], [6.129566129499894, 6.052671473287006, 5.967618691835336, 5.873323171259836, 5.768517399055797, 5.651722333120762, 5.5212259142655595, 5.375087998387148, 5.211218196468829, 5.027636704489817, 4.823175227823044, 4.599198077345994, 4.363514463872461, 4.138051151271203, 3.968643577493351, 3.9207956381354356, 4.036847622619606, 4.292118493694223, 4.621988133707296, 4.9733346898527, 5.3184496451608165, 5.646692489662208, 5.955669475427098, 6.246373344631149, 6.520976010636293, 6.7819058201052425, 7.031483454974586, 7.27178566243938, 7.504589906221302, 7.731330181084069, 7.9530227148775365, 8.170128390127292, 8.382328729739903, 8.588243226682758, 8.785263022839233, 8.96987127094663, 9.138713598882417, 9.289999949763837, 9.424254242304352, 9.543898337907885, 9.65216218135138, 9.7521473826282, 9.846401827830448, 9.936880370307348, 10.025063167679, 10.112096052708155, 10.198906847088063, 10.286293205940026, 10.374989974037394, 10.46572573582711], [6.004104086896582, 5.923358443293395, 5.833568698589071, 5.733389278902969, 5.621193299654288, 5.494997574985065, 5.3523688333072785, 5.190314721766547, 5.005182843333382, 4.792652399047411, 4.5480899759058575, 4.268107034446231, 3.955795919219259, 3.6358684755228996, 3.38588282945355, 3.342383721886903, 3.5714166945236787, 3.9704599444787956, 4.412791005179365, 4.838244837665522, 5.2303632947517045, 5.588905558620465, 5.9181477914544525, 6.223009822581432, 6.507949249649784, 6.7767396750720215, 7.032504378280945, 7.2778000707835275, 7.514682674680357, 7.7447284406279415, 7.968992015873122, 8.18788246135189, 8.40095043574666, 8.60664500398207, 8.802255226928194, 8.984392665810002, 9.150138189325398, 9.298296970386316, 9.429874108967494, 9.547496982244905, 9.654365766030512, 9.753447827300857, 9.847150126103733, 9.937317533580252, 10.02535406630887, 10.112355346743376, 10.199216665273774, 10.286714825986936, 10.37557166313653, 10.466508317243303], [5.881121765793905, 5.796651194626571, 5.702250964911418, 5.596300453371857, 5.4767851983934515, 5.341162115952272, 5.186165834065282, 5.007526994522419, 4.799562095307179, 4.554594911607206, 4.262252023812023, 3.909185455881301, 3.4824406595867914, 2.9927215157273075, 2.57500006443118, 2.5915077290969935, 3.092305346807141, 3.709434678632861, 4.272573910996474, 4.761700383318944, 5.188845507880868, 5.567956505534804, 5.910137590536658, 6.22370405829814, 6.514878212851929, 6.788386067411947, 7.0478756531573925, 7.296188651654549, 7.5355199162461775, 7.767483957157888, 7.993091745295442, 8.2126329600855, 8.425476334793627, 8.629881364193393, 8.823068454996251, 9.001856317941229, 9.163830929181984, 9.30840072653117, 9.437002049930058, 9.552403944787455, 9.6577316580722, 9.755795241894486, 9.848850458152464, 9.938627225557065, 10.026450402129933, 10.113363226990588, 10.200226804814706, 10.287795838675901, 10.376778246838395, 10.467887129483444], [5.761632924421673, 5.673774614719231, 5.5751682223508485, 5.463931381001959, 5.337675204810721, 5.193304654356405, 5.026711120860162, 4.832280643328541, 4.6020714676550085, 4.324366346304056, 3.9809768742617284, 3.5419749474023967, 2.955768756216139, 2.1453291398524357, 1.281442152893036, 1.7308446137989717, 2.781437396789186, 3.6057162958568707, 4.243621761088457, 4.762863973823833, 5.203490749830895, 5.589231506769472, 5.935010220004273, 6.250771293509262, 6.543471969420033, 6.818173821391998, 7.078666184627572, 7.327827195851808, 7.567821579083674, 7.800180051811862, 8.02577590387624, 8.244705284362142, 8.456105680509312, 8.658041678087619, 8.847719439022683, 9.022254169106654, 9.179795474469941, 9.320340158441828, 9.44568881953929, 9.558683042691298, 9.662329492714377, 9.759260608623151, 9.851572718346425, 9.940877036439364, 10.028416936782179, 10.115181491272764, 10.201996183481294, 10.289592490615926, 10.378663585324034, 10.469913984969168], [5.6464333908082525, 5.555793743591853, 5.453749233237216, 5.338212816061926, 5.206504333297242, 5.0551010167897665, 4.879241725536564, 4.672269033796602, 4.424470745255795, 4.120887147644746, 3.7367558780686414, 3.2268117947978854, 2.495771369641604, 1.3078117969632694, 0.0, 1.6722336991402336, 2.900307193574914, 3.7218973264806388, 4.342640664508563, 4.847107133299848, 5.27655927166448, 5.654052429549419, 5.993771797833661, 6.305086817149052, 6.5945278811549635, 6.866834201660301, 7.1255400577197605, 7.373307019086779, 7.612098011212665, 7.843235296327266, 8.067358414665252, 8.284297497048124, 8.492920418275185, 8.691114284941149, 8.87614915864672, 9.045530452606167, 9.198010215579117, 9.334132646680086, 9.455980597995987, 9.566396958460992, 9.668229642952321, 9.763916794551365, 9.855389430105593, 9.944137670541114, 10.03132185482609, 10.117875549248426, 10.20458744062365, 10.29216481066027, 10.381285355441948, 10.472644539278036], [5.536122597029271, 5.443654789196875, 5.3394145327644145, 5.221229218722603, 5.086312197123889, 4.93101121206148, 4.75041755641601, 4.5377372265236975, 4.283241873459838, 3.972465924504751, 3.583130474824801, 3.0809278975674737, 2.425464529759367, 1.7102791598995482, 1.718121369882284, 2.5466052087624655, 3.3555798833368873, 4.0094543369751765, 4.546674612532414, 5.003111424562292, 5.402273745252649, 5.759453208278629, 6.084957858687091, 6.386016173588302, 6.6678766655966974, 6.934454534977151, 7.18871578710979, 7.432897684319953, 7.668614286088361, 7.896868071896928, 8.117977767507831, 8.331447138809454, 8.535858524655742, 8.72897027291643, 8.908216770039074, 9.071581576418952, 9.218429811542599, 9.3497851015792, 9.467919363429738, 9.575607208364715, 9.675503049751855, 9.769838376354603, 9.860375618445829, 9.948482882765719, 10.035236764408166, 10.121514481428646, 10.208067047140691, 10.295576763949121, 10.384705243407536, 10.476138519003575], [5.431357782208897, 5.338485618366636, 5.233930652528896, 5.115632569746077, 4.981009392117397, 4.8267880763519395, 4.648782695209667, 4.441633583108955, 4.19861427913565, 3.9119730084743347, 3.5756285409576423, 3.196874131070823, 2.8359478406778913, 2.6722674476052433, 2.8846531614182065, 3.356736816885847, 3.8814639984862658, 4.372343535683817, 4.813786386257091, 5.2102856975619405, 5.569754026558788, 5.899431046370945, 6.205192857364997, 6.4916695229404295, 6.762494376039732, 7.020520512003889, 7.267972740362627, 7.506533587290609, 7.737364733652193, 7.961063488162564, 8.177560607413215, 8.38599752926622, 8.584689953225862, 8.771352563110428, 8.943698981642346, 9.10025973707015, 9.240988607336494, 9.367295817965669, 9.48154354856061, 9.586374214588915, 9.684221083482498, 9.777101464083172, 9.866608667552075, 9.953989395782054, 10.040236679655651, 10.12617108386667, 10.212505406554277, 10.299896403190502, 10.388989141200671, 10.480459960010842], [5.333517712479667, 5.2423462283972055, 5.140254093679961, 5.025575542607194, 4.89636564333657, 4.750409302881991, 4.585332488320664, 4.398978803728793, 4.190445097990334, 3.962681536595462, 3.728425269637063, 3.521107117742092, 3.4039603891832577, 3.447366448948219, 3.664494650385204, 3.9959423008490185, 4.371317799335208, 4.7482553820972555, 5.109027209977775, 5.4485983803454445, 5.767190098323108, 6.066863246204296, 6.3501188999027365, 6.619365442739179, 6.876734540058214, 7.124026978540691, 7.362695074980096, 7.593818923544372, 7.8180540977751285, 8.03554070263984, 8.245784578011854, 8.447566469909821, 8.638999472904088, 8.817873793854073, 8.982296588077684, 9.131380678519164, 9.265605869157646, 9.386656999095072, 9.496888943156357, 9.598757475145547, 9.694455441016483, 9.785783529709256, 9.874168167839672, 9.960736800716212, 10.046399986364234, 10.13192189936448, 10.217976947800922, 10.30519601795879, 10.394207347929177, 10.485677458121954], [5.245995347031025, 5.15963758136748, 5.064042029774044, 4.9582734532657415, 4.841494205872828, 4.713190161147438, 4.573618016577842, 4.424656278027785, 4.271329748398508, 4.124226815165476, 4.002327143752777, 3.9335284740941554, 3.9474514480220484, 4.0594717720549705, 4.259594942517563, 4.519952484263647, 4.81136238647417, 5.112823812579941, 5.412210849602938, 5.7036085971961965, 5.98471132593224, 6.255104826572921, 6.515284081114021, 6.766123888401607, 7.008596937720059, 7.24361623378951, 7.471931518878607, 7.694038638814419, 7.910078283739584, 8.119718096621694, 8.322042439860247, 8.51552278885778, 8.698182191608531, 8.868026513544242, 9.023649230222563, 9.164735452882075, 9.292192498981755, 9.407857760022841, 9.513989775791531, 9.612815817448197, 9.70627808107318, 9.795963246631715, 9.883135758165263, 9.968807445568297, 10.05380839387542, 10.138847237237751, 10.224560211424201, 10.311552283782374, 10.40043477840552, 10.491864435309434], [5.176280355276033, 5.099230223802027, 5.015732873742373, 4.925857887420898, 4.8301586694593315, 4.730012169877869, 4.628134313541377, 4.529293098268843, 4.4411209373463745, 4.374625978355119, 4.3435383066647235, 4.3614928210443, 4.437273423539274, 4.570813301426478, 4.753249234016324, 4.97098101018498, 5.210404997682047, 5.460677519691482, 5.714330055441977, 5.966742121262271, 6.215325430370872, 6.458809654408797, 6.696722610277203, 6.929039710540803, 7.155950775413756, 7.377697177827464, 7.5944435564243475, 7.8061592306665935, 8.012496844071299, 8.212676013798065, 8.405413524221904, 8.588979382665313, 8.76145826491304, 8.92120818337207, 9.067358247461419, 9.200105324883925, 9.320658617828025, 9.430887344362581, 9.532879887742714, 9.628607715086684, 9.719761198764973, 9.807720346741489, 9.893594970165383, 9.978286317176586, 10.062546877663292, 10.147031185204181, 10.232337932263283, 10.319046414134062, 10.407751182525036, 10.499099425903815], [5.138502574189096, 5.076684061446969, 5.012184616537292, 4.946066914690845, 4.880051621105946, 4.816760595254079, 4.759970398376257, 4.714784686508498, 4.687554724178237, 4.685324890239787, 4.714669325115891, 4.780118451982631, 4.88281704730116, 5.020161281357939, 5.186641346843612, 5.375379045514269, 5.57958462610654, 5.79346504627459, 6.012552731184279, 6.233651660745412, 6.454610721340401, 6.674059980028229, 6.891172463619928, 7.105468503296651, 7.316657836963676, 7.524506706970569, 7.728716517150757, 7.928805168545339, 8.123993822270688, 8.313123585788547, 8.494654796804971, 8.666813845819254, 8.827912064650672, 8.976761177021883, 9.113015835117693, 9.237278238047155, 9.350921206720974, 9.455738248899427, 9.55359390280053, 9.646191643888226, 9.734977239298484, 9.821135502226657, 9.905631083169293, 9.989260924409814, 10.072703619101246, 10.156561618864819, 10.24139712355866, 10.327764320215982, 10.41624138083679, 10.50746638925289], [5.154567760456337, 5.114231385470134, 5.0751668801039065, 5.038965408469293, 5.007724142955327, 4.984092574968886, 4.971245828449529, 4.972735288584188, 4.992177277057244, 5.0327859853308015, 5.096836166626209, 5.1852167478436, 5.297245225637575, 5.43082139509117, 5.582855066639602, 5.749802414183464, 5.928144750347153, 6.114715377723362, 6.306861309494343, 6.502475831211117, 6.699950908669943, 6.898090070094141, 7.096007461483989, 7.2930254459136785, 7.488574004382738, 7.682090486019183, 7.87291809299134, 8.060207106045329, 8.242835921061209, 8.419387605422981, 8.58822964591933, 8.747726833121687, 8.896557001303611, 9.03402449424325, 9.160236978482507, 9.276064745974834, 9.382910932735951, 9.482408961124214, 9.576168302025525, 9.66562645370692, 9.751998950748918, 9.836290240157037, 9.919330999808448, 10.001821192409615, 10.084369951204415, 10.167530216599799, 10.251829169721544, 10.337796785752094, 10.425995524091494, 10.517055057857172], [5.2497956345079295, 5.234671945661707, 5.223666757837143, 5.218231195496098, 5.220034011219419, 5.2309103420879195, 5.252766057610957, 5.287436065181328, 5.336508187820762, 5.401140246856292, 5.481909759689698, 5.578735046348786, 5.690890085478731, 5.817108739898158, 5.9557492709444695, 6.104978294389585, 6.262937173356326, 6.427867744878303, 6.598189882688851, 6.772534799421988, 6.949743411543791, 7.128839669230875, 7.308986626570308, 7.489430129416394, 7.669432802040212, 7.848200829336872, 8.024809325776978, 8.19814007449302, 8.366856999075493, 8.529452915805381, 8.68439252736556, 8.830341465453852, 8.966420384246218, 9.092390097469382, 9.208689395069882, 9.316311224102337, 9.416577402256438, 9.510906077251402, 9.600642331847439, 9.68697173678283, 9.770899477011344, 9.853266899181369, 9.934783154405125, 10.016059380184204, 10.097640321905658, 10.180032490581763, 10.263729937947422, 10.349239667002127, 10.43710938770096, 10.527961333452692], [5.440756507356743, 5.449118086279505, 5.462600028259874, 5.482170400759899, 5.508837853450551, 5.5436071007828165, 5.587422676270062, 5.641105436944514, 5.7052892468935985, 5.780367181271271, 5.866456441214472, 5.963388494135482, 6.0707262609060875, 6.187804862304767, 6.313788196915134, 6.447731631575504, 6.5886415451596685, 6.735524687646435, 6.887423208160775, 7.043433803150765, 7.202711202178523, 7.364457076115038, 7.527895726812391, 7.692238187421383, 7.856637464623119, 8.020140580882714, 8.181648506954504, 8.339902143105194, 8.493517087246591, 8.64108466735617, 8.781336005888004, 8.913334287203739, 9.03663499349645, 9.151354077230316, 9.258116599787716, 9.357908625943507, 9.451892360343807, 9.541245670898979, 9.627058704199452, 9.710288181537921, 9.791752494570199, 9.87214863954448, 9.952077468569355, 10.032070036751259, 10.112612289707839, 10.194167848131444, 10.277199922537429, 10.362194132068387, 10.449684716171106, 10.540287748092723], [5.723440008594308, 5.7485155494478555, 5.778360725735849, 5.813534289092535, 5.8545869259215095, 5.902040038633087, 5.956362433487561, 6.017946725302996, 6.087087698059273, 6.163964970557045, 6.2486320072961865, 6.341012785398613, 6.440906396324657, 6.5479987364754875, 6.661879459913878, 6.782061713755656, 6.908001929944738, 7.039117068439221, 7.174797080058209, 7.314410851175265, 7.45730442972148, 7.60279094960789, 7.750132564899987, 7.898516237258196, 8.047027811518872, 8.194632595879714, 8.340174800620769, 8.482410201509472, 8.620082511141213, 8.752041600690486, 8.877383230278003, 8.995573645335083, 9.106518771117816, 9.210552808657603, 9.308350521674882, 9.400795950106913, 9.488850725657047, 9.573453902773569, 9.65546408312059, 9.735637911345608, 9.81463240061648, 9.89301952023243, 9.971305371298357, 10.049950014459206, 10.129386570486572, 10.21003970194985, 10.292344440412036, 10.376766958518612, 10.46382963797283, 10.554144013370195], [6.074957049243638, 6.108653071895863, 6.146339908571096, 6.188348746698152, 6.235000955417891, 6.2865988107077895, 6.343415647300404, 6.405685979843091, 6.473596221801848, 6.547276646101558, 6.626795157982428, 6.7121532834540565, 6.803284528622257, 6.900054964613334, 7.002265578692916, 7.109655645422675, 7.221906148194642, 7.338642149886218, 7.459432999026138, 7.583789405482946, 7.711156801698836, 7.840905144922026, 7.972316568920992, 8.104574161041734, 8.236757463777373, 8.367852373175442, 8.49678352025869, 8.62247424995789, 8.743932067749848, 8.860347232879572, 8.971182939677668, 9.076232382122592, 9.175624698173642, 9.2697776036738, 9.359312546539229, 9.444958668444583, 9.527469715405601, 9.607566973126689, 9.685909387226786, 9.763084819843089, 9.839614565180419, 9.915964660525475, 9.992559904428447, 10.069798562249709, 10.148067158974124, 10.227755653070897, 10.309273902120559, 10.393070914720191, 10.479659178403619, 10.569647689048013], [6.466522002680937, 6.502561618484501, 6.541886279077167, 6.584715963145343, 6.6312652927557485, 6.681738916434336, 6.736326495201707, 6.795197440117189, 6.858495577043059, 6.92633392392876, 6.998789751563598, 7.075900056183398, 7.15765750077002, 7.2440067853148475, 7.334841294475324, 7.429999760553978, 7.529262595647209, 7.632347525143444, 7.738904245325633, 7.848508095006423, 7.960653245630394, 8.074746724820962, 8.190105660848317, 8.305961262077071, 8.421473765319186, 8.535762216292078, 8.647950822770554, 8.757229560198951, 8.862921438157308, 8.964544104218035, 9.061851630506393, 9.154845371232936, 9.243750781900772, 9.328967158707771, 9.411004562654963, 9.49042328523171, 9.567786582469676, 9.643630599870582, 9.71844996639104, 9.792694926515725, 9.866775666201644, 9.94107050774575, 10.015935938764503, 10.091717526702807, 10.16876155429991, 10.247427776991598, 10.328104190036191, 10.411225258532948, 10.497295907348207, 10.58692501327515], [6.873768525728574, 6.908397079244018, 6.945764406145167, 6.986032148059156, 7.0293590860126836, 7.07589831541379, 7.1257940496897945, 7.179178073078577, 7.236165871850567, 7.296852477728065, 7.361308055762238, 7.429573260603674, 7.5016543709152375, 7.57751819551984, 7.657086734948479, 7.740231592239892, 7.82676817759528, 7.916449869139289, 8.00896250458408, 8.103919905284364, 8.200861566448403, 8.299254121982187, 8.398498566246841, 8.497945260154474, 8.59691819704867, 8.6947486517978, 8.790816196851594, 8.884592506526316, 8.97568115289845, 9.063845766066834, 9.149020396698825, 9.231299789266606, 9.310912367326079, 9.388182926202052, 9.463493534967617, 9.537249693031242, 9.609855606444373, 9.681699245479017, 9.753145730916025, 9.824536787699964, 9.8961941337464, 9.968425238744585, 10.041530531922467, 10.115811695082042, 10.191581126283465, 10.269173051799815, 10.348957184915482, 10.431356397801835, 10.516870771308573, 10.606111951353702], [7.278865622499331, 7.3101740278022636, 7.34377971107778, 7.379807192004523, 7.418378710116983, 7.459612118061534, 7.503618428058434, 7.550498994109093, 7.600342317703997, 7.653220471478794, 7.709185144288358, 7.768263324202058, 7.8304526558767344, 7.895716540138263, 7.963979092624288, 8.035120152503563, 8.10897063879426, 8.18530869430576, 8.26385723046824, 8.34428366902418, 8.426202824456464, 8.509183913806558, 8.592762528297332, 8.676457965573706, 8.759795553357906, 8.842332535212837, 8.923684915486323, 9.003551709134236, 9.081732748036504, 9.158136917720645, 9.232779465161352, 9.305769361694201, 9.37728979237849, 9.447575906830329, 9.516893737588255, 9.58552299778428, 9.653744955230366, 9.721835317136257, 9.790061322215584, 9.858682008530806, 9.92795073796985, 9.998119330008597, 10.069443466315494, 10.142189322784835, 10.216641668547569, 10.293113977894388, 10.371961494383392, 10.453598771401488, 10.538524175878505, 10.627355540308695], [7.667959057308477, 7.695055843278054, 7.72405697552685, 7.755058278236413, 7.788153060469598, 7.8234303959970095, 7.86097311689748, 7.9008555064723005, 7.943140685436924, 7.987877697879832, 8.035098321436234, 8.084813651131677, 8.137010540217217, 8.191648025773086, 8.24865392299929, 8.307921839462253, 8.369308935692285, 8.432634833290116, 8.497682131499763, 8.564199015903174, 8.631904399579696, 8.700495896112269, 8.769660659614036, 8.839088734057606, 8.908488065139322, 8.977599828362969, 9.046212355839259, 9.114171863222728, 9.181388506003673, 9.24783702745038, 9.313552231366174, 9.378620434147496, 9.443168639468388, 9.507353289455658, 9.571350125165711, 9.635346125500735, 9.69953390917639, 9.764108538537597, 9.82926641769178, 9.895205911063636, 9.962129365232006, 10.030246340687322, 10.099778015453223, 10.170962898362845, 10.244064196801684, 10.31937945307123, 10.397253453364247, 10.478096028872038, 10.562407407847862, 10.650815634759383], [8.028463066242267, 8.050988500056219, 8.075052508740026, 8.100727647748808, 8.128083943397156, 8.15718755927199, 8.188099269198963, 8.220872737198645, 8.25555261485231, 8.292172480072024, 8.330752659034413, 8.371297995430606, 8.413795658286963, 8.458213110857029, 8.504496396876746, 8.55256893371993, 8.60233102963776, 8.653660356990828, 8.706413605687455, 8.760429500140825, 8.815533278971182, 8.871542603850111, 8.928274686129454, 8.985554215538578, 9.043221479861076, 9.10113992783311, 9.15920240153824, 9.217335384035538, 9.275500870133346, 9.333695823706257, 9.391949548516177, 9.450319579763224, 9.508886837894865, 9.567750762449595, 9.627024998734864, 9.686834008085349, 9.747310776920628, 9.808595653724996, 9.870836262685946, 9.934188423833657, 9.9988180386983, 10.06490396517748, 10.132641999789419, 10.2022502137406, 10.273976067132521, 10.348105985836069, 10.424978488815665, 10.505002613177181, 10.588684518191592, 10.676667199611815], [8.349238419330495, 8.367251867820842, 8.386476749313804, 8.406968699821844, 8.428781484776994, 8.451966088156121, 8.47656969299722, 8.502634561617304, 8.53019683161489, 8.559285253468094, 8.589919907244079, 8.622110949407402, 8.655857455399925, 8.691146438531227, 8.727952139125346, 8.766235687479103, 8.805945246973584, 8.847016736129644, 8.889375206987449, 8.932936919225392, 8.977612094235825, 9.023308263633064, 9.06993404955035, 9.117403141449968, 9.165638181231907, 9.21457425046478, 9.264161681221259, 9.314367986598638, 9.365178818034593, 9.416597983088836, 9.468646673752454, 9.521362138931327, 9.574796072877113, 9.629012984406733, 9.684088771399054, 9.74010966879697, 9.797171683383825, 9.855380587496406, 9.914852523180075, 9.975715270104509, 10.038110254990954, 10.10219542843084, 10.168149211233754, 10.236175827136632, 10.306512511796923, 10.379439356105449, 10.455292972114451, 10.534485888270039, 10.617534832799455, 10.705103352926574], [8.62389678320774, 8.637890971406113, 8.65282869358663, 8.668754980783758, 8.685714050218946, 8.703748757526302, 8.722899992257462, 8.743206024267119, 8.764701813102985, 8.787418297836206, 8.811381690739358, 8.836612804579138, 8.86312644959426, 8.890930941823084, 8.92002776846187, 8.950411457316475, 8.982069695000616, 9.014983731236535, 9.049129093641383, 9.084476618568308, 9.120993779696798, 9.158646269111063, 9.19739975878429, 9.237221747865275, 9.278083387376157, 9.319961172574217, 9.362838406175282, 9.406706362095175, 9.451565115714564, 9.497424047110412, 9.544302061646512, 9.592227602136106, 9.641238545211724, 9.691382081312893, 9.742714675308987, 9.795302197405933, 9.84922030633821, 9.904555163215724, 9.961404558367695, 10.019879548291447, 10.080106728921296, 10.142231319899215, 10.206421310414804, 10.272873034092234, 10.341818721874144, 10.413536869558756, 10.48836672644805, 10.566729006442356, 10.649156324082531, 10.736339447752181], [8.853510902672518, 8.864283453793561, 8.875797721310672, 8.888092429772632, 8.901206472746196, 8.915178615041876, 8.930047162278878, 8.945849601747865, 8.962622220746548, 8.980399711085811, 8.999214771208015, 9.019097720182115, 9.040076140534818, 9.062174569166073, 9.085414257143134, 9.109813019591773, 9.135385195828107, 9.162141736982642, 9.190090433479638, 9.219236287893278, 9.249582030248602, 9.28112876345085, 9.31387671721396, 9.347826080841903, 9.382977879761171, 9.419334858875406, 9.456902338233178, 9.495689013157433, 9.535707681191441, 9.576975890726708, 9.61951651947133, 9.663358303555286, 9.70853634904076, 9.755092666549398, 9.803076776984168, 9.8525464428991, 9.903568587449975, 9.956220472957096, 10.010591226298425, 10.066783821677603, 10.124917666977995, 10.185131994127238, 10.24759033637056, 10.312486501997606, 10.380052651948581, 10.450570405477064, 10.524386420544662, 10.601934788699012, 10.683770175248565, 10.770618611029148], [9.045350605342067, 9.053748667464578, 9.062743460872051, 9.072369477682448, 9.082662052974388, 9.093657219020976, 9.105391537632821, 9.11790191172339, 9.131225378232172, 9.145398885720574, 9.160459061262312, 9.176441972633347, 9.19338289319145, 9.21131607812293, 9.230274561802505, 9.250289986725278, 9.271392474687813, 9.293610550493696, 9.316971127350918, 9.341499561288716, 9.367219779410613, 9.394154483778706, 9.422325429454403, 9.451753772050703, 9.482460477477291, 9.514466784773752, 9.547794712354687, 9.58246759884105, 9.618510671981479, 9.655951642883888, 9.694821327679835, 9.735154304590381, 9.776989620959752, 9.820371572115498, 9.865350582065021, 9.911984225503943, 9.960338442221174, 10.01048901004908, 10.062523362993721, 10.116542870021725, 10.172665731602146, 10.231030712363552, 10.291802020100898, 10.355175781997957, 10.421388789341732, 10.490730537101774, 10.563560175394894, 10.640331009261326, 10.721627019705014, 10.80821935869389], [9.208960523428589, 9.215684937587293, 9.22290271978329, 9.230644968989298, 9.238944003160137, 9.247833303411392, 9.257347442694403, 9.267521998629029, 9.278393450610361, 9.28999906186142, 9.302376747757311, 9.315564932486236, 9.329602396918888, 9.344528121399074, 9.360381128004072, 9.377200327602186, 9.395024377700434, 9.41389155756768, 9.433839667383785, 9.454905958161474, 9.477127098894785, 9.500539186816127, 9.525177805839288, 9.551078137312901, 9.578275126229126, 9.606803705174801, 9.636699077743447, 9.667997063014344, 9.700734503207919, 9.734949737885104, 9.770683150196449, 9.807977793825232, 9.846880113551878, 9.887440778002084, 9.929715650458078, 9.973766933139258, 10.019664532930676, 10.067487713453048, 10.117327121624152, 10.169287309539365, 10.223489919402342, 10.280077767998712, 10.339220170253803, 10.401119999554993, 10.466023231674937, 10.534232123482571, 10.606123856291928, 10.68217765757991, 10.763015574648929, 10.849466227965959], [9.35293341441704, 9.358483922366325, 9.364452780400034, 9.370868134046423, 9.377759522053527, 9.385157874773293, 9.393095501918282, 9.401606068806474, 9.410724560387253, 9.420487232585552, 9.430931550817977, 9.442096115927114, 9.454020578248487, 9.466745541064205, 9.480312455298533, 9.494763507958758, 9.510141507499027, 9.526489769960314, 9.54385201038827, 9.562272244623212, 9.5817947070674, 9.602463790444503, 9.624324013867414, 9.647420025731195, 9.671796648075684, 9.697498969167555, 9.724572491208221, 9.753063340380876, 9.783018547029911, 9.814486404767278, 9.847516918899723, 9.882162356981569, 9.918477917787103, 9.956522539913662, 9.996359878049166, 10.038059484345139, 10.08169824531972, 10.127362142752673, 10.17514843236705, 10.225168370174837, 10.27755066862649, 10.332445941863785, 10.390032515776172, 10.45052415846647, 10.51418057247072, 10.581321958104242, 10.652349751268396, 10.727777041365014, 10.80827477099445, 10.894744900348128], [9.483731918871896, 9.488441031908257, 9.49351251337342, 9.498971918347662, 9.50484625268785, 9.51116400467112, 9.517955169942681, 9.525251268792921, 9.533085354828453, 9.541492014183069, 9.550507354545706, 9.560168983470673, 9.570515975687423, 9.581588829448265, 9.59342941234606, 9.606080897501082, 9.619587691554715, 9.633995356512088, 9.649350528137463, 9.665700834313665, 9.68309481751678, 9.701581866316229, 9.721212161576819, 9.742036643807468, 9.764107008873463, 9.787475740081284, 9.812196185490246, 9.83832269025968, 9.8659107949885, 9.89501751246579, 9.925701697191803, 9.958024524671206, 9.992050101127024, 10.027846229345725, 10.065485363412355, 10.105045794936334, 10.14661312716926, 10.190282112896075, 10.236158959735372, 10.284364246514569, 10.335036653002037, 10.388337792681746, 10.444458571370783, 10.50362770221182, 10.566123340899805, 10.63228935714667, 10.702558707001277, 10.777488070798677, 10.857811123601579, 10.944524203406433], [9.60585632596325, 9.60994252859778, 9.614348103267787, 9.619096356611701, 9.624212041584135, 9.629721409631188, 9.635652259279235, 9.642033980271004, 9.64889759235687, 9.656275777848174, 9.664202907069914, 9.67271505592001, 9.681850014859616, 9.691647288831794, 9.702148087842577, 9.71339530824655, 9.72543350516519, 9.738308856935967, 9.752069123046944, 9.766763597657446, 9.782443061540569, 9.799159736106558, 9.816967244076643, 9.835920582374877, 9.856076113895455, 9.877491585996841, 9.900226184895711, 9.924340636625502, 9.949897366953879, 9.976960734724505, 10.005597355653789, 10.035876536893383, 10.067870846978305, 10.101656851566002, 10.137316053271391, 10.174936084837714, 10.214612220198468, 10.256449289684813, 10.300564116755776, 10.347088638891323, 10.396173942181855, 10.447995539875517, 10.502760380145585, 10.560716312897956, 10.622165142557632, 10.68748106032207, 10.757137411786776, 10.83174687557749, 10.912124203466053, 10.999389018406085], [9.722400417743955, 9.726010253816904, 9.729905578639281, 9.734107762903216, 9.738639588420416, 9.743525312927174, 9.748790733708265, 9.754463249353945, 9.76057191891266, 9.767147517663753, 9.77422258871525, 9.781831489638167, 9.790010433388051, 9.798797522845367, 9.80823277843756, 9.818358158497466, 9.829217572275207, 9.840856885864353, 9.853323921738728, 9.866668453133759, 9.880942195156354, 9.896198795279536, 9.912493826783436, 9.929884789754478, 9.948431125465067, 9.968194251347999, 9.989237625384321, 10.011626850587543, 10.035429832461654, 10.06071700494158, 10.087561643549412, 10.116040288548406, 10.14623330608556, 10.178225622171471, 10.21210767356731, 10.247976632281931, 10.285937977986723, 10.326107517582729, 10.368613987014355, 10.41360242287604, 10.46123856948463, 10.51171470584451, 10.565257461651129, 10.622138486469028, 10.682689321773626, 10.74732265313929, 10.816563588810146, 10.891097345409026, 10.971845108934454, 11.060091208369935], [9.835547486703536, 9.83878282966466, 9.842276393480162, 9.846047888284938, 9.850118386580181, 9.854510395721345, 9.85924793106631, 9.86435658929235, 9.86986362133423, 9.875798004346112, 9.882190512051338, 9.889073782821479, 9.896482384826115, 9.904452877624612, 9.913023869639822, 9.922236071070769, 9.932132341978635, 9.942757735529966, 9.954159536716912, 9.966387297311723, 9.979492868367903, 9.993530432271525, 10.008556537193595, 10.02463013782069, 10.041812647474769, 10.060168008208077, 10.079762787221528, 10.100666310066686, 10.122950843639535, 10.146691845083092, 10.171968296564868, 10.198863150744849, 10.22746391798033, 10.257863434483141, 10.290160861575302, 10.324462981105652, 10.360885872836835, 10.399557089007448, 10.44061848370067, 10.484229917065154, 10.530574148140365, 10.579863373895925, 10.632348098510107, 10.688329383456562, 10.748176141828525, 10.81235020395971, 10.881443809470573, 10.956237860422434, 11.03779673967384, 11.12763185256302], [9.946917350129656, 9.949851976545178, 9.953022533693701, 9.956447310335712, 9.960145904674981, 9.964139301440706, 9.968449951041427, 9.973101850483712, 9.978120625699008, 9.983533614875395, 9.989369952350675, 9.99566065259338, 10.002438693783903, 10.009739100515826, 10.017599025175121, 10.026057827631792, 10.035157153005839, 10.044941007459958, 10.055455832240655, 10.066750576554597, 10.078876770348566, 10.091888598682766, 10.10584298017555, 10.120799652985893, 10.136821273026998, 10.153973530619433, 10.172325293657806, 10.191948787663508, 10.212919825939546, 10.235318106586464, 10.259227597599498, 10.284737036959342, 10.31194058200592, 10.340938652111964, 10.371839021737472, 10.404758238827988, 10.439823468472278, 10.477174897241559, 10.516968885179722, 10.559382128829565, 10.604617214515246, 10.65291012101177, 10.704540517810988, 10.759846177456016, 10.819243624885633, 10.883258573568412, 10.952572351681246, 11.028095742553143, 11.111092663297198, 11.203401331508777], [10.057794287283565, 10.060483913566488, 10.063391067429741, 10.066532824843465, 10.069927519369918, 10.073594821951028, 10.077555823864074, 10.081833122705502, 10.086450911225601, 10.091435068801147, 10.096813255301603, 10.102615007080427, 10.108871834810865, 10.115617322890866, 10.122887230171443, 10.130719591825537, 10.139154822280958, 10.148235819304185, 10.158008069557333, 10.168519756277385, 10.179821870167546, 10.19196832517242, 10.205016081565107, 10.219025279745322, 10.234059389383647, 10.250185380111212, 10.267473921927438, 10.285999625988154, 10.305841339585292, 10.327082513134282, 10.349811662120777, 10.374122953615023, 10.400116955704629, 10.42790159985267, 10.4575934219904, 10.489319169964963, 10.523217895643535, 10.559443694001548, 10.598169316037087, 10.639590979021088, 10.683934845961415, 10.731465879958417, 10.782500158526544, 10.837422369410673, 10.89671131858245, 10.960978301719667, 11.031027069617972, 11.107952049289429, 11.19330900254551, 11.289434970779935], [10.169280336638234, 10.171768870727277, 10.174459685022008, 10.17736882794068, 10.180513557824014, 10.183912424345666, 10.187585353965549, 10.191553739435685, 10.19584053334641, 10.200470345680456, 10.205469545326071, 10.210866365490402, 10.216691012955266, 10.2229757811337, 10.229755166924122, 10.237065991427608, 10.244947524703088, 10.253441614898192, 10.262592822326091, 10.27244855938105, 10.283059237622297, 10.294478423938155, 10.306763008468367, 10.319973387960674, 10.334173669529063, 10.349431901444222, 10.365820339724353, 10.383415762042366, 10.40229984400704, 10.42255961746338, 10.444288036443565, 10.467584684287315, 10.492556665966527, 10.51931974386571, 10.547999794792366, 10.578734693267586, 10.611676764977853, 10.646996010677967, 10.684884384584231, 10.725561538605698, 10.769282642344898, 10.816349207543423, 10.86712437394894, 10.92205502181964, 10.981704705090593, 11.046804468759946, 11.118334751291869, 11.197664760423784, 11.286806715896674, 11.388924229445161]]}, {\"name\": \"optimum\", \"type\": \"scatter\", \"x\": [0.03049532422894547], \"y\": [0.04896612114663207]}],\n",
       "                        {\"margin\": {\"b\": 0, \"l\": 0, \"r\": 0, \"t\": 25}, \"showlegend\": false, \"template\": {\"data\": {\"bar\": [{\"error_x\": {\"color\": \"#2a3f5f\"}, \"error_y\": {\"color\": \"#2a3f5f\"}, \"marker\": {\"line\": {\"color\": \"#E5ECF6\", \"width\": 0.5}}, \"type\": \"bar\"}], \"barpolar\": [{\"marker\": {\"line\": {\"color\": \"#E5ECF6\", \"width\": 0.5}}, \"type\": \"barpolar\"}], \"carpet\": [{\"aaxis\": {\"endlinecolor\": \"#2a3f5f\", \"gridcolor\": \"white\", \"linecolor\": \"white\", \"minorgridcolor\": \"white\", \"startlinecolor\": \"#2a3f5f\"}, \"baxis\": {\"endlinecolor\": \"#2a3f5f\", \"gridcolor\": \"white\", \"linecolor\": \"white\", \"minorgridcolor\": \"white\", \"startlinecolor\": \"#2a3f5f\"}, \"type\": \"carpet\"}], \"choropleth\": [{\"colorbar\": {\"outlinewidth\": 0, \"ticks\": \"\"}, \"type\": \"choropleth\"}], \"contour\": [{\"colorbar\": {\"outlinewidth\": 0, \"ticks\": \"\"}, \"colorscale\": [[0.0, \"#0d0887\"], [0.1111111111111111, \"#46039f\"], [0.2222222222222222, \"#7201a8\"], [0.3333333333333333, \"#9c179e\"], [0.4444444444444444, \"#bd3786\"], [0.5555555555555556, \"#d8576b\"], [0.6666666666666666, \"#ed7953\"], [0.7777777777777778, \"#fb9f3a\"], [0.8888888888888888, \"#fdca26\"], [1.0, \"#f0f921\"]], \"type\": \"contour\"}], \"contourcarpet\": [{\"colorbar\": {\"outlinewidth\": 0, \"ticks\": \"\"}, \"type\": \"contourcarpet\"}], \"heatmap\": [{\"colorbar\": {\"outlinewidth\": 0, \"ticks\": \"\"}, \"colorscale\": [[0.0, \"#0d0887\"], [0.1111111111111111, \"#46039f\"], [0.2222222222222222, \"#7201a8\"], [0.3333333333333333, \"#9c179e\"], [0.4444444444444444, \"#bd3786\"], [0.5555555555555556, \"#d8576b\"], [0.6666666666666666, \"#ed7953\"], [0.7777777777777778, \"#fb9f3a\"], [0.8888888888888888, \"#fdca26\"], [1.0, \"#f0f921\"]], \"type\": \"heatmap\"}], \"heatmapgl\": [{\"colorbar\": {\"outlinewidth\": 0, \"ticks\": \"\"}, \"colorscale\": [[0.0, \"#0d0887\"], [0.1111111111111111, \"#46039f\"], [0.2222222222222222, \"#7201a8\"], [0.3333333333333333, \"#9c179e\"], [0.4444444444444444, \"#bd3786\"], [0.5555555555555556, \"#d8576b\"], [0.6666666666666666, \"#ed7953\"], [0.7777777777777778, \"#fb9f3a\"], [0.8888888888888888, \"#fdca26\"], [1.0, \"#f0f921\"]], \"type\": \"heatmapgl\"}], \"histogram\": [{\"marker\": {\"colorbar\": {\"outlinewidth\": 0, \"ticks\": \"\"}}, \"type\": \"histogram\"}], \"histogram2d\": [{\"colorbar\": {\"outlinewidth\": 0, \"ticks\": \"\"}, \"colorscale\": [[0.0, \"#0d0887\"], [0.1111111111111111, \"#46039f\"], [0.2222222222222222, \"#7201a8\"], [0.3333333333333333, \"#9c179e\"], [0.4444444444444444, \"#bd3786\"], [0.5555555555555556, \"#d8576b\"], [0.6666666666666666, \"#ed7953\"], [0.7777777777777778, \"#fb9f3a\"], [0.8888888888888888, \"#fdca26\"], [1.0, \"#f0f921\"]], \"type\": \"histogram2d\"}], \"histogram2dcontour\": [{\"colorbar\": {\"outlinewidth\": 0, \"ticks\": \"\"}, \"colorscale\": [[0.0, \"#0d0887\"], [0.1111111111111111, \"#46039f\"], [0.2222222222222222, \"#7201a8\"], [0.3333333333333333, \"#9c179e\"], [0.4444444444444444, \"#bd3786\"], [0.5555555555555556, \"#d8576b\"], [0.6666666666666666, \"#ed7953\"], [0.7777777777777778, \"#fb9f3a\"], [0.8888888888888888, \"#fdca26\"], [1.0, \"#f0f921\"]], \"type\": \"histogram2dcontour\"}], \"mesh3d\": [{\"colorbar\": {\"outlinewidth\": 0, \"ticks\": \"\"}, \"type\": \"mesh3d\"}], \"parcoords\": [{\"line\": {\"colorbar\": {\"outlinewidth\": 0, \"ticks\": \"\"}}, \"type\": \"parcoords\"}], \"pie\": [{\"automargin\": true, \"type\": \"pie\"}], \"scatter\": [{\"marker\": {\"colorbar\": {\"outlinewidth\": 0, \"ticks\": \"\"}}, \"type\": \"scatter\"}], \"scatter3d\": [{\"line\": {\"colorbar\": {\"outlinewidth\": 0, \"ticks\": \"\"}}, \"marker\": {\"colorbar\": {\"outlinewidth\": 0, \"ticks\": \"\"}}, \"type\": \"scatter3d\"}], \"scattercarpet\": [{\"marker\": {\"colorbar\": {\"outlinewidth\": 0, \"ticks\": \"\"}}, \"type\": \"scattercarpet\"}], \"scattergeo\": [{\"marker\": {\"colorbar\": {\"outlinewidth\": 0, \"ticks\": \"\"}}, \"type\": \"scattergeo\"}], \"scattergl\": [{\"marker\": {\"colorbar\": {\"outlinewidth\": 0, \"ticks\": \"\"}}, \"type\": \"scattergl\"}], \"scattermapbox\": [{\"marker\": {\"colorbar\": {\"outlinewidth\": 0, \"ticks\": \"\"}}, \"type\": \"scattermapbox\"}], \"scatterpolar\": [{\"marker\": {\"colorbar\": {\"outlinewidth\": 0, \"ticks\": \"\"}}, \"type\": \"scatterpolar\"}], \"scatterpolargl\": [{\"marker\": {\"colorbar\": {\"outlinewidth\": 0, \"ticks\": \"\"}}, \"type\": \"scatterpolargl\"}], \"scatterternary\": [{\"marker\": {\"colorbar\": {\"outlinewidth\": 0, \"ticks\": \"\"}}, \"type\": \"scatterternary\"}], \"surface\": [{\"colorbar\": {\"outlinewidth\": 0, \"ticks\": \"\"}, \"colorscale\": [[0.0, \"#0d0887\"], [0.1111111111111111, \"#46039f\"], [0.2222222222222222, \"#7201a8\"], [0.3333333333333333, \"#9c179e\"], [0.4444444444444444, \"#bd3786\"], [0.5555555555555556, \"#d8576b\"], [0.6666666666666666, \"#ed7953\"], [0.7777777777777778, \"#fb9f3a\"], [0.8888888888888888, \"#fdca26\"], [1.0, \"#f0f921\"]], \"type\": \"surface\"}], \"table\": [{\"cells\": {\"fill\": {\"color\": \"#EBF0F8\"}, \"line\": {\"color\": \"white\"}}, \"header\": {\"fill\": {\"color\": \"#C8D4E3\"}, \"line\": {\"color\": \"white\"}}, \"type\": \"table\"}]}, \"layout\": {\"annotationdefaults\": {\"arrowcolor\": \"#2a3f5f\", \"arrowhead\": 0, \"arrowwidth\": 1}, \"coloraxis\": {\"colorbar\": {\"outlinewidth\": 0, \"ticks\": \"\"}}, \"colorscale\": {\"diverging\": [[0, \"#8e0152\"], [0.1, \"#c51b7d\"], [0.2, \"#de77ae\"], [0.3, \"#f1b6da\"], [0.4, \"#fde0ef\"], [0.5, \"#f7f7f7\"], [0.6, \"#e6f5d0\"], [0.7, \"#b8e186\"], [0.8, \"#7fbc41\"], [0.9, \"#4d9221\"], [1, \"#276419\"]], \"sequential\": [[0.0, \"#0d0887\"], [0.1111111111111111, \"#46039f\"], [0.2222222222222222, \"#7201a8\"], [0.3333333333333333, \"#9c179e\"], [0.4444444444444444, \"#bd3786\"], [0.5555555555555556, \"#d8576b\"], [0.6666666666666666, \"#ed7953\"], [0.7777777777777778, \"#fb9f3a\"], [0.8888888888888888, \"#fdca26\"], [1.0, \"#f0f921\"]], \"sequentialminus\": [[0.0, \"#0d0887\"], [0.1111111111111111, \"#46039f\"], [0.2222222222222222, \"#7201a8\"], [0.3333333333333333, \"#9c179e\"], [0.4444444444444444, \"#bd3786\"], [0.5555555555555556, \"#d8576b\"], [0.6666666666666666, \"#ed7953\"], [0.7777777777777778, \"#fb9f3a\"], [0.8888888888888888, \"#fdca26\"], [1.0, \"#f0f921\"]]}, \"colorway\": [\"#636efa\", \"#EF553B\", \"#00cc96\", \"#ab63fa\", \"#FFA15A\", \"#19d3f3\", \"#FF6692\", \"#B6E880\", \"#FF97FF\", \"#FECB52\"], \"font\": {\"color\": \"#2a3f5f\"}, \"geo\": {\"bgcolor\": \"white\", \"lakecolor\": \"white\", \"landcolor\": \"#E5ECF6\", \"showlakes\": true, \"showland\": true, \"subunitcolor\": \"white\"}, \"hoverlabel\": {\"align\": \"left\"}, \"hovermode\": \"closest\", \"mapbox\": {\"style\": \"light\"}, \"paper_bgcolor\": \"white\", \"plot_bgcolor\": \"#E5ECF6\", \"polar\": {\"angularaxis\": {\"gridcolor\": \"white\", \"linecolor\": \"white\", \"ticks\": \"\"}, \"bgcolor\": \"#E5ECF6\", \"radialaxis\": {\"gridcolor\": \"white\", \"linecolor\": \"white\", \"ticks\": \"\"}}, \"scene\": {\"xaxis\": {\"backgroundcolor\": \"#E5ECF6\", \"gridcolor\": \"white\", \"gridwidth\": 2, \"linecolor\": \"white\", \"showbackground\": true, \"ticks\": \"\", \"zerolinecolor\": \"white\"}, \"yaxis\": {\"backgroundcolor\": \"#E5ECF6\", \"gridcolor\": \"white\", \"gridwidth\": 2, \"linecolor\": \"white\", \"showbackground\": true, \"ticks\": \"\", \"zerolinecolor\": \"white\"}, \"zaxis\": {\"backgroundcolor\": \"#E5ECF6\", \"gridcolor\": \"white\", \"gridwidth\": 2, \"linecolor\": \"white\", \"showbackground\": true, \"ticks\": \"\", \"zerolinecolor\": \"white\"}}, \"shapedefaults\": {\"line\": {\"color\": \"#2a3f5f\"}}, \"ternary\": {\"aaxis\": {\"gridcolor\": \"white\", \"linecolor\": \"white\", \"ticks\": \"\"}, \"baxis\": {\"gridcolor\": \"white\", \"linecolor\": \"white\", \"ticks\": \"\"}, \"bgcolor\": \"#E5ECF6\", \"caxis\": {\"gridcolor\": \"white\", \"linecolor\": \"white\", \"ticks\": \"\"}}, \"title\": {\"x\": 0.05}, \"xaxis\": {\"automargin\": true, \"gridcolor\": \"white\", \"linecolor\": \"white\", \"ticks\": \"\", \"title\": {\"standoff\": 15}, \"zerolinecolor\": \"white\", \"zerolinewidth\": 2}, \"yaxis\": {\"automargin\": true, \"gridcolor\": \"white\", \"linecolor\": \"white\", \"ticks\": \"\", \"title\": {\"standoff\": 15}, \"zerolinecolor\": \"white\", \"zerolinewidth\": 2}}}, \"xaxis\": {\"constrain\": \"domain\", \"range\": [-2, -0.3], \"scaleanchor\": \"y\", \"scaleratio\": 1, \"type\": \"log\"}, \"yaxis\": {\"type\": \"log\"}},\n",
       "                        {\"responsive\": true}\n",
       "                    ).then(function(){\n",
       "                            \n",
       "var gd = document.getElementById('819de620-5626-4ab4-8eda-ebfca2086c2e');\n",
       "var x = new MutationObserver(function (mutations, observer) {{\n",
       "        var display = window.getComputedStyle(gd).display;\n",
       "        if (!display || display === 'none') {{\n",
       "            console.log([gd, 'removed!']);\n",
       "            Plotly.purge(gd);\n",
       "            observer.disconnect();\n",
       "        }}\n",
       "}});\n",
       "\n",
       "// Listen for the removal of the full notebook cells\n",
       "var notebookContainer = gd.closest('#notebook-container');\n",
       "if (notebookContainer) {{\n",
       "    x.observe(notebookContainer, {childList: true});\n",
       "}}\n",
       "\n",
       "// Listen for the clearing of the current output cell\n",
       "var outputEl = gd.closest('.output');\n",
       "if (outputEl) {{\n",
       "    x.observe(outputEl, {childList: true});\n",
       "}}\n",
       "\n",
       "                        })\n",
       "                };\n",
       "                });\n",
       "            </script>\n",
       "        </div>"
      ]
     },
     "metadata": {},
     "output_type": "display_data"
    },
    {
     "data": {
      "text/plain": [
       "(0.20763220081310668, 0.03049532422894547, 0.04896612114663207)"
      ]
     },
     "execution_count": 160,
     "metadata": {},
     "output_type": "execute_result"
    }
   ],
   "source": [
    "b = InferSIRQ(weight_c=0.01)\n",
    "b.fit(city, sample, confirmed)\n",
    "b.beta, b.gamma, b.theta"
   ]
  },
  {
   "cell_type": "code",
   "execution_count": 161,
   "metadata": {},
   "outputs": [
    {
     "data": {
      "application/vnd.plotly.v1+json": {
       "config": {
        "plotlyServerURL": "https://plot.ly"
       },
       "data": [
        {
         "hovertemplate": "%{y}",
         "name": "Susceptible",
         "type": "scatter",
         "x": [
          0,
          1,
          2,
          3,
          4,
          5,
          6,
          7,
          8,
          9,
          10,
          11,
          12,
          13,
          14,
          15,
          16,
          17,
          18,
          19,
          20,
          21,
          22,
          23,
          24,
          25,
          26,
          27,
          28,
          29,
          30,
          31,
          32,
          33,
          34,
          35,
          36,
          37,
          38,
          39,
          40,
          41,
          42,
          43,
          44,
          45,
          46,
          47,
          48,
          49,
          50,
          51,
          52,
          53,
          54,
          55,
          56,
          57,
          58,
          59,
          60,
          61,
          62,
          63,
          64,
          65,
          66,
          67,
          68,
          69,
          70,
          71,
          72,
          73,
          74,
          75,
          76,
          77,
          78,
          79,
          80,
          81,
          82,
          83,
          84,
          85,
          86,
          87,
          88,
          89,
          90,
          91,
          92,
          93,
          94,
          95,
          96,
          97,
          98,
          99,
          100
         ],
         "y": [
          99000,
          98794,
          98563,
          98304,
          98012,
          97686,
          97320,
          96911,
          96453,
          95943,
          95373,
          94739,
          94035,
          93254,
          92389,
          91435,
          90385,
          89232,
          87971,
          86596,
          85103,
          83488,
          81750,
          79888,
          77904,
          75803,
          73590,
          71274,
          68867,
          66381,
          63833,
          61240,
          58620,
          55992,
          53376,
          50791,
          48254,
          45780,
          43385,
          41080,
          38874,
          36775,
          34786,
          32911,
          31149,
          29501,
          27962,
          26531,
          25202,
          23970,
          22830,
          21777,
          20804,
          19907,
          19080,
          18317,
          17614,
          16965,
          16368,
          15817,
          15309,
          14840,
          14407,
          14007,
          13638,
          13296,
          12980,
          12687,
          12416,
          12165,
          11933,
          11717,
          11516,
          11330,
          11157,
          10996,
          10847,
          10708,
          10578,
          10457,
          10345,
          10240,
          10142,
          10051,
          9966,
          9887,
          9813,
          9743,
          9679,
          9618,
          9562,
          9509,
          9460,
          9413,
          9370,
          9330,
          9292,
          9256,
          9223,
          9192,
          9163
         ]
        },
        {
         "hovertemplate": "%{y}",
         "name": "Infectious",
         "type": "scatter",
         "x": [
          0,
          1,
          2,
          3,
          4,
          5,
          6,
          7,
          8,
          9,
          10,
          11,
          12,
          13,
          14,
          15,
          16,
          17,
          18,
          19,
          20,
          21,
          22,
          23,
          24,
          25,
          26,
          27,
          28,
          29,
          30,
          31,
          32,
          33,
          34,
          35,
          36,
          37,
          38,
          39,
          40,
          41,
          42,
          43,
          44,
          45,
          46,
          47,
          48,
          49,
          50,
          51,
          52,
          53,
          54,
          55,
          56,
          57,
          58,
          59,
          60,
          61,
          62,
          63,
          64,
          65,
          66,
          67,
          68,
          69,
          70,
          71,
          72,
          73,
          74,
          75,
          76,
          77,
          78,
          79,
          80,
          81,
          82,
          83,
          84,
          85,
          86,
          87,
          88,
          89,
          90,
          91,
          92,
          93,
          94,
          95,
          96,
          97,
          98,
          99,
          100
         ],
         "y": [
          1000,
          1126,
          1267,
          1426,
          1604,
          1803,
          2025,
          2273,
          2550,
          2858,
          3201,
          3580,
          4000,
          4463,
          4973,
          5532,
          6142,
          6807,
          7528,
          8304,
          9138,
          10026,
          10968,
          11958,
          12991,
          14060,
          15156,
          16268,
          17382,
          18487,
          19566,
          20604,
          21587,
          22499,
          23327,
          24059,
          24684,
          25196,
          25589,
          25861,
          26012,
          26044,
          25963,
          25776,
          25489,
          25112,
          24655,
          24127,
          23539,
          22900,
          22220,
          21508,
          20771,
          20018,
          19255,
          18488,
          17722,
          16962,
          16211,
          15474,
          14753,
          14049,
          13366,
          12704,
          12064,
          11447,
          10853,
          10283,
          9737,
          9214,
          8715,
          8238,
          7784,
          7351,
          6940,
          6550,
          6179,
          5827,
          5493,
          5177,
          4878,
          4596,
          4328,
          4075,
          3836,
          3611,
          3398,
          3197,
          3008,
          2829,
          2661,
          2502,
          2353,
          2212,
          2080,
          1955,
          1837,
          1727,
          1623,
          1525,
          1433
         ]
        },
        {
         "hovertemplate": "%{y}",
         "name": "Removed",
         "type": "scatter",
         "x": [
          0,
          1,
          2,
          3,
          4,
          5,
          6,
          7,
          8,
          9,
          10,
          11,
          12,
          13,
          14,
          15,
          16,
          17,
          18,
          19,
          20,
          21,
          22,
          23,
          24,
          25,
          26,
          27,
          28,
          29,
          30,
          31,
          32,
          33,
          34,
          35,
          36,
          37,
          38,
          39,
          40,
          41,
          42,
          43,
          44,
          45,
          46,
          47,
          48,
          49,
          50,
          51,
          52,
          53,
          54,
          55,
          56,
          57,
          58,
          59,
          60,
          61,
          62,
          63,
          64,
          65,
          66,
          67,
          68,
          69,
          70,
          71,
          72,
          73,
          74,
          75,
          76,
          77,
          78,
          79,
          80,
          81,
          82,
          83,
          84,
          85,
          86,
          87,
          88,
          89,
          90,
          91,
          92,
          93,
          94,
          95,
          96,
          97,
          98,
          99,
          100
         ],
         "y": [
          0,
          30,
          64,
          103,
          146,
          195,
          250,
          312,
          381,
          459,
          546,
          644,
          753,
          875,
          1011,
          1163,
          1332,
          1519,
          1727,
          1956,
          2210,
          2488,
          2794,
          3128,
          3493,
          3889,
          4318,
          4780,
          5276,
          5807,
          6370,
          6967,
          7595,
          8254,
          8940,
          9651,
          10385,
          11138,
          11906,
          12686,
          13475,
          14268,
          15063,
          15854,
          16640,
          17418,
          18183,
          18935,
          19671,
          20389,
          21087,
          21765,
          22421,
          23054,
          23665,
          24252,
          24816,
          25356,
          25874,
          26368,
          26840,
          27290,
          27718,
          28126,
          28513,
          28881,
          29230,
          29561,
          29875,
          30172,
          30453,
          30718,
          30970,
          31207,
          31431,
          31643,
          31843,
          32031,
          32209,
          32376,
          32534,
          32683,
          32823,
          32955,
          33080,
          33197,
          33307,
          33410,
          33508,
          33600,
          33686,
          33767,
          33843,
          33915,
          33983,
          34046,
          34106,
          34162,
          34214,
          34264,
          34310
         ]
        },
        {
         "hovertemplate": "%{y}",
         "name": "Quarantined",
         "type": "scatter",
         "x": [
          0,
          1,
          2,
          3,
          4,
          5,
          6,
          7,
          8,
          9,
          10,
          11,
          12,
          13,
          14,
          15,
          16,
          17,
          18,
          19,
          20,
          21,
          22,
          23,
          24,
          25,
          26,
          27,
          28,
          29,
          30,
          31,
          32,
          33,
          34,
          35,
          36,
          37,
          38,
          39,
          40,
          41,
          42,
          43,
          44,
          45,
          46,
          47,
          48,
          49,
          50,
          51,
          52,
          53,
          54,
          55,
          56,
          57,
          58,
          59,
          60,
          61,
          62,
          63,
          64,
          65,
          66,
          67,
          68,
          69,
          70,
          71,
          72,
          73,
          74,
          75,
          76,
          77,
          78,
          79,
          80,
          81,
          82,
          83,
          84,
          85,
          86,
          87,
          88,
          89,
          90,
          91,
          92,
          93,
          94,
          95,
          96,
          97,
          98,
          99,
          100
         ],
         "y": [
          0,
          48,
          104,
          166,
          236,
          314,
          402,
          502,
          613,
          738,
          878,
          1035,
          1210,
          1406,
          1624,
          1868,
          2139,
          2440,
          2773,
          3141,
          3548,
          3996,
          4487,
          5024,
          5609,
          6245,
          6934,
          7676,
          8473,
          9324,
          10229,
          11187,
          12196,
          13253,
          14355,
          15497,
          16675,
          17884,
          19118,
          20371,
          21637,
          22911,
          24186,
          25457,
          26720,
          27968,
          29197,
          30405,
          31586,
          32739,
          33860,
          34948,
          36001,
          37018,
          37999,
          38942,
          39847,
          40715,
          41545,
          42339,
          43097,
          43819,
          44507,
          45162,
          45784,
          46374,
          46935,
          47466,
          47970,
          48447,
          48898,
          49325,
          49728,
          50109,
          50469,
          50809,
          51130,
          51432,
          51718,
          51987,
          52240,
          52479,
          52704,
          52916,
          53116,
          53304,
          53481,
          53647,
          53804,
          53951,
          54089,
          54220,
          54342,
          54458,
          54566,
          54668,
          54763,
          54853,
          54938,
          55017,
          55092
         ]
        },
        {
         "hovertemplate": "%{y}",
         "marker": {
          "symbol": 1
         },
         "mode": "markers",
         "name": "Estimated",
         "type": "scatter",
         "x": [
          10,
          20,
          30,
          40,
          50,
          60,
          70,
          80,
          90
         ],
         "y": [
          2000,
          5700,
          14199.999999999998,
          36000,
          26800,
          13400,
          6000,
          2700,
          899.9999999999999
         ]
        },
        {
         "hovertemplate": "%{y}",
         "marker": {
          "symbol": 3
         },
         "mode": "markers",
         "name": "Resisted",
         "type": "scatter",
         "x": [
          10,
          20,
          30,
          40,
          50,
          60,
          70,
          80,
          90
         ],
         "y": [
          99.205,
          781.104,
          3642.951,
          11663.568,
          20890.025,
          28288.172000000002,
          32546.654000000002,
          31235.276,
          33496.848
         ]
        },
        {
         "hovertemplate": "%{y}",
         "marker": {
          "symbol": 2
         },
         "mode": "markers",
         "name": "Confirmed",
         "type": "scatter",
         "x": [
          10,
          20,
          30,
          40,
          50,
          60,
          70,
          80,
          90
         ],
         "y": [
          753,
          2439,
          6540,
          18878,
          35718,
          45328,
          50593,
          53242,
          54990
         ]
        }
       ],
       "layout": {
        "margin": {
         "b": 0,
         "l": 0,
         "r": 0,
         "t": 25
        },
        "template": {
         "data": {
          "bar": [
           {
            "error_x": {
             "color": "#2a3f5f"
            },
            "error_y": {
             "color": "#2a3f5f"
            },
            "marker": {
             "line": {
              "color": "#E5ECF6",
              "width": 0.5
             }
            },
            "type": "bar"
           }
          ],
          "barpolar": [
           {
            "marker": {
             "line": {
              "color": "#E5ECF6",
              "width": 0.5
             }
            },
            "type": "barpolar"
           }
          ],
          "carpet": [
           {
            "aaxis": {
             "endlinecolor": "#2a3f5f",
             "gridcolor": "white",
             "linecolor": "white",
             "minorgridcolor": "white",
             "startlinecolor": "#2a3f5f"
            },
            "baxis": {
             "endlinecolor": "#2a3f5f",
             "gridcolor": "white",
             "linecolor": "white",
             "minorgridcolor": "white",
             "startlinecolor": "#2a3f5f"
            },
            "type": "carpet"
           }
          ],
          "choropleth": [
           {
            "colorbar": {
             "outlinewidth": 0,
             "ticks": ""
            },
            "type": "choropleth"
           }
          ],
          "contour": [
           {
            "colorbar": {
             "outlinewidth": 0,
             "ticks": ""
            },
            "colorscale": [
             [
              0,
              "#0d0887"
             ],
             [
              0.1111111111111111,
              "#46039f"
             ],
             [
              0.2222222222222222,
              "#7201a8"
             ],
             [
              0.3333333333333333,
              "#9c179e"
             ],
             [
              0.4444444444444444,
              "#bd3786"
             ],
             [
              0.5555555555555556,
              "#d8576b"
             ],
             [
              0.6666666666666666,
              "#ed7953"
             ],
             [
              0.7777777777777778,
              "#fb9f3a"
             ],
             [
              0.8888888888888888,
              "#fdca26"
             ],
             [
              1,
              "#f0f921"
             ]
            ],
            "type": "contour"
           }
          ],
          "contourcarpet": [
           {
            "colorbar": {
             "outlinewidth": 0,
             "ticks": ""
            },
            "type": "contourcarpet"
           }
          ],
          "heatmap": [
           {
            "colorbar": {
             "outlinewidth": 0,
             "ticks": ""
            },
            "colorscale": [
             [
              0,
              "#0d0887"
             ],
             [
              0.1111111111111111,
              "#46039f"
             ],
             [
              0.2222222222222222,
              "#7201a8"
             ],
             [
              0.3333333333333333,
              "#9c179e"
             ],
             [
              0.4444444444444444,
              "#bd3786"
             ],
             [
              0.5555555555555556,
              "#d8576b"
             ],
             [
              0.6666666666666666,
              "#ed7953"
             ],
             [
              0.7777777777777778,
              "#fb9f3a"
             ],
             [
              0.8888888888888888,
              "#fdca26"
             ],
             [
              1,
              "#f0f921"
             ]
            ],
            "type": "heatmap"
           }
          ],
          "heatmapgl": [
           {
            "colorbar": {
             "outlinewidth": 0,
             "ticks": ""
            },
            "colorscale": [
             [
              0,
              "#0d0887"
             ],
             [
              0.1111111111111111,
              "#46039f"
             ],
             [
              0.2222222222222222,
              "#7201a8"
             ],
             [
              0.3333333333333333,
              "#9c179e"
             ],
             [
              0.4444444444444444,
              "#bd3786"
             ],
             [
              0.5555555555555556,
              "#d8576b"
             ],
             [
              0.6666666666666666,
              "#ed7953"
             ],
             [
              0.7777777777777778,
              "#fb9f3a"
             ],
             [
              0.8888888888888888,
              "#fdca26"
             ],
             [
              1,
              "#f0f921"
             ]
            ],
            "type": "heatmapgl"
           }
          ],
          "histogram": [
           {
            "marker": {
             "colorbar": {
              "outlinewidth": 0,
              "ticks": ""
             }
            },
            "type": "histogram"
           }
          ],
          "histogram2d": [
           {
            "colorbar": {
             "outlinewidth": 0,
             "ticks": ""
            },
            "colorscale": [
             [
              0,
              "#0d0887"
             ],
             [
              0.1111111111111111,
              "#46039f"
             ],
             [
              0.2222222222222222,
              "#7201a8"
             ],
             [
              0.3333333333333333,
              "#9c179e"
             ],
             [
              0.4444444444444444,
              "#bd3786"
             ],
             [
              0.5555555555555556,
              "#d8576b"
             ],
             [
              0.6666666666666666,
              "#ed7953"
             ],
             [
              0.7777777777777778,
              "#fb9f3a"
             ],
             [
              0.8888888888888888,
              "#fdca26"
             ],
             [
              1,
              "#f0f921"
             ]
            ],
            "type": "histogram2d"
           }
          ],
          "histogram2dcontour": [
           {
            "colorbar": {
             "outlinewidth": 0,
             "ticks": ""
            },
            "colorscale": [
             [
              0,
              "#0d0887"
             ],
             [
              0.1111111111111111,
              "#46039f"
             ],
             [
              0.2222222222222222,
              "#7201a8"
             ],
             [
              0.3333333333333333,
              "#9c179e"
             ],
             [
              0.4444444444444444,
              "#bd3786"
             ],
             [
              0.5555555555555556,
              "#d8576b"
             ],
             [
              0.6666666666666666,
              "#ed7953"
             ],
             [
              0.7777777777777778,
              "#fb9f3a"
             ],
             [
              0.8888888888888888,
              "#fdca26"
             ],
             [
              1,
              "#f0f921"
             ]
            ],
            "type": "histogram2dcontour"
           }
          ],
          "mesh3d": [
           {
            "colorbar": {
             "outlinewidth": 0,
             "ticks": ""
            },
            "type": "mesh3d"
           }
          ],
          "parcoords": [
           {
            "line": {
             "colorbar": {
              "outlinewidth": 0,
              "ticks": ""
             }
            },
            "type": "parcoords"
           }
          ],
          "pie": [
           {
            "automargin": true,
            "type": "pie"
           }
          ],
          "scatter": [
           {
            "marker": {
             "colorbar": {
              "outlinewidth": 0,
              "ticks": ""
             }
            },
            "type": "scatter"
           }
          ],
          "scatter3d": [
           {
            "line": {
             "colorbar": {
              "outlinewidth": 0,
              "ticks": ""
             }
            },
            "marker": {
             "colorbar": {
              "outlinewidth": 0,
              "ticks": ""
             }
            },
            "type": "scatter3d"
           }
          ],
          "scattercarpet": [
           {
            "marker": {
             "colorbar": {
              "outlinewidth": 0,
              "ticks": ""
             }
            },
            "type": "scattercarpet"
           }
          ],
          "scattergeo": [
           {
            "marker": {
             "colorbar": {
              "outlinewidth": 0,
              "ticks": ""
             }
            },
            "type": "scattergeo"
           }
          ],
          "scattergl": [
           {
            "marker": {
             "colorbar": {
              "outlinewidth": 0,
              "ticks": ""
             }
            },
            "type": "scattergl"
           }
          ],
          "scattermapbox": [
           {
            "marker": {
             "colorbar": {
              "outlinewidth": 0,
              "ticks": ""
             }
            },
            "type": "scattermapbox"
           }
          ],
          "scatterpolar": [
           {
            "marker": {
             "colorbar": {
              "outlinewidth": 0,
              "ticks": ""
             }
            },
            "type": "scatterpolar"
           }
          ],
          "scatterpolargl": [
           {
            "marker": {
             "colorbar": {
              "outlinewidth": 0,
              "ticks": ""
             }
            },
            "type": "scatterpolargl"
           }
          ],
          "scatterternary": [
           {
            "marker": {
             "colorbar": {
              "outlinewidth": 0,
              "ticks": ""
             }
            },
            "type": "scatterternary"
           }
          ],
          "surface": [
           {
            "colorbar": {
             "outlinewidth": 0,
             "ticks": ""
            },
            "colorscale": [
             [
              0,
              "#0d0887"
             ],
             [
              0.1111111111111111,
              "#46039f"
             ],
             [
              0.2222222222222222,
              "#7201a8"
             ],
             [
              0.3333333333333333,
              "#9c179e"
             ],
             [
              0.4444444444444444,
              "#bd3786"
             ],
             [
              0.5555555555555556,
              "#d8576b"
             ],
             [
              0.6666666666666666,
              "#ed7953"
             ],
             [
              0.7777777777777778,
              "#fb9f3a"
             ],
             [
              0.8888888888888888,
              "#fdca26"
             ],
             [
              1,
              "#f0f921"
             ]
            ],
            "type": "surface"
           }
          ],
          "table": [
           {
            "cells": {
             "fill": {
              "color": "#EBF0F8"
             },
             "line": {
              "color": "white"
             }
            },
            "header": {
             "fill": {
              "color": "#C8D4E3"
             },
             "line": {
              "color": "white"
             }
            },
            "type": "table"
           }
          ]
         },
         "layout": {
          "annotationdefaults": {
           "arrowcolor": "#2a3f5f",
           "arrowhead": 0,
           "arrowwidth": 1
          },
          "coloraxis": {
           "colorbar": {
            "outlinewidth": 0,
            "ticks": ""
           }
          },
          "colorscale": {
           "diverging": [
            [
             0,
             "#8e0152"
            ],
            [
             0.1,
             "#c51b7d"
            ],
            [
             0.2,
             "#de77ae"
            ],
            [
             0.3,
             "#f1b6da"
            ],
            [
             0.4,
             "#fde0ef"
            ],
            [
             0.5,
             "#f7f7f7"
            ],
            [
             0.6,
             "#e6f5d0"
            ],
            [
             0.7,
             "#b8e186"
            ],
            [
             0.8,
             "#7fbc41"
            ],
            [
             0.9,
             "#4d9221"
            ],
            [
             1,
             "#276419"
            ]
           ],
           "sequential": [
            [
             0,
             "#0d0887"
            ],
            [
             0.1111111111111111,
             "#46039f"
            ],
            [
             0.2222222222222222,
             "#7201a8"
            ],
            [
             0.3333333333333333,
             "#9c179e"
            ],
            [
             0.4444444444444444,
             "#bd3786"
            ],
            [
             0.5555555555555556,
             "#d8576b"
            ],
            [
             0.6666666666666666,
             "#ed7953"
            ],
            [
             0.7777777777777778,
             "#fb9f3a"
            ],
            [
             0.8888888888888888,
             "#fdca26"
            ],
            [
             1,
             "#f0f921"
            ]
           ],
           "sequentialminus": [
            [
             0,
             "#0d0887"
            ],
            [
             0.1111111111111111,
             "#46039f"
            ],
            [
             0.2222222222222222,
             "#7201a8"
            ],
            [
             0.3333333333333333,
             "#9c179e"
            ],
            [
             0.4444444444444444,
             "#bd3786"
            ],
            [
             0.5555555555555556,
             "#d8576b"
            ],
            [
             0.6666666666666666,
             "#ed7953"
            ],
            [
             0.7777777777777778,
             "#fb9f3a"
            ],
            [
             0.8888888888888888,
             "#fdca26"
            ],
            [
             1,
             "#f0f921"
            ]
           ]
          },
          "colorway": [
           "#636efa",
           "#EF553B",
           "#00cc96",
           "#ab63fa",
           "#FFA15A",
           "#19d3f3",
           "#FF6692",
           "#B6E880",
           "#FF97FF",
           "#FECB52"
          ],
          "font": {
           "color": "#2a3f5f"
          },
          "geo": {
           "bgcolor": "white",
           "lakecolor": "white",
           "landcolor": "#E5ECF6",
           "showlakes": true,
           "showland": true,
           "subunitcolor": "white"
          },
          "hoverlabel": {
           "align": "left"
          },
          "hovermode": "closest",
          "mapbox": {
           "style": "light"
          },
          "paper_bgcolor": "white",
          "plot_bgcolor": "#E5ECF6",
          "polar": {
           "angularaxis": {
            "gridcolor": "white",
            "linecolor": "white",
            "ticks": ""
           },
           "bgcolor": "#E5ECF6",
           "radialaxis": {
            "gridcolor": "white",
            "linecolor": "white",
            "ticks": ""
           }
          },
          "scene": {
           "xaxis": {
            "backgroundcolor": "#E5ECF6",
            "gridcolor": "white",
            "gridwidth": 2,
            "linecolor": "white",
            "showbackground": true,
            "ticks": "",
            "zerolinecolor": "white"
           },
           "yaxis": {
            "backgroundcolor": "#E5ECF6",
            "gridcolor": "white",
            "gridwidth": 2,
            "linecolor": "white",
            "showbackground": true,
            "ticks": "",
            "zerolinecolor": "white"
           },
           "zaxis": {
            "backgroundcolor": "#E5ECF6",
            "gridcolor": "white",
            "gridwidth": 2,
            "linecolor": "white",
            "showbackground": true,
            "ticks": "",
            "zerolinecolor": "white"
           }
          },
          "shapedefaults": {
           "line": {
            "color": "#2a3f5f"
           }
          },
          "ternary": {
           "aaxis": {
            "gridcolor": "white",
            "linecolor": "white",
            "ticks": ""
           },
           "baxis": {
            "gridcolor": "white",
            "linecolor": "white",
            "ticks": ""
           },
           "bgcolor": "#E5ECF6",
           "caxis": {
            "gridcolor": "white",
            "linecolor": "white",
            "ticks": ""
           }
          },
          "title": {
           "x": 0.05
          },
          "xaxis": {
           "automargin": true,
           "gridcolor": "white",
           "linecolor": "white",
           "ticks": "",
           "title": {
            "standoff": 15
           },
           "zerolinecolor": "white",
           "zerolinewidth": 2
          },
          "yaxis": {
           "automargin": true,
           "gridcolor": "white",
           "linecolor": "white",
           "ticks": "",
           "title": {
            "standoff": 15
           },
           "zerolinecolor": "white",
           "zerolinewidth": 2
          }
         }
        }
       }
      },
      "text/html": [
       "<div>\n",
       "        \n",
       "        \n",
       "            <div id=\"8a2bd387-9fe0-43c3-b4be-2d4cdf8a1393\" class=\"plotly-graph-div\" style=\"height:525px; width:100%;\"></div>\n",
       "            <script type=\"text/javascript\">\n",
       "                require([\"plotly\"], function(Plotly) {\n",
       "                    window.PLOTLYENV=window.PLOTLYENV || {};\n",
       "                    \n",
       "                if (document.getElementById(\"8a2bd387-9fe0-43c3-b4be-2d4cdf8a1393\")) {\n",
       "                    Plotly.newPlot(\n",
       "                        '8a2bd387-9fe0-43c3-b4be-2d4cdf8a1393',\n",
       "                        [{\"hovertemplate\": \"%{y}\", \"name\": \"Susceptible\", \"type\": \"scatter\", \"x\": [0, 1, 2, 3, 4, 5, 6, 7, 8, 9, 10, 11, 12, 13, 14, 15, 16, 17, 18, 19, 20, 21, 22, 23, 24, 25, 26, 27, 28, 29, 30, 31, 32, 33, 34, 35, 36, 37, 38, 39, 40, 41, 42, 43, 44, 45, 46, 47, 48, 49, 50, 51, 52, 53, 54, 55, 56, 57, 58, 59, 60, 61, 62, 63, 64, 65, 66, 67, 68, 69, 70, 71, 72, 73, 74, 75, 76, 77, 78, 79, 80, 81, 82, 83, 84, 85, 86, 87, 88, 89, 90, 91, 92, 93, 94, 95, 96, 97, 98, 99, 100], \"y\": [99000, 98794, 98563, 98304, 98012, 97686, 97320, 96911, 96453, 95943, 95373, 94739, 94035, 93254, 92389, 91435, 90385, 89232, 87971, 86596, 85103, 83488, 81750, 79888, 77904, 75803, 73590, 71274, 68867, 66381, 63833, 61240, 58620, 55992, 53376, 50791, 48254, 45780, 43385, 41080, 38874, 36775, 34786, 32911, 31149, 29501, 27962, 26531, 25202, 23970, 22830, 21777, 20804, 19907, 19080, 18317, 17614, 16965, 16368, 15817, 15309, 14840, 14407, 14007, 13638, 13296, 12980, 12687, 12416, 12165, 11933, 11717, 11516, 11330, 11157, 10996, 10847, 10708, 10578, 10457, 10345, 10240, 10142, 10051, 9966, 9887, 9813, 9743, 9679, 9618, 9562, 9509, 9460, 9413, 9370, 9330, 9292, 9256, 9223, 9192, 9163]}, {\"hovertemplate\": \"%{y}\", \"name\": \"Infectious\", \"type\": \"scatter\", \"x\": [0, 1, 2, 3, 4, 5, 6, 7, 8, 9, 10, 11, 12, 13, 14, 15, 16, 17, 18, 19, 20, 21, 22, 23, 24, 25, 26, 27, 28, 29, 30, 31, 32, 33, 34, 35, 36, 37, 38, 39, 40, 41, 42, 43, 44, 45, 46, 47, 48, 49, 50, 51, 52, 53, 54, 55, 56, 57, 58, 59, 60, 61, 62, 63, 64, 65, 66, 67, 68, 69, 70, 71, 72, 73, 74, 75, 76, 77, 78, 79, 80, 81, 82, 83, 84, 85, 86, 87, 88, 89, 90, 91, 92, 93, 94, 95, 96, 97, 98, 99, 100], \"y\": [1000, 1126, 1267, 1426, 1604, 1803, 2025, 2273, 2550, 2858, 3201, 3580, 4000, 4463, 4973, 5532, 6142, 6807, 7528, 8304, 9138, 10026, 10968, 11958, 12991, 14060, 15156, 16268, 17382, 18487, 19566, 20604, 21587, 22499, 23327, 24059, 24684, 25196, 25589, 25861, 26012, 26044, 25963, 25776, 25489, 25112, 24655, 24127, 23539, 22900, 22220, 21508, 20771, 20018, 19255, 18488, 17722, 16962, 16211, 15474, 14753, 14049, 13366, 12704, 12064, 11447, 10853, 10283, 9737, 9214, 8715, 8238, 7784, 7351, 6940, 6550, 6179, 5827, 5493, 5177, 4878, 4596, 4328, 4075, 3836, 3611, 3398, 3197, 3008, 2829, 2661, 2502, 2353, 2212, 2080, 1955, 1837, 1727, 1623, 1525, 1433]}, {\"hovertemplate\": \"%{y}\", \"name\": \"Removed\", \"type\": \"scatter\", \"x\": [0, 1, 2, 3, 4, 5, 6, 7, 8, 9, 10, 11, 12, 13, 14, 15, 16, 17, 18, 19, 20, 21, 22, 23, 24, 25, 26, 27, 28, 29, 30, 31, 32, 33, 34, 35, 36, 37, 38, 39, 40, 41, 42, 43, 44, 45, 46, 47, 48, 49, 50, 51, 52, 53, 54, 55, 56, 57, 58, 59, 60, 61, 62, 63, 64, 65, 66, 67, 68, 69, 70, 71, 72, 73, 74, 75, 76, 77, 78, 79, 80, 81, 82, 83, 84, 85, 86, 87, 88, 89, 90, 91, 92, 93, 94, 95, 96, 97, 98, 99, 100], \"y\": [0, 30, 64, 103, 146, 195, 250, 312, 381, 459, 546, 644, 753, 875, 1011, 1163, 1332, 1519, 1727, 1956, 2210, 2488, 2794, 3128, 3493, 3889, 4318, 4780, 5276, 5807, 6370, 6967, 7595, 8254, 8940, 9651, 10385, 11138, 11906, 12686, 13475, 14268, 15063, 15854, 16640, 17418, 18183, 18935, 19671, 20389, 21087, 21765, 22421, 23054, 23665, 24252, 24816, 25356, 25874, 26368, 26840, 27290, 27718, 28126, 28513, 28881, 29230, 29561, 29875, 30172, 30453, 30718, 30970, 31207, 31431, 31643, 31843, 32031, 32209, 32376, 32534, 32683, 32823, 32955, 33080, 33197, 33307, 33410, 33508, 33600, 33686, 33767, 33843, 33915, 33983, 34046, 34106, 34162, 34214, 34264, 34310]}, {\"hovertemplate\": \"%{y}\", \"name\": \"Quarantined\", \"type\": \"scatter\", \"x\": [0, 1, 2, 3, 4, 5, 6, 7, 8, 9, 10, 11, 12, 13, 14, 15, 16, 17, 18, 19, 20, 21, 22, 23, 24, 25, 26, 27, 28, 29, 30, 31, 32, 33, 34, 35, 36, 37, 38, 39, 40, 41, 42, 43, 44, 45, 46, 47, 48, 49, 50, 51, 52, 53, 54, 55, 56, 57, 58, 59, 60, 61, 62, 63, 64, 65, 66, 67, 68, 69, 70, 71, 72, 73, 74, 75, 76, 77, 78, 79, 80, 81, 82, 83, 84, 85, 86, 87, 88, 89, 90, 91, 92, 93, 94, 95, 96, 97, 98, 99, 100], \"y\": [0, 48, 104, 166, 236, 314, 402, 502, 613, 738, 878, 1035, 1210, 1406, 1624, 1868, 2139, 2440, 2773, 3141, 3548, 3996, 4487, 5024, 5609, 6245, 6934, 7676, 8473, 9324, 10229, 11187, 12196, 13253, 14355, 15497, 16675, 17884, 19118, 20371, 21637, 22911, 24186, 25457, 26720, 27968, 29197, 30405, 31586, 32739, 33860, 34948, 36001, 37018, 37999, 38942, 39847, 40715, 41545, 42339, 43097, 43819, 44507, 45162, 45784, 46374, 46935, 47466, 47970, 48447, 48898, 49325, 49728, 50109, 50469, 50809, 51130, 51432, 51718, 51987, 52240, 52479, 52704, 52916, 53116, 53304, 53481, 53647, 53804, 53951, 54089, 54220, 54342, 54458, 54566, 54668, 54763, 54853, 54938, 55017, 55092]}, {\"hovertemplate\": \"%{y}\", \"marker\": {\"symbol\": 1}, \"mode\": \"markers\", \"name\": \"Estimated\", \"type\": \"scatter\", \"x\": [10, 20, 30, 40, 50, 60, 70, 80, 90], \"y\": [2000.0, 5700.0, 14199.999999999998, 36000.0, 26800.0, 13400.0, 6000.0, 2700.0, 899.9999999999999]}, {\"hovertemplate\": \"%{y}\", \"marker\": {\"symbol\": 3}, \"mode\": \"markers\", \"name\": \"Resisted\", \"type\": \"scatter\", \"x\": [10, 20, 30, 40, 50, 60, 70, 80, 90], \"y\": [99.205, 781.104, 3642.951, 11663.568, 20890.025, 28288.172000000002, 32546.654000000002, 31235.276, 33496.848]}, {\"hovertemplate\": \"%{y}\", \"marker\": {\"symbol\": 2}, \"mode\": \"markers\", \"name\": \"Confirmed\", \"type\": \"scatter\", \"x\": [10, 20, 30, 40, 50, 60, 70, 80, 90], \"y\": [753, 2439, 6540, 18878, 35718, 45328, 50593, 53242, 54990]}],\n",
       "                        {\"margin\": {\"b\": 0, \"l\": 0, \"r\": 0, \"t\": 25}, \"template\": {\"data\": {\"bar\": [{\"error_x\": {\"color\": \"#2a3f5f\"}, \"error_y\": {\"color\": \"#2a3f5f\"}, \"marker\": {\"line\": {\"color\": \"#E5ECF6\", \"width\": 0.5}}, \"type\": \"bar\"}], \"barpolar\": [{\"marker\": {\"line\": {\"color\": \"#E5ECF6\", \"width\": 0.5}}, \"type\": \"barpolar\"}], \"carpet\": [{\"aaxis\": {\"endlinecolor\": \"#2a3f5f\", \"gridcolor\": \"white\", \"linecolor\": \"white\", \"minorgridcolor\": \"white\", \"startlinecolor\": \"#2a3f5f\"}, \"baxis\": {\"endlinecolor\": \"#2a3f5f\", \"gridcolor\": \"white\", \"linecolor\": \"white\", \"minorgridcolor\": \"white\", \"startlinecolor\": \"#2a3f5f\"}, \"type\": \"carpet\"}], \"choropleth\": [{\"colorbar\": {\"outlinewidth\": 0, \"ticks\": \"\"}, \"type\": \"choropleth\"}], \"contour\": [{\"colorbar\": {\"outlinewidth\": 0, \"ticks\": \"\"}, \"colorscale\": [[0.0, \"#0d0887\"], [0.1111111111111111, \"#46039f\"], [0.2222222222222222, \"#7201a8\"], [0.3333333333333333, \"#9c179e\"], [0.4444444444444444, \"#bd3786\"], [0.5555555555555556, \"#d8576b\"], [0.6666666666666666, \"#ed7953\"], [0.7777777777777778, \"#fb9f3a\"], [0.8888888888888888, \"#fdca26\"], [1.0, \"#f0f921\"]], \"type\": \"contour\"}], \"contourcarpet\": [{\"colorbar\": {\"outlinewidth\": 0, \"ticks\": \"\"}, \"type\": \"contourcarpet\"}], \"heatmap\": [{\"colorbar\": {\"outlinewidth\": 0, \"ticks\": \"\"}, \"colorscale\": [[0.0, \"#0d0887\"], [0.1111111111111111, \"#46039f\"], [0.2222222222222222, \"#7201a8\"], [0.3333333333333333, \"#9c179e\"], [0.4444444444444444, \"#bd3786\"], [0.5555555555555556, \"#d8576b\"], [0.6666666666666666, \"#ed7953\"], [0.7777777777777778, \"#fb9f3a\"], [0.8888888888888888, \"#fdca26\"], [1.0, \"#f0f921\"]], \"type\": \"heatmap\"}], \"heatmapgl\": [{\"colorbar\": {\"outlinewidth\": 0, \"ticks\": \"\"}, \"colorscale\": [[0.0, \"#0d0887\"], [0.1111111111111111, \"#46039f\"], [0.2222222222222222, \"#7201a8\"], [0.3333333333333333, \"#9c179e\"], [0.4444444444444444, \"#bd3786\"], [0.5555555555555556, \"#d8576b\"], [0.6666666666666666, \"#ed7953\"], [0.7777777777777778, \"#fb9f3a\"], [0.8888888888888888, \"#fdca26\"], [1.0, \"#f0f921\"]], \"type\": \"heatmapgl\"}], \"histogram\": [{\"marker\": {\"colorbar\": {\"outlinewidth\": 0, \"ticks\": \"\"}}, \"type\": \"histogram\"}], \"histogram2d\": [{\"colorbar\": {\"outlinewidth\": 0, \"ticks\": \"\"}, \"colorscale\": [[0.0, \"#0d0887\"], [0.1111111111111111, \"#46039f\"], [0.2222222222222222, \"#7201a8\"], [0.3333333333333333, \"#9c179e\"], [0.4444444444444444, \"#bd3786\"], [0.5555555555555556, \"#d8576b\"], [0.6666666666666666, \"#ed7953\"], [0.7777777777777778, \"#fb9f3a\"], [0.8888888888888888, \"#fdca26\"], [1.0, \"#f0f921\"]], \"type\": \"histogram2d\"}], \"histogram2dcontour\": [{\"colorbar\": {\"outlinewidth\": 0, \"ticks\": \"\"}, \"colorscale\": [[0.0, \"#0d0887\"], [0.1111111111111111, \"#46039f\"], [0.2222222222222222, \"#7201a8\"], [0.3333333333333333, \"#9c179e\"], [0.4444444444444444, \"#bd3786\"], [0.5555555555555556, \"#d8576b\"], [0.6666666666666666, \"#ed7953\"], [0.7777777777777778, \"#fb9f3a\"], [0.8888888888888888, \"#fdca26\"], [1.0, \"#f0f921\"]], \"type\": \"histogram2dcontour\"}], \"mesh3d\": [{\"colorbar\": {\"outlinewidth\": 0, \"ticks\": \"\"}, \"type\": \"mesh3d\"}], \"parcoords\": [{\"line\": {\"colorbar\": {\"outlinewidth\": 0, \"ticks\": \"\"}}, \"type\": \"parcoords\"}], \"pie\": [{\"automargin\": true, \"type\": \"pie\"}], \"scatter\": [{\"marker\": {\"colorbar\": {\"outlinewidth\": 0, \"ticks\": \"\"}}, \"type\": \"scatter\"}], \"scatter3d\": [{\"line\": {\"colorbar\": {\"outlinewidth\": 0, \"ticks\": \"\"}}, \"marker\": {\"colorbar\": {\"outlinewidth\": 0, \"ticks\": \"\"}}, \"type\": \"scatter3d\"}], \"scattercarpet\": [{\"marker\": {\"colorbar\": {\"outlinewidth\": 0, \"ticks\": \"\"}}, \"type\": \"scattercarpet\"}], \"scattergeo\": [{\"marker\": {\"colorbar\": {\"outlinewidth\": 0, \"ticks\": \"\"}}, \"type\": \"scattergeo\"}], \"scattergl\": [{\"marker\": {\"colorbar\": {\"outlinewidth\": 0, \"ticks\": \"\"}}, \"type\": \"scattergl\"}], \"scattermapbox\": [{\"marker\": {\"colorbar\": {\"outlinewidth\": 0, \"ticks\": \"\"}}, \"type\": \"scattermapbox\"}], \"scatterpolar\": [{\"marker\": {\"colorbar\": {\"outlinewidth\": 0, \"ticks\": \"\"}}, \"type\": \"scatterpolar\"}], \"scatterpolargl\": [{\"marker\": {\"colorbar\": {\"outlinewidth\": 0, \"ticks\": \"\"}}, \"type\": \"scatterpolargl\"}], \"scatterternary\": [{\"marker\": {\"colorbar\": {\"outlinewidth\": 0, \"ticks\": \"\"}}, \"type\": \"scatterternary\"}], \"surface\": [{\"colorbar\": {\"outlinewidth\": 0, \"ticks\": \"\"}, \"colorscale\": [[0.0, \"#0d0887\"], [0.1111111111111111, \"#46039f\"], [0.2222222222222222, \"#7201a8\"], [0.3333333333333333, \"#9c179e\"], [0.4444444444444444, \"#bd3786\"], [0.5555555555555556, \"#d8576b\"], [0.6666666666666666, \"#ed7953\"], [0.7777777777777778, \"#fb9f3a\"], [0.8888888888888888, \"#fdca26\"], [1.0, \"#f0f921\"]], \"type\": \"surface\"}], \"table\": [{\"cells\": {\"fill\": {\"color\": \"#EBF0F8\"}, \"line\": {\"color\": \"white\"}}, \"header\": {\"fill\": {\"color\": \"#C8D4E3\"}, \"line\": {\"color\": \"white\"}}, \"type\": \"table\"}]}, \"layout\": {\"annotationdefaults\": {\"arrowcolor\": \"#2a3f5f\", \"arrowhead\": 0, \"arrowwidth\": 1}, \"coloraxis\": {\"colorbar\": {\"outlinewidth\": 0, \"ticks\": \"\"}}, \"colorscale\": {\"diverging\": [[0, \"#8e0152\"], [0.1, \"#c51b7d\"], [0.2, \"#de77ae\"], [0.3, \"#f1b6da\"], [0.4, \"#fde0ef\"], [0.5, \"#f7f7f7\"], [0.6, \"#e6f5d0\"], [0.7, \"#b8e186\"], [0.8, \"#7fbc41\"], [0.9, \"#4d9221\"], [1, \"#276419\"]], \"sequential\": [[0.0, \"#0d0887\"], [0.1111111111111111, \"#46039f\"], [0.2222222222222222, \"#7201a8\"], [0.3333333333333333, \"#9c179e\"], [0.4444444444444444, \"#bd3786\"], [0.5555555555555556, \"#d8576b\"], [0.6666666666666666, \"#ed7953\"], [0.7777777777777778, \"#fb9f3a\"], [0.8888888888888888, \"#fdca26\"], [1.0, \"#f0f921\"]], \"sequentialminus\": [[0.0, \"#0d0887\"], [0.1111111111111111, \"#46039f\"], [0.2222222222222222, \"#7201a8\"], [0.3333333333333333, \"#9c179e\"], [0.4444444444444444, \"#bd3786\"], [0.5555555555555556, \"#d8576b\"], [0.6666666666666666, \"#ed7953\"], [0.7777777777777778, \"#fb9f3a\"], [0.8888888888888888, \"#fdca26\"], [1.0, \"#f0f921\"]]}, \"colorway\": [\"#636efa\", \"#EF553B\", \"#00cc96\", \"#ab63fa\", \"#FFA15A\", \"#19d3f3\", \"#FF6692\", \"#B6E880\", \"#FF97FF\", \"#FECB52\"], \"font\": {\"color\": \"#2a3f5f\"}, \"geo\": {\"bgcolor\": \"white\", \"lakecolor\": \"white\", \"landcolor\": \"#E5ECF6\", \"showlakes\": true, \"showland\": true, \"subunitcolor\": \"white\"}, \"hoverlabel\": {\"align\": \"left\"}, \"hovermode\": \"closest\", \"mapbox\": {\"style\": \"light\"}, \"paper_bgcolor\": \"white\", \"plot_bgcolor\": \"#E5ECF6\", \"polar\": {\"angularaxis\": {\"gridcolor\": \"white\", \"linecolor\": \"white\", \"ticks\": \"\"}, \"bgcolor\": \"#E5ECF6\", \"radialaxis\": {\"gridcolor\": \"white\", \"linecolor\": \"white\", \"ticks\": \"\"}}, \"scene\": {\"xaxis\": {\"backgroundcolor\": \"#E5ECF6\", \"gridcolor\": \"white\", \"gridwidth\": 2, \"linecolor\": \"white\", \"showbackground\": true, \"ticks\": \"\", \"zerolinecolor\": \"white\"}, \"yaxis\": {\"backgroundcolor\": \"#E5ECF6\", \"gridcolor\": \"white\", \"gridwidth\": 2, \"linecolor\": \"white\", \"showbackground\": true, \"ticks\": \"\", \"zerolinecolor\": \"white\"}, \"zaxis\": {\"backgroundcolor\": \"#E5ECF6\", \"gridcolor\": \"white\", \"gridwidth\": 2, \"linecolor\": \"white\", \"showbackground\": true, \"ticks\": \"\", \"zerolinecolor\": \"white\"}}, \"shapedefaults\": {\"line\": {\"color\": \"#2a3f5f\"}}, \"ternary\": {\"aaxis\": {\"gridcolor\": \"white\", \"linecolor\": \"white\", \"ticks\": \"\"}, \"baxis\": {\"gridcolor\": \"white\", \"linecolor\": \"white\", \"ticks\": \"\"}, \"bgcolor\": \"#E5ECF6\", \"caxis\": {\"gridcolor\": \"white\", \"linecolor\": \"white\", \"ticks\": \"\"}}, \"title\": {\"x\": 0.05}, \"xaxis\": {\"automargin\": true, \"gridcolor\": \"white\", \"linecolor\": \"white\", \"ticks\": \"\", \"title\": {\"standoff\": 15}, \"zerolinecolor\": \"white\", \"zerolinewidth\": 2}, \"yaxis\": {\"automargin\": true, \"gridcolor\": \"white\", \"linecolor\": \"white\", \"ticks\": \"\", \"title\": {\"standoff\": 15}, \"zerolinecolor\": \"white\", \"zerolinewidth\": 2}}}},\n",
       "                        {\"responsive\": true}\n",
       "                    ).then(function(){\n",
       "                            \n",
       "var gd = document.getElementById('8a2bd387-9fe0-43c3-b4be-2d4cdf8a1393');\n",
       "var x = new MutationObserver(function (mutations, observer) {{\n",
       "        var display = window.getComputedStyle(gd).display;\n",
       "        if (!display || display === 'none') {{\n",
       "            console.log([gd, 'removed!']);\n",
       "            Plotly.purge(gd);\n",
       "            observer.disconnect();\n",
       "        }}\n",
       "}});\n",
       "\n",
       "// Listen for the removal of the full notebook cells\n",
       "var notebookContainer = gd.closest('#notebook-container');\n",
       "if (notebookContainer) {{\n",
       "    x.observe(notebookContainer, {childList: true});\n",
       "}}\n",
       "\n",
       "// Listen for the clearing of the current output cell\n",
       "var outputEl = gd.closest('.output');\n",
       "if (outputEl) {{\n",
       "    x.observe(outputEl, {childList: true});\n",
       "}}\n",
       "\n",
       "                        })\n",
       "                };\n",
       "                });\n",
       "            </script>\n",
       "        </div>"
      ]
     },
     "metadata": {},
     "output_type": "display_data"
    }
   ],
   "source": [
    "fig = SIRQ.plot(SIRQ(b.beta, b.gamma, b.theta).estimate(city, T))\n",
    "sample.plot(fig)\n",
    "resisted.plot(fig)\n",
    "confirmed.plot(fig)"
   ]
  },
  {
   "cell_type": "code",
   "execution_count": 197,
   "metadata": {},
   "outputs": [
    {
     "data": {
      "application/vnd.plotly.v1+json": {
       "config": {
        "plotlyServerURL": "https://plot.ly"
       },
       "data": [
        {
         "hovertemplate": "%{y}",
         "line": {
          "shape": "hv"
         },
         "name": "β",
         "type": "scatter",
         "x": [
          0,
          1,
          2,
          3,
          4,
          5,
          6,
          7,
          8,
          9,
          10,
          11,
          12,
          13,
          14,
          15,
          16,
          17,
          18,
          19,
          20,
          21,
          22,
          23,
          24,
          25,
          26,
          27,
          28,
          29,
          30,
          31,
          32,
          33,
          34,
          35,
          36,
          37,
          38,
          39,
          40,
          41,
          42,
          43,
          44,
          45,
          46,
          47,
          48,
          49,
          50,
          51,
          52,
          53,
          54,
          55,
          56,
          57,
          58,
          59,
          60,
          61,
          62,
          63,
          64,
          65,
          66,
          67,
          68,
          69,
          70,
          71,
          72,
          73,
          74,
          75,
          76,
          77,
          78,
          79,
          80,
          81,
          82,
          83,
          84,
          85,
          86,
          87,
          88,
          89,
          90,
          91,
          92,
          93,
          94,
          95,
          96,
          97,
          98,
          99
         ],
         "y": [
          0.15,
          0.15,
          0.15,
          0.15,
          0.15,
          0.15,
          0.15,
          0.195,
          0.195,
          0.195,
          0.195,
          0.195,
          0.195,
          0.195,
          0.195,
          0.195,
          0.195,
          0.195,
          0.195,
          0.195,
          0.195,
          0.195,
          0.195,
          0.195,
          0.195,
          0.2535,
          0.2535,
          0.2535,
          0.2535,
          0.2535,
          0.2535,
          0.2535,
          0.32955,
          0.32955,
          0.32955,
          0.32955,
          0.32955,
          0.32955,
          0.32955,
          0.32955,
          0.32955,
          0.230685,
          0.230685,
          0.230685,
          0.230685,
          0.230685,
          0.11303564999999999,
          0.11303564999999999,
          0.11303564999999999,
          0.11303564999999999,
          0.07912495499999998,
          0.07912495499999998,
          0.07912495499999998,
          0.07912495499999998,
          0.07912495499999998,
          0.07912495499999998,
          0.07912495499999998,
          0.07912495499999998,
          0.07912495499999998,
          0.07912495499999998,
          0.07912495499999998,
          0.07912495499999998,
          0.07912495499999998,
          0.07912495499999998,
          0.07912495499999998,
          0.07912495499999998,
          0.05538746849999998,
          0.05538746849999998,
          0.05538746849999998,
          0.05538746849999998,
          0.05538746849999998,
          0.05538746849999998,
          0.05538746849999998,
          0.05538746849999998,
          0.07200370904999998,
          0.07200370904999998,
          0.07200370904999998,
          0.07200370904999998,
          0.07200370904999998,
          0.07200370904999998,
          0.07200370904999998,
          0.07200370904999998,
          0.07200370904999998,
          0.07200370904999998,
          0.07200370904999998,
          0.07200370904999998,
          0.07200370904999998,
          0.07200370904999998,
          0.07200370904999998,
          0.07200370904999998,
          0.07200370904999998,
          0.07200370904999998,
          0.06552337523549998,
          0.06552337523549998,
          0.06552337523549998,
          0.06552337523549998,
          0.08518038780614998,
          0.08518038780614998,
          0.08518038780614998,
          0.08518038780614998
         ]
        },
        {
         "hovertemplate": "%{y}",
         "line": {
          "shape": "hv"
         },
         "name": "γ",
         "type": "scatter",
         "x": [
          0,
          1,
          2,
          3,
          4,
          5,
          6,
          7,
          8,
          9,
          10,
          11,
          12,
          13,
          14,
          15,
          16,
          17,
          18,
          19,
          20,
          21,
          22,
          23,
          24,
          25,
          26,
          27,
          28,
          29,
          30,
          31,
          32,
          33,
          34,
          35,
          36,
          37,
          38,
          39,
          40,
          41,
          42,
          43,
          44,
          45,
          46,
          47,
          48,
          49,
          50,
          51,
          52,
          53,
          54,
          55,
          56,
          57,
          58,
          59,
          60,
          61,
          62,
          63,
          64,
          65,
          66,
          67,
          68,
          69,
          70,
          71,
          72,
          73,
          74,
          75,
          76,
          77,
          78,
          79,
          80,
          81,
          82,
          83,
          84,
          85,
          86,
          87,
          88,
          89,
          90,
          91,
          92,
          93,
          94,
          95,
          96,
          97,
          98,
          99
         ],
         "y": [
          0.03,
          0.03,
          0.03,
          0.03,
          0.03,
          0.03,
          0.03,
          0.0303,
          0.0303,
          0.0303,
          0.0303,
          0.0303,
          0.0303,
          0.0303,
          0.0303,
          0.0303,
          0.0303,
          0.0303,
          0.0303,
          0.0303,
          0.0303,
          0.0303,
          0.0303,
          0.0303,
          0.0303,
          0.030602999999999998,
          0.030602999999999998,
          0.030602999999999998,
          0.030602999999999998,
          0.030602999999999998,
          0.030602999999999998,
          0.030602999999999998,
          0.030909029999999997,
          0.030909029999999997,
          0.030909029999999997,
          0.030909029999999997,
          0.030909029999999997,
          0.030909029999999997,
          0.030909029999999997,
          0.030909029999999997,
          0.030909029999999997,
          0.03059993969999999,
          0.03059993969999999,
          0.03059993969999999,
          0.03059993969999999,
          0.03059993969999999,
          0.029991000899969988,
          0.029991000899969988,
          0.029991000899969988,
          0.029991000899969988,
          0.02969109089097029,
          0.02969109089097029,
          0.02969109089097029,
          0.02969109089097029,
          0.02969109089097029,
          0.02969109089097029,
          0.02969109089097029,
          0.02969109089097029,
          0.02969109089097029,
          0.02969109089097029,
          0.02969109089097029,
          0.02969109089097029,
          0.02969109089097029,
          0.02969109089097029,
          0.02969109089097029,
          0.02969109089097029,
          0.02939417998206059,
          0.02939417998206059,
          0.02939417998206059,
          0.02939417998206059,
          0.02939417998206059,
          0.02939417998206059,
          0.02939417998206059,
          0.02939417998206059,
          0.029688121781881193,
          0.029688121781881193,
          0.029688121781881193,
          0.029688121781881193,
          0.029688121781881193,
          0.029688121781881193,
          0.029688121781881193,
          0.029688121781881193,
          0.029688121781881193,
          0.029688121781881193,
          0.029688121781881193,
          0.029688121781881193,
          0.029688121781881193,
          0.029688121781881193,
          0.029688121781881193,
          0.029688121781881193,
          0.029688121781881193,
          0.029688121781881193,
          0.029685152969703005,
          0.029685152969703005,
          0.029685152969703005,
          0.029685152969703005,
          0.029982004499400035,
          0.029982004499400035,
          0.029982004499400035,
          0.029982004499400035
         ]
        },
        {
         "hovertemplate": "%{y}",
         "line": {
          "shape": "hv"
         },
         "name": "θ",
         "type": "scatter",
         "x": [
          0,
          1,
          2,
          3,
          4,
          5,
          6,
          7,
          8,
          9,
          10,
          11,
          12,
          13,
          14,
          15,
          16,
          17,
          18,
          19,
          20,
          21,
          22,
          23,
          24,
          25,
          26,
          27,
          28,
          29,
          30,
          31,
          32,
          33,
          34,
          35,
          36,
          37,
          38,
          39,
          40,
          41,
          42,
          43,
          44,
          45,
          46,
          47,
          48,
          49,
          50,
          51,
          52,
          53,
          54,
          55,
          56,
          57,
          58,
          59,
          60,
          61,
          62,
          63,
          64,
          65,
          66,
          67,
          68,
          69,
          70,
          71,
          72,
          73,
          74,
          75,
          76,
          77,
          78,
          79,
          80,
          81,
          82,
          83,
          84,
          85,
          86,
          87,
          88,
          89,
          90,
          91,
          92,
          93,
          94,
          95,
          96,
          97,
          98,
          99
         ],
         "y": [
          0.06,
          0.06,
          0.06,
          0.06,
          0.06,
          0.06,
          0.06,
          0.06,
          0.06,
          0.06,
          0.048,
          0.048,
          0.048,
          0.048,
          0.048,
          0.048,
          0.048,
          0.048,
          0.048,
          0.048,
          0.048,
          0.048,
          0.048,
          0.048,
          0.048,
          0.048,
          0.048,
          0.048,
          0.048,
          0.048,
          0.048,
          0.048,
          0.048,
          0.048,
          0.048,
          0.048,
          0.048,
          0.048,
          0.048,
          0.048,
          0.048,
          0.048,
          0.048,
          0.048,
          0.048,
          0.048,
          0.048,
          0.048,
          0.048,
          0.048,
          0.048,
          0.048,
          0.048,
          0.048,
          0.048,
          0.048,
          0.048,
          0.048,
          0.048,
          0.048,
          0.048,
          0.048,
          0.048,
          0.0576,
          0.0576,
          0.0576,
          0.0576,
          0.0576,
          0.0576,
          0.0576,
          0.06911999999999999,
          0.06911999999999999,
          0.06911999999999999,
          0.06911999999999999,
          0.06911999999999999,
          0.08294399999999999,
          0.08294399999999999,
          0.08294399999999999,
          0.08294399999999999,
          0.09953279999999998,
          0.09953279999999998,
          0.09953279999999998,
          0.09953279999999998,
          0.09953279999999998,
          0.09953279999999998,
          0.09953279999999998,
          0.09953279999999998,
          0.09953279999999998,
          0.09953279999999998,
          0.09953279999999998,
          0.09953279999999998,
          0.09953279999999998,
          0.09953279999999998,
          0.09953279999999998,
          0.09953279999999998,
          0.09953279999999998,
          0.09953279999999998,
          0.09953279999999998,
          0.09953279999999998,
          0.09953279999999998
         ]
        }
       ],
       "layout": {
        "margin": {
         "b": 0,
         "l": 0,
         "r": 150,
         "t": 25
        },
        "template": {
         "data": {
          "bar": [
           {
            "error_x": {
             "color": "#2a3f5f"
            },
            "error_y": {
             "color": "#2a3f5f"
            },
            "marker": {
             "line": {
              "color": "#E5ECF6",
              "width": 0.5
             }
            },
            "type": "bar"
           }
          ],
          "barpolar": [
           {
            "marker": {
             "line": {
              "color": "#E5ECF6",
              "width": 0.5
             }
            },
            "type": "barpolar"
           }
          ],
          "carpet": [
           {
            "aaxis": {
             "endlinecolor": "#2a3f5f",
             "gridcolor": "white",
             "linecolor": "white",
             "minorgridcolor": "white",
             "startlinecolor": "#2a3f5f"
            },
            "baxis": {
             "endlinecolor": "#2a3f5f",
             "gridcolor": "white",
             "linecolor": "white",
             "minorgridcolor": "white",
             "startlinecolor": "#2a3f5f"
            },
            "type": "carpet"
           }
          ],
          "choropleth": [
           {
            "colorbar": {
             "outlinewidth": 0,
             "ticks": ""
            },
            "type": "choropleth"
           }
          ],
          "contour": [
           {
            "colorbar": {
             "outlinewidth": 0,
             "ticks": ""
            },
            "colorscale": [
             [
              0,
              "#0d0887"
             ],
             [
              0.1111111111111111,
              "#46039f"
             ],
             [
              0.2222222222222222,
              "#7201a8"
             ],
             [
              0.3333333333333333,
              "#9c179e"
             ],
             [
              0.4444444444444444,
              "#bd3786"
             ],
             [
              0.5555555555555556,
              "#d8576b"
             ],
             [
              0.6666666666666666,
              "#ed7953"
             ],
             [
              0.7777777777777778,
              "#fb9f3a"
             ],
             [
              0.8888888888888888,
              "#fdca26"
             ],
             [
              1,
              "#f0f921"
             ]
            ],
            "type": "contour"
           }
          ],
          "contourcarpet": [
           {
            "colorbar": {
             "outlinewidth": 0,
             "ticks": ""
            },
            "type": "contourcarpet"
           }
          ],
          "heatmap": [
           {
            "colorbar": {
             "outlinewidth": 0,
             "ticks": ""
            },
            "colorscale": [
             [
              0,
              "#0d0887"
             ],
             [
              0.1111111111111111,
              "#46039f"
             ],
             [
              0.2222222222222222,
              "#7201a8"
             ],
             [
              0.3333333333333333,
              "#9c179e"
             ],
             [
              0.4444444444444444,
              "#bd3786"
             ],
             [
              0.5555555555555556,
              "#d8576b"
             ],
             [
              0.6666666666666666,
              "#ed7953"
             ],
             [
              0.7777777777777778,
              "#fb9f3a"
             ],
             [
              0.8888888888888888,
              "#fdca26"
             ],
             [
              1,
              "#f0f921"
             ]
            ],
            "type": "heatmap"
           }
          ],
          "heatmapgl": [
           {
            "colorbar": {
             "outlinewidth": 0,
             "ticks": ""
            },
            "colorscale": [
             [
              0,
              "#0d0887"
             ],
             [
              0.1111111111111111,
              "#46039f"
             ],
             [
              0.2222222222222222,
              "#7201a8"
             ],
             [
              0.3333333333333333,
              "#9c179e"
             ],
             [
              0.4444444444444444,
              "#bd3786"
             ],
             [
              0.5555555555555556,
              "#d8576b"
             ],
             [
              0.6666666666666666,
              "#ed7953"
             ],
             [
              0.7777777777777778,
              "#fb9f3a"
             ],
             [
              0.8888888888888888,
              "#fdca26"
             ],
             [
              1,
              "#f0f921"
             ]
            ],
            "type": "heatmapgl"
           }
          ],
          "histogram": [
           {
            "marker": {
             "colorbar": {
              "outlinewidth": 0,
              "ticks": ""
             }
            },
            "type": "histogram"
           }
          ],
          "histogram2d": [
           {
            "colorbar": {
             "outlinewidth": 0,
             "ticks": ""
            },
            "colorscale": [
             [
              0,
              "#0d0887"
             ],
             [
              0.1111111111111111,
              "#46039f"
             ],
             [
              0.2222222222222222,
              "#7201a8"
             ],
             [
              0.3333333333333333,
              "#9c179e"
             ],
             [
              0.4444444444444444,
              "#bd3786"
             ],
             [
              0.5555555555555556,
              "#d8576b"
             ],
             [
              0.6666666666666666,
              "#ed7953"
             ],
             [
              0.7777777777777778,
              "#fb9f3a"
             ],
             [
              0.8888888888888888,
              "#fdca26"
             ],
             [
              1,
              "#f0f921"
             ]
            ],
            "type": "histogram2d"
           }
          ],
          "histogram2dcontour": [
           {
            "colorbar": {
             "outlinewidth": 0,
             "ticks": ""
            },
            "colorscale": [
             [
              0,
              "#0d0887"
             ],
             [
              0.1111111111111111,
              "#46039f"
             ],
             [
              0.2222222222222222,
              "#7201a8"
             ],
             [
              0.3333333333333333,
              "#9c179e"
             ],
             [
              0.4444444444444444,
              "#bd3786"
             ],
             [
              0.5555555555555556,
              "#d8576b"
             ],
             [
              0.6666666666666666,
              "#ed7953"
             ],
             [
              0.7777777777777778,
              "#fb9f3a"
             ],
             [
              0.8888888888888888,
              "#fdca26"
             ],
             [
              1,
              "#f0f921"
             ]
            ],
            "type": "histogram2dcontour"
           }
          ],
          "mesh3d": [
           {
            "colorbar": {
             "outlinewidth": 0,
             "ticks": ""
            },
            "type": "mesh3d"
           }
          ],
          "parcoords": [
           {
            "line": {
             "colorbar": {
              "outlinewidth": 0,
              "ticks": ""
             }
            },
            "type": "parcoords"
           }
          ],
          "pie": [
           {
            "automargin": true,
            "type": "pie"
           }
          ],
          "scatter": [
           {
            "marker": {
             "colorbar": {
              "outlinewidth": 0,
              "ticks": ""
             }
            },
            "type": "scatter"
           }
          ],
          "scatter3d": [
           {
            "line": {
             "colorbar": {
              "outlinewidth": 0,
              "ticks": ""
             }
            },
            "marker": {
             "colorbar": {
              "outlinewidth": 0,
              "ticks": ""
             }
            },
            "type": "scatter3d"
           }
          ],
          "scattercarpet": [
           {
            "marker": {
             "colorbar": {
              "outlinewidth": 0,
              "ticks": ""
             }
            },
            "type": "scattercarpet"
           }
          ],
          "scattergeo": [
           {
            "marker": {
             "colorbar": {
              "outlinewidth": 0,
              "ticks": ""
             }
            },
            "type": "scattergeo"
           }
          ],
          "scattergl": [
           {
            "marker": {
             "colorbar": {
              "outlinewidth": 0,
              "ticks": ""
             }
            },
            "type": "scattergl"
           }
          ],
          "scattermapbox": [
           {
            "marker": {
             "colorbar": {
              "outlinewidth": 0,
              "ticks": ""
             }
            },
            "type": "scattermapbox"
           }
          ],
          "scatterpolar": [
           {
            "marker": {
             "colorbar": {
              "outlinewidth": 0,
              "ticks": ""
             }
            },
            "type": "scatterpolar"
           }
          ],
          "scatterpolargl": [
           {
            "marker": {
             "colorbar": {
              "outlinewidth": 0,
              "ticks": ""
             }
            },
            "type": "scatterpolargl"
           }
          ],
          "scatterternary": [
           {
            "marker": {
             "colorbar": {
              "outlinewidth": 0,
              "ticks": ""
             }
            },
            "type": "scatterternary"
           }
          ],
          "surface": [
           {
            "colorbar": {
             "outlinewidth": 0,
             "ticks": ""
            },
            "colorscale": [
             [
              0,
              "#0d0887"
             ],
             [
              0.1111111111111111,
              "#46039f"
             ],
             [
              0.2222222222222222,
              "#7201a8"
             ],
             [
              0.3333333333333333,
              "#9c179e"
             ],
             [
              0.4444444444444444,
              "#bd3786"
             ],
             [
              0.5555555555555556,
              "#d8576b"
             ],
             [
              0.6666666666666666,
              "#ed7953"
             ],
             [
              0.7777777777777778,
              "#fb9f3a"
             ],
             [
              0.8888888888888888,
              "#fdca26"
             ],
             [
              1,
              "#f0f921"
             ]
            ],
            "type": "surface"
           }
          ],
          "table": [
           {
            "cells": {
             "fill": {
              "color": "#EBF0F8"
             },
             "line": {
              "color": "white"
             }
            },
            "header": {
             "fill": {
              "color": "#C8D4E3"
             },
             "line": {
              "color": "white"
             }
            },
            "type": "table"
           }
          ]
         },
         "layout": {
          "annotationdefaults": {
           "arrowcolor": "#2a3f5f",
           "arrowhead": 0,
           "arrowwidth": 1
          },
          "coloraxis": {
           "colorbar": {
            "outlinewidth": 0,
            "ticks": ""
           }
          },
          "colorscale": {
           "diverging": [
            [
             0,
             "#8e0152"
            ],
            [
             0.1,
             "#c51b7d"
            ],
            [
             0.2,
             "#de77ae"
            ],
            [
             0.3,
             "#f1b6da"
            ],
            [
             0.4,
             "#fde0ef"
            ],
            [
             0.5,
             "#f7f7f7"
            ],
            [
             0.6,
             "#e6f5d0"
            ],
            [
             0.7,
             "#b8e186"
            ],
            [
             0.8,
             "#7fbc41"
            ],
            [
             0.9,
             "#4d9221"
            ],
            [
             1,
             "#276419"
            ]
           ],
           "sequential": [
            [
             0,
             "#0d0887"
            ],
            [
             0.1111111111111111,
             "#46039f"
            ],
            [
             0.2222222222222222,
             "#7201a8"
            ],
            [
             0.3333333333333333,
             "#9c179e"
            ],
            [
             0.4444444444444444,
             "#bd3786"
            ],
            [
             0.5555555555555556,
             "#d8576b"
            ],
            [
             0.6666666666666666,
             "#ed7953"
            ],
            [
             0.7777777777777778,
             "#fb9f3a"
            ],
            [
             0.8888888888888888,
             "#fdca26"
            ],
            [
             1,
             "#f0f921"
            ]
           ],
           "sequentialminus": [
            [
             0,
             "#0d0887"
            ],
            [
             0.1111111111111111,
             "#46039f"
            ],
            [
             0.2222222222222222,
             "#7201a8"
            ],
            [
             0.3333333333333333,
             "#9c179e"
            ],
            [
             0.4444444444444444,
             "#bd3786"
            ],
            [
             0.5555555555555556,
             "#d8576b"
            ],
            [
             0.6666666666666666,
             "#ed7953"
            ],
            [
             0.7777777777777778,
             "#fb9f3a"
            ],
            [
             0.8888888888888888,
             "#fdca26"
            ],
            [
             1,
             "#f0f921"
            ]
           ]
          },
          "colorway": [
           "#636efa",
           "#EF553B",
           "#00cc96",
           "#ab63fa",
           "#FFA15A",
           "#19d3f3",
           "#FF6692",
           "#B6E880",
           "#FF97FF",
           "#FECB52"
          ],
          "font": {
           "color": "#2a3f5f"
          },
          "geo": {
           "bgcolor": "white",
           "lakecolor": "white",
           "landcolor": "#E5ECF6",
           "showlakes": true,
           "showland": true,
           "subunitcolor": "white"
          },
          "hoverlabel": {
           "align": "left"
          },
          "hovermode": "closest",
          "mapbox": {
           "style": "light"
          },
          "paper_bgcolor": "white",
          "plot_bgcolor": "#E5ECF6",
          "polar": {
           "angularaxis": {
            "gridcolor": "white",
            "linecolor": "white",
            "ticks": ""
           },
           "bgcolor": "#E5ECF6",
           "radialaxis": {
            "gridcolor": "white",
            "linecolor": "white",
            "ticks": ""
           }
          },
          "scene": {
           "xaxis": {
            "backgroundcolor": "#E5ECF6",
            "gridcolor": "white",
            "gridwidth": 2,
            "linecolor": "white",
            "showbackground": true,
            "ticks": "",
            "zerolinecolor": "white"
           },
           "yaxis": {
            "backgroundcolor": "#E5ECF6",
            "gridcolor": "white",
            "gridwidth": 2,
            "linecolor": "white",
            "showbackground": true,
            "ticks": "",
            "zerolinecolor": "white"
           },
           "zaxis": {
            "backgroundcolor": "#E5ECF6",
            "gridcolor": "white",
            "gridwidth": 2,
            "linecolor": "white",
            "showbackground": true,
            "ticks": "",
            "zerolinecolor": "white"
           }
          },
          "shapedefaults": {
           "line": {
            "color": "#2a3f5f"
           }
          },
          "ternary": {
           "aaxis": {
            "gridcolor": "white",
            "linecolor": "white",
            "ticks": ""
           },
           "baxis": {
            "gridcolor": "white",
            "linecolor": "white",
            "ticks": ""
           },
           "bgcolor": "#E5ECF6",
           "caxis": {
            "gridcolor": "white",
            "linecolor": "white",
            "ticks": ""
           }
          },
          "title": {
           "x": 0.05
          },
          "xaxis": {
           "automargin": true,
           "gridcolor": "white",
           "linecolor": "white",
           "ticks": "",
           "title": {
            "standoff": 15
           },
           "zerolinecolor": "white",
           "zerolinewidth": 2
          },
          "yaxis": {
           "automargin": true,
           "gridcolor": "white",
           "linecolor": "white",
           "ticks": "",
           "title": {
            "standoff": 15
           },
           "zerolinecolor": "white",
           "zerolinewidth": 2
          }
         }
        }
       }
      },
      "text/html": [
       "<div>\n",
       "        \n",
       "        \n",
       "            <div id=\"0835365a-72bf-4ee7-ae33-88065cbc0dbb\" class=\"plotly-graph-div\" style=\"height:525px; width:100%;\"></div>\n",
       "            <script type=\"text/javascript\">\n",
       "                require([\"plotly\"], function(Plotly) {\n",
       "                    window.PLOTLYENV=window.PLOTLYENV || {};\n",
       "                    \n",
       "                if (document.getElementById(\"0835365a-72bf-4ee7-ae33-88065cbc0dbb\")) {\n",
       "                    Plotly.newPlot(\n",
       "                        '0835365a-72bf-4ee7-ae33-88065cbc0dbb',\n",
       "                        [{\"hovertemplate\": \"%{y}\", \"line\": {\"shape\": \"hv\"}, \"name\": \"\\u03b2\", \"type\": \"scatter\", \"x\": [0, 1, 2, 3, 4, 5, 6, 7, 8, 9, 10, 11, 12, 13, 14, 15, 16, 17, 18, 19, 20, 21, 22, 23, 24, 25, 26, 27, 28, 29, 30, 31, 32, 33, 34, 35, 36, 37, 38, 39, 40, 41, 42, 43, 44, 45, 46, 47, 48, 49, 50, 51, 52, 53, 54, 55, 56, 57, 58, 59, 60, 61, 62, 63, 64, 65, 66, 67, 68, 69, 70, 71, 72, 73, 74, 75, 76, 77, 78, 79, 80, 81, 82, 83, 84, 85, 86, 87, 88, 89, 90, 91, 92, 93, 94, 95, 96, 97, 98, 99], \"y\": [0.15, 0.15, 0.15, 0.15, 0.15, 0.15, 0.15, 0.195, 0.195, 0.195, 0.195, 0.195, 0.195, 0.195, 0.195, 0.195, 0.195, 0.195, 0.195, 0.195, 0.195, 0.195, 0.195, 0.195, 0.195, 0.2535, 0.2535, 0.2535, 0.2535, 0.2535, 0.2535, 0.2535, 0.32955, 0.32955, 0.32955, 0.32955, 0.32955, 0.32955, 0.32955, 0.32955, 0.32955, 0.230685, 0.230685, 0.230685, 0.230685, 0.230685, 0.11303564999999999, 0.11303564999999999, 0.11303564999999999, 0.11303564999999999, 0.07912495499999998, 0.07912495499999998, 0.07912495499999998, 0.07912495499999998, 0.07912495499999998, 0.07912495499999998, 0.07912495499999998, 0.07912495499999998, 0.07912495499999998, 0.07912495499999998, 0.07912495499999998, 0.07912495499999998, 0.07912495499999998, 0.07912495499999998, 0.07912495499999998, 0.07912495499999998, 0.05538746849999998, 0.05538746849999998, 0.05538746849999998, 0.05538746849999998, 0.05538746849999998, 0.05538746849999998, 0.05538746849999998, 0.05538746849999998, 0.07200370904999998, 0.07200370904999998, 0.07200370904999998, 0.07200370904999998, 0.07200370904999998, 0.07200370904999998, 0.07200370904999998, 0.07200370904999998, 0.07200370904999998, 0.07200370904999998, 0.07200370904999998, 0.07200370904999998, 0.07200370904999998, 0.07200370904999998, 0.07200370904999998, 0.07200370904999998, 0.07200370904999998, 0.07200370904999998, 0.06552337523549998, 0.06552337523549998, 0.06552337523549998, 0.06552337523549998, 0.08518038780614998, 0.08518038780614998, 0.08518038780614998, 0.08518038780614998]}, {\"hovertemplate\": \"%{y}\", \"line\": {\"shape\": \"hv\"}, \"name\": \"\\u03b3\", \"type\": \"scatter\", \"x\": [0, 1, 2, 3, 4, 5, 6, 7, 8, 9, 10, 11, 12, 13, 14, 15, 16, 17, 18, 19, 20, 21, 22, 23, 24, 25, 26, 27, 28, 29, 30, 31, 32, 33, 34, 35, 36, 37, 38, 39, 40, 41, 42, 43, 44, 45, 46, 47, 48, 49, 50, 51, 52, 53, 54, 55, 56, 57, 58, 59, 60, 61, 62, 63, 64, 65, 66, 67, 68, 69, 70, 71, 72, 73, 74, 75, 76, 77, 78, 79, 80, 81, 82, 83, 84, 85, 86, 87, 88, 89, 90, 91, 92, 93, 94, 95, 96, 97, 98, 99], \"y\": [0.03, 0.03, 0.03, 0.03, 0.03, 0.03, 0.03, 0.0303, 0.0303, 0.0303, 0.0303, 0.0303, 0.0303, 0.0303, 0.0303, 0.0303, 0.0303, 0.0303, 0.0303, 0.0303, 0.0303, 0.0303, 0.0303, 0.0303, 0.0303, 0.030602999999999998, 0.030602999999999998, 0.030602999999999998, 0.030602999999999998, 0.030602999999999998, 0.030602999999999998, 0.030602999999999998, 0.030909029999999997, 0.030909029999999997, 0.030909029999999997, 0.030909029999999997, 0.030909029999999997, 0.030909029999999997, 0.030909029999999997, 0.030909029999999997, 0.030909029999999997, 0.03059993969999999, 0.03059993969999999, 0.03059993969999999, 0.03059993969999999, 0.03059993969999999, 0.029991000899969988, 0.029991000899969988, 0.029991000899969988, 0.029991000899969988, 0.02969109089097029, 0.02969109089097029, 0.02969109089097029, 0.02969109089097029, 0.02969109089097029, 0.02969109089097029, 0.02969109089097029, 0.02969109089097029, 0.02969109089097029, 0.02969109089097029, 0.02969109089097029, 0.02969109089097029, 0.02969109089097029, 0.02969109089097029, 0.02969109089097029, 0.02969109089097029, 0.02939417998206059, 0.02939417998206059, 0.02939417998206059, 0.02939417998206059, 0.02939417998206059, 0.02939417998206059, 0.02939417998206059, 0.02939417998206059, 0.029688121781881193, 0.029688121781881193, 0.029688121781881193, 0.029688121781881193, 0.029688121781881193, 0.029688121781881193, 0.029688121781881193, 0.029688121781881193, 0.029688121781881193, 0.029688121781881193, 0.029688121781881193, 0.029688121781881193, 0.029688121781881193, 0.029688121781881193, 0.029688121781881193, 0.029688121781881193, 0.029688121781881193, 0.029688121781881193, 0.029685152969703005, 0.029685152969703005, 0.029685152969703005, 0.029685152969703005, 0.029982004499400035, 0.029982004499400035, 0.029982004499400035, 0.029982004499400035]}, {\"hovertemplate\": \"%{y}\", \"line\": {\"shape\": \"hv\"}, \"name\": \"\\u03b8\", \"type\": \"scatter\", \"x\": [0, 1, 2, 3, 4, 5, 6, 7, 8, 9, 10, 11, 12, 13, 14, 15, 16, 17, 18, 19, 20, 21, 22, 23, 24, 25, 26, 27, 28, 29, 30, 31, 32, 33, 34, 35, 36, 37, 38, 39, 40, 41, 42, 43, 44, 45, 46, 47, 48, 49, 50, 51, 52, 53, 54, 55, 56, 57, 58, 59, 60, 61, 62, 63, 64, 65, 66, 67, 68, 69, 70, 71, 72, 73, 74, 75, 76, 77, 78, 79, 80, 81, 82, 83, 84, 85, 86, 87, 88, 89, 90, 91, 92, 93, 94, 95, 96, 97, 98, 99], \"y\": [0.06, 0.06, 0.06, 0.06, 0.06, 0.06, 0.06, 0.06, 0.06, 0.06, 0.048, 0.048, 0.048, 0.048, 0.048, 0.048, 0.048, 0.048, 0.048, 0.048, 0.048, 0.048, 0.048, 0.048, 0.048, 0.048, 0.048, 0.048, 0.048, 0.048, 0.048, 0.048, 0.048, 0.048, 0.048, 0.048, 0.048, 0.048, 0.048, 0.048, 0.048, 0.048, 0.048, 0.048, 0.048, 0.048, 0.048, 0.048, 0.048, 0.048, 0.048, 0.048, 0.048, 0.048, 0.048, 0.048, 0.048, 0.048, 0.048, 0.048, 0.048, 0.048, 0.048, 0.0576, 0.0576, 0.0576, 0.0576, 0.0576, 0.0576, 0.0576, 0.06911999999999999, 0.06911999999999999, 0.06911999999999999, 0.06911999999999999, 0.06911999999999999, 0.08294399999999999, 0.08294399999999999, 0.08294399999999999, 0.08294399999999999, 0.09953279999999998, 0.09953279999999998, 0.09953279999999998, 0.09953279999999998, 0.09953279999999998, 0.09953279999999998, 0.09953279999999998, 0.09953279999999998, 0.09953279999999998, 0.09953279999999998, 0.09953279999999998, 0.09953279999999998, 0.09953279999999998, 0.09953279999999998, 0.09953279999999998, 0.09953279999999998, 0.09953279999999998, 0.09953279999999998, 0.09953279999999998, 0.09953279999999998, 0.09953279999999998]}],\n",
       "                        {\"margin\": {\"b\": 0, \"l\": 0, \"r\": 150, \"t\": 25}, \"template\": {\"data\": {\"bar\": [{\"error_x\": {\"color\": \"#2a3f5f\"}, \"error_y\": {\"color\": \"#2a3f5f\"}, \"marker\": {\"line\": {\"color\": \"#E5ECF6\", \"width\": 0.5}}, \"type\": \"bar\"}], \"barpolar\": [{\"marker\": {\"line\": {\"color\": \"#E5ECF6\", \"width\": 0.5}}, \"type\": \"barpolar\"}], \"carpet\": [{\"aaxis\": {\"endlinecolor\": \"#2a3f5f\", \"gridcolor\": \"white\", \"linecolor\": \"white\", \"minorgridcolor\": \"white\", \"startlinecolor\": \"#2a3f5f\"}, \"baxis\": {\"endlinecolor\": \"#2a3f5f\", \"gridcolor\": \"white\", \"linecolor\": \"white\", \"minorgridcolor\": \"white\", \"startlinecolor\": \"#2a3f5f\"}, \"type\": \"carpet\"}], \"choropleth\": [{\"colorbar\": {\"outlinewidth\": 0, \"ticks\": \"\"}, \"type\": \"choropleth\"}], \"contour\": [{\"colorbar\": {\"outlinewidth\": 0, \"ticks\": \"\"}, \"colorscale\": [[0.0, \"#0d0887\"], [0.1111111111111111, \"#46039f\"], [0.2222222222222222, \"#7201a8\"], [0.3333333333333333, \"#9c179e\"], [0.4444444444444444, \"#bd3786\"], [0.5555555555555556, \"#d8576b\"], [0.6666666666666666, \"#ed7953\"], [0.7777777777777778, \"#fb9f3a\"], [0.8888888888888888, \"#fdca26\"], [1.0, \"#f0f921\"]], \"type\": \"contour\"}], \"contourcarpet\": [{\"colorbar\": {\"outlinewidth\": 0, \"ticks\": \"\"}, \"type\": \"contourcarpet\"}], \"heatmap\": [{\"colorbar\": {\"outlinewidth\": 0, \"ticks\": \"\"}, \"colorscale\": [[0.0, \"#0d0887\"], [0.1111111111111111, \"#46039f\"], [0.2222222222222222, \"#7201a8\"], [0.3333333333333333, \"#9c179e\"], [0.4444444444444444, \"#bd3786\"], [0.5555555555555556, \"#d8576b\"], [0.6666666666666666, \"#ed7953\"], [0.7777777777777778, \"#fb9f3a\"], [0.8888888888888888, \"#fdca26\"], [1.0, \"#f0f921\"]], \"type\": \"heatmap\"}], \"heatmapgl\": [{\"colorbar\": {\"outlinewidth\": 0, \"ticks\": \"\"}, \"colorscale\": [[0.0, \"#0d0887\"], [0.1111111111111111, \"#46039f\"], [0.2222222222222222, \"#7201a8\"], [0.3333333333333333, \"#9c179e\"], [0.4444444444444444, \"#bd3786\"], [0.5555555555555556, \"#d8576b\"], [0.6666666666666666, \"#ed7953\"], [0.7777777777777778, \"#fb9f3a\"], [0.8888888888888888, \"#fdca26\"], [1.0, \"#f0f921\"]], \"type\": \"heatmapgl\"}], \"histogram\": [{\"marker\": {\"colorbar\": {\"outlinewidth\": 0, \"ticks\": \"\"}}, \"type\": \"histogram\"}], \"histogram2d\": [{\"colorbar\": {\"outlinewidth\": 0, \"ticks\": \"\"}, \"colorscale\": [[0.0, \"#0d0887\"], [0.1111111111111111, \"#46039f\"], [0.2222222222222222, \"#7201a8\"], [0.3333333333333333, \"#9c179e\"], [0.4444444444444444, \"#bd3786\"], [0.5555555555555556, \"#d8576b\"], [0.6666666666666666, \"#ed7953\"], [0.7777777777777778, \"#fb9f3a\"], [0.8888888888888888, \"#fdca26\"], [1.0, \"#f0f921\"]], \"type\": \"histogram2d\"}], \"histogram2dcontour\": [{\"colorbar\": {\"outlinewidth\": 0, \"ticks\": \"\"}, \"colorscale\": [[0.0, \"#0d0887\"], [0.1111111111111111, \"#46039f\"], [0.2222222222222222, \"#7201a8\"], [0.3333333333333333, \"#9c179e\"], [0.4444444444444444, \"#bd3786\"], [0.5555555555555556, \"#d8576b\"], [0.6666666666666666, \"#ed7953\"], [0.7777777777777778, \"#fb9f3a\"], [0.8888888888888888, \"#fdca26\"], [1.0, \"#f0f921\"]], \"type\": \"histogram2dcontour\"}], \"mesh3d\": [{\"colorbar\": {\"outlinewidth\": 0, \"ticks\": \"\"}, \"type\": \"mesh3d\"}], \"parcoords\": [{\"line\": {\"colorbar\": {\"outlinewidth\": 0, \"ticks\": \"\"}}, \"type\": \"parcoords\"}], \"pie\": [{\"automargin\": true, \"type\": \"pie\"}], \"scatter\": [{\"marker\": {\"colorbar\": {\"outlinewidth\": 0, \"ticks\": \"\"}}, \"type\": \"scatter\"}], \"scatter3d\": [{\"line\": {\"colorbar\": {\"outlinewidth\": 0, \"ticks\": \"\"}}, \"marker\": {\"colorbar\": {\"outlinewidth\": 0, \"ticks\": \"\"}}, \"type\": \"scatter3d\"}], \"scattercarpet\": [{\"marker\": {\"colorbar\": {\"outlinewidth\": 0, \"ticks\": \"\"}}, \"type\": \"scattercarpet\"}], \"scattergeo\": [{\"marker\": {\"colorbar\": {\"outlinewidth\": 0, \"ticks\": \"\"}}, \"type\": \"scattergeo\"}], \"scattergl\": [{\"marker\": {\"colorbar\": {\"outlinewidth\": 0, \"ticks\": \"\"}}, \"type\": \"scattergl\"}], \"scattermapbox\": [{\"marker\": {\"colorbar\": {\"outlinewidth\": 0, \"ticks\": \"\"}}, \"type\": \"scattermapbox\"}], \"scatterpolar\": [{\"marker\": {\"colorbar\": {\"outlinewidth\": 0, \"ticks\": \"\"}}, \"type\": \"scatterpolar\"}], \"scatterpolargl\": [{\"marker\": {\"colorbar\": {\"outlinewidth\": 0, \"ticks\": \"\"}}, \"type\": \"scatterpolargl\"}], \"scatterternary\": [{\"marker\": {\"colorbar\": {\"outlinewidth\": 0, \"ticks\": \"\"}}, \"type\": \"scatterternary\"}], \"surface\": [{\"colorbar\": {\"outlinewidth\": 0, \"ticks\": \"\"}, \"colorscale\": [[0.0, \"#0d0887\"], [0.1111111111111111, \"#46039f\"], [0.2222222222222222, \"#7201a8\"], [0.3333333333333333, \"#9c179e\"], [0.4444444444444444, \"#bd3786\"], [0.5555555555555556, \"#d8576b\"], [0.6666666666666666, \"#ed7953\"], [0.7777777777777778, \"#fb9f3a\"], [0.8888888888888888, \"#fdca26\"], [1.0, \"#f0f921\"]], \"type\": \"surface\"}], \"table\": [{\"cells\": {\"fill\": {\"color\": \"#EBF0F8\"}, \"line\": {\"color\": \"white\"}}, \"header\": {\"fill\": {\"color\": \"#C8D4E3\"}, \"line\": {\"color\": \"white\"}}, \"type\": \"table\"}]}, \"layout\": {\"annotationdefaults\": {\"arrowcolor\": \"#2a3f5f\", \"arrowhead\": 0, \"arrowwidth\": 1}, \"coloraxis\": {\"colorbar\": {\"outlinewidth\": 0, \"ticks\": \"\"}}, \"colorscale\": {\"diverging\": [[0, \"#8e0152\"], [0.1, \"#c51b7d\"], [0.2, \"#de77ae\"], [0.3, \"#f1b6da\"], [0.4, \"#fde0ef\"], [0.5, \"#f7f7f7\"], [0.6, \"#e6f5d0\"], [0.7, \"#b8e186\"], [0.8, \"#7fbc41\"], [0.9, \"#4d9221\"], [1, \"#276419\"]], \"sequential\": [[0.0, \"#0d0887\"], [0.1111111111111111, \"#46039f\"], [0.2222222222222222, \"#7201a8\"], [0.3333333333333333, \"#9c179e\"], [0.4444444444444444, \"#bd3786\"], [0.5555555555555556, \"#d8576b\"], [0.6666666666666666, \"#ed7953\"], [0.7777777777777778, \"#fb9f3a\"], [0.8888888888888888, \"#fdca26\"], [1.0, \"#f0f921\"]], \"sequentialminus\": [[0.0, \"#0d0887\"], [0.1111111111111111, \"#46039f\"], [0.2222222222222222, \"#7201a8\"], [0.3333333333333333, \"#9c179e\"], [0.4444444444444444, \"#bd3786\"], [0.5555555555555556, \"#d8576b\"], [0.6666666666666666, \"#ed7953\"], [0.7777777777777778, \"#fb9f3a\"], [0.8888888888888888, \"#fdca26\"], [1.0, \"#f0f921\"]]}, \"colorway\": [\"#636efa\", \"#EF553B\", \"#00cc96\", \"#ab63fa\", \"#FFA15A\", \"#19d3f3\", \"#FF6692\", \"#B6E880\", \"#FF97FF\", \"#FECB52\"], \"font\": {\"color\": \"#2a3f5f\"}, \"geo\": {\"bgcolor\": \"white\", \"lakecolor\": \"white\", \"landcolor\": \"#E5ECF6\", \"showlakes\": true, \"showland\": true, \"subunitcolor\": \"white\"}, \"hoverlabel\": {\"align\": \"left\"}, \"hovermode\": \"closest\", \"mapbox\": {\"style\": \"light\"}, \"paper_bgcolor\": \"white\", \"plot_bgcolor\": \"#E5ECF6\", \"polar\": {\"angularaxis\": {\"gridcolor\": \"white\", \"linecolor\": \"white\", \"ticks\": \"\"}, \"bgcolor\": \"#E5ECF6\", \"radialaxis\": {\"gridcolor\": \"white\", \"linecolor\": \"white\", \"ticks\": \"\"}}, \"scene\": {\"xaxis\": {\"backgroundcolor\": \"#E5ECF6\", \"gridcolor\": \"white\", \"gridwidth\": 2, \"linecolor\": \"white\", \"showbackground\": true, \"ticks\": \"\", \"zerolinecolor\": \"white\"}, \"yaxis\": {\"backgroundcolor\": \"#E5ECF6\", \"gridcolor\": \"white\", \"gridwidth\": 2, \"linecolor\": \"white\", \"showbackground\": true, \"ticks\": \"\", \"zerolinecolor\": \"white\"}, \"zaxis\": {\"backgroundcolor\": \"#E5ECF6\", \"gridcolor\": \"white\", \"gridwidth\": 2, \"linecolor\": \"white\", \"showbackground\": true, \"ticks\": \"\", \"zerolinecolor\": \"white\"}}, \"shapedefaults\": {\"line\": {\"color\": \"#2a3f5f\"}}, \"ternary\": {\"aaxis\": {\"gridcolor\": \"white\", \"linecolor\": \"white\", \"ticks\": \"\"}, \"baxis\": {\"gridcolor\": \"white\", \"linecolor\": \"white\", \"ticks\": \"\"}, \"bgcolor\": \"#E5ECF6\", \"caxis\": {\"gridcolor\": \"white\", \"linecolor\": \"white\", \"ticks\": \"\"}}, \"title\": {\"x\": 0.05}, \"xaxis\": {\"automargin\": true, \"gridcolor\": \"white\", \"linecolor\": \"white\", \"ticks\": \"\", \"title\": {\"standoff\": 15}, \"zerolinecolor\": \"white\", \"zerolinewidth\": 2}, \"yaxis\": {\"automargin\": true, \"gridcolor\": \"white\", \"linecolor\": \"white\", \"ticks\": \"\", \"title\": {\"standoff\": 15}, \"zerolinecolor\": \"white\", \"zerolinewidth\": 2}}}},\n",
       "                        {\"responsive\": true}\n",
       "                    ).then(function(){\n",
       "                            \n",
       "var gd = document.getElementById('0835365a-72bf-4ee7-ae33-88065cbc0dbb');\n",
       "var x = new MutationObserver(function (mutations, observer) {{\n",
       "        var display = window.getComputedStyle(gd).display;\n",
       "        if (!display || display === 'none') {{\n",
       "            console.log([gd, 'removed!']);\n",
       "            Plotly.purge(gd);\n",
       "            observer.disconnect();\n",
       "        }}\n",
       "}});\n",
       "\n",
       "// Listen for the removal of the full notebook cells\n",
       "var notebookContainer = gd.closest('#notebook-container');\n",
       "if (notebookContainer) {{\n",
       "    x.observe(notebookContainer, {childList: true});\n",
       "}}\n",
       "\n",
       "// Listen for the clearing of the current output cell\n",
       "var outputEl = gd.closest('.output');\n",
       "if (outputEl) {{\n",
       "    x.observe(outputEl, {childList: true});\n",
       "}}\n",
       "\n",
       "                        })\n",
       "                };\n",
       "                });\n",
       "            </script>\n",
       "        </div>"
      ]
     },
     "metadata": {},
     "output_type": "display_data"
    },
    {
     "data": {
      "text/plain": []
     },
     "execution_count": 197,
     "metadata": {},
     "output_type": "execute_result"
    }
   ],
   "source": [
    "dynamic"
   ]
  },
  {
   "cell_type": "code",
   "execution_count": 201,
   "metadata": {
    "scrolled": false
   },
   "outputs": [
    {
     "name": "stdout",
     "output_type": "stream",
     "text": [
      "Optimization terminated successfully.\n",
      "         Current function value: -2522.361010\n",
      "         Iterations: 293836\n",
      "         Function evaluations: 309157\n"
     ]
    },
    {
     "data": {
      "application/vnd.plotly.v1+json": {
       "config": {
        "plotlyServerURL": "https://plot.ly"
       },
       "data": [
        {
         "hovertemplate": "%{y}",
         "line": {
          "shape": "hv"
         },
         "name": "β",
         "type": "scatter",
         "x": [
          0,
          1,
          2,
          3,
          4,
          5,
          6,
          7,
          8,
          9,
          10,
          11,
          12,
          13,
          14,
          15,
          16,
          17,
          18,
          19,
          20,
          21,
          22,
          23,
          24,
          25,
          26,
          27,
          28,
          29,
          30,
          31,
          32,
          33,
          34,
          35,
          36,
          37,
          38,
          39,
          40,
          41,
          42,
          43,
          44,
          45,
          46,
          47,
          48,
          49,
          50,
          51,
          52,
          53,
          54,
          55,
          56,
          57,
          58,
          59,
          60,
          61,
          62,
          63,
          64,
          65,
          66,
          67,
          68,
          69,
          70,
          71,
          72,
          73,
          74,
          75,
          76,
          77,
          78,
          79,
          80,
          81,
          82,
          83,
          84,
          85,
          86,
          87,
          88,
          89
         ],
         "y": [
          0.16225787953334106,
          0.162185940289006,
          0.162148710916358,
          0.16277357859828304,
          0.16273680885859398,
          0.1632577135298764,
          0.1670235461391612,
          0.16827740168296856,
          0.1682758199418921,
          0.16834411516755302,
          0.16909209982488282,
          0.17157409056434417,
          0.17158416365969145,
          0.17202924451920137,
          0.1722898556485119,
          0.1728909776074195,
          0.17352538497902642,
          0.1735254142836748,
          0.17498704627804135,
          0.18209757904360852,
          0.19170881959744365,
          0.1983948923865971,
          0.19925194541574753,
          0.19974694092414844,
          0.19974686761130633,
          0.20002290124722252,
          0.2000229012964434,
          0.20405625575766143,
          0.21349510803620808,
          0.22130692770784655,
          0.25658486445418077,
          0.25675433862606367,
          0.25651402584513655,
          0.2551342468404393,
          0.255185483912063,
          0.25517475437376846,
          0.25489757758210074,
          0.2544348496390216,
          0.2411721858542435,
          0.23991557645461148,
          0.21561509729063083,
          0.20202253636430997,
          0.1997284548209659,
          0.198211210978955,
          0.1976879239246684,
          0.1971149991784348,
          0.19261946382742964,
          0.19261470565956337,
          0.1870455992562894,
          0.18700243336974592,
          0.18329653434461562,
          0.1827971520039244,
          0.17968147245846294,
          0.17966353490395717,
          0.17958734063785387,
          0.17913943517108818,
          0.17885430612441705,
          0.17885435082008963,
          0.17863074615052688,
          0.1786160255925017,
          0.17851036649607757,
          0.1780234267847679,
          0.17765555060679156,
          0.177393212073879,
          0.17730768313753412,
          0.17686086189472985,
          0.17632754156708927,
          0.17649996656221992,
          0.17651574447522034,
          0.17651607968751606,
          0.17674670247134736,
          0.17674670240383153,
          0.17709162750847612,
          0.17915197260904114,
          0.18021032493171596,
          0.18021032408118173,
          0.18030331694211535,
          0.1810600505265947,
          0.18145762132301668,
          0.1817923901732726,
          0.18192471574033828,
          0.1820772994265019,
          0.18293439803683825,
          0.1834000575620285,
          0.18493154487090505,
          0.18500810012802582,
          0.18501076777776418,
          0.18435956101677406,
          0.18431959210903925,
          0.1843195877374582
         ]
        },
        {
         "hovertemplate": "%{y}",
         "line": {
          "shape": "hv"
         },
         "name": "γ",
         "type": "scatter",
         "x": [
          0,
          1,
          2,
          3,
          4,
          5,
          6,
          7,
          8,
          9,
          10,
          11,
          12,
          13,
          14,
          15,
          16,
          17,
          18,
          19,
          20,
          21,
          22,
          23,
          24,
          25,
          26,
          27,
          28,
          29,
          30,
          31,
          32,
          33,
          34,
          35,
          36,
          37,
          38,
          39,
          40,
          41,
          42,
          43,
          44,
          45,
          46,
          47,
          48,
          49,
          50,
          51,
          52,
          53,
          54,
          55,
          56,
          57,
          58,
          59,
          60,
          61,
          62,
          63,
          64,
          65,
          66,
          67,
          68,
          69,
          70,
          71,
          72,
          73,
          74,
          75,
          76,
          77,
          78,
          79,
          80,
          81,
          82,
          83,
          84,
          85,
          86,
          87,
          88,
          89
         ],
         "y": [
          0.029696430649797254,
          0.029696430649797254,
          0.029696430649797254,
          0.029696430649797254,
          0.029696430649797254,
          0.029696430649797254,
          0.029696430649797254,
          0.029696430649797254,
          0.029696430649797254,
          0.029696430649797254,
          0.029696430649797254,
          0.029696430649797254,
          0.029696430649797254,
          0.029696430649797254,
          0.029696430649797254,
          0.029696430649797254,
          0.029696430649797254,
          0.029696430649797254,
          0.029696430649797254,
          0.029696430649797254,
          0.029696430649797254,
          0.029696430649797254,
          0.029696430649797254,
          0.029696430649797254,
          0.029696430649797254,
          0.029696430649797254,
          0.029696430649797254,
          0.029696430649797254,
          0.029696430649797254,
          0.029696430649797254,
          0.029696430649797254,
          0.029696430649797254,
          0.029696430649797254,
          0.029696430649797254,
          0.029696430649797254,
          0.029696430649797254,
          0.029696430649797254,
          0.029696430649797254,
          0.029696430649797254,
          0.029696430649797254,
          0.029696430649797254,
          0.029696430649797254,
          0.029696430649797254,
          0.029696430649797254,
          0.029696430649797254,
          0.029696430649797254,
          0.029696430649797254,
          0.029696430649797254,
          0.029696430649797254,
          0.029696430649797254,
          0.029696430649797254,
          0.029696430649797254,
          0.029696430649797254,
          0.029696430649797254,
          0.029696430649797254,
          0.029696430649797254,
          0.029696430649797254,
          0.029696430649797254,
          0.029696430649797254,
          0.029696430649797254,
          0.029696430649797254,
          0.029696430649797254,
          0.029696430649797254,
          0.029696430649797254,
          0.029696430649797254,
          0.029696430649797254,
          0.029696430649797254,
          0.029696430649797254,
          0.029696430649797254,
          0.029696430649797254,
          0.029696430649797254,
          0.029696430649797254,
          0.029696430649797254,
          0.029696430649797254,
          0.029696430649797254,
          0.029696430649797254,
          0.029696430649797254,
          0.029696430649797254,
          0.029696430649797254,
          0.029696430649797254,
          0.029696430649797254,
          0.029696430649797254,
          0.029696430649797254,
          0.029696430649797254,
          0.029696430649797254,
          0.029696430649797254,
          0.029696430649797254,
          0.029696430649797254,
          0.029696430649797254,
          0.029696430649797254
         ]
        },
        {
         "hovertemplate": "%{y}",
         "line": {
          "shape": "hv"
         },
         "name": "θ",
         "type": "scatter",
         "x": [
          0,
          1,
          2,
          3,
          4,
          5,
          6,
          7,
          8,
          9,
          10,
          11,
          12,
          13,
          14,
          15,
          16,
          17,
          18,
          19,
          20,
          21,
          22,
          23,
          24,
          25,
          26,
          27,
          28,
          29,
          30,
          31,
          32,
          33,
          34,
          35,
          36,
          37,
          38,
          39,
          40,
          41,
          42,
          43,
          44,
          45,
          46,
          47,
          48,
          49,
          50,
          51,
          52,
          53,
          54,
          55,
          56,
          57,
          58,
          59,
          60,
          61,
          62,
          63,
          64,
          65,
          66,
          67,
          68,
          69,
          70,
          71,
          72,
          73,
          74,
          75,
          76,
          77,
          78,
          79,
          80,
          81,
          82,
          83,
          84,
          85,
          86,
          87,
          88,
          89
         ],
         "y": [
          0.03640009535330432,
          0.036401329877209496,
          0.036458992032226654,
          0.03682324246588421,
          0.03708096568504952,
          0.03708073920533586,
          0.03697093166425671,
          0.03699677220939733,
          0.036949897478159875,
          0.03691458295985132,
          0.036914249380052284,
          0.03691424930096613,
          0.036922190292270285,
          0.03689715397093206,
          0.03591319552395286,
          0.03583228121564546,
          0.03570715113470811,
          0.03563930993686905,
          0.034143555206628796,
          0.03414465002534084,
          0.03409753829148949,
          0.034043130690993545,
          0.03386492832827963,
          0.033762203667198405,
          0.03368798972253801,
          0.033687989716952284,
          0.03367358883318202,
          0.033635502387846974,
          0.0336190599863603,
          0.03360934041745081,
          0.03358522616500392,
          0.033612515057892485,
          0.03361250273199811,
          0.033612838767754664,
          0.03478776681989488,
          0.034790083614000385,
          0.03601051310414035,
          0.039509002906100064,
          0.04086092695240533,
          0.053429624350722134,
          0.05343196816522276,
          0.053402633813821994,
          0.053919279760900836,
          0.054378895189139555,
          0.05443247120291793,
          0.05836058114841081,
          0.058509813269020945,
          0.05931544792197138,
          0.05987859908811413,
          0.05993560735132545,
          0.06173202244423209,
          0.0661586314592561,
          0.06657132415758125,
          0.0666037739579307,
          0.06661140418702378,
          0.06659837723481904,
          0.06659797778236641,
          0.06657316397623736,
          0.0657812333049917,
          0.06107892408231817,
          0.05787205876766831,
          0.0578618595926786,
          0.057855040375917016,
          0.057615827440184814,
          0.05761457595011711,
          0.05761538793257095,
          0.057596775449023335,
          0.057596546174047115,
          0.057596546177543374,
          0.05749054520359079,
          0.05588902512827867,
          0.05311046077888038,
          0.05297271238448181,
          0.05062861429235764,
          0.05004709717100299,
          0.04760879978842165,
          0.047391332590576755,
          0.043831380027463805,
          0.043800530627499015,
          0.043440461254976005,
          0.04254991134142197,
          0.041202412032759365,
          0.041126883842499545,
          0.04005240918876243,
          0.040052348242174726,
          0.037966978341814506,
          0.03796700359769784,
          0.03570047451315061,
          0.03570050772795012,
          0.03569815796125259
         ]
        }
       ],
       "layout": {
        "margin": {
         "b": 0,
         "l": 0,
         "r": 150,
         "t": 25
        },
        "template": {
         "data": {
          "bar": [
           {
            "error_x": {
             "color": "#2a3f5f"
            },
            "error_y": {
             "color": "#2a3f5f"
            },
            "marker": {
             "line": {
              "color": "#E5ECF6",
              "width": 0.5
             }
            },
            "type": "bar"
           }
          ],
          "barpolar": [
           {
            "marker": {
             "line": {
              "color": "#E5ECF6",
              "width": 0.5
             }
            },
            "type": "barpolar"
           }
          ],
          "carpet": [
           {
            "aaxis": {
             "endlinecolor": "#2a3f5f",
             "gridcolor": "white",
             "linecolor": "white",
             "minorgridcolor": "white",
             "startlinecolor": "#2a3f5f"
            },
            "baxis": {
             "endlinecolor": "#2a3f5f",
             "gridcolor": "white",
             "linecolor": "white",
             "minorgridcolor": "white",
             "startlinecolor": "#2a3f5f"
            },
            "type": "carpet"
           }
          ],
          "choropleth": [
           {
            "colorbar": {
             "outlinewidth": 0,
             "ticks": ""
            },
            "type": "choropleth"
           }
          ],
          "contour": [
           {
            "colorbar": {
             "outlinewidth": 0,
             "ticks": ""
            },
            "colorscale": [
             [
              0,
              "#0d0887"
             ],
             [
              0.1111111111111111,
              "#46039f"
             ],
             [
              0.2222222222222222,
              "#7201a8"
             ],
             [
              0.3333333333333333,
              "#9c179e"
             ],
             [
              0.4444444444444444,
              "#bd3786"
             ],
             [
              0.5555555555555556,
              "#d8576b"
             ],
             [
              0.6666666666666666,
              "#ed7953"
             ],
             [
              0.7777777777777778,
              "#fb9f3a"
             ],
             [
              0.8888888888888888,
              "#fdca26"
             ],
             [
              1,
              "#f0f921"
             ]
            ],
            "type": "contour"
           }
          ],
          "contourcarpet": [
           {
            "colorbar": {
             "outlinewidth": 0,
             "ticks": ""
            },
            "type": "contourcarpet"
           }
          ],
          "heatmap": [
           {
            "colorbar": {
             "outlinewidth": 0,
             "ticks": ""
            },
            "colorscale": [
             [
              0,
              "#0d0887"
             ],
             [
              0.1111111111111111,
              "#46039f"
             ],
             [
              0.2222222222222222,
              "#7201a8"
             ],
             [
              0.3333333333333333,
              "#9c179e"
             ],
             [
              0.4444444444444444,
              "#bd3786"
             ],
             [
              0.5555555555555556,
              "#d8576b"
             ],
             [
              0.6666666666666666,
              "#ed7953"
             ],
             [
              0.7777777777777778,
              "#fb9f3a"
             ],
             [
              0.8888888888888888,
              "#fdca26"
             ],
             [
              1,
              "#f0f921"
             ]
            ],
            "type": "heatmap"
           }
          ],
          "heatmapgl": [
           {
            "colorbar": {
             "outlinewidth": 0,
             "ticks": ""
            },
            "colorscale": [
             [
              0,
              "#0d0887"
             ],
             [
              0.1111111111111111,
              "#46039f"
             ],
             [
              0.2222222222222222,
              "#7201a8"
             ],
             [
              0.3333333333333333,
              "#9c179e"
             ],
             [
              0.4444444444444444,
              "#bd3786"
             ],
             [
              0.5555555555555556,
              "#d8576b"
             ],
             [
              0.6666666666666666,
              "#ed7953"
             ],
             [
              0.7777777777777778,
              "#fb9f3a"
             ],
             [
              0.8888888888888888,
              "#fdca26"
             ],
             [
              1,
              "#f0f921"
             ]
            ],
            "type": "heatmapgl"
           }
          ],
          "histogram": [
           {
            "marker": {
             "colorbar": {
              "outlinewidth": 0,
              "ticks": ""
             }
            },
            "type": "histogram"
           }
          ],
          "histogram2d": [
           {
            "colorbar": {
             "outlinewidth": 0,
             "ticks": ""
            },
            "colorscale": [
             [
              0,
              "#0d0887"
             ],
             [
              0.1111111111111111,
              "#46039f"
             ],
             [
              0.2222222222222222,
              "#7201a8"
             ],
             [
              0.3333333333333333,
              "#9c179e"
             ],
             [
              0.4444444444444444,
              "#bd3786"
             ],
             [
              0.5555555555555556,
              "#d8576b"
             ],
             [
              0.6666666666666666,
              "#ed7953"
             ],
             [
              0.7777777777777778,
              "#fb9f3a"
             ],
             [
              0.8888888888888888,
              "#fdca26"
             ],
             [
              1,
              "#f0f921"
             ]
            ],
            "type": "histogram2d"
           }
          ],
          "histogram2dcontour": [
           {
            "colorbar": {
             "outlinewidth": 0,
             "ticks": ""
            },
            "colorscale": [
             [
              0,
              "#0d0887"
             ],
             [
              0.1111111111111111,
              "#46039f"
             ],
             [
              0.2222222222222222,
              "#7201a8"
             ],
             [
              0.3333333333333333,
              "#9c179e"
             ],
             [
              0.4444444444444444,
              "#bd3786"
             ],
             [
              0.5555555555555556,
              "#d8576b"
             ],
             [
              0.6666666666666666,
              "#ed7953"
             ],
             [
              0.7777777777777778,
              "#fb9f3a"
             ],
             [
              0.8888888888888888,
              "#fdca26"
             ],
             [
              1,
              "#f0f921"
             ]
            ],
            "type": "histogram2dcontour"
           }
          ],
          "mesh3d": [
           {
            "colorbar": {
             "outlinewidth": 0,
             "ticks": ""
            },
            "type": "mesh3d"
           }
          ],
          "parcoords": [
           {
            "line": {
             "colorbar": {
              "outlinewidth": 0,
              "ticks": ""
             }
            },
            "type": "parcoords"
           }
          ],
          "pie": [
           {
            "automargin": true,
            "type": "pie"
           }
          ],
          "scatter": [
           {
            "marker": {
             "colorbar": {
              "outlinewidth": 0,
              "ticks": ""
             }
            },
            "type": "scatter"
           }
          ],
          "scatter3d": [
           {
            "line": {
             "colorbar": {
              "outlinewidth": 0,
              "ticks": ""
             }
            },
            "marker": {
             "colorbar": {
              "outlinewidth": 0,
              "ticks": ""
             }
            },
            "type": "scatter3d"
           }
          ],
          "scattercarpet": [
           {
            "marker": {
             "colorbar": {
              "outlinewidth": 0,
              "ticks": ""
             }
            },
            "type": "scattercarpet"
           }
          ],
          "scattergeo": [
           {
            "marker": {
             "colorbar": {
              "outlinewidth": 0,
              "ticks": ""
             }
            },
            "type": "scattergeo"
           }
          ],
          "scattergl": [
           {
            "marker": {
             "colorbar": {
              "outlinewidth": 0,
              "ticks": ""
             }
            },
            "type": "scattergl"
           }
          ],
          "scattermapbox": [
           {
            "marker": {
             "colorbar": {
              "outlinewidth": 0,
              "ticks": ""
             }
            },
            "type": "scattermapbox"
           }
          ],
          "scatterpolar": [
           {
            "marker": {
             "colorbar": {
              "outlinewidth": 0,
              "ticks": ""
             }
            },
            "type": "scatterpolar"
           }
          ],
          "scatterpolargl": [
           {
            "marker": {
             "colorbar": {
              "outlinewidth": 0,
              "ticks": ""
             }
            },
            "type": "scatterpolargl"
           }
          ],
          "scatterternary": [
           {
            "marker": {
             "colorbar": {
              "outlinewidth": 0,
              "ticks": ""
             }
            },
            "type": "scatterternary"
           }
          ],
          "surface": [
           {
            "colorbar": {
             "outlinewidth": 0,
             "ticks": ""
            },
            "colorscale": [
             [
              0,
              "#0d0887"
             ],
             [
              0.1111111111111111,
              "#46039f"
             ],
             [
              0.2222222222222222,
              "#7201a8"
             ],
             [
              0.3333333333333333,
              "#9c179e"
             ],
             [
              0.4444444444444444,
              "#bd3786"
             ],
             [
              0.5555555555555556,
              "#d8576b"
             ],
             [
              0.6666666666666666,
              "#ed7953"
             ],
             [
              0.7777777777777778,
              "#fb9f3a"
             ],
             [
              0.8888888888888888,
              "#fdca26"
             ],
             [
              1,
              "#f0f921"
             ]
            ],
            "type": "surface"
           }
          ],
          "table": [
           {
            "cells": {
             "fill": {
              "color": "#EBF0F8"
             },
             "line": {
              "color": "white"
             }
            },
            "header": {
             "fill": {
              "color": "#C8D4E3"
             },
             "line": {
              "color": "white"
             }
            },
            "type": "table"
           }
          ]
         },
         "layout": {
          "annotationdefaults": {
           "arrowcolor": "#2a3f5f",
           "arrowhead": 0,
           "arrowwidth": 1
          },
          "coloraxis": {
           "colorbar": {
            "outlinewidth": 0,
            "ticks": ""
           }
          },
          "colorscale": {
           "diverging": [
            [
             0,
             "#8e0152"
            ],
            [
             0.1,
             "#c51b7d"
            ],
            [
             0.2,
             "#de77ae"
            ],
            [
             0.3,
             "#f1b6da"
            ],
            [
             0.4,
             "#fde0ef"
            ],
            [
             0.5,
             "#f7f7f7"
            ],
            [
             0.6,
             "#e6f5d0"
            ],
            [
             0.7,
             "#b8e186"
            ],
            [
             0.8,
             "#7fbc41"
            ],
            [
             0.9,
             "#4d9221"
            ],
            [
             1,
             "#276419"
            ]
           ],
           "sequential": [
            [
             0,
             "#0d0887"
            ],
            [
             0.1111111111111111,
             "#46039f"
            ],
            [
             0.2222222222222222,
             "#7201a8"
            ],
            [
             0.3333333333333333,
             "#9c179e"
            ],
            [
             0.4444444444444444,
             "#bd3786"
            ],
            [
             0.5555555555555556,
             "#d8576b"
            ],
            [
             0.6666666666666666,
             "#ed7953"
            ],
            [
             0.7777777777777778,
             "#fb9f3a"
            ],
            [
             0.8888888888888888,
             "#fdca26"
            ],
            [
             1,
             "#f0f921"
            ]
           ],
           "sequentialminus": [
            [
             0,
             "#0d0887"
            ],
            [
             0.1111111111111111,
             "#46039f"
            ],
            [
             0.2222222222222222,
             "#7201a8"
            ],
            [
             0.3333333333333333,
             "#9c179e"
            ],
            [
             0.4444444444444444,
             "#bd3786"
            ],
            [
             0.5555555555555556,
             "#d8576b"
            ],
            [
             0.6666666666666666,
             "#ed7953"
            ],
            [
             0.7777777777777778,
             "#fb9f3a"
            ],
            [
             0.8888888888888888,
             "#fdca26"
            ],
            [
             1,
             "#f0f921"
            ]
           ]
          },
          "colorway": [
           "#636efa",
           "#EF553B",
           "#00cc96",
           "#ab63fa",
           "#FFA15A",
           "#19d3f3",
           "#FF6692",
           "#B6E880",
           "#FF97FF",
           "#FECB52"
          ],
          "font": {
           "color": "#2a3f5f"
          },
          "geo": {
           "bgcolor": "white",
           "lakecolor": "white",
           "landcolor": "#E5ECF6",
           "showlakes": true,
           "showland": true,
           "subunitcolor": "white"
          },
          "hoverlabel": {
           "align": "left"
          },
          "hovermode": "closest",
          "mapbox": {
           "style": "light"
          },
          "paper_bgcolor": "white",
          "plot_bgcolor": "#E5ECF6",
          "polar": {
           "angularaxis": {
            "gridcolor": "white",
            "linecolor": "white",
            "ticks": ""
           },
           "bgcolor": "#E5ECF6",
           "radialaxis": {
            "gridcolor": "white",
            "linecolor": "white",
            "ticks": ""
           }
          },
          "scene": {
           "xaxis": {
            "backgroundcolor": "#E5ECF6",
            "gridcolor": "white",
            "gridwidth": 2,
            "linecolor": "white",
            "showbackground": true,
            "ticks": "",
            "zerolinecolor": "white"
           },
           "yaxis": {
            "backgroundcolor": "#E5ECF6",
            "gridcolor": "white",
            "gridwidth": 2,
            "linecolor": "white",
            "showbackground": true,
            "ticks": "",
            "zerolinecolor": "white"
           },
           "zaxis": {
            "backgroundcolor": "#E5ECF6",
            "gridcolor": "white",
            "gridwidth": 2,
            "linecolor": "white",
            "showbackground": true,
            "ticks": "",
            "zerolinecolor": "white"
           }
          },
          "shapedefaults": {
           "line": {
            "color": "#2a3f5f"
           }
          },
          "ternary": {
           "aaxis": {
            "gridcolor": "white",
            "linecolor": "white",
            "ticks": ""
           },
           "baxis": {
            "gridcolor": "white",
            "linecolor": "white",
            "ticks": ""
           },
           "bgcolor": "#E5ECF6",
           "caxis": {
            "gridcolor": "white",
            "linecolor": "white",
            "ticks": ""
           }
          },
          "title": {
           "x": 0.05
          },
          "xaxis": {
           "automargin": true,
           "gridcolor": "white",
           "linecolor": "white",
           "ticks": "",
           "title": {
            "standoff": 15
           },
           "zerolinecolor": "white",
           "zerolinewidth": 2
          },
          "yaxis": {
           "automargin": true,
           "gridcolor": "white",
           "linecolor": "white",
           "ticks": "",
           "title": {
            "standoff": 15
           },
           "zerolinecolor": "white",
           "zerolinewidth": 2
          }
         }
        }
       }
      },
      "text/html": [
       "<div>\n",
       "        \n",
       "        \n",
       "            <div id=\"5e1a5103-3bd9-4037-8e71-fe028a1f1b6b\" class=\"plotly-graph-div\" style=\"height:525px; width:100%;\"></div>\n",
       "            <script type=\"text/javascript\">\n",
       "                require([\"plotly\"], function(Plotly) {\n",
       "                    window.PLOTLYENV=window.PLOTLYENV || {};\n",
       "                    \n",
       "                if (document.getElementById(\"5e1a5103-3bd9-4037-8e71-fe028a1f1b6b\")) {\n",
       "                    Plotly.newPlot(\n",
       "                        '5e1a5103-3bd9-4037-8e71-fe028a1f1b6b',\n",
       "                        [{\"hovertemplate\": \"%{y}\", \"line\": {\"shape\": \"hv\"}, \"name\": \"\\u03b2\", \"type\": \"scatter\", \"x\": [0, 1, 2, 3, 4, 5, 6, 7, 8, 9, 10, 11, 12, 13, 14, 15, 16, 17, 18, 19, 20, 21, 22, 23, 24, 25, 26, 27, 28, 29, 30, 31, 32, 33, 34, 35, 36, 37, 38, 39, 40, 41, 42, 43, 44, 45, 46, 47, 48, 49, 50, 51, 52, 53, 54, 55, 56, 57, 58, 59, 60, 61, 62, 63, 64, 65, 66, 67, 68, 69, 70, 71, 72, 73, 74, 75, 76, 77, 78, 79, 80, 81, 82, 83, 84, 85, 86, 87, 88, 89], \"y\": [0.16225787953334106, 0.162185940289006, 0.162148710916358, 0.16277357859828304, 0.16273680885859398, 0.1632577135298764, 0.1670235461391612, 0.16827740168296856, 0.1682758199418921, 0.16834411516755302, 0.16909209982488282, 0.17157409056434417, 0.17158416365969145, 0.17202924451920137, 0.1722898556485119, 0.1728909776074195, 0.17352538497902642, 0.1735254142836748, 0.17498704627804135, 0.18209757904360852, 0.19170881959744365, 0.1983948923865971, 0.19925194541574753, 0.19974694092414844, 0.19974686761130633, 0.20002290124722252, 0.2000229012964434, 0.20405625575766143, 0.21349510803620808, 0.22130692770784655, 0.25658486445418077, 0.25675433862606367, 0.25651402584513655, 0.2551342468404393, 0.255185483912063, 0.25517475437376846, 0.25489757758210074, 0.2544348496390216, 0.2411721858542435, 0.23991557645461148, 0.21561509729063083, 0.20202253636430997, 0.1997284548209659, 0.198211210978955, 0.1976879239246684, 0.1971149991784348, 0.19261946382742964, 0.19261470565956337, 0.1870455992562894, 0.18700243336974592, 0.18329653434461562, 0.1827971520039244, 0.17968147245846294, 0.17966353490395717, 0.17958734063785387, 0.17913943517108818, 0.17885430612441705, 0.17885435082008963, 0.17863074615052688, 0.1786160255925017, 0.17851036649607757, 0.1780234267847679, 0.17765555060679156, 0.177393212073879, 0.17730768313753412, 0.17686086189472985, 0.17632754156708927, 0.17649996656221992, 0.17651574447522034, 0.17651607968751606, 0.17674670247134736, 0.17674670240383153, 0.17709162750847612, 0.17915197260904114, 0.18021032493171596, 0.18021032408118173, 0.18030331694211535, 0.1810600505265947, 0.18145762132301668, 0.1817923901732726, 0.18192471574033828, 0.1820772994265019, 0.18293439803683825, 0.1834000575620285, 0.18493154487090505, 0.18500810012802582, 0.18501076777776418, 0.18435956101677406, 0.18431959210903925, 0.1843195877374582]}, {\"hovertemplate\": \"%{y}\", \"line\": {\"shape\": \"hv\"}, \"name\": \"\\u03b3\", \"type\": \"scatter\", \"x\": [0, 1, 2, 3, 4, 5, 6, 7, 8, 9, 10, 11, 12, 13, 14, 15, 16, 17, 18, 19, 20, 21, 22, 23, 24, 25, 26, 27, 28, 29, 30, 31, 32, 33, 34, 35, 36, 37, 38, 39, 40, 41, 42, 43, 44, 45, 46, 47, 48, 49, 50, 51, 52, 53, 54, 55, 56, 57, 58, 59, 60, 61, 62, 63, 64, 65, 66, 67, 68, 69, 70, 71, 72, 73, 74, 75, 76, 77, 78, 79, 80, 81, 82, 83, 84, 85, 86, 87, 88, 89], \"y\": [0.029696430649797254, 0.029696430649797254, 0.029696430649797254, 0.029696430649797254, 0.029696430649797254, 0.029696430649797254, 0.029696430649797254, 0.029696430649797254, 0.029696430649797254, 0.029696430649797254, 0.029696430649797254, 0.029696430649797254, 0.029696430649797254, 0.029696430649797254, 0.029696430649797254, 0.029696430649797254, 0.029696430649797254, 0.029696430649797254, 0.029696430649797254, 0.029696430649797254, 0.029696430649797254, 0.029696430649797254, 0.029696430649797254, 0.029696430649797254, 0.029696430649797254, 0.029696430649797254, 0.029696430649797254, 0.029696430649797254, 0.029696430649797254, 0.029696430649797254, 0.029696430649797254, 0.029696430649797254, 0.029696430649797254, 0.029696430649797254, 0.029696430649797254, 0.029696430649797254, 0.029696430649797254, 0.029696430649797254, 0.029696430649797254, 0.029696430649797254, 0.029696430649797254, 0.029696430649797254, 0.029696430649797254, 0.029696430649797254, 0.029696430649797254, 0.029696430649797254, 0.029696430649797254, 0.029696430649797254, 0.029696430649797254, 0.029696430649797254, 0.029696430649797254, 0.029696430649797254, 0.029696430649797254, 0.029696430649797254, 0.029696430649797254, 0.029696430649797254, 0.029696430649797254, 0.029696430649797254, 0.029696430649797254, 0.029696430649797254, 0.029696430649797254, 0.029696430649797254, 0.029696430649797254, 0.029696430649797254, 0.029696430649797254, 0.029696430649797254, 0.029696430649797254, 0.029696430649797254, 0.029696430649797254, 0.029696430649797254, 0.029696430649797254, 0.029696430649797254, 0.029696430649797254, 0.029696430649797254, 0.029696430649797254, 0.029696430649797254, 0.029696430649797254, 0.029696430649797254, 0.029696430649797254, 0.029696430649797254, 0.029696430649797254, 0.029696430649797254, 0.029696430649797254, 0.029696430649797254, 0.029696430649797254, 0.029696430649797254, 0.029696430649797254, 0.029696430649797254, 0.029696430649797254, 0.029696430649797254]}, {\"hovertemplate\": \"%{y}\", \"line\": {\"shape\": \"hv\"}, \"name\": \"\\u03b8\", \"type\": \"scatter\", \"x\": [0, 1, 2, 3, 4, 5, 6, 7, 8, 9, 10, 11, 12, 13, 14, 15, 16, 17, 18, 19, 20, 21, 22, 23, 24, 25, 26, 27, 28, 29, 30, 31, 32, 33, 34, 35, 36, 37, 38, 39, 40, 41, 42, 43, 44, 45, 46, 47, 48, 49, 50, 51, 52, 53, 54, 55, 56, 57, 58, 59, 60, 61, 62, 63, 64, 65, 66, 67, 68, 69, 70, 71, 72, 73, 74, 75, 76, 77, 78, 79, 80, 81, 82, 83, 84, 85, 86, 87, 88, 89], \"y\": [0.03640009535330432, 0.036401329877209496, 0.036458992032226654, 0.03682324246588421, 0.03708096568504952, 0.03708073920533586, 0.03697093166425671, 0.03699677220939733, 0.036949897478159875, 0.03691458295985132, 0.036914249380052284, 0.03691424930096613, 0.036922190292270285, 0.03689715397093206, 0.03591319552395286, 0.03583228121564546, 0.03570715113470811, 0.03563930993686905, 0.034143555206628796, 0.03414465002534084, 0.03409753829148949, 0.034043130690993545, 0.03386492832827963, 0.033762203667198405, 0.03368798972253801, 0.033687989716952284, 0.03367358883318202, 0.033635502387846974, 0.0336190599863603, 0.03360934041745081, 0.03358522616500392, 0.033612515057892485, 0.03361250273199811, 0.033612838767754664, 0.03478776681989488, 0.034790083614000385, 0.03601051310414035, 0.039509002906100064, 0.04086092695240533, 0.053429624350722134, 0.05343196816522276, 0.053402633813821994, 0.053919279760900836, 0.054378895189139555, 0.05443247120291793, 0.05836058114841081, 0.058509813269020945, 0.05931544792197138, 0.05987859908811413, 0.05993560735132545, 0.06173202244423209, 0.0661586314592561, 0.06657132415758125, 0.0666037739579307, 0.06661140418702378, 0.06659837723481904, 0.06659797778236641, 0.06657316397623736, 0.0657812333049917, 0.06107892408231817, 0.05787205876766831, 0.0578618595926786, 0.057855040375917016, 0.057615827440184814, 0.05761457595011711, 0.05761538793257095, 0.057596775449023335, 0.057596546174047115, 0.057596546177543374, 0.05749054520359079, 0.05588902512827867, 0.05311046077888038, 0.05297271238448181, 0.05062861429235764, 0.05004709717100299, 0.04760879978842165, 0.047391332590576755, 0.043831380027463805, 0.043800530627499015, 0.043440461254976005, 0.04254991134142197, 0.041202412032759365, 0.041126883842499545, 0.04005240918876243, 0.040052348242174726, 0.037966978341814506, 0.03796700359769784, 0.03570047451315061, 0.03570050772795012, 0.03569815796125259]}],\n",
       "                        {\"margin\": {\"b\": 0, \"l\": 0, \"r\": 150, \"t\": 25}, \"template\": {\"data\": {\"bar\": [{\"error_x\": {\"color\": \"#2a3f5f\"}, \"error_y\": {\"color\": \"#2a3f5f\"}, \"marker\": {\"line\": {\"color\": \"#E5ECF6\", \"width\": 0.5}}, \"type\": \"bar\"}], \"barpolar\": [{\"marker\": {\"line\": {\"color\": \"#E5ECF6\", \"width\": 0.5}}, \"type\": \"barpolar\"}], \"carpet\": [{\"aaxis\": {\"endlinecolor\": \"#2a3f5f\", \"gridcolor\": \"white\", \"linecolor\": \"white\", \"minorgridcolor\": \"white\", \"startlinecolor\": \"#2a3f5f\"}, \"baxis\": {\"endlinecolor\": \"#2a3f5f\", \"gridcolor\": \"white\", \"linecolor\": \"white\", \"minorgridcolor\": \"white\", \"startlinecolor\": \"#2a3f5f\"}, \"type\": \"carpet\"}], \"choropleth\": [{\"colorbar\": {\"outlinewidth\": 0, \"ticks\": \"\"}, \"type\": \"choropleth\"}], \"contour\": [{\"colorbar\": {\"outlinewidth\": 0, \"ticks\": \"\"}, \"colorscale\": [[0.0, \"#0d0887\"], [0.1111111111111111, \"#46039f\"], [0.2222222222222222, \"#7201a8\"], [0.3333333333333333, \"#9c179e\"], [0.4444444444444444, \"#bd3786\"], [0.5555555555555556, \"#d8576b\"], [0.6666666666666666, \"#ed7953\"], [0.7777777777777778, \"#fb9f3a\"], [0.8888888888888888, \"#fdca26\"], [1.0, \"#f0f921\"]], \"type\": \"contour\"}], \"contourcarpet\": [{\"colorbar\": {\"outlinewidth\": 0, \"ticks\": \"\"}, \"type\": \"contourcarpet\"}], \"heatmap\": [{\"colorbar\": {\"outlinewidth\": 0, \"ticks\": \"\"}, \"colorscale\": [[0.0, \"#0d0887\"], [0.1111111111111111, \"#46039f\"], [0.2222222222222222, \"#7201a8\"], [0.3333333333333333, \"#9c179e\"], [0.4444444444444444, \"#bd3786\"], [0.5555555555555556, \"#d8576b\"], [0.6666666666666666, \"#ed7953\"], [0.7777777777777778, \"#fb9f3a\"], [0.8888888888888888, \"#fdca26\"], [1.0, \"#f0f921\"]], \"type\": \"heatmap\"}], \"heatmapgl\": [{\"colorbar\": {\"outlinewidth\": 0, \"ticks\": \"\"}, \"colorscale\": [[0.0, \"#0d0887\"], [0.1111111111111111, \"#46039f\"], [0.2222222222222222, \"#7201a8\"], [0.3333333333333333, \"#9c179e\"], [0.4444444444444444, \"#bd3786\"], [0.5555555555555556, \"#d8576b\"], [0.6666666666666666, \"#ed7953\"], [0.7777777777777778, \"#fb9f3a\"], [0.8888888888888888, \"#fdca26\"], [1.0, \"#f0f921\"]], \"type\": \"heatmapgl\"}], \"histogram\": [{\"marker\": {\"colorbar\": {\"outlinewidth\": 0, \"ticks\": \"\"}}, \"type\": \"histogram\"}], \"histogram2d\": [{\"colorbar\": {\"outlinewidth\": 0, \"ticks\": \"\"}, \"colorscale\": [[0.0, \"#0d0887\"], [0.1111111111111111, \"#46039f\"], [0.2222222222222222, \"#7201a8\"], [0.3333333333333333, \"#9c179e\"], [0.4444444444444444, \"#bd3786\"], [0.5555555555555556, \"#d8576b\"], [0.6666666666666666, \"#ed7953\"], [0.7777777777777778, \"#fb9f3a\"], [0.8888888888888888, \"#fdca26\"], [1.0, \"#f0f921\"]], \"type\": \"histogram2d\"}], \"histogram2dcontour\": [{\"colorbar\": {\"outlinewidth\": 0, \"ticks\": \"\"}, \"colorscale\": [[0.0, \"#0d0887\"], [0.1111111111111111, \"#46039f\"], [0.2222222222222222, \"#7201a8\"], [0.3333333333333333, \"#9c179e\"], [0.4444444444444444, \"#bd3786\"], [0.5555555555555556, \"#d8576b\"], [0.6666666666666666, \"#ed7953\"], [0.7777777777777778, \"#fb9f3a\"], [0.8888888888888888, \"#fdca26\"], [1.0, \"#f0f921\"]], \"type\": \"histogram2dcontour\"}], \"mesh3d\": [{\"colorbar\": {\"outlinewidth\": 0, \"ticks\": \"\"}, \"type\": \"mesh3d\"}], \"parcoords\": [{\"line\": {\"colorbar\": {\"outlinewidth\": 0, \"ticks\": \"\"}}, \"type\": \"parcoords\"}], \"pie\": [{\"automargin\": true, \"type\": \"pie\"}], \"scatter\": [{\"marker\": {\"colorbar\": {\"outlinewidth\": 0, \"ticks\": \"\"}}, \"type\": \"scatter\"}], \"scatter3d\": [{\"line\": {\"colorbar\": {\"outlinewidth\": 0, \"ticks\": \"\"}}, \"marker\": {\"colorbar\": {\"outlinewidth\": 0, \"ticks\": \"\"}}, \"type\": \"scatter3d\"}], \"scattercarpet\": [{\"marker\": {\"colorbar\": {\"outlinewidth\": 0, \"ticks\": \"\"}}, \"type\": \"scattercarpet\"}], \"scattergeo\": [{\"marker\": {\"colorbar\": {\"outlinewidth\": 0, \"ticks\": \"\"}}, \"type\": \"scattergeo\"}], \"scattergl\": [{\"marker\": {\"colorbar\": {\"outlinewidth\": 0, \"ticks\": \"\"}}, \"type\": \"scattergl\"}], \"scattermapbox\": [{\"marker\": {\"colorbar\": {\"outlinewidth\": 0, \"ticks\": \"\"}}, \"type\": \"scattermapbox\"}], \"scatterpolar\": [{\"marker\": {\"colorbar\": {\"outlinewidth\": 0, \"ticks\": \"\"}}, \"type\": \"scatterpolar\"}], \"scatterpolargl\": [{\"marker\": {\"colorbar\": {\"outlinewidth\": 0, \"ticks\": \"\"}}, \"type\": \"scatterpolargl\"}], \"scatterternary\": [{\"marker\": {\"colorbar\": {\"outlinewidth\": 0, \"ticks\": \"\"}}, \"type\": \"scatterternary\"}], \"surface\": [{\"colorbar\": {\"outlinewidth\": 0, \"ticks\": \"\"}, \"colorscale\": [[0.0, \"#0d0887\"], [0.1111111111111111, \"#46039f\"], [0.2222222222222222, \"#7201a8\"], [0.3333333333333333, \"#9c179e\"], [0.4444444444444444, \"#bd3786\"], [0.5555555555555556, \"#d8576b\"], [0.6666666666666666, \"#ed7953\"], [0.7777777777777778, \"#fb9f3a\"], [0.8888888888888888, \"#fdca26\"], [1.0, \"#f0f921\"]], \"type\": \"surface\"}], \"table\": [{\"cells\": {\"fill\": {\"color\": \"#EBF0F8\"}, \"line\": {\"color\": \"white\"}}, \"header\": {\"fill\": {\"color\": \"#C8D4E3\"}, \"line\": {\"color\": \"white\"}}, \"type\": \"table\"}]}, \"layout\": {\"annotationdefaults\": {\"arrowcolor\": \"#2a3f5f\", \"arrowhead\": 0, \"arrowwidth\": 1}, \"coloraxis\": {\"colorbar\": {\"outlinewidth\": 0, \"ticks\": \"\"}}, \"colorscale\": {\"diverging\": [[0, \"#8e0152\"], [0.1, \"#c51b7d\"], [0.2, \"#de77ae\"], [0.3, \"#f1b6da\"], [0.4, \"#fde0ef\"], [0.5, \"#f7f7f7\"], [0.6, \"#e6f5d0\"], [0.7, \"#b8e186\"], [0.8, \"#7fbc41\"], [0.9, \"#4d9221\"], [1, \"#276419\"]], \"sequential\": [[0.0, \"#0d0887\"], [0.1111111111111111, \"#46039f\"], [0.2222222222222222, \"#7201a8\"], [0.3333333333333333, \"#9c179e\"], [0.4444444444444444, \"#bd3786\"], [0.5555555555555556, \"#d8576b\"], [0.6666666666666666, \"#ed7953\"], [0.7777777777777778, \"#fb9f3a\"], [0.8888888888888888, \"#fdca26\"], [1.0, \"#f0f921\"]], \"sequentialminus\": [[0.0, \"#0d0887\"], [0.1111111111111111, \"#46039f\"], [0.2222222222222222, \"#7201a8\"], [0.3333333333333333, \"#9c179e\"], [0.4444444444444444, \"#bd3786\"], [0.5555555555555556, \"#d8576b\"], [0.6666666666666666, \"#ed7953\"], [0.7777777777777778, \"#fb9f3a\"], [0.8888888888888888, \"#fdca26\"], [1.0, \"#f0f921\"]]}, \"colorway\": [\"#636efa\", \"#EF553B\", \"#00cc96\", \"#ab63fa\", \"#FFA15A\", \"#19d3f3\", \"#FF6692\", \"#B6E880\", \"#FF97FF\", \"#FECB52\"], \"font\": {\"color\": \"#2a3f5f\"}, \"geo\": {\"bgcolor\": \"white\", \"lakecolor\": \"white\", \"landcolor\": \"#E5ECF6\", \"showlakes\": true, \"showland\": true, \"subunitcolor\": \"white\"}, \"hoverlabel\": {\"align\": \"left\"}, \"hovermode\": \"closest\", \"mapbox\": {\"style\": \"light\"}, \"paper_bgcolor\": \"white\", \"plot_bgcolor\": \"#E5ECF6\", \"polar\": {\"angularaxis\": {\"gridcolor\": \"white\", \"linecolor\": \"white\", \"ticks\": \"\"}, \"bgcolor\": \"#E5ECF6\", \"radialaxis\": {\"gridcolor\": \"white\", \"linecolor\": \"white\", \"ticks\": \"\"}}, \"scene\": {\"xaxis\": {\"backgroundcolor\": \"#E5ECF6\", \"gridcolor\": \"white\", \"gridwidth\": 2, \"linecolor\": \"white\", \"showbackground\": true, \"ticks\": \"\", \"zerolinecolor\": \"white\"}, \"yaxis\": {\"backgroundcolor\": \"#E5ECF6\", \"gridcolor\": \"white\", \"gridwidth\": 2, \"linecolor\": \"white\", \"showbackground\": true, \"ticks\": \"\", \"zerolinecolor\": \"white\"}, \"zaxis\": {\"backgroundcolor\": \"#E5ECF6\", \"gridcolor\": \"white\", \"gridwidth\": 2, \"linecolor\": \"white\", \"showbackground\": true, \"ticks\": \"\", \"zerolinecolor\": \"white\"}}, \"shapedefaults\": {\"line\": {\"color\": \"#2a3f5f\"}}, \"ternary\": {\"aaxis\": {\"gridcolor\": \"white\", \"linecolor\": \"white\", \"ticks\": \"\"}, \"baxis\": {\"gridcolor\": \"white\", \"linecolor\": \"white\", \"ticks\": \"\"}, \"bgcolor\": \"#E5ECF6\", \"caxis\": {\"gridcolor\": \"white\", \"linecolor\": \"white\", \"ticks\": \"\"}}, \"title\": {\"x\": 0.05}, \"xaxis\": {\"automargin\": true, \"gridcolor\": \"white\", \"linecolor\": \"white\", \"ticks\": \"\", \"title\": {\"standoff\": 15}, \"zerolinecolor\": \"white\", \"zerolinewidth\": 2}, \"yaxis\": {\"automargin\": true, \"gridcolor\": \"white\", \"linecolor\": \"white\", \"ticks\": \"\", \"title\": {\"standoff\": 15}, \"zerolinecolor\": \"white\", \"zerolinewidth\": 2}}}},\n",
       "                        {\"responsive\": true}\n",
       "                    ).then(function(){\n",
       "                            \n",
       "var gd = document.getElementById('5e1a5103-3bd9-4037-8e71-fe028a1f1b6b');\n",
       "var x = new MutationObserver(function (mutations, observer) {{\n",
       "        var display = window.getComputedStyle(gd).display;\n",
       "        if (!display || display === 'none') {{\n",
       "            console.log([gd, 'removed!']);\n",
       "            Plotly.purge(gd);\n",
       "            observer.disconnect();\n",
       "        }}\n",
       "}});\n",
       "\n",
       "// Listen for the removal of the full notebook cells\n",
       "var notebookContainer = gd.closest('#notebook-container');\n",
       "if (notebookContainer) {{\n",
       "    x.observe(notebookContainer, {childList: true});\n",
       "}}\n",
       "\n",
       "// Listen for the clearing of the current output cell\n",
       "var outputEl = gd.closest('.output');\n",
       "if (outputEl) {{\n",
       "    x.observe(outputEl, {childList: true});\n",
       "}}\n",
       "\n",
       "                        })\n",
       "                };\n",
       "                });\n",
       "            </script>\n",
       "        </div>"
      ]
     },
     "metadata": {},
     "output_type": "display_data"
    },
    {
     "data": {
      "text/plain": []
     },
     "execution_count": 201,
     "metadata": {},
     "output_type": "execute_result"
    }
   ],
   "source": [
    "a = InferSIRQt(weight_b=400, weight_t=1000, weight_r=0.1, weight_c=0.01, penalty_b=variation1, penalty_t=variation1, ascdes=(np.log, np.exp))\n",
    "a.fit(city, sample, confirmed, verbose=False)\n",
    "os.system('play -nq -t alsa synth 1 sine 440')\n",
    "a.dynamic "
   ]
  },
  {
   "cell_type": "code",
   "execution_count": 202,
   "metadata": {},
   "outputs": [
    {
     "data": {
      "application/vnd.plotly.v1+json": {
       "config": {
        "plotlyServerURL": "https://plot.ly"
       },
       "data": [
        {
         "hovertemplate": "%{y}",
         "name": "Susceptible",
         "type": "scatter",
         "x": [
          0,
          1,
          2,
          3,
          4,
          5,
          6,
          7,
          8,
          9,
          10,
          11,
          12,
          13,
          14,
          15,
          16,
          17,
          18,
          19,
          20,
          21,
          22,
          23,
          24,
          25,
          26,
          27,
          28,
          29,
          30,
          31,
          32,
          33,
          34,
          35,
          36,
          37,
          38,
          39,
          40,
          41,
          42,
          43,
          44,
          45,
          46,
          47,
          48,
          49,
          50,
          51,
          52,
          53,
          54,
          55,
          56,
          57,
          58,
          59,
          60,
          61,
          62,
          63,
          64,
          65,
          66,
          67,
          68,
          69,
          70,
          71,
          72,
          73,
          74,
          75,
          76,
          77,
          78,
          79,
          80,
          81,
          82,
          83,
          84,
          85,
          86,
          87,
          88,
          89,
          90,
          91,
          92,
          93,
          94,
          95,
          96,
          97,
          98,
          99,
          100
         ],
         "y": [
          99000,
          98839,
          98663,
          98472,
          98262,
          98033,
          97782,
          97502,
          97194,
          96857,
          96489,
          96084,
          95636,
          95146,
          94610,
          94024,
          93383,
          92682,
          91919,
          91083,
          90137,
          89052,
          87820,
          86463,
          84975,
          83352,
          81588,
          79683,
          77596,
          75259,
          72668,
          69468,
          66030,
          62390,
          58606,
          54710,
          50763,
          46831,
          42979,
          39461,
          36141,
          33377,
          30998,
          28848,
          26905,
          25146,
          23558,
          22160,
          20901,
          19802,
          18813,
          17941,
          17158,
          16469,
          15851,
          15296,
          14798,
          14350,
          13946,
          13581,
          13252,
          12951,
          12677,
          12427,
          12198,
          11988,
          11795,
          11619,
          11457,
          11308,
          11170,
          11043,
          10926,
          10817,
          10715,
          10620,
          10531,
          10448,
          10370,
          10296,
          10227,
          10163,
          10102,
          10044,
          9989,
          9937,
          9888,
          9842,
          9798,
          9757,
          9718,
          9680,
          9645,
          9611,
          9579,
          9549,
          9520,
          9493,
          9467,
          9443,
          9419
         ]
        },
        {
         "hovertemplate": "%{y}",
         "name": "Infectious",
         "type": "scatter",
         "x": [
          0,
          1,
          2,
          3,
          4,
          5,
          6,
          7,
          8,
          9,
          10,
          11,
          12,
          13,
          14,
          15,
          16,
          17,
          18,
          19,
          20,
          21,
          22,
          23,
          24,
          25,
          26,
          27,
          28,
          29,
          30,
          31,
          32,
          33,
          34,
          35,
          36,
          37,
          38,
          39,
          40,
          41,
          42,
          43,
          44,
          45,
          46,
          47,
          48,
          49,
          50,
          51,
          52,
          53,
          54,
          55,
          56,
          57,
          58,
          59,
          60,
          61,
          62,
          63,
          64,
          65,
          66,
          67,
          68,
          69,
          70,
          71,
          72,
          73,
          74,
          75,
          76,
          77,
          78,
          79,
          80,
          81,
          82,
          83,
          84,
          85,
          86,
          87,
          88,
          89,
          90,
          91,
          92,
          93,
          94,
          95,
          96,
          97,
          98,
          99,
          100
         ],
         "y": [
          1000,
          1094,
          1197,
          1310,
          1432,
          1566,
          1712,
          1877,
          2060,
          2260,
          2478,
          2717,
          2984,
          3275,
          3593,
          3943,
          4326,
          4744,
          5197,
          5701,
          6283,
          6968,
          7755,
          8619,
          9561,
          10578,
          11671,
          12836,
          14110,
          15554,
          17160,
          19274,
          21492,
          23772,
          26051,
          28267,
          30390,
          32326,
          33940,
          35064,
          35469,
          35284,
          34731,
          33978,
          33064,
          32041,
          30808,
          29488,
          28122,
          26702,
          25298,
          23857,
          22353,
          20890,
          19496,
          18174,
          16922,
          15740,
          14629,
          13596,
          12692,
          11881,
          11114,
          10392,
          9713,
          9075,
          8475,
          7912,
          7383,
          6888,
          6425,
          6002,
          5622,
          5266,
          4945,
          4646,
          4376,
          4122,
          3897,
          3683,
          3483,
          3296,
          3123,
          2960,
          2808,
          2664,
          2533,
          2408,
          2294,
          2185,
          2082,
          1983,
          1888,
          1798,
          1713,
          1631,
          1553,
          1479,
          1408,
          1340,
          1276
         ]
        },
        {
         "hovertemplate": "%{y}",
         "name": "Removed",
         "type": "scatter",
         "x": [
          0,
          1,
          2,
          3,
          4,
          5,
          6,
          7,
          8,
          9,
          10,
          11,
          12,
          13,
          14,
          15,
          16,
          17,
          18,
          19,
          20,
          21,
          22,
          23,
          24,
          25,
          26,
          27,
          28,
          29,
          30,
          31,
          32,
          33,
          34,
          35,
          36,
          37,
          38,
          39,
          40,
          41,
          42,
          43,
          44,
          45,
          46,
          47,
          48,
          49,
          50,
          51,
          52,
          53,
          54,
          55,
          56,
          57,
          58,
          59,
          60,
          61,
          62,
          63,
          64,
          65,
          66,
          67,
          68,
          69,
          70,
          71,
          72,
          73,
          74,
          75,
          76,
          77,
          78,
          79,
          80,
          81,
          82,
          83,
          84,
          85,
          86,
          87,
          88,
          89,
          90,
          91,
          92,
          93,
          94,
          95,
          96,
          97,
          98,
          99,
          100
         ],
         "y": [
          0,
          29,
          62,
          97,
          136,
          179,
          225,
          276,
          332,
          393,
          460,
          534,
          614,
          703,
          800,
          907,
          1024,
          1153,
          1294,
          1448,
          1617,
          1804,
          2011,
          2241,
          2497,
          2781,
          3095,
          3442,
          3823,
          4242,
          4704,
          5214,
          5786,
          6424,
          7130,
          7904,
          8743,
          9646,
          10606,
          11614,
          12655,
          13708,
          14756,
          15787,
          16796,
          17778,
          18730,
          19645,
          20520,
          21356,
          22149,
          22900,
          23608,
          24272,
          24893,
          25472,
          26011,
          26514,
          26981,
          27416,
          27819,
          28196,
          28549,
          28879,
          29188,
          29476,
          29746,
          29998,
          30232,
          30452,
          30656,
          30847,
          31025,
          31192,
          31349,
          31496,
          31634,
          31764,
          31886,
          32002,
          32111,
          32215,
          32312,
          32405,
          32493,
          32577,
          32656,
          32731,
          32802,
          32871,
          32935,
          32997,
          33056,
          33112,
          33166,
          33217,
          33265,
          33311,
          33355,
          33397,
          33437
         ]
        },
        {
         "hovertemplate": "%{y}",
         "name": "Quarantined",
         "type": "scatter",
         "x": [
          0,
          1,
          2,
          3,
          4,
          5,
          6,
          7,
          8,
          9,
          10,
          11,
          12,
          13,
          14,
          15,
          16,
          17,
          18,
          19,
          20,
          21,
          22,
          23,
          24,
          25,
          26,
          27,
          28,
          29,
          30,
          31,
          32,
          33,
          34,
          35,
          36,
          37,
          38,
          39,
          40,
          41,
          42,
          43,
          44,
          45,
          46,
          47,
          48,
          49,
          50,
          51,
          52,
          53,
          54,
          55,
          56,
          57,
          58,
          59,
          60,
          61,
          62,
          63,
          64,
          65,
          66,
          67,
          68,
          69,
          70,
          71,
          72,
          73,
          74,
          75,
          76,
          77,
          78,
          79,
          80,
          81,
          82,
          83,
          84,
          85,
          86,
          87,
          88,
          89,
          90,
          91,
          92,
          93,
          94,
          95,
          96,
          97,
          98,
          99,
          100
         ],
         "y": [
          0,
          36,
          76,
          119,
          168,
          221,
          279,
          342,
          412,
          488,
          571,
          663,
          763,
          873,
          994,
          1123,
          1264,
          1419,
          1588,
          1766,
          1960,
          2174,
          2412,
          2674,
          2965,
          3287,
          3644,
          4037,
          4469,
          4943,
          5466,
          6042,
          6690,
          7412,
          8211,
          9118,
          10101,
          11196,
          12473,
          13860,
          15733,
          17628,
          19513,
          21385,
          23233,
          25033,
          26903,
          28705,
          30454,
          32138,
          33739,
          35300,
          36879,
          38367,
          39758,
          41057,
          42267,
          43394,
          44442,
          45405,
          46235,
          46970,
          47657,
          48300,
          48899,
          49459,
          49981,
          50470,
          50925,
          51351,
          51747,
          52106,
          52425,
          52722,
          52989,
          53237,
          53458,
          53665,
          53846,
          54017,
          54177,
          54325,
          54461,
          54589,
          54708,
          54820,
          54921,
          55018,
          55103,
          55185,
          55263,
          55338,
          55409,
          55476,
          55540,
          55601,
          55660,
          55715,
          55768,
          55818,
          55866
         ]
        },
        {
         "hovertemplate": "%{y}",
         "marker": {
          "symbol": 1
         },
         "mode": "markers",
         "name": "Estimated",
         "type": "scatter",
         "x": [
          10,
          20,
          30,
          40,
          50,
          60,
          70,
          80,
          90
         ],
         "y": [
          2000,
          5700,
          14199.999999999998,
          36000,
          26800,
          13400,
          6000,
          2700,
          899.9999999999999
         ]
        },
        {
         "hovertemplate": "%{y}",
         "marker": {
          "symbol": 3
         },
         "mode": "markers",
         "name": "Resisted",
         "type": "scatter",
         "x": [
          10,
          20,
          30,
          40,
          50,
          60,
          70,
          80,
          90
         ],
         "y": [
          99.205,
          781.104,
          3642.951,
          11663.568,
          20890.025,
          28288.172000000002,
          32546.654000000002,
          31235.276,
          33496.848
         ]
        },
        {
         "hovertemplate": "%{y}",
         "marker": {
          "symbol": 2
         },
         "mode": "markers",
         "name": "Confirmed",
         "type": "scatter",
         "x": [
          10,
          20,
          30,
          40,
          50,
          60,
          70,
          80,
          90
         ],
         "y": [
          753,
          2439,
          6540,
          18878,
          35718,
          45328,
          50593,
          53242,
          54990
         ]
        }
       ],
       "layout": {
        "margin": {
         "b": 0,
         "l": 0,
         "r": 150,
         "t": 25
        },
        "template": {
         "data": {
          "bar": [
           {
            "error_x": {
             "color": "#2a3f5f"
            },
            "error_y": {
             "color": "#2a3f5f"
            },
            "marker": {
             "line": {
              "color": "#E5ECF6",
              "width": 0.5
             }
            },
            "type": "bar"
           }
          ],
          "barpolar": [
           {
            "marker": {
             "line": {
              "color": "#E5ECF6",
              "width": 0.5
             }
            },
            "type": "barpolar"
           }
          ],
          "carpet": [
           {
            "aaxis": {
             "endlinecolor": "#2a3f5f",
             "gridcolor": "white",
             "linecolor": "white",
             "minorgridcolor": "white",
             "startlinecolor": "#2a3f5f"
            },
            "baxis": {
             "endlinecolor": "#2a3f5f",
             "gridcolor": "white",
             "linecolor": "white",
             "minorgridcolor": "white",
             "startlinecolor": "#2a3f5f"
            },
            "type": "carpet"
           }
          ],
          "choropleth": [
           {
            "colorbar": {
             "outlinewidth": 0,
             "ticks": ""
            },
            "type": "choropleth"
           }
          ],
          "contour": [
           {
            "colorbar": {
             "outlinewidth": 0,
             "ticks": ""
            },
            "colorscale": [
             [
              0,
              "#0d0887"
             ],
             [
              0.1111111111111111,
              "#46039f"
             ],
             [
              0.2222222222222222,
              "#7201a8"
             ],
             [
              0.3333333333333333,
              "#9c179e"
             ],
             [
              0.4444444444444444,
              "#bd3786"
             ],
             [
              0.5555555555555556,
              "#d8576b"
             ],
             [
              0.6666666666666666,
              "#ed7953"
             ],
             [
              0.7777777777777778,
              "#fb9f3a"
             ],
             [
              0.8888888888888888,
              "#fdca26"
             ],
             [
              1,
              "#f0f921"
             ]
            ],
            "type": "contour"
           }
          ],
          "contourcarpet": [
           {
            "colorbar": {
             "outlinewidth": 0,
             "ticks": ""
            },
            "type": "contourcarpet"
           }
          ],
          "heatmap": [
           {
            "colorbar": {
             "outlinewidth": 0,
             "ticks": ""
            },
            "colorscale": [
             [
              0,
              "#0d0887"
             ],
             [
              0.1111111111111111,
              "#46039f"
             ],
             [
              0.2222222222222222,
              "#7201a8"
             ],
             [
              0.3333333333333333,
              "#9c179e"
             ],
             [
              0.4444444444444444,
              "#bd3786"
             ],
             [
              0.5555555555555556,
              "#d8576b"
             ],
             [
              0.6666666666666666,
              "#ed7953"
             ],
             [
              0.7777777777777778,
              "#fb9f3a"
             ],
             [
              0.8888888888888888,
              "#fdca26"
             ],
             [
              1,
              "#f0f921"
             ]
            ],
            "type": "heatmap"
           }
          ],
          "heatmapgl": [
           {
            "colorbar": {
             "outlinewidth": 0,
             "ticks": ""
            },
            "colorscale": [
             [
              0,
              "#0d0887"
             ],
             [
              0.1111111111111111,
              "#46039f"
             ],
             [
              0.2222222222222222,
              "#7201a8"
             ],
             [
              0.3333333333333333,
              "#9c179e"
             ],
             [
              0.4444444444444444,
              "#bd3786"
             ],
             [
              0.5555555555555556,
              "#d8576b"
             ],
             [
              0.6666666666666666,
              "#ed7953"
             ],
             [
              0.7777777777777778,
              "#fb9f3a"
             ],
             [
              0.8888888888888888,
              "#fdca26"
             ],
             [
              1,
              "#f0f921"
             ]
            ],
            "type": "heatmapgl"
           }
          ],
          "histogram": [
           {
            "marker": {
             "colorbar": {
              "outlinewidth": 0,
              "ticks": ""
             }
            },
            "type": "histogram"
           }
          ],
          "histogram2d": [
           {
            "colorbar": {
             "outlinewidth": 0,
             "ticks": ""
            },
            "colorscale": [
             [
              0,
              "#0d0887"
             ],
             [
              0.1111111111111111,
              "#46039f"
             ],
             [
              0.2222222222222222,
              "#7201a8"
             ],
             [
              0.3333333333333333,
              "#9c179e"
             ],
             [
              0.4444444444444444,
              "#bd3786"
             ],
             [
              0.5555555555555556,
              "#d8576b"
             ],
             [
              0.6666666666666666,
              "#ed7953"
             ],
             [
              0.7777777777777778,
              "#fb9f3a"
             ],
             [
              0.8888888888888888,
              "#fdca26"
             ],
             [
              1,
              "#f0f921"
             ]
            ],
            "type": "histogram2d"
           }
          ],
          "histogram2dcontour": [
           {
            "colorbar": {
             "outlinewidth": 0,
             "ticks": ""
            },
            "colorscale": [
             [
              0,
              "#0d0887"
             ],
             [
              0.1111111111111111,
              "#46039f"
             ],
             [
              0.2222222222222222,
              "#7201a8"
             ],
             [
              0.3333333333333333,
              "#9c179e"
             ],
             [
              0.4444444444444444,
              "#bd3786"
             ],
             [
              0.5555555555555556,
              "#d8576b"
             ],
             [
              0.6666666666666666,
              "#ed7953"
             ],
             [
              0.7777777777777778,
              "#fb9f3a"
             ],
             [
              0.8888888888888888,
              "#fdca26"
             ],
             [
              1,
              "#f0f921"
             ]
            ],
            "type": "histogram2dcontour"
           }
          ],
          "mesh3d": [
           {
            "colorbar": {
             "outlinewidth": 0,
             "ticks": ""
            },
            "type": "mesh3d"
           }
          ],
          "parcoords": [
           {
            "line": {
             "colorbar": {
              "outlinewidth": 0,
              "ticks": ""
             }
            },
            "type": "parcoords"
           }
          ],
          "pie": [
           {
            "automargin": true,
            "type": "pie"
           }
          ],
          "scatter": [
           {
            "marker": {
             "colorbar": {
              "outlinewidth": 0,
              "ticks": ""
             }
            },
            "type": "scatter"
           }
          ],
          "scatter3d": [
           {
            "line": {
             "colorbar": {
              "outlinewidth": 0,
              "ticks": ""
             }
            },
            "marker": {
             "colorbar": {
              "outlinewidth": 0,
              "ticks": ""
             }
            },
            "type": "scatter3d"
           }
          ],
          "scattercarpet": [
           {
            "marker": {
             "colorbar": {
              "outlinewidth": 0,
              "ticks": ""
             }
            },
            "type": "scattercarpet"
           }
          ],
          "scattergeo": [
           {
            "marker": {
             "colorbar": {
              "outlinewidth": 0,
              "ticks": ""
             }
            },
            "type": "scattergeo"
           }
          ],
          "scattergl": [
           {
            "marker": {
             "colorbar": {
              "outlinewidth": 0,
              "ticks": ""
             }
            },
            "type": "scattergl"
           }
          ],
          "scattermapbox": [
           {
            "marker": {
             "colorbar": {
              "outlinewidth": 0,
              "ticks": ""
             }
            },
            "type": "scattermapbox"
           }
          ],
          "scatterpolar": [
           {
            "marker": {
             "colorbar": {
              "outlinewidth": 0,
              "ticks": ""
             }
            },
            "type": "scatterpolar"
           }
          ],
          "scatterpolargl": [
           {
            "marker": {
             "colorbar": {
              "outlinewidth": 0,
              "ticks": ""
             }
            },
            "type": "scatterpolargl"
           }
          ],
          "scatterternary": [
           {
            "marker": {
             "colorbar": {
              "outlinewidth": 0,
              "ticks": ""
             }
            },
            "type": "scatterternary"
           }
          ],
          "surface": [
           {
            "colorbar": {
             "outlinewidth": 0,
             "ticks": ""
            },
            "colorscale": [
             [
              0,
              "#0d0887"
             ],
             [
              0.1111111111111111,
              "#46039f"
             ],
             [
              0.2222222222222222,
              "#7201a8"
             ],
             [
              0.3333333333333333,
              "#9c179e"
             ],
             [
              0.4444444444444444,
              "#bd3786"
             ],
             [
              0.5555555555555556,
              "#d8576b"
             ],
             [
              0.6666666666666666,
              "#ed7953"
             ],
             [
              0.7777777777777778,
              "#fb9f3a"
             ],
             [
              0.8888888888888888,
              "#fdca26"
             ],
             [
              1,
              "#f0f921"
             ]
            ],
            "type": "surface"
           }
          ],
          "table": [
           {
            "cells": {
             "fill": {
              "color": "#EBF0F8"
             },
             "line": {
              "color": "white"
             }
            },
            "header": {
             "fill": {
              "color": "#C8D4E3"
             },
             "line": {
              "color": "white"
             }
            },
            "type": "table"
           }
          ]
         },
         "layout": {
          "annotationdefaults": {
           "arrowcolor": "#2a3f5f",
           "arrowhead": 0,
           "arrowwidth": 1
          },
          "coloraxis": {
           "colorbar": {
            "outlinewidth": 0,
            "ticks": ""
           }
          },
          "colorscale": {
           "diverging": [
            [
             0,
             "#8e0152"
            ],
            [
             0.1,
             "#c51b7d"
            ],
            [
             0.2,
             "#de77ae"
            ],
            [
             0.3,
             "#f1b6da"
            ],
            [
             0.4,
             "#fde0ef"
            ],
            [
             0.5,
             "#f7f7f7"
            ],
            [
             0.6,
             "#e6f5d0"
            ],
            [
             0.7,
             "#b8e186"
            ],
            [
             0.8,
             "#7fbc41"
            ],
            [
             0.9,
             "#4d9221"
            ],
            [
             1,
             "#276419"
            ]
           ],
           "sequential": [
            [
             0,
             "#0d0887"
            ],
            [
             0.1111111111111111,
             "#46039f"
            ],
            [
             0.2222222222222222,
             "#7201a8"
            ],
            [
             0.3333333333333333,
             "#9c179e"
            ],
            [
             0.4444444444444444,
             "#bd3786"
            ],
            [
             0.5555555555555556,
             "#d8576b"
            ],
            [
             0.6666666666666666,
             "#ed7953"
            ],
            [
             0.7777777777777778,
             "#fb9f3a"
            ],
            [
             0.8888888888888888,
             "#fdca26"
            ],
            [
             1,
             "#f0f921"
            ]
           ],
           "sequentialminus": [
            [
             0,
             "#0d0887"
            ],
            [
             0.1111111111111111,
             "#46039f"
            ],
            [
             0.2222222222222222,
             "#7201a8"
            ],
            [
             0.3333333333333333,
             "#9c179e"
            ],
            [
             0.4444444444444444,
             "#bd3786"
            ],
            [
             0.5555555555555556,
             "#d8576b"
            ],
            [
             0.6666666666666666,
             "#ed7953"
            ],
            [
             0.7777777777777778,
             "#fb9f3a"
            ],
            [
             0.8888888888888888,
             "#fdca26"
            ],
            [
             1,
             "#f0f921"
            ]
           ]
          },
          "colorway": [
           "#636efa",
           "#EF553B",
           "#00cc96",
           "#ab63fa",
           "#FFA15A",
           "#19d3f3",
           "#FF6692",
           "#B6E880",
           "#FF97FF",
           "#FECB52"
          ],
          "font": {
           "color": "#2a3f5f"
          },
          "geo": {
           "bgcolor": "white",
           "lakecolor": "white",
           "landcolor": "#E5ECF6",
           "showlakes": true,
           "showland": true,
           "subunitcolor": "white"
          },
          "hoverlabel": {
           "align": "left"
          },
          "hovermode": "closest",
          "mapbox": {
           "style": "light"
          },
          "paper_bgcolor": "white",
          "plot_bgcolor": "#E5ECF6",
          "polar": {
           "angularaxis": {
            "gridcolor": "white",
            "linecolor": "white",
            "ticks": ""
           },
           "bgcolor": "#E5ECF6",
           "radialaxis": {
            "gridcolor": "white",
            "linecolor": "white",
            "ticks": ""
           }
          },
          "scene": {
           "xaxis": {
            "backgroundcolor": "#E5ECF6",
            "gridcolor": "white",
            "gridwidth": 2,
            "linecolor": "white",
            "showbackground": true,
            "ticks": "",
            "zerolinecolor": "white"
           },
           "yaxis": {
            "backgroundcolor": "#E5ECF6",
            "gridcolor": "white",
            "gridwidth": 2,
            "linecolor": "white",
            "showbackground": true,
            "ticks": "",
            "zerolinecolor": "white"
           },
           "zaxis": {
            "backgroundcolor": "#E5ECF6",
            "gridcolor": "white",
            "gridwidth": 2,
            "linecolor": "white",
            "showbackground": true,
            "ticks": "",
            "zerolinecolor": "white"
           }
          },
          "shapedefaults": {
           "line": {
            "color": "#2a3f5f"
           }
          },
          "ternary": {
           "aaxis": {
            "gridcolor": "white",
            "linecolor": "white",
            "ticks": ""
           },
           "baxis": {
            "gridcolor": "white",
            "linecolor": "white",
            "ticks": ""
           },
           "bgcolor": "#E5ECF6",
           "caxis": {
            "gridcolor": "white",
            "linecolor": "white",
            "ticks": ""
           }
          },
          "title": {
           "x": 0.05
          },
          "xaxis": {
           "automargin": true,
           "gridcolor": "white",
           "linecolor": "white",
           "ticks": "",
           "title": {
            "standoff": 15
           },
           "zerolinecolor": "white",
           "zerolinewidth": 2
          },
          "yaxis": {
           "automargin": true,
           "gridcolor": "white",
           "linecolor": "white",
           "ticks": "",
           "title": {
            "standoff": 15
           },
           "zerolinecolor": "white",
           "zerolinewidth": 2
          }
         }
        }
       }
      },
      "text/html": [
       "<div>\n",
       "        \n",
       "        \n",
       "            <div id=\"99ef5e56-ea56-41a2-9269-d7b35d5bcf4e\" class=\"plotly-graph-div\" style=\"height:525px; width:100%;\"></div>\n",
       "            <script type=\"text/javascript\">\n",
       "                require([\"plotly\"], function(Plotly) {\n",
       "                    window.PLOTLYENV=window.PLOTLYENV || {};\n",
       "                    \n",
       "                if (document.getElementById(\"99ef5e56-ea56-41a2-9269-d7b35d5bcf4e\")) {\n",
       "                    Plotly.newPlot(\n",
       "                        '99ef5e56-ea56-41a2-9269-d7b35d5bcf4e',\n",
       "                        [{\"hovertemplate\": \"%{y}\", \"name\": \"Susceptible\", \"type\": \"scatter\", \"x\": [0, 1, 2, 3, 4, 5, 6, 7, 8, 9, 10, 11, 12, 13, 14, 15, 16, 17, 18, 19, 20, 21, 22, 23, 24, 25, 26, 27, 28, 29, 30, 31, 32, 33, 34, 35, 36, 37, 38, 39, 40, 41, 42, 43, 44, 45, 46, 47, 48, 49, 50, 51, 52, 53, 54, 55, 56, 57, 58, 59, 60, 61, 62, 63, 64, 65, 66, 67, 68, 69, 70, 71, 72, 73, 74, 75, 76, 77, 78, 79, 80, 81, 82, 83, 84, 85, 86, 87, 88, 89, 90, 91, 92, 93, 94, 95, 96, 97, 98, 99, 100], \"y\": [99000, 98839, 98663, 98472, 98262, 98033, 97782, 97502, 97194, 96857, 96489, 96084, 95636, 95146, 94610, 94024, 93383, 92682, 91919, 91083, 90137, 89052, 87820, 86463, 84975, 83352, 81588, 79683, 77596, 75259, 72668, 69468, 66030, 62390, 58606, 54710, 50763, 46831, 42979, 39461, 36141, 33377, 30998, 28848, 26905, 25146, 23558, 22160, 20901, 19802, 18813, 17941, 17158, 16469, 15851, 15296, 14798, 14350, 13946, 13581, 13252, 12951, 12677, 12427, 12198, 11988, 11795, 11619, 11457, 11308, 11170, 11043, 10926, 10817, 10715, 10620, 10531, 10448, 10370, 10296, 10227, 10163, 10102, 10044, 9989, 9937, 9888, 9842, 9798, 9757, 9718, 9680, 9645, 9611, 9579, 9549, 9520, 9493, 9467, 9443, 9419]}, {\"hovertemplate\": \"%{y}\", \"name\": \"Infectious\", \"type\": \"scatter\", \"x\": [0, 1, 2, 3, 4, 5, 6, 7, 8, 9, 10, 11, 12, 13, 14, 15, 16, 17, 18, 19, 20, 21, 22, 23, 24, 25, 26, 27, 28, 29, 30, 31, 32, 33, 34, 35, 36, 37, 38, 39, 40, 41, 42, 43, 44, 45, 46, 47, 48, 49, 50, 51, 52, 53, 54, 55, 56, 57, 58, 59, 60, 61, 62, 63, 64, 65, 66, 67, 68, 69, 70, 71, 72, 73, 74, 75, 76, 77, 78, 79, 80, 81, 82, 83, 84, 85, 86, 87, 88, 89, 90, 91, 92, 93, 94, 95, 96, 97, 98, 99, 100], \"y\": [1000, 1094, 1197, 1310, 1432, 1566, 1712, 1877, 2060, 2260, 2478, 2717, 2984, 3275, 3593, 3943, 4326, 4744, 5197, 5701, 6283, 6968, 7755, 8619, 9561, 10578, 11671, 12836, 14110, 15554, 17160, 19274, 21492, 23772, 26051, 28267, 30390, 32326, 33940, 35064, 35469, 35284, 34731, 33978, 33064, 32041, 30808, 29488, 28122, 26702, 25298, 23857, 22353, 20890, 19496, 18174, 16922, 15740, 14629, 13596, 12692, 11881, 11114, 10392, 9713, 9075, 8475, 7912, 7383, 6888, 6425, 6002, 5622, 5266, 4945, 4646, 4376, 4122, 3897, 3683, 3483, 3296, 3123, 2960, 2808, 2664, 2533, 2408, 2294, 2185, 2082, 1983, 1888, 1798, 1713, 1631, 1553, 1479, 1408, 1340, 1276]}, {\"hovertemplate\": \"%{y}\", \"name\": \"Removed\", \"type\": \"scatter\", \"x\": [0, 1, 2, 3, 4, 5, 6, 7, 8, 9, 10, 11, 12, 13, 14, 15, 16, 17, 18, 19, 20, 21, 22, 23, 24, 25, 26, 27, 28, 29, 30, 31, 32, 33, 34, 35, 36, 37, 38, 39, 40, 41, 42, 43, 44, 45, 46, 47, 48, 49, 50, 51, 52, 53, 54, 55, 56, 57, 58, 59, 60, 61, 62, 63, 64, 65, 66, 67, 68, 69, 70, 71, 72, 73, 74, 75, 76, 77, 78, 79, 80, 81, 82, 83, 84, 85, 86, 87, 88, 89, 90, 91, 92, 93, 94, 95, 96, 97, 98, 99, 100], \"y\": [0, 29, 62, 97, 136, 179, 225, 276, 332, 393, 460, 534, 614, 703, 800, 907, 1024, 1153, 1294, 1448, 1617, 1804, 2011, 2241, 2497, 2781, 3095, 3442, 3823, 4242, 4704, 5214, 5786, 6424, 7130, 7904, 8743, 9646, 10606, 11614, 12655, 13708, 14756, 15787, 16796, 17778, 18730, 19645, 20520, 21356, 22149, 22900, 23608, 24272, 24893, 25472, 26011, 26514, 26981, 27416, 27819, 28196, 28549, 28879, 29188, 29476, 29746, 29998, 30232, 30452, 30656, 30847, 31025, 31192, 31349, 31496, 31634, 31764, 31886, 32002, 32111, 32215, 32312, 32405, 32493, 32577, 32656, 32731, 32802, 32871, 32935, 32997, 33056, 33112, 33166, 33217, 33265, 33311, 33355, 33397, 33437]}, {\"hovertemplate\": \"%{y}\", \"name\": \"Quarantined\", \"type\": \"scatter\", \"x\": [0, 1, 2, 3, 4, 5, 6, 7, 8, 9, 10, 11, 12, 13, 14, 15, 16, 17, 18, 19, 20, 21, 22, 23, 24, 25, 26, 27, 28, 29, 30, 31, 32, 33, 34, 35, 36, 37, 38, 39, 40, 41, 42, 43, 44, 45, 46, 47, 48, 49, 50, 51, 52, 53, 54, 55, 56, 57, 58, 59, 60, 61, 62, 63, 64, 65, 66, 67, 68, 69, 70, 71, 72, 73, 74, 75, 76, 77, 78, 79, 80, 81, 82, 83, 84, 85, 86, 87, 88, 89, 90, 91, 92, 93, 94, 95, 96, 97, 98, 99, 100], \"y\": [0, 36, 76, 119, 168, 221, 279, 342, 412, 488, 571, 663, 763, 873, 994, 1123, 1264, 1419, 1588, 1766, 1960, 2174, 2412, 2674, 2965, 3287, 3644, 4037, 4469, 4943, 5466, 6042, 6690, 7412, 8211, 9118, 10101, 11196, 12473, 13860, 15733, 17628, 19513, 21385, 23233, 25033, 26903, 28705, 30454, 32138, 33739, 35300, 36879, 38367, 39758, 41057, 42267, 43394, 44442, 45405, 46235, 46970, 47657, 48300, 48899, 49459, 49981, 50470, 50925, 51351, 51747, 52106, 52425, 52722, 52989, 53237, 53458, 53665, 53846, 54017, 54177, 54325, 54461, 54589, 54708, 54820, 54921, 55018, 55103, 55185, 55263, 55338, 55409, 55476, 55540, 55601, 55660, 55715, 55768, 55818, 55866]}, {\"hovertemplate\": \"%{y}\", \"marker\": {\"symbol\": 1}, \"mode\": \"markers\", \"name\": \"Estimated\", \"type\": \"scatter\", \"x\": [10, 20, 30, 40, 50, 60, 70, 80, 90], \"y\": [2000.0, 5700.0, 14199.999999999998, 36000.0, 26800.0, 13400.0, 6000.0, 2700.0, 899.9999999999999]}, {\"hovertemplate\": \"%{y}\", \"marker\": {\"symbol\": 3}, \"mode\": \"markers\", \"name\": \"Resisted\", \"type\": \"scatter\", \"x\": [10, 20, 30, 40, 50, 60, 70, 80, 90], \"y\": [99.205, 781.104, 3642.951, 11663.568, 20890.025, 28288.172000000002, 32546.654000000002, 31235.276, 33496.848]}, {\"hovertemplate\": \"%{y}\", \"marker\": {\"symbol\": 2}, \"mode\": \"markers\", \"name\": \"Confirmed\", \"type\": \"scatter\", \"x\": [10, 20, 30, 40, 50, 60, 70, 80, 90], \"y\": [753, 2439, 6540, 18878, 35718, 45328, 50593, 53242, 54990]}],\n",
       "                        {\"margin\": {\"b\": 0, \"l\": 0, \"r\": 150, \"t\": 25}, \"template\": {\"data\": {\"bar\": [{\"error_x\": {\"color\": \"#2a3f5f\"}, \"error_y\": {\"color\": \"#2a3f5f\"}, \"marker\": {\"line\": {\"color\": \"#E5ECF6\", \"width\": 0.5}}, \"type\": \"bar\"}], \"barpolar\": [{\"marker\": {\"line\": {\"color\": \"#E5ECF6\", \"width\": 0.5}}, \"type\": \"barpolar\"}], \"carpet\": [{\"aaxis\": {\"endlinecolor\": \"#2a3f5f\", \"gridcolor\": \"white\", \"linecolor\": \"white\", \"minorgridcolor\": \"white\", \"startlinecolor\": \"#2a3f5f\"}, \"baxis\": {\"endlinecolor\": \"#2a3f5f\", \"gridcolor\": \"white\", \"linecolor\": \"white\", \"minorgridcolor\": \"white\", \"startlinecolor\": \"#2a3f5f\"}, \"type\": \"carpet\"}], \"choropleth\": [{\"colorbar\": {\"outlinewidth\": 0, \"ticks\": \"\"}, \"type\": \"choropleth\"}], \"contour\": [{\"colorbar\": {\"outlinewidth\": 0, \"ticks\": \"\"}, \"colorscale\": [[0.0, \"#0d0887\"], [0.1111111111111111, \"#46039f\"], [0.2222222222222222, \"#7201a8\"], [0.3333333333333333, \"#9c179e\"], [0.4444444444444444, \"#bd3786\"], [0.5555555555555556, \"#d8576b\"], [0.6666666666666666, \"#ed7953\"], [0.7777777777777778, \"#fb9f3a\"], [0.8888888888888888, \"#fdca26\"], [1.0, \"#f0f921\"]], \"type\": \"contour\"}], \"contourcarpet\": [{\"colorbar\": {\"outlinewidth\": 0, \"ticks\": \"\"}, \"type\": \"contourcarpet\"}], \"heatmap\": [{\"colorbar\": {\"outlinewidth\": 0, \"ticks\": \"\"}, \"colorscale\": [[0.0, \"#0d0887\"], [0.1111111111111111, \"#46039f\"], [0.2222222222222222, \"#7201a8\"], [0.3333333333333333, \"#9c179e\"], [0.4444444444444444, \"#bd3786\"], [0.5555555555555556, \"#d8576b\"], [0.6666666666666666, \"#ed7953\"], [0.7777777777777778, \"#fb9f3a\"], [0.8888888888888888, \"#fdca26\"], [1.0, \"#f0f921\"]], \"type\": \"heatmap\"}], \"heatmapgl\": [{\"colorbar\": {\"outlinewidth\": 0, \"ticks\": \"\"}, \"colorscale\": [[0.0, \"#0d0887\"], [0.1111111111111111, \"#46039f\"], [0.2222222222222222, \"#7201a8\"], [0.3333333333333333, \"#9c179e\"], [0.4444444444444444, \"#bd3786\"], [0.5555555555555556, \"#d8576b\"], [0.6666666666666666, \"#ed7953\"], [0.7777777777777778, \"#fb9f3a\"], [0.8888888888888888, \"#fdca26\"], [1.0, \"#f0f921\"]], \"type\": \"heatmapgl\"}], \"histogram\": [{\"marker\": {\"colorbar\": {\"outlinewidth\": 0, \"ticks\": \"\"}}, \"type\": \"histogram\"}], \"histogram2d\": [{\"colorbar\": {\"outlinewidth\": 0, \"ticks\": \"\"}, \"colorscale\": [[0.0, \"#0d0887\"], [0.1111111111111111, \"#46039f\"], [0.2222222222222222, \"#7201a8\"], [0.3333333333333333, \"#9c179e\"], [0.4444444444444444, \"#bd3786\"], [0.5555555555555556, \"#d8576b\"], [0.6666666666666666, \"#ed7953\"], [0.7777777777777778, \"#fb9f3a\"], [0.8888888888888888, \"#fdca26\"], [1.0, \"#f0f921\"]], \"type\": \"histogram2d\"}], \"histogram2dcontour\": [{\"colorbar\": {\"outlinewidth\": 0, \"ticks\": \"\"}, \"colorscale\": [[0.0, \"#0d0887\"], [0.1111111111111111, \"#46039f\"], [0.2222222222222222, \"#7201a8\"], [0.3333333333333333, \"#9c179e\"], [0.4444444444444444, \"#bd3786\"], [0.5555555555555556, \"#d8576b\"], [0.6666666666666666, \"#ed7953\"], [0.7777777777777778, \"#fb9f3a\"], [0.8888888888888888, \"#fdca26\"], [1.0, \"#f0f921\"]], \"type\": \"histogram2dcontour\"}], \"mesh3d\": [{\"colorbar\": {\"outlinewidth\": 0, \"ticks\": \"\"}, \"type\": \"mesh3d\"}], \"parcoords\": [{\"line\": {\"colorbar\": {\"outlinewidth\": 0, \"ticks\": \"\"}}, \"type\": \"parcoords\"}], \"pie\": [{\"automargin\": true, \"type\": \"pie\"}], \"scatter\": [{\"marker\": {\"colorbar\": {\"outlinewidth\": 0, \"ticks\": \"\"}}, \"type\": \"scatter\"}], \"scatter3d\": [{\"line\": {\"colorbar\": {\"outlinewidth\": 0, \"ticks\": \"\"}}, \"marker\": {\"colorbar\": {\"outlinewidth\": 0, \"ticks\": \"\"}}, \"type\": \"scatter3d\"}], \"scattercarpet\": [{\"marker\": {\"colorbar\": {\"outlinewidth\": 0, \"ticks\": \"\"}}, \"type\": \"scattercarpet\"}], \"scattergeo\": [{\"marker\": {\"colorbar\": {\"outlinewidth\": 0, \"ticks\": \"\"}}, \"type\": \"scattergeo\"}], \"scattergl\": [{\"marker\": {\"colorbar\": {\"outlinewidth\": 0, \"ticks\": \"\"}}, \"type\": \"scattergl\"}], \"scattermapbox\": [{\"marker\": {\"colorbar\": {\"outlinewidth\": 0, \"ticks\": \"\"}}, \"type\": \"scattermapbox\"}], \"scatterpolar\": [{\"marker\": {\"colorbar\": {\"outlinewidth\": 0, \"ticks\": \"\"}}, \"type\": \"scatterpolar\"}], \"scatterpolargl\": [{\"marker\": {\"colorbar\": {\"outlinewidth\": 0, \"ticks\": \"\"}}, \"type\": \"scatterpolargl\"}], \"scatterternary\": [{\"marker\": {\"colorbar\": {\"outlinewidth\": 0, \"ticks\": \"\"}}, \"type\": \"scatterternary\"}], \"surface\": [{\"colorbar\": {\"outlinewidth\": 0, \"ticks\": \"\"}, \"colorscale\": [[0.0, \"#0d0887\"], [0.1111111111111111, \"#46039f\"], [0.2222222222222222, \"#7201a8\"], [0.3333333333333333, \"#9c179e\"], [0.4444444444444444, \"#bd3786\"], [0.5555555555555556, \"#d8576b\"], [0.6666666666666666, \"#ed7953\"], [0.7777777777777778, \"#fb9f3a\"], [0.8888888888888888, \"#fdca26\"], [1.0, \"#f0f921\"]], \"type\": \"surface\"}], \"table\": [{\"cells\": {\"fill\": {\"color\": \"#EBF0F8\"}, \"line\": {\"color\": \"white\"}}, \"header\": {\"fill\": {\"color\": \"#C8D4E3\"}, \"line\": {\"color\": \"white\"}}, \"type\": \"table\"}]}, \"layout\": {\"annotationdefaults\": {\"arrowcolor\": \"#2a3f5f\", \"arrowhead\": 0, \"arrowwidth\": 1}, \"coloraxis\": {\"colorbar\": {\"outlinewidth\": 0, \"ticks\": \"\"}}, \"colorscale\": {\"diverging\": [[0, \"#8e0152\"], [0.1, \"#c51b7d\"], [0.2, \"#de77ae\"], [0.3, \"#f1b6da\"], [0.4, \"#fde0ef\"], [0.5, \"#f7f7f7\"], [0.6, \"#e6f5d0\"], [0.7, \"#b8e186\"], [0.8, \"#7fbc41\"], [0.9, \"#4d9221\"], [1, \"#276419\"]], \"sequential\": [[0.0, \"#0d0887\"], [0.1111111111111111, \"#46039f\"], [0.2222222222222222, \"#7201a8\"], [0.3333333333333333, \"#9c179e\"], [0.4444444444444444, \"#bd3786\"], [0.5555555555555556, \"#d8576b\"], [0.6666666666666666, \"#ed7953\"], [0.7777777777777778, \"#fb9f3a\"], [0.8888888888888888, \"#fdca26\"], [1.0, \"#f0f921\"]], \"sequentialminus\": [[0.0, \"#0d0887\"], [0.1111111111111111, \"#46039f\"], [0.2222222222222222, \"#7201a8\"], [0.3333333333333333, \"#9c179e\"], [0.4444444444444444, \"#bd3786\"], [0.5555555555555556, \"#d8576b\"], [0.6666666666666666, \"#ed7953\"], [0.7777777777777778, \"#fb9f3a\"], [0.8888888888888888, \"#fdca26\"], [1.0, \"#f0f921\"]]}, \"colorway\": [\"#636efa\", \"#EF553B\", \"#00cc96\", \"#ab63fa\", \"#FFA15A\", \"#19d3f3\", \"#FF6692\", \"#B6E880\", \"#FF97FF\", \"#FECB52\"], \"font\": {\"color\": \"#2a3f5f\"}, \"geo\": {\"bgcolor\": \"white\", \"lakecolor\": \"white\", \"landcolor\": \"#E5ECF6\", \"showlakes\": true, \"showland\": true, \"subunitcolor\": \"white\"}, \"hoverlabel\": {\"align\": \"left\"}, \"hovermode\": \"closest\", \"mapbox\": {\"style\": \"light\"}, \"paper_bgcolor\": \"white\", \"plot_bgcolor\": \"#E5ECF6\", \"polar\": {\"angularaxis\": {\"gridcolor\": \"white\", \"linecolor\": \"white\", \"ticks\": \"\"}, \"bgcolor\": \"#E5ECF6\", \"radialaxis\": {\"gridcolor\": \"white\", \"linecolor\": \"white\", \"ticks\": \"\"}}, \"scene\": {\"xaxis\": {\"backgroundcolor\": \"#E5ECF6\", \"gridcolor\": \"white\", \"gridwidth\": 2, \"linecolor\": \"white\", \"showbackground\": true, \"ticks\": \"\", \"zerolinecolor\": \"white\"}, \"yaxis\": {\"backgroundcolor\": \"#E5ECF6\", \"gridcolor\": \"white\", \"gridwidth\": 2, \"linecolor\": \"white\", \"showbackground\": true, \"ticks\": \"\", \"zerolinecolor\": \"white\"}, \"zaxis\": {\"backgroundcolor\": \"#E5ECF6\", \"gridcolor\": \"white\", \"gridwidth\": 2, \"linecolor\": \"white\", \"showbackground\": true, \"ticks\": \"\", \"zerolinecolor\": \"white\"}}, \"shapedefaults\": {\"line\": {\"color\": \"#2a3f5f\"}}, \"ternary\": {\"aaxis\": {\"gridcolor\": \"white\", \"linecolor\": \"white\", \"ticks\": \"\"}, \"baxis\": {\"gridcolor\": \"white\", \"linecolor\": \"white\", \"ticks\": \"\"}, \"bgcolor\": \"#E5ECF6\", \"caxis\": {\"gridcolor\": \"white\", \"linecolor\": \"white\", \"ticks\": \"\"}}, \"title\": {\"x\": 0.05}, \"xaxis\": {\"automargin\": true, \"gridcolor\": \"white\", \"linecolor\": \"white\", \"ticks\": \"\", \"title\": {\"standoff\": 15}, \"zerolinecolor\": \"white\", \"zerolinewidth\": 2}, \"yaxis\": {\"automargin\": true, \"gridcolor\": \"white\", \"linecolor\": \"white\", \"ticks\": \"\", \"title\": {\"standoff\": 15}, \"zerolinecolor\": \"white\", \"zerolinewidth\": 2}}}},\n",
       "                        {\"responsive\": true}\n",
       "                    ).then(function(){\n",
       "                            \n",
       "var gd = document.getElementById('99ef5e56-ea56-41a2-9269-d7b35d5bcf4e');\n",
       "var x = new MutationObserver(function (mutations, observer) {{\n",
       "        var display = window.getComputedStyle(gd).display;\n",
       "        if (!display || display === 'none') {{\n",
       "            console.log([gd, 'removed!']);\n",
       "            Plotly.purge(gd);\n",
       "            observer.disconnect();\n",
       "        }}\n",
       "}});\n",
       "\n",
       "// Listen for the removal of the full notebook cells\n",
       "var notebookContainer = gd.closest('#notebook-container');\n",
       "if (notebookContainer) {{\n",
       "    x.observe(notebookContainer, {childList: true});\n",
       "}}\n",
       "\n",
       "// Listen for the clearing of the current output cell\n",
       "var outputEl = gd.closest('.output');\n",
       "if (outputEl) {{\n",
       "    x.observe(outputEl, {childList: true});\n",
       "}}\n",
       "\n",
       "                        })\n",
       "                };\n",
       "                });\n",
       "            </script>\n",
       "        </div>"
      ]
     },
     "metadata": {},
     "output_type": "display_data"
    }
   ],
   "source": [
    "fig = SIRQt.plot(a.dynamic.estimate(city, T))\n",
    "sample.plot(fig)\n",
    "resisted.plot(fig)\n",
    "confirmed.plot(fig)"
   ]
  },
  {
   "cell_type": "code",
   "execution_count": 195,
   "metadata": {},
   "outputs": [
    {
     "data": {
      "application/vnd.plotly.v1+json": {
       "config": {
        "plotlyServerURL": "https://plot.ly"
       },
       "data": [
        {
         "hovertemplate": "%{y}",
         "name": "Susceptible",
         "type": "scatter",
         "x": [
          0,
          1,
          2,
          3,
          4,
          5,
          6,
          7,
          8,
          9,
          10,
          11,
          12,
          13,
          14,
          15,
          16,
          17,
          18,
          19,
          20,
          21,
          22,
          23,
          24,
          25,
          26,
          27,
          28,
          29,
          30,
          31,
          32,
          33,
          34,
          35,
          36,
          37,
          38,
          39,
          40,
          41,
          42,
          43,
          44,
          45,
          46,
          47,
          48,
          49,
          50,
          51,
          52,
          53,
          54,
          55,
          56,
          57,
          58,
          59,
          60,
          61,
          62,
          63,
          64,
          65,
          66,
          67,
          68,
          69,
          70,
          71,
          72,
          73,
          74,
          75,
          76,
          77,
          78,
          79,
          80,
          81,
          82,
          83,
          84,
          85,
          86,
          87,
          88,
          89,
          90,
          91,
          92,
          93,
          94,
          95,
          96,
          97,
          98,
          99,
          100
         ],
         "y": [
          99000,
          98851,
          98694,
          98528,
          98353,
          98168,
          97973,
          97767,
          97484,
          97174,
          96835,
          96463,
          96051,
          95596,
          95094,
          94540,
          93931,
          93262,
          92527,
          91723,
          90845,
          89887,
          88846,
          87717,
          86496,
          85181,
          83346,
          81303,
          79046,
          76571,
          73882,
          70988,
          67906,
          63683,
          59150,
          54388,
          49501,
          44607,
          39826,
          35266,
          31017,
          27141,
          24711,
          22534,
          20592,
          18864,
          17331,
          16665,
          16062,
          15515,
          15018,
          14702,
          14413,
          14148,
          13905,
          13683,
          13478,
          13290,
          13117,
          12958,
          12812,
          12676,
          12552,
          12436,
          12330,
          12233,
          12144,
          12087,
          12034,
          11986,
          11943,
          11902,
          11866,
          11833,
          11803,
          11768,
          11737,
          11708,
          11683,
          11660,
          11640,
          11622,
          11606,
          11592,
          11580,
          11570,
          11561,
          11552,
          11545,
          11539,
          11533,
          11528,
          11524,
          11521,
          11518,
          11515,
          11513,
          11510,
          11508,
          11506,
          11504
         ]
        },
        {
         "hovertemplate": "%{y}",
         "name": "Infectious",
         "type": "scatter",
         "x": [
          0,
          1,
          2,
          3,
          4,
          5,
          6,
          7,
          8,
          9,
          10,
          11,
          12,
          13,
          14,
          15,
          16,
          17,
          18,
          19,
          20,
          21,
          22,
          23,
          24,
          25,
          26,
          27,
          28,
          29,
          30,
          31,
          32,
          33,
          34,
          35,
          36,
          37,
          38,
          39,
          40,
          41,
          42,
          43,
          44,
          45,
          46,
          47,
          48,
          49,
          50,
          51,
          52,
          53,
          54,
          55,
          56,
          57,
          58,
          59,
          60,
          61,
          62,
          63,
          64,
          65,
          66,
          67,
          68,
          69,
          70,
          71,
          72,
          73,
          74,
          75,
          76,
          77,
          78,
          79,
          80,
          81,
          82,
          83,
          84,
          85,
          86,
          87,
          88,
          89,
          90,
          91,
          92,
          93,
          94,
          95,
          96,
          97,
          98,
          99,
          100
         ],
         "y": [
          1000,
          1058,
          1120,
          1185,
          1253,
          1325,
          1401,
          1481,
          1630,
          1792,
          1970,
          2188,
          2428,
          2693,
          2984,
          3304,
          3655,
          4038,
          4456,
          4911,
          5405,
          5940,
          6516,
          7134,
          7796,
          8501,
          9668,
          10951,
          12347,
          13851,
          15451,
          17131,
          18867,
          21600,
          24429,
          27264,
          29999,
          32526,
          34740,
          36559,
          37923,
          38807,
          38186,
          37362,
          36367,
          35236,
          34000,
          32015,
          30121,
          28318,
          26606,
          24856,
          23214,
          21675,
          20233,
          18884,
          17621,
          16440,
          15336,
          14304,
          13339,
          12438,
          11596,
          10810,
          9973,
          9200,
          8486,
          7805,
          7178,
          6601,
          6071,
          5513,
          5006,
          4546,
          4128,
          3755,
          3364,
          3013,
          2699,
          2418,
          2126,
          1869,
          1643,
          1444,
          1270,
          1116,
          981,
          862,
          758,
          666,
          586,
          515,
          453,
          397,
          349,
          306,
          269,
          237,
          208,
          183,
          161
         ]
        },
        {
         "hovertemplate": "%{y}",
         "name": "Removed",
         "type": "scatter",
         "x": [
          0,
          1,
          2,
          3,
          4,
          5,
          6,
          7,
          8,
          9,
          10,
          11,
          12,
          13,
          14,
          15,
          16,
          17,
          18,
          19,
          20,
          21,
          22,
          23,
          24,
          25,
          26,
          27,
          28,
          29,
          30,
          31,
          32,
          33,
          34,
          35,
          36,
          37,
          38,
          39,
          40,
          41,
          42,
          43,
          44,
          45,
          46,
          47,
          48,
          49,
          50,
          51,
          52,
          53,
          54,
          55,
          56,
          57,
          58,
          59,
          60,
          61,
          62,
          63,
          64,
          65,
          66,
          67,
          68,
          69,
          70,
          71,
          72,
          73,
          74,
          75,
          76,
          77,
          78,
          79,
          80,
          81,
          82,
          83,
          84,
          85,
          86,
          87,
          88,
          89,
          90,
          91,
          92,
          93,
          94,
          95,
          96,
          97,
          98,
          99,
          100
         ],
         "y": [
          0,
          30,
          61,
          95,
          130,
          168,
          208,
          250,
          295,
          344,
          398,
          458,
          524,
          598,
          680,
          770,
          870,
          981,
          1103,
          1238,
          1387,
          1551,
          1731,
          1928,
          2145,
          2381,
          2641,
          2937,
          3272,
          3650,
          4074,
          4547,
          5071,
          5654,
          6322,
          7077,
          7920,
          8847,
          9852,
          10926,
          12056,
          13228,
          14416,
          15584,
          16728,
          17840,
          18919,
          19938,
          20899,
          21802,
          22651,
          23441,
          24179,
          24868,
          25512,
          26113,
          26674,
          27197,
          27685,
          28140,
          28565,
          28961,
          29330,
          29675,
          29996,
          30292,
          30565,
          30814,
          31044,
          31255,
          31449,
          31627,
          31789,
          31937,
          32070,
          32193,
          32304,
          32404,
          32494,
          32574,
          32646,
          32709,
          32764,
          32813,
          32856,
          32893,
          32927,
          32956,
          32981,
          33004,
          33024,
          33041,
          33056,
          33070,
          33082,
          33092,
          33101,
          33109,
          33116,
          33123,
          33128
         ]
        },
        {
         "hovertemplate": "%{y}",
         "name": "Quarantined",
         "type": "scatter",
         "x": [
          0,
          1,
          2,
          3,
          4,
          5,
          6,
          7,
          8,
          9,
          10,
          11,
          12,
          13,
          14,
          15,
          16,
          17,
          18,
          19,
          20,
          21,
          22,
          23,
          24,
          25,
          26,
          27,
          28,
          29,
          30,
          31,
          32,
          33,
          34,
          35,
          36,
          37,
          38,
          39,
          40,
          41,
          42,
          43,
          44,
          45,
          46,
          47,
          48,
          49,
          50,
          51,
          52,
          53,
          54,
          55,
          56,
          57,
          58,
          59,
          60,
          61,
          62,
          63,
          64,
          65,
          66,
          67,
          68,
          69,
          70,
          71,
          72,
          73,
          74,
          75,
          76,
          77,
          78,
          79,
          80,
          81,
          82,
          83,
          84,
          85,
          86,
          87,
          88,
          89,
          90,
          91,
          92,
          93,
          94,
          95,
          96,
          97,
          98,
          99,
          100
         ],
         "y": [
          0,
          60,
          123,
          190,
          261,
          337,
          416,
          500,
          589,
          687,
          794,
          889,
          994,
          1111,
          1240,
          1383,
          1542,
          1717,
          1911,
          2125,
          2361,
          2620,
          2906,
          3218,
          3561,
          3935,
          4343,
          4807,
          5333,
          5926,
          6590,
          7332,
          8154,
          9060,
          10097,
          11270,
          12578,
          14018,
          15579,
          17247,
          19002,
          20822,
          22685,
          24518,
          26311,
          28057,
          29748,
          31380,
          32917,
          34363,
          35722,
          36999,
          38192,
          39307,
          40347,
          41318,
          42225,
          43071,
          43860,
          44596,
          45283,
          45923,
          46520,
          47077,
          47699,
          48274,
          48804,
          49292,
          49742,
          50156,
          50536,
          50955,
          51336,
          51683,
          51997,
          52282,
          52594,
          52873,
          53123,
          53347,
          53587,
          53799,
          53985,
          54148,
          54292,
          54419,
          54530,
          54627,
          54713,
          54789,
          54855,
          54914,
          54965,
          55010,
          55050,
          55084,
          55115,
          55142,
          55165,
          55186,
          55204
         ]
        },
        {
         "hovertemplate": "%{y}",
         "marker": {
          "symbol": 1
         },
         "mode": "markers",
         "name": "Estimated",
         "type": "scatter",
         "x": [
          10,
          20,
          30,
          40,
          50,
          60,
          70,
          80,
          90
         ],
         "y": [
          2000,
          5700,
          14199.999999999998,
          36000,
          26800,
          13400,
          6000,
          2700,
          899.9999999999999
         ]
        },
        {
         "hovertemplate": "%{y}",
         "marker": {
          "symbol": 3
         },
         "mode": "markers",
         "name": "Resisted",
         "type": "scatter",
         "x": [
          10,
          20,
          30,
          40,
          50,
          60,
          70,
          80,
          90
         ],
         "y": [
          99.205,
          781.104,
          3642.951,
          11663.568,
          20890.025,
          28288.172000000002,
          32546.654000000002,
          31235.276,
          33496.848
         ]
        },
        {
         "hovertemplate": "%{y}",
         "marker": {
          "symbol": 2
         },
         "mode": "markers",
         "name": "Confirmed",
         "type": "scatter",
         "x": [
          10,
          20,
          30,
          40,
          50,
          60,
          70,
          80,
          90
         ],
         "y": [
          753,
          2439,
          6540,
          18878,
          35718,
          45328,
          50593,
          53242,
          54990
         ]
        }
       ],
       "layout": {
        "margin": {
         "b": 0,
         "l": 0,
         "r": 150,
         "t": 25
        },
        "template": {
         "data": {
          "bar": [
           {
            "error_x": {
             "color": "#2a3f5f"
            },
            "error_y": {
             "color": "#2a3f5f"
            },
            "marker": {
             "line": {
              "color": "#E5ECF6",
              "width": 0.5
             }
            },
            "type": "bar"
           }
          ],
          "barpolar": [
           {
            "marker": {
             "line": {
              "color": "#E5ECF6",
              "width": 0.5
             }
            },
            "type": "barpolar"
           }
          ],
          "carpet": [
           {
            "aaxis": {
             "endlinecolor": "#2a3f5f",
             "gridcolor": "white",
             "linecolor": "white",
             "minorgridcolor": "white",
             "startlinecolor": "#2a3f5f"
            },
            "baxis": {
             "endlinecolor": "#2a3f5f",
             "gridcolor": "white",
             "linecolor": "white",
             "minorgridcolor": "white",
             "startlinecolor": "#2a3f5f"
            },
            "type": "carpet"
           }
          ],
          "choropleth": [
           {
            "colorbar": {
             "outlinewidth": 0,
             "ticks": ""
            },
            "type": "choropleth"
           }
          ],
          "contour": [
           {
            "colorbar": {
             "outlinewidth": 0,
             "ticks": ""
            },
            "colorscale": [
             [
              0,
              "#0d0887"
             ],
             [
              0.1111111111111111,
              "#46039f"
             ],
             [
              0.2222222222222222,
              "#7201a8"
             ],
             [
              0.3333333333333333,
              "#9c179e"
             ],
             [
              0.4444444444444444,
              "#bd3786"
             ],
             [
              0.5555555555555556,
              "#d8576b"
             ],
             [
              0.6666666666666666,
              "#ed7953"
             ],
             [
              0.7777777777777778,
              "#fb9f3a"
             ],
             [
              0.8888888888888888,
              "#fdca26"
             ],
             [
              1,
              "#f0f921"
             ]
            ],
            "type": "contour"
           }
          ],
          "contourcarpet": [
           {
            "colorbar": {
             "outlinewidth": 0,
             "ticks": ""
            },
            "type": "contourcarpet"
           }
          ],
          "heatmap": [
           {
            "colorbar": {
             "outlinewidth": 0,
             "ticks": ""
            },
            "colorscale": [
             [
              0,
              "#0d0887"
             ],
             [
              0.1111111111111111,
              "#46039f"
             ],
             [
              0.2222222222222222,
              "#7201a8"
             ],
             [
              0.3333333333333333,
              "#9c179e"
             ],
             [
              0.4444444444444444,
              "#bd3786"
             ],
             [
              0.5555555555555556,
              "#d8576b"
             ],
             [
              0.6666666666666666,
              "#ed7953"
             ],
             [
              0.7777777777777778,
              "#fb9f3a"
             ],
             [
              0.8888888888888888,
              "#fdca26"
             ],
             [
              1,
              "#f0f921"
             ]
            ],
            "type": "heatmap"
           }
          ],
          "heatmapgl": [
           {
            "colorbar": {
             "outlinewidth": 0,
             "ticks": ""
            },
            "colorscale": [
             [
              0,
              "#0d0887"
             ],
             [
              0.1111111111111111,
              "#46039f"
             ],
             [
              0.2222222222222222,
              "#7201a8"
             ],
             [
              0.3333333333333333,
              "#9c179e"
             ],
             [
              0.4444444444444444,
              "#bd3786"
             ],
             [
              0.5555555555555556,
              "#d8576b"
             ],
             [
              0.6666666666666666,
              "#ed7953"
             ],
             [
              0.7777777777777778,
              "#fb9f3a"
             ],
             [
              0.8888888888888888,
              "#fdca26"
             ],
             [
              1,
              "#f0f921"
             ]
            ],
            "type": "heatmapgl"
           }
          ],
          "histogram": [
           {
            "marker": {
             "colorbar": {
              "outlinewidth": 0,
              "ticks": ""
             }
            },
            "type": "histogram"
           }
          ],
          "histogram2d": [
           {
            "colorbar": {
             "outlinewidth": 0,
             "ticks": ""
            },
            "colorscale": [
             [
              0,
              "#0d0887"
             ],
             [
              0.1111111111111111,
              "#46039f"
             ],
             [
              0.2222222222222222,
              "#7201a8"
             ],
             [
              0.3333333333333333,
              "#9c179e"
             ],
             [
              0.4444444444444444,
              "#bd3786"
             ],
             [
              0.5555555555555556,
              "#d8576b"
             ],
             [
              0.6666666666666666,
              "#ed7953"
             ],
             [
              0.7777777777777778,
              "#fb9f3a"
             ],
             [
              0.8888888888888888,
              "#fdca26"
             ],
             [
              1,
              "#f0f921"
             ]
            ],
            "type": "histogram2d"
           }
          ],
          "histogram2dcontour": [
           {
            "colorbar": {
             "outlinewidth": 0,
             "ticks": ""
            },
            "colorscale": [
             [
              0,
              "#0d0887"
             ],
             [
              0.1111111111111111,
              "#46039f"
             ],
             [
              0.2222222222222222,
              "#7201a8"
             ],
             [
              0.3333333333333333,
              "#9c179e"
             ],
             [
              0.4444444444444444,
              "#bd3786"
             ],
             [
              0.5555555555555556,
              "#d8576b"
             ],
             [
              0.6666666666666666,
              "#ed7953"
             ],
             [
              0.7777777777777778,
              "#fb9f3a"
             ],
             [
              0.8888888888888888,
              "#fdca26"
             ],
             [
              1,
              "#f0f921"
             ]
            ],
            "type": "histogram2dcontour"
           }
          ],
          "mesh3d": [
           {
            "colorbar": {
             "outlinewidth": 0,
             "ticks": ""
            },
            "type": "mesh3d"
           }
          ],
          "parcoords": [
           {
            "line": {
             "colorbar": {
              "outlinewidth": 0,
              "ticks": ""
             }
            },
            "type": "parcoords"
           }
          ],
          "pie": [
           {
            "automargin": true,
            "type": "pie"
           }
          ],
          "scatter": [
           {
            "marker": {
             "colorbar": {
              "outlinewidth": 0,
              "ticks": ""
             }
            },
            "type": "scatter"
           }
          ],
          "scatter3d": [
           {
            "line": {
             "colorbar": {
              "outlinewidth": 0,
              "ticks": ""
             }
            },
            "marker": {
             "colorbar": {
              "outlinewidth": 0,
              "ticks": ""
             }
            },
            "type": "scatter3d"
           }
          ],
          "scattercarpet": [
           {
            "marker": {
             "colorbar": {
              "outlinewidth": 0,
              "ticks": ""
             }
            },
            "type": "scattercarpet"
           }
          ],
          "scattergeo": [
           {
            "marker": {
             "colorbar": {
              "outlinewidth": 0,
              "ticks": ""
             }
            },
            "type": "scattergeo"
           }
          ],
          "scattergl": [
           {
            "marker": {
             "colorbar": {
              "outlinewidth": 0,
              "ticks": ""
             }
            },
            "type": "scattergl"
           }
          ],
          "scattermapbox": [
           {
            "marker": {
             "colorbar": {
              "outlinewidth": 0,
              "ticks": ""
             }
            },
            "type": "scattermapbox"
           }
          ],
          "scatterpolar": [
           {
            "marker": {
             "colorbar": {
              "outlinewidth": 0,
              "ticks": ""
             }
            },
            "type": "scatterpolar"
           }
          ],
          "scatterpolargl": [
           {
            "marker": {
             "colorbar": {
              "outlinewidth": 0,
              "ticks": ""
             }
            },
            "type": "scatterpolargl"
           }
          ],
          "scatterternary": [
           {
            "marker": {
             "colorbar": {
              "outlinewidth": 0,
              "ticks": ""
             }
            },
            "type": "scatterternary"
           }
          ],
          "surface": [
           {
            "colorbar": {
             "outlinewidth": 0,
             "ticks": ""
            },
            "colorscale": [
             [
              0,
              "#0d0887"
             ],
             [
              0.1111111111111111,
              "#46039f"
             ],
             [
              0.2222222222222222,
              "#7201a8"
             ],
             [
              0.3333333333333333,
              "#9c179e"
             ],
             [
              0.4444444444444444,
              "#bd3786"
             ],
             [
              0.5555555555555556,
              "#d8576b"
             ],
             [
              0.6666666666666666,
              "#ed7953"
             ],
             [
              0.7777777777777778,
              "#fb9f3a"
             ],
             [
              0.8888888888888888,
              "#fdca26"
             ],
             [
              1,
              "#f0f921"
             ]
            ],
            "type": "surface"
           }
          ],
          "table": [
           {
            "cells": {
             "fill": {
              "color": "#EBF0F8"
             },
             "line": {
              "color": "white"
             }
            },
            "header": {
             "fill": {
              "color": "#C8D4E3"
             },
             "line": {
              "color": "white"
             }
            },
            "type": "table"
           }
          ]
         },
         "layout": {
          "annotationdefaults": {
           "arrowcolor": "#2a3f5f",
           "arrowhead": 0,
           "arrowwidth": 1
          },
          "coloraxis": {
           "colorbar": {
            "outlinewidth": 0,
            "ticks": ""
           }
          },
          "colorscale": {
           "diverging": [
            [
             0,
             "#8e0152"
            ],
            [
             0.1,
             "#c51b7d"
            ],
            [
             0.2,
             "#de77ae"
            ],
            [
             0.3,
             "#f1b6da"
            ],
            [
             0.4,
             "#fde0ef"
            ],
            [
             0.5,
             "#f7f7f7"
            ],
            [
             0.6,
             "#e6f5d0"
            ],
            [
             0.7,
             "#b8e186"
            ],
            [
             0.8,
             "#7fbc41"
            ],
            [
             0.9,
             "#4d9221"
            ],
            [
             1,
             "#276419"
            ]
           ],
           "sequential": [
            [
             0,
             "#0d0887"
            ],
            [
             0.1111111111111111,
             "#46039f"
            ],
            [
             0.2222222222222222,
             "#7201a8"
            ],
            [
             0.3333333333333333,
             "#9c179e"
            ],
            [
             0.4444444444444444,
             "#bd3786"
            ],
            [
             0.5555555555555556,
             "#d8576b"
            ],
            [
             0.6666666666666666,
             "#ed7953"
            ],
            [
             0.7777777777777778,
             "#fb9f3a"
            ],
            [
             0.8888888888888888,
             "#fdca26"
            ],
            [
             1,
             "#f0f921"
            ]
           ],
           "sequentialminus": [
            [
             0,
             "#0d0887"
            ],
            [
             0.1111111111111111,
             "#46039f"
            ],
            [
             0.2222222222222222,
             "#7201a8"
            ],
            [
             0.3333333333333333,
             "#9c179e"
            ],
            [
             0.4444444444444444,
             "#bd3786"
            ],
            [
             0.5555555555555556,
             "#d8576b"
            ],
            [
             0.6666666666666666,
             "#ed7953"
            ],
            [
             0.7777777777777778,
             "#fb9f3a"
            ],
            [
             0.8888888888888888,
             "#fdca26"
            ],
            [
             1,
             "#f0f921"
            ]
           ]
          },
          "colorway": [
           "#636efa",
           "#EF553B",
           "#00cc96",
           "#ab63fa",
           "#FFA15A",
           "#19d3f3",
           "#FF6692",
           "#B6E880",
           "#FF97FF",
           "#FECB52"
          ],
          "font": {
           "color": "#2a3f5f"
          },
          "geo": {
           "bgcolor": "white",
           "lakecolor": "white",
           "landcolor": "#E5ECF6",
           "showlakes": true,
           "showland": true,
           "subunitcolor": "white"
          },
          "hoverlabel": {
           "align": "left"
          },
          "hovermode": "closest",
          "mapbox": {
           "style": "light"
          },
          "paper_bgcolor": "white",
          "plot_bgcolor": "#E5ECF6",
          "polar": {
           "angularaxis": {
            "gridcolor": "white",
            "linecolor": "white",
            "ticks": ""
           },
           "bgcolor": "#E5ECF6",
           "radialaxis": {
            "gridcolor": "white",
            "linecolor": "white",
            "ticks": ""
           }
          },
          "scene": {
           "xaxis": {
            "backgroundcolor": "#E5ECF6",
            "gridcolor": "white",
            "gridwidth": 2,
            "linecolor": "white",
            "showbackground": true,
            "ticks": "",
            "zerolinecolor": "white"
           },
           "yaxis": {
            "backgroundcolor": "#E5ECF6",
            "gridcolor": "white",
            "gridwidth": 2,
            "linecolor": "white",
            "showbackground": true,
            "ticks": "",
            "zerolinecolor": "white"
           },
           "zaxis": {
            "backgroundcolor": "#E5ECF6",
            "gridcolor": "white",
            "gridwidth": 2,
            "linecolor": "white",
            "showbackground": true,
            "ticks": "",
            "zerolinecolor": "white"
           }
          },
          "shapedefaults": {
           "line": {
            "color": "#2a3f5f"
           }
          },
          "ternary": {
           "aaxis": {
            "gridcolor": "white",
            "linecolor": "white",
            "ticks": ""
           },
           "baxis": {
            "gridcolor": "white",
            "linecolor": "white",
            "ticks": ""
           },
           "bgcolor": "#E5ECF6",
           "caxis": {
            "gridcolor": "white",
            "linecolor": "white",
            "ticks": ""
           }
          },
          "title": {
           "x": 0.05
          },
          "xaxis": {
           "automargin": true,
           "gridcolor": "white",
           "linecolor": "white",
           "ticks": "",
           "title": {
            "standoff": 15
           },
           "zerolinecolor": "white",
           "zerolinewidth": 2
          },
          "yaxis": {
           "automargin": true,
           "gridcolor": "white",
           "linecolor": "white",
           "ticks": "",
           "title": {
            "standoff": 15
           },
           "zerolinecolor": "white",
           "zerolinewidth": 2
          }
         }
        }
       }
      },
      "text/html": [
       "<div>\n",
       "        \n",
       "        \n",
       "            <div id=\"42da18c7-90e0-4513-85b5-35e14f5dffa5\" class=\"plotly-graph-div\" style=\"height:525px; width:100%;\"></div>\n",
       "            <script type=\"text/javascript\">\n",
       "                require([\"plotly\"], function(Plotly) {\n",
       "                    window.PLOTLYENV=window.PLOTLYENV || {};\n",
       "                    \n",
       "                if (document.getElementById(\"42da18c7-90e0-4513-85b5-35e14f5dffa5\")) {\n",
       "                    Plotly.newPlot(\n",
       "                        '42da18c7-90e0-4513-85b5-35e14f5dffa5',\n",
       "                        [{\"hovertemplate\": \"%{y}\", \"name\": \"Susceptible\", \"type\": \"scatter\", \"x\": [0, 1, 2, 3, 4, 5, 6, 7, 8, 9, 10, 11, 12, 13, 14, 15, 16, 17, 18, 19, 20, 21, 22, 23, 24, 25, 26, 27, 28, 29, 30, 31, 32, 33, 34, 35, 36, 37, 38, 39, 40, 41, 42, 43, 44, 45, 46, 47, 48, 49, 50, 51, 52, 53, 54, 55, 56, 57, 58, 59, 60, 61, 62, 63, 64, 65, 66, 67, 68, 69, 70, 71, 72, 73, 74, 75, 76, 77, 78, 79, 80, 81, 82, 83, 84, 85, 86, 87, 88, 89, 90, 91, 92, 93, 94, 95, 96, 97, 98, 99, 100], \"y\": [99000, 98851, 98694, 98528, 98353, 98168, 97973, 97767, 97484, 97174, 96835, 96463, 96051, 95596, 95094, 94540, 93931, 93262, 92527, 91723, 90845, 89887, 88846, 87717, 86496, 85181, 83346, 81303, 79046, 76571, 73882, 70988, 67906, 63683, 59150, 54388, 49501, 44607, 39826, 35266, 31017, 27141, 24711, 22534, 20592, 18864, 17331, 16665, 16062, 15515, 15018, 14702, 14413, 14148, 13905, 13683, 13478, 13290, 13117, 12958, 12812, 12676, 12552, 12436, 12330, 12233, 12144, 12087, 12034, 11986, 11943, 11902, 11866, 11833, 11803, 11768, 11737, 11708, 11683, 11660, 11640, 11622, 11606, 11592, 11580, 11570, 11561, 11552, 11545, 11539, 11533, 11528, 11524, 11521, 11518, 11515, 11513, 11510, 11508, 11506, 11504]}, {\"hovertemplate\": \"%{y}\", \"name\": \"Infectious\", \"type\": \"scatter\", \"x\": [0, 1, 2, 3, 4, 5, 6, 7, 8, 9, 10, 11, 12, 13, 14, 15, 16, 17, 18, 19, 20, 21, 22, 23, 24, 25, 26, 27, 28, 29, 30, 31, 32, 33, 34, 35, 36, 37, 38, 39, 40, 41, 42, 43, 44, 45, 46, 47, 48, 49, 50, 51, 52, 53, 54, 55, 56, 57, 58, 59, 60, 61, 62, 63, 64, 65, 66, 67, 68, 69, 70, 71, 72, 73, 74, 75, 76, 77, 78, 79, 80, 81, 82, 83, 84, 85, 86, 87, 88, 89, 90, 91, 92, 93, 94, 95, 96, 97, 98, 99, 100], \"y\": [1000, 1058, 1120, 1185, 1253, 1325, 1401, 1481, 1630, 1792, 1970, 2188, 2428, 2693, 2984, 3304, 3655, 4038, 4456, 4911, 5405, 5940, 6516, 7134, 7796, 8501, 9668, 10951, 12347, 13851, 15451, 17131, 18867, 21600, 24429, 27264, 29999, 32526, 34740, 36559, 37923, 38807, 38186, 37362, 36367, 35236, 34000, 32015, 30121, 28318, 26606, 24856, 23214, 21675, 20233, 18884, 17621, 16440, 15336, 14304, 13339, 12438, 11596, 10810, 9973, 9200, 8486, 7805, 7178, 6601, 6071, 5513, 5006, 4546, 4128, 3755, 3364, 3013, 2699, 2418, 2126, 1869, 1643, 1444, 1270, 1116, 981, 862, 758, 666, 586, 515, 453, 397, 349, 306, 269, 237, 208, 183, 161]}, {\"hovertemplate\": \"%{y}\", \"name\": \"Removed\", \"type\": \"scatter\", \"x\": [0, 1, 2, 3, 4, 5, 6, 7, 8, 9, 10, 11, 12, 13, 14, 15, 16, 17, 18, 19, 20, 21, 22, 23, 24, 25, 26, 27, 28, 29, 30, 31, 32, 33, 34, 35, 36, 37, 38, 39, 40, 41, 42, 43, 44, 45, 46, 47, 48, 49, 50, 51, 52, 53, 54, 55, 56, 57, 58, 59, 60, 61, 62, 63, 64, 65, 66, 67, 68, 69, 70, 71, 72, 73, 74, 75, 76, 77, 78, 79, 80, 81, 82, 83, 84, 85, 86, 87, 88, 89, 90, 91, 92, 93, 94, 95, 96, 97, 98, 99, 100], \"y\": [0, 30, 61, 95, 130, 168, 208, 250, 295, 344, 398, 458, 524, 598, 680, 770, 870, 981, 1103, 1238, 1387, 1551, 1731, 1928, 2145, 2381, 2641, 2937, 3272, 3650, 4074, 4547, 5071, 5654, 6322, 7077, 7920, 8847, 9852, 10926, 12056, 13228, 14416, 15584, 16728, 17840, 18919, 19938, 20899, 21802, 22651, 23441, 24179, 24868, 25512, 26113, 26674, 27197, 27685, 28140, 28565, 28961, 29330, 29675, 29996, 30292, 30565, 30814, 31044, 31255, 31449, 31627, 31789, 31937, 32070, 32193, 32304, 32404, 32494, 32574, 32646, 32709, 32764, 32813, 32856, 32893, 32927, 32956, 32981, 33004, 33024, 33041, 33056, 33070, 33082, 33092, 33101, 33109, 33116, 33123, 33128]}, {\"hovertemplate\": \"%{y}\", \"name\": \"Quarantined\", \"type\": \"scatter\", \"x\": [0, 1, 2, 3, 4, 5, 6, 7, 8, 9, 10, 11, 12, 13, 14, 15, 16, 17, 18, 19, 20, 21, 22, 23, 24, 25, 26, 27, 28, 29, 30, 31, 32, 33, 34, 35, 36, 37, 38, 39, 40, 41, 42, 43, 44, 45, 46, 47, 48, 49, 50, 51, 52, 53, 54, 55, 56, 57, 58, 59, 60, 61, 62, 63, 64, 65, 66, 67, 68, 69, 70, 71, 72, 73, 74, 75, 76, 77, 78, 79, 80, 81, 82, 83, 84, 85, 86, 87, 88, 89, 90, 91, 92, 93, 94, 95, 96, 97, 98, 99, 100], \"y\": [0, 60, 123, 190, 261, 337, 416, 500, 589, 687, 794, 889, 994, 1111, 1240, 1383, 1542, 1717, 1911, 2125, 2361, 2620, 2906, 3218, 3561, 3935, 4343, 4807, 5333, 5926, 6590, 7332, 8154, 9060, 10097, 11270, 12578, 14018, 15579, 17247, 19002, 20822, 22685, 24518, 26311, 28057, 29748, 31380, 32917, 34363, 35722, 36999, 38192, 39307, 40347, 41318, 42225, 43071, 43860, 44596, 45283, 45923, 46520, 47077, 47699, 48274, 48804, 49292, 49742, 50156, 50536, 50955, 51336, 51683, 51997, 52282, 52594, 52873, 53123, 53347, 53587, 53799, 53985, 54148, 54292, 54419, 54530, 54627, 54713, 54789, 54855, 54914, 54965, 55010, 55050, 55084, 55115, 55142, 55165, 55186, 55204]}, {\"hovertemplate\": \"%{y}\", \"marker\": {\"symbol\": 1}, \"mode\": \"markers\", \"name\": \"Estimated\", \"type\": \"scatter\", \"x\": [10, 20, 30, 40, 50, 60, 70, 80, 90], \"y\": [2000.0, 5700.0, 14199.999999999998, 36000.0, 26800.0, 13400.0, 6000.0, 2700.0, 899.9999999999999]}, {\"hovertemplate\": \"%{y}\", \"marker\": {\"symbol\": 3}, \"mode\": \"markers\", \"name\": \"Resisted\", \"type\": \"scatter\", \"x\": [10, 20, 30, 40, 50, 60, 70, 80, 90], \"y\": [99.205, 781.104, 3642.951, 11663.568, 20890.025, 28288.172000000002, 32546.654000000002, 31235.276, 33496.848]}, {\"hovertemplate\": \"%{y}\", \"marker\": {\"symbol\": 2}, \"mode\": \"markers\", \"name\": \"Confirmed\", \"type\": \"scatter\", \"x\": [10, 20, 30, 40, 50, 60, 70, 80, 90], \"y\": [753, 2439, 6540, 18878, 35718, 45328, 50593, 53242, 54990]}],\n",
       "                        {\"margin\": {\"b\": 0, \"l\": 0, \"r\": 150, \"t\": 25}, \"template\": {\"data\": {\"bar\": [{\"error_x\": {\"color\": \"#2a3f5f\"}, \"error_y\": {\"color\": \"#2a3f5f\"}, \"marker\": {\"line\": {\"color\": \"#E5ECF6\", \"width\": 0.5}}, \"type\": \"bar\"}], \"barpolar\": [{\"marker\": {\"line\": {\"color\": \"#E5ECF6\", \"width\": 0.5}}, \"type\": \"barpolar\"}], \"carpet\": [{\"aaxis\": {\"endlinecolor\": \"#2a3f5f\", \"gridcolor\": \"white\", \"linecolor\": \"white\", \"minorgridcolor\": \"white\", \"startlinecolor\": \"#2a3f5f\"}, \"baxis\": {\"endlinecolor\": \"#2a3f5f\", \"gridcolor\": \"white\", \"linecolor\": \"white\", \"minorgridcolor\": \"white\", \"startlinecolor\": \"#2a3f5f\"}, \"type\": \"carpet\"}], \"choropleth\": [{\"colorbar\": {\"outlinewidth\": 0, \"ticks\": \"\"}, \"type\": \"choropleth\"}], \"contour\": [{\"colorbar\": {\"outlinewidth\": 0, \"ticks\": \"\"}, \"colorscale\": [[0.0, \"#0d0887\"], [0.1111111111111111, \"#46039f\"], [0.2222222222222222, \"#7201a8\"], [0.3333333333333333, \"#9c179e\"], [0.4444444444444444, \"#bd3786\"], [0.5555555555555556, \"#d8576b\"], [0.6666666666666666, \"#ed7953\"], [0.7777777777777778, \"#fb9f3a\"], [0.8888888888888888, \"#fdca26\"], [1.0, \"#f0f921\"]], \"type\": \"contour\"}], \"contourcarpet\": [{\"colorbar\": {\"outlinewidth\": 0, \"ticks\": \"\"}, \"type\": \"contourcarpet\"}], \"heatmap\": [{\"colorbar\": {\"outlinewidth\": 0, \"ticks\": \"\"}, \"colorscale\": [[0.0, \"#0d0887\"], [0.1111111111111111, \"#46039f\"], [0.2222222222222222, \"#7201a8\"], [0.3333333333333333, \"#9c179e\"], [0.4444444444444444, \"#bd3786\"], [0.5555555555555556, \"#d8576b\"], [0.6666666666666666, \"#ed7953\"], [0.7777777777777778, \"#fb9f3a\"], [0.8888888888888888, \"#fdca26\"], [1.0, \"#f0f921\"]], \"type\": \"heatmap\"}], \"heatmapgl\": [{\"colorbar\": {\"outlinewidth\": 0, \"ticks\": \"\"}, \"colorscale\": [[0.0, \"#0d0887\"], [0.1111111111111111, \"#46039f\"], [0.2222222222222222, \"#7201a8\"], [0.3333333333333333, \"#9c179e\"], [0.4444444444444444, \"#bd3786\"], [0.5555555555555556, \"#d8576b\"], [0.6666666666666666, \"#ed7953\"], [0.7777777777777778, \"#fb9f3a\"], [0.8888888888888888, \"#fdca26\"], [1.0, \"#f0f921\"]], \"type\": \"heatmapgl\"}], \"histogram\": [{\"marker\": {\"colorbar\": {\"outlinewidth\": 0, \"ticks\": \"\"}}, \"type\": \"histogram\"}], \"histogram2d\": [{\"colorbar\": {\"outlinewidth\": 0, \"ticks\": \"\"}, \"colorscale\": [[0.0, \"#0d0887\"], [0.1111111111111111, \"#46039f\"], [0.2222222222222222, \"#7201a8\"], [0.3333333333333333, \"#9c179e\"], [0.4444444444444444, \"#bd3786\"], [0.5555555555555556, \"#d8576b\"], [0.6666666666666666, \"#ed7953\"], [0.7777777777777778, \"#fb9f3a\"], [0.8888888888888888, \"#fdca26\"], [1.0, \"#f0f921\"]], \"type\": \"histogram2d\"}], \"histogram2dcontour\": [{\"colorbar\": {\"outlinewidth\": 0, \"ticks\": \"\"}, \"colorscale\": [[0.0, \"#0d0887\"], [0.1111111111111111, \"#46039f\"], [0.2222222222222222, \"#7201a8\"], [0.3333333333333333, \"#9c179e\"], [0.4444444444444444, \"#bd3786\"], [0.5555555555555556, \"#d8576b\"], [0.6666666666666666, \"#ed7953\"], [0.7777777777777778, \"#fb9f3a\"], [0.8888888888888888, \"#fdca26\"], [1.0, \"#f0f921\"]], \"type\": \"histogram2dcontour\"}], \"mesh3d\": [{\"colorbar\": {\"outlinewidth\": 0, \"ticks\": \"\"}, \"type\": \"mesh3d\"}], \"parcoords\": [{\"line\": {\"colorbar\": {\"outlinewidth\": 0, \"ticks\": \"\"}}, \"type\": \"parcoords\"}], \"pie\": [{\"automargin\": true, \"type\": \"pie\"}], \"scatter\": [{\"marker\": {\"colorbar\": {\"outlinewidth\": 0, \"ticks\": \"\"}}, \"type\": \"scatter\"}], \"scatter3d\": [{\"line\": {\"colorbar\": {\"outlinewidth\": 0, \"ticks\": \"\"}}, \"marker\": {\"colorbar\": {\"outlinewidth\": 0, \"ticks\": \"\"}}, \"type\": \"scatter3d\"}], \"scattercarpet\": [{\"marker\": {\"colorbar\": {\"outlinewidth\": 0, \"ticks\": \"\"}}, \"type\": \"scattercarpet\"}], \"scattergeo\": [{\"marker\": {\"colorbar\": {\"outlinewidth\": 0, \"ticks\": \"\"}}, \"type\": \"scattergeo\"}], \"scattergl\": [{\"marker\": {\"colorbar\": {\"outlinewidth\": 0, \"ticks\": \"\"}}, \"type\": \"scattergl\"}], \"scattermapbox\": [{\"marker\": {\"colorbar\": {\"outlinewidth\": 0, \"ticks\": \"\"}}, \"type\": \"scattermapbox\"}], \"scatterpolar\": [{\"marker\": {\"colorbar\": {\"outlinewidth\": 0, \"ticks\": \"\"}}, \"type\": \"scatterpolar\"}], \"scatterpolargl\": [{\"marker\": {\"colorbar\": {\"outlinewidth\": 0, \"ticks\": \"\"}}, \"type\": \"scatterpolargl\"}], \"scatterternary\": [{\"marker\": {\"colorbar\": {\"outlinewidth\": 0, \"ticks\": \"\"}}, \"type\": \"scatterternary\"}], \"surface\": [{\"colorbar\": {\"outlinewidth\": 0, \"ticks\": \"\"}, \"colorscale\": [[0.0, \"#0d0887\"], [0.1111111111111111, \"#46039f\"], [0.2222222222222222, \"#7201a8\"], [0.3333333333333333, \"#9c179e\"], [0.4444444444444444, \"#bd3786\"], [0.5555555555555556, \"#d8576b\"], [0.6666666666666666, \"#ed7953\"], [0.7777777777777778, \"#fb9f3a\"], [0.8888888888888888, \"#fdca26\"], [1.0, \"#f0f921\"]], \"type\": \"surface\"}], \"table\": [{\"cells\": {\"fill\": {\"color\": \"#EBF0F8\"}, \"line\": {\"color\": \"white\"}}, \"header\": {\"fill\": {\"color\": \"#C8D4E3\"}, \"line\": {\"color\": \"white\"}}, \"type\": \"table\"}]}, \"layout\": {\"annotationdefaults\": {\"arrowcolor\": \"#2a3f5f\", \"arrowhead\": 0, \"arrowwidth\": 1}, \"coloraxis\": {\"colorbar\": {\"outlinewidth\": 0, \"ticks\": \"\"}}, \"colorscale\": {\"diverging\": [[0, \"#8e0152\"], [0.1, \"#c51b7d\"], [0.2, \"#de77ae\"], [0.3, \"#f1b6da\"], [0.4, \"#fde0ef\"], [0.5, \"#f7f7f7\"], [0.6, \"#e6f5d0\"], [0.7, \"#b8e186\"], [0.8, \"#7fbc41\"], [0.9, \"#4d9221\"], [1, \"#276419\"]], \"sequential\": [[0.0, \"#0d0887\"], [0.1111111111111111, \"#46039f\"], [0.2222222222222222, \"#7201a8\"], [0.3333333333333333, \"#9c179e\"], [0.4444444444444444, \"#bd3786\"], [0.5555555555555556, \"#d8576b\"], [0.6666666666666666, \"#ed7953\"], [0.7777777777777778, \"#fb9f3a\"], [0.8888888888888888, \"#fdca26\"], [1.0, \"#f0f921\"]], \"sequentialminus\": [[0.0, \"#0d0887\"], [0.1111111111111111, \"#46039f\"], [0.2222222222222222, \"#7201a8\"], [0.3333333333333333, \"#9c179e\"], [0.4444444444444444, \"#bd3786\"], [0.5555555555555556, \"#d8576b\"], [0.6666666666666666, \"#ed7953\"], [0.7777777777777778, \"#fb9f3a\"], [0.8888888888888888, \"#fdca26\"], [1.0, \"#f0f921\"]]}, \"colorway\": [\"#636efa\", \"#EF553B\", \"#00cc96\", \"#ab63fa\", \"#FFA15A\", \"#19d3f3\", \"#FF6692\", \"#B6E880\", \"#FF97FF\", \"#FECB52\"], \"font\": {\"color\": \"#2a3f5f\"}, \"geo\": {\"bgcolor\": \"white\", \"lakecolor\": \"white\", \"landcolor\": \"#E5ECF6\", \"showlakes\": true, \"showland\": true, \"subunitcolor\": \"white\"}, \"hoverlabel\": {\"align\": \"left\"}, \"hovermode\": \"closest\", \"mapbox\": {\"style\": \"light\"}, \"paper_bgcolor\": \"white\", \"plot_bgcolor\": \"#E5ECF6\", \"polar\": {\"angularaxis\": {\"gridcolor\": \"white\", \"linecolor\": \"white\", \"ticks\": \"\"}, \"bgcolor\": \"#E5ECF6\", \"radialaxis\": {\"gridcolor\": \"white\", \"linecolor\": \"white\", \"ticks\": \"\"}}, \"scene\": {\"xaxis\": {\"backgroundcolor\": \"#E5ECF6\", \"gridcolor\": \"white\", \"gridwidth\": 2, \"linecolor\": \"white\", \"showbackground\": true, \"ticks\": \"\", \"zerolinecolor\": \"white\"}, \"yaxis\": {\"backgroundcolor\": \"#E5ECF6\", \"gridcolor\": \"white\", \"gridwidth\": 2, \"linecolor\": \"white\", \"showbackground\": true, \"ticks\": \"\", \"zerolinecolor\": \"white\"}, \"zaxis\": {\"backgroundcolor\": \"#E5ECF6\", \"gridcolor\": \"white\", \"gridwidth\": 2, \"linecolor\": \"white\", \"showbackground\": true, \"ticks\": \"\", \"zerolinecolor\": \"white\"}}, \"shapedefaults\": {\"line\": {\"color\": \"#2a3f5f\"}}, \"ternary\": {\"aaxis\": {\"gridcolor\": \"white\", \"linecolor\": \"white\", \"ticks\": \"\"}, \"baxis\": {\"gridcolor\": \"white\", \"linecolor\": \"white\", \"ticks\": \"\"}, \"bgcolor\": \"#E5ECF6\", \"caxis\": {\"gridcolor\": \"white\", \"linecolor\": \"white\", \"ticks\": \"\"}}, \"title\": {\"x\": 0.05}, \"xaxis\": {\"automargin\": true, \"gridcolor\": \"white\", \"linecolor\": \"white\", \"ticks\": \"\", \"title\": {\"standoff\": 15}, \"zerolinecolor\": \"white\", \"zerolinewidth\": 2}, \"yaxis\": {\"automargin\": true, \"gridcolor\": \"white\", \"linecolor\": \"white\", \"ticks\": \"\", \"title\": {\"standoff\": 15}, \"zerolinecolor\": \"white\", \"zerolinewidth\": 2}}}},\n",
       "                        {\"responsive\": true}\n",
       "                    ).then(function(){\n",
       "                            \n",
       "var gd = document.getElementById('42da18c7-90e0-4513-85b5-35e14f5dffa5');\n",
       "var x = new MutationObserver(function (mutations, observer) {{\n",
       "        var display = window.getComputedStyle(gd).display;\n",
       "        if (!display || display === 'none') {{\n",
       "            console.log([gd, 'removed!']);\n",
       "            Plotly.purge(gd);\n",
       "            observer.disconnect();\n",
       "        }}\n",
       "}});\n",
       "\n",
       "// Listen for the removal of the full notebook cells\n",
       "var notebookContainer = gd.closest('#notebook-container');\n",
       "if (notebookContainer) {{\n",
       "    x.observe(notebookContainer, {childList: true});\n",
       "}}\n",
       "\n",
       "// Listen for the clearing of the current output cell\n",
       "var outputEl = gd.closest('.output');\n",
       "if (outputEl) {{\n",
       "    x.observe(outputEl, {childList: true});\n",
       "}}\n",
       "\n",
       "                        })\n",
       "                };\n",
       "                });\n",
       "            </script>\n",
       "        </div>"
      ]
     },
     "metadata": {},
     "output_type": "display_data"
    }
   ],
   "source": [
    "fig = SIRQt.plot(epidemic)\n",
    "sample.plot(fig)\n",
    "resisted.plot(fig)\n",
    "confirmed.plot(fig)"
   ]
  },
  {
   "cell_type": "code",
   "execution_count": null,
   "metadata": {},
   "outputs": [],
   "source": []
  },
  {
   "cell_type": "code",
   "execution_count": null,
   "metadata": {},
   "outputs": [],
   "source": []
  },
  {
   "cell_type": "code",
   "execution_count": null,
   "metadata": {},
   "outputs": [],
   "source": []
  },
  {
   "cell_type": "code",
   "execution_count": null,
   "metadata": {},
   "outputs": [],
   "source": []
  },
  {
   "cell_type": "code",
   "execution_count": null,
   "metadata": {},
   "outputs": [],
   "source": []
  },
  {
   "cell_type": "code",
   "execution_count": null,
   "metadata": {},
   "outputs": [],
   "source": []
  },
  {
   "cell_type": "code",
   "execution_count": 18,
   "metadata": {},
   "outputs": [],
   "source": [
    "def jump(x, t=0, state=0, cube=None, law=uniform, wait=10, *vargs, seed=None, **options):\n",
    "    x = np.array(x, dtype='float64')   # caution: must specify the datatype, in-place operation below\n",
    "    d = x.size\n",
    "    \n",
    "    if state is None:\n",
    "        state = 0\n",
    "        \n",
    "    if cube is None:\n",
    "        cube = inf_cube(d)\n",
    "    cube = np.array(cube)\n",
    "    \n",
    "    if not incube(x, cube):\n",
    "        raise Exception(MESSAGE)\n",
    "        \n",
    "    if seed is not None and t==0:\n",
    "        np.random.seed(seed)\n",
    "        \n",
    "    y = law(0, **extract_options(options, 'law'))\n",
    "    if state == 0:\n",
    "        if cube[0, 0] < x[0] + y < cube[0, 1]:\n",
    "            x[0] += y\n",
    "        state += 1\n",
    "    else:\n",
    "        window = int(np.random.exponential(wait))\n",
    "        stop = min(d - 1, state + window)\n",
    "        if incube(x[state:stop+1] + y, cube[state:stop+1, :]):\n",
    "            x[state:stop+1] += y\n",
    "        state = stop + 1 if stop + 1 < d else 0\n",
    "    return x, state         "
   ]
  },
  {
   "cell_type": "code",
   "execution_count": 24,
   "metadata": {},
   "outputs": [],
   "source": [
    "def jump2(x, t=0, state=0, cube=None, law=uniform, wait=5, *vargs, seed=None, **options):\n",
    "    x = np.array(x, dtype='float64')   # caution: must specify the datatype, in-place operation below\n",
    "    d = x.size\n",
    "    \n",
    "    if state is None:\n",
    "        state = 0\n",
    "        \n",
    "    if cube is None:\n",
    "        cube = inf_cube(d)\n",
    "    cube = np.array(cube)\n",
    "    \n",
    "    if not incube(x, cube):\n",
    "        raise Exception(MESSAGE)\n",
    "        \n",
    "    if seed is not None and t==0:\n",
    "        np.random.seed(seed)\n",
    "        \n",
    "    y = law(0, **extract_options(options, 'law'))\n",
    "    if state == 0:\n",
    "        if cube[0, 0] < x[0] + y < cube[0, 1]:\n",
    "            x[0] += y\n",
    "        state += 1\n",
    "    else:\n",
    "        window = int(np.random.exponential(wait))\n",
    "        stop = min(d - 1, state + window)\n",
    "        if incube(x[state] + y, cube[state:state+1, :]):\n",
    "            x[state:stop+1] = x[state] + y\n",
    "        state = stop + 1 if stop + 1 < d else 0\n",
    "    return x, state"
   ]
  },
  {
   "cell_type": "code",
   "execution_count": 68,
   "metadata": {},
   "outputs": [],
   "source": [
    "def jump3(x, t=0, state=0, cube=None, law=uniform, wait=5, *vargs, seed=None, **options):\n",
    "    x = np.array(x, dtype='float64')   # caution: must specify the datatype, in-place operation below\n",
    "    d = x.size\n",
    "    \n",
    "    if state is None:\n",
    "        state = 0\n",
    "        \n",
    "    if cube is None:\n",
    "        cube = inf_cube(d)\n",
    "    cube = np.array(cube)\n",
    "    \n",
    "    if not incube(x, cube):\n",
    "        raise Exception(MESSAGE)\n",
    "        \n",
    "    if seed is not None and t==0:\n",
    "        np.random.seed(seed)\n",
    "        \n",
    "    y = law(0, **extract_options(options, 'law'))\n",
    "    if state == 0:\n",
    "        if cube[0, 0] < x[0] + y < cube[0, 1]:\n",
    "            x[0] += y\n",
    "        state += 1\n",
    "    else:\n",
    "        window = int(np.random.exponential(wait))\n",
    "        stop = min(d - 1, state + window)\n",
    "        if incube(x[d-state] + y, cube[d-state:d-state+1, :]):\n",
    "            x[d-stop:d-state+1] = x[d-state] + y\n",
    "        state = stop + 1 if stop + 1 < d else 0\n",
    "    return x, state"
   ]
  },
  {
   "cell_type": "code",
   "execution_count": null,
   "metadata": {},
   "outputs": [],
   "source": []
  }
 ],
 "metadata": {
  "@webio": {
   "lastCommId": null,
   "lastKernelId": null
  },
  "kernelspec": {
   "display_name": "Python 3",
   "language": "python",
   "name": "python3"
  },
  "language_info": {
   "codemirror_mode": {
    "name": "ipython",
    "version": 3
   },
   "file_extension": ".py",
   "mimetype": "text/x-python",
   "name": "python",
   "nbconvert_exporter": "python",
   "pygments_lexer": "ipython3",
   "version": "3.7.3"
  }
 },
 "nbformat": 4,
 "nbformat_minor": 2
}
