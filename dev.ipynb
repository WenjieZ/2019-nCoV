{
 "cells": [
  {
   "cell_type": "code",
   "execution_count": 1,
   "metadata": {},
   "outputs": [],
   "source": [
    "from abc import ABCMeta, abstractmethod\n",
    "from collections import namedtuple\n",
    "import numpy as np\n",
    "\n",
    "import plotly.graph_objects as go \n",
    "import plotly.express as px \n",
    "import plotly.io as pio\n",
    "from plotly.subplots import make_subplots\n",
    "\n",
    "from scipy.optimize import minimize, dual_annealing"
   ]
  },
  {
   "cell_type": "code",
   "execution_count": 29,
   "metadata": {},
   "outputs": [],
   "source": [
    "import os\n",
    "from hsir import InferSIRQ, SIRQ"
   ]
  },
  {
   "cell_type": "code",
   "execution_count": 20,
   "metadata": {},
   "outputs": [],
   "source": [
    "class Law(metaclass=ABCMeta):\n",
    "    @staticmethod\n",
    "    @abstractmethod\n",
    "    def sample(n, d):\n",
    "        pass\n",
    "\n",
    "    @staticmethod\n",
    "    @abstractmethod\n",
    "    def loglikely(n, d, k):\n",
    "        pass\n",
    "   \n",
    "    @staticmethod\n",
    "    def likelihood(n, d, k):\n",
    "        return np.exp(loglikely(n, d, k))\n",
    "\n",
    "\n",
    "class Bin(Law):\n",
    "    def sample(n, d):\n",
    "        return np.random.binomial(n, d)\n",
    "    \n",
    "    def loglikely(n, d, k):\n",
    "        return k*np.log(d) + (n-k)*np.log(1-d)\n",
    "\n",
    "\n",
    "class Poi(Law):\n",
    "    def sample(n, d):\n",
    "        return np.random.poisson(n*d)\n",
    "    \n",
    "    def loglikely(n, d, k):\n",
    "        return k*np.log(n*d) - n*d # - np.sum(np.log(np.arange(k)+1))\n",
    "    \n",
    "\n",
    "class Gau(Law):\n",
    "    def sample(n, d=1):\n",
    "        return n * (1 + 0.1*np.random.randn())\n",
    "    \n",
    "    def loglikely(n, d, k):\n",
    "        return -50 * np.log(k/n)**2 "
   ]
  },
  {
   "cell_type": "code",
   "execution_count": 21,
   "metadata": {},
   "outputs": [],
   "source": [
    "def variation1(x):\n",
    "    return np.mean(np.abs(np.diff(x)))\n",
    "\n",
    "\n",
    "def variation2(x):\n",
    "    return np.sqrt(np.mean(np.diff(x)**2))\n",
    "\n",
    "\n",
    "def elastic_net(x, mu=1):\n",
    "    return (variation1(x) + mu*variation2(x)) / (1+mu)"
   ]
  },
  {
   "cell_type": "code",
   "execution_count": 22,
   "metadata": {},
   "outputs": [],
   "source": [
    "Region = namedtuple('Region', 'S I R Q')\n",
    "Epidemic = namedtuple('Epidemic', 'S I R Q')\n",
    "\n",
    "\n",
    "class Sample:\n",
    "    def __init__(self, epidemic, ts, ms, ns, law, seed=None):\n",
    "        if seed is not None:\n",
    "            np.random.seed(seed)\n",
    "        \n",
    "        positive = np.zeros_like(ts)\n",
    "        for i, (t, m, n) in enumerate(zip(ts, ms, ns)):\n",
    "            positive[i] = law.sample(n, epidemic.I[t]/m)\n",
    "            \n",
    "        self.t = ts\n",
    "        self.m = ms\n",
    "        self.n = ns\n",
    "        self.positive = positive\n",
    "        self._law = law\n",
    "        \n",
    "    def __repr__(self):\n",
    "        return \" t: {} \\n m: {} \\n n: {} \\n positive: {}\".format(self.t, self.m, self.n, self.positive)\n",
    "    \n",
    "    def plot(self, fig):\n",
    "        fig.add_scatter(\n",
    "            x=self.t, y=self.positive / self.n * self.m, \n",
    "            mode=\"markers\", marker_symbol=1, name=\"Guessed\", hovertemplate=\"%{y}\"\n",
    "        )\n",
    "        return fig\n",
    "    \n",
    "\n",
    "class Confirmed:\n",
    "    def __init__(self, epidemic, ts, law=Poi, seed=None):\n",
    "        if seed is not None:\n",
    "            np.random.seed(seed)\n",
    "        \n",
    "        c = np.zeros_like(ts)\n",
    "        for i, t in enumerate(ts):\n",
    "            c[i] = law.sample(epidemic.Q[t], 1)\n",
    "\n",
    "        self.t = ts\n",
    "        self.c = c\n",
    "        \n",
    "    def __repr__(self):\n",
    "        return \" t: {} \\n c: {}\".format(self.t, self.c)\n",
    "    \n",
    "    def plot(self, fig):\n",
    "        fig.add_scatter(\n",
    "            x=self.t, y=self.c, \n",
    "            mode=\"markers\", marker_symbol=2, name=\"Confirmed\", hovertemplate=\"%{y}\"\n",
    "        )\n",
    "        return fig"
   ]
  },
  {
   "cell_type": "code",
   "execution_count": 23,
   "metadata": {},
   "outputs": [],
   "source": [
    "class JumpProcess:\n",
    "    def __init__(self, start, amplitude, wait, horizon, seed=None):\n",
    "        if seed is not None:\n",
    "            np.random.seed(seed)\n",
    "            \n",
    "        process = np.zeros(horizon)\n",
    "        t = 0\n",
    "        while t < horizon:\n",
    "            T = int(np.random.exponential(wait))\n",
    "            process[t:t+T] = start\n",
    "            start *= (1 + np.random.choice([-1, 1]) * amplitude)\n",
    "            t += T\n",
    "            \n",
    "        self.value = process\n",
    "            \n",
    "    def plot(self, ls='hv', log=True):\n",
    "        fig = px.scatter(x=range(len(self.value)), y=self.value, hovertemplate=\"%{y}\", line_shape=ls)\n",
    "        if log:\n",
    "            fig.update_yaxes(type=\"log\")\n",
    "        return fig"
   ]
  },
  {
   "cell_type": "code",
   "execution_count": 24,
   "metadata": {},
   "outputs": [],
   "source": [
    "class SIRQt:\n",
    "    def __init__(self, beta, gamma, theta, dt=1):\n",
    "        beta = np.array(beta)\n",
    "        if np.isscalar(gamma):\n",
    "            gamma = gamma * np.ones_like(beta)\n",
    "        else:\n",
    "            gamma = np.array(gamma)\n",
    "        theta = np.array(theta)\n",
    "        if not beta.size == gamma.size == theta.size:\n",
    "            raise Exception(\"Dimensions not equal. β: {}, γ: {}, θ: {}\".format(beta.size, gamma.size, theta.size))\n",
    "            \n",
    "        self.beta = beta * dt\n",
    "        self.gamma = gamma * dt\n",
    "        self.theta = theta * dt\n",
    "    \n",
    "    def self_plot(self, ls='hv', log=False, **kvargs):\n",
    "        fig = go.Figure()\n",
    "        fig.add_scatter(x=np.arange(len(self.beta)), y=self.beta, line_shape=ls, name='β', hovertemplate=\"%{y}\")\n",
    "        fig.add_scatter(x=np.arange(len(self.gamma)), y=self.gamma, line_shape=ls, name='γ', hovertemplate=\"%{y}\")\n",
    "        fig.add_scatter(x=np.arange(len(self.theta)), y=self.theta, line_shape=ls, name='θ', hovertemplate=\"%{y}\")\n",
    "        if log:\n",
    "            fig.update_yaxes(type=\"log\")\n",
    "        return fig\n",
    "    \n",
    "    def __repr__(self):\n",
    "        self.self_plot().show()\n",
    "        return \"\"\n",
    "\n",
    "    def r0(self, control=False):\n",
    "        if control:\n",
    "            return self.beta / (self.gamma + self.theta)\n",
    "        else:\n",
    "            return self.beta / self.gamma\n",
    "        \n",
    "    def estimate(self, region, horizon=None):\n",
    "        T = self.beta.size if horizon is None else horizon\n",
    "        S = np.zeros(T+1)\n",
    "        I = np.zeros(T+1)\n",
    "        R = np.zeros(T+1)\n",
    "        Q = np.zeros(T+1)\n",
    "        S[0] = region.S\n",
    "        I[0] = region.I\n",
    "        R[0] = region.R\n",
    "        Q[0] = region.Q\n",
    "        \n",
    "        for t in range(T):\n",
    "            if t < self.beta.size:\n",
    "                beta, gamma, theta = self.beta[t], self.gamma[t], self.theta[t]\n",
    "            else:\n",
    "                beta, gamma, theta = self.beta[-1], self.gamma[-1], self.theta[-1]\n",
    "                \n",
    "            M = S[t] + I[t] + R[t] + Q[t]\n",
    "            a, b, c = beta*S[t]*I[t]/M, gamma*I[t], theta*I[t]\n",
    "            S[t+1] = S[t] - a\n",
    "            I[t+1] = I[t] + a - b - c\n",
    "            R[t+1] = R[t] + b \n",
    "            Q[t+1] = Q[t] + c\n",
    "        \n",
    "        return Epidemic(S, I, R, Q)\n",
    "    \n",
    "    @staticmethod\n",
    "    def plot(epidemic, T0=0, T=None, line=None, fig=None):\n",
    "        if fig is None:\n",
    "            fig = go.Figure()\n",
    "            fig.update_layout(margin=dict(b=0, l=0, r=0, t=25))\n",
    "        if T is None:    \n",
    "            T = epidemic.S.size - 1 + T0\n",
    "        fig.add_scatter(x=np.arange(T0, T+1), y=epidemic.S.astype(int), name=\"Susceptible\", hovertemplate=\"%{y}\")\n",
    "        fig.add_scatter(x=np.arange(T0, T+1), y=epidemic.I.astype(int), name=\"Infectious\", hovertemplate=\"%{y}\")\n",
    "        fig.add_scatter(x=np.arange(T0, T+1), y=epidemic.R.astype(int), name=\"Removed\", hovertemplate=\"%{y}\")\n",
    "        fig.add_scatter(x=np.arange(T0, T+1), y=epidemic.Q.astype(int), name=\"Quarantined\", hovertemplate=\"%{y}\")\n",
    "        return fig"
   ]
  },
  {
   "cell_type": "code",
   "execution_count": 25,
   "metadata": {},
   "outputs": [
    {
     "data": {
      "application/vnd.plotly.v1+json": {
       "config": {
        "plotlyServerURL": "https://plot.ly"
       },
       "data": [
        {
         "hovertemplate": "%{y}",
         "line": {
          "shape": "hv"
         },
         "name": "β",
         "type": "scatter",
         "x": [
          0,
          1,
          2,
          3,
          4,
          5,
          6,
          7,
          8,
          9,
          10,
          11,
          12,
          13,
          14,
          15,
          16,
          17,
          18,
          19,
          20,
          21,
          22,
          23,
          24,
          25,
          26,
          27,
          28,
          29,
          30,
          31,
          32,
          33,
          34,
          35,
          36,
          37,
          38,
          39,
          40,
          41,
          42,
          43,
          44,
          45,
          46,
          47,
          48,
          49,
          50,
          51,
          52,
          53,
          54,
          55,
          56,
          57,
          58,
          59,
          60,
          61,
          62,
          63,
          64,
          65,
          66,
          67,
          68,
          69,
          70,
          71,
          72,
          73,
          74,
          75,
          76,
          77,
          78,
          79,
          80,
          81,
          82,
          83,
          84,
          85,
          86,
          87,
          88,
          89,
          90,
          91,
          92,
          93,
          94,
          95,
          96,
          97,
          98,
          99
         ],
         "y": [
          0.15,
          0.15,
          0.15,
          0.15,
          0.15,
          0.15,
          0.15,
          0.195,
          0.195,
          0.195,
          0.195,
          0.195,
          0.195,
          0.195,
          0.195,
          0.195,
          0.195,
          0.195,
          0.195,
          0.195,
          0.195,
          0.195,
          0.195,
          0.195,
          0.195,
          0.2535,
          0.2535,
          0.2535,
          0.2535,
          0.2535,
          0.2535,
          0.2535,
          0.32955,
          0.32955,
          0.32955,
          0.32955,
          0.32955,
          0.32955,
          0.32955,
          0.32955,
          0.32955,
          0.230685,
          0.230685,
          0.230685,
          0.230685,
          0.230685,
          0.11303564999999999,
          0.11303564999999999,
          0.11303564999999999,
          0.11303564999999999,
          0.07912495499999998,
          0.07912495499999998,
          0.07912495499999998,
          0.07912495499999998,
          0.07912495499999998,
          0.07912495499999998,
          0.07912495499999998,
          0.07912495499999998,
          0.07912495499999998,
          0.07912495499999998,
          0.07912495499999998,
          0.07912495499999998,
          0.07912495499999998,
          0.07912495499999998,
          0.07912495499999998,
          0.07912495499999998,
          0.05538746849999998,
          0.05538746849999998,
          0.05538746849999998,
          0.05538746849999998,
          0.05538746849999998,
          0.05538746849999998,
          0.05538746849999998,
          0.05538746849999998,
          0.07200370904999998,
          0.07200370904999998,
          0.07200370904999998,
          0.07200370904999998,
          0.07200370904999998,
          0.07200370904999998,
          0.07200370904999998,
          0.07200370904999998,
          0.07200370904999998,
          0.07200370904999998,
          0.07200370904999998,
          0.07200370904999998,
          0.07200370904999998,
          0.07200370904999998,
          0.07200370904999998,
          0.07200370904999998,
          0.07200370904999998,
          0.07200370904999998,
          0.06552337523549998,
          0.06552337523549998,
          0.06552337523549998,
          0.06552337523549998,
          0.08518038780614998,
          0.08518038780614998,
          0.08518038780614998,
          0.08518038780614998
         ]
        },
        {
         "hovertemplate": "%{y}",
         "line": {
          "shape": "hv"
         },
         "name": "γ",
         "type": "scatter",
         "x": [
          0,
          1,
          2,
          3,
          4,
          5,
          6,
          7,
          8,
          9,
          10,
          11,
          12,
          13,
          14,
          15,
          16,
          17,
          18,
          19,
          20,
          21,
          22,
          23,
          24,
          25,
          26,
          27,
          28,
          29,
          30,
          31,
          32,
          33,
          34,
          35,
          36,
          37,
          38,
          39,
          40,
          41,
          42,
          43,
          44,
          45,
          46,
          47,
          48,
          49,
          50,
          51,
          52,
          53,
          54,
          55,
          56,
          57,
          58,
          59,
          60,
          61,
          62,
          63,
          64,
          65,
          66,
          67,
          68,
          69,
          70,
          71,
          72,
          73,
          74,
          75,
          76,
          77,
          78,
          79,
          80,
          81,
          82,
          83,
          84,
          85,
          86,
          87,
          88,
          89,
          90,
          91,
          92,
          93,
          94,
          95,
          96,
          97,
          98,
          99
         ],
         "y": [
          0.03,
          0.03,
          0.03,
          0.03,
          0.03,
          0.03,
          0.03,
          0.0303,
          0.0303,
          0.0303,
          0.0303,
          0.0303,
          0.0303,
          0.0303,
          0.0303,
          0.0303,
          0.0303,
          0.0303,
          0.0303,
          0.0303,
          0.0303,
          0.0303,
          0.0303,
          0.0303,
          0.0303,
          0.030602999999999998,
          0.030602999999999998,
          0.030602999999999998,
          0.030602999999999998,
          0.030602999999999998,
          0.030602999999999998,
          0.030602999999999998,
          0.030909029999999997,
          0.030909029999999997,
          0.030909029999999997,
          0.030909029999999997,
          0.030909029999999997,
          0.030909029999999997,
          0.030909029999999997,
          0.030909029999999997,
          0.030909029999999997,
          0.03059993969999999,
          0.03059993969999999,
          0.03059993969999999,
          0.03059993969999999,
          0.03059993969999999,
          0.029991000899969988,
          0.029991000899969988,
          0.029991000899969988,
          0.029991000899969988,
          0.02969109089097029,
          0.02969109089097029,
          0.02969109089097029,
          0.02969109089097029,
          0.02969109089097029,
          0.02969109089097029,
          0.02969109089097029,
          0.02969109089097029,
          0.02969109089097029,
          0.02969109089097029,
          0.02969109089097029,
          0.02969109089097029,
          0.02969109089097029,
          0.02969109089097029,
          0.02969109089097029,
          0.02969109089097029,
          0.02939417998206059,
          0.02939417998206059,
          0.02939417998206059,
          0.02939417998206059,
          0.02939417998206059,
          0.02939417998206059,
          0.02939417998206059,
          0.02939417998206059,
          0.029688121781881193,
          0.029688121781881193,
          0.029688121781881193,
          0.029688121781881193,
          0.029688121781881193,
          0.029688121781881193,
          0.029688121781881193,
          0.029688121781881193,
          0.029688121781881193,
          0.029688121781881193,
          0.029688121781881193,
          0.029688121781881193,
          0.029688121781881193,
          0.029688121781881193,
          0.029688121781881193,
          0.029688121781881193,
          0.029688121781881193,
          0.029688121781881193,
          0.029685152969703005,
          0.029685152969703005,
          0.029685152969703005,
          0.029685152969703005,
          0.029982004499400035,
          0.029982004499400035,
          0.029982004499400035,
          0.029982004499400035
         ]
        },
        {
         "hovertemplate": "%{y}",
         "line": {
          "shape": "hv"
         },
         "name": "θ",
         "type": "scatter",
         "x": [
          0,
          1,
          2,
          3,
          4,
          5,
          6,
          7,
          8,
          9,
          10,
          11,
          12,
          13,
          14,
          15,
          16,
          17,
          18,
          19,
          20,
          21,
          22,
          23,
          24,
          25,
          26,
          27,
          28,
          29,
          30,
          31,
          32,
          33,
          34,
          35,
          36,
          37,
          38,
          39,
          40,
          41,
          42,
          43,
          44,
          45,
          46,
          47,
          48,
          49,
          50,
          51,
          52,
          53,
          54,
          55,
          56,
          57,
          58,
          59,
          60,
          61,
          62,
          63,
          64,
          65,
          66,
          67,
          68,
          69,
          70,
          71,
          72,
          73,
          74,
          75,
          76,
          77,
          78,
          79,
          80,
          81,
          82,
          83,
          84,
          85,
          86,
          87,
          88,
          89,
          90,
          91,
          92,
          93,
          94,
          95,
          96,
          97,
          98,
          99
         ],
         "y": [
          0.06,
          0.06,
          0.06,
          0.06,
          0.06,
          0.06,
          0.06,
          0.06,
          0.06,
          0.06,
          0.048,
          0.048,
          0.048,
          0.048,
          0.048,
          0.048,
          0.048,
          0.048,
          0.048,
          0.048,
          0.048,
          0.048,
          0.048,
          0.048,
          0.048,
          0.048,
          0.048,
          0.048,
          0.048,
          0.048,
          0.048,
          0.048,
          0.048,
          0.048,
          0.048,
          0.048,
          0.048,
          0.048,
          0.048,
          0.048,
          0.048,
          0.048,
          0.048,
          0.048,
          0.048,
          0.048,
          0.048,
          0.048,
          0.048,
          0.048,
          0.048,
          0.048,
          0.048,
          0.048,
          0.048,
          0.048,
          0.048,
          0.048,
          0.048,
          0.048,
          0.048,
          0.048,
          0.048,
          0.0576,
          0.0576,
          0.0576,
          0.0576,
          0.0576,
          0.0576,
          0.0576,
          0.06911999999999999,
          0.06911999999999999,
          0.06911999999999999,
          0.06911999999999999,
          0.06911999999999999,
          0.08294399999999999,
          0.08294399999999999,
          0.08294399999999999,
          0.08294399999999999,
          0.09953279999999998,
          0.09953279999999998,
          0.09953279999999998,
          0.09953279999999998,
          0.09953279999999998,
          0.09953279999999998,
          0.09953279999999998,
          0.09953279999999998,
          0.09953279999999998,
          0.09953279999999998,
          0.09953279999999998,
          0.09953279999999998,
          0.09953279999999998,
          0.09953279999999998,
          0.09953279999999998,
          0.09953279999999998,
          0.09953279999999998,
          0.09953279999999998,
          0.09953279999999998,
          0.09953279999999998,
          0.09953279999999998
         ]
        }
       ],
       "layout": {
        "template": {
         "data": {
          "bar": [
           {
            "error_x": {
             "color": "#2a3f5f"
            },
            "error_y": {
             "color": "#2a3f5f"
            },
            "marker": {
             "line": {
              "color": "#E5ECF6",
              "width": 0.5
             }
            },
            "type": "bar"
           }
          ],
          "barpolar": [
           {
            "marker": {
             "line": {
              "color": "#E5ECF6",
              "width": 0.5
             }
            },
            "type": "barpolar"
           }
          ],
          "carpet": [
           {
            "aaxis": {
             "endlinecolor": "#2a3f5f",
             "gridcolor": "white",
             "linecolor": "white",
             "minorgridcolor": "white",
             "startlinecolor": "#2a3f5f"
            },
            "baxis": {
             "endlinecolor": "#2a3f5f",
             "gridcolor": "white",
             "linecolor": "white",
             "minorgridcolor": "white",
             "startlinecolor": "#2a3f5f"
            },
            "type": "carpet"
           }
          ],
          "choropleth": [
           {
            "colorbar": {
             "outlinewidth": 0,
             "ticks": ""
            },
            "type": "choropleth"
           }
          ],
          "contour": [
           {
            "colorbar": {
             "outlinewidth": 0,
             "ticks": ""
            },
            "colorscale": [
             [
              0,
              "#0d0887"
             ],
             [
              0.1111111111111111,
              "#46039f"
             ],
             [
              0.2222222222222222,
              "#7201a8"
             ],
             [
              0.3333333333333333,
              "#9c179e"
             ],
             [
              0.4444444444444444,
              "#bd3786"
             ],
             [
              0.5555555555555556,
              "#d8576b"
             ],
             [
              0.6666666666666666,
              "#ed7953"
             ],
             [
              0.7777777777777778,
              "#fb9f3a"
             ],
             [
              0.8888888888888888,
              "#fdca26"
             ],
             [
              1,
              "#f0f921"
             ]
            ],
            "type": "contour"
           }
          ],
          "contourcarpet": [
           {
            "colorbar": {
             "outlinewidth": 0,
             "ticks": ""
            },
            "type": "contourcarpet"
           }
          ],
          "heatmap": [
           {
            "colorbar": {
             "outlinewidth": 0,
             "ticks": ""
            },
            "colorscale": [
             [
              0,
              "#0d0887"
             ],
             [
              0.1111111111111111,
              "#46039f"
             ],
             [
              0.2222222222222222,
              "#7201a8"
             ],
             [
              0.3333333333333333,
              "#9c179e"
             ],
             [
              0.4444444444444444,
              "#bd3786"
             ],
             [
              0.5555555555555556,
              "#d8576b"
             ],
             [
              0.6666666666666666,
              "#ed7953"
             ],
             [
              0.7777777777777778,
              "#fb9f3a"
             ],
             [
              0.8888888888888888,
              "#fdca26"
             ],
             [
              1,
              "#f0f921"
             ]
            ],
            "type": "heatmap"
           }
          ],
          "heatmapgl": [
           {
            "colorbar": {
             "outlinewidth": 0,
             "ticks": ""
            },
            "colorscale": [
             [
              0,
              "#0d0887"
             ],
             [
              0.1111111111111111,
              "#46039f"
             ],
             [
              0.2222222222222222,
              "#7201a8"
             ],
             [
              0.3333333333333333,
              "#9c179e"
             ],
             [
              0.4444444444444444,
              "#bd3786"
             ],
             [
              0.5555555555555556,
              "#d8576b"
             ],
             [
              0.6666666666666666,
              "#ed7953"
             ],
             [
              0.7777777777777778,
              "#fb9f3a"
             ],
             [
              0.8888888888888888,
              "#fdca26"
             ],
             [
              1,
              "#f0f921"
             ]
            ],
            "type": "heatmapgl"
           }
          ],
          "histogram": [
           {
            "marker": {
             "colorbar": {
              "outlinewidth": 0,
              "ticks": ""
             }
            },
            "type": "histogram"
           }
          ],
          "histogram2d": [
           {
            "colorbar": {
             "outlinewidth": 0,
             "ticks": ""
            },
            "colorscale": [
             [
              0,
              "#0d0887"
             ],
             [
              0.1111111111111111,
              "#46039f"
             ],
             [
              0.2222222222222222,
              "#7201a8"
             ],
             [
              0.3333333333333333,
              "#9c179e"
             ],
             [
              0.4444444444444444,
              "#bd3786"
             ],
             [
              0.5555555555555556,
              "#d8576b"
             ],
             [
              0.6666666666666666,
              "#ed7953"
             ],
             [
              0.7777777777777778,
              "#fb9f3a"
             ],
             [
              0.8888888888888888,
              "#fdca26"
             ],
             [
              1,
              "#f0f921"
             ]
            ],
            "type": "histogram2d"
           }
          ],
          "histogram2dcontour": [
           {
            "colorbar": {
             "outlinewidth": 0,
             "ticks": ""
            },
            "colorscale": [
             [
              0,
              "#0d0887"
             ],
             [
              0.1111111111111111,
              "#46039f"
             ],
             [
              0.2222222222222222,
              "#7201a8"
             ],
             [
              0.3333333333333333,
              "#9c179e"
             ],
             [
              0.4444444444444444,
              "#bd3786"
             ],
             [
              0.5555555555555556,
              "#d8576b"
             ],
             [
              0.6666666666666666,
              "#ed7953"
             ],
             [
              0.7777777777777778,
              "#fb9f3a"
             ],
             [
              0.8888888888888888,
              "#fdca26"
             ],
             [
              1,
              "#f0f921"
             ]
            ],
            "type": "histogram2dcontour"
           }
          ],
          "mesh3d": [
           {
            "colorbar": {
             "outlinewidth": 0,
             "ticks": ""
            },
            "type": "mesh3d"
           }
          ],
          "parcoords": [
           {
            "line": {
             "colorbar": {
              "outlinewidth": 0,
              "ticks": ""
             }
            },
            "type": "parcoords"
           }
          ],
          "pie": [
           {
            "automargin": true,
            "type": "pie"
           }
          ],
          "scatter": [
           {
            "marker": {
             "colorbar": {
              "outlinewidth": 0,
              "ticks": ""
             }
            },
            "type": "scatter"
           }
          ],
          "scatter3d": [
           {
            "line": {
             "colorbar": {
              "outlinewidth": 0,
              "ticks": ""
             }
            },
            "marker": {
             "colorbar": {
              "outlinewidth": 0,
              "ticks": ""
             }
            },
            "type": "scatter3d"
           }
          ],
          "scattercarpet": [
           {
            "marker": {
             "colorbar": {
              "outlinewidth": 0,
              "ticks": ""
             }
            },
            "type": "scattercarpet"
           }
          ],
          "scattergeo": [
           {
            "marker": {
             "colorbar": {
              "outlinewidth": 0,
              "ticks": ""
             }
            },
            "type": "scattergeo"
           }
          ],
          "scattergl": [
           {
            "marker": {
             "colorbar": {
              "outlinewidth": 0,
              "ticks": ""
             }
            },
            "type": "scattergl"
           }
          ],
          "scattermapbox": [
           {
            "marker": {
             "colorbar": {
              "outlinewidth": 0,
              "ticks": ""
             }
            },
            "type": "scattermapbox"
           }
          ],
          "scatterpolar": [
           {
            "marker": {
             "colorbar": {
              "outlinewidth": 0,
              "ticks": ""
             }
            },
            "type": "scatterpolar"
           }
          ],
          "scatterpolargl": [
           {
            "marker": {
             "colorbar": {
              "outlinewidth": 0,
              "ticks": ""
             }
            },
            "type": "scatterpolargl"
           }
          ],
          "scatterternary": [
           {
            "marker": {
             "colorbar": {
              "outlinewidth": 0,
              "ticks": ""
             }
            },
            "type": "scatterternary"
           }
          ],
          "surface": [
           {
            "colorbar": {
             "outlinewidth": 0,
             "ticks": ""
            },
            "colorscale": [
             [
              0,
              "#0d0887"
             ],
             [
              0.1111111111111111,
              "#46039f"
             ],
             [
              0.2222222222222222,
              "#7201a8"
             ],
             [
              0.3333333333333333,
              "#9c179e"
             ],
             [
              0.4444444444444444,
              "#bd3786"
             ],
             [
              0.5555555555555556,
              "#d8576b"
             ],
             [
              0.6666666666666666,
              "#ed7953"
             ],
             [
              0.7777777777777778,
              "#fb9f3a"
             ],
             [
              0.8888888888888888,
              "#fdca26"
             ],
             [
              1,
              "#f0f921"
             ]
            ],
            "type": "surface"
           }
          ],
          "table": [
           {
            "cells": {
             "fill": {
              "color": "#EBF0F8"
             },
             "line": {
              "color": "white"
             }
            },
            "header": {
             "fill": {
              "color": "#C8D4E3"
             },
             "line": {
              "color": "white"
             }
            },
            "type": "table"
           }
          ]
         },
         "layout": {
          "annotationdefaults": {
           "arrowcolor": "#2a3f5f",
           "arrowhead": 0,
           "arrowwidth": 1
          },
          "coloraxis": {
           "colorbar": {
            "outlinewidth": 0,
            "ticks": ""
           }
          },
          "colorscale": {
           "diverging": [
            [
             0,
             "#8e0152"
            ],
            [
             0.1,
             "#c51b7d"
            ],
            [
             0.2,
             "#de77ae"
            ],
            [
             0.3,
             "#f1b6da"
            ],
            [
             0.4,
             "#fde0ef"
            ],
            [
             0.5,
             "#f7f7f7"
            ],
            [
             0.6,
             "#e6f5d0"
            ],
            [
             0.7,
             "#b8e186"
            ],
            [
             0.8,
             "#7fbc41"
            ],
            [
             0.9,
             "#4d9221"
            ],
            [
             1,
             "#276419"
            ]
           ],
           "sequential": [
            [
             0,
             "#0d0887"
            ],
            [
             0.1111111111111111,
             "#46039f"
            ],
            [
             0.2222222222222222,
             "#7201a8"
            ],
            [
             0.3333333333333333,
             "#9c179e"
            ],
            [
             0.4444444444444444,
             "#bd3786"
            ],
            [
             0.5555555555555556,
             "#d8576b"
            ],
            [
             0.6666666666666666,
             "#ed7953"
            ],
            [
             0.7777777777777778,
             "#fb9f3a"
            ],
            [
             0.8888888888888888,
             "#fdca26"
            ],
            [
             1,
             "#f0f921"
            ]
           ],
           "sequentialminus": [
            [
             0,
             "#0d0887"
            ],
            [
             0.1111111111111111,
             "#46039f"
            ],
            [
             0.2222222222222222,
             "#7201a8"
            ],
            [
             0.3333333333333333,
             "#9c179e"
            ],
            [
             0.4444444444444444,
             "#bd3786"
            ],
            [
             0.5555555555555556,
             "#d8576b"
            ],
            [
             0.6666666666666666,
             "#ed7953"
            ],
            [
             0.7777777777777778,
             "#fb9f3a"
            ],
            [
             0.8888888888888888,
             "#fdca26"
            ],
            [
             1,
             "#f0f921"
            ]
           ]
          },
          "colorway": [
           "#636efa",
           "#EF553B",
           "#00cc96",
           "#ab63fa",
           "#FFA15A",
           "#19d3f3",
           "#FF6692",
           "#B6E880",
           "#FF97FF",
           "#FECB52"
          ],
          "font": {
           "color": "#2a3f5f"
          },
          "geo": {
           "bgcolor": "white",
           "lakecolor": "white",
           "landcolor": "#E5ECF6",
           "showlakes": true,
           "showland": true,
           "subunitcolor": "white"
          },
          "hoverlabel": {
           "align": "left"
          },
          "hovermode": "closest",
          "mapbox": {
           "style": "light"
          },
          "paper_bgcolor": "white",
          "plot_bgcolor": "#E5ECF6",
          "polar": {
           "angularaxis": {
            "gridcolor": "white",
            "linecolor": "white",
            "ticks": ""
           },
           "bgcolor": "#E5ECF6",
           "radialaxis": {
            "gridcolor": "white",
            "linecolor": "white",
            "ticks": ""
           }
          },
          "scene": {
           "xaxis": {
            "backgroundcolor": "#E5ECF6",
            "gridcolor": "white",
            "gridwidth": 2,
            "linecolor": "white",
            "showbackground": true,
            "ticks": "",
            "zerolinecolor": "white"
           },
           "yaxis": {
            "backgroundcolor": "#E5ECF6",
            "gridcolor": "white",
            "gridwidth": 2,
            "linecolor": "white",
            "showbackground": true,
            "ticks": "",
            "zerolinecolor": "white"
           },
           "zaxis": {
            "backgroundcolor": "#E5ECF6",
            "gridcolor": "white",
            "gridwidth": 2,
            "linecolor": "white",
            "showbackground": true,
            "ticks": "",
            "zerolinecolor": "white"
           }
          },
          "shapedefaults": {
           "line": {
            "color": "#2a3f5f"
           }
          },
          "ternary": {
           "aaxis": {
            "gridcolor": "white",
            "linecolor": "white",
            "ticks": ""
           },
           "baxis": {
            "gridcolor": "white",
            "linecolor": "white",
            "ticks": ""
           },
           "bgcolor": "#E5ECF6",
           "caxis": {
            "gridcolor": "white",
            "linecolor": "white",
            "ticks": ""
           }
          },
          "title": {
           "x": 0.05
          },
          "xaxis": {
           "automargin": true,
           "gridcolor": "white",
           "linecolor": "white",
           "ticks": "",
           "title": {
            "standoff": 15
           },
           "zerolinecolor": "white",
           "zerolinewidth": 2
          },
          "yaxis": {
           "automargin": true,
           "gridcolor": "white",
           "linecolor": "white",
           "ticks": "",
           "title": {
            "standoff": 15
           },
           "zerolinecolor": "white",
           "zerolinewidth": 2
          }
         }
        }
       }
      },
      "text/html": [
       "<div>\n",
       "        \n",
       "        \n",
       "            <div id=\"5f78acb5-5e67-4d7a-afbf-ea008bef56ca\" class=\"plotly-graph-div\" style=\"height:525px; width:100%;\"></div>\n",
       "            <script type=\"text/javascript\">\n",
       "                require([\"plotly\"], function(Plotly) {\n",
       "                    window.PLOTLYENV=window.PLOTLYENV || {};\n",
       "                    \n",
       "                if (document.getElementById(\"5f78acb5-5e67-4d7a-afbf-ea008bef56ca\")) {\n",
       "                    Plotly.newPlot(\n",
       "                        '5f78acb5-5e67-4d7a-afbf-ea008bef56ca',\n",
       "                        [{\"hovertemplate\": \"%{y}\", \"line\": {\"shape\": \"hv\"}, \"name\": \"\\u03b2\", \"type\": \"scatter\", \"x\": [0, 1, 2, 3, 4, 5, 6, 7, 8, 9, 10, 11, 12, 13, 14, 15, 16, 17, 18, 19, 20, 21, 22, 23, 24, 25, 26, 27, 28, 29, 30, 31, 32, 33, 34, 35, 36, 37, 38, 39, 40, 41, 42, 43, 44, 45, 46, 47, 48, 49, 50, 51, 52, 53, 54, 55, 56, 57, 58, 59, 60, 61, 62, 63, 64, 65, 66, 67, 68, 69, 70, 71, 72, 73, 74, 75, 76, 77, 78, 79, 80, 81, 82, 83, 84, 85, 86, 87, 88, 89, 90, 91, 92, 93, 94, 95, 96, 97, 98, 99], \"y\": [0.15, 0.15, 0.15, 0.15, 0.15, 0.15, 0.15, 0.195, 0.195, 0.195, 0.195, 0.195, 0.195, 0.195, 0.195, 0.195, 0.195, 0.195, 0.195, 0.195, 0.195, 0.195, 0.195, 0.195, 0.195, 0.2535, 0.2535, 0.2535, 0.2535, 0.2535, 0.2535, 0.2535, 0.32955, 0.32955, 0.32955, 0.32955, 0.32955, 0.32955, 0.32955, 0.32955, 0.32955, 0.230685, 0.230685, 0.230685, 0.230685, 0.230685, 0.11303564999999999, 0.11303564999999999, 0.11303564999999999, 0.11303564999999999, 0.07912495499999998, 0.07912495499999998, 0.07912495499999998, 0.07912495499999998, 0.07912495499999998, 0.07912495499999998, 0.07912495499999998, 0.07912495499999998, 0.07912495499999998, 0.07912495499999998, 0.07912495499999998, 0.07912495499999998, 0.07912495499999998, 0.07912495499999998, 0.07912495499999998, 0.07912495499999998, 0.05538746849999998, 0.05538746849999998, 0.05538746849999998, 0.05538746849999998, 0.05538746849999998, 0.05538746849999998, 0.05538746849999998, 0.05538746849999998, 0.07200370904999998, 0.07200370904999998, 0.07200370904999998, 0.07200370904999998, 0.07200370904999998, 0.07200370904999998, 0.07200370904999998, 0.07200370904999998, 0.07200370904999998, 0.07200370904999998, 0.07200370904999998, 0.07200370904999998, 0.07200370904999998, 0.07200370904999998, 0.07200370904999998, 0.07200370904999998, 0.07200370904999998, 0.07200370904999998, 0.06552337523549998, 0.06552337523549998, 0.06552337523549998, 0.06552337523549998, 0.08518038780614998, 0.08518038780614998, 0.08518038780614998, 0.08518038780614998]}, {\"hovertemplate\": \"%{y}\", \"line\": {\"shape\": \"hv\"}, \"name\": \"\\u03b3\", \"type\": \"scatter\", \"x\": [0, 1, 2, 3, 4, 5, 6, 7, 8, 9, 10, 11, 12, 13, 14, 15, 16, 17, 18, 19, 20, 21, 22, 23, 24, 25, 26, 27, 28, 29, 30, 31, 32, 33, 34, 35, 36, 37, 38, 39, 40, 41, 42, 43, 44, 45, 46, 47, 48, 49, 50, 51, 52, 53, 54, 55, 56, 57, 58, 59, 60, 61, 62, 63, 64, 65, 66, 67, 68, 69, 70, 71, 72, 73, 74, 75, 76, 77, 78, 79, 80, 81, 82, 83, 84, 85, 86, 87, 88, 89, 90, 91, 92, 93, 94, 95, 96, 97, 98, 99], \"y\": [0.03, 0.03, 0.03, 0.03, 0.03, 0.03, 0.03, 0.0303, 0.0303, 0.0303, 0.0303, 0.0303, 0.0303, 0.0303, 0.0303, 0.0303, 0.0303, 0.0303, 0.0303, 0.0303, 0.0303, 0.0303, 0.0303, 0.0303, 0.0303, 0.030602999999999998, 0.030602999999999998, 0.030602999999999998, 0.030602999999999998, 0.030602999999999998, 0.030602999999999998, 0.030602999999999998, 0.030909029999999997, 0.030909029999999997, 0.030909029999999997, 0.030909029999999997, 0.030909029999999997, 0.030909029999999997, 0.030909029999999997, 0.030909029999999997, 0.030909029999999997, 0.03059993969999999, 0.03059993969999999, 0.03059993969999999, 0.03059993969999999, 0.03059993969999999, 0.029991000899969988, 0.029991000899969988, 0.029991000899969988, 0.029991000899969988, 0.02969109089097029, 0.02969109089097029, 0.02969109089097029, 0.02969109089097029, 0.02969109089097029, 0.02969109089097029, 0.02969109089097029, 0.02969109089097029, 0.02969109089097029, 0.02969109089097029, 0.02969109089097029, 0.02969109089097029, 0.02969109089097029, 0.02969109089097029, 0.02969109089097029, 0.02969109089097029, 0.02939417998206059, 0.02939417998206059, 0.02939417998206059, 0.02939417998206059, 0.02939417998206059, 0.02939417998206059, 0.02939417998206059, 0.02939417998206059, 0.029688121781881193, 0.029688121781881193, 0.029688121781881193, 0.029688121781881193, 0.029688121781881193, 0.029688121781881193, 0.029688121781881193, 0.029688121781881193, 0.029688121781881193, 0.029688121781881193, 0.029688121781881193, 0.029688121781881193, 0.029688121781881193, 0.029688121781881193, 0.029688121781881193, 0.029688121781881193, 0.029688121781881193, 0.029688121781881193, 0.029685152969703005, 0.029685152969703005, 0.029685152969703005, 0.029685152969703005, 0.029982004499400035, 0.029982004499400035, 0.029982004499400035, 0.029982004499400035]}, {\"hovertemplate\": \"%{y}\", \"line\": {\"shape\": \"hv\"}, \"name\": \"\\u03b8\", \"type\": \"scatter\", \"x\": [0, 1, 2, 3, 4, 5, 6, 7, 8, 9, 10, 11, 12, 13, 14, 15, 16, 17, 18, 19, 20, 21, 22, 23, 24, 25, 26, 27, 28, 29, 30, 31, 32, 33, 34, 35, 36, 37, 38, 39, 40, 41, 42, 43, 44, 45, 46, 47, 48, 49, 50, 51, 52, 53, 54, 55, 56, 57, 58, 59, 60, 61, 62, 63, 64, 65, 66, 67, 68, 69, 70, 71, 72, 73, 74, 75, 76, 77, 78, 79, 80, 81, 82, 83, 84, 85, 86, 87, 88, 89, 90, 91, 92, 93, 94, 95, 96, 97, 98, 99], \"y\": [0.06, 0.06, 0.06, 0.06, 0.06, 0.06, 0.06, 0.06, 0.06, 0.06, 0.048, 0.048, 0.048, 0.048, 0.048, 0.048, 0.048, 0.048, 0.048, 0.048, 0.048, 0.048, 0.048, 0.048, 0.048, 0.048, 0.048, 0.048, 0.048, 0.048, 0.048, 0.048, 0.048, 0.048, 0.048, 0.048, 0.048, 0.048, 0.048, 0.048, 0.048, 0.048, 0.048, 0.048, 0.048, 0.048, 0.048, 0.048, 0.048, 0.048, 0.048, 0.048, 0.048, 0.048, 0.048, 0.048, 0.048, 0.048, 0.048, 0.048, 0.048, 0.048, 0.048, 0.0576, 0.0576, 0.0576, 0.0576, 0.0576, 0.0576, 0.0576, 0.06911999999999999, 0.06911999999999999, 0.06911999999999999, 0.06911999999999999, 0.06911999999999999, 0.08294399999999999, 0.08294399999999999, 0.08294399999999999, 0.08294399999999999, 0.09953279999999998, 0.09953279999999998, 0.09953279999999998, 0.09953279999999998, 0.09953279999999998, 0.09953279999999998, 0.09953279999999998, 0.09953279999999998, 0.09953279999999998, 0.09953279999999998, 0.09953279999999998, 0.09953279999999998, 0.09953279999999998, 0.09953279999999998, 0.09953279999999998, 0.09953279999999998, 0.09953279999999998, 0.09953279999999998, 0.09953279999999998, 0.09953279999999998, 0.09953279999999998]}],\n",
       "                        {\"template\": {\"data\": {\"bar\": [{\"error_x\": {\"color\": \"#2a3f5f\"}, \"error_y\": {\"color\": \"#2a3f5f\"}, \"marker\": {\"line\": {\"color\": \"#E5ECF6\", \"width\": 0.5}}, \"type\": \"bar\"}], \"barpolar\": [{\"marker\": {\"line\": {\"color\": \"#E5ECF6\", \"width\": 0.5}}, \"type\": \"barpolar\"}], \"carpet\": [{\"aaxis\": {\"endlinecolor\": \"#2a3f5f\", \"gridcolor\": \"white\", \"linecolor\": \"white\", \"minorgridcolor\": \"white\", \"startlinecolor\": \"#2a3f5f\"}, \"baxis\": {\"endlinecolor\": \"#2a3f5f\", \"gridcolor\": \"white\", \"linecolor\": \"white\", \"minorgridcolor\": \"white\", \"startlinecolor\": \"#2a3f5f\"}, \"type\": \"carpet\"}], \"choropleth\": [{\"colorbar\": {\"outlinewidth\": 0, \"ticks\": \"\"}, \"type\": \"choropleth\"}], \"contour\": [{\"colorbar\": {\"outlinewidth\": 0, \"ticks\": \"\"}, \"colorscale\": [[0.0, \"#0d0887\"], [0.1111111111111111, \"#46039f\"], [0.2222222222222222, \"#7201a8\"], [0.3333333333333333, \"#9c179e\"], [0.4444444444444444, \"#bd3786\"], [0.5555555555555556, \"#d8576b\"], [0.6666666666666666, \"#ed7953\"], [0.7777777777777778, \"#fb9f3a\"], [0.8888888888888888, \"#fdca26\"], [1.0, \"#f0f921\"]], \"type\": \"contour\"}], \"contourcarpet\": [{\"colorbar\": {\"outlinewidth\": 0, \"ticks\": \"\"}, \"type\": \"contourcarpet\"}], \"heatmap\": [{\"colorbar\": {\"outlinewidth\": 0, \"ticks\": \"\"}, \"colorscale\": [[0.0, \"#0d0887\"], [0.1111111111111111, \"#46039f\"], [0.2222222222222222, \"#7201a8\"], [0.3333333333333333, \"#9c179e\"], [0.4444444444444444, \"#bd3786\"], [0.5555555555555556, \"#d8576b\"], [0.6666666666666666, \"#ed7953\"], [0.7777777777777778, \"#fb9f3a\"], [0.8888888888888888, \"#fdca26\"], [1.0, \"#f0f921\"]], \"type\": \"heatmap\"}], \"heatmapgl\": [{\"colorbar\": {\"outlinewidth\": 0, \"ticks\": \"\"}, \"colorscale\": [[0.0, \"#0d0887\"], [0.1111111111111111, \"#46039f\"], [0.2222222222222222, \"#7201a8\"], [0.3333333333333333, \"#9c179e\"], [0.4444444444444444, \"#bd3786\"], [0.5555555555555556, \"#d8576b\"], [0.6666666666666666, \"#ed7953\"], [0.7777777777777778, \"#fb9f3a\"], [0.8888888888888888, \"#fdca26\"], [1.0, \"#f0f921\"]], \"type\": \"heatmapgl\"}], \"histogram\": [{\"marker\": {\"colorbar\": {\"outlinewidth\": 0, \"ticks\": \"\"}}, \"type\": \"histogram\"}], \"histogram2d\": [{\"colorbar\": {\"outlinewidth\": 0, \"ticks\": \"\"}, \"colorscale\": [[0.0, \"#0d0887\"], [0.1111111111111111, \"#46039f\"], [0.2222222222222222, \"#7201a8\"], [0.3333333333333333, \"#9c179e\"], [0.4444444444444444, \"#bd3786\"], [0.5555555555555556, \"#d8576b\"], [0.6666666666666666, \"#ed7953\"], [0.7777777777777778, \"#fb9f3a\"], [0.8888888888888888, \"#fdca26\"], [1.0, \"#f0f921\"]], \"type\": \"histogram2d\"}], \"histogram2dcontour\": [{\"colorbar\": {\"outlinewidth\": 0, \"ticks\": \"\"}, \"colorscale\": [[0.0, \"#0d0887\"], [0.1111111111111111, \"#46039f\"], [0.2222222222222222, \"#7201a8\"], [0.3333333333333333, \"#9c179e\"], [0.4444444444444444, \"#bd3786\"], [0.5555555555555556, \"#d8576b\"], [0.6666666666666666, \"#ed7953\"], [0.7777777777777778, \"#fb9f3a\"], [0.8888888888888888, \"#fdca26\"], [1.0, \"#f0f921\"]], \"type\": \"histogram2dcontour\"}], \"mesh3d\": [{\"colorbar\": {\"outlinewidth\": 0, \"ticks\": \"\"}, \"type\": \"mesh3d\"}], \"parcoords\": [{\"line\": {\"colorbar\": {\"outlinewidth\": 0, \"ticks\": \"\"}}, \"type\": \"parcoords\"}], \"pie\": [{\"automargin\": true, \"type\": \"pie\"}], \"scatter\": [{\"marker\": {\"colorbar\": {\"outlinewidth\": 0, \"ticks\": \"\"}}, \"type\": \"scatter\"}], \"scatter3d\": [{\"line\": {\"colorbar\": {\"outlinewidth\": 0, \"ticks\": \"\"}}, \"marker\": {\"colorbar\": {\"outlinewidth\": 0, \"ticks\": \"\"}}, \"type\": \"scatter3d\"}], \"scattercarpet\": [{\"marker\": {\"colorbar\": {\"outlinewidth\": 0, \"ticks\": \"\"}}, \"type\": \"scattercarpet\"}], \"scattergeo\": [{\"marker\": {\"colorbar\": {\"outlinewidth\": 0, \"ticks\": \"\"}}, \"type\": \"scattergeo\"}], \"scattergl\": [{\"marker\": {\"colorbar\": {\"outlinewidth\": 0, \"ticks\": \"\"}}, \"type\": \"scattergl\"}], \"scattermapbox\": [{\"marker\": {\"colorbar\": {\"outlinewidth\": 0, \"ticks\": \"\"}}, \"type\": \"scattermapbox\"}], \"scatterpolar\": [{\"marker\": {\"colorbar\": {\"outlinewidth\": 0, \"ticks\": \"\"}}, \"type\": \"scatterpolar\"}], \"scatterpolargl\": [{\"marker\": {\"colorbar\": {\"outlinewidth\": 0, \"ticks\": \"\"}}, \"type\": \"scatterpolargl\"}], \"scatterternary\": [{\"marker\": {\"colorbar\": {\"outlinewidth\": 0, \"ticks\": \"\"}}, \"type\": \"scatterternary\"}], \"surface\": [{\"colorbar\": {\"outlinewidth\": 0, \"ticks\": \"\"}, \"colorscale\": [[0.0, \"#0d0887\"], [0.1111111111111111, \"#46039f\"], [0.2222222222222222, \"#7201a8\"], [0.3333333333333333, \"#9c179e\"], [0.4444444444444444, \"#bd3786\"], [0.5555555555555556, \"#d8576b\"], [0.6666666666666666, \"#ed7953\"], [0.7777777777777778, \"#fb9f3a\"], [0.8888888888888888, \"#fdca26\"], [1.0, \"#f0f921\"]], \"type\": \"surface\"}], \"table\": [{\"cells\": {\"fill\": {\"color\": \"#EBF0F8\"}, \"line\": {\"color\": \"white\"}}, \"header\": {\"fill\": {\"color\": \"#C8D4E3\"}, \"line\": {\"color\": \"white\"}}, \"type\": \"table\"}]}, \"layout\": {\"annotationdefaults\": {\"arrowcolor\": \"#2a3f5f\", \"arrowhead\": 0, \"arrowwidth\": 1}, \"coloraxis\": {\"colorbar\": {\"outlinewidth\": 0, \"ticks\": \"\"}}, \"colorscale\": {\"diverging\": [[0, \"#8e0152\"], [0.1, \"#c51b7d\"], [0.2, \"#de77ae\"], [0.3, \"#f1b6da\"], [0.4, \"#fde0ef\"], [0.5, \"#f7f7f7\"], [0.6, \"#e6f5d0\"], [0.7, \"#b8e186\"], [0.8, \"#7fbc41\"], [0.9, \"#4d9221\"], [1, \"#276419\"]], \"sequential\": [[0.0, \"#0d0887\"], [0.1111111111111111, \"#46039f\"], [0.2222222222222222, \"#7201a8\"], [0.3333333333333333, \"#9c179e\"], [0.4444444444444444, \"#bd3786\"], [0.5555555555555556, \"#d8576b\"], [0.6666666666666666, \"#ed7953\"], [0.7777777777777778, \"#fb9f3a\"], [0.8888888888888888, \"#fdca26\"], [1.0, \"#f0f921\"]], \"sequentialminus\": [[0.0, \"#0d0887\"], [0.1111111111111111, \"#46039f\"], [0.2222222222222222, \"#7201a8\"], [0.3333333333333333, \"#9c179e\"], [0.4444444444444444, \"#bd3786\"], [0.5555555555555556, \"#d8576b\"], [0.6666666666666666, \"#ed7953\"], [0.7777777777777778, \"#fb9f3a\"], [0.8888888888888888, \"#fdca26\"], [1.0, \"#f0f921\"]]}, \"colorway\": [\"#636efa\", \"#EF553B\", \"#00cc96\", \"#ab63fa\", \"#FFA15A\", \"#19d3f3\", \"#FF6692\", \"#B6E880\", \"#FF97FF\", \"#FECB52\"], \"font\": {\"color\": \"#2a3f5f\"}, \"geo\": {\"bgcolor\": \"white\", \"lakecolor\": \"white\", \"landcolor\": \"#E5ECF6\", \"showlakes\": true, \"showland\": true, \"subunitcolor\": \"white\"}, \"hoverlabel\": {\"align\": \"left\"}, \"hovermode\": \"closest\", \"mapbox\": {\"style\": \"light\"}, \"paper_bgcolor\": \"white\", \"plot_bgcolor\": \"#E5ECF6\", \"polar\": {\"angularaxis\": {\"gridcolor\": \"white\", \"linecolor\": \"white\", \"ticks\": \"\"}, \"bgcolor\": \"#E5ECF6\", \"radialaxis\": {\"gridcolor\": \"white\", \"linecolor\": \"white\", \"ticks\": \"\"}}, \"scene\": {\"xaxis\": {\"backgroundcolor\": \"#E5ECF6\", \"gridcolor\": \"white\", \"gridwidth\": 2, \"linecolor\": \"white\", \"showbackground\": true, \"ticks\": \"\", \"zerolinecolor\": \"white\"}, \"yaxis\": {\"backgroundcolor\": \"#E5ECF6\", \"gridcolor\": \"white\", \"gridwidth\": 2, \"linecolor\": \"white\", \"showbackground\": true, \"ticks\": \"\", \"zerolinecolor\": \"white\"}, \"zaxis\": {\"backgroundcolor\": \"#E5ECF6\", \"gridcolor\": \"white\", \"gridwidth\": 2, \"linecolor\": \"white\", \"showbackground\": true, \"ticks\": \"\", \"zerolinecolor\": \"white\"}}, \"shapedefaults\": {\"line\": {\"color\": \"#2a3f5f\"}}, \"ternary\": {\"aaxis\": {\"gridcolor\": \"white\", \"linecolor\": \"white\", \"ticks\": \"\"}, \"baxis\": {\"gridcolor\": \"white\", \"linecolor\": \"white\", \"ticks\": \"\"}, \"bgcolor\": \"#E5ECF6\", \"caxis\": {\"gridcolor\": \"white\", \"linecolor\": \"white\", \"ticks\": \"\"}}, \"title\": {\"x\": 0.05}, \"xaxis\": {\"automargin\": true, \"gridcolor\": \"white\", \"linecolor\": \"white\", \"ticks\": \"\", \"title\": {\"standoff\": 15}, \"zerolinecolor\": \"white\", \"zerolinewidth\": 2}, \"yaxis\": {\"automargin\": true, \"gridcolor\": \"white\", \"linecolor\": \"white\", \"ticks\": \"\", \"title\": {\"standoff\": 15}, \"zerolinecolor\": \"white\", \"zerolinewidth\": 2}}}},\n",
       "                        {\"responsive\": true}\n",
       "                    ).then(function(){\n",
       "                            \n",
       "var gd = document.getElementById('5f78acb5-5e67-4d7a-afbf-ea008bef56ca');\n",
       "var x = new MutationObserver(function (mutations, observer) {{\n",
       "        var display = window.getComputedStyle(gd).display;\n",
       "        if (!display || display === 'none') {{\n",
       "            console.log([gd, 'removed!']);\n",
       "            Plotly.purge(gd);\n",
       "            observer.disconnect();\n",
       "        }}\n",
       "}});\n",
       "\n",
       "// Listen for the removal of the full notebook cells\n",
       "var notebookContainer = gd.closest('#notebook-container');\n",
       "if (notebookContainer) {{\n",
       "    x.observe(notebookContainer, {childList: true});\n",
       "}}\n",
       "\n",
       "// Listen for the clearing of the current output cell\n",
       "var outputEl = gd.closest('.output');\n",
       "if (outputEl) {{\n",
       "    x.observe(outputEl, {childList: true});\n",
       "}}\n",
       "\n",
       "                        })\n",
       "                };\n",
       "                });\n",
       "            </script>\n",
       "        </div>"
      ]
     },
     "metadata": {},
     "output_type": "display_data"
    },
    {
     "data": {
      "text/plain": []
     },
     "execution_count": 25,
     "metadata": {},
     "output_type": "execute_result"
    }
   ],
   "source": [
    "T = 100\n",
    "beta = JumpProcess(5, 0.3, 10, T, 0)\n",
    "gamma = JumpProcess(1, 0.01, 10, T, 0)\n",
    "theta = JumpProcess(2, 0.2, 20, T, 1)\n",
    "dynamic = SIRQt(beta.value, gamma.value, theta.value, 0.03)\n",
    "dynamic"
   ]
  },
  {
   "cell_type": "code",
   "execution_count": 26,
   "metadata": {},
   "outputs": [
    {
     "data": {
      "application/vnd.plotly.v1+json": {
       "config": {
        "plotlyServerURL": "https://plot.ly"
       },
       "data": [
        {
         "hovertemplate": "%{y}",
         "name": "Susceptible",
         "type": "scatter",
         "x": [
          0,
          1,
          2,
          3,
          4,
          5,
          6,
          7,
          8,
          9,
          10,
          11,
          12,
          13,
          14,
          15,
          16,
          17,
          18,
          19,
          20,
          21,
          22,
          23,
          24,
          25,
          26,
          27,
          28,
          29,
          30,
          31,
          32,
          33,
          34,
          35,
          36,
          37,
          38,
          39,
          40,
          41,
          42,
          43,
          44,
          45,
          46,
          47,
          48,
          49,
          50,
          51,
          52,
          53,
          54,
          55,
          56,
          57,
          58,
          59,
          60,
          61,
          62,
          63,
          64,
          65,
          66,
          67,
          68,
          69,
          70,
          71,
          72,
          73,
          74,
          75,
          76,
          77,
          78,
          79,
          80,
          81,
          82,
          83,
          84,
          85,
          86,
          87,
          88,
          89,
          90,
          91,
          92,
          93,
          94,
          95,
          96,
          97,
          98,
          99,
          100
         ],
         "y": [
          99000,
          98851,
          98694,
          98528,
          98353,
          98168,
          97973,
          97767,
          97484,
          97174,
          96835,
          96463,
          96051,
          95596,
          95094,
          94540,
          93931,
          93262,
          92527,
          91723,
          90845,
          89887,
          88846,
          87717,
          86496,
          85181,
          83346,
          81303,
          79046,
          76571,
          73882,
          70988,
          67906,
          63683,
          59150,
          54388,
          49501,
          44607,
          39826,
          35266,
          31017,
          27141,
          24711,
          22534,
          20592,
          18864,
          17331,
          16665,
          16062,
          15515,
          15018,
          14702,
          14413,
          14148,
          13905,
          13683,
          13478,
          13290,
          13117,
          12958,
          12812,
          12676,
          12552,
          12436,
          12330,
          12233,
          12144,
          12087,
          12034,
          11986,
          11943,
          11902,
          11866,
          11833,
          11803,
          11768,
          11737,
          11708,
          11683,
          11660,
          11640,
          11622,
          11606,
          11592,
          11580,
          11570,
          11561,
          11552,
          11545,
          11539,
          11533,
          11528,
          11524,
          11521,
          11518,
          11515,
          11513,
          11510,
          11508,
          11506,
          11504
         ]
        },
        {
         "hovertemplate": "%{y}",
         "name": "Infectious",
         "type": "scatter",
         "x": [
          0,
          1,
          2,
          3,
          4,
          5,
          6,
          7,
          8,
          9,
          10,
          11,
          12,
          13,
          14,
          15,
          16,
          17,
          18,
          19,
          20,
          21,
          22,
          23,
          24,
          25,
          26,
          27,
          28,
          29,
          30,
          31,
          32,
          33,
          34,
          35,
          36,
          37,
          38,
          39,
          40,
          41,
          42,
          43,
          44,
          45,
          46,
          47,
          48,
          49,
          50,
          51,
          52,
          53,
          54,
          55,
          56,
          57,
          58,
          59,
          60,
          61,
          62,
          63,
          64,
          65,
          66,
          67,
          68,
          69,
          70,
          71,
          72,
          73,
          74,
          75,
          76,
          77,
          78,
          79,
          80,
          81,
          82,
          83,
          84,
          85,
          86,
          87,
          88,
          89,
          90,
          91,
          92,
          93,
          94,
          95,
          96,
          97,
          98,
          99,
          100
         ],
         "y": [
          1000,
          1058,
          1120,
          1185,
          1253,
          1325,
          1401,
          1481,
          1630,
          1792,
          1970,
          2188,
          2428,
          2693,
          2984,
          3304,
          3655,
          4038,
          4456,
          4911,
          5405,
          5940,
          6516,
          7134,
          7796,
          8501,
          9668,
          10951,
          12347,
          13851,
          15451,
          17131,
          18867,
          21600,
          24429,
          27264,
          29999,
          32526,
          34740,
          36559,
          37923,
          38807,
          38186,
          37362,
          36367,
          35236,
          34000,
          32015,
          30121,
          28318,
          26606,
          24856,
          23214,
          21675,
          20233,
          18884,
          17621,
          16440,
          15336,
          14304,
          13339,
          12438,
          11596,
          10810,
          9973,
          9200,
          8486,
          7805,
          7178,
          6601,
          6071,
          5513,
          5006,
          4546,
          4128,
          3755,
          3364,
          3013,
          2699,
          2418,
          2126,
          1869,
          1643,
          1444,
          1270,
          1116,
          981,
          862,
          758,
          666,
          586,
          515,
          453,
          397,
          349,
          306,
          269,
          237,
          208,
          183,
          161
         ]
        },
        {
         "hovertemplate": "%{y}",
         "name": "Removed",
         "type": "scatter",
         "x": [
          0,
          1,
          2,
          3,
          4,
          5,
          6,
          7,
          8,
          9,
          10,
          11,
          12,
          13,
          14,
          15,
          16,
          17,
          18,
          19,
          20,
          21,
          22,
          23,
          24,
          25,
          26,
          27,
          28,
          29,
          30,
          31,
          32,
          33,
          34,
          35,
          36,
          37,
          38,
          39,
          40,
          41,
          42,
          43,
          44,
          45,
          46,
          47,
          48,
          49,
          50,
          51,
          52,
          53,
          54,
          55,
          56,
          57,
          58,
          59,
          60,
          61,
          62,
          63,
          64,
          65,
          66,
          67,
          68,
          69,
          70,
          71,
          72,
          73,
          74,
          75,
          76,
          77,
          78,
          79,
          80,
          81,
          82,
          83,
          84,
          85,
          86,
          87,
          88,
          89,
          90,
          91,
          92,
          93,
          94,
          95,
          96,
          97,
          98,
          99,
          100
         ],
         "y": [
          0,
          30,
          61,
          95,
          130,
          168,
          208,
          250,
          295,
          344,
          398,
          458,
          524,
          598,
          680,
          770,
          870,
          981,
          1103,
          1238,
          1387,
          1551,
          1731,
          1928,
          2145,
          2381,
          2641,
          2937,
          3272,
          3650,
          4074,
          4547,
          5071,
          5654,
          6322,
          7077,
          7920,
          8847,
          9852,
          10926,
          12056,
          13228,
          14416,
          15584,
          16728,
          17840,
          18919,
          19938,
          20899,
          21802,
          22651,
          23441,
          24179,
          24868,
          25512,
          26113,
          26674,
          27197,
          27685,
          28140,
          28565,
          28961,
          29330,
          29675,
          29996,
          30292,
          30565,
          30814,
          31044,
          31255,
          31449,
          31627,
          31789,
          31937,
          32070,
          32193,
          32304,
          32404,
          32494,
          32574,
          32646,
          32709,
          32764,
          32813,
          32856,
          32893,
          32927,
          32956,
          32981,
          33004,
          33024,
          33041,
          33056,
          33070,
          33082,
          33092,
          33101,
          33109,
          33116,
          33123,
          33128
         ]
        },
        {
         "hovertemplate": "%{y}",
         "name": "Quarantined",
         "type": "scatter",
         "x": [
          0,
          1,
          2,
          3,
          4,
          5,
          6,
          7,
          8,
          9,
          10,
          11,
          12,
          13,
          14,
          15,
          16,
          17,
          18,
          19,
          20,
          21,
          22,
          23,
          24,
          25,
          26,
          27,
          28,
          29,
          30,
          31,
          32,
          33,
          34,
          35,
          36,
          37,
          38,
          39,
          40,
          41,
          42,
          43,
          44,
          45,
          46,
          47,
          48,
          49,
          50,
          51,
          52,
          53,
          54,
          55,
          56,
          57,
          58,
          59,
          60,
          61,
          62,
          63,
          64,
          65,
          66,
          67,
          68,
          69,
          70,
          71,
          72,
          73,
          74,
          75,
          76,
          77,
          78,
          79,
          80,
          81,
          82,
          83,
          84,
          85,
          86,
          87,
          88,
          89,
          90,
          91,
          92,
          93,
          94,
          95,
          96,
          97,
          98,
          99,
          100
         ],
         "y": [
          0,
          60,
          123,
          190,
          261,
          337,
          416,
          500,
          589,
          687,
          794,
          889,
          994,
          1111,
          1240,
          1383,
          1542,
          1717,
          1911,
          2125,
          2361,
          2620,
          2906,
          3218,
          3561,
          3935,
          4343,
          4807,
          5333,
          5926,
          6590,
          7332,
          8154,
          9060,
          10097,
          11270,
          12578,
          14018,
          15579,
          17247,
          19002,
          20822,
          22685,
          24518,
          26311,
          28057,
          29748,
          31380,
          32917,
          34363,
          35722,
          36999,
          38192,
          39307,
          40347,
          41318,
          42225,
          43071,
          43860,
          44596,
          45283,
          45923,
          46520,
          47077,
          47699,
          48274,
          48804,
          49292,
          49742,
          50156,
          50536,
          50955,
          51336,
          51683,
          51997,
          52282,
          52594,
          52873,
          53123,
          53347,
          53587,
          53799,
          53985,
          54148,
          54292,
          54419,
          54530,
          54627,
          54713,
          54789,
          54855,
          54914,
          54965,
          55010,
          55050,
          55084,
          55115,
          55142,
          55165,
          55186,
          55204
         ]
        },
        {
         "hovertemplate": "%{y}",
         "marker": {
          "symbol": 1
         },
         "mode": "markers",
         "name": "Guessed",
         "type": "scatter",
         "x": [
          10,
          20,
          30,
          40,
          50,
          60,
          70,
          80,
          90
         ],
         "y": [
          2000,
          4800,
          15100,
          38500,
          29300,
          13600.000000000002,
          4700,
          2500,
          500
         ]
        },
        {
         "hovertemplate": "%{y}",
         "marker": {
          "symbol": 2
         },
         "mode": "markers",
         "name": "Confirmed",
         "type": "scatter",
         "x": [
          10,
          20,
          30,
          40,
          50,
          60,
          70,
          80,
          90
         ],
         "y": [
          820,
          2381,
          6764,
          18969,
          35883,
          45324,
          50612,
          53665,
          54980
         ]
        }
       ],
       "layout": {
        "margin": {
         "b": 0,
         "l": 0,
         "r": 0,
         "t": 25
        },
        "template": {
         "data": {
          "bar": [
           {
            "error_x": {
             "color": "#2a3f5f"
            },
            "error_y": {
             "color": "#2a3f5f"
            },
            "marker": {
             "line": {
              "color": "#E5ECF6",
              "width": 0.5
             }
            },
            "type": "bar"
           }
          ],
          "barpolar": [
           {
            "marker": {
             "line": {
              "color": "#E5ECF6",
              "width": 0.5
             }
            },
            "type": "barpolar"
           }
          ],
          "carpet": [
           {
            "aaxis": {
             "endlinecolor": "#2a3f5f",
             "gridcolor": "white",
             "linecolor": "white",
             "minorgridcolor": "white",
             "startlinecolor": "#2a3f5f"
            },
            "baxis": {
             "endlinecolor": "#2a3f5f",
             "gridcolor": "white",
             "linecolor": "white",
             "minorgridcolor": "white",
             "startlinecolor": "#2a3f5f"
            },
            "type": "carpet"
           }
          ],
          "choropleth": [
           {
            "colorbar": {
             "outlinewidth": 0,
             "ticks": ""
            },
            "type": "choropleth"
           }
          ],
          "contour": [
           {
            "colorbar": {
             "outlinewidth": 0,
             "ticks": ""
            },
            "colorscale": [
             [
              0,
              "#0d0887"
             ],
             [
              0.1111111111111111,
              "#46039f"
             ],
             [
              0.2222222222222222,
              "#7201a8"
             ],
             [
              0.3333333333333333,
              "#9c179e"
             ],
             [
              0.4444444444444444,
              "#bd3786"
             ],
             [
              0.5555555555555556,
              "#d8576b"
             ],
             [
              0.6666666666666666,
              "#ed7953"
             ],
             [
              0.7777777777777778,
              "#fb9f3a"
             ],
             [
              0.8888888888888888,
              "#fdca26"
             ],
             [
              1,
              "#f0f921"
             ]
            ],
            "type": "contour"
           }
          ],
          "contourcarpet": [
           {
            "colorbar": {
             "outlinewidth": 0,
             "ticks": ""
            },
            "type": "contourcarpet"
           }
          ],
          "heatmap": [
           {
            "colorbar": {
             "outlinewidth": 0,
             "ticks": ""
            },
            "colorscale": [
             [
              0,
              "#0d0887"
             ],
             [
              0.1111111111111111,
              "#46039f"
             ],
             [
              0.2222222222222222,
              "#7201a8"
             ],
             [
              0.3333333333333333,
              "#9c179e"
             ],
             [
              0.4444444444444444,
              "#bd3786"
             ],
             [
              0.5555555555555556,
              "#d8576b"
             ],
             [
              0.6666666666666666,
              "#ed7953"
             ],
             [
              0.7777777777777778,
              "#fb9f3a"
             ],
             [
              0.8888888888888888,
              "#fdca26"
             ],
             [
              1,
              "#f0f921"
             ]
            ],
            "type": "heatmap"
           }
          ],
          "heatmapgl": [
           {
            "colorbar": {
             "outlinewidth": 0,
             "ticks": ""
            },
            "colorscale": [
             [
              0,
              "#0d0887"
             ],
             [
              0.1111111111111111,
              "#46039f"
             ],
             [
              0.2222222222222222,
              "#7201a8"
             ],
             [
              0.3333333333333333,
              "#9c179e"
             ],
             [
              0.4444444444444444,
              "#bd3786"
             ],
             [
              0.5555555555555556,
              "#d8576b"
             ],
             [
              0.6666666666666666,
              "#ed7953"
             ],
             [
              0.7777777777777778,
              "#fb9f3a"
             ],
             [
              0.8888888888888888,
              "#fdca26"
             ],
             [
              1,
              "#f0f921"
             ]
            ],
            "type": "heatmapgl"
           }
          ],
          "histogram": [
           {
            "marker": {
             "colorbar": {
              "outlinewidth": 0,
              "ticks": ""
             }
            },
            "type": "histogram"
           }
          ],
          "histogram2d": [
           {
            "colorbar": {
             "outlinewidth": 0,
             "ticks": ""
            },
            "colorscale": [
             [
              0,
              "#0d0887"
             ],
             [
              0.1111111111111111,
              "#46039f"
             ],
             [
              0.2222222222222222,
              "#7201a8"
             ],
             [
              0.3333333333333333,
              "#9c179e"
             ],
             [
              0.4444444444444444,
              "#bd3786"
             ],
             [
              0.5555555555555556,
              "#d8576b"
             ],
             [
              0.6666666666666666,
              "#ed7953"
             ],
             [
              0.7777777777777778,
              "#fb9f3a"
             ],
             [
              0.8888888888888888,
              "#fdca26"
             ],
             [
              1,
              "#f0f921"
             ]
            ],
            "type": "histogram2d"
           }
          ],
          "histogram2dcontour": [
           {
            "colorbar": {
             "outlinewidth": 0,
             "ticks": ""
            },
            "colorscale": [
             [
              0,
              "#0d0887"
             ],
             [
              0.1111111111111111,
              "#46039f"
             ],
             [
              0.2222222222222222,
              "#7201a8"
             ],
             [
              0.3333333333333333,
              "#9c179e"
             ],
             [
              0.4444444444444444,
              "#bd3786"
             ],
             [
              0.5555555555555556,
              "#d8576b"
             ],
             [
              0.6666666666666666,
              "#ed7953"
             ],
             [
              0.7777777777777778,
              "#fb9f3a"
             ],
             [
              0.8888888888888888,
              "#fdca26"
             ],
             [
              1,
              "#f0f921"
             ]
            ],
            "type": "histogram2dcontour"
           }
          ],
          "mesh3d": [
           {
            "colorbar": {
             "outlinewidth": 0,
             "ticks": ""
            },
            "type": "mesh3d"
           }
          ],
          "parcoords": [
           {
            "line": {
             "colorbar": {
              "outlinewidth": 0,
              "ticks": ""
             }
            },
            "type": "parcoords"
           }
          ],
          "pie": [
           {
            "automargin": true,
            "type": "pie"
           }
          ],
          "scatter": [
           {
            "marker": {
             "colorbar": {
              "outlinewidth": 0,
              "ticks": ""
             }
            },
            "type": "scatter"
           }
          ],
          "scatter3d": [
           {
            "line": {
             "colorbar": {
              "outlinewidth": 0,
              "ticks": ""
             }
            },
            "marker": {
             "colorbar": {
              "outlinewidth": 0,
              "ticks": ""
             }
            },
            "type": "scatter3d"
           }
          ],
          "scattercarpet": [
           {
            "marker": {
             "colorbar": {
              "outlinewidth": 0,
              "ticks": ""
             }
            },
            "type": "scattercarpet"
           }
          ],
          "scattergeo": [
           {
            "marker": {
             "colorbar": {
              "outlinewidth": 0,
              "ticks": ""
             }
            },
            "type": "scattergeo"
           }
          ],
          "scattergl": [
           {
            "marker": {
             "colorbar": {
              "outlinewidth": 0,
              "ticks": ""
             }
            },
            "type": "scattergl"
           }
          ],
          "scattermapbox": [
           {
            "marker": {
             "colorbar": {
              "outlinewidth": 0,
              "ticks": ""
             }
            },
            "type": "scattermapbox"
           }
          ],
          "scatterpolar": [
           {
            "marker": {
             "colorbar": {
              "outlinewidth": 0,
              "ticks": ""
             }
            },
            "type": "scatterpolar"
           }
          ],
          "scatterpolargl": [
           {
            "marker": {
             "colorbar": {
              "outlinewidth": 0,
              "ticks": ""
             }
            },
            "type": "scatterpolargl"
           }
          ],
          "scatterternary": [
           {
            "marker": {
             "colorbar": {
              "outlinewidth": 0,
              "ticks": ""
             }
            },
            "type": "scatterternary"
           }
          ],
          "surface": [
           {
            "colorbar": {
             "outlinewidth": 0,
             "ticks": ""
            },
            "colorscale": [
             [
              0,
              "#0d0887"
             ],
             [
              0.1111111111111111,
              "#46039f"
             ],
             [
              0.2222222222222222,
              "#7201a8"
             ],
             [
              0.3333333333333333,
              "#9c179e"
             ],
             [
              0.4444444444444444,
              "#bd3786"
             ],
             [
              0.5555555555555556,
              "#d8576b"
             ],
             [
              0.6666666666666666,
              "#ed7953"
             ],
             [
              0.7777777777777778,
              "#fb9f3a"
             ],
             [
              0.8888888888888888,
              "#fdca26"
             ],
             [
              1,
              "#f0f921"
             ]
            ],
            "type": "surface"
           }
          ],
          "table": [
           {
            "cells": {
             "fill": {
              "color": "#EBF0F8"
             },
             "line": {
              "color": "white"
             }
            },
            "header": {
             "fill": {
              "color": "#C8D4E3"
             },
             "line": {
              "color": "white"
             }
            },
            "type": "table"
           }
          ]
         },
         "layout": {
          "annotationdefaults": {
           "arrowcolor": "#2a3f5f",
           "arrowhead": 0,
           "arrowwidth": 1
          },
          "coloraxis": {
           "colorbar": {
            "outlinewidth": 0,
            "ticks": ""
           }
          },
          "colorscale": {
           "diverging": [
            [
             0,
             "#8e0152"
            ],
            [
             0.1,
             "#c51b7d"
            ],
            [
             0.2,
             "#de77ae"
            ],
            [
             0.3,
             "#f1b6da"
            ],
            [
             0.4,
             "#fde0ef"
            ],
            [
             0.5,
             "#f7f7f7"
            ],
            [
             0.6,
             "#e6f5d0"
            ],
            [
             0.7,
             "#b8e186"
            ],
            [
             0.8,
             "#7fbc41"
            ],
            [
             0.9,
             "#4d9221"
            ],
            [
             1,
             "#276419"
            ]
           ],
           "sequential": [
            [
             0,
             "#0d0887"
            ],
            [
             0.1111111111111111,
             "#46039f"
            ],
            [
             0.2222222222222222,
             "#7201a8"
            ],
            [
             0.3333333333333333,
             "#9c179e"
            ],
            [
             0.4444444444444444,
             "#bd3786"
            ],
            [
             0.5555555555555556,
             "#d8576b"
            ],
            [
             0.6666666666666666,
             "#ed7953"
            ],
            [
             0.7777777777777778,
             "#fb9f3a"
            ],
            [
             0.8888888888888888,
             "#fdca26"
            ],
            [
             1,
             "#f0f921"
            ]
           ],
           "sequentialminus": [
            [
             0,
             "#0d0887"
            ],
            [
             0.1111111111111111,
             "#46039f"
            ],
            [
             0.2222222222222222,
             "#7201a8"
            ],
            [
             0.3333333333333333,
             "#9c179e"
            ],
            [
             0.4444444444444444,
             "#bd3786"
            ],
            [
             0.5555555555555556,
             "#d8576b"
            ],
            [
             0.6666666666666666,
             "#ed7953"
            ],
            [
             0.7777777777777778,
             "#fb9f3a"
            ],
            [
             0.8888888888888888,
             "#fdca26"
            ],
            [
             1,
             "#f0f921"
            ]
           ]
          },
          "colorway": [
           "#636efa",
           "#EF553B",
           "#00cc96",
           "#ab63fa",
           "#FFA15A",
           "#19d3f3",
           "#FF6692",
           "#B6E880",
           "#FF97FF",
           "#FECB52"
          ],
          "font": {
           "color": "#2a3f5f"
          },
          "geo": {
           "bgcolor": "white",
           "lakecolor": "white",
           "landcolor": "#E5ECF6",
           "showlakes": true,
           "showland": true,
           "subunitcolor": "white"
          },
          "hoverlabel": {
           "align": "left"
          },
          "hovermode": "closest",
          "mapbox": {
           "style": "light"
          },
          "paper_bgcolor": "white",
          "plot_bgcolor": "#E5ECF6",
          "polar": {
           "angularaxis": {
            "gridcolor": "white",
            "linecolor": "white",
            "ticks": ""
           },
           "bgcolor": "#E5ECF6",
           "radialaxis": {
            "gridcolor": "white",
            "linecolor": "white",
            "ticks": ""
           }
          },
          "scene": {
           "xaxis": {
            "backgroundcolor": "#E5ECF6",
            "gridcolor": "white",
            "gridwidth": 2,
            "linecolor": "white",
            "showbackground": true,
            "ticks": "",
            "zerolinecolor": "white"
           },
           "yaxis": {
            "backgroundcolor": "#E5ECF6",
            "gridcolor": "white",
            "gridwidth": 2,
            "linecolor": "white",
            "showbackground": true,
            "ticks": "",
            "zerolinecolor": "white"
           },
           "zaxis": {
            "backgroundcolor": "#E5ECF6",
            "gridcolor": "white",
            "gridwidth": 2,
            "linecolor": "white",
            "showbackground": true,
            "ticks": "",
            "zerolinecolor": "white"
           }
          },
          "shapedefaults": {
           "line": {
            "color": "#2a3f5f"
           }
          },
          "ternary": {
           "aaxis": {
            "gridcolor": "white",
            "linecolor": "white",
            "ticks": ""
           },
           "baxis": {
            "gridcolor": "white",
            "linecolor": "white",
            "ticks": ""
           },
           "bgcolor": "#E5ECF6",
           "caxis": {
            "gridcolor": "white",
            "linecolor": "white",
            "ticks": ""
           }
          },
          "title": {
           "x": 0.05
          },
          "xaxis": {
           "automargin": true,
           "gridcolor": "white",
           "linecolor": "white",
           "ticks": "",
           "title": {
            "standoff": 15
           },
           "zerolinecolor": "white",
           "zerolinewidth": 2
          },
          "yaxis": {
           "automargin": true,
           "gridcolor": "white",
           "linecolor": "white",
           "ticks": "",
           "title": {
            "standoff": 15
           },
           "zerolinecolor": "white",
           "zerolinewidth": 2
          }
         }
        }
       }
      },
      "text/html": [
       "<div>\n",
       "        \n",
       "        \n",
       "            <div id=\"42686996-1a1a-46be-8deb-5daebb9de1b4\" class=\"plotly-graph-div\" style=\"height:525px; width:100%;\"></div>\n",
       "            <script type=\"text/javascript\">\n",
       "                require([\"plotly\"], function(Plotly) {\n",
       "                    window.PLOTLYENV=window.PLOTLYENV || {};\n",
       "                    \n",
       "                if (document.getElementById(\"42686996-1a1a-46be-8deb-5daebb9de1b4\")) {\n",
       "                    Plotly.newPlot(\n",
       "                        '42686996-1a1a-46be-8deb-5daebb9de1b4',\n",
       "                        [{\"hovertemplate\": \"%{y}\", \"name\": \"Susceptible\", \"type\": \"scatter\", \"x\": [0, 1, 2, 3, 4, 5, 6, 7, 8, 9, 10, 11, 12, 13, 14, 15, 16, 17, 18, 19, 20, 21, 22, 23, 24, 25, 26, 27, 28, 29, 30, 31, 32, 33, 34, 35, 36, 37, 38, 39, 40, 41, 42, 43, 44, 45, 46, 47, 48, 49, 50, 51, 52, 53, 54, 55, 56, 57, 58, 59, 60, 61, 62, 63, 64, 65, 66, 67, 68, 69, 70, 71, 72, 73, 74, 75, 76, 77, 78, 79, 80, 81, 82, 83, 84, 85, 86, 87, 88, 89, 90, 91, 92, 93, 94, 95, 96, 97, 98, 99, 100], \"y\": [99000, 98851, 98694, 98528, 98353, 98168, 97973, 97767, 97484, 97174, 96835, 96463, 96051, 95596, 95094, 94540, 93931, 93262, 92527, 91723, 90845, 89887, 88846, 87717, 86496, 85181, 83346, 81303, 79046, 76571, 73882, 70988, 67906, 63683, 59150, 54388, 49501, 44607, 39826, 35266, 31017, 27141, 24711, 22534, 20592, 18864, 17331, 16665, 16062, 15515, 15018, 14702, 14413, 14148, 13905, 13683, 13478, 13290, 13117, 12958, 12812, 12676, 12552, 12436, 12330, 12233, 12144, 12087, 12034, 11986, 11943, 11902, 11866, 11833, 11803, 11768, 11737, 11708, 11683, 11660, 11640, 11622, 11606, 11592, 11580, 11570, 11561, 11552, 11545, 11539, 11533, 11528, 11524, 11521, 11518, 11515, 11513, 11510, 11508, 11506, 11504]}, {\"hovertemplate\": \"%{y}\", \"name\": \"Infectious\", \"type\": \"scatter\", \"x\": [0, 1, 2, 3, 4, 5, 6, 7, 8, 9, 10, 11, 12, 13, 14, 15, 16, 17, 18, 19, 20, 21, 22, 23, 24, 25, 26, 27, 28, 29, 30, 31, 32, 33, 34, 35, 36, 37, 38, 39, 40, 41, 42, 43, 44, 45, 46, 47, 48, 49, 50, 51, 52, 53, 54, 55, 56, 57, 58, 59, 60, 61, 62, 63, 64, 65, 66, 67, 68, 69, 70, 71, 72, 73, 74, 75, 76, 77, 78, 79, 80, 81, 82, 83, 84, 85, 86, 87, 88, 89, 90, 91, 92, 93, 94, 95, 96, 97, 98, 99, 100], \"y\": [1000, 1058, 1120, 1185, 1253, 1325, 1401, 1481, 1630, 1792, 1970, 2188, 2428, 2693, 2984, 3304, 3655, 4038, 4456, 4911, 5405, 5940, 6516, 7134, 7796, 8501, 9668, 10951, 12347, 13851, 15451, 17131, 18867, 21600, 24429, 27264, 29999, 32526, 34740, 36559, 37923, 38807, 38186, 37362, 36367, 35236, 34000, 32015, 30121, 28318, 26606, 24856, 23214, 21675, 20233, 18884, 17621, 16440, 15336, 14304, 13339, 12438, 11596, 10810, 9973, 9200, 8486, 7805, 7178, 6601, 6071, 5513, 5006, 4546, 4128, 3755, 3364, 3013, 2699, 2418, 2126, 1869, 1643, 1444, 1270, 1116, 981, 862, 758, 666, 586, 515, 453, 397, 349, 306, 269, 237, 208, 183, 161]}, {\"hovertemplate\": \"%{y}\", \"name\": \"Removed\", \"type\": \"scatter\", \"x\": [0, 1, 2, 3, 4, 5, 6, 7, 8, 9, 10, 11, 12, 13, 14, 15, 16, 17, 18, 19, 20, 21, 22, 23, 24, 25, 26, 27, 28, 29, 30, 31, 32, 33, 34, 35, 36, 37, 38, 39, 40, 41, 42, 43, 44, 45, 46, 47, 48, 49, 50, 51, 52, 53, 54, 55, 56, 57, 58, 59, 60, 61, 62, 63, 64, 65, 66, 67, 68, 69, 70, 71, 72, 73, 74, 75, 76, 77, 78, 79, 80, 81, 82, 83, 84, 85, 86, 87, 88, 89, 90, 91, 92, 93, 94, 95, 96, 97, 98, 99, 100], \"y\": [0, 30, 61, 95, 130, 168, 208, 250, 295, 344, 398, 458, 524, 598, 680, 770, 870, 981, 1103, 1238, 1387, 1551, 1731, 1928, 2145, 2381, 2641, 2937, 3272, 3650, 4074, 4547, 5071, 5654, 6322, 7077, 7920, 8847, 9852, 10926, 12056, 13228, 14416, 15584, 16728, 17840, 18919, 19938, 20899, 21802, 22651, 23441, 24179, 24868, 25512, 26113, 26674, 27197, 27685, 28140, 28565, 28961, 29330, 29675, 29996, 30292, 30565, 30814, 31044, 31255, 31449, 31627, 31789, 31937, 32070, 32193, 32304, 32404, 32494, 32574, 32646, 32709, 32764, 32813, 32856, 32893, 32927, 32956, 32981, 33004, 33024, 33041, 33056, 33070, 33082, 33092, 33101, 33109, 33116, 33123, 33128]}, {\"hovertemplate\": \"%{y}\", \"name\": \"Quarantined\", \"type\": \"scatter\", \"x\": [0, 1, 2, 3, 4, 5, 6, 7, 8, 9, 10, 11, 12, 13, 14, 15, 16, 17, 18, 19, 20, 21, 22, 23, 24, 25, 26, 27, 28, 29, 30, 31, 32, 33, 34, 35, 36, 37, 38, 39, 40, 41, 42, 43, 44, 45, 46, 47, 48, 49, 50, 51, 52, 53, 54, 55, 56, 57, 58, 59, 60, 61, 62, 63, 64, 65, 66, 67, 68, 69, 70, 71, 72, 73, 74, 75, 76, 77, 78, 79, 80, 81, 82, 83, 84, 85, 86, 87, 88, 89, 90, 91, 92, 93, 94, 95, 96, 97, 98, 99, 100], \"y\": [0, 60, 123, 190, 261, 337, 416, 500, 589, 687, 794, 889, 994, 1111, 1240, 1383, 1542, 1717, 1911, 2125, 2361, 2620, 2906, 3218, 3561, 3935, 4343, 4807, 5333, 5926, 6590, 7332, 8154, 9060, 10097, 11270, 12578, 14018, 15579, 17247, 19002, 20822, 22685, 24518, 26311, 28057, 29748, 31380, 32917, 34363, 35722, 36999, 38192, 39307, 40347, 41318, 42225, 43071, 43860, 44596, 45283, 45923, 46520, 47077, 47699, 48274, 48804, 49292, 49742, 50156, 50536, 50955, 51336, 51683, 51997, 52282, 52594, 52873, 53123, 53347, 53587, 53799, 53985, 54148, 54292, 54419, 54530, 54627, 54713, 54789, 54855, 54914, 54965, 55010, 55050, 55084, 55115, 55142, 55165, 55186, 55204]}, {\"hovertemplate\": \"%{y}\", \"marker\": {\"symbol\": 1}, \"mode\": \"markers\", \"name\": \"Guessed\", \"type\": \"scatter\", \"x\": [10, 20, 30, 40, 50, 60, 70, 80, 90], \"y\": [2000.0, 4800.0, 15100.0, 38500.0, 29300.0, 13600.000000000002, 4700.0, 2500.0, 500.0]}, {\"hovertemplate\": \"%{y}\", \"marker\": {\"symbol\": 2}, \"mode\": \"markers\", \"name\": \"Confirmed\", \"type\": \"scatter\", \"x\": [10, 20, 30, 40, 50, 60, 70, 80, 90], \"y\": [820, 2381, 6764, 18969, 35883, 45324, 50612, 53665, 54980]}],\n",
       "                        {\"margin\": {\"b\": 0, \"l\": 0, \"r\": 0, \"t\": 25}, \"template\": {\"data\": {\"bar\": [{\"error_x\": {\"color\": \"#2a3f5f\"}, \"error_y\": {\"color\": \"#2a3f5f\"}, \"marker\": {\"line\": {\"color\": \"#E5ECF6\", \"width\": 0.5}}, \"type\": \"bar\"}], \"barpolar\": [{\"marker\": {\"line\": {\"color\": \"#E5ECF6\", \"width\": 0.5}}, \"type\": \"barpolar\"}], \"carpet\": [{\"aaxis\": {\"endlinecolor\": \"#2a3f5f\", \"gridcolor\": \"white\", \"linecolor\": \"white\", \"minorgridcolor\": \"white\", \"startlinecolor\": \"#2a3f5f\"}, \"baxis\": {\"endlinecolor\": \"#2a3f5f\", \"gridcolor\": \"white\", \"linecolor\": \"white\", \"minorgridcolor\": \"white\", \"startlinecolor\": \"#2a3f5f\"}, \"type\": \"carpet\"}], \"choropleth\": [{\"colorbar\": {\"outlinewidth\": 0, \"ticks\": \"\"}, \"type\": \"choropleth\"}], \"contour\": [{\"colorbar\": {\"outlinewidth\": 0, \"ticks\": \"\"}, \"colorscale\": [[0.0, \"#0d0887\"], [0.1111111111111111, \"#46039f\"], [0.2222222222222222, \"#7201a8\"], [0.3333333333333333, \"#9c179e\"], [0.4444444444444444, \"#bd3786\"], [0.5555555555555556, \"#d8576b\"], [0.6666666666666666, \"#ed7953\"], [0.7777777777777778, \"#fb9f3a\"], [0.8888888888888888, \"#fdca26\"], [1.0, \"#f0f921\"]], \"type\": \"contour\"}], \"contourcarpet\": [{\"colorbar\": {\"outlinewidth\": 0, \"ticks\": \"\"}, \"type\": \"contourcarpet\"}], \"heatmap\": [{\"colorbar\": {\"outlinewidth\": 0, \"ticks\": \"\"}, \"colorscale\": [[0.0, \"#0d0887\"], [0.1111111111111111, \"#46039f\"], [0.2222222222222222, \"#7201a8\"], [0.3333333333333333, \"#9c179e\"], [0.4444444444444444, \"#bd3786\"], [0.5555555555555556, \"#d8576b\"], [0.6666666666666666, \"#ed7953\"], [0.7777777777777778, \"#fb9f3a\"], [0.8888888888888888, \"#fdca26\"], [1.0, \"#f0f921\"]], \"type\": \"heatmap\"}], \"heatmapgl\": [{\"colorbar\": {\"outlinewidth\": 0, \"ticks\": \"\"}, \"colorscale\": [[0.0, \"#0d0887\"], [0.1111111111111111, \"#46039f\"], [0.2222222222222222, \"#7201a8\"], [0.3333333333333333, \"#9c179e\"], [0.4444444444444444, \"#bd3786\"], [0.5555555555555556, \"#d8576b\"], [0.6666666666666666, \"#ed7953\"], [0.7777777777777778, \"#fb9f3a\"], [0.8888888888888888, \"#fdca26\"], [1.0, \"#f0f921\"]], \"type\": \"heatmapgl\"}], \"histogram\": [{\"marker\": {\"colorbar\": {\"outlinewidth\": 0, \"ticks\": \"\"}}, \"type\": \"histogram\"}], \"histogram2d\": [{\"colorbar\": {\"outlinewidth\": 0, \"ticks\": \"\"}, \"colorscale\": [[0.0, \"#0d0887\"], [0.1111111111111111, \"#46039f\"], [0.2222222222222222, \"#7201a8\"], [0.3333333333333333, \"#9c179e\"], [0.4444444444444444, \"#bd3786\"], [0.5555555555555556, \"#d8576b\"], [0.6666666666666666, \"#ed7953\"], [0.7777777777777778, \"#fb9f3a\"], [0.8888888888888888, \"#fdca26\"], [1.0, \"#f0f921\"]], \"type\": \"histogram2d\"}], \"histogram2dcontour\": [{\"colorbar\": {\"outlinewidth\": 0, \"ticks\": \"\"}, \"colorscale\": [[0.0, \"#0d0887\"], [0.1111111111111111, \"#46039f\"], [0.2222222222222222, \"#7201a8\"], [0.3333333333333333, \"#9c179e\"], [0.4444444444444444, \"#bd3786\"], [0.5555555555555556, \"#d8576b\"], [0.6666666666666666, \"#ed7953\"], [0.7777777777777778, \"#fb9f3a\"], [0.8888888888888888, \"#fdca26\"], [1.0, \"#f0f921\"]], \"type\": \"histogram2dcontour\"}], \"mesh3d\": [{\"colorbar\": {\"outlinewidth\": 0, \"ticks\": \"\"}, \"type\": \"mesh3d\"}], \"parcoords\": [{\"line\": {\"colorbar\": {\"outlinewidth\": 0, \"ticks\": \"\"}}, \"type\": \"parcoords\"}], \"pie\": [{\"automargin\": true, \"type\": \"pie\"}], \"scatter\": [{\"marker\": {\"colorbar\": {\"outlinewidth\": 0, \"ticks\": \"\"}}, \"type\": \"scatter\"}], \"scatter3d\": [{\"line\": {\"colorbar\": {\"outlinewidth\": 0, \"ticks\": \"\"}}, \"marker\": {\"colorbar\": {\"outlinewidth\": 0, \"ticks\": \"\"}}, \"type\": \"scatter3d\"}], \"scattercarpet\": [{\"marker\": {\"colorbar\": {\"outlinewidth\": 0, \"ticks\": \"\"}}, \"type\": \"scattercarpet\"}], \"scattergeo\": [{\"marker\": {\"colorbar\": {\"outlinewidth\": 0, \"ticks\": \"\"}}, \"type\": \"scattergeo\"}], \"scattergl\": [{\"marker\": {\"colorbar\": {\"outlinewidth\": 0, \"ticks\": \"\"}}, \"type\": \"scattergl\"}], \"scattermapbox\": [{\"marker\": {\"colorbar\": {\"outlinewidth\": 0, \"ticks\": \"\"}}, \"type\": \"scattermapbox\"}], \"scatterpolar\": [{\"marker\": {\"colorbar\": {\"outlinewidth\": 0, \"ticks\": \"\"}}, \"type\": \"scatterpolar\"}], \"scatterpolargl\": [{\"marker\": {\"colorbar\": {\"outlinewidth\": 0, \"ticks\": \"\"}}, \"type\": \"scatterpolargl\"}], \"scatterternary\": [{\"marker\": {\"colorbar\": {\"outlinewidth\": 0, \"ticks\": \"\"}}, \"type\": \"scatterternary\"}], \"surface\": [{\"colorbar\": {\"outlinewidth\": 0, \"ticks\": \"\"}, \"colorscale\": [[0.0, \"#0d0887\"], [0.1111111111111111, \"#46039f\"], [0.2222222222222222, \"#7201a8\"], [0.3333333333333333, \"#9c179e\"], [0.4444444444444444, \"#bd3786\"], [0.5555555555555556, \"#d8576b\"], [0.6666666666666666, \"#ed7953\"], [0.7777777777777778, \"#fb9f3a\"], [0.8888888888888888, \"#fdca26\"], [1.0, \"#f0f921\"]], \"type\": \"surface\"}], \"table\": [{\"cells\": {\"fill\": {\"color\": \"#EBF0F8\"}, \"line\": {\"color\": \"white\"}}, \"header\": {\"fill\": {\"color\": \"#C8D4E3\"}, \"line\": {\"color\": \"white\"}}, \"type\": \"table\"}]}, \"layout\": {\"annotationdefaults\": {\"arrowcolor\": \"#2a3f5f\", \"arrowhead\": 0, \"arrowwidth\": 1}, \"coloraxis\": {\"colorbar\": {\"outlinewidth\": 0, \"ticks\": \"\"}}, \"colorscale\": {\"diverging\": [[0, \"#8e0152\"], [0.1, \"#c51b7d\"], [0.2, \"#de77ae\"], [0.3, \"#f1b6da\"], [0.4, \"#fde0ef\"], [0.5, \"#f7f7f7\"], [0.6, \"#e6f5d0\"], [0.7, \"#b8e186\"], [0.8, \"#7fbc41\"], [0.9, \"#4d9221\"], [1, \"#276419\"]], \"sequential\": [[0.0, \"#0d0887\"], [0.1111111111111111, \"#46039f\"], [0.2222222222222222, \"#7201a8\"], [0.3333333333333333, \"#9c179e\"], [0.4444444444444444, \"#bd3786\"], [0.5555555555555556, \"#d8576b\"], [0.6666666666666666, \"#ed7953\"], [0.7777777777777778, \"#fb9f3a\"], [0.8888888888888888, \"#fdca26\"], [1.0, \"#f0f921\"]], \"sequentialminus\": [[0.0, \"#0d0887\"], [0.1111111111111111, \"#46039f\"], [0.2222222222222222, \"#7201a8\"], [0.3333333333333333, \"#9c179e\"], [0.4444444444444444, \"#bd3786\"], [0.5555555555555556, \"#d8576b\"], [0.6666666666666666, \"#ed7953\"], [0.7777777777777778, \"#fb9f3a\"], [0.8888888888888888, \"#fdca26\"], [1.0, \"#f0f921\"]]}, \"colorway\": [\"#636efa\", \"#EF553B\", \"#00cc96\", \"#ab63fa\", \"#FFA15A\", \"#19d3f3\", \"#FF6692\", \"#B6E880\", \"#FF97FF\", \"#FECB52\"], \"font\": {\"color\": \"#2a3f5f\"}, \"geo\": {\"bgcolor\": \"white\", \"lakecolor\": \"white\", \"landcolor\": \"#E5ECF6\", \"showlakes\": true, \"showland\": true, \"subunitcolor\": \"white\"}, \"hoverlabel\": {\"align\": \"left\"}, \"hovermode\": \"closest\", \"mapbox\": {\"style\": \"light\"}, \"paper_bgcolor\": \"white\", \"plot_bgcolor\": \"#E5ECF6\", \"polar\": {\"angularaxis\": {\"gridcolor\": \"white\", \"linecolor\": \"white\", \"ticks\": \"\"}, \"bgcolor\": \"#E5ECF6\", \"radialaxis\": {\"gridcolor\": \"white\", \"linecolor\": \"white\", \"ticks\": \"\"}}, \"scene\": {\"xaxis\": {\"backgroundcolor\": \"#E5ECF6\", \"gridcolor\": \"white\", \"gridwidth\": 2, \"linecolor\": \"white\", \"showbackground\": true, \"ticks\": \"\", \"zerolinecolor\": \"white\"}, \"yaxis\": {\"backgroundcolor\": \"#E5ECF6\", \"gridcolor\": \"white\", \"gridwidth\": 2, \"linecolor\": \"white\", \"showbackground\": true, \"ticks\": \"\", \"zerolinecolor\": \"white\"}, \"zaxis\": {\"backgroundcolor\": \"#E5ECF6\", \"gridcolor\": \"white\", \"gridwidth\": 2, \"linecolor\": \"white\", \"showbackground\": true, \"ticks\": \"\", \"zerolinecolor\": \"white\"}}, \"shapedefaults\": {\"line\": {\"color\": \"#2a3f5f\"}}, \"ternary\": {\"aaxis\": {\"gridcolor\": \"white\", \"linecolor\": \"white\", \"ticks\": \"\"}, \"baxis\": {\"gridcolor\": \"white\", \"linecolor\": \"white\", \"ticks\": \"\"}, \"bgcolor\": \"#E5ECF6\", \"caxis\": {\"gridcolor\": \"white\", \"linecolor\": \"white\", \"ticks\": \"\"}}, \"title\": {\"x\": 0.05}, \"xaxis\": {\"automargin\": true, \"gridcolor\": \"white\", \"linecolor\": \"white\", \"ticks\": \"\", \"title\": {\"standoff\": 15}, \"zerolinecolor\": \"white\", \"zerolinewidth\": 2}, \"yaxis\": {\"automargin\": true, \"gridcolor\": \"white\", \"linecolor\": \"white\", \"ticks\": \"\", \"title\": {\"standoff\": 15}, \"zerolinecolor\": \"white\", \"zerolinewidth\": 2}}}},\n",
       "                        {\"responsive\": true}\n",
       "                    ).then(function(){\n",
       "                            \n",
       "var gd = document.getElementById('42686996-1a1a-46be-8deb-5daebb9de1b4');\n",
       "var x = new MutationObserver(function (mutations, observer) {{\n",
       "        var display = window.getComputedStyle(gd).display;\n",
       "        if (!display || display === 'none') {{\n",
       "            console.log([gd, 'removed!']);\n",
       "            Plotly.purge(gd);\n",
       "            observer.disconnect();\n",
       "        }}\n",
       "}});\n",
       "\n",
       "// Listen for the removal of the full notebook cells\n",
       "var notebookContainer = gd.closest('#notebook-container');\n",
       "if (notebookContainer) {{\n",
       "    x.observe(notebookContainer, {childList: true});\n",
       "}}\n",
       "\n",
       "// Listen for the clearing of the current output cell\n",
       "var outputEl = gd.closest('.output');\n",
       "if (outputEl) {{\n",
       "    x.observe(outputEl, {childList: true});\n",
       "}}\n",
       "\n",
       "                        })\n",
       "                };\n",
       "                });\n",
       "            </script>\n",
       "        </div>"
      ]
     },
     "metadata": {},
     "output_type": "display_data"
    }
   ],
   "source": [
    "city = Region(99000, 1000, 0, 0)\n",
    "epidemic = dynamic.estimate(city)\n",
    "fig = SIRQt.plot(epidemic)\n",
    "sample = Sample(epidemic, np.arange(T//10, T, T//10), 100000*np.ones(9), 1000*np.ones(9), Bin, seed=0)\n",
    "sample.plot(fig)\n",
    "confirmed = Confirmed(epidemic, np.arange(T//10, T, T//10))\n",
    "confirmed.plot(fig)"
   ]
  },
  {
   "cell_type": "code",
   "execution_count": 61,
   "metadata": {},
   "outputs": [],
   "source": [
    "def loglikely(epidemic, sample, law_s, confirmed, law_c, weight_c=1, verbose=False, **kvargs):\n",
    "    ll = 0\n",
    "\n",
    "    if sample is not None:\n",
    "        ms = sample.m\n",
    "        ns = sample.n\n",
    "        ds = epidemic.I[sample.t] / ms\n",
    "        ks = sample.positive\n",
    "        ll = sum(law_s.loglikely(n, d, k) for n, d, k in zip(ns, ds, ks)) / len(ns)\n",
    "    if verbose:\n",
    "        print('sample', ll)\n",
    "\n",
    "    if confirmed is not None:\n",
    "        qs = epidemic.Q[confirmed.t]\n",
    "        cs = confirmed.c\n",
    "        ll += weight_c * sum(law_c.loglikely(n, 1, k) for n, k in zip(qs, cs)) / len(qs)\n",
    "    if verbose:\n",
    "        print('confirmed', ll)\n",
    "\n",
    "    return ll\n",
    "\n",
    "\n",
    "def likelihood(epidemic, sample, law_s, confirmed, law_c, weight_c=1):\n",
    "    return np.exp(loglikely(epidemic, sample, law_s, confirmed, law_c, weight_c))\n",
    "\n",
    "\n",
    "class InferSIRQt:\n",
    "    def __init__(self, law_s=Bin, law_c=Poi, weight_c=1, \n",
    "                 penalty_b=variation1, weight_b=1, penalty_t=variation1, weight_t=1, algo='map'):\n",
    "        self.law_s = law_s\n",
    "        self.law_c = law_c\n",
    "        self.weight_c = weight_c\n",
    "        self.penalty_b = penalty_b\n",
    "        self.weight_b = weight_b\n",
    "        self.penalty_t = penalty_t\n",
    "        self.weight_t = weight_t\n",
    "        self.algo = algo\n",
    "        self.dynamic = None\n",
    "        self.walker = None\n",
    "        self.funcval = None\n",
    "        \n",
    "    def self_plot(self, **options):\n",
    "        return self.dynamic.self_plot(**options)\n",
    "    \n",
    "    def __repr__(self):\n",
    "        self.self_plot().show()\n",
    "        return \"Function value={}\".format(self.funcval)\n",
    "\n",
    "    def fit(self, region, sample, confirmed, **options):\n",
    "        if self.algo == \"map\":\n",
    "            self.fit_beta_gamma_theta_map(region, sample, confirmed, **options)\n",
    "        elif self.algo == \"mcmc\":\n",
    "            self.fit_beta_gamma_theta_mh(region, sample, confirmed, **options)\n",
    "            \n",
    "    def fit_beta_gamma_theta_map(self, region, sample, confirmed, **options):        \n",
    "        def func(x):\n",
    "            d = len(x) // 2 + 1\n",
    "            dynamic = SIRQt(x[1:d], x[0], x[d:])\n",
    "            epidemic = dynamic.estimate(region, d-1)\n",
    "            ll = -loglikely(epidemic, sample, self.law_s, confirmed, self.law_c, self.weight_c, **options)\n",
    "            ll += self.weight_b * self.penalty_b(x[1:d])\n",
    "            ll += self.weight_t * self.penalty_t(x[d:])\n",
    "            return ll\n",
    "        \n",
    "        x0 = np.ones(1 + 2 * max(confirmed.t[-1], sample.t[-1]))\n",
    "        d = len(x0) // 2 + 1\n",
    "        x0[0] = 0.03\n",
    "        x0[1:d] = 0.2\n",
    "        x0[d:] = 0.04\n",
    "        res = minimize(func, x0, method='nelder-mead', options={'xatol': 1e-8, 'disp': True, 'maxiter': 1000000})\n",
    "#        res = dual_annealing(func, np.tile([0, 1], (len(x0), 1)), maxiter=100000, seed=0)\n",
    "        self.dynamic = SIRQt(res.x[1:d], res.x[0], res.x[d:])\n",
    "        self.funcval = res.fun"
   ]
  },
  {
   "cell_type": "code",
   "execution_count": 62,
   "metadata": {},
   "outputs": [
    {
     "name": "stdout",
     "output_type": "stream",
     "text": [
      "Optimization terminated successfully.\n",
      "         Current function value: 2840.870400\n",
      "         Iterations: 152\n",
      "         Function evaluations: 276\n"
     ]
    },
    {
     "data": {
      "application/vnd.plotly.v1+json": {
       "config": {
        "plotlyServerURL": "https://plot.ly"
       },
       "data": [
        {
         "name": "log(-loglikely)",
         "showscale": false,
         "type": "contour",
         "x": [
          0.01,
          0.010831631524280023,
          0.01173242414777768,
          0.012708129525529292,
          0.013764977638335682,
          0.014909716571840646,
          0.01614965560376294,
          0.017492711874398423,
          0.018947460938388148,
          0.020523191520530944,
          0.022229964825261943,
          0.024078678778494334,
          0.026081137612015182,
          0.02825012723473889,
          0.03059949687207196,
          0.03314424749466426,
          0.03590062760117447,
          0.03888623696663189,
          0.04212013901883932,
          0.04562298256035173,
          0.04941713361323833,
          0.05352681822847106,
          0.057978277171791374,
          0.06279993347374203,
          0.06802257391368725,
          0.0736795455966163,
          0.07980696887789365,
          0.08644396799550276,
          0.09363292088239417,
          0.10141972975401581,
          0.10985411419875583,
          0.11898992864271016,
          0.12888550621582098,
          0.13960403121500756,
          0.15121394254250484,
          0.1637893706954064,
          0.17741061109663506,
          0.19216463678960968,
          0.2081456537702157,
          0.22545570250193436,
          0.2442053094548651,
          0.2645141928287876,
          0.286512026966378,
          0.31033927033743886,
          0.3361480623809065,
          0.3641031949310675,
          0.3943831644306426,
          0.427181311649226,
          0.46270705618430463,
          0.5011872336272722
         ],
         "y": [
          0.01,
          0.010831631524280023,
          0.01173242414777768,
          0.012708129525529292,
          0.013764977638335682,
          0.014909716571840646,
          0.01614965560376294,
          0.017492711874398423,
          0.018947460938388148,
          0.020523191520530944,
          0.022229964825261943,
          0.024078678778494334,
          0.026081137612015182,
          0.02825012723473889,
          0.03059949687207196,
          0.03314424749466426,
          0.03590062760117447,
          0.03888623696663189,
          0.04212013901883932,
          0.04562298256035173,
          0.04941713361323833,
          0.05352681822847106,
          0.057978277171791374,
          0.06279993347374203,
          0.06802257391368725,
          0.0736795455966163,
          0.07980696887789365,
          0.08644396799550276,
          0.09363292088239417,
          0.10141972975401581,
          0.10985411419875583,
          0.11898992864271016,
          0.12888550621582098,
          0.13960403121500756,
          0.15121394254250484,
          0.1637893706954064,
          0.17741061109663506,
          0.19216463678960968,
          0.2081456537702157,
          0.22545570250193436,
          0.2442053094548651,
          0.2645141928287876,
          0.286512026966378,
          0.31033927033743886,
          0.3361480623809065,
          0.3641031949310675,
          0.3943831644306426,
          0.427181311649226,
          0.46270705618430463,
          0.5011872336272722
         ],
         "z": [
          [
           7.813341634118016,
           7.770760608885982,
           7.726480355151041,
           7.68067278873773,
           7.633582319622617,
           7.585542010426608,
           7.536991530042628,
           7.488496060887289,
           7.44076456184947,
           7.394664762295473,
           7.351231029661763,
           7.311660040451951,
           7.277288458942033,
           7.249547314932161,
           7.2298903024496965,
           7.219698307398356,
           7.220169655293088,
           7.232212902296315,
           7.256363281668669,
           7.292742149697003,
           7.341070177640984,
           7.400732237425326,
           7.470879902373646,
           7.550550740229858,
           7.638783703055145,
           7.7347152443994975,
           7.837647992721253,
           7.947089889155901,
           8.062765040458297,
           8.184597792001867,
           8.312668856948683,
           8.447136540977064,
           8.588105849424682,
           8.735411579775114,
           8.888262876967545,
           9.044717284462813,
           9.20114705962817,
           9.352332577114277,
           9.492936211929512,
           9.619772035538993,
           9.732892613039278,
           9.834681207881395,
           9.928217496227898,
           10.016239068847378,
           10.100857787190892,
           10.183643411234344,
           10.265787276945503,
           10.348243591908814,
           10.431834259292023,
           10.51732773147093
          ],
          [
           7.734334732260542,
           7.690799275176151,
           7.645410258768866,
           7.5983283225802625,
           7.549789480237762,
           7.500123162486244,
           7.4497726916162526,
           7.399317418208656,
           7.349494895390593,
           7.301220245877704,
           7.255598329379784,
           7.213922672483699,
           7.1776539264149894,
           7.148370798202983,
           7.127689119951892,
           7.117150838402906,
           7.118093852893974,
           7.131523356873703,
           7.158011307314232,
           7.197648582787437,
           7.250063117931109,
           7.314500501459078,
           7.3899481571307435,
           7.475276358818421,
           7.569370682843205,
           7.671238294853433,
           7.78008001608892,
           7.895327616595569,
           8.016649535154905,
           8.143928202336328,
           8.277208890319171,
           8.41661355626266,
           8.56220223752329,
           8.713747440531906,
           8.870369437225207,
           9.030007771793294,
           9.188915130543421,
           9.341830658930993,
           9.483532382222737,
           9.611070450991317,
           9.724721110384321,
           9.826994097758284,
           9.921011422419983,
           10.009514757160396,
           10.094610709892542,
           10.177864382162307,
           10.260464689776205,
           10.343365179598134,
           10.427388229704231,
           10.513303519457294
          ],
          [
           7.651487530552621,
           7.606905080050039,
           7.56030031789097,
           7.511820107472076,
           7.461689446537209,
           7.410231598683752,
           7.357891434261555,
           7.305261336574615,
           7.253108070250964,
           7.2023975660386705,
           7.154312639368726,
           7.110256444848654,
           7.071832604148004,
           7.040792616275852,
           7.018943995086856,
           7.008019977344828,
           7.009523447767147,
           7.024570836338747,
           7.0537701427087045,
           7.097164746761969,
           7.154259494048898,
           7.224123042149904,
           7.305540601088753,
           7.397182242049003,
           7.497755499870668,
           7.606122424403326,
           7.721373883824196,
           7.842863034273439,
           7.970203835849762,
           8.10323987357272,
           8.241984624024402,
           8.386527001128034,
           8.536884347245165,
           8.692767507925627,
           8.853206564276258,
           9.01602116191707,
           9.177347385092594,
           9.331898451899054,
           9.474593926738484,
           9.602742637273241,
           9.716853701618618,
           9.819561673637361,
           9.914025578902192,
           10.002986335079898,
           10.088541896337373,
           10.172250511208132,
           10.255297291351553,
           10.338634251579247,
           10.423083697694217,
           10.50941620140679
          ],
          [
           7.564635464635114,
           7.518897497801306,
           7.470951430930321,
           7.420927305465503,
           7.369035843295106,
           7.315590887276665,
           7.2610360029634675,
           7.205974796111516,
           7.1512034398720425,
           7.097742210454701,
           7.046860413374377,
           7.000086114763667,
           6.959189277008514,
           6.926125745278963,
           6.9029323299265135,
           6.8915722227885166,
           6.8937454545415315,
           6.9106970914222705,
           6.943067852024441,
           6.990828639909254,
           7.053319458238261,
           7.1293823646101435,
           7.217552234253295,
           7.316259407535811,
           7.424005723080369,
           7.53949222459385,
           7.661693495979035,
           7.789884352440066,
           7.923628374780226,
           8.0627360585719,
           8.207194996585123,
           8.35706614182651,
           8.512327684516013,
           8.672630206625364,
           8.836912659179633,
           9.002873380922873,
           9.166536411904126,
           9.322607313224772,
           9.46617566900818,
           9.594831992363806,
           9.70932618286525,
           9.812414486899979,
           9.907286677813845,
           9.996677568573794,
           10.082672778966655,
           10.166821341907351,
           10.250303072509578,
           10.334067509484447,
           10.41893628982703,
           10.505680509990492
          ],
          [
           7.473627428339765,
           7.426607321922816,
           7.377173081143912,
           7.3254341684525,
           7.271582920879826,
           7.2159195322284715,
           7.158882361515063,
           7.101083424187805,
           7.043347772536059,
           6.986753498129102,
           6.932666084831598,
           6.882756876663802,
           6.83899124905045,
           6.803569595121261,
           6.778806693355163,
           6.766945996006169,
           6.769926013844037,
           6.789141193975887,
           6.825257069803007,
           6.8781350827405365,
           6.946892330418897,
           7.0300783134343146,
           7.125916779933828,
           7.232551434066527,
           7.348248444709444,
           7.471533331865865,
           7.601261501887903,
           7.7366338714630265,
           7.877171784730558,
           8.02266188737031,
           8.173074573664387,
           8.328449974587764,
           8.488732046972437,
           8.653513255382775,
           8.821640796566609,
           8.99069083487865,
           9.15658182135188,
           9.314033265884463,
           9.458335831771313,
           9.58738473944879,
           9.702176889425495,
           9.805585423143828,
           9.900823580809549,
           9.990614201156294,
           10.077026611180099,
           10.161598099369089,
           10.245501583512722,
           10.329683108524016,
           10.414962995508738,
           10.50211246404653
          ],
          [
           7.378333555762137,
           7.329884358906426,
           7.278790826500505,
           7.225137155452779,
           7.169092057783849,
           7.110936518860804,
           7.051098307805779,
           6.990193543357058,
           6.9290744097689085,
           6.868879851869271,
           6.8110823634884,
           6.757518697307239,
           6.710386186866542,
           6.672181766714199,
           6.645562295954261,
           6.633118193103797,
           6.63708048568123,
           6.659017623418649,
           6.699604134806411,
           6.758536600924827,
           6.834627559538313,
           6.926045910791383,
           7.030627826955432,
           7.146175883104409,
           7.27068993224779,
           7.402509239023089,
           7.540372951786995,
           7.683418627401388,
           7.831138931625854,
           7.9833102584840585,
           8.139897753128515,
           8.300930133413063,
           8.466323436522229,
           8.635614799315077,
           8.80755923169051,
           8.97961045064214,
           9.147590037552455,
           9.306256766061535,
           9.451135904693794,
           9.580449906704839,
           9.695446751081708,
           9.799109797944023,
           9.89466741347281,
           9.984824075069815,
           10.071628589097827,
           10.156603809534259,
           10.240914049413579,
           10.325500768510029,
           10.411182273753816,
           10.49872947150059
          ],
          [
           7.278655425341958,
           7.228607656677232,
           7.175656427732996,
           7.11985476758429,
           7.061341011885698,
           7.0003695525128045,
           6.937350081785475,
           6.872896284255779,
           6.807883724945284,
           6.743514141622702,
           6.681378795535489,
           6.62350649917811,
           6.572372951846112,
           6.5308399673036,
           6.501992626474359,
           6.488858675731932,
           6.494033649123978,
           6.519288823699518,
           6.565278139541419,
           6.631449194861238,
           6.716193844272917,
           6.817182527656347,
           6.931768745428794,
           7.057352927076243,
           7.1916406034766025,
           7.332781686524483,
           7.479411136866136,
           7.63062222556139,
           7.785899475031352,
           7.945027856893672,
           8.107982873561221,
           8.274793588692955,
           8.445355709933924,
           8.619154254214946,
           8.794851608899334,
           8.969779434735504,
           9.139673865114393,
           9.299362323581342,
           9.444640431229708,
           9.574079266560014,
           9.689179327726533,
           9.793025443729944,
           9.888851676918657,
           9.979337253331146,
           10.066505976493726,
           10.151863423074678,
           10.236563491004057,
           10.321541891074494,
           10.407614166554364,
           10.49555043918051
          ],
          [
           7.174539260431741,
           7.122698926303216,
           7.067661368389135,
           7.009440958531271,
           6.948136885049923,
           6.883967051485972,
           6.8173125895711975,
           6.74877487262424,
           6.679245834406217,
           6.609989659333782,
           6.542728415676583,
           6.4797148722544495,
           6.423762579870459,
           6.378189623964392,
           6.346627637123731,
           6.332667096091195,
           6.339365988927312,
           6.368731075296769,
           6.421341872297385,
           6.496267226655886,
           6.591311424459642,
           6.703488874565472,
           6.829554640662326,
           6.966443132109155,
           7.111546214450859,
           7.262834828173733,
           7.418865434290205,
           7.578717521745375,
           7.741896589470825,
           7.908220968192509,
           8.077695953973423,
           8.250364921497592,
           8.426111797985559,
           8.604372726201222,
           8.783716760795416,
           8.961354668185438,
           9.132951780884392,
           9.293437951624465,
           9.438916704782727,
           9.568327229713665,
           9.683420822251046,
           9.787372785485049,
           9.88341235487295,
           9.974186141416808,
           10.06168823207568,
           10.14740394342897,
           10.232474851096699,
           10.317829683030002,
           10.404280418958916,
           10.492595889764056
          ],
          [
           7.065992720802247,
           7.012139878875107,
           6.954754638915347,
           6.8938031652460054,
           6.829334036109824,
           6.761515322685998,
           6.69068483645549,
           6.6174167570548015,
           6.542607105471357,
           6.467577791121664,
           6.394192519205384,
           6.324965570312285,
           6.263125177371105,
           6.212570216432098,
           6.177645523680678,
           6.162683221914724,
           6.171340194561883,
           6.205892890323576,
           6.266749011615536,
           6.352394952399174,
           6.45980552479035,
           6.585130234670716,
           6.7243904560831735,
           6.873996415720449,
           7.031025828495961,
           7.193302927391595,
           7.359350568540919,
           7.528279494543465,
           7.699655255873244,
           7.873360610196824,
           8.049453697728287,
           8.228007897805778,
           8.40890428296826,
           8.591532840626618,
           8.774367966795356,
           8.95450164461255,
           9.127546898984397,
           9.288574423912038,
           9.434034366275526,
           9.563250690144178,
           9.678220067872866,
           9.782194902914858,
           9.878388014347262,
           9.969405607174917,
           10.057207138117075,
           10.14325455832898,
           10.228675125776093,
           10.31438928574051,
           10.401204605915641,
           10.489888086071069
          ],
          [
           6.953105794185939,
           6.89699417242623,
           6.836965707770175,
           6.772926157423074,
           6.704858463633919,
           6.632862799067855,
           6.557212802314334,
           6.478433076016414,
           6.3974029699202415,
           6.31548937237101,
           6.234704092982765,
           6.157865563432636,
           6.0887163302835114,
           6.031909093044085,
           5.992743344544471,
           5.9765564312083495,
           5.987799291582328,
           6.0290466511998195,
           6.100356828569996,
           6.199308069037257,
           6.321693495785588,
           6.462526781091267,
           6.616949938420898,
           6.7808137612734365,
           6.950916324146279,
           7.125000546399294,
           7.301626075964244,
           7.4799972170004105,
           7.659789252444075,
           7.840986332259349,
           8.02372529164535,
           8.20812600464351,
           8.394075082926763,
           8.580917784077444,
           8.767031519758055,
           8.949392850885634,
           9.123585558957766,
           9.28486432201401,
           9.4300648984637,
           9.55890881879729,
           9.673628487535352,
           9.777537576744965,
           9.873819897885907,
           9.965033097365716,
           10.053096929264573,
           10.139446774016006,
           10.225193500135195,
           10.311247910278377,
           10.39841226587327,
           10.48745116287757
          ],
          [
           6.83607601251214,
           6.77743445156289,
           6.714433493937873,
           6.646902941698826,
           6.574740418734165,
           6.497953725567012,
           6.416722839417056,
           6.331489194529253,
           6.243081130286725,
           6.152883399848471,
           6.063051641016136,
           5.9767530243711215,
           5.898373191364152,
           5.833564085186592,
           5.788941228840836,
           5.771250373779957,
           5.786024089967367,
           5.836138749347486,
           5.920973723257697,
           6.036668884460889,
           6.177324832380037,
           6.336484278741279,
           6.5082798450021615,
           6.688021772299065,
           6.872321585532559,
           7.058952903304431,
           7.246613877101181,
           7.434683286690524,
           7.623005654656528,
           7.811707854837335,
           8.001032433552483,
           8.191161553166829,
           8.381993952683056,
           8.572829334751964,
           8.761944432025981,
           8.946205486735835,
           9.12119549355539,
           9.282400863201682,
           9.427081017064058,
           9.555362805690043,
           9.669700023687204,
           9.77344931692406,
           9.869752005258144,
           9.961108749058555,
           10.049394420164608,
           10.13601455118248,
           10.222061487877168,
           10.308434978042175,
           10.395931041063658,
           10.485311266390886
          ],
          [
           6.715237595173879,
           6.653774417093901,
           6.587441733324158,
           6.515973726238646,
           6.439157066295549,
           6.356874157632014,
           6.269169730176749,
           6.176351836947063,
           6.079141839797713,
           5.978889906114209,
           5.877867849770327,
           5.779628829705724,
           5.689364984328276,
           5.614082682269345,
           5.562275012634642,
           5.542741123781472,
           5.5625332972558335,
           5.624755841060395,
           5.72748166159713,
           5.864536154002779,
           6.027601798290105,
           6.208377485522701,
           6.399931091264957,
           6.597156733907312,
           6.796661726669946,
           6.9964221928695896,
           7.195410737719464,
           7.3932784563380345,
           7.590105337810515,
           7.786203567844894,
           7.981946946646251,
           8.177592912039279,
           8.37305548130746,
           8.567584632527,
           8.759351100918039,
           8.945118425149985,
           9.12050354663426,
           9.281276511097289,
           9.425155965156808,
           9.55267555280761,
           9.666491037672262,
           9.769981370732275,
           9.866231162417249,
           9.957675493958702,
           10.046139130371447,
           10.13299444150574,
           10.219313074020754,
           10.305982266399518,
           10.39379082431363,
           10.483496701482405
          ],
          [
           6.591092982731707,
           6.526504780287794,
           6.456460167653116,
           6.380573206801056,
           6.2984866449443295,
           6.209913381404487,
           6.114704732828724,
           6.012960887335011,
           5.9052061899168145,
           5.792659665143669,
           5.677633610586431,
           5.564073480490054,
           5.458174246698447,
           5.3688197307489025,
           5.307292146389271,
           5.2855335204890155,
           5.312807883242662,
           5.392157503057948,
           5.519115982906228,
           5.683738317461368,
           5.874316202058304,
           6.080394410120007,
           6.2941110210353175,
           6.510248422067189,
           6.725713458526844,
           6.938923253688127,
           7.149291168808227,
           7.356848639055387,
           7.56197774141615,
           7.765214822568418,
           7.967085311782675,
           8.167929419978845,
           8.367674248812977,
           8.565511424571666,
           8.75949875314891,
           8.946308333432782,
           9.121632935039582,
           9.281581387847798,
           9.424362725373866,
           9.550911323372096,
           9.664060179117705,
           9.767187709144423,
           9.863307075562663,
           9.954779153614682,
           10.043373404831474,
           10.130425723471834,
           10.216984859799734,
           10.303924058802954,
           10.39202391215268,
           10.482038086729975
          ],
          [
           6.4643433937058825,
           6.396330109677043,
           6.32218919206888,
           6.241384827503156,
           6.15337438367308,
           6.057643480069065,
           5.953769997345949,
           5.841537346618404,
           5.721130234043362,
           5.5934644486845535,
           5.460721551856075,
           5.327158232100425,
           5.200173069084043,
           5.091303908271694,
           5.016179618615667,
           4.991853694407324,
           5.0309362832612505,
           5.13551138184502,
           5.296069129498529,
           5.4965156858693165,
           5.7206352405556675,
           5.955832527513666,
           6.193835123418196,
           6.429883628581532,
           6.661627220355076,
           6.88821942612432,
           7.109695307800725,
           7.326571152398096,
           7.539588120050099,
           7.749534998834827,
           7.957099497606961,
           8.162703551030878,
           8.366277806789611,
           8.566941520499697,
           8.762631504429201,
           8.949944910813153,
           9.124700083313758,
           9.283401527866426,
           9.424773173878776,
           9.550135356700514,
           9.662468227075438,
           9.76512499027634,
           9.861032368235742,
           9.952468523378869,
           10.041142528091907,
           10.128350536026526,
           10.215116208700465,
           10.30229729870887,
           10.390665163900483,
           10.480968517278457
          ],
          [
           6.335912467413203,
           6.264200836762507,
           6.185602734398699,
           6.099397815433726,
           6.004807875062432,
           5.901018085684202,
           5.787226005807752,
           5.662743050370266,
           5.527193609189268,
           5.380892323118903,
           5.225534043927422,
           5.065387644028458,
           4.909146048588158,
           4.772133289653536,
           4.677150678495621,
           4.6502387939410275,
           4.709266592759959,
           4.85269156847505,
           5.060736815716527,
           5.307560995523173,
           5.571730584264977,
           5.83939558639994,
           6.103029436917399,
           6.359216014346778,
           6.606901298165625,
           6.84628776949815,
           7.078196115307833,
           7.303707313031122,
           7.5239558132928215,
           7.7399925698039205,
           7.952663618063883,
           8.162459978235889,
           8.369297172476049,
           8.572202209408532,
           8.768982913568731,
           8.956185258273077,
           9.129811108097982,
           9.28681703887119,
           9.426457210538551,
           9.550413461715731,
           9.661777906185552,
           9.763852499347252,
           9.8594625995659,
           9.950795442975103,
           10.039494830269671,
           10.126814008447528,
           10.21374939244293,
           10.301141746515045,
           10.389752166338784,
           10.480323735488478
          ],
          [
           6.206954085482271,
           6.1313312891089105,
           6.047980284044669,
           5.955958524778143,
           5.854195175472716,
           5.741487440489634,
           5.616516897106837,
           5.477911498630305,
           5.324407130808955,
           5.155220636076439,
           4.970860406033168,
           4.774797262028643,
           4.576622795445892,
           4.39693112493206,
           4.27118847685595,
           4.242963940445057,
           4.338551774232714,
           4.544570718471122,
           4.820128519933816,
           5.125509368680559,
           5.435419708802014,
           5.737360357905511,
           6.0264996501635535,
           6.301877219127047,
           6.564291010980891,
           6.815243653205077,
           7.056441582573323,
           7.289559626096744,
           7.516122845639818,
           7.7374278643928385,
           7.954456207109914,
           8.167741300557742,
           8.377154575244562,
           8.581605439034433,
           8.778766991379173,
           8.965167485577451,
           9.137058090198032,
           9.291900264519773,
           9.429481910053187,
           9.551811605886629,
           9.662053682697225,
           9.763432065308127,
           9.858656262072476,
           9.949814851582888,
           10.038481782752664,
           10.125864384718819,
           10.212929735590285,
           10.30050013862998,
           10.389325403502701,
           10.48014230931657
          ],
          [
           6.078833223926034,
           5.999191649631219,
           5.9109150881130805,
           5.812802601827341,
           5.703432694211685,
           5.581119915677746,
           5.443872554486691,
           5.289369312262579,
           5.115002960282636,
           4.918114760080726,
           4.696733346466551,
           4.451590841967249,
           4.191145920970645,
           3.9422939195212305,
           3.764643802032701,
           3.741271075013305,
           3.9107639330600916,
           4.220990775922797,
           4.5899179505422865,
           4.964515885464243,
           5.32242379007465,
           5.657380497670775,
           5.969658389211071,
           6.261745115814461,
           6.536637119679128,
           6.797220058205442,
           7.046071261842759,
           7.285414036999522,
           7.5171134563179525,
           7.7426639320782815,
           7.963138251792501,
           8.179070350491978,
           8.390248268984543,
           8.59543464859608,
           8.792167757572757,
           8.977003783083132,
           9.146515343974912,
           9.29871407156656,
           9.433910747791302,
           9.55439551950099,
           9.66336154667424,
           9.76392795509019,
           9.858674757825716,
           9.949584825494103,
           10.038158081607703,
           10.125553140619456,
           10.21270575738187,
           10.300418347706838,
           10.389428431075986,
           10.48046581836288
          ],
          [
           5.953069526746915,
           5.869461712464832,
           5.776284179054025,
           5.672051159880667,
           5.554943825662545,
           5.422710500203004,
           5.27253354122038,
           5.100856799972889,
           4.903181259831877,
           4.673892400424655,
           4.406385991822129,
           4.094478467942213,
           3.7385705452594666,
           3.367231437791678,
           3.0892314157024625,
           3.0979399722326546,
           3.4335619005446762,
           3.9139308494230973,
           4.3990578812619905,
           4.844512784240227,
           5.245516656241899,
           5.607654869061179,
           5.937929662111817,
           6.242553815586755,
           6.526616481035092,
           6.794207787334357,
           7.0486123772342095,
           7.292470892989828,
           7.527886823375145,
           7.756472749193549,
           7.979327506049077,
           8.196929157115079,
           8.408934326082305,
           8.61392930308151,
           8.809327638382287,
           8.991773341011616,
           9.158235969695188,
           9.307310408774393,
           9.439802959956493,
           9.558230337189132,
           9.66576878797677,
           9.765406747282968,
           9.8595823522806,
           9.950166596651357,
           10.03858171675609,
           10.125935091733673,
           10.213129309340788,
           10.300945543030362,
           10.390108054855522,
           10.481339047547012
          ],
          [
           5.831240820632335,
           5.7439414043071375,
           5.64617189504989,
           5.536157852894564,
           5.411668615453639,
           5.269848378368924,
           5.106964116153292,
           4.918019329691131,
           4.696147030585375,
           4.4316395496572785,
           4.110422790930421,
           3.7120164988961184,
           3.209655880546842,
           2.5959478134038427,
           2.070568204230876,
           2.259064329102179,
           2.9848453803710293,
           3.6946379953880095,
           4.288713548103067,
           4.7875597793359175,
           5.216894192645731,
           5.595377511377993,
           5.935872567921611,
           6.2473937031197195,
           6.536448818728465,
           6.807877551319004,
           7.065367894762297,
           7.311771723355979,
           7.549286913749711,
           7.779538767275445,
           8.003569914235737,
           8.221734764769062,
           8.433505472644333,
           8.637267429014514,
           8.830335274659042,
           9.009515677275925,
           9.172249043495794,
           9.31772929896571,
           9.44721309856193,
           9.563380298978922,
           9.669343774487647,
           9.767937187913063,
           9.861446105719274,
           9.95162455075273,
           10.03981402516969,
           10.127068490666874,
           10.214255707228837,
           10.302134350054013,
           10.391414512778066,
           10.482810188443677
          ],
          [
           5.714861862962371,
           5.624432157461104,
           5.522758151527227,
           5.407812375066659,
           5.276999117688953,
           5.126918512695658,
           4.9529942575518255,
           4.748858648038493,
           4.505278168192715,
           4.208139934788365,
           3.8343220869744625,
           3.342154845321014,
           2.64563395321006,
           1.5339251169935786,
           0,
           1.4925170123792055,
           2.800638057747014,
           3.6569810339057756,
           4.29510799836525,
           4.809206553317658,
           5.244221840800892,
           5.6248885284757755,
           5.966265860163509,
           6.278228057563437,
           6.567624988643854,
           6.839418080160601,
           7.097314656544542,
           7.3441314825661035,
           7.581994480334156,
           7.8124222078797,
           8.036309078030529,
           8.253812177030861,
           8.464167250327609,
           8.66554683994726,
           8.855213663033899,
           9.03022511458967,
           9.18855784504611,
           9.329998422900026,
           9.456190835736525,
           9.56990853141845,
           9.674155741393609,
           9.771590031815478,
           9.864335782966094,
           9.954026204120163,
           10.041919726659895,
           10.12901511193763,
           10.216143856031751,
           10.304041008168065,
           10.393401660097474,
           10.48493104844754
          ],
          [
           5.60528391168522,
           5.512637023778484,
           5.4082201362085955,
           5.289846118759383,
           5.154694690655807,
           4.999040708097755,
           4.817819612692124,
           4.603897811735128,
           4.346771974158544,
           4.030068280547941,
           3.6262409006419256,
           3.0837831661501993,
           2.2908692005212576,
           0.9730321694279103,
           0.21057482285383727,
           1.9376977573624958,
           3.058125005699426,
           3.829768015122089,
           4.422925362954804,
           4.910051485201108,
           5.3276151832596605,
           5.696438452115671,
           6.029532705835461,
           6.3355927673227725,
           6.62073419174196,
           6.8894281685681324,
           7.1450308182796505,
           7.390086133878302,
           7.6264861124295384,
           7.855524267417391,
           8.077854503265632,
           8.293364736589773,
           8.501012179441304,
           8.6987663010337,
           8.883909953510974,
           9.053847289859473,
           9.207139523868944,
           9.344133427841356,
           9.466781057945862,
           9.577876925202167,
           9.680274600038993,
           9.77643787382447,
           9.868323742866403,
           9.957442159191581,
           10.044966941302466,
           10.131840323336123,
           10.21885636688419,
           10.306725525964692,
           10.396127157489232,
           10.487757268166854
          ],
          [
           5.503699938707838,
           5.410172186936294,
           5.304747363272534,
           5.185243937556857,
           5.048874973502757,
           4.892009443408492,
           4.709811113734474,
           4.495681498715347,
           4.240395942152833,
           3.9308217950801856,
           3.5484808563587493,
           3.0711632474391126,
           2.5004697949689643,
           2.026553047231337,
           2.185882756023073,
           2.8594562640029078,
           3.550126153528716,
           4.140734916644293,
           4.6419111285025,
           5.075870563694896,
           5.459925308243039,
           5.806333963683353,
           6.123790029921096,
           6.418597821047568,
           6.695444685255861,
           6.957889528381318,
           7.208666317129629,
           7.449862509512598,
           7.683003528805711,
           7.909055351368441,
           8.128348877689637,
           8.340442396903265,
           8.543993276930886,
           8.736808620616486,
           8.916288605561384,
           9.080278628396162,
           9.227946539917532,
           9.36013904085634,
           9.479024268748866,
           9.587346119356974,
           9.68777077391562,
           9.78255497462911,
           9.873484809937095,
           9.961946039321926,
           10.049027188187372,
           10.135613143024852,
           10.22245966521888,
           10.310251833585406,
           10.399652662173652,
           10.491348547801728
          ],
          [
           5.411379450816637,
           5.318825489406877,
           5.2148171391597815,
           5.097417342723106,
           4.9642434966692,
           4.812355248527998,
           4.63814212717309,
           4.437280827422926,
           4.204992375462133,
           3.9373212882411,
           3.6356195149139574,
           3.320033660636858,
           3.059952122235913,
           2.991251869134236,
           3.202013432405491,
           3.603361045361024,
           4.059802416039798,
           4.502513119158152,
           4.911681616298941,
           5.286163158126429,
           5.630078508540691,
           5.948362148344888,
           6.24549104864653,
           6.525225012378957,
           6.790640046759324,
           7.04422367078078,
           7.287958737459452,
           7.523371525542103,
           7.7515330788809065,
           7.973005734758984,
           8.187734094674484,
           8.394908874676448,
           8.592899382674071,
           8.779428493935283,
           8.952129837918553,
           9.109369606989631,
           9.250910066684398,
           9.378010987969045,
           9.492957290304323,
           9.598375593881572,
           9.696715067815376,
           9.790017086630108,
           9.879896131597647,
           9.967614404577072,
           10.054175366029964,
           10.140406282341784,
           10.227024089985617,
           10.314687932229255,
           10.404044022630385,
           10.49576888378773
          ],
          [
           5.330281953434292,
           5.241216029406257,
           5.141884938749539,
           5.030885252489468,
           4.906664510915581,
           4.76760575930665,
           4.612259706905784,
           4.439904055325516,
           4.251804586466979,
           4.053878921781028,
           3.8616692860896857,
           3.707034198513418,
           3.6388972488009914,
           3.701829487743499,
           3.8992078589859624,
           4.189927262397559,
           4.523937692248516,
           4.867075371367904,
           5.202214171482708,
           5.522671418633311,
           5.826908989863122,
           6.115621210160561,
           6.390337890658338,
           6.6527944663146235,
           6.904658202438104,
           7.1474097223237765,
           7.382283507833165,
           7.610218556463518,
           7.831791407556676,
           8.047116201501797,
           8.255715722003972,
           8.456410005879334,
           8.647336290055263,
           8.826248638146048,
           8.991135224456809,
           9.140932305819076,
           9.275945315423844,
           9.39773862301953,
           9.508614222374453,
           9.611023863716781,
           9.707178574243446,
           9.79890128551916,
           9.887637025473488,
           9.974526651388244,
           10.060489717254292,
           10.146296175186517,
           10.232623984577074,
           10.320106041614693,
           10.409371478175732,
           10.501086817733942
          ],
          [
           5.264180779452494,
           5.181959323455815,
           5.091548633054362,
           4.992351241882216,
           4.883988296894759,
           4.766559018828506,
           4.641105225488741,
           4.510407700172512,
           4.380247574263335,
           4.261094201325617,
           4.1695128568244675,
           4.127222469952317,
           4.155046997424574,
           4.262768298442611,
           4.4430772689693026,
           4.676219320956726,
           4.940181837154939,
           5.217585755571574,
           5.4972303471104125,
           5.772864039398657,
           6.041466199641175,
           6.301908519063754,
           6.554091440002629,
           6.798429576996378,
           7.035552115271079,
           7.266122600494191,
           7.49071665951105,
           7.70971828979765,
           7.923209756965724,
           8.130845357126216,
           8.331727037339917,
           8.524348110067352,
           8.70671938036349,
           8.876767957876009,
           9.032941711763286,
           9.17475218902473,
           9.30295845113918,
           9.419308069562168,
           9.52602758796288,
           9.625348758340264,
           9.719232619169611,
           9.809285813635116,
           9.89678882243776,
           9.98276490031698,
           10.068051778489709,
           10.153362996067793,
           10.239337781170494,
           10.32658274718128,
           10.415709865653934,
           10.507375700726532
          ],
          [
           5.220282747103715,
           5.149219109999115,
           5.072927435506308,
           4.99174596300406,
           4.906524299133259,
           4.818919897424464,
           4.731811808283009,
           4.64981385585959,
           4.57976338988064,
           4.530858364653731,
           4.513887787885638,
           4.5390776940749,
           4.612911736579564,
           4.735587180619383,
           4.900948495350021,
           5.0989515698407955,
           5.3188596716824605,
           5.551462739594757,
           5.78990297637907,
           6.029564873804865,
           6.267591010437191,
           6.502361438086824,
           6.733066552201988,
           6.959392612011567,
           7.181297777558139,
           7.39884785522792,
           7.612083660053396,
           7.82089786232268,
           8.024908289789423,
           8.223332123526307,
           8.414897596845705,
           8.597870622999643,
           8.770284555944809,
           8.930384675872663,
           9.07714415778613,
           9.210603309163243,
           9.331854477613696,
           9.442705595986261,
           9.545229572578233,
           9.641407764566305,
           9.732948747457888,
           9.821249941523192,
           9.907434712344815,
           9.992413877779398,
           10.07694632203928,
           10.16169067041259,
           10.247248081606607,
           10.334199150159419,
           10.423138836833393,
           10.514713977494523
          ],
          [
           5.210838520022494,
           5.15592748637562,
           5.09931174469597,
           5.042106496260938,
           4.986003362996436,
           4.933446623367723,
           4.887797153302394,
           4.8534120970475545,
           4.835523497560581,
           4.839782407863779,
           4.871409136524426,
           4.934095955262198,
           5.029059760489302,
           5.15470597352232,
           5.307087979965297,
           5.480912972075996,
           5.670620614937923,
           5.8711717990188035,
           6.078441761882141,
           6.289297346973644,
           6.501492904517525,
           6.713494024708262,
           6.924292593709324,
           7.133239983413801,
           7.339903203293888,
           7.543938077191711,
           7.744969852285944,
           7.942473553330202,
           8.135655608693774,
           8.323358302690295,
           8.504037742389334,
           8.67588437112216,
           8.837123541917865,
           8.986435174363152,
           9.123324791030967,
           9.248265349279514,
           9.362545244362902,
           9.467920899438875,
           9.56625325441819,
           9.659258406604069,
           9.748398747258802,
           9.834873854654932,
           9.919659600846934,
           10.003560799419336,
           10.087261294820001,
           10.171366882637324,
           10.256441739750331,
           10.343041025412342,
           10.431743091898664,
           10.523185496860526
          ],
          [
           5.253185209121868,
           5.21894544357011,
           5.1863285116362645,
           5.156768186107246,
           5.132106265567002,
           5.1146183911594205,
           5.1069833999624565,
           5.1121634850808535,
           5.133170732633394,
           5.172725011534805,
           5.23285751505766,
           5.3145629299391635,
           5.417615737097028,
           5.5406194213420425,
           5.681269690979364,
           5.8367366649261765,
           6.004048895144105,
           6.18039360975504,
           6.363300221322124,
           6.550716433814235,
           6.741006173433896,
           6.932900138877978,
           7.125422175634117,
           7.317805075839041,
           7.509401403175153,
           7.699589894570601,
           7.887676761550205,
           8.072795428842063,
           8.253820121381246,
           8.429327668773643,
           8.597657355717123,
           8.757106960728256,
           8.906245931319688,
           9.04424577047967,
           9.17108611511438,
           9.28754032824473,
           9.394956647867563,
           9.49494998312369,
           9.589133728454028,
           9.678958637973876,
           9.765654712630107,
           9.850238573099633,
           9.933549987332636,
           10.01629526494064,
           10.099087763587242,
           10.18248308982547,
           10.267009952597967,
           10.353198994271157,
           10.4416126368164,
           10.532879857477981
          ],
          [
           5.365756202297491,
           5.354150620402122,
           5.346397912522395,
           5.343754730010978,
           5.347658488150857,
           5.359688896832032,
           5.381496478250118,
           5.414696068200899,
           5.460731935150153,
           5.520732139481691,
           5.595379073495922,
           5.684825473101904,
           5.788677173410919,
           5.9060471277126005,
           6.035666464160813,
           6.176025593064571,
           6.325515915965355,
           6.482549243022407,
           6.645642723740087,
           6.813467002538981,
           6.984861685598615,
           7.158824691380634,
           7.334481700255937,
           7.511040171577803,
           7.687730659524803,
           7.863737842431041,
           8.038126443568046,
           8.209774696341169,
           8.377339922205953,
           8.539291171120079,
           8.694039126428704,
           8.840160855647984,
           8.976663523647595,
           9.103190558624764,
           9.220082349201293,
           9.328266642824632,
           9.429034207897049,
           9.523797376850386,
           9.61390904828262,
           9.700567224732472,
           9.78478914492586,
           9.86742591322277,
           9.94919387595934,
           10.030709176664818,
           10.112519878000944,
           10.195134551725912,
           10.279048370320291,
           10.364768722575949,
           10.452843075493979,
           10.543892801290552
          ],
          [
           5.559630872669378,
           5.5684198433261125,
           5.581833264421804,
           5.600732901745111,
           5.626025824288063,
           5.6586302538482265,
           5.699431087583864,
           5.7492277779821,
           5.808679615789638,
           5.878255370848332,
           5.958194907818165,
           6.048489241264847,
           6.148882544257399,
           6.258895602561764,
           6.377866299964192,
           6.5050000582864875,
           6.639422324006576,
           6.780226062591428,
           6.926509137725733,
           7.0773986132776265,
           7.232060801259051,
           7.389697016008572,
           7.549525576827545,
           7.710751059926654,
           7.872522894860487,
           8.033888161092513,
           8.193748777863187,
           8.350840803712167,
           8.503759648674016,
           8.651052094757901,
           8.791376914395997,
           8.923703008978427,
           9.047484214812998,
           9.162745287537529,
           9.27004419176192,
           9.37032854246767,
           9.464746486683016,
           9.554477560073025,
           9.640620942201863,
           9.724144108118475,
           9.805875096176614,
           9.886518502372752,
           9.966680734078517,
           10.04689669695255,
           10.12765486635519,
           10.209420391290827,
           10.292657239100059,
           10.377851157979906,
           10.46553595176184,
           10.55632667171058
          ],
          [
           5.831225891650736,
           5.854635304806042,
           5.882412542593473,
           5.915085395874411,
           5.95318350337114,
           5.997220472598221,
           6.0476734408165305,
           6.104961387349758,
           6.169423980239631,
           6.241303011305703,
           6.320728428876781,
           6.407710560739341,
           6.502139367316208,
           6.603790607593819,
           6.712337828602351,
           6.827368293415053,
           6.948400471961935,
           7.07490056872405,
           7.2062956996231575,
           7.341981660168101,
           7.4813236688391385,
           7.623649030554422,
           7.768231500399439,
           7.914268575655684,
           8.060855460848398,
           8.206963306293812,
           8.351433919904938,
           8.493006188698846,
           8.630386912295549,
           8.762367217759525,
           8.887966496152119,
           9.006567085670802,
           9.117996411726294,
           9.222526733519949,
           9.320792922278228,
           9.413660063416946,
           9.502086213409875,
           9.587015575730213,
           9.6693152982762,
           9.749750746097298,
           9.828986361749843,
           9.90759986014526,
           9.986101515200604,
           10.06495426303296,
           10.144593082698963,
           10.225443704259453,
           10.307941595222974,
           10.392552825505017,
           10.47979916159014,
           10.570290959575505
          ],
          [
           6.1634540489858844,
           6.194794154092696,
           6.229883190824675,
           6.269049984523978,
           6.31261920946401,
           6.360902919534663,
           6.4141912344360215,
           6.47274262231455,
           6.536774332737171,
           6.606453594970112,
           6.681890182215368,
           6.7631308385958295,
           6.85015587261186,
           6.942877955295254,
           7.041142854175767,
           7.144731524219104,
           7.253362703662448,
           7.36669496219072,
           7.48432705606987,
           7.605795505152208,
           7.730568596040017,
           7.858036660217114,
           7.987499648159318,
           8.11815486762776,
           8.24909020393991,
           8.379290581991715,
           8.507666464961554,
           8.633110881620969,
           8.754584515066291,
           8.871217691877021,
           8.982407582106916,
           9.087884215699328,
           9.187724592412204,
           9.2823101531281,
           9.372242371336613,
           9.458243607093673,
           9.54106937147672,
           9.621446943218945,
           9.700042450395115,
           9.777450445950535,
           9.854197734899776,
           9.9307545633244,
           10.007548767191114,
           10.084980681891267,
           10.16343812880271,
           10.243311741574711,
           10.325011534671885,
           10.408986206680565,
           10.49574746300561,
           10.585902968025271
          ],
          [
           6.533960146429925,
           6.567849231961877,
           6.604889050428697,
           6.64530322702535,
           6.689312794491489,
           6.737131807934487,
           6.78896246671379,
           6.844989868347729,
           6.9053765541797265,
           6.970257027533659,
           7.0397324249648925,
           7.11386549389892,
           7.192675972171941,
           7.276136377824721,
           7.364168107821626,
           7.456637626296827,
           7.553352419723,
           7.654056343195575,
           7.758424029390292,
           7.86605424794126,
           7.976462568863589,
           8.089074468380737,
           8.203221117879545,
           8.318141346916128,
           8.432994227236078,
           8.546886662849442,
           8.65891850506137,
           8.768243677119825,
           8.87414019091619,
           8.976076547264386,
           9.073759406296686,
           9.167149910448762,
           9.25644406759486,
           9.342023371741403,
           9.424390194175922,
           9.504104356171029,
           9.581732799184675,
           9.657817066024439,
           9.732857327780684,
           9.807308712676958,
           9.8815853422269,
           9.956068516147464,
           10.031116850856108,
           10.10707733291568,
           10.184297080234918,
           10.263136194995736,
           10.343982589821914,
           10.427270235806223,
           10.513503120482026,
           10.603288638294288
          ],
          [
           6.922398600212028,
           6.955400305796677,
           6.991064665621346,
           7.0295571013391775,
           7.071041664587261,
           7.115678327383653,
           7.1636198705783825,
           7.215008383286647,
           7.269971396650869,
           7.328617682174471,
           7.391032746230223,
           7.457274046769386,
           7.527365945846787,
           7.601294395142088,
           7.679001338236718,
           7.760378815933312,
           7.845262799615626,
           7.933426880183137,
           8.024576138369957,
           8.118341843042225,
           8.214278070004477,
           8.311861854252172,
           8.410498947427627,
           8.509537413817904,
           8.608290862352636,
           8.706071821881977,
           8.802233577122133,
           8.896216025787133,
           8.987588580782237,
           9.076081952594393,
           9.161601859366755,
           9.244221590845175,
           9.324155773053732,
           9.401722390154449,
           9.47730206354362,
           9.551302285010893,
           9.624130987899088,
           9.696180372135286,
           9.767819550891662,
           9.83939364962161,
           9.911227086464935,
           9.983629353333244,
           10.056902299776645,
           10.131348512348826,
           10.20728085309113,
           10.285033624584791,
           10.364976254271468,
           10.447530957617365,
           10.533196732970413,
           10.622583593111301
          ],
          [
           7.3126198607755235,
           7.342836301091417,
           7.37530725552116,
           7.410160385196637,
           7.4475220082027604,
           7.48751507290671,
           7.530256772976138,
           7.57585578194803,
           7.624409089949513,
           7.675998431315214,
           7.730686300119057,
           7.788511562556778,
           7.84948469342635,
           7.913582693095449,
           7.980743787738533,
           8.050862087441075,
           8.123782482612752,
           8.199296204969812,
           8.277137662918006,
           8.356983364272475,
           8.438453919143539,
           8.521120200025065,
           8.604514626861388,
           8.688148139663282,
           8.771532652960307,
           8.854207678716675,
           8.935768528432352,
           9.015892407510593,
           9.0943582672599,
           9.171056901870452,
           9.245989558772846,
           9.319255822324173,
           9.391033847364112,
           9.461557290392628,
           9.531093155888616,
           9.5999235530668,
           9.668332736823217,
           9.73659942552932,
           9.804993567056087,
           9.873776458129672,
           9.943203231452713,
           10.013527010669476,
           10.08500435963389,
           10.157901961739643,
           10.232504757237649,
           10.309126077460071,
           10.388120709155784,
           10.46990240485904,
           10.554968311440886,
           10.643934474558685
          ],
          [
           7.6911882613491995,
           7.717635735174408,
           7.745966702095569,
           7.776279549755673,
           7.808670763113769,
           7.843233250975596,
           7.88005437682176,
           7.919213675059851,
           7.960780241368148,
           8.00480979739353,
           8.051341447110946,
           8.100394166389673,
           8.151963100770395,
           8.206015791214202,
           8.26248850523799,
           8.321282921569601,
           8.382263497517348,
           8.445255932101023,
           8.510047210171914,
           8.576387750378391,
           8.64399615193211,
           8.712566906384065,
           8.781781180277385,
           8.851320371345816,
           8.920881622675589,
           8.990193930856723,
           9.059033051157401,
           9.127233263048357,
           9.194694354486089,
           9.26138292922499,
           9.32732817391178,
           9.392613233942036,
           9.457364021487937,
           9.521737439054892,
           9.585910683069963,
           9.650072694267825,
           9.714418188984839,
           9.77914421737633,
           9.844448921861757,
           9.910532092538356,
           9.977597173948945,
           10.045854507379053,
           10.115525754981677,
           10.186849633303158,
           10.26008929414783,
           10.335541961302868,
           10.4135518206521,
           10.494527773446455,
           10.578968694673215,
           10.667500681299709
          ],
          [
           8.045327875536717,
           8.067530157447436,
           8.091264259491355,
           8.116604627945478,
           8.143623527031638,
           8.172389719014097,
           8.202966941489207,
           8.23541217915996,
           8.269773736997456,
           8.306089135027346,
           8.344382862744066,
           8.384664053923784,
           8.426924170624748,
           8.47113481805184,
           8.517245848297724,
           8.565183947784165,
           8.61485193544916,
           8.666129018792049,
           8.718872252717393,
           8.772919409902412,
           8.828093389697846,
           8.88420815800826,
           8.94107602529363,
           8.998515851206749,
           9.0563615488789,
           9.114470102620144,
           9.172728267734138,
           9.231057231898594,
           9.289414786392872,
           9.347794932991983,
           9.406225247368486,
           9.464762631058669,
           9.52348823936286,
           9.582502355040067,
           9.641919825353293,
           9.701866462607141,
           9.76247659599714,
           9.823891803132776,
           9.886260761280083,
           9.94974013654559,
           10.014496458803052,
           10.080708996788989,
           10.14857374444711,
           10.21830875949282,
           10.290161273805943,
           10.364417255082945,
           10.441414500586388,
           10.52156099921453,
           10.605361423890624,
           10.693456649817701
          ],
          [
           8.363187170544977,
           8.381082842791706,
           8.400190234065496,
           8.420566115319188,
           8.442265536321683,
           8.465340911071658,
           8.48984098821166,
           8.515809713333724,
           8.543284997863427,
           8.572297419098108,
           8.602868888028704,
           8.635011335638469,
           8.6687254839398,
           8.703999784080683,
           8.74080961877582,
           8.779116877685212,
           8.818870018987548,
           8.860004724487647,
           8.902445235237717,
           8.94610641666072,
           8.990896545367379,
           9.036720736597657,
           9.083484848661566,
           9.13109962131824,
           9.179484745111296,
           9.228572535233981,
           9.27831090890054,
           9.328665441907562,
           9.379620397535248,
           9.43117875685689,
           9.483361405799215,
           9.536205725752572,
           9.589763876762131,
           9.64410105531904,
           9.699293965026285,
           9.7554296770681,
           9.812604997322966,
           9.870926411819848,
           9.930510659082435,
           9.991485978619782,
           10.053994109112592,
           10.118193158293671,
           10.184261543148725,
           10.252403313869653,
           10.32285534768633,
           10.395897165609574,
           10.471864552848777,
           10.551168877168541,
           10.634325242113079,
           10.721994881708122
          ],
          [
           8.637208961628874,
           8.6511858251817,
           8.666108548735185,
           8.682022704631597,
           8.698973095425538,
           8.717003199726534,
           8.736154558326328,
           8.756466107824714,
           8.777973473592558,
           8.800708239393856,
           8.824697217211735,
           8.849961747524313,
           8.876517067008379,
           8.904371786743113,
           8.93352752853724,
           8.963978768891863,
           8.995712938090051,
           9.02871081476407,
           9.062947243121682,
           9.09839218054222,
           9.135012058210801,
           9.172771408866245,
           9.211634686979316,
           9.251568182217943,
           9.29254191172043,
           9.334531374582916,
           9.37751906522543,
           9.421495670203013,
           9.466460911723336,
           9.512424044343526,
           9.559404051872379,
           9.60742962322248,
           9.65653900525086,
           9.706779837224557,
           9.758209068164494,
           9.810893049533954,
           9.86490788662719,
           9.920340127147567,
           9.977287868554354,
           10.035862379977091,
           10.096190363295413,
           10.158417026238027,
           10.2227102159758,
           10.289265978108347,
           10.358316086494579,
           10.430138375387937,
           10.505071172041875,
           10.583533917069774,
           10.666057449897231,
           10.753330003816485
          ],
          [
           8.867264240658288,
           8.8780522117932,
           8.889584026692114,
           8.901898628851013,
           8.915035137308962,
           8.929032545001789,
           8.943929383437636,
           8.959763357612037,
           8.97657095735557,
           8.994387053910232,
           9.013244493376918,
           9.033173701621818,
           9.05420231805981,
           9.076354878160702,
           9.099652566194132,
           9.12411306024068,
           9.149750490445648,
           9.176575528533515,
           9.20459562153291,
           9.233815375516635,
           9.26423708628896,
           9.295861404067729,
           9.328688109375143,
           9.362716968875102,
           9.397948634132913,
           9.434385544369466,
           9.472032796898752,
           9.510898956055629,
           9.550996782283583,
           9.59234387630212,
           9.634963247254742,
           9.678883826895595,
           9.724140963120389,
           9.770776935108927,
           9.818841539413093,
           9.868392802557844,
           9.919497882699366,
           9.972234232583359,
           10.026691110872994,
           10.082971551922173,
           10.141194939428672,
           10.201500383264312,
           10.264051180773826,
           10.329040769741956,
           10.396700776896141,
           10.467312080489704,
           10.541220324329583,
           10.618858206888396,
           10.700778447016734,
           10.78770427622998
          ],
          [
           9.059820620046077,
           9.068236869671153,
           9.077251311559868,
           9.08689852850575,
           9.09721394527451,
           9.108233681163268,
           9.119994380393805,
           9.13253302146886,
           9.145886707664632,
           9.160092442038877,
           9.175186891672057,
           9.191206147276564,
           9.208185485728684,
           9.226159144396743,
           9.245160117230283,
           9.265219983296964,
           9.286368778660236,
           9.30863492205151,
           9.33204520361497,
           9.356624844065673,
           9.382397628967242,
           9.409386119674494,
           9.437611939077247,
           9.467096126991635,
           9.49785955729181,
           9.529923407066896,
           9.563309667562244,
           9.598041687626775,
           9.634144742883363,
           9.671646627751299,
           9.71057827254777,
           9.750974393908884,
           9.792874193484131,
           9.836322127203639,
           9.881368775557155,
           9.928071854721576,
           9.976497419869945,
           10.026721326909824,
           10.078831039205228,
           10.132927894458135,
           10.189129988266327,
           10.247575891749575,
           10.308429511941611,
           10.371886543390882,
           10.438183178379791,
           10.507608095811154,
           10.580519335091259,
           10.657368672615014,
           10.738737939058097,
           10.825395162335582
          ],
          [
           9.224081804972384,
           9.230819454095709,
           9.238051404844716,
           9.245808804708597,
           9.254124019584292,
           9.263030577341773,
           9.272563095817816,
           9.282757194911783,
           9.293649392918551,
           9.305276987797708,
           9.317677924740417,
           9.330890652144516,
           9.344953968923118,
           9.359906866920538,
           9.375788373049117,
           9.39263739653927,
           9.410492587354312,
           9.42939221230042,
           9.449374055605444,
           9.470475350706344,
           9.492732749654706,
           9.516182335935769,
           9.540859685648174,
           9.566799980999136,
           9.594038179058996,
           9.622609237844673,
           9.652548401233048,
           9.683891544112683,
           9.716675579722308,
           9.750938932433707,
           9.786722081432563,
           9.824068183946697,
           9.863023791002927,
           9.9036396743623,
           9.945971790612319,
           9.990082417907848,
           10.036041513380717,
           10.083928356074075,
           10.133833563389965,
           10.18586160153189,
           10.24013395705327,
           10.296793204970868,
           10.356008311309475,
           10.417981665059635,
           10.48295858198923,
           10.551240424178669,
           10.623203152559773,
           10.699324303721816,
           10.780223522427688,
           10.866725893901544
          ],
          [
           9.368571336118986,
           9.37413042776454,
           9.380108474528543,
           9.38653365571466,
           9.393435544418207,
           9.40084510573216,
           9.408794684309257,
           9.417317980401199,
           9.426450013675456,
           9.436227074356786,
           9.446686661559893,
           9.457867409074709,
           9.46980899933639,
           9.482552066853351,
           9.496138092968746,
           9.510609294478112,
           9.526008509297679,
           9.542379083048377,
           9.5597647610614,
           9.578209590893414,
           9.597757840937028,
           9.618453941106734,
           9.640342451864955,
           9.663468068036826,
           9.687875663974786,
           9.713610386727087,
           9.740717804013363,
           9.769244114115404,
           9.799236425375566,
           9.830743114006648,
           9.863814270531082,
           9.898502247594863,
           9.934862325406803,
           9.972953515981681,
           10.012839534189707,
           10.054589973007722,
           10.09828173331402,
           10.144000776536652,
           10.191844293680827,
           10.241923420157358,
           10.294366677803923,
           10.349324402190359,
           10.40697452896578,
           10.467530291711187,
           10.531250667477915,
           10.598454870682453,
           10.669542983539573,
           10.74502620118811,
           10.825572740760576,
           10.91208049116693
          ],
          [
           9.499775650176332,
           9.504490360776503,
           9.509567852291017,
           9.515033706287047,
           9.520914956289607,
           9.527240119422443,
           9.534039221350765,
           9.541343813552997,
           9.549186981988724,
           9.55760334631226,
           9.566629048912924,
           9.576301733252144,
           9.586660511219957,
           9.597745919554933,
           9.6095998657651,
           9.622265564453894,
           9.635787465492278,
           9.650211176080262,
           9.665583379399388,
           9.681951753260659,
           9.699364892886475,
           9.71787224271714,
           9.737524042890989,
           9.75837129680675,
           9.780465766940193,
           9.803860006870885,
           9.828607438312725,
           9.85476248289051,
           9.88238075954891,
           9.911519359939968,
           9.942237216075434,
           9.974595577172867,
           10.008658616269843,
           10.0444941922377,
           10.082174799861956,
           10.121778750472048,
           10.16339163935613,
           10.207108175595819,
           10.253034477578291,
           10.301290977262216,
           10.352016134555653,
           10.40537125003227,
           10.461546796458764,
           10.5207708958951,
           10.583320899984738,
           10.64953957880589,
           10.719858364131145,
           10.794831777263063,
           10.875190341067109,
           10.96192560224853
          ],
          [
           9.6222299889885,
           9.62632005324621,
           9.63072978843503,
           9.635482522753604,
           9.64060303206975,
           9.646117592160767,
           9.652054027369939,
           9.658441754813627,
           9.665311823247576,
           9.672696945700057,
           9.680631525010124,
           9.689151671479165,
           9.698295211961023,
           9.708101689888734,
           9.718612355972075,
           9.729870149607542,
           9.74191967142746,
           9.75480714788301,
           9.768580389310731,
           9.78328874357517,
           9.798983048112103,
           9.815715584016067,
           9.833540036721667,
           9.85251146882075,
           9.872686311641633,
           9.894122383404191,
           9.916878943079983,
           9.941016790571943,
           9.966598425551501,
           9.993688279355647,
           10.022353036905102,
           10.052662068876815,
           10.08468799866238,
           10.11850743441337,
           10.154201904349414,
           10.19185904439949,
           10.231574102498804,
           10.273451845461551,
           10.317608985312996,
           10.3641772869747,
           10.413307585688562,
           10.465175042646516,
           10.519986121231243,
           10.577988009041253,
           10.639481604879865,
           10.704839850816997,
           10.774534341249788,
           10.849175239570013,
           10.929573563492578,
           11.016843145339712
          ],
          [
           9.739053368758908,
           9.742666053435618,
           9.746564455645299,
           9.750769963865764,
           9.755305378996267,
           9.760194979247947,
           9.765464583857646,
           9.771141614939458,
           9.77725515673659,
           9.78383601149774,
           9.790916751182873,
           9.798531764209315,
           9.806717296488198,
           9.815511486081615,
           9.824954390941548,
           9.835088009382714,
           9.845956293202828,
           9.857605153706215,
           9.870082461320518,
           9.883438040031816,
           9.897723658510898,
           9.912993020572774,
           9.92930175851321,
           9.946707433912266,
           9.96526955170052,
           9.985049594670327,
           10.006111087213108,
           10.02851969892114,
           10.05234340087962,
           10.077652690097267,
           10.104520900738107,
           10.133024624852617,
           10.163244270497469,
           10.19526479196614,
           10.229176636037156,
           10.265076960725285,
           10.303071200542155,
           10.343275077071445,
           10.38581718932428,
           10.430842370479361,
           10.47851607523981,
           10.52903017998335,
           10.5826107612562,
           10.63952871085447,
           10.700114527231689,
           10.764779443105873,
           10.834046503736898,
           10.908597915680781,
           10.989350309919447,
           11.077580783853001
          ],
          [
           9.852444340450363,
           9.855681902755563,
           9.85917786809986,
           9.862951961367978,
           9.867025270969515,
           9.871420321411316,
           9.87616114653477,
           9.881273362926565,
           9.886784242954961,
           9.89272278683389,
           9.899119793078231,
           9.906007926690805,
           9.913421784421109,
           9.92139795646531,
           9.929975084044836,
           9.939193912417437,
           9.949097339050681,
           9.959730456936226,
           9.97114059335768,
           9.983377344860253,
           9.996492609723436,
           10.010540619926337,
           10.025577975439418,
           10.041663684699133,
           10.058859216350992,
           10.077228568816675,
           10.096838365997032,
           10.11775798952746,
           10.140059760541494,
           10.16381918699665,
           10.189115296451899,
           10.216031079017943,
           10.244654071407867,
           10.275077121150847,
           10.307399380913024,
           10.341727597713962,
           10.378177782465729,
           10.416877374492294,
           10.457968057858814,
           10.501609448354374,
           10.547983963036744,
           10.59730332705433,
           10.649817397109013,
           10.705826344402439,
           10.765697847256705,
           10.829891996889899,
           10.898998527510381,
           10.973794618821355,
           11.055338892774376,
           11.145133346253502
          ],
          [
           9.964031327841017,
           9.966967741974814,
           9.970140235048582,
           9.97356710803003,
           9.977267972314795,
           9.981263826882497,
           9.985577137528605,
           9.990231917864975,
           9.995253811732015,
           10.000670176618701,
           10.0065101676461,
           10.01280482163974,
           10.019587140801598,
           10.026892175499587,
           10.03475710572958,
           10.043221320880948,
           10.052326497562948,
           10.062116675438665,
           10.072638331280862,
           10.08394045182753,
           10.09607460649424,
           10.109095021619089,
           10.123058658701286,
           10.138025300078766,
           10.154057646712749,
           10.171221434256612,
           10.189585575445335,
           10.209222339131973,
           10.230207579130669,
           10.252621029555424,
           10.276546687787592,
           10.302073311873905,
           10.3292950665019,
           10.35831236138185,
           10.389232938863787,
           10.422173285405037,
           10.45726046631421,
           10.494634518488045,
           10.534451587069848,
           10.576888067843992,
           10.622146132159795,
           10.670461189668364,
           10.722112128809771,
           10.777435642967896,
           10.836846746814519,
           10.900868999078671,
           10.970180570757522,
           11.045687452303072,
           11.128645937440403,
           11.220881345606408
          ],
          [
           10.075103205461899,
           10.07779428760103,
           10.080703018221419,
           10.083846483271158,
           10.087243027094862,
           10.090912332280613,
           10.094875502677892,
           10.099155149446212,
           10.103775479956678,
           10.108762389332956,
           10.114143554386217,
           10.1199485296744,
           10.126208845403404,
           10.132958106892689,
           10.14023209535663,
           10.148068869815049,
           10.156508870051756,
           10.16559502070193,
           10.175372836783216,
           10.185890531310289,
           10.197199126071174,
           10.209352567222728,
           10.222407848115589,
           10.23642514272591,
           10.251467954302075,
           10.26760328539238,
           10.284901837385263,
           10.303438250173256,
           10.323291395687857,
           10.344544743040693,
           10.367286818119346,
           10.391611787112417,
           10.417620202138517,
           10.445419958750003,
           10.475127530798087,
           10.506869569829487,
           10.540784986674545,
           10.577027676620219,
           10.615770113618392,
           10.657208134916983,
           10.701567384673034,
           10.74911211689049,
           10.800157433914935,
           10.855086666839483,
           10.914376701398492,
           10.978636049888637,
           11.048664299027756,
           11.125549382396715,
           11.210836367923815,
           11.306843348198635
          ],
          [
           10.186764168901199,
           10.189253874653748,
           10.191945957517703,
           10.19485647383504,
           10.198002690494608,
           10.201403166385676,
           10.205077837895708,
           10.209048108461532,
           10.213336942161138,
           10.217968961312803,
           10.222970548031522,
           10.228369949682559,
           10.23419738817228,
           10.24048517303223,
           10.247267818290132,
           10.254582163189301,
           10.26246749692628,
           10.270965687738043,
           10.280121316901184,
           10.289981818525902,
           10.300597626461972,
           10.312022330213242,
           10.324312842519387,
           10.337529582257075,
           10.351736677598065,
           10.367002196017468,
           10.383398409873273,
           10.401002109013756,
           10.419894975394545,
           10.440164039252934,
           10.461902242343731,
           10.485209141587482,
           10.510191796940862,
           10.536965901433845,
           10.565657230721747,
           10.5964035165996,
           10.629356887489111,
           10.664687074903407,
           10.702585667988881,
           10.743271824490513,
           10.787000043301035,
           10.834070919456227,
           10.88484632532058,
           10.939771359888832,
           10.999407017355704,
           11.064480555305101,
           11.135966591217732,
           11.21522493081392,
           11.304251571987496,
           11.406179489108377
          ]
         ]
        },
        {
         "name": "optimum",
         "type": "scatter",
         "x": [
          0.030341622855888963
         ],
         "y": [
          0.047488695499172284
         ]
        }
       ],
       "layout": {
        "margin": {
         "b": 0,
         "l": 0,
         "r": 0,
         "t": 25
        },
        "showlegend": false,
        "template": {
         "data": {
          "bar": [
           {
            "error_x": {
             "color": "#2a3f5f"
            },
            "error_y": {
             "color": "#2a3f5f"
            },
            "marker": {
             "line": {
              "color": "#E5ECF6",
              "width": 0.5
             }
            },
            "type": "bar"
           }
          ],
          "barpolar": [
           {
            "marker": {
             "line": {
              "color": "#E5ECF6",
              "width": 0.5
             }
            },
            "type": "barpolar"
           }
          ],
          "carpet": [
           {
            "aaxis": {
             "endlinecolor": "#2a3f5f",
             "gridcolor": "white",
             "linecolor": "white",
             "minorgridcolor": "white",
             "startlinecolor": "#2a3f5f"
            },
            "baxis": {
             "endlinecolor": "#2a3f5f",
             "gridcolor": "white",
             "linecolor": "white",
             "minorgridcolor": "white",
             "startlinecolor": "#2a3f5f"
            },
            "type": "carpet"
           }
          ],
          "choropleth": [
           {
            "colorbar": {
             "outlinewidth": 0,
             "ticks": ""
            },
            "type": "choropleth"
           }
          ],
          "contour": [
           {
            "colorbar": {
             "outlinewidth": 0,
             "ticks": ""
            },
            "colorscale": [
             [
              0,
              "#0d0887"
             ],
             [
              0.1111111111111111,
              "#46039f"
             ],
             [
              0.2222222222222222,
              "#7201a8"
             ],
             [
              0.3333333333333333,
              "#9c179e"
             ],
             [
              0.4444444444444444,
              "#bd3786"
             ],
             [
              0.5555555555555556,
              "#d8576b"
             ],
             [
              0.6666666666666666,
              "#ed7953"
             ],
             [
              0.7777777777777778,
              "#fb9f3a"
             ],
             [
              0.8888888888888888,
              "#fdca26"
             ],
             [
              1,
              "#f0f921"
             ]
            ],
            "type": "contour"
           }
          ],
          "contourcarpet": [
           {
            "colorbar": {
             "outlinewidth": 0,
             "ticks": ""
            },
            "type": "contourcarpet"
           }
          ],
          "heatmap": [
           {
            "colorbar": {
             "outlinewidth": 0,
             "ticks": ""
            },
            "colorscale": [
             [
              0,
              "#0d0887"
             ],
             [
              0.1111111111111111,
              "#46039f"
             ],
             [
              0.2222222222222222,
              "#7201a8"
             ],
             [
              0.3333333333333333,
              "#9c179e"
             ],
             [
              0.4444444444444444,
              "#bd3786"
             ],
             [
              0.5555555555555556,
              "#d8576b"
             ],
             [
              0.6666666666666666,
              "#ed7953"
             ],
             [
              0.7777777777777778,
              "#fb9f3a"
             ],
             [
              0.8888888888888888,
              "#fdca26"
             ],
             [
              1,
              "#f0f921"
             ]
            ],
            "type": "heatmap"
           }
          ],
          "heatmapgl": [
           {
            "colorbar": {
             "outlinewidth": 0,
             "ticks": ""
            },
            "colorscale": [
             [
              0,
              "#0d0887"
             ],
             [
              0.1111111111111111,
              "#46039f"
             ],
             [
              0.2222222222222222,
              "#7201a8"
             ],
             [
              0.3333333333333333,
              "#9c179e"
             ],
             [
              0.4444444444444444,
              "#bd3786"
             ],
             [
              0.5555555555555556,
              "#d8576b"
             ],
             [
              0.6666666666666666,
              "#ed7953"
             ],
             [
              0.7777777777777778,
              "#fb9f3a"
             ],
             [
              0.8888888888888888,
              "#fdca26"
             ],
             [
              1,
              "#f0f921"
             ]
            ],
            "type": "heatmapgl"
           }
          ],
          "histogram": [
           {
            "marker": {
             "colorbar": {
              "outlinewidth": 0,
              "ticks": ""
             }
            },
            "type": "histogram"
           }
          ],
          "histogram2d": [
           {
            "colorbar": {
             "outlinewidth": 0,
             "ticks": ""
            },
            "colorscale": [
             [
              0,
              "#0d0887"
             ],
             [
              0.1111111111111111,
              "#46039f"
             ],
             [
              0.2222222222222222,
              "#7201a8"
             ],
             [
              0.3333333333333333,
              "#9c179e"
             ],
             [
              0.4444444444444444,
              "#bd3786"
             ],
             [
              0.5555555555555556,
              "#d8576b"
             ],
             [
              0.6666666666666666,
              "#ed7953"
             ],
             [
              0.7777777777777778,
              "#fb9f3a"
             ],
             [
              0.8888888888888888,
              "#fdca26"
             ],
             [
              1,
              "#f0f921"
             ]
            ],
            "type": "histogram2d"
           }
          ],
          "histogram2dcontour": [
           {
            "colorbar": {
             "outlinewidth": 0,
             "ticks": ""
            },
            "colorscale": [
             [
              0,
              "#0d0887"
             ],
             [
              0.1111111111111111,
              "#46039f"
             ],
             [
              0.2222222222222222,
              "#7201a8"
             ],
             [
              0.3333333333333333,
              "#9c179e"
             ],
             [
              0.4444444444444444,
              "#bd3786"
             ],
             [
              0.5555555555555556,
              "#d8576b"
             ],
             [
              0.6666666666666666,
              "#ed7953"
             ],
             [
              0.7777777777777778,
              "#fb9f3a"
             ],
             [
              0.8888888888888888,
              "#fdca26"
             ],
             [
              1,
              "#f0f921"
             ]
            ],
            "type": "histogram2dcontour"
           }
          ],
          "mesh3d": [
           {
            "colorbar": {
             "outlinewidth": 0,
             "ticks": ""
            },
            "type": "mesh3d"
           }
          ],
          "parcoords": [
           {
            "line": {
             "colorbar": {
              "outlinewidth": 0,
              "ticks": ""
             }
            },
            "type": "parcoords"
           }
          ],
          "pie": [
           {
            "automargin": true,
            "type": "pie"
           }
          ],
          "scatter": [
           {
            "marker": {
             "colorbar": {
              "outlinewidth": 0,
              "ticks": ""
             }
            },
            "type": "scatter"
           }
          ],
          "scatter3d": [
           {
            "line": {
             "colorbar": {
              "outlinewidth": 0,
              "ticks": ""
             }
            },
            "marker": {
             "colorbar": {
              "outlinewidth": 0,
              "ticks": ""
             }
            },
            "type": "scatter3d"
           }
          ],
          "scattercarpet": [
           {
            "marker": {
             "colorbar": {
              "outlinewidth": 0,
              "ticks": ""
             }
            },
            "type": "scattercarpet"
           }
          ],
          "scattergeo": [
           {
            "marker": {
             "colorbar": {
              "outlinewidth": 0,
              "ticks": ""
             }
            },
            "type": "scattergeo"
           }
          ],
          "scattergl": [
           {
            "marker": {
             "colorbar": {
              "outlinewidth": 0,
              "ticks": ""
             }
            },
            "type": "scattergl"
           }
          ],
          "scattermapbox": [
           {
            "marker": {
             "colorbar": {
              "outlinewidth": 0,
              "ticks": ""
             }
            },
            "type": "scattermapbox"
           }
          ],
          "scatterpolar": [
           {
            "marker": {
             "colorbar": {
              "outlinewidth": 0,
              "ticks": ""
             }
            },
            "type": "scatterpolar"
           }
          ],
          "scatterpolargl": [
           {
            "marker": {
             "colorbar": {
              "outlinewidth": 0,
              "ticks": ""
             }
            },
            "type": "scatterpolargl"
           }
          ],
          "scatterternary": [
           {
            "marker": {
             "colorbar": {
              "outlinewidth": 0,
              "ticks": ""
             }
            },
            "type": "scatterternary"
           }
          ],
          "surface": [
           {
            "colorbar": {
             "outlinewidth": 0,
             "ticks": ""
            },
            "colorscale": [
             [
              0,
              "#0d0887"
             ],
             [
              0.1111111111111111,
              "#46039f"
             ],
             [
              0.2222222222222222,
              "#7201a8"
             ],
             [
              0.3333333333333333,
              "#9c179e"
             ],
             [
              0.4444444444444444,
              "#bd3786"
             ],
             [
              0.5555555555555556,
              "#d8576b"
             ],
             [
              0.6666666666666666,
              "#ed7953"
             ],
             [
              0.7777777777777778,
              "#fb9f3a"
             ],
             [
              0.8888888888888888,
              "#fdca26"
             ],
             [
              1,
              "#f0f921"
             ]
            ],
            "type": "surface"
           }
          ],
          "table": [
           {
            "cells": {
             "fill": {
              "color": "#EBF0F8"
             },
             "line": {
              "color": "white"
             }
            },
            "header": {
             "fill": {
              "color": "#C8D4E3"
             },
             "line": {
              "color": "white"
             }
            },
            "type": "table"
           }
          ]
         },
         "layout": {
          "annotationdefaults": {
           "arrowcolor": "#2a3f5f",
           "arrowhead": 0,
           "arrowwidth": 1
          },
          "coloraxis": {
           "colorbar": {
            "outlinewidth": 0,
            "ticks": ""
           }
          },
          "colorscale": {
           "diverging": [
            [
             0,
             "#8e0152"
            ],
            [
             0.1,
             "#c51b7d"
            ],
            [
             0.2,
             "#de77ae"
            ],
            [
             0.3,
             "#f1b6da"
            ],
            [
             0.4,
             "#fde0ef"
            ],
            [
             0.5,
             "#f7f7f7"
            ],
            [
             0.6,
             "#e6f5d0"
            ],
            [
             0.7,
             "#b8e186"
            ],
            [
             0.8,
             "#7fbc41"
            ],
            [
             0.9,
             "#4d9221"
            ],
            [
             1,
             "#276419"
            ]
           ],
           "sequential": [
            [
             0,
             "#0d0887"
            ],
            [
             0.1111111111111111,
             "#46039f"
            ],
            [
             0.2222222222222222,
             "#7201a8"
            ],
            [
             0.3333333333333333,
             "#9c179e"
            ],
            [
             0.4444444444444444,
             "#bd3786"
            ],
            [
             0.5555555555555556,
             "#d8576b"
            ],
            [
             0.6666666666666666,
             "#ed7953"
            ],
            [
             0.7777777777777778,
             "#fb9f3a"
            ],
            [
             0.8888888888888888,
             "#fdca26"
            ],
            [
             1,
             "#f0f921"
            ]
           ],
           "sequentialminus": [
            [
             0,
             "#0d0887"
            ],
            [
             0.1111111111111111,
             "#46039f"
            ],
            [
             0.2222222222222222,
             "#7201a8"
            ],
            [
             0.3333333333333333,
             "#9c179e"
            ],
            [
             0.4444444444444444,
             "#bd3786"
            ],
            [
             0.5555555555555556,
             "#d8576b"
            ],
            [
             0.6666666666666666,
             "#ed7953"
            ],
            [
             0.7777777777777778,
             "#fb9f3a"
            ],
            [
             0.8888888888888888,
             "#fdca26"
            ],
            [
             1,
             "#f0f921"
            ]
           ]
          },
          "colorway": [
           "#636efa",
           "#EF553B",
           "#00cc96",
           "#ab63fa",
           "#FFA15A",
           "#19d3f3",
           "#FF6692",
           "#B6E880",
           "#FF97FF",
           "#FECB52"
          ],
          "font": {
           "color": "#2a3f5f"
          },
          "geo": {
           "bgcolor": "white",
           "lakecolor": "white",
           "landcolor": "#E5ECF6",
           "showlakes": true,
           "showland": true,
           "subunitcolor": "white"
          },
          "hoverlabel": {
           "align": "left"
          },
          "hovermode": "closest",
          "mapbox": {
           "style": "light"
          },
          "paper_bgcolor": "white",
          "plot_bgcolor": "#E5ECF6",
          "polar": {
           "angularaxis": {
            "gridcolor": "white",
            "linecolor": "white",
            "ticks": ""
           },
           "bgcolor": "#E5ECF6",
           "radialaxis": {
            "gridcolor": "white",
            "linecolor": "white",
            "ticks": ""
           }
          },
          "scene": {
           "xaxis": {
            "backgroundcolor": "#E5ECF6",
            "gridcolor": "white",
            "gridwidth": 2,
            "linecolor": "white",
            "showbackground": true,
            "ticks": "",
            "zerolinecolor": "white"
           },
           "yaxis": {
            "backgroundcolor": "#E5ECF6",
            "gridcolor": "white",
            "gridwidth": 2,
            "linecolor": "white",
            "showbackground": true,
            "ticks": "",
            "zerolinecolor": "white"
           },
           "zaxis": {
            "backgroundcolor": "#E5ECF6",
            "gridcolor": "white",
            "gridwidth": 2,
            "linecolor": "white",
            "showbackground": true,
            "ticks": "",
            "zerolinecolor": "white"
           }
          },
          "shapedefaults": {
           "line": {
            "color": "#2a3f5f"
           }
          },
          "ternary": {
           "aaxis": {
            "gridcolor": "white",
            "linecolor": "white",
            "ticks": ""
           },
           "baxis": {
            "gridcolor": "white",
            "linecolor": "white",
            "ticks": ""
           },
           "bgcolor": "#E5ECF6",
           "caxis": {
            "gridcolor": "white",
            "linecolor": "white",
            "ticks": ""
           }
          },
          "title": {
           "x": 0.05
          },
          "xaxis": {
           "automargin": true,
           "gridcolor": "white",
           "linecolor": "white",
           "ticks": "",
           "title": {
            "standoff": 15
           },
           "zerolinecolor": "white",
           "zerolinewidth": 2
          },
          "yaxis": {
           "automargin": true,
           "gridcolor": "white",
           "linecolor": "white",
           "ticks": "",
           "title": {
            "standoff": 15
           },
           "zerolinecolor": "white",
           "zerolinewidth": 2
          }
         }
        },
        "xaxis": {
         "constrain": "domain",
         "range": [
          -2,
          -0.3
         ],
         "scaleanchor": "y",
         "scaleratio": 1,
         "type": "log"
        },
        "yaxis": {
         "type": "log"
        }
       }
      },
      "text/html": [
       "<div>\n",
       "        \n",
       "        \n",
       "            <div id=\"343e4060-75c0-42c0-97ea-13b75b0fe973\" class=\"plotly-graph-div\" style=\"height:525px; width:100%;\"></div>\n",
       "            <script type=\"text/javascript\">\n",
       "                require([\"plotly\"], function(Plotly) {\n",
       "                    window.PLOTLYENV=window.PLOTLYENV || {};\n",
       "                    \n",
       "                if (document.getElementById(\"343e4060-75c0-42c0-97ea-13b75b0fe973\")) {\n",
       "                    Plotly.newPlot(\n",
       "                        '343e4060-75c0-42c0-97ea-13b75b0fe973',\n",
       "                        [{\"name\": \"log(-loglikely)\", \"showscale\": false, \"type\": \"contour\", \"x\": [0.01, 0.010831631524280023, 0.01173242414777768, 0.012708129525529292, 0.013764977638335682, 0.014909716571840646, 0.01614965560376294, 0.017492711874398423, 0.018947460938388148, 0.020523191520530944, 0.022229964825261943, 0.024078678778494334, 0.026081137612015182, 0.02825012723473889, 0.03059949687207196, 0.03314424749466426, 0.03590062760117447, 0.03888623696663189, 0.04212013901883932, 0.04562298256035173, 0.04941713361323833, 0.05352681822847106, 0.057978277171791374, 0.06279993347374203, 0.06802257391368725, 0.0736795455966163, 0.07980696887789365, 0.08644396799550276, 0.09363292088239417, 0.10141972975401581, 0.10985411419875583, 0.11898992864271016, 0.12888550621582098, 0.13960403121500756, 0.15121394254250484, 0.1637893706954064, 0.17741061109663506, 0.19216463678960968, 0.2081456537702157, 0.22545570250193436, 0.2442053094548651, 0.2645141928287876, 0.286512026966378, 0.31033927033743886, 0.3361480623809065, 0.3641031949310675, 0.3943831644306426, 0.427181311649226, 0.46270705618430463, 0.5011872336272722], \"y\": [0.01, 0.010831631524280023, 0.01173242414777768, 0.012708129525529292, 0.013764977638335682, 0.014909716571840646, 0.01614965560376294, 0.017492711874398423, 0.018947460938388148, 0.020523191520530944, 0.022229964825261943, 0.024078678778494334, 0.026081137612015182, 0.02825012723473889, 0.03059949687207196, 0.03314424749466426, 0.03590062760117447, 0.03888623696663189, 0.04212013901883932, 0.04562298256035173, 0.04941713361323833, 0.05352681822847106, 0.057978277171791374, 0.06279993347374203, 0.06802257391368725, 0.0736795455966163, 0.07980696887789365, 0.08644396799550276, 0.09363292088239417, 0.10141972975401581, 0.10985411419875583, 0.11898992864271016, 0.12888550621582098, 0.13960403121500756, 0.15121394254250484, 0.1637893706954064, 0.17741061109663506, 0.19216463678960968, 0.2081456537702157, 0.22545570250193436, 0.2442053094548651, 0.2645141928287876, 0.286512026966378, 0.31033927033743886, 0.3361480623809065, 0.3641031949310675, 0.3943831644306426, 0.427181311649226, 0.46270705618430463, 0.5011872336272722], \"z\": [[7.813341634118016, 7.770760608885982, 7.726480355151041, 7.68067278873773, 7.633582319622617, 7.585542010426608, 7.536991530042628, 7.488496060887289, 7.44076456184947, 7.394664762295473, 7.351231029661763, 7.311660040451951, 7.277288458942033, 7.249547314932161, 7.2298903024496965, 7.219698307398356, 7.220169655293088, 7.232212902296315, 7.256363281668669, 7.292742149697003, 7.341070177640984, 7.400732237425326, 7.470879902373646, 7.550550740229858, 7.638783703055145, 7.7347152443994975, 7.837647992721253, 7.947089889155901, 8.062765040458297, 8.184597792001867, 8.312668856948683, 8.447136540977064, 8.588105849424682, 8.735411579775114, 8.888262876967545, 9.044717284462813, 9.20114705962817, 9.352332577114277, 9.492936211929512, 9.619772035538993, 9.732892613039278, 9.834681207881395, 9.928217496227898, 10.016239068847378, 10.100857787190892, 10.183643411234344, 10.265787276945503, 10.348243591908814, 10.431834259292023, 10.51732773147093], [7.734334732260542, 7.690799275176151, 7.645410258768866, 7.5983283225802625, 7.549789480237762, 7.500123162486244, 7.4497726916162526, 7.399317418208656, 7.349494895390593, 7.301220245877704, 7.255598329379784, 7.213922672483699, 7.1776539264149894, 7.148370798202983, 7.127689119951892, 7.117150838402906, 7.118093852893974, 7.131523356873703, 7.158011307314232, 7.197648582787437, 7.250063117931109, 7.314500501459078, 7.3899481571307435, 7.475276358818421, 7.569370682843205, 7.671238294853433, 7.78008001608892, 7.895327616595569, 8.016649535154905, 8.143928202336328, 8.277208890319171, 8.41661355626266, 8.56220223752329, 8.713747440531906, 8.870369437225207, 9.030007771793294, 9.188915130543421, 9.341830658930993, 9.483532382222737, 9.611070450991317, 9.724721110384321, 9.826994097758284, 9.921011422419983, 10.009514757160396, 10.094610709892542, 10.177864382162307, 10.260464689776205, 10.343365179598134, 10.427388229704231, 10.513303519457294], [7.651487530552621, 7.606905080050039, 7.56030031789097, 7.511820107472076, 7.461689446537209, 7.410231598683752, 7.357891434261555, 7.305261336574615, 7.253108070250964, 7.2023975660386705, 7.154312639368726, 7.110256444848654, 7.071832604148004, 7.040792616275852, 7.018943995086856, 7.008019977344828, 7.009523447767147, 7.024570836338747, 7.0537701427087045, 7.097164746761969, 7.154259494048898, 7.224123042149904, 7.305540601088753, 7.397182242049003, 7.497755499870668, 7.606122424403326, 7.721373883824196, 7.842863034273439, 7.970203835849762, 8.10323987357272, 8.241984624024402, 8.386527001128034, 8.536884347245165, 8.692767507925627, 8.853206564276258, 9.01602116191707, 9.177347385092594, 9.331898451899054, 9.474593926738484, 9.602742637273241, 9.716853701618618, 9.819561673637361, 9.914025578902192, 10.002986335079898, 10.088541896337373, 10.172250511208132, 10.255297291351553, 10.338634251579247, 10.423083697694217, 10.50941620140679], [7.564635464635114, 7.518897497801306, 7.470951430930321, 7.420927305465503, 7.369035843295106, 7.315590887276665, 7.2610360029634675, 7.205974796111516, 7.1512034398720425, 7.097742210454701, 7.046860413374377, 7.000086114763667, 6.959189277008514, 6.926125745278963, 6.9029323299265135, 6.8915722227885166, 6.8937454545415315, 6.9106970914222705, 6.943067852024441, 6.990828639909254, 7.053319458238261, 7.1293823646101435, 7.217552234253295, 7.316259407535811, 7.424005723080369, 7.53949222459385, 7.661693495979035, 7.789884352440066, 7.923628374780226, 8.0627360585719, 8.207194996585123, 8.35706614182651, 8.512327684516013, 8.672630206625364, 8.836912659179633, 9.002873380922873, 9.166536411904126, 9.322607313224772, 9.46617566900818, 9.594831992363806, 9.70932618286525, 9.812414486899979, 9.907286677813845, 9.996677568573794, 10.082672778966655, 10.166821341907351, 10.250303072509578, 10.334067509484447, 10.41893628982703, 10.505680509990492], [7.473627428339765, 7.426607321922816, 7.377173081143912, 7.3254341684525, 7.271582920879826, 7.2159195322284715, 7.158882361515063, 7.101083424187805, 7.043347772536059, 6.986753498129102, 6.932666084831598, 6.882756876663802, 6.83899124905045, 6.803569595121261, 6.778806693355163, 6.766945996006169, 6.769926013844037, 6.789141193975887, 6.825257069803007, 6.8781350827405365, 6.946892330418897, 7.0300783134343146, 7.125916779933828, 7.232551434066527, 7.348248444709444, 7.471533331865865, 7.601261501887903, 7.7366338714630265, 7.877171784730558, 8.02266188737031, 8.173074573664387, 8.328449974587764, 8.488732046972437, 8.653513255382775, 8.821640796566609, 8.99069083487865, 9.15658182135188, 9.314033265884463, 9.458335831771313, 9.58738473944879, 9.702176889425495, 9.805585423143828, 9.900823580809549, 9.990614201156294, 10.077026611180099, 10.161598099369089, 10.245501583512722, 10.329683108524016, 10.414962995508738, 10.50211246404653], [7.378333555762137, 7.329884358906426, 7.278790826500505, 7.225137155452779, 7.169092057783849, 7.110936518860804, 7.051098307805779, 6.990193543357058, 6.9290744097689085, 6.868879851869271, 6.8110823634884, 6.757518697307239, 6.710386186866542, 6.672181766714199, 6.645562295954261, 6.633118193103797, 6.63708048568123, 6.659017623418649, 6.699604134806411, 6.758536600924827, 6.834627559538313, 6.926045910791383, 7.030627826955432, 7.146175883104409, 7.27068993224779, 7.402509239023089, 7.540372951786995, 7.683418627401388, 7.831138931625854, 7.9833102584840585, 8.139897753128515, 8.300930133413063, 8.466323436522229, 8.635614799315077, 8.80755923169051, 8.97961045064214, 9.147590037552455, 9.306256766061535, 9.451135904693794, 9.580449906704839, 9.695446751081708, 9.799109797944023, 9.89466741347281, 9.984824075069815, 10.071628589097827, 10.156603809534259, 10.240914049413579, 10.325500768510029, 10.411182273753816, 10.49872947150059], [7.278655425341958, 7.228607656677232, 7.175656427732996, 7.11985476758429, 7.061341011885698, 7.0003695525128045, 6.937350081785475, 6.872896284255779, 6.807883724945284, 6.743514141622702, 6.681378795535489, 6.62350649917811, 6.572372951846112, 6.5308399673036, 6.501992626474359, 6.488858675731932, 6.494033649123978, 6.519288823699518, 6.565278139541419, 6.631449194861238, 6.716193844272917, 6.817182527656347, 6.931768745428794, 7.057352927076243, 7.1916406034766025, 7.332781686524483, 7.479411136866136, 7.63062222556139, 7.785899475031352, 7.945027856893672, 8.107982873561221, 8.274793588692955, 8.445355709933924, 8.619154254214946, 8.794851608899334, 8.969779434735504, 9.139673865114393, 9.299362323581342, 9.444640431229708, 9.574079266560014, 9.689179327726533, 9.793025443729944, 9.888851676918657, 9.979337253331146, 10.066505976493726, 10.151863423074678, 10.236563491004057, 10.321541891074494, 10.407614166554364, 10.49555043918051], [7.174539260431741, 7.122698926303216, 7.067661368389135, 7.009440958531271, 6.948136885049923, 6.883967051485972, 6.8173125895711975, 6.74877487262424, 6.679245834406217, 6.609989659333782, 6.542728415676583, 6.4797148722544495, 6.423762579870459, 6.378189623964392, 6.346627637123731, 6.332667096091195, 6.339365988927312, 6.368731075296769, 6.421341872297385, 6.496267226655886, 6.591311424459642, 6.703488874565472, 6.829554640662326, 6.966443132109155, 7.111546214450859, 7.262834828173733, 7.418865434290205, 7.578717521745375, 7.741896589470825, 7.908220968192509, 8.077695953973423, 8.250364921497592, 8.426111797985559, 8.604372726201222, 8.783716760795416, 8.961354668185438, 9.132951780884392, 9.293437951624465, 9.438916704782727, 9.568327229713665, 9.683420822251046, 9.787372785485049, 9.88341235487295, 9.974186141416808, 10.06168823207568, 10.14740394342897, 10.232474851096699, 10.317829683030002, 10.404280418958916, 10.492595889764056], [7.065992720802247, 7.012139878875107, 6.954754638915347, 6.8938031652460054, 6.829334036109824, 6.761515322685998, 6.69068483645549, 6.6174167570548015, 6.542607105471357, 6.467577791121664, 6.394192519205384, 6.324965570312285, 6.263125177371105, 6.212570216432098, 6.177645523680678, 6.162683221914724, 6.171340194561883, 6.205892890323576, 6.266749011615536, 6.352394952399174, 6.45980552479035, 6.585130234670716, 6.7243904560831735, 6.873996415720449, 7.031025828495961, 7.193302927391595, 7.359350568540919, 7.528279494543465, 7.699655255873244, 7.873360610196824, 8.049453697728287, 8.228007897805778, 8.40890428296826, 8.591532840626618, 8.774367966795356, 8.95450164461255, 9.127546898984397, 9.288574423912038, 9.434034366275526, 9.563250690144178, 9.678220067872866, 9.782194902914858, 9.878388014347262, 9.969405607174917, 10.057207138117075, 10.14325455832898, 10.228675125776093, 10.31438928574051, 10.401204605915641, 10.489888086071069], [6.953105794185939, 6.89699417242623, 6.836965707770175, 6.772926157423074, 6.704858463633919, 6.632862799067855, 6.557212802314334, 6.478433076016414, 6.3974029699202415, 6.31548937237101, 6.234704092982765, 6.157865563432636, 6.0887163302835114, 6.031909093044085, 5.992743344544471, 5.9765564312083495, 5.987799291582328, 6.0290466511998195, 6.100356828569996, 6.199308069037257, 6.321693495785588, 6.462526781091267, 6.616949938420898, 6.7808137612734365, 6.950916324146279, 7.125000546399294, 7.301626075964244, 7.4799972170004105, 7.659789252444075, 7.840986332259349, 8.02372529164535, 8.20812600464351, 8.394075082926763, 8.580917784077444, 8.767031519758055, 8.949392850885634, 9.123585558957766, 9.28486432201401, 9.4300648984637, 9.55890881879729, 9.673628487535352, 9.777537576744965, 9.873819897885907, 9.965033097365716, 10.053096929264573, 10.139446774016006, 10.225193500135195, 10.311247910278377, 10.39841226587327, 10.48745116287757], [6.83607601251214, 6.77743445156289, 6.714433493937873, 6.646902941698826, 6.574740418734165, 6.497953725567012, 6.416722839417056, 6.331489194529253, 6.243081130286725, 6.152883399848471, 6.063051641016136, 5.9767530243711215, 5.898373191364152, 5.833564085186592, 5.788941228840836, 5.771250373779957, 5.786024089967367, 5.836138749347486, 5.920973723257697, 6.036668884460889, 6.177324832380037, 6.336484278741279, 6.5082798450021615, 6.688021772299065, 6.872321585532559, 7.058952903304431, 7.246613877101181, 7.434683286690524, 7.623005654656528, 7.811707854837335, 8.001032433552483, 8.191161553166829, 8.381993952683056, 8.572829334751964, 8.761944432025981, 8.946205486735835, 9.12119549355539, 9.282400863201682, 9.427081017064058, 9.555362805690043, 9.669700023687204, 9.77344931692406, 9.869752005258144, 9.961108749058555, 10.049394420164608, 10.13601455118248, 10.222061487877168, 10.308434978042175, 10.395931041063658, 10.485311266390886], [6.715237595173879, 6.653774417093901, 6.587441733324158, 6.515973726238646, 6.439157066295549, 6.356874157632014, 6.269169730176749, 6.176351836947063, 6.079141839797713, 5.978889906114209, 5.877867849770327, 5.779628829705724, 5.689364984328276, 5.614082682269345, 5.562275012634642, 5.542741123781472, 5.5625332972558335, 5.624755841060395, 5.72748166159713, 5.864536154002779, 6.027601798290105, 6.208377485522701, 6.399931091264957, 6.597156733907312, 6.796661726669946, 6.9964221928695896, 7.195410737719464, 7.3932784563380345, 7.590105337810515, 7.786203567844894, 7.981946946646251, 8.177592912039279, 8.37305548130746, 8.567584632527, 8.759351100918039, 8.945118425149985, 9.12050354663426, 9.281276511097289, 9.425155965156808, 9.55267555280761, 9.666491037672262, 9.769981370732275, 9.866231162417249, 9.957675493958702, 10.046139130371447, 10.13299444150574, 10.219313074020754, 10.305982266399518, 10.39379082431363, 10.483496701482405], [6.591092982731707, 6.526504780287794, 6.456460167653116, 6.380573206801056, 6.2984866449443295, 6.209913381404487, 6.114704732828724, 6.012960887335011, 5.9052061899168145, 5.792659665143669, 5.677633610586431, 5.564073480490054, 5.458174246698447, 5.3688197307489025, 5.307292146389271, 5.2855335204890155, 5.312807883242662, 5.392157503057948, 5.519115982906228, 5.683738317461368, 5.874316202058304, 6.080394410120007, 6.2941110210353175, 6.510248422067189, 6.725713458526844, 6.938923253688127, 7.149291168808227, 7.356848639055387, 7.56197774141615, 7.765214822568418, 7.967085311782675, 8.167929419978845, 8.367674248812977, 8.565511424571666, 8.75949875314891, 8.946308333432782, 9.121632935039582, 9.281581387847798, 9.424362725373866, 9.550911323372096, 9.664060179117705, 9.767187709144423, 9.863307075562663, 9.954779153614682, 10.043373404831474, 10.130425723471834, 10.216984859799734, 10.303924058802954, 10.39202391215268, 10.482038086729975], [6.4643433937058825, 6.396330109677043, 6.32218919206888, 6.241384827503156, 6.15337438367308, 6.057643480069065, 5.953769997345949, 5.841537346618404, 5.721130234043362, 5.5934644486845535, 5.460721551856075, 5.327158232100425, 5.200173069084043, 5.091303908271694, 5.016179618615667, 4.991853694407324, 5.0309362832612505, 5.13551138184502, 5.296069129498529, 5.4965156858693165, 5.7206352405556675, 5.955832527513666, 6.193835123418196, 6.429883628581532, 6.661627220355076, 6.88821942612432, 7.109695307800725, 7.326571152398096, 7.539588120050099, 7.749534998834827, 7.957099497606961, 8.162703551030878, 8.366277806789611, 8.566941520499697, 8.762631504429201, 8.949944910813153, 9.124700083313758, 9.283401527866426, 9.424773173878776, 9.550135356700514, 9.662468227075438, 9.76512499027634, 9.861032368235742, 9.952468523378869, 10.041142528091907, 10.128350536026526, 10.215116208700465, 10.30229729870887, 10.390665163900483, 10.480968517278457], [6.335912467413203, 6.264200836762507, 6.185602734398699, 6.099397815433726, 6.004807875062432, 5.901018085684202, 5.787226005807752, 5.662743050370266, 5.527193609189268, 5.380892323118903, 5.225534043927422, 5.065387644028458, 4.909146048588158, 4.772133289653536, 4.677150678495621, 4.6502387939410275, 4.709266592759959, 4.85269156847505, 5.060736815716527, 5.307560995523173, 5.571730584264977, 5.83939558639994, 6.103029436917399, 6.359216014346778, 6.606901298165625, 6.84628776949815, 7.078196115307833, 7.303707313031122, 7.5239558132928215, 7.7399925698039205, 7.952663618063883, 8.162459978235889, 8.369297172476049, 8.572202209408532, 8.768982913568731, 8.956185258273077, 9.129811108097982, 9.28681703887119, 9.426457210538551, 9.550413461715731, 9.661777906185552, 9.763852499347252, 9.8594625995659, 9.950795442975103, 10.039494830269671, 10.126814008447528, 10.21374939244293, 10.301141746515045, 10.389752166338784, 10.480323735488478], [6.206954085482271, 6.1313312891089105, 6.047980284044669, 5.955958524778143, 5.854195175472716, 5.741487440489634, 5.616516897106837, 5.477911498630305, 5.324407130808955, 5.155220636076439, 4.970860406033168, 4.774797262028643, 4.576622795445892, 4.39693112493206, 4.27118847685595, 4.242963940445057, 4.338551774232714, 4.544570718471122, 4.820128519933816, 5.125509368680559, 5.435419708802014, 5.737360357905511, 6.0264996501635535, 6.301877219127047, 6.564291010980891, 6.815243653205077, 7.056441582573323, 7.289559626096744, 7.516122845639818, 7.7374278643928385, 7.954456207109914, 8.167741300557742, 8.377154575244562, 8.581605439034433, 8.778766991379173, 8.965167485577451, 9.137058090198032, 9.291900264519773, 9.429481910053187, 9.551811605886629, 9.662053682697225, 9.763432065308127, 9.858656262072476, 9.949814851582888, 10.038481782752664, 10.125864384718819, 10.212929735590285, 10.30050013862998, 10.389325403502701, 10.48014230931657], [6.078833223926034, 5.999191649631219, 5.9109150881130805, 5.812802601827341, 5.703432694211685, 5.581119915677746, 5.443872554486691, 5.289369312262579, 5.115002960282636, 4.918114760080726, 4.696733346466551, 4.451590841967249, 4.191145920970645, 3.9422939195212305, 3.764643802032701, 3.741271075013305, 3.9107639330600916, 4.220990775922797, 4.5899179505422865, 4.964515885464243, 5.32242379007465, 5.657380497670775, 5.969658389211071, 6.261745115814461, 6.536637119679128, 6.797220058205442, 7.046071261842759, 7.285414036999522, 7.5171134563179525, 7.7426639320782815, 7.963138251792501, 8.179070350491978, 8.390248268984543, 8.59543464859608, 8.792167757572757, 8.977003783083132, 9.146515343974912, 9.29871407156656, 9.433910747791302, 9.55439551950099, 9.66336154667424, 9.76392795509019, 9.858674757825716, 9.949584825494103, 10.038158081607703, 10.125553140619456, 10.21270575738187, 10.300418347706838, 10.389428431075986, 10.48046581836288], [5.953069526746915, 5.869461712464832, 5.776284179054025, 5.672051159880667, 5.554943825662545, 5.422710500203004, 5.27253354122038, 5.100856799972889, 4.903181259831877, 4.673892400424655, 4.406385991822129, 4.094478467942213, 3.7385705452594666, 3.367231437791678, 3.0892314157024625, 3.0979399722326546, 3.4335619005446762, 3.9139308494230973, 4.3990578812619905, 4.844512784240227, 5.245516656241899, 5.607654869061179, 5.937929662111817, 6.242553815586755, 6.526616481035092, 6.794207787334357, 7.0486123772342095, 7.292470892989828, 7.527886823375145, 7.756472749193549, 7.979327506049077, 8.196929157115079, 8.408934326082305, 8.61392930308151, 8.809327638382287, 8.991773341011616, 9.158235969695188, 9.307310408774393, 9.439802959956493, 9.558230337189132, 9.66576878797677, 9.765406747282968, 9.8595823522806, 9.950166596651357, 10.03858171675609, 10.125935091733673, 10.213129309340788, 10.300945543030362, 10.390108054855522, 10.481339047547012], [5.831240820632335, 5.7439414043071375, 5.64617189504989, 5.536157852894564, 5.411668615453639, 5.269848378368924, 5.106964116153292, 4.918019329691131, 4.696147030585375, 4.4316395496572785, 4.110422790930421, 3.7120164988961184, 3.209655880546842, 2.5959478134038427, 2.070568204230876, 2.259064329102179, 2.9848453803710293, 3.6946379953880095, 4.288713548103067, 4.7875597793359175, 5.216894192645731, 5.595377511377993, 5.935872567921611, 6.2473937031197195, 6.536448818728465, 6.807877551319004, 7.065367894762297, 7.311771723355979, 7.549286913749711, 7.779538767275445, 8.003569914235737, 8.221734764769062, 8.433505472644333, 8.637267429014514, 8.830335274659042, 9.009515677275925, 9.172249043495794, 9.31772929896571, 9.44721309856193, 9.563380298978922, 9.669343774487647, 9.767937187913063, 9.861446105719274, 9.95162455075273, 10.03981402516969, 10.127068490666874, 10.214255707228837, 10.302134350054013, 10.391414512778066, 10.482810188443677], [5.714861862962371, 5.624432157461104, 5.522758151527227, 5.407812375066659, 5.276999117688953, 5.126918512695658, 4.9529942575518255, 4.748858648038493, 4.505278168192715, 4.208139934788365, 3.8343220869744625, 3.342154845321014, 2.64563395321006, 1.5339251169935786, 0.0, 1.4925170123792055, 2.800638057747014, 3.6569810339057756, 4.29510799836525, 4.809206553317658, 5.244221840800892, 5.6248885284757755, 5.966265860163509, 6.278228057563437, 6.567624988643854, 6.839418080160601, 7.097314656544542, 7.3441314825661035, 7.581994480334156, 7.8124222078797, 8.036309078030529, 8.253812177030861, 8.464167250327609, 8.66554683994726, 8.855213663033899, 9.03022511458967, 9.18855784504611, 9.329998422900026, 9.456190835736525, 9.56990853141845, 9.674155741393609, 9.771590031815478, 9.864335782966094, 9.954026204120163, 10.041919726659895, 10.12901511193763, 10.216143856031751, 10.304041008168065, 10.393401660097474, 10.48493104844754], [5.60528391168522, 5.512637023778484, 5.4082201362085955, 5.289846118759383, 5.154694690655807, 4.999040708097755, 4.817819612692124, 4.603897811735128, 4.346771974158544, 4.030068280547941, 3.6262409006419256, 3.0837831661501993, 2.2908692005212576, 0.9730321694279103, 0.21057482285383727, 1.9376977573624958, 3.058125005699426, 3.829768015122089, 4.422925362954804, 4.910051485201108, 5.3276151832596605, 5.696438452115671, 6.029532705835461, 6.3355927673227725, 6.62073419174196, 6.8894281685681324, 7.1450308182796505, 7.390086133878302, 7.6264861124295384, 7.855524267417391, 8.077854503265632, 8.293364736589773, 8.501012179441304, 8.6987663010337, 8.883909953510974, 9.053847289859473, 9.207139523868944, 9.344133427841356, 9.466781057945862, 9.577876925202167, 9.680274600038993, 9.77643787382447, 9.868323742866403, 9.957442159191581, 10.044966941302466, 10.131840323336123, 10.21885636688419, 10.306725525964692, 10.396127157489232, 10.487757268166854], [5.503699938707838, 5.410172186936294, 5.304747363272534, 5.185243937556857, 5.048874973502757, 4.892009443408492, 4.709811113734474, 4.495681498715347, 4.240395942152833, 3.9308217950801856, 3.5484808563587493, 3.0711632474391126, 2.5004697949689643, 2.026553047231337, 2.185882756023073, 2.8594562640029078, 3.550126153528716, 4.140734916644293, 4.6419111285025, 5.075870563694896, 5.459925308243039, 5.806333963683353, 6.123790029921096, 6.418597821047568, 6.695444685255861, 6.957889528381318, 7.208666317129629, 7.449862509512598, 7.683003528805711, 7.909055351368441, 8.128348877689637, 8.340442396903265, 8.543993276930886, 8.736808620616486, 8.916288605561384, 9.080278628396162, 9.227946539917532, 9.36013904085634, 9.479024268748866, 9.587346119356974, 9.68777077391562, 9.78255497462911, 9.873484809937095, 9.961946039321926, 10.049027188187372, 10.135613143024852, 10.22245966521888, 10.310251833585406, 10.399652662173652, 10.491348547801728], [5.411379450816637, 5.318825489406877, 5.2148171391597815, 5.097417342723106, 4.9642434966692, 4.812355248527998, 4.63814212717309, 4.437280827422926, 4.204992375462133, 3.9373212882411, 3.6356195149139574, 3.320033660636858, 3.059952122235913, 2.991251869134236, 3.202013432405491, 3.603361045361024, 4.059802416039798, 4.502513119158152, 4.911681616298941, 5.286163158126429, 5.630078508540691, 5.948362148344888, 6.24549104864653, 6.525225012378957, 6.790640046759324, 7.04422367078078, 7.287958737459452, 7.523371525542103, 7.7515330788809065, 7.973005734758984, 8.187734094674484, 8.394908874676448, 8.592899382674071, 8.779428493935283, 8.952129837918553, 9.109369606989631, 9.250910066684398, 9.378010987969045, 9.492957290304323, 9.598375593881572, 9.696715067815376, 9.790017086630108, 9.879896131597647, 9.967614404577072, 10.054175366029964, 10.140406282341784, 10.227024089985617, 10.314687932229255, 10.404044022630385, 10.49576888378773], [5.330281953434292, 5.241216029406257, 5.141884938749539, 5.030885252489468, 4.906664510915581, 4.76760575930665, 4.612259706905784, 4.439904055325516, 4.251804586466979, 4.053878921781028, 3.8616692860896857, 3.707034198513418, 3.6388972488009914, 3.701829487743499, 3.8992078589859624, 4.189927262397559, 4.523937692248516, 4.867075371367904, 5.202214171482708, 5.522671418633311, 5.826908989863122, 6.115621210160561, 6.390337890658338, 6.6527944663146235, 6.904658202438104, 7.1474097223237765, 7.382283507833165, 7.610218556463518, 7.831791407556676, 8.047116201501797, 8.255715722003972, 8.456410005879334, 8.647336290055263, 8.826248638146048, 8.991135224456809, 9.140932305819076, 9.275945315423844, 9.39773862301953, 9.508614222374453, 9.611023863716781, 9.707178574243446, 9.79890128551916, 9.887637025473488, 9.974526651388244, 10.060489717254292, 10.146296175186517, 10.232623984577074, 10.320106041614693, 10.409371478175732, 10.501086817733942], [5.264180779452494, 5.181959323455815, 5.091548633054362, 4.992351241882216, 4.883988296894759, 4.766559018828506, 4.641105225488741, 4.510407700172512, 4.380247574263335, 4.261094201325617, 4.1695128568244675, 4.127222469952317, 4.155046997424574, 4.262768298442611, 4.4430772689693026, 4.676219320956726, 4.940181837154939, 5.217585755571574, 5.4972303471104125, 5.772864039398657, 6.041466199641175, 6.301908519063754, 6.554091440002629, 6.798429576996378, 7.035552115271079, 7.266122600494191, 7.49071665951105, 7.70971828979765, 7.923209756965724, 8.130845357126216, 8.331727037339917, 8.524348110067352, 8.70671938036349, 8.876767957876009, 9.032941711763286, 9.17475218902473, 9.30295845113918, 9.419308069562168, 9.52602758796288, 9.625348758340264, 9.719232619169611, 9.809285813635116, 9.89678882243776, 9.98276490031698, 10.068051778489709, 10.153362996067793, 10.239337781170494, 10.32658274718128, 10.415709865653934, 10.507375700726532], [5.220282747103715, 5.149219109999115, 5.072927435506308, 4.99174596300406, 4.906524299133259, 4.818919897424464, 4.731811808283009, 4.64981385585959, 4.57976338988064, 4.530858364653731, 4.513887787885638, 4.5390776940749, 4.612911736579564, 4.735587180619383, 4.900948495350021, 5.0989515698407955, 5.3188596716824605, 5.551462739594757, 5.78990297637907, 6.029564873804865, 6.267591010437191, 6.502361438086824, 6.733066552201988, 6.959392612011567, 7.181297777558139, 7.39884785522792, 7.612083660053396, 7.82089786232268, 8.024908289789423, 8.223332123526307, 8.414897596845705, 8.597870622999643, 8.770284555944809, 8.930384675872663, 9.07714415778613, 9.210603309163243, 9.331854477613696, 9.442705595986261, 9.545229572578233, 9.641407764566305, 9.732948747457888, 9.821249941523192, 9.907434712344815, 9.992413877779398, 10.07694632203928, 10.16169067041259, 10.247248081606607, 10.334199150159419, 10.423138836833393, 10.514713977494523], [5.210838520022494, 5.15592748637562, 5.09931174469597, 5.042106496260938, 4.986003362996436, 4.933446623367723, 4.887797153302394, 4.8534120970475545, 4.835523497560581, 4.839782407863779, 4.871409136524426, 4.934095955262198, 5.029059760489302, 5.15470597352232, 5.307087979965297, 5.480912972075996, 5.670620614937923, 5.8711717990188035, 6.078441761882141, 6.289297346973644, 6.501492904517525, 6.713494024708262, 6.924292593709324, 7.133239983413801, 7.339903203293888, 7.543938077191711, 7.744969852285944, 7.942473553330202, 8.135655608693774, 8.323358302690295, 8.504037742389334, 8.67588437112216, 8.837123541917865, 8.986435174363152, 9.123324791030967, 9.248265349279514, 9.362545244362902, 9.467920899438875, 9.56625325441819, 9.659258406604069, 9.748398747258802, 9.834873854654932, 9.919659600846934, 10.003560799419336, 10.087261294820001, 10.171366882637324, 10.256441739750331, 10.343041025412342, 10.431743091898664, 10.523185496860526], [5.253185209121868, 5.21894544357011, 5.1863285116362645, 5.156768186107246, 5.132106265567002, 5.1146183911594205, 5.1069833999624565, 5.1121634850808535, 5.133170732633394, 5.172725011534805, 5.23285751505766, 5.3145629299391635, 5.417615737097028, 5.5406194213420425, 5.681269690979364, 5.8367366649261765, 6.004048895144105, 6.18039360975504, 6.363300221322124, 6.550716433814235, 6.741006173433896, 6.932900138877978, 7.125422175634117, 7.317805075839041, 7.509401403175153, 7.699589894570601, 7.887676761550205, 8.072795428842063, 8.253820121381246, 8.429327668773643, 8.597657355717123, 8.757106960728256, 8.906245931319688, 9.04424577047967, 9.17108611511438, 9.28754032824473, 9.394956647867563, 9.49494998312369, 9.589133728454028, 9.678958637973876, 9.765654712630107, 9.850238573099633, 9.933549987332636, 10.01629526494064, 10.099087763587242, 10.18248308982547, 10.267009952597967, 10.353198994271157, 10.4416126368164, 10.532879857477981], [5.365756202297491, 5.354150620402122, 5.346397912522395, 5.343754730010978, 5.347658488150857, 5.359688896832032, 5.381496478250118, 5.414696068200899, 5.460731935150153, 5.520732139481691, 5.595379073495922, 5.684825473101904, 5.788677173410919, 5.9060471277126005, 6.035666464160813, 6.176025593064571, 6.325515915965355, 6.482549243022407, 6.645642723740087, 6.813467002538981, 6.984861685598615, 7.158824691380634, 7.334481700255937, 7.511040171577803, 7.687730659524803, 7.863737842431041, 8.038126443568046, 8.209774696341169, 8.377339922205953, 8.539291171120079, 8.694039126428704, 8.840160855647984, 8.976663523647595, 9.103190558624764, 9.220082349201293, 9.328266642824632, 9.429034207897049, 9.523797376850386, 9.61390904828262, 9.700567224732472, 9.78478914492586, 9.86742591322277, 9.94919387595934, 10.030709176664818, 10.112519878000944, 10.195134551725912, 10.279048370320291, 10.364768722575949, 10.452843075493979, 10.543892801290552], [5.559630872669378, 5.5684198433261125, 5.581833264421804, 5.600732901745111, 5.626025824288063, 5.6586302538482265, 5.699431087583864, 5.7492277779821, 5.808679615789638, 5.878255370848332, 5.958194907818165, 6.048489241264847, 6.148882544257399, 6.258895602561764, 6.377866299964192, 6.5050000582864875, 6.639422324006576, 6.780226062591428, 6.926509137725733, 7.0773986132776265, 7.232060801259051, 7.389697016008572, 7.549525576827545, 7.710751059926654, 7.872522894860487, 8.033888161092513, 8.193748777863187, 8.350840803712167, 8.503759648674016, 8.651052094757901, 8.791376914395997, 8.923703008978427, 9.047484214812998, 9.162745287537529, 9.27004419176192, 9.37032854246767, 9.464746486683016, 9.554477560073025, 9.640620942201863, 9.724144108118475, 9.805875096176614, 9.886518502372752, 9.966680734078517, 10.04689669695255, 10.12765486635519, 10.209420391290827, 10.292657239100059, 10.377851157979906, 10.46553595176184, 10.55632667171058], [5.831225891650736, 5.854635304806042, 5.882412542593473, 5.915085395874411, 5.95318350337114, 5.997220472598221, 6.0476734408165305, 6.104961387349758, 6.169423980239631, 6.241303011305703, 6.320728428876781, 6.407710560739341, 6.502139367316208, 6.603790607593819, 6.712337828602351, 6.827368293415053, 6.948400471961935, 7.07490056872405, 7.2062956996231575, 7.341981660168101, 7.4813236688391385, 7.623649030554422, 7.768231500399439, 7.914268575655684, 8.060855460848398, 8.206963306293812, 8.351433919904938, 8.493006188698846, 8.630386912295549, 8.762367217759525, 8.887966496152119, 9.006567085670802, 9.117996411726294, 9.222526733519949, 9.320792922278228, 9.413660063416946, 9.502086213409875, 9.587015575730213, 9.6693152982762, 9.749750746097298, 9.828986361749843, 9.90759986014526, 9.986101515200604, 10.06495426303296, 10.144593082698963, 10.225443704259453, 10.307941595222974, 10.392552825505017, 10.47979916159014, 10.570290959575505], [6.1634540489858844, 6.194794154092696, 6.229883190824675, 6.269049984523978, 6.31261920946401, 6.360902919534663, 6.4141912344360215, 6.47274262231455, 6.536774332737171, 6.606453594970112, 6.681890182215368, 6.7631308385958295, 6.85015587261186, 6.942877955295254, 7.041142854175767, 7.144731524219104, 7.253362703662448, 7.36669496219072, 7.48432705606987, 7.605795505152208, 7.730568596040017, 7.858036660217114, 7.987499648159318, 8.11815486762776, 8.24909020393991, 8.379290581991715, 8.507666464961554, 8.633110881620969, 8.754584515066291, 8.871217691877021, 8.982407582106916, 9.087884215699328, 9.187724592412204, 9.2823101531281, 9.372242371336613, 9.458243607093673, 9.54106937147672, 9.621446943218945, 9.700042450395115, 9.777450445950535, 9.854197734899776, 9.9307545633244, 10.007548767191114, 10.084980681891267, 10.16343812880271, 10.243311741574711, 10.325011534671885, 10.408986206680565, 10.49574746300561, 10.585902968025271], [6.533960146429925, 6.567849231961877, 6.604889050428697, 6.64530322702535, 6.689312794491489, 6.737131807934487, 6.78896246671379, 6.844989868347729, 6.9053765541797265, 6.970257027533659, 7.0397324249648925, 7.11386549389892, 7.192675972171941, 7.276136377824721, 7.364168107821626, 7.456637626296827, 7.553352419723, 7.654056343195575, 7.758424029390292, 7.86605424794126, 7.976462568863589, 8.089074468380737, 8.203221117879545, 8.318141346916128, 8.432994227236078, 8.546886662849442, 8.65891850506137, 8.768243677119825, 8.87414019091619, 8.976076547264386, 9.073759406296686, 9.167149910448762, 9.25644406759486, 9.342023371741403, 9.424390194175922, 9.504104356171029, 9.581732799184675, 9.657817066024439, 9.732857327780684, 9.807308712676958, 9.8815853422269, 9.956068516147464, 10.031116850856108, 10.10707733291568, 10.184297080234918, 10.263136194995736, 10.343982589821914, 10.427270235806223, 10.513503120482026, 10.603288638294288], [6.922398600212028, 6.955400305796677, 6.991064665621346, 7.0295571013391775, 7.071041664587261, 7.115678327383653, 7.1636198705783825, 7.215008383286647, 7.269971396650869, 7.328617682174471, 7.391032746230223, 7.457274046769386, 7.527365945846787, 7.601294395142088, 7.679001338236718, 7.760378815933312, 7.845262799615626, 7.933426880183137, 8.024576138369957, 8.118341843042225, 8.214278070004477, 8.311861854252172, 8.410498947427627, 8.509537413817904, 8.608290862352636, 8.706071821881977, 8.802233577122133, 8.896216025787133, 8.987588580782237, 9.076081952594393, 9.161601859366755, 9.244221590845175, 9.324155773053732, 9.401722390154449, 9.47730206354362, 9.551302285010893, 9.624130987899088, 9.696180372135286, 9.767819550891662, 9.83939364962161, 9.911227086464935, 9.983629353333244, 10.056902299776645, 10.131348512348826, 10.20728085309113, 10.285033624584791, 10.364976254271468, 10.447530957617365, 10.533196732970413, 10.622583593111301], [7.3126198607755235, 7.342836301091417, 7.37530725552116, 7.410160385196637, 7.4475220082027604, 7.48751507290671, 7.530256772976138, 7.57585578194803, 7.624409089949513, 7.675998431315214, 7.730686300119057, 7.788511562556778, 7.84948469342635, 7.913582693095449, 7.980743787738533, 8.050862087441075, 8.123782482612752, 8.199296204969812, 8.277137662918006, 8.356983364272475, 8.438453919143539, 8.521120200025065, 8.604514626861388, 8.688148139663282, 8.771532652960307, 8.854207678716675, 8.935768528432352, 9.015892407510593, 9.0943582672599, 9.171056901870452, 9.245989558772846, 9.319255822324173, 9.391033847364112, 9.461557290392628, 9.531093155888616, 9.5999235530668, 9.668332736823217, 9.73659942552932, 9.804993567056087, 9.873776458129672, 9.943203231452713, 10.013527010669476, 10.08500435963389, 10.157901961739643, 10.232504757237649, 10.309126077460071, 10.388120709155784, 10.46990240485904, 10.554968311440886, 10.643934474558685], [7.6911882613491995, 7.717635735174408, 7.745966702095569, 7.776279549755673, 7.808670763113769, 7.843233250975596, 7.88005437682176, 7.919213675059851, 7.960780241368148, 8.00480979739353, 8.051341447110946, 8.100394166389673, 8.151963100770395, 8.206015791214202, 8.26248850523799, 8.321282921569601, 8.382263497517348, 8.445255932101023, 8.510047210171914, 8.576387750378391, 8.64399615193211, 8.712566906384065, 8.781781180277385, 8.851320371345816, 8.920881622675589, 8.990193930856723, 9.059033051157401, 9.127233263048357, 9.194694354486089, 9.26138292922499, 9.32732817391178, 9.392613233942036, 9.457364021487937, 9.521737439054892, 9.585910683069963, 9.650072694267825, 9.714418188984839, 9.77914421737633, 9.844448921861757, 9.910532092538356, 9.977597173948945, 10.045854507379053, 10.115525754981677, 10.186849633303158, 10.26008929414783, 10.335541961302868, 10.4135518206521, 10.494527773446455, 10.578968694673215, 10.667500681299709], [8.045327875536717, 8.067530157447436, 8.091264259491355, 8.116604627945478, 8.143623527031638, 8.172389719014097, 8.202966941489207, 8.23541217915996, 8.269773736997456, 8.306089135027346, 8.344382862744066, 8.384664053923784, 8.426924170624748, 8.47113481805184, 8.517245848297724, 8.565183947784165, 8.61485193544916, 8.666129018792049, 8.718872252717393, 8.772919409902412, 8.828093389697846, 8.88420815800826, 8.94107602529363, 8.998515851206749, 9.0563615488789, 9.114470102620144, 9.172728267734138, 9.231057231898594, 9.289414786392872, 9.347794932991983, 9.406225247368486, 9.464762631058669, 9.52348823936286, 9.582502355040067, 9.641919825353293, 9.701866462607141, 9.76247659599714, 9.823891803132776, 9.886260761280083, 9.94974013654559, 10.014496458803052, 10.080708996788989, 10.14857374444711, 10.21830875949282, 10.290161273805943, 10.364417255082945, 10.441414500586388, 10.52156099921453, 10.605361423890624, 10.693456649817701], [8.363187170544977, 8.381082842791706, 8.400190234065496, 8.420566115319188, 8.442265536321683, 8.465340911071658, 8.48984098821166, 8.515809713333724, 8.543284997863427, 8.572297419098108, 8.602868888028704, 8.635011335638469, 8.6687254839398, 8.703999784080683, 8.74080961877582, 8.779116877685212, 8.818870018987548, 8.860004724487647, 8.902445235237717, 8.94610641666072, 8.990896545367379, 9.036720736597657, 9.083484848661566, 9.13109962131824, 9.179484745111296, 9.228572535233981, 9.27831090890054, 9.328665441907562, 9.379620397535248, 9.43117875685689, 9.483361405799215, 9.536205725752572, 9.589763876762131, 9.64410105531904, 9.699293965026285, 9.7554296770681, 9.812604997322966, 9.870926411819848, 9.930510659082435, 9.991485978619782, 10.053994109112592, 10.118193158293671, 10.184261543148725, 10.252403313869653, 10.32285534768633, 10.395897165609574, 10.471864552848777, 10.551168877168541, 10.634325242113079, 10.721994881708122], [8.637208961628874, 8.6511858251817, 8.666108548735185, 8.682022704631597, 8.698973095425538, 8.717003199726534, 8.736154558326328, 8.756466107824714, 8.777973473592558, 8.800708239393856, 8.824697217211735, 8.849961747524313, 8.876517067008379, 8.904371786743113, 8.93352752853724, 8.963978768891863, 8.995712938090051, 9.02871081476407, 9.062947243121682, 9.09839218054222, 9.135012058210801, 9.172771408866245, 9.211634686979316, 9.251568182217943, 9.29254191172043, 9.334531374582916, 9.37751906522543, 9.421495670203013, 9.466460911723336, 9.512424044343526, 9.559404051872379, 9.60742962322248, 9.65653900525086, 9.706779837224557, 9.758209068164494, 9.810893049533954, 9.86490788662719, 9.920340127147567, 9.977287868554354, 10.035862379977091, 10.096190363295413, 10.158417026238027, 10.2227102159758, 10.289265978108347, 10.358316086494579, 10.430138375387937, 10.505071172041875, 10.583533917069774, 10.666057449897231, 10.753330003816485], [8.867264240658288, 8.8780522117932, 8.889584026692114, 8.901898628851013, 8.915035137308962, 8.929032545001789, 8.943929383437636, 8.959763357612037, 8.97657095735557, 8.994387053910232, 9.013244493376918, 9.033173701621818, 9.05420231805981, 9.076354878160702, 9.099652566194132, 9.12411306024068, 9.149750490445648, 9.176575528533515, 9.20459562153291, 9.233815375516635, 9.26423708628896, 9.295861404067729, 9.328688109375143, 9.362716968875102, 9.397948634132913, 9.434385544369466, 9.472032796898752, 9.510898956055629, 9.550996782283583, 9.59234387630212, 9.634963247254742, 9.678883826895595, 9.724140963120389, 9.770776935108927, 9.818841539413093, 9.868392802557844, 9.919497882699366, 9.972234232583359, 10.026691110872994, 10.082971551922173, 10.141194939428672, 10.201500383264312, 10.264051180773826, 10.329040769741956, 10.396700776896141, 10.467312080489704, 10.541220324329583, 10.618858206888396, 10.700778447016734, 10.78770427622998], [9.059820620046077, 9.068236869671153, 9.077251311559868, 9.08689852850575, 9.09721394527451, 9.108233681163268, 9.119994380393805, 9.13253302146886, 9.145886707664632, 9.160092442038877, 9.175186891672057, 9.191206147276564, 9.208185485728684, 9.226159144396743, 9.245160117230283, 9.265219983296964, 9.286368778660236, 9.30863492205151, 9.33204520361497, 9.356624844065673, 9.382397628967242, 9.409386119674494, 9.437611939077247, 9.467096126991635, 9.49785955729181, 9.529923407066896, 9.563309667562244, 9.598041687626775, 9.634144742883363, 9.671646627751299, 9.71057827254777, 9.750974393908884, 9.792874193484131, 9.836322127203639, 9.881368775557155, 9.928071854721576, 9.976497419869945, 10.026721326909824, 10.078831039205228, 10.132927894458135, 10.189129988266327, 10.247575891749575, 10.308429511941611, 10.371886543390882, 10.438183178379791, 10.507608095811154, 10.580519335091259, 10.657368672615014, 10.738737939058097, 10.825395162335582], [9.224081804972384, 9.230819454095709, 9.238051404844716, 9.245808804708597, 9.254124019584292, 9.263030577341773, 9.272563095817816, 9.282757194911783, 9.293649392918551, 9.305276987797708, 9.317677924740417, 9.330890652144516, 9.344953968923118, 9.359906866920538, 9.375788373049117, 9.39263739653927, 9.410492587354312, 9.42939221230042, 9.449374055605444, 9.470475350706344, 9.492732749654706, 9.516182335935769, 9.540859685648174, 9.566799980999136, 9.594038179058996, 9.622609237844673, 9.652548401233048, 9.683891544112683, 9.716675579722308, 9.750938932433707, 9.786722081432563, 9.824068183946697, 9.863023791002927, 9.9036396743623, 9.945971790612319, 9.990082417907848, 10.036041513380717, 10.083928356074075, 10.133833563389965, 10.18586160153189, 10.24013395705327, 10.296793204970868, 10.356008311309475, 10.417981665059635, 10.48295858198923, 10.551240424178669, 10.623203152559773, 10.699324303721816, 10.780223522427688, 10.866725893901544], [9.368571336118986, 9.37413042776454, 9.380108474528543, 9.38653365571466, 9.393435544418207, 9.40084510573216, 9.408794684309257, 9.417317980401199, 9.426450013675456, 9.436227074356786, 9.446686661559893, 9.457867409074709, 9.46980899933639, 9.482552066853351, 9.496138092968746, 9.510609294478112, 9.526008509297679, 9.542379083048377, 9.5597647610614, 9.578209590893414, 9.597757840937028, 9.618453941106734, 9.640342451864955, 9.663468068036826, 9.687875663974786, 9.713610386727087, 9.740717804013363, 9.769244114115404, 9.799236425375566, 9.830743114006648, 9.863814270531082, 9.898502247594863, 9.934862325406803, 9.972953515981681, 10.012839534189707, 10.054589973007722, 10.09828173331402, 10.144000776536652, 10.191844293680827, 10.241923420157358, 10.294366677803923, 10.349324402190359, 10.40697452896578, 10.467530291711187, 10.531250667477915, 10.598454870682453, 10.669542983539573, 10.74502620118811, 10.825572740760576, 10.91208049116693], [9.499775650176332, 9.504490360776503, 9.509567852291017, 9.515033706287047, 9.520914956289607, 9.527240119422443, 9.534039221350765, 9.541343813552997, 9.549186981988724, 9.55760334631226, 9.566629048912924, 9.576301733252144, 9.586660511219957, 9.597745919554933, 9.6095998657651, 9.622265564453894, 9.635787465492278, 9.650211176080262, 9.665583379399388, 9.681951753260659, 9.699364892886475, 9.71787224271714, 9.737524042890989, 9.75837129680675, 9.780465766940193, 9.803860006870885, 9.828607438312725, 9.85476248289051, 9.88238075954891, 9.911519359939968, 9.942237216075434, 9.974595577172867, 10.008658616269843, 10.0444941922377, 10.082174799861956, 10.121778750472048, 10.16339163935613, 10.207108175595819, 10.253034477578291, 10.301290977262216, 10.352016134555653, 10.40537125003227, 10.461546796458764, 10.5207708958951, 10.583320899984738, 10.64953957880589, 10.719858364131145, 10.794831777263063, 10.875190341067109, 10.96192560224853], [9.6222299889885, 9.62632005324621, 9.63072978843503, 9.635482522753604, 9.64060303206975, 9.646117592160767, 9.652054027369939, 9.658441754813627, 9.665311823247576, 9.672696945700057, 9.680631525010124, 9.689151671479165, 9.698295211961023, 9.708101689888734, 9.718612355972075, 9.729870149607542, 9.74191967142746, 9.75480714788301, 9.768580389310731, 9.78328874357517, 9.798983048112103, 9.815715584016067, 9.833540036721667, 9.85251146882075, 9.872686311641633, 9.894122383404191, 9.916878943079983, 9.941016790571943, 9.966598425551501, 9.993688279355647, 10.022353036905102, 10.052662068876815, 10.08468799866238, 10.11850743441337, 10.154201904349414, 10.19185904439949, 10.231574102498804, 10.273451845461551, 10.317608985312996, 10.3641772869747, 10.413307585688562, 10.465175042646516, 10.519986121231243, 10.577988009041253, 10.639481604879865, 10.704839850816997, 10.774534341249788, 10.849175239570013, 10.929573563492578, 11.016843145339712], [9.739053368758908, 9.742666053435618, 9.746564455645299, 9.750769963865764, 9.755305378996267, 9.760194979247947, 9.765464583857646, 9.771141614939458, 9.77725515673659, 9.78383601149774, 9.790916751182873, 9.798531764209315, 9.806717296488198, 9.815511486081615, 9.824954390941548, 9.835088009382714, 9.845956293202828, 9.857605153706215, 9.870082461320518, 9.883438040031816, 9.897723658510898, 9.912993020572774, 9.92930175851321, 9.946707433912266, 9.96526955170052, 9.985049594670327, 10.006111087213108, 10.02851969892114, 10.05234340087962, 10.077652690097267, 10.104520900738107, 10.133024624852617, 10.163244270497469, 10.19526479196614, 10.229176636037156, 10.265076960725285, 10.303071200542155, 10.343275077071445, 10.38581718932428, 10.430842370479361, 10.47851607523981, 10.52903017998335, 10.5826107612562, 10.63952871085447, 10.700114527231689, 10.764779443105873, 10.834046503736898, 10.908597915680781, 10.989350309919447, 11.077580783853001], [9.852444340450363, 9.855681902755563, 9.85917786809986, 9.862951961367978, 9.867025270969515, 9.871420321411316, 9.87616114653477, 9.881273362926565, 9.886784242954961, 9.89272278683389, 9.899119793078231, 9.906007926690805, 9.913421784421109, 9.92139795646531, 9.929975084044836, 9.939193912417437, 9.949097339050681, 9.959730456936226, 9.97114059335768, 9.983377344860253, 9.996492609723436, 10.010540619926337, 10.025577975439418, 10.041663684699133, 10.058859216350992, 10.077228568816675, 10.096838365997032, 10.11775798952746, 10.140059760541494, 10.16381918699665, 10.189115296451899, 10.216031079017943, 10.244654071407867, 10.275077121150847, 10.307399380913024, 10.341727597713962, 10.378177782465729, 10.416877374492294, 10.457968057858814, 10.501609448354374, 10.547983963036744, 10.59730332705433, 10.649817397109013, 10.705826344402439, 10.765697847256705, 10.829891996889899, 10.898998527510381, 10.973794618821355, 11.055338892774376, 11.145133346253502], [9.964031327841017, 9.966967741974814, 9.970140235048582, 9.97356710803003, 9.977267972314795, 9.981263826882497, 9.985577137528605, 9.990231917864975, 9.995253811732015, 10.000670176618701, 10.0065101676461, 10.01280482163974, 10.019587140801598, 10.026892175499587, 10.03475710572958, 10.043221320880948, 10.052326497562948, 10.062116675438665, 10.072638331280862, 10.08394045182753, 10.09607460649424, 10.109095021619089, 10.123058658701286, 10.138025300078766, 10.154057646712749, 10.171221434256612, 10.189585575445335, 10.209222339131973, 10.230207579130669, 10.252621029555424, 10.276546687787592, 10.302073311873905, 10.3292950665019, 10.35831236138185, 10.389232938863787, 10.422173285405037, 10.45726046631421, 10.494634518488045, 10.534451587069848, 10.576888067843992, 10.622146132159795, 10.670461189668364, 10.722112128809771, 10.777435642967896, 10.836846746814519, 10.900868999078671, 10.970180570757522, 11.045687452303072, 11.128645937440403, 11.220881345606408], [10.075103205461899, 10.07779428760103, 10.080703018221419, 10.083846483271158, 10.087243027094862, 10.090912332280613, 10.094875502677892, 10.099155149446212, 10.103775479956678, 10.108762389332956, 10.114143554386217, 10.1199485296744, 10.126208845403404, 10.132958106892689, 10.14023209535663, 10.148068869815049, 10.156508870051756, 10.16559502070193, 10.175372836783216, 10.185890531310289, 10.197199126071174, 10.209352567222728, 10.222407848115589, 10.23642514272591, 10.251467954302075, 10.26760328539238, 10.284901837385263, 10.303438250173256, 10.323291395687857, 10.344544743040693, 10.367286818119346, 10.391611787112417, 10.417620202138517, 10.445419958750003, 10.475127530798087, 10.506869569829487, 10.540784986674545, 10.577027676620219, 10.615770113618392, 10.657208134916983, 10.701567384673034, 10.74911211689049, 10.800157433914935, 10.855086666839483, 10.914376701398492, 10.978636049888637, 11.048664299027756, 11.125549382396715, 11.210836367923815, 11.306843348198635], [10.186764168901199, 10.189253874653748, 10.191945957517703, 10.19485647383504, 10.198002690494608, 10.201403166385676, 10.205077837895708, 10.209048108461532, 10.213336942161138, 10.217968961312803, 10.222970548031522, 10.228369949682559, 10.23419738817228, 10.24048517303223, 10.247267818290132, 10.254582163189301, 10.26246749692628, 10.270965687738043, 10.280121316901184, 10.289981818525902, 10.300597626461972, 10.312022330213242, 10.324312842519387, 10.337529582257075, 10.351736677598065, 10.367002196017468, 10.383398409873273, 10.401002109013756, 10.419894975394545, 10.440164039252934, 10.461902242343731, 10.485209141587482, 10.510191796940862, 10.536965901433845, 10.565657230721747, 10.5964035165996, 10.629356887489111, 10.664687074903407, 10.702585667988881, 10.743271824490513, 10.787000043301035, 10.834070919456227, 10.88484632532058, 10.939771359888832, 10.999407017355704, 11.064480555305101, 11.135966591217732, 11.21522493081392, 11.304251571987496, 11.406179489108377]]}, {\"name\": \"optimum\", \"type\": \"scatter\", \"x\": [0.030341622855888963], \"y\": [0.047488695499172284]}],\n",
       "                        {\"margin\": {\"b\": 0, \"l\": 0, \"r\": 0, \"t\": 25}, \"showlegend\": false, \"template\": {\"data\": {\"bar\": [{\"error_x\": {\"color\": \"#2a3f5f\"}, \"error_y\": {\"color\": \"#2a3f5f\"}, \"marker\": {\"line\": {\"color\": \"#E5ECF6\", \"width\": 0.5}}, \"type\": \"bar\"}], \"barpolar\": [{\"marker\": {\"line\": {\"color\": \"#E5ECF6\", \"width\": 0.5}}, \"type\": \"barpolar\"}], \"carpet\": [{\"aaxis\": {\"endlinecolor\": \"#2a3f5f\", \"gridcolor\": \"white\", \"linecolor\": \"white\", \"minorgridcolor\": \"white\", \"startlinecolor\": \"#2a3f5f\"}, \"baxis\": {\"endlinecolor\": \"#2a3f5f\", \"gridcolor\": \"white\", \"linecolor\": \"white\", \"minorgridcolor\": \"white\", \"startlinecolor\": \"#2a3f5f\"}, \"type\": \"carpet\"}], \"choropleth\": [{\"colorbar\": {\"outlinewidth\": 0, \"ticks\": \"\"}, \"type\": \"choropleth\"}], \"contour\": [{\"colorbar\": {\"outlinewidth\": 0, \"ticks\": \"\"}, \"colorscale\": [[0.0, \"#0d0887\"], [0.1111111111111111, \"#46039f\"], [0.2222222222222222, \"#7201a8\"], [0.3333333333333333, \"#9c179e\"], [0.4444444444444444, \"#bd3786\"], [0.5555555555555556, \"#d8576b\"], [0.6666666666666666, \"#ed7953\"], [0.7777777777777778, \"#fb9f3a\"], [0.8888888888888888, \"#fdca26\"], [1.0, \"#f0f921\"]], \"type\": \"contour\"}], \"contourcarpet\": [{\"colorbar\": {\"outlinewidth\": 0, \"ticks\": \"\"}, \"type\": \"contourcarpet\"}], \"heatmap\": [{\"colorbar\": {\"outlinewidth\": 0, \"ticks\": \"\"}, \"colorscale\": [[0.0, \"#0d0887\"], [0.1111111111111111, \"#46039f\"], [0.2222222222222222, \"#7201a8\"], [0.3333333333333333, \"#9c179e\"], [0.4444444444444444, \"#bd3786\"], [0.5555555555555556, \"#d8576b\"], [0.6666666666666666, \"#ed7953\"], [0.7777777777777778, \"#fb9f3a\"], [0.8888888888888888, \"#fdca26\"], [1.0, \"#f0f921\"]], \"type\": \"heatmap\"}], \"heatmapgl\": [{\"colorbar\": {\"outlinewidth\": 0, \"ticks\": \"\"}, \"colorscale\": [[0.0, \"#0d0887\"], [0.1111111111111111, \"#46039f\"], [0.2222222222222222, \"#7201a8\"], [0.3333333333333333, \"#9c179e\"], [0.4444444444444444, \"#bd3786\"], [0.5555555555555556, \"#d8576b\"], [0.6666666666666666, \"#ed7953\"], [0.7777777777777778, \"#fb9f3a\"], [0.8888888888888888, \"#fdca26\"], [1.0, \"#f0f921\"]], \"type\": \"heatmapgl\"}], \"histogram\": [{\"marker\": {\"colorbar\": {\"outlinewidth\": 0, \"ticks\": \"\"}}, \"type\": \"histogram\"}], \"histogram2d\": [{\"colorbar\": {\"outlinewidth\": 0, \"ticks\": \"\"}, \"colorscale\": [[0.0, \"#0d0887\"], [0.1111111111111111, \"#46039f\"], [0.2222222222222222, \"#7201a8\"], [0.3333333333333333, \"#9c179e\"], [0.4444444444444444, \"#bd3786\"], [0.5555555555555556, \"#d8576b\"], [0.6666666666666666, \"#ed7953\"], [0.7777777777777778, \"#fb9f3a\"], [0.8888888888888888, \"#fdca26\"], [1.0, \"#f0f921\"]], \"type\": \"histogram2d\"}], \"histogram2dcontour\": [{\"colorbar\": {\"outlinewidth\": 0, \"ticks\": \"\"}, \"colorscale\": [[0.0, \"#0d0887\"], [0.1111111111111111, \"#46039f\"], [0.2222222222222222, \"#7201a8\"], [0.3333333333333333, \"#9c179e\"], [0.4444444444444444, \"#bd3786\"], [0.5555555555555556, \"#d8576b\"], [0.6666666666666666, \"#ed7953\"], [0.7777777777777778, \"#fb9f3a\"], [0.8888888888888888, \"#fdca26\"], [1.0, \"#f0f921\"]], \"type\": \"histogram2dcontour\"}], \"mesh3d\": [{\"colorbar\": {\"outlinewidth\": 0, \"ticks\": \"\"}, \"type\": \"mesh3d\"}], \"parcoords\": [{\"line\": {\"colorbar\": {\"outlinewidth\": 0, \"ticks\": \"\"}}, \"type\": \"parcoords\"}], \"pie\": [{\"automargin\": true, \"type\": \"pie\"}], \"scatter\": [{\"marker\": {\"colorbar\": {\"outlinewidth\": 0, \"ticks\": \"\"}}, \"type\": \"scatter\"}], \"scatter3d\": [{\"line\": {\"colorbar\": {\"outlinewidth\": 0, \"ticks\": \"\"}}, \"marker\": {\"colorbar\": {\"outlinewidth\": 0, \"ticks\": \"\"}}, \"type\": \"scatter3d\"}], \"scattercarpet\": [{\"marker\": {\"colorbar\": {\"outlinewidth\": 0, \"ticks\": \"\"}}, \"type\": \"scattercarpet\"}], \"scattergeo\": [{\"marker\": {\"colorbar\": {\"outlinewidth\": 0, \"ticks\": \"\"}}, \"type\": \"scattergeo\"}], \"scattergl\": [{\"marker\": {\"colorbar\": {\"outlinewidth\": 0, \"ticks\": \"\"}}, \"type\": \"scattergl\"}], \"scattermapbox\": [{\"marker\": {\"colorbar\": {\"outlinewidth\": 0, \"ticks\": \"\"}}, \"type\": \"scattermapbox\"}], \"scatterpolar\": [{\"marker\": {\"colorbar\": {\"outlinewidth\": 0, \"ticks\": \"\"}}, \"type\": \"scatterpolar\"}], \"scatterpolargl\": [{\"marker\": {\"colorbar\": {\"outlinewidth\": 0, \"ticks\": \"\"}}, \"type\": \"scatterpolargl\"}], \"scatterternary\": [{\"marker\": {\"colorbar\": {\"outlinewidth\": 0, \"ticks\": \"\"}}, \"type\": \"scatterternary\"}], \"surface\": [{\"colorbar\": {\"outlinewidth\": 0, \"ticks\": \"\"}, \"colorscale\": [[0.0, \"#0d0887\"], [0.1111111111111111, \"#46039f\"], [0.2222222222222222, \"#7201a8\"], [0.3333333333333333, \"#9c179e\"], [0.4444444444444444, \"#bd3786\"], [0.5555555555555556, \"#d8576b\"], [0.6666666666666666, \"#ed7953\"], [0.7777777777777778, \"#fb9f3a\"], [0.8888888888888888, \"#fdca26\"], [1.0, \"#f0f921\"]], \"type\": \"surface\"}], \"table\": [{\"cells\": {\"fill\": {\"color\": \"#EBF0F8\"}, \"line\": {\"color\": \"white\"}}, \"header\": {\"fill\": {\"color\": \"#C8D4E3\"}, \"line\": {\"color\": \"white\"}}, \"type\": \"table\"}]}, \"layout\": {\"annotationdefaults\": {\"arrowcolor\": \"#2a3f5f\", \"arrowhead\": 0, \"arrowwidth\": 1}, \"coloraxis\": {\"colorbar\": {\"outlinewidth\": 0, \"ticks\": \"\"}}, \"colorscale\": {\"diverging\": [[0, \"#8e0152\"], [0.1, \"#c51b7d\"], [0.2, \"#de77ae\"], [0.3, \"#f1b6da\"], [0.4, \"#fde0ef\"], [0.5, \"#f7f7f7\"], [0.6, \"#e6f5d0\"], [0.7, \"#b8e186\"], [0.8, \"#7fbc41\"], [0.9, \"#4d9221\"], [1, \"#276419\"]], \"sequential\": [[0.0, \"#0d0887\"], [0.1111111111111111, \"#46039f\"], [0.2222222222222222, \"#7201a8\"], [0.3333333333333333, \"#9c179e\"], [0.4444444444444444, \"#bd3786\"], [0.5555555555555556, \"#d8576b\"], [0.6666666666666666, \"#ed7953\"], [0.7777777777777778, \"#fb9f3a\"], [0.8888888888888888, \"#fdca26\"], [1.0, \"#f0f921\"]], \"sequentialminus\": [[0.0, \"#0d0887\"], [0.1111111111111111, \"#46039f\"], [0.2222222222222222, \"#7201a8\"], [0.3333333333333333, \"#9c179e\"], [0.4444444444444444, \"#bd3786\"], [0.5555555555555556, \"#d8576b\"], [0.6666666666666666, \"#ed7953\"], [0.7777777777777778, \"#fb9f3a\"], [0.8888888888888888, \"#fdca26\"], [1.0, \"#f0f921\"]]}, \"colorway\": [\"#636efa\", \"#EF553B\", \"#00cc96\", \"#ab63fa\", \"#FFA15A\", \"#19d3f3\", \"#FF6692\", \"#B6E880\", \"#FF97FF\", \"#FECB52\"], \"font\": {\"color\": \"#2a3f5f\"}, \"geo\": {\"bgcolor\": \"white\", \"lakecolor\": \"white\", \"landcolor\": \"#E5ECF6\", \"showlakes\": true, \"showland\": true, \"subunitcolor\": \"white\"}, \"hoverlabel\": {\"align\": \"left\"}, \"hovermode\": \"closest\", \"mapbox\": {\"style\": \"light\"}, \"paper_bgcolor\": \"white\", \"plot_bgcolor\": \"#E5ECF6\", \"polar\": {\"angularaxis\": {\"gridcolor\": \"white\", \"linecolor\": \"white\", \"ticks\": \"\"}, \"bgcolor\": \"#E5ECF6\", \"radialaxis\": {\"gridcolor\": \"white\", \"linecolor\": \"white\", \"ticks\": \"\"}}, \"scene\": {\"xaxis\": {\"backgroundcolor\": \"#E5ECF6\", \"gridcolor\": \"white\", \"gridwidth\": 2, \"linecolor\": \"white\", \"showbackground\": true, \"ticks\": \"\", \"zerolinecolor\": \"white\"}, \"yaxis\": {\"backgroundcolor\": \"#E5ECF6\", \"gridcolor\": \"white\", \"gridwidth\": 2, \"linecolor\": \"white\", \"showbackground\": true, \"ticks\": \"\", \"zerolinecolor\": \"white\"}, \"zaxis\": {\"backgroundcolor\": \"#E5ECF6\", \"gridcolor\": \"white\", \"gridwidth\": 2, \"linecolor\": \"white\", \"showbackground\": true, \"ticks\": \"\", \"zerolinecolor\": \"white\"}}, \"shapedefaults\": {\"line\": {\"color\": \"#2a3f5f\"}}, \"ternary\": {\"aaxis\": {\"gridcolor\": \"white\", \"linecolor\": \"white\", \"ticks\": \"\"}, \"baxis\": {\"gridcolor\": \"white\", \"linecolor\": \"white\", \"ticks\": \"\"}, \"bgcolor\": \"#E5ECF6\", \"caxis\": {\"gridcolor\": \"white\", \"linecolor\": \"white\", \"ticks\": \"\"}}, \"title\": {\"x\": 0.05}, \"xaxis\": {\"automargin\": true, \"gridcolor\": \"white\", \"linecolor\": \"white\", \"ticks\": \"\", \"title\": {\"standoff\": 15}, \"zerolinecolor\": \"white\", \"zerolinewidth\": 2}, \"yaxis\": {\"automargin\": true, \"gridcolor\": \"white\", \"linecolor\": \"white\", \"ticks\": \"\", \"title\": {\"standoff\": 15}, \"zerolinecolor\": \"white\", \"zerolinewidth\": 2}}}, \"xaxis\": {\"constrain\": \"domain\", \"range\": [-2, -0.3], \"scaleanchor\": \"y\", \"scaleratio\": 1, \"type\": \"log\"}, \"yaxis\": {\"type\": \"log\"}},\n",
       "                        {\"responsive\": true}\n",
       "                    ).then(function(){\n",
       "                            \n",
       "var gd = document.getElementById('343e4060-75c0-42c0-97ea-13b75b0fe973');\n",
       "var x = new MutationObserver(function (mutations, observer) {{\n",
       "        var display = window.getComputedStyle(gd).display;\n",
       "        if (!display || display === 'none') {{\n",
       "            console.log([gd, 'removed!']);\n",
       "            Plotly.purge(gd);\n",
       "            observer.disconnect();\n",
       "        }}\n",
       "}});\n",
       "\n",
       "// Listen for the removal of the full notebook cells\n",
       "var notebookContainer = gd.closest('#notebook-container');\n",
       "if (notebookContainer) {{\n",
       "    x.observe(notebookContainer, {childList: true});\n",
       "}}\n",
       "\n",
       "// Listen for the clearing of the current output cell\n",
       "var outputEl = gd.closest('.output');\n",
       "if (outputEl) {{\n",
       "    x.observe(outputEl, {childList: true});\n",
       "}}\n",
       "\n",
       "                        })\n",
       "                };\n",
       "                });\n",
       "            </script>\n",
       "        </div>"
      ]
     },
     "metadata": {},
     "output_type": "display_data"
    },
    {
     "data": {
      "text/plain": [
       "(0.20882577135335506, 0.030341622855888963, 0.047488695499172284)"
      ]
     },
     "execution_count": 62,
     "metadata": {},
     "output_type": "execute_result"
    }
   ],
   "source": [
    "b = InferSIRQ(weight_c=0.01)\n",
    "b.fit(city, sample, confirmed)\n",
    "b.beta, b.gamma, b.theta"
   ]
  },
  {
   "cell_type": "code",
   "execution_count": 63,
   "metadata": {},
   "outputs": [
    {
     "data": {
      "application/vnd.plotly.v1+json": {
       "config": {
        "plotlyServerURL": "https://plot.ly"
       },
       "data": [
        {
         "hovertemplate": "%{y}",
         "name": "Susceptible",
         "type": "scatter",
         "x": [
          0,
          1,
          2,
          3,
          4,
          5,
          6,
          7,
          8,
          9,
          10,
          11,
          12,
          13,
          14,
          15,
          16,
          17,
          18,
          19,
          20,
          21,
          22,
          23,
          24,
          25,
          26,
          27,
          28,
          29,
          30,
          31,
          32,
          33,
          34,
          35,
          36,
          37,
          38,
          39,
          40,
          41,
          42,
          43,
          44,
          45,
          46,
          47,
          48,
          49,
          50,
          51,
          52,
          53,
          54,
          55,
          56,
          57,
          58,
          59,
          60,
          61,
          62,
          63,
          64,
          65,
          66,
          67,
          68,
          69,
          70,
          71,
          72,
          73,
          74,
          75,
          76,
          77,
          78,
          79,
          80,
          81,
          82,
          83,
          84,
          85,
          86,
          87,
          88,
          89,
          90,
          91,
          92,
          93,
          94,
          95,
          96,
          97,
          98,
          99,
          100
         ],
         "y": [
          99000,
          98793,
          98560,
          98298,
          98003,
          97671,
          97299,
          96881,
          96413,
          95889,
          95304,
          94651,
          93924,
          93116,
          92220,
          91230,
          90137,
          88937,
          87621,
          86185,
          84624,
          82934,
          81115,
          79166,
          77089,
          74890,
          72576,
          70158,
          67648,
          65061,
          62415,
          59730,
          57025,
          54322,
          51640,
          49001,
          46421,
          43916,
          41502,
          39189,
          36985,
          34897,
          32928,
          31080,
          29350,
          27739,
          26241,
          24852,
          23567,
          22379,
          21284,
          20275,
          19346,
          18491,
          17704,
          16981,
          16315,
          15702,
          15139,
          14620,
          14141,
          13701,
          13295,
          12920,
          12574,
          12254,
          11959,
          11686,
          11433,
          11199,
          10982,
          10780,
          10594,
          10420,
          10259,
          10110,
          9971,
          9841,
          9721,
          9609,
          9504,
          9407,
          9316,
          9231,
          9152,
          9078,
          9010,
          8945,
          8885,
          8829,
          8777,
          8727,
          8682,
          8639,
          8598,
          8561,
          8526,
          8493,
          8462,
          8433,
          8406
         ]
        },
        {
         "hovertemplate": "%{y}",
         "name": "Infectious",
         "type": "scatter",
         "x": [
          0,
          1,
          2,
          3,
          4,
          5,
          6,
          7,
          8,
          9,
          10,
          11,
          12,
          13,
          14,
          15,
          16,
          17,
          18,
          19,
          20,
          21,
          22,
          23,
          24,
          25,
          26,
          27,
          28,
          29,
          30,
          31,
          32,
          33,
          34,
          35,
          36,
          37,
          38,
          39,
          40,
          41,
          42,
          43,
          44,
          45,
          46,
          47,
          48,
          49,
          50,
          51,
          52,
          53,
          54,
          55,
          56,
          57,
          58,
          59,
          60,
          61,
          62,
          63,
          64,
          65,
          66,
          67,
          68,
          69,
          70,
          71,
          72,
          73,
          74,
          75,
          76,
          77,
          78,
          79,
          80,
          81,
          82,
          83,
          84,
          85,
          86,
          87,
          88,
          89,
          90,
          91,
          92,
          93,
          94,
          95,
          96,
          97,
          98,
          99,
          100
         ],
         "y": [
          1000,
          1128,
          1273,
          1436,
          1620,
          1825,
          2055,
          2313,
          2601,
          2922,
          3280,
          3678,
          4119,
          4606,
          5143,
          5733,
          6379,
          7084,
          7848,
          8673,
          9559,
          10505,
          11506,
          12560,
          13659,
          14795,
          15957,
          17134,
          18310,
          19472,
          20602,
          21684,
          22701,
          23637,
          24479,
          25214,
          25831,
          26325,
          26690,
          26926,
          27034,
          27018,
          26884,
          26640,
          26296,
          25861,
          25346,
          24763,
          24120,
          23430,
          22702,
          21944,
          21165,
          20373,
          19574,
          18774,
          17979,
          17192,
          16417,
          15659,
          14918,
          14197,
          13499,
          12823,
          12171,
          11543,
          10940,
          10362,
          9808,
          9279,
          8774,
          8292,
          7833,
          7397,
          6982,
          6588,
          6215,
          5860,
          5525,
          5207,
          4906,
          4621,
          4353,
          4098,
          3858,
          3632,
          3418,
          3216,
          3026,
          2847,
          2677,
          2518,
          2368,
          2227,
          2093,
          1968,
          1850,
          1739,
          1634,
          1536,
          1444
         ]
        },
        {
         "hovertemplate": "%{y}",
         "name": "Removed",
         "type": "scatter",
         "x": [
          0,
          1,
          2,
          3,
          4,
          5,
          6,
          7,
          8,
          9,
          10,
          11,
          12,
          13,
          14,
          15,
          16,
          17,
          18,
          19,
          20,
          21,
          22,
          23,
          24,
          25,
          26,
          27,
          28,
          29,
          30,
          31,
          32,
          33,
          34,
          35,
          36,
          37,
          38,
          39,
          40,
          41,
          42,
          43,
          44,
          45,
          46,
          47,
          48,
          49,
          50,
          51,
          52,
          53,
          54,
          55,
          56,
          57,
          58,
          59,
          60,
          61,
          62,
          63,
          64,
          65,
          66,
          67,
          68,
          69,
          70,
          71,
          72,
          73,
          74,
          75,
          76,
          77,
          78,
          79,
          80,
          81,
          82,
          83,
          84,
          85,
          86,
          87,
          88,
          89,
          90,
          91,
          92,
          93,
          94,
          95,
          96,
          97,
          98,
          99,
          100
         ],
         "y": [
          0,
          30,
          64,
          103,
          146,
          196,
          251,
          313,
          383,
          462,
          551,
          651,
          762,
          887,
          1027,
          1183,
          1357,
          1551,
          1766,
          2004,
          2267,
          2557,
          2876,
          3225,
          3606,
          4020,
          4469,
          4953,
          5473,
          6029,
          6620,
          7245,
          7903,
          8592,
          9309,
          10052,
          10817,
          11600,
          12399,
          13209,
          14026,
          14846,
          15666,
          16482,
          17290,
          18088,
          18873,
          19642,
          20393,
          21125,
          21836,
          22525,
          23190,
          23833,
          24451,
          25045,
          25614,
          26160,
          26682,
          27180,
          27655,
          28107,
          28538,
          28948,
          29337,
          29706,
          30056,
          30388,
          30703,
          31000,
          31282,
          31548,
          31800,
          32038,
          32262,
          32474,
          32674,
          32862,
          33040,
          33208,
          33366,
          33515,
          33655,
          33787,
          33911,
          34028,
          34139,
          34242,
          34340,
          34432,
          34518,
          34599,
          34676,
          34748,
          34815,
          34879,
          34939,
          34995,
          35047,
          35097,
          35144
         ]
        },
        {
         "hovertemplate": "%{y}",
         "name": "Quarantined",
         "type": "scatter",
         "x": [
          0,
          1,
          2,
          3,
          4,
          5,
          6,
          7,
          8,
          9,
          10,
          11,
          12,
          13,
          14,
          15,
          16,
          17,
          18,
          19,
          20,
          21,
          22,
          23,
          24,
          25,
          26,
          27,
          28,
          29,
          30,
          31,
          32,
          33,
          34,
          35,
          36,
          37,
          38,
          39,
          40,
          41,
          42,
          43,
          44,
          45,
          46,
          47,
          48,
          49,
          50,
          51,
          52,
          53,
          54,
          55,
          56,
          57,
          58,
          59,
          60,
          61,
          62,
          63,
          64,
          65,
          66,
          67,
          68,
          69,
          70,
          71,
          72,
          73,
          74,
          75,
          76,
          77,
          78,
          79,
          80,
          81,
          82,
          83,
          84,
          85,
          86,
          87,
          88,
          89,
          90,
          91,
          92,
          93,
          94,
          95,
          96,
          97,
          98,
          99,
          100
         ],
         "y": [
          0,
          47,
          101,
          161,
          229,
          306,
          393,
          491,
          600,
          724,
          863,
          1019,
          1193,
          1389,
          1608,
          1852,
          2124,
          2427,
          2764,
          3136,
          3548,
          4002,
          4501,
          5048,
          5644,
          6293,
          6995,
          7753,
          8567,
          9436,
          10361,
          11339,
          12369,
          13447,
          14570,
          15732,
          16930,
          18156,
          19407,
          20674,
          21953,
          23237,
          24520,
          25796,
          27061,
          28310,
          29538,
          30742,
          31918,
          33064,
          34176,
          35254,
          36296,
          37302,
          38269,
          39199,
          40090,
          40944,
          41760,
          42540,
          43284,
          43992,
          44666,
          45307,
          45916,
          46494,
          47043,
          47562,
          48054,
          48520,
          48961,
          49377,
          49771,
          50143,
          50495,
          50826,
          51139,
          51434,
          51713,
          51975,
          52222,
          52455,
          52675,
          52881,
          53076,
          53259,
          53432,
          53594,
          53747,
          53891,
          54026,
          54153,
          54273,
          54385,
          54491,
          54590,
          54684,
          54772,
          54854,
          54932,
          55005
         ]
        },
        {
         "hovertemplate": "%{y}",
         "marker": {
          "symbol": 1
         },
         "mode": "markers",
         "name": "Guessed",
         "type": "scatter",
         "x": [
          10,
          20,
          30,
          40,
          50,
          60,
          70,
          80,
          90
         ],
         "y": [
          2000,
          4800,
          15100,
          38500,
          29300,
          13600.000000000002,
          4700,
          2500,
          500
         ]
        },
        {
         "hovertemplate": "%{y}",
         "marker": {
          "symbol": 2
         },
         "mode": "markers",
         "name": "Confirmed",
         "type": "scatter",
         "x": [
          10,
          20,
          30,
          40,
          50,
          60,
          70,
          80,
          90
         ],
         "y": [
          820,
          2381,
          6764,
          18969,
          35883,
          45324,
          50612,
          53665,
          54980
         ]
        }
       ],
       "layout": {
        "margin": {
         "b": 0,
         "l": 0,
         "r": 0,
         "t": 25
        },
        "template": {
         "data": {
          "bar": [
           {
            "error_x": {
             "color": "#2a3f5f"
            },
            "error_y": {
             "color": "#2a3f5f"
            },
            "marker": {
             "line": {
              "color": "#E5ECF6",
              "width": 0.5
             }
            },
            "type": "bar"
           }
          ],
          "barpolar": [
           {
            "marker": {
             "line": {
              "color": "#E5ECF6",
              "width": 0.5
             }
            },
            "type": "barpolar"
           }
          ],
          "carpet": [
           {
            "aaxis": {
             "endlinecolor": "#2a3f5f",
             "gridcolor": "white",
             "linecolor": "white",
             "minorgridcolor": "white",
             "startlinecolor": "#2a3f5f"
            },
            "baxis": {
             "endlinecolor": "#2a3f5f",
             "gridcolor": "white",
             "linecolor": "white",
             "minorgridcolor": "white",
             "startlinecolor": "#2a3f5f"
            },
            "type": "carpet"
           }
          ],
          "choropleth": [
           {
            "colorbar": {
             "outlinewidth": 0,
             "ticks": ""
            },
            "type": "choropleth"
           }
          ],
          "contour": [
           {
            "colorbar": {
             "outlinewidth": 0,
             "ticks": ""
            },
            "colorscale": [
             [
              0,
              "#0d0887"
             ],
             [
              0.1111111111111111,
              "#46039f"
             ],
             [
              0.2222222222222222,
              "#7201a8"
             ],
             [
              0.3333333333333333,
              "#9c179e"
             ],
             [
              0.4444444444444444,
              "#bd3786"
             ],
             [
              0.5555555555555556,
              "#d8576b"
             ],
             [
              0.6666666666666666,
              "#ed7953"
             ],
             [
              0.7777777777777778,
              "#fb9f3a"
             ],
             [
              0.8888888888888888,
              "#fdca26"
             ],
             [
              1,
              "#f0f921"
             ]
            ],
            "type": "contour"
           }
          ],
          "contourcarpet": [
           {
            "colorbar": {
             "outlinewidth": 0,
             "ticks": ""
            },
            "type": "contourcarpet"
           }
          ],
          "heatmap": [
           {
            "colorbar": {
             "outlinewidth": 0,
             "ticks": ""
            },
            "colorscale": [
             [
              0,
              "#0d0887"
             ],
             [
              0.1111111111111111,
              "#46039f"
             ],
             [
              0.2222222222222222,
              "#7201a8"
             ],
             [
              0.3333333333333333,
              "#9c179e"
             ],
             [
              0.4444444444444444,
              "#bd3786"
             ],
             [
              0.5555555555555556,
              "#d8576b"
             ],
             [
              0.6666666666666666,
              "#ed7953"
             ],
             [
              0.7777777777777778,
              "#fb9f3a"
             ],
             [
              0.8888888888888888,
              "#fdca26"
             ],
             [
              1,
              "#f0f921"
             ]
            ],
            "type": "heatmap"
           }
          ],
          "heatmapgl": [
           {
            "colorbar": {
             "outlinewidth": 0,
             "ticks": ""
            },
            "colorscale": [
             [
              0,
              "#0d0887"
             ],
             [
              0.1111111111111111,
              "#46039f"
             ],
             [
              0.2222222222222222,
              "#7201a8"
             ],
             [
              0.3333333333333333,
              "#9c179e"
             ],
             [
              0.4444444444444444,
              "#bd3786"
             ],
             [
              0.5555555555555556,
              "#d8576b"
             ],
             [
              0.6666666666666666,
              "#ed7953"
             ],
             [
              0.7777777777777778,
              "#fb9f3a"
             ],
             [
              0.8888888888888888,
              "#fdca26"
             ],
             [
              1,
              "#f0f921"
             ]
            ],
            "type": "heatmapgl"
           }
          ],
          "histogram": [
           {
            "marker": {
             "colorbar": {
              "outlinewidth": 0,
              "ticks": ""
             }
            },
            "type": "histogram"
           }
          ],
          "histogram2d": [
           {
            "colorbar": {
             "outlinewidth": 0,
             "ticks": ""
            },
            "colorscale": [
             [
              0,
              "#0d0887"
             ],
             [
              0.1111111111111111,
              "#46039f"
             ],
             [
              0.2222222222222222,
              "#7201a8"
             ],
             [
              0.3333333333333333,
              "#9c179e"
             ],
             [
              0.4444444444444444,
              "#bd3786"
             ],
             [
              0.5555555555555556,
              "#d8576b"
             ],
             [
              0.6666666666666666,
              "#ed7953"
             ],
             [
              0.7777777777777778,
              "#fb9f3a"
             ],
             [
              0.8888888888888888,
              "#fdca26"
             ],
             [
              1,
              "#f0f921"
             ]
            ],
            "type": "histogram2d"
           }
          ],
          "histogram2dcontour": [
           {
            "colorbar": {
             "outlinewidth": 0,
             "ticks": ""
            },
            "colorscale": [
             [
              0,
              "#0d0887"
             ],
             [
              0.1111111111111111,
              "#46039f"
             ],
             [
              0.2222222222222222,
              "#7201a8"
             ],
             [
              0.3333333333333333,
              "#9c179e"
             ],
             [
              0.4444444444444444,
              "#bd3786"
             ],
             [
              0.5555555555555556,
              "#d8576b"
             ],
             [
              0.6666666666666666,
              "#ed7953"
             ],
             [
              0.7777777777777778,
              "#fb9f3a"
             ],
             [
              0.8888888888888888,
              "#fdca26"
             ],
             [
              1,
              "#f0f921"
             ]
            ],
            "type": "histogram2dcontour"
           }
          ],
          "mesh3d": [
           {
            "colorbar": {
             "outlinewidth": 0,
             "ticks": ""
            },
            "type": "mesh3d"
           }
          ],
          "parcoords": [
           {
            "line": {
             "colorbar": {
              "outlinewidth": 0,
              "ticks": ""
             }
            },
            "type": "parcoords"
           }
          ],
          "pie": [
           {
            "automargin": true,
            "type": "pie"
           }
          ],
          "scatter": [
           {
            "marker": {
             "colorbar": {
              "outlinewidth": 0,
              "ticks": ""
             }
            },
            "type": "scatter"
           }
          ],
          "scatter3d": [
           {
            "line": {
             "colorbar": {
              "outlinewidth": 0,
              "ticks": ""
             }
            },
            "marker": {
             "colorbar": {
              "outlinewidth": 0,
              "ticks": ""
             }
            },
            "type": "scatter3d"
           }
          ],
          "scattercarpet": [
           {
            "marker": {
             "colorbar": {
              "outlinewidth": 0,
              "ticks": ""
             }
            },
            "type": "scattercarpet"
           }
          ],
          "scattergeo": [
           {
            "marker": {
             "colorbar": {
              "outlinewidth": 0,
              "ticks": ""
             }
            },
            "type": "scattergeo"
           }
          ],
          "scattergl": [
           {
            "marker": {
             "colorbar": {
              "outlinewidth": 0,
              "ticks": ""
             }
            },
            "type": "scattergl"
           }
          ],
          "scattermapbox": [
           {
            "marker": {
             "colorbar": {
              "outlinewidth": 0,
              "ticks": ""
             }
            },
            "type": "scattermapbox"
           }
          ],
          "scatterpolar": [
           {
            "marker": {
             "colorbar": {
              "outlinewidth": 0,
              "ticks": ""
             }
            },
            "type": "scatterpolar"
           }
          ],
          "scatterpolargl": [
           {
            "marker": {
             "colorbar": {
              "outlinewidth": 0,
              "ticks": ""
             }
            },
            "type": "scatterpolargl"
           }
          ],
          "scatterternary": [
           {
            "marker": {
             "colorbar": {
              "outlinewidth": 0,
              "ticks": ""
             }
            },
            "type": "scatterternary"
           }
          ],
          "surface": [
           {
            "colorbar": {
             "outlinewidth": 0,
             "ticks": ""
            },
            "colorscale": [
             [
              0,
              "#0d0887"
             ],
             [
              0.1111111111111111,
              "#46039f"
             ],
             [
              0.2222222222222222,
              "#7201a8"
             ],
             [
              0.3333333333333333,
              "#9c179e"
             ],
             [
              0.4444444444444444,
              "#bd3786"
             ],
             [
              0.5555555555555556,
              "#d8576b"
             ],
             [
              0.6666666666666666,
              "#ed7953"
             ],
             [
              0.7777777777777778,
              "#fb9f3a"
             ],
             [
              0.8888888888888888,
              "#fdca26"
             ],
             [
              1,
              "#f0f921"
             ]
            ],
            "type": "surface"
           }
          ],
          "table": [
           {
            "cells": {
             "fill": {
              "color": "#EBF0F8"
             },
             "line": {
              "color": "white"
             }
            },
            "header": {
             "fill": {
              "color": "#C8D4E3"
             },
             "line": {
              "color": "white"
             }
            },
            "type": "table"
           }
          ]
         },
         "layout": {
          "annotationdefaults": {
           "arrowcolor": "#2a3f5f",
           "arrowhead": 0,
           "arrowwidth": 1
          },
          "coloraxis": {
           "colorbar": {
            "outlinewidth": 0,
            "ticks": ""
           }
          },
          "colorscale": {
           "diverging": [
            [
             0,
             "#8e0152"
            ],
            [
             0.1,
             "#c51b7d"
            ],
            [
             0.2,
             "#de77ae"
            ],
            [
             0.3,
             "#f1b6da"
            ],
            [
             0.4,
             "#fde0ef"
            ],
            [
             0.5,
             "#f7f7f7"
            ],
            [
             0.6,
             "#e6f5d0"
            ],
            [
             0.7,
             "#b8e186"
            ],
            [
             0.8,
             "#7fbc41"
            ],
            [
             0.9,
             "#4d9221"
            ],
            [
             1,
             "#276419"
            ]
           ],
           "sequential": [
            [
             0,
             "#0d0887"
            ],
            [
             0.1111111111111111,
             "#46039f"
            ],
            [
             0.2222222222222222,
             "#7201a8"
            ],
            [
             0.3333333333333333,
             "#9c179e"
            ],
            [
             0.4444444444444444,
             "#bd3786"
            ],
            [
             0.5555555555555556,
             "#d8576b"
            ],
            [
             0.6666666666666666,
             "#ed7953"
            ],
            [
             0.7777777777777778,
             "#fb9f3a"
            ],
            [
             0.8888888888888888,
             "#fdca26"
            ],
            [
             1,
             "#f0f921"
            ]
           ],
           "sequentialminus": [
            [
             0,
             "#0d0887"
            ],
            [
             0.1111111111111111,
             "#46039f"
            ],
            [
             0.2222222222222222,
             "#7201a8"
            ],
            [
             0.3333333333333333,
             "#9c179e"
            ],
            [
             0.4444444444444444,
             "#bd3786"
            ],
            [
             0.5555555555555556,
             "#d8576b"
            ],
            [
             0.6666666666666666,
             "#ed7953"
            ],
            [
             0.7777777777777778,
             "#fb9f3a"
            ],
            [
             0.8888888888888888,
             "#fdca26"
            ],
            [
             1,
             "#f0f921"
            ]
           ]
          },
          "colorway": [
           "#636efa",
           "#EF553B",
           "#00cc96",
           "#ab63fa",
           "#FFA15A",
           "#19d3f3",
           "#FF6692",
           "#B6E880",
           "#FF97FF",
           "#FECB52"
          ],
          "font": {
           "color": "#2a3f5f"
          },
          "geo": {
           "bgcolor": "white",
           "lakecolor": "white",
           "landcolor": "#E5ECF6",
           "showlakes": true,
           "showland": true,
           "subunitcolor": "white"
          },
          "hoverlabel": {
           "align": "left"
          },
          "hovermode": "closest",
          "mapbox": {
           "style": "light"
          },
          "paper_bgcolor": "white",
          "plot_bgcolor": "#E5ECF6",
          "polar": {
           "angularaxis": {
            "gridcolor": "white",
            "linecolor": "white",
            "ticks": ""
           },
           "bgcolor": "#E5ECF6",
           "radialaxis": {
            "gridcolor": "white",
            "linecolor": "white",
            "ticks": ""
           }
          },
          "scene": {
           "xaxis": {
            "backgroundcolor": "#E5ECF6",
            "gridcolor": "white",
            "gridwidth": 2,
            "linecolor": "white",
            "showbackground": true,
            "ticks": "",
            "zerolinecolor": "white"
           },
           "yaxis": {
            "backgroundcolor": "#E5ECF6",
            "gridcolor": "white",
            "gridwidth": 2,
            "linecolor": "white",
            "showbackground": true,
            "ticks": "",
            "zerolinecolor": "white"
           },
           "zaxis": {
            "backgroundcolor": "#E5ECF6",
            "gridcolor": "white",
            "gridwidth": 2,
            "linecolor": "white",
            "showbackground": true,
            "ticks": "",
            "zerolinecolor": "white"
           }
          },
          "shapedefaults": {
           "line": {
            "color": "#2a3f5f"
           }
          },
          "ternary": {
           "aaxis": {
            "gridcolor": "white",
            "linecolor": "white",
            "ticks": ""
           },
           "baxis": {
            "gridcolor": "white",
            "linecolor": "white",
            "ticks": ""
           },
           "bgcolor": "#E5ECF6",
           "caxis": {
            "gridcolor": "white",
            "linecolor": "white",
            "ticks": ""
           }
          },
          "title": {
           "x": 0.05
          },
          "xaxis": {
           "automargin": true,
           "gridcolor": "white",
           "linecolor": "white",
           "ticks": "",
           "title": {
            "standoff": 15
           },
           "zerolinecolor": "white",
           "zerolinewidth": 2
          },
          "yaxis": {
           "automargin": true,
           "gridcolor": "white",
           "linecolor": "white",
           "ticks": "",
           "title": {
            "standoff": 15
           },
           "zerolinecolor": "white",
           "zerolinewidth": 2
          }
         }
        }
       }
      },
      "text/html": [
       "<div>\n",
       "        \n",
       "        \n",
       "            <div id=\"65e24ec8-a901-4c7e-8cdd-a0e4445bb4e6\" class=\"plotly-graph-div\" style=\"height:525px; width:100%;\"></div>\n",
       "            <script type=\"text/javascript\">\n",
       "                require([\"plotly\"], function(Plotly) {\n",
       "                    window.PLOTLYENV=window.PLOTLYENV || {};\n",
       "                    \n",
       "                if (document.getElementById(\"65e24ec8-a901-4c7e-8cdd-a0e4445bb4e6\")) {\n",
       "                    Plotly.newPlot(\n",
       "                        '65e24ec8-a901-4c7e-8cdd-a0e4445bb4e6',\n",
       "                        [{\"hovertemplate\": \"%{y}\", \"name\": \"Susceptible\", \"type\": \"scatter\", \"x\": [0, 1, 2, 3, 4, 5, 6, 7, 8, 9, 10, 11, 12, 13, 14, 15, 16, 17, 18, 19, 20, 21, 22, 23, 24, 25, 26, 27, 28, 29, 30, 31, 32, 33, 34, 35, 36, 37, 38, 39, 40, 41, 42, 43, 44, 45, 46, 47, 48, 49, 50, 51, 52, 53, 54, 55, 56, 57, 58, 59, 60, 61, 62, 63, 64, 65, 66, 67, 68, 69, 70, 71, 72, 73, 74, 75, 76, 77, 78, 79, 80, 81, 82, 83, 84, 85, 86, 87, 88, 89, 90, 91, 92, 93, 94, 95, 96, 97, 98, 99, 100], \"y\": [99000, 98793, 98560, 98298, 98003, 97671, 97299, 96881, 96413, 95889, 95304, 94651, 93924, 93116, 92220, 91230, 90137, 88937, 87621, 86185, 84624, 82934, 81115, 79166, 77089, 74890, 72576, 70158, 67648, 65061, 62415, 59730, 57025, 54322, 51640, 49001, 46421, 43916, 41502, 39189, 36985, 34897, 32928, 31080, 29350, 27739, 26241, 24852, 23567, 22379, 21284, 20275, 19346, 18491, 17704, 16981, 16315, 15702, 15139, 14620, 14141, 13701, 13295, 12920, 12574, 12254, 11959, 11686, 11433, 11199, 10982, 10780, 10594, 10420, 10259, 10110, 9971, 9841, 9721, 9609, 9504, 9407, 9316, 9231, 9152, 9078, 9010, 8945, 8885, 8829, 8777, 8727, 8682, 8639, 8598, 8561, 8526, 8493, 8462, 8433, 8406]}, {\"hovertemplate\": \"%{y}\", \"name\": \"Infectious\", \"type\": \"scatter\", \"x\": [0, 1, 2, 3, 4, 5, 6, 7, 8, 9, 10, 11, 12, 13, 14, 15, 16, 17, 18, 19, 20, 21, 22, 23, 24, 25, 26, 27, 28, 29, 30, 31, 32, 33, 34, 35, 36, 37, 38, 39, 40, 41, 42, 43, 44, 45, 46, 47, 48, 49, 50, 51, 52, 53, 54, 55, 56, 57, 58, 59, 60, 61, 62, 63, 64, 65, 66, 67, 68, 69, 70, 71, 72, 73, 74, 75, 76, 77, 78, 79, 80, 81, 82, 83, 84, 85, 86, 87, 88, 89, 90, 91, 92, 93, 94, 95, 96, 97, 98, 99, 100], \"y\": [1000, 1128, 1273, 1436, 1620, 1825, 2055, 2313, 2601, 2922, 3280, 3678, 4119, 4606, 5143, 5733, 6379, 7084, 7848, 8673, 9559, 10505, 11506, 12560, 13659, 14795, 15957, 17134, 18310, 19472, 20602, 21684, 22701, 23637, 24479, 25214, 25831, 26325, 26690, 26926, 27034, 27018, 26884, 26640, 26296, 25861, 25346, 24763, 24120, 23430, 22702, 21944, 21165, 20373, 19574, 18774, 17979, 17192, 16417, 15659, 14918, 14197, 13499, 12823, 12171, 11543, 10940, 10362, 9808, 9279, 8774, 8292, 7833, 7397, 6982, 6588, 6215, 5860, 5525, 5207, 4906, 4621, 4353, 4098, 3858, 3632, 3418, 3216, 3026, 2847, 2677, 2518, 2368, 2227, 2093, 1968, 1850, 1739, 1634, 1536, 1444]}, {\"hovertemplate\": \"%{y}\", \"name\": \"Removed\", \"type\": \"scatter\", \"x\": [0, 1, 2, 3, 4, 5, 6, 7, 8, 9, 10, 11, 12, 13, 14, 15, 16, 17, 18, 19, 20, 21, 22, 23, 24, 25, 26, 27, 28, 29, 30, 31, 32, 33, 34, 35, 36, 37, 38, 39, 40, 41, 42, 43, 44, 45, 46, 47, 48, 49, 50, 51, 52, 53, 54, 55, 56, 57, 58, 59, 60, 61, 62, 63, 64, 65, 66, 67, 68, 69, 70, 71, 72, 73, 74, 75, 76, 77, 78, 79, 80, 81, 82, 83, 84, 85, 86, 87, 88, 89, 90, 91, 92, 93, 94, 95, 96, 97, 98, 99, 100], \"y\": [0, 30, 64, 103, 146, 196, 251, 313, 383, 462, 551, 651, 762, 887, 1027, 1183, 1357, 1551, 1766, 2004, 2267, 2557, 2876, 3225, 3606, 4020, 4469, 4953, 5473, 6029, 6620, 7245, 7903, 8592, 9309, 10052, 10817, 11600, 12399, 13209, 14026, 14846, 15666, 16482, 17290, 18088, 18873, 19642, 20393, 21125, 21836, 22525, 23190, 23833, 24451, 25045, 25614, 26160, 26682, 27180, 27655, 28107, 28538, 28948, 29337, 29706, 30056, 30388, 30703, 31000, 31282, 31548, 31800, 32038, 32262, 32474, 32674, 32862, 33040, 33208, 33366, 33515, 33655, 33787, 33911, 34028, 34139, 34242, 34340, 34432, 34518, 34599, 34676, 34748, 34815, 34879, 34939, 34995, 35047, 35097, 35144]}, {\"hovertemplate\": \"%{y}\", \"name\": \"Quarantined\", \"type\": \"scatter\", \"x\": [0, 1, 2, 3, 4, 5, 6, 7, 8, 9, 10, 11, 12, 13, 14, 15, 16, 17, 18, 19, 20, 21, 22, 23, 24, 25, 26, 27, 28, 29, 30, 31, 32, 33, 34, 35, 36, 37, 38, 39, 40, 41, 42, 43, 44, 45, 46, 47, 48, 49, 50, 51, 52, 53, 54, 55, 56, 57, 58, 59, 60, 61, 62, 63, 64, 65, 66, 67, 68, 69, 70, 71, 72, 73, 74, 75, 76, 77, 78, 79, 80, 81, 82, 83, 84, 85, 86, 87, 88, 89, 90, 91, 92, 93, 94, 95, 96, 97, 98, 99, 100], \"y\": [0, 47, 101, 161, 229, 306, 393, 491, 600, 724, 863, 1019, 1193, 1389, 1608, 1852, 2124, 2427, 2764, 3136, 3548, 4002, 4501, 5048, 5644, 6293, 6995, 7753, 8567, 9436, 10361, 11339, 12369, 13447, 14570, 15732, 16930, 18156, 19407, 20674, 21953, 23237, 24520, 25796, 27061, 28310, 29538, 30742, 31918, 33064, 34176, 35254, 36296, 37302, 38269, 39199, 40090, 40944, 41760, 42540, 43284, 43992, 44666, 45307, 45916, 46494, 47043, 47562, 48054, 48520, 48961, 49377, 49771, 50143, 50495, 50826, 51139, 51434, 51713, 51975, 52222, 52455, 52675, 52881, 53076, 53259, 53432, 53594, 53747, 53891, 54026, 54153, 54273, 54385, 54491, 54590, 54684, 54772, 54854, 54932, 55005]}, {\"hovertemplate\": \"%{y}\", \"marker\": {\"symbol\": 1}, \"mode\": \"markers\", \"name\": \"Guessed\", \"type\": \"scatter\", \"x\": [10, 20, 30, 40, 50, 60, 70, 80, 90], \"y\": [2000.0, 4800.0, 15100.0, 38500.0, 29300.0, 13600.000000000002, 4700.0, 2500.0, 500.0]}, {\"hovertemplate\": \"%{y}\", \"marker\": {\"symbol\": 2}, \"mode\": \"markers\", \"name\": \"Confirmed\", \"type\": \"scatter\", \"x\": [10, 20, 30, 40, 50, 60, 70, 80, 90], \"y\": [820, 2381, 6764, 18969, 35883, 45324, 50612, 53665, 54980]}],\n",
       "                        {\"margin\": {\"b\": 0, \"l\": 0, \"r\": 0, \"t\": 25}, \"template\": {\"data\": {\"bar\": [{\"error_x\": {\"color\": \"#2a3f5f\"}, \"error_y\": {\"color\": \"#2a3f5f\"}, \"marker\": {\"line\": {\"color\": \"#E5ECF6\", \"width\": 0.5}}, \"type\": \"bar\"}], \"barpolar\": [{\"marker\": {\"line\": {\"color\": \"#E5ECF6\", \"width\": 0.5}}, \"type\": \"barpolar\"}], \"carpet\": [{\"aaxis\": {\"endlinecolor\": \"#2a3f5f\", \"gridcolor\": \"white\", \"linecolor\": \"white\", \"minorgridcolor\": \"white\", \"startlinecolor\": \"#2a3f5f\"}, \"baxis\": {\"endlinecolor\": \"#2a3f5f\", \"gridcolor\": \"white\", \"linecolor\": \"white\", \"minorgridcolor\": \"white\", \"startlinecolor\": \"#2a3f5f\"}, \"type\": \"carpet\"}], \"choropleth\": [{\"colorbar\": {\"outlinewidth\": 0, \"ticks\": \"\"}, \"type\": \"choropleth\"}], \"contour\": [{\"colorbar\": {\"outlinewidth\": 0, \"ticks\": \"\"}, \"colorscale\": [[0.0, \"#0d0887\"], [0.1111111111111111, \"#46039f\"], [0.2222222222222222, \"#7201a8\"], [0.3333333333333333, \"#9c179e\"], [0.4444444444444444, \"#bd3786\"], [0.5555555555555556, \"#d8576b\"], [0.6666666666666666, \"#ed7953\"], [0.7777777777777778, \"#fb9f3a\"], [0.8888888888888888, \"#fdca26\"], [1.0, \"#f0f921\"]], \"type\": \"contour\"}], \"contourcarpet\": [{\"colorbar\": {\"outlinewidth\": 0, \"ticks\": \"\"}, \"type\": \"contourcarpet\"}], \"heatmap\": [{\"colorbar\": {\"outlinewidth\": 0, \"ticks\": \"\"}, \"colorscale\": [[0.0, \"#0d0887\"], [0.1111111111111111, \"#46039f\"], [0.2222222222222222, \"#7201a8\"], [0.3333333333333333, \"#9c179e\"], [0.4444444444444444, \"#bd3786\"], [0.5555555555555556, \"#d8576b\"], [0.6666666666666666, \"#ed7953\"], [0.7777777777777778, \"#fb9f3a\"], [0.8888888888888888, \"#fdca26\"], [1.0, \"#f0f921\"]], \"type\": \"heatmap\"}], \"heatmapgl\": [{\"colorbar\": {\"outlinewidth\": 0, \"ticks\": \"\"}, \"colorscale\": [[0.0, \"#0d0887\"], [0.1111111111111111, \"#46039f\"], [0.2222222222222222, \"#7201a8\"], [0.3333333333333333, \"#9c179e\"], [0.4444444444444444, \"#bd3786\"], [0.5555555555555556, \"#d8576b\"], [0.6666666666666666, \"#ed7953\"], [0.7777777777777778, \"#fb9f3a\"], [0.8888888888888888, \"#fdca26\"], [1.0, \"#f0f921\"]], \"type\": \"heatmapgl\"}], \"histogram\": [{\"marker\": {\"colorbar\": {\"outlinewidth\": 0, \"ticks\": \"\"}}, \"type\": \"histogram\"}], \"histogram2d\": [{\"colorbar\": {\"outlinewidth\": 0, \"ticks\": \"\"}, \"colorscale\": [[0.0, \"#0d0887\"], [0.1111111111111111, \"#46039f\"], [0.2222222222222222, \"#7201a8\"], [0.3333333333333333, \"#9c179e\"], [0.4444444444444444, \"#bd3786\"], [0.5555555555555556, \"#d8576b\"], [0.6666666666666666, \"#ed7953\"], [0.7777777777777778, \"#fb9f3a\"], [0.8888888888888888, \"#fdca26\"], [1.0, \"#f0f921\"]], \"type\": \"histogram2d\"}], \"histogram2dcontour\": [{\"colorbar\": {\"outlinewidth\": 0, \"ticks\": \"\"}, \"colorscale\": [[0.0, \"#0d0887\"], [0.1111111111111111, \"#46039f\"], [0.2222222222222222, \"#7201a8\"], [0.3333333333333333, \"#9c179e\"], [0.4444444444444444, \"#bd3786\"], [0.5555555555555556, \"#d8576b\"], [0.6666666666666666, \"#ed7953\"], [0.7777777777777778, \"#fb9f3a\"], [0.8888888888888888, \"#fdca26\"], [1.0, \"#f0f921\"]], \"type\": \"histogram2dcontour\"}], \"mesh3d\": [{\"colorbar\": {\"outlinewidth\": 0, \"ticks\": \"\"}, \"type\": \"mesh3d\"}], \"parcoords\": [{\"line\": {\"colorbar\": {\"outlinewidth\": 0, \"ticks\": \"\"}}, \"type\": \"parcoords\"}], \"pie\": [{\"automargin\": true, \"type\": \"pie\"}], \"scatter\": [{\"marker\": {\"colorbar\": {\"outlinewidth\": 0, \"ticks\": \"\"}}, \"type\": \"scatter\"}], \"scatter3d\": [{\"line\": {\"colorbar\": {\"outlinewidth\": 0, \"ticks\": \"\"}}, \"marker\": {\"colorbar\": {\"outlinewidth\": 0, \"ticks\": \"\"}}, \"type\": \"scatter3d\"}], \"scattercarpet\": [{\"marker\": {\"colorbar\": {\"outlinewidth\": 0, \"ticks\": \"\"}}, \"type\": \"scattercarpet\"}], \"scattergeo\": [{\"marker\": {\"colorbar\": {\"outlinewidth\": 0, \"ticks\": \"\"}}, \"type\": \"scattergeo\"}], \"scattergl\": [{\"marker\": {\"colorbar\": {\"outlinewidth\": 0, \"ticks\": \"\"}}, \"type\": \"scattergl\"}], \"scattermapbox\": [{\"marker\": {\"colorbar\": {\"outlinewidth\": 0, \"ticks\": \"\"}}, \"type\": \"scattermapbox\"}], \"scatterpolar\": [{\"marker\": {\"colorbar\": {\"outlinewidth\": 0, \"ticks\": \"\"}}, \"type\": \"scatterpolar\"}], \"scatterpolargl\": [{\"marker\": {\"colorbar\": {\"outlinewidth\": 0, \"ticks\": \"\"}}, \"type\": \"scatterpolargl\"}], \"scatterternary\": [{\"marker\": {\"colorbar\": {\"outlinewidth\": 0, \"ticks\": \"\"}}, \"type\": \"scatterternary\"}], \"surface\": [{\"colorbar\": {\"outlinewidth\": 0, \"ticks\": \"\"}, \"colorscale\": [[0.0, \"#0d0887\"], [0.1111111111111111, \"#46039f\"], [0.2222222222222222, \"#7201a8\"], [0.3333333333333333, \"#9c179e\"], [0.4444444444444444, \"#bd3786\"], [0.5555555555555556, \"#d8576b\"], [0.6666666666666666, \"#ed7953\"], [0.7777777777777778, \"#fb9f3a\"], [0.8888888888888888, \"#fdca26\"], [1.0, \"#f0f921\"]], \"type\": \"surface\"}], \"table\": [{\"cells\": {\"fill\": {\"color\": \"#EBF0F8\"}, \"line\": {\"color\": \"white\"}}, \"header\": {\"fill\": {\"color\": \"#C8D4E3\"}, \"line\": {\"color\": \"white\"}}, \"type\": \"table\"}]}, \"layout\": {\"annotationdefaults\": {\"arrowcolor\": \"#2a3f5f\", \"arrowhead\": 0, \"arrowwidth\": 1}, \"coloraxis\": {\"colorbar\": {\"outlinewidth\": 0, \"ticks\": \"\"}}, \"colorscale\": {\"diverging\": [[0, \"#8e0152\"], [0.1, \"#c51b7d\"], [0.2, \"#de77ae\"], [0.3, \"#f1b6da\"], [0.4, \"#fde0ef\"], [0.5, \"#f7f7f7\"], [0.6, \"#e6f5d0\"], [0.7, \"#b8e186\"], [0.8, \"#7fbc41\"], [0.9, \"#4d9221\"], [1, \"#276419\"]], \"sequential\": [[0.0, \"#0d0887\"], [0.1111111111111111, \"#46039f\"], [0.2222222222222222, \"#7201a8\"], [0.3333333333333333, \"#9c179e\"], [0.4444444444444444, \"#bd3786\"], [0.5555555555555556, \"#d8576b\"], [0.6666666666666666, \"#ed7953\"], [0.7777777777777778, \"#fb9f3a\"], [0.8888888888888888, \"#fdca26\"], [1.0, \"#f0f921\"]], \"sequentialminus\": [[0.0, \"#0d0887\"], [0.1111111111111111, \"#46039f\"], [0.2222222222222222, \"#7201a8\"], [0.3333333333333333, \"#9c179e\"], [0.4444444444444444, \"#bd3786\"], [0.5555555555555556, \"#d8576b\"], [0.6666666666666666, \"#ed7953\"], [0.7777777777777778, \"#fb9f3a\"], [0.8888888888888888, \"#fdca26\"], [1.0, \"#f0f921\"]]}, \"colorway\": [\"#636efa\", \"#EF553B\", \"#00cc96\", \"#ab63fa\", \"#FFA15A\", \"#19d3f3\", \"#FF6692\", \"#B6E880\", \"#FF97FF\", \"#FECB52\"], \"font\": {\"color\": \"#2a3f5f\"}, \"geo\": {\"bgcolor\": \"white\", \"lakecolor\": \"white\", \"landcolor\": \"#E5ECF6\", \"showlakes\": true, \"showland\": true, \"subunitcolor\": \"white\"}, \"hoverlabel\": {\"align\": \"left\"}, \"hovermode\": \"closest\", \"mapbox\": {\"style\": \"light\"}, \"paper_bgcolor\": \"white\", \"plot_bgcolor\": \"#E5ECF6\", \"polar\": {\"angularaxis\": {\"gridcolor\": \"white\", \"linecolor\": \"white\", \"ticks\": \"\"}, \"bgcolor\": \"#E5ECF6\", \"radialaxis\": {\"gridcolor\": \"white\", \"linecolor\": \"white\", \"ticks\": \"\"}}, \"scene\": {\"xaxis\": {\"backgroundcolor\": \"#E5ECF6\", \"gridcolor\": \"white\", \"gridwidth\": 2, \"linecolor\": \"white\", \"showbackground\": true, \"ticks\": \"\", \"zerolinecolor\": \"white\"}, \"yaxis\": {\"backgroundcolor\": \"#E5ECF6\", \"gridcolor\": \"white\", \"gridwidth\": 2, \"linecolor\": \"white\", \"showbackground\": true, \"ticks\": \"\", \"zerolinecolor\": \"white\"}, \"zaxis\": {\"backgroundcolor\": \"#E5ECF6\", \"gridcolor\": \"white\", \"gridwidth\": 2, \"linecolor\": \"white\", \"showbackground\": true, \"ticks\": \"\", \"zerolinecolor\": \"white\"}}, \"shapedefaults\": {\"line\": {\"color\": \"#2a3f5f\"}}, \"ternary\": {\"aaxis\": {\"gridcolor\": \"white\", \"linecolor\": \"white\", \"ticks\": \"\"}, \"baxis\": {\"gridcolor\": \"white\", \"linecolor\": \"white\", \"ticks\": \"\"}, \"bgcolor\": \"#E5ECF6\", \"caxis\": {\"gridcolor\": \"white\", \"linecolor\": \"white\", \"ticks\": \"\"}}, \"title\": {\"x\": 0.05}, \"xaxis\": {\"automargin\": true, \"gridcolor\": \"white\", \"linecolor\": \"white\", \"ticks\": \"\", \"title\": {\"standoff\": 15}, \"zerolinecolor\": \"white\", \"zerolinewidth\": 2}, \"yaxis\": {\"automargin\": true, \"gridcolor\": \"white\", \"linecolor\": \"white\", \"ticks\": \"\", \"title\": {\"standoff\": 15}, \"zerolinecolor\": \"white\", \"zerolinewidth\": 2}}}},\n",
       "                        {\"responsive\": true}\n",
       "                    ).then(function(){\n",
       "                            \n",
       "var gd = document.getElementById('65e24ec8-a901-4c7e-8cdd-a0e4445bb4e6');\n",
       "var x = new MutationObserver(function (mutations, observer) {{\n",
       "        var display = window.getComputedStyle(gd).display;\n",
       "        if (!display || display === 'none') {{\n",
       "            console.log([gd, 'removed!']);\n",
       "            Plotly.purge(gd);\n",
       "            observer.disconnect();\n",
       "        }}\n",
       "}});\n",
       "\n",
       "// Listen for the removal of the full notebook cells\n",
       "var notebookContainer = gd.closest('#notebook-container');\n",
       "if (notebookContainer) {{\n",
       "    x.observe(notebookContainer, {childList: true});\n",
       "}}\n",
       "\n",
       "// Listen for the clearing of the current output cell\n",
       "var outputEl = gd.closest('.output');\n",
       "if (outputEl) {{\n",
       "    x.observe(outputEl, {childList: true});\n",
       "}}\n",
       "\n",
       "                        })\n",
       "                };\n",
       "                });\n",
       "            </script>\n",
       "        </div>"
      ]
     },
     "metadata": {},
     "output_type": "display_data"
    }
   ],
   "source": [
    "fig = SIRQ.plot(SIRQ(b.beta, b.gamma, b.theta).estimate(city, T))\n",
    "sample.plot(fig)\n",
    "confirmed.plot(fig)"
   ]
  },
  {
   "cell_type": "code",
   "execution_count": 91,
   "metadata": {
    "scrolled": false
   },
   "outputs": [
    {
     "name": "stdout",
     "output_type": "stream",
     "text": [
      "Optimization terminated successfully.\n",
      "         Current function value: -8341.022272\n",
      "         Iterations: 340527\n",
      "         Function evaluations: 356914\n"
     ]
    },
    {
     "data": {
      "application/vnd.plotly.v1+json": {
       "config": {
        "plotlyServerURL": "https://plot.ly"
       },
       "data": [
        {
         "hovertemplate": "%{y}",
         "line": {
          "shape": "hv"
         },
         "name": "β",
         "type": "scatter",
         "x": [
          0,
          1,
          2,
          3,
          4,
          5,
          6,
          7,
          8,
          9,
          10,
          11,
          12,
          13,
          14,
          15,
          16,
          17,
          18,
          19,
          20,
          21,
          22,
          23,
          24,
          25,
          26,
          27,
          28,
          29,
          30,
          31,
          32,
          33,
          34,
          35,
          36,
          37,
          38,
          39,
          40,
          41,
          42,
          43,
          44,
          45,
          46,
          47,
          48,
          49,
          50,
          51,
          52,
          53,
          54,
          55,
          56,
          57,
          58,
          59,
          60,
          61,
          62,
          63,
          64,
          65,
          66,
          67,
          68,
          69,
          70,
          71,
          72,
          73,
          74,
          75,
          76,
          77,
          78,
          79,
          80,
          81,
          82,
          83,
          84,
          85,
          86,
          87,
          88,
          89
         ],
         "y": [
          0.18925828467084105,
          0.14654705183986233,
          0.1468112564267714,
          0.14271710904191856,
          0.14206742500551664,
          0.1422969296526601,
          0.14169878239000303,
          0.1417203814810717,
          0.14367238436485835,
          0.15232395040731025,
          0.15398342277125948,
          0.17490098312311586,
          0.1749406338873017,
          0.17509506137209685,
          0.17268685591683508,
          0.1886840292267985,
          0.18877890947771447,
          0.1880882127562037,
          0.19313095160319907,
          0.20331965971669635,
          0.20363802965432837,
          0.2079126368607635,
          0.21024521422906878,
          0.22312661544581114,
          0.228486524488347,
          0.26694874338747043,
          0.27326450575129047,
          0.28227235672596496,
          0.324844759846099,
          0.3315163542568804,
          0.3368647955586439,
          0.33692998612823183,
          0.337635908645153,
          0.33787809801367585,
          0.33873067895973763,
          0.33903222052178855,
          0.27823128276802583,
          0.27823143955770535,
          0.21932867852576515,
          0.1969056264325761,
          0.19670835770682976,
          0.19671594266383027,
          0.19671594056220854,
          0.1676103094514008,
          0.14611597890757227,
          0.14057013156396886,
          0.13146341413037005,
          0.13097055069917485,
          0.12492481973869865,
          0.12350252430498522,
          0.12327408068252313,
          0.1431757232069606,
          0.14550878657139005,
          0.1491951524811807,
          0.149372092761986,
          0.1640240402429044,
          0.17547538558741782,
          0.18088426073920078,
          0.1841711627181143,
          0.18651090977021767,
          0.19255512590831272,
          0.19212033327136985,
          0.17527411879942678,
          0.17526805021722736,
          0.17899099414813263,
          0.18130339322177222,
          0.19622988914220268,
          0.2071938298306787,
          0.20735866199544534,
          0.20427413176854614,
          0.2056192142657946,
          0.2082700740603387,
          0.20827010074206107,
          0.20915376539972513,
          0.20915376504835126,
          0.20343806869887954,
          0.20320256368422568,
          0.20292931040148904,
          0.2023639307996951,
          0.20236427604155832,
          0.21802944354406173,
          0.22511219798201174,
          0.22522678655578443,
          0.21642638670025668,
          0.20272470126419434,
          0.19762141295550933,
          0.19780515540579224,
          0.19438764580789725,
          0.19438764577818796,
          0.19266826656720243
         ]
        },
        {
         "hovertemplate": "%{y}",
         "line": {
          "shape": "hv"
         },
         "name": "γ",
         "type": "scatter",
         "x": [
          0,
          1,
          2,
          3,
          4,
          5,
          6,
          7,
          8,
          9,
          10,
          11,
          12,
          13,
          14,
          15,
          16,
          17,
          18,
          19,
          20,
          21,
          22,
          23,
          24,
          25,
          26,
          27,
          28,
          29,
          30,
          31,
          32,
          33,
          34,
          35,
          36,
          37,
          38,
          39,
          40,
          41,
          42,
          43,
          44,
          45,
          46,
          47,
          48,
          49,
          50,
          51,
          52,
          53,
          54,
          55,
          56,
          57,
          58,
          59,
          60,
          61,
          62,
          63,
          64,
          65,
          66,
          67,
          68,
          69,
          70,
          71,
          72,
          73,
          74,
          75,
          76,
          77,
          78,
          79,
          80,
          81,
          82,
          83,
          84,
          85,
          86,
          87,
          88,
          89
         ],
         "y": [
          0.02872090595092952,
          0.02872090595092952,
          0.02872090595092952,
          0.02872090595092952,
          0.02872090595092952,
          0.02872090595092952,
          0.02872090595092952,
          0.02872090595092952,
          0.02872090595092952,
          0.02872090595092952,
          0.02872090595092952,
          0.02872090595092952,
          0.02872090595092952,
          0.02872090595092952,
          0.02872090595092952,
          0.02872090595092952,
          0.02872090595092952,
          0.02872090595092952,
          0.02872090595092952,
          0.02872090595092952,
          0.02872090595092952,
          0.02872090595092952,
          0.02872090595092952,
          0.02872090595092952,
          0.02872090595092952,
          0.02872090595092952,
          0.02872090595092952,
          0.02872090595092952,
          0.02872090595092952,
          0.02872090595092952,
          0.02872090595092952,
          0.02872090595092952,
          0.02872090595092952,
          0.02872090595092952,
          0.02872090595092952,
          0.02872090595092952,
          0.02872090595092952,
          0.02872090595092952,
          0.02872090595092952,
          0.02872090595092952,
          0.02872090595092952,
          0.02872090595092952,
          0.02872090595092952,
          0.02872090595092952,
          0.02872090595092952,
          0.02872090595092952,
          0.02872090595092952,
          0.02872090595092952,
          0.02872090595092952,
          0.02872090595092952,
          0.02872090595092952,
          0.02872090595092952,
          0.02872090595092952,
          0.02872090595092952,
          0.02872090595092952,
          0.02872090595092952,
          0.02872090595092952,
          0.02872090595092952,
          0.02872090595092952,
          0.02872090595092952,
          0.02872090595092952,
          0.02872090595092952,
          0.02872090595092952,
          0.02872090595092952,
          0.02872090595092952,
          0.02872090595092952,
          0.02872090595092952,
          0.02872090595092952,
          0.02872090595092952,
          0.02872090595092952,
          0.02872090595092952,
          0.02872090595092952,
          0.02872090595092952,
          0.02872090595092952,
          0.02872090595092952,
          0.02872090595092952,
          0.02872090595092952,
          0.02872090595092952,
          0.02872090595092952,
          0.02872090595092952,
          0.02872090595092952,
          0.02872090595092952,
          0.02872090595092952,
          0.02872090595092952,
          0.02872090595092952,
          0.02872090595092952,
          0.02872090595092952,
          0.02872090595092952,
          0.02872090595092952,
          0.02872090595092952
         ]
        },
        {
         "hovertemplate": "%{y}",
         "line": {
          "shape": "hv"
         },
         "name": "θ",
         "type": "scatter",
         "x": [
          0,
          1,
          2,
          3,
          4,
          5,
          6,
          7,
          8,
          9,
          10,
          11,
          12,
          13,
          14,
          15,
          16,
          17,
          18,
          19,
          20,
          21,
          22,
          23,
          24,
          25,
          26,
          27,
          28,
          29,
          30,
          31,
          32,
          33,
          34,
          35,
          36,
          37,
          38,
          39,
          40,
          41,
          42,
          43,
          44,
          45,
          46,
          47,
          48,
          49,
          50,
          51,
          52,
          53,
          54,
          55,
          56,
          57,
          58,
          59,
          60,
          61,
          62,
          63,
          64,
          65,
          66,
          67,
          68,
          69,
          70,
          71,
          72,
          73,
          74,
          75,
          76,
          77,
          78,
          79,
          80,
          81,
          82,
          83,
          84,
          85,
          86,
          87,
          88,
          89
         ],
         "y": [
          -0.020457014951893577,
          -0.0008838582508110026,
          0.022077405665325685,
          0.02519815548364559,
          0.025295627881847485,
          0.03008205021784622,
          0.0365339478177505,
          0.03653388262369936,
          0.04029014564708054,
          0.04022746182220349,
          0.03851289109698479,
          0.03851526621892955,
          0.046746417807466516,
          0.07057547161344681,
          0.07185652553530014,
          0.07281815083075938,
          0.07280169775139411,
          0.07295791118788188,
          0.07391090220744678,
          0.07708652431374564,
          0.07721518566982352,
          0.07723275885980838,
          0.07723275301345056,
          0.07474058762978683,
          0.061321456221144655,
          0.05579976256298584,
          0.05579975494114378,
          0.05381017154444909,
          0.04713565602339785,
          0.04672790987406729,
          0.03119097362589764,
          0.031190951489830684,
          0.02983886281137927,
          0.029977360656166956,
          0.04112422081385751,
          0.04156137437033191,
          0.0417804108187035,
          0.04167783954012289,
          0.03869928623902717,
          0.03869932691056771,
          0.03572775526309249,
          0.03560352593291234,
          0.035603525951692125,
          0.03560336738287282,
          0.035804541646251846,
          0.03617363529324555,
          0.05047836796840906,
          0.05344528666813984,
          0.055347484780499306,
          0.05534951563401909,
          0.05534949458494616,
          0.052462727454125974,
          0.050217689033632135,
          0.050217689065983506,
          0.05028885406857577,
          0.06540739094473688,
          0.06564155590719661,
          0.0656069997287724,
          0.065386826692342,
          0.05298073643609588,
          0.052485416447118766,
          0.05246366863588954,
          0.04315059776260034,
          0.03833348541238049,
          0.03832609102594706,
          0.03832609086992233,
          0.036643044039976924,
          0.03810353161545718,
          0.03807399200168889,
          0.03807046319310202,
          0.03804831660452232,
          0.03773183152792215,
          0.03248065072291875,
          0.004206987311824529,
          0.004206639161159201,
          0.004231607422983797,
          0.0046278797465919745,
          0.010381494899956933,
          0.01130901615263048,
          0.011992450395975766,
          0.029837468112877387,
          0.038002144411829,
          0.038256994410743636,
          0.04024133165623925,
          0.040573165483514875,
          0.04060158934536228,
          0.040817716001341195,
          0.04087206687610331,
          0.04090781166102002,
          0.04090901507710655
         ]
        }
       ],
       "layout": {
        "template": {
         "data": {
          "bar": [
           {
            "error_x": {
             "color": "#2a3f5f"
            },
            "error_y": {
             "color": "#2a3f5f"
            },
            "marker": {
             "line": {
              "color": "#E5ECF6",
              "width": 0.5
             }
            },
            "type": "bar"
           }
          ],
          "barpolar": [
           {
            "marker": {
             "line": {
              "color": "#E5ECF6",
              "width": 0.5
             }
            },
            "type": "barpolar"
           }
          ],
          "carpet": [
           {
            "aaxis": {
             "endlinecolor": "#2a3f5f",
             "gridcolor": "white",
             "linecolor": "white",
             "minorgridcolor": "white",
             "startlinecolor": "#2a3f5f"
            },
            "baxis": {
             "endlinecolor": "#2a3f5f",
             "gridcolor": "white",
             "linecolor": "white",
             "minorgridcolor": "white",
             "startlinecolor": "#2a3f5f"
            },
            "type": "carpet"
           }
          ],
          "choropleth": [
           {
            "colorbar": {
             "outlinewidth": 0,
             "ticks": ""
            },
            "type": "choropleth"
           }
          ],
          "contour": [
           {
            "colorbar": {
             "outlinewidth": 0,
             "ticks": ""
            },
            "colorscale": [
             [
              0,
              "#0d0887"
             ],
             [
              0.1111111111111111,
              "#46039f"
             ],
             [
              0.2222222222222222,
              "#7201a8"
             ],
             [
              0.3333333333333333,
              "#9c179e"
             ],
             [
              0.4444444444444444,
              "#bd3786"
             ],
             [
              0.5555555555555556,
              "#d8576b"
             ],
             [
              0.6666666666666666,
              "#ed7953"
             ],
             [
              0.7777777777777778,
              "#fb9f3a"
             ],
             [
              0.8888888888888888,
              "#fdca26"
             ],
             [
              1,
              "#f0f921"
             ]
            ],
            "type": "contour"
           }
          ],
          "contourcarpet": [
           {
            "colorbar": {
             "outlinewidth": 0,
             "ticks": ""
            },
            "type": "contourcarpet"
           }
          ],
          "heatmap": [
           {
            "colorbar": {
             "outlinewidth": 0,
             "ticks": ""
            },
            "colorscale": [
             [
              0,
              "#0d0887"
             ],
             [
              0.1111111111111111,
              "#46039f"
             ],
             [
              0.2222222222222222,
              "#7201a8"
             ],
             [
              0.3333333333333333,
              "#9c179e"
             ],
             [
              0.4444444444444444,
              "#bd3786"
             ],
             [
              0.5555555555555556,
              "#d8576b"
             ],
             [
              0.6666666666666666,
              "#ed7953"
             ],
             [
              0.7777777777777778,
              "#fb9f3a"
             ],
             [
              0.8888888888888888,
              "#fdca26"
             ],
             [
              1,
              "#f0f921"
             ]
            ],
            "type": "heatmap"
           }
          ],
          "heatmapgl": [
           {
            "colorbar": {
             "outlinewidth": 0,
             "ticks": ""
            },
            "colorscale": [
             [
              0,
              "#0d0887"
             ],
             [
              0.1111111111111111,
              "#46039f"
             ],
             [
              0.2222222222222222,
              "#7201a8"
             ],
             [
              0.3333333333333333,
              "#9c179e"
             ],
             [
              0.4444444444444444,
              "#bd3786"
             ],
             [
              0.5555555555555556,
              "#d8576b"
             ],
             [
              0.6666666666666666,
              "#ed7953"
             ],
             [
              0.7777777777777778,
              "#fb9f3a"
             ],
             [
              0.8888888888888888,
              "#fdca26"
             ],
             [
              1,
              "#f0f921"
             ]
            ],
            "type": "heatmapgl"
           }
          ],
          "histogram": [
           {
            "marker": {
             "colorbar": {
              "outlinewidth": 0,
              "ticks": ""
             }
            },
            "type": "histogram"
           }
          ],
          "histogram2d": [
           {
            "colorbar": {
             "outlinewidth": 0,
             "ticks": ""
            },
            "colorscale": [
             [
              0,
              "#0d0887"
             ],
             [
              0.1111111111111111,
              "#46039f"
             ],
             [
              0.2222222222222222,
              "#7201a8"
             ],
             [
              0.3333333333333333,
              "#9c179e"
             ],
             [
              0.4444444444444444,
              "#bd3786"
             ],
             [
              0.5555555555555556,
              "#d8576b"
             ],
             [
              0.6666666666666666,
              "#ed7953"
             ],
             [
              0.7777777777777778,
              "#fb9f3a"
             ],
             [
              0.8888888888888888,
              "#fdca26"
             ],
             [
              1,
              "#f0f921"
             ]
            ],
            "type": "histogram2d"
           }
          ],
          "histogram2dcontour": [
           {
            "colorbar": {
             "outlinewidth": 0,
             "ticks": ""
            },
            "colorscale": [
             [
              0,
              "#0d0887"
             ],
             [
              0.1111111111111111,
              "#46039f"
             ],
             [
              0.2222222222222222,
              "#7201a8"
             ],
             [
              0.3333333333333333,
              "#9c179e"
             ],
             [
              0.4444444444444444,
              "#bd3786"
             ],
             [
              0.5555555555555556,
              "#d8576b"
             ],
             [
              0.6666666666666666,
              "#ed7953"
             ],
             [
              0.7777777777777778,
              "#fb9f3a"
             ],
             [
              0.8888888888888888,
              "#fdca26"
             ],
             [
              1,
              "#f0f921"
             ]
            ],
            "type": "histogram2dcontour"
           }
          ],
          "mesh3d": [
           {
            "colorbar": {
             "outlinewidth": 0,
             "ticks": ""
            },
            "type": "mesh3d"
           }
          ],
          "parcoords": [
           {
            "line": {
             "colorbar": {
              "outlinewidth": 0,
              "ticks": ""
             }
            },
            "type": "parcoords"
           }
          ],
          "pie": [
           {
            "automargin": true,
            "type": "pie"
           }
          ],
          "scatter": [
           {
            "marker": {
             "colorbar": {
              "outlinewidth": 0,
              "ticks": ""
             }
            },
            "type": "scatter"
           }
          ],
          "scatter3d": [
           {
            "line": {
             "colorbar": {
              "outlinewidth": 0,
              "ticks": ""
             }
            },
            "marker": {
             "colorbar": {
              "outlinewidth": 0,
              "ticks": ""
             }
            },
            "type": "scatter3d"
           }
          ],
          "scattercarpet": [
           {
            "marker": {
             "colorbar": {
              "outlinewidth": 0,
              "ticks": ""
             }
            },
            "type": "scattercarpet"
           }
          ],
          "scattergeo": [
           {
            "marker": {
             "colorbar": {
              "outlinewidth": 0,
              "ticks": ""
             }
            },
            "type": "scattergeo"
           }
          ],
          "scattergl": [
           {
            "marker": {
             "colorbar": {
              "outlinewidth": 0,
              "ticks": ""
             }
            },
            "type": "scattergl"
           }
          ],
          "scattermapbox": [
           {
            "marker": {
             "colorbar": {
              "outlinewidth": 0,
              "ticks": ""
             }
            },
            "type": "scattermapbox"
           }
          ],
          "scatterpolar": [
           {
            "marker": {
             "colorbar": {
              "outlinewidth": 0,
              "ticks": ""
             }
            },
            "type": "scatterpolar"
           }
          ],
          "scatterpolargl": [
           {
            "marker": {
             "colorbar": {
              "outlinewidth": 0,
              "ticks": ""
             }
            },
            "type": "scatterpolargl"
           }
          ],
          "scatterternary": [
           {
            "marker": {
             "colorbar": {
              "outlinewidth": 0,
              "ticks": ""
             }
            },
            "type": "scatterternary"
           }
          ],
          "surface": [
           {
            "colorbar": {
             "outlinewidth": 0,
             "ticks": ""
            },
            "colorscale": [
             [
              0,
              "#0d0887"
             ],
             [
              0.1111111111111111,
              "#46039f"
             ],
             [
              0.2222222222222222,
              "#7201a8"
             ],
             [
              0.3333333333333333,
              "#9c179e"
             ],
             [
              0.4444444444444444,
              "#bd3786"
             ],
             [
              0.5555555555555556,
              "#d8576b"
             ],
             [
              0.6666666666666666,
              "#ed7953"
             ],
             [
              0.7777777777777778,
              "#fb9f3a"
             ],
             [
              0.8888888888888888,
              "#fdca26"
             ],
             [
              1,
              "#f0f921"
             ]
            ],
            "type": "surface"
           }
          ],
          "table": [
           {
            "cells": {
             "fill": {
              "color": "#EBF0F8"
             },
             "line": {
              "color": "white"
             }
            },
            "header": {
             "fill": {
              "color": "#C8D4E3"
             },
             "line": {
              "color": "white"
             }
            },
            "type": "table"
           }
          ]
         },
         "layout": {
          "annotationdefaults": {
           "arrowcolor": "#2a3f5f",
           "arrowhead": 0,
           "arrowwidth": 1
          },
          "coloraxis": {
           "colorbar": {
            "outlinewidth": 0,
            "ticks": ""
           }
          },
          "colorscale": {
           "diverging": [
            [
             0,
             "#8e0152"
            ],
            [
             0.1,
             "#c51b7d"
            ],
            [
             0.2,
             "#de77ae"
            ],
            [
             0.3,
             "#f1b6da"
            ],
            [
             0.4,
             "#fde0ef"
            ],
            [
             0.5,
             "#f7f7f7"
            ],
            [
             0.6,
             "#e6f5d0"
            ],
            [
             0.7,
             "#b8e186"
            ],
            [
             0.8,
             "#7fbc41"
            ],
            [
             0.9,
             "#4d9221"
            ],
            [
             1,
             "#276419"
            ]
           ],
           "sequential": [
            [
             0,
             "#0d0887"
            ],
            [
             0.1111111111111111,
             "#46039f"
            ],
            [
             0.2222222222222222,
             "#7201a8"
            ],
            [
             0.3333333333333333,
             "#9c179e"
            ],
            [
             0.4444444444444444,
             "#bd3786"
            ],
            [
             0.5555555555555556,
             "#d8576b"
            ],
            [
             0.6666666666666666,
             "#ed7953"
            ],
            [
             0.7777777777777778,
             "#fb9f3a"
            ],
            [
             0.8888888888888888,
             "#fdca26"
            ],
            [
             1,
             "#f0f921"
            ]
           ],
           "sequentialminus": [
            [
             0,
             "#0d0887"
            ],
            [
             0.1111111111111111,
             "#46039f"
            ],
            [
             0.2222222222222222,
             "#7201a8"
            ],
            [
             0.3333333333333333,
             "#9c179e"
            ],
            [
             0.4444444444444444,
             "#bd3786"
            ],
            [
             0.5555555555555556,
             "#d8576b"
            ],
            [
             0.6666666666666666,
             "#ed7953"
            ],
            [
             0.7777777777777778,
             "#fb9f3a"
            ],
            [
             0.8888888888888888,
             "#fdca26"
            ],
            [
             1,
             "#f0f921"
            ]
           ]
          },
          "colorway": [
           "#636efa",
           "#EF553B",
           "#00cc96",
           "#ab63fa",
           "#FFA15A",
           "#19d3f3",
           "#FF6692",
           "#B6E880",
           "#FF97FF",
           "#FECB52"
          ],
          "font": {
           "color": "#2a3f5f"
          },
          "geo": {
           "bgcolor": "white",
           "lakecolor": "white",
           "landcolor": "#E5ECF6",
           "showlakes": true,
           "showland": true,
           "subunitcolor": "white"
          },
          "hoverlabel": {
           "align": "left"
          },
          "hovermode": "closest",
          "mapbox": {
           "style": "light"
          },
          "paper_bgcolor": "white",
          "plot_bgcolor": "#E5ECF6",
          "polar": {
           "angularaxis": {
            "gridcolor": "white",
            "linecolor": "white",
            "ticks": ""
           },
           "bgcolor": "#E5ECF6",
           "radialaxis": {
            "gridcolor": "white",
            "linecolor": "white",
            "ticks": ""
           }
          },
          "scene": {
           "xaxis": {
            "backgroundcolor": "#E5ECF6",
            "gridcolor": "white",
            "gridwidth": 2,
            "linecolor": "white",
            "showbackground": true,
            "ticks": "",
            "zerolinecolor": "white"
           },
           "yaxis": {
            "backgroundcolor": "#E5ECF6",
            "gridcolor": "white",
            "gridwidth": 2,
            "linecolor": "white",
            "showbackground": true,
            "ticks": "",
            "zerolinecolor": "white"
           },
           "zaxis": {
            "backgroundcolor": "#E5ECF6",
            "gridcolor": "white",
            "gridwidth": 2,
            "linecolor": "white",
            "showbackground": true,
            "ticks": "",
            "zerolinecolor": "white"
           }
          },
          "shapedefaults": {
           "line": {
            "color": "#2a3f5f"
           }
          },
          "ternary": {
           "aaxis": {
            "gridcolor": "white",
            "linecolor": "white",
            "ticks": ""
           },
           "baxis": {
            "gridcolor": "white",
            "linecolor": "white",
            "ticks": ""
           },
           "bgcolor": "#E5ECF6",
           "caxis": {
            "gridcolor": "white",
            "linecolor": "white",
            "ticks": ""
           }
          },
          "title": {
           "x": 0.05
          },
          "xaxis": {
           "automargin": true,
           "gridcolor": "white",
           "linecolor": "white",
           "ticks": "",
           "title": {
            "standoff": 15
           },
           "zerolinecolor": "white",
           "zerolinewidth": 2
          },
          "yaxis": {
           "automargin": true,
           "gridcolor": "white",
           "linecolor": "white",
           "ticks": "",
           "title": {
            "standoff": 15
           },
           "zerolinecolor": "white",
           "zerolinewidth": 2
          }
         }
        }
       }
      },
      "text/html": [
       "<div>\n",
       "        \n",
       "        \n",
       "            <div id=\"0041934e-734a-45aa-b25d-b39d3d0ea88b\" class=\"plotly-graph-div\" style=\"height:525px; width:100%;\"></div>\n",
       "            <script type=\"text/javascript\">\n",
       "                require([\"plotly\"], function(Plotly) {\n",
       "                    window.PLOTLYENV=window.PLOTLYENV || {};\n",
       "                    \n",
       "                if (document.getElementById(\"0041934e-734a-45aa-b25d-b39d3d0ea88b\")) {\n",
       "                    Plotly.newPlot(\n",
       "                        '0041934e-734a-45aa-b25d-b39d3d0ea88b',\n",
       "                        [{\"hovertemplate\": \"%{y}\", \"line\": {\"shape\": \"hv\"}, \"name\": \"\\u03b2\", \"type\": \"scatter\", \"x\": [0, 1, 2, 3, 4, 5, 6, 7, 8, 9, 10, 11, 12, 13, 14, 15, 16, 17, 18, 19, 20, 21, 22, 23, 24, 25, 26, 27, 28, 29, 30, 31, 32, 33, 34, 35, 36, 37, 38, 39, 40, 41, 42, 43, 44, 45, 46, 47, 48, 49, 50, 51, 52, 53, 54, 55, 56, 57, 58, 59, 60, 61, 62, 63, 64, 65, 66, 67, 68, 69, 70, 71, 72, 73, 74, 75, 76, 77, 78, 79, 80, 81, 82, 83, 84, 85, 86, 87, 88, 89], \"y\": [0.18925828467084105, 0.14654705183986233, 0.1468112564267714, 0.14271710904191856, 0.14206742500551664, 0.1422969296526601, 0.14169878239000303, 0.1417203814810717, 0.14367238436485835, 0.15232395040731025, 0.15398342277125948, 0.17490098312311586, 0.1749406338873017, 0.17509506137209685, 0.17268685591683508, 0.1886840292267985, 0.18877890947771447, 0.1880882127562037, 0.19313095160319907, 0.20331965971669635, 0.20363802965432837, 0.2079126368607635, 0.21024521422906878, 0.22312661544581114, 0.228486524488347, 0.26694874338747043, 0.27326450575129047, 0.28227235672596496, 0.324844759846099, 0.3315163542568804, 0.3368647955586439, 0.33692998612823183, 0.337635908645153, 0.33787809801367585, 0.33873067895973763, 0.33903222052178855, 0.27823128276802583, 0.27823143955770535, 0.21932867852576515, 0.1969056264325761, 0.19670835770682976, 0.19671594266383027, 0.19671594056220854, 0.1676103094514008, 0.14611597890757227, 0.14057013156396886, 0.13146341413037005, 0.13097055069917485, 0.12492481973869865, 0.12350252430498522, 0.12327408068252313, 0.1431757232069606, 0.14550878657139005, 0.1491951524811807, 0.149372092761986, 0.1640240402429044, 0.17547538558741782, 0.18088426073920078, 0.1841711627181143, 0.18651090977021767, 0.19255512590831272, 0.19212033327136985, 0.17527411879942678, 0.17526805021722736, 0.17899099414813263, 0.18130339322177222, 0.19622988914220268, 0.2071938298306787, 0.20735866199544534, 0.20427413176854614, 0.2056192142657946, 0.2082700740603387, 0.20827010074206107, 0.20915376539972513, 0.20915376504835126, 0.20343806869887954, 0.20320256368422568, 0.20292931040148904, 0.2023639307996951, 0.20236427604155832, 0.21802944354406173, 0.22511219798201174, 0.22522678655578443, 0.21642638670025668, 0.20272470126419434, 0.19762141295550933, 0.19780515540579224, 0.19438764580789725, 0.19438764577818796, 0.19266826656720243]}, {\"hovertemplate\": \"%{y}\", \"line\": {\"shape\": \"hv\"}, \"name\": \"\\u03b3\", \"type\": \"scatter\", \"x\": [0, 1, 2, 3, 4, 5, 6, 7, 8, 9, 10, 11, 12, 13, 14, 15, 16, 17, 18, 19, 20, 21, 22, 23, 24, 25, 26, 27, 28, 29, 30, 31, 32, 33, 34, 35, 36, 37, 38, 39, 40, 41, 42, 43, 44, 45, 46, 47, 48, 49, 50, 51, 52, 53, 54, 55, 56, 57, 58, 59, 60, 61, 62, 63, 64, 65, 66, 67, 68, 69, 70, 71, 72, 73, 74, 75, 76, 77, 78, 79, 80, 81, 82, 83, 84, 85, 86, 87, 88, 89], \"y\": [0.02872090595092952, 0.02872090595092952, 0.02872090595092952, 0.02872090595092952, 0.02872090595092952, 0.02872090595092952, 0.02872090595092952, 0.02872090595092952, 0.02872090595092952, 0.02872090595092952, 0.02872090595092952, 0.02872090595092952, 0.02872090595092952, 0.02872090595092952, 0.02872090595092952, 0.02872090595092952, 0.02872090595092952, 0.02872090595092952, 0.02872090595092952, 0.02872090595092952, 0.02872090595092952, 0.02872090595092952, 0.02872090595092952, 0.02872090595092952, 0.02872090595092952, 0.02872090595092952, 0.02872090595092952, 0.02872090595092952, 0.02872090595092952, 0.02872090595092952, 0.02872090595092952, 0.02872090595092952, 0.02872090595092952, 0.02872090595092952, 0.02872090595092952, 0.02872090595092952, 0.02872090595092952, 0.02872090595092952, 0.02872090595092952, 0.02872090595092952, 0.02872090595092952, 0.02872090595092952, 0.02872090595092952, 0.02872090595092952, 0.02872090595092952, 0.02872090595092952, 0.02872090595092952, 0.02872090595092952, 0.02872090595092952, 0.02872090595092952, 0.02872090595092952, 0.02872090595092952, 0.02872090595092952, 0.02872090595092952, 0.02872090595092952, 0.02872090595092952, 0.02872090595092952, 0.02872090595092952, 0.02872090595092952, 0.02872090595092952, 0.02872090595092952, 0.02872090595092952, 0.02872090595092952, 0.02872090595092952, 0.02872090595092952, 0.02872090595092952, 0.02872090595092952, 0.02872090595092952, 0.02872090595092952, 0.02872090595092952, 0.02872090595092952, 0.02872090595092952, 0.02872090595092952, 0.02872090595092952, 0.02872090595092952, 0.02872090595092952, 0.02872090595092952, 0.02872090595092952, 0.02872090595092952, 0.02872090595092952, 0.02872090595092952, 0.02872090595092952, 0.02872090595092952, 0.02872090595092952, 0.02872090595092952, 0.02872090595092952, 0.02872090595092952, 0.02872090595092952, 0.02872090595092952, 0.02872090595092952]}, {\"hovertemplate\": \"%{y}\", \"line\": {\"shape\": \"hv\"}, \"name\": \"\\u03b8\", \"type\": \"scatter\", \"x\": [0, 1, 2, 3, 4, 5, 6, 7, 8, 9, 10, 11, 12, 13, 14, 15, 16, 17, 18, 19, 20, 21, 22, 23, 24, 25, 26, 27, 28, 29, 30, 31, 32, 33, 34, 35, 36, 37, 38, 39, 40, 41, 42, 43, 44, 45, 46, 47, 48, 49, 50, 51, 52, 53, 54, 55, 56, 57, 58, 59, 60, 61, 62, 63, 64, 65, 66, 67, 68, 69, 70, 71, 72, 73, 74, 75, 76, 77, 78, 79, 80, 81, 82, 83, 84, 85, 86, 87, 88, 89], \"y\": [-0.020457014951893577, -0.0008838582508110026, 0.022077405665325685, 0.02519815548364559, 0.025295627881847485, 0.03008205021784622, 0.0365339478177505, 0.03653388262369936, 0.04029014564708054, 0.04022746182220349, 0.03851289109698479, 0.03851526621892955, 0.046746417807466516, 0.07057547161344681, 0.07185652553530014, 0.07281815083075938, 0.07280169775139411, 0.07295791118788188, 0.07391090220744678, 0.07708652431374564, 0.07721518566982352, 0.07723275885980838, 0.07723275301345056, 0.07474058762978683, 0.061321456221144655, 0.05579976256298584, 0.05579975494114378, 0.05381017154444909, 0.04713565602339785, 0.04672790987406729, 0.03119097362589764, 0.031190951489830684, 0.02983886281137927, 0.029977360656166956, 0.04112422081385751, 0.04156137437033191, 0.0417804108187035, 0.04167783954012289, 0.03869928623902717, 0.03869932691056771, 0.03572775526309249, 0.03560352593291234, 0.035603525951692125, 0.03560336738287282, 0.035804541646251846, 0.03617363529324555, 0.05047836796840906, 0.05344528666813984, 0.055347484780499306, 0.05534951563401909, 0.05534949458494616, 0.052462727454125974, 0.050217689033632135, 0.050217689065983506, 0.05028885406857577, 0.06540739094473688, 0.06564155590719661, 0.0656069997287724, 0.065386826692342, 0.05298073643609588, 0.052485416447118766, 0.05246366863588954, 0.04315059776260034, 0.03833348541238049, 0.03832609102594706, 0.03832609086992233, 0.036643044039976924, 0.03810353161545718, 0.03807399200168889, 0.03807046319310202, 0.03804831660452232, 0.03773183152792215, 0.03248065072291875, 0.004206987311824529, 0.004206639161159201, 0.004231607422983797, 0.0046278797465919745, 0.010381494899956933, 0.01130901615263048, 0.011992450395975766, 0.029837468112877387, 0.038002144411829, 0.038256994410743636, 0.04024133165623925, 0.040573165483514875, 0.04060158934536228, 0.040817716001341195, 0.04087206687610331, 0.04090781166102002, 0.04090901507710655]}],\n",
       "                        {\"template\": {\"data\": {\"bar\": [{\"error_x\": {\"color\": \"#2a3f5f\"}, \"error_y\": {\"color\": \"#2a3f5f\"}, \"marker\": {\"line\": {\"color\": \"#E5ECF6\", \"width\": 0.5}}, \"type\": \"bar\"}], \"barpolar\": [{\"marker\": {\"line\": {\"color\": \"#E5ECF6\", \"width\": 0.5}}, \"type\": \"barpolar\"}], \"carpet\": [{\"aaxis\": {\"endlinecolor\": \"#2a3f5f\", \"gridcolor\": \"white\", \"linecolor\": \"white\", \"minorgridcolor\": \"white\", \"startlinecolor\": \"#2a3f5f\"}, \"baxis\": {\"endlinecolor\": \"#2a3f5f\", \"gridcolor\": \"white\", \"linecolor\": \"white\", \"minorgridcolor\": \"white\", \"startlinecolor\": \"#2a3f5f\"}, \"type\": \"carpet\"}], \"choropleth\": [{\"colorbar\": {\"outlinewidth\": 0, \"ticks\": \"\"}, \"type\": \"choropleth\"}], \"contour\": [{\"colorbar\": {\"outlinewidth\": 0, \"ticks\": \"\"}, \"colorscale\": [[0.0, \"#0d0887\"], [0.1111111111111111, \"#46039f\"], [0.2222222222222222, \"#7201a8\"], [0.3333333333333333, \"#9c179e\"], [0.4444444444444444, \"#bd3786\"], [0.5555555555555556, \"#d8576b\"], [0.6666666666666666, \"#ed7953\"], [0.7777777777777778, \"#fb9f3a\"], [0.8888888888888888, \"#fdca26\"], [1.0, \"#f0f921\"]], \"type\": \"contour\"}], \"contourcarpet\": [{\"colorbar\": {\"outlinewidth\": 0, \"ticks\": \"\"}, \"type\": \"contourcarpet\"}], \"heatmap\": [{\"colorbar\": {\"outlinewidth\": 0, \"ticks\": \"\"}, \"colorscale\": [[0.0, \"#0d0887\"], [0.1111111111111111, \"#46039f\"], [0.2222222222222222, \"#7201a8\"], [0.3333333333333333, \"#9c179e\"], [0.4444444444444444, \"#bd3786\"], [0.5555555555555556, \"#d8576b\"], [0.6666666666666666, \"#ed7953\"], [0.7777777777777778, \"#fb9f3a\"], [0.8888888888888888, \"#fdca26\"], [1.0, \"#f0f921\"]], \"type\": \"heatmap\"}], \"heatmapgl\": [{\"colorbar\": {\"outlinewidth\": 0, \"ticks\": \"\"}, \"colorscale\": [[0.0, \"#0d0887\"], [0.1111111111111111, \"#46039f\"], [0.2222222222222222, \"#7201a8\"], [0.3333333333333333, \"#9c179e\"], [0.4444444444444444, \"#bd3786\"], [0.5555555555555556, \"#d8576b\"], [0.6666666666666666, \"#ed7953\"], [0.7777777777777778, \"#fb9f3a\"], [0.8888888888888888, \"#fdca26\"], [1.0, \"#f0f921\"]], \"type\": \"heatmapgl\"}], \"histogram\": [{\"marker\": {\"colorbar\": {\"outlinewidth\": 0, \"ticks\": \"\"}}, \"type\": \"histogram\"}], \"histogram2d\": [{\"colorbar\": {\"outlinewidth\": 0, \"ticks\": \"\"}, \"colorscale\": [[0.0, \"#0d0887\"], [0.1111111111111111, \"#46039f\"], [0.2222222222222222, \"#7201a8\"], [0.3333333333333333, \"#9c179e\"], [0.4444444444444444, \"#bd3786\"], [0.5555555555555556, \"#d8576b\"], [0.6666666666666666, \"#ed7953\"], [0.7777777777777778, \"#fb9f3a\"], [0.8888888888888888, \"#fdca26\"], [1.0, \"#f0f921\"]], \"type\": \"histogram2d\"}], \"histogram2dcontour\": [{\"colorbar\": {\"outlinewidth\": 0, \"ticks\": \"\"}, \"colorscale\": [[0.0, \"#0d0887\"], [0.1111111111111111, \"#46039f\"], [0.2222222222222222, \"#7201a8\"], [0.3333333333333333, \"#9c179e\"], [0.4444444444444444, \"#bd3786\"], [0.5555555555555556, \"#d8576b\"], [0.6666666666666666, \"#ed7953\"], [0.7777777777777778, \"#fb9f3a\"], [0.8888888888888888, \"#fdca26\"], [1.0, \"#f0f921\"]], \"type\": \"histogram2dcontour\"}], \"mesh3d\": [{\"colorbar\": {\"outlinewidth\": 0, \"ticks\": \"\"}, \"type\": \"mesh3d\"}], \"parcoords\": [{\"line\": {\"colorbar\": {\"outlinewidth\": 0, \"ticks\": \"\"}}, \"type\": \"parcoords\"}], \"pie\": [{\"automargin\": true, \"type\": \"pie\"}], \"scatter\": [{\"marker\": {\"colorbar\": {\"outlinewidth\": 0, \"ticks\": \"\"}}, \"type\": \"scatter\"}], \"scatter3d\": [{\"line\": {\"colorbar\": {\"outlinewidth\": 0, \"ticks\": \"\"}}, \"marker\": {\"colorbar\": {\"outlinewidth\": 0, \"ticks\": \"\"}}, \"type\": \"scatter3d\"}], \"scattercarpet\": [{\"marker\": {\"colorbar\": {\"outlinewidth\": 0, \"ticks\": \"\"}}, \"type\": \"scattercarpet\"}], \"scattergeo\": [{\"marker\": {\"colorbar\": {\"outlinewidth\": 0, \"ticks\": \"\"}}, \"type\": \"scattergeo\"}], \"scattergl\": [{\"marker\": {\"colorbar\": {\"outlinewidth\": 0, \"ticks\": \"\"}}, \"type\": \"scattergl\"}], \"scattermapbox\": [{\"marker\": {\"colorbar\": {\"outlinewidth\": 0, \"ticks\": \"\"}}, \"type\": \"scattermapbox\"}], \"scatterpolar\": [{\"marker\": {\"colorbar\": {\"outlinewidth\": 0, \"ticks\": \"\"}}, \"type\": \"scatterpolar\"}], \"scatterpolargl\": [{\"marker\": {\"colorbar\": {\"outlinewidth\": 0, \"ticks\": \"\"}}, \"type\": \"scatterpolargl\"}], \"scatterternary\": [{\"marker\": {\"colorbar\": {\"outlinewidth\": 0, \"ticks\": \"\"}}, \"type\": \"scatterternary\"}], \"surface\": [{\"colorbar\": {\"outlinewidth\": 0, \"ticks\": \"\"}, \"colorscale\": [[0.0, \"#0d0887\"], [0.1111111111111111, \"#46039f\"], [0.2222222222222222, \"#7201a8\"], [0.3333333333333333, \"#9c179e\"], [0.4444444444444444, \"#bd3786\"], [0.5555555555555556, \"#d8576b\"], [0.6666666666666666, \"#ed7953\"], [0.7777777777777778, \"#fb9f3a\"], [0.8888888888888888, \"#fdca26\"], [1.0, \"#f0f921\"]], \"type\": \"surface\"}], \"table\": [{\"cells\": {\"fill\": {\"color\": \"#EBF0F8\"}, \"line\": {\"color\": \"white\"}}, \"header\": {\"fill\": {\"color\": \"#C8D4E3\"}, \"line\": {\"color\": \"white\"}}, \"type\": \"table\"}]}, \"layout\": {\"annotationdefaults\": {\"arrowcolor\": \"#2a3f5f\", \"arrowhead\": 0, \"arrowwidth\": 1}, \"coloraxis\": {\"colorbar\": {\"outlinewidth\": 0, \"ticks\": \"\"}}, \"colorscale\": {\"diverging\": [[0, \"#8e0152\"], [0.1, \"#c51b7d\"], [0.2, \"#de77ae\"], [0.3, \"#f1b6da\"], [0.4, \"#fde0ef\"], [0.5, \"#f7f7f7\"], [0.6, \"#e6f5d0\"], [0.7, \"#b8e186\"], [0.8, \"#7fbc41\"], [0.9, \"#4d9221\"], [1, \"#276419\"]], \"sequential\": [[0.0, \"#0d0887\"], [0.1111111111111111, \"#46039f\"], [0.2222222222222222, \"#7201a8\"], [0.3333333333333333, \"#9c179e\"], [0.4444444444444444, \"#bd3786\"], [0.5555555555555556, \"#d8576b\"], [0.6666666666666666, \"#ed7953\"], [0.7777777777777778, \"#fb9f3a\"], [0.8888888888888888, \"#fdca26\"], [1.0, \"#f0f921\"]], \"sequentialminus\": [[0.0, \"#0d0887\"], [0.1111111111111111, \"#46039f\"], [0.2222222222222222, \"#7201a8\"], [0.3333333333333333, \"#9c179e\"], [0.4444444444444444, \"#bd3786\"], [0.5555555555555556, \"#d8576b\"], [0.6666666666666666, \"#ed7953\"], [0.7777777777777778, \"#fb9f3a\"], [0.8888888888888888, \"#fdca26\"], [1.0, \"#f0f921\"]]}, \"colorway\": [\"#636efa\", \"#EF553B\", \"#00cc96\", \"#ab63fa\", \"#FFA15A\", \"#19d3f3\", \"#FF6692\", \"#B6E880\", \"#FF97FF\", \"#FECB52\"], \"font\": {\"color\": \"#2a3f5f\"}, \"geo\": {\"bgcolor\": \"white\", \"lakecolor\": \"white\", \"landcolor\": \"#E5ECF6\", \"showlakes\": true, \"showland\": true, \"subunitcolor\": \"white\"}, \"hoverlabel\": {\"align\": \"left\"}, \"hovermode\": \"closest\", \"mapbox\": {\"style\": \"light\"}, \"paper_bgcolor\": \"white\", \"plot_bgcolor\": \"#E5ECF6\", \"polar\": {\"angularaxis\": {\"gridcolor\": \"white\", \"linecolor\": \"white\", \"ticks\": \"\"}, \"bgcolor\": \"#E5ECF6\", \"radialaxis\": {\"gridcolor\": \"white\", \"linecolor\": \"white\", \"ticks\": \"\"}}, \"scene\": {\"xaxis\": {\"backgroundcolor\": \"#E5ECF6\", \"gridcolor\": \"white\", \"gridwidth\": 2, \"linecolor\": \"white\", \"showbackground\": true, \"ticks\": \"\", \"zerolinecolor\": \"white\"}, \"yaxis\": {\"backgroundcolor\": \"#E5ECF6\", \"gridcolor\": \"white\", \"gridwidth\": 2, \"linecolor\": \"white\", \"showbackground\": true, \"ticks\": \"\", \"zerolinecolor\": \"white\"}, \"zaxis\": {\"backgroundcolor\": \"#E5ECF6\", \"gridcolor\": \"white\", \"gridwidth\": 2, \"linecolor\": \"white\", \"showbackground\": true, \"ticks\": \"\", \"zerolinecolor\": \"white\"}}, \"shapedefaults\": {\"line\": {\"color\": \"#2a3f5f\"}}, \"ternary\": {\"aaxis\": {\"gridcolor\": \"white\", \"linecolor\": \"white\", \"ticks\": \"\"}, \"baxis\": {\"gridcolor\": \"white\", \"linecolor\": \"white\", \"ticks\": \"\"}, \"bgcolor\": \"#E5ECF6\", \"caxis\": {\"gridcolor\": \"white\", \"linecolor\": \"white\", \"ticks\": \"\"}}, \"title\": {\"x\": 0.05}, \"xaxis\": {\"automargin\": true, \"gridcolor\": \"white\", \"linecolor\": \"white\", \"ticks\": \"\", \"title\": {\"standoff\": 15}, \"zerolinecolor\": \"white\", \"zerolinewidth\": 2}, \"yaxis\": {\"automargin\": true, \"gridcolor\": \"white\", \"linecolor\": \"white\", \"ticks\": \"\", \"title\": {\"standoff\": 15}, \"zerolinecolor\": \"white\", \"zerolinewidth\": 2}}}},\n",
       "                        {\"responsive\": true}\n",
       "                    ).then(function(){\n",
       "                            \n",
       "var gd = document.getElementById('0041934e-734a-45aa-b25d-b39d3d0ea88b');\n",
       "var x = new MutationObserver(function (mutations, observer) {{\n",
       "        var display = window.getComputedStyle(gd).display;\n",
       "        if (!display || display === 'none') {{\n",
       "            console.log([gd, 'removed!']);\n",
       "            Plotly.purge(gd);\n",
       "            observer.disconnect();\n",
       "        }}\n",
       "}});\n",
       "\n",
       "// Listen for the removal of the full notebook cells\n",
       "var notebookContainer = gd.closest('#notebook-container');\n",
       "if (notebookContainer) {{\n",
       "    x.observe(notebookContainer, {childList: true});\n",
       "}}\n",
       "\n",
       "// Listen for the clearing of the current output cell\n",
       "var outputEl = gd.closest('.output');\n",
       "if (outputEl) {{\n",
       "    x.observe(outputEl, {childList: true});\n",
       "}}\n",
       "\n",
       "                        })\n",
       "                };\n",
       "                });\n",
       "            </script>\n",
       "        </div>"
      ]
     },
     "metadata": {},
     "output_type": "display_data"
    },
    {
     "data": {
      "text/plain": []
     },
     "execution_count": 91,
     "metadata": {},
     "output_type": "execute_result"
    }
   ],
   "source": [
    "a = InferSIRQt(weight_b=200, weight_t=600, weight_c=0.03, penalty_b=variation1, penalty_t=variation1)\n",
    "a.fit(city, sample, confirmed, verbose=False)\n",
    "os.system('play -nq -t alsa synth 1 sine 800')\n",
    "a.dynamic"
   ]
  },
  {
   "cell_type": "code",
   "execution_count": 92,
   "metadata": {},
   "outputs": [
    {
     "data": {
      "application/vnd.plotly.v1+json": {
       "config": {
        "plotlyServerURL": "https://plot.ly"
       },
       "data": [
        {
         "hovertemplate": "%{y}",
         "line": {
          "shape": "hv"
         },
         "name": "β",
         "type": "scatter",
         "x": [
          0,
          1,
          2,
          3,
          4,
          5,
          6,
          7,
          8,
          9,
          10,
          11,
          12,
          13,
          14,
          15,
          16,
          17,
          18,
          19,
          20,
          21,
          22,
          23,
          24,
          25,
          26,
          27,
          28,
          29,
          30,
          31,
          32,
          33,
          34,
          35,
          36,
          37,
          38,
          39,
          40,
          41,
          42,
          43,
          44,
          45,
          46,
          47,
          48,
          49,
          50,
          51,
          52,
          53,
          54,
          55,
          56,
          57,
          58,
          59,
          60,
          61,
          62,
          63,
          64,
          65,
          66,
          67,
          68,
          69,
          70,
          71,
          72,
          73,
          74,
          75,
          76,
          77,
          78,
          79,
          80,
          81,
          82,
          83,
          84,
          85,
          86,
          87,
          88,
          89,
          90,
          91,
          92,
          93,
          94,
          95,
          96,
          97,
          98,
          99
         ],
         "y": [
          0.15,
          0.15,
          0.15,
          0.15,
          0.15,
          0.15,
          0.15,
          0.195,
          0.195,
          0.195,
          0.195,
          0.195,
          0.195,
          0.195,
          0.195,
          0.195,
          0.195,
          0.195,
          0.195,
          0.195,
          0.195,
          0.195,
          0.195,
          0.195,
          0.195,
          0.2535,
          0.2535,
          0.2535,
          0.2535,
          0.2535,
          0.2535,
          0.2535,
          0.32955,
          0.32955,
          0.32955,
          0.32955,
          0.32955,
          0.32955,
          0.32955,
          0.32955,
          0.32955,
          0.230685,
          0.230685,
          0.230685,
          0.230685,
          0.230685,
          0.11303564999999999,
          0.11303564999999999,
          0.11303564999999999,
          0.11303564999999999,
          0.07912495499999998,
          0.07912495499999998,
          0.07912495499999998,
          0.07912495499999998,
          0.07912495499999998,
          0.07912495499999998,
          0.07912495499999998,
          0.07912495499999998,
          0.07912495499999998,
          0.07912495499999998,
          0.07912495499999998,
          0.07912495499999998,
          0.07912495499999998,
          0.07912495499999998,
          0.07912495499999998,
          0.07912495499999998,
          0.05538746849999998,
          0.05538746849999998,
          0.05538746849999998,
          0.05538746849999998,
          0.05538746849999998,
          0.05538746849999998,
          0.05538746849999998,
          0.05538746849999998,
          0.07200370904999998,
          0.07200370904999998,
          0.07200370904999998,
          0.07200370904999998,
          0.07200370904999998,
          0.07200370904999998,
          0.07200370904999998,
          0.07200370904999998,
          0.07200370904999998,
          0.07200370904999998,
          0.07200370904999998,
          0.07200370904999998,
          0.07200370904999998,
          0.07200370904999998,
          0.07200370904999998,
          0.07200370904999998,
          0.07200370904999998,
          0.07200370904999998,
          0.06552337523549998,
          0.06552337523549998,
          0.06552337523549998,
          0.06552337523549998,
          0.08518038780614998,
          0.08518038780614998,
          0.08518038780614998,
          0.08518038780614998
         ]
        },
        {
         "hovertemplate": "%{y}",
         "line": {
          "shape": "hv"
         },
         "name": "γ",
         "type": "scatter",
         "x": [
          0,
          1,
          2,
          3,
          4,
          5,
          6,
          7,
          8,
          9,
          10,
          11,
          12,
          13,
          14,
          15,
          16,
          17,
          18,
          19,
          20,
          21,
          22,
          23,
          24,
          25,
          26,
          27,
          28,
          29,
          30,
          31,
          32,
          33,
          34,
          35,
          36,
          37,
          38,
          39,
          40,
          41,
          42,
          43,
          44,
          45,
          46,
          47,
          48,
          49,
          50,
          51,
          52,
          53,
          54,
          55,
          56,
          57,
          58,
          59,
          60,
          61,
          62,
          63,
          64,
          65,
          66,
          67,
          68,
          69,
          70,
          71,
          72,
          73,
          74,
          75,
          76,
          77,
          78,
          79,
          80,
          81,
          82,
          83,
          84,
          85,
          86,
          87,
          88,
          89,
          90,
          91,
          92,
          93,
          94,
          95,
          96,
          97,
          98,
          99
         ],
         "y": [
          0.03,
          0.03,
          0.03,
          0.03,
          0.03,
          0.03,
          0.03,
          0.0303,
          0.0303,
          0.0303,
          0.0303,
          0.0303,
          0.0303,
          0.0303,
          0.0303,
          0.0303,
          0.0303,
          0.0303,
          0.0303,
          0.0303,
          0.0303,
          0.0303,
          0.0303,
          0.0303,
          0.0303,
          0.030602999999999998,
          0.030602999999999998,
          0.030602999999999998,
          0.030602999999999998,
          0.030602999999999998,
          0.030602999999999998,
          0.030602999999999998,
          0.030909029999999997,
          0.030909029999999997,
          0.030909029999999997,
          0.030909029999999997,
          0.030909029999999997,
          0.030909029999999997,
          0.030909029999999997,
          0.030909029999999997,
          0.030909029999999997,
          0.03059993969999999,
          0.03059993969999999,
          0.03059993969999999,
          0.03059993969999999,
          0.03059993969999999,
          0.029991000899969988,
          0.029991000899969988,
          0.029991000899969988,
          0.029991000899969988,
          0.02969109089097029,
          0.02969109089097029,
          0.02969109089097029,
          0.02969109089097029,
          0.02969109089097029,
          0.02969109089097029,
          0.02969109089097029,
          0.02969109089097029,
          0.02969109089097029,
          0.02969109089097029,
          0.02969109089097029,
          0.02969109089097029,
          0.02969109089097029,
          0.02969109089097029,
          0.02969109089097029,
          0.02969109089097029,
          0.02939417998206059,
          0.02939417998206059,
          0.02939417998206059,
          0.02939417998206059,
          0.02939417998206059,
          0.02939417998206059,
          0.02939417998206059,
          0.02939417998206059,
          0.029688121781881193,
          0.029688121781881193,
          0.029688121781881193,
          0.029688121781881193,
          0.029688121781881193,
          0.029688121781881193,
          0.029688121781881193,
          0.029688121781881193,
          0.029688121781881193,
          0.029688121781881193,
          0.029688121781881193,
          0.029688121781881193,
          0.029688121781881193,
          0.029688121781881193,
          0.029688121781881193,
          0.029688121781881193,
          0.029688121781881193,
          0.029688121781881193,
          0.029685152969703005,
          0.029685152969703005,
          0.029685152969703005,
          0.029685152969703005,
          0.029982004499400035,
          0.029982004499400035,
          0.029982004499400035,
          0.029982004499400035
         ]
        },
        {
         "hovertemplate": "%{y}",
         "line": {
          "shape": "hv"
         },
         "name": "θ",
         "type": "scatter",
         "x": [
          0,
          1,
          2,
          3,
          4,
          5,
          6,
          7,
          8,
          9,
          10,
          11,
          12,
          13,
          14,
          15,
          16,
          17,
          18,
          19,
          20,
          21,
          22,
          23,
          24,
          25,
          26,
          27,
          28,
          29,
          30,
          31,
          32,
          33,
          34,
          35,
          36,
          37,
          38,
          39,
          40,
          41,
          42,
          43,
          44,
          45,
          46,
          47,
          48,
          49,
          50,
          51,
          52,
          53,
          54,
          55,
          56,
          57,
          58,
          59,
          60,
          61,
          62,
          63,
          64,
          65,
          66,
          67,
          68,
          69,
          70,
          71,
          72,
          73,
          74,
          75,
          76,
          77,
          78,
          79,
          80,
          81,
          82,
          83,
          84,
          85,
          86,
          87,
          88,
          89,
          90,
          91,
          92,
          93,
          94,
          95,
          96,
          97,
          98,
          99
         ],
         "y": [
          0.06,
          0.06,
          0.06,
          0.06,
          0.06,
          0.06,
          0.06,
          0.06,
          0.06,
          0.06,
          0.048,
          0.048,
          0.048,
          0.048,
          0.048,
          0.048,
          0.048,
          0.048,
          0.048,
          0.048,
          0.048,
          0.048,
          0.048,
          0.048,
          0.048,
          0.048,
          0.048,
          0.048,
          0.048,
          0.048,
          0.048,
          0.048,
          0.048,
          0.048,
          0.048,
          0.048,
          0.048,
          0.048,
          0.048,
          0.048,
          0.048,
          0.048,
          0.048,
          0.048,
          0.048,
          0.048,
          0.048,
          0.048,
          0.048,
          0.048,
          0.048,
          0.048,
          0.048,
          0.048,
          0.048,
          0.048,
          0.048,
          0.048,
          0.048,
          0.048,
          0.048,
          0.048,
          0.048,
          0.0576,
          0.0576,
          0.0576,
          0.0576,
          0.0576,
          0.0576,
          0.0576,
          0.06911999999999999,
          0.06911999999999999,
          0.06911999999999999,
          0.06911999999999999,
          0.06911999999999999,
          0.08294399999999999,
          0.08294399999999999,
          0.08294399999999999,
          0.08294399999999999,
          0.09953279999999998,
          0.09953279999999998,
          0.09953279999999998,
          0.09953279999999998,
          0.09953279999999998,
          0.09953279999999998,
          0.09953279999999998,
          0.09953279999999998,
          0.09953279999999998,
          0.09953279999999998,
          0.09953279999999998,
          0.09953279999999998,
          0.09953279999999998,
          0.09953279999999998,
          0.09953279999999998,
          0.09953279999999998,
          0.09953279999999998,
          0.09953279999999998,
          0.09953279999999998,
          0.09953279999999998,
          0.09953279999999998
         ]
        }
       ],
       "layout": {
        "template": {
         "data": {
          "bar": [
           {
            "error_x": {
             "color": "#2a3f5f"
            },
            "error_y": {
             "color": "#2a3f5f"
            },
            "marker": {
             "line": {
              "color": "#E5ECF6",
              "width": 0.5
             }
            },
            "type": "bar"
           }
          ],
          "barpolar": [
           {
            "marker": {
             "line": {
              "color": "#E5ECF6",
              "width": 0.5
             }
            },
            "type": "barpolar"
           }
          ],
          "carpet": [
           {
            "aaxis": {
             "endlinecolor": "#2a3f5f",
             "gridcolor": "white",
             "linecolor": "white",
             "minorgridcolor": "white",
             "startlinecolor": "#2a3f5f"
            },
            "baxis": {
             "endlinecolor": "#2a3f5f",
             "gridcolor": "white",
             "linecolor": "white",
             "minorgridcolor": "white",
             "startlinecolor": "#2a3f5f"
            },
            "type": "carpet"
           }
          ],
          "choropleth": [
           {
            "colorbar": {
             "outlinewidth": 0,
             "ticks": ""
            },
            "type": "choropleth"
           }
          ],
          "contour": [
           {
            "colorbar": {
             "outlinewidth": 0,
             "ticks": ""
            },
            "colorscale": [
             [
              0,
              "#0d0887"
             ],
             [
              0.1111111111111111,
              "#46039f"
             ],
             [
              0.2222222222222222,
              "#7201a8"
             ],
             [
              0.3333333333333333,
              "#9c179e"
             ],
             [
              0.4444444444444444,
              "#bd3786"
             ],
             [
              0.5555555555555556,
              "#d8576b"
             ],
             [
              0.6666666666666666,
              "#ed7953"
             ],
             [
              0.7777777777777778,
              "#fb9f3a"
             ],
             [
              0.8888888888888888,
              "#fdca26"
             ],
             [
              1,
              "#f0f921"
             ]
            ],
            "type": "contour"
           }
          ],
          "contourcarpet": [
           {
            "colorbar": {
             "outlinewidth": 0,
             "ticks": ""
            },
            "type": "contourcarpet"
           }
          ],
          "heatmap": [
           {
            "colorbar": {
             "outlinewidth": 0,
             "ticks": ""
            },
            "colorscale": [
             [
              0,
              "#0d0887"
             ],
             [
              0.1111111111111111,
              "#46039f"
             ],
             [
              0.2222222222222222,
              "#7201a8"
             ],
             [
              0.3333333333333333,
              "#9c179e"
             ],
             [
              0.4444444444444444,
              "#bd3786"
             ],
             [
              0.5555555555555556,
              "#d8576b"
             ],
             [
              0.6666666666666666,
              "#ed7953"
             ],
             [
              0.7777777777777778,
              "#fb9f3a"
             ],
             [
              0.8888888888888888,
              "#fdca26"
             ],
             [
              1,
              "#f0f921"
             ]
            ],
            "type": "heatmap"
           }
          ],
          "heatmapgl": [
           {
            "colorbar": {
             "outlinewidth": 0,
             "ticks": ""
            },
            "colorscale": [
             [
              0,
              "#0d0887"
             ],
             [
              0.1111111111111111,
              "#46039f"
             ],
             [
              0.2222222222222222,
              "#7201a8"
             ],
             [
              0.3333333333333333,
              "#9c179e"
             ],
             [
              0.4444444444444444,
              "#bd3786"
             ],
             [
              0.5555555555555556,
              "#d8576b"
             ],
             [
              0.6666666666666666,
              "#ed7953"
             ],
             [
              0.7777777777777778,
              "#fb9f3a"
             ],
             [
              0.8888888888888888,
              "#fdca26"
             ],
             [
              1,
              "#f0f921"
             ]
            ],
            "type": "heatmapgl"
           }
          ],
          "histogram": [
           {
            "marker": {
             "colorbar": {
              "outlinewidth": 0,
              "ticks": ""
             }
            },
            "type": "histogram"
           }
          ],
          "histogram2d": [
           {
            "colorbar": {
             "outlinewidth": 0,
             "ticks": ""
            },
            "colorscale": [
             [
              0,
              "#0d0887"
             ],
             [
              0.1111111111111111,
              "#46039f"
             ],
             [
              0.2222222222222222,
              "#7201a8"
             ],
             [
              0.3333333333333333,
              "#9c179e"
             ],
             [
              0.4444444444444444,
              "#bd3786"
             ],
             [
              0.5555555555555556,
              "#d8576b"
             ],
             [
              0.6666666666666666,
              "#ed7953"
             ],
             [
              0.7777777777777778,
              "#fb9f3a"
             ],
             [
              0.8888888888888888,
              "#fdca26"
             ],
             [
              1,
              "#f0f921"
             ]
            ],
            "type": "histogram2d"
           }
          ],
          "histogram2dcontour": [
           {
            "colorbar": {
             "outlinewidth": 0,
             "ticks": ""
            },
            "colorscale": [
             [
              0,
              "#0d0887"
             ],
             [
              0.1111111111111111,
              "#46039f"
             ],
             [
              0.2222222222222222,
              "#7201a8"
             ],
             [
              0.3333333333333333,
              "#9c179e"
             ],
             [
              0.4444444444444444,
              "#bd3786"
             ],
             [
              0.5555555555555556,
              "#d8576b"
             ],
             [
              0.6666666666666666,
              "#ed7953"
             ],
             [
              0.7777777777777778,
              "#fb9f3a"
             ],
             [
              0.8888888888888888,
              "#fdca26"
             ],
             [
              1,
              "#f0f921"
             ]
            ],
            "type": "histogram2dcontour"
           }
          ],
          "mesh3d": [
           {
            "colorbar": {
             "outlinewidth": 0,
             "ticks": ""
            },
            "type": "mesh3d"
           }
          ],
          "parcoords": [
           {
            "line": {
             "colorbar": {
              "outlinewidth": 0,
              "ticks": ""
             }
            },
            "type": "parcoords"
           }
          ],
          "pie": [
           {
            "automargin": true,
            "type": "pie"
           }
          ],
          "scatter": [
           {
            "marker": {
             "colorbar": {
              "outlinewidth": 0,
              "ticks": ""
             }
            },
            "type": "scatter"
           }
          ],
          "scatter3d": [
           {
            "line": {
             "colorbar": {
              "outlinewidth": 0,
              "ticks": ""
             }
            },
            "marker": {
             "colorbar": {
              "outlinewidth": 0,
              "ticks": ""
             }
            },
            "type": "scatter3d"
           }
          ],
          "scattercarpet": [
           {
            "marker": {
             "colorbar": {
              "outlinewidth": 0,
              "ticks": ""
             }
            },
            "type": "scattercarpet"
           }
          ],
          "scattergeo": [
           {
            "marker": {
             "colorbar": {
              "outlinewidth": 0,
              "ticks": ""
             }
            },
            "type": "scattergeo"
           }
          ],
          "scattergl": [
           {
            "marker": {
             "colorbar": {
              "outlinewidth": 0,
              "ticks": ""
             }
            },
            "type": "scattergl"
           }
          ],
          "scattermapbox": [
           {
            "marker": {
             "colorbar": {
              "outlinewidth": 0,
              "ticks": ""
             }
            },
            "type": "scattermapbox"
           }
          ],
          "scatterpolar": [
           {
            "marker": {
             "colorbar": {
              "outlinewidth": 0,
              "ticks": ""
             }
            },
            "type": "scatterpolar"
           }
          ],
          "scatterpolargl": [
           {
            "marker": {
             "colorbar": {
              "outlinewidth": 0,
              "ticks": ""
             }
            },
            "type": "scatterpolargl"
           }
          ],
          "scatterternary": [
           {
            "marker": {
             "colorbar": {
              "outlinewidth": 0,
              "ticks": ""
             }
            },
            "type": "scatterternary"
           }
          ],
          "surface": [
           {
            "colorbar": {
             "outlinewidth": 0,
             "ticks": ""
            },
            "colorscale": [
             [
              0,
              "#0d0887"
             ],
             [
              0.1111111111111111,
              "#46039f"
             ],
             [
              0.2222222222222222,
              "#7201a8"
             ],
             [
              0.3333333333333333,
              "#9c179e"
             ],
             [
              0.4444444444444444,
              "#bd3786"
             ],
             [
              0.5555555555555556,
              "#d8576b"
             ],
             [
              0.6666666666666666,
              "#ed7953"
             ],
             [
              0.7777777777777778,
              "#fb9f3a"
             ],
             [
              0.8888888888888888,
              "#fdca26"
             ],
             [
              1,
              "#f0f921"
             ]
            ],
            "type": "surface"
           }
          ],
          "table": [
           {
            "cells": {
             "fill": {
              "color": "#EBF0F8"
             },
             "line": {
              "color": "white"
             }
            },
            "header": {
             "fill": {
              "color": "#C8D4E3"
             },
             "line": {
              "color": "white"
             }
            },
            "type": "table"
           }
          ]
         },
         "layout": {
          "annotationdefaults": {
           "arrowcolor": "#2a3f5f",
           "arrowhead": 0,
           "arrowwidth": 1
          },
          "coloraxis": {
           "colorbar": {
            "outlinewidth": 0,
            "ticks": ""
           }
          },
          "colorscale": {
           "diverging": [
            [
             0,
             "#8e0152"
            ],
            [
             0.1,
             "#c51b7d"
            ],
            [
             0.2,
             "#de77ae"
            ],
            [
             0.3,
             "#f1b6da"
            ],
            [
             0.4,
             "#fde0ef"
            ],
            [
             0.5,
             "#f7f7f7"
            ],
            [
             0.6,
             "#e6f5d0"
            ],
            [
             0.7,
             "#b8e186"
            ],
            [
             0.8,
             "#7fbc41"
            ],
            [
             0.9,
             "#4d9221"
            ],
            [
             1,
             "#276419"
            ]
           ],
           "sequential": [
            [
             0,
             "#0d0887"
            ],
            [
             0.1111111111111111,
             "#46039f"
            ],
            [
             0.2222222222222222,
             "#7201a8"
            ],
            [
             0.3333333333333333,
             "#9c179e"
            ],
            [
             0.4444444444444444,
             "#bd3786"
            ],
            [
             0.5555555555555556,
             "#d8576b"
            ],
            [
             0.6666666666666666,
             "#ed7953"
            ],
            [
             0.7777777777777778,
             "#fb9f3a"
            ],
            [
             0.8888888888888888,
             "#fdca26"
            ],
            [
             1,
             "#f0f921"
            ]
           ],
           "sequentialminus": [
            [
             0,
             "#0d0887"
            ],
            [
             0.1111111111111111,
             "#46039f"
            ],
            [
             0.2222222222222222,
             "#7201a8"
            ],
            [
             0.3333333333333333,
             "#9c179e"
            ],
            [
             0.4444444444444444,
             "#bd3786"
            ],
            [
             0.5555555555555556,
             "#d8576b"
            ],
            [
             0.6666666666666666,
             "#ed7953"
            ],
            [
             0.7777777777777778,
             "#fb9f3a"
            ],
            [
             0.8888888888888888,
             "#fdca26"
            ],
            [
             1,
             "#f0f921"
            ]
           ]
          },
          "colorway": [
           "#636efa",
           "#EF553B",
           "#00cc96",
           "#ab63fa",
           "#FFA15A",
           "#19d3f3",
           "#FF6692",
           "#B6E880",
           "#FF97FF",
           "#FECB52"
          ],
          "font": {
           "color": "#2a3f5f"
          },
          "geo": {
           "bgcolor": "white",
           "lakecolor": "white",
           "landcolor": "#E5ECF6",
           "showlakes": true,
           "showland": true,
           "subunitcolor": "white"
          },
          "hoverlabel": {
           "align": "left"
          },
          "hovermode": "closest",
          "mapbox": {
           "style": "light"
          },
          "paper_bgcolor": "white",
          "plot_bgcolor": "#E5ECF6",
          "polar": {
           "angularaxis": {
            "gridcolor": "white",
            "linecolor": "white",
            "ticks": ""
           },
           "bgcolor": "#E5ECF6",
           "radialaxis": {
            "gridcolor": "white",
            "linecolor": "white",
            "ticks": ""
           }
          },
          "scene": {
           "xaxis": {
            "backgroundcolor": "#E5ECF6",
            "gridcolor": "white",
            "gridwidth": 2,
            "linecolor": "white",
            "showbackground": true,
            "ticks": "",
            "zerolinecolor": "white"
           },
           "yaxis": {
            "backgroundcolor": "#E5ECF6",
            "gridcolor": "white",
            "gridwidth": 2,
            "linecolor": "white",
            "showbackground": true,
            "ticks": "",
            "zerolinecolor": "white"
           },
           "zaxis": {
            "backgroundcolor": "#E5ECF6",
            "gridcolor": "white",
            "gridwidth": 2,
            "linecolor": "white",
            "showbackground": true,
            "ticks": "",
            "zerolinecolor": "white"
           }
          },
          "shapedefaults": {
           "line": {
            "color": "#2a3f5f"
           }
          },
          "ternary": {
           "aaxis": {
            "gridcolor": "white",
            "linecolor": "white",
            "ticks": ""
           },
           "baxis": {
            "gridcolor": "white",
            "linecolor": "white",
            "ticks": ""
           },
           "bgcolor": "#E5ECF6",
           "caxis": {
            "gridcolor": "white",
            "linecolor": "white",
            "ticks": ""
           }
          },
          "title": {
           "x": 0.05
          },
          "xaxis": {
           "automargin": true,
           "gridcolor": "white",
           "linecolor": "white",
           "ticks": "",
           "title": {
            "standoff": 15
           },
           "zerolinecolor": "white",
           "zerolinewidth": 2
          },
          "yaxis": {
           "automargin": true,
           "gridcolor": "white",
           "linecolor": "white",
           "ticks": "",
           "title": {
            "standoff": 15
           },
           "zerolinecolor": "white",
           "zerolinewidth": 2
          }
         }
        }
       }
      },
      "text/html": [
       "<div>\n",
       "        \n",
       "        \n",
       "            <div id=\"29630a6a-ca92-4d12-b562-37f4e6c32b6a\" class=\"plotly-graph-div\" style=\"height:525px; width:100%;\"></div>\n",
       "            <script type=\"text/javascript\">\n",
       "                require([\"plotly\"], function(Plotly) {\n",
       "                    window.PLOTLYENV=window.PLOTLYENV || {};\n",
       "                    \n",
       "                if (document.getElementById(\"29630a6a-ca92-4d12-b562-37f4e6c32b6a\")) {\n",
       "                    Plotly.newPlot(\n",
       "                        '29630a6a-ca92-4d12-b562-37f4e6c32b6a',\n",
       "                        [{\"hovertemplate\": \"%{y}\", \"line\": {\"shape\": \"hv\"}, \"name\": \"\\u03b2\", \"type\": \"scatter\", \"x\": [0, 1, 2, 3, 4, 5, 6, 7, 8, 9, 10, 11, 12, 13, 14, 15, 16, 17, 18, 19, 20, 21, 22, 23, 24, 25, 26, 27, 28, 29, 30, 31, 32, 33, 34, 35, 36, 37, 38, 39, 40, 41, 42, 43, 44, 45, 46, 47, 48, 49, 50, 51, 52, 53, 54, 55, 56, 57, 58, 59, 60, 61, 62, 63, 64, 65, 66, 67, 68, 69, 70, 71, 72, 73, 74, 75, 76, 77, 78, 79, 80, 81, 82, 83, 84, 85, 86, 87, 88, 89, 90, 91, 92, 93, 94, 95, 96, 97, 98, 99], \"y\": [0.15, 0.15, 0.15, 0.15, 0.15, 0.15, 0.15, 0.195, 0.195, 0.195, 0.195, 0.195, 0.195, 0.195, 0.195, 0.195, 0.195, 0.195, 0.195, 0.195, 0.195, 0.195, 0.195, 0.195, 0.195, 0.2535, 0.2535, 0.2535, 0.2535, 0.2535, 0.2535, 0.2535, 0.32955, 0.32955, 0.32955, 0.32955, 0.32955, 0.32955, 0.32955, 0.32955, 0.32955, 0.230685, 0.230685, 0.230685, 0.230685, 0.230685, 0.11303564999999999, 0.11303564999999999, 0.11303564999999999, 0.11303564999999999, 0.07912495499999998, 0.07912495499999998, 0.07912495499999998, 0.07912495499999998, 0.07912495499999998, 0.07912495499999998, 0.07912495499999998, 0.07912495499999998, 0.07912495499999998, 0.07912495499999998, 0.07912495499999998, 0.07912495499999998, 0.07912495499999998, 0.07912495499999998, 0.07912495499999998, 0.07912495499999998, 0.05538746849999998, 0.05538746849999998, 0.05538746849999998, 0.05538746849999998, 0.05538746849999998, 0.05538746849999998, 0.05538746849999998, 0.05538746849999998, 0.07200370904999998, 0.07200370904999998, 0.07200370904999998, 0.07200370904999998, 0.07200370904999998, 0.07200370904999998, 0.07200370904999998, 0.07200370904999998, 0.07200370904999998, 0.07200370904999998, 0.07200370904999998, 0.07200370904999998, 0.07200370904999998, 0.07200370904999998, 0.07200370904999998, 0.07200370904999998, 0.07200370904999998, 0.07200370904999998, 0.06552337523549998, 0.06552337523549998, 0.06552337523549998, 0.06552337523549998, 0.08518038780614998, 0.08518038780614998, 0.08518038780614998, 0.08518038780614998]}, {\"hovertemplate\": \"%{y}\", \"line\": {\"shape\": \"hv\"}, \"name\": \"\\u03b3\", \"type\": \"scatter\", \"x\": [0, 1, 2, 3, 4, 5, 6, 7, 8, 9, 10, 11, 12, 13, 14, 15, 16, 17, 18, 19, 20, 21, 22, 23, 24, 25, 26, 27, 28, 29, 30, 31, 32, 33, 34, 35, 36, 37, 38, 39, 40, 41, 42, 43, 44, 45, 46, 47, 48, 49, 50, 51, 52, 53, 54, 55, 56, 57, 58, 59, 60, 61, 62, 63, 64, 65, 66, 67, 68, 69, 70, 71, 72, 73, 74, 75, 76, 77, 78, 79, 80, 81, 82, 83, 84, 85, 86, 87, 88, 89, 90, 91, 92, 93, 94, 95, 96, 97, 98, 99], \"y\": [0.03, 0.03, 0.03, 0.03, 0.03, 0.03, 0.03, 0.0303, 0.0303, 0.0303, 0.0303, 0.0303, 0.0303, 0.0303, 0.0303, 0.0303, 0.0303, 0.0303, 0.0303, 0.0303, 0.0303, 0.0303, 0.0303, 0.0303, 0.0303, 0.030602999999999998, 0.030602999999999998, 0.030602999999999998, 0.030602999999999998, 0.030602999999999998, 0.030602999999999998, 0.030602999999999998, 0.030909029999999997, 0.030909029999999997, 0.030909029999999997, 0.030909029999999997, 0.030909029999999997, 0.030909029999999997, 0.030909029999999997, 0.030909029999999997, 0.030909029999999997, 0.03059993969999999, 0.03059993969999999, 0.03059993969999999, 0.03059993969999999, 0.03059993969999999, 0.029991000899969988, 0.029991000899969988, 0.029991000899969988, 0.029991000899969988, 0.02969109089097029, 0.02969109089097029, 0.02969109089097029, 0.02969109089097029, 0.02969109089097029, 0.02969109089097029, 0.02969109089097029, 0.02969109089097029, 0.02969109089097029, 0.02969109089097029, 0.02969109089097029, 0.02969109089097029, 0.02969109089097029, 0.02969109089097029, 0.02969109089097029, 0.02969109089097029, 0.02939417998206059, 0.02939417998206059, 0.02939417998206059, 0.02939417998206059, 0.02939417998206059, 0.02939417998206059, 0.02939417998206059, 0.02939417998206059, 0.029688121781881193, 0.029688121781881193, 0.029688121781881193, 0.029688121781881193, 0.029688121781881193, 0.029688121781881193, 0.029688121781881193, 0.029688121781881193, 0.029688121781881193, 0.029688121781881193, 0.029688121781881193, 0.029688121781881193, 0.029688121781881193, 0.029688121781881193, 0.029688121781881193, 0.029688121781881193, 0.029688121781881193, 0.029688121781881193, 0.029685152969703005, 0.029685152969703005, 0.029685152969703005, 0.029685152969703005, 0.029982004499400035, 0.029982004499400035, 0.029982004499400035, 0.029982004499400035]}, {\"hovertemplate\": \"%{y}\", \"line\": {\"shape\": \"hv\"}, \"name\": \"\\u03b8\", \"type\": \"scatter\", \"x\": [0, 1, 2, 3, 4, 5, 6, 7, 8, 9, 10, 11, 12, 13, 14, 15, 16, 17, 18, 19, 20, 21, 22, 23, 24, 25, 26, 27, 28, 29, 30, 31, 32, 33, 34, 35, 36, 37, 38, 39, 40, 41, 42, 43, 44, 45, 46, 47, 48, 49, 50, 51, 52, 53, 54, 55, 56, 57, 58, 59, 60, 61, 62, 63, 64, 65, 66, 67, 68, 69, 70, 71, 72, 73, 74, 75, 76, 77, 78, 79, 80, 81, 82, 83, 84, 85, 86, 87, 88, 89, 90, 91, 92, 93, 94, 95, 96, 97, 98, 99], \"y\": [0.06, 0.06, 0.06, 0.06, 0.06, 0.06, 0.06, 0.06, 0.06, 0.06, 0.048, 0.048, 0.048, 0.048, 0.048, 0.048, 0.048, 0.048, 0.048, 0.048, 0.048, 0.048, 0.048, 0.048, 0.048, 0.048, 0.048, 0.048, 0.048, 0.048, 0.048, 0.048, 0.048, 0.048, 0.048, 0.048, 0.048, 0.048, 0.048, 0.048, 0.048, 0.048, 0.048, 0.048, 0.048, 0.048, 0.048, 0.048, 0.048, 0.048, 0.048, 0.048, 0.048, 0.048, 0.048, 0.048, 0.048, 0.048, 0.048, 0.048, 0.048, 0.048, 0.048, 0.0576, 0.0576, 0.0576, 0.0576, 0.0576, 0.0576, 0.0576, 0.06911999999999999, 0.06911999999999999, 0.06911999999999999, 0.06911999999999999, 0.06911999999999999, 0.08294399999999999, 0.08294399999999999, 0.08294399999999999, 0.08294399999999999, 0.09953279999999998, 0.09953279999999998, 0.09953279999999998, 0.09953279999999998, 0.09953279999999998, 0.09953279999999998, 0.09953279999999998, 0.09953279999999998, 0.09953279999999998, 0.09953279999999998, 0.09953279999999998, 0.09953279999999998, 0.09953279999999998, 0.09953279999999998, 0.09953279999999998, 0.09953279999999998, 0.09953279999999998, 0.09953279999999998, 0.09953279999999998, 0.09953279999999998, 0.09953279999999998]}],\n",
       "                        {\"template\": {\"data\": {\"bar\": [{\"error_x\": {\"color\": \"#2a3f5f\"}, \"error_y\": {\"color\": \"#2a3f5f\"}, \"marker\": {\"line\": {\"color\": \"#E5ECF6\", \"width\": 0.5}}, \"type\": \"bar\"}], \"barpolar\": [{\"marker\": {\"line\": {\"color\": \"#E5ECF6\", \"width\": 0.5}}, \"type\": \"barpolar\"}], \"carpet\": [{\"aaxis\": {\"endlinecolor\": \"#2a3f5f\", \"gridcolor\": \"white\", \"linecolor\": \"white\", \"minorgridcolor\": \"white\", \"startlinecolor\": \"#2a3f5f\"}, \"baxis\": {\"endlinecolor\": \"#2a3f5f\", \"gridcolor\": \"white\", \"linecolor\": \"white\", \"minorgridcolor\": \"white\", \"startlinecolor\": \"#2a3f5f\"}, \"type\": \"carpet\"}], \"choropleth\": [{\"colorbar\": {\"outlinewidth\": 0, \"ticks\": \"\"}, \"type\": \"choropleth\"}], \"contour\": [{\"colorbar\": {\"outlinewidth\": 0, \"ticks\": \"\"}, \"colorscale\": [[0.0, \"#0d0887\"], [0.1111111111111111, \"#46039f\"], [0.2222222222222222, \"#7201a8\"], [0.3333333333333333, \"#9c179e\"], [0.4444444444444444, \"#bd3786\"], [0.5555555555555556, \"#d8576b\"], [0.6666666666666666, \"#ed7953\"], [0.7777777777777778, \"#fb9f3a\"], [0.8888888888888888, \"#fdca26\"], [1.0, \"#f0f921\"]], \"type\": \"contour\"}], \"contourcarpet\": [{\"colorbar\": {\"outlinewidth\": 0, \"ticks\": \"\"}, \"type\": \"contourcarpet\"}], \"heatmap\": [{\"colorbar\": {\"outlinewidth\": 0, \"ticks\": \"\"}, \"colorscale\": [[0.0, \"#0d0887\"], [0.1111111111111111, \"#46039f\"], [0.2222222222222222, \"#7201a8\"], [0.3333333333333333, \"#9c179e\"], [0.4444444444444444, \"#bd3786\"], [0.5555555555555556, \"#d8576b\"], [0.6666666666666666, \"#ed7953\"], [0.7777777777777778, \"#fb9f3a\"], [0.8888888888888888, \"#fdca26\"], [1.0, \"#f0f921\"]], \"type\": \"heatmap\"}], \"heatmapgl\": [{\"colorbar\": {\"outlinewidth\": 0, \"ticks\": \"\"}, \"colorscale\": [[0.0, \"#0d0887\"], [0.1111111111111111, \"#46039f\"], [0.2222222222222222, \"#7201a8\"], [0.3333333333333333, \"#9c179e\"], [0.4444444444444444, \"#bd3786\"], [0.5555555555555556, \"#d8576b\"], [0.6666666666666666, \"#ed7953\"], [0.7777777777777778, \"#fb9f3a\"], [0.8888888888888888, \"#fdca26\"], [1.0, \"#f0f921\"]], \"type\": \"heatmapgl\"}], \"histogram\": [{\"marker\": {\"colorbar\": {\"outlinewidth\": 0, \"ticks\": \"\"}}, \"type\": \"histogram\"}], \"histogram2d\": [{\"colorbar\": {\"outlinewidth\": 0, \"ticks\": \"\"}, \"colorscale\": [[0.0, \"#0d0887\"], [0.1111111111111111, \"#46039f\"], [0.2222222222222222, \"#7201a8\"], [0.3333333333333333, \"#9c179e\"], [0.4444444444444444, \"#bd3786\"], [0.5555555555555556, \"#d8576b\"], [0.6666666666666666, \"#ed7953\"], [0.7777777777777778, \"#fb9f3a\"], [0.8888888888888888, \"#fdca26\"], [1.0, \"#f0f921\"]], \"type\": \"histogram2d\"}], \"histogram2dcontour\": [{\"colorbar\": {\"outlinewidth\": 0, \"ticks\": \"\"}, \"colorscale\": [[0.0, \"#0d0887\"], [0.1111111111111111, \"#46039f\"], [0.2222222222222222, \"#7201a8\"], [0.3333333333333333, \"#9c179e\"], [0.4444444444444444, \"#bd3786\"], [0.5555555555555556, \"#d8576b\"], [0.6666666666666666, \"#ed7953\"], [0.7777777777777778, \"#fb9f3a\"], [0.8888888888888888, \"#fdca26\"], [1.0, \"#f0f921\"]], \"type\": \"histogram2dcontour\"}], \"mesh3d\": [{\"colorbar\": {\"outlinewidth\": 0, \"ticks\": \"\"}, \"type\": \"mesh3d\"}], \"parcoords\": [{\"line\": {\"colorbar\": {\"outlinewidth\": 0, \"ticks\": \"\"}}, \"type\": \"parcoords\"}], \"pie\": [{\"automargin\": true, \"type\": \"pie\"}], \"scatter\": [{\"marker\": {\"colorbar\": {\"outlinewidth\": 0, \"ticks\": \"\"}}, \"type\": \"scatter\"}], \"scatter3d\": [{\"line\": {\"colorbar\": {\"outlinewidth\": 0, \"ticks\": \"\"}}, \"marker\": {\"colorbar\": {\"outlinewidth\": 0, \"ticks\": \"\"}}, \"type\": \"scatter3d\"}], \"scattercarpet\": [{\"marker\": {\"colorbar\": {\"outlinewidth\": 0, \"ticks\": \"\"}}, \"type\": \"scattercarpet\"}], \"scattergeo\": [{\"marker\": {\"colorbar\": {\"outlinewidth\": 0, \"ticks\": \"\"}}, \"type\": \"scattergeo\"}], \"scattergl\": [{\"marker\": {\"colorbar\": {\"outlinewidth\": 0, \"ticks\": \"\"}}, \"type\": \"scattergl\"}], \"scattermapbox\": [{\"marker\": {\"colorbar\": {\"outlinewidth\": 0, \"ticks\": \"\"}}, \"type\": \"scattermapbox\"}], \"scatterpolar\": [{\"marker\": {\"colorbar\": {\"outlinewidth\": 0, \"ticks\": \"\"}}, \"type\": \"scatterpolar\"}], \"scatterpolargl\": [{\"marker\": {\"colorbar\": {\"outlinewidth\": 0, \"ticks\": \"\"}}, \"type\": \"scatterpolargl\"}], \"scatterternary\": [{\"marker\": {\"colorbar\": {\"outlinewidth\": 0, \"ticks\": \"\"}}, \"type\": \"scatterternary\"}], \"surface\": [{\"colorbar\": {\"outlinewidth\": 0, \"ticks\": \"\"}, \"colorscale\": [[0.0, \"#0d0887\"], [0.1111111111111111, \"#46039f\"], [0.2222222222222222, \"#7201a8\"], [0.3333333333333333, \"#9c179e\"], [0.4444444444444444, \"#bd3786\"], [0.5555555555555556, \"#d8576b\"], [0.6666666666666666, \"#ed7953\"], [0.7777777777777778, \"#fb9f3a\"], [0.8888888888888888, \"#fdca26\"], [1.0, \"#f0f921\"]], \"type\": \"surface\"}], \"table\": [{\"cells\": {\"fill\": {\"color\": \"#EBF0F8\"}, \"line\": {\"color\": \"white\"}}, \"header\": {\"fill\": {\"color\": \"#C8D4E3\"}, \"line\": {\"color\": \"white\"}}, \"type\": \"table\"}]}, \"layout\": {\"annotationdefaults\": {\"arrowcolor\": \"#2a3f5f\", \"arrowhead\": 0, \"arrowwidth\": 1}, \"coloraxis\": {\"colorbar\": {\"outlinewidth\": 0, \"ticks\": \"\"}}, \"colorscale\": {\"diverging\": [[0, \"#8e0152\"], [0.1, \"#c51b7d\"], [0.2, \"#de77ae\"], [0.3, \"#f1b6da\"], [0.4, \"#fde0ef\"], [0.5, \"#f7f7f7\"], [0.6, \"#e6f5d0\"], [0.7, \"#b8e186\"], [0.8, \"#7fbc41\"], [0.9, \"#4d9221\"], [1, \"#276419\"]], \"sequential\": [[0.0, \"#0d0887\"], [0.1111111111111111, \"#46039f\"], [0.2222222222222222, \"#7201a8\"], [0.3333333333333333, \"#9c179e\"], [0.4444444444444444, \"#bd3786\"], [0.5555555555555556, \"#d8576b\"], [0.6666666666666666, \"#ed7953\"], [0.7777777777777778, \"#fb9f3a\"], [0.8888888888888888, \"#fdca26\"], [1.0, \"#f0f921\"]], \"sequentialminus\": [[0.0, \"#0d0887\"], [0.1111111111111111, \"#46039f\"], [0.2222222222222222, \"#7201a8\"], [0.3333333333333333, \"#9c179e\"], [0.4444444444444444, \"#bd3786\"], [0.5555555555555556, \"#d8576b\"], [0.6666666666666666, \"#ed7953\"], [0.7777777777777778, \"#fb9f3a\"], [0.8888888888888888, \"#fdca26\"], [1.0, \"#f0f921\"]]}, \"colorway\": [\"#636efa\", \"#EF553B\", \"#00cc96\", \"#ab63fa\", \"#FFA15A\", \"#19d3f3\", \"#FF6692\", \"#B6E880\", \"#FF97FF\", \"#FECB52\"], \"font\": {\"color\": \"#2a3f5f\"}, \"geo\": {\"bgcolor\": \"white\", \"lakecolor\": \"white\", \"landcolor\": \"#E5ECF6\", \"showlakes\": true, \"showland\": true, \"subunitcolor\": \"white\"}, \"hoverlabel\": {\"align\": \"left\"}, \"hovermode\": \"closest\", \"mapbox\": {\"style\": \"light\"}, \"paper_bgcolor\": \"white\", \"plot_bgcolor\": \"#E5ECF6\", \"polar\": {\"angularaxis\": {\"gridcolor\": \"white\", \"linecolor\": \"white\", \"ticks\": \"\"}, \"bgcolor\": \"#E5ECF6\", \"radialaxis\": {\"gridcolor\": \"white\", \"linecolor\": \"white\", \"ticks\": \"\"}}, \"scene\": {\"xaxis\": {\"backgroundcolor\": \"#E5ECF6\", \"gridcolor\": \"white\", \"gridwidth\": 2, \"linecolor\": \"white\", \"showbackground\": true, \"ticks\": \"\", \"zerolinecolor\": \"white\"}, \"yaxis\": {\"backgroundcolor\": \"#E5ECF6\", \"gridcolor\": \"white\", \"gridwidth\": 2, \"linecolor\": \"white\", \"showbackground\": true, \"ticks\": \"\", \"zerolinecolor\": \"white\"}, \"zaxis\": {\"backgroundcolor\": \"#E5ECF6\", \"gridcolor\": \"white\", \"gridwidth\": 2, \"linecolor\": \"white\", \"showbackground\": true, \"ticks\": \"\", \"zerolinecolor\": \"white\"}}, \"shapedefaults\": {\"line\": {\"color\": \"#2a3f5f\"}}, \"ternary\": {\"aaxis\": {\"gridcolor\": \"white\", \"linecolor\": \"white\", \"ticks\": \"\"}, \"baxis\": {\"gridcolor\": \"white\", \"linecolor\": \"white\", \"ticks\": \"\"}, \"bgcolor\": \"#E5ECF6\", \"caxis\": {\"gridcolor\": \"white\", \"linecolor\": \"white\", \"ticks\": \"\"}}, \"title\": {\"x\": 0.05}, \"xaxis\": {\"automargin\": true, \"gridcolor\": \"white\", \"linecolor\": \"white\", \"ticks\": \"\", \"title\": {\"standoff\": 15}, \"zerolinecolor\": \"white\", \"zerolinewidth\": 2}, \"yaxis\": {\"automargin\": true, \"gridcolor\": \"white\", \"linecolor\": \"white\", \"ticks\": \"\", \"title\": {\"standoff\": 15}, \"zerolinecolor\": \"white\", \"zerolinewidth\": 2}}}},\n",
       "                        {\"responsive\": true}\n",
       "                    ).then(function(){\n",
       "                            \n",
       "var gd = document.getElementById('29630a6a-ca92-4d12-b562-37f4e6c32b6a');\n",
       "var x = new MutationObserver(function (mutations, observer) {{\n",
       "        var display = window.getComputedStyle(gd).display;\n",
       "        if (!display || display === 'none') {{\n",
       "            console.log([gd, 'removed!']);\n",
       "            Plotly.purge(gd);\n",
       "            observer.disconnect();\n",
       "        }}\n",
       "}});\n",
       "\n",
       "// Listen for the removal of the full notebook cells\n",
       "var notebookContainer = gd.closest('#notebook-container');\n",
       "if (notebookContainer) {{\n",
       "    x.observe(notebookContainer, {childList: true});\n",
       "}}\n",
       "\n",
       "// Listen for the clearing of the current output cell\n",
       "var outputEl = gd.closest('.output');\n",
       "if (outputEl) {{\n",
       "    x.observe(outputEl, {childList: true});\n",
       "}}\n",
       "\n",
       "                        })\n",
       "                };\n",
       "                });\n",
       "            </script>\n",
       "        </div>"
      ]
     },
     "metadata": {},
     "output_type": "display_data"
    },
    {
     "data": {
      "text/plain": []
     },
     "execution_count": 92,
     "metadata": {},
     "output_type": "execute_result"
    }
   ],
   "source": [
    "dynamic"
   ]
  },
  {
   "cell_type": "code",
   "execution_count": 93,
   "metadata": {},
   "outputs": [
    {
     "data": {
      "application/vnd.plotly.v1+json": {
       "config": {
        "plotlyServerURL": "https://plot.ly"
       },
       "data": [
        {
         "hovertemplate": "%{y}",
         "name": "Susceptible",
         "type": "scatter",
         "x": [
          0,
          1,
          2,
          3,
          4,
          5,
          6,
          7,
          8,
          9,
          10,
          11,
          12,
          13,
          14,
          15,
          16,
          17,
          18,
          19,
          20,
          21,
          22,
          23,
          24,
          25,
          26,
          27,
          28,
          29,
          30,
          31,
          32,
          33,
          34,
          35,
          36,
          37,
          38,
          39,
          40,
          41,
          42,
          43,
          44,
          45,
          46,
          47,
          48,
          49,
          50,
          51,
          52,
          53,
          54,
          55,
          56,
          57,
          58,
          59,
          60,
          61,
          62,
          63,
          64,
          65,
          66,
          67,
          68,
          69,
          70,
          71,
          72,
          73,
          74,
          75,
          76,
          77,
          78,
          79,
          80,
          81,
          82,
          83,
          84,
          85,
          86,
          87,
          88,
          89,
          90
         ],
         "y": [
          99000,
          98812,
          98641,
          98451,
          98248,
          98030,
          97793,
          97538,
          97266,
          96970,
          96635,
          96272,
          95827,
          95339,
          94809,
          94253,
          93612,
          92926,
          92196,
          91398,
          90503,
          89544,
          88500,
          87372,
          86096,
          84690,
          82902,
          80857,
          78504,
          75492,
          72007,
          68038,
          63602,
          58743,
          53551,
          48142,
          42732,
          38425,
          34365,
          31398,
          28945,
          26698,
          24642,
          22766,
          21313,
          20158,
          19142,
          18273,
          17491,
          16819,
          16219,
          15679,
          15111,
          14587,
          14099,
          13653,
          13206,
          12777,
          12380,
          12015,
          11683,
          11369,
          11082,
          10842,
          10620,
          10408,
          10208,
          10006,
          9806,
          9619,
          9446,
          9284,
          9130,
          8986,
          8849,
          8717,
          8592,
          8470,
          8353,
          8240,
          8131,
          8018,
          7907,
          7804,
          7710,
          7628,
          7553,
          7483,
          7418,
          7358,
          7302
         ]
        },
        {
         "hovertemplate": "%{y}",
         "name": "Infectious",
         "type": "scatter",
         "x": [
          0,
          1,
          2,
          3,
          4,
          5,
          6,
          7,
          8,
          9,
          10,
          11,
          12,
          13,
          14,
          15,
          16,
          17,
          18,
          19,
          20,
          21,
          22,
          23,
          24,
          25,
          26,
          27,
          28,
          29,
          30,
          31,
          32,
          33,
          34,
          35,
          36,
          37,
          38,
          39,
          40,
          41,
          42,
          43,
          44,
          45,
          46,
          47,
          48,
          49,
          50,
          51,
          52,
          53,
          54,
          55,
          56,
          57,
          58,
          59,
          60,
          61,
          62,
          63,
          64,
          65,
          66,
          67,
          68,
          69,
          70,
          71,
          72,
          73,
          74,
          75,
          76,
          77,
          78,
          79,
          80,
          81,
          82,
          83,
          84,
          85,
          86,
          87,
          88,
          89,
          90
         ],
         "y": [
          1000,
          1179,
          1317,
          1440,
          1565,
          1699,
          1836,
          1971,
          2115,
          2264,
          2443,
          2642,
          2909,
          3178,
          3392,
          3607,
          3882,
          4174,
          4479,
          4817,
          5202,
          5610,
          6060,
          6546,
          7145,
          7907,
          9026,
          10308,
          11810,
          13927,
          16361,
          19350,
          22626,
          26161,
          29817,
          33144,
          36224,
          37977,
          39364,
          39677,
          39455,
          39158,
          38696,
          38083,
          37086,
          35848,
          34538,
          32671,
          30769,
          28854,
          27028,
          25296,
          23810,
          22454,
          21170,
          19944,
          18513,
          17195,
          15970,
          14832,
          13952,
          13133,
          12354,
          11706,
          11143,
          10608,
          10097,
          9639,
          9195,
          8768,
          8354,
          7959,
          7584,
          7264,
          7161,
          7058,
          6950,
          6840,
          6690,
          6535,
          6378,
          6118,
          5820,
          5534,
          5246,
          4964,
          4695,
          4438,
          4194,
          3963,
          3743
         ]
        },
        {
         "hovertemplate": "%{y}",
         "name": "Removed",
         "type": "scatter",
         "x": [
          0,
          1,
          2,
          3,
          4,
          5,
          6,
          7,
          8,
          9,
          10,
          11,
          12,
          13,
          14,
          15,
          16,
          17,
          18,
          19,
          20,
          21,
          22,
          23,
          24,
          25,
          26,
          27,
          28,
          29,
          30,
          31,
          32,
          33,
          34,
          35,
          36,
          37,
          38,
          39,
          40,
          41,
          42,
          43,
          44,
          45,
          46,
          47,
          48,
          49,
          50,
          51,
          52,
          53,
          54,
          55,
          56,
          57,
          58,
          59,
          60,
          61,
          62,
          63,
          64,
          65,
          66,
          67,
          68,
          69,
          70,
          71,
          72,
          73,
          74,
          75,
          76,
          77,
          78,
          79,
          80,
          81,
          82,
          83,
          84,
          85,
          86,
          87,
          88,
          89,
          90
         ],
         "y": [
          0,
          28,
          62,
          100,
          141,
          186,
          235,
          288,
          344,
          405,
          470,
          540,
          616,
          700,
          791,
          889,
          992,
          1104,
          1224,
          1352,
          1491,
          1640,
          1801,
          1975,
          2163,
          2369,
          2596,
          2855,
          3151,
          3490,
          3890,
          4360,
          4916,
          5566,
          6317,
          7174,
          8125,
          9166,
          10257,
          11387,
          12527,
          13660,
          14785,
          15896,
          16990,
          18055,
          19085,
          20076,
          21015,
          21899,
          22727,
          23504,
          24230,
          24914,
          25559,
          26167,
          26740,
          27272,
          27765,
          28224,
          28650,
          29051,
          29428,
          29783,
          30119,
          30439,
          30744,
          31034,
          31311,
          31575,
          31827,
          32067,
          32295,
          32513,
          32722,
          32927,
          33130,
          33330,
          33526,
          33718,
          33906,
          34089,
          34265,
          34432,
          34591,
          34742,
          34884,
          35019,
          35147,
          35267,
          35381
         ]
        },
        {
         "hovertemplate": "%{y}",
         "name": "Quarantined",
         "type": "scatter",
         "x": [
          0,
          1,
          2,
          3,
          4,
          5,
          6,
          7,
          8,
          9,
          10,
          11,
          12,
          13,
          14,
          15,
          16,
          17,
          18,
          19,
          20,
          21,
          22,
          23,
          24,
          25,
          26,
          27,
          28,
          29,
          30,
          31,
          32,
          33,
          34,
          35,
          36,
          37,
          38,
          39,
          40,
          41,
          42,
          43,
          44,
          45,
          46,
          47,
          48,
          49,
          50,
          51,
          52,
          53,
          54,
          55,
          56,
          57,
          58,
          59,
          60,
          61,
          62,
          63,
          64,
          65,
          66,
          67,
          68,
          69,
          70,
          71,
          72,
          73,
          74,
          75,
          76,
          77,
          78,
          79,
          80,
          81,
          82,
          83,
          84,
          85,
          86,
          87,
          88,
          89,
          90
         ],
         "y": [
          0,
          -20,
          -21,
          7,
          43,
          83,
          134,
          201,
          273,
          358,
          450,
          544,
          645,
          781,
          1006,
          1250,
          1512,
          1795,
          2099,
          2431,
          2802,
          3204,
          3637,
          4105,
          4594,
          5032,
          5474,
          5977,
          6532,
          7089,
          7740,
          8250,
          8854,
          9529,
          10313,
          11539,
          12917,
          14430,
          16013,
          17536,
          19072,
          20481,
          21876,
          23253,
          24609,
          25937,
          27234,
          28977,
          30724,
          32427,
          34024,
          35520,
          36847,
          38042,
          39170,
          40235,
          41539,
          42754,
          43883,
          44927,
          45713,
          46445,
          47134,
          47667,
          48116,
          48543,
          48950,
          49320,
          49687,
          50037,
          50371,
          50689,
          50989,
          51235,
          51266,
          51296,
          51326,
          51358,
          51429,
          51505,
          51583,
          51773,
          52006,
          52229,
          52451,
          52664,
          52866,
          53057,
          53239,
          53410,
          53573
         ]
        },
        {
         "hovertemplate": "%{y}",
         "marker": {
          "symbol": 1
         },
         "mode": "markers",
         "name": "Guessed",
         "type": "scatter",
         "x": [
          10,
          20,
          30,
          40,
          50,
          60,
          70,
          80,
          90
         ],
         "y": [
          2000,
          4800,
          15100,
          38500,
          29300,
          13600.000000000002,
          4700,
          2500,
          500
         ]
        },
        {
         "hovertemplate": "%{y}",
         "marker": {
          "symbol": 2
         },
         "mode": "markers",
         "name": "Confirmed",
         "type": "scatter",
         "x": [
          10,
          20,
          30,
          40,
          50,
          60,
          70,
          80,
          90
         ],
         "y": [
          820,
          2381,
          6764,
          18969,
          35883,
          45324,
          50612,
          53665,
          54980
         ]
        }
       ],
       "layout": {
        "margin": {
         "b": 0,
         "l": 0,
         "r": 0,
         "t": 25
        },
        "template": {
         "data": {
          "bar": [
           {
            "error_x": {
             "color": "#2a3f5f"
            },
            "error_y": {
             "color": "#2a3f5f"
            },
            "marker": {
             "line": {
              "color": "#E5ECF6",
              "width": 0.5
             }
            },
            "type": "bar"
           }
          ],
          "barpolar": [
           {
            "marker": {
             "line": {
              "color": "#E5ECF6",
              "width": 0.5
             }
            },
            "type": "barpolar"
           }
          ],
          "carpet": [
           {
            "aaxis": {
             "endlinecolor": "#2a3f5f",
             "gridcolor": "white",
             "linecolor": "white",
             "minorgridcolor": "white",
             "startlinecolor": "#2a3f5f"
            },
            "baxis": {
             "endlinecolor": "#2a3f5f",
             "gridcolor": "white",
             "linecolor": "white",
             "minorgridcolor": "white",
             "startlinecolor": "#2a3f5f"
            },
            "type": "carpet"
           }
          ],
          "choropleth": [
           {
            "colorbar": {
             "outlinewidth": 0,
             "ticks": ""
            },
            "type": "choropleth"
           }
          ],
          "contour": [
           {
            "colorbar": {
             "outlinewidth": 0,
             "ticks": ""
            },
            "colorscale": [
             [
              0,
              "#0d0887"
             ],
             [
              0.1111111111111111,
              "#46039f"
             ],
             [
              0.2222222222222222,
              "#7201a8"
             ],
             [
              0.3333333333333333,
              "#9c179e"
             ],
             [
              0.4444444444444444,
              "#bd3786"
             ],
             [
              0.5555555555555556,
              "#d8576b"
             ],
             [
              0.6666666666666666,
              "#ed7953"
             ],
             [
              0.7777777777777778,
              "#fb9f3a"
             ],
             [
              0.8888888888888888,
              "#fdca26"
             ],
             [
              1,
              "#f0f921"
             ]
            ],
            "type": "contour"
           }
          ],
          "contourcarpet": [
           {
            "colorbar": {
             "outlinewidth": 0,
             "ticks": ""
            },
            "type": "contourcarpet"
           }
          ],
          "heatmap": [
           {
            "colorbar": {
             "outlinewidth": 0,
             "ticks": ""
            },
            "colorscale": [
             [
              0,
              "#0d0887"
             ],
             [
              0.1111111111111111,
              "#46039f"
             ],
             [
              0.2222222222222222,
              "#7201a8"
             ],
             [
              0.3333333333333333,
              "#9c179e"
             ],
             [
              0.4444444444444444,
              "#bd3786"
             ],
             [
              0.5555555555555556,
              "#d8576b"
             ],
             [
              0.6666666666666666,
              "#ed7953"
             ],
             [
              0.7777777777777778,
              "#fb9f3a"
             ],
             [
              0.8888888888888888,
              "#fdca26"
             ],
             [
              1,
              "#f0f921"
             ]
            ],
            "type": "heatmap"
           }
          ],
          "heatmapgl": [
           {
            "colorbar": {
             "outlinewidth": 0,
             "ticks": ""
            },
            "colorscale": [
             [
              0,
              "#0d0887"
             ],
             [
              0.1111111111111111,
              "#46039f"
             ],
             [
              0.2222222222222222,
              "#7201a8"
             ],
             [
              0.3333333333333333,
              "#9c179e"
             ],
             [
              0.4444444444444444,
              "#bd3786"
             ],
             [
              0.5555555555555556,
              "#d8576b"
             ],
             [
              0.6666666666666666,
              "#ed7953"
             ],
             [
              0.7777777777777778,
              "#fb9f3a"
             ],
             [
              0.8888888888888888,
              "#fdca26"
             ],
             [
              1,
              "#f0f921"
             ]
            ],
            "type": "heatmapgl"
           }
          ],
          "histogram": [
           {
            "marker": {
             "colorbar": {
              "outlinewidth": 0,
              "ticks": ""
             }
            },
            "type": "histogram"
           }
          ],
          "histogram2d": [
           {
            "colorbar": {
             "outlinewidth": 0,
             "ticks": ""
            },
            "colorscale": [
             [
              0,
              "#0d0887"
             ],
             [
              0.1111111111111111,
              "#46039f"
             ],
             [
              0.2222222222222222,
              "#7201a8"
             ],
             [
              0.3333333333333333,
              "#9c179e"
             ],
             [
              0.4444444444444444,
              "#bd3786"
             ],
             [
              0.5555555555555556,
              "#d8576b"
             ],
             [
              0.6666666666666666,
              "#ed7953"
             ],
             [
              0.7777777777777778,
              "#fb9f3a"
             ],
             [
              0.8888888888888888,
              "#fdca26"
             ],
             [
              1,
              "#f0f921"
             ]
            ],
            "type": "histogram2d"
           }
          ],
          "histogram2dcontour": [
           {
            "colorbar": {
             "outlinewidth": 0,
             "ticks": ""
            },
            "colorscale": [
             [
              0,
              "#0d0887"
             ],
             [
              0.1111111111111111,
              "#46039f"
             ],
             [
              0.2222222222222222,
              "#7201a8"
             ],
             [
              0.3333333333333333,
              "#9c179e"
             ],
             [
              0.4444444444444444,
              "#bd3786"
             ],
             [
              0.5555555555555556,
              "#d8576b"
             ],
             [
              0.6666666666666666,
              "#ed7953"
             ],
             [
              0.7777777777777778,
              "#fb9f3a"
             ],
             [
              0.8888888888888888,
              "#fdca26"
             ],
             [
              1,
              "#f0f921"
             ]
            ],
            "type": "histogram2dcontour"
           }
          ],
          "mesh3d": [
           {
            "colorbar": {
             "outlinewidth": 0,
             "ticks": ""
            },
            "type": "mesh3d"
           }
          ],
          "parcoords": [
           {
            "line": {
             "colorbar": {
              "outlinewidth": 0,
              "ticks": ""
             }
            },
            "type": "parcoords"
           }
          ],
          "pie": [
           {
            "automargin": true,
            "type": "pie"
           }
          ],
          "scatter": [
           {
            "marker": {
             "colorbar": {
              "outlinewidth": 0,
              "ticks": ""
             }
            },
            "type": "scatter"
           }
          ],
          "scatter3d": [
           {
            "line": {
             "colorbar": {
              "outlinewidth": 0,
              "ticks": ""
             }
            },
            "marker": {
             "colorbar": {
              "outlinewidth": 0,
              "ticks": ""
             }
            },
            "type": "scatter3d"
           }
          ],
          "scattercarpet": [
           {
            "marker": {
             "colorbar": {
              "outlinewidth": 0,
              "ticks": ""
             }
            },
            "type": "scattercarpet"
           }
          ],
          "scattergeo": [
           {
            "marker": {
             "colorbar": {
              "outlinewidth": 0,
              "ticks": ""
             }
            },
            "type": "scattergeo"
           }
          ],
          "scattergl": [
           {
            "marker": {
             "colorbar": {
              "outlinewidth": 0,
              "ticks": ""
             }
            },
            "type": "scattergl"
           }
          ],
          "scattermapbox": [
           {
            "marker": {
             "colorbar": {
              "outlinewidth": 0,
              "ticks": ""
             }
            },
            "type": "scattermapbox"
           }
          ],
          "scatterpolar": [
           {
            "marker": {
             "colorbar": {
              "outlinewidth": 0,
              "ticks": ""
             }
            },
            "type": "scatterpolar"
           }
          ],
          "scatterpolargl": [
           {
            "marker": {
             "colorbar": {
              "outlinewidth": 0,
              "ticks": ""
             }
            },
            "type": "scatterpolargl"
           }
          ],
          "scatterternary": [
           {
            "marker": {
             "colorbar": {
              "outlinewidth": 0,
              "ticks": ""
             }
            },
            "type": "scatterternary"
           }
          ],
          "surface": [
           {
            "colorbar": {
             "outlinewidth": 0,
             "ticks": ""
            },
            "colorscale": [
             [
              0,
              "#0d0887"
             ],
             [
              0.1111111111111111,
              "#46039f"
             ],
             [
              0.2222222222222222,
              "#7201a8"
             ],
             [
              0.3333333333333333,
              "#9c179e"
             ],
             [
              0.4444444444444444,
              "#bd3786"
             ],
             [
              0.5555555555555556,
              "#d8576b"
             ],
             [
              0.6666666666666666,
              "#ed7953"
             ],
             [
              0.7777777777777778,
              "#fb9f3a"
             ],
             [
              0.8888888888888888,
              "#fdca26"
             ],
             [
              1,
              "#f0f921"
             ]
            ],
            "type": "surface"
           }
          ],
          "table": [
           {
            "cells": {
             "fill": {
              "color": "#EBF0F8"
             },
             "line": {
              "color": "white"
             }
            },
            "header": {
             "fill": {
              "color": "#C8D4E3"
             },
             "line": {
              "color": "white"
             }
            },
            "type": "table"
           }
          ]
         },
         "layout": {
          "annotationdefaults": {
           "arrowcolor": "#2a3f5f",
           "arrowhead": 0,
           "arrowwidth": 1
          },
          "coloraxis": {
           "colorbar": {
            "outlinewidth": 0,
            "ticks": ""
           }
          },
          "colorscale": {
           "diverging": [
            [
             0,
             "#8e0152"
            ],
            [
             0.1,
             "#c51b7d"
            ],
            [
             0.2,
             "#de77ae"
            ],
            [
             0.3,
             "#f1b6da"
            ],
            [
             0.4,
             "#fde0ef"
            ],
            [
             0.5,
             "#f7f7f7"
            ],
            [
             0.6,
             "#e6f5d0"
            ],
            [
             0.7,
             "#b8e186"
            ],
            [
             0.8,
             "#7fbc41"
            ],
            [
             0.9,
             "#4d9221"
            ],
            [
             1,
             "#276419"
            ]
           ],
           "sequential": [
            [
             0,
             "#0d0887"
            ],
            [
             0.1111111111111111,
             "#46039f"
            ],
            [
             0.2222222222222222,
             "#7201a8"
            ],
            [
             0.3333333333333333,
             "#9c179e"
            ],
            [
             0.4444444444444444,
             "#bd3786"
            ],
            [
             0.5555555555555556,
             "#d8576b"
            ],
            [
             0.6666666666666666,
             "#ed7953"
            ],
            [
             0.7777777777777778,
             "#fb9f3a"
            ],
            [
             0.8888888888888888,
             "#fdca26"
            ],
            [
             1,
             "#f0f921"
            ]
           ],
           "sequentialminus": [
            [
             0,
             "#0d0887"
            ],
            [
             0.1111111111111111,
             "#46039f"
            ],
            [
             0.2222222222222222,
             "#7201a8"
            ],
            [
             0.3333333333333333,
             "#9c179e"
            ],
            [
             0.4444444444444444,
             "#bd3786"
            ],
            [
             0.5555555555555556,
             "#d8576b"
            ],
            [
             0.6666666666666666,
             "#ed7953"
            ],
            [
             0.7777777777777778,
             "#fb9f3a"
            ],
            [
             0.8888888888888888,
             "#fdca26"
            ],
            [
             1,
             "#f0f921"
            ]
           ]
          },
          "colorway": [
           "#636efa",
           "#EF553B",
           "#00cc96",
           "#ab63fa",
           "#FFA15A",
           "#19d3f3",
           "#FF6692",
           "#B6E880",
           "#FF97FF",
           "#FECB52"
          ],
          "font": {
           "color": "#2a3f5f"
          },
          "geo": {
           "bgcolor": "white",
           "lakecolor": "white",
           "landcolor": "#E5ECF6",
           "showlakes": true,
           "showland": true,
           "subunitcolor": "white"
          },
          "hoverlabel": {
           "align": "left"
          },
          "hovermode": "closest",
          "mapbox": {
           "style": "light"
          },
          "paper_bgcolor": "white",
          "plot_bgcolor": "#E5ECF6",
          "polar": {
           "angularaxis": {
            "gridcolor": "white",
            "linecolor": "white",
            "ticks": ""
           },
           "bgcolor": "#E5ECF6",
           "radialaxis": {
            "gridcolor": "white",
            "linecolor": "white",
            "ticks": ""
           }
          },
          "scene": {
           "xaxis": {
            "backgroundcolor": "#E5ECF6",
            "gridcolor": "white",
            "gridwidth": 2,
            "linecolor": "white",
            "showbackground": true,
            "ticks": "",
            "zerolinecolor": "white"
           },
           "yaxis": {
            "backgroundcolor": "#E5ECF6",
            "gridcolor": "white",
            "gridwidth": 2,
            "linecolor": "white",
            "showbackground": true,
            "ticks": "",
            "zerolinecolor": "white"
           },
           "zaxis": {
            "backgroundcolor": "#E5ECF6",
            "gridcolor": "white",
            "gridwidth": 2,
            "linecolor": "white",
            "showbackground": true,
            "ticks": "",
            "zerolinecolor": "white"
           }
          },
          "shapedefaults": {
           "line": {
            "color": "#2a3f5f"
           }
          },
          "ternary": {
           "aaxis": {
            "gridcolor": "white",
            "linecolor": "white",
            "ticks": ""
           },
           "baxis": {
            "gridcolor": "white",
            "linecolor": "white",
            "ticks": ""
           },
           "bgcolor": "#E5ECF6",
           "caxis": {
            "gridcolor": "white",
            "linecolor": "white",
            "ticks": ""
           }
          },
          "title": {
           "x": 0.05
          },
          "xaxis": {
           "automargin": true,
           "gridcolor": "white",
           "linecolor": "white",
           "ticks": "",
           "title": {
            "standoff": 15
           },
           "zerolinecolor": "white",
           "zerolinewidth": 2
          },
          "yaxis": {
           "automargin": true,
           "gridcolor": "white",
           "linecolor": "white",
           "ticks": "",
           "title": {
            "standoff": 15
           },
           "zerolinecolor": "white",
           "zerolinewidth": 2
          }
         }
        }
       }
      },
      "text/html": [
       "<div>\n",
       "        \n",
       "        \n",
       "            <div id=\"e7113342-1e28-46f6-8f10-f96708e659e1\" class=\"plotly-graph-div\" style=\"height:525px; width:100%;\"></div>\n",
       "            <script type=\"text/javascript\">\n",
       "                require([\"plotly\"], function(Plotly) {\n",
       "                    window.PLOTLYENV=window.PLOTLYENV || {};\n",
       "                    \n",
       "                if (document.getElementById(\"e7113342-1e28-46f6-8f10-f96708e659e1\")) {\n",
       "                    Plotly.newPlot(\n",
       "                        'e7113342-1e28-46f6-8f10-f96708e659e1',\n",
       "                        [{\"hovertemplate\": \"%{y}\", \"name\": \"Susceptible\", \"type\": \"scatter\", \"x\": [0, 1, 2, 3, 4, 5, 6, 7, 8, 9, 10, 11, 12, 13, 14, 15, 16, 17, 18, 19, 20, 21, 22, 23, 24, 25, 26, 27, 28, 29, 30, 31, 32, 33, 34, 35, 36, 37, 38, 39, 40, 41, 42, 43, 44, 45, 46, 47, 48, 49, 50, 51, 52, 53, 54, 55, 56, 57, 58, 59, 60, 61, 62, 63, 64, 65, 66, 67, 68, 69, 70, 71, 72, 73, 74, 75, 76, 77, 78, 79, 80, 81, 82, 83, 84, 85, 86, 87, 88, 89, 90], \"y\": [99000, 98812, 98641, 98451, 98248, 98030, 97793, 97538, 97266, 96970, 96635, 96272, 95827, 95339, 94809, 94253, 93612, 92926, 92196, 91398, 90503, 89544, 88500, 87372, 86096, 84690, 82902, 80857, 78504, 75492, 72007, 68038, 63602, 58743, 53551, 48142, 42732, 38425, 34365, 31398, 28945, 26698, 24642, 22766, 21313, 20158, 19142, 18273, 17491, 16819, 16219, 15679, 15111, 14587, 14099, 13653, 13206, 12777, 12380, 12015, 11683, 11369, 11082, 10842, 10620, 10408, 10208, 10006, 9806, 9619, 9446, 9284, 9130, 8986, 8849, 8717, 8592, 8470, 8353, 8240, 8131, 8018, 7907, 7804, 7710, 7628, 7553, 7483, 7418, 7358, 7302]}, {\"hovertemplate\": \"%{y}\", \"name\": \"Infectious\", \"type\": \"scatter\", \"x\": [0, 1, 2, 3, 4, 5, 6, 7, 8, 9, 10, 11, 12, 13, 14, 15, 16, 17, 18, 19, 20, 21, 22, 23, 24, 25, 26, 27, 28, 29, 30, 31, 32, 33, 34, 35, 36, 37, 38, 39, 40, 41, 42, 43, 44, 45, 46, 47, 48, 49, 50, 51, 52, 53, 54, 55, 56, 57, 58, 59, 60, 61, 62, 63, 64, 65, 66, 67, 68, 69, 70, 71, 72, 73, 74, 75, 76, 77, 78, 79, 80, 81, 82, 83, 84, 85, 86, 87, 88, 89, 90], \"y\": [1000, 1179, 1317, 1440, 1565, 1699, 1836, 1971, 2115, 2264, 2443, 2642, 2909, 3178, 3392, 3607, 3882, 4174, 4479, 4817, 5202, 5610, 6060, 6546, 7145, 7907, 9026, 10308, 11810, 13927, 16361, 19350, 22626, 26161, 29817, 33144, 36224, 37977, 39364, 39677, 39455, 39158, 38696, 38083, 37086, 35848, 34538, 32671, 30769, 28854, 27028, 25296, 23810, 22454, 21170, 19944, 18513, 17195, 15970, 14832, 13952, 13133, 12354, 11706, 11143, 10608, 10097, 9639, 9195, 8768, 8354, 7959, 7584, 7264, 7161, 7058, 6950, 6840, 6690, 6535, 6378, 6118, 5820, 5534, 5246, 4964, 4695, 4438, 4194, 3963, 3743]}, {\"hovertemplate\": \"%{y}\", \"name\": \"Removed\", \"type\": \"scatter\", \"x\": [0, 1, 2, 3, 4, 5, 6, 7, 8, 9, 10, 11, 12, 13, 14, 15, 16, 17, 18, 19, 20, 21, 22, 23, 24, 25, 26, 27, 28, 29, 30, 31, 32, 33, 34, 35, 36, 37, 38, 39, 40, 41, 42, 43, 44, 45, 46, 47, 48, 49, 50, 51, 52, 53, 54, 55, 56, 57, 58, 59, 60, 61, 62, 63, 64, 65, 66, 67, 68, 69, 70, 71, 72, 73, 74, 75, 76, 77, 78, 79, 80, 81, 82, 83, 84, 85, 86, 87, 88, 89, 90], \"y\": [0, 28, 62, 100, 141, 186, 235, 288, 344, 405, 470, 540, 616, 700, 791, 889, 992, 1104, 1224, 1352, 1491, 1640, 1801, 1975, 2163, 2369, 2596, 2855, 3151, 3490, 3890, 4360, 4916, 5566, 6317, 7174, 8125, 9166, 10257, 11387, 12527, 13660, 14785, 15896, 16990, 18055, 19085, 20076, 21015, 21899, 22727, 23504, 24230, 24914, 25559, 26167, 26740, 27272, 27765, 28224, 28650, 29051, 29428, 29783, 30119, 30439, 30744, 31034, 31311, 31575, 31827, 32067, 32295, 32513, 32722, 32927, 33130, 33330, 33526, 33718, 33906, 34089, 34265, 34432, 34591, 34742, 34884, 35019, 35147, 35267, 35381]}, {\"hovertemplate\": \"%{y}\", \"name\": \"Quarantined\", \"type\": \"scatter\", \"x\": [0, 1, 2, 3, 4, 5, 6, 7, 8, 9, 10, 11, 12, 13, 14, 15, 16, 17, 18, 19, 20, 21, 22, 23, 24, 25, 26, 27, 28, 29, 30, 31, 32, 33, 34, 35, 36, 37, 38, 39, 40, 41, 42, 43, 44, 45, 46, 47, 48, 49, 50, 51, 52, 53, 54, 55, 56, 57, 58, 59, 60, 61, 62, 63, 64, 65, 66, 67, 68, 69, 70, 71, 72, 73, 74, 75, 76, 77, 78, 79, 80, 81, 82, 83, 84, 85, 86, 87, 88, 89, 90], \"y\": [0, -20, -21, 7, 43, 83, 134, 201, 273, 358, 450, 544, 645, 781, 1006, 1250, 1512, 1795, 2099, 2431, 2802, 3204, 3637, 4105, 4594, 5032, 5474, 5977, 6532, 7089, 7740, 8250, 8854, 9529, 10313, 11539, 12917, 14430, 16013, 17536, 19072, 20481, 21876, 23253, 24609, 25937, 27234, 28977, 30724, 32427, 34024, 35520, 36847, 38042, 39170, 40235, 41539, 42754, 43883, 44927, 45713, 46445, 47134, 47667, 48116, 48543, 48950, 49320, 49687, 50037, 50371, 50689, 50989, 51235, 51266, 51296, 51326, 51358, 51429, 51505, 51583, 51773, 52006, 52229, 52451, 52664, 52866, 53057, 53239, 53410, 53573]}, {\"hovertemplate\": \"%{y}\", \"marker\": {\"symbol\": 1}, \"mode\": \"markers\", \"name\": \"Guessed\", \"type\": \"scatter\", \"x\": [10, 20, 30, 40, 50, 60, 70, 80, 90], \"y\": [2000.0, 4800.0, 15100.0, 38500.0, 29300.0, 13600.000000000002, 4700.0, 2500.0, 500.0]}, {\"hovertemplate\": \"%{y}\", \"marker\": {\"symbol\": 2}, \"mode\": \"markers\", \"name\": \"Confirmed\", \"type\": \"scatter\", \"x\": [10, 20, 30, 40, 50, 60, 70, 80, 90], \"y\": [820, 2381, 6764, 18969, 35883, 45324, 50612, 53665, 54980]}],\n",
       "                        {\"margin\": {\"b\": 0, \"l\": 0, \"r\": 0, \"t\": 25}, \"template\": {\"data\": {\"bar\": [{\"error_x\": {\"color\": \"#2a3f5f\"}, \"error_y\": {\"color\": \"#2a3f5f\"}, \"marker\": {\"line\": {\"color\": \"#E5ECF6\", \"width\": 0.5}}, \"type\": \"bar\"}], \"barpolar\": [{\"marker\": {\"line\": {\"color\": \"#E5ECF6\", \"width\": 0.5}}, \"type\": \"barpolar\"}], \"carpet\": [{\"aaxis\": {\"endlinecolor\": \"#2a3f5f\", \"gridcolor\": \"white\", \"linecolor\": \"white\", \"minorgridcolor\": \"white\", \"startlinecolor\": \"#2a3f5f\"}, \"baxis\": {\"endlinecolor\": \"#2a3f5f\", \"gridcolor\": \"white\", \"linecolor\": \"white\", \"minorgridcolor\": \"white\", \"startlinecolor\": \"#2a3f5f\"}, \"type\": \"carpet\"}], \"choropleth\": [{\"colorbar\": {\"outlinewidth\": 0, \"ticks\": \"\"}, \"type\": \"choropleth\"}], \"contour\": [{\"colorbar\": {\"outlinewidth\": 0, \"ticks\": \"\"}, \"colorscale\": [[0.0, \"#0d0887\"], [0.1111111111111111, \"#46039f\"], [0.2222222222222222, \"#7201a8\"], [0.3333333333333333, \"#9c179e\"], [0.4444444444444444, \"#bd3786\"], [0.5555555555555556, \"#d8576b\"], [0.6666666666666666, \"#ed7953\"], [0.7777777777777778, \"#fb9f3a\"], [0.8888888888888888, \"#fdca26\"], [1.0, \"#f0f921\"]], \"type\": \"contour\"}], \"contourcarpet\": [{\"colorbar\": {\"outlinewidth\": 0, \"ticks\": \"\"}, \"type\": \"contourcarpet\"}], \"heatmap\": [{\"colorbar\": {\"outlinewidth\": 0, \"ticks\": \"\"}, \"colorscale\": [[0.0, \"#0d0887\"], [0.1111111111111111, \"#46039f\"], [0.2222222222222222, \"#7201a8\"], [0.3333333333333333, \"#9c179e\"], [0.4444444444444444, \"#bd3786\"], [0.5555555555555556, \"#d8576b\"], [0.6666666666666666, \"#ed7953\"], [0.7777777777777778, \"#fb9f3a\"], [0.8888888888888888, \"#fdca26\"], [1.0, \"#f0f921\"]], \"type\": \"heatmap\"}], \"heatmapgl\": [{\"colorbar\": {\"outlinewidth\": 0, \"ticks\": \"\"}, \"colorscale\": [[0.0, \"#0d0887\"], [0.1111111111111111, \"#46039f\"], [0.2222222222222222, \"#7201a8\"], [0.3333333333333333, \"#9c179e\"], [0.4444444444444444, \"#bd3786\"], [0.5555555555555556, \"#d8576b\"], [0.6666666666666666, \"#ed7953\"], [0.7777777777777778, \"#fb9f3a\"], [0.8888888888888888, \"#fdca26\"], [1.0, \"#f0f921\"]], \"type\": \"heatmapgl\"}], \"histogram\": [{\"marker\": {\"colorbar\": {\"outlinewidth\": 0, \"ticks\": \"\"}}, \"type\": \"histogram\"}], \"histogram2d\": [{\"colorbar\": {\"outlinewidth\": 0, \"ticks\": \"\"}, \"colorscale\": [[0.0, \"#0d0887\"], [0.1111111111111111, \"#46039f\"], [0.2222222222222222, \"#7201a8\"], [0.3333333333333333, \"#9c179e\"], [0.4444444444444444, \"#bd3786\"], [0.5555555555555556, \"#d8576b\"], [0.6666666666666666, \"#ed7953\"], [0.7777777777777778, \"#fb9f3a\"], [0.8888888888888888, \"#fdca26\"], [1.0, \"#f0f921\"]], \"type\": \"histogram2d\"}], \"histogram2dcontour\": [{\"colorbar\": {\"outlinewidth\": 0, \"ticks\": \"\"}, \"colorscale\": [[0.0, \"#0d0887\"], [0.1111111111111111, \"#46039f\"], [0.2222222222222222, \"#7201a8\"], [0.3333333333333333, \"#9c179e\"], [0.4444444444444444, \"#bd3786\"], [0.5555555555555556, \"#d8576b\"], [0.6666666666666666, \"#ed7953\"], [0.7777777777777778, \"#fb9f3a\"], [0.8888888888888888, \"#fdca26\"], [1.0, \"#f0f921\"]], \"type\": \"histogram2dcontour\"}], \"mesh3d\": [{\"colorbar\": {\"outlinewidth\": 0, \"ticks\": \"\"}, \"type\": \"mesh3d\"}], \"parcoords\": [{\"line\": {\"colorbar\": {\"outlinewidth\": 0, \"ticks\": \"\"}}, \"type\": \"parcoords\"}], \"pie\": [{\"automargin\": true, \"type\": \"pie\"}], \"scatter\": [{\"marker\": {\"colorbar\": {\"outlinewidth\": 0, \"ticks\": \"\"}}, \"type\": \"scatter\"}], \"scatter3d\": [{\"line\": {\"colorbar\": {\"outlinewidth\": 0, \"ticks\": \"\"}}, \"marker\": {\"colorbar\": {\"outlinewidth\": 0, \"ticks\": \"\"}}, \"type\": \"scatter3d\"}], \"scattercarpet\": [{\"marker\": {\"colorbar\": {\"outlinewidth\": 0, \"ticks\": \"\"}}, \"type\": \"scattercarpet\"}], \"scattergeo\": [{\"marker\": {\"colorbar\": {\"outlinewidth\": 0, \"ticks\": \"\"}}, \"type\": \"scattergeo\"}], \"scattergl\": [{\"marker\": {\"colorbar\": {\"outlinewidth\": 0, \"ticks\": \"\"}}, \"type\": \"scattergl\"}], \"scattermapbox\": [{\"marker\": {\"colorbar\": {\"outlinewidth\": 0, \"ticks\": \"\"}}, \"type\": \"scattermapbox\"}], \"scatterpolar\": [{\"marker\": {\"colorbar\": {\"outlinewidth\": 0, \"ticks\": \"\"}}, \"type\": \"scatterpolar\"}], \"scatterpolargl\": [{\"marker\": {\"colorbar\": {\"outlinewidth\": 0, \"ticks\": \"\"}}, \"type\": \"scatterpolargl\"}], \"scatterternary\": [{\"marker\": {\"colorbar\": {\"outlinewidth\": 0, \"ticks\": \"\"}}, \"type\": \"scatterternary\"}], \"surface\": [{\"colorbar\": {\"outlinewidth\": 0, \"ticks\": \"\"}, \"colorscale\": [[0.0, \"#0d0887\"], [0.1111111111111111, \"#46039f\"], [0.2222222222222222, \"#7201a8\"], [0.3333333333333333, \"#9c179e\"], [0.4444444444444444, \"#bd3786\"], [0.5555555555555556, \"#d8576b\"], [0.6666666666666666, \"#ed7953\"], [0.7777777777777778, \"#fb9f3a\"], [0.8888888888888888, \"#fdca26\"], [1.0, \"#f0f921\"]], \"type\": \"surface\"}], \"table\": [{\"cells\": {\"fill\": {\"color\": \"#EBF0F8\"}, \"line\": {\"color\": \"white\"}}, \"header\": {\"fill\": {\"color\": \"#C8D4E3\"}, \"line\": {\"color\": \"white\"}}, \"type\": \"table\"}]}, \"layout\": {\"annotationdefaults\": {\"arrowcolor\": \"#2a3f5f\", \"arrowhead\": 0, \"arrowwidth\": 1}, \"coloraxis\": {\"colorbar\": {\"outlinewidth\": 0, \"ticks\": \"\"}}, \"colorscale\": {\"diverging\": [[0, \"#8e0152\"], [0.1, \"#c51b7d\"], [0.2, \"#de77ae\"], [0.3, \"#f1b6da\"], [0.4, \"#fde0ef\"], [0.5, \"#f7f7f7\"], [0.6, \"#e6f5d0\"], [0.7, \"#b8e186\"], [0.8, \"#7fbc41\"], [0.9, \"#4d9221\"], [1, \"#276419\"]], \"sequential\": [[0.0, \"#0d0887\"], [0.1111111111111111, \"#46039f\"], [0.2222222222222222, \"#7201a8\"], [0.3333333333333333, \"#9c179e\"], [0.4444444444444444, \"#bd3786\"], [0.5555555555555556, \"#d8576b\"], [0.6666666666666666, \"#ed7953\"], [0.7777777777777778, \"#fb9f3a\"], [0.8888888888888888, \"#fdca26\"], [1.0, \"#f0f921\"]], \"sequentialminus\": [[0.0, \"#0d0887\"], [0.1111111111111111, \"#46039f\"], [0.2222222222222222, \"#7201a8\"], [0.3333333333333333, \"#9c179e\"], [0.4444444444444444, \"#bd3786\"], [0.5555555555555556, \"#d8576b\"], [0.6666666666666666, \"#ed7953\"], [0.7777777777777778, \"#fb9f3a\"], [0.8888888888888888, \"#fdca26\"], [1.0, \"#f0f921\"]]}, \"colorway\": [\"#636efa\", \"#EF553B\", \"#00cc96\", \"#ab63fa\", \"#FFA15A\", \"#19d3f3\", \"#FF6692\", \"#B6E880\", \"#FF97FF\", \"#FECB52\"], \"font\": {\"color\": \"#2a3f5f\"}, \"geo\": {\"bgcolor\": \"white\", \"lakecolor\": \"white\", \"landcolor\": \"#E5ECF6\", \"showlakes\": true, \"showland\": true, \"subunitcolor\": \"white\"}, \"hoverlabel\": {\"align\": \"left\"}, \"hovermode\": \"closest\", \"mapbox\": {\"style\": \"light\"}, \"paper_bgcolor\": \"white\", \"plot_bgcolor\": \"#E5ECF6\", \"polar\": {\"angularaxis\": {\"gridcolor\": \"white\", \"linecolor\": \"white\", \"ticks\": \"\"}, \"bgcolor\": \"#E5ECF6\", \"radialaxis\": {\"gridcolor\": \"white\", \"linecolor\": \"white\", \"ticks\": \"\"}}, \"scene\": {\"xaxis\": {\"backgroundcolor\": \"#E5ECF6\", \"gridcolor\": \"white\", \"gridwidth\": 2, \"linecolor\": \"white\", \"showbackground\": true, \"ticks\": \"\", \"zerolinecolor\": \"white\"}, \"yaxis\": {\"backgroundcolor\": \"#E5ECF6\", \"gridcolor\": \"white\", \"gridwidth\": 2, \"linecolor\": \"white\", \"showbackground\": true, \"ticks\": \"\", \"zerolinecolor\": \"white\"}, \"zaxis\": {\"backgroundcolor\": \"#E5ECF6\", \"gridcolor\": \"white\", \"gridwidth\": 2, \"linecolor\": \"white\", \"showbackground\": true, \"ticks\": \"\", \"zerolinecolor\": \"white\"}}, \"shapedefaults\": {\"line\": {\"color\": \"#2a3f5f\"}}, \"ternary\": {\"aaxis\": {\"gridcolor\": \"white\", \"linecolor\": \"white\", \"ticks\": \"\"}, \"baxis\": {\"gridcolor\": \"white\", \"linecolor\": \"white\", \"ticks\": \"\"}, \"bgcolor\": \"#E5ECF6\", \"caxis\": {\"gridcolor\": \"white\", \"linecolor\": \"white\", \"ticks\": \"\"}}, \"title\": {\"x\": 0.05}, \"xaxis\": {\"automargin\": true, \"gridcolor\": \"white\", \"linecolor\": \"white\", \"ticks\": \"\", \"title\": {\"standoff\": 15}, \"zerolinecolor\": \"white\", \"zerolinewidth\": 2}, \"yaxis\": {\"automargin\": true, \"gridcolor\": \"white\", \"linecolor\": \"white\", \"ticks\": \"\", \"title\": {\"standoff\": 15}, \"zerolinecolor\": \"white\", \"zerolinewidth\": 2}}}},\n",
       "                        {\"responsive\": true}\n",
       "                    ).then(function(){\n",
       "                            \n",
       "var gd = document.getElementById('e7113342-1e28-46f6-8f10-f96708e659e1');\n",
       "var x = new MutationObserver(function (mutations, observer) {{\n",
       "        var display = window.getComputedStyle(gd).display;\n",
       "        if (!display || display === 'none') {{\n",
       "            console.log([gd, 'removed!']);\n",
       "            Plotly.purge(gd);\n",
       "            observer.disconnect();\n",
       "        }}\n",
       "}});\n",
       "\n",
       "// Listen for the removal of the full notebook cells\n",
       "var notebookContainer = gd.closest('#notebook-container');\n",
       "if (notebookContainer) {{\n",
       "    x.observe(notebookContainer, {childList: true});\n",
       "}}\n",
       "\n",
       "// Listen for the clearing of the current output cell\n",
       "var outputEl = gd.closest('.output');\n",
       "if (outputEl) {{\n",
       "    x.observe(outputEl, {childList: true});\n",
       "}}\n",
       "\n",
       "                        })\n",
       "                };\n",
       "                });\n",
       "            </script>\n",
       "        </div>"
      ]
     },
     "metadata": {},
     "output_type": "display_data"
    }
   ],
   "source": [
    "fig = SIRQt.plot(a.dynamic.estimate(city))\n",
    "sample.plot(fig)\n",
    "confirmed.plot(fig)"
   ]
  },
  {
   "cell_type": "code",
   "execution_count": null,
   "metadata": {},
   "outputs": [],
   "source": []
  },
  {
   "cell_type": "code",
   "execution_count": null,
   "metadata": {},
   "outputs": [],
   "source": []
  },
  {
   "cell_type": "code",
   "execution_count": null,
   "metadata": {},
   "outputs": [],
   "source": []
  },
  {
   "cell_type": "code",
   "execution_count": null,
   "metadata": {},
   "outputs": [],
   "source": []
  },
  {
   "cell_type": "code",
   "execution_count": null,
   "metadata": {},
   "outputs": [],
   "source": []
  },
  {
   "cell_type": "code",
   "execution_count": null,
   "metadata": {},
   "outputs": [],
   "source": []
  },
  {
   "cell_type": "code",
   "execution_count": null,
   "metadata": {},
   "outputs": [],
   "source": []
  },
  {
   "cell_type": "code",
   "execution_count": null,
   "metadata": {},
   "outputs": [],
   "source": []
  },
  {
   "cell_type": "code",
   "execution_count": null,
   "metadata": {},
   "outputs": [],
   "source": []
  },
  {
   "cell_type": "code",
   "execution_count": null,
   "metadata": {},
   "outputs": [],
   "source": []
  },
  {
   "cell_type": "code",
   "execution_count": 18,
   "metadata": {},
   "outputs": [],
   "source": [
    "def jump(x, t=0, state=0, cube=None, law=uniform, wait=10, *vargs, seed=None, **options):\n",
    "    x = np.array(x, dtype='float64')   # caution: must specify the datatype, in-place operation below\n",
    "    d = x.size\n",
    "    \n",
    "    if state is None:\n",
    "        state = 0\n",
    "        \n",
    "    if cube is None:\n",
    "        cube = inf_cube(d)\n",
    "    cube = np.array(cube)\n",
    "    \n",
    "    if not incube(x, cube):\n",
    "        raise Exception(MESSAGE)\n",
    "        \n",
    "    if seed is not None and t==0:\n",
    "        np.random.seed(seed)\n",
    "        \n",
    "    y = law(0, **extract_options(options, 'law'))\n",
    "    if state == 0:\n",
    "        if cube[0, 0] < x[0] + y < cube[0, 1]:\n",
    "            x[0] += y\n",
    "        state += 1\n",
    "    else:\n",
    "        window = int(np.random.exponential(wait))\n",
    "        stop = min(d - 1, state + window)\n",
    "        if incube(x[state:stop+1] + y, cube[state:stop+1, :]):\n",
    "            x[state:stop+1] += y\n",
    "        state = stop + 1 if stop + 1 < d else 0\n",
    "    return x, state         "
   ]
  },
  {
   "cell_type": "code",
   "execution_count": 24,
   "metadata": {},
   "outputs": [],
   "source": [
    "def jump2(x, t=0, state=0, cube=None, law=uniform, wait=5, *vargs, seed=None, **options):\n",
    "    x = np.array(x, dtype='float64')   # caution: must specify the datatype, in-place operation below\n",
    "    d = x.size\n",
    "    \n",
    "    if state is None:\n",
    "        state = 0\n",
    "        \n",
    "    if cube is None:\n",
    "        cube = inf_cube(d)\n",
    "    cube = np.array(cube)\n",
    "    \n",
    "    if not incube(x, cube):\n",
    "        raise Exception(MESSAGE)\n",
    "        \n",
    "    if seed is not None and t==0:\n",
    "        np.random.seed(seed)\n",
    "        \n",
    "    y = law(0, **extract_options(options, 'law'))\n",
    "    if state == 0:\n",
    "        if cube[0, 0] < x[0] + y < cube[0, 1]:\n",
    "            x[0] += y\n",
    "        state += 1\n",
    "    else:\n",
    "        window = int(np.random.exponential(wait))\n",
    "        stop = min(d - 1, state + window)\n",
    "        if incube(x[state] + y, cube[state:state+1, :]):\n",
    "            x[state:stop+1] = x[state] + y\n",
    "        state = stop + 1 if stop + 1 < d else 0\n",
    "    return x, state"
   ]
  },
  {
   "cell_type": "code",
   "execution_count": 68,
   "metadata": {},
   "outputs": [],
   "source": [
    "def jump3(x, t=0, state=0, cube=None, law=uniform, wait=5, *vargs, seed=None, **options):\n",
    "    x = np.array(x, dtype='float64')   # caution: must specify the datatype, in-place operation below\n",
    "    d = x.size\n",
    "    \n",
    "    if state is None:\n",
    "        state = 0\n",
    "        \n",
    "    if cube is None:\n",
    "        cube = inf_cube(d)\n",
    "    cube = np.array(cube)\n",
    "    \n",
    "    if not incube(x, cube):\n",
    "        raise Exception(MESSAGE)\n",
    "        \n",
    "    if seed is not None and t==0:\n",
    "        np.random.seed(seed)\n",
    "        \n",
    "    y = law(0, **extract_options(options, 'law'))\n",
    "    if state == 0:\n",
    "        if cube[0, 0] < x[0] + y < cube[0, 1]:\n",
    "            x[0] += y\n",
    "        state += 1\n",
    "    else:\n",
    "        window = int(np.random.exponential(wait))\n",
    "        stop = min(d - 1, state + window)\n",
    "        if incube(x[d-state] + y, cube[d-state:d-state+1, :]):\n",
    "            x[d-stop:d-state+1] = x[d-state] + y\n",
    "        state = stop + 1 if stop + 1 < d else 0\n",
    "    return x, state"
   ]
  },
  {
   "cell_type": "code",
   "execution_count": null,
   "metadata": {},
   "outputs": [],
   "source": []
  }
 ],
 "metadata": {
  "@webio": {
   "lastCommId": null,
   "lastKernelId": null
  },
  "kernelspec": {
   "display_name": "Python 3",
   "language": "python",
   "name": "python3"
  },
  "language_info": {
   "codemirror_mode": {
    "name": "ipython",
    "version": 3
   },
   "file_extension": ".py",
   "mimetype": "text/x-python",
   "name": "python",
   "nbconvert_exporter": "python",
   "pygments_lexer": "ipython3",
   "version": "3.7.3"
  }
 },
 "nbformat": 4,
 "nbformat_minor": 2
}
