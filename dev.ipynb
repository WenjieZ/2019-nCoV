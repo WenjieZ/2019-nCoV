{
 "cells": [
  {
   "cell_type": "code",
   "execution_count": 1,
   "metadata": {},
   "outputs": [],
   "source": [
    "from abc import ABCMeta, abstractmethod\n",
    "from collections import namedtuple\n",
    "import numpy as np\n",
    "\n",
    "import plotly.graph_objects as go \n",
    "import plotly.express as px \n",
    "import plotly.io as pio\n",
    "from plotly.subplots import make_subplots\n",
    "\n",
    "from scipy.optimize import minimize, dual_annealing"
   ]
  },
  {
   "cell_type": "code",
   "execution_count": 29,
   "metadata": {},
   "outputs": [],
   "source": [
    "import os\n",
    "from hsir import InferSIRQ, SIRQ"
   ]
  },
  {
   "cell_type": "code",
   "execution_count": 20,
   "metadata": {},
   "outputs": [],
   "source": [
    "class Law(metaclass=ABCMeta):\n",
    "    @staticmethod\n",
    "    @abstractmethod\n",
    "    def sample(n, d):\n",
    "        pass\n",
    "\n",
    "    @staticmethod\n",
    "    @abstractmethod\n",
    "    def loglikely(n, d, k):\n",
    "        pass\n",
    "   \n",
    "    @staticmethod\n",
    "    def likelihood(n, d, k):\n",
    "        return np.exp(loglikely(n, d, k))\n",
    "\n",
    "\n",
    "class Bin(Law):\n",
    "    def sample(n, d):\n",
    "        return np.random.binomial(n, d)\n",
    "    \n",
    "    def loglikely(n, d, k):\n",
    "        return k*np.log(d) + (n-k)*np.log(1-d)\n",
    "\n",
    "\n",
    "class Poi(Law):\n",
    "    def sample(n, d):\n",
    "        return np.random.poisson(n*d)\n",
    "    \n",
    "    def loglikely(n, d, k):\n",
    "        return k*np.log(n*d) - n*d # - np.sum(np.log(np.arange(k)+1))\n",
    "    \n",
    "\n",
    "class Gau(Law):\n",
    "    def sample(n, d=1):\n",
    "        return n * (1 + 0.1*np.random.randn())\n",
    "    \n",
    "    def loglikely(n, d, k):\n",
    "        return -50 * np.log(k/n)**2 "
   ]
  },
  {
   "cell_type": "code",
   "execution_count": 21,
   "metadata": {},
   "outputs": [],
   "source": [
    "def variation1(x):\n",
    "    return np.mean(np.abs(np.diff(x)))\n",
    "\n",
    "\n",
    "def variation2(x):\n",
    "    return np.sqrt(np.mean(np.diff(x)**2))\n",
    "\n",
    "\n",
    "def elastic_net(x, mu=1):\n",
    "    return (variation1(x) + mu*variation2(x)) / (1+mu)"
   ]
  },
  {
   "cell_type": "code",
   "execution_count": 110,
   "metadata": {},
   "outputs": [],
   "source": [
    "Region = namedtuple('Region', 'S I R Q')\n",
    "Epidemic = namedtuple('Epidemic', 'S I R Q')\n",
    "\n",
    "\n",
    "class Sample:\n",
    "    def __init__(self, epidemic, ts, ms, ns, law, seed=None):\n",
    "        if seed is not None:\n",
    "            np.random.seed(seed)\n",
    "        \n",
    "        positive = np.zeros_like(ts)\n",
    "        for i, (t, m, n) in enumerate(zip(ts, ms, ns)):\n",
    "            positive[i] = law.sample(n, epidemic.I[t]/m)\n",
    "            \n",
    "        self.t = ts\n",
    "        self.m = ms\n",
    "        self.n = ns\n",
    "        self.positive = positive\n",
    "        self._law = law\n",
    "        \n",
    "    def __repr__(self):\n",
    "        return \" t: {} \\n m: {} \\n n: {} \\n positive: {}\".format(self.t, self.m, self.n, self.positive)\n",
    "    \n",
    "    def plot(self, fig):\n",
    "        fig.add_scatter(\n",
    "            x=self.t, y=self.positive / self.n * self.m, \n",
    "            mode=\"markers\", marker_symbol=1, name=\"Estimated\", hovertemplate=\"%{y}\"\n",
    "        )\n",
    "        return fig\n",
    "    \n",
    "\n",
    "class Confirmed:\n",
    "    def __init__(self, epidemic, ts, law=Poi, seed=None):\n",
    "        if seed is not None:\n",
    "            np.random.seed(seed)\n",
    "        \n",
    "        c = np.zeros_like(ts)\n",
    "        for i, t in enumerate(ts):\n",
    "            c[i] = law.sample(epidemic.Q[t], 1)\n",
    "\n",
    "        self.t = ts\n",
    "        self.c = c\n",
    "        \n",
    "    def __repr__(self):\n",
    "        return \" t: {} \\n c: {}\".format(self.t, self.c)\n",
    "    \n",
    "    def plot(self, fig):\n",
    "        fig.add_scatter(\n",
    "            x=self.t, y=self.c, \n",
    "            mode=\"markers\", marker_symbol=2, name=\"Confirmed\", hovertemplate=\"%{y}\"\n",
    "        )\n",
    "        return fig\n",
    "    \n",
    "    \n",
    "class Resisted:\n",
    "    def __init__(self, epidemic, ts, ns, law, seed=None):\n",
    "        if seed is not None:\n",
    "            np.random.seed(seed)\n",
    "        \n",
    "        positive = np.zeros_like(ts)\n",
    "        ms = np.zeros_like(ts)\n",
    "        for i, (t, n) in enumerate(zip(ts, ns)):\n",
    "            ms[i] = epidemic.S[t] + epidemic.I[t] + epidemic.R[t]\n",
    "            positive[i] = law.sample(n, epidemic.R[t] / ms[i])\n",
    "            \n",
    "        self.t = ts\n",
    "        self.m = ms\n",
    "        self.n = ns\n",
    "        self.positive = positive\n",
    "        self._law = law\n",
    "        \n",
    "    def __repr__(self):\n",
    "        return \" t: {} \\n m: {} \\n n: {} \\n positive: {}\".format(self.t, self.m, self.n, self.positive)\n",
    "    \n",
    "    def plot(self, fig):\n",
    "        fig.add_scatter(\n",
    "            x=self.t, y=self.positive / self.n * self.m, \n",
    "            mode=\"markers\", marker_symbol=3, name=\"Resisted\", hovertemplate=\"%{y}\"\n",
    "        )\n",
    "        return fig"
   ]
  },
  {
   "cell_type": "code",
   "execution_count": 111,
   "metadata": {},
   "outputs": [],
   "source": [
    "class JumpProcess:\n",
    "    def __init__(self, start, amplitude, wait, horizon, seed=None):\n",
    "        if seed is not None:\n",
    "            np.random.seed(seed)\n",
    "            \n",
    "        process = np.zeros(horizon)\n",
    "        t = 0\n",
    "        while t < horizon:\n",
    "            T = int(np.random.exponential(wait))\n",
    "            process[t:t+T] = start\n",
    "            start *= (1 + np.random.choice([-1, 1]) * amplitude)\n",
    "            t += T\n",
    "            \n",
    "        self.value = process\n",
    "            \n",
    "    def plot(self, ls='hv', log=True):\n",
    "        fig = px.scatter(x=range(len(self.value)), y=self.value, hovertemplate=\"%{y}\", line_shape=ls)\n",
    "        if log:\n",
    "            fig.update_yaxes(type=\"log\")\n",
    "        return fig"
   ]
  },
  {
   "cell_type": "code",
   "execution_count": 112,
   "metadata": {},
   "outputs": [],
   "source": [
    "class SIRQt:\n",
    "    def __init__(self, beta, gamma, theta, dt=1):\n",
    "        beta = np.array(beta)\n",
    "        if np.isscalar(gamma):\n",
    "            gamma = gamma * np.ones_like(beta)\n",
    "        else:\n",
    "            gamma = np.array(gamma)\n",
    "        theta = np.array(theta)\n",
    "        if not beta.size == gamma.size == theta.size:\n",
    "            raise Exception(\"Dimensions not equal. β: {}, γ: {}, θ: {}\".format(beta.size, gamma.size, theta.size))\n",
    "            \n",
    "        self.beta = beta * dt\n",
    "        self.gamma = gamma * dt\n",
    "        self.theta = theta * dt\n",
    "    \n",
    "    def self_plot(self, ls='hv', log=False, **kvargs):\n",
    "        fig = go.Figure()\n",
    "        fig.add_scatter(x=np.arange(len(self.beta)), y=self.beta, line_shape=ls, name='β', hovertemplate=\"%{y}\")\n",
    "        fig.add_scatter(x=np.arange(len(self.gamma)), y=self.gamma, line_shape=ls, name='γ', hovertemplate=\"%{y}\")\n",
    "        fig.add_scatter(x=np.arange(len(self.theta)), y=self.theta, line_shape=ls, name='θ', hovertemplate=\"%{y}\")\n",
    "        if log:\n",
    "            fig.update_yaxes(type=\"log\")\n",
    "        return fig\n",
    "    \n",
    "    def __repr__(self):\n",
    "        self.self_plot().show()\n",
    "        return \"\"\n",
    "\n",
    "    def r0(self, control=False):\n",
    "        if control:\n",
    "            return self.beta / (self.gamma + self.theta)\n",
    "        else:\n",
    "            return self.beta / self.gamma\n",
    "        \n",
    "    def estimate(self, region, horizon=None):\n",
    "        T = self.beta.size if horizon is None else horizon\n",
    "        S = np.zeros(T+1)\n",
    "        I = np.zeros(T+1)\n",
    "        R = np.zeros(T+1)\n",
    "        Q = np.zeros(T+1)\n",
    "        S[0] = region.S\n",
    "        I[0] = region.I\n",
    "        R[0] = region.R\n",
    "        Q[0] = region.Q\n",
    "        \n",
    "        for t in range(T):\n",
    "            if t < self.beta.size:\n",
    "                beta, gamma, theta = self.beta[t], self.gamma[t], self.theta[t]\n",
    "            else:\n",
    "                beta, gamma, theta = self.beta[-1], self.gamma[-1], self.theta[-1]\n",
    "                \n",
    "            M = S[t] + I[t] + R[t] + Q[t]\n",
    "            a, b, c = beta*S[t]*I[t]/M, gamma*I[t], theta*I[t]\n",
    "            S[t+1] = S[t] - a\n",
    "            I[t+1] = I[t] + a - b - c\n",
    "            R[t+1] = R[t] + b \n",
    "            Q[t+1] = Q[t] + c\n",
    "        \n",
    "        return Epidemic(S, I, R, Q)\n",
    "    \n",
    "    @staticmethod\n",
    "    def plot(epidemic, T0=0, T=None, line=None, fig=None):\n",
    "        if fig is None:\n",
    "            fig = go.Figure()\n",
    "            fig.update_layout(margin=dict(b=0, l=0, r=0, t=25))\n",
    "        if T is None:    \n",
    "            T = epidemic.S.size - 1 + T0\n",
    "        fig.add_scatter(x=np.arange(T0, T+1), y=epidemic.S.astype(int), name=\"Susceptible\", hovertemplate=\"%{y}\")\n",
    "        fig.add_scatter(x=np.arange(T0, T+1), y=epidemic.I.astype(int), name=\"Infectious\", hovertemplate=\"%{y}\")\n",
    "        fig.add_scatter(x=np.arange(T0, T+1), y=epidemic.R.astype(int), name=\"Removed\", hovertemplate=\"%{y}\")\n",
    "        fig.add_scatter(x=np.arange(T0, T+1), y=epidemic.Q.astype(int), name=\"Quarantined\", hovertemplate=\"%{y}\")\n",
    "        return fig"
   ]
  },
  {
   "cell_type": "code",
   "execution_count": 113,
   "metadata": {},
   "outputs": [
    {
     "data": {
      "application/vnd.plotly.v1+json": {
       "config": {
        "plotlyServerURL": "https://plot.ly"
       },
       "data": [
        {
         "hovertemplate": "%{y}",
         "line": {
          "shape": "hv"
         },
         "name": "β",
         "type": "scatter",
         "x": [
          0,
          1,
          2,
          3,
          4,
          5,
          6,
          7,
          8,
          9,
          10,
          11,
          12,
          13,
          14,
          15,
          16,
          17,
          18,
          19,
          20,
          21,
          22,
          23,
          24,
          25,
          26,
          27,
          28,
          29,
          30,
          31,
          32,
          33,
          34,
          35,
          36,
          37,
          38,
          39,
          40,
          41,
          42,
          43,
          44,
          45,
          46,
          47,
          48,
          49,
          50,
          51,
          52,
          53,
          54,
          55,
          56,
          57,
          58,
          59,
          60,
          61,
          62,
          63,
          64,
          65,
          66,
          67,
          68,
          69,
          70,
          71,
          72,
          73,
          74,
          75,
          76,
          77,
          78,
          79,
          80,
          81,
          82,
          83,
          84,
          85,
          86,
          87,
          88,
          89,
          90,
          91,
          92,
          93,
          94,
          95,
          96,
          97,
          98,
          99
         ],
         "y": [
          0.15,
          0.15,
          0.15,
          0.15,
          0.15,
          0.15,
          0.15,
          0.195,
          0.195,
          0.195,
          0.195,
          0.195,
          0.195,
          0.195,
          0.195,
          0.195,
          0.195,
          0.195,
          0.195,
          0.195,
          0.195,
          0.195,
          0.195,
          0.195,
          0.195,
          0.2535,
          0.2535,
          0.2535,
          0.2535,
          0.2535,
          0.2535,
          0.2535,
          0.32955,
          0.32955,
          0.32955,
          0.32955,
          0.32955,
          0.32955,
          0.32955,
          0.32955,
          0.32955,
          0.230685,
          0.230685,
          0.230685,
          0.230685,
          0.230685,
          0.11303564999999999,
          0.11303564999999999,
          0.11303564999999999,
          0.11303564999999999,
          0.07912495499999998,
          0.07912495499999998,
          0.07912495499999998,
          0.07912495499999998,
          0.07912495499999998,
          0.07912495499999998,
          0.07912495499999998,
          0.07912495499999998,
          0.07912495499999998,
          0.07912495499999998,
          0.07912495499999998,
          0.07912495499999998,
          0.07912495499999998,
          0.07912495499999998,
          0.07912495499999998,
          0.07912495499999998,
          0.05538746849999998,
          0.05538746849999998,
          0.05538746849999998,
          0.05538746849999998,
          0.05538746849999998,
          0.05538746849999998,
          0.05538746849999998,
          0.05538746849999998,
          0.07200370904999998,
          0.07200370904999998,
          0.07200370904999998,
          0.07200370904999998,
          0.07200370904999998,
          0.07200370904999998,
          0.07200370904999998,
          0.07200370904999998,
          0.07200370904999998,
          0.07200370904999998,
          0.07200370904999998,
          0.07200370904999998,
          0.07200370904999998,
          0.07200370904999998,
          0.07200370904999998,
          0.07200370904999998,
          0.07200370904999998,
          0.07200370904999998,
          0.06552337523549998,
          0.06552337523549998,
          0.06552337523549998,
          0.06552337523549998,
          0.08518038780614998,
          0.08518038780614998,
          0.08518038780614998,
          0.08518038780614998
         ]
        },
        {
         "hovertemplate": "%{y}",
         "line": {
          "shape": "hv"
         },
         "name": "γ",
         "type": "scatter",
         "x": [
          0,
          1,
          2,
          3,
          4,
          5,
          6,
          7,
          8,
          9,
          10,
          11,
          12,
          13,
          14,
          15,
          16,
          17,
          18,
          19,
          20,
          21,
          22,
          23,
          24,
          25,
          26,
          27,
          28,
          29,
          30,
          31,
          32,
          33,
          34,
          35,
          36,
          37,
          38,
          39,
          40,
          41,
          42,
          43,
          44,
          45,
          46,
          47,
          48,
          49,
          50,
          51,
          52,
          53,
          54,
          55,
          56,
          57,
          58,
          59,
          60,
          61,
          62,
          63,
          64,
          65,
          66,
          67,
          68,
          69,
          70,
          71,
          72,
          73,
          74,
          75,
          76,
          77,
          78,
          79,
          80,
          81,
          82,
          83,
          84,
          85,
          86,
          87,
          88,
          89,
          90,
          91,
          92,
          93,
          94,
          95,
          96,
          97,
          98,
          99
         ],
         "y": [
          0.03,
          0.03,
          0.03,
          0.03,
          0.03,
          0.03,
          0.03,
          0.0303,
          0.0303,
          0.0303,
          0.0303,
          0.0303,
          0.0303,
          0.0303,
          0.0303,
          0.0303,
          0.0303,
          0.0303,
          0.0303,
          0.0303,
          0.0303,
          0.0303,
          0.0303,
          0.0303,
          0.0303,
          0.030602999999999998,
          0.030602999999999998,
          0.030602999999999998,
          0.030602999999999998,
          0.030602999999999998,
          0.030602999999999998,
          0.030602999999999998,
          0.030909029999999997,
          0.030909029999999997,
          0.030909029999999997,
          0.030909029999999997,
          0.030909029999999997,
          0.030909029999999997,
          0.030909029999999997,
          0.030909029999999997,
          0.030909029999999997,
          0.03059993969999999,
          0.03059993969999999,
          0.03059993969999999,
          0.03059993969999999,
          0.03059993969999999,
          0.029991000899969988,
          0.029991000899969988,
          0.029991000899969988,
          0.029991000899969988,
          0.02969109089097029,
          0.02969109089097029,
          0.02969109089097029,
          0.02969109089097029,
          0.02969109089097029,
          0.02969109089097029,
          0.02969109089097029,
          0.02969109089097029,
          0.02969109089097029,
          0.02969109089097029,
          0.02969109089097029,
          0.02969109089097029,
          0.02969109089097029,
          0.02969109089097029,
          0.02969109089097029,
          0.02969109089097029,
          0.02939417998206059,
          0.02939417998206059,
          0.02939417998206059,
          0.02939417998206059,
          0.02939417998206059,
          0.02939417998206059,
          0.02939417998206059,
          0.02939417998206059,
          0.029688121781881193,
          0.029688121781881193,
          0.029688121781881193,
          0.029688121781881193,
          0.029688121781881193,
          0.029688121781881193,
          0.029688121781881193,
          0.029688121781881193,
          0.029688121781881193,
          0.029688121781881193,
          0.029688121781881193,
          0.029688121781881193,
          0.029688121781881193,
          0.029688121781881193,
          0.029688121781881193,
          0.029688121781881193,
          0.029688121781881193,
          0.029688121781881193,
          0.029685152969703005,
          0.029685152969703005,
          0.029685152969703005,
          0.029685152969703005,
          0.029982004499400035,
          0.029982004499400035,
          0.029982004499400035,
          0.029982004499400035
         ]
        },
        {
         "hovertemplate": "%{y}",
         "line": {
          "shape": "hv"
         },
         "name": "θ",
         "type": "scatter",
         "x": [
          0,
          1,
          2,
          3,
          4,
          5,
          6,
          7,
          8,
          9,
          10,
          11,
          12,
          13,
          14,
          15,
          16,
          17,
          18,
          19,
          20,
          21,
          22,
          23,
          24,
          25,
          26,
          27,
          28,
          29,
          30,
          31,
          32,
          33,
          34,
          35,
          36,
          37,
          38,
          39,
          40,
          41,
          42,
          43,
          44,
          45,
          46,
          47,
          48,
          49,
          50,
          51,
          52,
          53,
          54,
          55,
          56,
          57,
          58,
          59,
          60,
          61,
          62,
          63,
          64,
          65,
          66,
          67,
          68,
          69,
          70,
          71,
          72,
          73,
          74,
          75,
          76,
          77,
          78,
          79,
          80,
          81,
          82,
          83,
          84,
          85,
          86,
          87,
          88,
          89,
          90,
          91,
          92,
          93,
          94,
          95,
          96,
          97,
          98,
          99
         ],
         "y": [
          0.06,
          0.06,
          0.06,
          0.06,
          0.06,
          0.06,
          0.06,
          0.06,
          0.06,
          0.06,
          0.048,
          0.048,
          0.048,
          0.048,
          0.048,
          0.048,
          0.048,
          0.048,
          0.048,
          0.048,
          0.048,
          0.048,
          0.048,
          0.048,
          0.048,
          0.048,
          0.048,
          0.048,
          0.048,
          0.048,
          0.048,
          0.048,
          0.048,
          0.048,
          0.048,
          0.048,
          0.048,
          0.048,
          0.048,
          0.048,
          0.048,
          0.048,
          0.048,
          0.048,
          0.048,
          0.048,
          0.048,
          0.048,
          0.048,
          0.048,
          0.048,
          0.048,
          0.048,
          0.048,
          0.048,
          0.048,
          0.048,
          0.048,
          0.048,
          0.048,
          0.048,
          0.048,
          0.048,
          0.0576,
          0.0576,
          0.0576,
          0.0576,
          0.0576,
          0.0576,
          0.0576,
          0.06911999999999999,
          0.06911999999999999,
          0.06911999999999999,
          0.06911999999999999,
          0.06911999999999999,
          0.08294399999999999,
          0.08294399999999999,
          0.08294399999999999,
          0.08294399999999999,
          0.09953279999999998,
          0.09953279999999998,
          0.09953279999999998,
          0.09953279999999998,
          0.09953279999999998,
          0.09953279999999998,
          0.09953279999999998,
          0.09953279999999998,
          0.09953279999999998,
          0.09953279999999998,
          0.09953279999999998,
          0.09953279999999998,
          0.09953279999999998,
          0.09953279999999998,
          0.09953279999999998,
          0.09953279999999998,
          0.09953279999999998,
          0.09953279999999998,
          0.09953279999999998,
          0.09953279999999998,
          0.09953279999999998
         ]
        }
       ],
       "layout": {
        "template": {
         "data": {
          "bar": [
           {
            "error_x": {
             "color": "#2a3f5f"
            },
            "error_y": {
             "color": "#2a3f5f"
            },
            "marker": {
             "line": {
              "color": "#E5ECF6",
              "width": 0.5
             }
            },
            "type": "bar"
           }
          ],
          "barpolar": [
           {
            "marker": {
             "line": {
              "color": "#E5ECF6",
              "width": 0.5
             }
            },
            "type": "barpolar"
           }
          ],
          "carpet": [
           {
            "aaxis": {
             "endlinecolor": "#2a3f5f",
             "gridcolor": "white",
             "linecolor": "white",
             "minorgridcolor": "white",
             "startlinecolor": "#2a3f5f"
            },
            "baxis": {
             "endlinecolor": "#2a3f5f",
             "gridcolor": "white",
             "linecolor": "white",
             "minorgridcolor": "white",
             "startlinecolor": "#2a3f5f"
            },
            "type": "carpet"
           }
          ],
          "choropleth": [
           {
            "colorbar": {
             "outlinewidth": 0,
             "ticks": ""
            },
            "type": "choropleth"
           }
          ],
          "contour": [
           {
            "colorbar": {
             "outlinewidth": 0,
             "ticks": ""
            },
            "colorscale": [
             [
              0,
              "#0d0887"
             ],
             [
              0.1111111111111111,
              "#46039f"
             ],
             [
              0.2222222222222222,
              "#7201a8"
             ],
             [
              0.3333333333333333,
              "#9c179e"
             ],
             [
              0.4444444444444444,
              "#bd3786"
             ],
             [
              0.5555555555555556,
              "#d8576b"
             ],
             [
              0.6666666666666666,
              "#ed7953"
             ],
             [
              0.7777777777777778,
              "#fb9f3a"
             ],
             [
              0.8888888888888888,
              "#fdca26"
             ],
             [
              1,
              "#f0f921"
             ]
            ],
            "type": "contour"
           }
          ],
          "contourcarpet": [
           {
            "colorbar": {
             "outlinewidth": 0,
             "ticks": ""
            },
            "type": "contourcarpet"
           }
          ],
          "heatmap": [
           {
            "colorbar": {
             "outlinewidth": 0,
             "ticks": ""
            },
            "colorscale": [
             [
              0,
              "#0d0887"
             ],
             [
              0.1111111111111111,
              "#46039f"
             ],
             [
              0.2222222222222222,
              "#7201a8"
             ],
             [
              0.3333333333333333,
              "#9c179e"
             ],
             [
              0.4444444444444444,
              "#bd3786"
             ],
             [
              0.5555555555555556,
              "#d8576b"
             ],
             [
              0.6666666666666666,
              "#ed7953"
             ],
             [
              0.7777777777777778,
              "#fb9f3a"
             ],
             [
              0.8888888888888888,
              "#fdca26"
             ],
             [
              1,
              "#f0f921"
             ]
            ],
            "type": "heatmap"
           }
          ],
          "heatmapgl": [
           {
            "colorbar": {
             "outlinewidth": 0,
             "ticks": ""
            },
            "colorscale": [
             [
              0,
              "#0d0887"
             ],
             [
              0.1111111111111111,
              "#46039f"
             ],
             [
              0.2222222222222222,
              "#7201a8"
             ],
             [
              0.3333333333333333,
              "#9c179e"
             ],
             [
              0.4444444444444444,
              "#bd3786"
             ],
             [
              0.5555555555555556,
              "#d8576b"
             ],
             [
              0.6666666666666666,
              "#ed7953"
             ],
             [
              0.7777777777777778,
              "#fb9f3a"
             ],
             [
              0.8888888888888888,
              "#fdca26"
             ],
             [
              1,
              "#f0f921"
             ]
            ],
            "type": "heatmapgl"
           }
          ],
          "histogram": [
           {
            "marker": {
             "colorbar": {
              "outlinewidth": 0,
              "ticks": ""
             }
            },
            "type": "histogram"
           }
          ],
          "histogram2d": [
           {
            "colorbar": {
             "outlinewidth": 0,
             "ticks": ""
            },
            "colorscale": [
             [
              0,
              "#0d0887"
             ],
             [
              0.1111111111111111,
              "#46039f"
             ],
             [
              0.2222222222222222,
              "#7201a8"
             ],
             [
              0.3333333333333333,
              "#9c179e"
             ],
             [
              0.4444444444444444,
              "#bd3786"
             ],
             [
              0.5555555555555556,
              "#d8576b"
             ],
             [
              0.6666666666666666,
              "#ed7953"
             ],
             [
              0.7777777777777778,
              "#fb9f3a"
             ],
             [
              0.8888888888888888,
              "#fdca26"
             ],
             [
              1,
              "#f0f921"
             ]
            ],
            "type": "histogram2d"
           }
          ],
          "histogram2dcontour": [
           {
            "colorbar": {
             "outlinewidth": 0,
             "ticks": ""
            },
            "colorscale": [
             [
              0,
              "#0d0887"
             ],
             [
              0.1111111111111111,
              "#46039f"
             ],
             [
              0.2222222222222222,
              "#7201a8"
             ],
             [
              0.3333333333333333,
              "#9c179e"
             ],
             [
              0.4444444444444444,
              "#bd3786"
             ],
             [
              0.5555555555555556,
              "#d8576b"
             ],
             [
              0.6666666666666666,
              "#ed7953"
             ],
             [
              0.7777777777777778,
              "#fb9f3a"
             ],
             [
              0.8888888888888888,
              "#fdca26"
             ],
             [
              1,
              "#f0f921"
             ]
            ],
            "type": "histogram2dcontour"
           }
          ],
          "mesh3d": [
           {
            "colorbar": {
             "outlinewidth": 0,
             "ticks": ""
            },
            "type": "mesh3d"
           }
          ],
          "parcoords": [
           {
            "line": {
             "colorbar": {
              "outlinewidth": 0,
              "ticks": ""
             }
            },
            "type": "parcoords"
           }
          ],
          "pie": [
           {
            "automargin": true,
            "type": "pie"
           }
          ],
          "scatter": [
           {
            "marker": {
             "colorbar": {
              "outlinewidth": 0,
              "ticks": ""
             }
            },
            "type": "scatter"
           }
          ],
          "scatter3d": [
           {
            "line": {
             "colorbar": {
              "outlinewidth": 0,
              "ticks": ""
             }
            },
            "marker": {
             "colorbar": {
              "outlinewidth": 0,
              "ticks": ""
             }
            },
            "type": "scatter3d"
           }
          ],
          "scattercarpet": [
           {
            "marker": {
             "colorbar": {
              "outlinewidth": 0,
              "ticks": ""
             }
            },
            "type": "scattercarpet"
           }
          ],
          "scattergeo": [
           {
            "marker": {
             "colorbar": {
              "outlinewidth": 0,
              "ticks": ""
             }
            },
            "type": "scattergeo"
           }
          ],
          "scattergl": [
           {
            "marker": {
             "colorbar": {
              "outlinewidth": 0,
              "ticks": ""
             }
            },
            "type": "scattergl"
           }
          ],
          "scattermapbox": [
           {
            "marker": {
             "colorbar": {
              "outlinewidth": 0,
              "ticks": ""
             }
            },
            "type": "scattermapbox"
           }
          ],
          "scatterpolar": [
           {
            "marker": {
             "colorbar": {
              "outlinewidth": 0,
              "ticks": ""
             }
            },
            "type": "scatterpolar"
           }
          ],
          "scatterpolargl": [
           {
            "marker": {
             "colorbar": {
              "outlinewidth": 0,
              "ticks": ""
             }
            },
            "type": "scatterpolargl"
           }
          ],
          "scatterternary": [
           {
            "marker": {
             "colorbar": {
              "outlinewidth": 0,
              "ticks": ""
             }
            },
            "type": "scatterternary"
           }
          ],
          "surface": [
           {
            "colorbar": {
             "outlinewidth": 0,
             "ticks": ""
            },
            "colorscale": [
             [
              0,
              "#0d0887"
             ],
             [
              0.1111111111111111,
              "#46039f"
             ],
             [
              0.2222222222222222,
              "#7201a8"
             ],
             [
              0.3333333333333333,
              "#9c179e"
             ],
             [
              0.4444444444444444,
              "#bd3786"
             ],
             [
              0.5555555555555556,
              "#d8576b"
             ],
             [
              0.6666666666666666,
              "#ed7953"
             ],
             [
              0.7777777777777778,
              "#fb9f3a"
             ],
             [
              0.8888888888888888,
              "#fdca26"
             ],
             [
              1,
              "#f0f921"
             ]
            ],
            "type": "surface"
           }
          ],
          "table": [
           {
            "cells": {
             "fill": {
              "color": "#EBF0F8"
             },
             "line": {
              "color": "white"
             }
            },
            "header": {
             "fill": {
              "color": "#C8D4E3"
             },
             "line": {
              "color": "white"
             }
            },
            "type": "table"
           }
          ]
         },
         "layout": {
          "annotationdefaults": {
           "arrowcolor": "#2a3f5f",
           "arrowhead": 0,
           "arrowwidth": 1
          },
          "coloraxis": {
           "colorbar": {
            "outlinewidth": 0,
            "ticks": ""
           }
          },
          "colorscale": {
           "diverging": [
            [
             0,
             "#8e0152"
            ],
            [
             0.1,
             "#c51b7d"
            ],
            [
             0.2,
             "#de77ae"
            ],
            [
             0.3,
             "#f1b6da"
            ],
            [
             0.4,
             "#fde0ef"
            ],
            [
             0.5,
             "#f7f7f7"
            ],
            [
             0.6,
             "#e6f5d0"
            ],
            [
             0.7,
             "#b8e186"
            ],
            [
             0.8,
             "#7fbc41"
            ],
            [
             0.9,
             "#4d9221"
            ],
            [
             1,
             "#276419"
            ]
           ],
           "sequential": [
            [
             0,
             "#0d0887"
            ],
            [
             0.1111111111111111,
             "#46039f"
            ],
            [
             0.2222222222222222,
             "#7201a8"
            ],
            [
             0.3333333333333333,
             "#9c179e"
            ],
            [
             0.4444444444444444,
             "#bd3786"
            ],
            [
             0.5555555555555556,
             "#d8576b"
            ],
            [
             0.6666666666666666,
             "#ed7953"
            ],
            [
             0.7777777777777778,
             "#fb9f3a"
            ],
            [
             0.8888888888888888,
             "#fdca26"
            ],
            [
             1,
             "#f0f921"
            ]
           ],
           "sequentialminus": [
            [
             0,
             "#0d0887"
            ],
            [
             0.1111111111111111,
             "#46039f"
            ],
            [
             0.2222222222222222,
             "#7201a8"
            ],
            [
             0.3333333333333333,
             "#9c179e"
            ],
            [
             0.4444444444444444,
             "#bd3786"
            ],
            [
             0.5555555555555556,
             "#d8576b"
            ],
            [
             0.6666666666666666,
             "#ed7953"
            ],
            [
             0.7777777777777778,
             "#fb9f3a"
            ],
            [
             0.8888888888888888,
             "#fdca26"
            ],
            [
             1,
             "#f0f921"
            ]
           ]
          },
          "colorway": [
           "#636efa",
           "#EF553B",
           "#00cc96",
           "#ab63fa",
           "#FFA15A",
           "#19d3f3",
           "#FF6692",
           "#B6E880",
           "#FF97FF",
           "#FECB52"
          ],
          "font": {
           "color": "#2a3f5f"
          },
          "geo": {
           "bgcolor": "white",
           "lakecolor": "white",
           "landcolor": "#E5ECF6",
           "showlakes": true,
           "showland": true,
           "subunitcolor": "white"
          },
          "hoverlabel": {
           "align": "left"
          },
          "hovermode": "closest",
          "mapbox": {
           "style": "light"
          },
          "paper_bgcolor": "white",
          "plot_bgcolor": "#E5ECF6",
          "polar": {
           "angularaxis": {
            "gridcolor": "white",
            "linecolor": "white",
            "ticks": ""
           },
           "bgcolor": "#E5ECF6",
           "radialaxis": {
            "gridcolor": "white",
            "linecolor": "white",
            "ticks": ""
           }
          },
          "scene": {
           "xaxis": {
            "backgroundcolor": "#E5ECF6",
            "gridcolor": "white",
            "gridwidth": 2,
            "linecolor": "white",
            "showbackground": true,
            "ticks": "",
            "zerolinecolor": "white"
           },
           "yaxis": {
            "backgroundcolor": "#E5ECF6",
            "gridcolor": "white",
            "gridwidth": 2,
            "linecolor": "white",
            "showbackground": true,
            "ticks": "",
            "zerolinecolor": "white"
           },
           "zaxis": {
            "backgroundcolor": "#E5ECF6",
            "gridcolor": "white",
            "gridwidth": 2,
            "linecolor": "white",
            "showbackground": true,
            "ticks": "",
            "zerolinecolor": "white"
           }
          },
          "shapedefaults": {
           "line": {
            "color": "#2a3f5f"
           }
          },
          "ternary": {
           "aaxis": {
            "gridcolor": "white",
            "linecolor": "white",
            "ticks": ""
           },
           "baxis": {
            "gridcolor": "white",
            "linecolor": "white",
            "ticks": ""
           },
           "bgcolor": "#E5ECF6",
           "caxis": {
            "gridcolor": "white",
            "linecolor": "white",
            "ticks": ""
           }
          },
          "title": {
           "x": 0.05
          },
          "xaxis": {
           "automargin": true,
           "gridcolor": "white",
           "linecolor": "white",
           "ticks": "",
           "title": {
            "standoff": 15
           },
           "zerolinecolor": "white",
           "zerolinewidth": 2
          },
          "yaxis": {
           "automargin": true,
           "gridcolor": "white",
           "linecolor": "white",
           "ticks": "",
           "title": {
            "standoff": 15
           },
           "zerolinecolor": "white",
           "zerolinewidth": 2
          }
         }
        }
       }
      },
      "text/html": [
       "<div>\n",
       "        \n",
       "        \n",
       "            <div id=\"230ba69d-446f-486e-b5ab-db3ad916ad3f\" class=\"plotly-graph-div\" style=\"height:525px; width:100%;\"></div>\n",
       "            <script type=\"text/javascript\">\n",
       "                require([\"plotly\"], function(Plotly) {\n",
       "                    window.PLOTLYENV=window.PLOTLYENV || {};\n",
       "                    \n",
       "                if (document.getElementById(\"230ba69d-446f-486e-b5ab-db3ad916ad3f\")) {\n",
       "                    Plotly.newPlot(\n",
       "                        '230ba69d-446f-486e-b5ab-db3ad916ad3f',\n",
       "                        [{\"hovertemplate\": \"%{y}\", \"line\": {\"shape\": \"hv\"}, \"name\": \"\\u03b2\", \"type\": \"scatter\", \"x\": [0, 1, 2, 3, 4, 5, 6, 7, 8, 9, 10, 11, 12, 13, 14, 15, 16, 17, 18, 19, 20, 21, 22, 23, 24, 25, 26, 27, 28, 29, 30, 31, 32, 33, 34, 35, 36, 37, 38, 39, 40, 41, 42, 43, 44, 45, 46, 47, 48, 49, 50, 51, 52, 53, 54, 55, 56, 57, 58, 59, 60, 61, 62, 63, 64, 65, 66, 67, 68, 69, 70, 71, 72, 73, 74, 75, 76, 77, 78, 79, 80, 81, 82, 83, 84, 85, 86, 87, 88, 89, 90, 91, 92, 93, 94, 95, 96, 97, 98, 99], \"y\": [0.15, 0.15, 0.15, 0.15, 0.15, 0.15, 0.15, 0.195, 0.195, 0.195, 0.195, 0.195, 0.195, 0.195, 0.195, 0.195, 0.195, 0.195, 0.195, 0.195, 0.195, 0.195, 0.195, 0.195, 0.195, 0.2535, 0.2535, 0.2535, 0.2535, 0.2535, 0.2535, 0.2535, 0.32955, 0.32955, 0.32955, 0.32955, 0.32955, 0.32955, 0.32955, 0.32955, 0.32955, 0.230685, 0.230685, 0.230685, 0.230685, 0.230685, 0.11303564999999999, 0.11303564999999999, 0.11303564999999999, 0.11303564999999999, 0.07912495499999998, 0.07912495499999998, 0.07912495499999998, 0.07912495499999998, 0.07912495499999998, 0.07912495499999998, 0.07912495499999998, 0.07912495499999998, 0.07912495499999998, 0.07912495499999998, 0.07912495499999998, 0.07912495499999998, 0.07912495499999998, 0.07912495499999998, 0.07912495499999998, 0.07912495499999998, 0.05538746849999998, 0.05538746849999998, 0.05538746849999998, 0.05538746849999998, 0.05538746849999998, 0.05538746849999998, 0.05538746849999998, 0.05538746849999998, 0.07200370904999998, 0.07200370904999998, 0.07200370904999998, 0.07200370904999998, 0.07200370904999998, 0.07200370904999998, 0.07200370904999998, 0.07200370904999998, 0.07200370904999998, 0.07200370904999998, 0.07200370904999998, 0.07200370904999998, 0.07200370904999998, 0.07200370904999998, 0.07200370904999998, 0.07200370904999998, 0.07200370904999998, 0.07200370904999998, 0.06552337523549998, 0.06552337523549998, 0.06552337523549998, 0.06552337523549998, 0.08518038780614998, 0.08518038780614998, 0.08518038780614998, 0.08518038780614998]}, {\"hovertemplate\": \"%{y}\", \"line\": {\"shape\": \"hv\"}, \"name\": \"\\u03b3\", \"type\": \"scatter\", \"x\": [0, 1, 2, 3, 4, 5, 6, 7, 8, 9, 10, 11, 12, 13, 14, 15, 16, 17, 18, 19, 20, 21, 22, 23, 24, 25, 26, 27, 28, 29, 30, 31, 32, 33, 34, 35, 36, 37, 38, 39, 40, 41, 42, 43, 44, 45, 46, 47, 48, 49, 50, 51, 52, 53, 54, 55, 56, 57, 58, 59, 60, 61, 62, 63, 64, 65, 66, 67, 68, 69, 70, 71, 72, 73, 74, 75, 76, 77, 78, 79, 80, 81, 82, 83, 84, 85, 86, 87, 88, 89, 90, 91, 92, 93, 94, 95, 96, 97, 98, 99], \"y\": [0.03, 0.03, 0.03, 0.03, 0.03, 0.03, 0.03, 0.0303, 0.0303, 0.0303, 0.0303, 0.0303, 0.0303, 0.0303, 0.0303, 0.0303, 0.0303, 0.0303, 0.0303, 0.0303, 0.0303, 0.0303, 0.0303, 0.0303, 0.0303, 0.030602999999999998, 0.030602999999999998, 0.030602999999999998, 0.030602999999999998, 0.030602999999999998, 0.030602999999999998, 0.030602999999999998, 0.030909029999999997, 0.030909029999999997, 0.030909029999999997, 0.030909029999999997, 0.030909029999999997, 0.030909029999999997, 0.030909029999999997, 0.030909029999999997, 0.030909029999999997, 0.03059993969999999, 0.03059993969999999, 0.03059993969999999, 0.03059993969999999, 0.03059993969999999, 0.029991000899969988, 0.029991000899969988, 0.029991000899969988, 0.029991000899969988, 0.02969109089097029, 0.02969109089097029, 0.02969109089097029, 0.02969109089097029, 0.02969109089097029, 0.02969109089097029, 0.02969109089097029, 0.02969109089097029, 0.02969109089097029, 0.02969109089097029, 0.02969109089097029, 0.02969109089097029, 0.02969109089097029, 0.02969109089097029, 0.02969109089097029, 0.02969109089097029, 0.02939417998206059, 0.02939417998206059, 0.02939417998206059, 0.02939417998206059, 0.02939417998206059, 0.02939417998206059, 0.02939417998206059, 0.02939417998206059, 0.029688121781881193, 0.029688121781881193, 0.029688121781881193, 0.029688121781881193, 0.029688121781881193, 0.029688121781881193, 0.029688121781881193, 0.029688121781881193, 0.029688121781881193, 0.029688121781881193, 0.029688121781881193, 0.029688121781881193, 0.029688121781881193, 0.029688121781881193, 0.029688121781881193, 0.029688121781881193, 0.029688121781881193, 0.029688121781881193, 0.029685152969703005, 0.029685152969703005, 0.029685152969703005, 0.029685152969703005, 0.029982004499400035, 0.029982004499400035, 0.029982004499400035, 0.029982004499400035]}, {\"hovertemplate\": \"%{y}\", \"line\": {\"shape\": \"hv\"}, \"name\": \"\\u03b8\", \"type\": \"scatter\", \"x\": [0, 1, 2, 3, 4, 5, 6, 7, 8, 9, 10, 11, 12, 13, 14, 15, 16, 17, 18, 19, 20, 21, 22, 23, 24, 25, 26, 27, 28, 29, 30, 31, 32, 33, 34, 35, 36, 37, 38, 39, 40, 41, 42, 43, 44, 45, 46, 47, 48, 49, 50, 51, 52, 53, 54, 55, 56, 57, 58, 59, 60, 61, 62, 63, 64, 65, 66, 67, 68, 69, 70, 71, 72, 73, 74, 75, 76, 77, 78, 79, 80, 81, 82, 83, 84, 85, 86, 87, 88, 89, 90, 91, 92, 93, 94, 95, 96, 97, 98, 99], \"y\": [0.06, 0.06, 0.06, 0.06, 0.06, 0.06, 0.06, 0.06, 0.06, 0.06, 0.048, 0.048, 0.048, 0.048, 0.048, 0.048, 0.048, 0.048, 0.048, 0.048, 0.048, 0.048, 0.048, 0.048, 0.048, 0.048, 0.048, 0.048, 0.048, 0.048, 0.048, 0.048, 0.048, 0.048, 0.048, 0.048, 0.048, 0.048, 0.048, 0.048, 0.048, 0.048, 0.048, 0.048, 0.048, 0.048, 0.048, 0.048, 0.048, 0.048, 0.048, 0.048, 0.048, 0.048, 0.048, 0.048, 0.048, 0.048, 0.048, 0.048, 0.048, 0.048, 0.048, 0.0576, 0.0576, 0.0576, 0.0576, 0.0576, 0.0576, 0.0576, 0.06911999999999999, 0.06911999999999999, 0.06911999999999999, 0.06911999999999999, 0.06911999999999999, 0.08294399999999999, 0.08294399999999999, 0.08294399999999999, 0.08294399999999999, 0.09953279999999998, 0.09953279999999998, 0.09953279999999998, 0.09953279999999998, 0.09953279999999998, 0.09953279999999998, 0.09953279999999998, 0.09953279999999998, 0.09953279999999998, 0.09953279999999998, 0.09953279999999998, 0.09953279999999998, 0.09953279999999998, 0.09953279999999998, 0.09953279999999998, 0.09953279999999998, 0.09953279999999998, 0.09953279999999998, 0.09953279999999998, 0.09953279999999998, 0.09953279999999998]}],\n",
       "                        {\"template\": {\"data\": {\"bar\": [{\"error_x\": {\"color\": \"#2a3f5f\"}, \"error_y\": {\"color\": \"#2a3f5f\"}, \"marker\": {\"line\": {\"color\": \"#E5ECF6\", \"width\": 0.5}}, \"type\": \"bar\"}], \"barpolar\": [{\"marker\": {\"line\": {\"color\": \"#E5ECF6\", \"width\": 0.5}}, \"type\": \"barpolar\"}], \"carpet\": [{\"aaxis\": {\"endlinecolor\": \"#2a3f5f\", \"gridcolor\": \"white\", \"linecolor\": \"white\", \"minorgridcolor\": \"white\", \"startlinecolor\": \"#2a3f5f\"}, \"baxis\": {\"endlinecolor\": \"#2a3f5f\", \"gridcolor\": \"white\", \"linecolor\": \"white\", \"minorgridcolor\": \"white\", \"startlinecolor\": \"#2a3f5f\"}, \"type\": \"carpet\"}], \"choropleth\": [{\"colorbar\": {\"outlinewidth\": 0, \"ticks\": \"\"}, \"type\": \"choropleth\"}], \"contour\": [{\"colorbar\": {\"outlinewidth\": 0, \"ticks\": \"\"}, \"colorscale\": [[0.0, \"#0d0887\"], [0.1111111111111111, \"#46039f\"], [0.2222222222222222, \"#7201a8\"], [0.3333333333333333, \"#9c179e\"], [0.4444444444444444, \"#bd3786\"], [0.5555555555555556, \"#d8576b\"], [0.6666666666666666, \"#ed7953\"], [0.7777777777777778, \"#fb9f3a\"], [0.8888888888888888, \"#fdca26\"], [1.0, \"#f0f921\"]], \"type\": \"contour\"}], \"contourcarpet\": [{\"colorbar\": {\"outlinewidth\": 0, \"ticks\": \"\"}, \"type\": \"contourcarpet\"}], \"heatmap\": [{\"colorbar\": {\"outlinewidth\": 0, \"ticks\": \"\"}, \"colorscale\": [[0.0, \"#0d0887\"], [0.1111111111111111, \"#46039f\"], [0.2222222222222222, \"#7201a8\"], [0.3333333333333333, \"#9c179e\"], [0.4444444444444444, \"#bd3786\"], [0.5555555555555556, \"#d8576b\"], [0.6666666666666666, \"#ed7953\"], [0.7777777777777778, \"#fb9f3a\"], [0.8888888888888888, \"#fdca26\"], [1.0, \"#f0f921\"]], \"type\": \"heatmap\"}], \"heatmapgl\": [{\"colorbar\": {\"outlinewidth\": 0, \"ticks\": \"\"}, \"colorscale\": [[0.0, \"#0d0887\"], [0.1111111111111111, \"#46039f\"], [0.2222222222222222, \"#7201a8\"], [0.3333333333333333, \"#9c179e\"], [0.4444444444444444, \"#bd3786\"], [0.5555555555555556, \"#d8576b\"], [0.6666666666666666, \"#ed7953\"], [0.7777777777777778, \"#fb9f3a\"], [0.8888888888888888, \"#fdca26\"], [1.0, \"#f0f921\"]], \"type\": \"heatmapgl\"}], \"histogram\": [{\"marker\": {\"colorbar\": {\"outlinewidth\": 0, \"ticks\": \"\"}}, \"type\": \"histogram\"}], \"histogram2d\": [{\"colorbar\": {\"outlinewidth\": 0, \"ticks\": \"\"}, \"colorscale\": [[0.0, \"#0d0887\"], [0.1111111111111111, \"#46039f\"], [0.2222222222222222, \"#7201a8\"], [0.3333333333333333, \"#9c179e\"], [0.4444444444444444, \"#bd3786\"], [0.5555555555555556, \"#d8576b\"], [0.6666666666666666, \"#ed7953\"], [0.7777777777777778, \"#fb9f3a\"], [0.8888888888888888, \"#fdca26\"], [1.0, \"#f0f921\"]], \"type\": \"histogram2d\"}], \"histogram2dcontour\": [{\"colorbar\": {\"outlinewidth\": 0, \"ticks\": \"\"}, \"colorscale\": [[0.0, \"#0d0887\"], [0.1111111111111111, \"#46039f\"], [0.2222222222222222, \"#7201a8\"], [0.3333333333333333, \"#9c179e\"], [0.4444444444444444, \"#bd3786\"], [0.5555555555555556, \"#d8576b\"], [0.6666666666666666, \"#ed7953\"], [0.7777777777777778, \"#fb9f3a\"], [0.8888888888888888, \"#fdca26\"], [1.0, \"#f0f921\"]], \"type\": \"histogram2dcontour\"}], \"mesh3d\": [{\"colorbar\": {\"outlinewidth\": 0, \"ticks\": \"\"}, \"type\": \"mesh3d\"}], \"parcoords\": [{\"line\": {\"colorbar\": {\"outlinewidth\": 0, \"ticks\": \"\"}}, \"type\": \"parcoords\"}], \"pie\": [{\"automargin\": true, \"type\": \"pie\"}], \"scatter\": [{\"marker\": {\"colorbar\": {\"outlinewidth\": 0, \"ticks\": \"\"}}, \"type\": \"scatter\"}], \"scatter3d\": [{\"line\": {\"colorbar\": {\"outlinewidth\": 0, \"ticks\": \"\"}}, \"marker\": {\"colorbar\": {\"outlinewidth\": 0, \"ticks\": \"\"}}, \"type\": \"scatter3d\"}], \"scattercarpet\": [{\"marker\": {\"colorbar\": {\"outlinewidth\": 0, \"ticks\": \"\"}}, \"type\": \"scattercarpet\"}], \"scattergeo\": [{\"marker\": {\"colorbar\": {\"outlinewidth\": 0, \"ticks\": \"\"}}, \"type\": \"scattergeo\"}], \"scattergl\": [{\"marker\": {\"colorbar\": {\"outlinewidth\": 0, \"ticks\": \"\"}}, \"type\": \"scattergl\"}], \"scattermapbox\": [{\"marker\": {\"colorbar\": {\"outlinewidth\": 0, \"ticks\": \"\"}}, \"type\": \"scattermapbox\"}], \"scatterpolar\": [{\"marker\": {\"colorbar\": {\"outlinewidth\": 0, \"ticks\": \"\"}}, \"type\": \"scatterpolar\"}], \"scatterpolargl\": [{\"marker\": {\"colorbar\": {\"outlinewidth\": 0, \"ticks\": \"\"}}, \"type\": \"scatterpolargl\"}], \"scatterternary\": [{\"marker\": {\"colorbar\": {\"outlinewidth\": 0, \"ticks\": \"\"}}, \"type\": \"scatterternary\"}], \"surface\": [{\"colorbar\": {\"outlinewidth\": 0, \"ticks\": \"\"}, \"colorscale\": [[0.0, \"#0d0887\"], [0.1111111111111111, \"#46039f\"], [0.2222222222222222, \"#7201a8\"], [0.3333333333333333, \"#9c179e\"], [0.4444444444444444, \"#bd3786\"], [0.5555555555555556, \"#d8576b\"], [0.6666666666666666, \"#ed7953\"], [0.7777777777777778, \"#fb9f3a\"], [0.8888888888888888, \"#fdca26\"], [1.0, \"#f0f921\"]], \"type\": \"surface\"}], \"table\": [{\"cells\": {\"fill\": {\"color\": \"#EBF0F8\"}, \"line\": {\"color\": \"white\"}}, \"header\": {\"fill\": {\"color\": \"#C8D4E3\"}, \"line\": {\"color\": \"white\"}}, \"type\": \"table\"}]}, \"layout\": {\"annotationdefaults\": {\"arrowcolor\": \"#2a3f5f\", \"arrowhead\": 0, \"arrowwidth\": 1}, \"coloraxis\": {\"colorbar\": {\"outlinewidth\": 0, \"ticks\": \"\"}}, \"colorscale\": {\"diverging\": [[0, \"#8e0152\"], [0.1, \"#c51b7d\"], [0.2, \"#de77ae\"], [0.3, \"#f1b6da\"], [0.4, \"#fde0ef\"], [0.5, \"#f7f7f7\"], [0.6, \"#e6f5d0\"], [0.7, \"#b8e186\"], [0.8, \"#7fbc41\"], [0.9, \"#4d9221\"], [1, \"#276419\"]], \"sequential\": [[0.0, \"#0d0887\"], [0.1111111111111111, \"#46039f\"], [0.2222222222222222, \"#7201a8\"], [0.3333333333333333, \"#9c179e\"], [0.4444444444444444, \"#bd3786\"], [0.5555555555555556, \"#d8576b\"], [0.6666666666666666, \"#ed7953\"], [0.7777777777777778, \"#fb9f3a\"], [0.8888888888888888, \"#fdca26\"], [1.0, \"#f0f921\"]], \"sequentialminus\": [[0.0, \"#0d0887\"], [0.1111111111111111, \"#46039f\"], [0.2222222222222222, \"#7201a8\"], [0.3333333333333333, \"#9c179e\"], [0.4444444444444444, \"#bd3786\"], [0.5555555555555556, \"#d8576b\"], [0.6666666666666666, \"#ed7953\"], [0.7777777777777778, \"#fb9f3a\"], [0.8888888888888888, \"#fdca26\"], [1.0, \"#f0f921\"]]}, \"colorway\": [\"#636efa\", \"#EF553B\", \"#00cc96\", \"#ab63fa\", \"#FFA15A\", \"#19d3f3\", \"#FF6692\", \"#B6E880\", \"#FF97FF\", \"#FECB52\"], \"font\": {\"color\": \"#2a3f5f\"}, \"geo\": {\"bgcolor\": \"white\", \"lakecolor\": \"white\", \"landcolor\": \"#E5ECF6\", \"showlakes\": true, \"showland\": true, \"subunitcolor\": \"white\"}, \"hoverlabel\": {\"align\": \"left\"}, \"hovermode\": \"closest\", \"mapbox\": {\"style\": \"light\"}, \"paper_bgcolor\": \"white\", \"plot_bgcolor\": \"#E5ECF6\", \"polar\": {\"angularaxis\": {\"gridcolor\": \"white\", \"linecolor\": \"white\", \"ticks\": \"\"}, \"bgcolor\": \"#E5ECF6\", \"radialaxis\": {\"gridcolor\": \"white\", \"linecolor\": \"white\", \"ticks\": \"\"}}, \"scene\": {\"xaxis\": {\"backgroundcolor\": \"#E5ECF6\", \"gridcolor\": \"white\", \"gridwidth\": 2, \"linecolor\": \"white\", \"showbackground\": true, \"ticks\": \"\", \"zerolinecolor\": \"white\"}, \"yaxis\": {\"backgroundcolor\": \"#E5ECF6\", \"gridcolor\": \"white\", \"gridwidth\": 2, \"linecolor\": \"white\", \"showbackground\": true, \"ticks\": \"\", \"zerolinecolor\": \"white\"}, \"zaxis\": {\"backgroundcolor\": \"#E5ECF6\", \"gridcolor\": \"white\", \"gridwidth\": 2, \"linecolor\": \"white\", \"showbackground\": true, \"ticks\": \"\", \"zerolinecolor\": \"white\"}}, \"shapedefaults\": {\"line\": {\"color\": \"#2a3f5f\"}}, \"ternary\": {\"aaxis\": {\"gridcolor\": \"white\", \"linecolor\": \"white\", \"ticks\": \"\"}, \"baxis\": {\"gridcolor\": \"white\", \"linecolor\": \"white\", \"ticks\": \"\"}, \"bgcolor\": \"#E5ECF6\", \"caxis\": {\"gridcolor\": \"white\", \"linecolor\": \"white\", \"ticks\": \"\"}}, \"title\": {\"x\": 0.05}, \"xaxis\": {\"automargin\": true, \"gridcolor\": \"white\", \"linecolor\": \"white\", \"ticks\": \"\", \"title\": {\"standoff\": 15}, \"zerolinecolor\": \"white\", \"zerolinewidth\": 2}, \"yaxis\": {\"automargin\": true, \"gridcolor\": \"white\", \"linecolor\": \"white\", \"ticks\": \"\", \"title\": {\"standoff\": 15}, \"zerolinecolor\": \"white\", \"zerolinewidth\": 2}}}},\n",
       "                        {\"responsive\": true}\n",
       "                    ).then(function(){\n",
       "                            \n",
       "var gd = document.getElementById('230ba69d-446f-486e-b5ab-db3ad916ad3f');\n",
       "var x = new MutationObserver(function (mutations, observer) {{\n",
       "        var display = window.getComputedStyle(gd).display;\n",
       "        if (!display || display === 'none') {{\n",
       "            console.log([gd, 'removed!']);\n",
       "            Plotly.purge(gd);\n",
       "            observer.disconnect();\n",
       "        }}\n",
       "}});\n",
       "\n",
       "// Listen for the removal of the full notebook cells\n",
       "var notebookContainer = gd.closest('#notebook-container');\n",
       "if (notebookContainer) {{\n",
       "    x.observe(notebookContainer, {childList: true});\n",
       "}}\n",
       "\n",
       "// Listen for the clearing of the current output cell\n",
       "var outputEl = gd.closest('.output');\n",
       "if (outputEl) {{\n",
       "    x.observe(outputEl, {childList: true});\n",
       "}}\n",
       "\n",
       "                        })\n",
       "                };\n",
       "                });\n",
       "            </script>\n",
       "        </div>"
      ]
     },
     "metadata": {},
     "output_type": "display_data"
    },
    {
     "data": {
      "text/plain": []
     },
     "execution_count": 113,
     "metadata": {},
     "output_type": "execute_result"
    }
   ],
   "source": [
    "T = 100\n",
    "beta = JumpProcess(5, 0.3, 10, T, 0)\n",
    "gamma = JumpProcess(1, 0.01, 10, T, 0)\n",
    "theta = JumpProcess(2, 0.2, 20, T, 1)\n",
    "dynamic = SIRQt(beta.value, gamma.value, theta.value, 0.03)\n",
    "dynamic"
   ]
  },
  {
   "cell_type": "code",
   "execution_count": 114,
   "metadata": {},
   "outputs": [
    {
     "data": {
      "application/vnd.plotly.v1+json": {
       "config": {
        "plotlyServerURL": "https://plot.ly"
       },
       "data": [
        {
         "hovertemplate": "%{y}",
         "name": "Susceptible",
         "type": "scatter",
         "x": [
          0,
          1,
          2,
          3,
          4,
          5,
          6,
          7,
          8,
          9,
          10,
          11,
          12,
          13,
          14,
          15,
          16,
          17,
          18,
          19,
          20,
          21,
          22,
          23,
          24,
          25,
          26,
          27,
          28,
          29,
          30,
          31,
          32,
          33,
          34,
          35,
          36,
          37,
          38,
          39,
          40,
          41,
          42,
          43,
          44,
          45,
          46,
          47,
          48,
          49,
          50,
          51,
          52,
          53,
          54,
          55,
          56,
          57,
          58,
          59,
          60,
          61,
          62,
          63,
          64,
          65,
          66,
          67,
          68,
          69,
          70,
          71,
          72,
          73,
          74,
          75,
          76,
          77,
          78,
          79,
          80,
          81,
          82,
          83,
          84,
          85,
          86,
          87,
          88,
          89,
          90,
          91,
          92,
          93,
          94,
          95,
          96,
          97,
          98,
          99,
          100
         ],
         "y": [
          99000,
          98851,
          98694,
          98528,
          98353,
          98168,
          97973,
          97767,
          97484,
          97174,
          96835,
          96463,
          96051,
          95596,
          95094,
          94540,
          93931,
          93262,
          92527,
          91723,
          90845,
          89887,
          88846,
          87717,
          86496,
          85181,
          83346,
          81303,
          79046,
          76571,
          73882,
          70988,
          67906,
          63683,
          59150,
          54388,
          49501,
          44607,
          39826,
          35266,
          31017,
          27141,
          24711,
          22534,
          20592,
          18864,
          17331,
          16665,
          16062,
          15515,
          15018,
          14702,
          14413,
          14148,
          13905,
          13683,
          13478,
          13290,
          13117,
          12958,
          12812,
          12676,
          12552,
          12436,
          12330,
          12233,
          12144,
          12087,
          12034,
          11986,
          11943,
          11902,
          11866,
          11833,
          11803,
          11768,
          11737,
          11708,
          11683,
          11660,
          11640,
          11622,
          11606,
          11592,
          11580,
          11570,
          11561,
          11552,
          11545,
          11539,
          11533,
          11528,
          11524,
          11521,
          11518,
          11515,
          11513,
          11510,
          11508,
          11506,
          11504
         ]
        },
        {
         "hovertemplate": "%{y}",
         "name": "Infectious",
         "type": "scatter",
         "x": [
          0,
          1,
          2,
          3,
          4,
          5,
          6,
          7,
          8,
          9,
          10,
          11,
          12,
          13,
          14,
          15,
          16,
          17,
          18,
          19,
          20,
          21,
          22,
          23,
          24,
          25,
          26,
          27,
          28,
          29,
          30,
          31,
          32,
          33,
          34,
          35,
          36,
          37,
          38,
          39,
          40,
          41,
          42,
          43,
          44,
          45,
          46,
          47,
          48,
          49,
          50,
          51,
          52,
          53,
          54,
          55,
          56,
          57,
          58,
          59,
          60,
          61,
          62,
          63,
          64,
          65,
          66,
          67,
          68,
          69,
          70,
          71,
          72,
          73,
          74,
          75,
          76,
          77,
          78,
          79,
          80,
          81,
          82,
          83,
          84,
          85,
          86,
          87,
          88,
          89,
          90,
          91,
          92,
          93,
          94,
          95,
          96,
          97,
          98,
          99,
          100
         ],
         "y": [
          1000,
          1058,
          1120,
          1185,
          1253,
          1325,
          1401,
          1481,
          1630,
          1792,
          1970,
          2188,
          2428,
          2693,
          2984,
          3304,
          3655,
          4038,
          4456,
          4911,
          5405,
          5940,
          6516,
          7134,
          7796,
          8501,
          9668,
          10951,
          12347,
          13851,
          15451,
          17131,
          18867,
          21600,
          24429,
          27264,
          29999,
          32526,
          34740,
          36559,
          37923,
          38807,
          38186,
          37362,
          36367,
          35236,
          34000,
          32015,
          30121,
          28318,
          26606,
          24856,
          23214,
          21675,
          20233,
          18884,
          17621,
          16440,
          15336,
          14304,
          13339,
          12438,
          11596,
          10810,
          9973,
          9200,
          8486,
          7805,
          7178,
          6601,
          6071,
          5513,
          5006,
          4546,
          4128,
          3755,
          3364,
          3013,
          2699,
          2418,
          2126,
          1869,
          1643,
          1444,
          1270,
          1116,
          981,
          862,
          758,
          666,
          586,
          515,
          453,
          397,
          349,
          306,
          269,
          237,
          208,
          183,
          161
         ]
        },
        {
         "hovertemplate": "%{y}",
         "name": "Removed",
         "type": "scatter",
         "x": [
          0,
          1,
          2,
          3,
          4,
          5,
          6,
          7,
          8,
          9,
          10,
          11,
          12,
          13,
          14,
          15,
          16,
          17,
          18,
          19,
          20,
          21,
          22,
          23,
          24,
          25,
          26,
          27,
          28,
          29,
          30,
          31,
          32,
          33,
          34,
          35,
          36,
          37,
          38,
          39,
          40,
          41,
          42,
          43,
          44,
          45,
          46,
          47,
          48,
          49,
          50,
          51,
          52,
          53,
          54,
          55,
          56,
          57,
          58,
          59,
          60,
          61,
          62,
          63,
          64,
          65,
          66,
          67,
          68,
          69,
          70,
          71,
          72,
          73,
          74,
          75,
          76,
          77,
          78,
          79,
          80,
          81,
          82,
          83,
          84,
          85,
          86,
          87,
          88,
          89,
          90,
          91,
          92,
          93,
          94,
          95,
          96,
          97,
          98,
          99,
          100
         ],
         "y": [
          0,
          30,
          61,
          95,
          130,
          168,
          208,
          250,
          295,
          344,
          398,
          458,
          524,
          598,
          680,
          770,
          870,
          981,
          1103,
          1238,
          1387,
          1551,
          1731,
          1928,
          2145,
          2381,
          2641,
          2937,
          3272,
          3650,
          4074,
          4547,
          5071,
          5654,
          6322,
          7077,
          7920,
          8847,
          9852,
          10926,
          12056,
          13228,
          14416,
          15584,
          16728,
          17840,
          18919,
          19938,
          20899,
          21802,
          22651,
          23441,
          24179,
          24868,
          25512,
          26113,
          26674,
          27197,
          27685,
          28140,
          28565,
          28961,
          29330,
          29675,
          29996,
          30292,
          30565,
          30814,
          31044,
          31255,
          31449,
          31627,
          31789,
          31937,
          32070,
          32193,
          32304,
          32404,
          32494,
          32574,
          32646,
          32709,
          32764,
          32813,
          32856,
          32893,
          32927,
          32956,
          32981,
          33004,
          33024,
          33041,
          33056,
          33070,
          33082,
          33092,
          33101,
          33109,
          33116,
          33123,
          33128
         ]
        },
        {
         "hovertemplate": "%{y}",
         "name": "Quarantined",
         "type": "scatter",
         "x": [
          0,
          1,
          2,
          3,
          4,
          5,
          6,
          7,
          8,
          9,
          10,
          11,
          12,
          13,
          14,
          15,
          16,
          17,
          18,
          19,
          20,
          21,
          22,
          23,
          24,
          25,
          26,
          27,
          28,
          29,
          30,
          31,
          32,
          33,
          34,
          35,
          36,
          37,
          38,
          39,
          40,
          41,
          42,
          43,
          44,
          45,
          46,
          47,
          48,
          49,
          50,
          51,
          52,
          53,
          54,
          55,
          56,
          57,
          58,
          59,
          60,
          61,
          62,
          63,
          64,
          65,
          66,
          67,
          68,
          69,
          70,
          71,
          72,
          73,
          74,
          75,
          76,
          77,
          78,
          79,
          80,
          81,
          82,
          83,
          84,
          85,
          86,
          87,
          88,
          89,
          90,
          91,
          92,
          93,
          94,
          95,
          96,
          97,
          98,
          99,
          100
         ],
         "y": [
          0,
          60,
          123,
          190,
          261,
          337,
          416,
          500,
          589,
          687,
          794,
          889,
          994,
          1111,
          1240,
          1383,
          1542,
          1717,
          1911,
          2125,
          2361,
          2620,
          2906,
          3218,
          3561,
          3935,
          4343,
          4807,
          5333,
          5926,
          6590,
          7332,
          8154,
          9060,
          10097,
          11270,
          12578,
          14018,
          15579,
          17247,
          19002,
          20822,
          22685,
          24518,
          26311,
          28057,
          29748,
          31380,
          32917,
          34363,
          35722,
          36999,
          38192,
          39307,
          40347,
          41318,
          42225,
          43071,
          43860,
          44596,
          45283,
          45923,
          46520,
          47077,
          47699,
          48274,
          48804,
          49292,
          49742,
          50156,
          50536,
          50955,
          51336,
          51683,
          51997,
          52282,
          52594,
          52873,
          53123,
          53347,
          53587,
          53799,
          53985,
          54148,
          54292,
          54419,
          54530,
          54627,
          54713,
          54789,
          54855,
          54914,
          54965,
          55010,
          55050,
          55084,
          55115,
          55142,
          55165,
          55186,
          55204
         ]
        },
        {
         "hovertemplate": "%{y}",
         "marker": {
          "symbol": 1
         },
         "mode": "markers",
         "name": "Estimated",
         "type": "scatter",
         "x": [
          10,
          20,
          30,
          40,
          50,
          60,
          70,
          80,
          90
         ],
         "y": [
          2000,
          5700,
          14199.999999999998,
          36000,
          26800,
          13400,
          6000,
          2700,
          899.9999999999999
         ]
        },
        {
         "hovertemplate": "%{y}",
         "marker": {
          "symbol": 3
         },
         "mode": "markers",
         "name": "Resisted",
         "type": "scatter",
         "x": [
          10,
          20,
          30,
          40,
          50,
          60,
          70,
          80,
          90
         ],
         "y": [
          99.205,
          781.104,
          3642.951,
          11663.568,
          20890.025,
          28288.172000000002,
          32546.654000000002,
          31235.276,
          33496.848
         ]
        },
        {
         "hovertemplate": "%{y}",
         "marker": {
          "symbol": 2
         },
         "mode": "markers",
         "name": "Confirmed",
         "type": "scatter",
         "x": [
          10,
          20,
          30,
          40,
          50,
          60,
          70,
          80,
          90
         ],
         "y": [
          753,
          2439,
          6540,
          18878,
          35718,
          45328,
          50593,
          53242,
          54990
         ]
        }
       ],
       "layout": {
        "margin": {
         "b": 0,
         "l": 0,
         "r": 0,
         "t": 25
        },
        "template": {
         "data": {
          "bar": [
           {
            "error_x": {
             "color": "#2a3f5f"
            },
            "error_y": {
             "color": "#2a3f5f"
            },
            "marker": {
             "line": {
              "color": "#E5ECF6",
              "width": 0.5
             }
            },
            "type": "bar"
           }
          ],
          "barpolar": [
           {
            "marker": {
             "line": {
              "color": "#E5ECF6",
              "width": 0.5
             }
            },
            "type": "barpolar"
           }
          ],
          "carpet": [
           {
            "aaxis": {
             "endlinecolor": "#2a3f5f",
             "gridcolor": "white",
             "linecolor": "white",
             "minorgridcolor": "white",
             "startlinecolor": "#2a3f5f"
            },
            "baxis": {
             "endlinecolor": "#2a3f5f",
             "gridcolor": "white",
             "linecolor": "white",
             "minorgridcolor": "white",
             "startlinecolor": "#2a3f5f"
            },
            "type": "carpet"
           }
          ],
          "choropleth": [
           {
            "colorbar": {
             "outlinewidth": 0,
             "ticks": ""
            },
            "type": "choropleth"
           }
          ],
          "contour": [
           {
            "colorbar": {
             "outlinewidth": 0,
             "ticks": ""
            },
            "colorscale": [
             [
              0,
              "#0d0887"
             ],
             [
              0.1111111111111111,
              "#46039f"
             ],
             [
              0.2222222222222222,
              "#7201a8"
             ],
             [
              0.3333333333333333,
              "#9c179e"
             ],
             [
              0.4444444444444444,
              "#bd3786"
             ],
             [
              0.5555555555555556,
              "#d8576b"
             ],
             [
              0.6666666666666666,
              "#ed7953"
             ],
             [
              0.7777777777777778,
              "#fb9f3a"
             ],
             [
              0.8888888888888888,
              "#fdca26"
             ],
             [
              1,
              "#f0f921"
             ]
            ],
            "type": "contour"
           }
          ],
          "contourcarpet": [
           {
            "colorbar": {
             "outlinewidth": 0,
             "ticks": ""
            },
            "type": "contourcarpet"
           }
          ],
          "heatmap": [
           {
            "colorbar": {
             "outlinewidth": 0,
             "ticks": ""
            },
            "colorscale": [
             [
              0,
              "#0d0887"
             ],
             [
              0.1111111111111111,
              "#46039f"
             ],
             [
              0.2222222222222222,
              "#7201a8"
             ],
             [
              0.3333333333333333,
              "#9c179e"
             ],
             [
              0.4444444444444444,
              "#bd3786"
             ],
             [
              0.5555555555555556,
              "#d8576b"
             ],
             [
              0.6666666666666666,
              "#ed7953"
             ],
             [
              0.7777777777777778,
              "#fb9f3a"
             ],
             [
              0.8888888888888888,
              "#fdca26"
             ],
             [
              1,
              "#f0f921"
             ]
            ],
            "type": "heatmap"
           }
          ],
          "heatmapgl": [
           {
            "colorbar": {
             "outlinewidth": 0,
             "ticks": ""
            },
            "colorscale": [
             [
              0,
              "#0d0887"
             ],
             [
              0.1111111111111111,
              "#46039f"
             ],
             [
              0.2222222222222222,
              "#7201a8"
             ],
             [
              0.3333333333333333,
              "#9c179e"
             ],
             [
              0.4444444444444444,
              "#bd3786"
             ],
             [
              0.5555555555555556,
              "#d8576b"
             ],
             [
              0.6666666666666666,
              "#ed7953"
             ],
             [
              0.7777777777777778,
              "#fb9f3a"
             ],
             [
              0.8888888888888888,
              "#fdca26"
             ],
             [
              1,
              "#f0f921"
             ]
            ],
            "type": "heatmapgl"
           }
          ],
          "histogram": [
           {
            "marker": {
             "colorbar": {
              "outlinewidth": 0,
              "ticks": ""
             }
            },
            "type": "histogram"
           }
          ],
          "histogram2d": [
           {
            "colorbar": {
             "outlinewidth": 0,
             "ticks": ""
            },
            "colorscale": [
             [
              0,
              "#0d0887"
             ],
             [
              0.1111111111111111,
              "#46039f"
             ],
             [
              0.2222222222222222,
              "#7201a8"
             ],
             [
              0.3333333333333333,
              "#9c179e"
             ],
             [
              0.4444444444444444,
              "#bd3786"
             ],
             [
              0.5555555555555556,
              "#d8576b"
             ],
             [
              0.6666666666666666,
              "#ed7953"
             ],
             [
              0.7777777777777778,
              "#fb9f3a"
             ],
             [
              0.8888888888888888,
              "#fdca26"
             ],
             [
              1,
              "#f0f921"
             ]
            ],
            "type": "histogram2d"
           }
          ],
          "histogram2dcontour": [
           {
            "colorbar": {
             "outlinewidth": 0,
             "ticks": ""
            },
            "colorscale": [
             [
              0,
              "#0d0887"
             ],
             [
              0.1111111111111111,
              "#46039f"
             ],
             [
              0.2222222222222222,
              "#7201a8"
             ],
             [
              0.3333333333333333,
              "#9c179e"
             ],
             [
              0.4444444444444444,
              "#bd3786"
             ],
             [
              0.5555555555555556,
              "#d8576b"
             ],
             [
              0.6666666666666666,
              "#ed7953"
             ],
             [
              0.7777777777777778,
              "#fb9f3a"
             ],
             [
              0.8888888888888888,
              "#fdca26"
             ],
             [
              1,
              "#f0f921"
             ]
            ],
            "type": "histogram2dcontour"
           }
          ],
          "mesh3d": [
           {
            "colorbar": {
             "outlinewidth": 0,
             "ticks": ""
            },
            "type": "mesh3d"
           }
          ],
          "parcoords": [
           {
            "line": {
             "colorbar": {
              "outlinewidth": 0,
              "ticks": ""
             }
            },
            "type": "parcoords"
           }
          ],
          "pie": [
           {
            "automargin": true,
            "type": "pie"
           }
          ],
          "scatter": [
           {
            "marker": {
             "colorbar": {
              "outlinewidth": 0,
              "ticks": ""
             }
            },
            "type": "scatter"
           }
          ],
          "scatter3d": [
           {
            "line": {
             "colorbar": {
              "outlinewidth": 0,
              "ticks": ""
             }
            },
            "marker": {
             "colorbar": {
              "outlinewidth": 0,
              "ticks": ""
             }
            },
            "type": "scatter3d"
           }
          ],
          "scattercarpet": [
           {
            "marker": {
             "colorbar": {
              "outlinewidth": 0,
              "ticks": ""
             }
            },
            "type": "scattercarpet"
           }
          ],
          "scattergeo": [
           {
            "marker": {
             "colorbar": {
              "outlinewidth": 0,
              "ticks": ""
             }
            },
            "type": "scattergeo"
           }
          ],
          "scattergl": [
           {
            "marker": {
             "colorbar": {
              "outlinewidth": 0,
              "ticks": ""
             }
            },
            "type": "scattergl"
           }
          ],
          "scattermapbox": [
           {
            "marker": {
             "colorbar": {
              "outlinewidth": 0,
              "ticks": ""
             }
            },
            "type": "scattermapbox"
           }
          ],
          "scatterpolar": [
           {
            "marker": {
             "colorbar": {
              "outlinewidth": 0,
              "ticks": ""
             }
            },
            "type": "scatterpolar"
           }
          ],
          "scatterpolargl": [
           {
            "marker": {
             "colorbar": {
              "outlinewidth": 0,
              "ticks": ""
             }
            },
            "type": "scatterpolargl"
           }
          ],
          "scatterternary": [
           {
            "marker": {
             "colorbar": {
              "outlinewidth": 0,
              "ticks": ""
             }
            },
            "type": "scatterternary"
           }
          ],
          "surface": [
           {
            "colorbar": {
             "outlinewidth": 0,
             "ticks": ""
            },
            "colorscale": [
             [
              0,
              "#0d0887"
             ],
             [
              0.1111111111111111,
              "#46039f"
             ],
             [
              0.2222222222222222,
              "#7201a8"
             ],
             [
              0.3333333333333333,
              "#9c179e"
             ],
             [
              0.4444444444444444,
              "#bd3786"
             ],
             [
              0.5555555555555556,
              "#d8576b"
             ],
             [
              0.6666666666666666,
              "#ed7953"
             ],
             [
              0.7777777777777778,
              "#fb9f3a"
             ],
             [
              0.8888888888888888,
              "#fdca26"
             ],
             [
              1,
              "#f0f921"
             ]
            ],
            "type": "surface"
           }
          ],
          "table": [
           {
            "cells": {
             "fill": {
              "color": "#EBF0F8"
             },
             "line": {
              "color": "white"
             }
            },
            "header": {
             "fill": {
              "color": "#C8D4E3"
             },
             "line": {
              "color": "white"
             }
            },
            "type": "table"
           }
          ]
         },
         "layout": {
          "annotationdefaults": {
           "arrowcolor": "#2a3f5f",
           "arrowhead": 0,
           "arrowwidth": 1
          },
          "coloraxis": {
           "colorbar": {
            "outlinewidth": 0,
            "ticks": ""
           }
          },
          "colorscale": {
           "diverging": [
            [
             0,
             "#8e0152"
            ],
            [
             0.1,
             "#c51b7d"
            ],
            [
             0.2,
             "#de77ae"
            ],
            [
             0.3,
             "#f1b6da"
            ],
            [
             0.4,
             "#fde0ef"
            ],
            [
             0.5,
             "#f7f7f7"
            ],
            [
             0.6,
             "#e6f5d0"
            ],
            [
             0.7,
             "#b8e186"
            ],
            [
             0.8,
             "#7fbc41"
            ],
            [
             0.9,
             "#4d9221"
            ],
            [
             1,
             "#276419"
            ]
           ],
           "sequential": [
            [
             0,
             "#0d0887"
            ],
            [
             0.1111111111111111,
             "#46039f"
            ],
            [
             0.2222222222222222,
             "#7201a8"
            ],
            [
             0.3333333333333333,
             "#9c179e"
            ],
            [
             0.4444444444444444,
             "#bd3786"
            ],
            [
             0.5555555555555556,
             "#d8576b"
            ],
            [
             0.6666666666666666,
             "#ed7953"
            ],
            [
             0.7777777777777778,
             "#fb9f3a"
            ],
            [
             0.8888888888888888,
             "#fdca26"
            ],
            [
             1,
             "#f0f921"
            ]
           ],
           "sequentialminus": [
            [
             0,
             "#0d0887"
            ],
            [
             0.1111111111111111,
             "#46039f"
            ],
            [
             0.2222222222222222,
             "#7201a8"
            ],
            [
             0.3333333333333333,
             "#9c179e"
            ],
            [
             0.4444444444444444,
             "#bd3786"
            ],
            [
             0.5555555555555556,
             "#d8576b"
            ],
            [
             0.6666666666666666,
             "#ed7953"
            ],
            [
             0.7777777777777778,
             "#fb9f3a"
            ],
            [
             0.8888888888888888,
             "#fdca26"
            ],
            [
             1,
             "#f0f921"
            ]
           ]
          },
          "colorway": [
           "#636efa",
           "#EF553B",
           "#00cc96",
           "#ab63fa",
           "#FFA15A",
           "#19d3f3",
           "#FF6692",
           "#B6E880",
           "#FF97FF",
           "#FECB52"
          ],
          "font": {
           "color": "#2a3f5f"
          },
          "geo": {
           "bgcolor": "white",
           "lakecolor": "white",
           "landcolor": "#E5ECF6",
           "showlakes": true,
           "showland": true,
           "subunitcolor": "white"
          },
          "hoverlabel": {
           "align": "left"
          },
          "hovermode": "closest",
          "mapbox": {
           "style": "light"
          },
          "paper_bgcolor": "white",
          "plot_bgcolor": "#E5ECF6",
          "polar": {
           "angularaxis": {
            "gridcolor": "white",
            "linecolor": "white",
            "ticks": ""
           },
           "bgcolor": "#E5ECF6",
           "radialaxis": {
            "gridcolor": "white",
            "linecolor": "white",
            "ticks": ""
           }
          },
          "scene": {
           "xaxis": {
            "backgroundcolor": "#E5ECF6",
            "gridcolor": "white",
            "gridwidth": 2,
            "linecolor": "white",
            "showbackground": true,
            "ticks": "",
            "zerolinecolor": "white"
           },
           "yaxis": {
            "backgroundcolor": "#E5ECF6",
            "gridcolor": "white",
            "gridwidth": 2,
            "linecolor": "white",
            "showbackground": true,
            "ticks": "",
            "zerolinecolor": "white"
           },
           "zaxis": {
            "backgroundcolor": "#E5ECF6",
            "gridcolor": "white",
            "gridwidth": 2,
            "linecolor": "white",
            "showbackground": true,
            "ticks": "",
            "zerolinecolor": "white"
           }
          },
          "shapedefaults": {
           "line": {
            "color": "#2a3f5f"
           }
          },
          "ternary": {
           "aaxis": {
            "gridcolor": "white",
            "linecolor": "white",
            "ticks": ""
           },
           "baxis": {
            "gridcolor": "white",
            "linecolor": "white",
            "ticks": ""
           },
           "bgcolor": "#E5ECF6",
           "caxis": {
            "gridcolor": "white",
            "linecolor": "white",
            "ticks": ""
           }
          },
          "title": {
           "x": 0.05
          },
          "xaxis": {
           "automargin": true,
           "gridcolor": "white",
           "linecolor": "white",
           "ticks": "",
           "title": {
            "standoff": 15
           },
           "zerolinecolor": "white",
           "zerolinewidth": 2
          },
          "yaxis": {
           "automargin": true,
           "gridcolor": "white",
           "linecolor": "white",
           "ticks": "",
           "title": {
            "standoff": 15
           },
           "zerolinecolor": "white",
           "zerolinewidth": 2
          }
         }
        }
       }
      },
      "text/html": [
       "<div>\n",
       "        \n",
       "        \n",
       "            <div id=\"d6039cd8-4a56-45f7-a65d-5094a532803a\" class=\"plotly-graph-div\" style=\"height:525px; width:100%;\"></div>\n",
       "            <script type=\"text/javascript\">\n",
       "                require([\"plotly\"], function(Plotly) {\n",
       "                    window.PLOTLYENV=window.PLOTLYENV || {};\n",
       "                    \n",
       "                if (document.getElementById(\"d6039cd8-4a56-45f7-a65d-5094a532803a\")) {\n",
       "                    Plotly.newPlot(\n",
       "                        'd6039cd8-4a56-45f7-a65d-5094a532803a',\n",
       "                        [{\"hovertemplate\": \"%{y}\", \"name\": \"Susceptible\", \"type\": \"scatter\", \"x\": [0, 1, 2, 3, 4, 5, 6, 7, 8, 9, 10, 11, 12, 13, 14, 15, 16, 17, 18, 19, 20, 21, 22, 23, 24, 25, 26, 27, 28, 29, 30, 31, 32, 33, 34, 35, 36, 37, 38, 39, 40, 41, 42, 43, 44, 45, 46, 47, 48, 49, 50, 51, 52, 53, 54, 55, 56, 57, 58, 59, 60, 61, 62, 63, 64, 65, 66, 67, 68, 69, 70, 71, 72, 73, 74, 75, 76, 77, 78, 79, 80, 81, 82, 83, 84, 85, 86, 87, 88, 89, 90, 91, 92, 93, 94, 95, 96, 97, 98, 99, 100], \"y\": [99000, 98851, 98694, 98528, 98353, 98168, 97973, 97767, 97484, 97174, 96835, 96463, 96051, 95596, 95094, 94540, 93931, 93262, 92527, 91723, 90845, 89887, 88846, 87717, 86496, 85181, 83346, 81303, 79046, 76571, 73882, 70988, 67906, 63683, 59150, 54388, 49501, 44607, 39826, 35266, 31017, 27141, 24711, 22534, 20592, 18864, 17331, 16665, 16062, 15515, 15018, 14702, 14413, 14148, 13905, 13683, 13478, 13290, 13117, 12958, 12812, 12676, 12552, 12436, 12330, 12233, 12144, 12087, 12034, 11986, 11943, 11902, 11866, 11833, 11803, 11768, 11737, 11708, 11683, 11660, 11640, 11622, 11606, 11592, 11580, 11570, 11561, 11552, 11545, 11539, 11533, 11528, 11524, 11521, 11518, 11515, 11513, 11510, 11508, 11506, 11504]}, {\"hovertemplate\": \"%{y}\", \"name\": \"Infectious\", \"type\": \"scatter\", \"x\": [0, 1, 2, 3, 4, 5, 6, 7, 8, 9, 10, 11, 12, 13, 14, 15, 16, 17, 18, 19, 20, 21, 22, 23, 24, 25, 26, 27, 28, 29, 30, 31, 32, 33, 34, 35, 36, 37, 38, 39, 40, 41, 42, 43, 44, 45, 46, 47, 48, 49, 50, 51, 52, 53, 54, 55, 56, 57, 58, 59, 60, 61, 62, 63, 64, 65, 66, 67, 68, 69, 70, 71, 72, 73, 74, 75, 76, 77, 78, 79, 80, 81, 82, 83, 84, 85, 86, 87, 88, 89, 90, 91, 92, 93, 94, 95, 96, 97, 98, 99, 100], \"y\": [1000, 1058, 1120, 1185, 1253, 1325, 1401, 1481, 1630, 1792, 1970, 2188, 2428, 2693, 2984, 3304, 3655, 4038, 4456, 4911, 5405, 5940, 6516, 7134, 7796, 8501, 9668, 10951, 12347, 13851, 15451, 17131, 18867, 21600, 24429, 27264, 29999, 32526, 34740, 36559, 37923, 38807, 38186, 37362, 36367, 35236, 34000, 32015, 30121, 28318, 26606, 24856, 23214, 21675, 20233, 18884, 17621, 16440, 15336, 14304, 13339, 12438, 11596, 10810, 9973, 9200, 8486, 7805, 7178, 6601, 6071, 5513, 5006, 4546, 4128, 3755, 3364, 3013, 2699, 2418, 2126, 1869, 1643, 1444, 1270, 1116, 981, 862, 758, 666, 586, 515, 453, 397, 349, 306, 269, 237, 208, 183, 161]}, {\"hovertemplate\": \"%{y}\", \"name\": \"Removed\", \"type\": \"scatter\", \"x\": [0, 1, 2, 3, 4, 5, 6, 7, 8, 9, 10, 11, 12, 13, 14, 15, 16, 17, 18, 19, 20, 21, 22, 23, 24, 25, 26, 27, 28, 29, 30, 31, 32, 33, 34, 35, 36, 37, 38, 39, 40, 41, 42, 43, 44, 45, 46, 47, 48, 49, 50, 51, 52, 53, 54, 55, 56, 57, 58, 59, 60, 61, 62, 63, 64, 65, 66, 67, 68, 69, 70, 71, 72, 73, 74, 75, 76, 77, 78, 79, 80, 81, 82, 83, 84, 85, 86, 87, 88, 89, 90, 91, 92, 93, 94, 95, 96, 97, 98, 99, 100], \"y\": [0, 30, 61, 95, 130, 168, 208, 250, 295, 344, 398, 458, 524, 598, 680, 770, 870, 981, 1103, 1238, 1387, 1551, 1731, 1928, 2145, 2381, 2641, 2937, 3272, 3650, 4074, 4547, 5071, 5654, 6322, 7077, 7920, 8847, 9852, 10926, 12056, 13228, 14416, 15584, 16728, 17840, 18919, 19938, 20899, 21802, 22651, 23441, 24179, 24868, 25512, 26113, 26674, 27197, 27685, 28140, 28565, 28961, 29330, 29675, 29996, 30292, 30565, 30814, 31044, 31255, 31449, 31627, 31789, 31937, 32070, 32193, 32304, 32404, 32494, 32574, 32646, 32709, 32764, 32813, 32856, 32893, 32927, 32956, 32981, 33004, 33024, 33041, 33056, 33070, 33082, 33092, 33101, 33109, 33116, 33123, 33128]}, {\"hovertemplate\": \"%{y}\", \"name\": \"Quarantined\", \"type\": \"scatter\", \"x\": [0, 1, 2, 3, 4, 5, 6, 7, 8, 9, 10, 11, 12, 13, 14, 15, 16, 17, 18, 19, 20, 21, 22, 23, 24, 25, 26, 27, 28, 29, 30, 31, 32, 33, 34, 35, 36, 37, 38, 39, 40, 41, 42, 43, 44, 45, 46, 47, 48, 49, 50, 51, 52, 53, 54, 55, 56, 57, 58, 59, 60, 61, 62, 63, 64, 65, 66, 67, 68, 69, 70, 71, 72, 73, 74, 75, 76, 77, 78, 79, 80, 81, 82, 83, 84, 85, 86, 87, 88, 89, 90, 91, 92, 93, 94, 95, 96, 97, 98, 99, 100], \"y\": [0, 60, 123, 190, 261, 337, 416, 500, 589, 687, 794, 889, 994, 1111, 1240, 1383, 1542, 1717, 1911, 2125, 2361, 2620, 2906, 3218, 3561, 3935, 4343, 4807, 5333, 5926, 6590, 7332, 8154, 9060, 10097, 11270, 12578, 14018, 15579, 17247, 19002, 20822, 22685, 24518, 26311, 28057, 29748, 31380, 32917, 34363, 35722, 36999, 38192, 39307, 40347, 41318, 42225, 43071, 43860, 44596, 45283, 45923, 46520, 47077, 47699, 48274, 48804, 49292, 49742, 50156, 50536, 50955, 51336, 51683, 51997, 52282, 52594, 52873, 53123, 53347, 53587, 53799, 53985, 54148, 54292, 54419, 54530, 54627, 54713, 54789, 54855, 54914, 54965, 55010, 55050, 55084, 55115, 55142, 55165, 55186, 55204]}, {\"hovertemplate\": \"%{y}\", \"marker\": {\"symbol\": 1}, \"mode\": \"markers\", \"name\": \"Estimated\", \"type\": \"scatter\", \"x\": [10, 20, 30, 40, 50, 60, 70, 80, 90], \"y\": [2000.0, 5700.0, 14199.999999999998, 36000.0, 26800.0, 13400.0, 6000.0, 2700.0, 899.9999999999999]}, {\"hovertemplate\": \"%{y}\", \"marker\": {\"symbol\": 3}, \"mode\": \"markers\", \"name\": \"Resisted\", \"type\": \"scatter\", \"x\": [10, 20, 30, 40, 50, 60, 70, 80, 90], \"y\": [99.205, 781.104, 3642.951, 11663.568, 20890.025, 28288.172000000002, 32546.654000000002, 31235.276, 33496.848]}, {\"hovertemplate\": \"%{y}\", \"marker\": {\"symbol\": 2}, \"mode\": \"markers\", \"name\": \"Confirmed\", \"type\": \"scatter\", \"x\": [10, 20, 30, 40, 50, 60, 70, 80, 90], \"y\": [753, 2439, 6540, 18878, 35718, 45328, 50593, 53242, 54990]}],\n",
       "                        {\"margin\": {\"b\": 0, \"l\": 0, \"r\": 0, \"t\": 25}, \"template\": {\"data\": {\"bar\": [{\"error_x\": {\"color\": \"#2a3f5f\"}, \"error_y\": {\"color\": \"#2a3f5f\"}, \"marker\": {\"line\": {\"color\": \"#E5ECF6\", \"width\": 0.5}}, \"type\": \"bar\"}], \"barpolar\": [{\"marker\": {\"line\": {\"color\": \"#E5ECF6\", \"width\": 0.5}}, \"type\": \"barpolar\"}], \"carpet\": [{\"aaxis\": {\"endlinecolor\": \"#2a3f5f\", \"gridcolor\": \"white\", \"linecolor\": \"white\", \"minorgridcolor\": \"white\", \"startlinecolor\": \"#2a3f5f\"}, \"baxis\": {\"endlinecolor\": \"#2a3f5f\", \"gridcolor\": \"white\", \"linecolor\": \"white\", \"minorgridcolor\": \"white\", \"startlinecolor\": \"#2a3f5f\"}, \"type\": \"carpet\"}], \"choropleth\": [{\"colorbar\": {\"outlinewidth\": 0, \"ticks\": \"\"}, \"type\": \"choropleth\"}], \"contour\": [{\"colorbar\": {\"outlinewidth\": 0, \"ticks\": \"\"}, \"colorscale\": [[0.0, \"#0d0887\"], [0.1111111111111111, \"#46039f\"], [0.2222222222222222, \"#7201a8\"], [0.3333333333333333, \"#9c179e\"], [0.4444444444444444, \"#bd3786\"], [0.5555555555555556, \"#d8576b\"], [0.6666666666666666, \"#ed7953\"], [0.7777777777777778, \"#fb9f3a\"], [0.8888888888888888, \"#fdca26\"], [1.0, \"#f0f921\"]], \"type\": \"contour\"}], \"contourcarpet\": [{\"colorbar\": {\"outlinewidth\": 0, \"ticks\": \"\"}, \"type\": \"contourcarpet\"}], \"heatmap\": [{\"colorbar\": {\"outlinewidth\": 0, \"ticks\": \"\"}, \"colorscale\": [[0.0, \"#0d0887\"], [0.1111111111111111, \"#46039f\"], [0.2222222222222222, \"#7201a8\"], [0.3333333333333333, \"#9c179e\"], [0.4444444444444444, \"#bd3786\"], [0.5555555555555556, \"#d8576b\"], [0.6666666666666666, \"#ed7953\"], [0.7777777777777778, \"#fb9f3a\"], [0.8888888888888888, \"#fdca26\"], [1.0, \"#f0f921\"]], \"type\": \"heatmap\"}], \"heatmapgl\": [{\"colorbar\": {\"outlinewidth\": 0, \"ticks\": \"\"}, \"colorscale\": [[0.0, \"#0d0887\"], [0.1111111111111111, \"#46039f\"], [0.2222222222222222, \"#7201a8\"], [0.3333333333333333, \"#9c179e\"], [0.4444444444444444, \"#bd3786\"], [0.5555555555555556, \"#d8576b\"], [0.6666666666666666, \"#ed7953\"], [0.7777777777777778, \"#fb9f3a\"], [0.8888888888888888, \"#fdca26\"], [1.0, \"#f0f921\"]], \"type\": \"heatmapgl\"}], \"histogram\": [{\"marker\": {\"colorbar\": {\"outlinewidth\": 0, \"ticks\": \"\"}}, \"type\": \"histogram\"}], \"histogram2d\": [{\"colorbar\": {\"outlinewidth\": 0, \"ticks\": \"\"}, \"colorscale\": [[0.0, \"#0d0887\"], [0.1111111111111111, \"#46039f\"], [0.2222222222222222, \"#7201a8\"], [0.3333333333333333, \"#9c179e\"], [0.4444444444444444, \"#bd3786\"], [0.5555555555555556, \"#d8576b\"], [0.6666666666666666, \"#ed7953\"], [0.7777777777777778, \"#fb9f3a\"], [0.8888888888888888, \"#fdca26\"], [1.0, \"#f0f921\"]], \"type\": \"histogram2d\"}], \"histogram2dcontour\": [{\"colorbar\": {\"outlinewidth\": 0, \"ticks\": \"\"}, \"colorscale\": [[0.0, \"#0d0887\"], [0.1111111111111111, \"#46039f\"], [0.2222222222222222, \"#7201a8\"], [0.3333333333333333, \"#9c179e\"], [0.4444444444444444, \"#bd3786\"], [0.5555555555555556, \"#d8576b\"], [0.6666666666666666, \"#ed7953\"], [0.7777777777777778, \"#fb9f3a\"], [0.8888888888888888, \"#fdca26\"], [1.0, \"#f0f921\"]], \"type\": \"histogram2dcontour\"}], \"mesh3d\": [{\"colorbar\": {\"outlinewidth\": 0, \"ticks\": \"\"}, \"type\": \"mesh3d\"}], \"parcoords\": [{\"line\": {\"colorbar\": {\"outlinewidth\": 0, \"ticks\": \"\"}}, \"type\": \"parcoords\"}], \"pie\": [{\"automargin\": true, \"type\": \"pie\"}], \"scatter\": [{\"marker\": {\"colorbar\": {\"outlinewidth\": 0, \"ticks\": \"\"}}, \"type\": \"scatter\"}], \"scatter3d\": [{\"line\": {\"colorbar\": {\"outlinewidth\": 0, \"ticks\": \"\"}}, \"marker\": {\"colorbar\": {\"outlinewidth\": 0, \"ticks\": \"\"}}, \"type\": \"scatter3d\"}], \"scattercarpet\": [{\"marker\": {\"colorbar\": {\"outlinewidth\": 0, \"ticks\": \"\"}}, \"type\": \"scattercarpet\"}], \"scattergeo\": [{\"marker\": {\"colorbar\": {\"outlinewidth\": 0, \"ticks\": \"\"}}, \"type\": \"scattergeo\"}], \"scattergl\": [{\"marker\": {\"colorbar\": {\"outlinewidth\": 0, \"ticks\": \"\"}}, \"type\": \"scattergl\"}], \"scattermapbox\": [{\"marker\": {\"colorbar\": {\"outlinewidth\": 0, \"ticks\": \"\"}}, \"type\": \"scattermapbox\"}], \"scatterpolar\": [{\"marker\": {\"colorbar\": {\"outlinewidth\": 0, \"ticks\": \"\"}}, \"type\": \"scatterpolar\"}], \"scatterpolargl\": [{\"marker\": {\"colorbar\": {\"outlinewidth\": 0, \"ticks\": \"\"}}, \"type\": \"scatterpolargl\"}], \"scatterternary\": [{\"marker\": {\"colorbar\": {\"outlinewidth\": 0, \"ticks\": \"\"}}, \"type\": \"scatterternary\"}], \"surface\": [{\"colorbar\": {\"outlinewidth\": 0, \"ticks\": \"\"}, \"colorscale\": [[0.0, \"#0d0887\"], [0.1111111111111111, \"#46039f\"], [0.2222222222222222, \"#7201a8\"], [0.3333333333333333, \"#9c179e\"], [0.4444444444444444, \"#bd3786\"], [0.5555555555555556, \"#d8576b\"], [0.6666666666666666, \"#ed7953\"], [0.7777777777777778, \"#fb9f3a\"], [0.8888888888888888, \"#fdca26\"], [1.0, \"#f0f921\"]], \"type\": \"surface\"}], \"table\": [{\"cells\": {\"fill\": {\"color\": \"#EBF0F8\"}, \"line\": {\"color\": \"white\"}}, \"header\": {\"fill\": {\"color\": \"#C8D4E3\"}, \"line\": {\"color\": \"white\"}}, \"type\": \"table\"}]}, \"layout\": {\"annotationdefaults\": {\"arrowcolor\": \"#2a3f5f\", \"arrowhead\": 0, \"arrowwidth\": 1}, \"coloraxis\": {\"colorbar\": {\"outlinewidth\": 0, \"ticks\": \"\"}}, \"colorscale\": {\"diverging\": [[0, \"#8e0152\"], [0.1, \"#c51b7d\"], [0.2, \"#de77ae\"], [0.3, \"#f1b6da\"], [0.4, \"#fde0ef\"], [0.5, \"#f7f7f7\"], [0.6, \"#e6f5d0\"], [0.7, \"#b8e186\"], [0.8, \"#7fbc41\"], [0.9, \"#4d9221\"], [1, \"#276419\"]], \"sequential\": [[0.0, \"#0d0887\"], [0.1111111111111111, \"#46039f\"], [0.2222222222222222, \"#7201a8\"], [0.3333333333333333, \"#9c179e\"], [0.4444444444444444, \"#bd3786\"], [0.5555555555555556, \"#d8576b\"], [0.6666666666666666, \"#ed7953\"], [0.7777777777777778, \"#fb9f3a\"], [0.8888888888888888, \"#fdca26\"], [1.0, \"#f0f921\"]], \"sequentialminus\": [[0.0, \"#0d0887\"], [0.1111111111111111, \"#46039f\"], [0.2222222222222222, \"#7201a8\"], [0.3333333333333333, \"#9c179e\"], [0.4444444444444444, \"#bd3786\"], [0.5555555555555556, \"#d8576b\"], [0.6666666666666666, \"#ed7953\"], [0.7777777777777778, \"#fb9f3a\"], [0.8888888888888888, \"#fdca26\"], [1.0, \"#f0f921\"]]}, \"colorway\": [\"#636efa\", \"#EF553B\", \"#00cc96\", \"#ab63fa\", \"#FFA15A\", \"#19d3f3\", \"#FF6692\", \"#B6E880\", \"#FF97FF\", \"#FECB52\"], \"font\": {\"color\": \"#2a3f5f\"}, \"geo\": {\"bgcolor\": \"white\", \"lakecolor\": \"white\", \"landcolor\": \"#E5ECF6\", \"showlakes\": true, \"showland\": true, \"subunitcolor\": \"white\"}, \"hoverlabel\": {\"align\": \"left\"}, \"hovermode\": \"closest\", \"mapbox\": {\"style\": \"light\"}, \"paper_bgcolor\": \"white\", \"plot_bgcolor\": \"#E5ECF6\", \"polar\": {\"angularaxis\": {\"gridcolor\": \"white\", \"linecolor\": \"white\", \"ticks\": \"\"}, \"bgcolor\": \"#E5ECF6\", \"radialaxis\": {\"gridcolor\": \"white\", \"linecolor\": \"white\", \"ticks\": \"\"}}, \"scene\": {\"xaxis\": {\"backgroundcolor\": \"#E5ECF6\", \"gridcolor\": \"white\", \"gridwidth\": 2, \"linecolor\": \"white\", \"showbackground\": true, \"ticks\": \"\", \"zerolinecolor\": \"white\"}, \"yaxis\": {\"backgroundcolor\": \"#E5ECF6\", \"gridcolor\": \"white\", \"gridwidth\": 2, \"linecolor\": \"white\", \"showbackground\": true, \"ticks\": \"\", \"zerolinecolor\": \"white\"}, \"zaxis\": {\"backgroundcolor\": \"#E5ECF6\", \"gridcolor\": \"white\", \"gridwidth\": 2, \"linecolor\": \"white\", \"showbackground\": true, \"ticks\": \"\", \"zerolinecolor\": \"white\"}}, \"shapedefaults\": {\"line\": {\"color\": \"#2a3f5f\"}}, \"ternary\": {\"aaxis\": {\"gridcolor\": \"white\", \"linecolor\": \"white\", \"ticks\": \"\"}, \"baxis\": {\"gridcolor\": \"white\", \"linecolor\": \"white\", \"ticks\": \"\"}, \"bgcolor\": \"#E5ECF6\", \"caxis\": {\"gridcolor\": \"white\", \"linecolor\": \"white\", \"ticks\": \"\"}}, \"title\": {\"x\": 0.05}, \"xaxis\": {\"automargin\": true, \"gridcolor\": \"white\", \"linecolor\": \"white\", \"ticks\": \"\", \"title\": {\"standoff\": 15}, \"zerolinecolor\": \"white\", \"zerolinewidth\": 2}, \"yaxis\": {\"automargin\": true, \"gridcolor\": \"white\", \"linecolor\": \"white\", \"ticks\": \"\", \"title\": {\"standoff\": 15}, \"zerolinecolor\": \"white\", \"zerolinewidth\": 2}}}},\n",
       "                        {\"responsive\": true}\n",
       "                    ).then(function(){\n",
       "                            \n",
       "var gd = document.getElementById('d6039cd8-4a56-45f7-a65d-5094a532803a');\n",
       "var x = new MutationObserver(function (mutations, observer) {{\n",
       "        var display = window.getComputedStyle(gd).display;\n",
       "        if (!display || display === 'none') {{\n",
       "            console.log([gd, 'removed!']);\n",
       "            Plotly.purge(gd);\n",
       "            observer.disconnect();\n",
       "        }}\n",
       "}});\n",
       "\n",
       "// Listen for the removal of the full notebook cells\n",
       "var notebookContainer = gd.closest('#notebook-container');\n",
       "if (notebookContainer) {{\n",
       "    x.observe(notebookContainer, {childList: true});\n",
       "}}\n",
       "\n",
       "// Listen for the clearing of the current output cell\n",
       "var outputEl = gd.closest('.output');\n",
       "if (outputEl) {{\n",
       "    x.observe(outputEl, {childList: true});\n",
       "}}\n",
       "\n",
       "                        })\n",
       "                };\n",
       "                });\n",
       "            </script>\n",
       "        </div>"
      ]
     },
     "metadata": {},
     "output_type": "display_data"
    }
   ],
   "source": [
    "city = Region(99000, 1000, 0, 0)\n",
    "epidemic = dynamic.estimate(city)\n",
    "fig = SIRQt.plot(epidemic)\n",
    "sample = Sample(epidemic, np.arange(T//10, T, T//10), 100000*np.ones(9), 1000*np.ones(9), Bin)\n",
    "sample.plot(fig)\n",
    "resisted = Resisted(epidemic, np.arange(T//10, T, T//10), 1000*np.ones(9), Bin)\n",
    "resisted.plot(fig)\n",
    "confirmed = Confirmed(epidemic, np.arange(T//10, T, T//10))\n",
    "confirmed.plot(fig)"
   ]
  },
  {
   "cell_type": "code",
   "execution_count": 106,
   "metadata": {},
   "outputs": [],
   "source": [
    "def loglikely(epidemic, sample=None, resisted=None, confirmed=None, \n",
    "              law_s=Bin, law_r=Bin, law_c=Poi, weight_r=1, weight_c=1, *vargs, verbose=False, **kvargs):\n",
    "    ll = 0\n",
    "\n",
    "    if sample is not None:\n",
    "        ms = sample.m\n",
    "        ns = sample.n\n",
    "        ds = epidemic.I[sample.t] / ms\n",
    "        ks = sample.positive\n",
    "        ll = sum(law_s.loglikely(n, d, k) for n, d, k in zip(ns, ds, ks)) / len(ns)\n",
    "    if verbose:\n",
    "        print('sample', ll)\n",
    "\n",
    "    if resisted is not None:\n",
    "        ms = resisted.m\n",
    "        ns = resisted.n\n",
    "        ds = epidemic.R[resisted.t] / ms\n",
    "        ks = resisted.positive\n",
    "        ll += weight_r * sum(law_s.loglikely(n, d, k) for n, d, k in zip(ns, ds, ks)) / len(ns)\n",
    "    if verbose:\n",
    "        print('resisted', ll)\n",
    "        \n",
    "    if confirmed is not None:\n",
    "        qs = epidemic.Q[confirmed.t]\n",
    "        cs = confirmed.c\n",
    "        ll += weight_c * sum(law_c.loglikely(n, 1, k) for n, k in zip(qs, cs)) / len(qs)\n",
    "    if verbose:\n",
    "        print('confirmed', ll)\n",
    "\n",
    "    return ll\n",
    "\n",
    "\n",
    "def likelihood(epidemic, sample=None, resisted=None, confirmed=None, \n",
    "              law_s=Bin, law_r=Bin, law_c=Poi, weight_r=1, weight_c=1, *vargs, **kvargs):\n",
    "    return np.exp(loglikely(epidemic, sample, resisted, confirmed, \n",
    "                            law_s, law_r, law_c, weight_r, weight_c, *vargs, **kvargs))\n",
    "\n",
    "\n",
    "class InferSIRQt:\n",
    "    def __init__(self, law_s=Bin, law_r=Bin, weight_r=1, law_c=Poi, weight_c=1, \n",
    "                 penalty_b=variation1, weight_b=1, penalty_t=variation1, weight_t=1, algo='map'):\n",
    "        self.law_s = law_s\n",
    "        self.law_r = law_r\n",
    "        self.law_c = law_c\n",
    "        self.weight_r = weight_r\n",
    "        self.weight_c = weight_c\n",
    "        self.penalty_b = penalty_b\n",
    "        self.weight_b = weight_b\n",
    "        self.penalty_t = penalty_t\n",
    "        self.weight_t = weight_t\n",
    "        self.algo = algo\n",
    "        self.dynamic = None\n",
    "        self.walker = None\n",
    "        self.funcval = None\n",
    "        \n",
    "    def self_plot(self, **options):\n",
    "        return self.dynamic.self_plot(**options)\n",
    "    \n",
    "    def __repr__(self):\n",
    "        self.self_plot().show()\n",
    "        return \"Function value={}\".format(self.funcval)\n",
    "\n",
    "    def fit(self, region, sample, confirmed, **options):\n",
    "        if self.algo == \"map\":\n",
    "            self.fit_beta_gamma_theta_map(region, sample, confirmed, **options)\n",
    "        elif self.algo == \"mcmc\":\n",
    "            self.fit_beta_gamma_theta_mh(region, sample, confirmed, **options)\n",
    "            \n",
    "    def fit_beta_gamma_theta_map(self, region, sample, confirmed, **options):        \n",
    "        def func(x):\n",
    "            d = len(x) // 2 + 1\n",
    "            dynamic = SIRQt(x[1:d], x[0], x[d:])\n",
    "            epidemic = dynamic.estimate(region, d-1)\n",
    "            ll = -loglikely(epidemic, sample, resisted, confirmed, \n",
    "                            self.law_s, self.law_r, self.law_c, self.weight_r, self.weight_c, **options)\n",
    "            ll += self.weight_b * self.penalty_b(x[1:d])\n",
    "            ll += self.weight_t * self.penalty_t(x[d:])\n",
    "            return ll\n",
    "        \n",
    "        x0 = np.ones(1 + 2 * max(confirmed.t[-1], sample.t[-1]))\n",
    "        d = len(x0) // 2 + 1\n",
    "        x0[0] = 0.03\n",
    "        x0[1:d] = 0.2\n",
    "        x0[d:] = 0.04\n",
    "        res = minimize(func, x0, method='nelder-mead', options={'xatol': 1e-8, 'disp': True, 'maxiter': 1000000})\n",
    "#        res = dual_annealing(func, np.tile([0, 1], (len(x0), 1)), maxiter=100000, seed=0)\n",
    "        self.dynamic = SIRQt(res.x[1:d], res.x[0], res.x[d:])\n",
    "        self.funcval = res.fun"
   ]
  },
  {
   "cell_type": "code",
   "execution_count": 107,
   "metadata": {},
   "outputs": [
    {
     "name": "stderr",
     "output_type": "stream",
     "text": [
      "/home/zheng/2019-nCoV/hsir/law.py:36: RuntimeWarning:\n",
      "\n",
      "invalid value encountered in log\n",
      "\n"
     ]
    },
    {
     "name": "stdout",
     "output_type": "stream",
     "text": [
      "Optimization terminated successfully.\n",
      "         Current function value: 2911.620930\n",
      "         Iterations: 154\n",
      "         Function evaluations: 284\n"
     ]
    },
    {
     "data": {
      "application/vnd.plotly.v1+json": {
       "config": {
        "plotlyServerURL": "https://plot.ly"
       },
       "data": [
        {
         "name": "log(-loglikely)",
         "showscale": false,
         "type": "contour",
         "x": [
          0.01,
          0.010831631524280023,
          0.01173242414777768,
          0.012708129525529292,
          0.013764977638335682,
          0.014909716571840646,
          0.01614965560376294,
          0.017492711874398423,
          0.018947460938388148,
          0.020523191520530944,
          0.022229964825261943,
          0.024078678778494334,
          0.026081137612015182,
          0.02825012723473889,
          0.03059949687207196,
          0.03314424749466426,
          0.03590062760117447,
          0.03888623696663189,
          0.04212013901883932,
          0.04562298256035173,
          0.04941713361323833,
          0.05352681822847106,
          0.057978277171791374,
          0.06279993347374203,
          0.06802257391368725,
          0.0736795455966163,
          0.07980696887789365,
          0.08644396799550276,
          0.09363292088239417,
          0.10141972975401581,
          0.10985411419875583,
          0.11898992864271016,
          0.12888550621582098,
          0.13960403121500756,
          0.15121394254250484,
          0.1637893706954064,
          0.17741061109663506,
          0.19216463678960968,
          0.2081456537702157,
          0.22545570250193436,
          0.2442053094548651,
          0.2645141928287876,
          0.286512026966378,
          0.31033927033743886,
          0.3361480623809065,
          0.3641031949310675,
          0.3943831644306426,
          0.427181311649226,
          0.46270705618430463,
          0.5011872336272722
         ],
         "y": [
          0.01,
          0.010831631524280023,
          0.01173242414777768,
          0.012708129525529292,
          0.013764977638335682,
          0.014909716571840646,
          0.01614965560376294,
          0.017492711874398423,
          0.018947460938388148,
          0.020523191520530944,
          0.022229964825261943,
          0.024078678778494334,
          0.026081137612015182,
          0.02825012723473889,
          0.03059949687207196,
          0.03314424749466426,
          0.03590062760117447,
          0.03888623696663189,
          0.04212013901883932,
          0.04562298256035173,
          0.04941713361323833,
          0.05352681822847106,
          0.057978277171791374,
          0.06279993347374203,
          0.06802257391368725,
          0.0736795455966163,
          0.07980696887789365,
          0.08644396799550276,
          0.09363292088239417,
          0.10141972975401581,
          0.10985411419875583,
          0.11898992864271016,
          0.12888550621582098,
          0.13960403121500756,
          0.15121394254250484,
          0.1637893706954064,
          0.17741061109663506,
          0.19216463678960968,
          0.2081456537702157,
          0.22545570250193436,
          0.2442053094548651,
          0.2645141928287876,
          0.286512026966378,
          0.31033927033743886,
          0.3361480623809065,
          0.3641031949310675,
          0.3943831644306426,
          0.427181311649226,
          0.46270705618430463,
          0.5011872336272722
         ],
         "z": [
          [
           7.77478889801966,
           7.731706175576588,
           7.686943512505296,
           7.640690007532109,
           7.593212382397265,
           7.544872153960288,
           7.496144564895629,
           7.447638249402343,
           7.40011374639409,
           7.354497821892627,
           7.311889222849599,
           7.273550250872257,
           7.24087798740304,
           7.215349958655882,
           7.19844237201487,
           7.191525153010197,
           7.19574599194606,
           7.211922933981324,
           7.240468106279281,
           7.281361156891583,
           7.334180052296301,
           7.398182866292171,
           7.472422686944074,
           7.555872889129562,
           7.647542298027436,
           7.74656656721253,
           7.852269725276385,
           7.9641955188686815,
           8.082110710275838,
           8.205981877733876,
           8.335923863860604,
           8.472111699244127,
           8.61463748530386,
           8.76327823413689,
           8.917126995574389,
           9.074074042846354,
           9.230341913851854,
           9.380728789733746,
           9.520187696646525,
           9.64596787022291,
           9.758438652561596,
           9.860067610279485,
           9.953864991288457,
           10.042458342196525,
           10.127865494312415,
           10.21158946155086,
           10.294777123033244,
           10.378353547185752,
           10.463121621054059,
           10.549837641202341
          ],
          [
           7.693605416418469,
           7.649491530361592,
           7.603537808640849,
           7.555922782325185,
           7.506906111999536,
           7.456847894562713,
           7.4062304197424815,
           7.355681407408435,
           7.30599676369717,
           7.258159504203384,
           7.213349779524395,
           7.1729392176607005,
           7.138461758767738,
           7.1115539001766175,
           7.093861052218686,
           7.086914230065572,
           7.09199164064157,
           7.109989548548461,
           7.141331118594923,
           7.1859367153640505,
           7.243264615758827,
           7.312412714696244,
           7.392257385186374,
           7.481600550577491,
           7.579300335719254,
           7.684370276973089,
           7.796041943017845,
           7.913792585875003,
           8.037342057057224,
           8.16662213146786,
           8.301717318955824,
           8.442769285520411,
           8.589826105835105,
           8.74260185532502,
           8.900099879737246,
           9.06009490946023,
           9.218701300641033,
           9.370697416835794,
           9.511170369407965,
           9.637605969063017,
           9.75058355091165,
           9.852683495865682,
           9.946951258272065,
           10.036016105102075,
           10.121890124714618,
           10.206071648154406,
           10.289705159983416,
           10.373715071294592,
           10.458904730386697,
           10.546031642334395
          ],
          [
           7.608360268996423,
           7.5631106030601485,
           7.515845264671203,
           7.4667296250831745,
           7.416013646549397,
           7.364053585111537,
           7.311337001037272,
           7.258510218296427,
           7.206406241045049,
           7.156069461567781,
           7.108771307726665,
           7.066008599744068,
           7.0294746411222455,
           7.000993405104401,
           6.982411416164926,
           6.975451310159392,
           6.981544653538061,
           7.001675000737541,
           7.036268283150909,
           7.08516060079613,
           7.147653694873641,
           7.222643856370089,
           7.308791897128645,
           7.404697018384948,
           7.509045042142163,
           7.620715073903369,
           7.738841345301881,
           7.862834827830432,
           7.992371590966089,
           8.127352947740272,
           8.267837444362456,
           8.413936998155243,
           8.56565796438456,
           8.722652031095862,
           8.883831579886992,
           9.046854515795856,
           9.207731436578504,
           9.361237575375737,
           9.502619609902828,
           9.629620467220256,
           9.743036799852991,
           9.845559388358003,
           9.940263554473532,
           10.029775630196411,
           10.11609872493919,
           10.20072440106927,
           10.284793430256347,
           10.369228733612704,
           10.45483359641468,
           10.542366411457602
          ],
          [
           7.518862421966534,
           7.472353925058245,
           7.423634931405088,
           7.37285444595108,
           7.320249389904126,
           7.266168991011358,
           7.211103548256567,
           7.155716903359534,
           7.100880670983754,
           7.047706272364739,
           6.997568029841787,
           6.952107308795679,
           6.913204910110446,
           6.882908532262717,
           6.863306783828952,
           6.856353067734799,
           6.863660880913895,
           6.886310700886008,
           6.9247173662949635,
           6.97859699544376,
           7.047044752638101,
           7.128701439740158,
           7.221964144534153,
           7.325192864549053,
           7.436878064045223,
           7.5557533400650545,
           7.680853434834214,
           7.811526498661273,
           7.947411090448709,
           8.088385124656904,
           8.234487740664193,
           8.385806368258821,
           8.542309077691169,
           8.703586367165268,
           8.868458720726503,
           9.034466489267881,
           9.197522649330724,
           9.352418897247928,
           9.494589211966714,
           9.622054279210646,
           9.735834035881512,
           9.838725847894558,
           9.93382868539146,
           10.023760818245064,
           10.110512880387663,
           10.195567421838891,
           10.280060080289504,
           10.36491138486342,
           10.45092398625103,
           10.538856812517809
          ],
          [
           7.424931935401361,
           7.377020432377114,
           7.326680843574257,
           7.274041787460783,
           7.219322847940646,
           7.162861972004889,
           7.105148570810804,
           7.046861964496564,
           6.988913386679191,
           6.93248737176669,
           6.879074799264556,
           6.830485378098667,
           6.788823031832642,
           6.7564060176255865,
           6.735618559130759,
           6.728695906173172,
           6.73746968381069,
           6.763126880319458,
           6.806048432802446,
           6.865778826394516,
           6.941138045986472,
           7.030441070498949,
           7.131761907044121,
           7.243179723153211,
           7.36296643676335,
           7.489702111436821,
           7.622324342184666,
           7.760126608866999,
           7.902720422924459,
           8.049970774497156,
           8.201906546311116,
           8.358597783723312,
           8.519978879161137,
           8.685580932193112,
           8.854131849767954,
           9.023054318887251,
           9.188171859100112,
           9.344315445339559,
           9.487136268485726,
           9.614953108650722,
           9.729013421146036,
           9.832215762554828,
           9.927675602887131,
           10.017997546472893,
           10.105155997930227,
           10.190622095311515,
           10.27552481856984,
           10.360781332602588,
           10.447193033535983,
           10.535518999608897
          ],
          [
           7.326408179794184,
           7.276925490639978,
           7.224769694130654,
           7.1700439198609836,
           7.112944821823006,
           7.053793323714749,
           6.993072726023454,
           6.931474292789407,
           6.869948890390534,
           6.809760426341792,
           6.752532326502139,
           6.700272119996976,
           6.655352575201767,
           6.6204240737862605,
           6.598237778189652,
           6.5913787556871695,
           6.601943247468897,
           6.6312329407395385,
           6.679557527463416,
           6.746214205366948,
           6.829652882131093,
           6.927770831739621,
           7.0382467271907725,
           7.158833172111897,
           7.287562721231714,
           7.422859760340074,
           7.563574031981932,
           7.708959014170806,
           7.858615029550679,
           8.012408734797996,
           8.170370848942726,
           8.332563086650632,
           8.498891891798381,
           8.668831207848378,
           8.841015812344592,
           9.012751314889703,
           9.179782337809936,
           9.337005479405791,
           9.480321047505862,
           9.608365434943396,
           9.722615702179187,
           9.826064445263546,
           9.921835519621553,
           10.012513789309766,
           10.100053427095945,
           10.185911608339946,
           10.271209030516891,
           10.356858451856661,
           10.44365934491779,
           10.532370519700397
          ],
          [
           7.223160943065533,
           7.171911925229585,
           7.117711607812468,
           7.060631086774087,
           7.0008367242549845,
           6.9386245823258905,
           6.874464288635007,
           6.809053175883727,
           6.7433799297883015,
           6.678793702671068,
           6.617068944828566,
           6.5604477192124415,
           6.51163114747774,
           6.473684226636738,
           6.449822197651021,
           6.443072413610456,
           6.455856286272823,
           6.489594131578748,
           6.544463032868506,
           6.619400533015945,
           6.712354152899366,
           6.8206838436264565,
           6.9415869920647015,
           7.072442697904885,
           7.21103008872699,
           7.355625824985722,
           7.505011312000525,
           7.658423392425885,
           7.815473725054819,
           7.976049964798146,
           8.140199911002426,
           8.307987907276035,
           8.479299106690517,
           8.65355273228353,
           8.829289820126922,
           9.003700288463833,
           9.172463251544258,
           9.33057108371459,
           9.474206793066406,
           9.602342462102932,
           9.716684250056897,
           9.820309722233814,
           9.916342020813847,
           10.007339740002175,
           10.095232584377525,
           10.181461073042598,
           10.26713589886519,
           10.353164301875829,
           10.440343113065364,
           10.529430422200447
          ],
          [
           7.1151052611174554,
           7.061864996064303,
           7.0053550705715,
           6.945606080799186,
           6.882744316081308,
           6.8170301805624325,
           6.7489086253342325,
           6.679073514593509,
           6.608546307430325,
           6.538765747582178,
           6.4716781044575065,
           6.409805820902012,
           6.35625694478489,
           6.314623971565243,
           6.288721853299782,
           6.28214922978568,
           6.2977326933481335,
           6.337004918347329,
           6.3999084979895215,
           6.484851948964227,
           6.589094914969751,
           6.709305972108733,
           6.84210320390277,
           6.984450316405521,
           7.133872901727346,
           7.288523931484434,
           7.447150305619889,
           7.609006683273839,
           7.773746405922298,
           7.941302582706156,
           8.11175843574585,
           8.285193522358261,
           8.461478901789802,
           8.6399813045723,
           8.819147107125476,
           8.996052874860942,
           9.166328941138625,
           9.325097635440093,
           9.468859441985085,
           9.596938025324521,
           9.711265079014803,
           9.814992010693459,
           9.911231171625525,
           10.00250793187189,
           10.090723079825704,
           10.177297654117234,
           10.263330529288138,
           10.349722248942998,
           10.437266236313299,
           10.526719375586584
          ],
          [
           7.002220935348283,
           6.946732450349251,
           6.887607344452992,
           6.824824697999188,
           6.758457643100456,
           6.688715950084361,
           6.616003814452056,
           6.540996365510961,
           6.464737189839796,
           6.388755245871402,
           6.315190762821515,
           6.246903647471153,
           6.187514112457432,
           6.141300283300792,
           6.112871672187837,
           6.1065834571007285,
           6.125774555070121,
           6.172061119121302,
           6.24497940231826,
           6.342149815350439,
           6.459883831506953,
           6.5939649391926505,
           6.7403289230789865,
           6.895499201542383,
           7.056772842617295,
           7.222227235250431,
           7.390627619556605,
           7.561294251907952,
           7.733961048641247,
           7.908636063390499,
           8.085458914621654,
           8.264537971943389,
           8.445737299148657,
           8.628372591092493,
           8.810794048972316,
           8.989968414511116,
           9.161497894941709,
           9.320673094963855,
           9.464347249718585,
           9.592208451772049,
           9.70640684075984,
           9.810154383562411,
           9.90654161830193,
           9.998053357814355,
           10.08655684493742,
           10.173450699557025,
           10.259820080894945,
           10.346557595099016,
           10.434452444986771,
           10.524259791308872
          ],
          [
           6.884577752653216,
           6.826550930685093,
           6.764461961497017,
           6.698224038345015,
           6.627839563819596,
           6.553446805588428,
           6.475385639226155,
           6.394288231408964,
           6.311200065119509,
           6.227733050481681,
           6.146242111419695,
           6.0699947404114605,
           6.003266152690144,
           5.95124746803145,
           5.919632059105147,
           5.913806789794263,
           5.937767888222258,
           5.993137077604235,
           6.0787484286008455,
           6.191032652883844,
           6.3249906040023545,
           6.4752887801261725,
           6.6370907896267894,
           6.806492799225772,
           6.980629623644328,
           7.157584949551373,
           7.336218817125769,
           7.515979628911916,
           7.696729126759288,
           7.878583966101733,
           8.061762709094426,
           8.246416114785859,
           8.432407322514258,
           8.619000948214511,
           8.804448604166517,
           8.985612301100126,
           9.158091370344243,
           9.31738710380483,
           9.460740321476491,
           9.58821237339386,
           9.702160792109106,
           9.805842618744796,
           9.902314681053278,
           9.994013586442877,
           10.08276826066269,
           10.169951873964669,
           10.256633901109609,
           10.343697712553297,
           10.431927434392488,
           10.522075955136227
          ],
          [
           6.762367289713348,
           6.701480006761031,
           6.636035053751023,
           6.565861018852205,
           6.490865974292132,
           6.411087567370247,
           6.3267667909601,
           6.2384546336361035,
           6.147161962247499,
           6.05456068923361,
           5.963233149926771,
           5.876937527184883,
           5.800799913218178,
           5.741260933509992,
           5.705544279627049,
           5.700493754677606,
           5.730959579600939,
           5.798384107545133,
           5.900377578709674,
           6.031552924221857,
           6.185107982969746,
           6.354342487510233,
           6.533609570458083,
           6.71866283745513,
           6.906603508615175,
           7.095647237471646,
           7.284851982486431,
           7.473871190964723,
           7.662748303699734,
           7.851744415636329,
           8.041179341093558,
           8.231258256296938,
           8.421847184763712,
           8.612157251147298,
           8.800337922195176,
           8.983153705199392,
           9.15623162825647,
           9.31532988350527,
           9.45811004917035,
           9.585010491431207,
           9.698580734190065,
           9.80210523078491,
           9.898594436544746,
           9.990428873107614,
           10.07939428417242,
           10.16683529349725,
           10.253803664307362,
           10.341172183447854,
           10.429719004392808,
           10.520194166078657
          ],
          [
           6.635941683665704,
           6.571844751081874,
           6.502612158059601,
           6.427963687556786,
           6.347681549809078,
           6.261662282042907,
           6.169997433613626,
           6.073096902163082,
           5.971872964149579,
           5.868004384744824,
           5.7642907341766385,
           5.665070830989,
           5.576591041215724,
           5.507055696688253,
           5.465940182190067,
           5.462234606336635,
           5.501905090602578,
           5.585789978006032,
           5.7093318435736045,
           5.864344789733427,
           6.041594081021348,
           6.2328096933914905,
           6.431619860947049,
           6.633640655448296,
           6.836154045556747,
           7.037684001692198,
           7.237615188360308,
           7.435893643530774,
           7.63280101432349,
           7.82877744807339,
           8.024263413735085,
           8.219526952626586,
           8.414437010428633,
           8.608145499321502,
           8.79869495628827,
           8.982762590099457,
           9.156039759114343,
           9.314590940070264,
           9.456528460645838,
           9.58266529467326,
           9.69572292225986,
           9.798993482826488,
           9.89542778780144,
           9.987342263860416,
           10.076474572849378,
           10.164137661306139,
           10.251363513442223,
           10.339012944533376,
           10.427857205404486,
           10.518642882976005
          ],
          [
           6.50585861617208,
           6.438186794119248,
           6.364706413272847,
           6.2849976475296305,
           6.198675257217468,
           6.105438942144233,
           6.005157456141727,
           5.898006510804303,
           5.7846899860028,
           5.666783385825267,
           5.547238007848104,
           5.4310466730526645,
           5.325941092410307,
           5.242702411357016,
           5.194289763345981,
           5.193024117422504,
           5.246308804176708,
           5.353394800593786,
           5.5058080342071305,
           5.6910686059400835,
           5.896818384080952,
           6.113217064670296,
           6.333496696570403,
           6.553519657250687,
           6.771065520634588,
           6.985191084365594,
           7.1957537320080025,
           7.40308177097418,
           7.607747408808515,
           7.810398296698325,
           8.011608579670709,
           8.211711590519563,
           8.41057378725851,
           8.607277958067536,
           8.799753922680482,
           8.984605956936337,
           9.15763310210932,
           9.315257593932103,
           9.456067494953206,
           9.581240736396438,
           9.693645946244233,
           9.796561377121838,
           9.892864519333347,
           9.984799690308996,
           10.074051603795679,
           10.161898402168363,
           10.249350203753115,
           10.337254436200796,
           10.426374490583381,
           10.517452878800174
          ],
          [
           6.3729296487973555,
           6.301321756303269,
           6.223127245750321,
           6.137748550570309,
           6.044579452390047,
           5.94304769835702,
           5.832694684007302,
           5.713319529657004,
           5.5852329458075705,
           5.4496916644309525,
           5.3096085012844485,
           5.1706171081513075,
           5.042399376481749,
           4.939643888987445,
           4.881046346990421,
           4.884447405726607,
           4.958958474390502,
           5.099889200137603,
           5.29156514419905,
           5.515113371053977,
           5.754615818506712,
           5.999175477230838,
           6.242360625784739,
           6.480887417759272,
           6.713445254213043,
           6.939875604197938,
           7.160652426102938,
           7.376563830111617,
           7.588511202074099,
           7.797365786177264,
           8.003838041350903,
           8.208320374180932,
           8.410664246777568,
           8.609868599529477,
           8.803744470020563,
           8.988843293720928,
           9.161122292864798,
           9.317413374947927,
           9.456798225928242,
           9.58080187819012,
           9.692410583332737,
           9.794865622768432,
           9.890957335361659,
           9.982850053219796,
           10.072170787002436,
           10.160159794845926,
           10.247803247490774,
           10.335933755195278,
           10.425305873875262,
           10.516657402675337
          ],
          [
           6.238265677731523,
           6.162397423806965,
           6.079055081866875,
           5.987418334624947,
           5.886593972677378,
           5.77564030983174,
           5.653627171902105,
           5.51976540767521,
           5.373669996847218,
           5.215874008203563,
           5.048792050118987,
           4.8784064846663595,
           4.716818152017853,
           4.584859506372949,
           4.51145062485421,
           4.52438958779217,
           4.634125315445697,
           4.826115864330382,
           5.071449181140677,
           5.3426053210131395,
           5.620788915528105,
           5.895565722547125,
           6.162108829760942,
           6.418796000350635,
           6.665677617628503,
           6.903611607351108,
           7.133798546678939,
           7.357532433068572,
           7.576057364918717,
           7.790465271031757,
           8.001591222843137,
           8.209869422577425,
           8.415115400272496,
           8.616224629411992,
           8.810884470461422,
           8.995621262524937,
           9.166608019715943,
           9.321136345068812,
           9.45879006556978,
           9.581414512310475,
           9.692079625344254,
           9.793965579903894,
           9.88976187919378,
           9.981545292702673,
           10.070880570213355,
           10.158967100567297,
           10.24676505847103,
           10.335090810227154,
           10.42468909353519,
           10.51629234958397
          ],
          [
           6.103308738397469,
           6.02294186937414,
           5.934111837129653,
           5.835726651486694,
           5.726530579485683,
           5.60509425049081,
           5.469828622295537,
           5.31905778044463,
           5.151228016113091,
           4.965422631341232,
           4.76254167081309,
           4.547839363007679,
           4.335798296215577,
           4.157126378426869,
           4.060950365640283,
           4.095186254694421,
           4.267707019939485,
           4.53857700879672,
           4.855906576752759,
           5.183579980992917,
           5.503453905951152,
           5.808528351039515,
           6.097296312304554,
           6.370634061532489,
           6.630317598387554,
           6.878359304895555,
           7.116722848316497,
           7.34720202946936,
           7.571361392221769,
           7.790486020833617,
           8.00550649787099,
           8.21686879015863,
           8.424322505279005,
           8.626635939796232,
           8.82137142865655,
           9.005067745325162,
           9.174177624642263,
           9.32649743654783,
           9.462109987755722,
           9.58314477751375,
           9.692717685012559,
           9.793923180256632,
           9.889336732061565,
           9.980940442858182,
           10.070232533448632,
           10.158368685913228,
           10.246281095141685,
           10.334768479594315,
           10.424564780650915,
           10.516396437701877
          ],
          [
           5.969834794315598,
           5.884884787440893,
           5.790409311237018,
           5.684999315443551,
           5.5669615163442,
           5.434252460151899,
           5.284406958721437,
           5.114481525529257,
           4.921076554018372,
           4.700620380768725,
           4.450427454550804,
           4.1719162299447845,
           3.8793106693019563,
           3.6184656494605147,
           3.484402582749144,
           3.5725211001797472,
           3.8652838597261083,
           4.2566685408071505,
           4.6641633484991445,
           5.052654502371076,
           5.412808941136026,
           5.745060967186787,
           6.052789428588637,
           6.339874081558753,
           6.609916674531169,
           6.866047220100853,
           7.1109197451522705,
           7.346754235954386,
           7.575371078248808,
           7.7981935899467345,
           8.01620016732611,
           8.229805356208137,
           8.438654309898078,
           8.641362426073236,
           8.835372638673805,
           9.017285484170799,
           9.183901748908559,
           9.333558918207098,
           9.466821820524164,
           9.586058786102717,
           9.694390986724494,
           9.79480282470758,
           9.889743390114097,
           9.981093668905844,
           10.0702814711555,
           10.15841613832175,
           10.246400000762808,
           10.335012769853277,
           10.424976632158257,
           10.517011393301244
          ],
          [
           5.8399104799412305,
           5.750531624919968,
           5.650550900574573,
           5.538214419153889,
           5.41133843689652,
           5.267164140676286,
           5.102153203357762,
           4.911701975358899,
           4.689758971753924,
           4.4283923793920295,
           4.117657443718928,
           3.7474550185644713,
           3.3187893360753207,
           2.891212815251934,
           2.686189620772377,
           2.9374940524635904,
           3.4671356977103205,
           4.023270152293187,
           4.5254655414673515,
           4.967739763673307,
           5.359784032423683,
           5.712070938619742,
           6.033166336639082,
           6.3297020027737565,
           6.606792758267629,
           6.868426685461216,
           7.117753060131133,
           7.357275025158116,
           7.588963149469506,
           7.814298407975323,
           8.034242190338679,
           8.249122657373501,
           8.458435523916673,
           8.660619269140879,
           8.853014413538094,
           9.032345693041421,
           9.195831289293244,
           9.342373122364826,
           9.472985659946078,
           9.590222281714727,
           9.697167148440515,
           9.796671259339057,
           9.891046218747826,
           9.982066285056572,
           10.071085460036334,
           10.159164372423026,
           10.2471737392596,
           10.335872974535484,
           10.425971587820921,
           10.518182143188955
          ],
          [
           5.715793396645542,
           5.622474761669639,
           5.517562975807908,
           5.398970807273287,
           5.264029563575667,
           5.109251729785957,
           4.929961173048957,
           4.71969426518034,
           4.469186477104921,
           4.164574412081243,
           3.784071615798502,
           3.291897737086443,
           2.6313957727077772,
           1.7835444458654086,
           1.4286028354173257,
           2.286158818454241,
           3.195615539585373,
           3.90524188106846,
           4.47239756747662,
           4.945318891765103,
           5.353418955973705,
           5.714978735432878,
           6.041960636049429,
           6.342592481804905,
           6.622781494208172,
           6.886919973560527,
           7.138359364535942,
           7.379690491445408,
           7.612898392808826,
           7.839422399710315,
           8.060129392774497,
           8.275197836654122,
           8.48392661562438,
           8.684560541593063,
           8.874370974374004,
           9.050282176601831,
           9.209994987805972,
           9.352981575367455,
           9.480657458882298,
           9.5957003477212,
           9.701114962398178,
           9.799597432291506,
           9.893312384064748,
           9.98392275176061,
           10.072705910795417,
           10.16067172549437,
           10.248657725332185,
           10.337401831918642,
           10.427600010679736,
           10.51995701472312
          ],
          [
           5.599786953957743,
           5.503447327128359,
           5.394751540728694,
           5.271356334372585,
           5.13021929120737,
           4.967287358100991,
           4.776989972929025,
           4.551368799098944,
           4.278479367240045,
           3.939187012418617,
           3.4999343645416907,
           2.8933579831581246,
           1.9499285688,
           0,
           0.08512830800158165,
           2.1514568366292486,
           3.2206765423547328,
           3.9552919465692042,
           4.5238256251841165,
           4.993489590984571,
           5.3979076993020705,
           5.7563627210817465,
           6.08098657122762,
           6.379945796138861,
           6.6590268680240925,
           6.922491880597326,
           7.173564612186673,
           7.414709520327418,
           7.647779576940491,
           7.874065649550262,
           8.09425690342091,
           8.308315941794941,
           8.515301276130314,
           8.713261882644415,
           8.899453909043089,
           9.071086642957383,
           9.226398010925807,
           9.36541466954085,
           9.489888838160262,
           9.602557184609106,
           9.706304182615842,
           9.803652334576856,
           9.89661176197083,
           9.986730651469674,
           10.075207602363971,
           10.163000040513618,
           10.25091094752143,
           10.339655680951836,
           10.429915870577126,
           10.522387943594287
          ],
          [
           5.494099997499535,
           5.396168487097952,
           5.285526301020537,
           5.159739886832579,
           5.015651025837123,
           4.849059867273958,
           4.654217184911383,
           4.422974351837662,
           4.143287002165077,
           3.796436932549819,
           3.3516715867587066,
           2.7567029012527473,
           1.941501423752388,
           1.1600936806632347,
           1.7140781605948867,
           2.733606364482654,
           3.534171633554049,
           4.159347147755194,
           4.671476261952934,
           5.107938150589804,
           5.491152870062037,
           5.83534015544058,
           6.150028869804596,
           6.441911105877865,
           6.715869962357995,
           6.975574064233733,
           7.2238291680060245,
           7.4627811754959845,
           7.694016019830045,
           7.918574747750004,
           8.13688833933796,
           8.34864187384562,
           8.552622310200256,
           8.746703526189666,
           8.928203461385115,
           9.094706007151927,
           9.24502186534233,
           9.379691988636358,
           9.500727155000032,
           9.610855971170476,
           9.71280532708748,
           9.808908828769713,
           9.901016826257496,
           9.990560642713135,
           10.078658697633971,
           10.16621473561248,
           10.253996083161374,
           10.342694614624742,
           10.432976930558116,
           10.525530689795128
          ],
          [
           5.400811434254733,
           5.303286759469298,
           5.193301690714052,
           5.068590219915806,
           4.92628521036158,
           4.762709563571847,
           4.573093233454522,
           4.351221640098783,
           4.089132619385957,
           3.777456830355471,
           3.4089652578110545,
           2.9955115681928324,
           2.627319392793668,
           2.5457360963139113,
           2.885572435521234,
           3.4241758217380633,
           3.9651206800657453,
           4.453426517050062,
           4.887008496478428,
           5.274765130757642,
           5.625924148411964,
           5.948051753706078,
           6.247042713601715,
           6.527461829249006,
           6.792868514687811,
           7.046059295123681,
           7.289230392039976,
           7.524071495814641,
           7.751796869639512,
           7.973113413493258,
           8.188124834486711,
           8.396190510527463,
           8.595817415877303,
           8.784755646717734,
           8.960483221061368,
           9.121042499833308,
           9.265825927985286,
           9.395823349712707,
           9.513215843958621,
           9.620658818816885,
           9.72068950186705,
           9.81544147018665,
           9.906602517942378,
           9.995486393116627,
           10.083130740379913,
           10.170384859221262,
           10.257979604530234,
           10.346582630398053,
           10.43684493627189,
           10.529445062567287
          ],
          [
           5.322079192172986,
           5.227571971291861,
           5.121636634514443,
           5.002492861400185,
           4.8680488908562705,
           4.715905082659164,
           4.543469169341774,
           4.348371336340776,
           4.129645648433149,
           3.890777445731116,
           3.6467863830011567,
           3.437099749799779,
           3.3340836949130606,
           3.4092935485175824,
           3.6604883915564703,
           4.014441470485913,
           4.400274371436511,
           4.780232918766652,
           5.1402578299769575,
           5.477345300255479,
           5.792726492085281,
           6.088951752544179,
           6.368761857755461,
           6.634688543035746,
           6.8889362367560585,
           7.133362524490305,
           7.369481944782084,
           7.59845911842784,
           7.821072230836002,
           8.037634467783581,
           8.247872651820565,
           8.450796185309551,
           8.64465739822615,
           8.827168712391943,
           8.996079935092764,
           9.149957265595706,
           9.288750727237515,
           9.413810553403746,
           9.527395020737613,
           9.63202682130314,
           9.730028253047989,
           9.82332632575988,
           9.913446099177142,
           10.001584492999811,
           10.08869863390003,
           10.17558313088658,
           10.262931876080547,
           10.351387777814173,
           10.44158580898895,
           10.534195155649407
          ],
          [
           5.260727794065725,
           5.172490052419233,
           5.07474650811174,
           4.966503482774646,
           4.846849901430251,
           4.715182946149533,
           4.571662638937157,
           4.418090897985929,
           4.259513235418718,
           4.106806620931314,
           3.9797772419691073,
           3.9078201604633502,
           3.922086744079491,
           4.03805232333449,
           4.243945321413362,
           4.5097808326008515,
           4.805271037139256,
           5.109272705245698,
           5.4099358597784155,
           5.701688984611821,
           5.982514289588064,
           6.2522135114320365,
           6.511441099467101,
           6.761194869406418,
           7.002551769420247,
           7.236525644634312,
           7.4639781976289745,
           7.685543070843637,
           7.901537885945,
           8.111850805007021,
           8.315809407430189,
           8.512084146836894,
           8.698740786907985,
           8.873572078648353,
           9.03471000578026,
           9.181277813189132,
           9.313722902501706,
           9.433649749120237,
           9.543302311930617,
           9.645020194402646,
           9.740893451115722,
           9.832640796330969,
           9.921626996160164,
           10.008934352391172,
           10.095440602992092,
           10.181885968671919,
           10.26892724342938,
           10.35718230413199,
           10.447269843559356,
           10.539849594911411
          ],
          [
           5.221255276433114,
           5.143160762550977,
           5.05834001201757,
           4.96675275370524,
           4.868796144160325,
           4.7656298372342984,
           4.659681868465309,
           4.555375383811416,
           4.46001511552608,
           4.384483893401071,
           4.342887560844938,
           4.349969334202127,
           4.416143291766733,
           4.542732150343613,
           4.721313367737789,
           4.937783409715378,
           5.177628644811729,
           5.429170683726701,
           5.684368506825285,
           5.9382785570332794,
           6.188164051341454,
           6.432712296251236,
           6.671469609479779,
           6.904465943304852,
           7.131971147069021,
           7.354331031419835,
           7.571844152675539,
           7.784651001115638,
           7.992616739049235,
           8.195202759085193,
           8.391350700829534,
           8.579449071224833,
           8.757490254313486,
           8.923484059434825,
           9.076033631330077,
           9.214809157203373,
           9.34066151529764,
           9.45533423550986,
           9.5609738484496,
           9.659698492738496,
           9.75335721054772,
           9.843463448580163,
           9.931226636727894,
           10.01761808570599,
           10.103438142222602,
           10.189373505259303,
           10.276044115872512,
           10.364042799835158,
           10.45397191363087,
           10.546481801517432
          ],
          [
           5.211046247850286,
           5.147382536808647,
           5.080361446637946,
           5.010812365897597,
           4.940161101447899,
           4.870680422646513,
           4.805780791950834,
           4.750272454310146,
           4.710443942744046,
           4.693709286775832,
           4.707584489615135,
           4.758025777490943,
           4.847694616930223,
           4.97507505969413,
           5.135005927250261,
           5.320282591345668,
           5.523416557540614,
           5.737849163354346,
           5.958462492509708,
           6.18158614389325,
           6.404761232097597,
           6.626442271656535,
           6.845724022641445,
           7.062119632100221,
           7.2753868745983254,
           7.485388235749287,
           7.691968271494894,
           7.894833824408394,
           8.093429969284138,
           8.2868217314289,
           8.473622943426076,
           8.652048794441509,
           8.820166900479188,
           8.976335764184022,
           9.119676418762605,
           9.25034782602353,
           9.369485135234857,
           9.478857447243879,
           9.580445341750739,
           9.676120885281405,
           9.767491846182837,
           9.855873863345556,
           9.94232828966085,
           10.027720389967119,
           10.112775955084427,
           10.198129596405867,
           10.284365045612088,
           10.372050347219808,
           10.461771687802063,
           10.55417027520392
          ],
          [
           5.241074968481231,
           5.1958947793872845,
           5.150750877139607,
           5.106983706990941,
           5.066445121276602,
           5.031592480440954,
           5.005535569119524,
           4.991980061624036,
           4.995001897518276,
           5.018610423258822,
           5.066134320640108,
           5.13957889961496,
           5.239185020360319,
           5.36338031321848,
           5.509145268128094,
           5.672632228620858,
           5.849802962429918,
           6.036911422260829,
           6.230773458862689,
           6.428853031087075,
           6.629228428857535,
           6.830497488879492,
           7.031661443317544,
           7.232007837925194,
           7.430999173744995,
           7.628165785496146,
           7.8229980998419695,
           8.0148351556068,
           8.202755553695848,
           8.38549669195577,
           8.56145418986828,
           8.728823756962798,
           8.885907317264179,
           9.031508818415347,
           9.165256757460323,
           9.287697243839052,
           9.40011894313971,
           9.504215844614867,
           9.601753154265348,
           9.6943464681083,
           9.783369867127469,
           9.869952507780372,
           9.955016914262721,
           10.03932842433256,
           10.123541890604002,
           10.208241827326992,
           10.293976808726613,
           10.38129067706104,
           10.470753862204882,
           10.562998904208229
          ],
          [
           5.324768151955826,
           5.3006478364807625,
           5.279245346790949,
           5.261935977143352,
           5.250392004046075,
           5.246569771913335,
           5.252649388691998,
           5.270912294413637,
           5.3035528091310296,
           5.352440419332357,
           5.418875064868169,
           5.503395591669293,
           5.605697655736014,
           5.724687337404735,
           5.8586531431572295,
           6.005504443560558,
           6.1630145947000505,
           6.329021138613529,
           6.501560484176685,
           6.678936713205346,
           6.859736941470395,
           7.042809189894697,
           7.227216406825549,
           7.412175631593695,
           7.596986689698214,
           7.780951768320718,
           7.963287186352012,
           8.143033692868123,
           8.318983695960513,
           8.489661141130599,
           8.65340032868284,
           8.808551745159031,
           8.953784504645052,
           9.08838384059101,
           9.212415628755346,
           9.326682528674796,
           9.432501042947496,
           9.531411434457883,
           9.624935281014656,
           9.714434593638659,
           9.80106400912584,
           9.88578063977217,
           9.969379030506614,
           10.052531700865467,
           10.135826886302462,
           10.219801524943579,
           10.304970495252164,
           10.39185434069497,
           10.481008417422302,
           10.573057310989833
          ],
          [
           5.4739026813983696,
           5.470550227878253,
           5.471369809104911,
           5.4774409838630165,
           5.4899585007883,
           5.510194455726307,
           5.53943905939839,
           5.578921050091638,
           5.62971405099908,
           5.692640920349727,
           5.768192224340692,
           5.8564750516724065,
           5.957203344367109,
           6.069731866155037,
           6.193126048071882,
           6.326252864589627,
           6.467875731336097,
           6.61673893340172,
           6.7716322899569406,
           6.931432252900255,
           7.095119762406096,
           7.261777350303713,
           7.430568448213669,
           7.6007013463590445,
           7.771379746012094,
           7.941742622924389,
           8.110799762152215,
           8.277377173072919,
           8.440097620895468,
           8.597428947002955,
           8.747823912529757,
           8.889941034180273,
           9.022887317530987,
           9.146393001582066,
           9.260844396160234,
           9.36716268364714,
           9.466587286901554,
           9.560453710775096,
           9.650032177979673,
           9.736445199936334,
           9.820647307627198,
           9.903440254441946,
           9.985502622064082,
           10.067421998995297,
           10.149724929197074,
           10.232903786828087,
           10.317441618692625,
           10.403836907870835,
           10.492630910816468,
           10.584441246355345
          ],
          [
           5.692776895903169,
           5.706624998753862,
           5.724931935353001,
           5.748416531974358,
           5.777824804729949,
           5.81390361662572,
           5.857367766522288,
           5.908862474005122,
           5.968924583420044,
           6.037946864477732,
           6.116150130198648,
           6.203567241685601,
           6.300041421021689,
           6.405238989577563,
           6.518674276283128,
           6.639742607039251,
           6.767756384479214,
           6.901979348286251,
           7.041654919001621,
           7.186025672991277,
           7.334342103875295,
           7.485859692584833,
           7.639823973912063,
           7.7954440828466725,
           7.951856838755053,
           8.10808665786615,
           8.263012089930225,
           8.41535667073725,
           8.563726054455346,
           8.706708022147854,
           8.843031811099772,
           8.971752954397319,
           9.092405902894017,
           9.205067504553014,
           9.310306047978743,
           9.409038592048486,
           9.50235418010619,
           9.591360899849738,
           9.677087401349349,
           9.760439131371344,
           9.842193216349687,
           9.923014084492788,
           10.003477086937753,
           10.084093319051647,
           10.165333049836544,
           10.247647541221644,
           10.331490258975823,
           10.417339204603133,
           10.505722819491437,
           10.597253049204427
          ],
          [
           5.974946036331438,
           6.000393565618233,
           6.029916536029387,
           6.063967612768706,
           6.103000921920393,
           6.147458396103253,
           6.197754201227626,
           6.2542581127361,
           6.317279026303058,
           6.387049989798145,
           6.463716158011398,
           6.54732685539943,
           6.637832489732599,
           6.735086450914957,
           6.838851456951382,
           6.948809189498247,
           7.064571591146655,
           7.185691927491756,
           7.311673652260025,
           7.441975227281997,
           7.576009326194307,
           7.713135341969489,
           7.852644993871534,
           7.993742400610093,
           8.135522614968558,
           8.276956377588876,
           8.4168928869672,
           8.554094274802637,
           8.6873116225013,
           8.815400408324582,
           8.937455590930881,
           9.052931140199993,
           9.161705702608137,
           9.264070846214832,
           9.3606466236418,
           9.452256075415548,
           9.539799776070002,
           9.62416050647638,
           9.70614805516821,
           9.786478452055407,
           9.86577577996667,
           9.944585668824041,
           10.02339325333463,
           10.102641893719731,
           10.182751368318545,
           10.264135656821743,
           10.347221257509952,
           10.432467610224828,
           10.52039195454077,
           10.611602195233447
          ],
          [
           6.305559604187929,
           6.336967018485027,
           6.371878970771034,
           6.4105914518803075,
           6.453398451209147,
           6.500585120924283,
           6.5524201582341295,
           6.609147703949594,
           6.670979145014422,
           6.738085266581188,
           6.810589207573202,
           6.888560618994865,
           6.972011301372234,
           7.060892412299585,
           7.1550931038447585,
           7.254440198193606,
           7.35869826995916,
           7.467569310916415,
           7.580691050505106,
           7.697633052522302,
           7.817889994879133,
           7.940872195831762,
           8.065894630561836,
           8.192167476313092,
           8.318793462611056,
           8.444779283935647,
           8.569068688495154,
           8.690601946031155,
           8.80839941424412,
           8.921657187002118,
           9.029834075856739,
           9.132706354338902,
           9.230373314555356,
           9.323211908566542,
           9.411795851721658,
           9.496804281542584,
           9.578942812371602,
           9.658889260895249,
           9.737265077390902,
           9.81462676481204,
           9.89146987453761,
           9.968239507309429,
           10.04534348201206,
           10.12316628043394,
           10.202083216018789,
           10.282475126368507,
           10.364744488831834,
           10.449334439236212,
           10.536752974345976,
           10.627605966094558
          ],
          [
           6.666959219044611,
           6.699984345936504,
           6.735989145270754,
           6.775182951258954,
           6.8177739434966,
           6.8639653726131,
           6.9139512920889405,
           6.967911876536443,
           7.026008435710305,
           7.088378253444315,
           7.155129385652138,
           7.226335536099648,
           7.302031089334867,
           7.382206316826584,
           7.466802690013723,
           7.555708144721129,
           7.648752066938946,
           7.745699744536734,
           7.846246102764189,
           7.950008778553147,
           8.056521061277662,
           8.165225984797512,
           8.275473863992717,
           8.386526625511628,
           8.497572941061467,
           8.607757777228194,
           8.716227904250545,
           8.82219099544727,
           8.924980912543246,
           9.024117296624322,
           9.119345929700703,
           9.210649356818765,
           9.298224974920995,
           9.38243737097728,
           9.463758537258267,
           9.54271051563232,
           9.619820580616986,
           9.695592640369593,
           9.770493421118267,
           9.844949559890457,
           9.919351535359203,
           9.994061324119635,
           10.069421880828225,
           10.145767562834623,
           10.223435362630306,
           10.302777354690994,
           10.384175240745513,
           10.468058441820846,
           10.55492803408016,
           10.645390281462548
          ],
          [
           7.042959506525864,
           7.074816785086294,
           7.109217015259895,
           7.146318424794423,
           7.186278582095621,
           7.2292519300536755,
           7.275386916621692,
           7.324822720325623,
           7.37768557750274,
           7.434084724655314,
           7.49410797247529,
           7.557816927024081,
           7.625241868794188,
           7.696376294982715,
           7.771171131196727,
           7.849528638253786,
           7.9312960963569115,
           8.016259467137855,
           8.104137440097073,
           8.194576581719321,
           8.287148714143395,
           8.381352094386518,
           8.47661830684848,
           8.572326803487305,
           8.667828473056995,
           8.76247830361318,
           8.855675139505387,
           8.94690408205906,
           9.035774983431738,
           9.122049733593492,
           9.205652493752707,
           9.286660757394856,
           9.365279964980427,
           9.441808343324523,
           9.516600022246175,
           9.590033076062818,
           9.662486131841675,
           9.734324175623586,
           9.805892206180214,
           9.877514628409704,
           9.949498398968657,
           10.022138467672635,
           10.09572466294782,
           10.170549695813618,
           10.246918385456759,
           10.325158590261289,
           10.40563474436362,
           10.48876546772499,
           10.575047621074406,
           10.665090751306172
          ],
          [
           7.419903108420101,
           7.448996496850767,
           7.480254722683169,
           7.51380087544997,
           7.549757020487162,
           7.588242285528491,
           7.629370593630779,
           7.673248016779156,
           7.719969729237054,
           7.769616546524101,
           7.822251045806021,
           7.877913278185147,
           7.9366161057043305,
           7.998340230051966,
           8.063029031734809,
           8.13058341469031,
           8.20085695833613,
           8.273651819755596,
           8.348715997315804,
           8.42574274238042,
           8.504373044879634,
           8.584202153715692,
           8.664790938521932,
           8.745682471638307,
           8.826423463389123,
           8.906589161563048,
           8.985809202136123,
           9.063790996868862,
           9.14033697910183,
           9.215352736739087,
           9.288844755057298,
           9.36090871681204,
           9.431711273573352,
           9.501469194287864,
           9.57042957290407,
           9.638853651204188,
           9.707005391738253,
           9.775144752739223,
           9.843524926155155,
           9.912392585400617,
           9.981990294185879,
           10.052560482550922,
           10.124350687542078,
           10.19762003688093,
           10.272647227300777,
           10.349740550106134,
           10.429250907877785,
           10.511589352548212,
           10.597251642565007,
           10.686854026024847
          ],
          [
           7.785452315119131,
           7.810902977157603,
           7.838165816430877,
           7.8673358324411184,
           7.8985063040637735,
           7.9317671944578,
           7.967203271300493,
           8.00489192437457,
           8.0449006703862,
           8.087284346939322,
           8.132082015189312,
           8.179313615464755,
           8.228976453852159,
           8.281041642034788,
           8.335450668542356,
           8.39211234639845,
           8.450900456428005,
           8.51165247911402,
           8.574169866548075,
           8.63822032818265,
           8.703542561863953,
           8.769853724712112,
           8.836859682673435,
           8.904267698615897,
           8.971800749020252,
           9.03921218178455,
           9.106299075530005,
           9.172912587253016,
           9.238963890437798,
           9.304425002931104,
           9.36932472201671,
           9.433740751883315,
           9.497789661647136,
           9.561616415840243,
           9.625384919272536,
           9.689270491745916,
           9.75345464232262,
           9.81812209649927,
           9.88345979946744,
           9.949657556694286,
           10.01691002668194,
           10.085419898058447,
           10.155402231542435,
           10.227090117358852,
           10.300742001598726,
           10.376651302139845,
           10.455159324387077,
           10.53667310483703,
           10.621690855427202,
           10.710839550468588
          ],
          [
           8.12727215630051,
           8.148634257381785,
           8.171471333609963,
           8.195855427891408,
           8.221856590013726,
           8.249541629621008,
           8.278972678719994,
           8.31020556210742,
           8.343287983522913,
           8.378257548287277,
           8.415139660290615,
           8.453945352899272,
           8.494669139753588,
           8.537287001993455,
           8.581754661627086,
           8.628006323542753,
           8.675954096142386,
           8.725488315642933,
           8.776478992557504,
           8.828778560341151,
           8.882226026114605,
           8.936652496541027,
           8.991887882159157,
           9.047768388481424,
           9.104144216012834,
           9.160886761266383,
           9.217894585858136,
           9.275097533196869,
           9.332458619034774,
           9.389973656368142,
           9.447668916791716,
           9.505597393978006,
           9.563834362084135,
           9.622472901412923,
           9.681619929935753,
           9.741393092092865,
           9.801918674910524,
           9.863330586000078,
           9.925770353797288,
           9.989388093793615,
           10.054344413316553,
           10.120813290332245,
           10.188986054048122,
           10.259076721387169,
           10.331329119974528,
           10.406026488117456,
           10.48350464651272,
           10.564170498948352,
           10.648528759685426,
           10.737221868042107
          ],
          [
           8.433967983837162,
           8.451196989979453,
           8.469595021933776,
           8.489217417908689,
           8.51011800581918,
           8.532348250237838,
           8.555956292785291,
           8.580985892841522,
           8.607475282791125,
           8.635455961255586,
           8.664951458949291,
           8.695976124738873,
           8.728533993671373,
           8.76261781318861,
           8.798208316899796,
           8.835273844904794,
           8.873770412847902,
           8.913642325267361,
           8.954823409010915,
           8.99723890692719,
           9.040808020051871,
           9.085447020623953,
           9.131072785267639,
           9.177606528765024,
           9.224977468360608,
           9.273126130865501,
           9.322007039972435,
           9.371590590414723,
           9.421864019104031,
           9.472831501668315,
           9.52451351190743,
           9.576945660457753,
           9.630177265555814,
           9.68426990350134,
           9.739296150004408,
           9.795338672323306,
           9.85248978199543,
           9.910851520790462,
           9.97053633454676,
           10.031668392861764,
           10.094385637611035,
           10.15884269137844,
           10.22521483284631,
           10.293703360619451,
           10.364542840092497,
           10.438010996779154,
           10.514442451613958,
           10.594248215930184,
           10.677944123364231,
           10.76619367917464
          ],
          [
           8.698636326064612,
           8.712126451535102,
           8.726532992246023,
           8.741900798306359,
           8.758274135077556,
           8.775696171522497,
           8.794208412947707,
           8.813850084806768,
           8.834657478482718,
           8.856663274986703,
           8.879895868182233,
           8.904378715221302,
           8.930129747945216,
           8.95716088444694,
           8.985477683993835,
           9.01507919006931,
           9.045958004309139,
           9.078100627535843,
           9.111488092171706,
           9.1460968928572,
           9.181900199827012,
           9.218869314335079,
           9.256975300173051,
           9.296190703990748,
           9.336491263861701,
           9.377857503828197,
           9.420276123796139,
           9.463741118450335,
           9.508254592498412,
           9.553827277161988,
           9.600478788313318,
           9.6482376947536,
           9.697141482784787,
           9.74723651018399,
           9.798578041232178,
           9.851230448472863,
           9.905267660771974,
           9.960773935067506,
           10.017845034378597,
           10.076589910322982,
           10.137133018137536,
           10.199617441098246,
           10.264209077468479,
           10.33110226043022,
           10.400527363627567,
           10.472761233968207,
           10.548141765571707,
           10.627088728153929,
           10.710134372794233,
           10.797969944259265
          ],
          [
           8.92162689378255,
           8.93208959439714,
           8.943277261325777,
           8.955228484403396,
           8.967982158546135,
           8.981577207574084,
           8.996052276093225,
           9.011445392878779,
           9.027793611274314,
           9.045132634492424,
           9.063496436296898,
           9.08291689023344,
           9.103423423163978,
           9.125042711091352,
           9.147798436820077,
           9.17171112952931,
           9.196798105477919,
           9.223073526514684,
           9.250548588651066,
           9.279231846698238,
           9.309129673179747,
           9.340246841030359,
           9.37258721090559,
           9.406154496393873,
           9.44095307522685,
           9.476988812727814,
           9.514269865819601,
           9.552807441946223,
           9.592616496634125,
           9.63371636499748,
           9.676131334885362,
           9.719891181258498,
           9.765031691842957,
           9.811595222813564,
           9.859631330550581,
           9.909197532330085,
           9.960360256579515,
           10.013196053900204,
           10.067793155741263,
           10.124253491415445,
           10.182695310266915,
           10.243256610459412,
           10.30609965882427,
           10.37141701351518,
           10.43943966011175,
           10.510448190253786,
           10.584788477320368,
           10.662894202011987,
           10.745320181574108,
           10.832793451099185
          ],
          [
           9.109377872490208,
           9.117591742423189,
           9.12639223581045,
           9.135813733874665,
           9.145891538063408,
           9.156661737171172,
           9.16816105318104,
           9.180426666696048,
           9.193496023779336,
           9.207406627123975,
           9.222195815701996,
           9.237900538351614,
           9.254557128084265,
           9.272201085137276,
           9.290866877851592,
           9.310587771189523,
           9.331395692993869,
           9.353321147808733,
           9.376393187148775,
           9.40063944348993,
           9.426086233010645,
           9.452758729382222,
           9.480681207928546,
           9.509877356569238,
           9.540370647492905,
           9.5721847618449,
           9.605344059165335,
           9.639874084080377,
           9.675802104898702,
           9.713157682225594,
           9.751973270310732,
           9.792284859387593,
           9.83413267358574,
           9.877561946074692,
           9.922623801112175,
           9.969376282083955,
           10.017885576263385,
           10.068227502187687,
           10.120489346201763,
           10.174772163783388,
           10.231193703164687,
           10.289892170387585,
           10.351031147304106,
           10.414806115407844,
           10.481453259976822,
           10.55126158607426,
           10.624589972007122,
           10.701891811363364,
           10.783751742758628,
           10.87094246894344
          ],
          [
           9.270655268900713,
           9.277272565215382,
           9.28437724218935,
           9.29200031534848,
           9.300174062902421,
           9.308931977793012,
           9.318308704772697,
           9.328339962075468,
           9.339062447659702,
           9.350513730516209,
           9.362732128143902,
           9.375756571990417,
           9.38962646341809,
           9.404381523559474,
           9.42006164123361,
           9.436706723858444,
           9.45435655696307,
           9.473050678420764,
           9.492828273838711,
           9.513728099612603,
           9.535788439963401,
           9.559047103826007,
           9.583541466795683,
           9.609308562533693,
           9.636385227199264,
           9.664808299748548,
           9.694614880477763,
           9.725842650146708,
           9.75853025255325,
           9.792717744678596,
           9.82844712061531,
           9.865762918554239,
           9.904712924297936,
           9.945348990308371,
           9.98772799652762,
           10.031912988672516,
           10.077974542242751,
           10.125992417402156,
           10.176057593201495,
           10.22827480239964,
           10.282765735232989,
           10.33967314955153,
           10.399166228279874,
           10.46144768410064,
           10.526763361738713,
           10.595415494828698,
           10.66778145695692,
           10.744341037526544,
           10.825717446615924,
           10.91274143478032
          ],
          [
           9.413442824593458,
           9.418932197263935,
           9.424836466602937,
           9.43118372675784,
           9.43800349077189,
           9.44532669391409,
           9.45318568681672,
           9.461614217504257,
           9.470647401554707,
           9.48032167985554,
           9.490674763707103,
           9.501745567390854,
           9.513574128758663,
           9.526201518909598,
           9.53966974259436,
           9.55402163161173,
           9.569300734118105,
           9.585551203437614,
           9.602817690610914,
           9.621145245528803,
           9.640579232037949,
           9.661165262862138,
           9.68294916054536,
           9.70597695089935,
           9.730294895652664,
           9.7559495711971,
           9.782988000579072,
           9.811457846282034,
           9.84140767200823,
           9.87288728273833,
           9.905948153998747,
           9.940643963711702,
           9.977031243509686,
           10.015170171316859,
           10.055125533817437,
           10.096967896831403,
           10.140775034600606,
           10.186633687042082,
           10.234641739404758,
           10.284910954946016,
           10.337570443685944,
           10.392771127767169,
           10.450691580875354,
           10.511545799968811,
           10.575593754813983,
           10.643156031462995,
           10.714634684421675,
           10.790543823167388,
           10.87155607140306,
           10.958576153137082
          ],
          [
           9.543784012305572,
           9.548459300130945,
           9.553495066624938,
           9.558916845902557,
           9.564751639080901,
           9.57102794913023,
           9.577775809363468,
           9.585026804585702,
           9.592814083954183,
           9.601172364668095,
           9.610137925723514,
           9.619748591140002,
           9.630043702298236,
           9.64106407932852,
           9.65285197186223,
           9.665450999903909,
           9.678906086100056,
           9.693263381267464,
           9.70857018569247,
           9.724874869412648,
           9.74222679543287,
           9.76067625059643,
           9.780274389618947,
           9.801073198592773,
           9.823125485085576,
           9.846484902803612,
           9.871206019700054,
           9.897344439435269,
           9.924956987321147,
           9.954101973422368,
           9.98483954750555,
           10.017232163243454,
           10.051345172795065,
           10.087247578004808,
           10.125012971566463,
           10.164720711389302,
           10.206457385256565,
           10.250318642409152,
           10.296411496529759,
           10.344857244768823,
           10.395795206291574,
           10.449387571595931,
           10.505825787580017,
           10.565339112107212,
           10.628206306921848,
           10.694771993028311,
           10.765470146889776,
           10.840858926561669,
           10.921674239997005,
           11.008915910696881
          ],
          [
           9.665910155615737,
           9.669978888757155,
           9.67436607522218,
           9.679095025477901,
           9.684190507568369,
           9.689678801446867,
           9.695587749970423,
           9.701946805697077,
           9.708787072595292,
           9.716141341767004,
           9.724044120307806,
           9.732531652487605,
           9.741641932540299,
           9.751414708510364,
           9.761891476825854,
           9.773115467559142,
           9.785131620706142,
           9.79798655426763,
           9.811728525457399,
           9.826407386994285,
           9.842074541160011,
           9.858782895122825,
           9.876586821938242,
           9.895542132644637,
           9.91570606597863,
           9.937137303455803,
           9.959896018921208,
           9.984043973212897,
           10.00964466636807,
           10.036763561937772,
           10.065468400613621,
           10.095829623727656,
           10.127920931576663,
           10.161820007391068,
           10.197609445753567,
           10.235377935296057,
           10.275221760914746,
           10.317246712554077,
           10.361570518874654,
           10.408325969580623,
           10.457664957370515,
           10.50976377166794,
           10.56483013204562,
           10.623112695079278,
           10.684914167658611,
           10.750609830173415,
           10.820674442459783,
           10.895722638660214,
           10.976572019516464,
           11.064346556579101
          ],
          [
           9.78274649910591,
           9.786348768053909,
           9.790236212335532,
           9.794430224762412,
           9.798953617857606,
           9.803830690173026,
           9.809087291608822,
           9.814750887058507,
           9.820850617649297,
           9.827417358805349,
           9.834483774337672,
           9.842084365764993,
           9.850255516101983,
           9.859035527423451,
           9.8684646516345,
           9.878585114057088,
           9.889441129693525,
           9.901078912357953,
           9.91354667728874,
           9.926894638379162,
           9.941175001801453,
           9.956441958561602,
           9.972751679420575,
           9.990162316665348,
           10.0087340184268,
           10.028528962643414,
           10.049611419392557,
           10.072047852202473,
           10.095907071189853,
           10.121260453546295,
           10.148182250179152,
           10.176750001428582,
           10.207045090068595,
           10.239153466744806,
           10.273166592319592,
           10.30918265433797,
           10.34730813255803,
           10.387659813568927,
           10.43036739057394,
           10.47557683713485,
           10.523454822188524,
           10.574194552997902,
           10.62802361837568,
           10.685214701103703,
           10.746100516771763,
           10.811095168767991,
           10.880725587284461,
           10.955679472755934,
           11.036881589264276,
           11.125621707803253
          ],
          [
           9.896370210801608,
           9.899604019744746,
           9.903096112387072,
           9.906866233499288,
           9.910935497310255,
           9.915326461104637,
           9.920063199616248,
           9.925171379734893,
           9.930678334987162,
           9.936613139200157,
           9.943006678715976,
           9.94989172249895,
           9.957302989473341,
           9.965277212453831,
           9.973853198093433,
           9.983071882383127,
           9.992976381406244,
           10.003612037290642,
           10.015026459627384,
           10.027269563051185,
           10.040393602222322,
           10.054453206130702,
           10.069505414481249,
           10.085609719939793,
           10.102828121249061,
           10.121225193700944,
           10.140868185220922,
           10.16182714844665,
           10.184175121753615,
           10.207988375321994,
           10.233346742230866,
           10.260334059470473,
           10.289038750061671,
           10.319554585722901,
           10.35198168055429,
           10.386427781244066,
           10.423009940195719,
           10.461856687555443,
           10.503110860791654,
           10.546933313235007,
           10.593507817194736,
           10.64304762189499,
           10.69580435412768,
           10.752080318132467,
           10.81224586768027,
           10.876764593522212,
           10.946231009946308,
           11.02142912901936,
           11.103427835240874,
           11.193745456442294
          ],
          [
           10.008333068839407,
           10.01126982568966,
           10.01444280694664,
           10.017870343967388,
           10.021572083742143,
           10.025569066829204,
           10.029883807463474,
           10.034540375539688,
           10.039564480121316,
           10.044983554078646,
           10.05082683941807,
           10.057125472832768,
           10.06391257098846,
           10.071223315062442,
           10.079095034087926,
           10.087567286727854,
           10.096681941223961,
           10.10648325345105,
           10.117017943268225,
           10.128335269716231,
           10.140487106083135,
           10.153528016473562,
           10.167515336297262,
           10.18250926007406,
           10.198572941174492,
           10.215772609628491,
           10.23417771600205,
           10.253861111647815,
           10.274899278493077,
           10.297372625094198,
           10.321365870180236,
           10.34696854064532,
           10.37427561838544,
           10.403388380179004,
           10.43441548797267,
           10.467474404941719,
           10.502693237810554,
           10.540213141643978,
           10.580191475168391,
           10.622805971529283,
           10.668260305872346,
           10.71679162205409,
           10.768680869507351,
           10.824267276335982,
           10.883969094124701,
           10.948314185980479,
           11.017986700843643,
           11.093901335837131,
           11.17732777350499,
           11.270113319349184
          ],
          [
           10.119874833518795,
           10.122568778613504,
           10.125480682517486,
           10.128627668395916,
           10.132028122604662,
           10.135701775162755,
           10.139669783471545,
           10.14395481914723,
           10.148581157796118,
           10.153574771526081,
           10.158963423955543,
           10.164776767456427,
           10.17104644235402,
           10.17780617781021,
           10.185091894143895,
           10.192941806402313,
           10.201396529099904,
           10.210499182200401,
           10.220295498648532,
           10.230833934079056,
           10.242165779765704,
           10.254345280448437,
           10.26742975942761,
           10.281479754279346,
           10.296559167777945,
           10.312735440172965,
           10.33007975094246,
           10.34866726063806,
           10.36857740659665,
           10.389894270315766,
           10.412707039452084,
           10.437110594098018,
           10.463206255788085,
           10.491102749416868,
           10.520917444153094,
           10.552777961381237,
           10.586824268569211,
           10.623211422246913,
           10.662113188167908,
           10.703726863947375,
           10.748279778688609,
           10.796038179269866,
           10.847319594624508,
           10.902510409736163,
           10.962091497390077,
           11.02667679007517,
           11.097073581550333,
           11.174381340102642,
           11.260163481850014,
           11.35676961032092
          ],
          [
           10.232067967963088,
           10.23456207930001,
           10.237258979624363,
           10.240174766784722,
           10.243326753726361,
           10.246733550474447,
           10.250415150222569,
           10.254393019541798,
           10.258690192703813,
           10.26333137009131,
           10.268343020652255,
           10.273753488344441,
           10.27959310251686,
           10.285894292189946,
           10.292691704233846,
           10.300022325510904,
           10.30792560915585,
           10.316443605327521,
           10.325621096995643,
           10.335505741645164,
           10.346148220213795,
           10.357602395156782,
           10.369925480295096,
           10.383178226097765,
           10.397425125337724,
           10.412734645722592,
           10.429179498240487,
           10.44683695271354,
           10.465789215602992,
           10.486123889713795,
           10.507934541458486,
           10.5313214092658,
           10.5563922972906,
           10.583263712876537,
           10.612062325855739,
           10.642926855201658,
           10.676010527604596,
           10.71148430927196,
           10.749541196486872,
           10.790401978507271,
           10.834323086144748,
           10.881607460037957,
           10.932619904247382,
           10.987809304971227,
           11.047741734170293,
           11.113151549734766,
           11.185023788722553,
           11.264734448337352,
           11.354306538760376,
           11.456922504953981
          ]
         ]
        },
        {
         "name": "optimum",
         "type": "scatter",
         "x": [
          0.02934787973666178
         ],
         "y": [
          0.04583244559688439
         ]
        }
       ],
       "layout": {
        "margin": {
         "b": 0,
         "l": 0,
         "r": 0,
         "t": 25
        },
        "showlegend": false,
        "template": {
         "data": {
          "bar": [
           {
            "error_x": {
             "color": "#2a3f5f"
            },
            "error_y": {
             "color": "#2a3f5f"
            },
            "marker": {
             "line": {
              "color": "#E5ECF6",
              "width": 0.5
             }
            },
            "type": "bar"
           }
          ],
          "barpolar": [
           {
            "marker": {
             "line": {
              "color": "#E5ECF6",
              "width": 0.5
             }
            },
            "type": "barpolar"
           }
          ],
          "carpet": [
           {
            "aaxis": {
             "endlinecolor": "#2a3f5f",
             "gridcolor": "white",
             "linecolor": "white",
             "minorgridcolor": "white",
             "startlinecolor": "#2a3f5f"
            },
            "baxis": {
             "endlinecolor": "#2a3f5f",
             "gridcolor": "white",
             "linecolor": "white",
             "minorgridcolor": "white",
             "startlinecolor": "#2a3f5f"
            },
            "type": "carpet"
           }
          ],
          "choropleth": [
           {
            "colorbar": {
             "outlinewidth": 0,
             "ticks": ""
            },
            "type": "choropleth"
           }
          ],
          "contour": [
           {
            "colorbar": {
             "outlinewidth": 0,
             "ticks": ""
            },
            "colorscale": [
             [
              0,
              "#0d0887"
             ],
             [
              0.1111111111111111,
              "#46039f"
             ],
             [
              0.2222222222222222,
              "#7201a8"
             ],
             [
              0.3333333333333333,
              "#9c179e"
             ],
             [
              0.4444444444444444,
              "#bd3786"
             ],
             [
              0.5555555555555556,
              "#d8576b"
             ],
             [
              0.6666666666666666,
              "#ed7953"
             ],
             [
              0.7777777777777778,
              "#fb9f3a"
             ],
             [
              0.8888888888888888,
              "#fdca26"
             ],
             [
              1,
              "#f0f921"
             ]
            ],
            "type": "contour"
           }
          ],
          "contourcarpet": [
           {
            "colorbar": {
             "outlinewidth": 0,
             "ticks": ""
            },
            "type": "contourcarpet"
           }
          ],
          "heatmap": [
           {
            "colorbar": {
             "outlinewidth": 0,
             "ticks": ""
            },
            "colorscale": [
             [
              0,
              "#0d0887"
             ],
             [
              0.1111111111111111,
              "#46039f"
             ],
             [
              0.2222222222222222,
              "#7201a8"
             ],
             [
              0.3333333333333333,
              "#9c179e"
             ],
             [
              0.4444444444444444,
              "#bd3786"
             ],
             [
              0.5555555555555556,
              "#d8576b"
             ],
             [
              0.6666666666666666,
              "#ed7953"
             ],
             [
              0.7777777777777778,
              "#fb9f3a"
             ],
             [
              0.8888888888888888,
              "#fdca26"
             ],
             [
              1,
              "#f0f921"
             ]
            ],
            "type": "heatmap"
           }
          ],
          "heatmapgl": [
           {
            "colorbar": {
             "outlinewidth": 0,
             "ticks": ""
            },
            "colorscale": [
             [
              0,
              "#0d0887"
             ],
             [
              0.1111111111111111,
              "#46039f"
             ],
             [
              0.2222222222222222,
              "#7201a8"
             ],
             [
              0.3333333333333333,
              "#9c179e"
             ],
             [
              0.4444444444444444,
              "#bd3786"
             ],
             [
              0.5555555555555556,
              "#d8576b"
             ],
             [
              0.6666666666666666,
              "#ed7953"
             ],
             [
              0.7777777777777778,
              "#fb9f3a"
             ],
             [
              0.8888888888888888,
              "#fdca26"
             ],
             [
              1,
              "#f0f921"
             ]
            ],
            "type": "heatmapgl"
           }
          ],
          "histogram": [
           {
            "marker": {
             "colorbar": {
              "outlinewidth": 0,
              "ticks": ""
             }
            },
            "type": "histogram"
           }
          ],
          "histogram2d": [
           {
            "colorbar": {
             "outlinewidth": 0,
             "ticks": ""
            },
            "colorscale": [
             [
              0,
              "#0d0887"
             ],
             [
              0.1111111111111111,
              "#46039f"
             ],
             [
              0.2222222222222222,
              "#7201a8"
             ],
             [
              0.3333333333333333,
              "#9c179e"
             ],
             [
              0.4444444444444444,
              "#bd3786"
             ],
             [
              0.5555555555555556,
              "#d8576b"
             ],
             [
              0.6666666666666666,
              "#ed7953"
             ],
             [
              0.7777777777777778,
              "#fb9f3a"
             ],
             [
              0.8888888888888888,
              "#fdca26"
             ],
             [
              1,
              "#f0f921"
             ]
            ],
            "type": "histogram2d"
           }
          ],
          "histogram2dcontour": [
           {
            "colorbar": {
             "outlinewidth": 0,
             "ticks": ""
            },
            "colorscale": [
             [
              0,
              "#0d0887"
             ],
             [
              0.1111111111111111,
              "#46039f"
             ],
             [
              0.2222222222222222,
              "#7201a8"
             ],
             [
              0.3333333333333333,
              "#9c179e"
             ],
             [
              0.4444444444444444,
              "#bd3786"
             ],
             [
              0.5555555555555556,
              "#d8576b"
             ],
             [
              0.6666666666666666,
              "#ed7953"
             ],
             [
              0.7777777777777778,
              "#fb9f3a"
             ],
             [
              0.8888888888888888,
              "#fdca26"
             ],
             [
              1,
              "#f0f921"
             ]
            ],
            "type": "histogram2dcontour"
           }
          ],
          "mesh3d": [
           {
            "colorbar": {
             "outlinewidth": 0,
             "ticks": ""
            },
            "type": "mesh3d"
           }
          ],
          "parcoords": [
           {
            "line": {
             "colorbar": {
              "outlinewidth": 0,
              "ticks": ""
             }
            },
            "type": "parcoords"
           }
          ],
          "pie": [
           {
            "automargin": true,
            "type": "pie"
           }
          ],
          "scatter": [
           {
            "marker": {
             "colorbar": {
              "outlinewidth": 0,
              "ticks": ""
             }
            },
            "type": "scatter"
           }
          ],
          "scatter3d": [
           {
            "line": {
             "colorbar": {
              "outlinewidth": 0,
              "ticks": ""
             }
            },
            "marker": {
             "colorbar": {
              "outlinewidth": 0,
              "ticks": ""
             }
            },
            "type": "scatter3d"
           }
          ],
          "scattercarpet": [
           {
            "marker": {
             "colorbar": {
              "outlinewidth": 0,
              "ticks": ""
             }
            },
            "type": "scattercarpet"
           }
          ],
          "scattergeo": [
           {
            "marker": {
             "colorbar": {
              "outlinewidth": 0,
              "ticks": ""
             }
            },
            "type": "scattergeo"
           }
          ],
          "scattergl": [
           {
            "marker": {
             "colorbar": {
              "outlinewidth": 0,
              "ticks": ""
             }
            },
            "type": "scattergl"
           }
          ],
          "scattermapbox": [
           {
            "marker": {
             "colorbar": {
              "outlinewidth": 0,
              "ticks": ""
             }
            },
            "type": "scattermapbox"
           }
          ],
          "scatterpolar": [
           {
            "marker": {
             "colorbar": {
              "outlinewidth": 0,
              "ticks": ""
             }
            },
            "type": "scatterpolar"
           }
          ],
          "scatterpolargl": [
           {
            "marker": {
             "colorbar": {
              "outlinewidth": 0,
              "ticks": ""
             }
            },
            "type": "scatterpolargl"
           }
          ],
          "scatterternary": [
           {
            "marker": {
             "colorbar": {
              "outlinewidth": 0,
              "ticks": ""
             }
            },
            "type": "scatterternary"
           }
          ],
          "surface": [
           {
            "colorbar": {
             "outlinewidth": 0,
             "ticks": ""
            },
            "colorscale": [
             [
              0,
              "#0d0887"
             ],
             [
              0.1111111111111111,
              "#46039f"
             ],
             [
              0.2222222222222222,
              "#7201a8"
             ],
             [
              0.3333333333333333,
              "#9c179e"
             ],
             [
              0.4444444444444444,
              "#bd3786"
             ],
             [
              0.5555555555555556,
              "#d8576b"
             ],
             [
              0.6666666666666666,
              "#ed7953"
             ],
             [
              0.7777777777777778,
              "#fb9f3a"
             ],
             [
              0.8888888888888888,
              "#fdca26"
             ],
             [
              1,
              "#f0f921"
             ]
            ],
            "type": "surface"
           }
          ],
          "table": [
           {
            "cells": {
             "fill": {
              "color": "#EBF0F8"
             },
             "line": {
              "color": "white"
             }
            },
            "header": {
             "fill": {
              "color": "#C8D4E3"
             },
             "line": {
              "color": "white"
             }
            },
            "type": "table"
           }
          ]
         },
         "layout": {
          "annotationdefaults": {
           "arrowcolor": "#2a3f5f",
           "arrowhead": 0,
           "arrowwidth": 1
          },
          "coloraxis": {
           "colorbar": {
            "outlinewidth": 0,
            "ticks": ""
           }
          },
          "colorscale": {
           "diverging": [
            [
             0,
             "#8e0152"
            ],
            [
             0.1,
             "#c51b7d"
            ],
            [
             0.2,
             "#de77ae"
            ],
            [
             0.3,
             "#f1b6da"
            ],
            [
             0.4,
             "#fde0ef"
            ],
            [
             0.5,
             "#f7f7f7"
            ],
            [
             0.6,
             "#e6f5d0"
            ],
            [
             0.7,
             "#b8e186"
            ],
            [
             0.8,
             "#7fbc41"
            ],
            [
             0.9,
             "#4d9221"
            ],
            [
             1,
             "#276419"
            ]
           ],
           "sequential": [
            [
             0,
             "#0d0887"
            ],
            [
             0.1111111111111111,
             "#46039f"
            ],
            [
             0.2222222222222222,
             "#7201a8"
            ],
            [
             0.3333333333333333,
             "#9c179e"
            ],
            [
             0.4444444444444444,
             "#bd3786"
            ],
            [
             0.5555555555555556,
             "#d8576b"
            ],
            [
             0.6666666666666666,
             "#ed7953"
            ],
            [
             0.7777777777777778,
             "#fb9f3a"
            ],
            [
             0.8888888888888888,
             "#fdca26"
            ],
            [
             1,
             "#f0f921"
            ]
           ],
           "sequentialminus": [
            [
             0,
             "#0d0887"
            ],
            [
             0.1111111111111111,
             "#46039f"
            ],
            [
             0.2222222222222222,
             "#7201a8"
            ],
            [
             0.3333333333333333,
             "#9c179e"
            ],
            [
             0.4444444444444444,
             "#bd3786"
            ],
            [
             0.5555555555555556,
             "#d8576b"
            ],
            [
             0.6666666666666666,
             "#ed7953"
            ],
            [
             0.7777777777777778,
             "#fb9f3a"
            ],
            [
             0.8888888888888888,
             "#fdca26"
            ],
            [
             1,
             "#f0f921"
            ]
           ]
          },
          "colorway": [
           "#636efa",
           "#EF553B",
           "#00cc96",
           "#ab63fa",
           "#FFA15A",
           "#19d3f3",
           "#FF6692",
           "#B6E880",
           "#FF97FF",
           "#FECB52"
          ],
          "font": {
           "color": "#2a3f5f"
          },
          "geo": {
           "bgcolor": "white",
           "lakecolor": "white",
           "landcolor": "#E5ECF6",
           "showlakes": true,
           "showland": true,
           "subunitcolor": "white"
          },
          "hoverlabel": {
           "align": "left"
          },
          "hovermode": "closest",
          "mapbox": {
           "style": "light"
          },
          "paper_bgcolor": "white",
          "plot_bgcolor": "#E5ECF6",
          "polar": {
           "angularaxis": {
            "gridcolor": "white",
            "linecolor": "white",
            "ticks": ""
           },
           "bgcolor": "#E5ECF6",
           "radialaxis": {
            "gridcolor": "white",
            "linecolor": "white",
            "ticks": ""
           }
          },
          "scene": {
           "xaxis": {
            "backgroundcolor": "#E5ECF6",
            "gridcolor": "white",
            "gridwidth": 2,
            "linecolor": "white",
            "showbackground": true,
            "ticks": "",
            "zerolinecolor": "white"
           },
           "yaxis": {
            "backgroundcolor": "#E5ECF6",
            "gridcolor": "white",
            "gridwidth": 2,
            "linecolor": "white",
            "showbackground": true,
            "ticks": "",
            "zerolinecolor": "white"
           },
           "zaxis": {
            "backgroundcolor": "#E5ECF6",
            "gridcolor": "white",
            "gridwidth": 2,
            "linecolor": "white",
            "showbackground": true,
            "ticks": "",
            "zerolinecolor": "white"
           }
          },
          "shapedefaults": {
           "line": {
            "color": "#2a3f5f"
           }
          },
          "ternary": {
           "aaxis": {
            "gridcolor": "white",
            "linecolor": "white",
            "ticks": ""
           },
           "baxis": {
            "gridcolor": "white",
            "linecolor": "white",
            "ticks": ""
           },
           "bgcolor": "#E5ECF6",
           "caxis": {
            "gridcolor": "white",
            "linecolor": "white",
            "ticks": ""
           }
          },
          "title": {
           "x": 0.05
          },
          "xaxis": {
           "automargin": true,
           "gridcolor": "white",
           "linecolor": "white",
           "ticks": "",
           "title": {
            "standoff": 15
           },
           "zerolinecolor": "white",
           "zerolinewidth": 2
          },
          "yaxis": {
           "automargin": true,
           "gridcolor": "white",
           "linecolor": "white",
           "ticks": "",
           "title": {
            "standoff": 15
           },
           "zerolinecolor": "white",
           "zerolinewidth": 2
          }
         }
        },
        "xaxis": {
         "constrain": "domain",
         "range": [
          -2,
          -0.3
         ],
         "scaleanchor": "y",
         "scaleratio": 1,
         "type": "log"
        },
        "yaxis": {
         "type": "log"
        }
       }
      },
      "text/html": [
       "<div>\n",
       "        \n",
       "        \n",
       "            <div id=\"dd5af1a8-197e-4625-a233-c11912e4a6c8\" class=\"plotly-graph-div\" style=\"height:525px; width:100%;\"></div>\n",
       "            <script type=\"text/javascript\">\n",
       "                require([\"plotly\"], function(Plotly) {\n",
       "                    window.PLOTLYENV=window.PLOTLYENV || {};\n",
       "                    \n",
       "                if (document.getElementById(\"dd5af1a8-197e-4625-a233-c11912e4a6c8\")) {\n",
       "                    Plotly.newPlot(\n",
       "                        'dd5af1a8-197e-4625-a233-c11912e4a6c8',\n",
       "                        [{\"name\": \"log(-loglikely)\", \"showscale\": false, \"type\": \"contour\", \"x\": [0.01, 0.010831631524280023, 0.01173242414777768, 0.012708129525529292, 0.013764977638335682, 0.014909716571840646, 0.01614965560376294, 0.017492711874398423, 0.018947460938388148, 0.020523191520530944, 0.022229964825261943, 0.024078678778494334, 0.026081137612015182, 0.02825012723473889, 0.03059949687207196, 0.03314424749466426, 0.03590062760117447, 0.03888623696663189, 0.04212013901883932, 0.04562298256035173, 0.04941713361323833, 0.05352681822847106, 0.057978277171791374, 0.06279993347374203, 0.06802257391368725, 0.0736795455966163, 0.07980696887789365, 0.08644396799550276, 0.09363292088239417, 0.10141972975401581, 0.10985411419875583, 0.11898992864271016, 0.12888550621582098, 0.13960403121500756, 0.15121394254250484, 0.1637893706954064, 0.17741061109663506, 0.19216463678960968, 0.2081456537702157, 0.22545570250193436, 0.2442053094548651, 0.2645141928287876, 0.286512026966378, 0.31033927033743886, 0.3361480623809065, 0.3641031949310675, 0.3943831644306426, 0.427181311649226, 0.46270705618430463, 0.5011872336272722], \"y\": [0.01, 0.010831631524280023, 0.01173242414777768, 0.012708129525529292, 0.013764977638335682, 0.014909716571840646, 0.01614965560376294, 0.017492711874398423, 0.018947460938388148, 0.020523191520530944, 0.022229964825261943, 0.024078678778494334, 0.026081137612015182, 0.02825012723473889, 0.03059949687207196, 0.03314424749466426, 0.03590062760117447, 0.03888623696663189, 0.04212013901883932, 0.04562298256035173, 0.04941713361323833, 0.05352681822847106, 0.057978277171791374, 0.06279993347374203, 0.06802257391368725, 0.0736795455966163, 0.07980696887789365, 0.08644396799550276, 0.09363292088239417, 0.10141972975401581, 0.10985411419875583, 0.11898992864271016, 0.12888550621582098, 0.13960403121500756, 0.15121394254250484, 0.1637893706954064, 0.17741061109663506, 0.19216463678960968, 0.2081456537702157, 0.22545570250193436, 0.2442053094548651, 0.2645141928287876, 0.286512026966378, 0.31033927033743886, 0.3361480623809065, 0.3641031949310675, 0.3943831644306426, 0.427181311649226, 0.46270705618430463, 0.5011872336272722], \"z\": [[7.77478889801966, 7.731706175576588, 7.686943512505296, 7.640690007532109, 7.593212382397265, 7.544872153960288, 7.496144564895629, 7.447638249402343, 7.40011374639409, 7.354497821892627, 7.311889222849599, 7.273550250872257, 7.24087798740304, 7.215349958655882, 7.19844237201487, 7.191525153010197, 7.19574599194606, 7.211922933981324, 7.240468106279281, 7.281361156891583, 7.334180052296301, 7.398182866292171, 7.472422686944074, 7.555872889129562, 7.647542298027436, 7.74656656721253, 7.852269725276385, 7.9641955188686815, 8.082110710275838, 8.205981877733876, 8.335923863860604, 8.472111699244127, 8.61463748530386, 8.76327823413689, 8.917126995574389, 9.074074042846354, 9.230341913851854, 9.380728789733746, 9.520187696646525, 9.64596787022291, 9.758438652561596, 9.860067610279485, 9.953864991288457, 10.042458342196525, 10.127865494312415, 10.21158946155086, 10.294777123033244, 10.378353547185752, 10.463121621054059, 10.549837641202341], [7.693605416418469, 7.649491530361592, 7.603537808640849, 7.555922782325185, 7.506906111999536, 7.456847894562713, 7.4062304197424815, 7.355681407408435, 7.30599676369717, 7.258159504203384, 7.213349779524395, 7.1729392176607005, 7.138461758767738, 7.1115539001766175, 7.093861052218686, 7.086914230065572, 7.09199164064157, 7.109989548548461, 7.141331118594923, 7.1859367153640505, 7.243264615758827, 7.312412714696244, 7.392257385186374, 7.481600550577491, 7.579300335719254, 7.684370276973089, 7.796041943017845, 7.913792585875003, 8.037342057057224, 8.16662213146786, 8.301717318955824, 8.442769285520411, 8.589826105835105, 8.74260185532502, 8.900099879737246, 9.06009490946023, 9.218701300641033, 9.370697416835794, 9.511170369407965, 9.637605969063017, 9.75058355091165, 9.852683495865682, 9.946951258272065, 10.036016105102075, 10.121890124714618, 10.206071648154406, 10.289705159983416, 10.373715071294592, 10.458904730386697, 10.546031642334395], [7.608360268996423, 7.5631106030601485, 7.515845264671203, 7.4667296250831745, 7.416013646549397, 7.364053585111537, 7.311337001037272, 7.258510218296427, 7.206406241045049, 7.156069461567781, 7.108771307726665, 7.066008599744068, 7.0294746411222455, 7.000993405104401, 6.982411416164926, 6.975451310159392, 6.981544653538061, 7.001675000737541, 7.036268283150909, 7.08516060079613, 7.147653694873641, 7.222643856370089, 7.308791897128645, 7.404697018384948, 7.509045042142163, 7.620715073903369, 7.738841345301881, 7.862834827830432, 7.992371590966089, 8.127352947740272, 8.267837444362456, 8.413936998155243, 8.56565796438456, 8.722652031095862, 8.883831579886992, 9.046854515795856, 9.207731436578504, 9.361237575375737, 9.502619609902828, 9.629620467220256, 9.743036799852991, 9.845559388358003, 9.940263554473532, 10.029775630196411, 10.11609872493919, 10.20072440106927, 10.284793430256347, 10.369228733612704, 10.45483359641468, 10.542366411457602], [7.518862421966534, 7.472353925058245, 7.423634931405088, 7.37285444595108, 7.320249389904126, 7.266168991011358, 7.211103548256567, 7.155716903359534, 7.100880670983754, 7.047706272364739, 6.997568029841787, 6.952107308795679, 6.913204910110446, 6.882908532262717, 6.863306783828952, 6.856353067734799, 6.863660880913895, 6.886310700886008, 6.9247173662949635, 6.97859699544376, 7.047044752638101, 7.128701439740158, 7.221964144534153, 7.325192864549053, 7.436878064045223, 7.5557533400650545, 7.680853434834214, 7.811526498661273, 7.947411090448709, 8.088385124656904, 8.234487740664193, 8.385806368258821, 8.542309077691169, 8.703586367165268, 8.868458720726503, 9.034466489267881, 9.197522649330724, 9.352418897247928, 9.494589211966714, 9.622054279210646, 9.735834035881512, 9.838725847894558, 9.93382868539146, 10.023760818245064, 10.110512880387663, 10.195567421838891, 10.280060080289504, 10.36491138486342, 10.45092398625103, 10.538856812517809], [7.424931935401361, 7.377020432377114, 7.326680843574257, 7.274041787460783, 7.219322847940646, 7.162861972004889, 7.105148570810804, 7.046861964496564, 6.988913386679191, 6.93248737176669, 6.879074799264556, 6.830485378098667, 6.788823031832642, 6.7564060176255865, 6.735618559130759, 6.728695906173172, 6.73746968381069, 6.763126880319458, 6.806048432802446, 6.865778826394516, 6.941138045986472, 7.030441070498949, 7.131761907044121, 7.243179723153211, 7.36296643676335, 7.489702111436821, 7.622324342184666, 7.760126608866999, 7.902720422924459, 8.049970774497156, 8.201906546311116, 8.358597783723312, 8.519978879161137, 8.685580932193112, 8.854131849767954, 9.023054318887251, 9.188171859100112, 9.344315445339559, 9.487136268485726, 9.614953108650722, 9.729013421146036, 9.832215762554828, 9.927675602887131, 10.017997546472893, 10.105155997930227, 10.190622095311515, 10.27552481856984, 10.360781332602588, 10.447193033535983, 10.535518999608897], [7.326408179794184, 7.276925490639978, 7.224769694130654, 7.1700439198609836, 7.112944821823006, 7.053793323714749, 6.993072726023454, 6.931474292789407, 6.869948890390534, 6.809760426341792, 6.752532326502139, 6.700272119996976, 6.655352575201767, 6.6204240737862605, 6.598237778189652, 6.5913787556871695, 6.601943247468897, 6.6312329407395385, 6.679557527463416, 6.746214205366948, 6.829652882131093, 6.927770831739621, 7.0382467271907725, 7.158833172111897, 7.287562721231714, 7.422859760340074, 7.563574031981932, 7.708959014170806, 7.858615029550679, 8.012408734797996, 8.170370848942726, 8.332563086650632, 8.498891891798381, 8.668831207848378, 8.841015812344592, 9.012751314889703, 9.179782337809936, 9.337005479405791, 9.480321047505862, 9.608365434943396, 9.722615702179187, 9.826064445263546, 9.921835519621553, 10.012513789309766, 10.100053427095945, 10.185911608339946, 10.271209030516891, 10.356858451856661, 10.44365934491779, 10.532370519700397], [7.223160943065533, 7.171911925229585, 7.117711607812468, 7.060631086774087, 7.0008367242549845, 6.9386245823258905, 6.874464288635007, 6.809053175883727, 6.7433799297883015, 6.678793702671068, 6.617068944828566, 6.5604477192124415, 6.51163114747774, 6.473684226636738, 6.449822197651021, 6.443072413610456, 6.455856286272823, 6.489594131578748, 6.544463032868506, 6.619400533015945, 6.712354152899366, 6.8206838436264565, 6.9415869920647015, 7.072442697904885, 7.21103008872699, 7.355625824985722, 7.505011312000525, 7.658423392425885, 7.815473725054819, 7.976049964798146, 8.140199911002426, 8.307987907276035, 8.479299106690517, 8.65355273228353, 8.829289820126922, 9.003700288463833, 9.172463251544258, 9.33057108371459, 9.474206793066406, 9.602342462102932, 9.716684250056897, 9.820309722233814, 9.916342020813847, 10.007339740002175, 10.095232584377525, 10.181461073042598, 10.26713589886519, 10.353164301875829, 10.440343113065364, 10.529430422200447], [7.1151052611174554, 7.061864996064303, 7.0053550705715, 6.945606080799186, 6.882744316081308, 6.8170301805624325, 6.7489086253342325, 6.679073514593509, 6.608546307430325, 6.538765747582178, 6.4716781044575065, 6.409805820902012, 6.35625694478489, 6.314623971565243, 6.288721853299782, 6.28214922978568, 6.2977326933481335, 6.337004918347329, 6.3999084979895215, 6.484851948964227, 6.589094914969751, 6.709305972108733, 6.84210320390277, 6.984450316405521, 7.133872901727346, 7.288523931484434, 7.447150305619889, 7.609006683273839, 7.773746405922298, 7.941302582706156, 8.11175843574585, 8.285193522358261, 8.461478901789802, 8.6399813045723, 8.819147107125476, 8.996052874860942, 9.166328941138625, 9.325097635440093, 9.468859441985085, 9.596938025324521, 9.711265079014803, 9.814992010693459, 9.911231171625525, 10.00250793187189, 10.090723079825704, 10.177297654117234, 10.263330529288138, 10.349722248942998, 10.437266236313299, 10.526719375586584], [7.002220935348283, 6.946732450349251, 6.887607344452992, 6.824824697999188, 6.758457643100456, 6.688715950084361, 6.616003814452056, 6.540996365510961, 6.464737189839796, 6.388755245871402, 6.315190762821515, 6.246903647471153, 6.187514112457432, 6.141300283300792, 6.112871672187837, 6.1065834571007285, 6.125774555070121, 6.172061119121302, 6.24497940231826, 6.342149815350439, 6.459883831506953, 6.5939649391926505, 6.7403289230789865, 6.895499201542383, 7.056772842617295, 7.222227235250431, 7.390627619556605, 7.561294251907952, 7.733961048641247, 7.908636063390499, 8.085458914621654, 8.264537971943389, 8.445737299148657, 8.628372591092493, 8.810794048972316, 8.989968414511116, 9.161497894941709, 9.320673094963855, 9.464347249718585, 9.592208451772049, 9.70640684075984, 9.810154383562411, 9.90654161830193, 9.998053357814355, 10.08655684493742, 10.173450699557025, 10.259820080894945, 10.346557595099016, 10.434452444986771, 10.524259791308872], [6.884577752653216, 6.826550930685093, 6.764461961497017, 6.698224038345015, 6.627839563819596, 6.553446805588428, 6.475385639226155, 6.394288231408964, 6.311200065119509, 6.227733050481681, 6.146242111419695, 6.0699947404114605, 6.003266152690144, 5.95124746803145, 5.919632059105147, 5.913806789794263, 5.937767888222258, 5.993137077604235, 6.0787484286008455, 6.191032652883844, 6.3249906040023545, 6.4752887801261725, 6.6370907896267894, 6.806492799225772, 6.980629623644328, 7.157584949551373, 7.336218817125769, 7.515979628911916, 7.696729126759288, 7.878583966101733, 8.061762709094426, 8.246416114785859, 8.432407322514258, 8.619000948214511, 8.804448604166517, 8.985612301100126, 9.158091370344243, 9.31738710380483, 9.460740321476491, 9.58821237339386, 9.702160792109106, 9.805842618744796, 9.902314681053278, 9.994013586442877, 10.08276826066269, 10.169951873964669, 10.256633901109609, 10.343697712553297, 10.431927434392488, 10.522075955136227], [6.762367289713348, 6.701480006761031, 6.636035053751023, 6.565861018852205, 6.490865974292132, 6.411087567370247, 6.3267667909601, 6.2384546336361035, 6.147161962247499, 6.05456068923361, 5.963233149926771, 5.876937527184883, 5.800799913218178, 5.741260933509992, 5.705544279627049, 5.700493754677606, 5.730959579600939, 5.798384107545133, 5.900377578709674, 6.031552924221857, 6.185107982969746, 6.354342487510233, 6.533609570458083, 6.71866283745513, 6.906603508615175, 7.095647237471646, 7.284851982486431, 7.473871190964723, 7.662748303699734, 7.851744415636329, 8.041179341093558, 8.231258256296938, 8.421847184763712, 8.612157251147298, 8.800337922195176, 8.983153705199392, 9.15623162825647, 9.31532988350527, 9.45811004917035, 9.585010491431207, 9.698580734190065, 9.80210523078491, 9.898594436544746, 9.990428873107614, 10.07939428417242, 10.16683529349725, 10.253803664307362, 10.341172183447854, 10.429719004392808, 10.520194166078657], [6.635941683665704, 6.571844751081874, 6.502612158059601, 6.427963687556786, 6.347681549809078, 6.261662282042907, 6.169997433613626, 6.073096902163082, 5.971872964149579, 5.868004384744824, 5.7642907341766385, 5.665070830989, 5.576591041215724, 5.507055696688253, 5.465940182190067, 5.462234606336635, 5.501905090602578, 5.585789978006032, 5.7093318435736045, 5.864344789733427, 6.041594081021348, 6.2328096933914905, 6.431619860947049, 6.633640655448296, 6.836154045556747, 7.037684001692198, 7.237615188360308, 7.435893643530774, 7.63280101432349, 7.82877744807339, 8.024263413735085, 8.219526952626586, 8.414437010428633, 8.608145499321502, 8.79869495628827, 8.982762590099457, 9.156039759114343, 9.314590940070264, 9.456528460645838, 9.58266529467326, 9.69572292225986, 9.798993482826488, 9.89542778780144, 9.987342263860416, 10.076474572849378, 10.164137661306139, 10.251363513442223, 10.339012944533376, 10.427857205404486, 10.518642882976005], [6.50585861617208, 6.438186794119248, 6.364706413272847, 6.2849976475296305, 6.198675257217468, 6.105438942144233, 6.005157456141727, 5.898006510804303, 5.7846899860028, 5.666783385825267, 5.547238007848104, 5.4310466730526645, 5.325941092410307, 5.242702411357016, 5.194289763345981, 5.193024117422504, 5.246308804176708, 5.353394800593786, 5.5058080342071305, 5.6910686059400835, 5.896818384080952, 6.113217064670296, 6.333496696570403, 6.553519657250687, 6.771065520634588, 6.985191084365594, 7.1957537320080025, 7.40308177097418, 7.607747408808515, 7.810398296698325, 8.011608579670709, 8.211711590519563, 8.41057378725851, 8.607277958067536, 8.799753922680482, 8.984605956936337, 9.15763310210932, 9.315257593932103, 9.456067494953206, 9.581240736396438, 9.693645946244233, 9.796561377121838, 9.892864519333347, 9.984799690308996, 10.074051603795679, 10.161898402168363, 10.249350203753115, 10.337254436200796, 10.426374490583381, 10.517452878800174], [6.3729296487973555, 6.301321756303269, 6.223127245750321, 6.137748550570309, 6.044579452390047, 5.94304769835702, 5.832694684007302, 5.713319529657004, 5.5852329458075705, 5.4496916644309525, 5.3096085012844485, 5.1706171081513075, 5.042399376481749, 4.939643888987445, 4.881046346990421, 4.884447405726607, 4.958958474390502, 5.099889200137603, 5.29156514419905, 5.515113371053977, 5.754615818506712, 5.999175477230838, 6.242360625784739, 6.480887417759272, 6.713445254213043, 6.939875604197938, 7.160652426102938, 7.376563830111617, 7.588511202074099, 7.797365786177264, 8.003838041350903, 8.208320374180932, 8.410664246777568, 8.609868599529477, 8.803744470020563, 8.988843293720928, 9.161122292864798, 9.317413374947927, 9.456798225928242, 9.58080187819012, 9.692410583332737, 9.794865622768432, 9.890957335361659, 9.982850053219796, 10.072170787002436, 10.160159794845926, 10.247803247490774, 10.335933755195278, 10.425305873875262, 10.516657402675337], [6.238265677731523, 6.162397423806965, 6.079055081866875, 5.987418334624947, 5.886593972677378, 5.77564030983174, 5.653627171902105, 5.51976540767521, 5.373669996847218, 5.215874008203563, 5.048792050118987, 4.8784064846663595, 4.716818152017853, 4.584859506372949, 4.51145062485421, 4.52438958779217, 4.634125315445697, 4.826115864330382, 5.071449181140677, 5.3426053210131395, 5.620788915528105, 5.895565722547125, 6.162108829760942, 6.418796000350635, 6.665677617628503, 6.903611607351108, 7.133798546678939, 7.357532433068572, 7.576057364918717, 7.790465271031757, 8.001591222843137, 8.209869422577425, 8.415115400272496, 8.616224629411992, 8.810884470461422, 8.995621262524937, 9.166608019715943, 9.321136345068812, 9.45879006556978, 9.581414512310475, 9.692079625344254, 9.793965579903894, 9.88976187919378, 9.981545292702673, 10.070880570213355, 10.158967100567297, 10.24676505847103, 10.335090810227154, 10.42468909353519, 10.51629234958397], [6.103308738397469, 6.02294186937414, 5.934111837129653, 5.835726651486694, 5.726530579485683, 5.60509425049081, 5.469828622295537, 5.31905778044463, 5.151228016113091, 4.965422631341232, 4.76254167081309, 4.547839363007679, 4.335798296215577, 4.157126378426869, 4.060950365640283, 4.095186254694421, 4.267707019939485, 4.53857700879672, 4.855906576752759, 5.183579980992917, 5.503453905951152, 5.808528351039515, 6.097296312304554, 6.370634061532489, 6.630317598387554, 6.878359304895555, 7.116722848316497, 7.34720202946936, 7.571361392221769, 7.790486020833617, 8.00550649787099, 8.21686879015863, 8.424322505279005, 8.626635939796232, 8.82137142865655, 9.005067745325162, 9.174177624642263, 9.32649743654783, 9.462109987755722, 9.58314477751375, 9.692717685012559, 9.793923180256632, 9.889336732061565, 9.980940442858182, 10.070232533448632, 10.158368685913228, 10.246281095141685, 10.334768479594315, 10.424564780650915, 10.516396437701877], [5.969834794315598, 5.884884787440893, 5.790409311237018, 5.684999315443551, 5.5669615163442, 5.434252460151899, 5.284406958721437, 5.114481525529257, 4.921076554018372, 4.700620380768725, 4.450427454550804, 4.1719162299447845, 3.8793106693019563, 3.6184656494605147, 3.484402582749144, 3.5725211001797472, 3.8652838597261083, 4.2566685408071505, 4.6641633484991445, 5.052654502371076, 5.412808941136026, 5.745060967186787, 6.052789428588637, 6.339874081558753, 6.609916674531169, 6.866047220100853, 7.1109197451522705, 7.346754235954386, 7.575371078248808, 7.7981935899467345, 8.01620016732611, 8.229805356208137, 8.438654309898078, 8.641362426073236, 8.835372638673805, 9.017285484170799, 9.183901748908559, 9.333558918207098, 9.466821820524164, 9.586058786102717, 9.694390986724494, 9.79480282470758, 9.889743390114097, 9.981093668905844, 10.0702814711555, 10.15841613832175, 10.246400000762808, 10.335012769853277, 10.424976632158257, 10.517011393301244], [5.8399104799412305, 5.750531624919968, 5.650550900574573, 5.538214419153889, 5.41133843689652, 5.267164140676286, 5.102153203357762, 4.911701975358899, 4.689758971753924, 4.4283923793920295, 4.117657443718928, 3.7474550185644713, 3.3187893360753207, 2.891212815251934, 2.686189620772377, 2.9374940524635904, 3.4671356977103205, 4.023270152293187, 4.5254655414673515, 4.967739763673307, 5.359784032423683, 5.712070938619742, 6.033166336639082, 6.3297020027737565, 6.606792758267629, 6.868426685461216, 7.117753060131133, 7.357275025158116, 7.588963149469506, 7.814298407975323, 8.034242190338679, 8.249122657373501, 8.458435523916673, 8.660619269140879, 8.853014413538094, 9.032345693041421, 9.195831289293244, 9.342373122364826, 9.472985659946078, 9.590222281714727, 9.697167148440515, 9.796671259339057, 9.891046218747826, 9.982066285056572, 10.071085460036334, 10.159164372423026, 10.2471737392596, 10.335872974535484, 10.425971587820921, 10.518182143188955], [5.715793396645542, 5.622474761669639, 5.517562975807908, 5.398970807273287, 5.264029563575667, 5.109251729785957, 4.929961173048957, 4.71969426518034, 4.469186477104921, 4.164574412081243, 3.784071615798502, 3.291897737086443, 2.6313957727077772, 1.7835444458654086, 1.4286028354173257, 2.286158818454241, 3.195615539585373, 3.90524188106846, 4.47239756747662, 4.945318891765103, 5.353418955973705, 5.714978735432878, 6.041960636049429, 6.342592481804905, 6.622781494208172, 6.886919973560527, 7.138359364535942, 7.379690491445408, 7.612898392808826, 7.839422399710315, 8.060129392774497, 8.275197836654122, 8.48392661562438, 8.684560541593063, 8.874370974374004, 9.050282176601831, 9.209994987805972, 9.352981575367455, 9.480657458882298, 9.5957003477212, 9.701114962398178, 9.799597432291506, 9.893312384064748, 9.98392275176061, 10.072705910795417, 10.16067172549437, 10.248657725332185, 10.337401831918642, 10.427600010679736, 10.51995701472312], [5.599786953957743, 5.503447327128359, 5.394751540728694, 5.271356334372585, 5.13021929120737, 4.967287358100991, 4.776989972929025, 4.551368799098944, 4.278479367240045, 3.939187012418617, 3.4999343645416907, 2.8933579831581246, 1.9499285688, 0.0, 0.08512830800158165, 2.1514568366292486, 3.2206765423547328, 3.9552919465692042, 4.5238256251841165, 4.993489590984571, 5.3979076993020705, 5.7563627210817465, 6.08098657122762, 6.379945796138861, 6.6590268680240925, 6.922491880597326, 7.173564612186673, 7.414709520327418, 7.647779576940491, 7.874065649550262, 8.09425690342091, 8.308315941794941, 8.515301276130314, 8.713261882644415, 8.899453909043089, 9.071086642957383, 9.226398010925807, 9.36541466954085, 9.489888838160262, 9.602557184609106, 9.706304182615842, 9.803652334576856, 9.89661176197083, 9.986730651469674, 10.075207602363971, 10.163000040513618, 10.25091094752143, 10.339655680951836, 10.429915870577126, 10.522387943594287], [5.494099997499535, 5.396168487097952, 5.285526301020537, 5.159739886832579, 5.015651025837123, 4.849059867273958, 4.654217184911383, 4.422974351837662, 4.143287002165077, 3.796436932549819, 3.3516715867587066, 2.7567029012527473, 1.941501423752388, 1.1600936806632347, 1.7140781605948867, 2.733606364482654, 3.534171633554049, 4.159347147755194, 4.671476261952934, 5.107938150589804, 5.491152870062037, 5.83534015544058, 6.150028869804596, 6.441911105877865, 6.715869962357995, 6.975574064233733, 7.2238291680060245, 7.4627811754959845, 7.694016019830045, 7.918574747750004, 8.13688833933796, 8.34864187384562, 8.552622310200256, 8.746703526189666, 8.928203461385115, 9.094706007151927, 9.24502186534233, 9.379691988636358, 9.500727155000032, 9.610855971170476, 9.71280532708748, 9.808908828769713, 9.901016826257496, 9.990560642713135, 10.078658697633971, 10.16621473561248, 10.253996083161374, 10.342694614624742, 10.432976930558116, 10.525530689795128], [5.400811434254733, 5.303286759469298, 5.193301690714052, 5.068590219915806, 4.92628521036158, 4.762709563571847, 4.573093233454522, 4.351221640098783, 4.089132619385957, 3.777456830355471, 3.4089652578110545, 2.9955115681928324, 2.627319392793668, 2.5457360963139113, 2.885572435521234, 3.4241758217380633, 3.9651206800657453, 4.453426517050062, 4.887008496478428, 5.274765130757642, 5.625924148411964, 5.948051753706078, 6.247042713601715, 6.527461829249006, 6.792868514687811, 7.046059295123681, 7.289230392039976, 7.524071495814641, 7.751796869639512, 7.973113413493258, 8.188124834486711, 8.396190510527463, 8.595817415877303, 8.784755646717734, 8.960483221061368, 9.121042499833308, 9.265825927985286, 9.395823349712707, 9.513215843958621, 9.620658818816885, 9.72068950186705, 9.81544147018665, 9.906602517942378, 9.995486393116627, 10.083130740379913, 10.170384859221262, 10.257979604530234, 10.346582630398053, 10.43684493627189, 10.529445062567287], [5.322079192172986, 5.227571971291861, 5.121636634514443, 5.002492861400185, 4.8680488908562705, 4.715905082659164, 4.543469169341774, 4.348371336340776, 4.129645648433149, 3.890777445731116, 3.6467863830011567, 3.437099749799779, 3.3340836949130606, 3.4092935485175824, 3.6604883915564703, 4.014441470485913, 4.400274371436511, 4.780232918766652, 5.1402578299769575, 5.477345300255479, 5.792726492085281, 6.088951752544179, 6.368761857755461, 6.634688543035746, 6.8889362367560585, 7.133362524490305, 7.369481944782084, 7.59845911842784, 7.821072230836002, 8.037634467783581, 8.247872651820565, 8.450796185309551, 8.64465739822615, 8.827168712391943, 8.996079935092764, 9.149957265595706, 9.288750727237515, 9.413810553403746, 9.527395020737613, 9.63202682130314, 9.730028253047989, 9.82332632575988, 9.913446099177142, 10.001584492999811, 10.08869863390003, 10.17558313088658, 10.262931876080547, 10.351387777814173, 10.44158580898895, 10.534195155649407], [5.260727794065725, 5.172490052419233, 5.07474650811174, 4.966503482774646, 4.846849901430251, 4.715182946149533, 4.571662638937157, 4.418090897985929, 4.259513235418718, 4.106806620931314, 3.9797772419691073, 3.9078201604633502, 3.922086744079491, 4.03805232333449, 4.243945321413362, 4.5097808326008515, 4.805271037139256, 5.109272705245698, 5.4099358597784155, 5.701688984611821, 5.982514289588064, 6.2522135114320365, 6.511441099467101, 6.761194869406418, 7.002551769420247, 7.236525644634312, 7.4639781976289745, 7.685543070843637, 7.901537885945, 8.111850805007021, 8.315809407430189, 8.512084146836894, 8.698740786907985, 8.873572078648353, 9.03471000578026, 9.181277813189132, 9.313722902501706, 9.433649749120237, 9.543302311930617, 9.645020194402646, 9.740893451115722, 9.832640796330969, 9.921626996160164, 10.008934352391172, 10.095440602992092, 10.181885968671919, 10.26892724342938, 10.35718230413199, 10.447269843559356, 10.539849594911411], [5.221255276433114, 5.143160762550977, 5.05834001201757, 4.96675275370524, 4.868796144160325, 4.7656298372342984, 4.659681868465309, 4.555375383811416, 4.46001511552608, 4.384483893401071, 4.342887560844938, 4.349969334202127, 4.416143291766733, 4.542732150343613, 4.721313367737789, 4.937783409715378, 5.177628644811729, 5.429170683726701, 5.684368506825285, 5.9382785570332794, 6.188164051341454, 6.432712296251236, 6.671469609479779, 6.904465943304852, 7.131971147069021, 7.354331031419835, 7.571844152675539, 7.784651001115638, 7.992616739049235, 8.195202759085193, 8.391350700829534, 8.579449071224833, 8.757490254313486, 8.923484059434825, 9.076033631330077, 9.214809157203373, 9.34066151529764, 9.45533423550986, 9.5609738484496, 9.659698492738496, 9.75335721054772, 9.843463448580163, 9.931226636727894, 10.01761808570599, 10.103438142222602, 10.189373505259303, 10.276044115872512, 10.364042799835158, 10.45397191363087, 10.546481801517432], [5.211046247850286, 5.147382536808647, 5.080361446637946, 5.010812365897597, 4.940161101447899, 4.870680422646513, 4.805780791950834, 4.750272454310146, 4.710443942744046, 4.693709286775832, 4.707584489615135, 4.758025777490943, 4.847694616930223, 4.97507505969413, 5.135005927250261, 5.320282591345668, 5.523416557540614, 5.737849163354346, 5.958462492509708, 6.18158614389325, 6.404761232097597, 6.626442271656535, 6.845724022641445, 7.062119632100221, 7.2753868745983254, 7.485388235749287, 7.691968271494894, 7.894833824408394, 8.093429969284138, 8.2868217314289, 8.473622943426076, 8.652048794441509, 8.820166900479188, 8.976335764184022, 9.119676418762605, 9.25034782602353, 9.369485135234857, 9.478857447243879, 9.580445341750739, 9.676120885281405, 9.767491846182837, 9.855873863345556, 9.94232828966085, 10.027720389967119, 10.112775955084427, 10.198129596405867, 10.284365045612088, 10.372050347219808, 10.461771687802063, 10.55417027520392], [5.241074968481231, 5.1958947793872845, 5.150750877139607, 5.106983706990941, 5.066445121276602, 5.031592480440954, 5.005535569119524, 4.991980061624036, 4.995001897518276, 5.018610423258822, 5.066134320640108, 5.13957889961496, 5.239185020360319, 5.36338031321848, 5.509145268128094, 5.672632228620858, 5.849802962429918, 6.036911422260829, 6.230773458862689, 6.428853031087075, 6.629228428857535, 6.830497488879492, 7.031661443317544, 7.232007837925194, 7.430999173744995, 7.628165785496146, 7.8229980998419695, 8.0148351556068, 8.202755553695848, 8.38549669195577, 8.56145418986828, 8.728823756962798, 8.885907317264179, 9.031508818415347, 9.165256757460323, 9.287697243839052, 9.40011894313971, 9.504215844614867, 9.601753154265348, 9.6943464681083, 9.783369867127469, 9.869952507780372, 9.955016914262721, 10.03932842433256, 10.123541890604002, 10.208241827326992, 10.293976808726613, 10.38129067706104, 10.470753862204882, 10.562998904208229], [5.324768151955826, 5.3006478364807625, 5.279245346790949, 5.261935977143352, 5.250392004046075, 5.246569771913335, 5.252649388691998, 5.270912294413637, 5.3035528091310296, 5.352440419332357, 5.418875064868169, 5.503395591669293, 5.605697655736014, 5.724687337404735, 5.8586531431572295, 6.005504443560558, 6.1630145947000505, 6.329021138613529, 6.501560484176685, 6.678936713205346, 6.859736941470395, 7.042809189894697, 7.227216406825549, 7.412175631593695, 7.596986689698214, 7.780951768320718, 7.963287186352012, 8.143033692868123, 8.318983695960513, 8.489661141130599, 8.65340032868284, 8.808551745159031, 8.953784504645052, 9.08838384059101, 9.212415628755346, 9.326682528674796, 9.432501042947496, 9.531411434457883, 9.624935281014656, 9.714434593638659, 9.80106400912584, 9.88578063977217, 9.969379030506614, 10.052531700865467, 10.135826886302462, 10.219801524943579, 10.304970495252164, 10.39185434069497, 10.481008417422302, 10.573057310989833], [5.4739026813983696, 5.470550227878253, 5.471369809104911, 5.4774409838630165, 5.4899585007883, 5.510194455726307, 5.53943905939839, 5.578921050091638, 5.62971405099908, 5.692640920349727, 5.768192224340692, 5.8564750516724065, 5.957203344367109, 6.069731866155037, 6.193126048071882, 6.326252864589627, 6.467875731336097, 6.61673893340172, 6.7716322899569406, 6.931432252900255, 7.095119762406096, 7.261777350303713, 7.430568448213669, 7.6007013463590445, 7.771379746012094, 7.941742622924389, 8.110799762152215, 8.277377173072919, 8.440097620895468, 8.597428947002955, 8.747823912529757, 8.889941034180273, 9.022887317530987, 9.146393001582066, 9.260844396160234, 9.36716268364714, 9.466587286901554, 9.560453710775096, 9.650032177979673, 9.736445199936334, 9.820647307627198, 9.903440254441946, 9.985502622064082, 10.067421998995297, 10.149724929197074, 10.232903786828087, 10.317441618692625, 10.403836907870835, 10.492630910816468, 10.584441246355345], [5.692776895903169, 5.706624998753862, 5.724931935353001, 5.748416531974358, 5.777824804729949, 5.81390361662572, 5.857367766522288, 5.908862474005122, 5.968924583420044, 6.037946864477732, 6.116150130198648, 6.203567241685601, 6.300041421021689, 6.405238989577563, 6.518674276283128, 6.639742607039251, 6.767756384479214, 6.901979348286251, 7.041654919001621, 7.186025672991277, 7.334342103875295, 7.485859692584833, 7.639823973912063, 7.7954440828466725, 7.951856838755053, 8.10808665786615, 8.263012089930225, 8.41535667073725, 8.563726054455346, 8.706708022147854, 8.843031811099772, 8.971752954397319, 9.092405902894017, 9.205067504553014, 9.310306047978743, 9.409038592048486, 9.50235418010619, 9.591360899849738, 9.677087401349349, 9.760439131371344, 9.842193216349687, 9.923014084492788, 10.003477086937753, 10.084093319051647, 10.165333049836544, 10.247647541221644, 10.331490258975823, 10.417339204603133, 10.505722819491437, 10.597253049204427], [5.974946036331438, 6.000393565618233, 6.029916536029387, 6.063967612768706, 6.103000921920393, 6.147458396103253, 6.197754201227626, 6.2542581127361, 6.317279026303058, 6.387049989798145, 6.463716158011398, 6.54732685539943, 6.637832489732599, 6.735086450914957, 6.838851456951382, 6.948809189498247, 7.064571591146655, 7.185691927491756, 7.311673652260025, 7.441975227281997, 7.576009326194307, 7.713135341969489, 7.852644993871534, 7.993742400610093, 8.135522614968558, 8.276956377588876, 8.4168928869672, 8.554094274802637, 8.6873116225013, 8.815400408324582, 8.937455590930881, 9.052931140199993, 9.161705702608137, 9.264070846214832, 9.3606466236418, 9.452256075415548, 9.539799776070002, 9.62416050647638, 9.70614805516821, 9.786478452055407, 9.86577577996667, 9.944585668824041, 10.02339325333463, 10.102641893719731, 10.182751368318545, 10.264135656821743, 10.347221257509952, 10.432467610224828, 10.52039195454077, 10.611602195233447], [6.305559604187929, 6.336967018485027, 6.371878970771034, 6.4105914518803075, 6.453398451209147, 6.500585120924283, 6.5524201582341295, 6.609147703949594, 6.670979145014422, 6.738085266581188, 6.810589207573202, 6.888560618994865, 6.972011301372234, 7.060892412299585, 7.1550931038447585, 7.254440198193606, 7.35869826995916, 7.467569310916415, 7.580691050505106, 7.697633052522302, 7.817889994879133, 7.940872195831762, 8.065894630561836, 8.192167476313092, 8.318793462611056, 8.444779283935647, 8.569068688495154, 8.690601946031155, 8.80839941424412, 8.921657187002118, 9.029834075856739, 9.132706354338902, 9.230373314555356, 9.323211908566542, 9.411795851721658, 9.496804281542584, 9.578942812371602, 9.658889260895249, 9.737265077390902, 9.81462676481204, 9.89146987453761, 9.968239507309429, 10.04534348201206, 10.12316628043394, 10.202083216018789, 10.282475126368507, 10.364744488831834, 10.449334439236212, 10.536752974345976, 10.627605966094558], [6.666959219044611, 6.699984345936504, 6.735989145270754, 6.775182951258954, 6.8177739434966, 6.8639653726131, 6.9139512920889405, 6.967911876536443, 7.026008435710305, 7.088378253444315, 7.155129385652138, 7.226335536099648, 7.302031089334867, 7.382206316826584, 7.466802690013723, 7.555708144721129, 7.648752066938946, 7.745699744536734, 7.846246102764189, 7.950008778553147, 8.056521061277662, 8.165225984797512, 8.275473863992717, 8.386526625511628, 8.497572941061467, 8.607757777228194, 8.716227904250545, 8.82219099544727, 8.924980912543246, 9.024117296624322, 9.119345929700703, 9.210649356818765, 9.298224974920995, 9.38243737097728, 9.463758537258267, 9.54271051563232, 9.619820580616986, 9.695592640369593, 9.770493421118267, 9.844949559890457, 9.919351535359203, 9.994061324119635, 10.069421880828225, 10.145767562834623, 10.223435362630306, 10.302777354690994, 10.384175240745513, 10.468058441820846, 10.55492803408016, 10.645390281462548], [7.042959506525864, 7.074816785086294, 7.109217015259895, 7.146318424794423, 7.186278582095621, 7.2292519300536755, 7.275386916621692, 7.324822720325623, 7.37768557750274, 7.434084724655314, 7.49410797247529, 7.557816927024081, 7.625241868794188, 7.696376294982715, 7.771171131196727, 7.849528638253786, 7.9312960963569115, 8.016259467137855, 8.104137440097073, 8.194576581719321, 8.287148714143395, 8.381352094386518, 8.47661830684848, 8.572326803487305, 8.667828473056995, 8.76247830361318, 8.855675139505387, 8.94690408205906, 9.035774983431738, 9.122049733593492, 9.205652493752707, 9.286660757394856, 9.365279964980427, 9.441808343324523, 9.516600022246175, 9.590033076062818, 9.662486131841675, 9.734324175623586, 9.805892206180214, 9.877514628409704, 9.949498398968657, 10.022138467672635, 10.09572466294782, 10.170549695813618, 10.246918385456759, 10.325158590261289, 10.40563474436362, 10.48876546772499, 10.575047621074406, 10.665090751306172], [7.419903108420101, 7.448996496850767, 7.480254722683169, 7.51380087544997, 7.549757020487162, 7.588242285528491, 7.629370593630779, 7.673248016779156, 7.719969729237054, 7.769616546524101, 7.822251045806021, 7.877913278185147, 7.9366161057043305, 7.998340230051966, 8.063029031734809, 8.13058341469031, 8.20085695833613, 8.273651819755596, 8.348715997315804, 8.42574274238042, 8.504373044879634, 8.584202153715692, 8.664790938521932, 8.745682471638307, 8.826423463389123, 8.906589161563048, 8.985809202136123, 9.063790996868862, 9.14033697910183, 9.215352736739087, 9.288844755057298, 9.36090871681204, 9.431711273573352, 9.501469194287864, 9.57042957290407, 9.638853651204188, 9.707005391738253, 9.775144752739223, 9.843524926155155, 9.912392585400617, 9.981990294185879, 10.052560482550922, 10.124350687542078, 10.19762003688093, 10.272647227300777, 10.349740550106134, 10.429250907877785, 10.511589352548212, 10.597251642565007, 10.686854026024847], [7.785452315119131, 7.810902977157603, 7.838165816430877, 7.8673358324411184, 7.8985063040637735, 7.9317671944578, 7.967203271300493, 8.00489192437457, 8.0449006703862, 8.087284346939322, 8.132082015189312, 8.179313615464755, 8.228976453852159, 8.281041642034788, 8.335450668542356, 8.39211234639845, 8.450900456428005, 8.51165247911402, 8.574169866548075, 8.63822032818265, 8.703542561863953, 8.769853724712112, 8.836859682673435, 8.904267698615897, 8.971800749020252, 9.03921218178455, 9.106299075530005, 9.172912587253016, 9.238963890437798, 9.304425002931104, 9.36932472201671, 9.433740751883315, 9.497789661647136, 9.561616415840243, 9.625384919272536, 9.689270491745916, 9.75345464232262, 9.81812209649927, 9.88345979946744, 9.949657556694286, 10.01691002668194, 10.085419898058447, 10.155402231542435, 10.227090117358852, 10.300742001598726, 10.376651302139845, 10.455159324387077, 10.53667310483703, 10.621690855427202, 10.710839550468588], [8.12727215630051, 8.148634257381785, 8.171471333609963, 8.195855427891408, 8.221856590013726, 8.249541629621008, 8.278972678719994, 8.31020556210742, 8.343287983522913, 8.378257548287277, 8.415139660290615, 8.453945352899272, 8.494669139753588, 8.537287001993455, 8.581754661627086, 8.628006323542753, 8.675954096142386, 8.725488315642933, 8.776478992557504, 8.828778560341151, 8.882226026114605, 8.936652496541027, 8.991887882159157, 9.047768388481424, 9.104144216012834, 9.160886761266383, 9.217894585858136, 9.275097533196869, 9.332458619034774, 9.389973656368142, 9.447668916791716, 9.505597393978006, 9.563834362084135, 9.622472901412923, 9.681619929935753, 9.741393092092865, 9.801918674910524, 9.863330586000078, 9.925770353797288, 9.989388093793615, 10.054344413316553, 10.120813290332245, 10.188986054048122, 10.259076721387169, 10.331329119974528, 10.406026488117456, 10.48350464651272, 10.564170498948352, 10.648528759685426, 10.737221868042107], [8.433967983837162, 8.451196989979453, 8.469595021933776, 8.489217417908689, 8.51011800581918, 8.532348250237838, 8.555956292785291, 8.580985892841522, 8.607475282791125, 8.635455961255586, 8.664951458949291, 8.695976124738873, 8.728533993671373, 8.76261781318861, 8.798208316899796, 8.835273844904794, 8.873770412847902, 8.913642325267361, 8.954823409010915, 8.99723890692719, 9.040808020051871, 9.085447020623953, 9.131072785267639, 9.177606528765024, 9.224977468360608, 9.273126130865501, 9.322007039972435, 9.371590590414723, 9.421864019104031, 9.472831501668315, 9.52451351190743, 9.576945660457753, 9.630177265555814, 9.68426990350134, 9.739296150004408, 9.795338672323306, 9.85248978199543, 9.910851520790462, 9.97053633454676, 10.031668392861764, 10.094385637611035, 10.15884269137844, 10.22521483284631, 10.293703360619451, 10.364542840092497, 10.438010996779154, 10.514442451613958, 10.594248215930184, 10.677944123364231, 10.76619367917464], [8.698636326064612, 8.712126451535102, 8.726532992246023, 8.741900798306359, 8.758274135077556, 8.775696171522497, 8.794208412947707, 8.813850084806768, 8.834657478482718, 8.856663274986703, 8.879895868182233, 8.904378715221302, 8.930129747945216, 8.95716088444694, 8.985477683993835, 9.01507919006931, 9.045958004309139, 9.078100627535843, 9.111488092171706, 9.1460968928572, 9.181900199827012, 9.218869314335079, 9.256975300173051, 9.296190703990748, 9.336491263861701, 9.377857503828197, 9.420276123796139, 9.463741118450335, 9.508254592498412, 9.553827277161988, 9.600478788313318, 9.6482376947536, 9.697141482784787, 9.74723651018399, 9.798578041232178, 9.851230448472863, 9.905267660771974, 9.960773935067506, 10.017845034378597, 10.076589910322982, 10.137133018137536, 10.199617441098246, 10.264209077468479, 10.33110226043022, 10.400527363627567, 10.472761233968207, 10.548141765571707, 10.627088728153929, 10.710134372794233, 10.797969944259265], [8.92162689378255, 8.93208959439714, 8.943277261325777, 8.955228484403396, 8.967982158546135, 8.981577207574084, 8.996052276093225, 9.011445392878779, 9.027793611274314, 9.045132634492424, 9.063496436296898, 9.08291689023344, 9.103423423163978, 9.125042711091352, 9.147798436820077, 9.17171112952931, 9.196798105477919, 9.223073526514684, 9.250548588651066, 9.279231846698238, 9.309129673179747, 9.340246841030359, 9.37258721090559, 9.406154496393873, 9.44095307522685, 9.476988812727814, 9.514269865819601, 9.552807441946223, 9.592616496634125, 9.63371636499748, 9.676131334885362, 9.719891181258498, 9.765031691842957, 9.811595222813564, 9.859631330550581, 9.909197532330085, 9.960360256579515, 10.013196053900204, 10.067793155741263, 10.124253491415445, 10.182695310266915, 10.243256610459412, 10.30609965882427, 10.37141701351518, 10.43943966011175, 10.510448190253786, 10.584788477320368, 10.662894202011987, 10.745320181574108, 10.832793451099185], [9.109377872490208, 9.117591742423189, 9.12639223581045, 9.135813733874665, 9.145891538063408, 9.156661737171172, 9.16816105318104, 9.180426666696048, 9.193496023779336, 9.207406627123975, 9.222195815701996, 9.237900538351614, 9.254557128084265, 9.272201085137276, 9.290866877851592, 9.310587771189523, 9.331395692993869, 9.353321147808733, 9.376393187148775, 9.40063944348993, 9.426086233010645, 9.452758729382222, 9.480681207928546, 9.509877356569238, 9.540370647492905, 9.5721847618449, 9.605344059165335, 9.639874084080377, 9.675802104898702, 9.713157682225594, 9.751973270310732, 9.792284859387593, 9.83413267358574, 9.877561946074692, 9.922623801112175, 9.969376282083955, 10.017885576263385, 10.068227502187687, 10.120489346201763, 10.174772163783388, 10.231193703164687, 10.289892170387585, 10.351031147304106, 10.414806115407844, 10.481453259976822, 10.55126158607426, 10.624589972007122, 10.701891811363364, 10.783751742758628, 10.87094246894344], [9.270655268900713, 9.277272565215382, 9.28437724218935, 9.29200031534848, 9.300174062902421, 9.308931977793012, 9.318308704772697, 9.328339962075468, 9.339062447659702, 9.350513730516209, 9.362732128143902, 9.375756571990417, 9.38962646341809, 9.404381523559474, 9.42006164123361, 9.436706723858444, 9.45435655696307, 9.473050678420764, 9.492828273838711, 9.513728099612603, 9.535788439963401, 9.559047103826007, 9.583541466795683, 9.609308562533693, 9.636385227199264, 9.664808299748548, 9.694614880477763, 9.725842650146708, 9.75853025255325, 9.792717744678596, 9.82844712061531, 9.865762918554239, 9.904712924297936, 9.945348990308371, 9.98772799652762, 10.031912988672516, 10.077974542242751, 10.125992417402156, 10.176057593201495, 10.22827480239964, 10.282765735232989, 10.33967314955153, 10.399166228279874, 10.46144768410064, 10.526763361738713, 10.595415494828698, 10.66778145695692, 10.744341037526544, 10.825717446615924, 10.91274143478032], [9.413442824593458, 9.418932197263935, 9.424836466602937, 9.43118372675784, 9.43800349077189, 9.44532669391409, 9.45318568681672, 9.461614217504257, 9.470647401554707, 9.48032167985554, 9.490674763707103, 9.501745567390854, 9.513574128758663, 9.526201518909598, 9.53966974259436, 9.55402163161173, 9.569300734118105, 9.585551203437614, 9.602817690610914, 9.621145245528803, 9.640579232037949, 9.661165262862138, 9.68294916054536, 9.70597695089935, 9.730294895652664, 9.7559495711971, 9.782988000579072, 9.811457846282034, 9.84140767200823, 9.87288728273833, 9.905948153998747, 9.940643963711702, 9.977031243509686, 10.015170171316859, 10.055125533817437, 10.096967896831403, 10.140775034600606, 10.186633687042082, 10.234641739404758, 10.284910954946016, 10.337570443685944, 10.392771127767169, 10.450691580875354, 10.511545799968811, 10.575593754813983, 10.643156031462995, 10.714634684421675, 10.790543823167388, 10.87155607140306, 10.958576153137082], [9.543784012305572, 9.548459300130945, 9.553495066624938, 9.558916845902557, 9.564751639080901, 9.57102794913023, 9.577775809363468, 9.585026804585702, 9.592814083954183, 9.601172364668095, 9.610137925723514, 9.619748591140002, 9.630043702298236, 9.64106407932852, 9.65285197186223, 9.665450999903909, 9.678906086100056, 9.693263381267464, 9.70857018569247, 9.724874869412648, 9.74222679543287, 9.76067625059643, 9.780274389618947, 9.801073198592773, 9.823125485085576, 9.846484902803612, 9.871206019700054, 9.897344439435269, 9.924956987321147, 9.954101973422368, 9.98483954750555, 10.017232163243454, 10.051345172795065, 10.087247578004808, 10.125012971566463, 10.164720711389302, 10.206457385256565, 10.250318642409152, 10.296411496529759, 10.344857244768823, 10.395795206291574, 10.449387571595931, 10.505825787580017, 10.565339112107212, 10.628206306921848, 10.694771993028311, 10.765470146889776, 10.840858926561669, 10.921674239997005, 11.008915910696881], [9.665910155615737, 9.669978888757155, 9.67436607522218, 9.679095025477901, 9.684190507568369, 9.689678801446867, 9.695587749970423, 9.701946805697077, 9.708787072595292, 9.716141341767004, 9.724044120307806, 9.732531652487605, 9.741641932540299, 9.751414708510364, 9.761891476825854, 9.773115467559142, 9.785131620706142, 9.79798655426763, 9.811728525457399, 9.826407386994285, 9.842074541160011, 9.858782895122825, 9.876586821938242, 9.895542132644637, 9.91570606597863, 9.937137303455803, 9.959896018921208, 9.984043973212897, 10.00964466636807, 10.036763561937772, 10.065468400613621, 10.095829623727656, 10.127920931576663, 10.161820007391068, 10.197609445753567, 10.235377935296057, 10.275221760914746, 10.317246712554077, 10.361570518874654, 10.408325969580623, 10.457664957370515, 10.50976377166794, 10.56483013204562, 10.623112695079278, 10.684914167658611, 10.750609830173415, 10.820674442459783, 10.895722638660214, 10.976572019516464, 11.064346556579101], [9.78274649910591, 9.786348768053909, 9.790236212335532, 9.794430224762412, 9.798953617857606, 9.803830690173026, 9.809087291608822, 9.814750887058507, 9.820850617649297, 9.827417358805349, 9.834483774337672, 9.842084365764993, 9.850255516101983, 9.859035527423451, 9.8684646516345, 9.878585114057088, 9.889441129693525, 9.901078912357953, 9.91354667728874, 9.926894638379162, 9.941175001801453, 9.956441958561602, 9.972751679420575, 9.990162316665348, 10.0087340184268, 10.028528962643414, 10.049611419392557, 10.072047852202473, 10.095907071189853, 10.121260453546295, 10.148182250179152, 10.176750001428582, 10.207045090068595, 10.239153466744806, 10.273166592319592, 10.30918265433797, 10.34730813255803, 10.387659813568927, 10.43036739057394, 10.47557683713485, 10.523454822188524, 10.574194552997902, 10.62802361837568, 10.685214701103703, 10.746100516771763, 10.811095168767991, 10.880725587284461, 10.955679472755934, 11.036881589264276, 11.125621707803253], [9.896370210801608, 9.899604019744746, 9.903096112387072, 9.906866233499288, 9.910935497310255, 9.915326461104637, 9.920063199616248, 9.925171379734893, 9.930678334987162, 9.936613139200157, 9.943006678715976, 9.94989172249895, 9.957302989473341, 9.965277212453831, 9.973853198093433, 9.983071882383127, 9.992976381406244, 10.003612037290642, 10.015026459627384, 10.027269563051185, 10.040393602222322, 10.054453206130702, 10.069505414481249, 10.085609719939793, 10.102828121249061, 10.121225193700944, 10.140868185220922, 10.16182714844665, 10.184175121753615, 10.207988375321994, 10.233346742230866, 10.260334059470473, 10.289038750061671, 10.319554585722901, 10.35198168055429, 10.386427781244066, 10.423009940195719, 10.461856687555443, 10.503110860791654, 10.546933313235007, 10.593507817194736, 10.64304762189499, 10.69580435412768, 10.752080318132467, 10.81224586768027, 10.876764593522212, 10.946231009946308, 11.02142912901936, 11.103427835240874, 11.193745456442294], [10.008333068839407, 10.01126982568966, 10.01444280694664, 10.017870343967388, 10.021572083742143, 10.025569066829204, 10.029883807463474, 10.034540375539688, 10.039564480121316, 10.044983554078646, 10.05082683941807, 10.057125472832768, 10.06391257098846, 10.071223315062442, 10.079095034087926, 10.087567286727854, 10.096681941223961, 10.10648325345105, 10.117017943268225, 10.128335269716231, 10.140487106083135, 10.153528016473562, 10.167515336297262, 10.18250926007406, 10.198572941174492, 10.215772609628491, 10.23417771600205, 10.253861111647815, 10.274899278493077, 10.297372625094198, 10.321365870180236, 10.34696854064532, 10.37427561838544, 10.403388380179004, 10.43441548797267, 10.467474404941719, 10.502693237810554, 10.540213141643978, 10.580191475168391, 10.622805971529283, 10.668260305872346, 10.71679162205409, 10.768680869507351, 10.824267276335982, 10.883969094124701, 10.948314185980479, 11.017986700843643, 11.093901335837131, 11.17732777350499, 11.270113319349184], [10.119874833518795, 10.122568778613504, 10.125480682517486, 10.128627668395916, 10.132028122604662, 10.135701775162755, 10.139669783471545, 10.14395481914723, 10.148581157796118, 10.153574771526081, 10.158963423955543, 10.164776767456427, 10.17104644235402, 10.17780617781021, 10.185091894143895, 10.192941806402313, 10.201396529099904, 10.210499182200401, 10.220295498648532, 10.230833934079056, 10.242165779765704, 10.254345280448437, 10.26742975942761, 10.281479754279346, 10.296559167777945, 10.312735440172965, 10.33007975094246, 10.34866726063806, 10.36857740659665, 10.389894270315766, 10.412707039452084, 10.437110594098018, 10.463206255788085, 10.491102749416868, 10.520917444153094, 10.552777961381237, 10.586824268569211, 10.623211422246913, 10.662113188167908, 10.703726863947375, 10.748279778688609, 10.796038179269866, 10.847319594624508, 10.902510409736163, 10.962091497390077, 11.02667679007517, 11.097073581550333, 11.174381340102642, 11.260163481850014, 11.35676961032092], [10.232067967963088, 10.23456207930001, 10.237258979624363, 10.240174766784722, 10.243326753726361, 10.246733550474447, 10.250415150222569, 10.254393019541798, 10.258690192703813, 10.26333137009131, 10.268343020652255, 10.273753488344441, 10.27959310251686, 10.285894292189946, 10.292691704233846, 10.300022325510904, 10.30792560915585, 10.316443605327521, 10.325621096995643, 10.335505741645164, 10.346148220213795, 10.357602395156782, 10.369925480295096, 10.383178226097765, 10.397425125337724, 10.412734645722592, 10.429179498240487, 10.44683695271354, 10.465789215602992, 10.486123889713795, 10.507934541458486, 10.5313214092658, 10.5563922972906, 10.583263712876537, 10.612062325855739, 10.642926855201658, 10.676010527604596, 10.71148430927196, 10.749541196486872, 10.790401978507271, 10.834323086144748, 10.881607460037957, 10.932619904247382, 10.987809304971227, 11.047741734170293, 11.113151549734766, 11.185023788722553, 11.264734448337352, 11.354306538760376, 11.456922504953981]]}, {\"name\": \"optimum\", \"type\": \"scatter\", \"x\": [0.02934787973666178], \"y\": [0.04583244559688439]}],\n",
       "                        {\"margin\": {\"b\": 0, \"l\": 0, \"r\": 0, \"t\": 25}, \"showlegend\": false, \"template\": {\"data\": {\"bar\": [{\"error_x\": {\"color\": \"#2a3f5f\"}, \"error_y\": {\"color\": \"#2a3f5f\"}, \"marker\": {\"line\": {\"color\": \"#E5ECF6\", \"width\": 0.5}}, \"type\": \"bar\"}], \"barpolar\": [{\"marker\": {\"line\": {\"color\": \"#E5ECF6\", \"width\": 0.5}}, \"type\": \"barpolar\"}], \"carpet\": [{\"aaxis\": {\"endlinecolor\": \"#2a3f5f\", \"gridcolor\": \"white\", \"linecolor\": \"white\", \"minorgridcolor\": \"white\", \"startlinecolor\": \"#2a3f5f\"}, \"baxis\": {\"endlinecolor\": \"#2a3f5f\", \"gridcolor\": \"white\", \"linecolor\": \"white\", \"minorgridcolor\": \"white\", \"startlinecolor\": \"#2a3f5f\"}, \"type\": \"carpet\"}], \"choropleth\": [{\"colorbar\": {\"outlinewidth\": 0, \"ticks\": \"\"}, \"type\": \"choropleth\"}], \"contour\": [{\"colorbar\": {\"outlinewidth\": 0, \"ticks\": \"\"}, \"colorscale\": [[0.0, \"#0d0887\"], [0.1111111111111111, \"#46039f\"], [0.2222222222222222, \"#7201a8\"], [0.3333333333333333, \"#9c179e\"], [0.4444444444444444, \"#bd3786\"], [0.5555555555555556, \"#d8576b\"], [0.6666666666666666, \"#ed7953\"], [0.7777777777777778, \"#fb9f3a\"], [0.8888888888888888, \"#fdca26\"], [1.0, \"#f0f921\"]], \"type\": \"contour\"}], \"contourcarpet\": [{\"colorbar\": {\"outlinewidth\": 0, \"ticks\": \"\"}, \"type\": \"contourcarpet\"}], \"heatmap\": [{\"colorbar\": {\"outlinewidth\": 0, \"ticks\": \"\"}, \"colorscale\": [[0.0, \"#0d0887\"], [0.1111111111111111, \"#46039f\"], [0.2222222222222222, \"#7201a8\"], [0.3333333333333333, \"#9c179e\"], [0.4444444444444444, \"#bd3786\"], [0.5555555555555556, \"#d8576b\"], [0.6666666666666666, \"#ed7953\"], [0.7777777777777778, \"#fb9f3a\"], [0.8888888888888888, \"#fdca26\"], [1.0, \"#f0f921\"]], \"type\": \"heatmap\"}], \"heatmapgl\": [{\"colorbar\": {\"outlinewidth\": 0, \"ticks\": \"\"}, \"colorscale\": [[0.0, \"#0d0887\"], [0.1111111111111111, \"#46039f\"], [0.2222222222222222, \"#7201a8\"], [0.3333333333333333, \"#9c179e\"], [0.4444444444444444, \"#bd3786\"], [0.5555555555555556, \"#d8576b\"], [0.6666666666666666, \"#ed7953\"], [0.7777777777777778, \"#fb9f3a\"], [0.8888888888888888, \"#fdca26\"], [1.0, \"#f0f921\"]], \"type\": \"heatmapgl\"}], \"histogram\": [{\"marker\": {\"colorbar\": {\"outlinewidth\": 0, \"ticks\": \"\"}}, \"type\": \"histogram\"}], \"histogram2d\": [{\"colorbar\": {\"outlinewidth\": 0, \"ticks\": \"\"}, \"colorscale\": [[0.0, \"#0d0887\"], [0.1111111111111111, \"#46039f\"], [0.2222222222222222, \"#7201a8\"], [0.3333333333333333, \"#9c179e\"], [0.4444444444444444, \"#bd3786\"], [0.5555555555555556, \"#d8576b\"], [0.6666666666666666, \"#ed7953\"], [0.7777777777777778, \"#fb9f3a\"], [0.8888888888888888, \"#fdca26\"], [1.0, \"#f0f921\"]], \"type\": \"histogram2d\"}], \"histogram2dcontour\": [{\"colorbar\": {\"outlinewidth\": 0, \"ticks\": \"\"}, \"colorscale\": [[0.0, \"#0d0887\"], [0.1111111111111111, \"#46039f\"], [0.2222222222222222, \"#7201a8\"], [0.3333333333333333, \"#9c179e\"], [0.4444444444444444, \"#bd3786\"], [0.5555555555555556, \"#d8576b\"], [0.6666666666666666, \"#ed7953\"], [0.7777777777777778, \"#fb9f3a\"], [0.8888888888888888, \"#fdca26\"], [1.0, \"#f0f921\"]], \"type\": \"histogram2dcontour\"}], \"mesh3d\": [{\"colorbar\": {\"outlinewidth\": 0, \"ticks\": \"\"}, \"type\": \"mesh3d\"}], \"parcoords\": [{\"line\": {\"colorbar\": {\"outlinewidth\": 0, \"ticks\": \"\"}}, \"type\": \"parcoords\"}], \"pie\": [{\"automargin\": true, \"type\": \"pie\"}], \"scatter\": [{\"marker\": {\"colorbar\": {\"outlinewidth\": 0, \"ticks\": \"\"}}, \"type\": \"scatter\"}], \"scatter3d\": [{\"line\": {\"colorbar\": {\"outlinewidth\": 0, \"ticks\": \"\"}}, \"marker\": {\"colorbar\": {\"outlinewidth\": 0, \"ticks\": \"\"}}, \"type\": \"scatter3d\"}], \"scattercarpet\": [{\"marker\": {\"colorbar\": {\"outlinewidth\": 0, \"ticks\": \"\"}}, \"type\": \"scattercarpet\"}], \"scattergeo\": [{\"marker\": {\"colorbar\": {\"outlinewidth\": 0, \"ticks\": \"\"}}, \"type\": \"scattergeo\"}], \"scattergl\": [{\"marker\": {\"colorbar\": {\"outlinewidth\": 0, \"ticks\": \"\"}}, \"type\": \"scattergl\"}], \"scattermapbox\": [{\"marker\": {\"colorbar\": {\"outlinewidth\": 0, \"ticks\": \"\"}}, \"type\": \"scattermapbox\"}], \"scatterpolar\": [{\"marker\": {\"colorbar\": {\"outlinewidth\": 0, \"ticks\": \"\"}}, \"type\": \"scatterpolar\"}], \"scatterpolargl\": [{\"marker\": {\"colorbar\": {\"outlinewidth\": 0, \"ticks\": \"\"}}, \"type\": \"scatterpolargl\"}], \"scatterternary\": [{\"marker\": {\"colorbar\": {\"outlinewidth\": 0, \"ticks\": \"\"}}, \"type\": \"scatterternary\"}], \"surface\": [{\"colorbar\": {\"outlinewidth\": 0, \"ticks\": \"\"}, \"colorscale\": [[0.0, \"#0d0887\"], [0.1111111111111111, \"#46039f\"], [0.2222222222222222, \"#7201a8\"], [0.3333333333333333, \"#9c179e\"], [0.4444444444444444, \"#bd3786\"], [0.5555555555555556, \"#d8576b\"], [0.6666666666666666, \"#ed7953\"], [0.7777777777777778, \"#fb9f3a\"], [0.8888888888888888, \"#fdca26\"], [1.0, \"#f0f921\"]], \"type\": \"surface\"}], \"table\": [{\"cells\": {\"fill\": {\"color\": \"#EBF0F8\"}, \"line\": {\"color\": \"white\"}}, \"header\": {\"fill\": {\"color\": \"#C8D4E3\"}, \"line\": {\"color\": \"white\"}}, \"type\": \"table\"}]}, \"layout\": {\"annotationdefaults\": {\"arrowcolor\": \"#2a3f5f\", \"arrowhead\": 0, \"arrowwidth\": 1}, \"coloraxis\": {\"colorbar\": {\"outlinewidth\": 0, \"ticks\": \"\"}}, \"colorscale\": {\"diverging\": [[0, \"#8e0152\"], [0.1, \"#c51b7d\"], [0.2, \"#de77ae\"], [0.3, \"#f1b6da\"], [0.4, \"#fde0ef\"], [0.5, \"#f7f7f7\"], [0.6, \"#e6f5d0\"], [0.7, \"#b8e186\"], [0.8, \"#7fbc41\"], [0.9, \"#4d9221\"], [1, \"#276419\"]], \"sequential\": [[0.0, \"#0d0887\"], [0.1111111111111111, \"#46039f\"], [0.2222222222222222, \"#7201a8\"], [0.3333333333333333, \"#9c179e\"], [0.4444444444444444, \"#bd3786\"], [0.5555555555555556, \"#d8576b\"], [0.6666666666666666, \"#ed7953\"], [0.7777777777777778, \"#fb9f3a\"], [0.8888888888888888, \"#fdca26\"], [1.0, \"#f0f921\"]], \"sequentialminus\": [[0.0, \"#0d0887\"], [0.1111111111111111, \"#46039f\"], [0.2222222222222222, \"#7201a8\"], [0.3333333333333333, \"#9c179e\"], [0.4444444444444444, \"#bd3786\"], [0.5555555555555556, \"#d8576b\"], [0.6666666666666666, \"#ed7953\"], [0.7777777777777778, \"#fb9f3a\"], [0.8888888888888888, \"#fdca26\"], [1.0, \"#f0f921\"]]}, \"colorway\": [\"#636efa\", \"#EF553B\", \"#00cc96\", \"#ab63fa\", \"#FFA15A\", \"#19d3f3\", \"#FF6692\", \"#B6E880\", \"#FF97FF\", \"#FECB52\"], \"font\": {\"color\": \"#2a3f5f\"}, \"geo\": {\"bgcolor\": \"white\", \"lakecolor\": \"white\", \"landcolor\": \"#E5ECF6\", \"showlakes\": true, \"showland\": true, \"subunitcolor\": \"white\"}, \"hoverlabel\": {\"align\": \"left\"}, \"hovermode\": \"closest\", \"mapbox\": {\"style\": \"light\"}, \"paper_bgcolor\": \"white\", \"plot_bgcolor\": \"#E5ECF6\", \"polar\": {\"angularaxis\": {\"gridcolor\": \"white\", \"linecolor\": \"white\", \"ticks\": \"\"}, \"bgcolor\": \"#E5ECF6\", \"radialaxis\": {\"gridcolor\": \"white\", \"linecolor\": \"white\", \"ticks\": \"\"}}, \"scene\": {\"xaxis\": {\"backgroundcolor\": \"#E5ECF6\", \"gridcolor\": \"white\", \"gridwidth\": 2, \"linecolor\": \"white\", \"showbackground\": true, \"ticks\": \"\", \"zerolinecolor\": \"white\"}, \"yaxis\": {\"backgroundcolor\": \"#E5ECF6\", \"gridcolor\": \"white\", \"gridwidth\": 2, \"linecolor\": \"white\", \"showbackground\": true, \"ticks\": \"\", \"zerolinecolor\": \"white\"}, \"zaxis\": {\"backgroundcolor\": \"#E5ECF6\", \"gridcolor\": \"white\", \"gridwidth\": 2, \"linecolor\": \"white\", \"showbackground\": true, \"ticks\": \"\", \"zerolinecolor\": \"white\"}}, \"shapedefaults\": {\"line\": {\"color\": \"#2a3f5f\"}}, \"ternary\": {\"aaxis\": {\"gridcolor\": \"white\", \"linecolor\": \"white\", \"ticks\": \"\"}, \"baxis\": {\"gridcolor\": \"white\", \"linecolor\": \"white\", \"ticks\": \"\"}, \"bgcolor\": \"#E5ECF6\", \"caxis\": {\"gridcolor\": \"white\", \"linecolor\": \"white\", \"ticks\": \"\"}}, \"title\": {\"x\": 0.05}, \"xaxis\": {\"automargin\": true, \"gridcolor\": \"white\", \"linecolor\": \"white\", \"ticks\": \"\", \"title\": {\"standoff\": 15}, \"zerolinecolor\": \"white\", \"zerolinewidth\": 2}, \"yaxis\": {\"automargin\": true, \"gridcolor\": \"white\", \"linecolor\": \"white\", \"ticks\": \"\", \"title\": {\"standoff\": 15}, \"zerolinecolor\": \"white\", \"zerolinewidth\": 2}}}, \"xaxis\": {\"constrain\": \"domain\", \"range\": [-2, -0.3], \"scaleanchor\": \"y\", \"scaleratio\": 1, \"type\": \"log\"}, \"yaxis\": {\"type\": \"log\"}},\n",
       "                        {\"responsive\": true}\n",
       "                    ).then(function(){\n",
       "                            \n",
       "var gd = document.getElementById('dd5af1a8-197e-4625-a233-c11912e4a6c8');\n",
       "var x = new MutationObserver(function (mutations, observer) {{\n",
       "        var display = window.getComputedStyle(gd).display;\n",
       "        if (!display || display === 'none') {{\n",
       "            console.log([gd, 'removed!']);\n",
       "            Plotly.purge(gd);\n",
       "            observer.disconnect();\n",
       "        }}\n",
       "}});\n",
       "\n",
       "// Listen for the removal of the full notebook cells\n",
       "var notebookContainer = gd.closest('#notebook-container');\n",
       "if (notebookContainer) {{\n",
       "    x.observe(notebookContainer, {childList: true});\n",
       "}}\n",
       "\n",
       "// Listen for the clearing of the current output cell\n",
       "var outputEl = gd.closest('.output');\n",
       "if (outputEl) {{\n",
       "    x.observe(outputEl, {childList: true});\n",
       "}}\n",
       "\n",
       "                        })\n",
       "                };\n",
       "                });\n",
       "            </script>\n",
       "        </div>"
      ]
     },
     "metadata": {},
     "output_type": "display_data"
    },
    {
     "data": {
      "text/plain": [
       "(0.20717680464650534, 0.02934787973666178, 0.04583244559688439)"
      ]
     },
     "execution_count": 107,
     "metadata": {},
     "output_type": "execute_result"
    }
   ],
   "source": [
    "b = InferSIRQ(weight_c=0.01)\n",
    "b.fit(city, sample, confirmed)\n",
    "b.beta, b.gamma, b.theta"
   ]
  },
  {
   "cell_type": "code",
   "execution_count": 108,
   "metadata": {},
   "outputs": [
    {
     "data": {
      "application/vnd.plotly.v1+json": {
       "config": {
        "plotlyServerURL": "https://plot.ly"
       },
       "data": [
        {
         "hovertemplate": "%{y}",
         "name": "Susceptible",
         "type": "scatter",
         "x": [
          0,
          1,
          2,
          3,
          4,
          5,
          6,
          7,
          8,
          9,
          10,
          11,
          12,
          13,
          14,
          15,
          16,
          17,
          18,
          19,
          20,
          21,
          22,
          23,
          24,
          25,
          26,
          27,
          28,
          29,
          30,
          31,
          32,
          33,
          34,
          35,
          36,
          37,
          38,
          39,
          40,
          41,
          42,
          43,
          44,
          45,
          46,
          47,
          48,
          49,
          50,
          51,
          52,
          53,
          54,
          55,
          56,
          57,
          58,
          59,
          60,
          61,
          62,
          63,
          64,
          65,
          66,
          67,
          68,
          69,
          70,
          71,
          72,
          73,
          74,
          75,
          76,
          77,
          78,
          79,
          80,
          81,
          82,
          83,
          84,
          85,
          86,
          87,
          88,
          89,
          90,
          91,
          92,
          93,
          94,
          95,
          96,
          97,
          98,
          99,
          100
         ],
         "y": [
          99000,
          98794,
          98563,
          98303,
          98009,
          97679,
          97308,
          96891,
          96424,
          95900,
          95314,
          94660,
          93932,
          93121,
          92221,
          91225,
          90126,
          88916,
          87590,
          86140,
          84564,
          82856,
          81015,
          79042,
          76938,
          74709,
          72362,
          69908,
          67360,
          64734,
          62048,
          59321,
          56575,
          53832,
          51111,
          48434,
          45820,
          43284,
          40842,
          38503,
          36278,
          34172,
          32188,
          30328,
          28590,
          26972,
          25469,
          24078,
          22792,
          21606,
          20513,
          19507,
          18581,
          17730,
          16948,
          16229,
          15568,
          14960,
          14401,
          13887,
          13414,
          12978,
          12576,
          12205,
          11863,
          11547,
          11255,
          10985,
          10736,
          10504,
          10290,
          10091,
          9907,
          9736,
          9576,
          9429,
          9291,
          9163,
          9044,
          8933,
          8830,
          8733,
          8643,
          8559,
          8481,
          8408,
          8339,
          8275,
          8215,
          8160,
          8107,
          8058,
          8013,
          7970,
          7930,
          7892,
          7857,
          7824,
          7793,
          7764,
          7737
         ]
        },
        {
         "hovertemplate": "%{y}",
         "name": "Infectious",
         "type": "scatter",
         "x": [
          0,
          1,
          2,
          3,
          4,
          5,
          6,
          7,
          8,
          9,
          10,
          11,
          12,
          13,
          14,
          15,
          16,
          17,
          18,
          19,
          20,
          21,
          22,
          23,
          24,
          25,
          26,
          27,
          28,
          29,
          30,
          31,
          32,
          33,
          34,
          35,
          36,
          37,
          38,
          39,
          40,
          41,
          42,
          43,
          44,
          45,
          46,
          47,
          48,
          49,
          50,
          51,
          52,
          53,
          54,
          55,
          56,
          57,
          58,
          59,
          60,
          61,
          62,
          63,
          64,
          65,
          66,
          67,
          68,
          69,
          70,
          71,
          72,
          73,
          74,
          75,
          76,
          77,
          78,
          79,
          80,
          81,
          82,
          83,
          84,
          85,
          86,
          87,
          88,
          89,
          90,
          91,
          92,
          93,
          94,
          95,
          96,
          97,
          98,
          99,
          100
         ],
         "y": [
          1000,
          1129,
          1276,
          1440,
          1626,
          1833,
          2067,
          2328,
          2620,
          2947,
          3311,
          3716,
          4165,
          4663,
          5212,
          5816,
          6478,
          7201,
          7986,
          8835,
          9747,
          10722,
          11757,
          12846,
          13984,
          15162,
          16369,
          17592,
          18818,
          20029,
          21209,
          22341,
          23408,
          24391,
          25278,
          26054,
          26710,
          27238,
          27632,
          27893,
          28021,
          28021,
          27898,
          27661,
          27319,
          26884,
          26365,
          25774,
          25122,
          24420,
          23677,
          22903,
          22107,
          21296,
          20477,
          19656,
          18840,
          18031,
          17234,
          16453,
          15689,
          14946,
          14224,
          13525,
          12850,
          12200,
          11575,
          10974,
          10399,
          9848,
          9322,
          8820,
          8341,
          7886,
          7452,
          7039,
          6648,
          6276,
          5923,
          5589,
          5272,
          4972,
          4688,
          4420,
          4166,
          3926,
          3699,
          3485,
          3282,
          3092,
          2911,
          2741,
          2581,
          2430,
          2287,
          2153,
          2026,
          1907,
          1794,
          1688,
          1589
         ]
        },
        {
         "hovertemplate": "%{y}",
         "name": "Removed",
         "type": "scatter",
         "x": [
          0,
          1,
          2,
          3,
          4,
          5,
          6,
          7,
          8,
          9,
          10,
          11,
          12,
          13,
          14,
          15,
          16,
          17,
          18,
          19,
          20,
          21,
          22,
          23,
          24,
          25,
          26,
          27,
          28,
          29,
          30,
          31,
          32,
          33,
          34,
          35,
          36,
          37,
          38,
          39,
          40,
          41,
          42,
          43,
          44,
          45,
          46,
          47,
          48,
          49,
          50,
          51,
          52,
          53,
          54,
          55,
          56,
          57,
          58,
          59,
          60,
          61,
          62,
          63,
          64,
          65,
          66,
          67,
          68,
          69,
          70,
          71,
          72,
          73,
          74,
          75,
          76,
          77,
          78,
          79,
          80,
          81,
          82,
          83,
          84,
          85,
          86,
          87,
          88,
          89,
          90,
          91,
          92,
          93,
          94,
          95,
          96,
          97,
          98,
          99,
          100
         ],
         "y": [
          0,
          29,
          62,
          99,
          142,
          189,
          243,
          304,
          372,
          449,
          536,
          633,
          742,
          864,
          1001,
          1154,
          1325,
          1515,
          1726,
          1961,
          2220,
          2506,
          2821,
          3166,
          3543,
          3953,
          4398,
          4879,
          5395,
          5947,
          6535,
          7157,
          7813,
          8500,
          9216,
          9958,
          10723,
          11506,
          12306,
          13117,
          13935,
          14758,
          15580,
          16399,
          17211,
          18012,
          18801,
          19575,
          20332,
          21069,
          21786,
          22480,
          23153,
          23801,
          24426,
          25027,
          25604,
          26157,
          26686,
          27192,
          27675,
          28136,
          28574,
          28992,
          29389,
          29766,
          30124,
          30463,
          30786,
          31091,
          31380,
          31653,
          31912,
          32157,
          32389,
          32607,
          32814,
          33009,
          33193,
          33367,
          33531,
          33686,
          33832,
          33969,
          34099,
          34221,
          34337,
          34445,
          34547,
          34644,
          34734,
          34820,
          34900,
          34976,
          35047,
          35115,
          35178,
          35237,
          35293,
          35346,
          35395
         ]
        },
        {
         "hovertemplate": "%{y}",
         "name": "Quarantined",
         "type": "scatter",
         "x": [
          0,
          1,
          2,
          3,
          4,
          5,
          6,
          7,
          8,
          9,
          10,
          11,
          12,
          13,
          14,
          15,
          16,
          17,
          18,
          19,
          20,
          21,
          22,
          23,
          24,
          25,
          26,
          27,
          28,
          29,
          30,
          31,
          32,
          33,
          34,
          35,
          36,
          37,
          38,
          39,
          40,
          41,
          42,
          43,
          44,
          45,
          46,
          47,
          48,
          49,
          50,
          51,
          52,
          53,
          54,
          55,
          56,
          57,
          58,
          59,
          60,
          61,
          62,
          63,
          64,
          65,
          66,
          67,
          68,
          69,
          70,
          71,
          72,
          73,
          74,
          75,
          76,
          77,
          78,
          79,
          80,
          81,
          82,
          83,
          84,
          85,
          86,
          87,
          88,
          89,
          90,
          91,
          92,
          93,
          94,
          95,
          96,
          97,
          98,
          99,
          100
         ],
         "y": [
          0,
          45,
          97,
          156,
          222,
          296,
          380,
          475,
          582,
          702,
          837,
          989,
          1159,
          1350,
          1564,
          1803,
          2069,
          2366,
          2696,
          3062,
          3467,
          3914,
          4405,
          4944,
          5533,
          6174,
          6869,
          7619,
          8425,
          9288,
          10206,
          11178,
          12202,
          13275,
          14393,
          15551,
          16746,
          17970,
          19218,
          20485,
          21763,
          23047,
          24332,
          25610,
          26878,
          28130,
          29362,
          30571,
          31752,
          32904,
          34023,
          35108,
          36158,
          37171,
          38147,
          39085,
          39986,
          40850,
          41676,
          42466,
          43220,
          43939,
          44624,
          45276,
          45896,
          46485,
          47044,
          47575,
          48078,
          48555,
          49006,
          49433,
          49838,
          50220,
          50581,
          50923,
          51245,
          51550,
          51838,
          52109,
          52366,
          52607,
          52835,
          53050,
          53253,
          53443,
          53623,
          53793,
          53953,
          54103,
          54245,
          54378,
          54504,
          54622,
          54734,
          54839,
          54937,
          55030,
          55118,
          55200,
          55277
         ]
        },
        {
         "hovertemplate": "%{y}",
         "marker": {
          "symbol": 1
         },
         "mode": "markers",
         "name": "Estimated",
         "type": "scatter",
         "x": [
          10,
          20,
          30,
          40,
          50,
          60,
          70,
          80,
          90
         ],
         "y": [
          1400,
          5500,
          16300,
          38600,
          29900,
          15600,
          6500,
          1900,
          300
         ]
        },
        {
         "hovertemplate": "%{y}",
         "marker": {
          "symbol": 3
         },
         "mode": "markers",
         "name": "Resisted",
         "type": "scatter",
         "x": [
          10,
          20,
          30,
          40,
          50,
          60,
          70,
          80,
          90
         ],
         "y": [
          297.615,
          976.38,
          4296.814,
          11096.589000000002,
          23718.213,
          27412.716,
          31606.857,
          32906.108,
          33677.424
         ]
        },
        {
         "hovertemplate": "%{y}",
         "marker": {
          "symbol": 2
         },
         "mode": "markers",
         "name": "Confirmed",
         "type": "scatter",
         "x": [
          10,
          20,
          30,
          40,
          50,
          60,
          70,
          80,
          90
         ],
         "y": [
          777,
          2373,
          6678,
          19074,
          35578,
          45339,
          50503,
          53724,
          55091
         ]
        }
       ],
       "layout": {
        "margin": {
         "b": 0,
         "l": 0,
         "r": 0,
         "t": 25
        },
        "template": {
         "data": {
          "bar": [
           {
            "error_x": {
             "color": "#2a3f5f"
            },
            "error_y": {
             "color": "#2a3f5f"
            },
            "marker": {
             "line": {
              "color": "#E5ECF6",
              "width": 0.5
             }
            },
            "type": "bar"
           }
          ],
          "barpolar": [
           {
            "marker": {
             "line": {
              "color": "#E5ECF6",
              "width": 0.5
             }
            },
            "type": "barpolar"
           }
          ],
          "carpet": [
           {
            "aaxis": {
             "endlinecolor": "#2a3f5f",
             "gridcolor": "white",
             "linecolor": "white",
             "minorgridcolor": "white",
             "startlinecolor": "#2a3f5f"
            },
            "baxis": {
             "endlinecolor": "#2a3f5f",
             "gridcolor": "white",
             "linecolor": "white",
             "minorgridcolor": "white",
             "startlinecolor": "#2a3f5f"
            },
            "type": "carpet"
           }
          ],
          "choropleth": [
           {
            "colorbar": {
             "outlinewidth": 0,
             "ticks": ""
            },
            "type": "choropleth"
           }
          ],
          "contour": [
           {
            "colorbar": {
             "outlinewidth": 0,
             "ticks": ""
            },
            "colorscale": [
             [
              0,
              "#0d0887"
             ],
             [
              0.1111111111111111,
              "#46039f"
             ],
             [
              0.2222222222222222,
              "#7201a8"
             ],
             [
              0.3333333333333333,
              "#9c179e"
             ],
             [
              0.4444444444444444,
              "#bd3786"
             ],
             [
              0.5555555555555556,
              "#d8576b"
             ],
             [
              0.6666666666666666,
              "#ed7953"
             ],
             [
              0.7777777777777778,
              "#fb9f3a"
             ],
             [
              0.8888888888888888,
              "#fdca26"
             ],
             [
              1,
              "#f0f921"
             ]
            ],
            "type": "contour"
           }
          ],
          "contourcarpet": [
           {
            "colorbar": {
             "outlinewidth": 0,
             "ticks": ""
            },
            "type": "contourcarpet"
           }
          ],
          "heatmap": [
           {
            "colorbar": {
             "outlinewidth": 0,
             "ticks": ""
            },
            "colorscale": [
             [
              0,
              "#0d0887"
             ],
             [
              0.1111111111111111,
              "#46039f"
             ],
             [
              0.2222222222222222,
              "#7201a8"
             ],
             [
              0.3333333333333333,
              "#9c179e"
             ],
             [
              0.4444444444444444,
              "#bd3786"
             ],
             [
              0.5555555555555556,
              "#d8576b"
             ],
             [
              0.6666666666666666,
              "#ed7953"
             ],
             [
              0.7777777777777778,
              "#fb9f3a"
             ],
             [
              0.8888888888888888,
              "#fdca26"
             ],
             [
              1,
              "#f0f921"
             ]
            ],
            "type": "heatmap"
           }
          ],
          "heatmapgl": [
           {
            "colorbar": {
             "outlinewidth": 0,
             "ticks": ""
            },
            "colorscale": [
             [
              0,
              "#0d0887"
             ],
             [
              0.1111111111111111,
              "#46039f"
             ],
             [
              0.2222222222222222,
              "#7201a8"
             ],
             [
              0.3333333333333333,
              "#9c179e"
             ],
             [
              0.4444444444444444,
              "#bd3786"
             ],
             [
              0.5555555555555556,
              "#d8576b"
             ],
             [
              0.6666666666666666,
              "#ed7953"
             ],
             [
              0.7777777777777778,
              "#fb9f3a"
             ],
             [
              0.8888888888888888,
              "#fdca26"
             ],
             [
              1,
              "#f0f921"
             ]
            ],
            "type": "heatmapgl"
           }
          ],
          "histogram": [
           {
            "marker": {
             "colorbar": {
              "outlinewidth": 0,
              "ticks": ""
             }
            },
            "type": "histogram"
           }
          ],
          "histogram2d": [
           {
            "colorbar": {
             "outlinewidth": 0,
             "ticks": ""
            },
            "colorscale": [
             [
              0,
              "#0d0887"
             ],
             [
              0.1111111111111111,
              "#46039f"
             ],
             [
              0.2222222222222222,
              "#7201a8"
             ],
             [
              0.3333333333333333,
              "#9c179e"
             ],
             [
              0.4444444444444444,
              "#bd3786"
             ],
             [
              0.5555555555555556,
              "#d8576b"
             ],
             [
              0.6666666666666666,
              "#ed7953"
             ],
             [
              0.7777777777777778,
              "#fb9f3a"
             ],
             [
              0.8888888888888888,
              "#fdca26"
             ],
             [
              1,
              "#f0f921"
             ]
            ],
            "type": "histogram2d"
           }
          ],
          "histogram2dcontour": [
           {
            "colorbar": {
             "outlinewidth": 0,
             "ticks": ""
            },
            "colorscale": [
             [
              0,
              "#0d0887"
             ],
             [
              0.1111111111111111,
              "#46039f"
             ],
             [
              0.2222222222222222,
              "#7201a8"
             ],
             [
              0.3333333333333333,
              "#9c179e"
             ],
             [
              0.4444444444444444,
              "#bd3786"
             ],
             [
              0.5555555555555556,
              "#d8576b"
             ],
             [
              0.6666666666666666,
              "#ed7953"
             ],
             [
              0.7777777777777778,
              "#fb9f3a"
             ],
             [
              0.8888888888888888,
              "#fdca26"
             ],
             [
              1,
              "#f0f921"
             ]
            ],
            "type": "histogram2dcontour"
           }
          ],
          "mesh3d": [
           {
            "colorbar": {
             "outlinewidth": 0,
             "ticks": ""
            },
            "type": "mesh3d"
           }
          ],
          "parcoords": [
           {
            "line": {
             "colorbar": {
              "outlinewidth": 0,
              "ticks": ""
             }
            },
            "type": "parcoords"
           }
          ],
          "pie": [
           {
            "automargin": true,
            "type": "pie"
           }
          ],
          "scatter": [
           {
            "marker": {
             "colorbar": {
              "outlinewidth": 0,
              "ticks": ""
             }
            },
            "type": "scatter"
           }
          ],
          "scatter3d": [
           {
            "line": {
             "colorbar": {
              "outlinewidth": 0,
              "ticks": ""
             }
            },
            "marker": {
             "colorbar": {
              "outlinewidth": 0,
              "ticks": ""
             }
            },
            "type": "scatter3d"
           }
          ],
          "scattercarpet": [
           {
            "marker": {
             "colorbar": {
              "outlinewidth": 0,
              "ticks": ""
             }
            },
            "type": "scattercarpet"
           }
          ],
          "scattergeo": [
           {
            "marker": {
             "colorbar": {
              "outlinewidth": 0,
              "ticks": ""
             }
            },
            "type": "scattergeo"
           }
          ],
          "scattergl": [
           {
            "marker": {
             "colorbar": {
              "outlinewidth": 0,
              "ticks": ""
             }
            },
            "type": "scattergl"
           }
          ],
          "scattermapbox": [
           {
            "marker": {
             "colorbar": {
              "outlinewidth": 0,
              "ticks": ""
             }
            },
            "type": "scattermapbox"
           }
          ],
          "scatterpolar": [
           {
            "marker": {
             "colorbar": {
              "outlinewidth": 0,
              "ticks": ""
             }
            },
            "type": "scatterpolar"
           }
          ],
          "scatterpolargl": [
           {
            "marker": {
             "colorbar": {
              "outlinewidth": 0,
              "ticks": ""
             }
            },
            "type": "scatterpolargl"
           }
          ],
          "scatterternary": [
           {
            "marker": {
             "colorbar": {
              "outlinewidth": 0,
              "ticks": ""
             }
            },
            "type": "scatterternary"
           }
          ],
          "surface": [
           {
            "colorbar": {
             "outlinewidth": 0,
             "ticks": ""
            },
            "colorscale": [
             [
              0,
              "#0d0887"
             ],
             [
              0.1111111111111111,
              "#46039f"
             ],
             [
              0.2222222222222222,
              "#7201a8"
             ],
             [
              0.3333333333333333,
              "#9c179e"
             ],
             [
              0.4444444444444444,
              "#bd3786"
             ],
             [
              0.5555555555555556,
              "#d8576b"
             ],
             [
              0.6666666666666666,
              "#ed7953"
             ],
             [
              0.7777777777777778,
              "#fb9f3a"
             ],
             [
              0.8888888888888888,
              "#fdca26"
             ],
             [
              1,
              "#f0f921"
             ]
            ],
            "type": "surface"
           }
          ],
          "table": [
           {
            "cells": {
             "fill": {
              "color": "#EBF0F8"
             },
             "line": {
              "color": "white"
             }
            },
            "header": {
             "fill": {
              "color": "#C8D4E3"
             },
             "line": {
              "color": "white"
             }
            },
            "type": "table"
           }
          ]
         },
         "layout": {
          "annotationdefaults": {
           "arrowcolor": "#2a3f5f",
           "arrowhead": 0,
           "arrowwidth": 1
          },
          "coloraxis": {
           "colorbar": {
            "outlinewidth": 0,
            "ticks": ""
           }
          },
          "colorscale": {
           "diverging": [
            [
             0,
             "#8e0152"
            ],
            [
             0.1,
             "#c51b7d"
            ],
            [
             0.2,
             "#de77ae"
            ],
            [
             0.3,
             "#f1b6da"
            ],
            [
             0.4,
             "#fde0ef"
            ],
            [
             0.5,
             "#f7f7f7"
            ],
            [
             0.6,
             "#e6f5d0"
            ],
            [
             0.7,
             "#b8e186"
            ],
            [
             0.8,
             "#7fbc41"
            ],
            [
             0.9,
             "#4d9221"
            ],
            [
             1,
             "#276419"
            ]
           ],
           "sequential": [
            [
             0,
             "#0d0887"
            ],
            [
             0.1111111111111111,
             "#46039f"
            ],
            [
             0.2222222222222222,
             "#7201a8"
            ],
            [
             0.3333333333333333,
             "#9c179e"
            ],
            [
             0.4444444444444444,
             "#bd3786"
            ],
            [
             0.5555555555555556,
             "#d8576b"
            ],
            [
             0.6666666666666666,
             "#ed7953"
            ],
            [
             0.7777777777777778,
             "#fb9f3a"
            ],
            [
             0.8888888888888888,
             "#fdca26"
            ],
            [
             1,
             "#f0f921"
            ]
           ],
           "sequentialminus": [
            [
             0,
             "#0d0887"
            ],
            [
             0.1111111111111111,
             "#46039f"
            ],
            [
             0.2222222222222222,
             "#7201a8"
            ],
            [
             0.3333333333333333,
             "#9c179e"
            ],
            [
             0.4444444444444444,
             "#bd3786"
            ],
            [
             0.5555555555555556,
             "#d8576b"
            ],
            [
             0.6666666666666666,
             "#ed7953"
            ],
            [
             0.7777777777777778,
             "#fb9f3a"
            ],
            [
             0.8888888888888888,
             "#fdca26"
            ],
            [
             1,
             "#f0f921"
            ]
           ]
          },
          "colorway": [
           "#636efa",
           "#EF553B",
           "#00cc96",
           "#ab63fa",
           "#FFA15A",
           "#19d3f3",
           "#FF6692",
           "#B6E880",
           "#FF97FF",
           "#FECB52"
          ],
          "font": {
           "color": "#2a3f5f"
          },
          "geo": {
           "bgcolor": "white",
           "lakecolor": "white",
           "landcolor": "#E5ECF6",
           "showlakes": true,
           "showland": true,
           "subunitcolor": "white"
          },
          "hoverlabel": {
           "align": "left"
          },
          "hovermode": "closest",
          "mapbox": {
           "style": "light"
          },
          "paper_bgcolor": "white",
          "plot_bgcolor": "#E5ECF6",
          "polar": {
           "angularaxis": {
            "gridcolor": "white",
            "linecolor": "white",
            "ticks": ""
           },
           "bgcolor": "#E5ECF6",
           "radialaxis": {
            "gridcolor": "white",
            "linecolor": "white",
            "ticks": ""
           }
          },
          "scene": {
           "xaxis": {
            "backgroundcolor": "#E5ECF6",
            "gridcolor": "white",
            "gridwidth": 2,
            "linecolor": "white",
            "showbackground": true,
            "ticks": "",
            "zerolinecolor": "white"
           },
           "yaxis": {
            "backgroundcolor": "#E5ECF6",
            "gridcolor": "white",
            "gridwidth": 2,
            "linecolor": "white",
            "showbackground": true,
            "ticks": "",
            "zerolinecolor": "white"
           },
           "zaxis": {
            "backgroundcolor": "#E5ECF6",
            "gridcolor": "white",
            "gridwidth": 2,
            "linecolor": "white",
            "showbackground": true,
            "ticks": "",
            "zerolinecolor": "white"
           }
          },
          "shapedefaults": {
           "line": {
            "color": "#2a3f5f"
           }
          },
          "ternary": {
           "aaxis": {
            "gridcolor": "white",
            "linecolor": "white",
            "ticks": ""
           },
           "baxis": {
            "gridcolor": "white",
            "linecolor": "white",
            "ticks": ""
           },
           "bgcolor": "#E5ECF6",
           "caxis": {
            "gridcolor": "white",
            "linecolor": "white",
            "ticks": ""
           }
          },
          "title": {
           "x": 0.05
          },
          "xaxis": {
           "automargin": true,
           "gridcolor": "white",
           "linecolor": "white",
           "ticks": "",
           "title": {
            "standoff": 15
           },
           "zerolinecolor": "white",
           "zerolinewidth": 2
          },
          "yaxis": {
           "automargin": true,
           "gridcolor": "white",
           "linecolor": "white",
           "ticks": "",
           "title": {
            "standoff": 15
           },
           "zerolinecolor": "white",
           "zerolinewidth": 2
          }
         }
        }
       }
      },
      "text/html": [
       "<div>\n",
       "        \n",
       "        \n",
       "            <div id=\"0e382f33-494e-466d-bcb6-b13c40eec80f\" class=\"plotly-graph-div\" style=\"height:525px; width:100%;\"></div>\n",
       "            <script type=\"text/javascript\">\n",
       "                require([\"plotly\"], function(Plotly) {\n",
       "                    window.PLOTLYENV=window.PLOTLYENV || {};\n",
       "                    \n",
       "                if (document.getElementById(\"0e382f33-494e-466d-bcb6-b13c40eec80f\")) {\n",
       "                    Plotly.newPlot(\n",
       "                        '0e382f33-494e-466d-bcb6-b13c40eec80f',\n",
       "                        [{\"hovertemplate\": \"%{y}\", \"name\": \"Susceptible\", \"type\": \"scatter\", \"x\": [0, 1, 2, 3, 4, 5, 6, 7, 8, 9, 10, 11, 12, 13, 14, 15, 16, 17, 18, 19, 20, 21, 22, 23, 24, 25, 26, 27, 28, 29, 30, 31, 32, 33, 34, 35, 36, 37, 38, 39, 40, 41, 42, 43, 44, 45, 46, 47, 48, 49, 50, 51, 52, 53, 54, 55, 56, 57, 58, 59, 60, 61, 62, 63, 64, 65, 66, 67, 68, 69, 70, 71, 72, 73, 74, 75, 76, 77, 78, 79, 80, 81, 82, 83, 84, 85, 86, 87, 88, 89, 90, 91, 92, 93, 94, 95, 96, 97, 98, 99, 100], \"y\": [99000, 98794, 98563, 98303, 98009, 97679, 97308, 96891, 96424, 95900, 95314, 94660, 93932, 93121, 92221, 91225, 90126, 88916, 87590, 86140, 84564, 82856, 81015, 79042, 76938, 74709, 72362, 69908, 67360, 64734, 62048, 59321, 56575, 53832, 51111, 48434, 45820, 43284, 40842, 38503, 36278, 34172, 32188, 30328, 28590, 26972, 25469, 24078, 22792, 21606, 20513, 19507, 18581, 17730, 16948, 16229, 15568, 14960, 14401, 13887, 13414, 12978, 12576, 12205, 11863, 11547, 11255, 10985, 10736, 10504, 10290, 10091, 9907, 9736, 9576, 9429, 9291, 9163, 9044, 8933, 8830, 8733, 8643, 8559, 8481, 8408, 8339, 8275, 8215, 8160, 8107, 8058, 8013, 7970, 7930, 7892, 7857, 7824, 7793, 7764, 7737]}, {\"hovertemplate\": \"%{y}\", \"name\": \"Infectious\", \"type\": \"scatter\", \"x\": [0, 1, 2, 3, 4, 5, 6, 7, 8, 9, 10, 11, 12, 13, 14, 15, 16, 17, 18, 19, 20, 21, 22, 23, 24, 25, 26, 27, 28, 29, 30, 31, 32, 33, 34, 35, 36, 37, 38, 39, 40, 41, 42, 43, 44, 45, 46, 47, 48, 49, 50, 51, 52, 53, 54, 55, 56, 57, 58, 59, 60, 61, 62, 63, 64, 65, 66, 67, 68, 69, 70, 71, 72, 73, 74, 75, 76, 77, 78, 79, 80, 81, 82, 83, 84, 85, 86, 87, 88, 89, 90, 91, 92, 93, 94, 95, 96, 97, 98, 99, 100], \"y\": [1000, 1129, 1276, 1440, 1626, 1833, 2067, 2328, 2620, 2947, 3311, 3716, 4165, 4663, 5212, 5816, 6478, 7201, 7986, 8835, 9747, 10722, 11757, 12846, 13984, 15162, 16369, 17592, 18818, 20029, 21209, 22341, 23408, 24391, 25278, 26054, 26710, 27238, 27632, 27893, 28021, 28021, 27898, 27661, 27319, 26884, 26365, 25774, 25122, 24420, 23677, 22903, 22107, 21296, 20477, 19656, 18840, 18031, 17234, 16453, 15689, 14946, 14224, 13525, 12850, 12200, 11575, 10974, 10399, 9848, 9322, 8820, 8341, 7886, 7452, 7039, 6648, 6276, 5923, 5589, 5272, 4972, 4688, 4420, 4166, 3926, 3699, 3485, 3282, 3092, 2911, 2741, 2581, 2430, 2287, 2153, 2026, 1907, 1794, 1688, 1589]}, {\"hovertemplate\": \"%{y}\", \"name\": \"Removed\", \"type\": \"scatter\", \"x\": [0, 1, 2, 3, 4, 5, 6, 7, 8, 9, 10, 11, 12, 13, 14, 15, 16, 17, 18, 19, 20, 21, 22, 23, 24, 25, 26, 27, 28, 29, 30, 31, 32, 33, 34, 35, 36, 37, 38, 39, 40, 41, 42, 43, 44, 45, 46, 47, 48, 49, 50, 51, 52, 53, 54, 55, 56, 57, 58, 59, 60, 61, 62, 63, 64, 65, 66, 67, 68, 69, 70, 71, 72, 73, 74, 75, 76, 77, 78, 79, 80, 81, 82, 83, 84, 85, 86, 87, 88, 89, 90, 91, 92, 93, 94, 95, 96, 97, 98, 99, 100], \"y\": [0, 29, 62, 99, 142, 189, 243, 304, 372, 449, 536, 633, 742, 864, 1001, 1154, 1325, 1515, 1726, 1961, 2220, 2506, 2821, 3166, 3543, 3953, 4398, 4879, 5395, 5947, 6535, 7157, 7813, 8500, 9216, 9958, 10723, 11506, 12306, 13117, 13935, 14758, 15580, 16399, 17211, 18012, 18801, 19575, 20332, 21069, 21786, 22480, 23153, 23801, 24426, 25027, 25604, 26157, 26686, 27192, 27675, 28136, 28574, 28992, 29389, 29766, 30124, 30463, 30786, 31091, 31380, 31653, 31912, 32157, 32389, 32607, 32814, 33009, 33193, 33367, 33531, 33686, 33832, 33969, 34099, 34221, 34337, 34445, 34547, 34644, 34734, 34820, 34900, 34976, 35047, 35115, 35178, 35237, 35293, 35346, 35395]}, {\"hovertemplate\": \"%{y}\", \"name\": \"Quarantined\", \"type\": \"scatter\", \"x\": [0, 1, 2, 3, 4, 5, 6, 7, 8, 9, 10, 11, 12, 13, 14, 15, 16, 17, 18, 19, 20, 21, 22, 23, 24, 25, 26, 27, 28, 29, 30, 31, 32, 33, 34, 35, 36, 37, 38, 39, 40, 41, 42, 43, 44, 45, 46, 47, 48, 49, 50, 51, 52, 53, 54, 55, 56, 57, 58, 59, 60, 61, 62, 63, 64, 65, 66, 67, 68, 69, 70, 71, 72, 73, 74, 75, 76, 77, 78, 79, 80, 81, 82, 83, 84, 85, 86, 87, 88, 89, 90, 91, 92, 93, 94, 95, 96, 97, 98, 99, 100], \"y\": [0, 45, 97, 156, 222, 296, 380, 475, 582, 702, 837, 989, 1159, 1350, 1564, 1803, 2069, 2366, 2696, 3062, 3467, 3914, 4405, 4944, 5533, 6174, 6869, 7619, 8425, 9288, 10206, 11178, 12202, 13275, 14393, 15551, 16746, 17970, 19218, 20485, 21763, 23047, 24332, 25610, 26878, 28130, 29362, 30571, 31752, 32904, 34023, 35108, 36158, 37171, 38147, 39085, 39986, 40850, 41676, 42466, 43220, 43939, 44624, 45276, 45896, 46485, 47044, 47575, 48078, 48555, 49006, 49433, 49838, 50220, 50581, 50923, 51245, 51550, 51838, 52109, 52366, 52607, 52835, 53050, 53253, 53443, 53623, 53793, 53953, 54103, 54245, 54378, 54504, 54622, 54734, 54839, 54937, 55030, 55118, 55200, 55277]}, {\"hovertemplate\": \"%{y}\", \"marker\": {\"symbol\": 1}, \"mode\": \"markers\", \"name\": \"Estimated\", \"type\": \"scatter\", \"x\": [10, 20, 30, 40, 50, 60, 70, 80, 90], \"y\": [1400.0, 5500.0, 16300.0, 38600.0, 29900.0, 15600.0, 6500.0, 1900.0, 300.0]}, {\"hovertemplate\": \"%{y}\", \"marker\": {\"symbol\": 3}, \"mode\": \"markers\", \"name\": \"Resisted\", \"type\": \"scatter\", \"x\": [10, 20, 30, 40, 50, 60, 70, 80, 90], \"y\": [297.615, 976.38, 4296.814, 11096.589000000002, 23718.213, 27412.716, 31606.857, 32906.108, 33677.424]}, {\"hovertemplate\": \"%{y}\", \"marker\": {\"symbol\": 2}, \"mode\": \"markers\", \"name\": \"Confirmed\", \"type\": \"scatter\", \"x\": [10, 20, 30, 40, 50, 60, 70, 80, 90], \"y\": [777, 2373, 6678, 19074, 35578, 45339, 50503, 53724, 55091]}],\n",
       "                        {\"margin\": {\"b\": 0, \"l\": 0, \"r\": 0, \"t\": 25}, \"template\": {\"data\": {\"bar\": [{\"error_x\": {\"color\": \"#2a3f5f\"}, \"error_y\": {\"color\": \"#2a3f5f\"}, \"marker\": {\"line\": {\"color\": \"#E5ECF6\", \"width\": 0.5}}, \"type\": \"bar\"}], \"barpolar\": [{\"marker\": {\"line\": {\"color\": \"#E5ECF6\", \"width\": 0.5}}, \"type\": \"barpolar\"}], \"carpet\": [{\"aaxis\": {\"endlinecolor\": \"#2a3f5f\", \"gridcolor\": \"white\", \"linecolor\": \"white\", \"minorgridcolor\": \"white\", \"startlinecolor\": \"#2a3f5f\"}, \"baxis\": {\"endlinecolor\": \"#2a3f5f\", \"gridcolor\": \"white\", \"linecolor\": \"white\", \"minorgridcolor\": \"white\", \"startlinecolor\": \"#2a3f5f\"}, \"type\": \"carpet\"}], \"choropleth\": [{\"colorbar\": {\"outlinewidth\": 0, \"ticks\": \"\"}, \"type\": \"choropleth\"}], \"contour\": [{\"colorbar\": {\"outlinewidth\": 0, \"ticks\": \"\"}, \"colorscale\": [[0.0, \"#0d0887\"], [0.1111111111111111, \"#46039f\"], [0.2222222222222222, \"#7201a8\"], [0.3333333333333333, \"#9c179e\"], [0.4444444444444444, \"#bd3786\"], [0.5555555555555556, \"#d8576b\"], [0.6666666666666666, \"#ed7953\"], [0.7777777777777778, \"#fb9f3a\"], [0.8888888888888888, \"#fdca26\"], [1.0, \"#f0f921\"]], \"type\": \"contour\"}], \"contourcarpet\": [{\"colorbar\": {\"outlinewidth\": 0, \"ticks\": \"\"}, \"type\": \"contourcarpet\"}], \"heatmap\": [{\"colorbar\": {\"outlinewidth\": 0, \"ticks\": \"\"}, \"colorscale\": [[0.0, \"#0d0887\"], [0.1111111111111111, \"#46039f\"], [0.2222222222222222, \"#7201a8\"], [0.3333333333333333, \"#9c179e\"], [0.4444444444444444, \"#bd3786\"], [0.5555555555555556, \"#d8576b\"], [0.6666666666666666, \"#ed7953\"], [0.7777777777777778, \"#fb9f3a\"], [0.8888888888888888, \"#fdca26\"], [1.0, \"#f0f921\"]], \"type\": \"heatmap\"}], \"heatmapgl\": [{\"colorbar\": {\"outlinewidth\": 0, \"ticks\": \"\"}, \"colorscale\": [[0.0, \"#0d0887\"], [0.1111111111111111, \"#46039f\"], [0.2222222222222222, \"#7201a8\"], [0.3333333333333333, \"#9c179e\"], [0.4444444444444444, \"#bd3786\"], [0.5555555555555556, \"#d8576b\"], [0.6666666666666666, \"#ed7953\"], [0.7777777777777778, \"#fb9f3a\"], [0.8888888888888888, \"#fdca26\"], [1.0, \"#f0f921\"]], \"type\": \"heatmapgl\"}], \"histogram\": [{\"marker\": {\"colorbar\": {\"outlinewidth\": 0, \"ticks\": \"\"}}, \"type\": \"histogram\"}], \"histogram2d\": [{\"colorbar\": {\"outlinewidth\": 0, \"ticks\": \"\"}, \"colorscale\": [[0.0, \"#0d0887\"], [0.1111111111111111, \"#46039f\"], [0.2222222222222222, \"#7201a8\"], [0.3333333333333333, \"#9c179e\"], [0.4444444444444444, \"#bd3786\"], [0.5555555555555556, \"#d8576b\"], [0.6666666666666666, \"#ed7953\"], [0.7777777777777778, \"#fb9f3a\"], [0.8888888888888888, \"#fdca26\"], [1.0, \"#f0f921\"]], \"type\": \"histogram2d\"}], \"histogram2dcontour\": [{\"colorbar\": {\"outlinewidth\": 0, \"ticks\": \"\"}, \"colorscale\": [[0.0, \"#0d0887\"], [0.1111111111111111, \"#46039f\"], [0.2222222222222222, \"#7201a8\"], [0.3333333333333333, \"#9c179e\"], [0.4444444444444444, \"#bd3786\"], [0.5555555555555556, \"#d8576b\"], [0.6666666666666666, \"#ed7953\"], [0.7777777777777778, \"#fb9f3a\"], [0.8888888888888888, \"#fdca26\"], [1.0, \"#f0f921\"]], \"type\": \"histogram2dcontour\"}], \"mesh3d\": [{\"colorbar\": {\"outlinewidth\": 0, \"ticks\": \"\"}, \"type\": \"mesh3d\"}], \"parcoords\": [{\"line\": {\"colorbar\": {\"outlinewidth\": 0, \"ticks\": \"\"}}, \"type\": \"parcoords\"}], \"pie\": [{\"automargin\": true, \"type\": \"pie\"}], \"scatter\": [{\"marker\": {\"colorbar\": {\"outlinewidth\": 0, \"ticks\": \"\"}}, \"type\": \"scatter\"}], \"scatter3d\": [{\"line\": {\"colorbar\": {\"outlinewidth\": 0, \"ticks\": \"\"}}, \"marker\": {\"colorbar\": {\"outlinewidth\": 0, \"ticks\": \"\"}}, \"type\": \"scatter3d\"}], \"scattercarpet\": [{\"marker\": {\"colorbar\": {\"outlinewidth\": 0, \"ticks\": \"\"}}, \"type\": \"scattercarpet\"}], \"scattergeo\": [{\"marker\": {\"colorbar\": {\"outlinewidth\": 0, \"ticks\": \"\"}}, \"type\": \"scattergeo\"}], \"scattergl\": [{\"marker\": {\"colorbar\": {\"outlinewidth\": 0, \"ticks\": \"\"}}, \"type\": \"scattergl\"}], \"scattermapbox\": [{\"marker\": {\"colorbar\": {\"outlinewidth\": 0, \"ticks\": \"\"}}, \"type\": \"scattermapbox\"}], \"scatterpolar\": [{\"marker\": {\"colorbar\": {\"outlinewidth\": 0, \"ticks\": \"\"}}, \"type\": \"scatterpolar\"}], \"scatterpolargl\": [{\"marker\": {\"colorbar\": {\"outlinewidth\": 0, \"ticks\": \"\"}}, \"type\": \"scatterpolargl\"}], \"scatterternary\": [{\"marker\": {\"colorbar\": {\"outlinewidth\": 0, \"ticks\": \"\"}}, \"type\": \"scatterternary\"}], \"surface\": [{\"colorbar\": {\"outlinewidth\": 0, \"ticks\": \"\"}, \"colorscale\": [[0.0, \"#0d0887\"], [0.1111111111111111, \"#46039f\"], [0.2222222222222222, \"#7201a8\"], [0.3333333333333333, \"#9c179e\"], [0.4444444444444444, \"#bd3786\"], [0.5555555555555556, \"#d8576b\"], [0.6666666666666666, \"#ed7953\"], [0.7777777777777778, \"#fb9f3a\"], [0.8888888888888888, \"#fdca26\"], [1.0, \"#f0f921\"]], \"type\": \"surface\"}], \"table\": [{\"cells\": {\"fill\": {\"color\": \"#EBF0F8\"}, \"line\": {\"color\": \"white\"}}, \"header\": {\"fill\": {\"color\": \"#C8D4E3\"}, \"line\": {\"color\": \"white\"}}, \"type\": \"table\"}]}, \"layout\": {\"annotationdefaults\": {\"arrowcolor\": \"#2a3f5f\", \"arrowhead\": 0, \"arrowwidth\": 1}, \"coloraxis\": {\"colorbar\": {\"outlinewidth\": 0, \"ticks\": \"\"}}, \"colorscale\": {\"diverging\": [[0, \"#8e0152\"], [0.1, \"#c51b7d\"], [0.2, \"#de77ae\"], [0.3, \"#f1b6da\"], [0.4, \"#fde0ef\"], [0.5, \"#f7f7f7\"], [0.6, \"#e6f5d0\"], [0.7, \"#b8e186\"], [0.8, \"#7fbc41\"], [0.9, \"#4d9221\"], [1, \"#276419\"]], \"sequential\": [[0.0, \"#0d0887\"], [0.1111111111111111, \"#46039f\"], [0.2222222222222222, \"#7201a8\"], [0.3333333333333333, \"#9c179e\"], [0.4444444444444444, \"#bd3786\"], [0.5555555555555556, \"#d8576b\"], [0.6666666666666666, \"#ed7953\"], [0.7777777777777778, \"#fb9f3a\"], [0.8888888888888888, \"#fdca26\"], [1.0, \"#f0f921\"]], \"sequentialminus\": [[0.0, \"#0d0887\"], [0.1111111111111111, \"#46039f\"], [0.2222222222222222, \"#7201a8\"], [0.3333333333333333, \"#9c179e\"], [0.4444444444444444, \"#bd3786\"], [0.5555555555555556, \"#d8576b\"], [0.6666666666666666, \"#ed7953\"], [0.7777777777777778, \"#fb9f3a\"], [0.8888888888888888, \"#fdca26\"], [1.0, \"#f0f921\"]]}, \"colorway\": [\"#636efa\", \"#EF553B\", \"#00cc96\", \"#ab63fa\", \"#FFA15A\", \"#19d3f3\", \"#FF6692\", \"#B6E880\", \"#FF97FF\", \"#FECB52\"], \"font\": {\"color\": \"#2a3f5f\"}, \"geo\": {\"bgcolor\": \"white\", \"lakecolor\": \"white\", \"landcolor\": \"#E5ECF6\", \"showlakes\": true, \"showland\": true, \"subunitcolor\": \"white\"}, \"hoverlabel\": {\"align\": \"left\"}, \"hovermode\": \"closest\", \"mapbox\": {\"style\": \"light\"}, \"paper_bgcolor\": \"white\", \"plot_bgcolor\": \"#E5ECF6\", \"polar\": {\"angularaxis\": {\"gridcolor\": \"white\", \"linecolor\": \"white\", \"ticks\": \"\"}, \"bgcolor\": \"#E5ECF6\", \"radialaxis\": {\"gridcolor\": \"white\", \"linecolor\": \"white\", \"ticks\": \"\"}}, \"scene\": {\"xaxis\": {\"backgroundcolor\": \"#E5ECF6\", \"gridcolor\": \"white\", \"gridwidth\": 2, \"linecolor\": \"white\", \"showbackground\": true, \"ticks\": \"\", \"zerolinecolor\": \"white\"}, \"yaxis\": {\"backgroundcolor\": \"#E5ECF6\", \"gridcolor\": \"white\", \"gridwidth\": 2, \"linecolor\": \"white\", \"showbackground\": true, \"ticks\": \"\", \"zerolinecolor\": \"white\"}, \"zaxis\": {\"backgroundcolor\": \"#E5ECF6\", \"gridcolor\": \"white\", \"gridwidth\": 2, \"linecolor\": \"white\", \"showbackground\": true, \"ticks\": \"\", \"zerolinecolor\": \"white\"}}, \"shapedefaults\": {\"line\": {\"color\": \"#2a3f5f\"}}, \"ternary\": {\"aaxis\": {\"gridcolor\": \"white\", \"linecolor\": \"white\", \"ticks\": \"\"}, \"baxis\": {\"gridcolor\": \"white\", \"linecolor\": \"white\", \"ticks\": \"\"}, \"bgcolor\": \"#E5ECF6\", \"caxis\": {\"gridcolor\": \"white\", \"linecolor\": \"white\", \"ticks\": \"\"}}, \"title\": {\"x\": 0.05}, \"xaxis\": {\"automargin\": true, \"gridcolor\": \"white\", \"linecolor\": \"white\", \"ticks\": \"\", \"title\": {\"standoff\": 15}, \"zerolinecolor\": \"white\", \"zerolinewidth\": 2}, \"yaxis\": {\"automargin\": true, \"gridcolor\": \"white\", \"linecolor\": \"white\", \"ticks\": \"\", \"title\": {\"standoff\": 15}, \"zerolinecolor\": \"white\", \"zerolinewidth\": 2}}}},\n",
       "                        {\"responsive\": true}\n",
       "                    ).then(function(){\n",
       "                            \n",
       "var gd = document.getElementById('0e382f33-494e-466d-bcb6-b13c40eec80f');\n",
       "var x = new MutationObserver(function (mutations, observer) {{\n",
       "        var display = window.getComputedStyle(gd).display;\n",
       "        if (!display || display === 'none') {{\n",
       "            console.log([gd, 'removed!']);\n",
       "            Plotly.purge(gd);\n",
       "            observer.disconnect();\n",
       "        }}\n",
       "}});\n",
       "\n",
       "// Listen for the removal of the full notebook cells\n",
       "var notebookContainer = gd.closest('#notebook-container');\n",
       "if (notebookContainer) {{\n",
       "    x.observe(notebookContainer, {childList: true});\n",
       "}}\n",
       "\n",
       "// Listen for the clearing of the current output cell\n",
       "var outputEl = gd.closest('.output');\n",
       "if (outputEl) {{\n",
       "    x.observe(outputEl, {childList: true});\n",
       "}}\n",
       "\n",
       "                        })\n",
       "                };\n",
       "                });\n",
       "            </script>\n",
       "        </div>"
      ]
     },
     "metadata": {},
     "output_type": "display_data"
    }
   ],
   "source": [
    "fig = SIRQ.plot(SIRQ(b.beta, b.gamma, b.theta).estimate(city, T))\n",
    "sample.plot(fig)\n",
    "resisted.plot(fig)\n",
    "confirmed.plot(fig)"
   ]
  },
  {
   "cell_type": "code",
   "execution_count": 143,
   "metadata": {
    "scrolled": false
   },
   "outputs": [
    {
     "name": "stdout",
     "output_type": "stream",
     "text": [
      "Optimization terminated successfully.\n",
      "         Current function value: -511.545721\n",
      "         Iterations: 324478\n",
      "         Function evaluations: 340296\n"
     ]
    },
    {
     "data": {
      "application/vnd.plotly.v1+json": {
       "config": {
        "plotlyServerURL": "https://plot.ly"
       },
       "data": [
        {
         "hovertemplate": "%{y}",
         "line": {
          "shape": "hv"
         },
         "name": "β",
         "type": "scatter",
         "x": [
          0,
          1,
          2,
          3,
          4,
          5,
          6,
          7,
          8,
          9,
          10,
          11,
          12,
          13,
          14,
          15,
          16,
          17,
          18,
          19,
          20,
          21,
          22,
          23,
          24,
          25,
          26,
          27,
          28,
          29,
          30,
          31,
          32,
          33,
          34,
          35,
          36,
          37,
          38,
          39,
          40,
          41,
          42,
          43,
          44,
          45,
          46,
          47,
          48,
          49,
          50,
          51,
          52,
          53,
          54,
          55,
          56,
          57,
          58,
          59,
          60,
          61,
          62,
          63,
          64,
          65,
          66,
          67,
          68,
          69,
          70,
          71,
          72,
          73,
          74,
          75,
          76,
          77,
          78,
          79,
          80,
          81,
          82,
          83,
          84,
          85,
          86,
          87,
          88,
          89
         ],
         "y": [
          0.16107982937237839,
          0.1610678220430744,
          0.15982409947182358,
          0.1597816350587153,
          0.15985843250473114,
          0.15189914231501503,
          0.1518591287977733,
          0.14863620479007855,
          0.14863180640241758,
          0.14863180927126596,
          0.15006147994619112,
          0.16762614629267694,
          0.1674527658140041,
          0.17194124271699313,
          0.17297185385771244,
          0.17344885016315226,
          0.173193751965781,
          0.17281901075612915,
          0.1728478292680018,
          0.21514174918901327,
          0.21611861129288945,
          0.21673068698816966,
          0.2166248712794654,
          0.21700916020927702,
          0.21559060244122308,
          0.21402775207271219,
          0.21382459407575236,
          0.21355409919574966,
          0.21311315068916825,
          0.21773843499431805,
          0.29041874313664107,
          0.2942804097887959,
          0.29424850610852626,
          0.29312648858343127,
          0.29305496050390134,
          0.2938296252982764,
          0.2919777714393045,
          0.28877216059279154,
          0.2879223322658531,
          0.28792459277634674,
          0.24859115978655674,
          0.2236896127747475,
          0.22259892108787976,
          0.22259892061835845,
          0.2226395054594994,
          0.2211119413758471,
          0.21772696101132222,
          0.20414256783917217,
          0.17919635447285676,
          0.1788283678336548,
          0.1779643211146389,
          0.14057298315542224,
          0.13356140626114268,
          0.13199513047127803,
          0.13198361291018545,
          0.13074884063516856,
          0.13040995914298686,
          0.1312905790904178,
          0.13131140970947008,
          0.1313114095739763,
          0.1265736931113754,
          0.12613497414224373,
          0.1240806052279455,
          0.1240921653236357,
          0.12414547318126011,
          0.13600737984682637,
          0.13842113761534933,
          0.1384211320909063,
          0.14293744376561593,
          0.155758374742565,
          0.15582289896540685,
          0.1562033145635886,
          0.16536402772777847,
          0.16834500105887146,
          0.16832272893075326,
          0.16832266167476873,
          0.16882488941682003,
          0.17045070504624538,
          0.1703015735366914,
          0.17222262231831847,
          0.17222544102906412,
          0.17501710745962212,
          0.1750164869669219,
          0.17501719255822437,
          0.19371285236662697,
          0.196124952302974,
          0.1974571771829538,
          0.1894539090920938,
          0.1881547648930157,
          0.18816569133527594
         ]
        },
        {
         "hovertemplate": "%{y}",
         "line": {
          "shape": "hv"
         },
         "name": "γ",
         "type": "scatter",
         "x": [
          0,
          1,
          2,
          3,
          4,
          5,
          6,
          7,
          8,
          9,
          10,
          11,
          12,
          13,
          14,
          15,
          16,
          17,
          18,
          19,
          20,
          21,
          22,
          23,
          24,
          25,
          26,
          27,
          28,
          29,
          30,
          31,
          32,
          33,
          34,
          35,
          36,
          37,
          38,
          39,
          40,
          41,
          42,
          43,
          44,
          45,
          46,
          47,
          48,
          49,
          50,
          51,
          52,
          53,
          54,
          55,
          56,
          57,
          58,
          59,
          60,
          61,
          62,
          63,
          64,
          65,
          66,
          67,
          68,
          69,
          70,
          71,
          72,
          73,
          74,
          75,
          76,
          77,
          78,
          79,
          80,
          81,
          82,
          83,
          84,
          85,
          86,
          87,
          88,
          89
         ],
         "y": [
          0.031137296476097295,
          0.031137296476097295,
          0.031137296476097295,
          0.031137296476097295,
          0.031137296476097295,
          0.031137296476097295,
          0.031137296476097295,
          0.031137296476097295,
          0.031137296476097295,
          0.031137296476097295,
          0.031137296476097295,
          0.031137296476097295,
          0.031137296476097295,
          0.031137296476097295,
          0.031137296476097295,
          0.031137296476097295,
          0.031137296476097295,
          0.031137296476097295,
          0.031137296476097295,
          0.031137296476097295,
          0.031137296476097295,
          0.031137296476097295,
          0.031137296476097295,
          0.031137296476097295,
          0.031137296476097295,
          0.031137296476097295,
          0.031137296476097295,
          0.031137296476097295,
          0.031137296476097295,
          0.031137296476097295,
          0.031137296476097295,
          0.031137296476097295,
          0.031137296476097295,
          0.031137296476097295,
          0.031137296476097295,
          0.031137296476097295,
          0.031137296476097295,
          0.031137296476097295,
          0.031137296476097295,
          0.031137296476097295,
          0.031137296476097295,
          0.031137296476097295,
          0.031137296476097295,
          0.031137296476097295,
          0.031137296476097295,
          0.031137296476097295,
          0.031137296476097295,
          0.031137296476097295,
          0.031137296476097295,
          0.031137296476097295,
          0.031137296476097295,
          0.031137296476097295,
          0.031137296476097295,
          0.031137296476097295,
          0.031137296476097295,
          0.031137296476097295,
          0.031137296476097295,
          0.031137296476097295,
          0.031137296476097295,
          0.031137296476097295,
          0.031137296476097295,
          0.031137296476097295,
          0.031137296476097295,
          0.031137296476097295,
          0.031137296476097295,
          0.031137296476097295,
          0.031137296476097295,
          0.031137296476097295,
          0.031137296476097295,
          0.031137296476097295,
          0.031137296476097295,
          0.031137296476097295,
          0.031137296476097295,
          0.031137296476097295,
          0.031137296476097295,
          0.031137296476097295,
          0.031137296476097295,
          0.031137296476097295,
          0.031137296476097295,
          0.031137296476097295,
          0.031137296476097295,
          0.031137296476097295,
          0.031137296476097295,
          0.031137296476097295,
          0.031137296476097295,
          0.031137296476097295,
          0.031137296476097295,
          0.031137296476097295,
          0.031137296476097295,
          0.031137296476097295
         ]
        },
        {
         "hovertemplate": "%{y}",
         "line": {
          "shape": "hv"
         },
         "name": "θ",
         "type": "scatter",
         "x": [
          0,
          1,
          2,
          3,
          4,
          5,
          6,
          7,
          8,
          9,
          10,
          11,
          12,
          13,
          14,
          15,
          16,
          17,
          18,
          19,
          20,
          21,
          22,
          23,
          24,
          25,
          26,
          27,
          28,
          29,
          30,
          31,
          32,
          33,
          34,
          35,
          36,
          37,
          38,
          39,
          40,
          41,
          42,
          43,
          44,
          45,
          46,
          47,
          48,
          49,
          50,
          51,
          52,
          53,
          54,
          55,
          56,
          57,
          58,
          59,
          60,
          61,
          62,
          63,
          64,
          65,
          66,
          67,
          68,
          69,
          70,
          71,
          72,
          73,
          74,
          75,
          76,
          77,
          78,
          79,
          80,
          81,
          82,
          83,
          84,
          85,
          86,
          87,
          88,
          89
         ],
         "y": [
          0.04991790390639004,
          0.04991790391179913,
          0.040545229804733324,
          0.04052447590056247,
          0.04019300840783596,
          0.040692438857344845,
          0.04090105955418828,
          0.040913888350481514,
          0.040929735525901616,
          0.04056513294891202,
          0.04056513297724884,
          0.04063519222440727,
          0.039891856841184584,
          0.03961725466446528,
          0.03968766088361585,
          0.03968766030213377,
          0.0396879125975842,
          0.03971496676300441,
          0.039836239519498794,
          0.03980732085276745,
          0.040072127888985586,
          0.04007083118159099,
          0.04006331915210817,
          0.04024665179592811,
          0.04225826622949108,
          0.04238894449293481,
          0.042781383543284826,
          0.04285446044045407,
          0.042946414410919696,
          0.042949541840768594,
          0.04291124564955,
          0.04245855116270189,
          0.04245861148780701,
          0.0425398309727186,
          0.042739607333033725,
          0.045167610088593706,
          0.04520706233059839,
          0.04520733830186062,
          0.05309074243035038,
          0.053090662823688003,
          0.053745568396497266,
          0.05374580069102763,
          0.053772959106173815,
          0.05375885850046805,
          0.05349688746466928,
          0.05359112655659451,
          0.05359500369237245,
          0.05386113411927804,
          0.053853569177235466,
          0.053852861232696725,
          0.05518270677268379,
          0.056345363486226145,
          0.057168841472815965,
          0.05760946600784925,
          0.05723142450647048,
          0.055855883797587484,
          0.05454344346610391,
          0.05395038391794201,
          0.05368019147488219,
          0.053708447068903285,
          0.05404864370561549,
          0.05404827954830524,
          0.054124819726676286,
          0.05417694425910325,
          0.05448115649851297,
          0.05452937753438031,
          0.05528097705753068,
          0.055279592441188394,
          0.055172180279529026,
          0.0550719829012838,
          0.054095533161734224,
          0.0540579234630101,
          0.05401865400764842,
          0.053978940791195404,
          0.05116334881350919,
          0.05124643296728679,
          0.05125475054433808,
          0.05020855069275297,
          0.04718239328904106,
          0.04712841278254476,
          0.04560917880348983,
          0.04528716141821046,
          0.045237167546846285,
          0.0452319827019277,
          0.04508556755097552,
          0.045068731294835476,
          0.04506862015956892,
          0.03911169944145853,
          0.037889463355581056,
          0.037890130001723255
         ]
        }
       ],
       "layout": {
        "template": {
         "data": {
          "bar": [
           {
            "error_x": {
             "color": "#2a3f5f"
            },
            "error_y": {
             "color": "#2a3f5f"
            },
            "marker": {
             "line": {
              "color": "#E5ECF6",
              "width": 0.5
             }
            },
            "type": "bar"
           }
          ],
          "barpolar": [
           {
            "marker": {
             "line": {
              "color": "#E5ECF6",
              "width": 0.5
             }
            },
            "type": "barpolar"
           }
          ],
          "carpet": [
           {
            "aaxis": {
             "endlinecolor": "#2a3f5f",
             "gridcolor": "white",
             "linecolor": "white",
             "minorgridcolor": "white",
             "startlinecolor": "#2a3f5f"
            },
            "baxis": {
             "endlinecolor": "#2a3f5f",
             "gridcolor": "white",
             "linecolor": "white",
             "minorgridcolor": "white",
             "startlinecolor": "#2a3f5f"
            },
            "type": "carpet"
           }
          ],
          "choropleth": [
           {
            "colorbar": {
             "outlinewidth": 0,
             "ticks": ""
            },
            "type": "choropleth"
           }
          ],
          "contour": [
           {
            "colorbar": {
             "outlinewidth": 0,
             "ticks": ""
            },
            "colorscale": [
             [
              0,
              "#0d0887"
             ],
             [
              0.1111111111111111,
              "#46039f"
             ],
             [
              0.2222222222222222,
              "#7201a8"
             ],
             [
              0.3333333333333333,
              "#9c179e"
             ],
             [
              0.4444444444444444,
              "#bd3786"
             ],
             [
              0.5555555555555556,
              "#d8576b"
             ],
             [
              0.6666666666666666,
              "#ed7953"
             ],
             [
              0.7777777777777778,
              "#fb9f3a"
             ],
             [
              0.8888888888888888,
              "#fdca26"
             ],
             [
              1,
              "#f0f921"
             ]
            ],
            "type": "contour"
           }
          ],
          "contourcarpet": [
           {
            "colorbar": {
             "outlinewidth": 0,
             "ticks": ""
            },
            "type": "contourcarpet"
           }
          ],
          "heatmap": [
           {
            "colorbar": {
             "outlinewidth": 0,
             "ticks": ""
            },
            "colorscale": [
             [
              0,
              "#0d0887"
             ],
             [
              0.1111111111111111,
              "#46039f"
             ],
             [
              0.2222222222222222,
              "#7201a8"
             ],
             [
              0.3333333333333333,
              "#9c179e"
             ],
             [
              0.4444444444444444,
              "#bd3786"
             ],
             [
              0.5555555555555556,
              "#d8576b"
             ],
             [
              0.6666666666666666,
              "#ed7953"
             ],
             [
              0.7777777777777778,
              "#fb9f3a"
             ],
             [
              0.8888888888888888,
              "#fdca26"
             ],
             [
              1,
              "#f0f921"
             ]
            ],
            "type": "heatmap"
           }
          ],
          "heatmapgl": [
           {
            "colorbar": {
             "outlinewidth": 0,
             "ticks": ""
            },
            "colorscale": [
             [
              0,
              "#0d0887"
             ],
             [
              0.1111111111111111,
              "#46039f"
             ],
             [
              0.2222222222222222,
              "#7201a8"
             ],
             [
              0.3333333333333333,
              "#9c179e"
             ],
             [
              0.4444444444444444,
              "#bd3786"
             ],
             [
              0.5555555555555556,
              "#d8576b"
             ],
             [
              0.6666666666666666,
              "#ed7953"
             ],
             [
              0.7777777777777778,
              "#fb9f3a"
             ],
             [
              0.8888888888888888,
              "#fdca26"
             ],
             [
              1,
              "#f0f921"
             ]
            ],
            "type": "heatmapgl"
           }
          ],
          "histogram": [
           {
            "marker": {
             "colorbar": {
              "outlinewidth": 0,
              "ticks": ""
             }
            },
            "type": "histogram"
           }
          ],
          "histogram2d": [
           {
            "colorbar": {
             "outlinewidth": 0,
             "ticks": ""
            },
            "colorscale": [
             [
              0,
              "#0d0887"
             ],
             [
              0.1111111111111111,
              "#46039f"
             ],
             [
              0.2222222222222222,
              "#7201a8"
             ],
             [
              0.3333333333333333,
              "#9c179e"
             ],
             [
              0.4444444444444444,
              "#bd3786"
             ],
             [
              0.5555555555555556,
              "#d8576b"
             ],
             [
              0.6666666666666666,
              "#ed7953"
             ],
             [
              0.7777777777777778,
              "#fb9f3a"
             ],
             [
              0.8888888888888888,
              "#fdca26"
             ],
             [
              1,
              "#f0f921"
             ]
            ],
            "type": "histogram2d"
           }
          ],
          "histogram2dcontour": [
           {
            "colorbar": {
             "outlinewidth": 0,
             "ticks": ""
            },
            "colorscale": [
             [
              0,
              "#0d0887"
             ],
             [
              0.1111111111111111,
              "#46039f"
             ],
             [
              0.2222222222222222,
              "#7201a8"
             ],
             [
              0.3333333333333333,
              "#9c179e"
             ],
             [
              0.4444444444444444,
              "#bd3786"
             ],
             [
              0.5555555555555556,
              "#d8576b"
             ],
             [
              0.6666666666666666,
              "#ed7953"
             ],
             [
              0.7777777777777778,
              "#fb9f3a"
             ],
             [
              0.8888888888888888,
              "#fdca26"
             ],
             [
              1,
              "#f0f921"
             ]
            ],
            "type": "histogram2dcontour"
           }
          ],
          "mesh3d": [
           {
            "colorbar": {
             "outlinewidth": 0,
             "ticks": ""
            },
            "type": "mesh3d"
           }
          ],
          "parcoords": [
           {
            "line": {
             "colorbar": {
              "outlinewidth": 0,
              "ticks": ""
             }
            },
            "type": "parcoords"
           }
          ],
          "pie": [
           {
            "automargin": true,
            "type": "pie"
           }
          ],
          "scatter": [
           {
            "marker": {
             "colorbar": {
              "outlinewidth": 0,
              "ticks": ""
             }
            },
            "type": "scatter"
           }
          ],
          "scatter3d": [
           {
            "line": {
             "colorbar": {
              "outlinewidth": 0,
              "ticks": ""
             }
            },
            "marker": {
             "colorbar": {
              "outlinewidth": 0,
              "ticks": ""
             }
            },
            "type": "scatter3d"
           }
          ],
          "scattercarpet": [
           {
            "marker": {
             "colorbar": {
              "outlinewidth": 0,
              "ticks": ""
             }
            },
            "type": "scattercarpet"
           }
          ],
          "scattergeo": [
           {
            "marker": {
             "colorbar": {
              "outlinewidth": 0,
              "ticks": ""
             }
            },
            "type": "scattergeo"
           }
          ],
          "scattergl": [
           {
            "marker": {
             "colorbar": {
              "outlinewidth": 0,
              "ticks": ""
             }
            },
            "type": "scattergl"
           }
          ],
          "scattermapbox": [
           {
            "marker": {
             "colorbar": {
              "outlinewidth": 0,
              "ticks": ""
             }
            },
            "type": "scattermapbox"
           }
          ],
          "scatterpolar": [
           {
            "marker": {
             "colorbar": {
              "outlinewidth": 0,
              "ticks": ""
             }
            },
            "type": "scatterpolar"
           }
          ],
          "scatterpolargl": [
           {
            "marker": {
             "colorbar": {
              "outlinewidth": 0,
              "ticks": ""
             }
            },
            "type": "scatterpolargl"
           }
          ],
          "scatterternary": [
           {
            "marker": {
             "colorbar": {
              "outlinewidth": 0,
              "ticks": ""
             }
            },
            "type": "scatterternary"
           }
          ],
          "surface": [
           {
            "colorbar": {
             "outlinewidth": 0,
             "ticks": ""
            },
            "colorscale": [
             [
              0,
              "#0d0887"
             ],
             [
              0.1111111111111111,
              "#46039f"
             ],
             [
              0.2222222222222222,
              "#7201a8"
             ],
             [
              0.3333333333333333,
              "#9c179e"
             ],
             [
              0.4444444444444444,
              "#bd3786"
             ],
             [
              0.5555555555555556,
              "#d8576b"
             ],
             [
              0.6666666666666666,
              "#ed7953"
             ],
             [
              0.7777777777777778,
              "#fb9f3a"
             ],
             [
              0.8888888888888888,
              "#fdca26"
             ],
             [
              1,
              "#f0f921"
             ]
            ],
            "type": "surface"
           }
          ],
          "table": [
           {
            "cells": {
             "fill": {
              "color": "#EBF0F8"
             },
             "line": {
              "color": "white"
             }
            },
            "header": {
             "fill": {
              "color": "#C8D4E3"
             },
             "line": {
              "color": "white"
             }
            },
            "type": "table"
           }
          ]
         },
         "layout": {
          "annotationdefaults": {
           "arrowcolor": "#2a3f5f",
           "arrowhead": 0,
           "arrowwidth": 1
          },
          "coloraxis": {
           "colorbar": {
            "outlinewidth": 0,
            "ticks": ""
           }
          },
          "colorscale": {
           "diverging": [
            [
             0,
             "#8e0152"
            ],
            [
             0.1,
             "#c51b7d"
            ],
            [
             0.2,
             "#de77ae"
            ],
            [
             0.3,
             "#f1b6da"
            ],
            [
             0.4,
             "#fde0ef"
            ],
            [
             0.5,
             "#f7f7f7"
            ],
            [
             0.6,
             "#e6f5d0"
            ],
            [
             0.7,
             "#b8e186"
            ],
            [
             0.8,
             "#7fbc41"
            ],
            [
             0.9,
             "#4d9221"
            ],
            [
             1,
             "#276419"
            ]
           ],
           "sequential": [
            [
             0,
             "#0d0887"
            ],
            [
             0.1111111111111111,
             "#46039f"
            ],
            [
             0.2222222222222222,
             "#7201a8"
            ],
            [
             0.3333333333333333,
             "#9c179e"
            ],
            [
             0.4444444444444444,
             "#bd3786"
            ],
            [
             0.5555555555555556,
             "#d8576b"
            ],
            [
             0.6666666666666666,
             "#ed7953"
            ],
            [
             0.7777777777777778,
             "#fb9f3a"
            ],
            [
             0.8888888888888888,
             "#fdca26"
            ],
            [
             1,
             "#f0f921"
            ]
           ],
           "sequentialminus": [
            [
             0,
             "#0d0887"
            ],
            [
             0.1111111111111111,
             "#46039f"
            ],
            [
             0.2222222222222222,
             "#7201a8"
            ],
            [
             0.3333333333333333,
             "#9c179e"
            ],
            [
             0.4444444444444444,
             "#bd3786"
            ],
            [
             0.5555555555555556,
             "#d8576b"
            ],
            [
             0.6666666666666666,
             "#ed7953"
            ],
            [
             0.7777777777777778,
             "#fb9f3a"
            ],
            [
             0.8888888888888888,
             "#fdca26"
            ],
            [
             1,
             "#f0f921"
            ]
           ]
          },
          "colorway": [
           "#636efa",
           "#EF553B",
           "#00cc96",
           "#ab63fa",
           "#FFA15A",
           "#19d3f3",
           "#FF6692",
           "#B6E880",
           "#FF97FF",
           "#FECB52"
          ],
          "font": {
           "color": "#2a3f5f"
          },
          "geo": {
           "bgcolor": "white",
           "lakecolor": "white",
           "landcolor": "#E5ECF6",
           "showlakes": true,
           "showland": true,
           "subunitcolor": "white"
          },
          "hoverlabel": {
           "align": "left"
          },
          "hovermode": "closest",
          "mapbox": {
           "style": "light"
          },
          "paper_bgcolor": "white",
          "plot_bgcolor": "#E5ECF6",
          "polar": {
           "angularaxis": {
            "gridcolor": "white",
            "linecolor": "white",
            "ticks": ""
           },
           "bgcolor": "#E5ECF6",
           "radialaxis": {
            "gridcolor": "white",
            "linecolor": "white",
            "ticks": ""
           }
          },
          "scene": {
           "xaxis": {
            "backgroundcolor": "#E5ECF6",
            "gridcolor": "white",
            "gridwidth": 2,
            "linecolor": "white",
            "showbackground": true,
            "ticks": "",
            "zerolinecolor": "white"
           },
           "yaxis": {
            "backgroundcolor": "#E5ECF6",
            "gridcolor": "white",
            "gridwidth": 2,
            "linecolor": "white",
            "showbackground": true,
            "ticks": "",
            "zerolinecolor": "white"
           },
           "zaxis": {
            "backgroundcolor": "#E5ECF6",
            "gridcolor": "white",
            "gridwidth": 2,
            "linecolor": "white",
            "showbackground": true,
            "ticks": "",
            "zerolinecolor": "white"
           }
          },
          "shapedefaults": {
           "line": {
            "color": "#2a3f5f"
           }
          },
          "ternary": {
           "aaxis": {
            "gridcolor": "white",
            "linecolor": "white",
            "ticks": ""
           },
           "baxis": {
            "gridcolor": "white",
            "linecolor": "white",
            "ticks": ""
           },
           "bgcolor": "#E5ECF6",
           "caxis": {
            "gridcolor": "white",
            "linecolor": "white",
            "ticks": ""
           }
          },
          "title": {
           "x": 0.05
          },
          "xaxis": {
           "automargin": true,
           "gridcolor": "white",
           "linecolor": "white",
           "ticks": "",
           "title": {
            "standoff": 15
           },
           "zerolinecolor": "white",
           "zerolinewidth": 2
          },
          "yaxis": {
           "automargin": true,
           "gridcolor": "white",
           "linecolor": "white",
           "ticks": "",
           "title": {
            "standoff": 15
           },
           "zerolinecolor": "white",
           "zerolinewidth": 2
          }
         }
        }
       }
      },
      "text/html": [
       "<div>\n",
       "        \n",
       "        \n",
       "            <div id=\"ab13708e-3939-4cd0-b3f4-6f43229243a7\" class=\"plotly-graph-div\" style=\"height:525px; width:100%;\"></div>\n",
       "            <script type=\"text/javascript\">\n",
       "                require([\"plotly\"], function(Plotly) {\n",
       "                    window.PLOTLYENV=window.PLOTLYENV || {};\n",
       "                    \n",
       "                if (document.getElementById(\"ab13708e-3939-4cd0-b3f4-6f43229243a7\")) {\n",
       "                    Plotly.newPlot(\n",
       "                        'ab13708e-3939-4cd0-b3f4-6f43229243a7',\n",
       "                        [{\"hovertemplate\": \"%{y}\", \"line\": {\"shape\": \"hv\"}, \"name\": \"\\u03b2\", \"type\": \"scatter\", \"x\": [0, 1, 2, 3, 4, 5, 6, 7, 8, 9, 10, 11, 12, 13, 14, 15, 16, 17, 18, 19, 20, 21, 22, 23, 24, 25, 26, 27, 28, 29, 30, 31, 32, 33, 34, 35, 36, 37, 38, 39, 40, 41, 42, 43, 44, 45, 46, 47, 48, 49, 50, 51, 52, 53, 54, 55, 56, 57, 58, 59, 60, 61, 62, 63, 64, 65, 66, 67, 68, 69, 70, 71, 72, 73, 74, 75, 76, 77, 78, 79, 80, 81, 82, 83, 84, 85, 86, 87, 88, 89], \"y\": [0.16107982937237839, 0.1610678220430744, 0.15982409947182358, 0.1597816350587153, 0.15985843250473114, 0.15189914231501503, 0.1518591287977733, 0.14863620479007855, 0.14863180640241758, 0.14863180927126596, 0.15006147994619112, 0.16762614629267694, 0.1674527658140041, 0.17194124271699313, 0.17297185385771244, 0.17344885016315226, 0.173193751965781, 0.17281901075612915, 0.1728478292680018, 0.21514174918901327, 0.21611861129288945, 0.21673068698816966, 0.2166248712794654, 0.21700916020927702, 0.21559060244122308, 0.21402775207271219, 0.21382459407575236, 0.21355409919574966, 0.21311315068916825, 0.21773843499431805, 0.29041874313664107, 0.2942804097887959, 0.29424850610852626, 0.29312648858343127, 0.29305496050390134, 0.2938296252982764, 0.2919777714393045, 0.28877216059279154, 0.2879223322658531, 0.28792459277634674, 0.24859115978655674, 0.2236896127747475, 0.22259892108787976, 0.22259892061835845, 0.2226395054594994, 0.2211119413758471, 0.21772696101132222, 0.20414256783917217, 0.17919635447285676, 0.1788283678336548, 0.1779643211146389, 0.14057298315542224, 0.13356140626114268, 0.13199513047127803, 0.13198361291018545, 0.13074884063516856, 0.13040995914298686, 0.1312905790904178, 0.13131140970947008, 0.1313114095739763, 0.1265736931113754, 0.12613497414224373, 0.1240806052279455, 0.1240921653236357, 0.12414547318126011, 0.13600737984682637, 0.13842113761534933, 0.1384211320909063, 0.14293744376561593, 0.155758374742565, 0.15582289896540685, 0.1562033145635886, 0.16536402772777847, 0.16834500105887146, 0.16832272893075326, 0.16832266167476873, 0.16882488941682003, 0.17045070504624538, 0.1703015735366914, 0.17222262231831847, 0.17222544102906412, 0.17501710745962212, 0.1750164869669219, 0.17501719255822437, 0.19371285236662697, 0.196124952302974, 0.1974571771829538, 0.1894539090920938, 0.1881547648930157, 0.18816569133527594]}, {\"hovertemplate\": \"%{y}\", \"line\": {\"shape\": \"hv\"}, \"name\": \"\\u03b3\", \"type\": \"scatter\", \"x\": [0, 1, 2, 3, 4, 5, 6, 7, 8, 9, 10, 11, 12, 13, 14, 15, 16, 17, 18, 19, 20, 21, 22, 23, 24, 25, 26, 27, 28, 29, 30, 31, 32, 33, 34, 35, 36, 37, 38, 39, 40, 41, 42, 43, 44, 45, 46, 47, 48, 49, 50, 51, 52, 53, 54, 55, 56, 57, 58, 59, 60, 61, 62, 63, 64, 65, 66, 67, 68, 69, 70, 71, 72, 73, 74, 75, 76, 77, 78, 79, 80, 81, 82, 83, 84, 85, 86, 87, 88, 89], \"y\": [0.031137296476097295, 0.031137296476097295, 0.031137296476097295, 0.031137296476097295, 0.031137296476097295, 0.031137296476097295, 0.031137296476097295, 0.031137296476097295, 0.031137296476097295, 0.031137296476097295, 0.031137296476097295, 0.031137296476097295, 0.031137296476097295, 0.031137296476097295, 0.031137296476097295, 0.031137296476097295, 0.031137296476097295, 0.031137296476097295, 0.031137296476097295, 0.031137296476097295, 0.031137296476097295, 0.031137296476097295, 0.031137296476097295, 0.031137296476097295, 0.031137296476097295, 0.031137296476097295, 0.031137296476097295, 0.031137296476097295, 0.031137296476097295, 0.031137296476097295, 0.031137296476097295, 0.031137296476097295, 0.031137296476097295, 0.031137296476097295, 0.031137296476097295, 0.031137296476097295, 0.031137296476097295, 0.031137296476097295, 0.031137296476097295, 0.031137296476097295, 0.031137296476097295, 0.031137296476097295, 0.031137296476097295, 0.031137296476097295, 0.031137296476097295, 0.031137296476097295, 0.031137296476097295, 0.031137296476097295, 0.031137296476097295, 0.031137296476097295, 0.031137296476097295, 0.031137296476097295, 0.031137296476097295, 0.031137296476097295, 0.031137296476097295, 0.031137296476097295, 0.031137296476097295, 0.031137296476097295, 0.031137296476097295, 0.031137296476097295, 0.031137296476097295, 0.031137296476097295, 0.031137296476097295, 0.031137296476097295, 0.031137296476097295, 0.031137296476097295, 0.031137296476097295, 0.031137296476097295, 0.031137296476097295, 0.031137296476097295, 0.031137296476097295, 0.031137296476097295, 0.031137296476097295, 0.031137296476097295, 0.031137296476097295, 0.031137296476097295, 0.031137296476097295, 0.031137296476097295, 0.031137296476097295, 0.031137296476097295, 0.031137296476097295, 0.031137296476097295, 0.031137296476097295, 0.031137296476097295, 0.031137296476097295, 0.031137296476097295, 0.031137296476097295, 0.031137296476097295, 0.031137296476097295, 0.031137296476097295]}, {\"hovertemplate\": \"%{y}\", \"line\": {\"shape\": \"hv\"}, \"name\": \"\\u03b8\", \"type\": \"scatter\", \"x\": [0, 1, 2, 3, 4, 5, 6, 7, 8, 9, 10, 11, 12, 13, 14, 15, 16, 17, 18, 19, 20, 21, 22, 23, 24, 25, 26, 27, 28, 29, 30, 31, 32, 33, 34, 35, 36, 37, 38, 39, 40, 41, 42, 43, 44, 45, 46, 47, 48, 49, 50, 51, 52, 53, 54, 55, 56, 57, 58, 59, 60, 61, 62, 63, 64, 65, 66, 67, 68, 69, 70, 71, 72, 73, 74, 75, 76, 77, 78, 79, 80, 81, 82, 83, 84, 85, 86, 87, 88, 89], \"y\": [0.04991790390639004, 0.04991790391179913, 0.040545229804733324, 0.04052447590056247, 0.04019300840783596, 0.040692438857344845, 0.04090105955418828, 0.040913888350481514, 0.040929735525901616, 0.04056513294891202, 0.04056513297724884, 0.04063519222440727, 0.039891856841184584, 0.03961725466446528, 0.03968766088361585, 0.03968766030213377, 0.0396879125975842, 0.03971496676300441, 0.039836239519498794, 0.03980732085276745, 0.040072127888985586, 0.04007083118159099, 0.04006331915210817, 0.04024665179592811, 0.04225826622949108, 0.04238894449293481, 0.042781383543284826, 0.04285446044045407, 0.042946414410919696, 0.042949541840768594, 0.04291124564955, 0.04245855116270189, 0.04245861148780701, 0.0425398309727186, 0.042739607333033725, 0.045167610088593706, 0.04520706233059839, 0.04520733830186062, 0.05309074243035038, 0.053090662823688003, 0.053745568396497266, 0.05374580069102763, 0.053772959106173815, 0.05375885850046805, 0.05349688746466928, 0.05359112655659451, 0.05359500369237245, 0.05386113411927804, 0.053853569177235466, 0.053852861232696725, 0.05518270677268379, 0.056345363486226145, 0.057168841472815965, 0.05760946600784925, 0.05723142450647048, 0.055855883797587484, 0.05454344346610391, 0.05395038391794201, 0.05368019147488219, 0.053708447068903285, 0.05404864370561549, 0.05404827954830524, 0.054124819726676286, 0.05417694425910325, 0.05448115649851297, 0.05452937753438031, 0.05528097705753068, 0.055279592441188394, 0.055172180279529026, 0.0550719829012838, 0.054095533161734224, 0.0540579234630101, 0.05401865400764842, 0.053978940791195404, 0.05116334881350919, 0.05124643296728679, 0.05125475054433808, 0.05020855069275297, 0.04718239328904106, 0.04712841278254476, 0.04560917880348983, 0.04528716141821046, 0.045237167546846285, 0.0452319827019277, 0.04508556755097552, 0.045068731294835476, 0.04506862015956892, 0.03911169944145853, 0.037889463355581056, 0.037890130001723255]}],\n",
       "                        {\"template\": {\"data\": {\"bar\": [{\"error_x\": {\"color\": \"#2a3f5f\"}, \"error_y\": {\"color\": \"#2a3f5f\"}, \"marker\": {\"line\": {\"color\": \"#E5ECF6\", \"width\": 0.5}}, \"type\": \"bar\"}], \"barpolar\": [{\"marker\": {\"line\": {\"color\": \"#E5ECF6\", \"width\": 0.5}}, \"type\": \"barpolar\"}], \"carpet\": [{\"aaxis\": {\"endlinecolor\": \"#2a3f5f\", \"gridcolor\": \"white\", \"linecolor\": \"white\", \"minorgridcolor\": \"white\", \"startlinecolor\": \"#2a3f5f\"}, \"baxis\": {\"endlinecolor\": \"#2a3f5f\", \"gridcolor\": \"white\", \"linecolor\": \"white\", \"minorgridcolor\": \"white\", \"startlinecolor\": \"#2a3f5f\"}, \"type\": \"carpet\"}], \"choropleth\": [{\"colorbar\": {\"outlinewidth\": 0, \"ticks\": \"\"}, \"type\": \"choropleth\"}], \"contour\": [{\"colorbar\": {\"outlinewidth\": 0, \"ticks\": \"\"}, \"colorscale\": [[0.0, \"#0d0887\"], [0.1111111111111111, \"#46039f\"], [0.2222222222222222, \"#7201a8\"], [0.3333333333333333, \"#9c179e\"], [0.4444444444444444, \"#bd3786\"], [0.5555555555555556, \"#d8576b\"], [0.6666666666666666, \"#ed7953\"], [0.7777777777777778, \"#fb9f3a\"], [0.8888888888888888, \"#fdca26\"], [1.0, \"#f0f921\"]], \"type\": \"contour\"}], \"contourcarpet\": [{\"colorbar\": {\"outlinewidth\": 0, \"ticks\": \"\"}, \"type\": \"contourcarpet\"}], \"heatmap\": [{\"colorbar\": {\"outlinewidth\": 0, \"ticks\": \"\"}, \"colorscale\": [[0.0, \"#0d0887\"], [0.1111111111111111, \"#46039f\"], [0.2222222222222222, \"#7201a8\"], [0.3333333333333333, \"#9c179e\"], [0.4444444444444444, \"#bd3786\"], [0.5555555555555556, \"#d8576b\"], [0.6666666666666666, \"#ed7953\"], [0.7777777777777778, \"#fb9f3a\"], [0.8888888888888888, \"#fdca26\"], [1.0, \"#f0f921\"]], \"type\": \"heatmap\"}], \"heatmapgl\": [{\"colorbar\": {\"outlinewidth\": 0, \"ticks\": \"\"}, \"colorscale\": [[0.0, \"#0d0887\"], [0.1111111111111111, \"#46039f\"], [0.2222222222222222, \"#7201a8\"], [0.3333333333333333, \"#9c179e\"], [0.4444444444444444, \"#bd3786\"], [0.5555555555555556, \"#d8576b\"], [0.6666666666666666, \"#ed7953\"], [0.7777777777777778, \"#fb9f3a\"], [0.8888888888888888, \"#fdca26\"], [1.0, \"#f0f921\"]], \"type\": \"heatmapgl\"}], \"histogram\": [{\"marker\": {\"colorbar\": {\"outlinewidth\": 0, \"ticks\": \"\"}}, \"type\": \"histogram\"}], \"histogram2d\": [{\"colorbar\": {\"outlinewidth\": 0, \"ticks\": \"\"}, \"colorscale\": [[0.0, \"#0d0887\"], [0.1111111111111111, \"#46039f\"], [0.2222222222222222, \"#7201a8\"], [0.3333333333333333, \"#9c179e\"], [0.4444444444444444, \"#bd3786\"], [0.5555555555555556, \"#d8576b\"], [0.6666666666666666, \"#ed7953\"], [0.7777777777777778, \"#fb9f3a\"], [0.8888888888888888, \"#fdca26\"], [1.0, \"#f0f921\"]], \"type\": \"histogram2d\"}], \"histogram2dcontour\": [{\"colorbar\": {\"outlinewidth\": 0, \"ticks\": \"\"}, \"colorscale\": [[0.0, \"#0d0887\"], [0.1111111111111111, \"#46039f\"], [0.2222222222222222, \"#7201a8\"], [0.3333333333333333, \"#9c179e\"], [0.4444444444444444, \"#bd3786\"], [0.5555555555555556, \"#d8576b\"], [0.6666666666666666, \"#ed7953\"], [0.7777777777777778, \"#fb9f3a\"], [0.8888888888888888, \"#fdca26\"], [1.0, \"#f0f921\"]], \"type\": \"histogram2dcontour\"}], \"mesh3d\": [{\"colorbar\": {\"outlinewidth\": 0, \"ticks\": \"\"}, \"type\": \"mesh3d\"}], \"parcoords\": [{\"line\": {\"colorbar\": {\"outlinewidth\": 0, \"ticks\": \"\"}}, \"type\": \"parcoords\"}], \"pie\": [{\"automargin\": true, \"type\": \"pie\"}], \"scatter\": [{\"marker\": {\"colorbar\": {\"outlinewidth\": 0, \"ticks\": \"\"}}, \"type\": \"scatter\"}], \"scatter3d\": [{\"line\": {\"colorbar\": {\"outlinewidth\": 0, \"ticks\": \"\"}}, \"marker\": {\"colorbar\": {\"outlinewidth\": 0, \"ticks\": \"\"}}, \"type\": \"scatter3d\"}], \"scattercarpet\": [{\"marker\": {\"colorbar\": {\"outlinewidth\": 0, \"ticks\": \"\"}}, \"type\": \"scattercarpet\"}], \"scattergeo\": [{\"marker\": {\"colorbar\": {\"outlinewidth\": 0, \"ticks\": \"\"}}, \"type\": \"scattergeo\"}], \"scattergl\": [{\"marker\": {\"colorbar\": {\"outlinewidth\": 0, \"ticks\": \"\"}}, \"type\": \"scattergl\"}], \"scattermapbox\": [{\"marker\": {\"colorbar\": {\"outlinewidth\": 0, \"ticks\": \"\"}}, \"type\": \"scattermapbox\"}], \"scatterpolar\": [{\"marker\": {\"colorbar\": {\"outlinewidth\": 0, \"ticks\": \"\"}}, \"type\": \"scatterpolar\"}], \"scatterpolargl\": [{\"marker\": {\"colorbar\": {\"outlinewidth\": 0, \"ticks\": \"\"}}, \"type\": \"scatterpolargl\"}], \"scatterternary\": [{\"marker\": {\"colorbar\": {\"outlinewidth\": 0, \"ticks\": \"\"}}, \"type\": \"scatterternary\"}], \"surface\": [{\"colorbar\": {\"outlinewidth\": 0, \"ticks\": \"\"}, \"colorscale\": [[0.0, \"#0d0887\"], [0.1111111111111111, \"#46039f\"], [0.2222222222222222, \"#7201a8\"], [0.3333333333333333, \"#9c179e\"], [0.4444444444444444, \"#bd3786\"], [0.5555555555555556, \"#d8576b\"], [0.6666666666666666, \"#ed7953\"], [0.7777777777777778, \"#fb9f3a\"], [0.8888888888888888, \"#fdca26\"], [1.0, \"#f0f921\"]], \"type\": \"surface\"}], \"table\": [{\"cells\": {\"fill\": {\"color\": \"#EBF0F8\"}, \"line\": {\"color\": \"white\"}}, \"header\": {\"fill\": {\"color\": \"#C8D4E3\"}, \"line\": {\"color\": \"white\"}}, \"type\": \"table\"}]}, \"layout\": {\"annotationdefaults\": {\"arrowcolor\": \"#2a3f5f\", \"arrowhead\": 0, \"arrowwidth\": 1}, \"coloraxis\": {\"colorbar\": {\"outlinewidth\": 0, \"ticks\": \"\"}}, \"colorscale\": {\"diverging\": [[0, \"#8e0152\"], [0.1, \"#c51b7d\"], [0.2, \"#de77ae\"], [0.3, \"#f1b6da\"], [0.4, \"#fde0ef\"], [0.5, \"#f7f7f7\"], [0.6, \"#e6f5d0\"], [0.7, \"#b8e186\"], [0.8, \"#7fbc41\"], [0.9, \"#4d9221\"], [1, \"#276419\"]], \"sequential\": [[0.0, \"#0d0887\"], [0.1111111111111111, \"#46039f\"], [0.2222222222222222, \"#7201a8\"], [0.3333333333333333, \"#9c179e\"], [0.4444444444444444, \"#bd3786\"], [0.5555555555555556, \"#d8576b\"], [0.6666666666666666, \"#ed7953\"], [0.7777777777777778, \"#fb9f3a\"], [0.8888888888888888, \"#fdca26\"], [1.0, \"#f0f921\"]], \"sequentialminus\": [[0.0, \"#0d0887\"], [0.1111111111111111, \"#46039f\"], [0.2222222222222222, \"#7201a8\"], [0.3333333333333333, \"#9c179e\"], [0.4444444444444444, \"#bd3786\"], [0.5555555555555556, \"#d8576b\"], [0.6666666666666666, \"#ed7953\"], [0.7777777777777778, \"#fb9f3a\"], [0.8888888888888888, \"#fdca26\"], [1.0, \"#f0f921\"]]}, \"colorway\": [\"#636efa\", \"#EF553B\", \"#00cc96\", \"#ab63fa\", \"#FFA15A\", \"#19d3f3\", \"#FF6692\", \"#B6E880\", \"#FF97FF\", \"#FECB52\"], \"font\": {\"color\": \"#2a3f5f\"}, \"geo\": {\"bgcolor\": \"white\", \"lakecolor\": \"white\", \"landcolor\": \"#E5ECF6\", \"showlakes\": true, \"showland\": true, \"subunitcolor\": \"white\"}, \"hoverlabel\": {\"align\": \"left\"}, \"hovermode\": \"closest\", \"mapbox\": {\"style\": \"light\"}, \"paper_bgcolor\": \"white\", \"plot_bgcolor\": \"#E5ECF6\", \"polar\": {\"angularaxis\": {\"gridcolor\": \"white\", \"linecolor\": \"white\", \"ticks\": \"\"}, \"bgcolor\": \"#E5ECF6\", \"radialaxis\": {\"gridcolor\": \"white\", \"linecolor\": \"white\", \"ticks\": \"\"}}, \"scene\": {\"xaxis\": {\"backgroundcolor\": \"#E5ECF6\", \"gridcolor\": \"white\", \"gridwidth\": 2, \"linecolor\": \"white\", \"showbackground\": true, \"ticks\": \"\", \"zerolinecolor\": \"white\"}, \"yaxis\": {\"backgroundcolor\": \"#E5ECF6\", \"gridcolor\": \"white\", \"gridwidth\": 2, \"linecolor\": \"white\", \"showbackground\": true, \"ticks\": \"\", \"zerolinecolor\": \"white\"}, \"zaxis\": {\"backgroundcolor\": \"#E5ECF6\", \"gridcolor\": \"white\", \"gridwidth\": 2, \"linecolor\": \"white\", \"showbackground\": true, \"ticks\": \"\", \"zerolinecolor\": \"white\"}}, \"shapedefaults\": {\"line\": {\"color\": \"#2a3f5f\"}}, \"ternary\": {\"aaxis\": {\"gridcolor\": \"white\", \"linecolor\": \"white\", \"ticks\": \"\"}, \"baxis\": {\"gridcolor\": \"white\", \"linecolor\": \"white\", \"ticks\": \"\"}, \"bgcolor\": \"#E5ECF6\", \"caxis\": {\"gridcolor\": \"white\", \"linecolor\": \"white\", \"ticks\": \"\"}}, \"title\": {\"x\": 0.05}, \"xaxis\": {\"automargin\": true, \"gridcolor\": \"white\", \"linecolor\": \"white\", \"ticks\": \"\", \"title\": {\"standoff\": 15}, \"zerolinecolor\": \"white\", \"zerolinewidth\": 2}, \"yaxis\": {\"automargin\": true, \"gridcolor\": \"white\", \"linecolor\": \"white\", \"ticks\": \"\", \"title\": {\"standoff\": 15}, \"zerolinecolor\": \"white\", \"zerolinewidth\": 2}}}},\n",
       "                        {\"responsive\": true}\n",
       "                    ).then(function(){\n",
       "                            \n",
       "var gd = document.getElementById('ab13708e-3939-4cd0-b3f4-6f43229243a7');\n",
       "var x = new MutationObserver(function (mutations, observer) {{\n",
       "        var display = window.getComputedStyle(gd).display;\n",
       "        if (!display || display === 'none') {{\n",
       "            console.log([gd, 'removed!']);\n",
       "            Plotly.purge(gd);\n",
       "            observer.disconnect();\n",
       "        }}\n",
       "}});\n",
       "\n",
       "// Listen for the removal of the full notebook cells\n",
       "var notebookContainer = gd.closest('#notebook-container');\n",
       "if (notebookContainer) {{\n",
       "    x.observe(notebookContainer, {childList: true});\n",
       "}}\n",
       "\n",
       "// Listen for the clearing of the current output cell\n",
       "var outputEl = gd.closest('.output');\n",
       "if (outputEl) {{\n",
       "    x.observe(outputEl, {childList: true});\n",
       "}}\n",
       "\n",
       "                        })\n",
       "                };\n",
       "                });\n",
       "            </script>\n",
       "        </div>"
      ]
     },
     "metadata": {},
     "output_type": "display_data"
    },
    {
     "data": {
      "text/plain": []
     },
     "execution_count": 143,
     "metadata": {},
     "output_type": "execute_result"
    }
   ],
   "source": [
    "a = InferSIRQt(weight_b=210, weight_t=1000, weight_r=0.1, weight_c=0.003, penalty_b=variation1, penalty_t=variation1)\n",
    "a.fit(city, sample, confirmed, verbose=False)\n",
    "os.system('play -nq -t alsa synth 1 sine 800')\n",
    "a.dynamic"
   ]
  },
  {
   "cell_type": "code",
   "execution_count": 141,
   "metadata": {},
   "outputs": [
    {
     "data": {
      "application/vnd.plotly.v1+json": {
       "config": {
        "plotlyServerURL": "https://plot.ly"
       },
       "data": [
        {
         "hovertemplate": "%{y}",
         "line": {
          "shape": "hv"
         },
         "name": "β",
         "type": "scatter",
         "x": [
          0,
          1,
          2,
          3,
          4,
          5,
          6,
          7,
          8,
          9,
          10,
          11,
          12,
          13,
          14,
          15,
          16,
          17,
          18,
          19,
          20,
          21,
          22,
          23,
          24,
          25,
          26,
          27,
          28,
          29,
          30,
          31,
          32,
          33,
          34,
          35,
          36,
          37,
          38,
          39,
          40,
          41,
          42,
          43,
          44,
          45,
          46,
          47,
          48,
          49,
          50,
          51,
          52,
          53,
          54,
          55,
          56,
          57,
          58,
          59,
          60,
          61,
          62,
          63,
          64,
          65,
          66,
          67,
          68,
          69,
          70,
          71,
          72,
          73,
          74,
          75,
          76,
          77,
          78,
          79,
          80,
          81,
          82,
          83,
          84,
          85,
          86,
          87,
          88,
          89,
          90,
          91,
          92,
          93,
          94,
          95,
          96,
          97,
          98,
          99
         ],
         "y": [
          0.15,
          0.15,
          0.15,
          0.15,
          0.15,
          0.15,
          0.15,
          0.195,
          0.195,
          0.195,
          0.195,
          0.195,
          0.195,
          0.195,
          0.195,
          0.195,
          0.195,
          0.195,
          0.195,
          0.195,
          0.195,
          0.195,
          0.195,
          0.195,
          0.195,
          0.2535,
          0.2535,
          0.2535,
          0.2535,
          0.2535,
          0.2535,
          0.2535,
          0.32955,
          0.32955,
          0.32955,
          0.32955,
          0.32955,
          0.32955,
          0.32955,
          0.32955,
          0.32955,
          0.230685,
          0.230685,
          0.230685,
          0.230685,
          0.230685,
          0.11303564999999999,
          0.11303564999999999,
          0.11303564999999999,
          0.11303564999999999,
          0.07912495499999998,
          0.07912495499999998,
          0.07912495499999998,
          0.07912495499999998,
          0.07912495499999998,
          0.07912495499999998,
          0.07912495499999998,
          0.07912495499999998,
          0.07912495499999998,
          0.07912495499999998,
          0.07912495499999998,
          0.07912495499999998,
          0.07912495499999998,
          0.07912495499999998,
          0.07912495499999998,
          0.07912495499999998,
          0.05538746849999998,
          0.05538746849999998,
          0.05538746849999998,
          0.05538746849999998,
          0.05538746849999998,
          0.05538746849999998,
          0.05538746849999998,
          0.05538746849999998,
          0.07200370904999998,
          0.07200370904999998,
          0.07200370904999998,
          0.07200370904999998,
          0.07200370904999998,
          0.07200370904999998,
          0.07200370904999998,
          0.07200370904999998,
          0.07200370904999998,
          0.07200370904999998,
          0.07200370904999998,
          0.07200370904999998,
          0.07200370904999998,
          0.07200370904999998,
          0.07200370904999998,
          0.07200370904999998,
          0.07200370904999998,
          0.07200370904999998,
          0.06552337523549998,
          0.06552337523549998,
          0.06552337523549998,
          0.06552337523549998,
          0.08518038780614998,
          0.08518038780614998,
          0.08518038780614998,
          0.08518038780614998
         ]
        },
        {
         "hovertemplate": "%{y}",
         "line": {
          "shape": "hv"
         },
         "name": "γ",
         "type": "scatter",
         "x": [
          0,
          1,
          2,
          3,
          4,
          5,
          6,
          7,
          8,
          9,
          10,
          11,
          12,
          13,
          14,
          15,
          16,
          17,
          18,
          19,
          20,
          21,
          22,
          23,
          24,
          25,
          26,
          27,
          28,
          29,
          30,
          31,
          32,
          33,
          34,
          35,
          36,
          37,
          38,
          39,
          40,
          41,
          42,
          43,
          44,
          45,
          46,
          47,
          48,
          49,
          50,
          51,
          52,
          53,
          54,
          55,
          56,
          57,
          58,
          59,
          60,
          61,
          62,
          63,
          64,
          65,
          66,
          67,
          68,
          69,
          70,
          71,
          72,
          73,
          74,
          75,
          76,
          77,
          78,
          79,
          80,
          81,
          82,
          83,
          84,
          85,
          86,
          87,
          88,
          89,
          90,
          91,
          92,
          93,
          94,
          95,
          96,
          97,
          98,
          99
         ],
         "y": [
          0.03,
          0.03,
          0.03,
          0.03,
          0.03,
          0.03,
          0.03,
          0.0303,
          0.0303,
          0.0303,
          0.0303,
          0.0303,
          0.0303,
          0.0303,
          0.0303,
          0.0303,
          0.0303,
          0.0303,
          0.0303,
          0.0303,
          0.0303,
          0.0303,
          0.0303,
          0.0303,
          0.0303,
          0.030602999999999998,
          0.030602999999999998,
          0.030602999999999998,
          0.030602999999999998,
          0.030602999999999998,
          0.030602999999999998,
          0.030602999999999998,
          0.030909029999999997,
          0.030909029999999997,
          0.030909029999999997,
          0.030909029999999997,
          0.030909029999999997,
          0.030909029999999997,
          0.030909029999999997,
          0.030909029999999997,
          0.030909029999999997,
          0.03059993969999999,
          0.03059993969999999,
          0.03059993969999999,
          0.03059993969999999,
          0.03059993969999999,
          0.029991000899969988,
          0.029991000899969988,
          0.029991000899969988,
          0.029991000899969988,
          0.02969109089097029,
          0.02969109089097029,
          0.02969109089097029,
          0.02969109089097029,
          0.02969109089097029,
          0.02969109089097029,
          0.02969109089097029,
          0.02969109089097029,
          0.02969109089097029,
          0.02969109089097029,
          0.02969109089097029,
          0.02969109089097029,
          0.02969109089097029,
          0.02969109089097029,
          0.02969109089097029,
          0.02969109089097029,
          0.02939417998206059,
          0.02939417998206059,
          0.02939417998206059,
          0.02939417998206059,
          0.02939417998206059,
          0.02939417998206059,
          0.02939417998206059,
          0.02939417998206059,
          0.029688121781881193,
          0.029688121781881193,
          0.029688121781881193,
          0.029688121781881193,
          0.029688121781881193,
          0.029688121781881193,
          0.029688121781881193,
          0.029688121781881193,
          0.029688121781881193,
          0.029688121781881193,
          0.029688121781881193,
          0.029688121781881193,
          0.029688121781881193,
          0.029688121781881193,
          0.029688121781881193,
          0.029688121781881193,
          0.029688121781881193,
          0.029688121781881193,
          0.029685152969703005,
          0.029685152969703005,
          0.029685152969703005,
          0.029685152969703005,
          0.029982004499400035,
          0.029982004499400035,
          0.029982004499400035,
          0.029982004499400035
         ]
        },
        {
         "hovertemplate": "%{y}",
         "line": {
          "shape": "hv"
         },
         "name": "θ",
         "type": "scatter",
         "x": [
          0,
          1,
          2,
          3,
          4,
          5,
          6,
          7,
          8,
          9,
          10,
          11,
          12,
          13,
          14,
          15,
          16,
          17,
          18,
          19,
          20,
          21,
          22,
          23,
          24,
          25,
          26,
          27,
          28,
          29,
          30,
          31,
          32,
          33,
          34,
          35,
          36,
          37,
          38,
          39,
          40,
          41,
          42,
          43,
          44,
          45,
          46,
          47,
          48,
          49,
          50,
          51,
          52,
          53,
          54,
          55,
          56,
          57,
          58,
          59,
          60,
          61,
          62,
          63,
          64,
          65,
          66,
          67,
          68,
          69,
          70,
          71,
          72,
          73,
          74,
          75,
          76,
          77,
          78,
          79,
          80,
          81,
          82,
          83,
          84,
          85,
          86,
          87,
          88,
          89,
          90,
          91,
          92,
          93,
          94,
          95,
          96,
          97,
          98,
          99
         ],
         "y": [
          0.06,
          0.06,
          0.06,
          0.06,
          0.06,
          0.06,
          0.06,
          0.06,
          0.06,
          0.06,
          0.048,
          0.048,
          0.048,
          0.048,
          0.048,
          0.048,
          0.048,
          0.048,
          0.048,
          0.048,
          0.048,
          0.048,
          0.048,
          0.048,
          0.048,
          0.048,
          0.048,
          0.048,
          0.048,
          0.048,
          0.048,
          0.048,
          0.048,
          0.048,
          0.048,
          0.048,
          0.048,
          0.048,
          0.048,
          0.048,
          0.048,
          0.048,
          0.048,
          0.048,
          0.048,
          0.048,
          0.048,
          0.048,
          0.048,
          0.048,
          0.048,
          0.048,
          0.048,
          0.048,
          0.048,
          0.048,
          0.048,
          0.048,
          0.048,
          0.048,
          0.048,
          0.048,
          0.048,
          0.0576,
          0.0576,
          0.0576,
          0.0576,
          0.0576,
          0.0576,
          0.0576,
          0.06911999999999999,
          0.06911999999999999,
          0.06911999999999999,
          0.06911999999999999,
          0.06911999999999999,
          0.08294399999999999,
          0.08294399999999999,
          0.08294399999999999,
          0.08294399999999999,
          0.09953279999999998,
          0.09953279999999998,
          0.09953279999999998,
          0.09953279999999998,
          0.09953279999999998,
          0.09953279999999998,
          0.09953279999999998,
          0.09953279999999998,
          0.09953279999999998,
          0.09953279999999998,
          0.09953279999999998,
          0.09953279999999998,
          0.09953279999999998,
          0.09953279999999998,
          0.09953279999999998,
          0.09953279999999998,
          0.09953279999999998,
          0.09953279999999998,
          0.09953279999999998,
          0.09953279999999998,
          0.09953279999999998
         ]
        }
       ],
       "layout": {
        "template": {
         "data": {
          "bar": [
           {
            "error_x": {
             "color": "#2a3f5f"
            },
            "error_y": {
             "color": "#2a3f5f"
            },
            "marker": {
             "line": {
              "color": "#E5ECF6",
              "width": 0.5
             }
            },
            "type": "bar"
           }
          ],
          "barpolar": [
           {
            "marker": {
             "line": {
              "color": "#E5ECF6",
              "width": 0.5
             }
            },
            "type": "barpolar"
           }
          ],
          "carpet": [
           {
            "aaxis": {
             "endlinecolor": "#2a3f5f",
             "gridcolor": "white",
             "linecolor": "white",
             "minorgridcolor": "white",
             "startlinecolor": "#2a3f5f"
            },
            "baxis": {
             "endlinecolor": "#2a3f5f",
             "gridcolor": "white",
             "linecolor": "white",
             "minorgridcolor": "white",
             "startlinecolor": "#2a3f5f"
            },
            "type": "carpet"
           }
          ],
          "choropleth": [
           {
            "colorbar": {
             "outlinewidth": 0,
             "ticks": ""
            },
            "type": "choropleth"
           }
          ],
          "contour": [
           {
            "colorbar": {
             "outlinewidth": 0,
             "ticks": ""
            },
            "colorscale": [
             [
              0,
              "#0d0887"
             ],
             [
              0.1111111111111111,
              "#46039f"
             ],
             [
              0.2222222222222222,
              "#7201a8"
             ],
             [
              0.3333333333333333,
              "#9c179e"
             ],
             [
              0.4444444444444444,
              "#bd3786"
             ],
             [
              0.5555555555555556,
              "#d8576b"
             ],
             [
              0.6666666666666666,
              "#ed7953"
             ],
             [
              0.7777777777777778,
              "#fb9f3a"
             ],
             [
              0.8888888888888888,
              "#fdca26"
             ],
             [
              1,
              "#f0f921"
             ]
            ],
            "type": "contour"
           }
          ],
          "contourcarpet": [
           {
            "colorbar": {
             "outlinewidth": 0,
             "ticks": ""
            },
            "type": "contourcarpet"
           }
          ],
          "heatmap": [
           {
            "colorbar": {
             "outlinewidth": 0,
             "ticks": ""
            },
            "colorscale": [
             [
              0,
              "#0d0887"
             ],
             [
              0.1111111111111111,
              "#46039f"
             ],
             [
              0.2222222222222222,
              "#7201a8"
             ],
             [
              0.3333333333333333,
              "#9c179e"
             ],
             [
              0.4444444444444444,
              "#bd3786"
             ],
             [
              0.5555555555555556,
              "#d8576b"
             ],
             [
              0.6666666666666666,
              "#ed7953"
             ],
             [
              0.7777777777777778,
              "#fb9f3a"
             ],
             [
              0.8888888888888888,
              "#fdca26"
             ],
             [
              1,
              "#f0f921"
             ]
            ],
            "type": "heatmap"
           }
          ],
          "heatmapgl": [
           {
            "colorbar": {
             "outlinewidth": 0,
             "ticks": ""
            },
            "colorscale": [
             [
              0,
              "#0d0887"
             ],
             [
              0.1111111111111111,
              "#46039f"
             ],
             [
              0.2222222222222222,
              "#7201a8"
             ],
             [
              0.3333333333333333,
              "#9c179e"
             ],
             [
              0.4444444444444444,
              "#bd3786"
             ],
             [
              0.5555555555555556,
              "#d8576b"
             ],
             [
              0.6666666666666666,
              "#ed7953"
             ],
             [
              0.7777777777777778,
              "#fb9f3a"
             ],
             [
              0.8888888888888888,
              "#fdca26"
             ],
             [
              1,
              "#f0f921"
             ]
            ],
            "type": "heatmapgl"
           }
          ],
          "histogram": [
           {
            "marker": {
             "colorbar": {
              "outlinewidth": 0,
              "ticks": ""
             }
            },
            "type": "histogram"
           }
          ],
          "histogram2d": [
           {
            "colorbar": {
             "outlinewidth": 0,
             "ticks": ""
            },
            "colorscale": [
             [
              0,
              "#0d0887"
             ],
             [
              0.1111111111111111,
              "#46039f"
             ],
             [
              0.2222222222222222,
              "#7201a8"
             ],
             [
              0.3333333333333333,
              "#9c179e"
             ],
             [
              0.4444444444444444,
              "#bd3786"
             ],
             [
              0.5555555555555556,
              "#d8576b"
             ],
             [
              0.6666666666666666,
              "#ed7953"
             ],
             [
              0.7777777777777778,
              "#fb9f3a"
             ],
             [
              0.8888888888888888,
              "#fdca26"
             ],
             [
              1,
              "#f0f921"
             ]
            ],
            "type": "histogram2d"
           }
          ],
          "histogram2dcontour": [
           {
            "colorbar": {
             "outlinewidth": 0,
             "ticks": ""
            },
            "colorscale": [
             [
              0,
              "#0d0887"
             ],
             [
              0.1111111111111111,
              "#46039f"
             ],
             [
              0.2222222222222222,
              "#7201a8"
             ],
             [
              0.3333333333333333,
              "#9c179e"
             ],
             [
              0.4444444444444444,
              "#bd3786"
             ],
             [
              0.5555555555555556,
              "#d8576b"
             ],
             [
              0.6666666666666666,
              "#ed7953"
             ],
             [
              0.7777777777777778,
              "#fb9f3a"
             ],
             [
              0.8888888888888888,
              "#fdca26"
             ],
             [
              1,
              "#f0f921"
             ]
            ],
            "type": "histogram2dcontour"
           }
          ],
          "mesh3d": [
           {
            "colorbar": {
             "outlinewidth": 0,
             "ticks": ""
            },
            "type": "mesh3d"
           }
          ],
          "parcoords": [
           {
            "line": {
             "colorbar": {
              "outlinewidth": 0,
              "ticks": ""
             }
            },
            "type": "parcoords"
           }
          ],
          "pie": [
           {
            "automargin": true,
            "type": "pie"
           }
          ],
          "scatter": [
           {
            "marker": {
             "colorbar": {
              "outlinewidth": 0,
              "ticks": ""
             }
            },
            "type": "scatter"
           }
          ],
          "scatter3d": [
           {
            "line": {
             "colorbar": {
              "outlinewidth": 0,
              "ticks": ""
             }
            },
            "marker": {
             "colorbar": {
              "outlinewidth": 0,
              "ticks": ""
             }
            },
            "type": "scatter3d"
           }
          ],
          "scattercarpet": [
           {
            "marker": {
             "colorbar": {
              "outlinewidth": 0,
              "ticks": ""
             }
            },
            "type": "scattercarpet"
           }
          ],
          "scattergeo": [
           {
            "marker": {
             "colorbar": {
              "outlinewidth": 0,
              "ticks": ""
             }
            },
            "type": "scattergeo"
           }
          ],
          "scattergl": [
           {
            "marker": {
             "colorbar": {
              "outlinewidth": 0,
              "ticks": ""
             }
            },
            "type": "scattergl"
           }
          ],
          "scattermapbox": [
           {
            "marker": {
             "colorbar": {
              "outlinewidth": 0,
              "ticks": ""
             }
            },
            "type": "scattermapbox"
           }
          ],
          "scatterpolar": [
           {
            "marker": {
             "colorbar": {
              "outlinewidth": 0,
              "ticks": ""
             }
            },
            "type": "scatterpolar"
           }
          ],
          "scatterpolargl": [
           {
            "marker": {
             "colorbar": {
              "outlinewidth": 0,
              "ticks": ""
             }
            },
            "type": "scatterpolargl"
           }
          ],
          "scatterternary": [
           {
            "marker": {
             "colorbar": {
              "outlinewidth": 0,
              "ticks": ""
             }
            },
            "type": "scatterternary"
           }
          ],
          "surface": [
           {
            "colorbar": {
             "outlinewidth": 0,
             "ticks": ""
            },
            "colorscale": [
             [
              0,
              "#0d0887"
             ],
             [
              0.1111111111111111,
              "#46039f"
             ],
             [
              0.2222222222222222,
              "#7201a8"
             ],
             [
              0.3333333333333333,
              "#9c179e"
             ],
             [
              0.4444444444444444,
              "#bd3786"
             ],
             [
              0.5555555555555556,
              "#d8576b"
             ],
             [
              0.6666666666666666,
              "#ed7953"
             ],
             [
              0.7777777777777778,
              "#fb9f3a"
             ],
             [
              0.8888888888888888,
              "#fdca26"
             ],
             [
              1,
              "#f0f921"
             ]
            ],
            "type": "surface"
           }
          ],
          "table": [
           {
            "cells": {
             "fill": {
              "color": "#EBF0F8"
             },
             "line": {
              "color": "white"
             }
            },
            "header": {
             "fill": {
              "color": "#C8D4E3"
             },
             "line": {
              "color": "white"
             }
            },
            "type": "table"
           }
          ]
         },
         "layout": {
          "annotationdefaults": {
           "arrowcolor": "#2a3f5f",
           "arrowhead": 0,
           "arrowwidth": 1
          },
          "coloraxis": {
           "colorbar": {
            "outlinewidth": 0,
            "ticks": ""
           }
          },
          "colorscale": {
           "diverging": [
            [
             0,
             "#8e0152"
            ],
            [
             0.1,
             "#c51b7d"
            ],
            [
             0.2,
             "#de77ae"
            ],
            [
             0.3,
             "#f1b6da"
            ],
            [
             0.4,
             "#fde0ef"
            ],
            [
             0.5,
             "#f7f7f7"
            ],
            [
             0.6,
             "#e6f5d0"
            ],
            [
             0.7,
             "#b8e186"
            ],
            [
             0.8,
             "#7fbc41"
            ],
            [
             0.9,
             "#4d9221"
            ],
            [
             1,
             "#276419"
            ]
           ],
           "sequential": [
            [
             0,
             "#0d0887"
            ],
            [
             0.1111111111111111,
             "#46039f"
            ],
            [
             0.2222222222222222,
             "#7201a8"
            ],
            [
             0.3333333333333333,
             "#9c179e"
            ],
            [
             0.4444444444444444,
             "#bd3786"
            ],
            [
             0.5555555555555556,
             "#d8576b"
            ],
            [
             0.6666666666666666,
             "#ed7953"
            ],
            [
             0.7777777777777778,
             "#fb9f3a"
            ],
            [
             0.8888888888888888,
             "#fdca26"
            ],
            [
             1,
             "#f0f921"
            ]
           ],
           "sequentialminus": [
            [
             0,
             "#0d0887"
            ],
            [
             0.1111111111111111,
             "#46039f"
            ],
            [
             0.2222222222222222,
             "#7201a8"
            ],
            [
             0.3333333333333333,
             "#9c179e"
            ],
            [
             0.4444444444444444,
             "#bd3786"
            ],
            [
             0.5555555555555556,
             "#d8576b"
            ],
            [
             0.6666666666666666,
             "#ed7953"
            ],
            [
             0.7777777777777778,
             "#fb9f3a"
            ],
            [
             0.8888888888888888,
             "#fdca26"
            ],
            [
             1,
             "#f0f921"
            ]
           ]
          },
          "colorway": [
           "#636efa",
           "#EF553B",
           "#00cc96",
           "#ab63fa",
           "#FFA15A",
           "#19d3f3",
           "#FF6692",
           "#B6E880",
           "#FF97FF",
           "#FECB52"
          ],
          "font": {
           "color": "#2a3f5f"
          },
          "geo": {
           "bgcolor": "white",
           "lakecolor": "white",
           "landcolor": "#E5ECF6",
           "showlakes": true,
           "showland": true,
           "subunitcolor": "white"
          },
          "hoverlabel": {
           "align": "left"
          },
          "hovermode": "closest",
          "mapbox": {
           "style": "light"
          },
          "paper_bgcolor": "white",
          "plot_bgcolor": "#E5ECF6",
          "polar": {
           "angularaxis": {
            "gridcolor": "white",
            "linecolor": "white",
            "ticks": ""
           },
           "bgcolor": "#E5ECF6",
           "radialaxis": {
            "gridcolor": "white",
            "linecolor": "white",
            "ticks": ""
           }
          },
          "scene": {
           "xaxis": {
            "backgroundcolor": "#E5ECF6",
            "gridcolor": "white",
            "gridwidth": 2,
            "linecolor": "white",
            "showbackground": true,
            "ticks": "",
            "zerolinecolor": "white"
           },
           "yaxis": {
            "backgroundcolor": "#E5ECF6",
            "gridcolor": "white",
            "gridwidth": 2,
            "linecolor": "white",
            "showbackground": true,
            "ticks": "",
            "zerolinecolor": "white"
           },
           "zaxis": {
            "backgroundcolor": "#E5ECF6",
            "gridcolor": "white",
            "gridwidth": 2,
            "linecolor": "white",
            "showbackground": true,
            "ticks": "",
            "zerolinecolor": "white"
           }
          },
          "shapedefaults": {
           "line": {
            "color": "#2a3f5f"
           }
          },
          "ternary": {
           "aaxis": {
            "gridcolor": "white",
            "linecolor": "white",
            "ticks": ""
           },
           "baxis": {
            "gridcolor": "white",
            "linecolor": "white",
            "ticks": ""
           },
           "bgcolor": "#E5ECF6",
           "caxis": {
            "gridcolor": "white",
            "linecolor": "white",
            "ticks": ""
           }
          },
          "title": {
           "x": 0.05
          },
          "xaxis": {
           "automargin": true,
           "gridcolor": "white",
           "linecolor": "white",
           "ticks": "",
           "title": {
            "standoff": 15
           },
           "zerolinecolor": "white",
           "zerolinewidth": 2
          },
          "yaxis": {
           "automargin": true,
           "gridcolor": "white",
           "linecolor": "white",
           "ticks": "",
           "title": {
            "standoff": 15
           },
           "zerolinecolor": "white",
           "zerolinewidth": 2
          }
         }
        }
       }
      },
      "text/html": [
       "<div>\n",
       "        \n",
       "        \n",
       "            <div id=\"9bd6bb68-bae7-4b5c-948d-391bbb37f60d\" class=\"plotly-graph-div\" style=\"height:525px; width:100%;\"></div>\n",
       "            <script type=\"text/javascript\">\n",
       "                require([\"plotly\"], function(Plotly) {\n",
       "                    window.PLOTLYENV=window.PLOTLYENV || {};\n",
       "                    \n",
       "                if (document.getElementById(\"9bd6bb68-bae7-4b5c-948d-391bbb37f60d\")) {\n",
       "                    Plotly.newPlot(\n",
       "                        '9bd6bb68-bae7-4b5c-948d-391bbb37f60d',\n",
       "                        [{\"hovertemplate\": \"%{y}\", \"line\": {\"shape\": \"hv\"}, \"name\": \"\\u03b2\", \"type\": \"scatter\", \"x\": [0, 1, 2, 3, 4, 5, 6, 7, 8, 9, 10, 11, 12, 13, 14, 15, 16, 17, 18, 19, 20, 21, 22, 23, 24, 25, 26, 27, 28, 29, 30, 31, 32, 33, 34, 35, 36, 37, 38, 39, 40, 41, 42, 43, 44, 45, 46, 47, 48, 49, 50, 51, 52, 53, 54, 55, 56, 57, 58, 59, 60, 61, 62, 63, 64, 65, 66, 67, 68, 69, 70, 71, 72, 73, 74, 75, 76, 77, 78, 79, 80, 81, 82, 83, 84, 85, 86, 87, 88, 89, 90, 91, 92, 93, 94, 95, 96, 97, 98, 99], \"y\": [0.15, 0.15, 0.15, 0.15, 0.15, 0.15, 0.15, 0.195, 0.195, 0.195, 0.195, 0.195, 0.195, 0.195, 0.195, 0.195, 0.195, 0.195, 0.195, 0.195, 0.195, 0.195, 0.195, 0.195, 0.195, 0.2535, 0.2535, 0.2535, 0.2535, 0.2535, 0.2535, 0.2535, 0.32955, 0.32955, 0.32955, 0.32955, 0.32955, 0.32955, 0.32955, 0.32955, 0.32955, 0.230685, 0.230685, 0.230685, 0.230685, 0.230685, 0.11303564999999999, 0.11303564999999999, 0.11303564999999999, 0.11303564999999999, 0.07912495499999998, 0.07912495499999998, 0.07912495499999998, 0.07912495499999998, 0.07912495499999998, 0.07912495499999998, 0.07912495499999998, 0.07912495499999998, 0.07912495499999998, 0.07912495499999998, 0.07912495499999998, 0.07912495499999998, 0.07912495499999998, 0.07912495499999998, 0.07912495499999998, 0.07912495499999998, 0.05538746849999998, 0.05538746849999998, 0.05538746849999998, 0.05538746849999998, 0.05538746849999998, 0.05538746849999998, 0.05538746849999998, 0.05538746849999998, 0.07200370904999998, 0.07200370904999998, 0.07200370904999998, 0.07200370904999998, 0.07200370904999998, 0.07200370904999998, 0.07200370904999998, 0.07200370904999998, 0.07200370904999998, 0.07200370904999998, 0.07200370904999998, 0.07200370904999998, 0.07200370904999998, 0.07200370904999998, 0.07200370904999998, 0.07200370904999998, 0.07200370904999998, 0.07200370904999998, 0.06552337523549998, 0.06552337523549998, 0.06552337523549998, 0.06552337523549998, 0.08518038780614998, 0.08518038780614998, 0.08518038780614998, 0.08518038780614998]}, {\"hovertemplate\": \"%{y}\", \"line\": {\"shape\": \"hv\"}, \"name\": \"\\u03b3\", \"type\": \"scatter\", \"x\": [0, 1, 2, 3, 4, 5, 6, 7, 8, 9, 10, 11, 12, 13, 14, 15, 16, 17, 18, 19, 20, 21, 22, 23, 24, 25, 26, 27, 28, 29, 30, 31, 32, 33, 34, 35, 36, 37, 38, 39, 40, 41, 42, 43, 44, 45, 46, 47, 48, 49, 50, 51, 52, 53, 54, 55, 56, 57, 58, 59, 60, 61, 62, 63, 64, 65, 66, 67, 68, 69, 70, 71, 72, 73, 74, 75, 76, 77, 78, 79, 80, 81, 82, 83, 84, 85, 86, 87, 88, 89, 90, 91, 92, 93, 94, 95, 96, 97, 98, 99], \"y\": [0.03, 0.03, 0.03, 0.03, 0.03, 0.03, 0.03, 0.0303, 0.0303, 0.0303, 0.0303, 0.0303, 0.0303, 0.0303, 0.0303, 0.0303, 0.0303, 0.0303, 0.0303, 0.0303, 0.0303, 0.0303, 0.0303, 0.0303, 0.0303, 0.030602999999999998, 0.030602999999999998, 0.030602999999999998, 0.030602999999999998, 0.030602999999999998, 0.030602999999999998, 0.030602999999999998, 0.030909029999999997, 0.030909029999999997, 0.030909029999999997, 0.030909029999999997, 0.030909029999999997, 0.030909029999999997, 0.030909029999999997, 0.030909029999999997, 0.030909029999999997, 0.03059993969999999, 0.03059993969999999, 0.03059993969999999, 0.03059993969999999, 0.03059993969999999, 0.029991000899969988, 0.029991000899969988, 0.029991000899969988, 0.029991000899969988, 0.02969109089097029, 0.02969109089097029, 0.02969109089097029, 0.02969109089097029, 0.02969109089097029, 0.02969109089097029, 0.02969109089097029, 0.02969109089097029, 0.02969109089097029, 0.02969109089097029, 0.02969109089097029, 0.02969109089097029, 0.02969109089097029, 0.02969109089097029, 0.02969109089097029, 0.02969109089097029, 0.02939417998206059, 0.02939417998206059, 0.02939417998206059, 0.02939417998206059, 0.02939417998206059, 0.02939417998206059, 0.02939417998206059, 0.02939417998206059, 0.029688121781881193, 0.029688121781881193, 0.029688121781881193, 0.029688121781881193, 0.029688121781881193, 0.029688121781881193, 0.029688121781881193, 0.029688121781881193, 0.029688121781881193, 0.029688121781881193, 0.029688121781881193, 0.029688121781881193, 0.029688121781881193, 0.029688121781881193, 0.029688121781881193, 0.029688121781881193, 0.029688121781881193, 0.029688121781881193, 0.029685152969703005, 0.029685152969703005, 0.029685152969703005, 0.029685152969703005, 0.029982004499400035, 0.029982004499400035, 0.029982004499400035, 0.029982004499400035]}, {\"hovertemplate\": \"%{y}\", \"line\": {\"shape\": \"hv\"}, \"name\": \"\\u03b8\", \"type\": \"scatter\", \"x\": [0, 1, 2, 3, 4, 5, 6, 7, 8, 9, 10, 11, 12, 13, 14, 15, 16, 17, 18, 19, 20, 21, 22, 23, 24, 25, 26, 27, 28, 29, 30, 31, 32, 33, 34, 35, 36, 37, 38, 39, 40, 41, 42, 43, 44, 45, 46, 47, 48, 49, 50, 51, 52, 53, 54, 55, 56, 57, 58, 59, 60, 61, 62, 63, 64, 65, 66, 67, 68, 69, 70, 71, 72, 73, 74, 75, 76, 77, 78, 79, 80, 81, 82, 83, 84, 85, 86, 87, 88, 89, 90, 91, 92, 93, 94, 95, 96, 97, 98, 99], \"y\": [0.06, 0.06, 0.06, 0.06, 0.06, 0.06, 0.06, 0.06, 0.06, 0.06, 0.048, 0.048, 0.048, 0.048, 0.048, 0.048, 0.048, 0.048, 0.048, 0.048, 0.048, 0.048, 0.048, 0.048, 0.048, 0.048, 0.048, 0.048, 0.048, 0.048, 0.048, 0.048, 0.048, 0.048, 0.048, 0.048, 0.048, 0.048, 0.048, 0.048, 0.048, 0.048, 0.048, 0.048, 0.048, 0.048, 0.048, 0.048, 0.048, 0.048, 0.048, 0.048, 0.048, 0.048, 0.048, 0.048, 0.048, 0.048, 0.048, 0.048, 0.048, 0.048, 0.048, 0.0576, 0.0576, 0.0576, 0.0576, 0.0576, 0.0576, 0.0576, 0.06911999999999999, 0.06911999999999999, 0.06911999999999999, 0.06911999999999999, 0.06911999999999999, 0.08294399999999999, 0.08294399999999999, 0.08294399999999999, 0.08294399999999999, 0.09953279999999998, 0.09953279999999998, 0.09953279999999998, 0.09953279999999998, 0.09953279999999998, 0.09953279999999998, 0.09953279999999998, 0.09953279999999998, 0.09953279999999998, 0.09953279999999998, 0.09953279999999998, 0.09953279999999998, 0.09953279999999998, 0.09953279999999998, 0.09953279999999998, 0.09953279999999998, 0.09953279999999998, 0.09953279999999998, 0.09953279999999998, 0.09953279999999998, 0.09953279999999998]}],\n",
       "                        {\"template\": {\"data\": {\"bar\": [{\"error_x\": {\"color\": \"#2a3f5f\"}, \"error_y\": {\"color\": \"#2a3f5f\"}, \"marker\": {\"line\": {\"color\": \"#E5ECF6\", \"width\": 0.5}}, \"type\": \"bar\"}], \"barpolar\": [{\"marker\": {\"line\": {\"color\": \"#E5ECF6\", \"width\": 0.5}}, \"type\": \"barpolar\"}], \"carpet\": [{\"aaxis\": {\"endlinecolor\": \"#2a3f5f\", \"gridcolor\": \"white\", \"linecolor\": \"white\", \"minorgridcolor\": \"white\", \"startlinecolor\": \"#2a3f5f\"}, \"baxis\": {\"endlinecolor\": \"#2a3f5f\", \"gridcolor\": \"white\", \"linecolor\": \"white\", \"minorgridcolor\": \"white\", \"startlinecolor\": \"#2a3f5f\"}, \"type\": \"carpet\"}], \"choropleth\": [{\"colorbar\": {\"outlinewidth\": 0, \"ticks\": \"\"}, \"type\": \"choropleth\"}], \"contour\": [{\"colorbar\": {\"outlinewidth\": 0, \"ticks\": \"\"}, \"colorscale\": [[0.0, \"#0d0887\"], [0.1111111111111111, \"#46039f\"], [0.2222222222222222, \"#7201a8\"], [0.3333333333333333, \"#9c179e\"], [0.4444444444444444, \"#bd3786\"], [0.5555555555555556, \"#d8576b\"], [0.6666666666666666, \"#ed7953\"], [0.7777777777777778, \"#fb9f3a\"], [0.8888888888888888, \"#fdca26\"], [1.0, \"#f0f921\"]], \"type\": \"contour\"}], \"contourcarpet\": [{\"colorbar\": {\"outlinewidth\": 0, \"ticks\": \"\"}, \"type\": \"contourcarpet\"}], \"heatmap\": [{\"colorbar\": {\"outlinewidth\": 0, \"ticks\": \"\"}, \"colorscale\": [[0.0, \"#0d0887\"], [0.1111111111111111, \"#46039f\"], [0.2222222222222222, \"#7201a8\"], [0.3333333333333333, \"#9c179e\"], [0.4444444444444444, \"#bd3786\"], [0.5555555555555556, \"#d8576b\"], [0.6666666666666666, \"#ed7953\"], [0.7777777777777778, \"#fb9f3a\"], [0.8888888888888888, \"#fdca26\"], [1.0, \"#f0f921\"]], \"type\": \"heatmap\"}], \"heatmapgl\": [{\"colorbar\": {\"outlinewidth\": 0, \"ticks\": \"\"}, \"colorscale\": [[0.0, \"#0d0887\"], [0.1111111111111111, \"#46039f\"], [0.2222222222222222, \"#7201a8\"], [0.3333333333333333, \"#9c179e\"], [0.4444444444444444, \"#bd3786\"], [0.5555555555555556, \"#d8576b\"], [0.6666666666666666, \"#ed7953\"], [0.7777777777777778, \"#fb9f3a\"], [0.8888888888888888, \"#fdca26\"], [1.0, \"#f0f921\"]], \"type\": \"heatmapgl\"}], \"histogram\": [{\"marker\": {\"colorbar\": {\"outlinewidth\": 0, \"ticks\": \"\"}}, \"type\": \"histogram\"}], \"histogram2d\": [{\"colorbar\": {\"outlinewidth\": 0, \"ticks\": \"\"}, \"colorscale\": [[0.0, \"#0d0887\"], [0.1111111111111111, \"#46039f\"], [0.2222222222222222, \"#7201a8\"], [0.3333333333333333, \"#9c179e\"], [0.4444444444444444, \"#bd3786\"], [0.5555555555555556, \"#d8576b\"], [0.6666666666666666, \"#ed7953\"], [0.7777777777777778, \"#fb9f3a\"], [0.8888888888888888, \"#fdca26\"], [1.0, \"#f0f921\"]], \"type\": \"histogram2d\"}], \"histogram2dcontour\": [{\"colorbar\": {\"outlinewidth\": 0, \"ticks\": \"\"}, \"colorscale\": [[0.0, \"#0d0887\"], [0.1111111111111111, \"#46039f\"], [0.2222222222222222, \"#7201a8\"], [0.3333333333333333, \"#9c179e\"], [0.4444444444444444, \"#bd3786\"], [0.5555555555555556, \"#d8576b\"], [0.6666666666666666, \"#ed7953\"], [0.7777777777777778, \"#fb9f3a\"], [0.8888888888888888, \"#fdca26\"], [1.0, \"#f0f921\"]], \"type\": \"histogram2dcontour\"}], \"mesh3d\": [{\"colorbar\": {\"outlinewidth\": 0, \"ticks\": \"\"}, \"type\": \"mesh3d\"}], \"parcoords\": [{\"line\": {\"colorbar\": {\"outlinewidth\": 0, \"ticks\": \"\"}}, \"type\": \"parcoords\"}], \"pie\": [{\"automargin\": true, \"type\": \"pie\"}], \"scatter\": [{\"marker\": {\"colorbar\": {\"outlinewidth\": 0, \"ticks\": \"\"}}, \"type\": \"scatter\"}], \"scatter3d\": [{\"line\": {\"colorbar\": {\"outlinewidth\": 0, \"ticks\": \"\"}}, \"marker\": {\"colorbar\": {\"outlinewidth\": 0, \"ticks\": \"\"}}, \"type\": \"scatter3d\"}], \"scattercarpet\": [{\"marker\": {\"colorbar\": {\"outlinewidth\": 0, \"ticks\": \"\"}}, \"type\": \"scattercarpet\"}], \"scattergeo\": [{\"marker\": {\"colorbar\": {\"outlinewidth\": 0, \"ticks\": \"\"}}, \"type\": \"scattergeo\"}], \"scattergl\": [{\"marker\": {\"colorbar\": {\"outlinewidth\": 0, \"ticks\": \"\"}}, \"type\": \"scattergl\"}], \"scattermapbox\": [{\"marker\": {\"colorbar\": {\"outlinewidth\": 0, \"ticks\": \"\"}}, \"type\": \"scattermapbox\"}], \"scatterpolar\": [{\"marker\": {\"colorbar\": {\"outlinewidth\": 0, \"ticks\": \"\"}}, \"type\": \"scatterpolar\"}], \"scatterpolargl\": [{\"marker\": {\"colorbar\": {\"outlinewidth\": 0, \"ticks\": \"\"}}, \"type\": \"scatterpolargl\"}], \"scatterternary\": [{\"marker\": {\"colorbar\": {\"outlinewidth\": 0, \"ticks\": \"\"}}, \"type\": \"scatterternary\"}], \"surface\": [{\"colorbar\": {\"outlinewidth\": 0, \"ticks\": \"\"}, \"colorscale\": [[0.0, \"#0d0887\"], [0.1111111111111111, \"#46039f\"], [0.2222222222222222, \"#7201a8\"], [0.3333333333333333, \"#9c179e\"], [0.4444444444444444, \"#bd3786\"], [0.5555555555555556, \"#d8576b\"], [0.6666666666666666, \"#ed7953\"], [0.7777777777777778, \"#fb9f3a\"], [0.8888888888888888, \"#fdca26\"], [1.0, \"#f0f921\"]], \"type\": \"surface\"}], \"table\": [{\"cells\": {\"fill\": {\"color\": \"#EBF0F8\"}, \"line\": {\"color\": \"white\"}}, \"header\": {\"fill\": {\"color\": \"#C8D4E3\"}, \"line\": {\"color\": \"white\"}}, \"type\": \"table\"}]}, \"layout\": {\"annotationdefaults\": {\"arrowcolor\": \"#2a3f5f\", \"arrowhead\": 0, \"arrowwidth\": 1}, \"coloraxis\": {\"colorbar\": {\"outlinewidth\": 0, \"ticks\": \"\"}}, \"colorscale\": {\"diverging\": [[0, \"#8e0152\"], [0.1, \"#c51b7d\"], [0.2, \"#de77ae\"], [0.3, \"#f1b6da\"], [0.4, \"#fde0ef\"], [0.5, \"#f7f7f7\"], [0.6, \"#e6f5d0\"], [0.7, \"#b8e186\"], [0.8, \"#7fbc41\"], [0.9, \"#4d9221\"], [1, \"#276419\"]], \"sequential\": [[0.0, \"#0d0887\"], [0.1111111111111111, \"#46039f\"], [0.2222222222222222, \"#7201a8\"], [0.3333333333333333, \"#9c179e\"], [0.4444444444444444, \"#bd3786\"], [0.5555555555555556, \"#d8576b\"], [0.6666666666666666, \"#ed7953\"], [0.7777777777777778, \"#fb9f3a\"], [0.8888888888888888, \"#fdca26\"], [1.0, \"#f0f921\"]], \"sequentialminus\": [[0.0, \"#0d0887\"], [0.1111111111111111, \"#46039f\"], [0.2222222222222222, \"#7201a8\"], [0.3333333333333333, \"#9c179e\"], [0.4444444444444444, \"#bd3786\"], [0.5555555555555556, \"#d8576b\"], [0.6666666666666666, \"#ed7953\"], [0.7777777777777778, \"#fb9f3a\"], [0.8888888888888888, \"#fdca26\"], [1.0, \"#f0f921\"]]}, \"colorway\": [\"#636efa\", \"#EF553B\", \"#00cc96\", \"#ab63fa\", \"#FFA15A\", \"#19d3f3\", \"#FF6692\", \"#B6E880\", \"#FF97FF\", \"#FECB52\"], \"font\": {\"color\": \"#2a3f5f\"}, \"geo\": {\"bgcolor\": \"white\", \"lakecolor\": \"white\", \"landcolor\": \"#E5ECF6\", \"showlakes\": true, \"showland\": true, \"subunitcolor\": \"white\"}, \"hoverlabel\": {\"align\": \"left\"}, \"hovermode\": \"closest\", \"mapbox\": {\"style\": \"light\"}, \"paper_bgcolor\": \"white\", \"plot_bgcolor\": \"#E5ECF6\", \"polar\": {\"angularaxis\": {\"gridcolor\": \"white\", \"linecolor\": \"white\", \"ticks\": \"\"}, \"bgcolor\": \"#E5ECF6\", \"radialaxis\": {\"gridcolor\": \"white\", \"linecolor\": \"white\", \"ticks\": \"\"}}, \"scene\": {\"xaxis\": {\"backgroundcolor\": \"#E5ECF6\", \"gridcolor\": \"white\", \"gridwidth\": 2, \"linecolor\": \"white\", \"showbackground\": true, \"ticks\": \"\", \"zerolinecolor\": \"white\"}, \"yaxis\": {\"backgroundcolor\": \"#E5ECF6\", \"gridcolor\": \"white\", \"gridwidth\": 2, \"linecolor\": \"white\", \"showbackground\": true, \"ticks\": \"\", \"zerolinecolor\": \"white\"}, \"zaxis\": {\"backgroundcolor\": \"#E5ECF6\", \"gridcolor\": \"white\", \"gridwidth\": 2, \"linecolor\": \"white\", \"showbackground\": true, \"ticks\": \"\", \"zerolinecolor\": \"white\"}}, \"shapedefaults\": {\"line\": {\"color\": \"#2a3f5f\"}}, \"ternary\": {\"aaxis\": {\"gridcolor\": \"white\", \"linecolor\": \"white\", \"ticks\": \"\"}, \"baxis\": {\"gridcolor\": \"white\", \"linecolor\": \"white\", \"ticks\": \"\"}, \"bgcolor\": \"#E5ECF6\", \"caxis\": {\"gridcolor\": \"white\", \"linecolor\": \"white\", \"ticks\": \"\"}}, \"title\": {\"x\": 0.05}, \"xaxis\": {\"automargin\": true, \"gridcolor\": \"white\", \"linecolor\": \"white\", \"ticks\": \"\", \"title\": {\"standoff\": 15}, \"zerolinecolor\": \"white\", \"zerolinewidth\": 2}, \"yaxis\": {\"automargin\": true, \"gridcolor\": \"white\", \"linecolor\": \"white\", \"ticks\": \"\", \"title\": {\"standoff\": 15}, \"zerolinecolor\": \"white\", \"zerolinewidth\": 2}}}},\n",
       "                        {\"responsive\": true}\n",
       "                    ).then(function(){\n",
       "                            \n",
       "var gd = document.getElementById('9bd6bb68-bae7-4b5c-948d-391bbb37f60d');\n",
       "var x = new MutationObserver(function (mutations, observer) {{\n",
       "        var display = window.getComputedStyle(gd).display;\n",
       "        if (!display || display === 'none') {{\n",
       "            console.log([gd, 'removed!']);\n",
       "            Plotly.purge(gd);\n",
       "            observer.disconnect();\n",
       "        }}\n",
       "}});\n",
       "\n",
       "// Listen for the removal of the full notebook cells\n",
       "var notebookContainer = gd.closest('#notebook-container');\n",
       "if (notebookContainer) {{\n",
       "    x.observe(notebookContainer, {childList: true});\n",
       "}}\n",
       "\n",
       "// Listen for the clearing of the current output cell\n",
       "var outputEl = gd.closest('.output');\n",
       "if (outputEl) {{\n",
       "    x.observe(outputEl, {childList: true});\n",
       "}}\n",
       "\n",
       "                        })\n",
       "                };\n",
       "                });\n",
       "            </script>\n",
       "        </div>"
      ]
     },
     "metadata": {},
     "output_type": "display_data"
    },
    {
     "data": {
      "text/plain": []
     },
     "execution_count": 141,
     "metadata": {},
     "output_type": "execute_result"
    }
   ],
   "source": [
    "dynamic"
   ]
  },
  {
   "cell_type": "code",
   "execution_count": 144,
   "metadata": {},
   "outputs": [
    {
     "data": {
      "application/vnd.plotly.v1+json": {
       "config": {
        "plotlyServerURL": "https://plot.ly"
       },
       "data": [
        {
         "hovertemplate": "%{y}",
         "name": "Susceptible",
         "type": "scatter",
         "x": [
          0,
          1,
          2,
          3,
          4,
          5,
          6,
          7,
          8,
          9,
          10,
          11,
          12,
          13,
          14,
          15,
          16,
          17,
          18,
          19,
          20,
          21,
          22,
          23,
          24,
          25,
          26,
          27,
          28,
          29,
          30,
          31,
          32,
          33,
          34,
          35,
          36,
          37,
          38,
          39,
          40,
          41,
          42,
          43,
          44,
          45,
          46,
          47,
          48,
          49,
          50,
          51,
          52,
          53,
          54,
          55,
          56,
          57,
          58,
          59,
          60,
          61,
          62,
          63,
          64,
          65,
          66,
          67,
          68,
          69,
          70,
          71,
          72,
          73,
          74,
          75,
          76,
          77,
          78,
          79,
          80,
          81,
          82,
          83,
          84,
          85,
          86,
          87,
          88,
          89,
          90
         ],
         "y": [
          99000,
          98840,
          98668,
          98485,
          98286,
          98071,
          97849,
          97611,
          97360,
          97092,
          96806,
          96496,
          96126,
          95725,
          95277,
          94787,
          94253,
          93672,
          93043,
          92362,
          91444,
          90414,
          89264,
          87987,
          86573,
          85025,
          83345,
          81522,
          79554,
          77446,
          75150,
          71897,
          68288,
          64388,
          60258,
          55950,
          51527,
          47123,
          42844,
          38733,
          34872,
          31788,
          29254,
          26966,
          24898,
          23036,
          21375,
          19908,
          18676,
          17707,
          16837,
          16058,
          15504,
          15029,
          14605,
          14221,
          13876,
          13563,
          13276,
          13014,
          12775,
          12564,
          12371,
          12197,
          12038,
          11892,
          11744,
          11607,
          11480,
          11360,
          11240,
          11129,
          11026,
          10926,
          10831,
          10744,
          10662,
          10587,
          10516,
          10450,
          10388,
          10329,
          10274,
          10222,
          10174,
          10123,
          10076,
          10030,
          9990,
          9951,
          9915
         ]
        },
        {
         "hovertemplate": "%{y}",
         "name": "Infectious",
         "type": "scatter",
         "x": [
          0,
          1,
          2,
          3,
          4,
          5,
          6,
          7,
          8,
          9,
          10,
          11,
          12,
          13,
          14,
          15,
          16,
          17,
          18,
          19,
          20,
          21,
          22,
          23,
          24,
          25,
          26,
          27,
          28,
          29,
          30,
          31,
          32,
          33,
          34,
          35,
          36,
          37,
          38,
          39,
          40,
          41,
          42,
          43,
          44,
          45,
          46,
          47,
          48,
          49,
          50,
          51,
          52,
          53,
          54,
          55,
          56,
          57,
          58,
          59,
          60,
          61,
          62,
          63,
          64,
          65,
          66,
          67,
          68,
          69,
          70,
          71,
          72,
          73,
          74,
          75,
          76,
          77,
          78,
          79,
          80,
          81,
          82,
          83,
          84,
          85,
          86,
          87,
          88,
          89,
          90
         ],
         "y": [
          1000,
          1078,
          1162,
          1262,
          1370,
          1488,
          1603,
          1726,
          1852,
          1986,
          2130,
          2287,
          2493,
          2717,
          2972,
          3252,
          3556,
          3885,
          4238,
          4619,
          5210,
          5868,
          6600,
          7407,
          8292,
          9232,
          10233,
          11300,
          12431,
          13618,
          14906,
          17055,
          19408,
          21880,
          24398,
          26904,
          29274,
          31443,
          33321,
          34625,
          35570,
          35635,
          35144,
          34448,
          33591,
          32611,
          31509,
          30305,
          28961,
          27469,
          26004,
          24538,
          22946,
          21395,
          19920,
          18544,
          17275,
          16108,
          15024,
          14012,
          13062,
          12161,
          11318,
          10526,
          9788,
          9096,
          8464,
          7870,
          7316,
          6805,
          6338,
          5909,
          5508,
          5140,
          4797,
          4489,
          4201,
          3930,
          3681,
          3459,
          3250,
          3059,
          2881,
          2712,
          2554,
          2409,
          2274,
          2146,
          2036,
          1933,
          1836
         ]
        },
        {
         "hovertemplate": "%{y}",
         "name": "Removed",
         "type": "scatter",
         "x": [
          0,
          1,
          2,
          3,
          4,
          5,
          6,
          7,
          8,
          9,
          10,
          11,
          12,
          13,
          14,
          15,
          16,
          17,
          18,
          19,
          20,
          21,
          22,
          23,
          24,
          25,
          26,
          27,
          28,
          29,
          30,
          31,
          32,
          33,
          34,
          35,
          36,
          37,
          38,
          39,
          40,
          41,
          42,
          43,
          44,
          45,
          46,
          47,
          48,
          49,
          50,
          51,
          52,
          53,
          54,
          55,
          56,
          57,
          58,
          59,
          60,
          61,
          62,
          63,
          64,
          65,
          66,
          67,
          68,
          69,
          70,
          71,
          72,
          73,
          74,
          75,
          76,
          77,
          78,
          79,
          80,
          81,
          82,
          83,
          84,
          85,
          86,
          87,
          88,
          89,
          90
         ],
         "y": [
          0,
          31,
          64,
          100,
          140,
          182,
          229,
          279,
          332,
          390,
          452,
          518,
          590,
          667,
          752,
          844,
          946,
          1056,
          1177,
          1309,
          1453,
          1615,
          1798,
          2004,
          2234,
          2493,
          2780,
          3099,
          3451,
          3838,
          4262,
          4726,
          5257,
          5861,
          6543,
          7302,
          8140,
          9051,
          10031,
          11068,
          12146,
          13254,
          14363,
          15458,
          16530,
          17576,
          18592,
          19573,
          20516,
          21418,
          22274,
          23083,
          23847,
          24562,
          25228,
          25848,
          26426,
          26964,
          27465,
          27933,
          28369,
          28776,
          29155,
          29507,
          29835,
          30140,
          30423,
          30686,
          30932,
          31159,
          31371,
          31569,
          31753,
          31924,
          32084,
          32234,
          32373,
          32504,
          32627,
          32741,
          32849,
          32950,
          33045,
          33135,
          33220,
          33299,
          33374,
          33445,
          33512,
          33575,
          33635
         ]
        },
        {
         "hovertemplate": "%{y}",
         "name": "Quarantined",
         "type": "scatter",
         "x": [
          0,
          1,
          2,
          3,
          4,
          5,
          6,
          7,
          8,
          9,
          10,
          11,
          12,
          13,
          14,
          15,
          16,
          17,
          18,
          19,
          20,
          21,
          22,
          23,
          24,
          25,
          26,
          27,
          28,
          29,
          30,
          31,
          32,
          33,
          34,
          35,
          36,
          37,
          38,
          39,
          40,
          41,
          42,
          43,
          44,
          45,
          46,
          47,
          48,
          49,
          50,
          51,
          52,
          53,
          54,
          55,
          56,
          57,
          58,
          59,
          60,
          61,
          62,
          63,
          64,
          65,
          66,
          67,
          68,
          69,
          70,
          71,
          72,
          73,
          74,
          75,
          76,
          77,
          78,
          79,
          80,
          81,
          82,
          83,
          84,
          85,
          86,
          87,
          88,
          89,
          90
         ],
         "y": [
          0,
          49,
          103,
          150,
          202,
          257,
          317,
          383,
          453,
          529,
          610,
          696,
          789,
          889,
          996,
          1114,
          1243,
          1385,
          1539,
          1708,
          1892,
          2100,
          2336,
          2600,
          2898,
          3249,
          3640,
          4078,
          4562,
          5096,
          5681,
          6320,
          7045,
          7869,
          8799,
          9842,
          11057,
          12381,
          13802,
          15571,
          17410,
          19321,
          21237,
          23127,
          24978,
          26776,
          28523,
          30212,
          31844,
          33404,
          34883,
          36318,
          37701,
          39013,
          40245,
          41385,
          42421,
          43363,
          44232,
          45039,
          45792,
          46498,
          47155,
          47767,
          48338,
          48871,
          49367,
          49835,
          50270,
          50674,
          51048,
          51391,
          51711,
          52008,
          52286,
          52531,
          52761,
          52977,
          53174,
          53348,
          53511,
          53659,
          53798,
          53928,
          54051,
          54166,
          54275,
          54377,
          54461,
          54538,
          54611
         ]
        },
        {
         "hovertemplate": "%{y}",
         "marker": {
          "symbol": 1
         },
         "mode": "markers",
         "name": "Estimated",
         "type": "scatter",
         "x": [
          10,
          20,
          30,
          40,
          50,
          60,
          70,
          80,
          90
         ],
         "y": [
          2000,
          5700,
          14199.999999999998,
          36000,
          26800,
          13400,
          6000,
          2700,
          899.9999999999999
         ]
        },
        {
         "hovertemplate": "%{y}",
         "marker": {
          "symbol": 3
         },
         "mode": "markers",
         "name": "Resisted",
         "type": "scatter",
         "x": [
          10,
          20,
          30,
          40,
          50,
          60,
          70,
          80,
          90
         ],
         "y": [
          99.205,
          781.104,
          3642.951,
          11663.568,
          20890.025,
          28288.172000000002,
          32546.654000000002,
          31235.276,
          33496.848
         ]
        },
        {
         "hovertemplate": "%{y}",
         "marker": {
          "symbol": 2
         },
         "mode": "markers",
         "name": "Confirmed",
         "type": "scatter",
         "x": [
          10,
          20,
          30,
          40,
          50,
          60,
          70,
          80,
          90
         ],
         "y": [
          753,
          2439,
          6540,
          18878,
          35718,
          45328,
          50593,
          53242,
          54990
         ]
        }
       ],
       "layout": {
        "margin": {
         "b": 0,
         "l": 0,
         "r": 0,
         "t": 25
        },
        "template": {
         "data": {
          "bar": [
           {
            "error_x": {
             "color": "#2a3f5f"
            },
            "error_y": {
             "color": "#2a3f5f"
            },
            "marker": {
             "line": {
              "color": "#E5ECF6",
              "width": 0.5
             }
            },
            "type": "bar"
           }
          ],
          "barpolar": [
           {
            "marker": {
             "line": {
              "color": "#E5ECF6",
              "width": 0.5
             }
            },
            "type": "barpolar"
           }
          ],
          "carpet": [
           {
            "aaxis": {
             "endlinecolor": "#2a3f5f",
             "gridcolor": "white",
             "linecolor": "white",
             "minorgridcolor": "white",
             "startlinecolor": "#2a3f5f"
            },
            "baxis": {
             "endlinecolor": "#2a3f5f",
             "gridcolor": "white",
             "linecolor": "white",
             "minorgridcolor": "white",
             "startlinecolor": "#2a3f5f"
            },
            "type": "carpet"
           }
          ],
          "choropleth": [
           {
            "colorbar": {
             "outlinewidth": 0,
             "ticks": ""
            },
            "type": "choropleth"
           }
          ],
          "contour": [
           {
            "colorbar": {
             "outlinewidth": 0,
             "ticks": ""
            },
            "colorscale": [
             [
              0,
              "#0d0887"
             ],
             [
              0.1111111111111111,
              "#46039f"
             ],
             [
              0.2222222222222222,
              "#7201a8"
             ],
             [
              0.3333333333333333,
              "#9c179e"
             ],
             [
              0.4444444444444444,
              "#bd3786"
             ],
             [
              0.5555555555555556,
              "#d8576b"
             ],
             [
              0.6666666666666666,
              "#ed7953"
             ],
             [
              0.7777777777777778,
              "#fb9f3a"
             ],
             [
              0.8888888888888888,
              "#fdca26"
             ],
             [
              1,
              "#f0f921"
             ]
            ],
            "type": "contour"
           }
          ],
          "contourcarpet": [
           {
            "colorbar": {
             "outlinewidth": 0,
             "ticks": ""
            },
            "type": "contourcarpet"
           }
          ],
          "heatmap": [
           {
            "colorbar": {
             "outlinewidth": 0,
             "ticks": ""
            },
            "colorscale": [
             [
              0,
              "#0d0887"
             ],
             [
              0.1111111111111111,
              "#46039f"
             ],
             [
              0.2222222222222222,
              "#7201a8"
             ],
             [
              0.3333333333333333,
              "#9c179e"
             ],
             [
              0.4444444444444444,
              "#bd3786"
             ],
             [
              0.5555555555555556,
              "#d8576b"
             ],
             [
              0.6666666666666666,
              "#ed7953"
             ],
             [
              0.7777777777777778,
              "#fb9f3a"
             ],
             [
              0.8888888888888888,
              "#fdca26"
             ],
             [
              1,
              "#f0f921"
             ]
            ],
            "type": "heatmap"
           }
          ],
          "heatmapgl": [
           {
            "colorbar": {
             "outlinewidth": 0,
             "ticks": ""
            },
            "colorscale": [
             [
              0,
              "#0d0887"
             ],
             [
              0.1111111111111111,
              "#46039f"
             ],
             [
              0.2222222222222222,
              "#7201a8"
             ],
             [
              0.3333333333333333,
              "#9c179e"
             ],
             [
              0.4444444444444444,
              "#bd3786"
             ],
             [
              0.5555555555555556,
              "#d8576b"
             ],
             [
              0.6666666666666666,
              "#ed7953"
             ],
             [
              0.7777777777777778,
              "#fb9f3a"
             ],
             [
              0.8888888888888888,
              "#fdca26"
             ],
             [
              1,
              "#f0f921"
             ]
            ],
            "type": "heatmapgl"
           }
          ],
          "histogram": [
           {
            "marker": {
             "colorbar": {
              "outlinewidth": 0,
              "ticks": ""
             }
            },
            "type": "histogram"
           }
          ],
          "histogram2d": [
           {
            "colorbar": {
             "outlinewidth": 0,
             "ticks": ""
            },
            "colorscale": [
             [
              0,
              "#0d0887"
             ],
             [
              0.1111111111111111,
              "#46039f"
             ],
             [
              0.2222222222222222,
              "#7201a8"
             ],
             [
              0.3333333333333333,
              "#9c179e"
             ],
             [
              0.4444444444444444,
              "#bd3786"
             ],
             [
              0.5555555555555556,
              "#d8576b"
             ],
             [
              0.6666666666666666,
              "#ed7953"
             ],
             [
              0.7777777777777778,
              "#fb9f3a"
             ],
             [
              0.8888888888888888,
              "#fdca26"
             ],
             [
              1,
              "#f0f921"
             ]
            ],
            "type": "histogram2d"
           }
          ],
          "histogram2dcontour": [
           {
            "colorbar": {
             "outlinewidth": 0,
             "ticks": ""
            },
            "colorscale": [
             [
              0,
              "#0d0887"
             ],
             [
              0.1111111111111111,
              "#46039f"
             ],
             [
              0.2222222222222222,
              "#7201a8"
             ],
             [
              0.3333333333333333,
              "#9c179e"
             ],
             [
              0.4444444444444444,
              "#bd3786"
             ],
             [
              0.5555555555555556,
              "#d8576b"
             ],
             [
              0.6666666666666666,
              "#ed7953"
             ],
             [
              0.7777777777777778,
              "#fb9f3a"
             ],
             [
              0.8888888888888888,
              "#fdca26"
             ],
             [
              1,
              "#f0f921"
             ]
            ],
            "type": "histogram2dcontour"
           }
          ],
          "mesh3d": [
           {
            "colorbar": {
             "outlinewidth": 0,
             "ticks": ""
            },
            "type": "mesh3d"
           }
          ],
          "parcoords": [
           {
            "line": {
             "colorbar": {
              "outlinewidth": 0,
              "ticks": ""
             }
            },
            "type": "parcoords"
           }
          ],
          "pie": [
           {
            "automargin": true,
            "type": "pie"
           }
          ],
          "scatter": [
           {
            "marker": {
             "colorbar": {
              "outlinewidth": 0,
              "ticks": ""
             }
            },
            "type": "scatter"
           }
          ],
          "scatter3d": [
           {
            "line": {
             "colorbar": {
              "outlinewidth": 0,
              "ticks": ""
             }
            },
            "marker": {
             "colorbar": {
              "outlinewidth": 0,
              "ticks": ""
             }
            },
            "type": "scatter3d"
           }
          ],
          "scattercarpet": [
           {
            "marker": {
             "colorbar": {
              "outlinewidth": 0,
              "ticks": ""
             }
            },
            "type": "scattercarpet"
           }
          ],
          "scattergeo": [
           {
            "marker": {
             "colorbar": {
              "outlinewidth": 0,
              "ticks": ""
             }
            },
            "type": "scattergeo"
           }
          ],
          "scattergl": [
           {
            "marker": {
             "colorbar": {
              "outlinewidth": 0,
              "ticks": ""
             }
            },
            "type": "scattergl"
           }
          ],
          "scattermapbox": [
           {
            "marker": {
             "colorbar": {
              "outlinewidth": 0,
              "ticks": ""
             }
            },
            "type": "scattermapbox"
           }
          ],
          "scatterpolar": [
           {
            "marker": {
             "colorbar": {
              "outlinewidth": 0,
              "ticks": ""
             }
            },
            "type": "scatterpolar"
           }
          ],
          "scatterpolargl": [
           {
            "marker": {
             "colorbar": {
              "outlinewidth": 0,
              "ticks": ""
             }
            },
            "type": "scatterpolargl"
           }
          ],
          "scatterternary": [
           {
            "marker": {
             "colorbar": {
              "outlinewidth": 0,
              "ticks": ""
             }
            },
            "type": "scatterternary"
           }
          ],
          "surface": [
           {
            "colorbar": {
             "outlinewidth": 0,
             "ticks": ""
            },
            "colorscale": [
             [
              0,
              "#0d0887"
             ],
             [
              0.1111111111111111,
              "#46039f"
             ],
             [
              0.2222222222222222,
              "#7201a8"
             ],
             [
              0.3333333333333333,
              "#9c179e"
             ],
             [
              0.4444444444444444,
              "#bd3786"
             ],
             [
              0.5555555555555556,
              "#d8576b"
             ],
             [
              0.6666666666666666,
              "#ed7953"
             ],
             [
              0.7777777777777778,
              "#fb9f3a"
             ],
             [
              0.8888888888888888,
              "#fdca26"
             ],
             [
              1,
              "#f0f921"
             ]
            ],
            "type": "surface"
           }
          ],
          "table": [
           {
            "cells": {
             "fill": {
              "color": "#EBF0F8"
             },
             "line": {
              "color": "white"
             }
            },
            "header": {
             "fill": {
              "color": "#C8D4E3"
             },
             "line": {
              "color": "white"
             }
            },
            "type": "table"
           }
          ]
         },
         "layout": {
          "annotationdefaults": {
           "arrowcolor": "#2a3f5f",
           "arrowhead": 0,
           "arrowwidth": 1
          },
          "coloraxis": {
           "colorbar": {
            "outlinewidth": 0,
            "ticks": ""
           }
          },
          "colorscale": {
           "diverging": [
            [
             0,
             "#8e0152"
            ],
            [
             0.1,
             "#c51b7d"
            ],
            [
             0.2,
             "#de77ae"
            ],
            [
             0.3,
             "#f1b6da"
            ],
            [
             0.4,
             "#fde0ef"
            ],
            [
             0.5,
             "#f7f7f7"
            ],
            [
             0.6,
             "#e6f5d0"
            ],
            [
             0.7,
             "#b8e186"
            ],
            [
             0.8,
             "#7fbc41"
            ],
            [
             0.9,
             "#4d9221"
            ],
            [
             1,
             "#276419"
            ]
           ],
           "sequential": [
            [
             0,
             "#0d0887"
            ],
            [
             0.1111111111111111,
             "#46039f"
            ],
            [
             0.2222222222222222,
             "#7201a8"
            ],
            [
             0.3333333333333333,
             "#9c179e"
            ],
            [
             0.4444444444444444,
             "#bd3786"
            ],
            [
             0.5555555555555556,
             "#d8576b"
            ],
            [
             0.6666666666666666,
             "#ed7953"
            ],
            [
             0.7777777777777778,
             "#fb9f3a"
            ],
            [
             0.8888888888888888,
             "#fdca26"
            ],
            [
             1,
             "#f0f921"
            ]
           ],
           "sequentialminus": [
            [
             0,
             "#0d0887"
            ],
            [
             0.1111111111111111,
             "#46039f"
            ],
            [
             0.2222222222222222,
             "#7201a8"
            ],
            [
             0.3333333333333333,
             "#9c179e"
            ],
            [
             0.4444444444444444,
             "#bd3786"
            ],
            [
             0.5555555555555556,
             "#d8576b"
            ],
            [
             0.6666666666666666,
             "#ed7953"
            ],
            [
             0.7777777777777778,
             "#fb9f3a"
            ],
            [
             0.8888888888888888,
             "#fdca26"
            ],
            [
             1,
             "#f0f921"
            ]
           ]
          },
          "colorway": [
           "#636efa",
           "#EF553B",
           "#00cc96",
           "#ab63fa",
           "#FFA15A",
           "#19d3f3",
           "#FF6692",
           "#B6E880",
           "#FF97FF",
           "#FECB52"
          ],
          "font": {
           "color": "#2a3f5f"
          },
          "geo": {
           "bgcolor": "white",
           "lakecolor": "white",
           "landcolor": "#E5ECF6",
           "showlakes": true,
           "showland": true,
           "subunitcolor": "white"
          },
          "hoverlabel": {
           "align": "left"
          },
          "hovermode": "closest",
          "mapbox": {
           "style": "light"
          },
          "paper_bgcolor": "white",
          "plot_bgcolor": "#E5ECF6",
          "polar": {
           "angularaxis": {
            "gridcolor": "white",
            "linecolor": "white",
            "ticks": ""
           },
           "bgcolor": "#E5ECF6",
           "radialaxis": {
            "gridcolor": "white",
            "linecolor": "white",
            "ticks": ""
           }
          },
          "scene": {
           "xaxis": {
            "backgroundcolor": "#E5ECF6",
            "gridcolor": "white",
            "gridwidth": 2,
            "linecolor": "white",
            "showbackground": true,
            "ticks": "",
            "zerolinecolor": "white"
           },
           "yaxis": {
            "backgroundcolor": "#E5ECF6",
            "gridcolor": "white",
            "gridwidth": 2,
            "linecolor": "white",
            "showbackground": true,
            "ticks": "",
            "zerolinecolor": "white"
           },
           "zaxis": {
            "backgroundcolor": "#E5ECF6",
            "gridcolor": "white",
            "gridwidth": 2,
            "linecolor": "white",
            "showbackground": true,
            "ticks": "",
            "zerolinecolor": "white"
           }
          },
          "shapedefaults": {
           "line": {
            "color": "#2a3f5f"
           }
          },
          "ternary": {
           "aaxis": {
            "gridcolor": "white",
            "linecolor": "white",
            "ticks": ""
           },
           "baxis": {
            "gridcolor": "white",
            "linecolor": "white",
            "ticks": ""
           },
           "bgcolor": "#E5ECF6",
           "caxis": {
            "gridcolor": "white",
            "linecolor": "white",
            "ticks": ""
           }
          },
          "title": {
           "x": 0.05
          },
          "xaxis": {
           "automargin": true,
           "gridcolor": "white",
           "linecolor": "white",
           "ticks": "",
           "title": {
            "standoff": 15
           },
           "zerolinecolor": "white",
           "zerolinewidth": 2
          },
          "yaxis": {
           "automargin": true,
           "gridcolor": "white",
           "linecolor": "white",
           "ticks": "",
           "title": {
            "standoff": 15
           },
           "zerolinecolor": "white",
           "zerolinewidth": 2
          }
         }
        }
       }
      },
      "text/html": [
       "<div>\n",
       "        \n",
       "        \n",
       "            <div id=\"3ef8a8c2-b0c5-43b2-9e66-523110f4e79e\" class=\"plotly-graph-div\" style=\"height:525px; width:100%;\"></div>\n",
       "            <script type=\"text/javascript\">\n",
       "                require([\"plotly\"], function(Plotly) {\n",
       "                    window.PLOTLYENV=window.PLOTLYENV || {};\n",
       "                    \n",
       "                if (document.getElementById(\"3ef8a8c2-b0c5-43b2-9e66-523110f4e79e\")) {\n",
       "                    Plotly.newPlot(\n",
       "                        '3ef8a8c2-b0c5-43b2-9e66-523110f4e79e',\n",
       "                        [{\"hovertemplate\": \"%{y}\", \"name\": \"Susceptible\", \"type\": \"scatter\", \"x\": [0, 1, 2, 3, 4, 5, 6, 7, 8, 9, 10, 11, 12, 13, 14, 15, 16, 17, 18, 19, 20, 21, 22, 23, 24, 25, 26, 27, 28, 29, 30, 31, 32, 33, 34, 35, 36, 37, 38, 39, 40, 41, 42, 43, 44, 45, 46, 47, 48, 49, 50, 51, 52, 53, 54, 55, 56, 57, 58, 59, 60, 61, 62, 63, 64, 65, 66, 67, 68, 69, 70, 71, 72, 73, 74, 75, 76, 77, 78, 79, 80, 81, 82, 83, 84, 85, 86, 87, 88, 89, 90], \"y\": [99000, 98840, 98668, 98485, 98286, 98071, 97849, 97611, 97360, 97092, 96806, 96496, 96126, 95725, 95277, 94787, 94253, 93672, 93043, 92362, 91444, 90414, 89264, 87987, 86573, 85025, 83345, 81522, 79554, 77446, 75150, 71897, 68288, 64388, 60258, 55950, 51527, 47123, 42844, 38733, 34872, 31788, 29254, 26966, 24898, 23036, 21375, 19908, 18676, 17707, 16837, 16058, 15504, 15029, 14605, 14221, 13876, 13563, 13276, 13014, 12775, 12564, 12371, 12197, 12038, 11892, 11744, 11607, 11480, 11360, 11240, 11129, 11026, 10926, 10831, 10744, 10662, 10587, 10516, 10450, 10388, 10329, 10274, 10222, 10174, 10123, 10076, 10030, 9990, 9951, 9915]}, {\"hovertemplate\": \"%{y}\", \"name\": \"Infectious\", \"type\": \"scatter\", \"x\": [0, 1, 2, 3, 4, 5, 6, 7, 8, 9, 10, 11, 12, 13, 14, 15, 16, 17, 18, 19, 20, 21, 22, 23, 24, 25, 26, 27, 28, 29, 30, 31, 32, 33, 34, 35, 36, 37, 38, 39, 40, 41, 42, 43, 44, 45, 46, 47, 48, 49, 50, 51, 52, 53, 54, 55, 56, 57, 58, 59, 60, 61, 62, 63, 64, 65, 66, 67, 68, 69, 70, 71, 72, 73, 74, 75, 76, 77, 78, 79, 80, 81, 82, 83, 84, 85, 86, 87, 88, 89, 90], \"y\": [1000, 1078, 1162, 1262, 1370, 1488, 1603, 1726, 1852, 1986, 2130, 2287, 2493, 2717, 2972, 3252, 3556, 3885, 4238, 4619, 5210, 5868, 6600, 7407, 8292, 9232, 10233, 11300, 12431, 13618, 14906, 17055, 19408, 21880, 24398, 26904, 29274, 31443, 33321, 34625, 35570, 35635, 35144, 34448, 33591, 32611, 31509, 30305, 28961, 27469, 26004, 24538, 22946, 21395, 19920, 18544, 17275, 16108, 15024, 14012, 13062, 12161, 11318, 10526, 9788, 9096, 8464, 7870, 7316, 6805, 6338, 5909, 5508, 5140, 4797, 4489, 4201, 3930, 3681, 3459, 3250, 3059, 2881, 2712, 2554, 2409, 2274, 2146, 2036, 1933, 1836]}, {\"hovertemplate\": \"%{y}\", \"name\": \"Removed\", \"type\": \"scatter\", \"x\": [0, 1, 2, 3, 4, 5, 6, 7, 8, 9, 10, 11, 12, 13, 14, 15, 16, 17, 18, 19, 20, 21, 22, 23, 24, 25, 26, 27, 28, 29, 30, 31, 32, 33, 34, 35, 36, 37, 38, 39, 40, 41, 42, 43, 44, 45, 46, 47, 48, 49, 50, 51, 52, 53, 54, 55, 56, 57, 58, 59, 60, 61, 62, 63, 64, 65, 66, 67, 68, 69, 70, 71, 72, 73, 74, 75, 76, 77, 78, 79, 80, 81, 82, 83, 84, 85, 86, 87, 88, 89, 90], \"y\": [0, 31, 64, 100, 140, 182, 229, 279, 332, 390, 452, 518, 590, 667, 752, 844, 946, 1056, 1177, 1309, 1453, 1615, 1798, 2004, 2234, 2493, 2780, 3099, 3451, 3838, 4262, 4726, 5257, 5861, 6543, 7302, 8140, 9051, 10031, 11068, 12146, 13254, 14363, 15458, 16530, 17576, 18592, 19573, 20516, 21418, 22274, 23083, 23847, 24562, 25228, 25848, 26426, 26964, 27465, 27933, 28369, 28776, 29155, 29507, 29835, 30140, 30423, 30686, 30932, 31159, 31371, 31569, 31753, 31924, 32084, 32234, 32373, 32504, 32627, 32741, 32849, 32950, 33045, 33135, 33220, 33299, 33374, 33445, 33512, 33575, 33635]}, {\"hovertemplate\": \"%{y}\", \"name\": \"Quarantined\", \"type\": \"scatter\", \"x\": [0, 1, 2, 3, 4, 5, 6, 7, 8, 9, 10, 11, 12, 13, 14, 15, 16, 17, 18, 19, 20, 21, 22, 23, 24, 25, 26, 27, 28, 29, 30, 31, 32, 33, 34, 35, 36, 37, 38, 39, 40, 41, 42, 43, 44, 45, 46, 47, 48, 49, 50, 51, 52, 53, 54, 55, 56, 57, 58, 59, 60, 61, 62, 63, 64, 65, 66, 67, 68, 69, 70, 71, 72, 73, 74, 75, 76, 77, 78, 79, 80, 81, 82, 83, 84, 85, 86, 87, 88, 89, 90], \"y\": [0, 49, 103, 150, 202, 257, 317, 383, 453, 529, 610, 696, 789, 889, 996, 1114, 1243, 1385, 1539, 1708, 1892, 2100, 2336, 2600, 2898, 3249, 3640, 4078, 4562, 5096, 5681, 6320, 7045, 7869, 8799, 9842, 11057, 12381, 13802, 15571, 17410, 19321, 21237, 23127, 24978, 26776, 28523, 30212, 31844, 33404, 34883, 36318, 37701, 39013, 40245, 41385, 42421, 43363, 44232, 45039, 45792, 46498, 47155, 47767, 48338, 48871, 49367, 49835, 50270, 50674, 51048, 51391, 51711, 52008, 52286, 52531, 52761, 52977, 53174, 53348, 53511, 53659, 53798, 53928, 54051, 54166, 54275, 54377, 54461, 54538, 54611]}, {\"hovertemplate\": \"%{y}\", \"marker\": {\"symbol\": 1}, \"mode\": \"markers\", \"name\": \"Estimated\", \"type\": \"scatter\", \"x\": [10, 20, 30, 40, 50, 60, 70, 80, 90], \"y\": [2000.0, 5700.0, 14199.999999999998, 36000.0, 26800.0, 13400.0, 6000.0, 2700.0, 899.9999999999999]}, {\"hovertemplate\": \"%{y}\", \"marker\": {\"symbol\": 3}, \"mode\": \"markers\", \"name\": \"Resisted\", \"type\": \"scatter\", \"x\": [10, 20, 30, 40, 50, 60, 70, 80, 90], \"y\": [99.205, 781.104, 3642.951, 11663.568, 20890.025, 28288.172000000002, 32546.654000000002, 31235.276, 33496.848]}, {\"hovertemplate\": \"%{y}\", \"marker\": {\"symbol\": 2}, \"mode\": \"markers\", \"name\": \"Confirmed\", \"type\": \"scatter\", \"x\": [10, 20, 30, 40, 50, 60, 70, 80, 90], \"y\": [753, 2439, 6540, 18878, 35718, 45328, 50593, 53242, 54990]}],\n",
       "                        {\"margin\": {\"b\": 0, \"l\": 0, \"r\": 0, \"t\": 25}, \"template\": {\"data\": {\"bar\": [{\"error_x\": {\"color\": \"#2a3f5f\"}, \"error_y\": {\"color\": \"#2a3f5f\"}, \"marker\": {\"line\": {\"color\": \"#E5ECF6\", \"width\": 0.5}}, \"type\": \"bar\"}], \"barpolar\": [{\"marker\": {\"line\": {\"color\": \"#E5ECF6\", \"width\": 0.5}}, \"type\": \"barpolar\"}], \"carpet\": [{\"aaxis\": {\"endlinecolor\": \"#2a3f5f\", \"gridcolor\": \"white\", \"linecolor\": \"white\", \"minorgridcolor\": \"white\", \"startlinecolor\": \"#2a3f5f\"}, \"baxis\": {\"endlinecolor\": \"#2a3f5f\", \"gridcolor\": \"white\", \"linecolor\": \"white\", \"minorgridcolor\": \"white\", \"startlinecolor\": \"#2a3f5f\"}, \"type\": \"carpet\"}], \"choropleth\": [{\"colorbar\": {\"outlinewidth\": 0, \"ticks\": \"\"}, \"type\": \"choropleth\"}], \"contour\": [{\"colorbar\": {\"outlinewidth\": 0, \"ticks\": \"\"}, \"colorscale\": [[0.0, \"#0d0887\"], [0.1111111111111111, \"#46039f\"], [0.2222222222222222, \"#7201a8\"], [0.3333333333333333, \"#9c179e\"], [0.4444444444444444, \"#bd3786\"], [0.5555555555555556, \"#d8576b\"], [0.6666666666666666, \"#ed7953\"], [0.7777777777777778, \"#fb9f3a\"], [0.8888888888888888, \"#fdca26\"], [1.0, \"#f0f921\"]], \"type\": \"contour\"}], \"contourcarpet\": [{\"colorbar\": {\"outlinewidth\": 0, \"ticks\": \"\"}, \"type\": \"contourcarpet\"}], \"heatmap\": [{\"colorbar\": {\"outlinewidth\": 0, \"ticks\": \"\"}, \"colorscale\": [[0.0, \"#0d0887\"], [0.1111111111111111, \"#46039f\"], [0.2222222222222222, \"#7201a8\"], [0.3333333333333333, \"#9c179e\"], [0.4444444444444444, \"#bd3786\"], [0.5555555555555556, \"#d8576b\"], [0.6666666666666666, \"#ed7953\"], [0.7777777777777778, \"#fb9f3a\"], [0.8888888888888888, \"#fdca26\"], [1.0, \"#f0f921\"]], \"type\": \"heatmap\"}], \"heatmapgl\": [{\"colorbar\": {\"outlinewidth\": 0, \"ticks\": \"\"}, \"colorscale\": [[0.0, \"#0d0887\"], [0.1111111111111111, \"#46039f\"], [0.2222222222222222, \"#7201a8\"], [0.3333333333333333, \"#9c179e\"], [0.4444444444444444, \"#bd3786\"], [0.5555555555555556, \"#d8576b\"], [0.6666666666666666, \"#ed7953\"], [0.7777777777777778, \"#fb9f3a\"], [0.8888888888888888, \"#fdca26\"], [1.0, \"#f0f921\"]], \"type\": \"heatmapgl\"}], \"histogram\": [{\"marker\": {\"colorbar\": {\"outlinewidth\": 0, \"ticks\": \"\"}}, \"type\": \"histogram\"}], \"histogram2d\": [{\"colorbar\": {\"outlinewidth\": 0, \"ticks\": \"\"}, \"colorscale\": [[0.0, \"#0d0887\"], [0.1111111111111111, \"#46039f\"], [0.2222222222222222, \"#7201a8\"], [0.3333333333333333, \"#9c179e\"], [0.4444444444444444, \"#bd3786\"], [0.5555555555555556, \"#d8576b\"], [0.6666666666666666, \"#ed7953\"], [0.7777777777777778, \"#fb9f3a\"], [0.8888888888888888, \"#fdca26\"], [1.0, \"#f0f921\"]], \"type\": \"histogram2d\"}], \"histogram2dcontour\": [{\"colorbar\": {\"outlinewidth\": 0, \"ticks\": \"\"}, \"colorscale\": [[0.0, \"#0d0887\"], [0.1111111111111111, \"#46039f\"], [0.2222222222222222, \"#7201a8\"], [0.3333333333333333, \"#9c179e\"], [0.4444444444444444, \"#bd3786\"], [0.5555555555555556, \"#d8576b\"], [0.6666666666666666, \"#ed7953\"], [0.7777777777777778, \"#fb9f3a\"], [0.8888888888888888, \"#fdca26\"], [1.0, \"#f0f921\"]], \"type\": \"histogram2dcontour\"}], \"mesh3d\": [{\"colorbar\": {\"outlinewidth\": 0, \"ticks\": \"\"}, \"type\": \"mesh3d\"}], \"parcoords\": [{\"line\": {\"colorbar\": {\"outlinewidth\": 0, \"ticks\": \"\"}}, \"type\": \"parcoords\"}], \"pie\": [{\"automargin\": true, \"type\": \"pie\"}], \"scatter\": [{\"marker\": {\"colorbar\": {\"outlinewidth\": 0, \"ticks\": \"\"}}, \"type\": \"scatter\"}], \"scatter3d\": [{\"line\": {\"colorbar\": {\"outlinewidth\": 0, \"ticks\": \"\"}}, \"marker\": {\"colorbar\": {\"outlinewidth\": 0, \"ticks\": \"\"}}, \"type\": \"scatter3d\"}], \"scattercarpet\": [{\"marker\": {\"colorbar\": {\"outlinewidth\": 0, \"ticks\": \"\"}}, \"type\": \"scattercarpet\"}], \"scattergeo\": [{\"marker\": {\"colorbar\": {\"outlinewidth\": 0, \"ticks\": \"\"}}, \"type\": \"scattergeo\"}], \"scattergl\": [{\"marker\": {\"colorbar\": {\"outlinewidth\": 0, \"ticks\": \"\"}}, \"type\": \"scattergl\"}], \"scattermapbox\": [{\"marker\": {\"colorbar\": {\"outlinewidth\": 0, \"ticks\": \"\"}}, \"type\": \"scattermapbox\"}], \"scatterpolar\": [{\"marker\": {\"colorbar\": {\"outlinewidth\": 0, \"ticks\": \"\"}}, \"type\": \"scatterpolar\"}], \"scatterpolargl\": [{\"marker\": {\"colorbar\": {\"outlinewidth\": 0, \"ticks\": \"\"}}, \"type\": \"scatterpolargl\"}], \"scatterternary\": [{\"marker\": {\"colorbar\": {\"outlinewidth\": 0, \"ticks\": \"\"}}, \"type\": \"scatterternary\"}], \"surface\": [{\"colorbar\": {\"outlinewidth\": 0, \"ticks\": \"\"}, \"colorscale\": [[0.0, \"#0d0887\"], [0.1111111111111111, \"#46039f\"], [0.2222222222222222, \"#7201a8\"], [0.3333333333333333, \"#9c179e\"], [0.4444444444444444, \"#bd3786\"], [0.5555555555555556, \"#d8576b\"], [0.6666666666666666, \"#ed7953\"], [0.7777777777777778, \"#fb9f3a\"], [0.8888888888888888, \"#fdca26\"], [1.0, \"#f0f921\"]], \"type\": \"surface\"}], \"table\": [{\"cells\": {\"fill\": {\"color\": \"#EBF0F8\"}, \"line\": {\"color\": \"white\"}}, \"header\": {\"fill\": {\"color\": \"#C8D4E3\"}, \"line\": {\"color\": \"white\"}}, \"type\": \"table\"}]}, \"layout\": {\"annotationdefaults\": {\"arrowcolor\": \"#2a3f5f\", \"arrowhead\": 0, \"arrowwidth\": 1}, \"coloraxis\": {\"colorbar\": {\"outlinewidth\": 0, \"ticks\": \"\"}}, \"colorscale\": {\"diverging\": [[0, \"#8e0152\"], [0.1, \"#c51b7d\"], [0.2, \"#de77ae\"], [0.3, \"#f1b6da\"], [0.4, \"#fde0ef\"], [0.5, \"#f7f7f7\"], [0.6, \"#e6f5d0\"], [0.7, \"#b8e186\"], [0.8, \"#7fbc41\"], [0.9, \"#4d9221\"], [1, \"#276419\"]], \"sequential\": [[0.0, \"#0d0887\"], [0.1111111111111111, \"#46039f\"], [0.2222222222222222, \"#7201a8\"], [0.3333333333333333, \"#9c179e\"], [0.4444444444444444, \"#bd3786\"], [0.5555555555555556, \"#d8576b\"], [0.6666666666666666, \"#ed7953\"], [0.7777777777777778, \"#fb9f3a\"], [0.8888888888888888, \"#fdca26\"], [1.0, \"#f0f921\"]], \"sequentialminus\": [[0.0, \"#0d0887\"], [0.1111111111111111, \"#46039f\"], [0.2222222222222222, \"#7201a8\"], [0.3333333333333333, \"#9c179e\"], [0.4444444444444444, \"#bd3786\"], [0.5555555555555556, \"#d8576b\"], [0.6666666666666666, \"#ed7953\"], [0.7777777777777778, \"#fb9f3a\"], [0.8888888888888888, \"#fdca26\"], [1.0, \"#f0f921\"]]}, \"colorway\": [\"#636efa\", \"#EF553B\", \"#00cc96\", \"#ab63fa\", \"#FFA15A\", \"#19d3f3\", \"#FF6692\", \"#B6E880\", \"#FF97FF\", \"#FECB52\"], \"font\": {\"color\": \"#2a3f5f\"}, \"geo\": {\"bgcolor\": \"white\", \"lakecolor\": \"white\", \"landcolor\": \"#E5ECF6\", \"showlakes\": true, \"showland\": true, \"subunitcolor\": \"white\"}, \"hoverlabel\": {\"align\": \"left\"}, \"hovermode\": \"closest\", \"mapbox\": {\"style\": \"light\"}, \"paper_bgcolor\": \"white\", \"plot_bgcolor\": \"#E5ECF6\", \"polar\": {\"angularaxis\": {\"gridcolor\": \"white\", \"linecolor\": \"white\", \"ticks\": \"\"}, \"bgcolor\": \"#E5ECF6\", \"radialaxis\": {\"gridcolor\": \"white\", \"linecolor\": \"white\", \"ticks\": \"\"}}, \"scene\": {\"xaxis\": {\"backgroundcolor\": \"#E5ECF6\", \"gridcolor\": \"white\", \"gridwidth\": 2, \"linecolor\": \"white\", \"showbackground\": true, \"ticks\": \"\", \"zerolinecolor\": \"white\"}, \"yaxis\": {\"backgroundcolor\": \"#E5ECF6\", \"gridcolor\": \"white\", \"gridwidth\": 2, \"linecolor\": \"white\", \"showbackground\": true, \"ticks\": \"\", \"zerolinecolor\": \"white\"}, \"zaxis\": {\"backgroundcolor\": \"#E5ECF6\", \"gridcolor\": \"white\", \"gridwidth\": 2, \"linecolor\": \"white\", \"showbackground\": true, \"ticks\": \"\", \"zerolinecolor\": \"white\"}}, \"shapedefaults\": {\"line\": {\"color\": \"#2a3f5f\"}}, \"ternary\": {\"aaxis\": {\"gridcolor\": \"white\", \"linecolor\": \"white\", \"ticks\": \"\"}, \"baxis\": {\"gridcolor\": \"white\", \"linecolor\": \"white\", \"ticks\": \"\"}, \"bgcolor\": \"#E5ECF6\", \"caxis\": {\"gridcolor\": \"white\", \"linecolor\": \"white\", \"ticks\": \"\"}}, \"title\": {\"x\": 0.05}, \"xaxis\": {\"automargin\": true, \"gridcolor\": \"white\", \"linecolor\": \"white\", \"ticks\": \"\", \"title\": {\"standoff\": 15}, \"zerolinecolor\": \"white\", \"zerolinewidth\": 2}, \"yaxis\": {\"automargin\": true, \"gridcolor\": \"white\", \"linecolor\": \"white\", \"ticks\": \"\", \"title\": {\"standoff\": 15}, \"zerolinecolor\": \"white\", \"zerolinewidth\": 2}}}},\n",
       "                        {\"responsive\": true}\n",
       "                    ).then(function(){\n",
       "                            \n",
       "var gd = document.getElementById('3ef8a8c2-b0c5-43b2-9e66-523110f4e79e');\n",
       "var x = new MutationObserver(function (mutations, observer) {{\n",
       "        var display = window.getComputedStyle(gd).display;\n",
       "        if (!display || display === 'none') {{\n",
       "            console.log([gd, 'removed!']);\n",
       "            Plotly.purge(gd);\n",
       "            observer.disconnect();\n",
       "        }}\n",
       "}});\n",
       "\n",
       "// Listen for the removal of the full notebook cells\n",
       "var notebookContainer = gd.closest('#notebook-container');\n",
       "if (notebookContainer) {{\n",
       "    x.observe(notebookContainer, {childList: true});\n",
       "}}\n",
       "\n",
       "// Listen for the clearing of the current output cell\n",
       "var outputEl = gd.closest('.output');\n",
       "if (outputEl) {{\n",
       "    x.observe(outputEl, {childList: true});\n",
       "}}\n",
       "\n",
       "                        })\n",
       "                };\n",
       "                });\n",
       "            </script>\n",
       "        </div>"
      ]
     },
     "metadata": {},
     "output_type": "display_data"
    }
   ],
   "source": [
    "fig = SIRQt.plot(a.dynamic.estimate(city))\n",
    "sample.plot(fig)\n",
    "resisted.plot(fig)\n",
    "confirmed.plot(fig)"
   ]
  },
  {
   "cell_type": "code",
   "execution_count": 131,
   "metadata": {},
   "outputs": [
    {
     "data": {
      "application/vnd.plotly.v1+json": {
       "config": {
        "plotlyServerURL": "https://plot.ly"
       },
       "data": [
        {
         "hovertemplate": "%{y}",
         "name": "Susceptible",
         "type": "scatter",
         "x": [
          0,
          1,
          2,
          3,
          4,
          5,
          6,
          7,
          8,
          9,
          10,
          11,
          12,
          13,
          14,
          15,
          16,
          17,
          18,
          19,
          20,
          21,
          22,
          23,
          24,
          25,
          26,
          27,
          28,
          29,
          30,
          31,
          32,
          33,
          34,
          35,
          36,
          37,
          38,
          39,
          40,
          41,
          42,
          43,
          44,
          45,
          46,
          47,
          48,
          49,
          50,
          51,
          52,
          53,
          54,
          55,
          56,
          57,
          58,
          59,
          60,
          61,
          62,
          63,
          64,
          65,
          66,
          67,
          68,
          69,
          70,
          71,
          72,
          73,
          74,
          75,
          76,
          77,
          78,
          79,
          80,
          81,
          82,
          83,
          84,
          85,
          86,
          87,
          88,
          89,
          90,
          91,
          92,
          93,
          94,
          95,
          96,
          97,
          98,
          99,
          100
         ],
         "y": [
          99000,
          98851,
          98694,
          98528,
          98353,
          98168,
          97973,
          97767,
          97484,
          97174,
          96835,
          96463,
          96051,
          95596,
          95094,
          94540,
          93931,
          93262,
          92527,
          91723,
          90845,
          89887,
          88846,
          87717,
          86496,
          85181,
          83346,
          81303,
          79046,
          76571,
          73882,
          70988,
          67906,
          63683,
          59150,
          54388,
          49501,
          44607,
          39826,
          35266,
          31017,
          27141,
          24711,
          22534,
          20592,
          18864,
          17331,
          16665,
          16062,
          15515,
          15018,
          14702,
          14413,
          14148,
          13905,
          13683,
          13478,
          13290,
          13117,
          12958,
          12812,
          12676,
          12552,
          12436,
          12330,
          12233,
          12144,
          12087,
          12034,
          11986,
          11943,
          11902,
          11866,
          11833,
          11803,
          11768,
          11737,
          11708,
          11683,
          11660,
          11640,
          11622,
          11606,
          11592,
          11580,
          11570,
          11561,
          11552,
          11545,
          11539,
          11533,
          11528,
          11524,
          11521,
          11518,
          11515,
          11513,
          11510,
          11508,
          11506,
          11504
         ]
        },
        {
         "hovertemplate": "%{y}",
         "name": "Infectious",
         "type": "scatter",
         "x": [
          0,
          1,
          2,
          3,
          4,
          5,
          6,
          7,
          8,
          9,
          10,
          11,
          12,
          13,
          14,
          15,
          16,
          17,
          18,
          19,
          20,
          21,
          22,
          23,
          24,
          25,
          26,
          27,
          28,
          29,
          30,
          31,
          32,
          33,
          34,
          35,
          36,
          37,
          38,
          39,
          40,
          41,
          42,
          43,
          44,
          45,
          46,
          47,
          48,
          49,
          50,
          51,
          52,
          53,
          54,
          55,
          56,
          57,
          58,
          59,
          60,
          61,
          62,
          63,
          64,
          65,
          66,
          67,
          68,
          69,
          70,
          71,
          72,
          73,
          74,
          75,
          76,
          77,
          78,
          79,
          80,
          81,
          82,
          83,
          84,
          85,
          86,
          87,
          88,
          89,
          90,
          91,
          92,
          93,
          94,
          95,
          96,
          97,
          98,
          99,
          100
         ],
         "y": [
          1000,
          1058,
          1120,
          1185,
          1253,
          1325,
          1401,
          1481,
          1630,
          1792,
          1970,
          2188,
          2428,
          2693,
          2984,
          3304,
          3655,
          4038,
          4456,
          4911,
          5405,
          5940,
          6516,
          7134,
          7796,
          8501,
          9668,
          10951,
          12347,
          13851,
          15451,
          17131,
          18867,
          21600,
          24429,
          27264,
          29999,
          32526,
          34740,
          36559,
          37923,
          38807,
          38186,
          37362,
          36367,
          35236,
          34000,
          32015,
          30121,
          28318,
          26606,
          24856,
          23214,
          21675,
          20233,
          18884,
          17621,
          16440,
          15336,
          14304,
          13339,
          12438,
          11596,
          10810,
          9973,
          9200,
          8486,
          7805,
          7178,
          6601,
          6071,
          5513,
          5006,
          4546,
          4128,
          3755,
          3364,
          3013,
          2699,
          2418,
          2126,
          1869,
          1643,
          1444,
          1270,
          1116,
          981,
          862,
          758,
          666,
          586,
          515,
          453,
          397,
          349,
          306,
          269,
          237,
          208,
          183,
          161
         ]
        },
        {
         "hovertemplate": "%{y}",
         "name": "Removed",
         "type": "scatter",
         "x": [
          0,
          1,
          2,
          3,
          4,
          5,
          6,
          7,
          8,
          9,
          10,
          11,
          12,
          13,
          14,
          15,
          16,
          17,
          18,
          19,
          20,
          21,
          22,
          23,
          24,
          25,
          26,
          27,
          28,
          29,
          30,
          31,
          32,
          33,
          34,
          35,
          36,
          37,
          38,
          39,
          40,
          41,
          42,
          43,
          44,
          45,
          46,
          47,
          48,
          49,
          50,
          51,
          52,
          53,
          54,
          55,
          56,
          57,
          58,
          59,
          60,
          61,
          62,
          63,
          64,
          65,
          66,
          67,
          68,
          69,
          70,
          71,
          72,
          73,
          74,
          75,
          76,
          77,
          78,
          79,
          80,
          81,
          82,
          83,
          84,
          85,
          86,
          87,
          88,
          89,
          90,
          91,
          92,
          93,
          94,
          95,
          96,
          97,
          98,
          99,
          100
         ],
         "y": [
          0,
          30,
          61,
          95,
          130,
          168,
          208,
          250,
          295,
          344,
          398,
          458,
          524,
          598,
          680,
          770,
          870,
          981,
          1103,
          1238,
          1387,
          1551,
          1731,
          1928,
          2145,
          2381,
          2641,
          2937,
          3272,
          3650,
          4074,
          4547,
          5071,
          5654,
          6322,
          7077,
          7920,
          8847,
          9852,
          10926,
          12056,
          13228,
          14416,
          15584,
          16728,
          17840,
          18919,
          19938,
          20899,
          21802,
          22651,
          23441,
          24179,
          24868,
          25512,
          26113,
          26674,
          27197,
          27685,
          28140,
          28565,
          28961,
          29330,
          29675,
          29996,
          30292,
          30565,
          30814,
          31044,
          31255,
          31449,
          31627,
          31789,
          31937,
          32070,
          32193,
          32304,
          32404,
          32494,
          32574,
          32646,
          32709,
          32764,
          32813,
          32856,
          32893,
          32927,
          32956,
          32981,
          33004,
          33024,
          33041,
          33056,
          33070,
          33082,
          33092,
          33101,
          33109,
          33116,
          33123,
          33128
         ]
        },
        {
         "hovertemplate": "%{y}",
         "name": "Quarantined",
         "type": "scatter",
         "x": [
          0,
          1,
          2,
          3,
          4,
          5,
          6,
          7,
          8,
          9,
          10,
          11,
          12,
          13,
          14,
          15,
          16,
          17,
          18,
          19,
          20,
          21,
          22,
          23,
          24,
          25,
          26,
          27,
          28,
          29,
          30,
          31,
          32,
          33,
          34,
          35,
          36,
          37,
          38,
          39,
          40,
          41,
          42,
          43,
          44,
          45,
          46,
          47,
          48,
          49,
          50,
          51,
          52,
          53,
          54,
          55,
          56,
          57,
          58,
          59,
          60,
          61,
          62,
          63,
          64,
          65,
          66,
          67,
          68,
          69,
          70,
          71,
          72,
          73,
          74,
          75,
          76,
          77,
          78,
          79,
          80,
          81,
          82,
          83,
          84,
          85,
          86,
          87,
          88,
          89,
          90,
          91,
          92,
          93,
          94,
          95,
          96,
          97,
          98,
          99,
          100
         ],
         "y": [
          0,
          60,
          123,
          190,
          261,
          337,
          416,
          500,
          589,
          687,
          794,
          889,
          994,
          1111,
          1240,
          1383,
          1542,
          1717,
          1911,
          2125,
          2361,
          2620,
          2906,
          3218,
          3561,
          3935,
          4343,
          4807,
          5333,
          5926,
          6590,
          7332,
          8154,
          9060,
          10097,
          11270,
          12578,
          14018,
          15579,
          17247,
          19002,
          20822,
          22685,
          24518,
          26311,
          28057,
          29748,
          31380,
          32917,
          34363,
          35722,
          36999,
          38192,
          39307,
          40347,
          41318,
          42225,
          43071,
          43860,
          44596,
          45283,
          45923,
          46520,
          47077,
          47699,
          48274,
          48804,
          49292,
          49742,
          50156,
          50536,
          50955,
          51336,
          51683,
          51997,
          52282,
          52594,
          52873,
          53123,
          53347,
          53587,
          53799,
          53985,
          54148,
          54292,
          54419,
          54530,
          54627,
          54713,
          54789,
          54855,
          54914,
          54965,
          55010,
          55050,
          55084,
          55115,
          55142,
          55165,
          55186,
          55204
         ]
        },
        {
         "hovertemplate": "%{y}",
         "marker": {
          "symbol": 1
         },
         "mode": "markers",
         "name": "Estimated",
         "type": "scatter",
         "x": [
          10,
          20,
          30,
          40,
          50,
          60,
          70,
          80,
          90
         ],
         "y": [
          2000,
          5700,
          14199.999999999998,
          36000,
          26800,
          13400,
          6000,
          2700,
          899.9999999999999
         ]
        },
        {
         "hovertemplate": "%{y}",
         "marker": {
          "symbol": 3
         },
         "mode": "markers",
         "name": "Resisted",
         "type": "scatter",
         "x": [
          10,
          20,
          30,
          40,
          50,
          60,
          70,
          80,
          90
         ],
         "y": [
          99.205,
          781.104,
          3642.951,
          11663.568,
          20890.025,
          28288.172000000002,
          32546.654000000002,
          31235.276,
          33496.848
         ]
        },
        {
         "hovertemplate": "%{y}",
         "marker": {
          "symbol": 2
         },
         "mode": "markers",
         "name": "Confirmed",
         "type": "scatter",
         "x": [
          10,
          20,
          30,
          40,
          50,
          60,
          70,
          80,
          90
         ],
         "y": [
          753,
          2439,
          6540,
          18878,
          35718,
          45328,
          50593,
          53242,
          54990
         ]
        }
       ],
       "layout": {
        "margin": {
         "b": 0,
         "l": 0,
         "r": 0,
         "t": 25
        },
        "template": {
         "data": {
          "bar": [
           {
            "error_x": {
             "color": "#2a3f5f"
            },
            "error_y": {
             "color": "#2a3f5f"
            },
            "marker": {
             "line": {
              "color": "#E5ECF6",
              "width": 0.5
             }
            },
            "type": "bar"
           }
          ],
          "barpolar": [
           {
            "marker": {
             "line": {
              "color": "#E5ECF6",
              "width": 0.5
             }
            },
            "type": "barpolar"
           }
          ],
          "carpet": [
           {
            "aaxis": {
             "endlinecolor": "#2a3f5f",
             "gridcolor": "white",
             "linecolor": "white",
             "minorgridcolor": "white",
             "startlinecolor": "#2a3f5f"
            },
            "baxis": {
             "endlinecolor": "#2a3f5f",
             "gridcolor": "white",
             "linecolor": "white",
             "minorgridcolor": "white",
             "startlinecolor": "#2a3f5f"
            },
            "type": "carpet"
           }
          ],
          "choropleth": [
           {
            "colorbar": {
             "outlinewidth": 0,
             "ticks": ""
            },
            "type": "choropleth"
           }
          ],
          "contour": [
           {
            "colorbar": {
             "outlinewidth": 0,
             "ticks": ""
            },
            "colorscale": [
             [
              0,
              "#0d0887"
             ],
             [
              0.1111111111111111,
              "#46039f"
             ],
             [
              0.2222222222222222,
              "#7201a8"
             ],
             [
              0.3333333333333333,
              "#9c179e"
             ],
             [
              0.4444444444444444,
              "#bd3786"
             ],
             [
              0.5555555555555556,
              "#d8576b"
             ],
             [
              0.6666666666666666,
              "#ed7953"
             ],
             [
              0.7777777777777778,
              "#fb9f3a"
             ],
             [
              0.8888888888888888,
              "#fdca26"
             ],
             [
              1,
              "#f0f921"
             ]
            ],
            "type": "contour"
           }
          ],
          "contourcarpet": [
           {
            "colorbar": {
             "outlinewidth": 0,
             "ticks": ""
            },
            "type": "contourcarpet"
           }
          ],
          "heatmap": [
           {
            "colorbar": {
             "outlinewidth": 0,
             "ticks": ""
            },
            "colorscale": [
             [
              0,
              "#0d0887"
             ],
             [
              0.1111111111111111,
              "#46039f"
             ],
             [
              0.2222222222222222,
              "#7201a8"
             ],
             [
              0.3333333333333333,
              "#9c179e"
             ],
             [
              0.4444444444444444,
              "#bd3786"
             ],
             [
              0.5555555555555556,
              "#d8576b"
             ],
             [
              0.6666666666666666,
              "#ed7953"
             ],
             [
              0.7777777777777778,
              "#fb9f3a"
             ],
             [
              0.8888888888888888,
              "#fdca26"
             ],
             [
              1,
              "#f0f921"
             ]
            ],
            "type": "heatmap"
           }
          ],
          "heatmapgl": [
           {
            "colorbar": {
             "outlinewidth": 0,
             "ticks": ""
            },
            "colorscale": [
             [
              0,
              "#0d0887"
             ],
             [
              0.1111111111111111,
              "#46039f"
             ],
             [
              0.2222222222222222,
              "#7201a8"
             ],
             [
              0.3333333333333333,
              "#9c179e"
             ],
             [
              0.4444444444444444,
              "#bd3786"
             ],
             [
              0.5555555555555556,
              "#d8576b"
             ],
             [
              0.6666666666666666,
              "#ed7953"
             ],
             [
              0.7777777777777778,
              "#fb9f3a"
             ],
             [
              0.8888888888888888,
              "#fdca26"
             ],
             [
              1,
              "#f0f921"
             ]
            ],
            "type": "heatmapgl"
           }
          ],
          "histogram": [
           {
            "marker": {
             "colorbar": {
              "outlinewidth": 0,
              "ticks": ""
             }
            },
            "type": "histogram"
           }
          ],
          "histogram2d": [
           {
            "colorbar": {
             "outlinewidth": 0,
             "ticks": ""
            },
            "colorscale": [
             [
              0,
              "#0d0887"
             ],
             [
              0.1111111111111111,
              "#46039f"
             ],
             [
              0.2222222222222222,
              "#7201a8"
             ],
             [
              0.3333333333333333,
              "#9c179e"
             ],
             [
              0.4444444444444444,
              "#bd3786"
             ],
             [
              0.5555555555555556,
              "#d8576b"
             ],
             [
              0.6666666666666666,
              "#ed7953"
             ],
             [
              0.7777777777777778,
              "#fb9f3a"
             ],
             [
              0.8888888888888888,
              "#fdca26"
             ],
             [
              1,
              "#f0f921"
             ]
            ],
            "type": "histogram2d"
           }
          ],
          "histogram2dcontour": [
           {
            "colorbar": {
             "outlinewidth": 0,
             "ticks": ""
            },
            "colorscale": [
             [
              0,
              "#0d0887"
             ],
             [
              0.1111111111111111,
              "#46039f"
             ],
             [
              0.2222222222222222,
              "#7201a8"
             ],
             [
              0.3333333333333333,
              "#9c179e"
             ],
             [
              0.4444444444444444,
              "#bd3786"
             ],
             [
              0.5555555555555556,
              "#d8576b"
             ],
             [
              0.6666666666666666,
              "#ed7953"
             ],
             [
              0.7777777777777778,
              "#fb9f3a"
             ],
             [
              0.8888888888888888,
              "#fdca26"
             ],
             [
              1,
              "#f0f921"
             ]
            ],
            "type": "histogram2dcontour"
           }
          ],
          "mesh3d": [
           {
            "colorbar": {
             "outlinewidth": 0,
             "ticks": ""
            },
            "type": "mesh3d"
           }
          ],
          "parcoords": [
           {
            "line": {
             "colorbar": {
              "outlinewidth": 0,
              "ticks": ""
             }
            },
            "type": "parcoords"
           }
          ],
          "pie": [
           {
            "automargin": true,
            "type": "pie"
           }
          ],
          "scatter": [
           {
            "marker": {
             "colorbar": {
              "outlinewidth": 0,
              "ticks": ""
             }
            },
            "type": "scatter"
           }
          ],
          "scatter3d": [
           {
            "line": {
             "colorbar": {
              "outlinewidth": 0,
              "ticks": ""
             }
            },
            "marker": {
             "colorbar": {
              "outlinewidth": 0,
              "ticks": ""
             }
            },
            "type": "scatter3d"
           }
          ],
          "scattercarpet": [
           {
            "marker": {
             "colorbar": {
              "outlinewidth": 0,
              "ticks": ""
             }
            },
            "type": "scattercarpet"
           }
          ],
          "scattergeo": [
           {
            "marker": {
             "colorbar": {
              "outlinewidth": 0,
              "ticks": ""
             }
            },
            "type": "scattergeo"
           }
          ],
          "scattergl": [
           {
            "marker": {
             "colorbar": {
              "outlinewidth": 0,
              "ticks": ""
             }
            },
            "type": "scattergl"
           }
          ],
          "scattermapbox": [
           {
            "marker": {
             "colorbar": {
              "outlinewidth": 0,
              "ticks": ""
             }
            },
            "type": "scattermapbox"
           }
          ],
          "scatterpolar": [
           {
            "marker": {
             "colorbar": {
              "outlinewidth": 0,
              "ticks": ""
             }
            },
            "type": "scatterpolar"
           }
          ],
          "scatterpolargl": [
           {
            "marker": {
             "colorbar": {
              "outlinewidth": 0,
              "ticks": ""
             }
            },
            "type": "scatterpolargl"
           }
          ],
          "scatterternary": [
           {
            "marker": {
             "colorbar": {
              "outlinewidth": 0,
              "ticks": ""
             }
            },
            "type": "scatterternary"
           }
          ],
          "surface": [
           {
            "colorbar": {
             "outlinewidth": 0,
             "ticks": ""
            },
            "colorscale": [
             [
              0,
              "#0d0887"
             ],
             [
              0.1111111111111111,
              "#46039f"
             ],
             [
              0.2222222222222222,
              "#7201a8"
             ],
             [
              0.3333333333333333,
              "#9c179e"
             ],
             [
              0.4444444444444444,
              "#bd3786"
             ],
             [
              0.5555555555555556,
              "#d8576b"
             ],
             [
              0.6666666666666666,
              "#ed7953"
             ],
             [
              0.7777777777777778,
              "#fb9f3a"
             ],
             [
              0.8888888888888888,
              "#fdca26"
             ],
             [
              1,
              "#f0f921"
             ]
            ],
            "type": "surface"
           }
          ],
          "table": [
           {
            "cells": {
             "fill": {
              "color": "#EBF0F8"
             },
             "line": {
              "color": "white"
             }
            },
            "header": {
             "fill": {
              "color": "#C8D4E3"
             },
             "line": {
              "color": "white"
             }
            },
            "type": "table"
           }
          ]
         },
         "layout": {
          "annotationdefaults": {
           "arrowcolor": "#2a3f5f",
           "arrowhead": 0,
           "arrowwidth": 1
          },
          "coloraxis": {
           "colorbar": {
            "outlinewidth": 0,
            "ticks": ""
           }
          },
          "colorscale": {
           "diverging": [
            [
             0,
             "#8e0152"
            ],
            [
             0.1,
             "#c51b7d"
            ],
            [
             0.2,
             "#de77ae"
            ],
            [
             0.3,
             "#f1b6da"
            ],
            [
             0.4,
             "#fde0ef"
            ],
            [
             0.5,
             "#f7f7f7"
            ],
            [
             0.6,
             "#e6f5d0"
            ],
            [
             0.7,
             "#b8e186"
            ],
            [
             0.8,
             "#7fbc41"
            ],
            [
             0.9,
             "#4d9221"
            ],
            [
             1,
             "#276419"
            ]
           ],
           "sequential": [
            [
             0,
             "#0d0887"
            ],
            [
             0.1111111111111111,
             "#46039f"
            ],
            [
             0.2222222222222222,
             "#7201a8"
            ],
            [
             0.3333333333333333,
             "#9c179e"
            ],
            [
             0.4444444444444444,
             "#bd3786"
            ],
            [
             0.5555555555555556,
             "#d8576b"
            ],
            [
             0.6666666666666666,
             "#ed7953"
            ],
            [
             0.7777777777777778,
             "#fb9f3a"
            ],
            [
             0.8888888888888888,
             "#fdca26"
            ],
            [
             1,
             "#f0f921"
            ]
           ],
           "sequentialminus": [
            [
             0,
             "#0d0887"
            ],
            [
             0.1111111111111111,
             "#46039f"
            ],
            [
             0.2222222222222222,
             "#7201a8"
            ],
            [
             0.3333333333333333,
             "#9c179e"
            ],
            [
             0.4444444444444444,
             "#bd3786"
            ],
            [
             0.5555555555555556,
             "#d8576b"
            ],
            [
             0.6666666666666666,
             "#ed7953"
            ],
            [
             0.7777777777777778,
             "#fb9f3a"
            ],
            [
             0.8888888888888888,
             "#fdca26"
            ],
            [
             1,
             "#f0f921"
            ]
           ]
          },
          "colorway": [
           "#636efa",
           "#EF553B",
           "#00cc96",
           "#ab63fa",
           "#FFA15A",
           "#19d3f3",
           "#FF6692",
           "#B6E880",
           "#FF97FF",
           "#FECB52"
          ],
          "font": {
           "color": "#2a3f5f"
          },
          "geo": {
           "bgcolor": "white",
           "lakecolor": "white",
           "landcolor": "#E5ECF6",
           "showlakes": true,
           "showland": true,
           "subunitcolor": "white"
          },
          "hoverlabel": {
           "align": "left"
          },
          "hovermode": "closest",
          "mapbox": {
           "style": "light"
          },
          "paper_bgcolor": "white",
          "plot_bgcolor": "#E5ECF6",
          "polar": {
           "angularaxis": {
            "gridcolor": "white",
            "linecolor": "white",
            "ticks": ""
           },
           "bgcolor": "#E5ECF6",
           "radialaxis": {
            "gridcolor": "white",
            "linecolor": "white",
            "ticks": ""
           }
          },
          "scene": {
           "xaxis": {
            "backgroundcolor": "#E5ECF6",
            "gridcolor": "white",
            "gridwidth": 2,
            "linecolor": "white",
            "showbackground": true,
            "ticks": "",
            "zerolinecolor": "white"
           },
           "yaxis": {
            "backgroundcolor": "#E5ECF6",
            "gridcolor": "white",
            "gridwidth": 2,
            "linecolor": "white",
            "showbackground": true,
            "ticks": "",
            "zerolinecolor": "white"
           },
           "zaxis": {
            "backgroundcolor": "#E5ECF6",
            "gridcolor": "white",
            "gridwidth": 2,
            "linecolor": "white",
            "showbackground": true,
            "ticks": "",
            "zerolinecolor": "white"
           }
          },
          "shapedefaults": {
           "line": {
            "color": "#2a3f5f"
           }
          },
          "ternary": {
           "aaxis": {
            "gridcolor": "white",
            "linecolor": "white",
            "ticks": ""
           },
           "baxis": {
            "gridcolor": "white",
            "linecolor": "white",
            "ticks": ""
           },
           "bgcolor": "#E5ECF6",
           "caxis": {
            "gridcolor": "white",
            "linecolor": "white",
            "ticks": ""
           }
          },
          "title": {
           "x": 0.05
          },
          "xaxis": {
           "automargin": true,
           "gridcolor": "white",
           "linecolor": "white",
           "ticks": "",
           "title": {
            "standoff": 15
           },
           "zerolinecolor": "white",
           "zerolinewidth": 2
          },
          "yaxis": {
           "automargin": true,
           "gridcolor": "white",
           "linecolor": "white",
           "ticks": "",
           "title": {
            "standoff": 15
           },
           "zerolinecolor": "white",
           "zerolinewidth": 2
          }
         }
        }
       }
      },
      "text/html": [
       "<div>\n",
       "        \n",
       "        \n",
       "            <div id=\"0d1140f0-11cc-408b-a31e-6f7aae6ff4f1\" class=\"plotly-graph-div\" style=\"height:525px; width:100%;\"></div>\n",
       "            <script type=\"text/javascript\">\n",
       "                require([\"plotly\"], function(Plotly) {\n",
       "                    window.PLOTLYENV=window.PLOTLYENV || {};\n",
       "                    \n",
       "                if (document.getElementById(\"0d1140f0-11cc-408b-a31e-6f7aae6ff4f1\")) {\n",
       "                    Plotly.newPlot(\n",
       "                        '0d1140f0-11cc-408b-a31e-6f7aae6ff4f1',\n",
       "                        [{\"hovertemplate\": \"%{y}\", \"name\": \"Susceptible\", \"type\": \"scatter\", \"x\": [0, 1, 2, 3, 4, 5, 6, 7, 8, 9, 10, 11, 12, 13, 14, 15, 16, 17, 18, 19, 20, 21, 22, 23, 24, 25, 26, 27, 28, 29, 30, 31, 32, 33, 34, 35, 36, 37, 38, 39, 40, 41, 42, 43, 44, 45, 46, 47, 48, 49, 50, 51, 52, 53, 54, 55, 56, 57, 58, 59, 60, 61, 62, 63, 64, 65, 66, 67, 68, 69, 70, 71, 72, 73, 74, 75, 76, 77, 78, 79, 80, 81, 82, 83, 84, 85, 86, 87, 88, 89, 90, 91, 92, 93, 94, 95, 96, 97, 98, 99, 100], \"y\": [99000, 98851, 98694, 98528, 98353, 98168, 97973, 97767, 97484, 97174, 96835, 96463, 96051, 95596, 95094, 94540, 93931, 93262, 92527, 91723, 90845, 89887, 88846, 87717, 86496, 85181, 83346, 81303, 79046, 76571, 73882, 70988, 67906, 63683, 59150, 54388, 49501, 44607, 39826, 35266, 31017, 27141, 24711, 22534, 20592, 18864, 17331, 16665, 16062, 15515, 15018, 14702, 14413, 14148, 13905, 13683, 13478, 13290, 13117, 12958, 12812, 12676, 12552, 12436, 12330, 12233, 12144, 12087, 12034, 11986, 11943, 11902, 11866, 11833, 11803, 11768, 11737, 11708, 11683, 11660, 11640, 11622, 11606, 11592, 11580, 11570, 11561, 11552, 11545, 11539, 11533, 11528, 11524, 11521, 11518, 11515, 11513, 11510, 11508, 11506, 11504]}, {\"hovertemplate\": \"%{y}\", \"name\": \"Infectious\", \"type\": \"scatter\", \"x\": [0, 1, 2, 3, 4, 5, 6, 7, 8, 9, 10, 11, 12, 13, 14, 15, 16, 17, 18, 19, 20, 21, 22, 23, 24, 25, 26, 27, 28, 29, 30, 31, 32, 33, 34, 35, 36, 37, 38, 39, 40, 41, 42, 43, 44, 45, 46, 47, 48, 49, 50, 51, 52, 53, 54, 55, 56, 57, 58, 59, 60, 61, 62, 63, 64, 65, 66, 67, 68, 69, 70, 71, 72, 73, 74, 75, 76, 77, 78, 79, 80, 81, 82, 83, 84, 85, 86, 87, 88, 89, 90, 91, 92, 93, 94, 95, 96, 97, 98, 99, 100], \"y\": [1000, 1058, 1120, 1185, 1253, 1325, 1401, 1481, 1630, 1792, 1970, 2188, 2428, 2693, 2984, 3304, 3655, 4038, 4456, 4911, 5405, 5940, 6516, 7134, 7796, 8501, 9668, 10951, 12347, 13851, 15451, 17131, 18867, 21600, 24429, 27264, 29999, 32526, 34740, 36559, 37923, 38807, 38186, 37362, 36367, 35236, 34000, 32015, 30121, 28318, 26606, 24856, 23214, 21675, 20233, 18884, 17621, 16440, 15336, 14304, 13339, 12438, 11596, 10810, 9973, 9200, 8486, 7805, 7178, 6601, 6071, 5513, 5006, 4546, 4128, 3755, 3364, 3013, 2699, 2418, 2126, 1869, 1643, 1444, 1270, 1116, 981, 862, 758, 666, 586, 515, 453, 397, 349, 306, 269, 237, 208, 183, 161]}, {\"hovertemplate\": \"%{y}\", \"name\": \"Removed\", \"type\": \"scatter\", \"x\": [0, 1, 2, 3, 4, 5, 6, 7, 8, 9, 10, 11, 12, 13, 14, 15, 16, 17, 18, 19, 20, 21, 22, 23, 24, 25, 26, 27, 28, 29, 30, 31, 32, 33, 34, 35, 36, 37, 38, 39, 40, 41, 42, 43, 44, 45, 46, 47, 48, 49, 50, 51, 52, 53, 54, 55, 56, 57, 58, 59, 60, 61, 62, 63, 64, 65, 66, 67, 68, 69, 70, 71, 72, 73, 74, 75, 76, 77, 78, 79, 80, 81, 82, 83, 84, 85, 86, 87, 88, 89, 90, 91, 92, 93, 94, 95, 96, 97, 98, 99, 100], \"y\": [0, 30, 61, 95, 130, 168, 208, 250, 295, 344, 398, 458, 524, 598, 680, 770, 870, 981, 1103, 1238, 1387, 1551, 1731, 1928, 2145, 2381, 2641, 2937, 3272, 3650, 4074, 4547, 5071, 5654, 6322, 7077, 7920, 8847, 9852, 10926, 12056, 13228, 14416, 15584, 16728, 17840, 18919, 19938, 20899, 21802, 22651, 23441, 24179, 24868, 25512, 26113, 26674, 27197, 27685, 28140, 28565, 28961, 29330, 29675, 29996, 30292, 30565, 30814, 31044, 31255, 31449, 31627, 31789, 31937, 32070, 32193, 32304, 32404, 32494, 32574, 32646, 32709, 32764, 32813, 32856, 32893, 32927, 32956, 32981, 33004, 33024, 33041, 33056, 33070, 33082, 33092, 33101, 33109, 33116, 33123, 33128]}, {\"hovertemplate\": \"%{y}\", \"name\": \"Quarantined\", \"type\": \"scatter\", \"x\": [0, 1, 2, 3, 4, 5, 6, 7, 8, 9, 10, 11, 12, 13, 14, 15, 16, 17, 18, 19, 20, 21, 22, 23, 24, 25, 26, 27, 28, 29, 30, 31, 32, 33, 34, 35, 36, 37, 38, 39, 40, 41, 42, 43, 44, 45, 46, 47, 48, 49, 50, 51, 52, 53, 54, 55, 56, 57, 58, 59, 60, 61, 62, 63, 64, 65, 66, 67, 68, 69, 70, 71, 72, 73, 74, 75, 76, 77, 78, 79, 80, 81, 82, 83, 84, 85, 86, 87, 88, 89, 90, 91, 92, 93, 94, 95, 96, 97, 98, 99, 100], \"y\": [0, 60, 123, 190, 261, 337, 416, 500, 589, 687, 794, 889, 994, 1111, 1240, 1383, 1542, 1717, 1911, 2125, 2361, 2620, 2906, 3218, 3561, 3935, 4343, 4807, 5333, 5926, 6590, 7332, 8154, 9060, 10097, 11270, 12578, 14018, 15579, 17247, 19002, 20822, 22685, 24518, 26311, 28057, 29748, 31380, 32917, 34363, 35722, 36999, 38192, 39307, 40347, 41318, 42225, 43071, 43860, 44596, 45283, 45923, 46520, 47077, 47699, 48274, 48804, 49292, 49742, 50156, 50536, 50955, 51336, 51683, 51997, 52282, 52594, 52873, 53123, 53347, 53587, 53799, 53985, 54148, 54292, 54419, 54530, 54627, 54713, 54789, 54855, 54914, 54965, 55010, 55050, 55084, 55115, 55142, 55165, 55186, 55204]}, {\"hovertemplate\": \"%{y}\", \"marker\": {\"symbol\": 1}, \"mode\": \"markers\", \"name\": \"Estimated\", \"type\": \"scatter\", \"x\": [10, 20, 30, 40, 50, 60, 70, 80, 90], \"y\": [2000.0, 5700.0, 14199.999999999998, 36000.0, 26800.0, 13400.0, 6000.0, 2700.0, 899.9999999999999]}, {\"hovertemplate\": \"%{y}\", \"marker\": {\"symbol\": 3}, \"mode\": \"markers\", \"name\": \"Resisted\", \"type\": \"scatter\", \"x\": [10, 20, 30, 40, 50, 60, 70, 80, 90], \"y\": [99.205, 781.104, 3642.951, 11663.568, 20890.025, 28288.172000000002, 32546.654000000002, 31235.276, 33496.848]}, {\"hovertemplate\": \"%{y}\", \"marker\": {\"symbol\": 2}, \"mode\": \"markers\", \"name\": \"Confirmed\", \"type\": \"scatter\", \"x\": [10, 20, 30, 40, 50, 60, 70, 80, 90], \"y\": [753, 2439, 6540, 18878, 35718, 45328, 50593, 53242, 54990]}],\n",
       "                        {\"margin\": {\"b\": 0, \"l\": 0, \"r\": 0, \"t\": 25}, \"template\": {\"data\": {\"bar\": [{\"error_x\": {\"color\": \"#2a3f5f\"}, \"error_y\": {\"color\": \"#2a3f5f\"}, \"marker\": {\"line\": {\"color\": \"#E5ECF6\", \"width\": 0.5}}, \"type\": \"bar\"}], \"barpolar\": [{\"marker\": {\"line\": {\"color\": \"#E5ECF6\", \"width\": 0.5}}, \"type\": \"barpolar\"}], \"carpet\": [{\"aaxis\": {\"endlinecolor\": \"#2a3f5f\", \"gridcolor\": \"white\", \"linecolor\": \"white\", \"minorgridcolor\": \"white\", \"startlinecolor\": \"#2a3f5f\"}, \"baxis\": {\"endlinecolor\": \"#2a3f5f\", \"gridcolor\": \"white\", \"linecolor\": \"white\", \"minorgridcolor\": \"white\", \"startlinecolor\": \"#2a3f5f\"}, \"type\": \"carpet\"}], \"choropleth\": [{\"colorbar\": {\"outlinewidth\": 0, \"ticks\": \"\"}, \"type\": \"choropleth\"}], \"contour\": [{\"colorbar\": {\"outlinewidth\": 0, \"ticks\": \"\"}, \"colorscale\": [[0.0, \"#0d0887\"], [0.1111111111111111, \"#46039f\"], [0.2222222222222222, \"#7201a8\"], [0.3333333333333333, \"#9c179e\"], [0.4444444444444444, \"#bd3786\"], [0.5555555555555556, \"#d8576b\"], [0.6666666666666666, \"#ed7953\"], [0.7777777777777778, \"#fb9f3a\"], [0.8888888888888888, \"#fdca26\"], [1.0, \"#f0f921\"]], \"type\": \"contour\"}], \"contourcarpet\": [{\"colorbar\": {\"outlinewidth\": 0, \"ticks\": \"\"}, \"type\": \"contourcarpet\"}], \"heatmap\": [{\"colorbar\": {\"outlinewidth\": 0, \"ticks\": \"\"}, \"colorscale\": [[0.0, \"#0d0887\"], [0.1111111111111111, \"#46039f\"], [0.2222222222222222, \"#7201a8\"], [0.3333333333333333, \"#9c179e\"], [0.4444444444444444, \"#bd3786\"], [0.5555555555555556, \"#d8576b\"], [0.6666666666666666, \"#ed7953\"], [0.7777777777777778, \"#fb9f3a\"], [0.8888888888888888, \"#fdca26\"], [1.0, \"#f0f921\"]], \"type\": \"heatmap\"}], \"heatmapgl\": [{\"colorbar\": {\"outlinewidth\": 0, \"ticks\": \"\"}, \"colorscale\": [[0.0, \"#0d0887\"], [0.1111111111111111, \"#46039f\"], [0.2222222222222222, \"#7201a8\"], [0.3333333333333333, \"#9c179e\"], [0.4444444444444444, \"#bd3786\"], [0.5555555555555556, \"#d8576b\"], [0.6666666666666666, \"#ed7953\"], [0.7777777777777778, \"#fb9f3a\"], [0.8888888888888888, \"#fdca26\"], [1.0, \"#f0f921\"]], \"type\": \"heatmapgl\"}], \"histogram\": [{\"marker\": {\"colorbar\": {\"outlinewidth\": 0, \"ticks\": \"\"}}, \"type\": \"histogram\"}], \"histogram2d\": [{\"colorbar\": {\"outlinewidth\": 0, \"ticks\": \"\"}, \"colorscale\": [[0.0, \"#0d0887\"], [0.1111111111111111, \"#46039f\"], [0.2222222222222222, \"#7201a8\"], [0.3333333333333333, \"#9c179e\"], [0.4444444444444444, \"#bd3786\"], [0.5555555555555556, \"#d8576b\"], [0.6666666666666666, \"#ed7953\"], [0.7777777777777778, \"#fb9f3a\"], [0.8888888888888888, \"#fdca26\"], [1.0, \"#f0f921\"]], \"type\": \"histogram2d\"}], \"histogram2dcontour\": [{\"colorbar\": {\"outlinewidth\": 0, \"ticks\": \"\"}, \"colorscale\": [[0.0, \"#0d0887\"], [0.1111111111111111, \"#46039f\"], [0.2222222222222222, \"#7201a8\"], [0.3333333333333333, \"#9c179e\"], [0.4444444444444444, \"#bd3786\"], [0.5555555555555556, \"#d8576b\"], [0.6666666666666666, \"#ed7953\"], [0.7777777777777778, \"#fb9f3a\"], [0.8888888888888888, \"#fdca26\"], [1.0, \"#f0f921\"]], \"type\": \"histogram2dcontour\"}], \"mesh3d\": [{\"colorbar\": {\"outlinewidth\": 0, \"ticks\": \"\"}, \"type\": \"mesh3d\"}], \"parcoords\": [{\"line\": {\"colorbar\": {\"outlinewidth\": 0, \"ticks\": \"\"}}, \"type\": \"parcoords\"}], \"pie\": [{\"automargin\": true, \"type\": \"pie\"}], \"scatter\": [{\"marker\": {\"colorbar\": {\"outlinewidth\": 0, \"ticks\": \"\"}}, \"type\": \"scatter\"}], \"scatter3d\": [{\"line\": {\"colorbar\": {\"outlinewidth\": 0, \"ticks\": \"\"}}, \"marker\": {\"colorbar\": {\"outlinewidth\": 0, \"ticks\": \"\"}}, \"type\": \"scatter3d\"}], \"scattercarpet\": [{\"marker\": {\"colorbar\": {\"outlinewidth\": 0, \"ticks\": \"\"}}, \"type\": \"scattercarpet\"}], \"scattergeo\": [{\"marker\": {\"colorbar\": {\"outlinewidth\": 0, \"ticks\": \"\"}}, \"type\": \"scattergeo\"}], \"scattergl\": [{\"marker\": {\"colorbar\": {\"outlinewidth\": 0, \"ticks\": \"\"}}, \"type\": \"scattergl\"}], \"scattermapbox\": [{\"marker\": {\"colorbar\": {\"outlinewidth\": 0, \"ticks\": \"\"}}, \"type\": \"scattermapbox\"}], \"scatterpolar\": [{\"marker\": {\"colorbar\": {\"outlinewidth\": 0, \"ticks\": \"\"}}, \"type\": \"scatterpolar\"}], \"scatterpolargl\": [{\"marker\": {\"colorbar\": {\"outlinewidth\": 0, \"ticks\": \"\"}}, \"type\": \"scatterpolargl\"}], \"scatterternary\": [{\"marker\": {\"colorbar\": {\"outlinewidth\": 0, \"ticks\": \"\"}}, \"type\": \"scatterternary\"}], \"surface\": [{\"colorbar\": {\"outlinewidth\": 0, \"ticks\": \"\"}, \"colorscale\": [[0.0, \"#0d0887\"], [0.1111111111111111, \"#46039f\"], [0.2222222222222222, \"#7201a8\"], [0.3333333333333333, \"#9c179e\"], [0.4444444444444444, \"#bd3786\"], [0.5555555555555556, \"#d8576b\"], [0.6666666666666666, \"#ed7953\"], [0.7777777777777778, \"#fb9f3a\"], [0.8888888888888888, \"#fdca26\"], [1.0, \"#f0f921\"]], \"type\": \"surface\"}], \"table\": [{\"cells\": {\"fill\": {\"color\": \"#EBF0F8\"}, \"line\": {\"color\": \"white\"}}, \"header\": {\"fill\": {\"color\": \"#C8D4E3\"}, \"line\": {\"color\": \"white\"}}, \"type\": \"table\"}]}, \"layout\": {\"annotationdefaults\": {\"arrowcolor\": \"#2a3f5f\", \"arrowhead\": 0, \"arrowwidth\": 1}, \"coloraxis\": {\"colorbar\": {\"outlinewidth\": 0, \"ticks\": \"\"}}, \"colorscale\": {\"diverging\": [[0, \"#8e0152\"], [0.1, \"#c51b7d\"], [0.2, \"#de77ae\"], [0.3, \"#f1b6da\"], [0.4, \"#fde0ef\"], [0.5, \"#f7f7f7\"], [0.6, \"#e6f5d0\"], [0.7, \"#b8e186\"], [0.8, \"#7fbc41\"], [0.9, \"#4d9221\"], [1, \"#276419\"]], \"sequential\": [[0.0, \"#0d0887\"], [0.1111111111111111, \"#46039f\"], [0.2222222222222222, \"#7201a8\"], [0.3333333333333333, \"#9c179e\"], [0.4444444444444444, \"#bd3786\"], [0.5555555555555556, \"#d8576b\"], [0.6666666666666666, \"#ed7953\"], [0.7777777777777778, \"#fb9f3a\"], [0.8888888888888888, \"#fdca26\"], [1.0, \"#f0f921\"]], \"sequentialminus\": [[0.0, \"#0d0887\"], [0.1111111111111111, \"#46039f\"], [0.2222222222222222, \"#7201a8\"], [0.3333333333333333, \"#9c179e\"], [0.4444444444444444, \"#bd3786\"], [0.5555555555555556, \"#d8576b\"], [0.6666666666666666, \"#ed7953\"], [0.7777777777777778, \"#fb9f3a\"], [0.8888888888888888, \"#fdca26\"], [1.0, \"#f0f921\"]]}, \"colorway\": [\"#636efa\", \"#EF553B\", \"#00cc96\", \"#ab63fa\", \"#FFA15A\", \"#19d3f3\", \"#FF6692\", \"#B6E880\", \"#FF97FF\", \"#FECB52\"], \"font\": {\"color\": \"#2a3f5f\"}, \"geo\": {\"bgcolor\": \"white\", \"lakecolor\": \"white\", \"landcolor\": \"#E5ECF6\", \"showlakes\": true, \"showland\": true, \"subunitcolor\": \"white\"}, \"hoverlabel\": {\"align\": \"left\"}, \"hovermode\": \"closest\", \"mapbox\": {\"style\": \"light\"}, \"paper_bgcolor\": \"white\", \"plot_bgcolor\": \"#E5ECF6\", \"polar\": {\"angularaxis\": {\"gridcolor\": \"white\", \"linecolor\": \"white\", \"ticks\": \"\"}, \"bgcolor\": \"#E5ECF6\", \"radialaxis\": {\"gridcolor\": \"white\", \"linecolor\": \"white\", \"ticks\": \"\"}}, \"scene\": {\"xaxis\": {\"backgroundcolor\": \"#E5ECF6\", \"gridcolor\": \"white\", \"gridwidth\": 2, \"linecolor\": \"white\", \"showbackground\": true, \"ticks\": \"\", \"zerolinecolor\": \"white\"}, \"yaxis\": {\"backgroundcolor\": \"#E5ECF6\", \"gridcolor\": \"white\", \"gridwidth\": 2, \"linecolor\": \"white\", \"showbackground\": true, \"ticks\": \"\", \"zerolinecolor\": \"white\"}, \"zaxis\": {\"backgroundcolor\": \"#E5ECF6\", \"gridcolor\": \"white\", \"gridwidth\": 2, \"linecolor\": \"white\", \"showbackground\": true, \"ticks\": \"\", \"zerolinecolor\": \"white\"}}, \"shapedefaults\": {\"line\": {\"color\": \"#2a3f5f\"}}, \"ternary\": {\"aaxis\": {\"gridcolor\": \"white\", \"linecolor\": \"white\", \"ticks\": \"\"}, \"baxis\": {\"gridcolor\": \"white\", \"linecolor\": \"white\", \"ticks\": \"\"}, \"bgcolor\": \"#E5ECF6\", \"caxis\": {\"gridcolor\": \"white\", \"linecolor\": \"white\", \"ticks\": \"\"}}, \"title\": {\"x\": 0.05}, \"xaxis\": {\"automargin\": true, \"gridcolor\": \"white\", \"linecolor\": \"white\", \"ticks\": \"\", \"title\": {\"standoff\": 15}, \"zerolinecolor\": \"white\", \"zerolinewidth\": 2}, \"yaxis\": {\"automargin\": true, \"gridcolor\": \"white\", \"linecolor\": \"white\", \"ticks\": \"\", \"title\": {\"standoff\": 15}, \"zerolinecolor\": \"white\", \"zerolinewidth\": 2}}}},\n",
       "                        {\"responsive\": true}\n",
       "                    ).then(function(){\n",
       "                            \n",
       "var gd = document.getElementById('0d1140f0-11cc-408b-a31e-6f7aae6ff4f1');\n",
       "var x = new MutationObserver(function (mutations, observer) {{\n",
       "        var display = window.getComputedStyle(gd).display;\n",
       "        if (!display || display === 'none') {{\n",
       "            console.log([gd, 'removed!']);\n",
       "            Plotly.purge(gd);\n",
       "            observer.disconnect();\n",
       "        }}\n",
       "}});\n",
       "\n",
       "// Listen for the removal of the full notebook cells\n",
       "var notebookContainer = gd.closest('#notebook-container');\n",
       "if (notebookContainer) {{\n",
       "    x.observe(notebookContainer, {childList: true});\n",
       "}}\n",
       "\n",
       "// Listen for the clearing of the current output cell\n",
       "var outputEl = gd.closest('.output');\n",
       "if (outputEl) {{\n",
       "    x.observe(outputEl, {childList: true});\n",
       "}}\n",
       "\n",
       "                        })\n",
       "                };\n",
       "                });\n",
       "            </script>\n",
       "        </div>"
      ]
     },
     "metadata": {},
     "output_type": "display_data"
    }
   ],
   "source": [
    "fig = SIRQt.plot(dynamic.estimate(city))\n",
    "sample.plot(fig)\n",
    "resisted.plot(fig)\n",
    "confirmed.plot(fig)"
   ]
  },
  {
   "cell_type": "code",
   "execution_count": null,
   "metadata": {},
   "outputs": [],
   "source": []
  },
  {
   "cell_type": "code",
   "execution_count": null,
   "metadata": {},
   "outputs": [],
   "source": []
  },
  {
   "cell_type": "code",
   "execution_count": null,
   "metadata": {},
   "outputs": [],
   "source": []
  },
  {
   "cell_type": "code",
   "execution_count": null,
   "metadata": {},
   "outputs": [],
   "source": []
  },
  {
   "cell_type": "code",
   "execution_count": null,
   "metadata": {},
   "outputs": [],
   "source": []
  },
  {
   "cell_type": "code",
   "execution_count": null,
   "metadata": {},
   "outputs": [],
   "source": []
  },
  {
   "cell_type": "code",
   "execution_count": null,
   "metadata": {},
   "outputs": [],
   "source": []
  },
  {
   "cell_type": "code",
   "execution_count": null,
   "metadata": {},
   "outputs": [],
   "source": []
  },
  {
   "cell_type": "code",
   "execution_count": null,
   "metadata": {},
   "outputs": [],
   "source": []
  },
  {
   "cell_type": "code",
   "execution_count": 18,
   "metadata": {},
   "outputs": [],
   "source": [
    "def jump(x, t=0, state=0, cube=None, law=uniform, wait=10, *vargs, seed=None, **options):\n",
    "    x = np.array(x, dtype='float64')   # caution: must specify the datatype, in-place operation below\n",
    "    d = x.size\n",
    "    \n",
    "    if state is None:\n",
    "        state = 0\n",
    "        \n",
    "    if cube is None:\n",
    "        cube = inf_cube(d)\n",
    "    cube = np.array(cube)\n",
    "    \n",
    "    if not incube(x, cube):\n",
    "        raise Exception(MESSAGE)\n",
    "        \n",
    "    if seed is not None and t==0:\n",
    "        np.random.seed(seed)\n",
    "        \n",
    "    y = law(0, **extract_options(options, 'law'))\n",
    "    if state == 0:\n",
    "        if cube[0, 0] < x[0] + y < cube[0, 1]:\n",
    "            x[0] += y\n",
    "        state += 1\n",
    "    else:\n",
    "        window = int(np.random.exponential(wait))\n",
    "        stop = min(d - 1, state + window)\n",
    "        if incube(x[state:stop+1] + y, cube[state:stop+1, :]):\n",
    "            x[state:stop+1] += y\n",
    "        state = stop + 1 if stop + 1 < d else 0\n",
    "    return x, state         "
   ]
  },
  {
   "cell_type": "code",
   "execution_count": 24,
   "metadata": {},
   "outputs": [],
   "source": [
    "def jump2(x, t=0, state=0, cube=None, law=uniform, wait=5, *vargs, seed=None, **options):\n",
    "    x = np.array(x, dtype='float64')   # caution: must specify the datatype, in-place operation below\n",
    "    d = x.size\n",
    "    \n",
    "    if state is None:\n",
    "        state = 0\n",
    "        \n",
    "    if cube is None:\n",
    "        cube = inf_cube(d)\n",
    "    cube = np.array(cube)\n",
    "    \n",
    "    if not incube(x, cube):\n",
    "        raise Exception(MESSAGE)\n",
    "        \n",
    "    if seed is not None and t==0:\n",
    "        np.random.seed(seed)\n",
    "        \n",
    "    y = law(0, **extract_options(options, 'law'))\n",
    "    if state == 0:\n",
    "        if cube[0, 0] < x[0] + y < cube[0, 1]:\n",
    "            x[0] += y\n",
    "        state += 1\n",
    "    else:\n",
    "        window = int(np.random.exponential(wait))\n",
    "        stop = min(d - 1, state + window)\n",
    "        if incube(x[state] + y, cube[state:state+1, :]):\n",
    "            x[state:stop+1] = x[state] + y\n",
    "        state = stop + 1 if stop + 1 < d else 0\n",
    "    return x, state"
   ]
  },
  {
   "cell_type": "code",
   "execution_count": 68,
   "metadata": {},
   "outputs": [],
   "source": [
    "def jump3(x, t=0, state=0, cube=None, law=uniform, wait=5, *vargs, seed=None, **options):\n",
    "    x = np.array(x, dtype='float64')   # caution: must specify the datatype, in-place operation below\n",
    "    d = x.size\n",
    "    \n",
    "    if state is None:\n",
    "        state = 0\n",
    "        \n",
    "    if cube is None:\n",
    "        cube = inf_cube(d)\n",
    "    cube = np.array(cube)\n",
    "    \n",
    "    if not incube(x, cube):\n",
    "        raise Exception(MESSAGE)\n",
    "        \n",
    "    if seed is not None and t==0:\n",
    "        np.random.seed(seed)\n",
    "        \n",
    "    y = law(0, **extract_options(options, 'law'))\n",
    "    if state == 0:\n",
    "        if cube[0, 0] < x[0] + y < cube[0, 1]:\n",
    "            x[0] += y\n",
    "        state += 1\n",
    "    else:\n",
    "        window = int(np.random.exponential(wait))\n",
    "        stop = min(d - 1, state + window)\n",
    "        if incube(x[d-state] + y, cube[d-state:d-state+1, :]):\n",
    "            x[d-stop:d-state+1] = x[d-state] + y\n",
    "        state = stop + 1 if stop + 1 < d else 0\n",
    "    return x, state"
   ]
  },
  {
   "cell_type": "code",
   "execution_count": null,
   "metadata": {},
   "outputs": [],
   "source": []
  }
 ],
 "metadata": {
  "@webio": {
   "lastCommId": null,
   "lastKernelId": null
  },
  "kernelspec": {
   "display_name": "Python 3",
   "language": "python",
   "name": "python3"
  },
  "language_info": {
   "codemirror_mode": {
    "name": "ipython",
    "version": 3
   },
   "file_extension": ".py",
   "mimetype": "text/x-python",
   "name": "python",
   "nbconvert_exporter": "python",
   "pygments_lexer": "ipython3",
   "version": "3.7.3"
  }
 },
 "nbformat": 4,
 "nbformat_minor": 2
}
