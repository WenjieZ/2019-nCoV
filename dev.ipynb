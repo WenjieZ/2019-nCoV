{
 "cells": [
  {
   "cell_type": "code",
   "execution_count": 1,
   "metadata": {},
   "outputs": [],
   "source": [
    "from abc import ABCMeta, abstractmethod\n",
    "from collections import namedtuple\n",
    "import numpy as np\n",
    "\n",
    "import plotly.graph_objects as go \n",
    "import plotly.express as px \n",
    "import plotly.io as pio\n",
    "from plotly.subplots import make_subplots\n",
    "\n",
    "from scipy.optimize import minimize\n",
    "from easymh import mh, uniform, incube, extract_options"
   ]
  },
  {
   "cell_type": "code",
   "execution_count": 2,
   "metadata": {},
   "outputs": [],
   "source": [
    "class Law(metaclass=ABCMeta):\n",
    "    @staticmethod\n",
    "    @abstractmethod\n",
    "    def sample(n, d):\n",
    "        pass\n",
    "\n",
    "    @staticmethod\n",
    "    @abstractmethod\n",
    "    def loglikely(n, d, k):\n",
    "        pass\n",
    "   \n",
    "    @staticmethod\n",
    "    def likelihood(n, d, k):\n",
    "        return np.exp(loglikely(n, d, k))\n",
    "\n",
    "\n",
    "class Bin(Law):\n",
    "    def sample(n, d):\n",
    "        return np.random.binomial(n, d)\n",
    "    \n",
    "    def loglikely(n, d, k):\n",
    "        return k*np.log(d) + (n-k)*np.log(1-d)\n",
    " \n",
    "       \n",
    "class Poi(Law):\n",
    "    def sample(n, d):\n",
    "        return np.random.poisson(n*d)\n",
    "    \n",
    "    def loglikely(n, d, k):\n",
    "        return k*np.log(n*d) - n*d - np.sum(np.log(np.arange(k)+1))\n",
    "    \n",
    "\n",
    "class Gau(Law):\n",
    "    def sample(n, d=1):\n",
    "        return n * (1 + 0.1*np.random.randn())\n",
    "    \n",
    "    def loglikely(n, d, k):\n",
    "        return -50 * np.log(k/n)**2 "
   ]
  },
  {
   "cell_type": "code",
   "execution_count": 228,
   "metadata": {},
   "outputs": [
    {
     "data": {
      "text/plain": [
       "3.6666666666666665"
      ]
     },
     "execution_count": 228,
     "metadata": {},
     "output_type": "execute_result"
    }
   ],
   "source": [
    "variation_w([1, 4, 9])"
   ]
  },
  {
   "cell_type": "code",
   "execution_count": 270,
   "metadata": {},
   "outputs": [],
   "source": [
    "def variation1(x):\n",
    "    return np.mean(np.abs(np.diff(x)))\n",
    "\n",
    "\n",
    "def variation2(x):\n",
    "    return np.sqrt(np.mean(np.diff(x)**2))\n",
    "\n",
    "\n",
    "def variation_w(x, a=4):\n",
    "    w = np.arange(len(x)-1, 0, -1)**a\n",
    "    return np.sum(np.abs(np.diff(x))*w) / np.sum(w)\n",
    "\n",
    "\n",
    "def elastic_net(x, mu=1):\n",
    "    return (variation1(x) + mu*variation2(x)) / (1+mu)"
   ]
  },
  {
   "cell_type": "code",
   "execution_count": 4,
   "metadata": {},
   "outputs": [],
   "source": [
    "Region = namedtuple('Region', 'S I R Q')\n",
    "Epidemic = namedtuple('Epidemic', 'S I R Q')\n",
    "\n",
    "\n",
    "class Sample:\n",
    "    def __init__(self, epidemic, ts, ms, ns, law, seed=None):\n",
    "        if seed is not None:\n",
    "            np.random.seed(seed)\n",
    "        \n",
    "        positive = np.zeros_like(ts)\n",
    "        for i, (t, m, n) in enumerate(zip(ts, ms, ns)):\n",
    "            positive[i] = law.sample(n, epidemic.I[t]/m)\n",
    "            \n",
    "        self.t = ts\n",
    "        self.m = ms\n",
    "        self.n = ns\n",
    "        self.positive = positive\n",
    "        self._law = law\n",
    "        \n",
    "    def __repr__(self):\n",
    "        return \" t: {} \\n m: {} \\n n: {} \\n positive: {}\".format(self.t, self.m, self.n, self.positive)\n",
    "    \n",
    "    def plot(self, fig):\n",
    "        fig.add_scatter(\n",
    "            x=self.t, y=self.positive / self.n * self.m, \n",
    "            mode=\"markers\", marker_symbol=1, name=\"Guessed\", hovertemplate=\"%{y}\"\n",
    "        )\n",
    "        return fig\n",
    "    \n",
    "\n",
    "class Confirmed:\n",
    "    def __init__(self, epidemic, ts, law=Poi, seed=None):\n",
    "        if seed is not None:\n",
    "            np.random.seed(seed)\n",
    "        \n",
    "        c = np.zeros_like(ts)\n",
    "        for i, t in enumerate(ts):\n",
    "            c[i] = law.sample(epidemic.Q[t], 1)\n",
    "\n",
    "        self.t = ts\n",
    "        self.c = c\n",
    "        \n",
    "    def __repr__(self):\n",
    "        return \" t: {} \\n c: {}\".format(self.t, self.c)\n",
    "    \n",
    "    def plot(self, fig):\n",
    "        fig.add_scatter(\n",
    "            x=self.t, y=self.c, \n",
    "            mode=\"markers\", marker_symbol=2, name=\"Confirmed\", hovertemplate=\"%{y}\"\n",
    "        )\n",
    "        return fig"
   ]
  },
  {
   "cell_type": "code",
   "execution_count": 5,
   "metadata": {},
   "outputs": [],
   "source": [
    "class JumpProcess:\n",
    "    def __init__(self, start, amplitude, wait, horizon, seed=None):\n",
    "        if seed is not None:\n",
    "            np.random.seed(seed)\n",
    "            \n",
    "        process = np.zeros(horizon)\n",
    "        t = 0\n",
    "        while t < horizon:\n",
    "            T = int(np.random.exponential(wait))\n",
    "            process[t:t+T] = start\n",
    "            start *= (1 + np.random.choice([-1, 1]) * amplitude)\n",
    "            t += T\n",
    "            \n",
    "        self.value = process\n",
    "            \n",
    "    def plot(self):\n",
    "        fig = px.scatter(x=range(len(self.value)), y=self.value, hovertemplate=\"%{y}\", line_shape='hv')\n",
    "        fig.update_yaxes(type=\"log\")\n",
    "        return fig"
   ]
  },
  {
   "cell_type": "code",
   "execution_count": 6,
   "metadata": {},
   "outputs": [],
   "source": [
    "class SIRt:\n",
    "    def __init__(self, beta, gamma, dt=1):\n",
    "        if np.isscalar(gamma):\n",
    "            gamma = gamma * np.ones_like(beta)\n",
    "        elif len(beta) != len(gamma):\n",
    "            raise Exception(\"Dimensions not equal.\")\n",
    "            \n",
    "        self.beta = beta * dt\n",
    "        self.gamma = gamma * dt\n",
    "        \n",
    "    def __repr__(self):\n",
    "        fig = go.Figure()\n",
    "        fig.add_scatter(x=np.arange(len(self.beta)), y=self.beta, line_shape='hv', name='β', hovertemplate=\"%{y}\")\n",
    "        fig.add_scatter(x=np.arange(len(self.gamma)), y=self.gamma, line_shape='hv', name='γ', hovertemplate=\"%{y}\")\n",
    "        fig.update_yaxes(type=\"log\")\n",
    "        fig.show()\n",
    "        return \"\"\n",
    "    \n",
    "    def r0(self):\n",
    "        return self.beta / self.gamma\n",
    "    \n",
    "    def estimate(self, region):\n",
    "        T = len(self.beta)\n",
    "        S = np.zeros(T+1)\n",
    "        I = np.zeros(T+1)\n",
    "        R = np.zeros(T+1)\n",
    "        S[0] = region.S\n",
    "        I[0] = region.I\n",
    "        R[0] = region.R\n",
    "        \n",
    "        for t in range(T):\n",
    "            M = S[t] + I[t] + R[t]\n",
    "            a, b = self.beta[t]*S[t]*I[t]/M, self.gamma[t]*I[t]\n",
    "            S[t+1] = S[t] - a\n",
    "            I[t+1] = I[t] + a - b\n",
    "            R[t+1] = R[t] + b        \n",
    "        \n",
    "        return Epidemic(S, I, R, None)\n",
    "\n",
    "    def predict(self, region, T):\n",
    "        S = np.zeros(T+1)\n",
    "        I = np.zeros(T+1)\n",
    "        R = np.zeros(T+1)\n",
    "        S[0] = region.S\n",
    "        I[0] = region.I\n",
    "        R[0] = region.R\n",
    "        \n",
    "        for t in range(T):\n",
    "            M = S[t] + I[t] + R[t]\n",
    "            a, b = self.beta[-1]*S[t]*I[t]/M, self.gamma[-1]*I[t]   # replaced `t` with `-1`\n",
    "            S[t+1] = S[t] - a\n",
    "            I[t+1] = I[t] + a - b\n",
    "            R[t+1] = R[t] + b        \n",
    "        \n",
    "        return Epidemic(S, I, R, None)\n",
    "    \n",
    "    @staticmethod\n",
    "    def plot(epidemic, T0=0, T=None, line=None, fig=None):\n",
    "        if fig is None:\n",
    "            fig = go.Figure()\n",
    "            fig.update_layout(margin=dict(b=0, l=0, r=0, t=25))\n",
    "        if T is None:    \n",
    "            T = len(epidemic.S) - 1 + T0\n",
    "        fig.add_scatter(x=np.arange(T0, T+1), y=epidemic.S.astype(int), name=\"Susceptible\", hovertemplate=\"%{y}\")\n",
    "        fig.add_scatter(x=np.arange(T0, T+1), y=epidemic.I.astype(int), name=\"Infectious\", hovertemplate=\"%{y}\")\n",
    "        fig.add_scatter(x=np.arange(T0, T+1), y=epidemic.R.astype(int), name=\"Removed\", hovertemplate=\"%{y}\")\n",
    "        return fig\n",
    "    \n",
    "    def project(self, region, T):\n",
    "        epidemic = self.estimate(region)\n",
    "        fig = self.plot(epidemic, T0=0)\n",
    "        region = Region(epidemic.S[-1], epidemic.I[-1], epidemic.R[-1], None)\n",
    "        epidemic = self.predict(region, T)\n",
    "        self.plot(epidemic, T0=len(self.beta), fig=fig)\n",
    "        return fig"
   ]
  },
  {
   "cell_type": "code",
   "execution_count": 208,
   "metadata": {},
   "outputs": [],
   "source": [
    "def loglikely(epidemic, sample, law):\n",
    "    ms = sample.m\n",
    "    ns = sample.n\n",
    "    ds = epidemic.I[sample.t] / ms\n",
    "    ks = sample.positive\n",
    "    return sum(law.loglikely(n, d, k) for n, d, k in zip(ns, ds, ks)) / len(sample.t)\n",
    "\n",
    "\n",
    "def likelihood(epidemic, sample, law):\n",
    "    return np.exp(loglikely(epidemic, sample, law))\n",
    "\n",
    "\n",
    "class InferSIRt:\n",
    "    def __init__(self, law_s=Bin, penalty_b=variation1, weight_b=1, algo='map'):\n",
    "        self.law_s = law_s\n",
    "        self.penalty_b = penalty_b\n",
    "        self.weight_b = weight_b\n",
    "        self.algo = algo\n",
    "        self.dynamic = None\n",
    "        self.loglikely = None\n",
    "        \n",
    "    def __str__(self):\n",
    "        fig = go.Figure()\n",
    "        fig.add_scatter(x=np.arange(len(self.beta)), y=self.beta, line_shape='hv', name='β', hovertemplate=\"%{y}\")\n",
    "        fig.update_yaxes(type=\"log\")\n",
    "        fig.show()\n",
    "        return \"γ={}, loglikely={}\".format(self.gamma, self.loglikely)\n",
    "\n",
    "    def fit(self, region, sample, **kvarg):\n",
    "        if self.algo == \"map\":\n",
    "            self.fit_beta_gamma_map(region, sample, **kvarg)\n",
    "        elif self.algo == \"mcmc\":\n",
    "            self.fit_beta_gamma_mh(region, sample, **kvarg)\n",
    "            \n",
    "    def fit_beta_gamma_map(self, region, sample, **kvarg):\n",
    "        def func(x):\n",
    "            dynamic = SIRt(x[1:], x[0])\n",
    "            epidemic = dynamic.estimate(region)\n",
    "            ll = -loglikely(epidemic, sample, self.law_s)\n",
    "            return ll + self.weight_b * self.penalty_b(x[1:])\n",
    "        \n",
    "        x0 = 0.2 * np.ones(sample.t[-1]+1)\n",
    "        res = minimize(func, x0, method='nelder-mead', options={'xatol': 1e-8, 'disp': True, 'maxiter': 200000})\n",
    "        self.dynamic = SIRt(res.x[1:], res.x[0])\n",
    "        self.loglikely = -res.fun\n",
    "\n",
    "    def fit_beta_gamma_mh(self, region, sample, method='naive', **kvarg):\n",
    "        def func(x):\n",
    "            dynamic = SIRt(x[1:], x[0])\n",
    "            epidemic = dynamic.estimate(region)\n",
    "            l = likelihood(epidemic, sample, self.law_s)\n",
    "            return l * np.exp(-self.weight_b * self.penalty_b(x[1:]))\n",
    "        \n",
    "        def func2(x):\n",
    "            x = np.exp(x)\n",
    "            dynamic = SIRt(x[1:], x[0])\n",
    "            epidemic = dynamic.estimate(region)\n",
    "            l = likelihood(epidemic, sample, self.law_s) * np.prod(x)\n",
    "            return l * np.exp(-self.weight_b * self.penalty_b(x[1:]))\n",
    "            \n",
    "        T = sample.t[-1]\n",
    "        if method == 'naive':\n",
    "            x, walker, like = mh([0.2]*(T+1), func, np.tile([0.01, 1], (T+1, 1)), **kvarg)\n",
    "        elif method == 'mirror':\n",
    "            x, walker, like = mh([0.2]*(T+1), func, np.tile([0.01, 1], (T+1, 1)), ascdes=(np.log, np.exp), **kvarg)\n",
    "        elif method == 'repar':\n",
    "            x, walker, _ = mh(np.log([0.2]*(T+1)), func2, np.tile(np.log([0.01, 1]), (T+1, 1)), **kvarg)\n",
    "            x = np.exp(x)\n",
    "            walker = np.exp(walker)\n",
    "            like = np.array([func(x) for x in walker])\n",
    "\n",
    "        self.dynamic = SIRt(x[1:], x[0])\n",
    "        self.loglikely = np.log(func(x))\n",
    "        self.walker = walker\n",
    "        self.like = like"
   ]
  },
  {
   "cell_type": "code",
   "execution_count": 209,
   "metadata": {},
   "outputs": [
    {
     "data": {
      "application/vnd.plotly.v1+json": {
       "config": {
        "plotlyServerURL": "https://plot.ly"
       },
       "data": [
        {
         "hovertemplate": "%{y}",
         "line": {
          "shape": "hv"
         },
         "name": "β",
         "type": "scatter",
         "x": [
          0,
          1,
          2,
          3,
          4,
          5,
          6,
          7,
          8,
          9,
          10,
          11,
          12,
          13,
          14,
          15,
          16,
          17,
          18,
          19,
          20,
          21,
          22,
          23,
          24,
          25,
          26,
          27,
          28,
          29,
          30,
          31,
          32,
          33,
          34,
          35,
          36,
          37,
          38,
          39,
          40,
          41,
          42,
          43,
          44,
          45,
          46,
          47,
          48,
          49,
          50,
          51,
          52,
          53,
          54,
          55,
          56,
          57,
          58,
          59,
          60,
          61,
          62,
          63,
          64,
          65,
          66,
          67,
          68,
          69,
          70,
          71,
          72,
          73,
          74,
          75,
          76,
          77,
          78,
          79,
          80,
          81,
          82,
          83,
          84,
          85,
          86,
          87,
          88,
          89,
          90,
          91,
          92,
          93,
          94,
          95,
          96,
          97,
          98,
          99
         ],
         "y": [
          0.2,
          0.2,
          0.2,
          0.2,
          0.2,
          0.2,
          0.2,
          0.24,
          0.24,
          0.24,
          0.24,
          0.24,
          0.24,
          0.24,
          0.24,
          0.24,
          0.24,
          0.24,
          0.24,
          0.24,
          0.24,
          0.24,
          0.24,
          0.24,
          0.24,
          0.288,
          0.288,
          0.288,
          0.288,
          0.288,
          0.288,
          0.288,
          0.3456,
          0.3456,
          0.3456,
          0.3456,
          0.3456,
          0.3456,
          0.3456,
          0.3456,
          0.3456,
          0.27648,
          0.27648,
          0.27648,
          0.27648,
          0.27648,
          0.17694720000000003,
          0.17694720000000003,
          0.17694720000000003,
          0.17694720000000003,
          0.14155776000000003,
          0.14155776000000003,
          0.14155776000000003,
          0.14155776000000003,
          0.14155776000000003,
          0.14155776000000003,
          0.14155776000000003,
          0.14155776000000003,
          0.14155776000000003,
          0.14155776000000003,
          0.14155776000000003,
          0.14155776000000003,
          0.14155776000000003,
          0.14155776000000003,
          0.14155776000000003,
          0.14155776000000003,
          0.11324620800000003,
          0.11324620800000003,
          0.11324620800000003,
          0.11324620800000003,
          0.11324620800000003,
          0.11324620800000003,
          0.11324620800000003,
          0.11324620800000003,
          0.13589544960000002,
          0.13589544960000002,
          0.13589544960000002,
          0.13589544960000002,
          0.13589544960000002,
          0.13589544960000002,
          0.13589544960000002,
          0.13589544960000002,
          0.13589544960000002,
          0.13589544960000002,
          0.13589544960000002,
          0.13589544960000002,
          0.13589544960000002,
          0.13589544960000002,
          0.13589544960000002,
          0.13589544960000002,
          0.13589544960000002,
          0.13589544960000002,
          0.13045963161600002,
          0.13045963161600002,
          0.13045963161600002,
          0.13045963161600002,
          0.15655155793920006,
          0.15655155793920006,
          0.15655155793920006,
          0.15655155793920006
         ]
        },
        {
         "hovertemplate": "%{y}",
         "line": {
          "shape": "hv"
         },
         "name": "γ",
         "type": "scatter",
         "x": [
          0,
          1,
          2,
          3,
          4,
          5,
          6,
          7,
          8,
          9,
          10,
          11,
          12,
          13,
          14,
          15,
          16,
          17,
          18,
          19,
          20,
          21,
          22,
          23,
          24,
          25,
          26,
          27,
          28,
          29,
          30,
          31,
          32,
          33,
          34,
          35,
          36,
          37,
          38,
          39,
          40,
          41,
          42,
          43,
          44,
          45,
          46,
          47,
          48,
          49,
          50,
          51,
          52,
          53,
          54,
          55,
          56,
          57,
          58,
          59,
          60,
          61,
          62,
          63,
          64,
          65,
          66,
          67,
          68,
          69,
          70,
          71,
          72,
          73,
          74,
          75,
          76,
          77,
          78,
          79,
          80,
          81,
          82,
          83,
          84,
          85,
          86,
          87,
          88,
          89,
          90,
          91,
          92,
          93,
          94,
          95,
          96,
          97,
          98,
          99
         ],
         "y": [
          0.1,
          0.1,
          0.1,
          0.1,
          0.1,
          0.098,
          0.098,
          0.098,
          0.098,
          0.098,
          0.098,
          0.098,
          0.098,
          0.098,
          0.098,
          0.098,
          0.098,
          0.098,
          0.098,
          0.098,
          0.098,
          0.098,
          0.098,
          0.098,
          0.098,
          0.098,
          0.098,
          0.098,
          0.098,
          0.098,
          0.098,
          0.09996000000000001,
          0.09996000000000001,
          0.09996000000000001,
          0.10195920000000001,
          0.10195920000000001,
          0.10399838400000001,
          0.10399838400000001,
          0.10607835168000002,
          0.10607835168000002,
          0.10607835168000002,
          0.10607835168000002,
          0.10607835168000002,
          0.10607835168000002,
          0.10607835168000002,
          0.10607835168000002,
          0.10607835168000002,
          0.10607835168000002,
          0.10607835168000002,
          0.10819991871360002,
          0.10819991871360002,
          0.10819991871360002,
          0.10819991871360002,
          0.10819991871360002,
          0.10819991871360002,
          0.10819991871360002,
          0.10603592033932803,
          0.10603592033932803,
          0.10603592033932803,
          0.10391520193254147,
          0.10391520193254147,
          0.10183689789389064,
          0.10183689789389064,
          0.09980015993601282,
          0.09980015993601282,
          0.09980015993601282,
          0.09980015993601282,
          0.09980015993601282,
          0.09980015993601282,
          0.09980015993601282,
          0.09980015993601282,
          0.09980015993601282,
          0.09980015993601282,
          0.09980015993601282,
          0.10179616313473308,
          0.10179616313473308,
          0.10179616313473308,
          0.10179616313473308,
          0.10179616313473308,
          0.10179616313473308,
          0.10383208639742775,
          0.1017554446694792,
          0.1017554446694792,
          0.1017554446694792,
          0.1017554446694792,
          0.1017554446694792,
          0.1017554446694792,
          0.1017554446694792,
          0.1017554446694792,
          0.1017554446694792,
          0.1017554446694792,
          0.1017554446694792,
          0.1017554446694792,
          0.1017554446694792,
          0.1017554446694792,
          0.1017554446694792,
          0.10379055356286877,
          0.10379055356286877,
          0.10379055356286877,
          0.10379055356286877
         ]
        }
       ],
       "layout": {
        "template": {
         "data": {
          "bar": [
           {
            "error_x": {
             "color": "#2a3f5f"
            },
            "error_y": {
             "color": "#2a3f5f"
            },
            "marker": {
             "line": {
              "color": "#E5ECF6",
              "width": 0.5
             }
            },
            "type": "bar"
           }
          ],
          "barpolar": [
           {
            "marker": {
             "line": {
              "color": "#E5ECF6",
              "width": 0.5
             }
            },
            "type": "barpolar"
           }
          ],
          "carpet": [
           {
            "aaxis": {
             "endlinecolor": "#2a3f5f",
             "gridcolor": "white",
             "linecolor": "white",
             "minorgridcolor": "white",
             "startlinecolor": "#2a3f5f"
            },
            "baxis": {
             "endlinecolor": "#2a3f5f",
             "gridcolor": "white",
             "linecolor": "white",
             "minorgridcolor": "white",
             "startlinecolor": "#2a3f5f"
            },
            "type": "carpet"
           }
          ],
          "choropleth": [
           {
            "colorbar": {
             "outlinewidth": 0,
             "ticks": ""
            },
            "type": "choropleth"
           }
          ],
          "contour": [
           {
            "colorbar": {
             "outlinewidth": 0,
             "ticks": ""
            },
            "colorscale": [
             [
              0,
              "#0d0887"
             ],
             [
              0.1111111111111111,
              "#46039f"
             ],
             [
              0.2222222222222222,
              "#7201a8"
             ],
             [
              0.3333333333333333,
              "#9c179e"
             ],
             [
              0.4444444444444444,
              "#bd3786"
             ],
             [
              0.5555555555555556,
              "#d8576b"
             ],
             [
              0.6666666666666666,
              "#ed7953"
             ],
             [
              0.7777777777777778,
              "#fb9f3a"
             ],
             [
              0.8888888888888888,
              "#fdca26"
             ],
             [
              1,
              "#f0f921"
             ]
            ],
            "type": "contour"
           }
          ],
          "contourcarpet": [
           {
            "colorbar": {
             "outlinewidth": 0,
             "ticks": ""
            },
            "type": "contourcarpet"
           }
          ],
          "heatmap": [
           {
            "colorbar": {
             "outlinewidth": 0,
             "ticks": ""
            },
            "colorscale": [
             [
              0,
              "#0d0887"
             ],
             [
              0.1111111111111111,
              "#46039f"
             ],
             [
              0.2222222222222222,
              "#7201a8"
             ],
             [
              0.3333333333333333,
              "#9c179e"
             ],
             [
              0.4444444444444444,
              "#bd3786"
             ],
             [
              0.5555555555555556,
              "#d8576b"
             ],
             [
              0.6666666666666666,
              "#ed7953"
             ],
             [
              0.7777777777777778,
              "#fb9f3a"
             ],
             [
              0.8888888888888888,
              "#fdca26"
             ],
             [
              1,
              "#f0f921"
             ]
            ],
            "type": "heatmap"
           }
          ],
          "heatmapgl": [
           {
            "colorbar": {
             "outlinewidth": 0,
             "ticks": ""
            },
            "colorscale": [
             [
              0,
              "#0d0887"
             ],
             [
              0.1111111111111111,
              "#46039f"
             ],
             [
              0.2222222222222222,
              "#7201a8"
             ],
             [
              0.3333333333333333,
              "#9c179e"
             ],
             [
              0.4444444444444444,
              "#bd3786"
             ],
             [
              0.5555555555555556,
              "#d8576b"
             ],
             [
              0.6666666666666666,
              "#ed7953"
             ],
             [
              0.7777777777777778,
              "#fb9f3a"
             ],
             [
              0.8888888888888888,
              "#fdca26"
             ],
             [
              1,
              "#f0f921"
             ]
            ],
            "type": "heatmapgl"
           }
          ],
          "histogram": [
           {
            "marker": {
             "colorbar": {
              "outlinewidth": 0,
              "ticks": ""
             }
            },
            "type": "histogram"
           }
          ],
          "histogram2d": [
           {
            "colorbar": {
             "outlinewidth": 0,
             "ticks": ""
            },
            "colorscale": [
             [
              0,
              "#0d0887"
             ],
             [
              0.1111111111111111,
              "#46039f"
             ],
             [
              0.2222222222222222,
              "#7201a8"
             ],
             [
              0.3333333333333333,
              "#9c179e"
             ],
             [
              0.4444444444444444,
              "#bd3786"
             ],
             [
              0.5555555555555556,
              "#d8576b"
             ],
             [
              0.6666666666666666,
              "#ed7953"
             ],
             [
              0.7777777777777778,
              "#fb9f3a"
             ],
             [
              0.8888888888888888,
              "#fdca26"
             ],
             [
              1,
              "#f0f921"
             ]
            ],
            "type": "histogram2d"
           }
          ],
          "histogram2dcontour": [
           {
            "colorbar": {
             "outlinewidth": 0,
             "ticks": ""
            },
            "colorscale": [
             [
              0,
              "#0d0887"
             ],
             [
              0.1111111111111111,
              "#46039f"
             ],
             [
              0.2222222222222222,
              "#7201a8"
             ],
             [
              0.3333333333333333,
              "#9c179e"
             ],
             [
              0.4444444444444444,
              "#bd3786"
             ],
             [
              0.5555555555555556,
              "#d8576b"
             ],
             [
              0.6666666666666666,
              "#ed7953"
             ],
             [
              0.7777777777777778,
              "#fb9f3a"
             ],
             [
              0.8888888888888888,
              "#fdca26"
             ],
             [
              1,
              "#f0f921"
             ]
            ],
            "type": "histogram2dcontour"
           }
          ],
          "mesh3d": [
           {
            "colorbar": {
             "outlinewidth": 0,
             "ticks": ""
            },
            "type": "mesh3d"
           }
          ],
          "parcoords": [
           {
            "line": {
             "colorbar": {
              "outlinewidth": 0,
              "ticks": ""
             }
            },
            "type": "parcoords"
           }
          ],
          "pie": [
           {
            "automargin": true,
            "type": "pie"
           }
          ],
          "scatter": [
           {
            "marker": {
             "colorbar": {
              "outlinewidth": 0,
              "ticks": ""
             }
            },
            "type": "scatter"
           }
          ],
          "scatter3d": [
           {
            "line": {
             "colorbar": {
              "outlinewidth": 0,
              "ticks": ""
             }
            },
            "marker": {
             "colorbar": {
              "outlinewidth": 0,
              "ticks": ""
             }
            },
            "type": "scatter3d"
           }
          ],
          "scattercarpet": [
           {
            "marker": {
             "colorbar": {
              "outlinewidth": 0,
              "ticks": ""
             }
            },
            "type": "scattercarpet"
           }
          ],
          "scattergeo": [
           {
            "marker": {
             "colorbar": {
              "outlinewidth": 0,
              "ticks": ""
             }
            },
            "type": "scattergeo"
           }
          ],
          "scattergl": [
           {
            "marker": {
             "colorbar": {
              "outlinewidth": 0,
              "ticks": ""
             }
            },
            "type": "scattergl"
           }
          ],
          "scattermapbox": [
           {
            "marker": {
             "colorbar": {
              "outlinewidth": 0,
              "ticks": ""
             }
            },
            "type": "scattermapbox"
           }
          ],
          "scatterpolar": [
           {
            "marker": {
             "colorbar": {
              "outlinewidth": 0,
              "ticks": ""
             }
            },
            "type": "scatterpolar"
           }
          ],
          "scatterpolargl": [
           {
            "marker": {
             "colorbar": {
              "outlinewidth": 0,
              "ticks": ""
             }
            },
            "type": "scatterpolargl"
           }
          ],
          "scatterternary": [
           {
            "marker": {
             "colorbar": {
              "outlinewidth": 0,
              "ticks": ""
             }
            },
            "type": "scatterternary"
           }
          ],
          "surface": [
           {
            "colorbar": {
             "outlinewidth": 0,
             "ticks": ""
            },
            "colorscale": [
             [
              0,
              "#0d0887"
             ],
             [
              0.1111111111111111,
              "#46039f"
             ],
             [
              0.2222222222222222,
              "#7201a8"
             ],
             [
              0.3333333333333333,
              "#9c179e"
             ],
             [
              0.4444444444444444,
              "#bd3786"
             ],
             [
              0.5555555555555556,
              "#d8576b"
             ],
             [
              0.6666666666666666,
              "#ed7953"
             ],
             [
              0.7777777777777778,
              "#fb9f3a"
             ],
             [
              0.8888888888888888,
              "#fdca26"
             ],
             [
              1,
              "#f0f921"
             ]
            ],
            "type": "surface"
           }
          ],
          "table": [
           {
            "cells": {
             "fill": {
              "color": "#EBF0F8"
             },
             "line": {
              "color": "white"
             }
            },
            "header": {
             "fill": {
              "color": "#C8D4E3"
             },
             "line": {
              "color": "white"
             }
            },
            "type": "table"
           }
          ]
         },
         "layout": {
          "annotationdefaults": {
           "arrowcolor": "#2a3f5f",
           "arrowhead": 0,
           "arrowwidth": 1
          },
          "coloraxis": {
           "colorbar": {
            "outlinewidth": 0,
            "ticks": ""
           }
          },
          "colorscale": {
           "diverging": [
            [
             0,
             "#8e0152"
            ],
            [
             0.1,
             "#c51b7d"
            ],
            [
             0.2,
             "#de77ae"
            ],
            [
             0.3,
             "#f1b6da"
            ],
            [
             0.4,
             "#fde0ef"
            ],
            [
             0.5,
             "#f7f7f7"
            ],
            [
             0.6,
             "#e6f5d0"
            ],
            [
             0.7,
             "#b8e186"
            ],
            [
             0.8,
             "#7fbc41"
            ],
            [
             0.9,
             "#4d9221"
            ],
            [
             1,
             "#276419"
            ]
           ],
           "sequential": [
            [
             0,
             "#0d0887"
            ],
            [
             0.1111111111111111,
             "#46039f"
            ],
            [
             0.2222222222222222,
             "#7201a8"
            ],
            [
             0.3333333333333333,
             "#9c179e"
            ],
            [
             0.4444444444444444,
             "#bd3786"
            ],
            [
             0.5555555555555556,
             "#d8576b"
            ],
            [
             0.6666666666666666,
             "#ed7953"
            ],
            [
             0.7777777777777778,
             "#fb9f3a"
            ],
            [
             0.8888888888888888,
             "#fdca26"
            ],
            [
             1,
             "#f0f921"
            ]
           ],
           "sequentialminus": [
            [
             0,
             "#0d0887"
            ],
            [
             0.1111111111111111,
             "#46039f"
            ],
            [
             0.2222222222222222,
             "#7201a8"
            ],
            [
             0.3333333333333333,
             "#9c179e"
            ],
            [
             0.4444444444444444,
             "#bd3786"
            ],
            [
             0.5555555555555556,
             "#d8576b"
            ],
            [
             0.6666666666666666,
             "#ed7953"
            ],
            [
             0.7777777777777778,
             "#fb9f3a"
            ],
            [
             0.8888888888888888,
             "#fdca26"
            ],
            [
             1,
             "#f0f921"
            ]
           ]
          },
          "colorway": [
           "#636efa",
           "#EF553B",
           "#00cc96",
           "#ab63fa",
           "#FFA15A",
           "#19d3f3",
           "#FF6692",
           "#B6E880",
           "#FF97FF",
           "#FECB52"
          ],
          "font": {
           "color": "#2a3f5f"
          },
          "geo": {
           "bgcolor": "white",
           "lakecolor": "white",
           "landcolor": "#E5ECF6",
           "showlakes": true,
           "showland": true,
           "subunitcolor": "white"
          },
          "hoverlabel": {
           "align": "left"
          },
          "hovermode": "closest",
          "mapbox": {
           "style": "light"
          },
          "paper_bgcolor": "white",
          "plot_bgcolor": "#E5ECF6",
          "polar": {
           "angularaxis": {
            "gridcolor": "white",
            "linecolor": "white",
            "ticks": ""
           },
           "bgcolor": "#E5ECF6",
           "radialaxis": {
            "gridcolor": "white",
            "linecolor": "white",
            "ticks": ""
           }
          },
          "scene": {
           "xaxis": {
            "backgroundcolor": "#E5ECF6",
            "gridcolor": "white",
            "gridwidth": 2,
            "linecolor": "white",
            "showbackground": true,
            "ticks": "",
            "zerolinecolor": "white"
           },
           "yaxis": {
            "backgroundcolor": "#E5ECF6",
            "gridcolor": "white",
            "gridwidth": 2,
            "linecolor": "white",
            "showbackground": true,
            "ticks": "",
            "zerolinecolor": "white"
           },
           "zaxis": {
            "backgroundcolor": "#E5ECF6",
            "gridcolor": "white",
            "gridwidth": 2,
            "linecolor": "white",
            "showbackground": true,
            "ticks": "",
            "zerolinecolor": "white"
           }
          },
          "shapedefaults": {
           "line": {
            "color": "#2a3f5f"
           }
          },
          "ternary": {
           "aaxis": {
            "gridcolor": "white",
            "linecolor": "white",
            "ticks": ""
           },
           "baxis": {
            "gridcolor": "white",
            "linecolor": "white",
            "ticks": ""
           },
           "bgcolor": "#E5ECF6",
           "caxis": {
            "gridcolor": "white",
            "linecolor": "white",
            "ticks": ""
           }
          },
          "title": {
           "x": 0.05
          },
          "xaxis": {
           "automargin": true,
           "gridcolor": "white",
           "linecolor": "white",
           "ticks": "",
           "title": {
            "standoff": 15
           },
           "zerolinecolor": "white",
           "zerolinewidth": 2
          },
          "yaxis": {
           "automargin": true,
           "gridcolor": "white",
           "linecolor": "white",
           "ticks": "",
           "title": {
            "standoff": 15
           },
           "zerolinecolor": "white",
           "zerolinewidth": 2
          }
         }
        },
        "yaxis": {
         "type": "log"
        }
       }
      },
      "text/html": [
       "<div>\n",
       "        \n",
       "        \n",
       "            <div id=\"9baea7ec-7a32-4741-a7ef-ecb080f1f032\" class=\"plotly-graph-div\" style=\"height:525px; width:100%;\"></div>\n",
       "            <script type=\"text/javascript\">\n",
       "                require([\"plotly\"], function(Plotly) {\n",
       "                    window.PLOTLYENV=window.PLOTLYENV || {};\n",
       "                    \n",
       "                if (document.getElementById(\"9baea7ec-7a32-4741-a7ef-ecb080f1f032\")) {\n",
       "                    Plotly.newPlot(\n",
       "                        '9baea7ec-7a32-4741-a7ef-ecb080f1f032',\n",
       "                        [{\"hovertemplate\": \"%{y}\", \"line\": {\"shape\": \"hv\"}, \"name\": \"\\u03b2\", \"type\": \"scatter\", \"x\": [0, 1, 2, 3, 4, 5, 6, 7, 8, 9, 10, 11, 12, 13, 14, 15, 16, 17, 18, 19, 20, 21, 22, 23, 24, 25, 26, 27, 28, 29, 30, 31, 32, 33, 34, 35, 36, 37, 38, 39, 40, 41, 42, 43, 44, 45, 46, 47, 48, 49, 50, 51, 52, 53, 54, 55, 56, 57, 58, 59, 60, 61, 62, 63, 64, 65, 66, 67, 68, 69, 70, 71, 72, 73, 74, 75, 76, 77, 78, 79, 80, 81, 82, 83, 84, 85, 86, 87, 88, 89, 90, 91, 92, 93, 94, 95, 96, 97, 98, 99], \"y\": [0.2, 0.2, 0.2, 0.2, 0.2, 0.2, 0.2, 0.24, 0.24, 0.24, 0.24, 0.24, 0.24, 0.24, 0.24, 0.24, 0.24, 0.24, 0.24, 0.24, 0.24, 0.24, 0.24, 0.24, 0.24, 0.288, 0.288, 0.288, 0.288, 0.288, 0.288, 0.288, 0.3456, 0.3456, 0.3456, 0.3456, 0.3456, 0.3456, 0.3456, 0.3456, 0.3456, 0.27648, 0.27648, 0.27648, 0.27648, 0.27648, 0.17694720000000003, 0.17694720000000003, 0.17694720000000003, 0.17694720000000003, 0.14155776000000003, 0.14155776000000003, 0.14155776000000003, 0.14155776000000003, 0.14155776000000003, 0.14155776000000003, 0.14155776000000003, 0.14155776000000003, 0.14155776000000003, 0.14155776000000003, 0.14155776000000003, 0.14155776000000003, 0.14155776000000003, 0.14155776000000003, 0.14155776000000003, 0.14155776000000003, 0.11324620800000003, 0.11324620800000003, 0.11324620800000003, 0.11324620800000003, 0.11324620800000003, 0.11324620800000003, 0.11324620800000003, 0.11324620800000003, 0.13589544960000002, 0.13589544960000002, 0.13589544960000002, 0.13589544960000002, 0.13589544960000002, 0.13589544960000002, 0.13589544960000002, 0.13589544960000002, 0.13589544960000002, 0.13589544960000002, 0.13589544960000002, 0.13589544960000002, 0.13589544960000002, 0.13589544960000002, 0.13589544960000002, 0.13589544960000002, 0.13589544960000002, 0.13589544960000002, 0.13045963161600002, 0.13045963161600002, 0.13045963161600002, 0.13045963161600002, 0.15655155793920006, 0.15655155793920006, 0.15655155793920006, 0.15655155793920006]}, {\"hovertemplate\": \"%{y}\", \"line\": {\"shape\": \"hv\"}, \"name\": \"\\u03b3\", \"type\": \"scatter\", \"x\": [0, 1, 2, 3, 4, 5, 6, 7, 8, 9, 10, 11, 12, 13, 14, 15, 16, 17, 18, 19, 20, 21, 22, 23, 24, 25, 26, 27, 28, 29, 30, 31, 32, 33, 34, 35, 36, 37, 38, 39, 40, 41, 42, 43, 44, 45, 46, 47, 48, 49, 50, 51, 52, 53, 54, 55, 56, 57, 58, 59, 60, 61, 62, 63, 64, 65, 66, 67, 68, 69, 70, 71, 72, 73, 74, 75, 76, 77, 78, 79, 80, 81, 82, 83, 84, 85, 86, 87, 88, 89, 90, 91, 92, 93, 94, 95, 96, 97, 98, 99], \"y\": [0.1, 0.1, 0.1, 0.1, 0.1, 0.098, 0.098, 0.098, 0.098, 0.098, 0.098, 0.098, 0.098, 0.098, 0.098, 0.098, 0.098, 0.098, 0.098, 0.098, 0.098, 0.098, 0.098, 0.098, 0.098, 0.098, 0.098, 0.098, 0.098, 0.098, 0.098, 0.09996000000000001, 0.09996000000000001, 0.09996000000000001, 0.10195920000000001, 0.10195920000000001, 0.10399838400000001, 0.10399838400000001, 0.10607835168000002, 0.10607835168000002, 0.10607835168000002, 0.10607835168000002, 0.10607835168000002, 0.10607835168000002, 0.10607835168000002, 0.10607835168000002, 0.10607835168000002, 0.10607835168000002, 0.10607835168000002, 0.10819991871360002, 0.10819991871360002, 0.10819991871360002, 0.10819991871360002, 0.10819991871360002, 0.10819991871360002, 0.10819991871360002, 0.10603592033932803, 0.10603592033932803, 0.10603592033932803, 0.10391520193254147, 0.10391520193254147, 0.10183689789389064, 0.10183689789389064, 0.09980015993601282, 0.09980015993601282, 0.09980015993601282, 0.09980015993601282, 0.09980015993601282, 0.09980015993601282, 0.09980015993601282, 0.09980015993601282, 0.09980015993601282, 0.09980015993601282, 0.09980015993601282, 0.10179616313473308, 0.10179616313473308, 0.10179616313473308, 0.10179616313473308, 0.10179616313473308, 0.10179616313473308, 0.10383208639742775, 0.1017554446694792, 0.1017554446694792, 0.1017554446694792, 0.1017554446694792, 0.1017554446694792, 0.1017554446694792, 0.1017554446694792, 0.1017554446694792, 0.1017554446694792, 0.1017554446694792, 0.1017554446694792, 0.1017554446694792, 0.1017554446694792, 0.1017554446694792, 0.1017554446694792, 0.10379055356286877, 0.10379055356286877, 0.10379055356286877, 0.10379055356286877]}],\n",
       "                        {\"template\": {\"data\": {\"bar\": [{\"error_x\": {\"color\": \"#2a3f5f\"}, \"error_y\": {\"color\": \"#2a3f5f\"}, \"marker\": {\"line\": {\"color\": \"#E5ECF6\", \"width\": 0.5}}, \"type\": \"bar\"}], \"barpolar\": [{\"marker\": {\"line\": {\"color\": \"#E5ECF6\", \"width\": 0.5}}, \"type\": \"barpolar\"}], \"carpet\": [{\"aaxis\": {\"endlinecolor\": \"#2a3f5f\", \"gridcolor\": \"white\", \"linecolor\": \"white\", \"minorgridcolor\": \"white\", \"startlinecolor\": \"#2a3f5f\"}, \"baxis\": {\"endlinecolor\": \"#2a3f5f\", \"gridcolor\": \"white\", \"linecolor\": \"white\", \"minorgridcolor\": \"white\", \"startlinecolor\": \"#2a3f5f\"}, \"type\": \"carpet\"}], \"choropleth\": [{\"colorbar\": {\"outlinewidth\": 0, \"ticks\": \"\"}, \"type\": \"choropleth\"}], \"contour\": [{\"colorbar\": {\"outlinewidth\": 0, \"ticks\": \"\"}, \"colorscale\": [[0.0, \"#0d0887\"], [0.1111111111111111, \"#46039f\"], [0.2222222222222222, \"#7201a8\"], [0.3333333333333333, \"#9c179e\"], [0.4444444444444444, \"#bd3786\"], [0.5555555555555556, \"#d8576b\"], [0.6666666666666666, \"#ed7953\"], [0.7777777777777778, \"#fb9f3a\"], [0.8888888888888888, \"#fdca26\"], [1.0, \"#f0f921\"]], \"type\": \"contour\"}], \"contourcarpet\": [{\"colorbar\": {\"outlinewidth\": 0, \"ticks\": \"\"}, \"type\": \"contourcarpet\"}], \"heatmap\": [{\"colorbar\": {\"outlinewidth\": 0, \"ticks\": \"\"}, \"colorscale\": [[0.0, \"#0d0887\"], [0.1111111111111111, \"#46039f\"], [0.2222222222222222, \"#7201a8\"], [0.3333333333333333, \"#9c179e\"], [0.4444444444444444, \"#bd3786\"], [0.5555555555555556, \"#d8576b\"], [0.6666666666666666, \"#ed7953\"], [0.7777777777777778, \"#fb9f3a\"], [0.8888888888888888, \"#fdca26\"], [1.0, \"#f0f921\"]], \"type\": \"heatmap\"}], \"heatmapgl\": [{\"colorbar\": {\"outlinewidth\": 0, \"ticks\": \"\"}, \"colorscale\": [[0.0, \"#0d0887\"], [0.1111111111111111, \"#46039f\"], [0.2222222222222222, \"#7201a8\"], [0.3333333333333333, \"#9c179e\"], [0.4444444444444444, \"#bd3786\"], [0.5555555555555556, \"#d8576b\"], [0.6666666666666666, \"#ed7953\"], [0.7777777777777778, \"#fb9f3a\"], [0.8888888888888888, \"#fdca26\"], [1.0, \"#f0f921\"]], \"type\": \"heatmapgl\"}], \"histogram\": [{\"marker\": {\"colorbar\": {\"outlinewidth\": 0, \"ticks\": \"\"}}, \"type\": \"histogram\"}], \"histogram2d\": [{\"colorbar\": {\"outlinewidth\": 0, \"ticks\": \"\"}, \"colorscale\": [[0.0, \"#0d0887\"], [0.1111111111111111, \"#46039f\"], [0.2222222222222222, \"#7201a8\"], [0.3333333333333333, \"#9c179e\"], [0.4444444444444444, \"#bd3786\"], [0.5555555555555556, \"#d8576b\"], [0.6666666666666666, \"#ed7953\"], [0.7777777777777778, \"#fb9f3a\"], [0.8888888888888888, \"#fdca26\"], [1.0, \"#f0f921\"]], \"type\": \"histogram2d\"}], \"histogram2dcontour\": [{\"colorbar\": {\"outlinewidth\": 0, \"ticks\": \"\"}, \"colorscale\": [[0.0, \"#0d0887\"], [0.1111111111111111, \"#46039f\"], [0.2222222222222222, \"#7201a8\"], [0.3333333333333333, \"#9c179e\"], [0.4444444444444444, \"#bd3786\"], [0.5555555555555556, \"#d8576b\"], [0.6666666666666666, \"#ed7953\"], [0.7777777777777778, \"#fb9f3a\"], [0.8888888888888888, \"#fdca26\"], [1.0, \"#f0f921\"]], \"type\": \"histogram2dcontour\"}], \"mesh3d\": [{\"colorbar\": {\"outlinewidth\": 0, \"ticks\": \"\"}, \"type\": \"mesh3d\"}], \"parcoords\": [{\"line\": {\"colorbar\": {\"outlinewidth\": 0, \"ticks\": \"\"}}, \"type\": \"parcoords\"}], \"pie\": [{\"automargin\": true, \"type\": \"pie\"}], \"scatter\": [{\"marker\": {\"colorbar\": {\"outlinewidth\": 0, \"ticks\": \"\"}}, \"type\": \"scatter\"}], \"scatter3d\": [{\"line\": {\"colorbar\": {\"outlinewidth\": 0, \"ticks\": \"\"}}, \"marker\": {\"colorbar\": {\"outlinewidth\": 0, \"ticks\": \"\"}}, \"type\": \"scatter3d\"}], \"scattercarpet\": [{\"marker\": {\"colorbar\": {\"outlinewidth\": 0, \"ticks\": \"\"}}, \"type\": \"scattercarpet\"}], \"scattergeo\": [{\"marker\": {\"colorbar\": {\"outlinewidth\": 0, \"ticks\": \"\"}}, \"type\": \"scattergeo\"}], \"scattergl\": [{\"marker\": {\"colorbar\": {\"outlinewidth\": 0, \"ticks\": \"\"}}, \"type\": \"scattergl\"}], \"scattermapbox\": [{\"marker\": {\"colorbar\": {\"outlinewidth\": 0, \"ticks\": \"\"}}, \"type\": \"scattermapbox\"}], \"scatterpolar\": [{\"marker\": {\"colorbar\": {\"outlinewidth\": 0, \"ticks\": \"\"}}, \"type\": \"scatterpolar\"}], \"scatterpolargl\": [{\"marker\": {\"colorbar\": {\"outlinewidth\": 0, \"ticks\": \"\"}}, \"type\": \"scatterpolargl\"}], \"scatterternary\": [{\"marker\": {\"colorbar\": {\"outlinewidth\": 0, \"ticks\": \"\"}}, \"type\": \"scatterternary\"}], \"surface\": [{\"colorbar\": {\"outlinewidth\": 0, \"ticks\": \"\"}, \"colorscale\": [[0.0, \"#0d0887\"], [0.1111111111111111, \"#46039f\"], [0.2222222222222222, \"#7201a8\"], [0.3333333333333333, \"#9c179e\"], [0.4444444444444444, \"#bd3786\"], [0.5555555555555556, \"#d8576b\"], [0.6666666666666666, \"#ed7953\"], [0.7777777777777778, \"#fb9f3a\"], [0.8888888888888888, \"#fdca26\"], [1.0, \"#f0f921\"]], \"type\": \"surface\"}], \"table\": [{\"cells\": {\"fill\": {\"color\": \"#EBF0F8\"}, \"line\": {\"color\": \"white\"}}, \"header\": {\"fill\": {\"color\": \"#C8D4E3\"}, \"line\": {\"color\": \"white\"}}, \"type\": \"table\"}]}, \"layout\": {\"annotationdefaults\": {\"arrowcolor\": \"#2a3f5f\", \"arrowhead\": 0, \"arrowwidth\": 1}, \"coloraxis\": {\"colorbar\": {\"outlinewidth\": 0, \"ticks\": \"\"}}, \"colorscale\": {\"diverging\": [[0, \"#8e0152\"], [0.1, \"#c51b7d\"], [0.2, \"#de77ae\"], [0.3, \"#f1b6da\"], [0.4, \"#fde0ef\"], [0.5, \"#f7f7f7\"], [0.6, \"#e6f5d0\"], [0.7, \"#b8e186\"], [0.8, \"#7fbc41\"], [0.9, \"#4d9221\"], [1, \"#276419\"]], \"sequential\": [[0.0, \"#0d0887\"], [0.1111111111111111, \"#46039f\"], [0.2222222222222222, \"#7201a8\"], [0.3333333333333333, \"#9c179e\"], [0.4444444444444444, \"#bd3786\"], [0.5555555555555556, \"#d8576b\"], [0.6666666666666666, \"#ed7953\"], [0.7777777777777778, \"#fb9f3a\"], [0.8888888888888888, \"#fdca26\"], [1.0, \"#f0f921\"]], \"sequentialminus\": [[0.0, \"#0d0887\"], [0.1111111111111111, \"#46039f\"], [0.2222222222222222, \"#7201a8\"], [0.3333333333333333, \"#9c179e\"], [0.4444444444444444, \"#bd3786\"], [0.5555555555555556, \"#d8576b\"], [0.6666666666666666, \"#ed7953\"], [0.7777777777777778, \"#fb9f3a\"], [0.8888888888888888, \"#fdca26\"], [1.0, \"#f0f921\"]]}, \"colorway\": [\"#636efa\", \"#EF553B\", \"#00cc96\", \"#ab63fa\", \"#FFA15A\", \"#19d3f3\", \"#FF6692\", \"#B6E880\", \"#FF97FF\", \"#FECB52\"], \"font\": {\"color\": \"#2a3f5f\"}, \"geo\": {\"bgcolor\": \"white\", \"lakecolor\": \"white\", \"landcolor\": \"#E5ECF6\", \"showlakes\": true, \"showland\": true, \"subunitcolor\": \"white\"}, \"hoverlabel\": {\"align\": \"left\"}, \"hovermode\": \"closest\", \"mapbox\": {\"style\": \"light\"}, \"paper_bgcolor\": \"white\", \"plot_bgcolor\": \"#E5ECF6\", \"polar\": {\"angularaxis\": {\"gridcolor\": \"white\", \"linecolor\": \"white\", \"ticks\": \"\"}, \"bgcolor\": \"#E5ECF6\", \"radialaxis\": {\"gridcolor\": \"white\", \"linecolor\": \"white\", \"ticks\": \"\"}}, \"scene\": {\"xaxis\": {\"backgroundcolor\": \"#E5ECF6\", \"gridcolor\": \"white\", \"gridwidth\": 2, \"linecolor\": \"white\", \"showbackground\": true, \"ticks\": \"\", \"zerolinecolor\": \"white\"}, \"yaxis\": {\"backgroundcolor\": \"#E5ECF6\", \"gridcolor\": \"white\", \"gridwidth\": 2, \"linecolor\": \"white\", \"showbackground\": true, \"ticks\": \"\", \"zerolinecolor\": \"white\"}, \"zaxis\": {\"backgroundcolor\": \"#E5ECF6\", \"gridcolor\": \"white\", \"gridwidth\": 2, \"linecolor\": \"white\", \"showbackground\": true, \"ticks\": \"\", \"zerolinecolor\": \"white\"}}, \"shapedefaults\": {\"line\": {\"color\": \"#2a3f5f\"}}, \"ternary\": {\"aaxis\": {\"gridcolor\": \"white\", \"linecolor\": \"white\", \"ticks\": \"\"}, \"baxis\": {\"gridcolor\": \"white\", \"linecolor\": \"white\", \"ticks\": \"\"}, \"bgcolor\": \"#E5ECF6\", \"caxis\": {\"gridcolor\": \"white\", \"linecolor\": \"white\", \"ticks\": \"\"}}, \"title\": {\"x\": 0.05}, \"xaxis\": {\"automargin\": true, \"gridcolor\": \"white\", \"linecolor\": \"white\", \"ticks\": \"\", \"title\": {\"standoff\": 15}, \"zerolinecolor\": \"white\", \"zerolinewidth\": 2}, \"yaxis\": {\"automargin\": true, \"gridcolor\": \"white\", \"linecolor\": \"white\", \"ticks\": \"\", \"title\": {\"standoff\": 15}, \"zerolinecolor\": \"white\", \"zerolinewidth\": 2}}}, \"yaxis\": {\"type\": \"log\"}},\n",
       "                        {\"responsive\": true}\n",
       "                    ).then(function(){\n",
       "                            \n",
       "var gd = document.getElementById('9baea7ec-7a32-4741-a7ef-ecb080f1f032');\n",
       "var x = new MutationObserver(function (mutations, observer) {{\n",
       "        var display = window.getComputedStyle(gd).display;\n",
       "        if (!display || display === 'none') {{\n",
       "            console.log([gd, 'removed!']);\n",
       "            Plotly.purge(gd);\n",
       "            observer.disconnect();\n",
       "        }}\n",
       "}});\n",
       "\n",
       "// Listen for the removal of the full notebook cells\n",
       "var notebookContainer = gd.closest('#notebook-container');\n",
       "if (notebookContainer) {{\n",
       "    x.observe(notebookContainer, {childList: true});\n",
       "}}\n",
       "\n",
       "// Listen for the clearing of the current output cell\n",
       "var outputEl = gd.closest('.output');\n",
       "if (outputEl) {{\n",
       "    x.observe(outputEl, {childList: true});\n",
       "}}\n",
       "\n",
       "                        })\n",
       "                };\n",
       "                });\n",
       "            </script>\n",
       "        </div>"
      ]
     },
     "metadata": {},
     "output_type": "display_data"
    },
    {
     "data": {
      "text/plain": []
     },
     "execution_count": 209,
     "metadata": {},
     "output_type": "execute_result"
    }
   ],
   "source": [
    "T = 100\n",
    "beta = JumpProcess(2, 0.2, 10, T, 0)\n",
    "gamma = JumpProcess(1, 0.02, 10, T, 1)\n",
    "dynamic = SIRt(beta.value, gamma.value, 0.1)\n",
    "dynamic"
   ]
  },
  {
   "cell_type": "code",
   "execution_count": 210,
   "metadata": {},
   "outputs": [
    {
     "data": {
      "application/vnd.plotly.v1+json": {
       "config": {
        "plotlyServerURL": "https://plot.ly"
       },
       "data": [
        {
         "hovertemplate": "%{y}",
         "name": "Susceptible",
         "type": "scatter",
         "x": [
          0,
          1,
          2,
          3,
          4,
          5,
          6,
          7,
          8,
          9,
          10,
          11,
          12,
          13,
          14,
          15,
          16,
          17,
          18,
          19,
          20,
          21,
          22,
          23,
          24,
          25,
          26,
          27,
          28,
          29,
          30,
          31,
          32,
          33,
          34,
          35,
          36,
          37,
          38,
          39,
          40,
          41,
          42,
          43,
          44,
          45,
          46,
          47,
          48,
          49,
          50,
          51,
          52,
          53,
          54,
          55,
          56,
          57,
          58,
          59,
          60,
          61,
          62,
          63,
          64,
          65,
          66,
          67,
          68,
          69,
          70,
          71,
          72,
          73,
          74,
          75,
          76,
          77,
          78,
          79,
          80,
          81,
          82,
          83,
          84,
          85,
          86,
          87,
          88,
          89,
          90,
          91,
          92,
          93,
          94,
          95,
          96,
          97,
          98,
          99,
          100
         ],
         "y": [
          990,
          988,
          985,
          983,
          980,
          978,
          974,
          971,
          967,
          962,
          956,
          949,
          942,
          934,
          925,
          915,
          904,
          891,
          878,
          863,
          846,
          828,
          809,
          788,
          766,
          742,
          712,
          680,
          647,
          611,
          575,
          538,
          502,
          458,
          416,
          375,
          336,
          301,
          269,
          240,
          215,
          193,
          177,
          164,
          152,
          142,
          133,
          128,
          124,
          120,
          116,
          114,
          112,
          110,
          108,
          107,
          105,
          104,
          103,
          102,
          101,
          100,
          99,
          99,
          98,
          98,
          97,
          97,
          96,
          96,
          96,
          96,
          95,
          95,
          95,
          95,
          95,
          94,
          94,
          94,
          94,
          94,
          94,
          94,
          94,
          93,
          93,
          93,
          93,
          93,
          93,
          93,
          93,
          93,
          93,
          93,
          93,
          93,
          93,
          93,
          93
         ]
        },
        {
         "hovertemplate": "%{y}",
         "name": "Infectious",
         "type": "scatter",
         "x": [
          0,
          1,
          2,
          3,
          4,
          5,
          6,
          7,
          8,
          9,
          10,
          11,
          12,
          13,
          14,
          15,
          16,
          17,
          18,
          19,
          20,
          21,
          22,
          23,
          24,
          25,
          26,
          27,
          28,
          29,
          30,
          31,
          32,
          33,
          34,
          35,
          36,
          37,
          38,
          39,
          40,
          41,
          42,
          43,
          44,
          45,
          46,
          47,
          48,
          49,
          50,
          51,
          52,
          53,
          54,
          55,
          56,
          57,
          58,
          59,
          60,
          61,
          62,
          63,
          64,
          65,
          66,
          67,
          68,
          69,
          70,
          71,
          72,
          73,
          74,
          75,
          76,
          77,
          78,
          79,
          80,
          81,
          82,
          83,
          84,
          85,
          86,
          87,
          88,
          89,
          90,
          91,
          92,
          93,
          94,
          95,
          96,
          97,
          98,
          99,
          100
         ],
         "y": [
          10,
          10,
          12,
          13,
          14,
          15,
          17,
          19,
          21,
          24,
          27,
          31,
          35,
          40,
          45,
          50,
          57,
          63,
          71,
          79,
          88,
          97,
          107,
          117,
          128,
          139,
          155,
          172,
          189,
          205,
          221,
          236,
          250,
          268,
          284,
          296,
          304,
          308,
          308,
          304,
          297,
          287,
          272,
          257,
          241,
          226,
          211,
          193,
          177,
          162,
          148,
          134,
          122,
          111,
          100,
          91,
          82,
          75,
          68,
          62,
          56,
          51,
          47,
          42,
          39,
          35,
          32,
          29,
          27,
          24,
          22,
          20,
          18,
          17,
          15,
          14,
          12,
          11,
          10,
          9,
          8,
          8,
          7,
          6,
          6,
          5,
          5,
          4,
          4,
          3,
          3,
          3,
          2,
          2,
          2,
          2,
          1,
          1,
          1,
          1,
          1
         ]
        },
        {
         "hovertemplate": "%{y}",
         "name": "Removed",
         "type": "scatter",
         "x": [
          0,
          1,
          2,
          3,
          4,
          5,
          6,
          7,
          8,
          9,
          10,
          11,
          12,
          13,
          14,
          15,
          16,
          17,
          18,
          19,
          20,
          21,
          22,
          23,
          24,
          25,
          26,
          27,
          28,
          29,
          30,
          31,
          32,
          33,
          34,
          35,
          36,
          37,
          38,
          39,
          40,
          41,
          42,
          43,
          44,
          45,
          46,
          47,
          48,
          49,
          50,
          51,
          52,
          53,
          54,
          55,
          56,
          57,
          58,
          59,
          60,
          61,
          62,
          63,
          64,
          65,
          66,
          67,
          68,
          69,
          70,
          71,
          72,
          73,
          74,
          75,
          76,
          77,
          78,
          79,
          80,
          81,
          82,
          83,
          84,
          85,
          86,
          87,
          88,
          89,
          90,
          91,
          92,
          93,
          94,
          95,
          96,
          97,
          98,
          99,
          100
         ],
         "y": [
          0,
          1,
          2,
          3,
          4,
          6,
          7,
          9,
          11,
          13,
          15,
          18,
          21,
          25,
          29,
          33,
          38,
          44,
          50,
          57,
          65,
          73,
          83,
          93,
          105,
          117,
          131,
          146,
          163,
          182,
          202,
          224,
          247,
          272,
          299,
          328,
          358,
          390,
          422,
          455,
          487,
          518,
          549,
          578,
          605,
          631,
          655,
          677,
          698,
          717,
          734,
          750,
          765,
          778,
          790,
          801,
          811,
          820,
          828,
          835,
          841,
          847,
          853,
          857,
          862,
          866,
          869,
          872,
          875,
          878,
          881,
          883,
          885,
          887,
          888,
          890,
          892,
          893,
          894,
          895,
          896,
          897,
          898,
          899,
          899,
          900,
          901,
          901,
          902,
          902,
          902,
          903,
          903,
          903,
          904,
          904,
          904,
          904,
          904,
          905,
          905
         ]
        },
        {
         "hovertemplate": "%{y}",
         "marker": {
          "symbol": 1
         },
         "mode": "markers",
         "name": "Guessed",
         "type": "scatter",
         "x": [
          2,
          4,
          6,
          8,
          10,
          12,
          14,
          16,
          18,
          20,
          22,
          24,
          26,
          28,
          30,
          32,
          34,
          36,
          38,
          40,
          42,
          44,
          46,
          48,
          50,
          52,
          54,
          56,
          58,
          60,
          62,
          64,
          66,
          68,
          70,
          72,
          74,
          76,
          78,
          80,
          82,
          84,
          86,
          88,
          90,
          92,
          94,
          96,
          98
         ],
         "y": [
          12,
          17,
          18,
          22,
          27,
          44,
          46,
          50,
          73,
          96,
          113,
          116,
          164,
          210,
          231,
          250,
          259,
          303,
          292,
          270,
          269,
          241,
          204,
          176,
          140,
          122,
          105,
          77,
          69,
          56,
          41,
          32,
          31,
          21,
          20,
          14,
          14,
          12,
          6,
          10,
          8,
          4,
          5,
          2,
          4,
          6,
          2,
          2,
          0
         ]
        }
       ],
       "layout": {
        "margin": {
         "b": 0,
         "l": 0,
         "r": 0,
         "t": 25
        },
        "template": {
         "data": {
          "bar": [
           {
            "error_x": {
             "color": "#2a3f5f"
            },
            "error_y": {
             "color": "#2a3f5f"
            },
            "marker": {
             "line": {
              "color": "#E5ECF6",
              "width": 0.5
             }
            },
            "type": "bar"
           }
          ],
          "barpolar": [
           {
            "marker": {
             "line": {
              "color": "#E5ECF6",
              "width": 0.5
             }
            },
            "type": "barpolar"
           }
          ],
          "carpet": [
           {
            "aaxis": {
             "endlinecolor": "#2a3f5f",
             "gridcolor": "white",
             "linecolor": "white",
             "minorgridcolor": "white",
             "startlinecolor": "#2a3f5f"
            },
            "baxis": {
             "endlinecolor": "#2a3f5f",
             "gridcolor": "white",
             "linecolor": "white",
             "minorgridcolor": "white",
             "startlinecolor": "#2a3f5f"
            },
            "type": "carpet"
           }
          ],
          "choropleth": [
           {
            "colorbar": {
             "outlinewidth": 0,
             "ticks": ""
            },
            "type": "choropleth"
           }
          ],
          "contour": [
           {
            "colorbar": {
             "outlinewidth": 0,
             "ticks": ""
            },
            "colorscale": [
             [
              0,
              "#0d0887"
             ],
             [
              0.1111111111111111,
              "#46039f"
             ],
             [
              0.2222222222222222,
              "#7201a8"
             ],
             [
              0.3333333333333333,
              "#9c179e"
             ],
             [
              0.4444444444444444,
              "#bd3786"
             ],
             [
              0.5555555555555556,
              "#d8576b"
             ],
             [
              0.6666666666666666,
              "#ed7953"
             ],
             [
              0.7777777777777778,
              "#fb9f3a"
             ],
             [
              0.8888888888888888,
              "#fdca26"
             ],
             [
              1,
              "#f0f921"
             ]
            ],
            "type": "contour"
           }
          ],
          "contourcarpet": [
           {
            "colorbar": {
             "outlinewidth": 0,
             "ticks": ""
            },
            "type": "contourcarpet"
           }
          ],
          "heatmap": [
           {
            "colorbar": {
             "outlinewidth": 0,
             "ticks": ""
            },
            "colorscale": [
             [
              0,
              "#0d0887"
             ],
             [
              0.1111111111111111,
              "#46039f"
             ],
             [
              0.2222222222222222,
              "#7201a8"
             ],
             [
              0.3333333333333333,
              "#9c179e"
             ],
             [
              0.4444444444444444,
              "#bd3786"
             ],
             [
              0.5555555555555556,
              "#d8576b"
             ],
             [
              0.6666666666666666,
              "#ed7953"
             ],
             [
              0.7777777777777778,
              "#fb9f3a"
             ],
             [
              0.8888888888888888,
              "#fdca26"
             ],
             [
              1,
              "#f0f921"
             ]
            ],
            "type": "heatmap"
           }
          ],
          "heatmapgl": [
           {
            "colorbar": {
             "outlinewidth": 0,
             "ticks": ""
            },
            "colorscale": [
             [
              0,
              "#0d0887"
             ],
             [
              0.1111111111111111,
              "#46039f"
             ],
             [
              0.2222222222222222,
              "#7201a8"
             ],
             [
              0.3333333333333333,
              "#9c179e"
             ],
             [
              0.4444444444444444,
              "#bd3786"
             ],
             [
              0.5555555555555556,
              "#d8576b"
             ],
             [
              0.6666666666666666,
              "#ed7953"
             ],
             [
              0.7777777777777778,
              "#fb9f3a"
             ],
             [
              0.8888888888888888,
              "#fdca26"
             ],
             [
              1,
              "#f0f921"
             ]
            ],
            "type": "heatmapgl"
           }
          ],
          "histogram": [
           {
            "marker": {
             "colorbar": {
              "outlinewidth": 0,
              "ticks": ""
             }
            },
            "type": "histogram"
           }
          ],
          "histogram2d": [
           {
            "colorbar": {
             "outlinewidth": 0,
             "ticks": ""
            },
            "colorscale": [
             [
              0,
              "#0d0887"
             ],
             [
              0.1111111111111111,
              "#46039f"
             ],
             [
              0.2222222222222222,
              "#7201a8"
             ],
             [
              0.3333333333333333,
              "#9c179e"
             ],
             [
              0.4444444444444444,
              "#bd3786"
             ],
             [
              0.5555555555555556,
              "#d8576b"
             ],
             [
              0.6666666666666666,
              "#ed7953"
             ],
             [
              0.7777777777777778,
              "#fb9f3a"
             ],
             [
              0.8888888888888888,
              "#fdca26"
             ],
             [
              1,
              "#f0f921"
             ]
            ],
            "type": "histogram2d"
           }
          ],
          "histogram2dcontour": [
           {
            "colorbar": {
             "outlinewidth": 0,
             "ticks": ""
            },
            "colorscale": [
             [
              0,
              "#0d0887"
             ],
             [
              0.1111111111111111,
              "#46039f"
             ],
             [
              0.2222222222222222,
              "#7201a8"
             ],
             [
              0.3333333333333333,
              "#9c179e"
             ],
             [
              0.4444444444444444,
              "#bd3786"
             ],
             [
              0.5555555555555556,
              "#d8576b"
             ],
             [
              0.6666666666666666,
              "#ed7953"
             ],
             [
              0.7777777777777778,
              "#fb9f3a"
             ],
             [
              0.8888888888888888,
              "#fdca26"
             ],
             [
              1,
              "#f0f921"
             ]
            ],
            "type": "histogram2dcontour"
           }
          ],
          "mesh3d": [
           {
            "colorbar": {
             "outlinewidth": 0,
             "ticks": ""
            },
            "type": "mesh3d"
           }
          ],
          "parcoords": [
           {
            "line": {
             "colorbar": {
              "outlinewidth": 0,
              "ticks": ""
             }
            },
            "type": "parcoords"
           }
          ],
          "pie": [
           {
            "automargin": true,
            "type": "pie"
           }
          ],
          "scatter": [
           {
            "marker": {
             "colorbar": {
              "outlinewidth": 0,
              "ticks": ""
             }
            },
            "type": "scatter"
           }
          ],
          "scatter3d": [
           {
            "line": {
             "colorbar": {
              "outlinewidth": 0,
              "ticks": ""
             }
            },
            "marker": {
             "colorbar": {
              "outlinewidth": 0,
              "ticks": ""
             }
            },
            "type": "scatter3d"
           }
          ],
          "scattercarpet": [
           {
            "marker": {
             "colorbar": {
              "outlinewidth": 0,
              "ticks": ""
             }
            },
            "type": "scattercarpet"
           }
          ],
          "scattergeo": [
           {
            "marker": {
             "colorbar": {
              "outlinewidth": 0,
              "ticks": ""
             }
            },
            "type": "scattergeo"
           }
          ],
          "scattergl": [
           {
            "marker": {
             "colorbar": {
              "outlinewidth": 0,
              "ticks": ""
             }
            },
            "type": "scattergl"
           }
          ],
          "scattermapbox": [
           {
            "marker": {
             "colorbar": {
              "outlinewidth": 0,
              "ticks": ""
             }
            },
            "type": "scattermapbox"
           }
          ],
          "scatterpolar": [
           {
            "marker": {
             "colorbar": {
              "outlinewidth": 0,
              "ticks": ""
             }
            },
            "type": "scatterpolar"
           }
          ],
          "scatterpolargl": [
           {
            "marker": {
             "colorbar": {
              "outlinewidth": 0,
              "ticks": ""
             }
            },
            "type": "scatterpolargl"
           }
          ],
          "scatterternary": [
           {
            "marker": {
             "colorbar": {
              "outlinewidth": 0,
              "ticks": ""
             }
            },
            "type": "scatterternary"
           }
          ],
          "surface": [
           {
            "colorbar": {
             "outlinewidth": 0,
             "ticks": ""
            },
            "colorscale": [
             [
              0,
              "#0d0887"
             ],
             [
              0.1111111111111111,
              "#46039f"
             ],
             [
              0.2222222222222222,
              "#7201a8"
             ],
             [
              0.3333333333333333,
              "#9c179e"
             ],
             [
              0.4444444444444444,
              "#bd3786"
             ],
             [
              0.5555555555555556,
              "#d8576b"
             ],
             [
              0.6666666666666666,
              "#ed7953"
             ],
             [
              0.7777777777777778,
              "#fb9f3a"
             ],
             [
              0.8888888888888888,
              "#fdca26"
             ],
             [
              1,
              "#f0f921"
             ]
            ],
            "type": "surface"
           }
          ],
          "table": [
           {
            "cells": {
             "fill": {
              "color": "#EBF0F8"
             },
             "line": {
              "color": "white"
             }
            },
            "header": {
             "fill": {
              "color": "#C8D4E3"
             },
             "line": {
              "color": "white"
             }
            },
            "type": "table"
           }
          ]
         },
         "layout": {
          "annotationdefaults": {
           "arrowcolor": "#2a3f5f",
           "arrowhead": 0,
           "arrowwidth": 1
          },
          "coloraxis": {
           "colorbar": {
            "outlinewidth": 0,
            "ticks": ""
           }
          },
          "colorscale": {
           "diverging": [
            [
             0,
             "#8e0152"
            ],
            [
             0.1,
             "#c51b7d"
            ],
            [
             0.2,
             "#de77ae"
            ],
            [
             0.3,
             "#f1b6da"
            ],
            [
             0.4,
             "#fde0ef"
            ],
            [
             0.5,
             "#f7f7f7"
            ],
            [
             0.6,
             "#e6f5d0"
            ],
            [
             0.7,
             "#b8e186"
            ],
            [
             0.8,
             "#7fbc41"
            ],
            [
             0.9,
             "#4d9221"
            ],
            [
             1,
             "#276419"
            ]
           ],
           "sequential": [
            [
             0,
             "#0d0887"
            ],
            [
             0.1111111111111111,
             "#46039f"
            ],
            [
             0.2222222222222222,
             "#7201a8"
            ],
            [
             0.3333333333333333,
             "#9c179e"
            ],
            [
             0.4444444444444444,
             "#bd3786"
            ],
            [
             0.5555555555555556,
             "#d8576b"
            ],
            [
             0.6666666666666666,
             "#ed7953"
            ],
            [
             0.7777777777777778,
             "#fb9f3a"
            ],
            [
             0.8888888888888888,
             "#fdca26"
            ],
            [
             1,
             "#f0f921"
            ]
           ],
           "sequentialminus": [
            [
             0,
             "#0d0887"
            ],
            [
             0.1111111111111111,
             "#46039f"
            ],
            [
             0.2222222222222222,
             "#7201a8"
            ],
            [
             0.3333333333333333,
             "#9c179e"
            ],
            [
             0.4444444444444444,
             "#bd3786"
            ],
            [
             0.5555555555555556,
             "#d8576b"
            ],
            [
             0.6666666666666666,
             "#ed7953"
            ],
            [
             0.7777777777777778,
             "#fb9f3a"
            ],
            [
             0.8888888888888888,
             "#fdca26"
            ],
            [
             1,
             "#f0f921"
            ]
           ]
          },
          "colorway": [
           "#636efa",
           "#EF553B",
           "#00cc96",
           "#ab63fa",
           "#FFA15A",
           "#19d3f3",
           "#FF6692",
           "#B6E880",
           "#FF97FF",
           "#FECB52"
          ],
          "font": {
           "color": "#2a3f5f"
          },
          "geo": {
           "bgcolor": "white",
           "lakecolor": "white",
           "landcolor": "#E5ECF6",
           "showlakes": true,
           "showland": true,
           "subunitcolor": "white"
          },
          "hoverlabel": {
           "align": "left"
          },
          "hovermode": "closest",
          "mapbox": {
           "style": "light"
          },
          "paper_bgcolor": "white",
          "plot_bgcolor": "#E5ECF6",
          "polar": {
           "angularaxis": {
            "gridcolor": "white",
            "linecolor": "white",
            "ticks": ""
           },
           "bgcolor": "#E5ECF6",
           "radialaxis": {
            "gridcolor": "white",
            "linecolor": "white",
            "ticks": ""
           }
          },
          "scene": {
           "xaxis": {
            "backgroundcolor": "#E5ECF6",
            "gridcolor": "white",
            "gridwidth": 2,
            "linecolor": "white",
            "showbackground": true,
            "ticks": "",
            "zerolinecolor": "white"
           },
           "yaxis": {
            "backgroundcolor": "#E5ECF6",
            "gridcolor": "white",
            "gridwidth": 2,
            "linecolor": "white",
            "showbackground": true,
            "ticks": "",
            "zerolinecolor": "white"
           },
           "zaxis": {
            "backgroundcolor": "#E5ECF6",
            "gridcolor": "white",
            "gridwidth": 2,
            "linecolor": "white",
            "showbackground": true,
            "ticks": "",
            "zerolinecolor": "white"
           }
          },
          "shapedefaults": {
           "line": {
            "color": "#2a3f5f"
           }
          },
          "ternary": {
           "aaxis": {
            "gridcolor": "white",
            "linecolor": "white",
            "ticks": ""
           },
           "baxis": {
            "gridcolor": "white",
            "linecolor": "white",
            "ticks": ""
           },
           "bgcolor": "#E5ECF6",
           "caxis": {
            "gridcolor": "white",
            "linecolor": "white",
            "ticks": ""
           }
          },
          "title": {
           "x": 0.05
          },
          "xaxis": {
           "automargin": true,
           "gridcolor": "white",
           "linecolor": "white",
           "ticks": "",
           "title": {
            "standoff": 15
           },
           "zerolinecolor": "white",
           "zerolinewidth": 2
          },
          "yaxis": {
           "automargin": true,
           "gridcolor": "white",
           "linecolor": "white",
           "ticks": "",
           "title": {
            "standoff": 15
           },
           "zerolinecolor": "white",
           "zerolinewidth": 2
          }
         }
        }
       }
      },
      "text/html": [
       "<div>\n",
       "        \n",
       "        \n",
       "            <div id=\"3d6c76ae-fdaf-4de3-bd35-b6f3e36fc5b2\" class=\"plotly-graph-div\" style=\"height:525px; width:100%;\"></div>\n",
       "            <script type=\"text/javascript\">\n",
       "                require([\"plotly\"], function(Plotly) {\n",
       "                    window.PLOTLYENV=window.PLOTLYENV || {};\n",
       "                    \n",
       "                if (document.getElementById(\"3d6c76ae-fdaf-4de3-bd35-b6f3e36fc5b2\")) {\n",
       "                    Plotly.newPlot(\n",
       "                        '3d6c76ae-fdaf-4de3-bd35-b6f3e36fc5b2',\n",
       "                        [{\"hovertemplate\": \"%{y}\", \"name\": \"Susceptible\", \"type\": \"scatter\", \"x\": [0, 1, 2, 3, 4, 5, 6, 7, 8, 9, 10, 11, 12, 13, 14, 15, 16, 17, 18, 19, 20, 21, 22, 23, 24, 25, 26, 27, 28, 29, 30, 31, 32, 33, 34, 35, 36, 37, 38, 39, 40, 41, 42, 43, 44, 45, 46, 47, 48, 49, 50, 51, 52, 53, 54, 55, 56, 57, 58, 59, 60, 61, 62, 63, 64, 65, 66, 67, 68, 69, 70, 71, 72, 73, 74, 75, 76, 77, 78, 79, 80, 81, 82, 83, 84, 85, 86, 87, 88, 89, 90, 91, 92, 93, 94, 95, 96, 97, 98, 99, 100], \"y\": [990, 988, 985, 983, 980, 978, 974, 971, 967, 962, 956, 949, 942, 934, 925, 915, 904, 891, 878, 863, 846, 828, 809, 788, 766, 742, 712, 680, 647, 611, 575, 538, 502, 458, 416, 375, 336, 301, 269, 240, 215, 193, 177, 164, 152, 142, 133, 128, 124, 120, 116, 114, 112, 110, 108, 107, 105, 104, 103, 102, 101, 100, 99, 99, 98, 98, 97, 97, 96, 96, 96, 96, 95, 95, 95, 95, 95, 94, 94, 94, 94, 94, 94, 94, 94, 93, 93, 93, 93, 93, 93, 93, 93, 93, 93, 93, 93, 93, 93, 93, 93]}, {\"hovertemplate\": \"%{y}\", \"name\": \"Infectious\", \"type\": \"scatter\", \"x\": [0, 1, 2, 3, 4, 5, 6, 7, 8, 9, 10, 11, 12, 13, 14, 15, 16, 17, 18, 19, 20, 21, 22, 23, 24, 25, 26, 27, 28, 29, 30, 31, 32, 33, 34, 35, 36, 37, 38, 39, 40, 41, 42, 43, 44, 45, 46, 47, 48, 49, 50, 51, 52, 53, 54, 55, 56, 57, 58, 59, 60, 61, 62, 63, 64, 65, 66, 67, 68, 69, 70, 71, 72, 73, 74, 75, 76, 77, 78, 79, 80, 81, 82, 83, 84, 85, 86, 87, 88, 89, 90, 91, 92, 93, 94, 95, 96, 97, 98, 99, 100], \"y\": [10, 10, 12, 13, 14, 15, 17, 19, 21, 24, 27, 31, 35, 40, 45, 50, 57, 63, 71, 79, 88, 97, 107, 117, 128, 139, 155, 172, 189, 205, 221, 236, 250, 268, 284, 296, 304, 308, 308, 304, 297, 287, 272, 257, 241, 226, 211, 193, 177, 162, 148, 134, 122, 111, 100, 91, 82, 75, 68, 62, 56, 51, 47, 42, 39, 35, 32, 29, 27, 24, 22, 20, 18, 17, 15, 14, 12, 11, 10, 9, 8, 8, 7, 6, 6, 5, 5, 4, 4, 3, 3, 3, 2, 2, 2, 2, 1, 1, 1, 1, 1]}, {\"hovertemplate\": \"%{y}\", \"name\": \"Removed\", \"type\": \"scatter\", \"x\": [0, 1, 2, 3, 4, 5, 6, 7, 8, 9, 10, 11, 12, 13, 14, 15, 16, 17, 18, 19, 20, 21, 22, 23, 24, 25, 26, 27, 28, 29, 30, 31, 32, 33, 34, 35, 36, 37, 38, 39, 40, 41, 42, 43, 44, 45, 46, 47, 48, 49, 50, 51, 52, 53, 54, 55, 56, 57, 58, 59, 60, 61, 62, 63, 64, 65, 66, 67, 68, 69, 70, 71, 72, 73, 74, 75, 76, 77, 78, 79, 80, 81, 82, 83, 84, 85, 86, 87, 88, 89, 90, 91, 92, 93, 94, 95, 96, 97, 98, 99, 100], \"y\": [0, 1, 2, 3, 4, 6, 7, 9, 11, 13, 15, 18, 21, 25, 29, 33, 38, 44, 50, 57, 65, 73, 83, 93, 105, 117, 131, 146, 163, 182, 202, 224, 247, 272, 299, 328, 358, 390, 422, 455, 487, 518, 549, 578, 605, 631, 655, 677, 698, 717, 734, 750, 765, 778, 790, 801, 811, 820, 828, 835, 841, 847, 853, 857, 862, 866, 869, 872, 875, 878, 881, 883, 885, 887, 888, 890, 892, 893, 894, 895, 896, 897, 898, 899, 899, 900, 901, 901, 902, 902, 902, 903, 903, 903, 904, 904, 904, 904, 904, 905, 905]}, {\"hovertemplate\": \"%{y}\", \"marker\": {\"symbol\": 1}, \"mode\": \"markers\", \"name\": \"Guessed\", \"type\": \"scatter\", \"x\": [2, 4, 6, 8, 10, 12, 14, 16, 18, 20, 22, 24, 26, 28, 30, 32, 34, 36, 38, 40, 42, 44, 46, 48, 50, 52, 54, 56, 58, 60, 62, 64, 66, 68, 70, 72, 74, 76, 78, 80, 82, 84, 86, 88, 90, 92, 94, 96, 98], \"y\": [12.0, 17.0, 18.0, 22.0, 27.0, 44.0, 46.0, 50.0, 73.0, 96.0, 113.0, 116.0, 164.0, 210.0, 231.0, 250.0, 259.0, 303.0, 292.0, 270.0, 269.0, 241.0, 204.0, 176.0, 140.0, 122.0, 105.0, 77.0, 69.0, 56.0, 41.0, 32.0, 31.0, 21.0, 20.0, 14.0, 14.0, 12.0, 6.0, 10.0, 8.0, 4.0, 5.0, 2.0, 4.0, 6.0, 2.0, 2.0, 0.0]}],\n",
       "                        {\"margin\": {\"b\": 0, \"l\": 0, \"r\": 0, \"t\": 25}, \"template\": {\"data\": {\"bar\": [{\"error_x\": {\"color\": \"#2a3f5f\"}, \"error_y\": {\"color\": \"#2a3f5f\"}, \"marker\": {\"line\": {\"color\": \"#E5ECF6\", \"width\": 0.5}}, \"type\": \"bar\"}], \"barpolar\": [{\"marker\": {\"line\": {\"color\": \"#E5ECF6\", \"width\": 0.5}}, \"type\": \"barpolar\"}], \"carpet\": [{\"aaxis\": {\"endlinecolor\": \"#2a3f5f\", \"gridcolor\": \"white\", \"linecolor\": \"white\", \"minorgridcolor\": \"white\", \"startlinecolor\": \"#2a3f5f\"}, \"baxis\": {\"endlinecolor\": \"#2a3f5f\", \"gridcolor\": \"white\", \"linecolor\": \"white\", \"minorgridcolor\": \"white\", \"startlinecolor\": \"#2a3f5f\"}, \"type\": \"carpet\"}], \"choropleth\": [{\"colorbar\": {\"outlinewidth\": 0, \"ticks\": \"\"}, \"type\": \"choropleth\"}], \"contour\": [{\"colorbar\": {\"outlinewidth\": 0, \"ticks\": \"\"}, \"colorscale\": [[0.0, \"#0d0887\"], [0.1111111111111111, \"#46039f\"], [0.2222222222222222, \"#7201a8\"], [0.3333333333333333, \"#9c179e\"], [0.4444444444444444, \"#bd3786\"], [0.5555555555555556, \"#d8576b\"], [0.6666666666666666, \"#ed7953\"], [0.7777777777777778, \"#fb9f3a\"], [0.8888888888888888, \"#fdca26\"], [1.0, \"#f0f921\"]], \"type\": \"contour\"}], \"contourcarpet\": [{\"colorbar\": {\"outlinewidth\": 0, \"ticks\": \"\"}, \"type\": \"contourcarpet\"}], \"heatmap\": [{\"colorbar\": {\"outlinewidth\": 0, \"ticks\": \"\"}, \"colorscale\": [[0.0, \"#0d0887\"], [0.1111111111111111, \"#46039f\"], [0.2222222222222222, \"#7201a8\"], [0.3333333333333333, \"#9c179e\"], [0.4444444444444444, \"#bd3786\"], [0.5555555555555556, \"#d8576b\"], [0.6666666666666666, \"#ed7953\"], [0.7777777777777778, \"#fb9f3a\"], [0.8888888888888888, \"#fdca26\"], [1.0, \"#f0f921\"]], \"type\": \"heatmap\"}], \"heatmapgl\": [{\"colorbar\": {\"outlinewidth\": 0, \"ticks\": \"\"}, \"colorscale\": [[0.0, \"#0d0887\"], [0.1111111111111111, \"#46039f\"], [0.2222222222222222, \"#7201a8\"], [0.3333333333333333, \"#9c179e\"], [0.4444444444444444, \"#bd3786\"], [0.5555555555555556, \"#d8576b\"], [0.6666666666666666, \"#ed7953\"], [0.7777777777777778, \"#fb9f3a\"], [0.8888888888888888, \"#fdca26\"], [1.0, \"#f0f921\"]], \"type\": \"heatmapgl\"}], \"histogram\": [{\"marker\": {\"colorbar\": {\"outlinewidth\": 0, \"ticks\": \"\"}}, \"type\": \"histogram\"}], \"histogram2d\": [{\"colorbar\": {\"outlinewidth\": 0, \"ticks\": \"\"}, \"colorscale\": [[0.0, \"#0d0887\"], [0.1111111111111111, \"#46039f\"], [0.2222222222222222, \"#7201a8\"], [0.3333333333333333, \"#9c179e\"], [0.4444444444444444, \"#bd3786\"], [0.5555555555555556, \"#d8576b\"], [0.6666666666666666, \"#ed7953\"], [0.7777777777777778, \"#fb9f3a\"], [0.8888888888888888, \"#fdca26\"], [1.0, \"#f0f921\"]], \"type\": \"histogram2d\"}], \"histogram2dcontour\": [{\"colorbar\": {\"outlinewidth\": 0, \"ticks\": \"\"}, \"colorscale\": [[0.0, \"#0d0887\"], [0.1111111111111111, \"#46039f\"], [0.2222222222222222, \"#7201a8\"], [0.3333333333333333, \"#9c179e\"], [0.4444444444444444, \"#bd3786\"], [0.5555555555555556, \"#d8576b\"], [0.6666666666666666, \"#ed7953\"], [0.7777777777777778, \"#fb9f3a\"], [0.8888888888888888, \"#fdca26\"], [1.0, \"#f0f921\"]], \"type\": \"histogram2dcontour\"}], \"mesh3d\": [{\"colorbar\": {\"outlinewidth\": 0, \"ticks\": \"\"}, \"type\": \"mesh3d\"}], \"parcoords\": [{\"line\": {\"colorbar\": {\"outlinewidth\": 0, \"ticks\": \"\"}}, \"type\": \"parcoords\"}], \"pie\": [{\"automargin\": true, \"type\": \"pie\"}], \"scatter\": [{\"marker\": {\"colorbar\": {\"outlinewidth\": 0, \"ticks\": \"\"}}, \"type\": \"scatter\"}], \"scatter3d\": [{\"line\": {\"colorbar\": {\"outlinewidth\": 0, \"ticks\": \"\"}}, \"marker\": {\"colorbar\": {\"outlinewidth\": 0, \"ticks\": \"\"}}, \"type\": \"scatter3d\"}], \"scattercarpet\": [{\"marker\": {\"colorbar\": {\"outlinewidth\": 0, \"ticks\": \"\"}}, \"type\": \"scattercarpet\"}], \"scattergeo\": [{\"marker\": {\"colorbar\": {\"outlinewidth\": 0, \"ticks\": \"\"}}, \"type\": \"scattergeo\"}], \"scattergl\": [{\"marker\": {\"colorbar\": {\"outlinewidth\": 0, \"ticks\": \"\"}}, \"type\": \"scattergl\"}], \"scattermapbox\": [{\"marker\": {\"colorbar\": {\"outlinewidth\": 0, \"ticks\": \"\"}}, \"type\": \"scattermapbox\"}], \"scatterpolar\": [{\"marker\": {\"colorbar\": {\"outlinewidth\": 0, \"ticks\": \"\"}}, \"type\": \"scatterpolar\"}], \"scatterpolargl\": [{\"marker\": {\"colorbar\": {\"outlinewidth\": 0, \"ticks\": \"\"}}, \"type\": \"scatterpolargl\"}], \"scatterternary\": [{\"marker\": {\"colorbar\": {\"outlinewidth\": 0, \"ticks\": \"\"}}, \"type\": \"scatterternary\"}], \"surface\": [{\"colorbar\": {\"outlinewidth\": 0, \"ticks\": \"\"}, \"colorscale\": [[0.0, \"#0d0887\"], [0.1111111111111111, \"#46039f\"], [0.2222222222222222, \"#7201a8\"], [0.3333333333333333, \"#9c179e\"], [0.4444444444444444, \"#bd3786\"], [0.5555555555555556, \"#d8576b\"], [0.6666666666666666, \"#ed7953\"], [0.7777777777777778, \"#fb9f3a\"], [0.8888888888888888, \"#fdca26\"], [1.0, \"#f0f921\"]], \"type\": \"surface\"}], \"table\": [{\"cells\": {\"fill\": {\"color\": \"#EBF0F8\"}, \"line\": {\"color\": \"white\"}}, \"header\": {\"fill\": {\"color\": \"#C8D4E3\"}, \"line\": {\"color\": \"white\"}}, \"type\": \"table\"}]}, \"layout\": {\"annotationdefaults\": {\"arrowcolor\": \"#2a3f5f\", \"arrowhead\": 0, \"arrowwidth\": 1}, \"coloraxis\": {\"colorbar\": {\"outlinewidth\": 0, \"ticks\": \"\"}}, \"colorscale\": {\"diverging\": [[0, \"#8e0152\"], [0.1, \"#c51b7d\"], [0.2, \"#de77ae\"], [0.3, \"#f1b6da\"], [0.4, \"#fde0ef\"], [0.5, \"#f7f7f7\"], [0.6, \"#e6f5d0\"], [0.7, \"#b8e186\"], [0.8, \"#7fbc41\"], [0.9, \"#4d9221\"], [1, \"#276419\"]], \"sequential\": [[0.0, \"#0d0887\"], [0.1111111111111111, \"#46039f\"], [0.2222222222222222, \"#7201a8\"], [0.3333333333333333, \"#9c179e\"], [0.4444444444444444, \"#bd3786\"], [0.5555555555555556, \"#d8576b\"], [0.6666666666666666, \"#ed7953\"], [0.7777777777777778, \"#fb9f3a\"], [0.8888888888888888, \"#fdca26\"], [1.0, \"#f0f921\"]], \"sequentialminus\": [[0.0, \"#0d0887\"], [0.1111111111111111, \"#46039f\"], [0.2222222222222222, \"#7201a8\"], [0.3333333333333333, \"#9c179e\"], [0.4444444444444444, \"#bd3786\"], [0.5555555555555556, \"#d8576b\"], [0.6666666666666666, \"#ed7953\"], [0.7777777777777778, \"#fb9f3a\"], [0.8888888888888888, \"#fdca26\"], [1.0, \"#f0f921\"]]}, \"colorway\": [\"#636efa\", \"#EF553B\", \"#00cc96\", \"#ab63fa\", \"#FFA15A\", \"#19d3f3\", \"#FF6692\", \"#B6E880\", \"#FF97FF\", \"#FECB52\"], \"font\": {\"color\": \"#2a3f5f\"}, \"geo\": {\"bgcolor\": \"white\", \"lakecolor\": \"white\", \"landcolor\": \"#E5ECF6\", \"showlakes\": true, \"showland\": true, \"subunitcolor\": \"white\"}, \"hoverlabel\": {\"align\": \"left\"}, \"hovermode\": \"closest\", \"mapbox\": {\"style\": \"light\"}, \"paper_bgcolor\": \"white\", \"plot_bgcolor\": \"#E5ECF6\", \"polar\": {\"angularaxis\": {\"gridcolor\": \"white\", \"linecolor\": \"white\", \"ticks\": \"\"}, \"bgcolor\": \"#E5ECF6\", \"radialaxis\": {\"gridcolor\": \"white\", \"linecolor\": \"white\", \"ticks\": \"\"}}, \"scene\": {\"xaxis\": {\"backgroundcolor\": \"#E5ECF6\", \"gridcolor\": \"white\", \"gridwidth\": 2, \"linecolor\": \"white\", \"showbackground\": true, \"ticks\": \"\", \"zerolinecolor\": \"white\"}, \"yaxis\": {\"backgroundcolor\": \"#E5ECF6\", \"gridcolor\": \"white\", \"gridwidth\": 2, \"linecolor\": \"white\", \"showbackground\": true, \"ticks\": \"\", \"zerolinecolor\": \"white\"}, \"zaxis\": {\"backgroundcolor\": \"#E5ECF6\", \"gridcolor\": \"white\", \"gridwidth\": 2, \"linecolor\": \"white\", \"showbackground\": true, \"ticks\": \"\", \"zerolinecolor\": \"white\"}}, \"shapedefaults\": {\"line\": {\"color\": \"#2a3f5f\"}}, \"ternary\": {\"aaxis\": {\"gridcolor\": \"white\", \"linecolor\": \"white\", \"ticks\": \"\"}, \"baxis\": {\"gridcolor\": \"white\", \"linecolor\": \"white\", \"ticks\": \"\"}, \"bgcolor\": \"#E5ECF6\", \"caxis\": {\"gridcolor\": \"white\", \"linecolor\": \"white\", \"ticks\": \"\"}}, \"title\": {\"x\": 0.05}, \"xaxis\": {\"automargin\": true, \"gridcolor\": \"white\", \"linecolor\": \"white\", \"ticks\": \"\", \"title\": {\"standoff\": 15}, \"zerolinecolor\": \"white\", \"zerolinewidth\": 2}, \"yaxis\": {\"automargin\": true, \"gridcolor\": \"white\", \"linecolor\": \"white\", \"ticks\": \"\", \"title\": {\"standoff\": 15}, \"zerolinecolor\": \"white\", \"zerolinewidth\": 2}}}},\n",
       "                        {\"responsive\": true}\n",
       "                    ).then(function(){\n",
       "                            \n",
       "var gd = document.getElementById('3d6c76ae-fdaf-4de3-bd35-b6f3e36fc5b2');\n",
       "var x = new MutationObserver(function (mutations, observer) {{\n",
       "        var display = window.getComputedStyle(gd).display;\n",
       "        if (!display || display === 'none') {{\n",
       "            console.log([gd, 'removed!']);\n",
       "            Plotly.purge(gd);\n",
       "            observer.disconnect();\n",
       "        }}\n",
       "}});\n",
       "\n",
       "// Listen for the removal of the full notebook cells\n",
       "var notebookContainer = gd.closest('#notebook-container');\n",
       "if (notebookContainer) {{\n",
       "    x.observe(notebookContainer, {childList: true});\n",
       "}}\n",
       "\n",
       "// Listen for the clearing of the current output cell\n",
       "var outputEl = gd.closest('.output');\n",
       "if (outputEl) {{\n",
       "    x.observe(outputEl, {childList: true});\n",
       "}}\n",
       "\n",
       "                        })\n",
       "                };\n",
       "                });\n",
       "            </script>\n",
       "        </div>"
      ]
     },
     "metadata": {},
     "output_type": "display_data"
    }
   ],
   "source": [
    "city = Region(990, 10, 0, 0)\n",
    "epidemic = dynamic.estimate(city)\n",
    "fig = SIRt.plot(epidemic)\n",
    "sample = Sample(epidemic, np.arange(T//50, T, T//50), 1000*np.ones(49), 1000*np.ones(49), Bin, seed=0)\n",
    "sample.plot(fig)"
   ]
  },
  {
   "cell_type": "code",
   "execution_count": 18,
   "metadata": {},
   "outputs": [],
   "source": [
    "def jump(x, t=0, state=0, cube=None, law=uniform, wait=10, *vargs, seed=None, **options):\n",
    "    x = np.array(x, dtype='float64')   # caution: must specify the datatype, in-place operation below\n",
    "    d = x.size\n",
    "    \n",
    "    if state is None:\n",
    "        state = 0\n",
    "        \n",
    "    if cube is None:\n",
    "        cube = inf_cube(d)\n",
    "    cube = np.array(cube)\n",
    "    \n",
    "    if not incube(x, cube):\n",
    "        raise Exception(MESSAGE)\n",
    "        \n",
    "    if seed is not None and t==0:\n",
    "        np.random.seed(seed)\n",
    "        \n",
    "    y = law(0, **extract_options(options, 'law'))\n",
    "    if state == 0:\n",
    "        if cube[0, 0] < x[0] + y < cube[0, 1]:\n",
    "            x[0] += y\n",
    "        state += 1\n",
    "    else:\n",
    "        window = int(np.random.exponential(wait))\n",
    "        stop = min(d - 1, state + window)\n",
    "        if incube(x[state:stop+1] + y, cube[state:stop+1, :]):\n",
    "            x[state:stop+1] += y\n",
    "        state = stop + 1 if stop + 1 < d else 0\n",
    "    return x, state         "
   ]
  },
  {
   "cell_type": "code",
   "execution_count": 24,
   "metadata": {},
   "outputs": [],
   "source": [
    "def jump2(x, t=0, state=0, cube=None, law=uniform, wait=5, *vargs, seed=None, **options):\n",
    "    x = np.array(x, dtype='float64')   # caution: must specify the datatype, in-place operation below\n",
    "    d = x.size\n",
    "    \n",
    "    if state is None:\n",
    "        state = 0\n",
    "        \n",
    "    if cube is None:\n",
    "        cube = inf_cube(d)\n",
    "    cube = np.array(cube)\n",
    "    \n",
    "    if not incube(x, cube):\n",
    "        raise Exception(MESSAGE)\n",
    "        \n",
    "    if seed is not None and t==0:\n",
    "        np.random.seed(seed)\n",
    "        \n",
    "    y = law(0, **extract_options(options, 'law'))\n",
    "    if state == 0:\n",
    "        if cube[0, 0] < x[0] + y < cube[0, 1]:\n",
    "            x[0] += y\n",
    "        state += 1\n",
    "    else:\n",
    "        window = int(np.random.exponential(wait))\n",
    "        stop = min(d - 1, state + window)\n",
    "        if incube(x[state] + y, cube[state:state+1, :]):\n",
    "            x[state:stop+1] = x[state] + y\n",
    "        state = stop + 1 if stop + 1 < d else 0\n",
    "    return x, state"
   ]
  },
  {
   "cell_type": "code",
   "execution_count": 68,
   "metadata": {},
   "outputs": [],
   "source": [
    "def jump3(x, t=0, state=0, cube=None, law=uniform, wait=5, *vargs, seed=None, **options):\n",
    "    x = np.array(x, dtype='float64')   # caution: must specify the datatype, in-place operation below\n",
    "    d = x.size\n",
    "    \n",
    "    if state is None:\n",
    "        state = 0\n",
    "        \n",
    "    if cube is None:\n",
    "        cube = inf_cube(d)\n",
    "    cube = np.array(cube)\n",
    "    \n",
    "    if not incube(x, cube):\n",
    "        raise Exception(MESSAGE)\n",
    "        \n",
    "    if seed is not None and t==0:\n",
    "        np.random.seed(seed)\n",
    "        \n",
    "    y = law(0, **extract_options(options, 'law'))\n",
    "    if state == 0:\n",
    "        if cube[0, 0] < x[0] + y < cube[0, 1]:\n",
    "            x[0] += y\n",
    "        state += 1\n",
    "    else:\n",
    "        window = int(np.random.exponential(wait))\n",
    "        stop = min(d - 1, state + window)\n",
    "        if incube(x[d-state] + y, cube[d-state:d-state+1, :]):\n",
    "            x[d-stop:d-state+1] = x[d-state] + y\n",
    "        state = stop + 1 if stop + 1 < d else 0\n",
    "    return x, state"
   ]
  },
  {
   "cell_type": "code",
   "execution_count": null,
   "metadata": {},
   "outputs": [],
   "source": []
  }
 ],
 "metadata": {
  "@webio": {
   "lastCommId": null,
   "lastKernelId": null
  },
  "kernelspec": {
   "display_name": "Python 3",
   "language": "python",
   "name": "python3"
  },
  "language_info": {
   "codemirror_mode": {
    "name": "ipython",
    "version": 3
   },
   "file_extension": ".py",
   "mimetype": "text/x-python",
   "name": "python",
   "nbconvert_exporter": "python",
   "pygments_lexer": "ipython3",
   "version": "3.7.3"
  }
 },
 "nbformat": 4,
 "nbformat_minor": 2
}
