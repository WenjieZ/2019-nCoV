{
 "cells": [
  {
   "cell_type": "code",
   "execution_count": 1,
   "metadata": {},
   "outputs": [],
   "source": [
    "from abc import ABCMeta, abstractmethod\n",
    "from collections import namedtuple\n",
    "import numpy as np\n",
    "\n",
    "import plotly.graph_objects as go \n",
    "import plotly.express as px \n",
    "import plotly.io as pio\n",
    "from plotly.subplots import make_subplots\n",
    "\n",
    "from scipy.optimize import minimize\n",
    "from easymh import mh"
   ]
  },
  {
   "cell_type": "code",
   "execution_count": 2,
   "metadata": {},
   "outputs": [],
   "source": [
    "class Law(metaclass=ABCMeta):\n",
    "    @staticmethod\n",
    "    @abstractmethod\n",
    "    def sample(n, d):\n",
    "        pass\n",
    "\n",
    "    @staticmethod\n",
    "    @abstractmethod\n",
    "    def loglikely(n, d, k):\n",
    "        pass\n",
    "   \n",
    "    @staticmethod\n",
    "    def likelihood(n, d, k):\n",
    "        return np.exp(loglikely(n, d, k))\n",
    "\n",
    "\n",
    "class Bin(Law):\n",
    "    def sample(n, d):\n",
    "        return np.random.binomial(n, d)\n",
    "    \n",
    "    def loglikely(n, d, k):\n",
    "        return k*np.log(d) + (n-k)*np.log(1-d)\n",
    " \n",
    "       \n",
    "class Poi(Law):\n",
    "    def sample(n, d):\n",
    "        return np.random.poisson(n*d)\n",
    "    \n",
    "    def loglikely(n, d, k):\n",
    "        return k*np.log(n*d) - n*d - np.sum(np.log(np.arange(k)+1))\n",
    "    \n",
    "\n",
    "class Gau(Law):\n",
    "    def sample(n, d=1):\n",
    "        return n * (1 + 0.1*np.random.randn())\n",
    "    \n",
    "    def loglikely(n, d, k):\n",
    "        return -50 * np.log(k/n)**2 "
   ]
  },
  {
   "cell_type": "code",
   "execution_count": 358,
   "metadata": {},
   "outputs": [],
   "source": [
    "def variation1(x):\n",
    "    return np.mean(np.abs(np.diff(x)))\n",
    "\n",
    "\n",
    "def variation2(x):\n",
    "    return np.sqrt(np.mean(np.diff(x)**2))\n",
    "\n",
    "\n",
    "def elastic_net(x, mu=1):\n",
    "    return (variation1(x) + mu*variation2(x)) / (1+mu)"
   ]
  },
  {
   "cell_type": "code",
   "execution_count": 137,
   "metadata": {},
   "outputs": [],
   "source": [
    "Region = namedtuple('Region', 'S I R Q')\n",
    "Epidemic = namedtuple('Epidemic', 'S I R Q')\n",
    "\n",
    "\n",
    "class Sample:\n",
    "    def __init__(self, epidemic, ts, ms, ns, law, seed=None):\n",
    "        if seed is not None:\n",
    "            np.random.seed(seed)\n",
    "        \n",
    "        positive = np.zeros_like(ts)\n",
    "        for i, (t, m, n) in enumerate(zip(ts, ms, ns)):\n",
    "            positive[i] = law.sample(n, epidemic.I[t]/m)\n",
    "            \n",
    "        self.t = ts\n",
    "        self.m = ms\n",
    "        self.n = ns\n",
    "        self.positive = positive\n",
    "        self._law = law\n",
    "        \n",
    "    def __repr__(self):\n",
    "        return \" t: {} \\n m: {} \\n n: {} \\n positive: {}\".format(self.t, self.m, self.n, self.positive)\n",
    "    \n",
    "    def plot(self, fig):\n",
    "        fig.add_scatter(\n",
    "            x=self.t, y=self.positive / self.n * self.m, \n",
    "            mode=\"markers\", marker_symbol=1, name=\"Guessed\", hovertemplate=\"%{y}\"\n",
    "        )\n",
    "        return fig\n",
    "    \n",
    "\n",
    "class Confirmed:\n",
    "    def __init__(self, epidemic, ts, law=Poi, seed=None):\n",
    "        if seed is not None:\n",
    "            np.random.seed(seed)\n",
    "        \n",
    "        c = np.zeros_like(ts)\n",
    "        for i, t in enumerate(ts):\n",
    "            c[i] = law.sample(epidemic.Q[t], 1)\n",
    "\n",
    "        self.t = ts\n",
    "        self.c = c\n",
    "        \n",
    "    def __repr__(self):\n",
    "        return \" t: {} \\n c: {}\".format(self.t, self.c)\n",
    "    \n",
    "    def plot(self, fig):\n",
    "        fig.add_scatter(\n",
    "            x=self.t, y=self.c, \n",
    "            mode=\"markers\", marker_symbol=2, name=\"Confirmed\", hovertemplate=\"%{y}\"\n",
    "        )\n",
    "        return fig"
   ]
  },
  {
   "cell_type": "code",
   "execution_count": 179,
   "metadata": {},
   "outputs": [],
   "source": [
    "class JumpProcess:\n",
    "    def __init__(self, start, amplitude, wait, horizon, seed=None):\n",
    "        if seed is not None:\n",
    "            np.random.seed(seed)\n",
    "            \n",
    "        process = np.zeros(horizon)\n",
    "        t = 0\n",
    "        while t < horizon:\n",
    "            T = int(np.random.exponential(wait))\n",
    "            process[t:t+T] = start\n",
    "            start *= (1 + np.random.choice([-1, 1]) * amplitude)\n",
    "            t += T\n",
    "            \n",
    "        self.value = process\n",
    "            \n",
    "    def plot(self):\n",
    "        fig = px.scatter(x=range(len(self.value)), y=self.value, hovertemplate=\"%{y}\", line_shape='hv')\n",
    "        fig.update_yaxes(type=\"log\")\n",
    "        return fig"
   ]
  },
  {
   "cell_type": "code",
   "execution_count": 283,
   "metadata": {},
   "outputs": [],
   "source": [
    "class SIRt:\n",
    "    def __init__(self, beta, gamma, dt=1):\n",
    "        if np.isscalar(gamma):\n",
    "            gamma = gamma * np.ones_like(beta)\n",
    "        elif len(beta) != len(gamma):\n",
    "            raise Exception(\"Dimensions not equal.\")\n",
    "            \n",
    "        self.beta = beta * dt\n",
    "        self.gamma = gamma * dt\n",
    "        \n",
    "    def __repr__(self):\n",
    "        fig = go.Figure()\n",
    "        fig.add_scatter(x=np.arange(len(self.beta)), y=self.beta, line_shape='hv', name='β', hovertemplate=\"%{y}\")\n",
    "        fig.add_scatter(x=np.arange(len(self.gamma)), y=self.gamma, line_shape='hv', name='γ', hovertemplate=\"%{y}\")\n",
    "        fig.update_yaxes(type=\"log\")\n",
    "        fig.show()\n",
    "        return \"\"\n",
    "    \n",
    "    def r0(self):\n",
    "        return self.beta / self.gamma\n",
    "    \n",
    "    def estimate(self, region):\n",
    "        T = len(self.beta)\n",
    "        S = np.zeros(T+1)\n",
    "        I = np.zeros(T+1)\n",
    "        R = np.zeros(T+1)\n",
    "        S[0] = region.S\n",
    "        I[0] = region.I\n",
    "        R[0] = region.R\n",
    "        \n",
    "        for t in range(T):\n",
    "            M = S[t] + I[t] + R[t]\n",
    "            a, b = self.beta[t]*S[t]*I[t]/M, self.gamma[t]*I[t]\n",
    "            S[t+1] = S[t] - a\n",
    "            I[t+1] = I[t] + a - b\n",
    "            R[t+1] = R[t] + b        \n",
    "        \n",
    "        return Epidemic(S, I, R, None)\n",
    "\n",
    "    def predict(self, region, T):\n",
    "        S = np.zeros(T+1)\n",
    "        I = np.zeros(T+1)\n",
    "        R = np.zeros(T+1)\n",
    "        S[0] = region.S\n",
    "        I[0] = region.I\n",
    "        R[0] = region.R\n",
    "        \n",
    "        for t in range(T):\n",
    "            M = S[t] + I[t] + R[t]\n",
    "            a, b = self.beta[-1]*S[t]*I[t]/M, self.gamma[-1]*I[t]   # replaced `t` with `-1`\n",
    "            S[t+1] = S[t] - a\n",
    "            I[t+1] = I[t] + a - b\n",
    "            R[t+1] = R[t] + b        \n",
    "        \n",
    "        return Epidemic(S, I, R, None)\n",
    "    \n",
    "    @staticmethod\n",
    "    def plot(epidemic, T0=0, T=None, line=None, fig=None):\n",
    "        if fig is None:\n",
    "            fig = go.Figure()\n",
    "            fig.update_layout(margin=dict(b=0, l=0, r=0, t=25))\n",
    "        if T is None:    \n",
    "            T = len(epidemic.S) - 1 + T0\n",
    "        fig.add_scatter(x=np.arange(T0, T+1), y=epidemic.S.astype(int), name=\"Susceptible\", hovertemplate=\"%{y}\")\n",
    "        fig.add_scatter(x=np.arange(T0, T+1), y=epidemic.I.astype(int), name=\"Infectious\", hovertemplate=\"%{y}\")\n",
    "        fig.add_scatter(x=np.arange(T0, T+1), y=epidemic.R.astype(int), name=\"Removed\", hovertemplate=\"%{y}\")\n",
    "        return fig\n",
    "    \n",
    "    def project(self, region, T):\n",
    "        epidemic = self.estimate(region)\n",
    "        fig = self.plot(epidemic, T0=0)\n",
    "        region = Region(epidemic.S[-1], epidemic.I[-1], epidemic.R[-1], None)\n",
    "        epidemic = self.predict(region, T)\n",
    "        self.plot(epidemic, T0=len(self.beta), fig=fig)\n",
    "        return fig"
   ]
  },
  {
   "cell_type": "code",
   "execution_count": 390,
   "metadata": {},
   "outputs": [],
   "source": [
    "def loglikely(epidemic, sample, law):\n",
    "    ms = sample.m\n",
    "    ns = sample.n\n",
    "    ds = epidemic.I[sample.t] / ms\n",
    "    ks = sample.positive\n",
    "    return sum(law.loglikely(n, d, k) for n, d, k in zip(ns, ds, ks)) / len(sample.t)\n",
    "\n",
    "\n",
    "def likelihood(epidemic, sample, law):\n",
    "    return np.exp(loglikely(epidemic, sample, law))\n",
    "\n",
    "\n",
    "class InferSIRt:\n",
    "    def __init__(self, law_s=Bin, penalty_b=variation1, weight_b=1, algo='map'):\n",
    "        self.law_s = law_s\n",
    "        self.penalty_b = penalty_b\n",
    "        self.weight_b = weight_b\n",
    "        self.algo = algo\n",
    "        self.dynamic = None\n",
    "        self.loglikely = None\n",
    "        \n",
    "    def __str__(self):\n",
    "        fig = go.Figure()\n",
    "        fig.add_scatter(x=np.arange(len(self.beta)), y=self.beta, line_shape='hv', name='β', hovertemplate=\"%{y}\")\n",
    "        fig.update_yaxes(type=\"log\")\n",
    "        fig.show()\n",
    "        return \"γ={}, loglikely={}\".format(self.gamma, self.loglikely)\n",
    "\n",
    "    def fit(self, region, sample, **kvarg):\n",
    "        if self.algo == \"map\":\n",
    "            self.fit_beta_gamma_map(region, sample, **kvarg)\n",
    "        elif self.algo == \"mcmc\":\n",
    "            self.fit_beta_gamma_mh(region, sample, **kvarg)\n",
    "            \n",
    "    def fit_beta_gamma_map(self, region, sample, **kvarg):\n",
    "        def func(x):\n",
    "            dynamic = SIRt(x[1:], x[0])\n",
    "            epidemic = dynamic.estimate(region)\n",
    "            ll = -loglikely(epidemic, sample, self.law_s)\n",
    "            return ll + self.weight_b * self.penalty_b(x[1:])\n",
    "        \n",
    "        x0 = 0.2 * np.ones(sample.t[-1]+1)\n",
    "        res = minimize(func, x0, method='nelder-mead', options={'xatol': 1e-8, 'disp': True, 'maxiter': 100000})\n",
    "        self.dynamic = SIRt(res.x[1:], res.x[0])\n",
    "        self.loglikely = -res.fun\n",
    "\n",
    "    def fit_beta_gamma_mh(self, region, sample, method='naive', **kvarg):\n",
    "        if 'width' not in kvarg:\n",
    "            kvarg['width'] = 0.1\n",
    "        \n",
    "        def func(x):\n",
    "            dynamic = SIRt(x[1:], x[0])\n",
    "            epidemic = dynamic.estimate(region)\n",
    "            l = likelihood(epidemic, sample, self.law_s)\n",
    "            return l * np.exp(-self.weight_b * self.penalty_b(x[1:]))\n",
    "        \n",
    "        def func2(x):\n",
    "            x = np.power(10, x)\n",
    "            dynamic = SIRt(x[1:], x[0])\n",
    "            epidemic = dynamic.estimate(region)\n",
    "            l = likelihood(epidemic, sample, self.law_s) * np.prod(x)\n",
    "            return l * np.exp(-self.weight_b * self.penalty_b(x[1:]))\n",
    "            \n",
    "        T = sample.t[-1]\n",
    "        if method == 'naive':\n",
    "            res, walker = mh([0.5]*(T+1), func, np.tile([0.01, 1], (T+1, 1)), **kvarg)\n",
    "        elif method == 'mirror':\n",
    "            res, walker = mh([0.5]*(T+1), func, np.tile([0.01, 1], (T+1, 1)), ascdes=(np.log, np.exp), **kvarg)\n",
    "        elif method == 'repar':\n",
    "            res, walker = mh([-1]*(T+1), func2, np.tile([-2, 0], (T+1, 1)), **kvarg)\n",
    "            res = np.power(10, res)\n",
    "            walker = np.power(10, walker)\n",
    "\n",
    "        self.dynamic = SIRt(res[1:], res[0])\n",
    "        self.loglikely = np.log(func(res))\n",
    "        self.walker = walker       "
   ]
  },
  {
   "cell_type": "code",
   "execution_count": 335,
   "metadata": {},
   "outputs": [
    {
     "data": {
      "application/vnd.plotly.v1+json": {
       "config": {
        "plotlyServerURL": "https://plot.ly"
       },
       "data": [
        {
         "hovertemplate": "%{y}",
         "line": {
          "shape": "hv"
         },
         "name": "β",
         "type": "scatter",
         "x": [
          0,
          1,
          2,
          3,
          4,
          5,
          6,
          7,
          8,
          9,
          10,
          11,
          12,
          13,
          14,
          15,
          16,
          17,
          18,
          19,
          20,
          21,
          22,
          23,
          24,
          25,
          26,
          27,
          28,
          29,
          30,
          31,
          32,
          33,
          34,
          35,
          36,
          37,
          38,
          39,
          40,
          41,
          42,
          43,
          44,
          45,
          46,
          47,
          48,
          49,
          50,
          51,
          52,
          53,
          54,
          55,
          56,
          57,
          58,
          59,
          60,
          61,
          62,
          63,
          64,
          65,
          66,
          67,
          68,
          69,
          70,
          71,
          72,
          73,
          74,
          75,
          76,
          77,
          78,
          79,
          80,
          81,
          82,
          83,
          84,
          85,
          86,
          87,
          88,
          89,
          90,
          91,
          92,
          93,
          94,
          95,
          96,
          97,
          98,
          99
         ],
         "y": [
          0.2,
          0.2,
          0.2,
          0.2,
          0.2,
          0.2,
          0.2,
          0.24,
          0.24,
          0.24,
          0.24,
          0.24,
          0.24,
          0.24,
          0.24,
          0.24,
          0.24,
          0.24,
          0.24,
          0.24,
          0.24,
          0.24,
          0.24,
          0.24,
          0.24,
          0.288,
          0.288,
          0.288,
          0.288,
          0.288,
          0.288,
          0.288,
          0.3456,
          0.3456,
          0.3456,
          0.3456,
          0.3456,
          0.3456,
          0.3456,
          0.3456,
          0.3456,
          0.27648,
          0.27648,
          0.27648,
          0.27648,
          0.27648,
          0.17694720000000003,
          0.17694720000000003,
          0.17694720000000003,
          0.17694720000000003,
          0.14155776000000003,
          0.14155776000000003,
          0.14155776000000003,
          0.14155776000000003,
          0.14155776000000003,
          0.14155776000000003,
          0.14155776000000003,
          0.14155776000000003,
          0.14155776000000003,
          0.14155776000000003,
          0.14155776000000003,
          0.14155776000000003,
          0.14155776000000003,
          0.14155776000000003,
          0.14155776000000003,
          0.14155776000000003,
          0.11324620800000003,
          0.11324620800000003,
          0.11324620800000003,
          0.11324620800000003,
          0.11324620800000003,
          0.11324620800000003,
          0.11324620800000003,
          0.11324620800000003,
          0.13589544960000002,
          0.13589544960000002,
          0.13589544960000002,
          0.13589544960000002,
          0.13589544960000002,
          0.13589544960000002,
          0.13589544960000002,
          0.13589544960000002,
          0.13589544960000002,
          0.13589544960000002,
          0.13589544960000002,
          0.13589544960000002,
          0.13589544960000002,
          0.13589544960000002,
          0.13589544960000002,
          0.13589544960000002,
          0.13589544960000002,
          0.13589544960000002,
          0.13045963161600002,
          0.13045963161600002,
          0.13045963161600002,
          0.13045963161600002,
          0.15655155793920006,
          0.15655155793920006,
          0.15655155793920006,
          0.15655155793920006
         ]
        },
        {
         "hovertemplate": "%{y}",
         "line": {
          "shape": "hv"
         },
         "name": "γ",
         "type": "scatter",
         "x": [
          0,
          1,
          2,
          3,
          4,
          5,
          6,
          7,
          8,
          9,
          10,
          11,
          12,
          13,
          14,
          15,
          16,
          17,
          18,
          19,
          20,
          21,
          22,
          23,
          24,
          25,
          26,
          27,
          28,
          29,
          30,
          31,
          32,
          33,
          34,
          35,
          36,
          37,
          38,
          39,
          40,
          41,
          42,
          43,
          44,
          45,
          46,
          47,
          48,
          49,
          50,
          51,
          52,
          53,
          54,
          55,
          56,
          57,
          58,
          59,
          60,
          61,
          62,
          63,
          64,
          65,
          66,
          67,
          68,
          69,
          70,
          71,
          72,
          73,
          74,
          75,
          76,
          77,
          78,
          79,
          80,
          81,
          82,
          83,
          84,
          85,
          86,
          87,
          88,
          89,
          90,
          91,
          92,
          93,
          94,
          95,
          96,
          97,
          98,
          99
         ],
         "y": [
          0.1,
          0.1,
          0.1,
          0.1,
          0.1,
          0.098,
          0.098,
          0.098,
          0.098,
          0.098,
          0.098,
          0.098,
          0.098,
          0.098,
          0.098,
          0.098,
          0.098,
          0.098,
          0.098,
          0.098,
          0.098,
          0.098,
          0.098,
          0.098,
          0.098,
          0.098,
          0.098,
          0.098,
          0.098,
          0.098,
          0.098,
          0.09996000000000001,
          0.09996000000000001,
          0.09996000000000001,
          0.10195920000000001,
          0.10195920000000001,
          0.10399838400000001,
          0.10399838400000001,
          0.10607835168000002,
          0.10607835168000002,
          0.10607835168000002,
          0.10607835168000002,
          0.10607835168000002,
          0.10607835168000002,
          0.10607835168000002,
          0.10607835168000002,
          0.10607835168000002,
          0.10607835168000002,
          0.10607835168000002,
          0.10819991871360002,
          0.10819991871360002,
          0.10819991871360002,
          0.10819991871360002,
          0.10819991871360002,
          0.10819991871360002,
          0.10819991871360002,
          0.10603592033932803,
          0.10603592033932803,
          0.10603592033932803,
          0.10391520193254147,
          0.10391520193254147,
          0.10183689789389064,
          0.10183689789389064,
          0.09980015993601282,
          0.09980015993601282,
          0.09980015993601282,
          0.09980015993601282,
          0.09980015993601282,
          0.09980015993601282,
          0.09980015993601282,
          0.09980015993601282,
          0.09980015993601282,
          0.09980015993601282,
          0.09980015993601282,
          0.10179616313473308,
          0.10179616313473308,
          0.10179616313473308,
          0.10179616313473308,
          0.10179616313473308,
          0.10179616313473308,
          0.10383208639742775,
          0.1017554446694792,
          0.1017554446694792,
          0.1017554446694792,
          0.1017554446694792,
          0.1017554446694792,
          0.1017554446694792,
          0.1017554446694792,
          0.1017554446694792,
          0.1017554446694792,
          0.1017554446694792,
          0.1017554446694792,
          0.1017554446694792,
          0.1017554446694792,
          0.1017554446694792,
          0.1017554446694792,
          0.10379055356286877,
          0.10379055356286877,
          0.10379055356286877,
          0.10379055356286877
         ]
        }
       ],
       "layout": {
        "template": {
         "data": {
          "bar": [
           {
            "error_x": {
             "color": "#2a3f5f"
            },
            "error_y": {
             "color": "#2a3f5f"
            },
            "marker": {
             "line": {
              "color": "#E5ECF6",
              "width": 0.5
             }
            },
            "type": "bar"
           }
          ],
          "barpolar": [
           {
            "marker": {
             "line": {
              "color": "#E5ECF6",
              "width": 0.5
             }
            },
            "type": "barpolar"
           }
          ],
          "carpet": [
           {
            "aaxis": {
             "endlinecolor": "#2a3f5f",
             "gridcolor": "white",
             "linecolor": "white",
             "minorgridcolor": "white",
             "startlinecolor": "#2a3f5f"
            },
            "baxis": {
             "endlinecolor": "#2a3f5f",
             "gridcolor": "white",
             "linecolor": "white",
             "minorgridcolor": "white",
             "startlinecolor": "#2a3f5f"
            },
            "type": "carpet"
           }
          ],
          "choropleth": [
           {
            "colorbar": {
             "outlinewidth": 0,
             "ticks": ""
            },
            "type": "choropleth"
           }
          ],
          "contour": [
           {
            "colorbar": {
             "outlinewidth": 0,
             "ticks": ""
            },
            "colorscale": [
             [
              0,
              "#0d0887"
             ],
             [
              0.1111111111111111,
              "#46039f"
             ],
             [
              0.2222222222222222,
              "#7201a8"
             ],
             [
              0.3333333333333333,
              "#9c179e"
             ],
             [
              0.4444444444444444,
              "#bd3786"
             ],
             [
              0.5555555555555556,
              "#d8576b"
             ],
             [
              0.6666666666666666,
              "#ed7953"
             ],
             [
              0.7777777777777778,
              "#fb9f3a"
             ],
             [
              0.8888888888888888,
              "#fdca26"
             ],
             [
              1,
              "#f0f921"
             ]
            ],
            "type": "contour"
           }
          ],
          "contourcarpet": [
           {
            "colorbar": {
             "outlinewidth": 0,
             "ticks": ""
            },
            "type": "contourcarpet"
           }
          ],
          "heatmap": [
           {
            "colorbar": {
             "outlinewidth": 0,
             "ticks": ""
            },
            "colorscale": [
             [
              0,
              "#0d0887"
             ],
             [
              0.1111111111111111,
              "#46039f"
             ],
             [
              0.2222222222222222,
              "#7201a8"
             ],
             [
              0.3333333333333333,
              "#9c179e"
             ],
             [
              0.4444444444444444,
              "#bd3786"
             ],
             [
              0.5555555555555556,
              "#d8576b"
             ],
             [
              0.6666666666666666,
              "#ed7953"
             ],
             [
              0.7777777777777778,
              "#fb9f3a"
             ],
             [
              0.8888888888888888,
              "#fdca26"
             ],
             [
              1,
              "#f0f921"
             ]
            ],
            "type": "heatmap"
           }
          ],
          "heatmapgl": [
           {
            "colorbar": {
             "outlinewidth": 0,
             "ticks": ""
            },
            "colorscale": [
             [
              0,
              "#0d0887"
             ],
             [
              0.1111111111111111,
              "#46039f"
             ],
             [
              0.2222222222222222,
              "#7201a8"
             ],
             [
              0.3333333333333333,
              "#9c179e"
             ],
             [
              0.4444444444444444,
              "#bd3786"
             ],
             [
              0.5555555555555556,
              "#d8576b"
             ],
             [
              0.6666666666666666,
              "#ed7953"
             ],
             [
              0.7777777777777778,
              "#fb9f3a"
             ],
             [
              0.8888888888888888,
              "#fdca26"
             ],
             [
              1,
              "#f0f921"
             ]
            ],
            "type": "heatmapgl"
           }
          ],
          "histogram": [
           {
            "marker": {
             "colorbar": {
              "outlinewidth": 0,
              "ticks": ""
             }
            },
            "type": "histogram"
           }
          ],
          "histogram2d": [
           {
            "colorbar": {
             "outlinewidth": 0,
             "ticks": ""
            },
            "colorscale": [
             [
              0,
              "#0d0887"
             ],
             [
              0.1111111111111111,
              "#46039f"
             ],
             [
              0.2222222222222222,
              "#7201a8"
             ],
             [
              0.3333333333333333,
              "#9c179e"
             ],
             [
              0.4444444444444444,
              "#bd3786"
             ],
             [
              0.5555555555555556,
              "#d8576b"
             ],
             [
              0.6666666666666666,
              "#ed7953"
             ],
             [
              0.7777777777777778,
              "#fb9f3a"
             ],
             [
              0.8888888888888888,
              "#fdca26"
             ],
             [
              1,
              "#f0f921"
             ]
            ],
            "type": "histogram2d"
           }
          ],
          "histogram2dcontour": [
           {
            "colorbar": {
             "outlinewidth": 0,
             "ticks": ""
            },
            "colorscale": [
             [
              0,
              "#0d0887"
             ],
             [
              0.1111111111111111,
              "#46039f"
             ],
             [
              0.2222222222222222,
              "#7201a8"
             ],
             [
              0.3333333333333333,
              "#9c179e"
             ],
             [
              0.4444444444444444,
              "#bd3786"
             ],
             [
              0.5555555555555556,
              "#d8576b"
             ],
             [
              0.6666666666666666,
              "#ed7953"
             ],
             [
              0.7777777777777778,
              "#fb9f3a"
             ],
             [
              0.8888888888888888,
              "#fdca26"
             ],
             [
              1,
              "#f0f921"
             ]
            ],
            "type": "histogram2dcontour"
           }
          ],
          "mesh3d": [
           {
            "colorbar": {
             "outlinewidth": 0,
             "ticks": ""
            },
            "type": "mesh3d"
           }
          ],
          "parcoords": [
           {
            "line": {
             "colorbar": {
              "outlinewidth": 0,
              "ticks": ""
             }
            },
            "type": "parcoords"
           }
          ],
          "pie": [
           {
            "automargin": true,
            "type": "pie"
           }
          ],
          "scatter": [
           {
            "marker": {
             "colorbar": {
              "outlinewidth": 0,
              "ticks": ""
             }
            },
            "type": "scatter"
           }
          ],
          "scatter3d": [
           {
            "line": {
             "colorbar": {
              "outlinewidth": 0,
              "ticks": ""
             }
            },
            "marker": {
             "colorbar": {
              "outlinewidth": 0,
              "ticks": ""
             }
            },
            "type": "scatter3d"
           }
          ],
          "scattercarpet": [
           {
            "marker": {
             "colorbar": {
              "outlinewidth": 0,
              "ticks": ""
             }
            },
            "type": "scattercarpet"
           }
          ],
          "scattergeo": [
           {
            "marker": {
             "colorbar": {
              "outlinewidth": 0,
              "ticks": ""
             }
            },
            "type": "scattergeo"
           }
          ],
          "scattergl": [
           {
            "marker": {
             "colorbar": {
              "outlinewidth": 0,
              "ticks": ""
             }
            },
            "type": "scattergl"
           }
          ],
          "scattermapbox": [
           {
            "marker": {
             "colorbar": {
              "outlinewidth": 0,
              "ticks": ""
             }
            },
            "type": "scattermapbox"
           }
          ],
          "scatterpolar": [
           {
            "marker": {
             "colorbar": {
              "outlinewidth": 0,
              "ticks": ""
             }
            },
            "type": "scatterpolar"
           }
          ],
          "scatterpolargl": [
           {
            "marker": {
             "colorbar": {
              "outlinewidth": 0,
              "ticks": ""
             }
            },
            "type": "scatterpolargl"
           }
          ],
          "scatterternary": [
           {
            "marker": {
             "colorbar": {
              "outlinewidth": 0,
              "ticks": ""
             }
            },
            "type": "scatterternary"
           }
          ],
          "surface": [
           {
            "colorbar": {
             "outlinewidth": 0,
             "ticks": ""
            },
            "colorscale": [
             [
              0,
              "#0d0887"
             ],
             [
              0.1111111111111111,
              "#46039f"
             ],
             [
              0.2222222222222222,
              "#7201a8"
             ],
             [
              0.3333333333333333,
              "#9c179e"
             ],
             [
              0.4444444444444444,
              "#bd3786"
             ],
             [
              0.5555555555555556,
              "#d8576b"
             ],
             [
              0.6666666666666666,
              "#ed7953"
             ],
             [
              0.7777777777777778,
              "#fb9f3a"
             ],
             [
              0.8888888888888888,
              "#fdca26"
             ],
             [
              1,
              "#f0f921"
             ]
            ],
            "type": "surface"
           }
          ],
          "table": [
           {
            "cells": {
             "fill": {
              "color": "#EBF0F8"
             },
             "line": {
              "color": "white"
             }
            },
            "header": {
             "fill": {
              "color": "#C8D4E3"
             },
             "line": {
              "color": "white"
             }
            },
            "type": "table"
           }
          ]
         },
         "layout": {
          "annotationdefaults": {
           "arrowcolor": "#2a3f5f",
           "arrowhead": 0,
           "arrowwidth": 1
          },
          "coloraxis": {
           "colorbar": {
            "outlinewidth": 0,
            "ticks": ""
           }
          },
          "colorscale": {
           "diverging": [
            [
             0,
             "#8e0152"
            ],
            [
             0.1,
             "#c51b7d"
            ],
            [
             0.2,
             "#de77ae"
            ],
            [
             0.3,
             "#f1b6da"
            ],
            [
             0.4,
             "#fde0ef"
            ],
            [
             0.5,
             "#f7f7f7"
            ],
            [
             0.6,
             "#e6f5d0"
            ],
            [
             0.7,
             "#b8e186"
            ],
            [
             0.8,
             "#7fbc41"
            ],
            [
             0.9,
             "#4d9221"
            ],
            [
             1,
             "#276419"
            ]
           ],
           "sequential": [
            [
             0,
             "#0d0887"
            ],
            [
             0.1111111111111111,
             "#46039f"
            ],
            [
             0.2222222222222222,
             "#7201a8"
            ],
            [
             0.3333333333333333,
             "#9c179e"
            ],
            [
             0.4444444444444444,
             "#bd3786"
            ],
            [
             0.5555555555555556,
             "#d8576b"
            ],
            [
             0.6666666666666666,
             "#ed7953"
            ],
            [
             0.7777777777777778,
             "#fb9f3a"
            ],
            [
             0.8888888888888888,
             "#fdca26"
            ],
            [
             1,
             "#f0f921"
            ]
           ],
           "sequentialminus": [
            [
             0,
             "#0d0887"
            ],
            [
             0.1111111111111111,
             "#46039f"
            ],
            [
             0.2222222222222222,
             "#7201a8"
            ],
            [
             0.3333333333333333,
             "#9c179e"
            ],
            [
             0.4444444444444444,
             "#bd3786"
            ],
            [
             0.5555555555555556,
             "#d8576b"
            ],
            [
             0.6666666666666666,
             "#ed7953"
            ],
            [
             0.7777777777777778,
             "#fb9f3a"
            ],
            [
             0.8888888888888888,
             "#fdca26"
            ],
            [
             1,
             "#f0f921"
            ]
           ]
          },
          "colorway": [
           "#636efa",
           "#EF553B",
           "#00cc96",
           "#ab63fa",
           "#FFA15A",
           "#19d3f3",
           "#FF6692",
           "#B6E880",
           "#FF97FF",
           "#FECB52"
          ],
          "font": {
           "color": "#2a3f5f"
          },
          "geo": {
           "bgcolor": "white",
           "lakecolor": "white",
           "landcolor": "#E5ECF6",
           "showlakes": true,
           "showland": true,
           "subunitcolor": "white"
          },
          "hoverlabel": {
           "align": "left"
          },
          "hovermode": "closest",
          "mapbox": {
           "style": "light"
          },
          "paper_bgcolor": "white",
          "plot_bgcolor": "#E5ECF6",
          "polar": {
           "angularaxis": {
            "gridcolor": "white",
            "linecolor": "white",
            "ticks": ""
           },
           "bgcolor": "#E5ECF6",
           "radialaxis": {
            "gridcolor": "white",
            "linecolor": "white",
            "ticks": ""
           }
          },
          "scene": {
           "xaxis": {
            "backgroundcolor": "#E5ECF6",
            "gridcolor": "white",
            "gridwidth": 2,
            "linecolor": "white",
            "showbackground": true,
            "ticks": "",
            "zerolinecolor": "white"
           },
           "yaxis": {
            "backgroundcolor": "#E5ECF6",
            "gridcolor": "white",
            "gridwidth": 2,
            "linecolor": "white",
            "showbackground": true,
            "ticks": "",
            "zerolinecolor": "white"
           },
           "zaxis": {
            "backgroundcolor": "#E5ECF6",
            "gridcolor": "white",
            "gridwidth": 2,
            "linecolor": "white",
            "showbackground": true,
            "ticks": "",
            "zerolinecolor": "white"
           }
          },
          "shapedefaults": {
           "line": {
            "color": "#2a3f5f"
           }
          },
          "ternary": {
           "aaxis": {
            "gridcolor": "white",
            "linecolor": "white",
            "ticks": ""
           },
           "baxis": {
            "gridcolor": "white",
            "linecolor": "white",
            "ticks": ""
           },
           "bgcolor": "#E5ECF6",
           "caxis": {
            "gridcolor": "white",
            "linecolor": "white",
            "ticks": ""
           }
          },
          "title": {
           "x": 0.05
          },
          "xaxis": {
           "automargin": true,
           "gridcolor": "white",
           "linecolor": "white",
           "ticks": "",
           "title": {
            "standoff": 15
           },
           "zerolinecolor": "white",
           "zerolinewidth": 2
          },
          "yaxis": {
           "automargin": true,
           "gridcolor": "white",
           "linecolor": "white",
           "ticks": "",
           "title": {
            "standoff": 15
           },
           "zerolinecolor": "white",
           "zerolinewidth": 2
          }
         }
        },
        "yaxis": {
         "type": "log"
        }
       }
      },
      "text/html": [
       "<div>\n",
       "        \n",
       "        \n",
       "            <div id=\"3412fc9b-5098-4dd2-890e-2b6eb2b3ce02\" class=\"plotly-graph-div\" style=\"height:525px; width:100%;\"></div>\n",
       "            <script type=\"text/javascript\">\n",
       "                require([\"plotly\"], function(Plotly) {\n",
       "                    window.PLOTLYENV=window.PLOTLYENV || {};\n",
       "                    \n",
       "                if (document.getElementById(\"3412fc9b-5098-4dd2-890e-2b6eb2b3ce02\")) {\n",
       "                    Plotly.newPlot(\n",
       "                        '3412fc9b-5098-4dd2-890e-2b6eb2b3ce02',\n",
       "                        [{\"hovertemplate\": \"%{y}\", \"line\": {\"shape\": \"hv\"}, \"name\": \"\\u03b2\", \"type\": \"scatter\", \"x\": [0, 1, 2, 3, 4, 5, 6, 7, 8, 9, 10, 11, 12, 13, 14, 15, 16, 17, 18, 19, 20, 21, 22, 23, 24, 25, 26, 27, 28, 29, 30, 31, 32, 33, 34, 35, 36, 37, 38, 39, 40, 41, 42, 43, 44, 45, 46, 47, 48, 49, 50, 51, 52, 53, 54, 55, 56, 57, 58, 59, 60, 61, 62, 63, 64, 65, 66, 67, 68, 69, 70, 71, 72, 73, 74, 75, 76, 77, 78, 79, 80, 81, 82, 83, 84, 85, 86, 87, 88, 89, 90, 91, 92, 93, 94, 95, 96, 97, 98, 99], \"y\": [0.2, 0.2, 0.2, 0.2, 0.2, 0.2, 0.2, 0.24, 0.24, 0.24, 0.24, 0.24, 0.24, 0.24, 0.24, 0.24, 0.24, 0.24, 0.24, 0.24, 0.24, 0.24, 0.24, 0.24, 0.24, 0.288, 0.288, 0.288, 0.288, 0.288, 0.288, 0.288, 0.3456, 0.3456, 0.3456, 0.3456, 0.3456, 0.3456, 0.3456, 0.3456, 0.3456, 0.27648, 0.27648, 0.27648, 0.27648, 0.27648, 0.17694720000000003, 0.17694720000000003, 0.17694720000000003, 0.17694720000000003, 0.14155776000000003, 0.14155776000000003, 0.14155776000000003, 0.14155776000000003, 0.14155776000000003, 0.14155776000000003, 0.14155776000000003, 0.14155776000000003, 0.14155776000000003, 0.14155776000000003, 0.14155776000000003, 0.14155776000000003, 0.14155776000000003, 0.14155776000000003, 0.14155776000000003, 0.14155776000000003, 0.11324620800000003, 0.11324620800000003, 0.11324620800000003, 0.11324620800000003, 0.11324620800000003, 0.11324620800000003, 0.11324620800000003, 0.11324620800000003, 0.13589544960000002, 0.13589544960000002, 0.13589544960000002, 0.13589544960000002, 0.13589544960000002, 0.13589544960000002, 0.13589544960000002, 0.13589544960000002, 0.13589544960000002, 0.13589544960000002, 0.13589544960000002, 0.13589544960000002, 0.13589544960000002, 0.13589544960000002, 0.13589544960000002, 0.13589544960000002, 0.13589544960000002, 0.13589544960000002, 0.13045963161600002, 0.13045963161600002, 0.13045963161600002, 0.13045963161600002, 0.15655155793920006, 0.15655155793920006, 0.15655155793920006, 0.15655155793920006]}, {\"hovertemplate\": \"%{y}\", \"line\": {\"shape\": \"hv\"}, \"name\": \"\\u03b3\", \"type\": \"scatter\", \"x\": [0, 1, 2, 3, 4, 5, 6, 7, 8, 9, 10, 11, 12, 13, 14, 15, 16, 17, 18, 19, 20, 21, 22, 23, 24, 25, 26, 27, 28, 29, 30, 31, 32, 33, 34, 35, 36, 37, 38, 39, 40, 41, 42, 43, 44, 45, 46, 47, 48, 49, 50, 51, 52, 53, 54, 55, 56, 57, 58, 59, 60, 61, 62, 63, 64, 65, 66, 67, 68, 69, 70, 71, 72, 73, 74, 75, 76, 77, 78, 79, 80, 81, 82, 83, 84, 85, 86, 87, 88, 89, 90, 91, 92, 93, 94, 95, 96, 97, 98, 99], \"y\": [0.1, 0.1, 0.1, 0.1, 0.1, 0.098, 0.098, 0.098, 0.098, 0.098, 0.098, 0.098, 0.098, 0.098, 0.098, 0.098, 0.098, 0.098, 0.098, 0.098, 0.098, 0.098, 0.098, 0.098, 0.098, 0.098, 0.098, 0.098, 0.098, 0.098, 0.098, 0.09996000000000001, 0.09996000000000001, 0.09996000000000001, 0.10195920000000001, 0.10195920000000001, 0.10399838400000001, 0.10399838400000001, 0.10607835168000002, 0.10607835168000002, 0.10607835168000002, 0.10607835168000002, 0.10607835168000002, 0.10607835168000002, 0.10607835168000002, 0.10607835168000002, 0.10607835168000002, 0.10607835168000002, 0.10607835168000002, 0.10819991871360002, 0.10819991871360002, 0.10819991871360002, 0.10819991871360002, 0.10819991871360002, 0.10819991871360002, 0.10819991871360002, 0.10603592033932803, 0.10603592033932803, 0.10603592033932803, 0.10391520193254147, 0.10391520193254147, 0.10183689789389064, 0.10183689789389064, 0.09980015993601282, 0.09980015993601282, 0.09980015993601282, 0.09980015993601282, 0.09980015993601282, 0.09980015993601282, 0.09980015993601282, 0.09980015993601282, 0.09980015993601282, 0.09980015993601282, 0.09980015993601282, 0.10179616313473308, 0.10179616313473308, 0.10179616313473308, 0.10179616313473308, 0.10179616313473308, 0.10179616313473308, 0.10383208639742775, 0.1017554446694792, 0.1017554446694792, 0.1017554446694792, 0.1017554446694792, 0.1017554446694792, 0.1017554446694792, 0.1017554446694792, 0.1017554446694792, 0.1017554446694792, 0.1017554446694792, 0.1017554446694792, 0.1017554446694792, 0.1017554446694792, 0.1017554446694792, 0.1017554446694792, 0.10379055356286877, 0.10379055356286877, 0.10379055356286877, 0.10379055356286877]}],\n",
       "                        {\"template\": {\"data\": {\"bar\": [{\"error_x\": {\"color\": \"#2a3f5f\"}, \"error_y\": {\"color\": \"#2a3f5f\"}, \"marker\": {\"line\": {\"color\": \"#E5ECF6\", \"width\": 0.5}}, \"type\": \"bar\"}], \"barpolar\": [{\"marker\": {\"line\": {\"color\": \"#E5ECF6\", \"width\": 0.5}}, \"type\": \"barpolar\"}], \"carpet\": [{\"aaxis\": {\"endlinecolor\": \"#2a3f5f\", \"gridcolor\": \"white\", \"linecolor\": \"white\", \"minorgridcolor\": \"white\", \"startlinecolor\": \"#2a3f5f\"}, \"baxis\": {\"endlinecolor\": \"#2a3f5f\", \"gridcolor\": \"white\", \"linecolor\": \"white\", \"minorgridcolor\": \"white\", \"startlinecolor\": \"#2a3f5f\"}, \"type\": \"carpet\"}], \"choropleth\": [{\"colorbar\": {\"outlinewidth\": 0, \"ticks\": \"\"}, \"type\": \"choropleth\"}], \"contour\": [{\"colorbar\": {\"outlinewidth\": 0, \"ticks\": \"\"}, \"colorscale\": [[0.0, \"#0d0887\"], [0.1111111111111111, \"#46039f\"], [0.2222222222222222, \"#7201a8\"], [0.3333333333333333, \"#9c179e\"], [0.4444444444444444, \"#bd3786\"], [0.5555555555555556, \"#d8576b\"], [0.6666666666666666, \"#ed7953\"], [0.7777777777777778, \"#fb9f3a\"], [0.8888888888888888, \"#fdca26\"], [1.0, \"#f0f921\"]], \"type\": \"contour\"}], \"contourcarpet\": [{\"colorbar\": {\"outlinewidth\": 0, \"ticks\": \"\"}, \"type\": \"contourcarpet\"}], \"heatmap\": [{\"colorbar\": {\"outlinewidth\": 0, \"ticks\": \"\"}, \"colorscale\": [[0.0, \"#0d0887\"], [0.1111111111111111, \"#46039f\"], [0.2222222222222222, \"#7201a8\"], [0.3333333333333333, \"#9c179e\"], [0.4444444444444444, \"#bd3786\"], [0.5555555555555556, \"#d8576b\"], [0.6666666666666666, \"#ed7953\"], [0.7777777777777778, \"#fb9f3a\"], [0.8888888888888888, \"#fdca26\"], [1.0, \"#f0f921\"]], \"type\": \"heatmap\"}], \"heatmapgl\": [{\"colorbar\": {\"outlinewidth\": 0, \"ticks\": \"\"}, \"colorscale\": [[0.0, \"#0d0887\"], [0.1111111111111111, \"#46039f\"], [0.2222222222222222, \"#7201a8\"], [0.3333333333333333, \"#9c179e\"], [0.4444444444444444, \"#bd3786\"], [0.5555555555555556, \"#d8576b\"], [0.6666666666666666, \"#ed7953\"], [0.7777777777777778, \"#fb9f3a\"], [0.8888888888888888, \"#fdca26\"], [1.0, \"#f0f921\"]], \"type\": \"heatmapgl\"}], \"histogram\": [{\"marker\": {\"colorbar\": {\"outlinewidth\": 0, \"ticks\": \"\"}}, \"type\": \"histogram\"}], \"histogram2d\": [{\"colorbar\": {\"outlinewidth\": 0, \"ticks\": \"\"}, \"colorscale\": [[0.0, \"#0d0887\"], [0.1111111111111111, \"#46039f\"], [0.2222222222222222, \"#7201a8\"], [0.3333333333333333, \"#9c179e\"], [0.4444444444444444, \"#bd3786\"], [0.5555555555555556, \"#d8576b\"], [0.6666666666666666, \"#ed7953\"], [0.7777777777777778, \"#fb9f3a\"], [0.8888888888888888, \"#fdca26\"], [1.0, \"#f0f921\"]], \"type\": \"histogram2d\"}], \"histogram2dcontour\": [{\"colorbar\": {\"outlinewidth\": 0, \"ticks\": \"\"}, \"colorscale\": [[0.0, \"#0d0887\"], [0.1111111111111111, \"#46039f\"], [0.2222222222222222, \"#7201a8\"], [0.3333333333333333, \"#9c179e\"], [0.4444444444444444, \"#bd3786\"], [0.5555555555555556, \"#d8576b\"], [0.6666666666666666, \"#ed7953\"], [0.7777777777777778, \"#fb9f3a\"], [0.8888888888888888, \"#fdca26\"], [1.0, \"#f0f921\"]], \"type\": \"histogram2dcontour\"}], \"mesh3d\": [{\"colorbar\": {\"outlinewidth\": 0, \"ticks\": \"\"}, \"type\": \"mesh3d\"}], \"parcoords\": [{\"line\": {\"colorbar\": {\"outlinewidth\": 0, \"ticks\": \"\"}}, \"type\": \"parcoords\"}], \"pie\": [{\"automargin\": true, \"type\": \"pie\"}], \"scatter\": [{\"marker\": {\"colorbar\": {\"outlinewidth\": 0, \"ticks\": \"\"}}, \"type\": \"scatter\"}], \"scatter3d\": [{\"line\": {\"colorbar\": {\"outlinewidth\": 0, \"ticks\": \"\"}}, \"marker\": {\"colorbar\": {\"outlinewidth\": 0, \"ticks\": \"\"}}, \"type\": \"scatter3d\"}], \"scattercarpet\": [{\"marker\": {\"colorbar\": {\"outlinewidth\": 0, \"ticks\": \"\"}}, \"type\": \"scattercarpet\"}], \"scattergeo\": [{\"marker\": {\"colorbar\": {\"outlinewidth\": 0, \"ticks\": \"\"}}, \"type\": \"scattergeo\"}], \"scattergl\": [{\"marker\": {\"colorbar\": {\"outlinewidth\": 0, \"ticks\": \"\"}}, \"type\": \"scattergl\"}], \"scattermapbox\": [{\"marker\": {\"colorbar\": {\"outlinewidth\": 0, \"ticks\": \"\"}}, \"type\": \"scattermapbox\"}], \"scatterpolar\": [{\"marker\": {\"colorbar\": {\"outlinewidth\": 0, \"ticks\": \"\"}}, \"type\": \"scatterpolar\"}], \"scatterpolargl\": [{\"marker\": {\"colorbar\": {\"outlinewidth\": 0, \"ticks\": \"\"}}, \"type\": \"scatterpolargl\"}], \"scatterternary\": [{\"marker\": {\"colorbar\": {\"outlinewidth\": 0, \"ticks\": \"\"}}, \"type\": \"scatterternary\"}], \"surface\": [{\"colorbar\": {\"outlinewidth\": 0, \"ticks\": \"\"}, \"colorscale\": [[0.0, \"#0d0887\"], [0.1111111111111111, \"#46039f\"], [0.2222222222222222, \"#7201a8\"], [0.3333333333333333, \"#9c179e\"], [0.4444444444444444, \"#bd3786\"], [0.5555555555555556, \"#d8576b\"], [0.6666666666666666, \"#ed7953\"], [0.7777777777777778, \"#fb9f3a\"], [0.8888888888888888, \"#fdca26\"], [1.0, \"#f0f921\"]], \"type\": \"surface\"}], \"table\": [{\"cells\": {\"fill\": {\"color\": \"#EBF0F8\"}, \"line\": {\"color\": \"white\"}}, \"header\": {\"fill\": {\"color\": \"#C8D4E3\"}, \"line\": {\"color\": \"white\"}}, \"type\": \"table\"}]}, \"layout\": {\"annotationdefaults\": {\"arrowcolor\": \"#2a3f5f\", \"arrowhead\": 0, \"arrowwidth\": 1}, \"coloraxis\": {\"colorbar\": {\"outlinewidth\": 0, \"ticks\": \"\"}}, \"colorscale\": {\"diverging\": [[0, \"#8e0152\"], [0.1, \"#c51b7d\"], [0.2, \"#de77ae\"], [0.3, \"#f1b6da\"], [0.4, \"#fde0ef\"], [0.5, \"#f7f7f7\"], [0.6, \"#e6f5d0\"], [0.7, \"#b8e186\"], [0.8, \"#7fbc41\"], [0.9, \"#4d9221\"], [1, \"#276419\"]], \"sequential\": [[0.0, \"#0d0887\"], [0.1111111111111111, \"#46039f\"], [0.2222222222222222, \"#7201a8\"], [0.3333333333333333, \"#9c179e\"], [0.4444444444444444, \"#bd3786\"], [0.5555555555555556, \"#d8576b\"], [0.6666666666666666, \"#ed7953\"], [0.7777777777777778, \"#fb9f3a\"], [0.8888888888888888, \"#fdca26\"], [1.0, \"#f0f921\"]], \"sequentialminus\": [[0.0, \"#0d0887\"], [0.1111111111111111, \"#46039f\"], [0.2222222222222222, \"#7201a8\"], [0.3333333333333333, \"#9c179e\"], [0.4444444444444444, \"#bd3786\"], [0.5555555555555556, \"#d8576b\"], [0.6666666666666666, \"#ed7953\"], [0.7777777777777778, \"#fb9f3a\"], [0.8888888888888888, \"#fdca26\"], [1.0, \"#f0f921\"]]}, \"colorway\": [\"#636efa\", \"#EF553B\", \"#00cc96\", \"#ab63fa\", \"#FFA15A\", \"#19d3f3\", \"#FF6692\", \"#B6E880\", \"#FF97FF\", \"#FECB52\"], \"font\": {\"color\": \"#2a3f5f\"}, \"geo\": {\"bgcolor\": \"white\", \"lakecolor\": \"white\", \"landcolor\": \"#E5ECF6\", \"showlakes\": true, \"showland\": true, \"subunitcolor\": \"white\"}, \"hoverlabel\": {\"align\": \"left\"}, \"hovermode\": \"closest\", \"mapbox\": {\"style\": \"light\"}, \"paper_bgcolor\": \"white\", \"plot_bgcolor\": \"#E5ECF6\", \"polar\": {\"angularaxis\": {\"gridcolor\": \"white\", \"linecolor\": \"white\", \"ticks\": \"\"}, \"bgcolor\": \"#E5ECF6\", \"radialaxis\": {\"gridcolor\": \"white\", \"linecolor\": \"white\", \"ticks\": \"\"}}, \"scene\": {\"xaxis\": {\"backgroundcolor\": \"#E5ECF6\", \"gridcolor\": \"white\", \"gridwidth\": 2, \"linecolor\": \"white\", \"showbackground\": true, \"ticks\": \"\", \"zerolinecolor\": \"white\"}, \"yaxis\": {\"backgroundcolor\": \"#E5ECF6\", \"gridcolor\": \"white\", \"gridwidth\": 2, \"linecolor\": \"white\", \"showbackground\": true, \"ticks\": \"\", \"zerolinecolor\": \"white\"}, \"zaxis\": {\"backgroundcolor\": \"#E5ECF6\", \"gridcolor\": \"white\", \"gridwidth\": 2, \"linecolor\": \"white\", \"showbackground\": true, \"ticks\": \"\", \"zerolinecolor\": \"white\"}}, \"shapedefaults\": {\"line\": {\"color\": \"#2a3f5f\"}}, \"ternary\": {\"aaxis\": {\"gridcolor\": \"white\", \"linecolor\": \"white\", \"ticks\": \"\"}, \"baxis\": {\"gridcolor\": \"white\", \"linecolor\": \"white\", \"ticks\": \"\"}, \"bgcolor\": \"#E5ECF6\", \"caxis\": {\"gridcolor\": \"white\", \"linecolor\": \"white\", \"ticks\": \"\"}}, \"title\": {\"x\": 0.05}, \"xaxis\": {\"automargin\": true, \"gridcolor\": \"white\", \"linecolor\": \"white\", \"ticks\": \"\", \"title\": {\"standoff\": 15}, \"zerolinecolor\": \"white\", \"zerolinewidth\": 2}, \"yaxis\": {\"automargin\": true, \"gridcolor\": \"white\", \"linecolor\": \"white\", \"ticks\": \"\", \"title\": {\"standoff\": 15}, \"zerolinecolor\": \"white\", \"zerolinewidth\": 2}}}, \"yaxis\": {\"type\": \"log\"}},\n",
       "                        {\"responsive\": true}\n",
       "                    ).then(function(){\n",
       "                            \n",
       "var gd = document.getElementById('3412fc9b-5098-4dd2-890e-2b6eb2b3ce02');\n",
       "var x = new MutationObserver(function (mutations, observer) {{\n",
       "        var display = window.getComputedStyle(gd).display;\n",
       "        if (!display || display === 'none') {{\n",
       "            console.log([gd, 'removed!']);\n",
       "            Plotly.purge(gd);\n",
       "            observer.disconnect();\n",
       "        }}\n",
       "}});\n",
       "\n",
       "// Listen for the removal of the full notebook cells\n",
       "var notebookContainer = gd.closest('#notebook-container');\n",
       "if (notebookContainer) {{\n",
       "    x.observe(notebookContainer, {childList: true});\n",
       "}}\n",
       "\n",
       "// Listen for the clearing of the current output cell\n",
       "var outputEl = gd.closest('.output');\n",
       "if (outputEl) {{\n",
       "    x.observe(outputEl, {childList: true});\n",
       "}}\n",
       "\n",
       "                        })\n",
       "                };\n",
       "                });\n",
       "            </script>\n",
       "        </div>"
      ]
     },
     "metadata": {},
     "output_type": "display_data"
    },
    {
     "data": {
      "text/plain": []
     },
     "execution_count": 335,
     "metadata": {},
     "output_type": "execute_result"
    }
   ],
   "source": [
    "T = 100\n",
    "beta = JumpProcess(2, 0.2, 10, T, 0)\n",
    "gamma = JumpProcess(1, 0.02, 10, T, 1)\n",
    "dynamic = SIRt(beta.value, gamma.value, 0.1)\n",
    "dynamic"
   ]
  },
  {
   "cell_type": "code",
   "execution_count": 336,
   "metadata": {},
   "outputs": [
    {
     "data": {
      "application/vnd.plotly.v1+json": {
       "config": {
        "plotlyServerURL": "https://plot.ly"
       },
       "data": [
        {
         "hovertemplate": "%{y}",
         "name": "Susceptible",
         "type": "scatter",
         "x": [
          0,
          1,
          2,
          3,
          4,
          5,
          6,
          7,
          8,
          9,
          10,
          11,
          12,
          13,
          14,
          15,
          16,
          17,
          18,
          19,
          20,
          21,
          22,
          23,
          24,
          25,
          26,
          27,
          28,
          29,
          30,
          31,
          32,
          33,
          34,
          35,
          36,
          37,
          38,
          39,
          40,
          41,
          42,
          43,
          44,
          45,
          46,
          47,
          48,
          49,
          50,
          51,
          52,
          53,
          54,
          55,
          56,
          57,
          58,
          59,
          60,
          61,
          62,
          63,
          64,
          65,
          66,
          67,
          68,
          69,
          70,
          71,
          72,
          73,
          74,
          75,
          76,
          77,
          78,
          79,
          80,
          81,
          82,
          83,
          84,
          85,
          86,
          87,
          88,
          89,
          90,
          91,
          92,
          93,
          94,
          95,
          96,
          97,
          98,
          99,
          100
         ],
         "y": [
          990,
          988,
          985,
          983,
          980,
          978,
          974,
          971,
          967,
          962,
          956,
          949,
          942,
          934,
          925,
          915,
          904,
          891,
          878,
          863,
          846,
          828,
          809,
          788,
          766,
          742,
          712,
          680,
          647,
          611,
          575,
          538,
          502,
          458,
          416,
          375,
          336,
          301,
          269,
          240,
          215,
          193,
          177,
          164,
          152,
          142,
          133,
          128,
          124,
          120,
          116,
          114,
          112,
          110,
          108,
          107,
          105,
          104,
          103,
          102,
          101,
          100,
          99,
          99,
          98,
          98,
          97,
          97,
          96,
          96,
          96,
          96,
          95,
          95,
          95,
          95,
          95,
          94,
          94,
          94,
          94,
          94,
          94,
          94,
          94,
          93,
          93,
          93,
          93,
          93,
          93,
          93,
          93,
          93,
          93,
          93,
          93,
          93,
          93,
          93,
          93
         ]
        },
        {
         "hovertemplate": "%{y}",
         "name": "Infectious",
         "type": "scatter",
         "x": [
          0,
          1,
          2,
          3,
          4,
          5,
          6,
          7,
          8,
          9,
          10,
          11,
          12,
          13,
          14,
          15,
          16,
          17,
          18,
          19,
          20,
          21,
          22,
          23,
          24,
          25,
          26,
          27,
          28,
          29,
          30,
          31,
          32,
          33,
          34,
          35,
          36,
          37,
          38,
          39,
          40,
          41,
          42,
          43,
          44,
          45,
          46,
          47,
          48,
          49,
          50,
          51,
          52,
          53,
          54,
          55,
          56,
          57,
          58,
          59,
          60,
          61,
          62,
          63,
          64,
          65,
          66,
          67,
          68,
          69,
          70,
          71,
          72,
          73,
          74,
          75,
          76,
          77,
          78,
          79,
          80,
          81,
          82,
          83,
          84,
          85,
          86,
          87,
          88,
          89,
          90,
          91,
          92,
          93,
          94,
          95,
          96,
          97,
          98,
          99,
          100
         ],
         "y": [
          10,
          10,
          12,
          13,
          14,
          15,
          17,
          19,
          21,
          24,
          27,
          31,
          35,
          40,
          45,
          50,
          57,
          63,
          71,
          79,
          88,
          97,
          107,
          117,
          128,
          139,
          155,
          172,
          189,
          205,
          221,
          236,
          250,
          268,
          284,
          296,
          304,
          308,
          308,
          304,
          297,
          287,
          272,
          257,
          241,
          226,
          211,
          193,
          177,
          162,
          148,
          134,
          122,
          111,
          100,
          91,
          82,
          75,
          68,
          62,
          56,
          51,
          47,
          42,
          39,
          35,
          32,
          29,
          27,
          24,
          22,
          20,
          18,
          17,
          15,
          14,
          12,
          11,
          10,
          9,
          8,
          8,
          7,
          6,
          6,
          5,
          5,
          4,
          4,
          3,
          3,
          3,
          2,
          2,
          2,
          2,
          1,
          1,
          1,
          1,
          1
         ]
        },
        {
         "hovertemplate": "%{y}",
         "name": "Removed",
         "type": "scatter",
         "x": [
          0,
          1,
          2,
          3,
          4,
          5,
          6,
          7,
          8,
          9,
          10,
          11,
          12,
          13,
          14,
          15,
          16,
          17,
          18,
          19,
          20,
          21,
          22,
          23,
          24,
          25,
          26,
          27,
          28,
          29,
          30,
          31,
          32,
          33,
          34,
          35,
          36,
          37,
          38,
          39,
          40,
          41,
          42,
          43,
          44,
          45,
          46,
          47,
          48,
          49,
          50,
          51,
          52,
          53,
          54,
          55,
          56,
          57,
          58,
          59,
          60,
          61,
          62,
          63,
          64,
          65,
          66,
          67,
          68,
          69,
          70,
          71,
          72,
          73,
          74,
          75,
          76,
          77,
          78,
          79,
          80,
          81,
          82,
          83,
          84,
          85,
          86,
          87,
          88,
          89,
          90,
          91,
          92,
          93,
          94,
          95,
          96,
          97,
          98,
          99,
          100
         ],
         "y": [
          0,
          1,
          2,
          3,
          4,
          6,
          7,
          9,
          11,
          13,
          15,
          18,
          21,
          25,
          29,
          33,
          38,
          44,
          50,
          57,
          65,
          73,
          83,
          93,
          105,
          117,
          131,
          146,
          163,
          182,
          202,
          224,
          247,
          272,
          299,
          328,
          358,
          390,
          422,
          455,
          487,
          518,
          549,
          578,
          605,
          631,
          655,
          677,
          698,
          717,
          734,
          750,
          765,
          778,
          790,
          801,
          811,
          820,
          828,
          835,
          841,
          847,
          853,
          857,
          862,
          866,
          869,
          872,
          875,
          878,
          881,
          883,
          885,
          887,
          888,
          890,
          892,
          893,
          894,
          895,
          896,
          897,
          898,
          899,
          899,
          900,
          901,
          901,
          902,
          902,
          902,
          903,
          903,
          903,
          904,
          904,
          904,
          904,
          904,
          905,
          905
         ]
        },
        {
         "hovertemplate": "%{y}",
         "marker": {
          "symbol": 1
         },
         "mode": "markers",
         "name": "Guessed",
         "type": "scatter",
         "x": [
          10,
          20,
          30,
          40,
          50,
          60,
          70,
          80,
          90
         ],
         "y": [
          0,
          100,
          200,
          300,
          100,
          100,
          0,
          0,
          0
         ]
        }
       ],
       "layout": {
        "margin": {
         "b": 0,
         "l": 0,
         "r": 0,
         "t": 25
        },
        "template": {
         "data": {
          "bar": [
           {
            "error_x": {
             "color": "#2a3f5f"
            },
            "error_y": {
             "color": "#2a3f5f"
            },
            "marker": {
             "line": {
              "color": "#E5ECF6",
              "width": 0.5
             }
            },
            "type": "bar"
           }
          ],
          "barpolar": [
           {
            "marker": {
             "line": {
              "color": "#E5ECF6",
              "width": 0.5
             }
            },
            "type": "barpolar"
           }
          ],
          "carpet": [
           {
            "aaxis": {
             "endlinecolor": "#2a3f5f",
             "gridcolor": "white",
             "linecolor": "white",
             "minorgridcolor": "white",
             "startlinecolor": "#2a3f5f"
            },
            "baxis": {
             "endlinecolor": "#2a3f5f",
             "gridcolor": "white",
             "linecolor": "white",
             "minorgridcolor": "white",
             "startlinecolor": "#2a3f5f"
            },
            "type": "carpet"
           }
          ],
          "choropleth": [
           {
            "colorbar": {
             "outlinewidth": 0,
             "ticks": ""
            },
            "type": "choropleth"
           }
          ],
          "contour": [
           {
            "colorbar": {
             "outlinewidth": 0,
             "ticks": ""
            },
            "colorscale": [
             [
              0,
              "#0d0887"
             ],
             [
              0.1111111111111111,
              "#46039f"
             ],
             [
              0.2222222222222222,
              "#7201a8"
             ],
             [
              0.3333333333333333,
              "#9c179e"
             ],
             [
              0.4444444444444444,
              "#bd3786"
             ],
             [
              0.5555555555555556,
              "#d8576b"
             ],
             [
              0.6666666666666666,
              "#ed7953"
             ],
             [
              0.7777777777777778,
              "#fb9f3a"
             ],
             [
              0.8888888888888888,
              "#fdca26"
             ],
             [
              1,
              "#f0f921"
             ]
            ],
            "type": "contour"
           }
          ],
          "contourcarpet": [
           {
            "colorbar": {
             "outlinewidth": 0,
             "ticks": ""
            },
            "type": "contourcarpet"
           }
          ],
          "heatmap": [
           {
            "colorbar": {
             "outlinewidth": 0,
             "ticks": ""
            },
            "colorscale": [
             [
              0,
              "#0d0887"
             ],
             [
              0.1111111111111111,
              "#46039f"
             ],
             [
              0.2222222222222222,
              "#7201a8"
             ],
             [
              0.3333333333333333,
              "#9c179e"
             ],
             [
              0.4444444444444444,
              "#bd3786"
             ],
             [
              0.5555555555555556,
              "#d8576b"
             ],
             [
              0.6666666666666666,
              "#ed7953"
             ],
             [
              0.7777777777777778,
              "#fb9f3a"
             ],
             [
              0.8888888888888888,
              "#fdca26"
             ],
             [
              1,
              "#f0f921"
             ]
            ],
            "type": "heatmap"
           }
          ],
          "heatmapgl": [
           {
            "colorbar": {
             "outlinewidth": 0,
             "ticks": ""
            },
            "colorscale": [
             [
              0,
              "#0d0887"
             ],
             [
              0.1111111111111111,
              "#46039f"
             ],
             [
              0.2222222222222222,
              "#7201a8"
             ],
             [
              0.3333333333333333,
              "#9c179e"
             ],
             [
              0.4444444444444444,
              "#bd3786"
             ],
             [
              0.5555555555555556,
              "#d8576b"
             ],
             [
              0.6666666666666666,
              "#ed7953"
             ],
             [
              0.7777777777777778,
              "#fb9f3a"
             ],
             [
              0.8888888888888888,
              "#fdca26"
             ],
             [
              1,
              "#f0f921"
             ]
            ],
            "type": "heatmapgl"
           }
          ],
          "histogram": [
           {
            "marker": {
             "colorbar": {
              "outlinewidth": 0,
              "ticks": ""
             }
            },
            "type": "histogram"
           }
          ],
          "histogram2d": [
           {
            "colorbar": {
             "outlinewidth": 0,
             "ticks": ""
            },
            "colorscale": [
             [
              0,
              "#0d0887"
             ],
             [
              0.1111111111111111,
              "#46039f"
             ],
             [
              0.2222222222222222,
              "#7201a8"
             ],
             [
              0.3333333333333333,
              "#9c179e"
             ],
             [
              0.4444444444444444,
              "#bd3786"
             ],
             [
              0.5555555555555556,
              "#d8576b"
             ],
             [
              0.6666666666666666,
              "#ed7953"
             ],
             [
              0.7777777777777778,
              "#fb9f3a"
             ],
             [
              0.8888888888888888,
              "#fdca26"
             ],
             [
              1,
              "#f0f921"
             ]
            ],
            "type": "histogram2d"
           }
          ],
          "histogram2dcontour": [
           {
            "colorbar": {
             "outlinewidth": 0,
             "ticks": ""
            },
            "colorscale": [
             [
              0,
              "#0d0887"
             ],
             [
              0.1111111111111111,
              "#46039f"
             ],
             [
              0.2222222222222222,
              "#7201a8"
             ],
             [
              0.3333333333333333,
              "#9c179e"
             ],
             [
              0.4444444444444444,
              "#bd3786"
             ],
             [
              0.5555555555555556,
              "#d8576b"
             ],
             [
              0.6666666666666666,
              "#ed7953"
             ],
             [
              0.7777777777777778,
              "#fb9f3a"
             ],
             [
              0.8888888888888888,
              "#fdca26"
             ],
             [
              1,
              "#f0f921"
             ]
            ],
            "type": "histogram2dcontour"
           }
          ],
          "mesh3d": [
           {
            "colorbar": {
             "outlinewidth": 0,
             "ticks": ""
            },
            "type": "mesh3d"
           }
          ],
          "parcoords": [
           {
            "line": {
             "colorbar": {
              "outlinewidth": 0,
              "ticks": ""
             }
            },
            "type": "parcoords"
           }
          ],
          "pie": [
           {
            "automargin": true,
            "type": "pie"
           }
          ],
          "scatter": [
           {
            "marker": {
             "colorbar": {
              "outlinewidth": 0,
              "ticks": ""
             }
            },
            "type": "scatter"
           }
          ],
          "scatter3d": [
           {
            "line": {
             "colorbar": {
              "outlinewidth": 0,
              "ticks": ""
             }
            },
            "marker": {
             "colorbar": {
              "outlinewidth": 0,
              "ticks": ""
             }
            },
            "type": "scatter3d"
           }
          ],
          "scattercarpet": [
           {
            "marker": {
             "colorbar": {
              "outlinewidth": 0,
              "ticks": ""
             }
            },
            "type": "scattercarpet"
           }
          ],
          "scattergeo": [
           {
            "marker": {
             "colorbar": {
              "outlinewidth": 0,
              "ticks": ""
             }
            },
            "type": "scattergeo"
           }
          ],
          "scattergl": [
           {
            "marker": {
             "colorbar": {
              "outlinewidth": 0,
              "ticks": ""
             }
            },
            "type": "scattergl"
           }
          ],
          "scattermapbox": [
           {
            "marker": {
             "colorbar": {
              "outlinewidth": 0,
              "ticks": ""
             }
            },
            "type": "scattermapbox"
           }
          ],
          "scatterpolar": [
           {
            "marker": {
             "colorbar": {
              "outlinewidth": 0,
              "ticks": ""
             }
            },
            "type": "scatterpolar"
           }
          ],
          "scatterpolargl": [
           {
            "marker": {
             "colorbar": {
              "outlinewidth": 0,
              "ticks": ""
             }
            },
            "type": "scatterpolargl"
           }
          ],
          "scatterternary": [
           {
            "marker": {
             "colorbar": {
              "outlinewidth": 0,
              "ticks": ""
             }
            },
            "type": "scatterternary"
           }
          ],
          "surface": [
           {
            "colorbar": {
             "outlinewidth": 0,
             "ticks": ""
            },
            "colorscale": [
             [
              0,
              "#0d0887"
             ],
             [
              0.1111111111111111,
              "#46039f"
             ],
             [
              0.2222222222222222,
              "#7201a8"
             ],
             [
              0.3333333333333333,
              "#9c179e"
             ],
             [
              0.4444444444444444,
              "#bd3786"
             ],
             [
              0.5555555555555556,
              "#d8576b"
             ],
             [
              0.6666666666666666,
              "#ed7953"
             ],
             [
              0.7777777777777778,
              "#fb9f3a"
             ],
             [
              0.8888888888888888,
              "#fdca26"
             ],
             [
              1,
              "#f0f921"
             ]
            ],
            "type": "surface"
           }
          ],
          "table": [
           {
            "cells": {
             "fill": {
              "color": "#EBF0F8"
             },
             "line": {
              "color": "white"
             }
            },
            "header": {
             "fill": {
              "color": "#C8D4E3"
             },
             "line": {
              "color": "white"
             }
            },
            "type": "table"
           }
          ]
         },
         "layout": {
          "annotationdefaults": {
           "arrowcolor": "#2a3f5f",
           "arrowhead": 0,
           "arrowwidth": 1
          },
          "coloraxis": {
           "colorbar": {
            "outlinewidth": 0,
            "ticks": ""
           }
          },
          "colorscale": {
           "diverging": [
            [
             0,
             "#8e0152"
            ],
            [
             0.1,
             "#c51b7d"
            ],
            [
             0.2,
             "#de77ae"
            ],
            [
             0.3,
             "#f1b6da"
            ],
            [
             0.4,
             "#fde0ef"
            ],
            [
             0.5,
             "#f7f7f7"
            ],
            [
             0.6,
             "#e6f5d0"
            ],
            [
             0.7,
             "#b8e186"
            ],
            [
             0.8,
             "#7fbc41"
            ],
            [
             0.9,
             "#4d9221"
            ],
            [
             1,
             "#276419"
            ]
           ],
           "sequential": [
            [
             0,
             "#0d0887"
            ],
            [
             0.1111111111111111,
             "#46039f"
            ],
            [
             0.2222222222222222,
             "#7201a8"
            ],
            [
             0.3333333333333333,
             "#9c179e"
            ],
            [
             0.4444444444444444,
             "#bd3786"
            ],
            [
             0.5555555555555556,
             "#d8576b"
            ],
            [
             0.6666666666666666,
             "#ed7953"
            ],
            [
             0.7777777777777778,
             "#fb9f3a"
            ],
            [
             0.8888888888888888,
             "#fdca26"
            ],
            [
             1,
             "#f0f921"
            ]
           ],
           "sequentialminus": [
            [
             0,
             "#0d0887"
            ],
            [
             0.1111111111111111,
             "#46039f"
            ],
            [
             0.2222222222222222,
             "#7201a8"
            ],
            [
             0.3333333333333333,
             "#9c179e"
            ],
            [
             0.4444444444444444,
             "#bd3786"
            ],
            [
             0.5555555555555556,
             "#d8576b"
            ],
            [
             0.6666666666666666,
             "#ed7953"
            ],
            [
             0.7777777777777778,
             "#fb9f3a"
            ],
            [
             0.8888888888888888,
             "#fdca26"
            ],
            [
             1,
             "#f0f921"
            ]
           ]
          },
          "colorway": [
           "#636efa",
           "#EF553B",
           "#00cc96",
           "#ab63fa",
           "#FFA15A",
           "#19d3f3",
           "#FF6692",
           "#B6E880",
           "#FF97FF",
           "#FECB52"
          ],
          "font": {
           "color": "#2a3f5f"
          },
          "geo": {
           "bgcolor": "white",
           "lakecolor": "white",
           "landcolor": "#E5ECF6",
           "showlakes": true,
           "showland": true,
           "subunitcolor": "white"
          },
          "hoverlabel": {
           "align": "left"
          },
          "hovermode": "closest",
          "mapbox": {
           "style": "light"
          },
          "paper_bgcolor": "white",
          "plot_bgcolor": "#E5ECF6",
          "polar": {
           "angularaxis": {
            "gridcolor": "white",
            "linecolor": "white",
            "ticks": ""
           },
           "bgcolor": "#E5ECF6",
           "radialaxis": {
            "gridcolor": "white",
            "linecolor": "white",
            "ticks": ""
           }
          },
          "scene": {
           "xaxis": {
            "backgroundcolor": "#E5ECF6",
            "gridcolor": "white",
            "gridwidth": 2,
            "linecolor": "white",
            "showbackground": true,
            "ticks": "",
            "zerolinecolor": "white"
           },
           "yaxis": {
            "backgroundcolor": "#E5ECF6",
            "gridcolor": "white",
            "gridwidth": 2,
            "linecolor": "white",
            "showbackground": true,
            "ticks": "",
            "zerolinecolor": "white"
           },
           "zaxis": {
            "backgroundcolor": "#E5ECF6",
            "gridcolor": "white",
            "gridwidth": 2,
            "linecolor": "white",
            "showbackground": true,
            "ticks": "",
            "zerolinecolor": "white"
           }
          },
          "shapedefaults": {
           "line": {
            "color": "#2a3f5f"
           }
          },
          "ternary": {
           "aaxis": {
            "gridcolor": "white",
            "linecolor": "white",
            "ticks": ""
           },
           "baxis": {
            "gridcolor": "white",
            "linecolor": "white",
            "ticks": ""
           },
           "bgcolor": "#E5ECF6",
           "caxis": {
            "gridcolor": "white",
            "linecolor": "white",
            "ticks": ""
           }
          },
          "title": {
           "x": 0.05
          },
          "xaxis": {
           "automargin": true,
           "gridcolor": "white",
           "linecolor": "white",
           "ticks": "",
           "title": {
            "standoff": 15
           },
           "zerolinecolor": "white",
           "zerolinewidth": 2
          },
          "yaxis": {
           "automargin": true,
           "gridcolor": "white",
           "linecolor": "white",
           "ticks": "",
           "title": {
            "standoff": 15
           },
           "zerolinecolor": "white",
           "zerolinewidth": 2
          }
         }
        }
       }
      },
      "text/html": [
       "<div>\n",
       "        \n",
       "        \n",
       "            <div id=\"9961100d-1dc8-4ec6-848c-9b4a099def8c\" class=\"plotly-graph-div\" style=\"height:525px; width:100%;\"></div>\n",
       "            <script type=\"text/javascript\">\n",
       "                require([\"plotly\"], function(Plotly) {\n",
       "                    window.PLOTLYENV=window.PLOTLYENV || {};\n",
       "                    \n",
       "                if (document.getElementById(\"9961100d-1dc8-4ec6-848c-9b4a099def8c\")) {\n",
       "                    Plotly.newPlot(\n",
       "                        '9961100d-1dc8-4ec6-848c-9b4a099def8c',\n",
       "                        [{\"hovertemplate\": \"%{y}\", \"name\": \"Susceptible\", \"type\": \"scatter\", \"x\": [0, 1, 2, 3, 4, 5, 6, 7, 8, 9, 10, 11, 12, 13, 14, 15, 16, 17, 18, 19, 20, 21, 22, 23, 24, 25, 26, 27, 28, 29, 30, 31, 32, 33, 34, 35, 36, 37, 38, 39, 40, 41, 42, 43, 44, 45, 46, 47, 48, 49, 50, 51, 52, 53, 54, 55, 56, 57, 58, 59, 60, 61, 62, 63, 64, 65, 66, 67, 68, 69, 70, 71, 72, 73, 74, 75, 76, 77, 78, 79, 80, 81, 82, 83, 84, 85, 86, 87, 88, 89, 90, 91, 92, 93, 94, 95, 96, 97, 98, 99, 100], \"y\": [990, 988, 985, 983, 980, 978, 974, 971, 967, 962, 956, 949, 942, 934, 925, 915, 904, 891, 878, 863, 846, 828, 809, 788, 766, 742, 712, 680, 647, 611, 575, 538, 502, 458, 416, 375, 336, 301, 269, 240, 215, 193, 177, 164, 152, 142, 133, 128, 124, 120, 116, 114, 112, 110, 108, 107, 105, 104, 103, 102, 101, 100, 99, 99, 98, 98, 97, 97, 96, 96, 96, 96, 95, 95, 95, 95, 95, 94, 94, 94, 94, 94, 94, 94, 94, 93, 93, 93, 93, 93, 93, 93, 93, 93, 93, 93, 93, 93, 93, 93, 93]}, {\"hovertemplate\": \"%{y}\", \"name\": \"Infectious\", \"type\": \"scatter\", \"x\": [0, 1, 2, 3, 4, 5, 6, 7, 8, 9, 10, 11, 12, 13, 14, 15, 16, 17, 18, 19, 20, 21, 22, 23, 24, 25, 26, 27, 28, 29, 30, 31, 32, 33, 34, 35, 36, 37, 38, 39, 40, 41, 42, 43, 44, 45, 46, 47, 48, 49, 50, 51, 52, 53, 54, 55, 56, 57, 58, 59, 60, 61, 62, 63, 64, 65, 66, 67, 68, 69, 70, 71, 72, 73, 74, 75, 76, 77, 78, 79, 80, 81, 82, 83, 84, 85, 86, 87, 88, 89, 90, 91, 92, 93, 94, 95, 96, 97, 98, 99, 100], \"y\": [10, 10, 12, 13, 14, 15, 17, 19, 21, 24, 27, 31, 35, 40, 45, 50, 57, 63, 71, 79, 88, 97, 107, 117, 128, 139, 155, 172, 189, 205, 221, 236, 250, 268, 284, 296, 304, 308, 308, 304, 297, 287, 272, 257, 241, 226, 211, 193, 177, 162, 148, 134, 122, 111, 100, 91, 82, 75, 68, 62, 56, 51, 47, 42, 39, 35, 32, 29, 27, 24, 22, 20, 18, 17, 15, 14, 12, 11, 10, 9, 8, 8, 7, 6, 6, 5, 5, 4, 4, 3, 3, 3, 2, 2, 2, 2, 1, 1, 1, 1, 1]}, {\"hovertemplate\": \"%{y}\", \"name\": \"Removed\", \"type\": \"scatter\", \"x\": [0, 1, 2, 3, 4, 5, 6, 7, 8, 9, 10, 11, 12, 13, 14, 15, 16, 17, 18, 19, 20, 21, 22, 23, 24, 25, 26, 27, 28, 29, 30, 31, 32, 33, 34, 35, 36, 37, 38, 39, 40, 41, 42, 43, 44, 45, 46, 47, 48, 49, 50, 51, 52, 53, 54, 55, 56, 57, 58, 59, 60, 61, 62, 63, 64, 65, 66, 67, 68, 69, 70, 71, 72, 73, 74, 75, 76, 77, 78, 79, 80, 81, 82, 83, 84, 85, 86, 87, 88, 89, 90, 91, 92, 93, 94, 95, 96, 97, 98, 99, 100], \"y\": [0, 1, 2, 3, 4, 6, 7, 9, 11, 13, 15, 18, 21, 25, 29, 33, 38, 44, 50, 57, 65, 73, 83, 93, 105, 117, 131, 146, 163, 182, 202, 224, 247, 272, 299, 328, 358, 390, 422, 455, 487, 518, 549, 578, 605, 631, 655, 677, 698, 717, 734, 750, 765, 778, 790, 801, 811, 820, 828, 835, 841, 847, 853, 857, 862, 866, 869, 872, 875, 878, 881, 883, 885, 887, 888, 890, 892, 893, 894, 895, 896, 897, 898, 899, 899, 900, 901, 901, 902, 902, 902, 903, 903, 903, 904, 904, 904, 904, 904, 905, 905]}, {\"hovertemplate\": \"%{y}\", \"marker\": {\"symbol\": 1}, \"mode\": \"markers\", \"name\": \"Guessed\", \"type\": \"scatter\", \"x\": [10, 20, 30, 40, 50, 60, 70, 80, 90], \"y\": [0.0, 100.0, 200.0, 300.0, 100.0, 100.0, 0.0, 0.0, 0.0]}],\n",
       "                        {\"margin\": {\"b\": 0, \"l\": 0, \"r\": 0, \"t\": 25}, \"template\": {\"data\": {\"bar\": [{\"error_x\": {\"color\": \"#2a3f5f\"}, \"error_y\": {\"color\": \"#2a3f5f\"}, \"marker\": {\"line\": {\"color\": \"#E5ECF6\", \"width\": 0.5}}, \"type\": \"bar\"}], \"barpolar\": [{\"marker\": {\"line\": {\"color\": \"#E5ECF6\", \"width\": 0.5}}, \"type\": \"barpolar\"}], \"carpet\": [{\"aaxis\": {\"endlinecolor\": \"#2a3f5f\", \"gridcolor\": \"white\", \"linecolor\": \"white\", \"minorgridcolor\": \"white\", \"startlinecolor\": \"#2a3f5f\"}, \"baxis\": {\"endlinecolor\": \"#2a3f5f\", \"gridcolor\": \"white\", \"linecolor\": \"white\", \"minorgridcolor\": \"white\", \"startlinecolor\": \"#2a3f5f\"}, \"type\": \"carpet\"}], \"choropleth\": [{\"colorbar\": {\"outlinewidth\": 0, \"ticks\": \"\"}, \"type\": \"choropleth\"}], \"contour\": [{\"colorbar\": {\"outlinewidth\": 0, \"ticks\": \"\"}, \"colorscale\": [[0.0, \"#0d0887\"], [0.1111111111111111, \"#46039f\"], [0.2222222222222222, \"#7201a8\"], [0.3333333333333333, \"#9c179e\"], [0.4444444444444444, \"#bd3786\"], [0.5555555555555556, \"#d8576b\"], [0.6666666666666666, \"#ed7953\"], [0.7777777777777778, \"#fb9f3a\"], [0.8888888888888888, \"#fdca26\"], [1.0, \"#f0f921\"]], \"type\": \"contour\"}], \"contourcarpet\": [{\"colorbar\": {\"outlinewidth\": 0, \"ticks\": \"\"}, \"type\": \"contourcarpet\"}], \"heatmap\": [{\"colorbar\": {\"outlinewidth\": 0, \"ticks\": \"\"}, \"colorscale\": [[0.0, \"#0d0887\"], [0.1111111111111111, \"#46039f\"], [0.2222222222222222, \"#7201a8\"], [0.3333333333333333, \"#9c179e\"], [0.4444444444444444, \"#bd3786\"], [0.5555555555555556, \"#d8576b\"], [0.6666666666666666, \"#ed7953\"], [0.7777777777777778, \"#fb9f3a\"], [0.8888888888888888, \"#fdca26\"], [1.0, \"#f0f921\"]], \"type\": \"heatmap\"}], \"heatmapgl\": [{\"colorbar\": {\"outlinewidth\": 0, \"ticks\": \"\"}, \"colorscale\": [[0.0, \"#0d0887\"], [0.1111111111111111, \"#46039f\"], [0.2222222222222222, \"#7201a8\"], [0.3333333333333333, \"#9c179e\"], [0.4444444444444444, \"#bd3786\"], [0.5555555555555556, \"#d8576b\"], [0.6666666666666666, \"#ed7953\"], [0.7777777777777778, \"#fb9f3a\"], [0.8888888888888888, \"#fdca26\"], [1.0, \"#f0f921\"]], \"type\": \"heatmapgl\"}], \"histogram\": [{\"marker\": {\"colorbar\": {\"outlinewidth\": 0, \"ticks\": \"\"}}, \"type\": \"histogram\"}], \"histogram2d\": [{\"colorbar\": {\"outlinewidth\": 0, \"ticks\": \"\"}, \"colorscale\": [[0.0, \"#0d0887\"], [0.1111111111111111, \"#46039f\"], [0.2222222222222222, \"#7201a8\"], [0.3333333333333333, \"#9c179e\"], [0.4444444444444444, \"#bd3786\"], [0.5555555555555556, \"#d8576b\"], [0.6666666666666666, \"#ed7953\"], [0.7777777777777778, \"#fb9f3a\"], [0.8888888888888888, \"#fdca26\"], [1.0, \"#f0f921\"]], \"type\": \"histogram2d\"}], \"histogram2dcontour\": [{\"colorbar\": {\"outlinewidth\": 0, \"ticks\": \"\"}, \"colorscale\": [[0.0, \"#0d0887\"], [0.1111111111111111, \"#46039f\"], [0.2222222222222222, \"#7201a8\"], [0.3333333333333333, \"#9c179e\"], [0.4444444444444444, \"#bd3786\"], [0.5555555555555556, \"#d8576b\"], [0.6666666666666666, \"#ed7953\"], [0.7777777777777778, \"#fb9f3a\"], [0.8888888888888888, \"#fdca26\"], [1.0, \"#f0f921\"]], \"type\": \"histogram2dcontour\"}], \"mesh3d\": [{\"colorbar\": {\"outlinewidth\": 0, \"ticks\": \"\"}, \"type\": \"mesh3d\"}], \"parcoords\": [{\"line\": {\"colorbar\": {\"outlinewidth\": 0, \"ticks\": \"\"}}, \"type\": \"parcoords\"}], \"pie\": [{\"automargin\": true, \"type\": \"pie\"}], \"scatter\": [{\"marker\": {\"colorbar\": {\"outlinewidth\": 0, \"ticks\": \"\"}}, \"type\": \"scatter\"}], \"scatter3d\": [{\"line\": {\"colorbar\": {\"outlinewidth\": 0, \"ticks\": \"\"}}, \"marker\": {\"colorbar\": {\"outlinewidth\": 0, \"ticks\": \"\"}}, \"type\": \"scatter3d\"}], \"scattercarpet\": [{\"marker\": {\"colorbar\": {\"outlinewidth\": 0, \"ticks\": \"\"}}, \"type\": \"scattercarpet\"}], \"scattergeo\": [{\"marker\": {\"colorbar\": {\"outlinewidth\": 0, \"ticks\": \"\"}}, \"type\": \"scattergeo\"}], \"scattergl\": [{\"marker\": {\"colorbar\": {\"outlinewidth\": 0, \"ticks\": \"\"}}, \"type\": \"scattergl\"}], \"scattermapbox\": [{\"marker\": {\"colorbar\": {\"outlinewidth\": 0, \"ticks\": \"\"}}, \"type\": \"scattermapbox\"}], \"scatterpolar\": [{\"marker\": {\"colorbar\": {\"outlinewidth\": 0, \"ticks\": \"\"}}, \"type\": \"scatterpolar\"}], \"scatterpolargl\": [{\"marker\": {\"colorbar\": {\"outlinewidth\": 0, \"ticks\": \"\"}}, \"type\": \"scatterpolargl\"}], \"scatterternary\": [{\"marker\": {\"colorbar\": {\"outlinewidth\": 0, \"ticks\": \"\"}}, \"type\": \"scatterternary\"}], \"surface\": [{\"colorbar\": {\"outlinewidth\": 0, \"ticks\": \"\"}, \"colorscale\": [[0.0, \"#0d0887\"], [0.1111111111111111, \"#46039f\"], [0.2222222222222222, \"#7201a8\"], [0.3333333333333333, \"#9c179e\"], [0.4444444444444444, \"#bd3786\"], [0.5555555555555556, \"#d8576b\"], [0.6666666666666666, \"#ed7953\"], [0.7777777777777778, \"#fb9f3a\"], [0.8888888888888888, \"#fdca26\"], [1.0, \"#f0f921\"]], \"type\": \"surface\"}], \"table\": [{\"cells\": {\"fill\": {\"color\": \"#EBF0F8\"}, \"line\": {\"color\": \"white\"}}, \"header\": {\"fill\": {\"color\": \"#C8D4E3\"}, \"line\": {\"color\": \"white\"}}, \"type\": \"table\"}]}, \"layout\": {\"annotationdefaults\": {\"arrowcolor\": \"#2a3f5f\", \"arrowhead\": 0, \"arrowwidth\": 1}, \"coloraxis\": {\"colorbar\": {\"outlinewidth\": 0, \"ticks\": \"\"}}, \"colorscale\": {\"diverging\": [[0, \"#8e0152\"], [0.1, \"#c51b7d\"], [0.2, \"#de77ae\"], [0.3, \"#f1b6da\"], [0.4, \"#fde0ef\"], [0.5, \"#f7f7f7\"], [0.6, \"#e6f5d0\"], [0.7, \"#b8e186\"], [0.8, \"#7fbc41\"], [0.9, \"#4d9221\"], [1, \"#276419\"]], \"sequential\": [[0.0, \"#0d0887\"], [0.1111111111111111, \"#46039f\"], [0.2222222222222222, \"#7201a8\"], [0.3333333333333333, \"#9c179e\"], [0.4444444444444444, \"#bd3786\"], [0.5555555555555556, \"#d8576b\"], [0.6666666666666666, \"#ed7953\"], [0.7777777777777778, \"#fb9f3a\"], [0.8888888888888888, \"#fdca26\"], [1.0, \"#f0f921\"]], \"sequentialminus\": [[0.0, \"#0d0887\"], [0.1111111111111111, \"#46039f\"], [0.2222222222222222, \"#7201a8\"], [0.3333333333333333, \"#9c179e\"], [0.4444444444444444, \"#bd3786\"], [0.5555555555555556, \"#d8576b\"], [0.6666666666666666, \"#ed7953\"], [0.7777777777777778, \"#fb9f3a\"], [0.8888888888888888, \"#fdca26\"], [1.0, \"#f0f921\"]]}, \"colorway\": [\"#636efa\", \"#EF553B\", \"#00cc96\", \"#ab63fa\", \"#FFA15A\", \"#19d3f3\", \"#FF6692\", \"#B6E880\", \"#FF97FF\", \"#FECB52\"], \"font\": {\"color\": \"#2a3f5f\"}, \"geo\": {\"bgcolor\": \"white\", \"lakecolor\": \"white\", \"landcolor\": \"#E5ECF6\", \"showlakes\": true, \"showland\": true, \"subunitcolor\": \"white\"}, \"hoverlabel\": {\"align\": \"left\"}, \"hovermode\": \"closest\", \"mapbox\": {\"style\": \"light\"}, \"paper_bgcolor\": \"white\", \"plot_bgcolor\": \"#E5ECF6\", \"polar\": {\"angularaxis\": {\"gridcolor\": \"white\", \"linecolor\": \"white\", \"ticks\": \"\"}, \"bgcolor\": \"#E5ECF6\", \"radialaxis\": {\"gridcolor\": \"white\", \"linecolor\": \"white\", \"ticks\": \"\"}}, \"scene\": {\"xaxis\": {\"backgroundcolor\": \"#E5ECF6\", \"gridcolor\": \"white\", \"gridwidth\": 2, \"linecolor\": \"white\", \"showbackground\": true, \"ticks\": \"\", \"zerolinecolor\": \"white\"}, \"yaxis\": {\"backgroundcolor\": \"#E5ECF6\", \"gridcolor\": \"white\", \"gridwidth\": 2, \"linecolor\": \"white\", \"showbackground\": true, \"ticks\": \"\", \"zerolinecolor\": \"white\"}, \"zaxis\": {\"backgroundcolor\": \"#E5ECF6\", \"gridcolor\": \"white\", \"gridwidth\": 2, \"linecolor\": \"white\", \"showbackground\": true, \"ticks\": \"\", \"zerolinecolor\": \"white\"}}, \"shapedefaults\": {\"line\": {\"color\": \"#2a3f5f\"}}, \"ternary\": {\"aaxis\": {\"gridcolor\": \"white\", \"linecolor\": \"white\", \"ticks\": \"\"}, \"baxis\": {\"gridcolor\": \"white\", \"linecolor\": \"white\", \"ticks\": \"\"}, \"bgcolor\": \"#E5ECF6\", \"caxis\": {\"gridcolor\": \"white\", \"linecolor\": \"white\", \"ticks\": \"\"}}, \"title\": {\"x\": 0.05}, \"xaxis\": {\"automargin\": true, \"gridcolor\": \"white\", \"linecolor\": \"white\", \"ticks\": \"\", \"title\": {\"standoff\": 15}, \"zerolinecolor\": \"white\", \"zerolinewidth\": 2}, \"yaxis\": {\"automargin\": true, \"gridcolor\": \"white\", \"linecolor\": \"white\", \"ticks\": \"\", \"title\": {\"standoff\": 15}, \"zerolinecolor\": \"white\", \"zerolinewidth\": 2}}}},\n",
       "                        {\"responsive\": true}\n",
       "                    ).then(function(){\n",
       "                            \n",
       "var gd = document.getElementById('9961100d-1dc8-4ec6-848c-9b4a099def8c');\n",
       "var x = new MutationObserver(function (mutations, observer) {{\n",
       "        var display = window.getComputedStyle(gd).display;\n",
       "        if (!display || display === 'none') {{\n",
       "            console.log([gd, 'removed!']);\n",
       "            Plotly.purge(gd);\n",
       "            observer.disconnect();\n",
       "        }}\n",
       "}});\n",
       "\n",
       "// Listen for the removal of the full notebook cells\n",
       "var notebookContainer = gd.closest('#notebook-container');\n",
       "if (notebookContainer) {{\n",
       "    x.observe(notebookContainer, {childList: true});\n",
       "}}\n",
       "\n",
       "// Listen for the clearing of the current output cell\n",
       "var outputEl = gd.closest('.output');\n",
       "if (outputEl) {{\n",
       "    x.observe(outputEl, {childList: true});\n",
       "}}\n",
       "\n",
       "                        })\n",
       "                };\n",
       "                });\n",
       "            </script>\n",
       "        </div>"
      ]
     },
     "metadata": {},
     "output_type": "display_data"
    }
   ],
   "source": [
    "city = Region(990, 10, 0, 0)\n",
    "epidemic = dynamic.estimate(city)\n",
    "fig = SIRt.plot(epidemic)\n",
    "sample = Sample(epidemic, np.arange(T//10, T, T//10), 1000*np.ones(9), 10*np.ones(9), Bin, seed=0)\n",
    "sample.plot(fig)"
   ]
  },
  {
   "cell_type": "code",
   "execution_count": 337,
   "metadata": {},
   "outputs": [
    {
     "name": "stdout",
     "output_type": "stream",
     "text": [
      "Optimization terminated successfully.\n",
      "         Current function value: 7.000297\n",
      "         Iterations: 66\n",
      "         Function evaluations: 126\n"
     ]
    },
    {
     "data": {
      "application/vnd.plotly.v1+json": {
       "config": {
        "plotlyServerURL": "https://plot.ly"
       },
       "data": [
        {
         "name": "log(-loglikely)",
         "showscale": false,
         "type": "contour",
         "x": [
          0.01,
          0.010985411419875584,
          0.012067926406393288,
          0.013257113655901088,
          0.014563484775012436,
          0.015998587196060583,
          0.017575106248547922,
          0.019306977288832496,
          0.021209508879201904,
          0.023299518105153717,
          0.025595479226995357,
          0.028117686979742307,
          0.030888435964774818,
          0.03393221771895328,
          0.0372759372031494,
          0.040949150623804234,
          0.04498432668969444,
          0.04941713361323833,
          0.054286754393238594,
          0.05963623316594643,
          0.0655128556859551,
          0.07196856730011521,
          0.07906043210907697,
          0.08685113737513525,
          0.09540954763499938,
          0.10481131341546858,
          0.1151395399326447,
          0.12648552168552957,
          0.13894954943731375,
          0.15264179671752334,
          0.16768329368110074,
          0.18420699693267154,
          0.20235896477251566,
          0.22229964825261944,
          0.2442053094548651,
          0.2682695795279725,
          0.29470517025518095,
          0.32374575428176433,
          0.35564803062231287,
          0.3906939937054615,
          0.42919342601287763,
          0.47148663634573923,
          0.517947467923121,
          0.5689866029018296,
          0.6250551925273969,
          0.6866488450042998,
          0.7543120063354615,
          0.8286427728546842,
          0.9102981779915218,
          1
         ],
         "y": [
          0.01,
          0.010985411419875584,
          0.012067926406393288,
          0.013257113655901088,
          0.014563484775012436,
          0.015998587196060583,
          0.017575106248547922,
          0.019306977288832496,
          0.021209508879201904,
          0.023299518105153717,
          0.025595479226995357,
          0.028117686979742307,
          0.030888435964774818,
          0.03393221771895328,
          0.0372759372031494,
          0.040949150623804234,
          0.04498432668969444,
          0.04941713361323833,
          0.054286754393238594,
          0.05963623316594643,
          0.0655128556859551,
          0.07196856730011521,
          0.07906043210907697,
          0.08685113737513525,
          0.09540954763499938,
          0.10481131341546858,
          0.1151395399326447,
          0.12648552168552957,
          0.13894954943731375,
          0.15264179671752334,
          0.16768329368110074,
          0.18420699693267154,
          0.20235896477251566,
          0.22229964825261944,
          0.2442053094548651,
          0.2682695795279725,
          0.29470517025518095,
          0.32374575428176433,
          0.35564803062231287,
          0.3906939937054615,
          0.42919342601287763,
          0.47148663634573923,
          0.517947467923121,
          0.5689866029018296,
          0.6250551925273969,
          0.6866488450042998,
          0.7543120063354615,
          0.8286427728546842,
          0.9102981779915218,
          1
         ],
         "z": [
          [
           2.758473511944277,
           2.7420899482851104,
           2.724018767448006,
           2.7040997071904522,
           2.682168958226911,
           2.6580674364021863,
           2.6316552150042605,
           2.6028359815004696,
           2.5715977057991366,
           2.5380792661353393,
           2.5026778812583665,
           2.4662184772616897,
           2.430210753015717,
           2.3972130114555315,
           2.3712787418893977,
           2.3583340683829737,
           2.36607375760226,
           2.4026619396462614,
           2.473680112772174,
           2.578137587340617,
           2.7064282007861142,
           2.8429416364937117,
           2.9721504514730297,
           3.083714345276856,
           3.1737511746178173,
           3.2431819576441225,
           3.2954117497845092,
           3.3346310616332495,
           3.364892979050015,
           3.3896558558450356,
           3.411538567134378,
           3.432265915113151,
           3.452665590644604,
           3.4727915212753966,
           3.492578945644297,
           3.5123798787878555,
           3.532326604405772,
           3.551334698295313,
           3.5675258462788952,
           3.580040531653578,
           3.5902122667945626,
           3.600837842606392,
           3.6145332407577833,
           3.632533664723839,
           3.6541389439452026,
           3.6765604949684665,
           3.6954055052666686,
           3.7064358132223334,
           3.7084123998751894,
           3.704428397900394
          ],
          [
           2.7750041028754384,
           2.7587040119770943,
           2.740710386715107,
           2.720856902709647,
           2.6989707520243056,
           2.674879538596596,
           2.648423662139034,
           2.619477725475325,
           2.587986685541918,
           2.554025884580382,
           2.5178991624106906,
           2.480295925491384,
           2.4425343495648133,
           2.4069159292654296,
           2.377184144133517,
           2.3589696457152893,
           2.3598550392130977,
           2.38834573466553,
           2.45102495525716,
           2.5483655029091206,
           2.6719569998923625,
           2.8063991875571515,
           2.935392774446187,
           3.047486458543119,
           3.137943486243618,
           3.2072666385774977,
           3.258778490277314,
           3.2967694559361553,
           3.3254682157255417,
           3.348527700743828,
           3.3687435504719114,
           3.3879734434267212,
           3.407125189418288,
           3.426268136362,
           3.4453022096489785,
           3.4645534256031487,
           3.4841517429820654,
           3.5029692216240305,
           3.519012875258581,
           3.5313163542899626,
           3.541215523573666,
           3.5516215199686,
           3.565290714051578,
           3.58354039481806,
           3.605651735581261,
           3.62870772612699,
           3.6481011534673775,
           3.6593691687309735,
           3.6611667343616134,
           3.6566922696382003
          ],
          [
           2.793052801644983,
           2.7768568672533114,
           2.7589642025525807,
           2.7392028596330205,
           2.717391553544192,
           2.693345192386578,
           2.6668852166673274,
           2.6378579390516133,
           2.606166104818277,
           2.5718221267090984,
           2.53503638896743,
           2.4963609139951934,
           2.456916339956711,
           2.418732488394666,
           2.3852108524425093,
           2.361626396574271,
           2.355355836372396,
           2.375143534225715,
           2.428544059904148,
           2.517631838967886,
           2.6354779875925787,
           2.767139494914245,
           2.8955909508819735,
           3.0081433967334235,
           3.099042584203475,
           3.168262592465439,
           3.218996352398293,
           3.2556287232859193,
           3.28257951162341,
           3.30372093841601,
           3.3220526060202658,
           3.3395886151757983,
           3.357333361486924,
           3.3753782356469415,
           3.3935837853469675,
           3.4122438341722723,
           3.431484061721812,
           3.45012739038007,
           3.466049431625606,
           3.478158464147529,
           3.4877889985020216,
           3.49798120536196,
           3.511652883520787,
           3.5302168277054906,
           3.552934003692306,
           3.576741373397134,
           3.596787760402934,
           3.6083543798990143,
           3.6099737575529414,
           3.6049614905515903
          ],
          [
           2.8127317623719947,
           2.796663071125822,
           2.778897636372585,
           2.75925844787489,
           2.737556430627122,
           2.71359463918611,
           2.687176583394067,
           2.6581215229032753,
           2.626291424638713,
           2.5916372899194275,
           2.55427729093262,
           2.5146260969107503,
           2.47360341998389,
           2.4329558412798926,
           2.3957139717413756,
           2.3667366200306814,
           2.3530900975949156,
           2.3636244961664694,
           2.4067864530903633,
           2.4863574834823163,
           2.5972056062373614,
           2.7251736724780486,
           2.8526199540534347,
           2.9654981369052167,
           3.0568447781225436,
           3.1259644383474545,
           3.1758553012621653,
           3.2109843812989247,
           3.2359777824928657,
           3.2549546729448533,
           3.2711505303657575,
           3.2867644500735875,
           3.302917974136477,
           3.319733540991649,
           3.3370280801081815,
           3.3550554695147956,
           3.3739343013001406,
           3.39243179455161,
           3.4082724652272436,
           3.4202167442667744,
           3.4295924390969232,
           3.4395854692314694,
           3.45329985667295,
           3.4722599623367745,
           3.4957049427206224,
           3.5204053046031976,
           3.5412316795900067,
           3.553173217213979,
           3.5546206985008335,
           3.5490200321062337
          ],
          [
           2.8341548113442996,
           2.8182387865939114,
           2.800629644894423,
           2.781145998816089,
           2.759591838379638,
           2.7357594385646777,
           2.7094357315638247,
           2.680414623172227,
           2.648519403794524,
           2.6136421628991906,
           2.5758115602971627,
           2.5353071069729185,
           2.4928473623036447,
           2.449888456607147,
           2.4090663090337263,
           2.3747662187452563,
           2.35363294299519,
           2.354459104657257,
           2.3864446763973697,
           2.4551270576029727,
           2.5574986275679423,
           2.680609508853042,
           2.806404144374907,
           2.9193834273104473,
           3.011153475563743,
           3.080170276760994,
           3.1291477000396917,
           3.1626124327598086,
           3.185410553106244,
           3.201938867571224,
           3.215706191047251,
           3.2291314481696314,
           3.2434791639198086,
           3.2589150676185703,
           3.275208238340855,
           3.2925628812245757,
           3.3110864752637306,
           3.3294827845939294,
           3.345301939864844,
           3.35712912992127,
           3.366277863483229,
           3.3760987900094355,
           3.389911455249643,
           3.4093710723929154,
           3.4336933641826843,
           3.4594586276921406,
           3.481219649592521,
           3.4936317655382894,
           3.494921313253058,
           3.4886789198525467
          ],
          [
           2.8574359900210253,
           2.841700235112491,
           2.8242790642662574,
           2.8049875184580975,
           2.783623672235662,
           2.7599703231595814,
           2.73379950111789,
           2.7048819209587847,
           2.673004978273961,
           2.638005365367547,
           2.599826469544698,
           2.5586171993852243,
           2.5148983434399805,
           2.469833715084349,
           2.425647902715023,
           2.3862024504850745,
           2.357608903119886,
           2.3484140894098813,
           2.3683660043183328,
           2.4247217118181927,
           2.5169061797463366,
           2.6336940595525844,
           2.756946489602253,
           2.8696686518905783,
           2.961789070980658,
           3.030688813108306,
           3.0786745788369343,
           3.1102951610333593,
           3.1306269612068522,
           3.144378045381381,
           3.155374528067982,
           3.1662978372289854,
           3.1785881714538857,
           3.192471214727362,
           3.207664288206922,
           3.2243096855992075,
           3.2424979979700304,
           3.2608602560478346,
           3.276744523786647,
           3.2885271827249265,
           3.297496776099588,
           3.307190153420069,
           3.3211770811272605,
           3.341266849739735,
           3.366650140369614,
           3.3936893817769476,
           3.4165736055051785,
           3.4295761942203717,
           3.4307324086478865,
           3.4237932449418436
          ],
          [
           2.8826878798678712,
           2.8671619197737335,
           2.849962711403186,
           2.8309026411871936,
           2.8097750408676525,
           2.786354746991872,
           2.7604008679042447,
           2.7316635346750586,
           2.699897689890165,
           2.664889145756733,
           2.626501811372537,
           2.58476100180899,
           2.5399970207694036,
           2.4930856379157045,
           2.4458325868308584,
           2.4015368055064026,
           2.3656723544269314,
           2.3463364631741315,
           2.3535528548726647,
           2.3961480788440563,
           2.476220991309091,
           2.5848699818347023,
           2.7043704595023383,
           2.816285062562369,
           2.908603754519699,
           2.9773496843602225,
           3.024254477147302,
           3.053829266544941,
           3.071384878111272,
           3.081976732117693,
           3.089799758007059,
           3.0978504228006134,
           3.1077862802430345,
           3.11991570653015,
           3.133901204719696,
           3.149807709020115,
           3.167700607225326,
           3.1861268914757064,
           3.2021994773495117,
           3.2140446008156953,
           3.2229109786159804,
           3.2325457900063763,
           3.2468101562144533,
           3.2676954678162784,
           3.2943658277286696,
           3.322933589346597,
           3.3471709951363082,
           3.360914202060027,
           3.3619762722222895,
           3.354285336941033
          ],
          [
           2.9100197502483898,
           2.8947346648904126,
           2.8777932936738755,
           2.859006381991883,
           2.8381638251665997,
           2.815034204000103,
           2.7893659582537453,
           2.7608916434006407,
           2.729337795728914,
           2.6944447999607575,
           2.656004365488959,
           2.6139276340810236,
           2.568365698303065,
           2.5199171720228053,
           2.4699720628739317,
           2.4212433240750326,
           2.3784796445132184,
           2.3491239524783447,
           2.343146187193052,
           2.370655516768615,
           2.436535571765985,
           2.5348472759047174,
           2.648979107064925,
           2.759263303098085,
           2.8515036918897625,
           2.920018464487307,
           2.9657359205585805,
           2.9930372693648164,
           3.0074609971091633,
           3.0144473695033507,
           3.0186203017219926,
           3.0233563016459537,
           3.030583888135664,
           3.040725288287272,
           3.053386824118821,
           3.0685364970202595,
           3.086202439480273,
           3.1048335106759235,
           3.1212676970358837,
           3.1333299263992793,
           3.142208508218445,
           3.151887798336117,
           3.1665690271301417,
           3.1884595190799447,
           3.2166954095688527,
           3.247101538893871,
           3.272972389130401,
           3.2876438928796268,
           3.2886708111685685,
           3.2801760130256805
          ],
          [
           2.9395355927059335,
           2.924523541584306,
           2.9078772041836225,
           2.8894067738143225,
           2.8689001217661114,
           2.8461214302355526,
           2.820810945681731,
           2.792686989392641,
           2.761452250641956,
           2.7268079501186393,
           2.6884821970258086,
           2.646283595999701,
           2.6001991149574697,
           2.550567756579852,
           2.4983784428232796,
           2.4457534883527376,
           2.3966536636610383,
           2.3576804688569277,
           2.338385617471631,
           2.349730415555927,
           2.3992919339461376,
           2.484689368543303,
           2.591336342383248,
           2.6987887332626728,
           2.790482271966677,
           2.8586185734232417,
           2.9030150834634125,
           2.927783515612089,
           2.9386651387363725,
           2.9415217965545075,
           2.9414762448447984,
           2.9423658566474398,
           2.946459761957098,
           2.9543370187357634,
           2.965549482310855,
           2.979943315441799,
           2.9974917678890245,
           3.0165274731175664,
           3.033565300484296,
           3.0460652573378897,
           3.0551268843393617,
           3.065001125327991,
           3.080286979600411,
           3.103448509218572,
           3.1335927482228283,
           3.1662137080584314,
           3.1940586074577877,
           3.209892198395824,
           3.2109695476180256,
           3.201626197633545
          ],
          [
           2.9713321266761032,
           2.956625772266818,
           2.9403123050993822,
           2.9222025042648885,
           2.9020837000668944,
           2.8797176373705624,
           2.854839001526272,
           2.8271554634262928,
           2.796350809483988,
           2.7620939897802628,
           2.724059178113057,
           2.6819659403338476,
           2.635655563288364,
           2.5852311740940146,
           2.531306714774186,
           2.4754297343711196,
           2.420743301854353,
           2.37285783940625,
           2.3405419697748373,
           2.3350540575375955,
           2.3663082783789475,
           2.4359064652456,
           2.5323744490393367,
           2.6352818479239297,
           2.725669916725553,
           2.7931634491743096,
           2.8360609156894836,
           2.8579967268843696,
           2.8648606193525525,
           2.8629679795392384,
           2.858020625189923,
           2.854417742224683,
           2.8548605943824525,
           2.8601449149944744,
           2.869775147572014,
           2.883443788052122,
           2.9010431293500396,
           2.9207655008947055,
           2.9387437460974186,
           2.951993533923291,
           2.961486736486633,
           2.971772350144517,
           2.9879149951918667,
           3.0126845022439124,
           3.0451580910925204,
           3.0804492914506376,
           3.1106799482968297,
           3.12796519466433,
           3.129213796263894,
           3.118991413701691
          ],
          [
           3.0054968800647233,
           2.9911287263378545,
           2.9751858221441583,
           2.957480688108728,
           2.937801625728523,
           2.915909951461005,
           2.891537500526609,
           2.864385009646981,
           2.83412253400946,
           2.8003940475468894,
           2.762830181566766,
           2.7210763253607015,
           2.6748491609018608,
           2.6240448810695316,
           2.568938952335189,
           2.5105404286664155,
           2.451182018714217,
           2.395388596971528,
           2.3508228368499307,
           2.328411683863298,
           2.3397582019803083,
           2.3905382173680625,
           2.473527446436416,
           2.5695123867195986,
           2.65740837370804,
           2.7238040274139306,
           2.764951070286984,
           2.7837018908573206,
           2.7859934120928487,
           2.7786145882923696,
           2.7679366615002303,
           2.7590471133735237,
           2.755201164464318,
           2.757495610783929,
           2.7654036588427156,
           2.778423321281671,
           2.796326867388765,
           2.8171328942690304,
           2.8365193300747134,
           2.8509580039065026,
           2.86124004971922,
           2.872244947499798,
           2.8895820700478603,
           2.9163855199278403,
           2.9517026906570503,
           2.9902106687476704,
           3.023320160430005,
           3.042412482688742,
           3.0439990585129957,
           3.0328913510893556
          ],
          [
           3.0421064598873504,
           3.02810813137879,
           3.012572485518383,
           2.9953149242215016,
           2.9761262159986877,
           2.954769243347662,
           2.9309756947105083,
           2.904443098723674,
           2.8748330009596756,
           2.8417718321453678,
           2.8048574057275384,
           2.763676551576634,
           2.7178441123432857,
           2.6670820528255734,
           2.611372217259873,
           2.5512395852264977,
           2.4882511285807345,
           2.4258184289409193,
           2.370259380579284,
           2.3315478593509265,
           2.3220735574443045,
           2.3511915914430586,
           2.4168785706836373,
           2.50275468420438,
           2.586360232297839,
           2.650898973246108,
           2.6899234759871673,
           2.705065474050306,
           2.7021340936924583,
           2.688387435723393,
           2.670964419649236,
           2.6557993681240815,
           2.6468658419949156,
           2.645682631038204,
           2.651723456773421,
           2.6642394535797593,
           2.6828235292205482,
           2.705271945128446,
           2.726716033024693,
           2.7429587644701328,
           2.7545386354321595,
           2.7666970550119823,
           2.785679087527431,
           2.815052105559894,
           2.8538348934474023,
           2.896206893623841,
           2.932777061156684,
           2.9541067000076513,
           2.9562563354145563,
           2.944295296049045
          ],
          [
           3.0812251300561595,
           3.0676266250766964,
           3.0525330522690406,
           3.0357637839089566,
           3.0171134883730026,
           2.996348530413523,
           2.9732030584747497,
           2.947375002294519,
           2.9185224845273514,
           2.886261687631178,
           2.8501682391260776,
           2.8097861128656434,
           2.7646516894376103,
           2.7143474183670646,
           2.6586118977968383,
           2.5975544360593985,
           2.5320537780428753,
           2.464449548281708,
           2.399591288544936,
           2.345978405549549,
           2.315748297106808,
           2.3209821762045824,
           2.3652877985013894,
           2.4369843063234558,
           2.513666467931706,
           2.575118245738624,
           2.6114504407065415,
           2.6224594658461124,
           2.6135382838200125,
           2.5923639258993494,
           2.5669427068498023,
           2.5442535546871863,
           2.5292131607993347,
           2.5239389941372403,
           2.5279639254677497,
           2.540225237914945,
           2.5600451092742142,
           2.584923447362276,
           2.609327058998456,
           2.6282326713054283,
           2.641829688978665,
           2.655748753350338,
           2.676972758781217,
           2.7095823011448954,
           2.7525710774350665,
           2.799557521877084,
           2.8402592892594845,
           2.8643363094623546,
           2.867345745893561,
           2.85462061657172
          ],
          [
           3.122903802958865,
           3.109732760501582,
           3.0951133297909252,
           3.0788698586976593,
           3.0608022408485605,
           3.0406821003679947,
           3.0182484709369306,
           2.993203054310787,
           2.9652053242241245,
           2.933868104032028,
           2.898754958828973,
           2.859382129401716,
           2.815230418642195,
           2.7657775974809224,
           2.7105716606352446,
           2.6493831169556787,
           2.582504564127118,
           2.5113063312463586,
           2.439172990926478,
           2.372789333268366,
           2.323045053912632,
           2.303320110928455,
           2.3224306969103496,
           2.375094658795509,
           2.4411627125736644,
           2.49759388149902,
           2.5303446927315254,
           2.5365515075969443,
           2.5207333711112536,
           2.490854673923975,
           2.455875695816273,
           2.4240630218495376,
           2.4015872885273972,
           2.391428429055335,
           2.3932842486840333,
           2.4056937670990424,
           2.427565872156264,
           2.455986519025615,
           2.48460176572811,
           2.5073638183374567,
           2.52398550905759,
           2.5405052414796754,
           2.564754518463507,
           2.6014175174959284,
           2.6494709256138544,
           2.701913295197691,
           2.7474932157279772,
           2.7749037873029203,
           2.77915322538456,
           2.7658342886226737
          ],
          [
           3.167179527777139,
           3.1544605503176166,
           3.1403437889719332,
           3.1246594593601995,
           3.107213859122802,
           3.0877854563381,
           3.0661203390894736,
           3.0419270073353677,
           3.0148705909325666,
           2.9845668010919773,
           2.9505763853795686,
           2.9124017922123837,
           2.8694896197261706,
           2.821246126627495,
           2.7670803456907285,
           2.706503295058235,
           2.639337334535028,
           2.5661312944110257,
           2.4889239809049397,
           2.4124697922794853,
           2.345648965211131,
           2.301506240880086,
           2.2926435833491703,
           2.321067686797861,
           2.3716506958867476,
           2.420133083347725,
           2.4479092219772873,
           2.448429817919867,
           2.424641303945593,
           2.384525300640711,
           2.3380395190121495,
           2.2950269998511663,
           2.2633445454921537,
           2.247237201660794,
           2.2467578098908074,
           2.259944138356345,
           2.2850664876311875,
           2.3186032754400134,
           2.3531652712589883,
           2.3814307882456403,
           2.4024715036139104,
           2.422737366491189,
           2.4510224716403135,
           2.4927133719115933,
           2.5467869985770912,
           2.605580143394575,
           2.656823808328394,
           2.688210846539975,
           2.69416991986366,
           2.680535237561788
          ],
          [
           3.2140755227922533,
           3.201829595617389,
           3.188239810472815,
           3.1731430065644832,
           3.1563528867410833,
           3.137656113029887,
           3.116807682567237,
           3.0935254916265804,
           3.0674840399028627,
           3.038307345432608,
           3.005561411528222,
           2.9687471701900607,
           2.927296043256454,
           2.8805727617378336,
           2.827895161833302,
           2.768590852475266,
           2.7021304739342153,
           2.628413424349071,
           2.548337530450361,
           2.4648276912026694,
           2.3843579941968494,
           2.318176956405635,
           2.280466599316684,
           2.2799634686288566,
           2.309180177932291,
           2.345501368386077,
           2.366143338452735,
           2.359771482843058,
           2.3267476811510157,
           2.2745751708266377,
           2.2141522369264344,
           2.1572173483169985,
           2.113911779280485,
           2.090372797338169,
           2.087352316810069,
           2.1022699217924004,
           2.132396588622513,
           2.17327562189844,
           2.2161760907718384,
           2.2521909435792167,
           2.2795463715842468,
           2.3050868791739467,
           2.3386774958080765,
           2.3865110202609867,
           2.447599991547288,
           2.513615528772953,
           2.5712772486163495,
           2.6072971585901548,
           2.6155183810311255,
           2.6019783441935433
          ],
          [
           3.2636017549617646,
           3.251845796616805,
           3.2388025537459746,
           3.2243160929977908,
           3.2082083254111082,
           3.1902751945712384,
           3.170282108440028,
           3.147958475178597,
           3.1229912067878836,
           3.095017097244257,
           3.06361411298355,
           3.028291954969933,
           2.9884829746290538,
           2.943536089364399,
           2.8927196548414735,
           2.83524616459819,
           2.7703458134639667,
           2.6974439076227883,
           2.6165474947108467,
           2.5290171716809304,
           2.4389148431538503,
           2.3547414462322394,
           2.2898604310384427,
           2.2575310605543506,
           2.2592114301491555,
           2.2777530966760504,
           2.2880111133651826,
           2.2730581078269463,
           2.2293230050832924,
           2.1629904879921864,
           2.0856402563041065,
           2.0112019827344856,
           1.9529103211182381,
           1.919785524228621,
           1.9139095648191204,
           1.9319734278895335,
           1.969662782481982,
           2.0210201748084646,
           2.0755192789285055,
           2.122285947550774,
           2.158464431280006,
           2.191253801361417,
           2.23168143775141,
           2.2868517002394433,
           2.355881745493255,
           2.429841930276571,
           2.4945336574629025,
           2.535782723998476,
           2.546874281334679,
           2.5339844948702233
          ],
          [
           3.3157560238114634,
           3.3045025921367834,
           3.2920203832211,
           3.278161135773271,
           3.2627555645136446,
           3.2456097076523274,
           3.2265005164474223,
           3.205170520941464,
           3.1813213828231928,
           3.1546061387695348,
           3.1246199730465274,
           3.0908894966025864,
           3.05286088066982,
           3.0098880730296087,
           2.9612243066791875,
           2.9060244522786016,
           2.843375097565356,
           2.7723888029552555,
           2.6924379945599375,
           2.6036727560831037,
           2.5080489610390084,
           2.4110249154479773,
           2.323266012714186,
           2.259280524616658,
           2.228405800217511,
           2.2225083151590335,
           2.2177541203074553,
           2.191828618170241,
           2.1356864581264743,
           2.052879001715499,
           1.955040141115299,
           1.858431891837615,
           1.7804114091661334,
           1.7344509933964136,
           1.725138600462526,
           1.7483946038650435,
           1.7973516949976078,
           1.8635612293403678,
           1.9340131886926093,
           1.9954198413102626,
           2.0436064341163487,
           2.0860733753710767,
           2.135075186130564,
           2.198733180580627,
           2.2763945364530374,
           2.358700011651381,
           2.4307453426144656,
           2.4776574098639967,
           2.4922291388140216,
           2.4806787476199634
          ],
          [
           3.3705254655320553,
           3.3597826307216883,
           3.3478707386003275,
           3.3346494864436407,
           3.319958782643127,
           3.3036153017989247,
           3.285408306659448,
           3.2650945610481785,
           3.242392119297761,
           3.2169727393576046,
           3.188452641602277,
           3.156381354744243,
           3.120228525991183,
           3.079368985787635,
           3.033067405707739,
           2.9804663605456865,
           2.9205872297421087,
           2.8523658459327765,
           2.774771574286882,
           2.6871123089078557,
           2.5897192244543565,
           2.4852858580709816,
           2.3808813400036546,
           2.28910985816061,
           2.223725822758338,
           2.1869288876734023,
           2.1611672777038304,
           2.1209272818240748,
           2.050466841132812,
           1.9488572268480915,
           1.8265600939762183,
           1.7018866906750998,
           1.5974469100285045,
           1.5335994715470667,
           1.519660232971968,
           1.550976045358717,
           1.616500451425545,
           1.7035457828938683,
           1.7955709564929643,
           1.8764090223772345,
           1.9404064665023493,
           1.9953326213595313,
           2.054706497897746,
           2.1277751396280853,
           2.214321842673342,
           2.3048663881733598,
           2.384149612973586,
           2.43688268188485,
           2.4554671959479535,
           2.446031366978415
          ],
          [
           3.4278883643790916,
           3.4176597462746,
           3.40632230498001,
           3.393743833415471,
           3.3797736301781174,
           3.3642392935809786,
           3.3469428255977034,
           3.3276558716155193,
           3.3061138760691464,
           3.282008879567635,
           3.254980623880028,
           3.2246055800186046,
           3.190383505947119,
           3.1517212578046028,
           3.1079140184970533,
           3.0581253238084454,
           3.0013702962292514,
           2.936513683399908,
           2.8623107829253787,
           2.7775555854374345,
           2.681473571189885,
           2.574613275756211,
           2.4605383415153823,
           2.3480046711727622,
           2.2507339980832755,
           2.1789858661418724,
           2.125629790753525,
           2.0666475829523097,
           1.9797534178556875,
           1.85737678112542,
           1.7067508229272557,
           1.54707314446974,
           1.4069906639289498,
           1.3172814985451613,
           1.2961990222389534,
           1.3394134430664486,
           1.4289285249415846,
           1.544732285212822,
           1.6652036079425248,
           1.7709493652037376,
           1.8549043006012,
           1.9251618093667047,
           1.9965287060894221,
           2.079495166080231,
           2.1745766477324295,
           2.2726197617885147,
           2.3584872362397653,
           2.4168356109906073,
           2.439800603787737,
           2.433256594447995
          ],
          [
           3.4878161475031964,
           3.4781011009712746,
           3.4673373296120054,
           3.45540072437996,
           3.4421499971669216,
           3.4274237303786426,
           3.411036790790422,
           3.3927759431314835,
           3.372394451508014,
           3.349605396428186,
           3.3240733604852637,
           3.295404048745919,
           3.263131322153878,
           3.2267010694579477,
           3.185451419506961,
           3.138589235151614,
           3.085164197281403,
           3.0240454251694797,
           2.9539146235079436,
           2.873311262571176,
           2.7808137732988696,
           2.6755382786394737,
           2.5582772461099044,
           2.4335508766069154,
           2.3116019215377257,
           2.205672373468254,
           2.119507695363112,
           2.036588864098541,
           1.9309568670034527,
           1.7867379115837763,
           1.6050376888519786,
           1.403342303093382,
           1.215717707316308,
           1.0876692758947808,
           1.0541576726628838,
           1.1140008168292352,
           1.2375411996667185,
           1.3920531116380512,
           1.5487039095129012,
           1.6849457316646392,
           1.792814190819831,
           1.8809516893359417,
           1.9654809201666243,
           2.0582556249831483,
           2.1608803419738667,
           2.2650653376048457,
           2.3563447304251746,
           2.419721485443101,
           2.447202458133679,
           2.4442271132179068
          ],
          [
           3.5502754482601016,
           3.541069369905293,
           3.5308739473119655,
           3.519573056056863,
           3.507034696311457,
           3.4931083024746195,
           3.477621477098328,
           3.460375998694994,
           3.441142907776628,
           3.4196564158323564,
           3.395606303982493,
           3.3686283781210187,
           3.3382924245843464,
           3.3040869731898423,
           3.2654000572818216,
           3.221495164920528,
           3.1714819721593086,
           3.1142829265423018,
           3.0486010138880917,
           2.9729052318192903,
           2.885477990636759,
           2.784632592384238,
           2.6693362430215335,
           2.5406296754085953,
           2.403973509332996,
           2.2704575205504858,
           2.1504898312932226,
           2.0389570547350266,
           1.9121802744231033,
           1.746418544408063,
           1.5335243593209915,
           1.285023907750934,
           1.0367279432793672,
           0.8518467995699366,
           0.7951294338558473,
           0.8764055704914213,
           1.0466990764794408,
           1.251396020421479,
           1.4518732722809116,
           1.623388817664387,
           1.758235978133955,
           1.8660346749632595,
           1.9642513829468258,
           2.0661944868029973,
           2.174899182604758,
           2.2834647330720435,
           2.3786341748747866,
           2.4461512836815333,
           2.4780346709243886,
           2.4791165764743712
          ],
          [
           3.6152301497340193,
           3.6065248727528614,
           3.5968884124767433,
           3.5862124208804054,
           3.5743739412035174,
           3.5612329728777925,
           3.546629522081814,
           3.53038000381417,
           3.5122728202612565,
           3.4920628851099784,
           3.4694647894812505,
           3.444144206277597,
           3.415706999181118,
           3.383685335026625,
           3.3475198966947715,
           3.306537087392899,
           3.259920010188027,
           3.2066723015666967,
           3.1455754126821796,
           3.075144797424556,
           2.993604056687467,
           2.898931212672325,
           2.789114318623616,
           2.6629153768218288,
           2.5215875692087923,
           2.371336438886837,
           2.222881364061841,
           2.08103395681542,
           1.9310263945039932,
           1.7454674608602627,
           1.505237935262525,
           1.2109289341214258,
           0.8924030991081262,
           0.6270574884714761,
           0.5265556008417744,
           0.6313479346873074,
           0.8626121903639782,
           1.1289500401664074,
           1.3793304580001167,
           1.5890627977644836,
           1.7524667742788942,
           1.8806726381825671,
           1.9924642944693105,
           2.1026107752374776,
           2.215808956134301,
           2.326948195124186,
           2.424418930046935,
           2.495051893485135,
           2.531021066209354,
           2.5364193949312352
          ],
          [
           3.682643358652156,
           3.674427600887862,
           3.665337184517887,
           3.6552712560883314,
           3.6441155644501806,
           3.631740269596248,
           3.6179972967249383,
           3.60271711816975,
           3.5857048097379636,
           3.56673517923503,
           3.5455466986979407,
           3.5218338815302426,
           3.495237622571878,
           3.46533285228437,
           3.4316126343163647,
           3.393467553113923,
           3.350158914255307,
           3.300784013168048,
           3.2442318427409114,
           3.179129053490771,
           3.1037813560533896,
           3.0161317299710313,
           2.913800646759334,
           2.794379592983422,
           2.6563481802158755,
           2.501073370731046,
           2.3350452217498483,
           2.166796364714277,
           1.9930298364973338,
           1.7902986660516755,
           1.5305496514472332,
           1.2001343043893873,
           0.813729847188833,
           0.44768171053286665,
           0.2694807967805377,
           0.38998619997577616,
           0.6936610086655989,
           1.030109730141994,
           1.3332574225694345,
           1.5816394155412568,
           1.7735040445198011,
           1.9218864051263773,
           2.0467238400721164,
           2.1641214204366945,
           2.2804971938420446,
           2.3927353103940394,
           2.4911542814580456,
           2.5639404547617612,
           2.6035710213004153,
           2.6133334252586327
          ],
          [
           3.7524793017964426,
           3.744739134611623,
           3.736178864906199,
           3.7267047982818102,
           3.7162109854986656,
           3.704577259545511,
           3.6916668738309637,
           3.677323640215659,
           3.6613684346834305,
           3.643594896586212,
           3.623764090262274,
           3.601597819276863,
           3.5767701749002234,
           3.548896749702117,
           3.517520738302546,
           3.482094861018944,
           3.441957664793251,
           3.396302282360324,
           3.3441352471843193,
           3.284222799647733,
           3.215023341098143,
           3.1346104116451126,
           3.0406094051054393,
           2.9302250796313243,
           2.8005701390382387,
           2.6497404933835007,
           2.479031258909632,
           2.2944265842094578,
           2.100050628543964,
           1.8829818532797735,
           1.6132836210824397,
           1.2641027583836093,
           0.8301114102229281,
           0.36535801480549146,
           0.07011560126624336,
           0.17562843622181626,
           0.5504912849435415,
           0.9582577131471234,
           1.3126663588209642,
           1.5976433648310786,
           1.8165164762937254,
           1.9842169405569423,
           2.1214810401061874,
           2.245493610688791,
           2.364287662475815,
           2.4767465823974564,
           2.575223833630012,
           2.6494358686038226,
           2.6923102144844835,
           2.7063381143689123
          ],
          [
           3.8247051743421823,
           3.817424485610763,
           3.809376028142391,
           3.8004728949791926,
           3.790616991573816,
           3.779697283026358,
           3.7675876935295394,
           3.7541445715119455,
           3.739203607940031,
           3.722576060047613,
           3.7040440847376126,
           3.6833549197576954,
           3.6602135588414084,
           3.63427343827129,
           3.6051244709043218,
           3.572277507402006,
           3.535143943880045,
           3.493008697047868,
           3.4449941115947906,
           3.390011602566603,
           3.3266972835172535,
           3.2533286398592267,
           3.1677251163960793,
           3.0671569359669872,
           2.948351540921545,
           2.8078515296181914,
           2.6432431479041325,
           2.4554596620422044,
           2.248864377908977,
           2.0210077388601495,
           1.7493922093291954,
           1.4004467364112074,
           0.9515863453856265,
           0.4249852373784399,
           0,
           0.029204211136459265,
           0.445717095120045,
           0.91405839134823,
           1.3136143251019408,
           1.6313032543421588,
           1.875000498879559,
           2.0609822737689725,
           2.2102517406355466,
           2.3407268269145622,
           2.4618415977526564,
           2.5743345852148978,
           2.6725494868298667,
           2.7478080454569707,
           2.7936208436568997,
           2.8117582464260766
          ],
          [
           3.899292996881087,
           3.8924539286019755,
           3.8848970195147183,
           3.876541757128392,
           3.8672974296796756,
           3.8570615645312105,
           3.8457180645943527,
           3.833134969425824,
           3.819161746005678,
           3.8036259850477516,
           3.7863293390263104,
           3.767042483585207,
           3.7454988082943785,
           3.7213864365225966,
           3.694338023768236,
           3.6639175688999597,
           3.629603163981354,
           3.5907641643550816,
           3.546630628320725,
           3.4962520031272906,
           3.438440928699213,
           3.3716969647094537,
           3.294105218874471,
           3.2032104194102544,
           3.095890840521936,
           2.968333974488669,
           2.8164157980692246,
           2.6370670937107437,
           2.4304685881846866,
           2.198063242540571,
           1.9294263142969186,
           1.594565306037948,
           1.1612219256126985,
           0.6264919785812098,
           0.11277940013313187,
           0.00273344952480894,
           0.3930974865057042,
           0.8958502524121773,
           1.3302876368520427,
           1.6758258800911752,
           1.9420350159556368,
           2.1454433103877593,
           2.3066627125255286,
           2.4439564522383703,
           2.5679072523257904,
           2.680889360047984,
           2.779085830025574,
           2.855406536616025,
           2.904045896128755,
           2.926170602658814
          ],
          [
           3.976221554124988,
           3.9698049022986215,
           3.9627178084720933,
           3.9548857520819847,
           3.9462249223973207,
           3.9366408291637485,
           3.9260266517921503,
           3.9142612652173643,
           3.9012068627113377,
           3.8867060720173985,
           3.8705784287882907,
           3.8526160270032763,
           3.8325781047573484,
           3.8101842381009297,
           3.7851056943513908,
           3.7569543228298135,
           3.7252681102119665,
           3.6894921620405317,
           3.6489533362483035,
           3.60282597213309,
           3.550085037923066,
           3.4894415083362382,
           3.4192530770876544,
           3.3374026018543033,
           3.241141603371895,
           3.12692211982707,
           2.990331341335281,
           2.8264835910546244,
           2.6315022627023645,
           2.404369717551876,
           2.1424563936932026,
           1.827626252963512,
           1.4276080605041894,
           0.9249918368675645,
           0.3881621101832379,
           0.128454104986773,
           0.40601715487728246,
           0.9012393550066082,
           1.3564762452517156,
           1.7245517599873978,
           2.011187268580487,
           2.2315357426045455,
           2.405065615308634,
           2.5499802736905357,
           2.6777675278136646,
           2.7922074738180345,
           2.8911180143252895,
           2.9689066685493524,
           3.020507455737477,
           3.046612739688591
          ],
          [
           4.055478496705512,
           4.049464067025182,
           4.042823992040476,
           4.035489340056958,
           4.027382720981844,
           4.018417051064465,
           4.00849409165303,
           3.9975027099515588,
           3.9853167951365966,
           3.971792743701125,
           3.9567664016552304,
           3.9400493155263074,
           3.921424095028829,
           3.9006386220151414,
           3.8773987442307574,
           3.851358955457621,
           3.822110366026471,
           3.789164979073367,
           3.751934861777832,
           3.70970416651741,
           3.661591010837101,
           3.6064948296742414,
           3.5430228380563396,
           3.469386775969702,
           3.3832592787228046,
           3.281583082351471,
           3.1603540288108363,
           3.0145051182653764,
           2.8383054504207337,
           2.6269396895466377,
           2.3778017188190437,
           2.08373249272993,
           1.7219245039625999,
           1.2689819149541803,
           0.755438111590926,
           0.3900286949822185,
           0.4949899622803421,
           0.9294569091717778,
           1.3869960130043828,
           1.771725899307876,
           2.076957407117962,
           2.314146920611777,
           2.5007371266391023,
           2.65443244557723,
           2.787403780139387,
           2.904638528139942,
           3.00537844066368,
           3.0853928074618997,
           3.1403638018125055,
           3.170625396850832
          ],
          [
           4.1370626943313225,
           4.131429611367997,
           4.125213045545755,
           4.118349257130364,
           4.110766805719345,
           4.102385452097644,
           4.0931148649325175,
           4.082853088670548,
           4.071484717056442,
           4.058878700872954,
           4.044885697343008,
           4.029334840048614,
           4.01202976918087,
           3.9927437080079384,
           3.9712132960574387,
           3.9471307827772617,
           3.9201340323398086,
           3.8897935676714352,
           3.8555955538083415,
           3.816919131203943,
           3.773005771274335,
           3.722917206070212,
           3.665476791333267,
           3.5991866767859544,
           3.5221098301229548,
           3.4317028005364016,
           3.324587541652468,
           3.196279916754185,
           3.0410162013366224,
           2.8521617093455145,
           2.623895098403802,
           2.3518809128744116,
           2.0253967959845474,
           1.6241076848071154,
           1.1541610145937256,
           0.7384050272151306,
           0.6642833453666516,
           0.9837728572818025,
           1.4189674856264674,
           1.8129417328327921,
           2.1348875541796266,
           2.389089010269925,
           2.589811649447572,
           2.753727829396984,
           2.893469535127976,
           3.0150799650464735,
           3.1190416408172985,
           3.2023351846752335,
           3.261362249949021,
           3.2961871356261234
          ],
          [
           4.220986941057483,
           4.215713910969281,
           4.20989692644858,
           4.203477053671981,
           4.1963883459924185,
           4.1885568673021085,
           4.179899546875019,
           4.170322829121438,
           4.159721071954819,
           4.147974634661775,
           4.134947579149659,
           4.120484885617329,
           4.104409052746538,
           4.086515910089039,
           4.066569411486592,
           4.044295095734296,
           4.019371783130473,
           3.991420906954579,
           3.9599926307296407,
           3.9245475336400677,
           3.8844320915697526,
           3.8388453348936826,
           3.7867927616711285,
           3.727021579423637,
           3.6579283200401242,
           3.5774256125384416,
           3.482750255120044,
           3.3701954819283997,
           3.2347812686453317,
           3.0700212820418114,
           2.8683604219755865,
           2.623030271639794,
           2.328348378125565,
           1.9731959788430982,
           1.551957309095375,
           1.127194931116389,
           0.9091463573070115,
           1.0730001088367185,
           1.453186956954177,
           1.8455091019480498,
           2.181536837514763,
           2.4529407707416495,
           2.6690931323567693,
           2.844896527057743,
           2.9931673874851685,
           3.120891737463159,
           3.2296567092340194,
           3.3175163579647022,
           3.3815442649102643,
           3.42159712815476
          ],
          [
           4.307281138279844,
           4.302346666013266,
           4.296905158829099,
           4.290902116769103,
           4.2842766496089695,
           4.2769606075641295,
           4.2688775664128045,
           4.259941636403818,
           4.250056056394892,
           4.239111524308065,
           4.2269842013210255,
           4.213533309007892,
           4.198598214149074,
           4.181994862621307,
           4.163511377966884,
           4.1429025764675735,
           4.1198830606277745,
           4.094118424451791,
           4.065213917569181,
           4.032699641052492,
           3.9960109380022204,
           3.954462020211268,
           3.907209915275994,
           3.8532043290920233,
           3.791116691216275,
           3.719238061045102,
           3.6353303462065556,
           3.5364090989088206,
           3.418435204511927,
           3.2759260803116383,
           3.1016688323840733,
           2.887232754626609,
           2.6251663262784573,
           2.3096627617037218,
           1.9351133254805173,
           1.5266958696542148,
           1.215959212890724,
           1.210526971885958,
           1.495866368283975,
           1.8690879734038819,
           2.214520787956744,
           2.5028906028522373,
           2.7358459842807914,
           2.925387812538699,
           3.0840918239480417,
           3.219779511620646,
           3.3350570856044746,
           3.428945395769287,
           3.499143555768538,
           3.545348027788099
          ],
          [
           4.395996124428881,
           4.39137868633887,
           4.386288567295136,
           4.380675345071949,
           4.3744827691999175,
           4.367647986278028,
           4.360100639400276,
           4.351761816030147,
           4.342542812210519,
           4.33234367262192,
           4.321051455027202,
           4.308538153126823,
           4.294658192468934,
           4.279245387914652,
           4.2621092155048075,
           4.243030202384506,
           4.221754169736101,
           4.197984966441136,
           4.171375191667536,
           4.141514201395891,
           4.107912393412701,
           4.069980313764421,
           4.027000438174694,
           3.978088412868811,
           3.922138860493611,
           3.8577482041544138,
           3.7831028097876955,
           3.6958145606904305,
           3.5926783041221753,
           3.46932324627274,
           3.319767688540966,
           3.1360949045017397,
           2.909125390871184,
           2.631281231886196,
           2.298971681287584,
           1.9205384128578333,
           1.5656977199812545,
           1.4092631614456923,
           1.5604589904572255,
           1.8869950508480087,
           2.2328284305849753,
           2.536684586789311,
           2.7876259700685133,
           2.9928857213309947,
           3.164070853370753,
           3.309671727341914,
           3.4332670153622624,
           3.5347776445500174,
           3.612498660307228,
           3.6660151902422005
          ],
          [
           4.487208389291008,
           4.482886561410157,
           4.478123896641873,
           4.472873711203985,
           4.467083999261126,
           4.4606967414664584,
           4.4536471045027515,
           4.44586251010216,
           4.437261546778598,
           4.427752690734538,
           4.417232793588409,
           4.405585282992466,
           4.3926780068683975,
           4.378360631453763,
           4.362461475582776,
           4.344783625652829,
           4.325100123190573,
           4.303147943323663,
           4.278620377949885,
           4.251157286875024,
           4.220332460127934,
           4.185637007797577,
           4.146457200208307,
           4.102044423606242,
           4.051473734739942,
           3.9935856291971334,
           3.9269026621129695,
           3.849507854857528,
           3.7588647221848657,
           3.651549771802005,
           3.5228652443926824,
           3.366344152443689,
           3.1734190104849187,
           2.9343897712204057,
           2.6424835726926754,
           2.2998963771155654,
           1.938356300726243,
           1.6736390162531656,
           1.6676838629212263,
           1.9085440575950543,
           2.23772700072418,
           2.5528025440559023,
           2.822201281407547,
           3.0451593592268984,
           3.2310206986469447,
           3.388600594828678,
           3.522410459577032,
           3.6332432286171152,
           3.7199851832475215,
           3.7821738395632463
          ],
          [
           4.581026016394511,
           4.576978557327914,
           4.572519657943109,
           4.567606050593627,
           4.562189600455364,
           4.55621668718479,
           4.549627492034678,
           4.54235517236455,
           4.534324901212132,
           4.525452744112325,
           4.515644338263342,
           4.504793329897461,
           4.492779513553657,
           4.479466600799728,
           4.464699524289722,
           4.448301153679555,
           4.430068259673064,
           4.409766506632673,
           4.387124175734463,
           4.361824208910851,
           4.333494002372156,
           4.301692141612584,
           4.265890916597941,
           4.225452920296049,
           4.179599207856861,
           4.127365199278502,
           4.067538451072596,
           3.998569127755355,
           3.918438768222551,
           3.8244650119191865,
           3.71300996104795,
           3.5790571881842634,
           3.415678246505846,
           3.21374038689304,
           2.9633684004798595,
           2.6599567960608295,
           2.3160998363108005,
           1.9943459957072793,
           1.8399848087230424,
           1.9520482434767539,
           2.234750077145585,
           2.5510849291657474,
           2.837642256057727,
           3.0799725051894797,
           3.2828209440262612,
           3.454590007788539,
           3.6006220758335874,
           3.7225801255224513,
           3.8199622868106027,
           3.8923431576426917
          ],
          [
           4.677596358146851,
           4.673802243611023,
           4.669623701551606,
           4.665020574596326,
           4.659948245992886,
           4.654357085423026,
           4.648191812648098,
           4.641390763806335,
           4.633885041702008,
           4.625597526988585,
           4.6164417214448905,
           4.606320387155215,
           4.595123935752055,
           4.5827285091568335,
           4.568993676322706,
           4.553759647726096,
           4.536843878437219,
           4.51803688812071,
           4.497097067241605,
           4.4737441555290465,
           4.447650959887907,
           4.418432706682124,
           4.385633169743173,
           4.348706336062084,
           4.306991793760015,
           4.259681133116005,
           4.205771244836411,
           4.1439981555334615,
           4.072741434586025,
           3.989883468223601,
           3.8925992427196086,
           3.777041692014547,
           3.637886999530516,
           3.4677780835520844,
           3.2571349563173184,
           2.9963789690355807,
           2.6848735753565727,
           2.350686995319931,
           2.0891522358184247,
           2.0454908242376804,
           2.2372941111569444,
           2.5342616780450253,
           2.8327487146314017,
           3.095105625746474,
           3.317222341388367,
           3.5055523476539348,
           3.665958789516806,
           3.8009662986787647,
           3.910723918162873,
           3.9949475993969426
          ],
          [
           4.7771161996680025,
           4.773554602605734,
           4.769633266406036,
           4.765314853408336,
           4.760557931183118,
           4.755316474578375,
           4.749539296187706,
           4.743169392464964,
           4.736143189872482,
           4.728389671852062,
           4.719829362812941,
           4.710373139416839,
           4.699920831765923,
           4.6883595670560805,
           4.675561794994275,
           4.661382916595023,
           4.645658414154082,
           4.628200347773801,
           4.608793039165949,
           4.587187701220098,
           4.563095683932814,
           4.536179881432722,
           4.5060436619212085,
           4.472216412307232,
           4.434134384008017,
           4.3911149075584985,
           4.342321082415501,
           4.286712530588922,
           4.2229753741392075,
           4.149420688115125,
           4.063834471044952,
           3.9632529193254,
           3.8436260928287083,
           3.699336377204961,
           3.5226383427565504,
           3.303653269501411,
           3.033697559315463,
           2.718287861426871,
           2.4055874675081106,
           2.2181552663277713,
           2.2710362925002663,
           2.511183532502066,
           2.808194632049789,
           3.0886214371484693,
           3.331822081551942,
           3.539201049445062,
           3.716312300209032,
           3.866447363523541,
           3.9904463045789416,
           4.088282633053876
          ],
          [
           4.879845570342687,
           4.876495775509234,
           4.872808654061584,
           4.868749411020097,
           4.864279481557104,
           4.859356082275307,
           4.853931699975449,
           4.847953507146347,
           4.841362691094394,
           4.834093680710502,
           4.826073251166123,
           4.817219482089326,
           4.807440538660327,
           4.79663323712202,
           4.7846813457865345,
           4.771453558840126,
           4.756801061843568,
           4.740554582988459,
           4.72252079028952,
           4.7024778481405445,
           4.680169881348594,
           4.655300002313179,
           4.627521424313514,
           4.596425990511562,
           4.561529162049744,
           4.522250077790347,
           4.477884638484115,
           4.4275685402388785,
           4.370225554566328,
           4.304493742249315,
           4.228618085905458,
           4.140291377287051,
           4.036415463984104,
           3.912744676248186,
           3.7633828430700436,
           3.5802420395719,
           3.353319646476756,
           3.075542625401749,
           2.7610206295502593,
           2.481134756964151,
           2.3733104054406513,
           2.5024409613623733,
           2.769194461956113,
           3.059691012952743,
           3.324203287628437,
           3.553001751058568,
           3.749327544331152,
           3.9168596400889815,
           4.057127056767332,
           4.170474271302938
          ],
          [
           4.986127031272873,
           4.982968264661209,
           4.979492337735994,
           4.9756667322190165,
           4.971455448271545,
           4.966818598817773,
           4.961711949129169,
           4.956086392583277,
           4.949887351619794,
           4.943054090546744,
           4.935518923857688,
           4.927206299916558,
           4.918031734992456,
           4.9079005663323105,
           4.896706484763403,
           4.884329796553237,
           4.870635349986449,
           4.855470043024185,
           4.838659802595627,
           4.820005890787087,
           4.799280344407195,
           4.7762202861113625,
           4.75052074839262,
           4.721825512374514,
           4.689715259792008,
           4.65369203447645,
           4.613158553795274,
           4.567390210510686,
           4.515496511982937,
           4.456366967879925,
           4.3885936493483335,
           4.310358155000356,
           4.219263660857518,
           4.112082645837076,
           3.9843815490086074,
           3.830001938469349,
           3.640562745662597,
           3.406132640779912,
           3.1220616222179056,
           2.8135610516229423,
           2.5760116777181885,
           2.5456944777494326,
           2.7310165497958945,
           3.0107154992435405,
           3.2924940301486156,
           3.5442298989154266,
           3.7623436637821577,
           3.949753059549464,
           4.108515721754254,
           4.2394269905132065
          ],
          [
           5.096413421430049,
           5.093424559877433,
           5.090136457711684,
           5.086518615013381,
           5.082537304522583,
           5.078155203531131,
           5.073330977707859,
           5.068018809180966,
           5.062167859658804,
           5.055721657446133,
           5.0486173947971045,
           5.040785118991385,
           5.032146796628528,
           5.022615225640888,
           5.012092763063123,
           5.000469828166004,
           4.987623129468788,
           4.973413549412725,
           4.957683600726124,
           4.940254341756034,
           4.920921601404689,
           4.899451313556134,
           4.875573689695101,
           4.848975857248534,
           4.819292445330771,
           4.786093386104339,
           4.748867882459435,
           4.707003012406333,
           4.6597547012320515,
           4.606207634612962,
           4.545218843975677,
           4.47533673265112,
           4.394682546959122,
           4.3007738558382185,
           4.190259272894888,
           4.058525775090745,
           3.8991695349963114,
           3.7035671505758834,
           3.4620668392790783,
           3.1733220390504506,
           2.8760047564345848,
           2.6875799485386853,
           2.7274379047526223,
           2.9522573526918543,
           3.2369916800963936,
           3.5103285972232463,
           3.752406259818123,
           3.962327383056368,
           4.142040327139397,
           4.292760417433884
          ],
          [
           5.211309127158663,
           5.2084682257584065,
           5.20534370977473,
           5.201906842158913,
           5.198125880676374,
           5.193965742507715,
           5.189387626526169,
           5.18434858676612,
           5.178801049339768,
           5.172692263498564,
           5.165963675586746,
           5.158550212182025,
           5.150379455611136,
           5.141370691061402,
           5.131433799407033,
           5.120467963253421,
           5.108360145054197,
           5.0949832847521055,
           5.080194149221057,
           5.063830745403225,
           5.04570918137376,
           5.025619821620756,
           5.003322530171429,
           4.978540721212904,
           4.950953831519665,
           4.920187676868273,
           4.88580193152823,
           4.847273637420172,
           4.803975145463954,
           4.755144113977411,
           4.6998419683831845,
           4.636895280891152,
           4.564811395613323,
           4.481654591654248,
           4.384861277680415,
           4.2709622321483085,
           4.13517393467344,
           3.9708642435269472,
           3.7692178539710826,
           3.52107589659053,
           3.229308147558197,
           2.948043772997203,
           2.8124489087511644,
           2.9125892939022044,
           3.1643670672805153,
           3.450104875188764,
           3.7164949450583777,
           3.951419354257096,
           4.154741713874498,
           4.327740293079107
          ],
          [
           5.331633890321785,
           5.3289174112647215,
           5.325930529125483,
           5.322646010118331,
           5.319033806682798,
           5.315060750464557,
           5.310690207939925,
           5.305881693211196,
           5.3005904314784855,
           5.294766865431952,
           5.2883560952392195,
           5.281297240837597,
           5.273522712762086,
           5.264957374590952,
           5.25551757605997,
           5.245110030697927,
           5.233630505078976,
           5.220962277932895,
           5.206974315652814,
           5.191519095138032,
           5.1744299839108665,
           5.155518058900545,
           5.134568206064687,
           5.111334288505428,
           5.08553309403043,
           5.056836663729111,
           5.024862444916134,
           4.989160479392141,
           4.949196490980532,
           4.9043292092488855,
           4.853779451554738,
           4.796587204084533,
           4.731550896184512,
           4.657139763271201,
           4.571364900652344,
           4.471586473913409,
           4.35422400044385,
           4.214332945514549,
           4.0450699281611415,
           3.837476287133056,
           3.583096602838676,
           3.2899240738714077,
           3.029010545048919,
           2.9470718566907332,
           3.097168712610791,
           3.3671795235080695,
           3.652394513999431,
           3.913651405824007,
           4.143246024957358,
           4.341215081627968
          ],
          [
           5.458526137178406,
           5.455907651286634,
           5.45302931715118,
           5.4498651297597736,
           5.4463864314365065,
           5.4425616293346275,
           5.438355879905291,
           5.433730735742155,
           5.4286437493775574,
           5.42304802759195,
           5.416891728541669,
           5.410117492441928,
           5.402661794570754,
           5.394454206864166,
           5.385416551190983,
           5.375461923308757,
           5.36449356121427,
           5.352403524707756,
           5.339071143931328,
           5.324361182642159,
           5.308121645947955,
           5.2901811406149895,
           5.270345666627075,
           5.248394678180297,
           5.2240761959505795,
           5.1971006730935025,
           5.1671332041182945,
           5.133783501665831,
           5.096592824839903,
           5.055016681806166,
           5.008401580229632,
           4.95595324865549,
           4.896692411810656,
           4.829392059097696,
           4.752486686147369,
           4.66393844531817,
           4.561036685568114,
           4.44009680124758,
           4.296023245883401,
           4.121778357848313,
           3.908305683607543,
           3.6480537095907004,
           3.3550029805249477,
           3.1179654955437894,
           3.0882082196259093,
           3.2788381088175846,
           3.561455190584592,
           3.8460814395800775,
           4.103863472521195,
           4.329583173408471
          ],
          [
           5.5936201108877786,
           5.591067989545031,
           5.588263464631207,
           5.585181452732558,
           5.581794347802053,
           5.578071759715864,
           5.573980223647262,
           5.569482876427266,
           5.564539095405088,
           5.559104094515854,
           5.5531284712667,
           5.546557697110993,
           5.539331542122404,
           5.531383422911435,
           5.522639660220626,
           5.513018629422778,
           5.502429783002114,
           5.49077251871401,
           5.477934860074712,
           5.4637919065498295,
           5.4482039984851856,
           5.431014525326363,
           5.41204728339999,
           5.391103259175076,
           5.367956672128985,
           5.342350053152194,
           5.313988052408257,
           5.2825295534088035,
           5.247577500265427,
           5.208665595100326,
           5.165240648361725,
           5.116638794598214,
           5.062052901743253,
           5.000487105780566,
           4.93069216567185,
           4.851071719923934,
           4.759543741159755,
           4.653332728785118,
           4.528657657951453,
           4.380282481764242,
           4.200992059228814,
           3.981674049203617,
           3.7158652000386243,
           3.4243213602037974,
           3.21380877400836,
           3.233190893710038,
           3.456485057513546,
           3.7484100276871892,
           4.0330893120698,
           4.28886080417048
          ],
          [
           5.739372317364683,
           5.736845298564263,
           5.734069358496766,
           5.731019963489719,
           5.72767015357042,
           5.723990299090818,
           5.71994783169462,
           5.715506946502271,
           5.7106282718797,
           5.705268502530533,
           5.699379990875445,
           5.692910290713471,
           5.685801645941259,
           5.677990415562465,
           5.6694064242513145,
           5.659972225209698,
           5.6496022587995585,
           5.638201886204971,
           5.625666271860666,
           5.6118790811399855,
           5.596710950226036,
           5.5800176723646455,
           5.561638027652166,
           5.5413911604939985,
           5.519073377508918,
           5.494454195495648,
           5.467271409017475,
           5.437224862539417,
           5.403968491193857,
           5.367100019053964,
           5.326147445722652,
           5.280551065335746,
           5.229639172135708,
           5.172594690230927,
           5.108408515985802,
           5.035813035921761,
           4.953185522662434,
           4.858405096647097,
           4.748637902518433,
           4.620014705539146,
           4.467169901348064,
           4.282727471582423,
           4.057557119585154,
           3.786447689789088,
           3.4976168501845444,
           3.315394628211102,
           3.3800196579169923,
           3.629846467767983,
           3.9294015158693862,
           4.215077712610311
          ],
          [
           5.899723637599791,
           5.897161336257934,
           5.894347945158776,
           5.891258980236753,
           5.887867588266564,
           5.884144319282326,
           5.880056876819559,
           5.875569843551995,
           5.87064437951821,
           5.865237889665167,
           5.859303656849437,
           5.852790435696553,
           5.845642001777465,
           5.837796649356862,
           5.829186629420209,
           5.819737517687965,
           5.809367499735887,
           5.797986556972932,
           5.785495532834182,
           5.771785052791893,
           5.756734264221554,
           5.740209352165504,
           5.722061773762799,
           5.702126136371197,
           5.680217620510625,
           5.656128816287408,
           5.629625797387699,
           5.60044319483549,
           5.568277945643544,
           5.532781267243737,
           5.493548228518666,
           5.450104022899207,
           5.401885650982944,
           5.34821711211213,
           5.288275258176601,
           5.221041964265834,
           5.145235861926373,
           5.059212981669727,
           4.960819419261357,
           4.847169838351903,
           4.714315290786003,
           4.556771745729695,
           4.367018551653367,
           4.1359413378856855,
           3.8597216828707226,
           3.5746076740897106,
           3.421630737197929,
           3.5273364429157725,
           3.7992032548451586,
           4.105768949223897
          ],
          [
           6.081634920067737,
           6.078934099682885,
           6.075970646874549,
           6.072719355126057,
           6.069152657074762,
           6.065240412331641,
           6.060949677132751,
           6.056244454167682,
           6.051085420676111,
           6.045429632574973,
           6.039230201950931,
           6.032435944693351,
           6.02499099430994,
           6.016834377006361,
           6.007899541852356,
           5.998113838210091,
           5.987397930448725,
           5.975665137162251,
           5.962820678448741,
           5.948760810041754,
           5.933371816868212,
           5.916528830486684,
           5.898094424217742,
           5.877916925763696,
           5.855828368539465,
           5.831641978111008,
           5.805149056626286,
           5.776115082356965,
           5.744274778136338,
           5.709325813558882,
           5.670920678992473,
           5.628656085565633,
           5.582058973948159,
           5.530567807029806,
           5.473507197504193,
           5.410052948153088,
           5.339183038107718,
           5.259607601523609,
           5.169666915562091,
           5.067179978459967,
           4.949216714255454,
           4.81175665425098,
           4.6492080514125655,
           4.453921037275892,
           4.216826934398818,
           3.9356164784310277,
           3.655011836040976,
           3.531552072785329,
           3.6743372824354,
           3.96515349702443
          ],
          [
           6.299456659955626,
           6.296395451674349,
           6.293040756160345,
           6.2893652165470595,
           6.285339065461505,
           6.28092993522324,
           6.276102656014391,
           6.270819041360564,
           6.265037660097598,
           6.2587135937541225,
           6.251798177927074,
           6.244238725732464,
           6.23597823073403,
           6.226955045835867,
           6.217102533407681,
           6.206348680315609,
           6.194615669462417,
           6.181819396782329,
           6.167868919242865,
           6.152665815096414,
           6.136103432162358,
           6.118065992995892,
           6.098427516993404,
           6.077050508218599,
           6.053784343197078,
           6.028463273960919,
           6.00090393655228,
           5.970902221560535,
           5.938229317434559,
           5.90262667383405,
           5.8637995429034895,
           5.821408628382002,
           5.7750591861194565,
           5.7242866435198785,
           5.6685373892255155,
           5.607142745432674,
           5.539283136565727,
           5.463937880099992,
           5.379813464807884,
           5.285239029473309,
           5.178011128727934,
           5.055160109179469,
           4.912600411955138,
           4.744641473905905,
           4.543517662518234,
           4.300231245437621,
           4.014074618608936,
           3.7385644933413964,
           3.644366343452534,
           3.820661278759679
          ],
          [
           6.5928880887884915,
           6.5887406448812005,
           6.584211109402945,
           6.579266693911172,
           6.573872202689554,
           6.5679899167576234,
           6.5615794793238935,
           6.554597782846842,
           6.5469988574516105,
           6.538733759875052,
           6.529750461351011,
           6.519993731875281,
           6.509405017080121,
           6.4979223024782415,
           6.485479958083687,
           6.472008554360281,
           6.457434638062518,
           6.441680453786003,
           6.424663593885228,
           6.406296555767106,
           6.386486181305431,
           6.365132948051748,
           6.3421300757512995,
           6.31736240397846,
           6.290704986859833,
           6.262021337957504,
           6.231161241157556,
           6.197958020014512,
           6.1622251257969145,
           6.123751859611861,
           6.082297980768937,
           6.0375868634387295,
           5.989296733629464,
           5.937049328277497,
           5.88039503573975,
           5.818793150496494,
           5.751585219727073,
           5.67795843483023,
           5.596894390829695,
           5.507095906489189,
           5.4068803318111245,
           5.29402096928178,
           5.16550828043782,
           5.0171927639792475,
           4.843289048151516,
           4.6359247382478905,
           4.386192470678948,
           4.095055877130698,
           3.825032431052892,
           3.759473806870744
          ],
          [
           7.276274995472304,
           7.255917089520187,
           7.235136332071983,
           7.213914802391554,
           7.192233417347025,
           7.17007182879345,
           7.147408309389912,
           7.124219625252738,
           7.10048089358307,
           7.076165423092936,
           7.051244534677779,
           7.025687359331291,
           6.999460609752398,
           6.972528321432136,
           6.944851558201329,
           6.916388076231942,
           6.887091939268774,
           6.856913076362934,
           6.825796771504722,
           6.793683072206951,
           6.760506101132037,
           6.726193251103044,
           6.6906642390422935,
           6.653829988204247,
           6.615591300050924,
           6.5758372666197396,
           6.53444336036283,
           6.491269119931886,
           6.446155325438448,
           6.398920522722255,
           6.349356709272761,
           6.297223928960297,
           6.242243430015666,
           6.184088907509894,
           6.1223751572758855,
           6.056643180013544,
           5.98634033935063,
           5.910793509148934,
           5.829172099023808,
           5.740436180683395,
           5.643262246661575,
           5.535934766182857,
           5.416184749722025,
           5.280946421676112,
           5.125993588263836,
           4.945438302771712,
           4.731300696205277,
           4.4747741427956225,
           4.17854090129095,
           3.914225148425768
          ]
         ]
        },
        {
         "name": "optimum",
         "type": "scatter",
         "x": [
          0.2562571631829818
         ],
         "y": [
          0.107962233101914
         ]
        }
       ],
       "layout": {
        "margin": {
         "b": 0,
         "l": 0,
         "r": 0,
         "t": 25
        },
        "showlegend": false,
        "template": {
         "data": {
          "bar": [
           {
            "error_x": {
             "color": "#2a3f5f"
            },
            "error_y": {
             "color": "#2a3f5f"
            },
            "marker": {
             "line": {
              "color": "#E5ECF6",
              "width": 0.5
             }
            },
            "type": "bar"
           }
          ],
          "barpolar": [
           {
            "marker": {
             "line": {
              "color": "#E5ECF6",
              "width": 0.5
             }
            },
            "type": "barpolar"
           }
          ],
          "carpet": [
           {
            "aaxis": {
             "endlinecolor": "#2a3f5f",
             "gridcolor": "white",
             "linecolor": "white",
             "minorgridcolor": "white",
             "startlinecolor": "#2a3f5f"
            },
            "baxis": {
             "endlinecolor": "#2a3f5f",
             "gridcolor": "white",
             "linecolor": "white",
             "minorgridcolor": "white",
             "startlinecolor": "#2a3f5f"
            },
            "type": "carpet"
           }
          ],
          "choropleth": [
           {
            "colorbar": {
             "outlinewidth": 0,
             "ticks": ""
            },
            "type": "choropleth"
           }
          ],
          "contour": [
           {
            "colorbar": {
             "outlinewidth": 0,
             "ticks": ""
            },
            "colorscale": [
             [
              0,
              "#0d0887"
             ],
             [
              0.1111111111111111,
              "#46039f"
             ],
             [
              0.2222222222222222,
              "#7201a8"
             ],
             [
              0.3333333333333333,
              "#9c179e"
             ],
             [
              0.4444444444444444,
              "#bd3786"
             ],
             [
              0.5555555555555556,
              "#d8576b"
             ],
             [
              0.6666666666666666,
              "#ed7953"
             ],
             [
              0.7777777777777778,
              "#fb9f3a"
             ],
             [
              0.8888888888888888,
              "#fdca26"
             ],
             [
              1,
              "#f0f921"
             ]
            ],
            "type": "contour"
           }
          ],
          "contourcarpet": [
           {
            "colorbar": {
             "outlinewidth": 0,
             "ticks": ""
            },
            "type": "contourcarpet"
           }
          ],
          "heatmap": [
           {
            "colorbar": {
             "outlinewidth": 0,
             "ticks": ""
            },
            "colorscale": [
             [
              0,
              "#0d0887"
             ],
             [
              0.1111111111111111,
              "#46039f"
             ],
             [
              0.2222222222222222,
              "#7201a8"
             ],
             [
              0.3333333333333333,
              "#9c179e"
             ],
             [
              0.4444444444444444,
              "#bd3786"
             ],
             [
              0.5555555555555556,
              "#d8576b"
             ],
             [
              0.6666666666666666,
              "#ed7953"
             ],
             [
              0.7777777777777778,
              "#fb9f3a"
             ],
             [
              0.8888888888888888,
              "#fdca26"
             ],
             [
              1,
              "#f0f921"
             ]
            ],
            "type": "heatmap"
           }
          ],
          "heatmapgl": [
           {
            "colorbar": {
             "outlinewidth": 0,
             "ticks": ""
            },
            "colorscale": [
             [
              0,
              "#0d0887"
             ],
             [
              0.1111111111111111,
              "#46039f"
             ],
             [
              0.2222222222222222,
              "#7201a8"
             ],
             [
              0.3333333333333333,
              "#9c179e"
             ],
             [
              0.4444444444444444,
              "#bd3786"
             ],
             [
              0.5555555555555556,
              "#d8576b"
             ],
             [
              0.6666666666666666,
              "#ed7953"
             ],
             [
              0.7777777777777778,
              "#fb9f3a"
             ],
             [
              0.8888888888888888,
              "#fdca26"
             ],
             [
              1,
              "#f0f921"
             ]
            ],
            "type": "heatmapgl"
           }
          ],
          "histogram": [
           {
            "marker": {
             "colorbar": {
              "outlinewidth": 0,
              "ticks": ""
             }
            },
            "type": "histogram"
           }
          ],
          "histogram2d": [
           {
            "colorbar": {
             "outlinewidth": 0,
             "ticks": ""
            },
            "colorscale": [
             [
              0,
              "#0d0887"
             ],
             [
              0.1111111111111111,
              "#46039f"
             ],
             [
              0.2222222222222222,
              "#7201a8"
             ],
             [
              0.3333333333333333,
              "#9c179e"
             ],
             [
              0.4444444444444444,
              "#bd3786"
             ],
             [
              0.5555555555555556,
              "#d8576b"
             ],
             [
              0.6666666666666666,
              "#ed7953"
             ],
             [
              0.7777777777777778,
              "#fb9f3a"
             ],
             [
              0.8888888888888888,
              "#fdca26"
             ],
             [
              1,
              "#f0f921"
             ]
            ],
            "type": "histogram2d"
           }
          ],
          "histogram2dcontour": [
           {
            "colorbar": {
             "outlinewidth": 0,
             "ticks": ""
            },
            "colorscale": [
             [
              0,
              "#0d0887"
             ],
             [
              0.1111111111111111,
              "#46039f"
             ],
             [
              0.2222222222222222,
              "#7201a8"
             ],
             [
              0.3333333333333333,
              "#9c179e"
             ],
             [
              0.4444444444444444,
              "#bd3786"
             ],
             [
              0.5555555555555556,
              "#d8576b"
             ],
             [
              0.6666666666666666,
              "#ed7953"
             ],
             [
              0.7777777777777778,
              "#fb9f3a"
             ],
             [
              0.8888888888888888,
              "#fdca26"
             ],
             [
              1,
              "#f0f921"
             ]
            ],
            "type": "histogram2dcontour"
           }
          ],
          "mesh3d": [
           {
            "colorbar": {
             "outlinewidth": 0,
             "ticks": ""
            },
            "type": "mesh3d"
           }
          ],
          "parcoords": [
           {
            "line": {
             "colorbar": {
              "outlinewidth": 0,
              "ticks": ""
             }
            },
            "type": "parcoords"
           }
          ],
          "pie": [
           {
            "automargin": true,
            "type": "pie"
           }
          ],
          "scatter": [
           {
            "marker": {
             "colorbar": {
              "outlinewidth": 0,
              "ticks": ""
             }
            },
            "type": "scatter"
           }
          ],
          "scatter3d": [
           {
            "line": {
             "colorbar": {
              "outlinewidth": 0,
              "ticks": ""
             }
            },
            "marker": {
             "colorbar": {
              "outlinewidth": 0,
              "ticks": ""
             }
            },
            "type": "scatter3d"
           }
          ],
          "scattercarpet": [
           {
            "marker": {
             "colorbar": {
              "outlinewidth": 0,
              "ticks": ""
             }
            },
            "type": "scattercarpet"
           }
          ],
          "scattergeo": [
           {
            "marker": {
             "colorbar": {
              "outlinewidth": 0,
              "ticks": ""
             }
            },
            "type": "scattergeo"
           }
          ],
          "scattergl": [
           {
            "marker": {
             "colorbar": {
              "outlinewidth": 0,
              "ticks": ""
             }
            },
            "type": "scattergl"
           }
          ],
          "scattermapbox": [
           {
            "marker": {
             "colorbar": {
              "outlinewidth": 0,
              "ticks": ""
             }
            },
            "type": "scattermapbox"
           }
          ],
          "scatterpolar": [
           {
            "marker": {
             "colorbar": {
              "outlinewidth": 0,
              "ticks": ""
             }
            },
            "type": "scatterpolar"
           }
          ],
          "scatterpolargl": [
           {
            "marker": {
             "colorbar": {
              "outlinewidth": 0,
              "ticks": ""
             }
            },
            "type": "scatterpolargl"
           }
          ],
          "scatterternary": [
           {
            "marker": {
             "colorbar": {
              "outlinewidth": 0,
              "ticks": ""
             }
            },
            "type": "scatterternary"
           }
          ],
          "surface": [
           {
            "colorbar": {
             "outlinewidth": 0,
             "ticks": ""
            },
            "colorscale": [
             [
              0,
              "#0d0887"
             ],
             [
              0.1111111111111111,
              "#46039f"
             ],
             [
              0.2222222222222222,
              "#7201a8"
             ],
             [
              0.3333333333333333,
              "#9c179e"
             ],
             [
              0.4444444444444444,
              "#bd3786"
             ],
             [
              0.5555555555555556,
              "#d8576b"
             ],
             [
              0.6666666666666666,
              "#ed7953"
             ],
             [
              0.7777777777777778,
              "#fb9f3a"
             ],
             [
              0.8888888888888888,
              "#fdca26"
             ],
             [
              1,
              "#f0f921"
             ]
            ],
            "type": "surface"
           }
          ],
          "table": [
           {
            "cells": {
             "fill": {
              "color": "#EBF0F8"
             },
             "line": {
              "color": "white"
             }
            },
            "header": {
             "fill": {
              "color": "#C8D4E3"
             },
             "line": {
              "color": "white"
             }
            },
            "type": "table"
           }
          ]
         },
         "layout": {
          "annotationdefaults": {
           "arrowcolor": "#2a3f5f",
           "arrowhead": 0,
           "arrowwidth": 1
          },
          "coloraxis": {
           "colorbar": {
            "outlinewidth": 0,
            "ticks": ""
           }
          },
          "colorscale": {
           "diverging": [
            [
             0,
             "#8e0152"
            ],
            [
             0.1,
             "#c51b7d"
            ],
            [
             0.2,
             "#de77ae"
            ],
            [
             0.3,
             "#f1b6da"
            ],
            [
             0.4,
             "#fde0ef"
            ],
            [
             0.5,
             "#f7f7f7"
            ],
            [
             0.6,
             "#e6f5d0"
            ],
            [
             0.7,
             "#b8e186"
            ],
            [
             0.8,
             "#7fbc41"
            ],
            [
             0.9,
             "#4d9221"
            ],
            [
             1,
             "#276419"
            ]
           ],
           "sequential": [
            [
             0,
             "#0d0887"
            ],
            [
             0.1111111111111111,
             "#46039f"
            ],
            [
             0.2222222222222222,
             "#7201a8"
            ],
            [
             0.3333333333333333,
             "#9c179e"
            ],
            [
             0.4444444444444444,
             "#bd3786"
            ],
            [
             0.5555555555555556,
             "#d8576b"
            ],
            [
             0.6666666666666666,
             "#ed7953"
            ],
            [
             0.7777777777777778,
             "#fb9f3a"
            ],
            [
             0.8888888888888888,
             "#fdca26"
            ],
            [
             1,
             "#f0f921"
            ]
           ],
           "sequentialminus": [
            [
             0,
             "#0d0887"
            ],
            [
             0.1111111111111111,
             "#46039f"
            ],
            [
             0.2222222222222222,
             "#7201a8"
            ],
            [
             0.3333333333333333,
             "#9c179e"
            ],
            [
             0.4444444444444444,
             "#bd3786"
            ],
            [
             0.5555555555555556,
             "#d8576b"
            ],
            [
             0.6666666666666666,
             "#ed7953"
            ],
            [
             0.7777777777777778,
             "#fb9f3a"
            ],
            [
             0.8888888888888888,
             "#fdca26"
            ],
            [
             1,
             "#f0f921"
            ]
           ]
          },
          "colorway": [
           "#636efa",
           "#EF553B",
           "#00cc96",
           "#ab63fa",
           "#FFA15A",
           "#19d3f3",
           "#FF6692",
           "#B6E880",
           "#FF97FF",
           "#FECB52"
          ],
          "font": {
           "color": "#2a3f5f"
          },
          "geo": {
           "bgcolor": "white",
           "lakecolor": "white",
           "landcolor": "#E5ECF6",
           "showlakes": true,
           "showland": true,
           "subunitcolor": "white"
          },
          "hoverlabel": {
           "align": "left"
          },
          "hovermode": "closest",
          "mapbox": {
           "style": "light"
          },
          "paper_bgcolor": "white",
          "plot_bgcolor": "#E5ECF6",
          "polar": {
           "angularaxis": {
            "gridcolor": "white",
            "linecolor": "white",
            "ticks": ""
           },
           "bgcolor": "#E5ECF6",
           "radialaxis": {
            "gridcolor": "white",
            "linecolor": "white",
            "ticks": ""
           }
          },
          "scene": {
           "xaxis": {
            "backgroundcolor": "#E5ECF6",
            "gridcolor": "white",
            "gridwidth": 2,
            "linecolor": "white",
            "showbackground": true,
            "ticks": "",
            "zerolinecolor": "white"
           },
           "yaxis": {
            "backgroundcolor": "#E5ECF6",
            "gridcolor": "white",
            "gridwidth": 2,
            "linecolor": "white",
            "showbackground": true,
            "ticks": "",
            "zerolinecolor": "white"
           },
           "zaxis": {
            "backgroundcolor": "#E5ECF6",
            "gridcolor": "white",
            "gridwidth": 2,
            "linecolor": "white",
            "showbackground": true,
            "ticks": "",
            "zerolinecolor": "white"
           }
          },
          "shapedefaults": {
           "line": {
            "color": "#2a3f5f"
           }
          },
          "ternary": {
           "aaxis": {
            "gridcolor": "white",
            "linecolor": "white",
            "ticks": ""
           },
           "baxis": {
            "gridcolor": "white",
            "linecolor": "white",
            "ticks": ""
           },
           "bgcolor": "#E5ECF6",
           "caxis": {
            "gridcolor": "white",
            "linecolor": "white",
            "ticks": ""
           }
          },
          "title": {
           "x": 0.05
          },
          "xaxis": {
           "automargin": true,
           "gridcolor": "white",
           "linecolor": "white",
           "ticks": "",
           "title": {
            "standoff": 15
           },
           "zerolinecolor": "white",
           "zerolinewidth": 2
          },
          "yaxis": {
           "automargin": true,
           "gridcolor": "white",
           "linecolor": "white",
           "ticks": "",
           "title": {
            "standoff": 15
           },
           "zerolinecolor": "white",
           "zerolinewidth": 2
          }
         }
        },
        "xaxis": {
         "constrain": "domain",
         "range": [
          -2,
          0
         ],
         "scaleanchor": "y",
         "scaleratio": 1,
         "type": "log"
        },
        "yaxis": {
         "type": "log"
        }
       }
      },
      "text/html": [
       "<div>\n",
       "        \n",
       "        \n",
       "            <div id=\"883f9211-31a5-4eab-a31c-32377a7b384f\" class=\"plotly-graph-div\" style=\"height:525px; width:100%;\"></div>\n",
       "            <script type=\"text/javascript\">\n",
       "                require([\"plotly\"], function(Plotly) {\n",
       "                    window.PLOTLYENV=window.PLOTLYENV || {};\n",
       "                    \n",
       "                if (document.getElementById(\"883f9211-31a5-4eab-a31c-32377a7b384f\")) {\n",
       "                    Plotly.newPlot(\n",
       "                        '883f9211-31a5-4eab-a31c-32377a7b384f',\n",
       "                        [{\"name\": \"log(-loglikely)\", \"showscale\": false, \"type\": \"contour\", \"x\": [0.01, 0.010985411419875584, 0.012067926406393288, 0.013257113655901088, 0.014563484775012436, 0.015998587196060583, 0.017575106248547922, 0.019306977288832496, 0.021209508879201904, 0.023299518105153717, 0.025595479226995357, 0.028117686979742307, 0.030888435964774818, 0.03393221771895328, 0.0372759372031494, 0.040949150623804234, 0.04498432668969444, 0.04941713361323833, 0.054286754393238594, 0.05963623316594643, 0.0655128556859551, 0.07196856730011521, 0.07906043210907697, 0.08685113737513525, 0.09540954763499938, 0.10481131341546858, 0.1151395399326447, 0.12648552168552957, 0.13894954943731375, 0.15264179671752334, 0.16768329368110074, 0.18420699693267154, 0.20235896477251566, 0.22229964825261944, 0.2442053094548651, 0.2682695795279725, 0.29470517025518095, 0.32374575428176433, 0.35564803062231287, 0.3906939937054615, 0.42919342601287763, 0.47148663634573923, 0.517947467923121, 0.5689866029018296, 0.6250551925273969, 0.6866488450042998, 0.7543120063354615, 0.8286427728546842, 0.9102981779915218, 1.0], \"y\": [0.01, 0.010985411419875584, 0.012067926406393288, 0.013257113655901088, 0.014563484775012436, 0.015998587196060583, 0.017575106248547922, 0.019306977288832496, 0.021209508879201904, 0.023299518105153717, 0.025595479226995357, 0.028117686979742307, 0.030888435964774818, 0.03393221771895328, 0.0372759372031494, 0.040949150623804234, 0.04498432668969444, 0.04941713361323833, 0.054286754393238594, 0.05963623316594643, 0.0655128556859551, 0.07196856730011521, 0.07906043210907697, 0.08685113737513525, 0.09540954763499938, 0.10481131341546858, 0.1151395399326447, 0.12648552168552957, 0.13894954943731375, 0.15264179671752334, 0.16768329368110074, 0.18420699693267154, 0.20235896477251566, 0.22229964825261944, 0.2442053094548651, 0.2682695795279725, 0.29470517025518095, 0.32374575428176433, 0.35564803062231287, 0.3906939937054615, 0.42919342601287763, 0.47148663634573923, 0.517947467923121, 0.5689866029018296, 0.6250551925273969, 0.6866488450042998, 0.7543120063354615, 0.8286427728546842, 0.9102981779915218, 1.0], \"z\": [[2.758473511944277, 2.7420899482851104, 2.724018767448006, 2.7040997071904522, 2.682168958226911, 2.6580674364021863, 2.6316552150042605, 2.6028359815004696, 2.5715977057991366, 2.5380792661353393, 2.5026778812583665, 2.4662184772616897, 2.430210753015717, 2.3972130114555315, 2.3712787418893977, 2.3583340683829737, 2.36607375760226, 2.4026619396462614, 2.473680112772174, 2.578137587340617, 2.7064282007861142, 2.8429416364937117, 2.9721504514730297, 3.083714345276856, 3.1737511746178173, 3.2431819576441225, 3.2954117497845092, 3.3346310616332495, 3.364892979050015, 3.3896558558450356, 3.411538567134378, 3.432265915113151, 3.452665590644604, 3.4727915212753966, 3.492578945644297, 3.5123798787878555, 3.532326604405772, 3.551334698295313, 3.5675258462788952, 3.580040531653578, 3.5902122667945626, 3.600837842606392, 3.6145332407577833, 3.632533664723839, 3.6541389439452026, 3.6765604949684665, 3.6954055052666686, 3.7064358132223334, 3.7084123998751894, 3.704428397900394], [2.7750041028754384, 2.7587040119770943, 2.740710386715107, 2.720856902709647, 2.6989707520243056, 2.674879538596596, 2.648423662139034, 2.619477725475325, 2.587986685541918, 2.554025884580382, 2.5178991624106906, 2.480295925491384, 2.4425343495648133, 2.4069159292654296, 2.377184144133517, 2.3589696457152893, 2.3598550392130977, 2.38834573466553, 2.45102495525716, 2.5483655029091206, 2.6719569998923625, 2.8063991875571515, 2.935392774446187, 3.047486458543119, 3.137943486243618, 3.2072666385774977, 3.258778490277314, 3.2967694559361553, 3.3254682157255417, 3.348527700743828, 3.3687435504719114, 3.3879734434267212, 3.407125189418288, 3.426268136362, 3.4453022096489785, 3.4645534256031487, 3.4841517429820654, 3.5029692216240305, 3.519012875258581, 3.5313163542899626, 3.541215523573666, 3.5516215199686, 3.565290714051578, 3.58354039481806, 3.605651735581261, 3.62870772612699, 3.6481011534673775, 3.6593691687309735, 3.6611667343616134, 3.6566922696382003], [2.793052801644983, 2.7768568672533114, 2.7589642025525807, 2.7392028596330205, 2.717391553544192, 2.693345192386578, 2.6668852166673274, 2.6378579390516133, 2.606166104818277, 2.5718221267090984, 2.53503638896743, 2.4963609139951934, 2.456916339956711, 2.418732488394666, 2.3852108524425093, 2.361626396574271, 2.355355836372396, 2.375143534225715, 2.428544059904148, 2.517631838967886, 2.6354779875925787, 2.767139494914245, 2.8955909508819735, 3.0081433967334235, 3.099042584203475, 3.168262592465439, 3.218996352398293, 3.2556287232859193, 3.28257951162341, 3.30372093841601, 3.3220526060202658, 3.3395886151757983, 3.357333361486924, 3.3753782356469415, 3.3935837853469675, 3.4122438341722723, 3.431484061721812, 3.45012739038007, 3.466049431625606, 3.478158464147529, 3.4877889985020216, 3.49798120536196, 3.511652883520787, 3.5302168277054906, 3.552934003692306, 3.576741373397134, 3.596787760402934, 3.6083543798990143, 3.6099737575529414, 3.6049614905515903], [2.8127317623719947, 2.796663071125822, 2.778897636372585, 2.75925844787489, 2.737556430627122, 2.71359463918611, 2.687176583394067, 2.6581215229032753, 2.626291424638713, 2.5916372899194275, 2.55427729093262, 2.5146260969107503, 2.47360341998389, 2.4329558412798926, 2.3957139717413756, 2.3667366200306814, 2.3530900975949156, 2.3636244961664694, 2.4067864530903633, 2.4863574834823163, 2.5972056062373614, 2.7251736724780486, 2.8526199540534347, 2.9654981369052167, 3.0568447781225436, 3.1259644383474545, 3.1758553012621653, 3.2109843812989247, 3.2359777824928657, 3.2549546729448533, 3.2711505303657575, 3.2867644500735875, 3.302917974136477, 3.319733540991649, 3.3370280801081815, 3.3550554695147956, 3.3739343013001406, 3.39243179455161, 3.4082724652272436, 3.4202167442667744, 3.4295924390969232, 3.4395854692314694, 3.45329985667295, 3.4722599623367745, 3.4957049427206224, 3.5204053046031976, 3.5412316795900067, 3.553173217213979, 3.5546206985008335, 3.5490200321062337], [2.8341548113442996, 2.8182387865939114, 2.800629644894423, 2.781145998816089, 2.759591838379638, 2.7357594385646777, 2.7094357315638247, 2.680414623172227, 2.648519403794524, 2.6136421628991906, 2.5758115602971627, 2.5353071069729185, 2.4928473623036447, 2.449888456607147, 2.4090663090337263, 2.3747662187452563, 2.35363294299519, 2.354459104657257, 2.3864446763973697, 2.4551270576029727, 2.5574986275679423, 2.680609508853042, 2.806404144374907, 2.9193834273104473, 3.011153475563743, 3.080170276760994, 3.1291477000396917, 3.1626124327598086, 3.185410553106244, 3.201938867571224, 3.215706191047251, 3.2291314481696314, 3.2434791639198086, 3.2589150676185703, 3.275208238340855, 3.2925628812245757, 3.3110864752637306, 3.3294827845939294, 3.345301939864844, 3.35712912992127, 3.366277863483229, 3.3760987900094355, 3.389911455249643, 3.4093710723929154, 3.4336933641826843, 3.4594586276921406, 3.481219649592521, 3.4936317655382894, 3.494921313253058, 3.4886789198525467], [2.8574359900210253, 2.841700235112491, 2.8242790642662574, 2.8049875184580975, 2.783623672235662, 2.7599703231595814, 2.73379950111789, 2.7048819209587847, 2.673004978273961, 2.638005365367547, 2.599826469544698, 2.5586171993852243, 2.5148983434399805, 2.469833715084349, 2.425647902715023, 2.3862024504850745, 2.357608903119886, 2.3484140894098813, 2.3683660043183328, 2.4247217118181927, 2.5169061797463366, 2.6336940595525844, 2.756946489602253, 2.8696686518905783, 2.961789070980658, 3.030688813108306, 3.0786745788369343, 3.1102951610333593, 3.1306269612068522, 3.144378045381381, 3.155374528067982, 3.1662978372289854, 3.1785881714538857, 3.192471214727362, 3.207664288206922, 3.2243096855992075, 3.2424979979700304, 3.2608602560478346, 3.276744523786647, 3.2885271827249265, 3.297496776099588, 3.307190153420069, 3.3211770811272605, 3.341266849739735, 3.366650140369614, 3.3936893817769476, 3.4165736055051785, 3.4295761942203717, 3.4307324086478865, 3.4237932449418436], [2.8826878798678712, 2.8671619197737335, 2.849962711403186, 2.8309026411871936, 2.8097750408676525, 2.786354746991872, 2.7604008679042447, 2.7316635346750586, 2.699897689890165, 2.664889145756733, 2.626501811372537, 2.58476100180899, 2.5399970207694036, 2.4930856379157045, 2.4458325868308584, 2.4015368055064026, 2.3656723544269314, 2.3463364631741315, 2.3535528548726647, 2.3961480788440563, 2.476220991309091, 2.5848699818347023, 2.7043704595023383, 2.816285062562369, 2.908603754519699, 2.9773496843602225, 3.024254477147302, 3.053829266544941, 3.071384878111272, 3.081976732117693, 3.089799758007059, 3.0978504228006134, 3.1077862802430345, 3.11991570653015, 3.133901204719696, 3.149807709020115, 3.167700607225326, 3.1861268914757064, 3.2021994773495117, 3.2140446008156953, 3.2229109786159804, 3.2325457900063763, 3.2468101562144533, 3.2676954678162784, 3.2943658277286696, 3.322933589346597, 3.3471709951363082, 3.360914202060027, 3.3619762722222895, 3.354285336941033], [2.9100197502483898, 2.8947346648904126, 2.8777932936738755, 2.859006381991883, 2.8381638251665997, 2.815034204000103, 2.7893659582537453, 2.7608916434006407, 2.729337795728914, 2.6944447999607575, 2.656004365488959, 2.6139276340810236, 2.568365698303065, 2.5199171720228053, 2.4699720628739317, 2.4212433240750326, 2.3784796445132184, 2.3491239524783447, 2.343146187193052, 2.370655516768615, 2.436535571765985, 2.5348472759047174, 2.648979107064925, 2.759263303098085, 2.8515036918897625, 2.920018464487307, 2.9657359205585805, 2.9930372693648164, 3.0074609971091633, 3.0144473695033507, 3.0186203017219926, 3.0233563016459537, 3.030583888135664, 3.040725288287272, 3.053386824118821, 3.0685364970202595, 3.086202439480273, 3.1048335106759235, 3.1212676970358837, 3.1333299263992793, 3.142208508218445, 3.151887798336117, 3.1665690271301417, 3.1884595190799447, 3.2166954095688527, 3.247101538893871, 3.272972389130401, 3.2876438928796268, 3.2886708111685685, 3.2801760130256805], [2.9395355927059335, 2.924523541584306, 2.9078772041836225, 2.8894067738143225, 2.8689001217661114, 2.8461214302355526, 2.820810945681731, 2.792686989392641, 2.761452250641956, 2.7268079501186393, 2.6884821970258086, 2.646283595999701, 2.6001991149574697, 2.550567756579852, 2.4983784428232796, 2.4457534883527376, 2.3966536636610383, 2.3576804688569277, 2.338385617471631, 2.349730415555927, 2.3992919339461376, 2.484689368543303, 2.591336342383248, 2.6987887332626728, 2.790482271966677, 2.8586185734232417, 2.9030150834634125, 2.927783515612089, 2.9386651387363725, 2.9415217965545075, 2.9414762448447984, 2.9423658566474398, 2.946459761957098, 2.9543370187357634, 2.965549482310855, 2.979943315441799, 2.9974917678890245, 3.0165274731175664, 3.033565300484296, 3.0460652573378897, 3.0551268843393617, 3.065001125327991, 3.080286979600411, 3.103448509218572, 3.1335927482228283, 3.1662137080584314, 3.1940586074577877, 3.209892198395824, 3.2109695476180256, 3.201626197633545], [2.9713321266761032, 2.956625772266818, 2.9403123050993822, 2.9222025042648885, 2.9020837000668944, 2.8797176373705624, 2.854839001526272, 2.8271554634262928, 2.796350809483988, 2.7620939897802628, 2.724059178113057, 2.6819659403338476, 2.635655563288364, 2.5852311740940146, 2.531306714774186, 2.4754297343711196, 2.420743301854353, 2.37285783940625, 2.3405419697748373, 2.3350540575375955, 2.3663082783789475, 2.4359064652456, 2.5323744490393367, 2.6352818479239297, 2.725669916725553, 2.7931634491743096, 2.8360609156894836, 2.8579967268843696, 2.8648606193525525, 2.8629679795392384, 2.858020625189923, 2.854417742224683, 2.8548605943824525, 2.8601449149944744, 2.869775147572014, 2.883443788052122, 2.9010431293500396, 2.9207655008947055, 2.9387437460974186, 2.951993533923291, 2.961486736486633, 2.971772350144517, 2.9879149951918667, 3.0126845022439124, 3.0451580910925204, 3.0804492914506376, 3.1106799482968297, 3.12796519466433, 3.129213796263894, 3.118991413701691], [3.0054968800647233, 2.9911287263378545, 2.9751858221441583, 2.957480688108728, 2.937801625728523, 2.915909951461005, 2.891537500526609, 2.864385009646981, 2.83412253400946, 2.8003940475468894, 2.762830181566766, 2.7210763253607015, 2.6748491609018608, 2.6240448810695316, 2.568938952335189, 2.5105404286664155, 2.451182018714217, 2.395388596971528, 2.3508228368499307, 2.328411683863298, 2.3397582019803083, 2.3905382173680625, 2.473527446436416, 2.5695123867195986, 2.65740837370804, 2.7238040274139306, 2.764951070286984, 2.7837018908573206, 2.7859934120928487, 2.7786145882923696, 2.7679366615002303, 2.7590471133735237, 2.755201164464318, 2.757495610783929, 2.7654036588427156, 2.778423321281671, 2.796326867388765, 2.8171328942690304, 2.8365193300747134, 2.8509580039065026, 2.86124004971922, 2.872244947499798, 2.8895820700478603, 2.9163855199278403, 2.9517026906570503, 2.9902106687476704, 3.023320160430005, 3.042412482688742, 3.0439990585129957, 3.0328913510893556], [3.0421064598873504, 3.02810813137879, 3.012572485518383, 2.9953149242215016, 2.9761262159986877, 2.954769243347662, 2.9309756947105083, 2.904443098723674, 2.8748330009596756, 2.8417718321453678, 2.8048574057275384, 2.763676551576634, 2.7178441123432857, 2.6670820528255734, 2.611372217259873, 2.5512395852264977, 2.4882511285807345, 2.4258184289409193, 2.370259380579284, 2.3315478593509265, 2.3220735574443045, 2.3511915914430586, 2.4168785706836373, 2.50275468420438, 2.586360232297839, 2.650898973246108, 2.6899234759871673, 2.705065474050306, 2.7021340936924583, 2.688387435723393, 2.670964419649236, 2.6557993681240815, 2.6468658419949156, 2.645682631038204, 2.651723456773421, 2.6642394535797593, 2.6828235292205482, 2.705271945128446, 2.726716033024693, 2.7429587644701328, 2.7545386354321595, 2.7666970550119823, 2.785679087527431, 2.815052105559894, 2.8538348934474023, 2.896206893623841, 2.932777061156684, 2.9541067000076513, 2.9562563354145563, 2.944295296049045], [3.0812251300561595, 3.0676266250766964, 3.0525330522690406, 3.0357637839089566, 3.0171134883730026, 2.996348530413523, 2.9732030584747497, 2.947375002294519, 2.9185224845273514, 2.886261687631178, 2.8501682391260776, 2.8097861128656434, 2.7646516894376103, 2.7143474183670646, 2.6586118977968383, 2.5975544360593985, 2.5320537780428753, 2.464449548281708, 2.399591288544936, 2.345978405549549, 2.315748297106808, 2.3209821762045824, 2.3652877985013894, 2.4369843063234558, 2.513666467931706, 2.575118245738624, 2.6114504407065415, 2.6224594658461124, 2.6135382838200125, 2.5923639258993494, 2.5669427068498023, 2.5442535546871863, 2.5292131607993347, 2.5239389941372403, 2.5279639254677497, 2.540225237914945, 2.5600451092742142, 2.584923447362276, 2.609327058998456, 2.6282326713054283, 2.641829688978665, 2.655748753350338, 2.676972758781217, 2.7095823011448954, 2.7525710774350665, 2.799557521877084, 2.8402592892594845, 2.8643363094623546, 2.867345745893561, 2.85462061657172], [3.122903802958865, 3.109732760501582, 3.0951133297909252, 3.0788698586976593, 3.0608022408485605, 3.0406821003679947, 3.0182484709369306, 2.993203054310787, 2.9652053242241245, 2.933868104032028, 2.898754958828973, 2.859382129401716, 2.815230418642195, 2.7657775974809224, 2.7105716606352446, 2.6493831169556787, 2.582504564127118, 2.5113063312463586, 2.439172990926478, 2.372789333268366, 2.323045053912632, 2.303320110928455, 2.3224306969103496, 2.375094658795509, 2.4411627125736644, 2.49759388149902, 2.5303446927315254, 2.5365515075969443, 2.5207333711112536, 2.490854673923975, 2.455875695816273, 2.4240630218495376, 2.4015872885273972, 2.391428429055335, 2.3932842486840333, 2.4056937670990424, 2.427565872156264, 2.455986519025615, 2.48460176572811, 2.5073638183374567, 2.52398550905759, 2.5405052414796754, 2.564754518463507, 2.6014175174959284, 2.6494709256138544, 2.701913295197691, 2.7474932157279772, 2.7749037873029203, 2.77915322538456, 2.7658342886226737], [3.167179527777139, 3.1544605503176166, 3.1403437889719332, 3.1246594593601995, 3.107213859122802, 3.0877854563381, 3.0661203390894736, 3.0419270073353677, 3.0148705909325666, 2.9845668010919773, 2.9505763853795686, 2.9124017922123837, 2.8694896197261706, 2.821246126627495, 2.7670803456907285, 2.706503295058235, 2.639337334535028, 2.5661312944110257, 2.4889239809049397, 2.4124697922794853, 2.345648965211131, 2.301506240880086, 2.2926435833491703, 2.321067686797861, 2.3716506958867476, 2.420133083347725, 2.4479092219772873, 2.448429817919867, 2.424641303945593, 2.384525300640711, 2.3380395190121495, 2.2950269998511663, 2.2633445454921537, 2.247237201660794, 2.2467578098908074, 2.259944138356345, 2.2850664876311875, 2.3186032754400134, 2.3531652712589883, 2.3814307882456403, 2.4024715036139104, 2.422737366491189, 2.4510224716403135, 2.4927133719115933, 2.5467869985770912, 2.605580143394575, 2.656823808328394, 2.688210846539975, 2.69416991986366, 2.680535237561788], [3.2140755227922533, 3.201829595617389, 3.188239810472815, 3.1731430065644832, 3.1563528867410833, 3.137656113029887, 3.116807682567237, 3.0935254916265804, 3.0674840399028627, 3.038307345432608, 3.005561411528222, 2.9687471701900607, 2.927296043256454, 2.8805727617378336, 2.827895161833302, 2.768590852475266, 2.7021304739342153, 2.628413424349071, 2.548337530450361, 2.4648276912026694, 2.3843579941968494, 2.318176956405635, 2.280466599316684, 2.2799634686288566, 2.309180177932291, 2.345501368386077, 2.366143338452735, 2.359771482843058, 2.3267476811510157, 2.2745751708266377, 2.2141522369264344, 2.1572173483169985, 2.113911779280485, 2.090372797338169, 2.087352316810069, 2.1022699217924004, 2.132396588622513, 2.17327562189844, 2.2161760907718384, 2.2521909435792167, 2.2795463715842468, 2.3050868791739467, 2.3386774958080765, 2.3865110202609867, 2.447599991547288, 2.513615528772953, 2.5712772486163495, 2.6072971585901548, 2.6155183810311255, 2.6019783441935433], [3.2636017549617646, 3.251845796616805, 3.2388025537459746, 3.2243160929977908, 3.2082083254111082, 3.1902751945712384, 3.170282108440028, 3.147958475178597, 3.1229912067878836, 3.095017097244257, 3.06361411298355, 3.028291954969933, 2.9884829746290538, 2.943536089364399, 2.8927196548414735, 2.83524616459819, 2.7703458134639667, 2.6974439076227883, 2.6165474947108467, 2.5290171716809304, 2.4389148431538503, 2.3547414462322394, 2.2898604310384427, 2.2575310605543506, 2.2592114301491555, 2.2777530966760504, 2.2880111133651826, 2.2730581078269463, 2.2293230050832924, 2.1629904879921864, 2.0856402563041065, 2.0112019827344856, 1.9529103211182381, 1.919785524228621, 1.9139095648191204, 1.9319734278895335, 1.969662782481982, 2.0210201748084646, 2.0755192789285055, 2.122285947550774, 2.158464431280006, 2.191253801361417, 2.23168143775141, 2.2868517002394433, 2.355881745493255, 2.429841930276571, 2.4945336574629025, 2.535782723998476, 2.546874281334679, 2.5339844948702233], [3.3157560238114634, 3.3045025921367834, 3.2920203832211, 3.278161135773271, 3.2627555645136446, 3.2456097076523274, 3.2265005164474223, 3.205170520941464, 3.1813213828231928, 3.1546061387695348, 3.1246199730465274, 3.0908894966025864, 3.05286088066982, 3.0098880730296087, 2.9612243066791875, 2.9060244522786016, 2.843375097565356, 2.7723888029552555, 2.6924379945599375, 2.6036727560831037, 2.5080489610390084, 2.4110249154479773, 2.323266012714186, 2.259280524616658, 2.228405800217511, 2.2225083151590335, 2.2177541203074553, 2.191828618170241, 2.1356864581264743, 2.052879001715499, 1.955040141115299, 1.858431891837615, 1.7804114091661334, 1.7344509933964136, 1.725138600462526, 1.7483946038650435, 1.7973516949976078, 1.8635612293403678, 1.9340131886926093, 1.9954198413102626, 2.0436064341163487, 2.0860733753710767, 2.135075186130564, 2.198733180580627, 2.2763945364530374, 2.358700011651381, 2.4307453426144656, 2.4776574098639967, 2.4922291388140216, 2.4806787476199634], [3.3705254655320553, 3.3597826307216883, 3.3478707386003275, 3.3346494864436407, 3.319958782643127, 3.3036153017989247, 3.285408306659448, 3.2650945610481785, 3.242392119297761, 3.2169727393576046, 3.188452641602277, 3.156381354744243, 3.120228525991183, 3.079368985787635, 3.033067405707739, 2.9804663605456865, 2.9205872297421087, 2.8523658459327765, 2.774771574286882, 2.6871123089078557, 2.5897192244543565, 2.4852858580709816, 2.3808813400036546, 2.28910985816061, 2.223725822758338, 2.1869288876734023, 2.1611672777038304, 2.1209272818240748, 2.050466841132812, 1.9488572268480915, 1.8265600939762183, 1.7018866906750998, 1.5974469100285045, 1.5335994715470667, 1.519660232971968, 1.550976045358717, 1.616500451425545, 1.7035457828938683, 1.7955709564929643, 1.8764090223772345, 1.9404064665023493, 1.9953326213595313, 2.054706497897746, 2.1277751396280853, 2.214321842673342, 2.3048663881733598, 2.384149612973586, 2.43688268188485, 2.4554671959479535, 2.446031366978415], [3.4278883643790916, 3.4176597462746, 3.40632230498001, 3.393743833415471, 3.3797736301781174, 3.3642392935809786, 3.3469428255977034, 3.3276558716155193, 3.3061138760691464, 3.282008879567635, 3.254980623880028, 3.2246055800186046, 3.190383505947119, 3.1517212578046028, 3.1079140184970533, 3.0581253238084454, 3.0013702962292514, 2.936513683399908, 2.8623107829253787, 2.7775555854374345, 2.681473571189885, 2.574613275756211, 2.4605383415153823, 2.3480046711727622, 2.2507339980832755, 2.1789858661418724, 2.125629790753525, 2.0666475829523097, 1.9797534178556875, 1.85737678112542, 1.7067508229272557, 1.54707314446974, 1.4069906639289498, 1.3172814985451613, 1.2961990222389534, 1.3394134430664486, 1.4289285249415846, 1.544732285212822, 1.6652036079425248, 1.7709493652037376, 1.8549043006012, 1.9251618093667047, 1.9965287060894221, 2.079495166080231, 2.1745766477324295, 2.2726197617885147, 2.3584872362397653, 2.4168356109906073, 2.439800603787737, 2.433256594447995], [3.4878161475031964, 3.4781011009712746, 3.4673373296120054, 3.45540072437996, 3.4421499971669216, 3.4274237303786426, 3.411036790790422, 3.3927759431314835, 3.372394451508014, 3.349605396428186, 3.3240733604852637, 3.295404048745919, 3.263131322153878, 3.2267010694579477, 3.185451419506961, 3.138589235151614, 3.085164197281403, 3.0240454251694797, 2.9539146235079436, 2.873311262571176, 2.7808137732988696, 2.6755382786394737, 2.5582772461099044, 2.4335508766069154, 2.3116019215377257, 2.205672373468254, 2.119507695363112, 2.036588864098541, 1.9309568670034527, 1.7867379115837763, 1.6050376888519786, 1.403342303093382, 1.215717707316308, 1.0876692758947808, 1.0541576726628838, 1.1140008168292352, 1.2375411996667185, 1.3920531116380512, 1.5487039095129012, 1.6849457316646392, 1.792814190819831, 1.8809516893359417, 1.9654809201666243, 2.0582556249831483, 2.1608803419738667, 2.2650653376048457, 2.3563447304251746, 2.419721485443101, 2.447202458133679, 2.4442271132179068], [3.5502754482601016, 3.541069369905293, 3.5308739473119655, 3.519573056056863, 3.507034696311457, 3.4931083024746195, 3.477621477098328, 3.460375998694994, 3.441142907776628, 3.4196564158323564, 3.395606303982493, 3.3686283781210187, 3.3382924245843464, 3.3040869731898423, 3.2654000572818216, 3.221495164920528, 3.1714819721593086, 3.1142829265423018, 3.0486010138880917, 2.9729052318192903, 2.885477990636759, 2.784632592384238, 2.6693362430215335, 2.5406296754085953, 2.403973509332996, 2.2704575205504858, 2.1504898312932226, 2.0389570547350266, 1.9121802744231033, 1.746418544408063, 1.5335243593209915, 1.285023907750934, 1.0367279432793672, 0.8518467995699366, 0.7951294338558473, 0.8764055704914213, 1.0466990764794408, 1.251396020421479, 1.4518732722809116, 1.623388817664387, 1.758235978133955, 1.8660346749632595, 1.9642513829468258, 2.0661944868029973, 2.174899182604758, 2.2834647330720435, 2.3786341748747866, 2.4461512836815333, 2.4780346709243886, 2.4791165764743712], [3.6152301497340193, 3.6065248727528614, 3.5968884124767433, 3.5862124208804054, 3.5743739412035174, 3.5612329728777925, 3.546629522081814, 3.53038000381417, 3.5122728202612565, 3.4920628851099784, 3.4694647894812505, 3.444144206277597, 3.415706999181118, 3.383685335026625, 3.3475198966947715, 3.306537087392899, 3.259920010188027, 3.2066723015666967, 3.1455754126821796, 3.075144797424556, 2.993604056687467, 2.898931212672325, 2.789114318623616, 2.6629153768218288, 2.5215875692087923, 2.371336438886837, 2.222881364061841, 2.08103395681542, 1.9310263945039932, 1.7454674608602627, 1.505237935262525, 1.2109289341214258, 0.8924030991081262, 0.6270574884714761, 0.5265556008417744, 0.6313479346873074, 0.8626121903639782, 1.1289500401664074, 1.3793304580001167, 1.5890627977644836, 1.7524667742788942, 1.8806726381825671, 1.9924642944693105, 2.1026107752374776, 2.215808956134301, 2.326948195124186, 2.424418930046935, 2.495051893485135, 2.531021066209354, 2.5364193949312352], [3.682643358652156, 3.674427600887862, 3.665337184517887, 3.6552712560883314, 3.6441155644501806, 3.631740269596248, 3.6179972967249383, 3.60271711816975, 3.5857048097379636, 3.56673517923503, 3.5455466986979407, 3.5218338815302426, 3.495237622571878, 3.46533285228437, 3.4316126343163647, 3.393467553113923, 3.350158914255307, 3.300784013168048, 3.2442318427409114, 3.179129053490771, 3.1037813560533896, 3.0161317299710313, 2.913800646759334, 2.794379592983422, 2.6563481802158755, 2.501073370731046, 2.3350452217498483, 2.166796364714277, 1.9930298364973338, 1.7902986660516755, 1.5305496514472332, 1.2001343043893873, 0.813729847188833, 0.44768171053286665, 0.2694807967805377, 0.38998619997577616, 0.6936610086655989, 1.030109730141994, 1.3332574225694345, 1.5816394155412568, 1.7735040445198011, 1.9218864051263773, 2.0467238400721164, 2.1641214204366945, 2.2804971938420446, 2.3927353103940394, 2.4911542814580456, 2.5639404547617612, 2.6035710213004153, 2.6133334252586327], [3.7524793017964426, 3.744739134611623, 3.736178864906199, 3.7267047982818102, 3.7162109854986656, 3.704577259545511, 3.6916668738309637, 3.677323640215659, 3.6613684346834305, 3.643594896586212, 3.623764090262274, 3.601597819276863, 3.5767701749002234, 3.548896749702117, 3.517520738302546, 3.482094861018944, 3.441957664793251, 3.396302282360324, 3.3441352471843193, 3.284222799647733, 3.215023341098143, 3.1346104116451126, 3.0406094051054393, 2.9302250796313243, 2.8005701390382387, 2.6497404933835007, 2.479031258909632, 2.2944265842094578, 2.100050628543964, 1.8829818532797735, 1.6132836210824397, 1.2641027583836093, 0.8301114102229281, 0.36535801480549146, 0.07011560126624336, 0.17562843622181626, 0.5504912849435415, 0.9582577131471234, 1.3126663588209642, 1.5976433648310786, 1.8165164762937254, 1.9842169405569423, 2.1214810401061874, 2.245493610688791, 2.364287662475815, 2.4767465823974564, 2.575223833630012, 2.6494358686038226, 2.6923102144844835, 2.7063381143689123], [3.8247051743421823, 3.817424485610763, 3.809376028142391, 3.8004728949791926, 3.790616991573816, 3.779697283026358, 3.7675876935295394, 3.7541445715119455, 3.739203607940031, 3.722576060047613, 3.7040440847376126, 3.6833549197576954, 3.6602135588414084, 3.63427343827129, 3.6051244709043218, 3.572277507402006, 3.535143943880045, 3.493008697047868, 3.4449941115947906, 3.390011602566603, 3.3266972835172535, 3.2533286398592267, 3.1677251163960793, 3.0671569359669872, 2.948351540921545, 2.8078515296181914, 2.6432431479041325, 2.4554596620422044, 2.248864377908977, 2.0210077388601495, 1.7493922093291954, 1.4004467364112074, 0.9515863453856265, 0.4249852373784399, 0.0, 0.029204211136459265, 0.445717095120045, 0.91405839134823, 1.3136143251019408, 1.6313032543421588, 1.875000498879559, 2.0609822737689725, 2.2102517406355466, 2.3407268269145622, 2.4618415977526564, 2.5743345852148978, 2.6725494868298667, 2.7478080454569707, 2.7936208436568997, 2.8117582464260766], [3.899292996881087, 3.8924539286019755, 3.8848970195147183, 3.876541757128392, 3.8672974296796756, 3.8570615645312105, 3.8457180645943527, 3.833134969425824, 3.819161746005678, 3.8036259850477516, 3.7863293390263104, 3.767042483585207, 3.7454988082943785, 3.7213864365225966, 3.694338023768236, 3.6639175688999597, 3.629603163981354, 3.5907641643550816, 3.546630628320725, 3.4962520031272906, 3.438440928699213, 3.3716969647094537, 3.294105218874471, 3.2032104194102544, 3.095890840521936, 2.968333974488669, 2.8164157980692246, 2.6370670937107437, 2.4304685881846866, 2.198063242540571, 1.9294263142969186, 1.594565306037948, 1.1612219256126985, 0.6264919785812098, 0.11277940013313187, 0.00273344952480894, 0.3930974865057042, 0.8958502524121773, 1.3302876368520427, 1.6758258800911752, 1.9420350159556368, 2.1454433103877593, 2.3066627125255286, 2.4439564522383703, 2.5679072523257904, 2.680889360047984, 2.779085830025574, 2.855406536616025, 2.904045896128755, 2.926170602658814], [3.976221554124988, 3.9698049022986215, 3.9627178084720933, 3.9548857520819847, 3.9462249223973207, 3.9366408291637485, 3.9260266517921503, 3.9142612652173643, 3.9012068627113377, 3.8867060720173985, 3.8705784287882907, 3.8526160270032763, 3.8325781047573484, 3.8101842381009297, 3.7851056943513908, 3.7569543228298135, 3.7252681102119665, 3.6894921620405317, 3.6489533362483035, 3.60282597213309, 3.550085037923066, 3.4894415083362382, 3.4192530770876544, 3.3374026018543033, 3.241141603371895, 3.12692211982707, 2.990331341335281, 2.8264835910546244, 2.6315022627023645, 2.404369717551876, 2.1424563936932026, 1.827626252963512, 1.4276080605041894, 0.9249918368675645, 0.3881621101832379, 0.128454104986773, 0.40601715487728246, 0.9012393550066082, 1.3564762452517156, 1.7245517599873978, 2.011187268580487, 2.2315357426045455, 2.405065615308634, 2.5499802736905357, 2.6777675278136646, 2.7922074738180345, 2.8911180143252895, 2.9689066685493524, 3.020507455737477, 3.046612739688591], [4.055478496705512, 4.049464067025182, 4.042823992040476, 4.035489340056958, 4.027382720981844, 4.018417051064465, 4.00849409165303, 3.9975027099515588, 3.9853167951365966, 3.971792743701125, 3.9567664016552304, 3.9400493155263074, 3.921424095028829, 3.9006386220151414, 3.8773987442307574, 3.851358955457621, 3.822110366026471, 3.789164979073367, 3.751934861777832, 3.70970416651741, 3.661591010837101, 3.6064948296742414, 3.5430228380563396, 3.469386775969702, 3.3832592787228046, 3.281583082351471, 3.1603540288108363, 3.0145051182653764, 2.8383054504207337, 2.6269396895466377, 2.3778017188190437, 2.08373249272993, 1.7219245039625999, 1.2689819149541803, 0.755438111590926, 0.3900286949822185, 0.4949899622803421, 0.9294569091717778, 1.3869960130043828, 1.771725899307876, 2.076957407117962, 2.314146920611777, 2.5007371266391023, 2.65443244557723, 2.787403780139387, 2.904638528139942, 3.00537844066368, 3.0853928074618997, 3.1403638018125055, 3.170625396850832], [4.1370626943313225, 4.131429611367997, 4.125213045545755, 4.118349257130364, 4.110766805719345, 4.102385452097644, 4.0931148649325175, 4.082853088670548, 4.071484717056442, 4.058878700872954, 4.044885697343008, 4.029334840048614, 4.01202976918087, 3.9927437080079384, 3.9712132960574387, 3.9471307827772617, 3.9201340323398086, 3.8897935676714352, 3.8555955538083415, 3.816919131203943, 3.773005771274335, 3.722917206070212, 3.665476791333267, 3.5991866767859544, 3.5221098301229548, 3.4317028005364016, 3.324587541652468, 3.196279916754185, 3.0410162013366224, 2.8521617093455145, 2.623895098403802, 2.3518809128744116, 2.0253967959845474, 1.6241076848071154, 1.1541610145937256, 0.7384050272151306, 0.6642833453666516, 0.9837728572818025, 1.4189674856264674, 1.8129417328327921, 2.1348875541796266, 2.389089010269925, 2.589811649447572, 2.753727829396984, 2.893469535127976, 3.0150799650464735, 3.1190416408172985, 3.2023351846752335, 3.261362249949021, 3.2961871356261234], [4.220986941057483, 4.215713910969281, 4.20989692644858, 4.203477053671981, 4.1963883459924185, 4.1885568673021085, 4.179899546875019, 4.170322829121438, 4.159721071954819, 4.147974634661775, 4.134947579149659, 4.120484885617329, 4.104409052746538, 4.086515910089039, 4.066569411486592, 4.044295095734296, 4.019371783130473, 3.991420906954579, 3.9599926307296407, 3.9245475336400677, 3.8844320915697526, 3.8388453348936826, 3.7867927616711285, 3.727021579423637, 3.6579283200401242, 3.5774256125384416, 3.482750255120044, 3.3701954819283997, 3.2347812686453317, 3.0700212820418114, 2.8683604219755865, 2.623030271639794, 2.328348378125565, 1.9731959788430982, 1.551957309095375, 1.127194931116389, 0.9091463573070115, 1.0730001088367185, 1.453186956954177, 1.8455091019480498, 2.181536837514763, 2.4529407707416495, 2.6690931323567693, 2.844896527057743, 2.9931673874851685, 3.120891737463159, 3.2296567092340194, 3.3175163579647022, 3.3815442649102643, 3.42159712815476], [4.307281138279844, 4.302346666013266, 4.296905158829099, 4.290902116769103, 4.2842766496089695, 4.2769606075641295, 4.2688775664128045, 4.259941636403818, 4.250056056394892, 4.239111524308065, 4.2269842013210255, 4.213533309007892, 4.198598214149074, 4.181994862621307, 4.163511377966884, 4.1429025764675735, 4.1198830606277745, 4.094118424451791, 4.065213917569181, 4.032699641052492, 3.9960109380022204, 3.954462020211268, 3.907209915275994, 3.8532043290920233, 3.791116691216275, 3.719238061045102, 3.6353303462065556, 3.5364090989088206, 3.418435204511927, 3.2759260803116383, 3.1016688323840733, 2.887232754626609, 2.6251663262784573, 2.3096627617037218, 1.9351133254805173, 1.5266958696542148, 1.215959212890724, 1.210526971885958, 1.495866368283975, 1.8690879734038819, 2.214520787956744, 2.5028906028522373, 2.7358459842807914, 2.925387812538699, 3.0840918239480417, 3.219779511620646, 3.3350570856044746, 3.428945395769287, 3.499143555768538, 3.545348027788099], [4.395996124428881, 4.39137868633887, 4.386288567295136, 4.380675345071949, 4.3744827691999175, 4.367647986278028, 4.360100639400276, 4.351761816030147, 4.342542812210519, 4.33234367262192, 4.321051455027202, 4.308538153126823, 4.294658192468934, 4.279245387914652, 4.2621092155048075, 4.243030202384506, 4.221754169736101, 4.197984966441136, 4.171375191667536, 4.141514201395891, 4.107912393412701, 4.069980313764421, 4.027000438174694, 3.978088412868811, 3.922138860493611, 3.8577482041544138, 3.7831028097876955, 3.6958145606904305, 3.5926783041221753, 3.46932324627274, 3.319767688540966, 3.1360949045017397, 2.909125390871184, 2.631281231886196, 2.298971681287584, 1.9205384128578333, 1.5656977199812545, 1.4092631614456923, 1.5604589904572255, 1.8869950508480087, 2.2328284305849753, 2.536684586789311, 2.7876259700685133, 2.9928857213309947, 3.164070853370753, 3.309671727341914, 3.4332670153622624, 3.5347776445500174, 3.612498660307228, 3.6660151902422005], [4.487208389291008, 4.482886561410157, 4.478123896641873, 4.472873711203985, 4.467083999261126, 4.4606967414664584, 4.4536471045027515, 4.44586251010216, 4.437261546778598, 4.427752690734538, 4.417232793588409, 4.405585282992466, 4.3926780068683975, 4.378360631453763, 4.362461475582776, 4.344783625652829, 4.325100123190573, 4.303147943323663, 4.278620377949885, 4.251157286875024, 4.220332460127934, 4.185637007797577, 4.146457200208307, 4.102044423606242, 4.051473734739942, 3.9935856291971334, 3.9269026621129695, 3.849507854857528, 3.7588647221848657, 3.651549771802005, 3.5228652443926824, 3.366344152443689, 3.1734190104849187, 2.9343897712204057, 2.6424835726926754, 2.2998963771155654, 1.938356300726243, 1.6736390162531656, 1.6676838629212263, 1.9085440575950543, 2.23772700072418, 2.5528025440559023, 2.822201281407547, 3.0451593592268984, 3.2310206986469447, 3.388600594828678, 3.522410459577032, 3.6332432286171152, 3.7199851832475215, 3.7821738395632463], [4.581026016394511, 4.576978557327914, 4.572519657943109, 4.567606050593627, 4.562189600455364, 4.55621668718479, 4.549627492034678, 4.54235517236455, 4.534324901212132, 4.525452744112325, 4.515644338263342, 4.504793329897461, 4.492779513553657, 4.479466600799728, 4.464699524289722, 4.448301153679555, 4.430068259673064, 4.409766506632673, 4.387124175734463, 4.361824208910851, 4.333494002372156, 4.301692141612584, 4.265890916597941, 4.225452920296049, 4.179599207856861, 4.127365199278502, 4.067538451072596, 3.998569127755355, 3.918438768222551, 3.8244650119191865, 3.71300996104795, 3.5790571881842634, 3.415678246505846, 3.21374038689304, 2.9633684004798595, 2.6599567960608295, 2.3160998363108005, 1.9943459957072793, 1.8399848087230424, 1.9520482434767539, 2.234750077145585, 2.5510849291657474, 2.837642256057727, 3.0799725051894797, 3.2828209440262612, 3.454590007788539, 3.6006220758335874, 3.7225801255224513, 3.8199622868106027, 3.8923431576426917], [4.677596358146851, 4.673802243611023, 4.669623701551606, 4.665020574596326, 4.659948245992886, 4.654357085423026, 4.648191812648098, 4.641390763806335, 4.633885041702008, 4.625597526988585, 4.6164417214448905, 4.606320387155215, 4.595123935752055, 4.5827285091568335, 4.568993676322706, 4.553759647726096, 4.536843878437219, 4.51803688812071, 4.497097067241605, 4.4737441555290465, 4.447650959887907, 4.418432706682124, 4.385633169743173, 4.348706336062084, 4.306991793760015, 4.259681133116005, 4.205771244836411, 4.1439981555334615, 4.072741434586025, 3.989883468223601, 3.8925992427196086, 3.777041692014547, 3.637886999530516, 3.4677780835520844, 3.2571349563173184, 2.9963789690355807, 2.6848735753565727, 2.350686995319931, 2.0891522358184247, 2.0454908242376804, 2.2372941111569444, 2.5342616780450253, 2.8327487146314017, 3.095105625746474, 3.317222341388367, 3.5055523476539348, 3.665958789516806, 3.8009662986787647, 3.910723918162873, 3.9949475993969426], [4.7771161996680025, 4.773554602605734, 4.769633266406036, 4.765314853408336, 4.760557931183118, 4.755316474578375, 4.749539296187706, 4.743169392464964, 4.736143189872482, 4.728389671852062, 4.719829362812941, 4.710373139416839, 4.699920831765923, 4.6883595670560805, 4.675561794994275, 4.661382916595023, 4.645658414154082, 4.628200347773801, 4.608793039165949, 4.587187701220098, 4.563095683932814, 4.536179881432722, 4.5060436619212085, 4.472216412307232, 4.434134384008017, 4.3911149075584985, 4.342321082415501, 4.286712530588922, 4.2229753741392075, 4.149420688115125, 4.063834471044952, 3.9632529193254, 3.8436260928287083, 3.699336377204961, 3.5226383427565504, 3.303653269501411, 3.033697559315463, 2.718287861426871, 2.4055874675081106, 2.2181552663277713, 2.2710362925002663, 2.511183532502066, 2.808194632049789, 3.0886214371484693, 3.331822081551942, 3.539201049445062, 3.716312300209032, 3.866447363523541, 3.9904463045789416, 4.088282633053876], [4.879845570342687, 4.876495775509234, 4.872808654061584, 4.868749411020097, 4.864279481557104, 4.859356082275307, 4.853931699975449, 4.847953507146347, 4.841362691094394, 4.834093680710502, 4.826073251166123, 4.817219482089326, 4.807440538660327, 4.79663323712202, 4.7846813457865345, 4.771453558840126, 4.756801061843568, 4.740554582988459, 4.72252079028952, 4.7024778481405445, 4.680169881348594, 4.655300002313179, 4.627521424313514, 4.596425990511562, 4.561529162049744, 4.522250077790347, 4.477884638484115, 4.4275685402388785, 4.370225554566328, 4.304493742249315, 4.228618085905458, 4.140291377287051, 4.036415463984104, 3.912744676248186, 3.7633828430700436, 3.5802420395719, 3.353319646476756, 3.075542625401749, 2.7610206295502593, 2.481134756964151, 2.3733104054406513, 2.5024409613623733, 2.769194461956113, 3.059691012952743, 3.324203287628437, 3.553001751058568, 3.749327544331152, 3.9168596400889815, 4.057127056767332, 4.170474271302938], [4.986127031272873, 4.982968264661209, 4.979492337735994, 4.9756667322190165, 4.971455448271545, 4.966818598817773, 4.961711949129169, 4.956086392583277, 4.949887351619794, 4.943054090546744, 4.935518923857688, 4.927206299916558, 4.918031734992456, 4.9079005663323105, 4.896706484763403, 4.884329796553237, 4.870635349986449, 4.855470043024185, 4.838659802595627, 4.820005890787087, 4.799280344407195, 4.7762202861113625, 4.75052074839262, 4.721825512374514, 4.689715259792008, 4.65369203447645, 4.613158553795274, 4.567390210510686, 4.515496511982937, 4.456366967879925, 4.3885936493483335, 4.310358155000356, 4.219263660857518, 4.112082645837076, 3.9843815490086074, 3.830001938469349, 3.640562745662597, 3.406132640779912, 3.1220616222179056, 2.8135610516229423, 2.5760116777181885, 2.5456944777494326, 2.7310165497958945, 3.0107154992435405, 3.2924940301486156, 3.5442298989154266, 3.7623436637821577, 3.949753059549464, 4.108515721754254, 4.2394269905132065], [5.096413421430049, 5.093424559877433, 5.090136457711684, 5.086518615013381, 5.082537304522583, 5.078155203531131, 5.073330977707859, 5.068018809180966, 5.062167859658804, 5.055721657446133, 5.0486173947971045, 5.040785118991385, 5.032146796628528, 5.022615225640888, 5.012092763063123, 5.000469828166004, 4.987623129468788, 4.973413549412725, 4.957683600726124, 4.940254341756034, 4.920921601404689, 4.899451313556134, 4.875573689695101, 4.848975857248534, 4.819292445330771, 4.786093386104339, 4.748867882459435, 4.707003012406333, 4.6597547012320515, 4.606207634612962, 4.545218843975677, 4.47533673265112, 4.394682546959122, 4.3007738558382185, 4.190259272894888, 4.058525775090745, 3.8991695349963114, 3.7035671505758834, 3.4620668392790783, 3.1733220390504506, 2.8760047564345848, 2.6875799485386853, 2.7274379047526223, 2.9522573526918543, 3.2369916800963936, 3.5103285972232463, 3.752406259818123, 3.962327383056368, 4.142040327139397, 4.292760417433884], [5.211309127158663, 5.2084682257584065, 5.20534370977473, 5.201906842158913, 5.198125880676374, 5.193965742507715, 5.189387626526169, 5.18434858676612, 5.178801049339768, 5.172692263498564, 5.165963675586746, 5.158550212182025, 5.150379455611136, 5.141370691061402, 5.131433799407033, 5.120467963253421, 5.108360145054197, 5.0949832847521055, 5.080194149221057, 5.063830745403225, 5.04570918137376, 5.025619821620756, 5.003322530171429, 4.978540721212904, 4.950953831519665, 4.920187676868273, 4.88580193152823, 4.847273637420172, 4.803975145463954, 4.755144113977411, 4.6998419683831845, 4.636895280891152, 4.564811395613323, 4.481654591654248, 4.384861277680415, 4.2709622321483085, 4.13517393467344, 3.9708642435269472, 3.7692178539710826, 3.52107589659053, 3.229308147558197, 2.948043772997203, 2.8124489087511644, 2.9125892939022044, 3.1643670672805153, 3.450104875188764, 3.7164949450583777, 3.951419354257096, 4.154741713874498, 4.327740293079107], [5.331633890321785, 5.3289174112647215, 5.325930529125483, 5.322646010118331, 5.319033806682798, 5.315060750464557, 5.310690207939925, 5.305881693211196, 5.3005904314784855, 5.294766865431952, 5.2883560952392195, 5.281297240837597, 5.273522712762086, 5.264957374590952, 5.25551757605997, 5.245110030697927, 5.233630505078976, 5.220962277932895, 5.206974315652814, 5.191519095138032, 5.1744299839108665, 5.155518058900545, 5.134568206064687, 5.111334288505428, 5.08553309403043, 5.056836663729111, 5.024862444916134, 4.989160479392141, 4.949196490980532, 4.9043292092488855, 4.853779451554738, 4.796587204084533, 4.731550896184512, 4.657139763271201, 4.571364900652344, 4.471586473913409, 4.35422400044385, 4.214332945514549, 4.0450699281611415, 3.837476287133056, 3.583096602838676, 3.2899240738714077, 3.029010545048919, 2.9470718566907332, 3.097168712610791, 3.3671795235080695, 3.652394513999431, 3.913651405824007, 4.143246024957358, 4.341215081627968], [5.458526137178406, 5.455907651286634, 5.45302931715118, 5.4498651297597736, 5.4463864314365065, 5.4425616293346275, 5.438355879905291, 5.433730735742155, 5.4286437493775574, 5.42304802759195, 5.416891728541669, 5.410117492441928, 5.402661794570754, 5.394454206864166, 5.385416551190983, 5.375461923308757, 5.36449356121427, 5.352403524707756, 5.339071143931328, 5.324361182642159, 5.308121645947955, 5.2901811406149895, 5.270345666627075, 5.248394678180297, 5.2240761959505795, 5.1971006730935025, 5.1671332041182945, 5.133783501665831, 5.096592824839903, 5.055016681806166, 5.008401580229632, 4.95595324865549, 4.896692411810656, 4.829392059097696, 4.752486686147369, 4.66393844531817, 4.561036685568114, 4.44009680124758, 4.296023245883401, 4.121778357848313, 3.908305683607543, 3.6480537095907004, 3.3550029805249477, 3.1179654955437894, 3.0882082196259093, 3.2788381088175846, 3.561455190584592, 3.8460814395800775, 4.103863472521195, 4.329583173408471], [5.5936201108877786, 5.591067989545031, 5.588263464631207, 5.585181452732558, 5.581794347802053, 5.578071759715864, 5.573980223647262, 5.569482876427266, 5.564539095405088, 5.559104094515854, 5.5531284712667, 5.546557697110993, 5.539331542122404, 5.531383422911435, 5.522639660220626, 5.513018629422778, 5.502429783002114, 5.49077251871401, 5.477934860074712, 5.4637919065498295, 5.4482039984851856, 5.431014525326363, 5.41204728339999, 5.391103259175076, 5.367956672128985, 5.342350053152194, 5.313988052408257, 5.2825295534088035, 5.247577500265427, 5.208665595100326, 5.165240648361725, 5.116638794598214, 5.062052901743253, 5.000487105780566, 4.93069216567185, 4.851071719923934, 4.759543741159755, 4.653332728785118, 4.528657657951453, 4.380282481764242, 4.200992059228814, 3.981674049203617, 3.7158652000386243, 3.4243213602037974, 3.21380877400836, 3.233190893710038, 3.456485057513546, 3.7484100276871892, 4.0330893120698, 4.28886080417048], [5.739372317364683, 5.736845298564263, 5.734069358496766, 5.731019963489719, 5.72767015357042, 5.723990299090818, 5.71994783169462, 5.715506946502271, 5.7106282718797, 5.705268502530533, 5.699379990875445, 5.692910290713471, 5.685801645941259, 5.677990415562465, 5.6694064242513145, 5.659972225209698, 5.6496022587995585, 5.638201886204971, 5.625666271860666, 5.6118790811399855, 5.596710950226036, 5.5800176723646455, 5.561638027652166, 5.5413911604939985, 5.519073377508918, 5.494454195495648, 5.467271409017475, 5.437224862539417, 5.403968491193857, 5.367100019053964, 5.326147445722652, 5.280551065335746, 5.229639172135708, 5.172594690230927, 5.108408515985802, 5.035813035921761, 4.953185522662434, 4.858405096647097, 4.748637902518433, 4.620014705539146, 4.467169901348064, 4.282727471582423, 4.057557119585154, 3.786447689789088, 3.4976168501845444, 3.315394628211102, 3.3800196579169923, 3.629846467767983, 3.9294015158693862, 4.215077712610311], [5.899723637599791, 5.897161336257934, 5.894347945158776, 5.891258980236753, 5.887867588266564, 5.884144319282326, 5.880056876819559, 5.875569843551995, 5.87064437951821, 5.865237889665167, 5.859303656849437, 5.852790435696553, 5.845642001777465, 5.837796649356862, 5.829186629420209, 5.819737517687965, 5.809367499735887, 5.797986556972932, 5.785495532834182, 5.771785052791893, 5.756734264221554, 5.740209352165504, 5.722061773762799, 5.702126136371197, 5.680217620510625, 5.656128816287408, 5.629625797387699, 5.60044319483549, 5.568277945643544, 5.532781267243737, 5.493548228518666, 5.450104022899207, 5.401885650982944, 5.34821711211213, 5.288275258176601, 5.221041964265834, 5.145235861926373, 5.059212981669727, 4.960819419261357, 4.847169838351903, 4.714315290786003, 4.556771745729695, 4.367018551653367, 4.1359413378856855, 3.8597216828707226, 3.5746076740897106, 3.421630737197929, 3.5273364429157725, 3.7992032548451586, 4.105768949223897], [6.081634920067737, 6.078934099682885, 6.075970646874549, 6.072719355126057, 6.069152657074762, 6.065240412331641, 6.060949677132751, 6.056244454167682, 6.051085420676111, 6.045429632574973, 6.039230201950931, 6.032435944693351, 6.02499099430994, 6.016834377006361, 6.007899541852356, 5.998113838210091, 5.987397930448725, 5.975665137162251, 5.962820678448741, 5.948760810041754, 5.933371816868212, 5.916528830486684, 5.898094424217742, 5.877916925763696, 5.855828368539465, 5.831641978111008, 5.805149056626286, 5.776115082356965, 5.744274778136338, 5.709325813558882, 5.670920678992473, 5.628656085565633, 5.582058973948159, 5.530567807029806, 5.473507197504193, 5.410052948153088, 5.339183038107718, 5.259607601523609, 5.169666915562091, 5.067179978459967, 4.949216714255454, 4.81175665425098, 4.6492080514125655, 4.453921037275892, 4.216826934398818, 3.9356164784310277, 3.655011836040976, 3.531552072785329, 3.6743372824354, 3.96515349702443], [6.299456659955626, 6.296395451674349, 6.293040756160345, 6.2893652165470595, 6.285339065461505, 6.28092993522324, 6.276102656014391, 6.270819041360564, 6.265037660097598, 6.2587135937541225, 6.251798177927074, 6.244238725732464, 6.23597823073403, 6.226955045835867, 6.217102533407681, 6.206348680315609, 6.194615669462417, 6.181819396782329, 6.167868919242865, 6.152665815096414, 6.136103432162358, 6.118065992995892, 6.098427516993404, 6.077050508218599, 6.053784343197078, 6.028463273960919, 6.00090393655228, 5.970902221560535, 5.938229317434559, 5.90262667383405, 5.8637995429034895, 5.821408628382002, 5.7750591861194565, 5.7242866435198785, 5.6685373892255155, 5.607142745432674, 5.539283136565727, 5.463937880099992, 5.379813464807884, 5.285239029473309, 5.178011128727934, 5.055160109179469, 4.912600411955138, 4.744641473905905, 4.543517662518234, 4.300231245437621, 4.014074618608936, 3.7385644933413964, 3.644366343452534, 3.820661278759679], [6.5928880887884915, 6.5887406448812005, 6.584211109402945, 6.579266693911172, 6.573872202689554, 6.5679899167576234, 6.5615794793238935, 6.554597782846842, 6.5469988574516105, 6.538733759875052, 6.529750461351011, 6.519993731875281, 6.509405017080121, 6.4979223024782415, 6.485479958083687, 6.472008554360281, 6.457434638062518, 6.441680453786003, 6.424663593885228, 6.406296555767106, 6.386486181305431, 6.365132948051748, 6.3421300757512995, 6.31736240397846, 6.290704986859833, 6.262021337957504, 6.231161241157556, 6.197958020014512, 6.1622251257969145, 6.123751859611861, 6.082297980768937, 6.0375868634387295, 5.989296733629464, 5.937049328277497, 5.88039503573975, 5.818793150496494, 5.751585219727073, 5.67795843483023, 5.596894390829695, 5.507095906489189, 5.4068803318111245, 5.29402096928178, 5.16550828043782, 5.0171927639792475, 4.843289048151516, 4.6359247382478905, 4.386192470678948, 4.095055877130698, 3.825032431052892, 3.759473806870744], [7.276274995472304, 7.255917089520187, 7.235136332071983, 7.213914802391554, 7.192233417347025, 7.17007182879345, 7.147408309389912, 7.124219625252738, 7.10048089358307, 7.076165423092936, 7.051244534677779, 7.025687359331291, 6.999460609752398, 6.972528321432136, 6.944851558201329, 6.916388076231942, 6.887091939268774, 6.856913076362934, 6.825796771504722, 6.793683072206951, 6.760506101132037, 6.726193251103044, 6.6906642390422935, 6.653829988204247, 6.615591300050924, 6.5758372666197396, 6.53444336036283, 6.491269119931886, 6.446155325438448, 6.398920522722255, 6.349356709272761, 6.297223928960297, 6.242243430015666, 6.184088907509894, 6.1223751572758855, 6.056643180013544, 5.98634033935063, 5.910793509148934, 5.829172099023808, 5.740436180683395, 5.643262246661575, 5.535934766182857, 5.416184749722025, 5.280946421676112, 5.125993588263836, 4.945438302771712, 4.731300696205277, 4.4747741427956225, 4.17854090129095, 3.914225148425768]]}, {\"name\": \"optimum\", \"type\": \"scatter\", \"x\": [0.2562571631829818], \"y\": [0.107962233101914]}],\n",
       "                        {\"margin\": {\"b\": 0, \"l\": 0, \"r\": 0, \"t\": 25}, \"showlegend\": false, \"template\": {\"data\": {\"bar\": [{\"error_x\": {\"color\": \"#2a3f5f\"}, \"error_y\": {\"color\": \"#2a3f5f\"}, \"marker\": {\"line\": {\"color\": \"#E5ECF6\", \"width\": 0.5}}, \"type\": \"bar\"}], \"barpolar\": [{\"marker\": {\"line\": {\"color\": \"#E5ECF6\", \"width\": 0.5}}, \"type\": \"barpolar\"}], \"carpet\": [{\"aaxis\": {\"endlinecolor\": \"#2a3f5f\", \"gridcolor\": \"white\", \"linecolor\": \"white\", \"minorgridcolor\": \"white\", \"startlinecolor\": \"#2a3f5f\"}, \"baxis\": {\"endlinecolor\": \"#2a3f5f\", \"gridcolor\": \"white\", \"linecolor\": \"white\", \"minorgridcolor\": \"white\", \"startlinecolor\": \"#2a3f5f\"}, \"type\": \"carpet\"}], \"choropleth\": [{\"colorbar\": {\"outlinewidth\": 0, \"ticks\": \"\"}, \"type\": \"choropleth\"}], \"contour\": [{\"colorbar\": {\"outlinewidth\": 0, \"ticks\": \"\"}, \"colorscale\": [[0.0, \"#0d0887\"], [0.1111111111111111, \"#46039f\"], [0.2222222222222222, \"#7201a8\"], [0.3333333333333333, \"#9c179e\"], [0.4444444444444444, \"#bd3786\"], [0.5555555555555556, \"#d8576b\"], [0.6666666666666666, \"#ed7953\"], [0.7777777777777778, \"#fb9f3a\"], [0.8888888888888888, \"#fdca26\"], [1.0, \"#f0f921\"]], \"type\": \"contour\"}], \"contourcarpet\": [{\"colorbar\": {\"outlinewidth\": 0, \"ticks\": \"\"}, \"type\": \"contourcarpet\"}], \"heatmap\": [{\"colorbar\": {\"outlinewidth\": 0, \"ticks\": \"\"}, \"colorscale\": [[0.0, \"#0d0887\"], [0.1111111111111111, \"#46039f\"], [0.2222222222222222, \"#7201a8\"], [0.3333333333333333, \"#9c179e\"], [0.4444444444444444, \"#bd3786\"], [0.5555555555555556, \"#d8576b\"], [0.6666666666666666, \"#ed7953\"], [0.7777777777777778, \"#fb9f3a\"], [0.8888888888888888, \"#fdca26\"], [1.0, \"#f0f921\"]], \"type\": \"heatmap\"}], \"heatmapgl\": [{\"colorbar\": {\"outlinewidth\": 0, \"ticks\": \"\"}, \"colorscale\": [[0.0, \"#0d0887\"], [0.1111111111111111, \"#46039f\"], [0.2222222222222222, \"#7201a8\"], [0.3333333333333333, \"#9c179e\"], [0.4444444444444444, \"#bd3786\"], [0.5555555555555556, \"#d8576b\"], [0.6666666666666666, \"#ed7953\"], [0.7777777777777778, \"#fb9f3a\"], [0.8888888888888888, \"#fdca26\"], [1.0, \"#f0f921\"]], \"type\": \"heatmapgl\"}], \"histogram\": [{\"marker\": {\"colorbar\": {\"outlinewidth\": 0, \"ticks\": \"\"}}, \"type\": \"histogram\"}], \"histogram2d\": [{\"colorbar\": {\"outlinewidth\": 0, \"ticks\": \"\"}, \"colorscale\": [[0.0, \"#0d0887\"], [0.1111111111111111, \"#46039f\"], [0.2222222222222222, \"#7201a8\"], [0.3333333333333333, \"#9c179e\"], [0.4444444444444444, \"#bd3786\"], [0.5555555555555556, \"#d8576b\"], [0.6666666666666666, \"#ed7953\"], [0.7777777777777778, \"#fb9f3a\"], [0.8888888888888888, \"#fdca26\"], [1.0, \"#f0f921\"]], \"type\": \"histogram2d\"}], \"histogram2dcontour\": [{\"colorbar\": {\"outlinewidth\": 0, \"ticks\": \"\"}, \"colorscale\": [[0.0, \"#0d0887\"], [0.1111111111111111, \"#46039f\"], [0.2222222222222222, \"#7201a8\"], [0.3333333333333333, \"#9c179e\"], [0.4444444444444444, \"#bd3786\"], [0.5555555555555556, \"#d8576b\"], [0.6666666666666666, \"#ed7953\"], [0.7777777777777778, \"#fb9f3a\"], [0.8888888888888888, \"#fdca26\"], [1.0, \"#f0f921\"]], \"type\": \"histogram2dcontour\"}], \"mesh3d\": [{\"colorbar\": {\"outlinewidth\": 0, \"ticks\": \"\"}, \"type\": \"mesh3d\"}], \"parcoords\": [{\"line\": {\"colorbar\": {\"outlinewidth\": 0, \"ticks\": \"\"}}, \"type\": \"parcoords\"}], \"pie\": [{\"automargin\": true, \"type\": \"pie\"}], \"scatter\": [{\"marker\": {\"colorbar\": {\"outlinewidth\": 0, \"ticks\": \"\"}}, \"type\": \"scatter\"}], \"scatter3d\": [{\"line\": {\"colorbar\": {\"outlinewidth\": 0, \"ticks\": \"\"}}, \"marker\": {\"colorbar\": {\"outlinewidth\": 0, \"ticks\": \"\"}}, \"type\": \"scatter3d\"}], \"scattercarpet\": [{\"marker\": {\"colorbar\": {\"outlinewidth\": 0, \"ticks\": \"\"}}, \"type\": \"scattercarpet\"}], \"scattergeo\": [{\"marker\": {\"colorbar\": {\"outlinewidth\": 0, \"ticks\": \"\"}}, \"type\": \"scattergeo\"}], \"scattergl\": [{\"marker\": {\"colorbar\": {\"outlinewidth\": 0, \"ticks\": \"\"}}, \"type\": \"scattergl\"}], \"scattermapbox\": [{\"marker\": {\"colorbar\": {\"outlinewidth\": 0, \"ticks\": \"\"}}, \"type\": \"scattermapbox\"}], \"scatterpolar\": [{\"marker\": {\"colorbar\": {\"outlinewidth\": 0, \"ticks\": \"\"}}, \"type\": \"scatterpolar\"}], \"scatterpolargl\": [{\"marker\": {\"colorbar\": {\"outlinewidth\": 0, \"ticks\": \"\"}}, \"type\": \"scatterpolargl\"}], \"scatterternary\": [{\"marker\": {\"colorbar\": {\"outlinewidth\": 0, \"ticks\": \"\"}}, \"type\": \"scatterternary\"}], \"surface\": [{\"colorbar\": {\"outlinewidth\": 0, \"ticks\": \"\"}, \"colorscale\": [[0.0, \"#0d0887\"], [0.1111111111111111, \"#46039f\"], [0.2222222222222222, \"#7201a8\"], [0.3333333333333333, \"#9c179e\"], [0.4444444444444444, \"#bd3786\"], [0.5555555555555556, \"#d8576b\"], [0.6666666666666666, \"#ed7953\"], [0.7777777777777778, \"#fb9f3a\"], [0.8888888888888888, \"#fdca26\"], [1.0, \"#f0f921\"]], \"type\": \"surface\"}], \"table\": [{\"cells\": {\"fill\": {\"color\": \"#EBF0F8\"}, \"line\": {\"color\": \"white\"}}, \"header\": {\"fill\": {\"color\": \"#C8D4E3\"}, \"line\": {\"color\": \"white\"}}, \"type\": \"table\"}]}, \"layout\": {\"annotationdefaults\": {\"arrowcolor\": \"#2a3f5f\", \"arrowhead\": 0, \"arrowwidth\": 1}, \"coloraxis\": {\"colorbar\": {\"outlinewidth\": 0, \"ticks\": \"\"}}, \"colorscale\": {\"diverging\": [[0, \"#8e0152\"], [0.1, \"#c51b7d\"], [0.2, \"#de77ae\"], [0.3, \"#f1b6da\"], [0.4, \"#fde0ef\"], [0.5, \"#f7f7f7\"], [0.6, \"#e6f5d0\"], [0.7, \"#b8e186\"], [0.8, \"#7fbc41\"], [0.9, \"#4d9221\"], [1, \"#276419\"]], \"sequential\": [[0.0, \"#0d0887\"], [0.1111111111111111, \"#46039f\"], [0.2222222222222222, \"#7201a8\"], [0.3333333333333333, \"#9c179e\"], [0.4444444444444444, \"#bd3786\"], [0.5555555555555556, \"#d8576b\"], [0.6666666666666666, \"#ed7953\"], [0.7777777777777778, \"#fb9f3a\"], [0.8888888888888888, \"#fdca26\"], [1.0, \"#f0f921\"]], \"sequentialminus\": [[0.0, \"#0d0887\"], [0.1111111111111111, \"#46039f\"], [0.2222222222222222, \"#7201a8\"], [0.3333333333333333, \"#9c179e\"], [0.4444444444444444, \"#bd3786\"], [0.5555555555555556, \"#d8576b\"], [0.6666666666666666, \"#ed7953\"], [0.7777777777777778, \"#fb9f3a\"], [0.8888888888888888, \"#fdca26\"], [1.0, \"#f0f921\"]]}, \"colorway\": [\"#636efa\", \"#EF553B\", \"#00cc96\", \"#ab63fa\", \"#FFA15A\", \"#19d3f3\", \"#FF6692\", \"#B6E880\", \"#FF97FF\", \"#FECB52\"], \"font\": {\"color\": \"#2a3f5f\"}, \"geo\": {\"bgcolor\": \"white\", \"lakecolor\": \"white\", \"landcolor\": \"#E5ECF6\", \"showlakes\": true, \"showland\": true, \"subunitcolor\": \"white\"}, \"hoverlabel\": {\"align\": \"left\"}, \"hovermode\": \"closest\", \"mapbox\": {\"style\": \"light\"}, \"paper_bgcolor\": \"white\", \"plot_bgcolor\": \"#E5ECF6\", \"polar\": {\"angularaxis\": {\"gridcolor\": \"white\", \"linecolor\": \"white\", \"ticks\": \"\"}, \"bgcolor\": \"#E5ECF6\", \"radialaxis\": {\"gridcolor\": \"white\", \"linecolor\": \"white\", \"ticks\": \"\"}}, \"scene\": {\"xaxis\": {\"backgroundcolor\": \"#E5ECF6\", \"gridcolor\": \"white\", \"gridwidth\": 2, \"linecolor\": \"white\", \"showbackground\": true, \"ticks\": \"\", \"zerolinecolor\": \"white\"}, \"yaxis\": {\"backgroundcolor\": \"#E5ECF6\", \"gridcolor\": \"white\", \"gridwidth\": 2, \"linecolor\": \"white\", \"showbackground\": true, \"ticks\": \"\", \"zerolinecolor\": \"white\"}, \"zaxis\": {\"backgroundcolor\": \"#E5ECF6\", \"gridcolor\": \"white\", \"gridwidth\": 2, \"linecolor\": \"white\", \"showbackground\": true, \"ticks\": \"\", \"zerolinecolor\": \"white\"}}, \"shapedefaults\": {\"line\": {\"color\": \"#2a3f5f\"}}, \"ternary\": {\"aaxis\": {\"gridcolor\": \"white\", \"linecolor\": \"white\", \"ticks\": \"\"}, \"baxis\": {\"gridcolor\": \"white\", \"linecolor\": \"white\", \"ticks\": \"\"}, \"bgcolor\": \"#E5ECF6\", \"caxis\": {\"gridcolor\": \"white\", \"linecolor\": \"white\", \"ticks\": \"\"}}, \"title\": {\"x\": 0.05}, \"xaxis\": {\"automargin\": true, \"gridcolor\": \"white\", \"linecolor\": \"white\", \"ticks\": \"\", \"title\": {\"standoff\": 15}, \"zerolinecolor\": \"white\", \"zerolinewidth\": 2}, \"yaxis\": {\"automargin\": true, \"gridcolor\": \"white\", \"linecolor\": \"white\", \"ticks\": \"\", \"title\": {\"standoff\": 15}, \"zerolinecolor\": \"white\", \"zerolinewidth\": 2}}}, \"xaxis\": {\"constrain\": \"domain\", \"range\": [-2, 0], \"scaleanchor\": \"y\", \"scaleratio\": 1, \"type\": \"log\"}, \"yaxis\": {\"type\": \"log\"}},\n",
       "                        {\"responsive\": true}\n",
       "                    ).then(function(){\n",
       "                            \n",
       "var gd = document.getElementById('883f9211-31a5-4eab-a31c-32377a7b384f');\n",
       "var x = new MutationObserver(function (mutations, observer) {{\n",
       "        var display = window.getComputedStyle(gd).display;\n",
       "        if (!display || display === 'none') {{\n",
       "            console.log([gd, 'removed!']);\n",
       "            Plotly.purge(gd);\n",
       "            observer.disconnect();\n",
       "        }}\n",
       "}});\n",
       "\n",
       "// Listen for the removal of the full notebook cells\n",
       "var notebookContainer = gd.closest('#notebook-container');\n",
       "if (notebookContainer) {{\n",
       "    x.observe(notebookContainer, {childList: true});\n",
       "}}\n",
       "\n",
       "// Listen for the clearing of the current output cell\n",
       "var outputEl = gd.closest('.output');\n",
       "if (outputEl) {{\n",
       "    x.observe(outputEl, {childList: true});\n",
       "}}\n",
       "\n",
       "                        })\n",
       "                };\n",
       "                });\n",
       "            </script>\n",
       "        </div>"
      ]
     },
     "metadata": {},
     "output_type": "display_data"
    },
    {
     "data": {
      "application/vnd.plotly.v1+json": {
       "config": {
        "plotlyServerURL": "https://plot.ly"
       },
       "data": [
        {
         "hovertemplate": "%{y}",
         "name": "Susceptible",
         "type": "scatter",
         "x": [
          0,
          1,
          2,
          3,
          4,
          5,
          6,
          7,
          8,
          9,
          10,
          11,
          12,
          13,
          14,
          15,
          16,
          17,
          18,
          19,
          20,
          21,
          22,
          23,
          24,
          25,
          26,
          27,
          28,
          29,
          30,
          31,
          32,
          33,
          34,
          35,
          36,
          37,
          38,
          39,
          40,
          41,
          42,
          43,
          44,
          45,
          46,
          47,
          48,
          49,
          50,
          51,
          52,
          53,
          54,
          55,
          56,
          57,
          58,
          59,
          60,
          61,
          62,
          63,
          64,
          65,
          66,
          67,
          68,
          69,
          70,
          71,
          72,
          73,
          74,
          75,
          76,
          77,
          78,
          79,
          80,
          81,
          82,
          83,
          84,
          85,
          86,
          87,
          88,
          89,
          90,
          91,
          92,
          93,
          94,
          95,
          96,
          97,
          98,
          99,
          100
         ],
         "y": [
          990,
          987,
          984,
          981,
          977,
          973,
          968,
          962,
          956,
          949,
          941,
          932,
          922,
          910,
          898,
          883,
          868,
          851,
          832,
          812,
          790,
          767,
          742,
          716,
          688,
          660,
          631,
          602,
          572,
          543,
          514,
          486,
          458,
          432,
          407,
          384,
          361,
          341,
          321,
          304,
          287,
          272,
          259,
          246,
          235,
          224,
          215,
          206,
          198,
          191,
          185,
          179,
          173,
          168,
          164,
          160,
          156,
          153,
          150,
          147,
          145,
          142,
          140,
          138,
          136,
          135,
          133,
          132,
          131,
          129,
          128,
          127,
          126,
          126,
          125,
          124,
          124,
          123,
          122,
          122,
          121,
          121,
          121,
          120,
          120,
          120,
          119,
          119,
          119,
          119,
          119,
          118,
          118,
          118,
          118,
          118,
          118,
          118,
          117,
          117,
          117
         ]
        },
        {
         "hovertemplate": "%{y}",
         "name": "Infectious",
         "type": "scatter",
         "x": [
          0,
          1,
          2,
          3,
          4,
          5,
          6,
          7,
          8,
          9,
          10,
          11,
          12,
          13,
          14,
          15,
          16,
          17,
          18,
          19,
          20,
          21,
          22,
          23,
          24,
          25,
          26,
          27,
          28,
          29,
          30,
          31,
          32,
          33,
          34,
          35,
          36,
          37,
          38,
          39,
          40,
          41,
          42,
          43,
          44,
          45,
          46,
          47,
          48,
          49,
          50,
          51,
          52,
          53,
          54,
          55,
          56,
          57,
          58,
          59,
          60,
          61,
          62,
          63,
          64,
          65,
          66,
          67,
          68,
          69,
          70,
          71,
          72,
          73,
          74,
          75,
          76,
          77,
          78,
          79,
          80,
          81,
          82,
          83,
          84,
          85,
          86,
          87,
          88,
          89,
          90,
          91,
          92,
          93,
          94,
          95,
          96,
          97,
          98,
          99,
          100
         ],
         "y": [
          10,
          11,
          13,
          15,
          17,
          19,
          22,
          25,
          29,
          33,
          37,
          42,
          48,
          54,
          61,
          68,
          76,
          85,
          94,
          104,
          115,
          126,
          137,
          148,
          160,
          171,
          181,
          191,
          200,
          207,
          214,
          219,
          223,
          225,
          226,
          225,
          223,
          219,
          215,
          209,
          203,
          196,
          188,
          181,
          173,
          164,
          156,
          148,
          140,
          132,
          124,
          116,
          109,
          102,
          95,
          89,
          83,
          77,
          72,
          67,
          62,
          58,
          54,
          50,
          46,
          43,
          40,
          37,
          34,
          31,
          29,
          27,
          25,
          23,
          21,
          19,
          18,
          16,
          15,
          14,
          13,
          12,
          11,
          10,
          9,
          8,
          8,
          7,
          7,
          6,
          5,
          5,
          5,
          4,
          4,
          4,
          3,
          3,
          3,
          2,
          2
         ]
        },
        {
         "hovertemplate": "%{y}",
         "name": "Removed",
         "type": "scatter",
         "x": [
          0,
          1,
          2,
          3,
          4,
          5,
          6,
          7,
          8,
          9,
          10,
          11,
          12,
          13,
          14,
          15,
          16,
          17,
          18,
          19,
          20,
          21,
          22,
          23,
          24,
          25,
          26,
          27,
          28,
          29,
          30,
          31,
          32,
          33,
          34,
          35,
          36,
          37,
          38,
          39,
          40,
          41,
          42,
          43,
          44,
          45,
          46,
          47,
          48,
          49,
          50,
          51,
          52,
          53,
          54,
          55,
          56,
          57,
          58,
          59,
          60,
          61,
          62,
          63,
          64,
          65,
          66,
          67,
          68,
          69,
          70,
          71,
          72,
          73,
          74,
          75,
          76,
          77,
          78,
          79,
          80,
          81,
          82,
          83,
          84,
          85,
          86,
          87,
          88,
          89,
          90,
          91,
          92,
          93,
          94,
          95,
          96,
          97,
          98,
          99,
          100
         ],
         "y": [
          0,
          1,
          2,
          3,
          5,
          7,
          9,
          11,
          14,
          17,
          21,
          25,
          29,
          35,
          40,
          47,
          54,
          63,
          72,
          82,
          93,
          106,
          120,
          134,
          150,
          168,
          186,
          206,
          226,
          248,
          271,
          294,
          317,
          341,
          366,
          390,
          415,
          439,
          462,
          486,
          508,
          530,
          551,
          572,
          591,
          610,
          628,
          645,
          661,
          676,
          690,
          704,
          716,
          728,
          739,
          749,
          759,
          768,
          777,
          784,
          792,
          798,
          805,
          811,
          816,
          821,
          826,
          830,
          834,
          838,
          841,
          844,
          847,
          850,
          853,
          855,
          857,
          859,
          861,
          863,
          864,
          866,
          867,
          868,
          869,
          870,
          871,
          872,
          873,
          874,
          874,
          875,
          876,
          876,
          877,
          877,
          878,
          878,
          878,
          879,
          879
         ]
        },
        {
         "hovertemplate": "%{y}",
         "marker": {
          "symbol": 1
         },
         "mode": "markers",
         "name": "Guessed",
         "type": "scatter",
         "x": [
          10,
          20,
          30,
          40,
          50,
          60,
          70,
          80,
          90
         ],
         "y": [
          0,
          100,
          200,
          300,
          100,
          100,
          0,
          0,
          0
         ]
        }
       ],
       "layout": {
        "margin": {
         "b": 0,
         "l": 0,
         "r": 0,
         "t": 25
        },
        "template": {
         "data": {
          "bar": [
           {
            "error_x": {
             "color": "#2a3f5f"
            },
            "error_y": {
             "color": "#2a3f5f"
            },
            "marker": {
             "line": {
              "color": "#E5ECF6",
              "width": 0.5
             }
            },
            "type": "bar"
           }
          ],
          "barpolar": [
           {
            "marker": {
             "line": {
              "color": "#E5ECF6",
              "width": 0.5
             }
            },
            "type": "barpolar"
           }
          ],
          "carpet": [
           {
            "aaxis": {
             "endlinecolor": "#2a3f5f",
             "gridcolor": "white",
             "linecolor": "white",
             "minorgridcolor": "white",
             "startlinecolor": "#2a3f5f"
            },
            "baxis": {
             "endlinecolor": "#2a3f5f",
             "gridcolor": "white",
             "linecolor": "white",
             "minorgridcolor": "white",
             "startlinecolor": "#2a3f5f"
            },
            "type": "carpet"
           }
          ],
          "choropleth": [
           {
            "colorbar": {
             "outlinewidth": 0,
             "ticks": ""
            },
            "type": "choropleth"
           }
          ],
          "contour": [
           {
            "colorbar": {
             "outlinewidth": 0,
             "ticks": ""
            },
            "colorscale": [
             [
              0,
              "#0d0887"
             ],
             [
              0.1111111111111111,
              "#46039f"
             ],
             [
              0.2222222222222222,
              "#7201a8"
             ],
             [
              0.3333333333333333,
              "#9c179e"
             ],
             [
              0.4444444444444444,
              "#bd3786"
             ],
             [
              0.5555555555555556,
              "#d8576b"
             ],
             [
              0.6666666666666666,
              "#ed7953"
             ],
             [
              0.7777777777777778,
              "#fb9f3a"
             ],
             [
              0.8888888888888888,
              "#fdca26"
             ],
             [
              1,
              "#f0f921"
             ]
            ],
            "type": "contour"
           }
          ],
          "contourcarpet": [
           {
            "colorbar": {
             "outlinewidth": 0,
             "ticks": ""
            },
            "type": "contourcarpet"
           }
          ],
          "heatmap": [
           {
            "colorbar": {
             "outlinewidth": 0,
             "ticks": ""
            },
            "colorscale": [
             [
              0,
              "#0d0887"
             ],
             [
              0.1111111111111111,
              "#46039f"
             ],
             [
              0.2222222222222222,
              "#7201a8"
             ],
             [
              0.3333333333333333,
              "#9c179e"
             ],
             [
              0.4444444444444444,
              "#bd3786"
             ],
             [
              0.5555555555555556,
              "#d8576b"
             ],
             [
              0.6666666666666666,
              "#ed7953"
             ],
             [
              0.7777777777777778,
              "#fb9f3a"
             ],
             [
              0.8888888888888888,
              "#fdca26"
             ],
             [
              1,
              "#f0f921"
             ]
            ],
            "type": "heatmap"
           }
          ],
          "heatmapgl": [
           {
            "colorbar": {
             "outlinewidth": 0,
             "ticks": ""
            },
            "colorscale": [
             [
              0,
              "#0d0887"
             ],
             [
              0.1111111111111111,
              "#46039f"
             ],
             [
              0.2222222222222222,
              "#7201a8"
             ],
             [
              0.3333333333333333,
              "#9c179e"
             ],
             [
              0.4444444444444444,
              "#bd3786"
             ],
             [
              0.5555555555555556,
              "#d8576b"
             ],
             [
              0.6666666666666666,
              "#ed7953"
             ],
             [
              0.7777777777777778,
              "#fb9f3a"
             ],
             [
              0.8888888888888888,
              "#fdca26"
             ],
             [
              1,
              "#f0f921"
             ]
            ],
            "type": "heatmapgl"
           }
          ],
          "histogram": [
           {
            "marker": {
             "colorbar": {
              "outlinewidth": 0,
              "ticks": ""
             }
            },
            "type": "histogram"
           }
          ],
          "histogram2d": [
           {
            "colorbar": {
             "outlinewidth": 0,
             "ticks": ""
            },
            "colorscale": [
             [
              0,
              "#0d0887"
             ],
             [
              0.1111111111111111,
              "#46039f"
             ],
             [
              0.2222222222222222,
              "#7201a8"
             ],
             [
              0.3333333333333333,
              "#9c179e"
             ],
             [
              0.4444444444444444,
              "#bd3786"
             ],
             [
              0.5555555555555556,
              "#d8576b"
             ],
             [
              0.6666666666666666,
              "#ed7953"
             ],
             [
              0.7777777777777778,
              "#fb9f3a"
             ],
             [
              0.8888888888888888,
              "#fdca26"
             ],
             [
              1,
              "#f0f921"
             ]
            ],
            "type": "histogram2d"
           }
          ],
          "histogram2dcontour": [
           {
            "colorbar": {
             "outlinewidth": 0,
             "ticks": ""
            },
            "colorscale": [
             [
              0,
              "#0d0887"
             ],
             [
              0.1111111111111111,
              "#46039f"
             ],
             [
              0.2222222222222222,
              "#7201a8"
             ],
             [
              0.3333333333333333,
              "#9c179e"
             ],
             [
              0.4444444444444444,
              "#bd3786"
             ],
             [
              0.5555555555555556,
              "#d8576b"
             ],
             [
              0.6666666666666666,
              "#ed7953"
             ],
             [
              0.7777777777777778,
              "#fb9f3a"
             ],
             [
              0.8888888888888888,
              "#fdca26"
             ],
             [
              1,
              "#f0f921"
             ]
            ],
            "type": "histogram2dcontour"
           }
          ],
          "mesh3d": [
           {
            "colorbar": {
             "outlinewidth": 0,
             "ticks": ""
            },
            "type": "mesh3d"
           }
          ],
          "parcoords": [
           {
            "line": {
             "colorbar": {
              "outlinewidth": 0,
              "ticks": ""
             }
            },
            "type": "parcoords"
           }
          ],
          "pie": [
           {
            "automargin": true,
            "type": "pie"
           }
          ],
          "scatter": [
           {
            "marker": {
             "colorbar": {
              "outlinewidth": 0,
              "ticks": ""
             }
            },
            "type": "scatter"
           }
          ],
          "scatter3d": [
           {
            "line": {
             "colorbar": {
              "outlinewidth": 0,
              "ticks": ""
             }
            },
            "marker": {
             "colorbar": {
              "outlinewidth": 0,
              "ticks": ""
             }
            },
            "type": "scatter3d"
           }
          ],
          "scattercarpet": [
           {
            "marker": {
             "colorbar": {
              "outlinewidth": 0,
              "ticks": ""
             }
            },
            "type": "scattercarpet"
           }
          ],
          "scattergeo": [
           {
            "marker": {
             "colorbar": {
              "outlinewidth": 0,
              "ticks": ""
             }
            },
            "type": "scattergeo"
           }
          ],
          "scattergl": [
           {
            "marker": {
             "colorbar": {
              "outlinewidth": 0,
              "ticks": ""
             }
            },
            "type": "scattergl"
           }
          ],
          "scattermapbox": [
           {
            "marker": {
             "colorbar": {
              "outlinewidth": 0,
              "ticks": ""
             }
            },
            "type": "scattermapbox"
           }
          ],
          "scatterpolar": [
           {
            "marker": {
             "colorbar": {
              "outlinewidth": 0,
              "ticks": ""
             }
            },
            "type": "scatterpolar"
           }
          ],
          "scatterpolargl": [
           {
            "marker": {
             "colorbar": {
              "outlinewidth": 0,
              "ticks": ""
             }
            },
            "type": "scatterpolargl"
           }
          ],
          "scatterternary": [
           {
            "marker": {
             "colorbar": {
              "outlinewidth": 0,
              "ticks": ""
             }
            },
            "type": "scatterternary"
           }
          ],
          "surface": [
           {
            "colorbar": {
             "outlinewidth": 0,
             "ticks": ""
            },
            "colorscale": [
             [
              0,
              "#0d0887"
             ],
             [
              0.1111111111111111,
              "#46039f"
             ],
             [
              0.2222222222222222,
              "#7201a8"
             ],
             [
              0.3333333333333333,
              "#9c179e"
             ],
             [
              0.4444444444444444,
              "#bd3786"
             ],
             [
              0.5555555555555556,
              "#d8576b"
             ],
             [
              0.6666666666666666,
              "#ed7953"
             ],
             [
              0.7777777777777778,
              "#fb9f3a"
             ],
             [
              0.8888888888888888,
              "#fdca26"
             ],
             [
              1,
              "#f0f921"
             ]
            ],
            "type": "surface"
           }
          ],
          "table": [
           {
            "cells": {
             "fill": {
              "color": "#EBF0F8"
             },
             "line": {
              "color": "white"
             }
            },
            "header": {
             "fill": {
              "color": "#C8D4E3"
             },
             "line": {
              "color": "white"
             }
            },
            "type": "table"
           }
          ]
         },
         "layout": {
          "annotationdefaults": {
           "arrowcolor": "#2a3f5f",
           "arrowhead": 0,
           "arrowwidth": 1
          },
          "coloraxis": {
           "colorbar": {
            "outlinewidth": 0,
            "ticks": ""
           }
          },
          "colorscale": {
           "diverging": [
            [
             0,
             "#8e0152"
            ],
            [
             0.1,
             "#c51b7d"
            ],
            [
             0.2,
             "#de77ae"
            ],
            [
             0.3,
             "#f1b6da"
            ],
            [
             0.4,
             "#fde0ef"
            ],
            [
             0.5,
             "#f7f7f7"
            ],
            [
             0.6,
             "#e6f5d0"
            ],
            [
             0.7,
             "#b8e186"
            ],
            [
             0.8,
             "#7fbc41"
            ],
            [
             0.9,
             "#4d9221"
            ],
            [
             1,
             "#276419"
            ]
           ],
           "sequential": [
            [
             0,
             "#0d0887"
            ],
            [
             0.1111111111111111,
             "#46039f"
            ],
            [
             0.2222222222222222,
             "#7201a8"
            ],
            [
             0.3333333333333333,
             "#9c179e"
            ],
            [
             0.4444444444444444,
             "#bd3786"
            ],
            [
             0.5555555555555556,
             "#d8576b"
            ],
            [
             0.6666666666666666,
             "#ed7953"
            ],
            [
             0.7777777777777778,
             "#fb9f3a"
            ],
            [
             0.8888888888888888,
             "#fdca26"
            ],
            [
             1,
             "#f0f921"
            ]
           ],
           "sequentialminus": [
            [
             0,
             "#0d0887"
            ],
            [
             0.1111111111111111,
             "#46039f"
            ],
            [
             0.2222222222222222,
             "#7201a8"
            ],
            [
             0.3333333333333333,
             "#9c179e"
            ],
            [
             0.4444444444444444,
             "#bd3786"
            ],
            [
             0.5555555555555556,
             "#d8576b"
            ],
            [
             0.6666666666666666,
             "#ed7953"
            ],
            [
             0.7777777777777778,
             "#fb9f3a"
            ],
            [
             0.8888888888888888,
             "#fdca26"
            ],
            [
             1,
             "#f0f921"
            ]
           ]
          },
          "colorway": [
           "#636efa",
           "#EF553B",
           "#00cc96",
           "#ab63fa",
           "#FFA15A",
           "#19d3f3",
           "#FF6692",
           "#B6E880",
           "#FF97FF",
           "#FECB52"
          ],
          "font": {
           "color": "#2a3f5f"
          },
          "geo": {
           "bgcolor": "white",
           "lakecolor": "white",
           "landcolor": "#E5ECF6",
           "showlakes": true,
           "showland": true,
           "subunitcolor": "white"
          },
          "hoverlabel": {
           "align": "left"
          },
          "hovermode": "closest",
          "mapbox": {
           "style": "light"
          },
          "paper_bgcolor": "white",
          "plot_bgcolor": "#E5ECF6",
          "polar": {
           "angularaxis": {
            "gridcolor": "white",
            "linecolor": "white",
            "ticks": ""
           },
           "bgcolor": "#E5ECF6",
           "radialaxis": {
            "gridcolor": "white",
            "linecolor": "white",
            "ticks": ""
           }
          },
          "scene": {
           "xaxis": {
            "backgroundcolor": "#E5ECF6",
            "gridcolor": "white",
            "gridwidth": 2,
            "linecolor": "white",
            "showbackground": true,
            "ticks": "",
            "zerolinecolor": "white"
           },
           "yaxis": {
            "backgroundcolor": "#E5ECF6",
            "gridcolor": "white",
            "gridwidth": 2,
            "linecolor": "white",
            "showbackground": true,
            "ticks": "",
            "zerolinecolor": "white"
           },
           "zaxis": {
            "backgroundcolor": "#E5ECF6",
            "gridcolor": "white",
            "gridwidth": 2,
            "linecolor": "white",
            "showbackground": true,
            "ticks": "",
            "zerolinecolor": "white"
           }
          },
          "shapedefaults": {
           "line": {
            "color": "#2a3f5f"
           }
          },
          "ternary": {
           "aaxis": {
            "gridcolor": "white",
            "linecolor": "white",
            "ticks": ""
           },
           "baxis": {
            "gridcolor": "white",
            "linecolor": "white",
            "ticks": ""
           },
           "bgcolor": "#E5ECF6",
           "caxis": {
            "gridcolor": "white",
            "linecolor": "white",
            "ticks": ""
           }
          },
          "title": {
           "x": 0.05
          },
          "xaxis": {
           "automargin": true,
           "gridcolor": "white",
           "linecolor": "white",
           "ticks": "",
           "title": {
            "standoff": 15
           },
           "zerolinecolor": "white",
           "zerolinewidth": 2
          },
          "yaxis": {
           "automargin": true,
           "gridcolor": "white",
           "linecolor": "white",
           "ticks": "",
           "title": {
            "standoff": 15
           },
           "zerolinecolor": "white",
           "zerolinewidth": 2
          }
         }
        }
       }
      },
      "text/html": [
       "<div>\n",
       "        \n",
       "        \n",
       "            <div id=\"5891f5b5-75f6-4c63-b3bb-ab0b21e2e717\" class=\"plotly-graph-div\" style=\"height:525px; width:100%;\"></div>\n",
       "            <script type=\"text/javascript\">\n",
       "                require([\"plotly\"], function(Plotly) {\n",
       "                    window.PLOTLYENV=window.PLOTLYENV || {};\n",
       "                    \n",
       "                if (document.getElementById(\"5891f5b5-75f6-4c63-b3bb-ab0b21e2e717\")) {\n",
       "                    Plotly.newPlot(\n",
       "                        '5891f5b5-75f6-4c63-b3bb-ab0b21e2e717',\n",
       "                        [{\"hovertemplate\": \"%{y}\", \"name\": \"Susceptible\", \"type\": \"scatter\", \"x\": [0, 1, 2, 3, 4, 5, 6, 7, 8, 9, 10, 11, 12, 13, 14, 15, 16, 17, 18, 19, 20, 21, 22, 23, 24, 25, 26, 27, 28, 29, 30, 31, 32, 33, 34, 35, 36, 37, 38, 39, 40, 41, 42, 43, 44, 45, 46, 47, 48, 49, 50, 51, 52, 53, 54, 55, 56, 57, 58, 59, 60, 61, 62, 63, 64, 65, 66, 67, 68, 69, 70, 71, 72, 73, 74, 75, 76, 77, 78, 79, 80, 81, 82, 83, 84, 85, 86, 87, 88, 89, 90, 91, 92, 93, 94, 95, 96, 97, 98, 99, 100], \"y\": [990, 987, 984, 981, 977, 973, 968, 962, 956, 949, 941, 932, 922, 910, 898, 883, 868, 851, 832, 812, 790, 767, 742, 716, 688, 660, 631, 602, 572, 543, 514, 486, 458, 432, 407, 384, 361, 341, 321, 304, 287, 272, 259, 246, 235, 224, 215, 206, 198, 191, 185, 179, 173, 168, 164, 160, 156, 153, 150, 147, 145, 142, 140, 138, 136, 135, 133, 132, 131, 129, 128, 127, 126, 126, 125, 124, 124, 123, 122, 122, 121, 121, 121, 120, 120, 120, 119, 119, 119, 119, 119, 118, 118, 118, 118, 118, 118, 118, 117, 117, 117]}, {\"hovertemplate\": \"%{y}\", \"name\": \"Infectious\", \"type\": \"scatter\", \"x\": [0, 1, 2, 3, 4, 5, 6, 7, 8, 9, 10, 11, 12, 13, 14, 15, 16, 17, 18, 19, 20, 21, 22, 23, 24, 25, 26, 27, 28, 29, 30, 31, 32, 33, 34, 35, 36, 37, 38, 39, 40, 41, 42, 43, 44, 45, 46, 47, 48, 49, 50, 51, 52, 53, 54, 55, 56, 57, 58, 59, 60, 61, 62, 63, 64, 65, 66, 67, 68, 69, 70, 71, 72, 73, 74, 75, 76, 77, 78, 79, 80, 81, 82, 83, 84, 85, 86, 87, 88, 89, 90, 91, 92, 93, 94, 95, 96, 97, 98, 99, 100], \"y\": [10, 11, 13, 15, 17, 19, 22, 25, 29, 33, 37, 42, 48, 54, 61, 68, 76, 85, 94, 104, 115, 126, 137, 148, 160, 171, 181, 191, 200, 207, 214, 219, 223, 225, 226, 225, 223, 219, 215, 209, 203, 196, 188, 181, 173, 164, 156, 148, 140, 132, 124, 116, 109, 102, 95, 89, 83, 77, 72, 67, 62, 58, 54, 50, 46, 43, 40, 37, 34, 31, 29, 27, 25, 23, 21, 19, 18, 16, 15, 14, 13, 12, 11, 10, 9, 8, 8, 7, 7, 6, 5, 5, 5, 4, 4, 4, 3, 3, 3, 2, 2]}, {\"hovertemplate\": \"%{y}\", \"name\": \"Removed\", \"type\": \"scatter\", \"x\": [0, 1, 2, 3, 4, 5, 6, 7, 8, 9, 10, 11, 12, 13, 14, 15, 16, 17, 18, 19, 20, 21, 22, 23, 24, 25, 26, 27, 28, 29, 30, 31, 32, 33, 34, 35, 36, 37, 38, 39, 40, 41, 42, 43, 44, 45, 46, 47, 48, 49, 50, 51, 52, 53, 54, 55, 56, 57, 58, 59, 60, 61, 62, 63, 64, 65, 66, 67, 68, 69, 70, 71, 72, 73, 74, 75, 76, 77, 78, 79, 80, 81, 82, 83, 84, 85, 86, 87, 88, 89, 90, 91, 92, 93, 94, 95, 96, 97, 98, 99, 100], \"y\": [0, 1, 2, 3, 5, 7, 9, 11, 14, 17, 21, 25, 29, 35, 40, 47, 54, 63, 72, 82, 93, 106, 120, 134, 150, 168, 186, 206, 226, 248, 271, 294, 317, 341, 366, 390, 415, 439, 462, 486, 508, 530, 551, 572, 591, 610, 628, 645, 661, 676, 690, 704, 716, 728, 739, 749, 759, 768, 777, 784, 792, 798, 805, 811, 816, 821, 826, 830, 834, 838, 841, 844, 847, 850, 853, 855, 857, 859, 861, 863, 864, 866, 867, 868, 869, 870, 871, 872, 873, 874, 874, 875, 876, 876, 877, 877, 878, 878, 878, 879, 879]}, {\"hovertemplate\": \"%{y}\", \"marker\": {\"symbol\": 1}, \"mode\": \"markers\", \"name\": \"Guessed\", \"type\": \"scatter\", \"x\": [10, 20, 30, 40, 50, 60, 70, 80, 90], \"y\": [0.0, 100.0, 200.0, 300.0, 100.0, 100.0, 0.0, 0.0, 0.0]}],\n",
       "                        {\"margin\": {\"b\": 0, \"l\": 0, \"r\": 0, \"t\": 25}, \"template\": {\"data\": {\"bar\": [{\"error_x\": {\"color\": \"#2a3f5f\"}, \"error_y\": {\"color\": \"#2a3f5f\"}, \"marker\": {\"line\": {\"color\": \"#E5ECF6\", \"width\": 0.5}}, \"type\": \"bar\"}], \"barpolar\": [{\"marker\": {\"line\": {\"color\": \"#E5ECF6\", \"width\": 0.5}}, \"type\": \"barpolar\"}], \"carpet\": [{\"aaxis\": {\"endlinecolor\": \"#2a3f5f\", \"gridcolor\": \"white\", \"linecolor\": \"white\", \"minorgridcolor\": \"white\", \"startlinecolor\": \"#2a3f5f\"}, \"baxis\": {\"endlinecolor\": \"#2a3f5f\", \"gridcolor\": \"white\", \"linecolor\": \"white\", \"minorgridcolor\": \"white\", \"startlinecolor\": \"#2a3f5f\"}, \"type\": \"carpet\"}], \"choropleth\": [{\"colorbar\": {\"outlinewidth\": 0, \"ticks\": \"\"}, \"type\": \"choropleth\"}], \"contour\": [{\"colorbar\": {\"outlinewidth\": 0, \"ticks\": \"\"}, \"colorscale\": [[0.0, \"#0d0887\"], [0.1111111111111111, \"#46039f\"], [0.2222222222222222, \"#7201a8\"], [0.3333333333333333, \"#9c179e\"], [0.4444444444444444, \"#bd3786\"], [0.5555555555555556, \"#d8576b\"], [0.6666666666666666, \"#ed7953\"], [0.7777777777777778, \"#fb9f3a\"], [0.8888888888888888, \"#fdca26\"], [1.0, \"#f0f921\"]], \"type\": \"contour\"}], \"contourcarpet\": [{\"colorbar\": {\"outlinewidth\": 0, \"ticks\": \"\"}, \"type\": \"contourcarpet\"}], \"heatmap\": [{\"colorbar\": {\"outlinewidth\": 0, \"ticks\": \"\"}, \"colorscale\": [[0.0, \"#0d0887\"], [0.1111111111111111, \"#46039f\"], [0.2222222222222222, \"#7201a8\"], [0.3333333333333333, \"#9c179e\"], [0.4444444444444444, \"#bd3786\"], [0.5555555555555556, \"#d8576b\"], [0.6666666666666666, \"#ed7953\"], [0.7777777777777778, \"#fb9f3a\"], [0.8888888888888888, \"#fdca26\"], [1.0, \"#f0f921\"]], \"type\": \"heatmap\"}], \"heatmapgl\": [{\"colorbar\": {\"outlinewidth\": 0, \"ticks\": \"\"}, \"colorscale\": [[0.0, \"#0d0887\"], [0.1111111111111111, \"#46039f\"], [0.2222222222222222, \"#7201a8\"], [0.3333333333333333, \"#9c179e\"], [0.4444444444444444, \"#bd3786\"], [0.5555555555555556, \"#d8576b\"], [0.6666666666666666, \"#ed7953\"], [0.7777777777777778, \"#fb9f3a\"], [0.8888888888888888, \"#fdca26\"], [1.0, \"#f0f921\"]], \"type\": \"heatmapgl\"}], \"histogram\": [{\"marker\": {\"colorbar\": {\"outlinewidth\": 0, \"ticks\": \"\"}}, \"type\": \"histogram\"}], \"histogram2d\": [{\"colorbar\": {\"outlinewidth\": 0, \"ticks\": \"\"}, \"colorscale\": [[0.0, \"#0d0887\"], [0.1111111111111111, \"#46039f\"], [0.2222222222222222, \"#7201a8\"], [0.3333333333333333, \"#9c179e\"], [0.4444444444444444, \"#bd3786\"], [0.5555555555555556, \"#d8576b\"], [0.6666666666666666, \"#ed7953\"], [0.7777777777777778, \"#fb9f3a\"], [0.8888888888888888, \"#fdca26\"], [1.0, \"#f0f921\"]], \"type\": \"histogram2d\"}], \"histogram2dcontour\": [{\"colorbar\": {\"outlinewidth\": 0, \"ticks\": \"\"}, \"colorscale\": [[0.0, \"#0d0887\"], [0.1111111111111111, \"#46039f\"], [0.2222222222222222, \"#7201a8\"], [0.3333333333333333, \"#9c179e\"], [0.4444444444444444, \"#bd3786\"], [0.5555555555555556, \"#d8576b\"], [0.6666666666666666, \"#ed7953\"], [0.7777777777777778, \"#fb9f3a\"], [0.8888888888888888, \"#fdca26\"], [1.0, \"#f0f921\"]], \"type\": \"histogram2dcontour\"}], \"mesh3d\": [{\"colorbar\": {\"outlinewidth\": 0, \"ticks\": \"\"}, \"type\": \"mesh3d\"}], \"parcoords\": [{\"line\": {\"colorbar\": {\"outlinewidth\": 0, \"ticks\": \"\"}}, \"type\": \"parcoords\"}], \"pie\": [{\"automargin\": true, \"type\": \"pie\"}], \"scatter\": [{\"marker\": {\"colorbar\": {\"outlinewidth\": 0, \"ticks\": \"\"}}, \"type\": \"scatter\"}], \"scatter3d\": [{\"line\": {\"colorbar\": {\"outlinewidth\": 0, \"ticks\": \"\"}}, \"marker\": {\"colorbar\": {\"outlinewidth\": 0, \"ticks\": \"\"}}, \"type\": \"scatter3d\"}], \"scattercarpet\": [{\"marker\": {\"colorbar\": {\"outlinewidth\": 0, \"ticks\": \"\"}}, \"type\": \"scattercarpet\"}], \"scattergeo\": [{\"marker\": {\"colorbar\": {\"outlinewidth\": 0, \"ticks\": \"\"}}, \"type\": \"scattergeo\"}], \"scattergl\": [{\"marker\": {\"colorbar\": {\"outlinewidth\": 0, \"ticks\": \"\"}}, \"type\": \"scattergl\"}], \"scattermapbox\": [{\"marker\": {\"colorbar\": {\"outlinewidth\": 0, \"ticks\": \"\"}}, \"type\": \"scattermapbox\"}], \"scatterpolar\": [{\"marker\": {\"colorbar\": {\"outlinewidth\": 0, \"ticks\": \"\"}}, \"type\": \"scatterpolar\"}], \"scatterpolargl\": [{\"marker\": {\"colorbar\": {\"outlinewidth\": 0, \"ticks\": \"\"}}, \"type\": \"scatterpolargl\"}], \"scatterternary\": [{\"marker\": {\"colorbar\": {\"outlinewidth\": 0, \"ticks\": \"\"}}, \"type\": \"scatterternary\"}], \"surface\": [{\"colorbar\": {\"outlinewidth\": 0, \"ticks\": \"\"}, \"colorscale\": [[0.0, \"#0d0887\"], [0.1111111111111111, \"#46039f\"], [0.2222222222222222, \"#7201a8\"], [0.3333333333333333, \"#9c179e\"], [0.4444444444444444, \"#bd3786\"], [0.5555555555555556, \"#d8576b\"], [0.6666666666666666, \"#ed7953\"], [0.7777777777777778, \"#fb9f3a\"], [0.8888888888888888, \"#fdca26\"], [1.0, \"#f0f921\"]], \"type\": \"surface\"}], \"table\": [{\"cells\": {\"fill\": {\"color\": \"#EBF0F8\"}, \"line\": {\"color\": \"white\"}}, \"header\": {\"fill\": {\"color\": \"#C8D4E3\"}, \"line\": {\"color\": \"white\"}}, \"type\": \"table\"}]}, \"layout\": {\"annotationdefaults\": {\"arrowcolor\": \"#2a3f5f\", \"arrowhead\": 0, \"arrowwidth\": 1}, \"coloraxis\": {\"colorbar\": {\"outlinewidth\": 0, \"ticks\": \"\"}}, \"colorscale\": {\"diverging\": [[0, \"#8e0152\"], [0.1, \"#c51b7d\"], [0.2, \"#de77ae\"], [0.3, \"#f1b6da\"], [0.4, \"#fde0ef\"], [0.5, \"#f7f7f7\"], [0.6, \"#e6f5d0\"], [0.7, \"#b8e186\"], [0.8, \"#7fbc41\"], [0.9, \"#4d9221\"], [1, \"#276419\"]], \"sequential\": [[0.0, \"#0d0887\"], [0.1111111111111111, \"#46039f\"], [0.2222222222222222, \"#7201a8\"], [0.3333333333333333, \"#9c179e\"], [0.4444444444444444, \"#bd3786\"], [0.5555555555555556, \"#d8576b\"], [0.6666666666666666, \"#ed7953\"], [0.7777777777777778, \"#fb9f3a\"], [0.8888888888888888, \"#fdca26\"], [1.0, \"#f0f921\"]], \"sequentialminus\": [[0.0, \"#0d0887\"], [0.1111111111111111, \"#46039f\"], [0.2222222222222222, \"#7201a8\"], [0.3333333333333333, \"#9c179e\"], [0.4444444444444444, \"#bd3786\"], [0.5555555555555556, \"#d8576b\"], [0.6666666666666666, \"#ed7953\"], [0.7777777777777778, \"#fb9f3a\"], [0.8888888888888888, \"#fdca26\"], [1.0, \"#f0f921\"]]}, \"colorway\": [\"#636efa\", \"#EF553B\", \"#00cc96\", \"#ab63fa\", \"#FFA15A\", \"#19d3f3\", \"#FF6692\", \"#B6E880\", \"#FF97FF\", \"#FECB52\"], \"font\": {\"color\": \"#2a3f5f\"}, \"geo\": {\"bgcolor\": \"white\", \"lakecolor\": \"white\", \"landcolor\": \"#E5ECF6\", \"showlakes\": true, \"showland\": true, \"subunitcolor\": \"white\"}, \"hoverlabel\": {\"align\": \"left\"}, \"hovermode\": \"closest\", \"mapbox\": {\"style\": \"light\"}, \"paper_bgcolor\": \"white\", \"plot_bgcolor\": \"#E5ECF6\", \"polar\": {\"angularaxis\": {\"gridcolor\": \"white\", \"linecolor\": \"white\", \"ticks\": \"\"}, \"bgcolor\": \"#E5ECF6\", \"radialaxis\": {\"gridcolor\": \"white\", \"linecolor\": \"white\", \"ticks\": \"\"}}, \"scene\": {\"xaxis\": {\"backgroundcolor\": \"#E5ECF6\", \"gridcolor\": \"white\", \"gridwidth\": 2, \"linecolor\": \"white\", \"showbackground\": true, \"ticks\": \"\", \"zerolinecolor\": \"white\"}, \"yaxis\": {\"backgroundcolor\": \"#E5ECF6\", \"gridcolor\": \"white\", \"gridwidth\": 2, \"linecolor\": \"white\", \"showbackground\": true, \"ticks\": \"\", \"zerolinecolor\": \"white\"}, \"zaxis\": {\"backgroundcolor\": \"#E5ECF6\", \"gridcolor\": \"white\", \"gridwidth\": 2, \"linecolor\": \"white\", \"showbackground\": true, \"ticks\": \"\", \"zerolinecolor\": \"white\"}}, \"shapedefaults\": {\"line\": {\"color\": \"#2a3f5f\"}}, \"ternary\": {\"aaxis\": {\"gridcolor\": \"white\", \"linecolor\": \"white\", \"ticks\": \"\"}, \"baxis\": {\"gridcolor\": \"white\", \"linecolor\": \"white\", \"ticks\": \"\"}, \"bgcolor\": \"#E5ECF6\", \"caxis\": {\"gridcolor\": \"white\", \"linecolor\": \"white\", \"ticks\": \"\"}}, \"title\": {\"x\": 0.05}, \"xaxis\": {\"automargin\": true, \"gridcolor\": \"white\", \"linecolor\": \"white\", \"ticks\": \"\", \"title\": {\"standoff\": 15}, \"zerolinecolor\": \"white\", \"zerolinewidth\": 2}, \"yaxis\": {\"automargin\": true, \"gridcolor\": \"white\", \"linecolor\": \"white\", \"ticks\": \"\", \"title\": {\"standoff\": 15}, \"zerolinecolor\": \"white\", \"zerolinewidth\": 2}}}},\n",
       "                        {\"responsive\": true}\n",
       "                    ).then(function(){\n",
       "                            \n",
       "var gd = document.getElementById('5891f5b5-75f6-4c63-b3bb-ab0b21e2e717');\n",
       "var x = new MutationObserver(function (mutations, observer) {{\n",
       "        var display = window.getComputedStyle(gd).display;\n",
       "        if (!display || display === 'none') {{\n",
       "            console.log([gd, 'removed!']);\n",
       "            Plotly.purge(gd);\n",
       "            observer.disconnect();\n",
       "        }}\n",
       "}});\n",
       "\n",
       "// Listen for the removal of the full notebook cells\n",
       "var notebookContainer = gd.closest('#notebook-container');\n",
       "if (notebookContainer) {{\n",
       "    x.observe(notebookContainer, {childList: true});\n",
       "}}\n",
       "\n",
       "// Listen for the clearing of the current output cell\n",
       "var outputEl = gd.closest('.output');\n",
       "if (outputEl) {{\n",
       "    x.observe(outputEl, {childList: true});\n",
       "}}\n",
       "\n",
       "                        })\n",
       "                };\n",
       "                });\n",
       "            </script>\n",
       "        </div>"
      ]
     },
     "metadata": {},
     "output_type": "display_data"
    }
   ],
   "source": [
    "from hsir.sir import InferSIR, SIR\n",
    "a = InferSIR()\n",
    "a.fit(city, sample)\n",
    "\n",
    "epi = SIR(a.beta, a.gamma).estimate(city, T)\n",
    "fig = SIR.plot(epi)\n",
    "#SIRt.plot(epidemic, fig=fig)\n",
    "sample.plot(fig)"
   ]
  },
  {
   "cell_type": "code",
   "execution_count": 385,
   "metadata": {},
   "outputs": [
    {
     "name": "stdout",
     "output_type": "stream",
     "text": [
      "Optimization terminated successfully.\n",
      "         Current function value: 2.442134\n",
      "         Iterations: 84825\n",
      "         Function evaluations: 92557\n",
      "-2.4421335287692005\n"
     ]
    },
    {
     "data": {
      "application/vnd.plotly.v1+json": {
       "config": {
        "plotlyServerURL": "https://plot.ly"
       },
       "data": [
        {
         "hovertemplate": "%{y}",
         "line": {
          "shape": "hv"
         },
         "name": "β",
         "type": "scatter",
         "x": [
          0,
          1,
          2,
          3,
          4,
          5,
          6,
          7,
          8,
          9,
          10,
          11,
          12,
          13,
          14,
          15,
          16,
          17,
          18,
          19,
          20,
          21,
          22,
          23,
          24,
          25,
          26,
          27,
          28,
          29,
          30,
          31,
          32,
          33,
          34,
          35,
          36,
          37,
          38,
          39,
          40,
          41,
          42,
          43,
          44,
          45,
          46,
          47,
          48,
          49,
          50,
          51,
          52,
          53,
          54,
          55,
          56,
          57,
          58,
          59,
          60,
          61,
          62,
          63,
          64,
          65,
          66,
          67,
          68,
          69,
          70,
          71,
          72,
          73,
          74,
          75,
          76,
          77,
          78,
          79,
          80,
          81,
          82,
          83,
          84,
          85,
          86,
          87,
          88,
          89
         ],
         "y": [
          0.19800681687481142,
          0.1979759472586019,
          0.19702513064109736,
          0.19701221758247606,
          0.19734803054379535,
          0.19735794715817045,
          0.19861513546405848,
          0.19908591158208686,
          0.23410664934846176,
          0.23410733008387086,
          0.24429389607216007,
          0.24434180435252179,
          0.24788815914616164,
          0.24786643338547687,
          0.24863360770484616,
          0.24835437391129322,
          0.25110340453405067,
          0.2679330267800429,
          0.29265224590586664,
          0.2894253526606202,
          0.28582409176883206,
          0.28582632281606457,
          0.28582632261342295,
          0.28599898775932164,
          0.2845624839797207,
          0.2845490372846422,
          0.2845353991076113,
          0.2813836025829003,
          0.27917373936567946,
          0.27916627590946563,
          0.2748017254873678,
          0.2599071690445104,
          0.28312027268728623,
          0.28313815314007906,
          0.27892465591520194,
          0.27883608699568996,
          0.27305007185566377,
          0.26886774679108105,
          0.26794010659203465,
          0.2672614923869522,
          0.23410477192339085,
          0.1940938307170172,
          0.18957976951261923,
          0.19034942711502278,
          0.18779360499561026,
          0.18754839682722713,
          0.17023196054089862,
          0.17006698692367345,
          0.1698801383545525,
          0.16988017972071146,
          0.16988018074791333,
          0.16893020384716798,
          0.16901091888464262,
          0.17475631121237586,
          0.1636289528305767,
          0.16251173157672583,
          0.16249335401968185,
          0.1584787828606905,
          0.15269890752506543,
          0.15425411904349073,
          0.15425411745242268,
          0.12987428511374333,
          0.12881170728746427,
          0.12855404817397248,
          0.1284705673453794,
          0.12629734682421492,
          0.1262973467956527,
          0.1331755205118259,
          0.14047604977400485,
          0.14644058804422405,
          0.14644058822743727,
          0.13178496961060454,
          0.1641353857132154,
          0.16741505285546143,
          0.16867474720275544,
          0.13724952274477067,
          0.13751336761412253,
          0.137512510840635,
          0.15268190937835746,
          0.16098458027551116,
          0.16099314256169597,
          0.1629913022990787,
          0.16306197303008663,
          0.16337979172787356,
          0.14872701257550613,
          0.14847862421266084,
          0.14768900773290913,
          0.14766207611513316,
          0.1476620757838099,
          0.14766207612261698
         ]
        },
        {
         "hovertemplate": "%{y}",
         "line": {
          "shape": "hv"
         },
         "name": "γ",
         "type": "scatter",
         "x": [
          0,
          1,
          2,
          3,
          4,
          5,
          6,
          7,
          8,
          9,
          10,
          11,
          12,
          13,
          14,
          15,
          16,
          17,
          18,
          19,
          20,
          21,
          22,
          23,
          24,
          25,
          26,
          27,
          28,
          29,
          30,
          31,
          32,
          33,
          34,
          35,
          36,
          37,
          38,
          39,
          40,
          41,
          42,
          43,
          44,
          45,
          46,
          47,
          48,
          49,
          50,
          51,
          52,
          53,
          54,
          55,
          56,
          57,
          58,
          59,
          60,
          61,
          62,
          63,
          64,
          65,
          66,
          67,
          68,
          69,
          70,
          71,
          72,
          73,
          74,
          75,
          76,
          77,
          78,
          79,
          80,
          81,
          82,
          83,
          84,
          85,
          86,
          87,
          88,
          89
         ],
         "y": [
          0.10644424745086234,
          0.10644424745086234,
          0.10644424745086234,
          0.10644424745086234,
          0.10644424745086234,
          0.10644424745086234,
          0.10644424745086234,
          0.10644424745086234,
          0.10644424745086234,
          0.10644424745086234,
          0.10644424745086234,
          0.10644424745086234,
          0.10644424745086234,
          0.10644424745086234,
          0.10644424745086234,
          0.10644424745086234,
          0.10644424745086234,
          0.10644424745086234,
          0.10644424745086234,
          0.10644424745086234,
          0.10644424745086234,
          0.10644424745086234,
          0.10644424745086234,
          0.10644424745086234,
          0.10644424745086234,
          0.10644424745086234,
          0.10644424745086234,
          0.10644424745086234,
          0.10644424745086234,
          0.10644424745086234,
          0.10644424745086234,
          0.10644424745086234,
          0.10644424745086234,
          0.10644424745086234,
          0.10644424745086234,
          0.10644424745086234,
          0.10644424745086234,
          0.10644424745086234,
          0.10644424745086234,
          0.10644424745086234,
          0.10644424745086234,
          0.10644424745086234,
          0.10644424745086234,
          0.10644424745086234,
          0.10644424745086234,
          0.10644424745086234,
          0.10644424745086234,
          0.10644424745086234,
          0.10644424745086234,
          0.10644424745086234,
          0.10644424745086234,
          0.10644424745086234,
          0.10644424745086234,
          0.10644424745086234,
          0.10644424745086234,
          0.10644424745086234,
          0.10644424745086234,
          0.10644424745086234,
          0.10644424745086234,
          0.10644424745086234,
          0.10644424745086234,
          0.10644424745086234,
          0.10644424745086234,
          0.10644424745086234,
          0.10644424745086234,
          0.10644424745086234,
          0.10644424745086234,
          0.10644424745086234,
          0.10644424745086234,
          0.10644424745086234,
          0.10644424745086234,
          0.10644424745086234,
          0.10644424745086234,
          0.10644424745086234,
          0.10644424745086234,
          0.10644424745086234,
          0.10644424745086234,
          0.10644424745086234,
          0.10644424745086234,
          0.10644424745086234,
          0.10644424745086234,
          0.10644424745086234,
          0.10644424745086234,
          0.10644424745086234,
          0.10644424745086234,
          0.10644424745086234,
          0.10644424745086234,
          0.10644424745086234,
          0.10644424745086234,
          0.10644424745086234
         ]
        }
       ],
       "layout": {
        "template": {
         "data": {
          "bar": [
           {
            "error_x": {
             "color": "#2a3f5f"
            },
            "error_y": {
             "color": "#2a3f5f"
            },
            "marker": {
             "line": {
              "color": "#E5ECF6",
              "width": 0.5
             }
            },
            "type": "bar"
           }
          ],
          "barpolar": [
           {
            "marker": {
             "line": {
              "color": "#E5ECF6",
              "width": 0.5
             }
            },
            "type": "barpolar"
           }
          ],
          "carpet": [
           {
            "aaxis": {
             "endlinecolor": "#2a3f5f",
             "gridcolor": "white",
             "linecolor": "white",
             "minorgridcolor": "white",
             "startlinecolor": "#2a3f5f"
            },
            "baxis": {
             "endlinecolor": "#2a3f5f",
             "gridcolor": "white",
             "linecolor": "white",
             "minorgridcolor": "white",
             "startlinecolor": "#2a3f5f"
            },
            "type": "carpet"
           }
          ],
          "choropleth": [
           {
            "colorbar": {
             "outlinewidth": 0,
             "ticks": ""
            },
            "type": "choropleth"
           }
          ],
          "contour": [
           {
            "colorbar": {
             "outlinewidth": 0,
             "ticks": ""
            },
            "colorscale": [
             [
              0,
              "#0d0887"
             ],
             [
              0.1111111111111111,
              "#46039f"
             ],
             [
              0.2222222222222222,
              "#7201a8"
             ],
             [
              0.3333333333333333,
              "#9c179e"
             ],
             [
              0.4444444444444444,
              "#bd3786"
             ],
             [
              0.5555555555555556,
              "#d8576b"
             ],
             [
              0.6666666666666666,
              "#ed7953"
             ],
             [
              0.7777777777777778,
              "#fb9f3a"
             ],
             [
              0.8888888888888888,
              "#fdca26"
             ],
             [
              1,
              "#f0f921"
             ]
            ],
            "type": "contour"
           }
          ],
          "contourcarpet": [
           {
            "colorbar": {
             "outlinewidth": 0,
             "ticks": ""
            },
            "type": "contourcarpet"
           }
          ],
          "heatmap": [
           {
            "colorbar": {
             "outlinewidth": 0,
             "ticks": ""
            },
            "colorscale": [
             [
              0,
              "#0d0887"
             ],
             [
              0.1111111111111111,
              "#46039f"
             ],
             [
              0.2222222222222222,
              "#7201a8"
             ],
             [
              0.3333333333333333,
              "#9c179e"
             ],
             [
              0.4444444444444444,
              "#bd3786"
             ],
             [
              0.5555555555555556,
              "#d8576b"
             ],
             [
              0.6666666666666666,
              "#ed7953"
             ],
             [
              0.7777777777777778,
              "#fb9f3a"
             ],
             [
              0.8888888888888888,
              "#fdca26"
             ],
             [
              1,
              "#f0f921"
             ]
            ],
            "type": "heatmap"
           }
          ],
          "heatmapgl": [
           {
            "colorbar": {
             "outlinewidth": 0,
             "ticks": ""
            },
            "colorscale": [
             [
              0,
              "#0d0887"
             ],
             [
              0.1111111111111111,
              "#46039f"
             ],
             [
              0.2222222222222222,
              "#7201a8"
             ],
             [
              0.3333333333333333,
              "#9c179e"
             ],
             [
              0.4444444444444444,
              "#bd3786"
             ],
             [
              0.5555555555555556,
              "#d8576b"
             ],
             [
              0.6666666666666666,
              "#ed7953"
             ],
             [
              0.7777777777777778,
              "#fb9f3a"
             ],
             [
              0.8888888888888888,
              "#fdca26"
             ],
             [
              1,
              "#f0f921"
             ]
            ],
            "type": "heatmapgl"
           }
          ],
          "histogram": [
           {
            "marker": {
             "colorbar": {
              "outlinewidth": 0,
              "ticks": ""
             }
            },
            "type": "histogram"
           }
          ],
          "histogram2d": [
           {
            "colorbar": {
             "outlinewidth": 0,
             "ticks": ""
            },
            "colorscale": [
             [
              0,
              "#0d0887"
             ],
             [
              0.1111111111111111,
              "#46039f"
             ],
             [
              0.2222222222222222,
              "#7201a8"
             ],
             [
              0.3333333333333333,
              "#9c179e"
             ],
             [
              0.4444444444444444,
              "#bd3786"
             ],
             [
              0.5555555555555556,
              "#d8576b"
             ],
             [
              0.6666666666666666,
              "#ed7953"
             ],
             [
              0.7777777777777778,
              "#fb9f3a"
             ],
             [
              0.8888888888888888,
              "#fdca26"
             ],
             [
              1,
              "#f0f921"
             ]
            ],
            "type": "histogram2d"
           }
          ],
          "histogram2dcontour": [
           {
            "colorbar": {
             "outlinewidth": 0,
             "ticks": ""
            },
            "colorscale": [
             [
              0,
              "#0d0887"
             ],
             [
              0.1111111111111111,
              "#46039f"
             ],
             [
              0.2222222222222222,
              "#7201a8"
             ],
             [
              0.3333333333333333,
              "#9c179e"
             ],
             [
              0.4444444444444444,
              "#bd3786"
             ],
             [
              0.5555555555555556,
              "#d8576b"
             ],
             [
              0.6666666666666666,
              "#ed7953"
             ],
             [
              0.7777777777777778,
              "#fb9f3a"
             ],
             [
              0.8888888888888888,
              "#fdca26"
             ],
             [
              1,
              "#f0f921"
             ]
            ],
            "type": "histogram2dcontour"
           }
          ],
          "mesh3d": [
           {
            "colorbar": {
             "outlinewidth": 0,
             "ticks": ""
            },
            "type": "mesh3d"
           }
          ],
          "parcoords": [
           {
            "line": {
             "colorbar": {
              "outlinewidth": 0,
              "ticks": ""
             }
            },
            "type": "parcoords"
           }
          ],
          "pie": [
           {
            "automargin": true,
            "type": "pie"
           }
          ],
          "scatter": [
           {
            "marker": {
             "colorbar": {
              "outlinewidth": 0,
              "ticks": ""
             }
            },
            "type": "scatter"
           }
          ],
          "scatter3d": [
           {
            "line": {
             "colorbar": {
              "outlinewidth": 0,
              "ticks": ""
             }
            },
            "marker": {
             "colorbar": {
              "outlinewidth": 0,
              "ticks": ""
             }
            },
            "type": "scatter3d"
           }
          ],
          "scattercarpet": [
           {
            "marker": {
             "colorbar": {
              "outlinewidth": 0,
              "ticks": ""
             }
            },
            "type": "scattercarpet"
           }
          ],
          "scattergeo": [
           {
            "marker": {
             "colorbar": {
              "outlinewidth": 0,
              "ticks": ""
             }
            },
            "type": "scattergeo"
           }
          ],
          "scattergl": [
           {
            "marker": {
             "colorbar": {
              "outlinewidth": 0,
              "ticks": ""
             }
            },
            "type": "scattergl"
           }
          ],
          "scattermapbox": [
           {
            "marker": {
             "colorbar": {
              "outlinewidth": 0,
              "ticks": ""
             }
            },
            "type": "scattermapbox"
           }
          ],
          "scatterpolar": [
           {
            "marker": {
             "colorbar": {
              "outlinewidth": 0,
              "ticks": ""
             }
            },
            "type": "scatterpolar"
           }
          ],
          "scatterpolargl": [
           {
            "marker": {
             "colorbar": {
              "outlinewidth": 0,
              "ticks": ""
             }
            },
            "type": "scatterpolargl"
           }
          ],
          "scatterternary": [
           {
            "marker": {
             "colorbar": {
              "outlinewidth": 0,
              "ticks": ""
             }
            },
            "type": "scatterternary"
           }
          ],
          "surface": [
           {
            "colorbar": {
             "outlinewidth": 0,
             "ticks": ""
            },
            "colorscale": [
             [
              0,
              "#0d0887"
             ],
             [
              0.1111111111111111,
              "#46039f"
             ],
             [
              0.2222222222222222,
              "#7201a8"
             ],
             [
              0.3333333333333333,
              "#9c179e"
             ],
             [
              0.4444444444444444,
              "#bd3786"
             ],
             [
              0.5555555555555556,
              "#d8576b"
             ],
             [
              0.6666666666666666,
              "#ed7953"
             ],
             [
              0.7777777777777778,
              "#fb9f3a"
             ],
             [
              0.8888888888888888,
              "#fdca26"
             ],
             [
              1,
              "#f0f921"
             ]
            ],
            "type": "surface"
           }
          ],
          "table": [
           {
            "cells": {
             "fill": {
              "color": "#EBF0F8"
             },
             "line": {
              "color": "white"
             }
            },
            "header": {
             "fill": {
              "color": "#C8D4E3"
             },
             "line": {
              "color": "white"
             }
            },
            "type": "table"
           }
          ]
         },
         "layout": {
          "annotationdefaults": {
           "arrowcolor": "#2a3f5f",
           "arrowhead": 0,
           "arrowwidth": 1
          },
          "coloraxis": {
           "colorbar": {
            "outlinewidth": 0,
            "ticks": ""
           }
          },
          "colorscale": {
           "diverging": [
            [
             0,
             "#8e0152"
            ],
            [
             0.1,
             "#c51b7d"
            ],
            [
             0.2,
             "#de77ae"
            ],
            [
             0.3,
             "#f1b6da"
            ],
            [
             0.4,
             "#fde0ef"
            ],
            [
             0.5,
             "#f7f7f7"
            ],
            [
             0.6,
             "#e6f5d0"
            ],
            [
             0.7,
             "#b8e186"
            ],
            [
             0.8,
             "#7fbc41"
            ],
            [
             0.9,
             "#4d9221"
            ],
            [
             1,
             "#276419"
            ]
           ],
           "sequential": [
            [
             0,
             "#0d0887"
            ],
            [
             0.1111111111111111,
             "#46039f"
            ],
            [
             0.2222222222222222,
             "#7201a8"
            ],
            [
             0.3333333333333333,
             "#9c179e"
            ],
            [
             0.4444444444444444,
             "#bd3786"
            ],
            [
             0.5555555555555556,
             "#d8576b"
            ],
            [
             0.6666666666666666,
             "#ed7953"
            ],
            [
             0.7777777777777778,
             "#fb9f3a"
            ],
            [
             0.8888888888888888,
             "#fdca26"
            ],
            [
             1,
             "#f0f921"
            ]
           ],
           "sequentialminus": [
            [
             0,
             "#0d0887"
            ],
            [
             0.1111111111111111,
             "#46039f"
            ],
            [
             0.2222222222222222,
             "#7201a8"
            ],
            [
             0.3333333333333333,
             "#9c179e"
            ],
            [
             0.4444444444444444,
             "#bd3786"
            ],
            [
             0.5555555555555556,
             "#d8576b"
            ],
            [
             0.6666666666666666,
             "#ed7953"
            ],
            [
             0.7777777777777778,
             "#fb9f3a"
            ],
            [
             0.8888888888888888,
             "#fdca26"
            ],
            [
             1,
             "#f0f921"
            ]
           ]
          },
          "colorway": [
           "#636efa",
           "#EF553B",
           "#00cc96",
           "#ab63fa",
           "#FFA15A",
           "#19d3f3",
           "#FF6692",
           "#B6E880",
           "#FF97FF",
           "#FECB52"
          ],
          "font": {
           "color": "#2a3f5f"
          },
          "geo": {
           "bgcolor": "white",
           "lakecolor": "white",
           "landcolor": "#E5ECF6",
           "showlakes": true,
           "showland": true,
           "subunitcolor": "white"
          },
          "hoverlabel": {
           "align": "left"
          },
          "hovermode": "closest",
          "mapbox": {
           "style": "light"
          },
          "paper_bgcolor": "white",
          "plot_bgcolor": "#E5ECF6",
          "polar": {
           "angularaxis": {
            "gridcolor": "white",
            "linecolor": "white",
            "ticks": ""
           },
           "bgcolor": "#E5ECF6",
           "radialaxis": {
            "gridcolor": "white",
            "linecolor": "white",
            "ticks": ""
           }
          },
          "scene": {
           "xaxis": {
            "backgroundcolor": "#E5ECF6",
            "gridcolor": "white",
            "gridwidth": 2,
            "linecolor": "white",
            "showbackground": true,
            "ticks": "",
            "zerolinecolor": "white"
           },
           "yaxis": {
            "backgroundcolor": "#E5ECF6",
            "gridcolor": "white",
            "gridwidth": 2,
            "linecolor": "white",
            "showbackground": true,
            "ticks": "",
            "zerolinecolor": "white"
           },
           "zaxis": {
            "backgroundcolor": "#E5ECF6",
            "gridcolor": "white",
            "gridwidth": 2,
            "linecolor": "white",
            "showbackground": true,
            "ticks": "",
            "zerolinecolor": "white"
           }
          },
          "shapedefaults": {
           "line": {
            "color": "#2a3f5f"
           }
          },
          "ternary": {
           "aaxis": {
            "gridcolor": "white",
            "linecolor": "white",
            "ticks": ""
           },
           "baxis": {
            "gridcolor": "white",
            "linecolor": "white",
            "ticks": ""
           },
           "bgcolor": "#E5ECF6",
           "caxis": {
            "gridcolor": "white",
            "linecolor": "white",
            "ticks": ""
           }
          },
          "title": {
           "x": 0.05
          },
          "xaxis": {
           "automargin": true,
           "gridcolor": "white",
           "linecolor": "white",
           "ticks": "",
           "title": {
            "standoff": 15
           },
           "zerolinecolor": "white",
           "zerolinewidth": 2
          },
          "yaxis": {
           "automargin": true,
           "gridcolor": "white",
           "linecolor": "white",
           "ticks": "",
           "title": {
            "standoff": 15
           },
           "zerolinecolor": "white",
           "zerolinewidth": 2
          }
         }
        },
        "yaxis": {
         "type": "log"
        }
       }
      },
      "text/html": [
       "<div>\n",
       "        \n",
       "        \n",
       "            <div id=\"7322b4e8-bd07-4f09-98ec-42a8da733e78\" class=\"plotly-graph-div\" style=\"height:525px; width:100%;\"></div>\n",
       "            <script type=\"text/javascript\">\n",
       "                require([\"plotly\"], function(Plotly) {\n",
       "                    window.PLOTLYENV=window.PLOTLYENV || {};\n",
       "                    \n",
       "                if (document.getElementById(\"7322b4e8-bd07-4f09-98ec-42a8da733e78\")) {\n",
       "                    Plotly.newPlot(\n",
       "                        '7322b4e8-bd07-4f09-98ec-42a8da733e78',\n",
       "                        [{\"hovertemplate\": \"%{y}\", \"line\": {\"shape\": \"hv\"}, \"name\": \"\\u03b2\", \"type\": \"scatter\", \"x\": [0, 1, 2, 3, 4, 5, 6, 7, 8, 9, 10, 11, 12, 13, 14, 15, 16, 17, 18, 19, 20, 21, 22, 23, 24, 25, 26, 27, 28, 29, 30, 31, 32, 33, 34, 35, 36, 37, 38, 39, 40, 41, 42, 43, 44, 45, 46, 47, 48, 49, 50, 51, 52, 53, 54, 55, 56, 57, 58, 59, 60, 61, 62, 63, 64, 65, 66, 67, 68, 69, 70, 71, 72, 73, 74, 75, 76, 77, 78, 79, 80, 81, 82, 83, 84, 85, 86, 87, 88, 89], \"y\": [0.19800681687481142, 0.1979759472586019, 0.19702513064109736, 0.19701221758247606, 0.19734803054379535, 0.19735794715817045, 0.19861513546405848, 0.19908591158208686, 0.23410664934846176, 0.23410733008387086, 0.24429389607216007, 0.24434180435252179, 0.24788815914616164, 0.24786643338547687, 0.24863360770484616, 0.24835437391129322, 0.25110340453405067, 0.2679330267800429, 0.29265224590586664, 0.2894253526606202, 0.28582409176883206, 0.28582632281606457, 0.28582632261342295, 0.28599898775932164, 0.2845624839797207, 0.2845490372846422, 0.2845353991076113, 0.2813836025829003, 0.27917373936567946, 0.27916627590946563, 0.2748017254873678, 0.2599071690445104, 0.28312027268728623, 0.28313815314007906, 0.27892465591520194, 0.27883608699568996, 0.27305007185566377, 0.26886774679108105, 0.26794010659203465, 0.2672614923869522, 0.23410477192339085, 0.1940938307170172, 0.18957976951261923, 0.19034942711502278, 0.18779360499561026, 0.18754839682722713, 0.17023196054089862, 0.17006698692367345, 0.1698801383545525, 0.16988017972071146, 0.16988018074791333, 0.16893020384716798, 0.16901091888464262, 0.17475631121237586, 0.1636289528305767, 0.16251173157672583, 0.16249335401968185, 0.1584787828606905, 0.15269890752506543, 0.15425411904349073, 0.15425411745242268, 0.12987428511374333, 0.12881170728746427, 0.12855404817397248, 0.1284705673453794, 0.12629734682421492, 0.1262973467956527, 0.1331755205118259, 0.14047604977400485, 0.14644058804422405, 0.14644058822743727, 0.13178496961060454, 0.1641353857132154, 0.16741505285546143, 0.16867474720275544, 0.13724952274477067, 0.13751336761412253, 0.137512510840635, 0.15268190937835746, 0.16098458027551116, 0.16099314256169597, 0.1629913022990787, 0.16306197303008663, 0.16337979172787356, 0.14872701257550613, 0.14847862421266084, 0.14768900773290913, 0.14766207611513316, 0.1476620757838099, 0.14766207612261698]}, {\"hovertemplate\": \"%{y}\", \"line\": {\"shape\": \"hv\"}, \"name\": \"\\u03b3\", \"type\": \"scatter\", \"x\": [0, 1, 2, 3, 4, 5, 6, 7, 8, 9, 10, 11, 12, 13, 14, 15, 16, 17, 18, 19, 20, 21, 22, 23, 24, 25, 26, 27, 28, 29, 30, 31, 32, 33, 34, 35, 36, 37, 38, 39, 40, 41, 42, 43, 44, 45, 46, 47, 48, 49, 50, 51, 52, 53, 54, 55, 56, 57, 58, 59, 60, 61, 62, 63, 64, 65, 66, 67, 68, 69, 70, 71, 72, 73, 74, 75, 76, 77, 78, 79, 80, 81, 82, 83, 84, 85, 86, 87, 88, 89], \"y\": [0.10644424745086234, 0.10644424745086234, 0.10644424745086234, 0.10644424745086234, 0.10644424745086234, 0.10644424745086234, 0.10644424745086234, 0.10644424745086234, 0.10644424745086234, 0.10644424745086234, 0.10644424745086234, 0.10644424745086234, 0.10644424745086234, 0.10644424745086234, 0.10644424745086234, 0.10644424745086234, 0.10644424745086234, 0.10644424745086234, 0.10644424745086234, 0.10644424745086234, 0.10644424745086234, 0.10644424745086234, 0.10644424745086234, 0.10644424745086234, 0.10644424745086234, 0.10644424745086234, 0.10644424745086234, 0.10644424745086234, 0.10644424745086234, 0.10644424745086234, 0.10644424745086234, 0.10644424745086234, 0.10644424745086234, 0.10644424745086234, 0.10644424745086234, 0.10644424745086234, 0.10644424745086234, 0.10644424745086234, 0.10644424745086234, 0.10644424745086234, 0.10644424745086234, 0.10644424745086234, 0.10644424745086234, 0.10644424745086234, 0.10644424745086234, 0.10644424745086234, 0.10644424745086234, 0.10644424745086234, 0.10644424745086234, 0.10644424745086234, 0.10644424745086234, 0.10644424745086234, 0.10644424745086234, 0.10644424745086234, 0.10644424745086234, 0.10644424745086234, 0.10644424745086234, 0.10644424745086234, 0.10644424745086234, 0.10644424745086234, 0.10644424745086234, 0.10644424745086234, 0.10644424745086234, 0.10644424745086234, 0.10644424745086234, 0.10644424745086234, 0.10644424745086234, 0.10644424745086234, 0.10644424745086234, 0.10644424745086234, 0.10644424745086234, 0.10644424745086234, 0.10644424745086234, 0.10644424745086234, 0.10644424745086234, 0.10644424745086234, 0.10644424745086234, 0.10644424745086234, 0.10644424745086234, 0.10644424745086234, 0.10644424745086234, 0.10644424745086234, 0.10644424745086234, 0.10644424745086234, 0.10644424745086234, 0.10644424745086234, 0.10644424745086234, 0.10644424745086234, 0.10644424745086234, 0.10644424745086234]}],\n",
       "                        {\"template\": {\"data\": {\"bar\": [{\"error_x\": {\"color\": \"#2a3f5f\"}, \"error_y\": {\"color\": \"#2a3f5f\"}, \"marker\": {\"line\": {\"color\": \"#E5ECF6\", \"width\": 0.5}}, \"type\": \"bar\"}], \"barpolar\": [{\"marker\": {\"line\": {\"color\": \"#E5ECF6\", \"width\": 0.5}}, \"type\": \"barpolar\"}], \"carpet\": [{\"aaxis\": {\"endlinecolor\": \"#2a3f5f\", \"gridcolor\": \"white\", \"linecolor\": \"white\", \"minorgridcolor\": \"white\", \"startlinecolor\": \"#2a3f5f\"}, \"baxis\": {\"endlinecolor\": \"#2a3f5f\", \"gridcolor\": \"white\", \"linecolor\": \"white\", \"minorgridcolor\": \"white\", \"startlinecolor\": \"#2a3f5f\"}, \"type\": \"carpet\"}], \"choropleth\": [{\"colorbar\": {\"outlinewidth\": 0, \"ticks\": \"\"}, \"type\": \"choropleth\"}], \"contour\": [{\"colorbar\": {\"outlinewidth\": 0, \"ticks\": \"\"}, \"colorscale\": [[0.0, \"#0d0887\"], [0.1111111111111111, \"#46039f\"], [0.2222222222222222, \"#7201a8\"], [0.3333333333333333, \"#9c179e\"], [0.4444444444444444, \"#bd3786\"], [0.5555555555555556, \"#d8576b\"], [0.6666666666666666, \"#ed7953\"], [0.7777777777777778, \"#fb9f3a\"], [0.8888888888888888, \"#fdca26\"], [1.0, \"#f0f921\"]], \"type\": \"contour\"}], \"contourcarpet\": [{\"colorbar\": {\"outlinewidth\": 0, \"ticks\": \"\"}, \"type\": \"contourcarpet\"}], \"heatmap\": [{\"colorbar\": {\"outlinewidth\": 0, \"ticks\": \"\"}, \"colorscale\": [[0.0, \"#0d0887\"], [0.1111111111111111, \"#46039f\"], [0.2222222222222222, \"#7201a8\"], [0.3333333333333333, \"#9c179e\"], [0.4444444444444444, \"#bd3786\"], [0.5555555555555556, \"#d8576b\"], [0.6666666666666666, \"#ed7953\"], [0.7777777777777778, \"#fb9f3a\"], [0.8888888888888888, \"#fdca26\"], [1.0, \"#f0f921\"]], \"type\": \"heatmap\"}], \"heatmapgl\": [{\"colorbar\": {\"outlinewidth\": 0, \"ticks\": \"\"}, \"colorscale\": [[0.0, \"#0d0887\"], [0.1111111111111111, \"#46039f\"], [0.2222222222222222, \"#7201a8\"], [0.3333333333333333, \"#9c179e\"], [0.4444444444444444, \"#bd3786\"], [0.5555555555555556, \"#d8576b\"], [0.6666666666666666, \"#ed7953\"], [0.7777777777777778, \"#fb9f3a\"], [0.8888888888888888, \"#fdca26\"], [1.0, \"#f0f921\"]], \"type\": \"heatmapgl\"}], \"histogram\": [{\"marker\": {\"colorbar\": {\"outlinewidth\": 0, \"ticks\": \"\"}}, \"type\": \"histogram\"}], \"histogram2d\": [{\"colorbar\": {\"outlinewidth\": 0, \"ticks\": \"\"}, \"colorscale\": [[0.0, \"#0d0887\"], [0.1111111111111111, \"#46039f\"], [0.2222222222222222, \"#7201a8\"], [0.3333333333333333, \"#9c179e\"], [0.4444444444444444, \"#bd3786\"], [0.5555555555555556, \"#d8576b\"], [0.6666666666666666, \"#ed7953\"], [0.7777777777777778, \"#fb9f3a\"], [0.8888888888888888, \"#fdca26\"], [1.0, \"#f0f921\"]], \"type\": \"histogram2d\"}], \"histogram2dcontour\": [{\"colorbar\": {\"outlinewidth\": 0, \"ticks\": \"\"}, \"colorscale\": [[0.0, \"#0d0887\"], [0.1111111111111111, \"#46039f\"], [0.2222222222222222, \"#7201a8\"], [0.3333333333333333, \"#9c179e\"], [0.4444444444444444, \"#bd3786\"], [0.5555555555555556, \"#d8576b\"], [0.6666666666666666, \"#ed7953\"], [0.7777777777777778, \"#fb9f3a\"], [0.8888888888888888, \"#fdca26\"], [1.0, \"#f0f921\"]], \"type\": \"histogram2dcontour\"}], \"mesh3d\": [{\"colorbar\": {\"outlinewidth\": 0, \"ticks\": \"\"}, \"type\": \"mesh3d\"}], \"parcoords\": [{\"line\": {\"colorbar\": {\"outlinewidth\": 0, \"ticks\": \"\"}}, \"type\": \"parcoords\"}], \"pie\": [{\"automargin\": true, \"type\": \"pie\"}], \"scatter\": [{\"marker\": {\"colorbar\": {\"outlinewidth\": 0, \"ticks\": \"\"}}, \"type\": \"scatter\"}], \"scatter3d\": [{\"line\": {\"colorbar\": {\"outlinewidth\": 0, \"ticks\": \"\"}}, \"marker\": {\"colorbar\": {\"outlinewidth\": 0, \"ticks\": \"\"}}, \"type\": \"scatter3d\"}], \"scattercarpet\": [{\"marker\": {\"colorbar\": {\"outlinewidth\": 0, \"ticks\": \"\"}}, \"type\": \"scattercarpet\"}], \"scattergeo\": [{\"marker\": {\"colorbar\": {\"outlinewidth\": 0, \"ticks\": \"\"}}, \"type\": \"scattergeo\"}], \"scattergl\": [{\"marker\": {\"colorbar\": {\"outlinewidth\": 0, \"ticks\": \"\"}}, \"type\": \"scattergl\"}], \"scattermapbox\": [{\"marker\": {\"colorbar\": {\"outlinewidth\": 0, \"ticks\": \"\"}}, \"type\": \"scattermapbox\"}], \"scatterpolar\": [{\"marker\": {\"colorbar\": {\"outlinewidth\": 0, \"ticks\": \"\"}}, \"type\": \"scatterpolar\"}], \"scatterpolargl\": [{\"marker\": {\"colorbar\": {\"outlinewidth\": 0, \"ticks\": \"\"}}, \"type\": \"scatterpolargl\"}], \"scatterternary\": [{\"marker\": {\"colorbar\": {\"outlinewidth\": 0, \"ticks\": \"\"}}, \"type\": \"scatterternary\"}], \"surface\": [{\"colorbar\": {\"outlinewidth\": 0, \"ticks\": \"\"}, \"colorscale\": [[0.0, \"#0d0887\"], [0.1111111111111111, \"#46039f\"], [0.2222222222222222, \"#7201a8\"], [0.3333333333333333, \"#9c179e\"], [0.4444444444444444, \"#bd3786\"], [0.5555555555555556, \"#d8576b\"], [0.6666666666666666, \"#ed7953\"], [0.7777777777777778, \"#fb9f3a\"], [0.8888888888888888, \"#fdca26\"], [1.0, \"#f0f921\"]], \"type\": \"surface\"}], \"table\": [{\"cells\": {\"fill\": {\"color\": \"#EBF0F8\"}, \"line\": {\"color\": \"white\"}}, \"header\": {\"fill\": {\"color\": \"#C8D4E3\"}, \"line\": {\"color\": \"white\"}}, \"type\": \"table\"}]}, \"layout\": {\"annotationdefaults\": {\"arrowcolor\": \"#2a3f5f\", \"arrowhead\": 0, \"arrowwidth\": 1}, \"coloraxis\": {\"colorbar\": {\"outlinewidth\": 0, \"ticks\": \"\"}}, \"colorscale\": {\"diverging\": [[0, \"#8e0152\"], [0.1, \"#c51b7d\"], [0.2, \"#de77ae\"], [0.3, \"#f1b6da\"], [0.4, \"#fde0ef\"], [0.5, \"#f7f7f7\"], [0.6, \"#e6f5d0\"], [0.7, \"#b8e186\"], [0.8, \"#7fbc41\"], [0.9, \"#4d9221\"], [1, \"#276419\"]], \"sequential\": [[0.0, \"#0d0887\"], [0.1111111111111111, \"#46039f\"], [0.2222222222222222, \"#7201a8\"], [0.3333333333333333, \"#9c179e\"], [0.4444444444444444, \"#bd3786\"], [0.5555555555555556, \"#d8576b\"], [0.6666666666666666, \"#ed7953\"], [0.7777777777777778, \"#fb9f3a\"], [0.8888888888888888, \"#fdca26\"], [1.0, \"#f0f921\"]], \"sequentialminus\": [[0.0, \"#0d0887\"], [0.1111111111111111, \"#46039f\"], [0.2222222222222222, \"#7201a8\"], [0.3333333333333333, \"#9c179e\"], [0.4444444444444444, \"#bd3786\"], [0.5555555555555556, \"#d8576b\"], [0.6666666666666666, \"#ed7953\"], [0.7777777777777778, \"#fb9f3a\"], [0.8888888888888888, \"#fdca26\"], [1.0, \"#f0f921\"]]}, \"colorway\": [\"#636efa\", \"#EF553B\", \"#00cc96\", \"#ab63fa\", \"#FFA15A\", \"#19d3f3\", \"#FF6692\", \"#B6E880\", \"#FF97FF\", \"#FECB52\"], \"font\": {\"color\": \"#2a3f5f\"}, \"geo\": {\"bgcolor\": \"white\", \"lakecolor\": \"white\", \"landcolor\": \"#E5ECF6\", \"showlakes\": true, \"showland\": true, \"subunitcolor\": \"white\"}, \"hoverlabel\": {\"align\": \"left\"}, \"hovermode\": \"closest\", \"mapbox\": {\"style\": \"light\"}, \"paper_bgcolor\": \"white\", \"plot_bgcolor\": \"#E5ECF6\", \"polar\": {\"angularaxis\": {\"gridcolor\": \"white\", \"linecolor\": \"white\", \"ticks\": \"\"}, \"bgcolor\": \"#E5ECF6\", \"radialaxis\": {\"gridcolor\": \"white\", \"linecolor\": \"white\", \"ticks\": \"\"}}, \"scene\": {\"xaxis\": {\"backgroundcolor\": \"#E5ECF6\", \"gridcolor\": \"white\", \"gridwidth\": 2, \"linecolor\": \"white\", \"showbackground\": true, \"ticks\": \"\", \"zerolinecolor\": \"white\"}, \"yaxis\": {\"backgroundcolor\": \"#E5ECF6\", \"gridcolor\": \"white\", \"gridwidth\": 2, \"linecolor\": \"white\", \"showbackground\": true, \"ticks\": \"\", \"zerolinecolor\": \"white\"}, \"zaxis\": {\"backgroundcolor\": \"#E5ECF6\", \"gridcolor\": \"white\", \"gridwidth\": 2, \"linecolor\": \"white\", \"showbackground\": true, \"ticks\": \"\", \"zerolinecolor\": \"white\"}}, \"shapedefaults\": {\"line\": {\"color\": \"#2a3f5f\"}}, \"ternary\": {\"aaxis\": {\"gridcolor\": \"white\", \"linecolor\": \"white\", \"ticks\": \"\"}, \"baxis\": {\"gridcolor\": \"white\", \"linecolor\": \"white\", \"ticks\": \"\"}, \"bgcolor\": \"#E5ECF6\", \"caxis\": {\"gridcolor\": \"white\", \"linecolor\": \"white\", \"ticks\": \"\"}}, \"title\": {\"x\": 0.05}, \"xaxis\": {\"automargin\": true, \"gridcolor\": \"white\", \"linecolor\": \"white\", \"ticks\": \"\", \"title\": {\"standoff\": 15}, \"zerolinecolor\": \"white\", \"zerolinewidth\": 2}, \"yaxis\": {\"automargin\": true, \"gridcolor\": \"white\", \"linecolor\": \"white\", \"ticks\": \"\", \"title\": {\"standoff\": 15}, \"zerolinecolor\": \"white\", \"zerolinewidth\": 2}}}, \"yaxis\": {\"type\": \"log\"}},\n",
       "                        {\"responsive\": true}\n",
       "                    ).then(function(){\n",
       "                            \n",
       "var gd = document.getElementById('7322b4e8-bd07-4f09-98ec-42a8da733e78');\n",
       "var x = new MutationObserver(function (mutations, observer) {{\n",
       "        var display = window.getComputedStyle(gd).display;\n",
       "        if (!display || display === 'none') {{\n",
       "            console.log([gd, 'removed!']);\n",
       "            Plotly.purge(gd);\n",
       "            observer.disconnect();\n",
       "        }}\n",
       "}});\n",
       "\n",
       "// Listen for the removal of the full notebook cells\n",
       "var notebookContainer = gd.closest('#notebook-container');\n",
       "if (notebookContainer) {{\n",
       "    x.observe(notebookContainer, {childList: true});\n",
       "}}\n",
       "\n",
       "// Listen for the clearing of the current output cell\n",
       "var outputEl = gd.closest('.output');\n",
       "if (outputEl) {{\n",
       "    x.observe(outputEl, {childList: true});\n",
       "}}\n",
       "\n",
       "                        })\n",
       "                };\n",
       "                });\n",
       "            </script>\n",
       "        </div>"
      ]
     },
     "metadata": {},
     "output_type": "display_data"
    },
    {
     "data": {
      "text/plain": []
     },
     "execution_count": 385,
     "metadata": {},
     "output_type": "execute_result"
    }
   ],
   "source": [
    "b = InferSIRt(penalty_b=variation1, weight_b=4)\n",
    "b.fit(city, sample)\n",
    "print(b.loglikely)\n",
    "b.dynamic"
   ]
  },
  {
   "cell_type": "code",
   "execution_count": 350,
   "metadata": {},
   "outputs": [
    {
     "data": {
      "application/vnd.plotly.v1+json": {
       "config": {
        "plotlyServerURL": "https://plot.ly"
       },
       "data": [
        {
         "hovertemplate": "%{y}",
         "line": {
          "shape": "hv"
         },
         "name": "β",
         "type": "scatter",
         "x": [
          0,
          1,
          2,
          3,
          4,
          5,
          6,
          7,
          8,
          9,
          10,
          11,
          12,
          13,
          14,
          15,
          16,
          17,
          18,
          19,
          20,
          21,
          22,
          23,
          24,
          25,
          26,
          27,
          28,
          29,
          30,
          31,
          32,
          33,
          34,
          35,
          36,
          37,
          38,
          39,
          40,
          41,
          42,
          43,
          44,
          45,
          46,
          47,
          48,
          49,
          50,
          51,
          52,
          53,
          54,
          55,
          56,
          57,
          58,
          59,
          60,
          61,
          62,
          63,
          64,
          65,
          66,
          67,
          68,
          69,
          70,
          71,
          72,
          73,
          74,
          75,
          76,
          77,
          78,
          79,
          80,
          81,
          82,
          83,
          84,
          85,
          86,
          87,
          88,
          89,
          90,
          91,
          92,
          93,
          94,
          95,
          96,
          97,
          98,
          99
         ],
         "y": [
          0.2,
          0.2,
          0.2,
          0.2,
          0.2,
          0.2,
          0.2,
          0.24,
          0.24,
          0.24,
          0.24,
          0.24,
          0.24,
          0.24,
          0.24,
          0.24,
          0.24,
          0.24,
          0.24,
          0.24,
          0.24,
          0.24,
          0.24,
          0.24,
          0.24,
          0.288,
          0.288,
          0.288,
          0.288,
          0.288,
          0.288,
          0.288,
          0.3456,
          0.3456,
          0.3456,
          0.3456,
          0.3456,
          0.3456,
          0.3456,
          0.3456,
          0.3456,
          0.27648,
          0.27648,
          0.27648,
          0.27648,
          0.27648,
          0.17694720000000003,
          0.17694720000000003,
          0.17694720000000003,
          0.17694720000000003,
          0.14155776000000003,
          0.14155776000000003,
          0.14155776000000003,
          0.14155776000000003,
          0.14155776000000003,
          0.14155776000000003,
          0.14155776000000003,
          0.14155776000000003,
          0.14155776000000003,
          0.14155776000000003,
          0.14155776000000003,
          0.14155776000000003,
          0.14155776000000003,
          0.14155776000000003,
          0.14155776000000003,
          0.14155776000000003,
          0.11324620800000003,
          0.11324620800000003,
          0.11324620800000003,
          0.11324620800000003,
          0.11324620800000003,
          0.11324620800000003,
          0.11324620800000003,
          0.11324620800000003,
          0.13589544960000002,
          0.13589544960000002,
          0.13589544960000002,
          0.13589544960000002,
          0.13589544960000002,
          0.13589544960000002,
          0.13589544960000002,
          0.13589544960000002,
          0.13589544960000002,
          0.13589544960000002,
          0.13589544960000002,
          0.13589544960000002,
          0.13589544960000002,
          0.13589544960000002,
          0.13589544960000002,
          0.13589544960000002,
          0.13589544960000002,
          0.13589544960000002,
          0.13045963161600002,
          0.13045963161600002,
          0.13045963161600002,
          0.13045963161600002,
          0.15655155793920006,
          0.15655155793920006,
          0.15655155793920006,
          0.15655155793920006
         ]
        },
        {
         "hovertemplate": "%{y}",
         "line": {
          "shape": "hv"
         },
         "name": "γ",
         "type": "scatter",
         "x": [
          0,
          1,
          2,
          3,
          4,
          5,
          6,
          7,
          8,
          9,
          10,
          11,
          12,
          13,
          14,
          15,
          16,
          17,
          18,
          19,
          20,
          21,
          22,
          23,
          24,
          25,
          26,
          27,
          28,
          29,
          30,
          31,
          32,
          33,
          34,
          35,
          36,
          37,
          38,
          39,
          40,
          41,
          42,
          43,
          44,
          45,
          46,
          47,
          48,
          49,
          50,
          51,
          52,
          53,
          54,
          55,
          56,
          57,
          58,
          59,
          60,
          61,
          62,
          63,
          64,
          65,
          66,
          67,
          68,
          69,
          70,
          71,
          72,
          73,
          74,
          75,
          76,
          77,
          78,
          79,
          80,
          81,
          82,
          83,
          84,
          85,
          86,
          87,
          88,
          89,
          90,
          91,
          92,
          93,
          94,
          95,
          96,
          97,
          98,
          99
         ],
         "y": [
          0.1,
          0.1,
          0.1,
          0.1,
          0.1,
          0.098,
          0.098,
          0.098,
          0.098,
          0.098,
          0.098,
          0.098,
          0.098,
          0.098,
          0.098,
          0.098,
          0.098,
          0.098,
          0.098,
          0.098,
          0.098,
          0.098,
          0.098,
          0.098,
          0.098,
          0.098,
          0.098,
          0.098,
          0.098,
          0.098,
          0.098,
          0.09996000000000001,
          0.09996000000000001,
          0.09996000000000001,
          0.10195920000000001,
          0.10195920000000001,
          0.10399838400000001,
          0.10399838400000001,
          0.10607835168000002,
          0.10607835168000002,
          0.10607835168000002,
          0.10607835168000002,
          0.10607835168000002,
          0.10607835168000002,
          0.10607835168000002,
          0.10607835168000002,
          0.10607835168000002,
          0.10607835168000002,
          0.10607835168000002,
          0.10819991871360002,
          0.10819991871360002,
          0.10819991871360002,
          0.10819991871360002,
          0.10819991871360002,
          0.10819991871360002,
          0.10819991871360002,
          0.10603592033932803,
          0.10603592033932803,
          0.10603592033932803,
          0.10391520193254147,
          0.10391520193254147,
          0.10183689789389064,
          0.10183689789389064,
          0.09980015993601282,
          0.09980015993601282,
          0.09980015993601282,
          0.09980015993601282,
          0.09980015993601282,
          0.09980015993601282,
          0.09980015993601282,
          0.09980015993601282,
          0.09980015993601282,
          0.09980015993601282,
          0.09980015993601282,
          0.10179616313473308,
          0.10179616313473308,
          0.10179616313473308,
          0.10179616313473308,
          0.10179616313473308,
          0.10179616313473308,
          0.10383208639742775,
          0.1017554446694792,
          0.1017554446694792,
          0.1017554446694792,
          0.1017554446694792,
          0.1017554446694792,
          0.1017554446694792,
          0.1017554446694792,
          0.1017554446694792,
          0.1017554446694792,
          0.1017554446694792,
          0.1017554446694792,
          0.1017554446694792,
          0.1017554446694792,
          0.1017554446694792,
          0.1017554446694792,
          0.10379055356286877,
          0.10379055356286877,
          0.10379055356286877,
          0.10379055356286877
         ]
        }
       ],
       "layout": {
        "template": {
         "data": {
          "bar": [
           {
            "error_x": {
             "color": "#2a3f5f"
            },
            "error_y": {
             "color": "#2a3f5f"
            },
            "marker": {
             "line": {
              "color": "#E5ECF6",
              "width": 0.5
             }
            },
            "type": "bar"
           }
          ],
          "barpolar": [
           {
            "marker": {
             "line": {
              "color": "#E5ECF6",
              "width": 0.5
             }
            },
            "type": "barpolar"
           }
          ],
          "carpet": [
           {
            "aaxis": {
             "endlinecolor": "#2a3f5f",
             "gridcolor": "white",
             "linecolor": "white",
             "minorgridcolor": "white",
             "startlinecolor": "#2a3f5f"
            },
            "baxis": {
             "endlinecolor": "#2a3f5f",
             "gridcolor": "white",
             "linecolor": "white",
             "minorgridcolor": "white",
             "startlinecolor": "#2a3f5f"
            },
            "type": "carpet"
           }
          ],
          "choropleth": [
           {
            "colorbar": {
             "outlinewidth": 0,
             "ticks": ""
            },
            "type": "choropleth"
           }
          ],
          "contour": [
           {
            "colorbar": {
             "outlinewidth": 0,
             "ticks": ""
            },
            "colorscale": [
             [
              0,
              "#0d0887"
             ],
             [
              0.1111111111111111,
              "#46039f"
             ],
             [
              0.2222222222222222,
              "#7201a8"
             ],
             [
              0.3333333333333333,
              "#9c179e"
             ],
             [
              0.4444444444444444,
              "#bd3786"
             ],
             [
              0.5555555555555556,
              "#d8576b"
             ],
             [
              0.6666666666666666,
              "#ed7953"
             ],
             [
              0.7777777777777778,
              "#fb9f3a"
             ],
             [
              0.8888888888888888,
              "#fdca26"
             ],
             [
              1,
              "#f0f921"
             ]
            ],
            "type": "contour"
           }
          ],
          "contourcarpet": [
           {
            "colorbar": {
             "outlinewidth": 0,
             "ticks": ""
            },
            "type": "contourcarpet"
           }
          ],
          "heatmap": [
           {
            "colorbar": {
             "outlinewidth": 0,
             "ticks": ""
            },
            "colorscale": [
             [
              0,
              "#0d0887"
             ],
             [
              0.1111111111111111,
              "#46039f"
             ],
             [
              0.2222222222222222,
              "#7201a8"
             ],
             [
              0.3333333333333333,
              "#9c179e"
             ],
             [
              0.4444444444444444,
              "#bd3786"
             ],
             [
              0.5555555555555556,
              "#d8576b"
             ],
             [
              0.6666666666666666,
              "#ed7953"
             ],
             [
              0.7777777777777778,
              "#fb9f3a"
             ],
             [
              0.8888888888888888,
              "#fdca26"
             ],
             [
              1,
              "#f0f921"
             ]
            ],
            "type": "heatmap"
           }
          ],
          "heatmapgl": [
           {
            "colorbar": {
             "outlinewidth": 0,
             "ticks": ""
            },
            "colorscale": [
             [
              0,
              "#0d0887"
             ],
             [
              0.1111111111111111,
              "#46039f"
             ],
             [
              0.2222222222222222,
              "#7201a8"
             ],
             [
              0.3333333333333333,
              "#9c179e"
             ],
             [
              0.4444444444444444,
              "#bd3786"
             ],
             [
              0.5555555555555556,
              "#d8576b"
             ],
             [
              0.6666666666666666,
              "#ed7953"
             ],
             [
              0.7777777777777778,
              "#fb9f3a"
             ],
             [
              0.8888888888888888,
              "#fdca26"
             ],
             [
              1,
              "#f0f921"
             ]
            ],
            "type": "heatmapgl"
           }
          ],
          "histogram": [
           {
            "marker": {
             "colorbar": {
              "outlinewidth": 0,
              "ticks": ""
             }
            },
            "type": "histogram"
           }
          ],
          "histogram2d": [
           {
            "colorbar": {
             "outlinewidth": 0,
             "ticks": ""
            },
            "colorscale": [
             [
              0,
              "#0d0887"
             ],
             [
              0.1111111111111111,
              "#46039f"
             ],
             [
              0.2222222222222222,
              "#7201a8"
             ],
             [
              0.3333333333333333,
              "#9c179e"
             ],
             [
              0.4444444444444444,
              "#bd3786"
             ],
             [
              0.5555555555555556,
              "#d8576b"
             ],
             [
              0.6666666666666666,
              "#ed7953"
             ],
             [
              0.7777777777777778,
              "#fb9f3a"
             ],
             [
              0.8888888888888888,
              "#fdca26"
             ],
             [
              1,
              "#f0f921"
             ]
            ],
            "type": "histogram2d"
           }
          ],
          "histogram2dcontour": [
           {
            "colorbar": {
             "outlinewidth": 0,
             "ticks": ""
            },
            "colorscale": [
             [
              0,
              "#0d0887"
             ],
             [
              0.1111111111111111,
              "#46039f"
             ],
             [
              0.2222222222222222,
              "#7201a8"
             ],
             [
              0.3333333333333333,
              "#9c179e"
             ],
             [
              0.4444444444444444,
              "#bd3786"
             ],
             [
              0.5555555555555556,
              "#d8576b"
             ],
             [
              0.6666666666666666,
              "#ed7953"
             ],
             [
              0.7777777777777778,
              "#fb9f3a"
             ],
             [
              0.8888888888888888,
              "#fdca26"
             ],
             [
              1,
              "#f0f921"
             ]
            ],
            "type": "histogram2dcontour"
           }
          ],
          "mesh3d": [
           {
            "colorbar": {
             "outlinewidth": 0,
             "ticks": ""
            },
            "type": "mesh3d"
           }
          ],
          "parcoords": [
           {
            "line": {
             "colorbar": {
              "outlinewidth": 0,
              "ticks": ""
             }
            },
            "type": "parcoords"
           }
          ],
          "pie": [
           {
            "automargin": true,
            "type": "pie"
           }
          ],
          "scatter": [
           {
            "marker": {
             "colorbar": {
              "outlinewidth": 0,
              "ticks": ""
             }
            },
            "type": "scatter"
           }
          ],
          "scatter3d": [
           {
            "line": {
             "colorbar": {
              "outlinewidth": 0,
              "ticks": ""
             }
            },
            "marker": {
             "colorbar": {
              "outlinewidth": 0,
              "ticks": ""
             }
            },
            "type": "scatter3d"
           }
          ],
          "scattercarpet": [
           {
            "marker": {
             "colorbar": {
              "outlinewidth": 0,
              "ticks": ""
             }
            },
            "type": "scattercarpet"
           }
          ],
          "scattergeo": [
           {
            "marker": {
             "colorbar": {
              "outlinewidth": 0,
              "ticks": ""
             }
            },
            "type": "scattergeo"
           }
          ],
          "scattergl": [
           {
            "marker": {
             "colorbar": {
              "outlinewidth": 0,
              "ticks": ""
             }
            },
            "type": "scattergl"
           }
          ],
          "scattermapbox": [
           {
            "marker": {
             "colorbar": {
              "outlinewidth": 0,
              "ticks": ""
             }
            },
            "type": "scattermapbox"
           }
          ],
          "scatterpolar": [
           {
            "marker": {
             "colorbar": {
              "outlinewidth": 0,
              "ticks": ""
             }
            },
            "type": "scatterpolar"
           }
          ],
          "scatterpolargl": [
           {
            "marker": {
             "colorbar": {
              "outlinewidth": 0,
              "ticks": ""
             }
            },
            "type": "scatterpolargl"
           }
          ],
          "scatterternary": [
           {
            "marker": {
             "colorbar": {
              "outlinewidth": 0,
              "ticks": ""
             }
            },
            "type": "scatterternary"
           }
          ],
          "surface": [
           {
            "colorbar": {
             "outlinewidth": 0,
             "ticks": ""
            },
            "colorscale": [
             [
              0,
              "#0d0887"
             ],
             [
              0.1111111111111111,
              "#46039f"
             ],
             [
              0.2222222222222222,
              "#7201a8"
             ],
             [
              0.3333333333333333,
              "#9c179e"
             ],
             [
              0.4444444444444444,
              "#bd3786"
             ],
             [
              0.5555555555555556,
              "#d8576b"
             ],
             [
              0.6666666666666666,
              "#ed7953"
             ],
             [
              0.7777777777777778,
              "#fb9f3a"
             ],
             [
              0.8888888888888888,
              "#fdca26"
             ],
             [
              1,
              "#f0f921"
             ]
            ],
            "type": "surface"
           }
          ],
          "table": [
           {
            "cells": {
             "fill": {
              "color": "#EBF0F8"
             },
             "line": {
              "color": "white"
             }
            },
            "header": {
             "fill": {
              "color": "#C8D4E3"
             },
             "line": {
              "color": "white"
             }
            },
            "type": "table"
           }
          ]
         },
         "layout": {
          "annotationdefaults": {
           "arrowcolor": "#2a3f5f",
           "arrowhead": 0,
           "arrowwidth": 1
          },
          "coloraxis": {
           "colorbar": {
            "outlinewidth": 0,
            "ticks": ""
           }
          },
          "colorscale": {
           "diverging": [
            [
             0,
             "#8e0152"
            ],
            [
             0.1,
             "#c51b7d"
            ],
            [
             0.2,
             "#de77ae"
            ],
            [
             0.3,
             "#f1b6da"
            ],
            [
             0.4,
             "#fde0ef"
            ],
            [
             0.5,
             "#f7f7f7"
            ],
            [
             0.6,
             "#e6f5d0"
            ],
            [
             0.7,
             "#b8e186"
            ],
            [
             0.8,
             "#7fbc41"
            ],
            [
             0.9,
             "#4d9221"
            ],
            [
             1,
             "#276419"
            ]
           ],
           "sequential": [
            [
             0,
             "#0d0887"
            ],
            [
             0.1111111111111111,
             "#46039f"
            ],
            [
             0.2222222222222222,
             "#7201a8"
            ],
            [
             0.3333333333333333,
             "#9c179e"
            ],
            [
             0.4444444444444444,
             "#bd3786"
            ],
            [
             0.5555555555555556,
             "#d8576b"
            ],
            [
             0.6666666666666666,
             "#ed7953"
            ],
            [
             0.7777777777777778,
             "#fb9f3a"
            ],
            [
             0.8888888888888888,
             "#fdca26"
            ],
            [
             1,
             "#f0f921"
            ]
           ],
           "sequentialminus": [
            [
             0,
             "#0d0887"
            ],
            [
             0.1111111111111111,
             "#46039f"
            ],
            [
             0.2222222222222222,
             "#7201a8"
            ],
            [
             0.3333333333333333,
             "#9c179e"
            ],
            [
             0.4444444444444444,
             "#bd3786"
            ],
            [
             0.5555555555555556,
             "#d8576b"
            ],
            [
             0.6666666666666666,
             "#ed7953"
            ],
            [
             0.7777777777777778,
             "#fb9f3a"
            ],
            [
             0.8888888888888888,
             "#fdca26"
            ],
            [
             1,
             "#f0f921"
            ]
           ]
          },
          "colorway": [
           "#636efa",
           "#EF553B",
           "#00cc96",
           "#ab63fa",
           "#FFA15A",
           "#19d3f3",
           "#FF6692",
           "#B6E880",
           "#FF97FF",
           "#FECB52"
          ],
          "font": {
           "color": "#2a3f5f"
          },
          "geo": {
           "bgcolor": "white",
           "lakecolor": "white",
           "landcolor": "#E5ECF6",
           "showlakes": true,
           "showland": true,
           "subunitcolor": "white"
          },
          "hoverlabel": {
           "align": "left"
          },
          "hovermode": "closest",
          "mapbox": {
           "style": "light"
          },
          "paper_bgcolor": "white",
          "plot_bgcolor": "#E5ECF6",
          "polar": {
           "angularaxis": {
            "gridcolor": "white",
            "linecolor": "white",
            "ticks": ""
           },
           "bgcolor": "#E5ECF6",
           "radialaxis": {
            "gridcolor": "white",
            "linecolor": "white",
            "ticks": ""
           }
          },
          "scene": {
           "xaxis": {
            "backgroundcolor": "#E5ECF6",
            "gridcolor": "white",
            "gridwidth": 2,
            "linecolor": "white",
            "showbackground": true,
            "ticks": "",
            "zerolinecolor": "white"
           },
           "yaxis": {
            "backgroundcolor": "#E5ECF6",
            "gridcolor": "white",
            "gridwidth": 2,
            "linecolor": "white",
            "showbackground": true,
            "ticks": "",
            "zerolinecolor": "white"
           },
           "zaxis": {
            "backgroundcolor": "#E5ECF6",
            "gridcolor": "white",
            "gridwidth": 2,
            "linecolor": "white",
            "showbackground": true,
            "ticks": "",
            "zerolinecolor": "white"
           }
          },
          "shapedefaults": {
           "line": {
            "color": "#2a3f5f"
           }
          },
          "ternary": {
           "aaxis": {
            "gridcolor": "white",
            "linecolor": "white",
            "ticks": ""
           },
           "baxis": {
            "gridcolor": "white",
            "linecolor": "white",
            "ticks": ""
           },
           "bgcolor": "#E5ECF6",
           "caxis": {
            "gridcolor": "white",
            "linecolor": "white",
            "ticks": ""
           }
          },
          "title": {
           "x": 0.05
          },
          "xaxis": {
           "automargin": true,
           "gridcolor": "white",
           "linecolor": "white",
           "ticks": "",
           "title": {
            "standoff": 15
           },
           "zerolinecolor": "white",
           "zerolinewidth": 2
          },
          "yaxis": {
           "automargin": true,
           "gridcolor": "white",
           "linecolor": "white",
           "ticks": "",
           "title": {
            "standoff": 15
           },
           "zerolinecolor": "white",
           "zerolinewidth": 2
          }
         }
        },
        "yaxis": {
         "type": "log"
        }
       }
      },
      "text/html": [
       "<div>\n",
       "        \n",
       "        \n",
       "            <div id=\"0d152fb6-e001-44aa-a710-02eb4c948460\" class=\"plotly-graph-div\" style=\"height:525px; width:100%;\"></div>\n",
       "            <script type=\"text/javascript\">\n",
       "                require([\"plotly\"], function(Plotly) {\n",
       "                    window.PLOTLYENV=window.PLOTLYENV || {};\n",
       "                    \n",
       "                if (document.getElementById(\"0d152fb6-e001-44aa-a710-02eb4c948460\")) {\n",
       "                    Plotly.newPlot(\n",
       "                        '0d152fb6-e001-44aa-a710-02eb4c948460',\n",
       "                        [{\"hovertemplate\": \"%{y}\", \"line\": {\"shape\": \"hv\"}, \"name\": \"\\u03b2\", \"type\": \"scatter\", \"x\": [0, 1, 2, 3, 4, 5, 6, 7, 8, 9, 10, 11, 12, 13, 14, 15, 16, 17, 18, 19, 20, 21, 22, 23, 24, 25, 26, 27, 28, 29, 30, 31, 32, 33, 34, 35, 36, 37, 38, 39, 40, 41, 42, 43, 44, 45, 46, 47, 48, 49, 50, 51, 52, 53, 54, 55, 56, 57, 58, 59, 60, 61, 62, 63, 64, 65, 66, 67, 68, 69, 70, 71, 72, 73, 74, 75, 76, 77, 78, 79, 80, 81, 82, 83, 84, 85, 86, 87, 88, 89, 90, 91, 92, 93, 94, 95, 96, 97, 98, 99], \"y\": [0.2, 0.2, 0.2, 0.2, 0.2, 0.2, 0.2, 0.24, 0.24, 0.24, 0.24, 0.24, 0.24, 0.24, 0.24, 0.24, 0.24, 0.24, 0.24, 0.24, 0.24, 0.24, 0.24, 0.24, 0.24, 0.288, 0.288, 0.288, 0.288, 0.288, 0.288, 0.288, 0.3456, 0.3456, 0.3456, 0.3456, 0.3456, 0.3456, 0.3456, 0.3456, 0.3456, 0.27648, 0.27648, 0.27648, 0.27648, 0.27648, 0.17694720000000003, 0.17694720000000003, 0.17694720000000003, 0.17694720000000003, 0.14155776000000003, 0.14155776000000003, 0.14155776000000003, 0.14155776000000003, 0.14155776000000003, 0.14155776000000003, 0.14155776000000003, 0.14155776000000003, 0.14155776000000003, 0.14155776000000003, 0.14155776000000003, 0.14155776000000003, 0.14155776000000003, 0.14155776000000003, 0.14155776000000003, 0.14155776000000003, 0.11324620800000003, 0.11324620800000003, 0.11324620800000003, 0.11324620800000003, 0.11324620800000003, 0.11324620800000003, 0.11324620800000003, 0.11324620800000003, 0.13589544960000002, 0.13589544960000002, 0.13589544960000002, 0.13589544960000002, 0.13589544960000002, 0.13589544960000002, 0.13589544960000002, 0.13589544960000002, 0.13589544960000002, 0.13589544960000002, 0.13589544960000002, 0.13589544960000002, 0.13589544960000002, 0.13589544960000002, 0.13589544960000002, 0.13589544960000002, 0.13589544960000002, 0.13589544960000002, 0.13045963161600002, 0.13045963161600002, 0.13045963161600002, 0.13045963161600002, 0.15655155793920006, 0.15655155793920006, 0.15655155793920006, 0.15655155793920006]}, {\"hovertemplate\": \"%{y}\", \"line\": {\"shape\": \"hv\"}, \"name\": \"\\u03b3\", \"type\": \"scatter\", \"x\": [0, 1, 2, 3, 4, 5, 6, 7, 8, 9, 10, 11, 12, 13, 14, 15, 16, 17, 18, 19, 20, 21, 22, 23, 24, 25, 26, 27, 28, 29, 30, 31, 32, 33, 34, 35, 36, 37, 38, 39, 40, 41, 42, 43, 44, 45, 46, 47, 48, 49, 50, 51, 52, 53, 54, 55, 56, 57, 58, 59, 60, 61, 62, 63, 64, 65, 66, 67, 68, 69, 70, 71, 72, 73, 74, 75, 76, 77, 78, 79, 80, 81, 82, 83, 84, 85, 86, 87, 88, 89, 90, 91, 92, 93, 94, 95, 96, 97, 98, 99], \"y\": [0.1, 0.1, 0.1, 0.1, 0.1, 0.098, 0.098, 0.098, 0.098, 0.098, 0.098, 0.098, 0.098, 0.098, 0.098, 0.098, 0.098, 0.098, 0.098, 0.098, 0.098, 0.098, 0.098, 0.098, 0.098, 0.098, 0.098, 0.098, 0.098, 0.098, 0.098, 0.09996000000000001, 0.09996000000000001, 0.09996000000000001, 0.10195920000000001, 0.10195920000000001, 0.10399838400000001, 0.10399838400000001, 0.10607835168000002, 0.10607835168000002, 0.10607835168000002, 0.10607835168000002, 0.10607835168000002, 0.10607835168000002, 0.10607835168000002, 0.10607835168000002, 0.10607835168000002, 0.10607835168000002, 0.10607835168000002, 0.10819991871360002, 0.10819991871360002, 0.10819991871360002, 0.10819991871360002, 0.10819991871360002, 0.10819991871360002, 0.10819991871360002, 0.10603592033932803, 0.10603592033932803, 0.10603592033932803, 0.10391520193254147, 0.10391520193254147, 0.10183689789389064, 0.10183689789389064, 0.09980015993601282, 0.09980015993601282, 0.09980015993601282, 0.09980015993601282, 0.09980015993601282, 0.09980015993601282, 0.09980015993601282, 0.09980015993601282, 0.09980015993601282, 0.09980015993601282, 0.09980015993601282, 0.10179616313473308, 0.10179616313473308, 0.10179616313473308, 0.10179616313473308, 0.10179616313473308, 0.10179616313473308, 0.10383208639742775, 0.1017554446694792, 0.1017554446694792, 0.1017554446694792, 0.1017554446694792, 0.1017554446694792, 0.1017554446694792, 0.1017554446694792, 0.1017554446694792, 0.1017554446694792, 0.1017554446694792, 0.1017554446694792, 0.1017554446694792, 0.1017554446694792, 0.1017554446694792, 0.1017554446694792, 0.10379055356286877, 0.10379055356286877, 0.10379055356286877, 0.10379055356286877]}],\n",
       "                        {\"template\": {\"data\": {\"bar\": [{\"error_x\": {\"color\": \"#2a3f5f\"}, \"error_y\": {\"color\": \"#2a3f5f\"}, \"marker\": {\"line\": {\"color\": \"#E5ECF6\", \"width\": 0.5}}, \"type\": \"bar\"}], \"barpolar\": [{\"marker\": {\"line\": {\"color\": \"#E5ECF6\", \"width\": 0.5}}, \"type\": \"barpolar\"}], \"carpet\": [{\"aaxis\": {\"endlinecolor\": \"#2a3f5f\", \"gridcolor\": \"white\", \"linecolor\": \"white\", \"minorgridcolor\": \"white\", \"startlinecolor\": \"#2a3f5f\"}, \"baxis\": {\"endlinecolor\": \"#2a3f5f\", \"gridcolor\": \"white\", \"linecolor\": \"white\", \"minorgridcolor\": \"white\", \"startlinecolor\": \"#2a3f5f\"}, \"type\": \"carpet\"}], \"choropleth\": [{\"colorbar\": {\"outlinewidth\": 0, \"ticks\": \"\"}, \"type\": \"choropleth\"}], \"contour\": [{\"colorbar\": {\"outlinewidth\": 0, \"ticks\": \"\"}, \"colorscale\": [[0.0, \"#0d0887\"], [0.1111111111111111, \"#46039f\"], [0.2222222222222222, \"#7201a8\"], [0.3333333333333333, \"#9c179e\"], [0.4444444444444444, \"#bd3786\"], [0.5555555555555556, \"#d8576b\"], [0.6666666666666666, \"#ed7953\"], [0.7777777777777778, \"#fb9f3a\"], [0.8888888888888888, \"#fdca26\"], [1.0, \"#f0f921\"]], \"type\": \"contour\"}], \"contourcarpet\": [{\"colorbar\": {\"outlinewidth\": 0, \"ticks\": \"\"}, \"type\": \"contourcarpet\"}], \"heatmap\": [{\"colorbar\": {\"outlinewidth\": 0, \"ticks\": \"\"}, \"colorscale\": [[0.0, \"#0d0887\"], [0.1111111111111111, \"#46039f\"], [0.2222222222222222, \"#7201a8\"], [0.3333333333333333, \"#9c179e\"], [0.4444444444444444, \"#bd3786\"], [0.5555555555555556, \"#d8576b\"], [0.6666666666666666, \"#ed7953\"], [0.7777777777777778, \"#fb9f3a\"], [0.8888888888888888, \"#fdca26\"], [1.0, \"#f0f921\"]], \"type\": \"heatmap\"}], \"heatmapgl\": [{\"colorbar\": {\"outlinewidth\": 0, \"ticks\": \"\"}, \"colorscale\": [[0.0, \"#0d0887\"], [0.1111111111111111, \"#46039f\"], [0.2222222222222222, \"#7201a8\"], [0.3333333333333333, \"#9c179e\"], [0.4444444444444444, \"#bd3786\"], [0.5555555555555556, \"#d8576b\"], [0.6666666666666666, \"#ed7953\"], [0.7777777777777778, \"#fb9f3a\"], [0.8888888888888888, \"#fdca26\"], [1.0, \"#f0f921\"]], \"type\": \"heatmapgl\"}], \"histogram\": [{\"marker\": {\"colorbar\": {\"outlinewidth\": 0, \"ticks\": \"\"}}, \"type\": \"histogram\"}], \"histogram2d\": [{\"colorbar\": {\"outlinewidth\": 0, \"ticks\": \"\"}, \"colorscale\": [[0.0, \"#0d0887\"], [0.1111111111111111, \"#46039f\"], [0.2222222222222222, \"#7201a8\"], [0.3333333333333333, \"#9c179e\"], [0.4444444444444444, \"#bd3786\"], [0.5555555555555556, \"#d8576b\"], [0.6666666666666666, \"#ed7953\"], [0.7777777777777778, \"#fb9f3a\"], [0.8888888888888888, \"#fdca26\"], [1.0, \"#f0f921\"]], \"type\": \"histogram2d\"}], \"histogram2dcontour\": [{\"colorbar\": {\"outlinewidth\": 0, \"ticks\": \"\"}, \"colorscale\": [[0.0, \"#0d0887\"], [0.1111111111111111, \"#46039f\"], [0.2222222222222222, \"#7201a8\"], [0.3333333333333333, \"#9c179e\"], [0.4444444444444444, \"#bd3786\"], [0.5555555555555556, \"#d8576b\"], [0.6666666666666666, \"#ed7953\"], [0.7777777777777778, \"#fb9f3a\"], [0.8888888888888888, \"#fdca26\"], [1.0, \"#f0f921\"]], \"type\": \"histogram2dcontour\"}], \"mesh3d\": [{\"colorbar\": {\"outlinewidth\": 0, \"ticks\": \"\"}, \"type\": \"mesh3d\"}], \"parcoords\": [{\"line\": {\"colorbar\": {\"outlinewidth\": 0, \"ticks\": \"\"}}, \"type\": \"parcoords\"}], \"pie\": [{\"automargin\": true, \"type\": \"pie\"}], \"scatter\": [{\"marker\": {\"colorbar\": {\"outlinewidth\": 0, \"ticks\": \"\"}}, \"type\": \"scatter\"}], \"scatter3d\": [{\"line\": {\"colorbar\": {\"outlinewidth\": 0, \"ticks\": \"\"}}, \"marker\": {\"colorbar\": {\"outlinewidth\": 0, \"ticks\": \"\"}}, \"type\": \"scatter3d\"}], \"scattercarpet\": [{\"marker\": {\"colorbar\": {\"outlinewidth\": 0, \"ticks\": \"\"}}, \"type\": \"scattercarpet\"}], \"scattergeo\": [{\"marker\": {\"colorbar\": {\"outlinewidth\": 0, \"ticks\": \"\"}}, \"type\": \"scattergeo\"}], \"scattergl\": [{\"marker\": {\"colorbar\": {\"outlinewidth\": 0, \"ticks\": \"\"}}, \"type\": \"scattergl\"}], \"scattermapbox\": [{\"marker\": {\"colorbar\": {\"outlinewidth\": 0, \"ticks\": \"\"}}, \"type\": \"scattermapbox\"}], \"scatterpolar\": [{\"marker\": {\"colorbar\": {\"outlinewidth\": 0, \"ticks\": \"\"}}, \"type\": \"scatterpolar\"}], \"scatterpolargl\": [{\"marker\": {\"colorbar\": {\"outlinewidth\": 0, \"ticks\": \"\"}}, \"type\": \"scatterpolargl\"}], \"scatterternary\": [{\"marker\": {\"colorbar\": {\"outlinewidth\": 0, \"ticks\": \"\"}}, \"type\": \"scatterternary\"}], \"surface\": [{\"colorbar\": {\"outlinewidth\": 0, \"ticks\": \"\"}, \"colorscale\": [[0.0, \"#0d0887\"], [0.1111111111111111, \"#46039f\"], [0.2222222222222222, \"#7201a8\"], [0.3333333333333333, \"#9c179e\"], [0.4444444444444444, \"#bd3786\"], [0.5555555555555556, \"#d8576b\"], [0.6666666666666666, \"#ed7953\"], [0.7777777777777778, \"#fb9f3a\"], [0.8888888888888888, \"#fdca26\"], [1.0, \"#f0f921\"]], \"type\": \"surface\"}], \"table\": [{\"cells\": {\"fill\": {\"color\": \"#EBF0F8\"}, \"line\": {\"color\": \"white\"}}, \"header\": {\"fill\": {\"color\": \"#C8D4E3\"}, \"line\": {\"color\": \"white\"}}, \"type\": \"table\"}]}, \"layout\": {\"annotationdefaults\": {\"arrowcolor\": \"#2a3f5f\", \"arrowhead\": 0, \"arrowwidth\": 1}, \"coloraxis\": {\"colorbar\": {\"outlinewidth\": 0, \"ticks\": \"\"}}, \"colorscale\": {\"diverging\": [[0, \"#8e0152\"], [0.1, \"#c51b7d\"], [0.2, \"#de77ae\"], [0.3, \"#f1b6da\"], [0.4, \"#fde0ef\"], [0.5, \"#f7f7f7\"], [0.6, \"#e6f5d0\"], [0.7, \"#b8e186\"], [0.8, \"#7fbc41\"], [0.9, \"#4d9221\"], [1, \"#276419\"]], \"sequential\": [[0.0, \"#0d0887\"], [0.1111111111111111, \"#46039f\"], [0.2222222222222222, \"#7201a8\"], [0.3333333333333333, \"#9c179e\"], [0.4444444444444444, \"#bd3786\"], [0.5555555555555556, \"#d8576b\"], [0.6666666666666666, \"#ed7953\"], [0.7777777777777778, \"#fb9f3a\"], [0.8888888888888888, \"#fdca26\"], [1.0, \"#f0f921\"]], \"sequentialminus\": [[0.0, \"#0d0887\"], [0.1111111111111111, \"#46039f\"], [0.2222222222222222, \"#7201a8\"], [0.3333333333333333, \"#9c179e\"], [0.4444444444444444, \"#bd3786\"], [0.5555555555555556, \"#d8576b\"], [0.6666666666666666, \"#ed7953\"], [0.7777777777777778, \"#fb9f3a\"], [0.8888888888888888, \"#fdca26\"], [1.0, \"#f0f921\"]]}, \"colorway\": [\"#636efa\", \"#EF553B\", \"#00cc96\", \"#ab63fa\", \"#FFA15A\", \"#19d3f3\", \"#FF6692\", \"#B6E880\", \"#FF97FF\", \"#FECB52\"], \"font\": {\"color\": \"#2a3f5f\"}, \"geo\": {\"bgcolor\": \"white\", \"lakecolor\": \"white\", \"landcolor\": \"#E5ECF6\", \"showlakes\": true, \"showland\": true, \"subunitcolor\": \"white\"}, \"hoverlabel\": {\"align\": \"left\"}, \"hovermode\": \"closest\", \"mapbox\": {\"style\": \"light\"}, \"paper_bgcolor\": \"white\", \"plot_bgcolor\": \"#E5ECF6\", \"polar\": {\"angularaxis\": {\"gridcolor\": \"white\", \"linecolor\": \"white\", \"ticks\": \"\"}, \"bgcolor\": \"#E5ECF6\", \"radialaxis\": {\"gridcolor\": \"white\", \"linecolor\": \"white\", \"ticks\": \"\"}}, \"scene\": {\"xaxis\": {\"backgroundcolor\": \"#E5ECF6\", \"gridcolor\": \"white\", \"gridwidth\": 2, \"linecolor\": \"white\", \"showbackground\": true, \"ticks\": \"\", \"zerolinecolor\": \"white\"}, \"yaxis\": {\"backgroundcolor\": \"#E5ECF6\", \"gridcolor\": \"white\", \"gridwidth\": 2, \"linecolor\": \"white\", \"showbackground\": true, \"ticks\": \"\", \"zerolinecolor\": \"white\"}, \"zaxis\": {\"backgroundcolor\": \"#E5ECF6\", \"gridcolor\": \"white\", \"gridwidth\": 2, \"linecolor\": \"white\", \"showbackground\": true, \"ticks\": \"\", \"zerolinecolor\": \"white\"}}, \"shapedefaults\": {\"line\": {\"color\": \"#2a3f5f\"}}, \"ternary\": {\"aaxis\": {\"gridcolor\": \"white\", \"linecolor\": \"white\", \"ticks\": \"\"}, \"baxis\": {\"gridcolor\": \"white\", \"linecolor\": \"white\", \"ticks\": \"\"}, \"bgcolor\": \"#E5ECF6\", \"caxis\": {\"gridcolor\": \"white\", \"linecolor\": \"white\", \"ticks\": \"\"}}, \"title\": {\"x\": 0.05}, \"xaxis\": {\"automargin\": true, \"gridcolor\": \"white\", \"linecolor\": \"white\", \"ticks\": \"\", \"title\": {\"standoff\": 15}, \"zerolinecolor\": \"white\", \"zerolinewidth\": 2}, \"yaxis\": {\"automargin\": true, \"gridcolor\": \"white\", \"linecolor\": \"white\", \"ticks\": \"\", \"title\": {\"standoff\": 15}, \"zerolinecolor\": \"white\", \"zerolinewidth\": 2}}}, \"yaxis\": {\"type\": \"log\"}},\n",
       "                        {\"responsive\": true}\n",
       "                    ).then(function(){\n",
       "                            \n",
       "var gd = document.getElementById('0d152fb6-e001-44aa-a710-02eb4c948460');\n",
       "var x = new MutationObserver(function (mutations, observer) {{\n",
       "        var display = window.getComputedStyle(gd).display;\n",
       "        if (!display || display === 'none') {{\n",
       "            console.log([gd, 'removed!']);\n",
       "            Plotly.purge(gd);\n",
       "            observer.disconnect();\n",
       "        }}\n",
       "}});\n",
       "\n",
       "// Listen for the removal of the full notebook cells\n",
       "var notebookContainer = gd.closest('#notebook-container');\n",
       "if (notebookContainer) {{\n",
       "    x.observe(notebookContainer, {childList: true});\n",
       "}}\n",
       "\n",
       "// Listen for the clearing of the current output cell\n",
       "var outputEl = gd.closest('.output');\n",
       "if (outputEl) {{\n",
       "    x.observe(outputEl, {childList: true});\n",
       "}}\n",
       "\n",
       "                        })\n",
       "                };\n",
       "                });\n",
       "            </script>\n",
       "        </div>"
      ]
     },
     "metadata": {},
     "output_type": "display_data"
    },
    {
     "data": {
      "text/plain": []
     },
     "execution_count": 350,
     "metadata": {},
     "output_type": "execute_result"
    }
   ],
   "source": [
    "dynamic"
   ]
  },
  {
   "cell_type": "code",
   "execution_count": 361,
   "metadata": {},
   "outputs": [
    {
     "data": {
      "application/vnd.plotly.v1+json": {
       "config": {
        "plotlyServerURL": "https://plot.ly"
       },
       "data": [
        {
         "hovertemplate": "%{y}",
         "name": "Susceptible",
         "type": "scatter",
         "x": [
          0,
          1,
          2,
          3,
          4,
          5,
          6,
          7,
          8,
          9,
          10,
          11,
          12,
          13,
          14,
          15,
          16,
          17,
          18,
          19,
          20,
          21,
          22,
          23,
          24,
          25,
          26,
          27,
          28,
          29,
          30,
          31,
          32,
          33,
          34,
          35,
          36,
          37,
          38,
          39,
          40,
          41,
          42,
          43,
          44,
          45,
          46,
          47,
          48,
          49,
          50,
          51,
          52,
          53,
          54,
          55,
          56,
          57,
          58,
          59,
          60,
          61,
          62,
          63,
          64,
          65,
          66,
          67,
          68,
          69,
          70,
          71,
          72,
          73,
          74,
          75,
          76,
          77,
          78,
          79,
          80,
          81,
          82,
          83,
          84,
          85,
          86,
          87,
          88,
          89,
          90
         ],
         "y": [
          990,
          988,
          985,
          983,
          981,
          978,
          975,
          972,
          968,
          964,
          959,
          953,
          947,
          939,
          931,
          922,
          912,
          900,
          887,
          870,
          851,
          831,
          808,
          783,
          756,
          726,
          695,
          662,
          628,
          594,
          559,
          525,
          493,
          460,
          427,
          397,
          369,
          343,
          319,
          297,
          278,
          262,
          250,
          240,
          230,
          222,
          214,
          208,
          203,
          198,
          193,
          189,
          185,
          182,
          179,
          176,
          174,
          171,
          169,
          168,
          166,
          165,
          163,
          162,
          162,
          161,
          160,
          159,
          159,
          158,
          157,
          157,
          156,
          156,
          155,
          155,
          155,
          154,
          154,
          154,
          154,
          153,
          153,
          153,
          153,
          153,
          152,
          152,
          152,
          152,
          152
         ]
        },
        {
         "hovertemplate": "%{y}",
         "name": "Infectious",
         "type": "scatter",
         "x": [
          0,
          1,
          2,
          3,
          4,
          5,
          6,
          7,
          8,
          9,
          10,
          11,
          12,
          13,
          14,
          15,
          16,
          17,
          18,
          19,
          20,
          21,
          22,
          23,
          24,
          25,
          26,
          27,
          28,
          29,
          30,
          31,
          32,
          33,
          34,
          35,
          36,
          37,
          38,
          39,
          40,
          41,
          42,
          43,
          44,
          45,
          46,
          47,
          48,
          49,
          50,
          51,
          52,
          53,
          54,
          55,
          56,
          57,
          58,
          59,
          60,
          61,
          62,
          63,
          64,
          65,
          66,
          67,
          68,
          69,
          70,
          71,
          72,
          73,
          74,
          75,
          76,
          77,
          78,
          79,
          80,
          81,
          82,
          83,
          84,
          85,
          86,
          87,
          88,
          89,
          90
         ],
         "y": [
          10,
          10,
          11,
          12,
          14,
          15,
          16,
          18,
          19,
          21,
          24,
          27,
          31,
          35,
          39,
          44,
          50,
          56,
          63,
          73,
          84,
          95,
          108,
          122,
          136,
          151,
          166,
          181,
          196,
          209,
          222,
          232,
          239,
          247,
          253,
          256,
          258,
          256,
          252,
          247,
          240,
          230,
          218,
          205,
          192,
          180,
          168,
          157,
          146,
          135,
          125,
          116,
          107,
          99,
          92,
          85,
          78,
          72,
          66,
          61,
          56,
          51,
          47,
          43,
          39,
          36,
          33,
          30,
          27,
          25,
          23,
          21,
          19,
          17,
          16,
          15,
          13,
          12,
          11,
          10,
          9,
          8,
          8,
          7,
          6,
          6,
          5,
          5,
          4,
          4,
          4
         ]
        },
        {
         "hovertemplate": "%{y}",
         "name": "Removed",
         "type": "scatter",
         "x": [
          0,
          1,
          2,
          3,
          4,
          5,
          6,
          7,
          8,
          9,
          10,
          11,
          12,
          13,
          14,
          15,
          16,
          17,
          18,
          19,
          20,
          21,
          22,
          23,
          24,
          25,
          26,
          27,
          28,
          29,
          30,
          31,
          32,
          33,
          34,
          35,
          36,
          37,
          38,
          39,
          40,
          41,
          42,
          43,
          44,
          45,
          46,
          47,
          48,
          49,
          50,
          51,
          52,
          53,
          54,
          55,
          56,
          57,
          58,
          59,
          60,
          61,
          62,
          63,
          64,
          65,
          66,
          67,
          68,
          69,
          70,
          71,
          72,
          73,
          74,
          75,
          76,
          77,
          78,
          79,
          80,
          81,
          82,
          83,
          84,
          85,
          86,
          87,
          88,
          89,
          90
         ],
         "y": [
          0,
          1,
          2,
          3,
          4,
          6,
          7,
          9,
          11,
          13,
          16,
          18,
          21,
          24,
          28,
          32,
          37,
          43,
          49,
          55,
          63,
          72,
          82,
          94,
          107,
          121,
          138,
          155,
          175,
          195,
          218,
          241,
          266,
          292,
          318,
          345,
          372,
          400,
          427,
          454,
          481,
          506,
          531,
          554,
          576,
          596,
          616,
          634,
          650,
          666,
          680,
          694,
          706,
          718,
          728,
          738,
          747,
          755,
          763,
          770,
          777,
          783,
          788,
          793,
          798,
          802,
          806,
          809,
          813,
          816,
          818,
          821,
          823,
          825,
          827,
          829,
          830,
          832,
          833,
          834,
          836,
          837,
          838,
          838,
          839,
          840,
          841,
          841,
          842,
          842,
          843
         ]
        },
        {
         "hovertemplate": "%{y}",
         "marker": {
          "symbol": 1
         },
         "mode": "markers",
         "name": "Guessed",
         "type": "scatter",
         "x": [
          10,
          20,
          30,
          40,
          50,
          60,
          70,
          80,
          90
         ],
         "y": [
          0,
          100,
          200,
          300,
          100,
          100,
          0,
          0,
          0
         ]
        }
       ],
       "layout": {
        "margin": {
         "b": 0,
         "l": 0,
         "r": 0,
         "t": 25
        },
        "template": {
         "data": {
          "bar": [
           {
            "error_x": {
             "color": "#2a3f5f"
            },
            "error_y": {
             "color": "#2a3f5f"
            },
            "marker": {
             "line": {
              "color": "#E5ECF6",
              "width": 0.5
             }
            },
            "type": "bar"
           }
          ],
          "barpolar": [
           {
            "marker": {
             "line": {
              "color": "#E5ECF6",
              "width": 0.5
             }
            },
            "type": "barpolar"
           }
          ],
          "carpet": [
           {
            "aaxis": {
             "endlinecolor": "#2a3f5f",
             "gridcolor": "white",
             "linecolor": "white",
             "minorgridcolor": "white",
             "startlinecolor": "#2a3f5f"
            },
            "baxis": {
             "endlinecolor": "#2a3f5f",
             "gridcolor": "white",
             "linecolor": "white",
             "minorgridcolor": "white",
             "startlinecolor": "#2a3f5f"
            },
            "type": "carpet"
           }
          ],
          "choropleth": [
           {
            "colorbar": {
             "outlinewidth": 0,
             "ticks": ""
            },
            "type": "choropleth"
           }
          ],
          "contour": [
           {
            "colorbar": {
             "outlinewidth": 0,
             "ticks": ""
            },
            "colorscale": [
             [
              0,
              "#0d0887"
             ],
             [
              0.1111111111111111,
              "#46039f"
             ],
             [
              0.2222222222222222,
              "#7201a8"
             ],
             [
              0.3333333333333333,
              "#9c179e"
             ],
             [
              0.4444444444444444,
              "#bd3786"
             ],
             [
              0.5555555555555556,
              "#d8576b"
             ],
             [
              0.6666666666666666,
              "#ed7953"
             ],
             [
              0.7777777777777778,
              "#fb9f3a"
             ],
             [
              0.8888888888888888,
              "#fdca26"
             ],
             [
              1,
              "#f0f921"
             ]
            ],
            "type": "contour"
           }
          ],
          "contourcarpet": [
           {
            "colorbar": {
             "outlinewidth": 0,
             "ticks": ""
            },
            "type": "contourcarpet"
           }
          ],
          "heatmap": [
           {
            "colorbar": {
             "outlinewidth": 0,
             "ticks": ""
            },
            "colorscale": [
             [
              0,
              "#0d0887"
             ],
             [
              0.1111111111111111,
              "#46039f"
             ],
             [
              0.2222222222222222,
              "#7201a8"
             ],
             [
              0.3333333333333333,
              "#9c179e"
             ],
             [
              0.4444444444444444,
              "#bd3786"
             ],
             [
              0.5555555555555556,
              "#d8576b"
             ],
             [
              0.6666666666666666,
              "#ed7953"
             ],
             [
              0.7777777777777778,
              "#fb9f3a"
             ],
             [
              0.8888888888888888,
              "#fdca26"
             ],
             [
              1,
              "#f0f921"
             ]
            ],
            "type": "heatmap"
           }
          ],
          "heatmapgl": [
           {
            "colorbar": {
             "outlinewidth": 0,
             "ticks": ""
            },
            "colorscale": [
             [
              0,
              "#0d0887"
             ],
             [
              0.1111111111111111,
              "#46039f"
             ],
             [
              0.2222222222222222,
              "#7201a8"
             ],
             [
              0.3333333333333333,
              "#9c179e"
             ],
             [
              0.4444444444444444,
              "#bd3786"
             ],
             [
              0.5555555555555556,
              "#d8576b"
             ],
             [
              0.6666666666666666,
              "#ed7953"
             ],
             [
              0.7777777777777778,
              "#fb9f3a"
             ],
             [
              0.8888888888888888,
              "#fdca26"
             ],
             [
              1,
              "#f0f921"
             ]
            ],
            "type": "heatmapgl"
           }
          ],
          "histogram": [
           {
            "marker": {
             "colorbar": {
              "outlinewidth": 0,
              "ticks": ""
             }
            },
            "type": "histogram"
           }
          ],
          "histogram2d": [
           {
            "colorbar": {
             "outlinewidth": 0,
             "ticks": ""
            },
            "colorscale": [
             [
              0,
              "#0d0887"
             ],
             [
              0.1111111111111111,
              "#46039f"
             ],
             [
              0.2222222222222222,
              "#7201a8"
             ],
             [
              0.3333333333333333,
              "#9c179e"
             ],
             [
              0.4444444444444444,
              "#bd3786"
             ],
             [
              0.5555555555555556,
              "#d8576b"
             ],
             [
              0.6666666666666666,
              "#ed7953"
             ],
             [
              0.7777777777777778,
              "#fb9f3a"
             ],
             [
              0.8888888888888888,
              "#fdca26"
             ],
             [
              1,
              "#f0f921"
             ]
            ],
            "type": "histogram2d"
           }
          ],
          "histogram2dcontour": [
           {
            "colorbar": {
             "outlinewidth": 0,
             "ticks": ""
            },
            "colorscale": [
             [
              0,
              "#0d0887"
             ],
             [
              0.1111111111111111,
              "#46039f"
             ],
             [
              0.2222222222222222,
              "#7201a8"
             ],
             [
              0.3333333333333333,
              "#9c179e"
             ],
             [
              0.4444444444444444,
              "#bd3786"
             ],
             [
              0.5555555555555556,
              "#d8576b"
             ],
             [
              0.6666666666666666,
              "#ed7953"
             ],
             [
              0.7777777777777778,
              "#fb9f3a"
             ],
             [
              0.8888888888888888,
              "#fdca26"
             ],
             [
              1,
              "#f0f921"
             ]
            ],
            "type": "histogram2dcontour"
           }
          ],
          "mesh3d": [
           {
            "colorbar": {
             "outlinewidth": 0,
             "ticks": ""
            },
            "type": "mesh3d"
           }
          ],
          "parcoords": [
           {
            "line": {
             "colorbar": {
              "outlinewidth": 0,
              "ticks": ""
             }
            },
            "type": "parcoords"
           }
          ],
          "pie": [
           {
            "automargin": true,
            "type": "pie"
           }
          ],
          "scatter": [
           {
            "marker": {
             "colorbar": {
              "outlinewidth": 0,
              "ticks": ""
             }
            },
            "type": "scatter"
           }
          ],
          "scatter3d": [
           {
            "line": {
             "colorbar": {
              "outlinewidth": 0,
              "ticks": ""
             }
            },
            "marker": {
             "colorbar": {
              "outlinewidth": 0,
              "ticks": ""
             }
            },
            "type": "scatter3d"
           }
          ],
          "scattercarpet": [
           {
            "marker": {
             "colorbar": {
              "outlinewidth": 0,
              "ticks": ""
             }
            },
            "type": "scattercarpet"
           }
          ],
          "scattergeo": [
           {
            "marker": {
             "colorbar": {
              "outlinewidth": 0,
              "ticks": ""
             }
            },
            "type": "scattergeo"
           }
          ],
          "scattergl": [
           {
            "marker": {
             "colorbar": {
              "outlinewidth": 0,
              "ticks": ""
             }
            },
            "type": "scattergl"
           }
          ],
          "scattermapbox": [
           {
            "marker": {
             "colorbar": {
              "outlinewidth": 0,
              "ticks": ""
             }
            },
            "type": "scattermapbox"
           }
          ],
          "scatterpolar": [
           {
            "marker": {
             "colorbar": {
              "outlinewidth": 0,
              "ticks": ""
             }
            },
            "type": "scatterpolar"
           }
          ],
          "scatterpolargl": [
           {
            "marker": {
             "colorbar": {
              "outlinewidth": 0,
              "ticks": ""
             }
            },
            "type": "scatterpolargl"
           }
          ],
          "scatterternary": [
           {
            "marker": {
             "colorbar": {
              "outlinewidth": 0,
              "ticks": ""
             }
            },
            "type": "scatterternary"
           }
          ],
          "surface": [
           {
            "colorbar": {
             "outlinewidth": 0,
             "ticks": ""
            },
            "colorscale": [
             [
              0,
              "#0d0887"
             ],
             [
              0.1111111111111111,
              "#46039f"
             ],
             [
              0.2222222222222222,
              "#7201a8"
             ],
             [
              0.3333333333333333,
              "#9c179e"
             ],
             [
              0.4444444444444444,
              "#bd3786"
             ],
             [
              0.5555555555555556,
              "#d8576b"
             ],
             [
              0.6666666666666666,
              "#ed7953"
             ],
             [
              0.7777777777777778,
              "#fb9f3a"
             ],
             [
              0.8888888888888888,
              "#fdca26"
             ],
             [
              1,
              "#f0f921"
             ]
            ],
            "type": "surface"
           }
          ],
          "table": [
           {
            "cells": {
             "fill": {
              "color": "#EBF0F8"
             },
             "line": {
              "color": "white"
             }
            },
            "header": {
             "fill": {
              "color": "#C8D4E3"
             },
             "line": {
              "color": "white"
             }
            },
            "type": "table"
           }
          ]
         },
         "layout": {
          "annotationdefaults": {
           "arrowcolor": "#2a3f5f",
           "arrowhead": 0,
           "arrowwidth": 1
          },
          "coloraxis": {
           "colorbar": {
            "outlinewidth": 0,
            "ticks": ""
           }
          },
          "colorscale": {
           "diverging": [
            [
             0,
             "#8e0152"
            ],
            [
             0.1,
             "#c51b7d"
            ],
            [
             0.2,
             "#de77ae"
            ],
            [
             0.3,
             "#f1b6da"
            ],
            [
             0.4,
             "#fde0ef"
            ],
            [
             0.5,
             "#f7f7f7"
            ],
            [
             0.6,
             "#e6f5d0"
            ],
            [
             0.7,
             "#b8e186"
            ],
            [
             0.8,
             "#7fbc41"
            ],
            [
             0.9,
             "#4d9221"
            ],
            [
             1,
             "#276419"
            ]
           ],
           "sequential": [
            [
             0,
             "#0d0887"
            ],
            [
             0.1111111111111111,
             "#46039f"
            ],
            [
             0.2222222222222222,
             "#7201a8"
            ],
            [
             0.3333333333333333,
             "#9c179e"
            ],
            [
             0.4444444444444444,
             "#bd3786"
            ],
            [
             0.5555555555555556,
             "#d8576b"
            ],
            [
             0.6666666666666666,
             "#ed7953"
            ],
            [
             0.7777777777777778,
             "#fb9f3a"
            ],
            [
             0.8888888888888888,
             "#fdca26"
            ],
            [
             1,
             "#f0f921"
            ]
           ],
           "sequentialminus": [
            [
             0,
             "#0d0887"
            ],
            [
             0.1111111111111111,
             "#46039f"
            ],
            [
             0.2222222222222222,
             "#7201a8"
            ],
            [
             0.3333333333333333,
             "#9c179e"
            ],
            [
             0.4444444444444444,
             "#bd3786"
            ],
            [
             0.5555555555555556,
             "#d8576b"
            ],
            [
             0.6666666666666666,
             "#ed7953"
            ],
            [
             0.7777777777777778,
             "#fb9f3a"
            ],
            [
             0.8888888888888888,
             "#fdca26"
            ],
            [
             1,
             "#f0f921"
            ]
           ]
          },
          "colorway": [
           "#636efa",
           "#EF553B",
           "#00cc96",
           "#ab63fa",
           "#FFA15A",
           "#19d3f3",
           "#FF6692",
           "#B6E880",
           "#FF97FF",
           "#FECB52"
          ],
          "font": {
           "color": "#2a3f5f"
          },
          "geo": {
           "bgcolor": "white",
           "lakecolor": "white",
           "landcolor": "#E5ECF6",
           "showlakes": true,
           "showland": true,
           "subunitcolor": "white"
          },
          "hoverlabel": {
           "align": "left"
          },
          "hovermode": "closest",
          "mapbox": {
           "style": "light"
          },
          "paper_bgcolor": "white",
          "plot_bgcolor": "#E5ECF6",
          "polar": {
           "angularaxis": {
            "gridcolor": "white",
            "linecolor": "white",
            "ticks": ""
           },
           "bgcolor": "#E5ECF6",
           "radialaxis": {
            "gridcolor": "white",
            "linecolor": "white",
            "ticks": ""
           }
          },
          "scene": {
           "xaxis": {
            "backgroundcolor": "#E5ECF6",
            "gridcolor": "white",
            "gridwidth": 2,
            "linecolor": "white",
            "showbackground": true,
            "ticks": "",
            "zerolinecolor": "white"
           },
           "yaxis": {
            "backgroundcolor": "#E5ECF6",
            "gridcolor": "white",
            "gridwidth": 2,
            "linecolor": "white",
            "showbackground": true,
            "ticks": "",
            "zerolinecolor": "white"
           },
           "zaxis": {
            "backgroundcolor": "#E5ECF6",
            "gridcolor": "white",
            "gridwidth": 2,
            "linecolor": "white",
            "showbackground": true,
            "ticks": "",
            "zerolinecolor": "white"
           }
          },
          "shapedefaults": {
           "line": {
            "color": "#2a3f5f"
           }
          },
          "ternary": {
           "aaxis": {
            "gridcolor": "white",
            "linecolor": "white",
            "ticks": ""
           },
           "baxis": {
            "gridcolor": "white",
            "linecolor": "white",
            "ticks": ""
           },
           "bgcolor": "#E5ECF6",
           "caxis": {
            "gridcolor": "white",
            "linecolor": "white",
            "ticks": ""
           }
          },
          "title": {
           "x": 0.05
          },
          "xaxis": {
           "automargin": true,
           "gridcolor": "white",
           "linecolor": "white",
           "ticks": "",
           "title": {
            "standoff": 15
           },
           "zerolinecolor": "white",
           "zerolinewidth": 2
          },
          "yaxis": {
           "automargin": true,
           "gridcolor": "white",
           "linecolor": "white",
           "ticks": "",
           "title": {
            "standoff": 15
           },
           "zerolinecolor": "white",
           "zerolinewidth": 2
          }
         }
        }
       }
      },
      "text/html": [
       "<div>\n",
       "        \n",
       "        \n",
       "            <div id=\"e22cb0b3-6a5c-453a-b11c-1c24de24b18d\" class=\"plotly-graph-div\" style=\"height:525px; width:100%;\"></div>\n",
       "            <script type=\"text/javascript\">\n",
       "                require([\"plotly\"], function(Plotly) {\n",
       "                    window.PLOTLYENV=window.PLOTLYENV || {};\n",
       "                    \n",
       "                if (document.getElementById(\"e22cb0b3-6a5c-453a-b11c-1c24de24b18d\")) {\n",
       "                    Plotly.newPlot(\n",
       "                        'e22cb0b3-6a5c-453a-b11c-1c24de24b18d',\n",
       "                        [{\"hovertemplate\": \"%{y}\", \"name\": \"Susceptible\", \"type\": \"scatter\", \"x\": [0, 1, 2, 3, 4, 5, 6, 7, 8, 9, 10, 11, 12, 13, 14, 15, 16, 17, 18, 19, 20, 21, 22, 23, 24, 25, 26, 27, 28, 29, 30, 31, 32, 33, 34, 35, 36, 37, 38, 39, 40, 41, 42, 43, 44, 45, 46, 47, 48, 49, 50, 51, 52, 53, 54, 55, 56, 57, 58, 59, 60, 61, 62, 63, 64, 65, 66, 67, 68, 69, 70, 71, 72, 73, 74, 75, 76, 77, 78, 79, 80, 81, 82, 83, 84, 85, 86, 87, 88, 89, 90], \"y\": [990, 988, 985, 983, 981, 978, 975, 972, 968, 964, 959, 953, 947, 939, 931, 922, 912, 900, 887, 870, 851, 831, 808, 783, 756, 726, 695, 662, 628, 594, 559, 525, 493, 460, 427, 397, 369, 343, 319, 297, 278, 262, 250, 240, 230, 222, 214, 208, 203, 198, 193, 189, 185, 182, 179, 176, 174, 171, 169, 168, 166, 165, 163, 162, 162, 161, 160, 159, 159, 158, 157, 157, 156, 156, 155, 155, 155, 154, 154, 154, 154, 153, 153, 153, 153, 153, 152, 152, 152, 152, 152]}, {\"hovertemplate\": \"%{y}\", \"name\": \"Infectious\", \"type\": \"scatter\", \"x\": [0, 1, 2, 3, 4, 5, 6, 7, 8, 9, 10, 11, 12, 13, 14, 15, 16, 17, 18, 19, 20, 21, 22, 23, 24, 25, 26, 27, 28, 29, 30, 31, 32, 33, 34, 35, 36, 37, 38, 39, 40, 41, 42, 43, 44, 45, 46, 47, 48, 49, 50, 51, 52, 53, 54, 55, 56, 57, 58, 59, 60, 61, 62, 63, 64, 65, 66, 67, 68, 69, 70, 71, 72, 73, 74, 75, 76, 77, 78, 79, 80, 81, 82, 83, 84, 85, 86, 87, 88, 89, 90], \"y\": [10, 10, 11, 12, 14, 15, 16, 18, 19, 21, 24, 27, 31, 35, 39, 44, 50, 56, 63, 73, 84, 95, 108, 122, 136, 151, 166, 181, 196, 209, 222, 232, 239, 247, 253, 256, 258, 256, 252, 247, 240, 230, 218, 205, 192, 180, 168, 157, 146, 135, 125, 116, 107, 99, 92, 85, 78, 72, 66, 61, 56, 51, 47, 43, 39, 36, 33, 30, 27, 25, 23, 21, 19, 17, 16, 15, 13, 12, 11, 10, 9, 8, 8, 7, 6, 6, 5, 5, 4, 4, 4]}, {\"hovertemplate\": \"%{y}\", \"name\": \"Removed\", \"type\": \"scatter\", \"x\": [0, 1, 2, 3, 4, 5, 6, 7, 8, 9, 10, 11, 12, 13, 14, 15, 16, 17, 18, 19, 20, 21, 22, 23, 24, 25, 26, 27, 28, 29, 30, 31, 32, 33, 34, 35, 36, 37, 38, 39, 40, 41, 42, 43, 44, 45, 46, 47, 48, 49, 50, 51, 52, 53, 54, 55, 56, 57, 58, 59, 60, 61, 62, 63, 64, 65, 66, 67, 68, 69, 70, 71, 72, 73, 74, 75, 76, 77, 78, 79, 80, 81, 82, 83, 84, 85, 86, 87, 88, 89, 90], \"y\": [0, 1, 2, 3, 4, 6, 7, 9, 11, 13, 16, 18, 21, 24, 28, 32, 37, 43, 49, 55, 63, 72, 82, 94, 107, 121, 138, 155, 175, 195, 218, 241, 266, 292, 318, 345, 372, 400, 427, 454, 481, 506, 531, 554, 576, 596, 616, 634, 650, 666, 680, 694, 706, 718, 728, 738, 747, 755, 763, 770, 777, 783, 788, 793, 798, 802, 806, 809, 813, 816, 818, 821, 823, 825, 827, 829, 830, 832, 833, 834, 836, 837, 838, 838, 839, 840, 841, 841, 842, 842, 843]}, {\"hovertemplate\": \"%{y}\", \"marker\": {\"symbol\": 1}, \"mode\": \"markers\", \"name\": \"Guessed\", \"type\": \"scatter\", \"x\": [10, 20, 30, 40, 50, 60, 70, 80, 90], \"y\": [0.0, 100.0, 200.0, 300.0, 100.0, 100.0, 0.0, 0.0, 0.0]}],\n",
       "                        {\"margin\": {\"b\": 0, \"l\": 0, \"r\": 0, \"t\": 25}, \"template\": {\"data\": {\"bar\": [{\"error_x\": {\"color\": \"#2a3f5f\"}, \"error_y\": {\"color\": \"#2a3f5f\"}, \"marker\": {\"line\": {\"color\": \"#E5ECF6\", \"width\": 0.5}}, \"type\": \"bar\"}], \"barpolar\": [{\"marker\": {\"line\": {\"color\": \"#E5ECF6\", \"width\": 0.5}}, \"type\": \"barpolar\"}], \"carpet\": [{\"aaxis\": {\"endlinecolor\": \"#2a3f5f\", \"gridcolor\": \"white\", \"linecolor\": \"white\", \"minorgridcolor\": \"white\", \"startlinecolor\": \"#2a3f5f\"}, \"baxis\": {\"endlinecolor\": \"#2a3f5f\", \"gridcolor\": \"white\", \"linecolor\": \"white\", \"minorgridcolor\": \"white\", \"startlinecolor\": \"#2a3f5f\"}, \"type\": \"carpet\"}], \"choropleth\": [{\"colorbar\": {\"outlinewidth\": 0, \"ticks\": \"\"}, \"type\": \"choropleth\"}], \"contour\": [{\"colorbar\": {\"outlinewidth\": 0, \"ticks\": \"\"}, \"colorscale\": [[0.0, \"#0d0887\"], [0.1111111111111111, \"#46039f\"], [0.2222222222222222, \"#7201a8\"], [0.3333333333333333, \"#9c179e\"], [0.4444444444444444, \"#bd3786\"], [0.5555555555555556, \"#d8576b\"], [0.6666666666666666, \"#ed7953\"], [0.7777777777777778, \"#fb9f3a\"], [0.8888888888888888, \"#fdca26\"], [1.0, \"#f0f921\"]], \"type\": \"contour\"}], \"contourcarpet\": [{\"colorbar\": {\"outlinewidth\": 0, \"ticks\": \"\"}, \"type\": \"contourcarpet\"}], \"heatmap\": [{\"colorbar\": {\"outlinewidth\": 0, \"ticks\": \"\"}, \"colorscale\": [[0.0, \"#0d0887\"], [0.1111111111111111, \"#46039f\"], [0.2222222222222222, \"#7201a8\"], [0.3333333333333333, \"#9c179e\"], [0.4444444444444444, \"#bd3786\"], [0.5555555555555556, \"#d8576b\"], [0.6666666666666666, \"#ed7953\"], [0.7777777777777778, \"#fb9f3a\"], [0.8888888888888888, \"#fdca26\"], [1.0, \"#f0f921\"]], \"type\": \"heatmap\"}], \"heatmapgl\": [{\"colorbar\": {\"outlinewidth\": 0, \"ticks\": \"\"}, \"colorscale\": [[0.0, \"#0d0887\"], [0.1111111111111111, \"#46039f\"], [0.2222222222222222, \"#7201a8\"], [0.3333333333333333, \"#9c179e\"], [0.4444444444444444, \"#bd3786\"], [0.5555555555555556, \"#d8576b\"], [0.6666666666666666, \"#ed7953\"], [0.7777777777777778, \"#fb9f3a\"], [0.8888888888888888, \"#fdca26\"], [1.0, \"#f0f921\"]], \"type\": \"heatmapgl\"}], \"histogram\": [{\"marker\": {\"colorbar\": {\"outlinewidth\": 0, \"ticks\": \"\"}}, \"type\": \"histogram\"}], \"histogram2d\": [{\"colorbar\": {\"outlinewidth\": 0, \"ticks\": \"\"}, \"colorscale\": [[0.0, \"#0d0887\"], [0.1111111111111111, \"#46039f\"], [0.2222222222222222, \"#7201a8\"], [0.3333333333333333, \"#9c179e\"], [0.4444444444444444, \"#bd3786\"], [0.5555555555555556, \"#d8576b\"], [0.6666666666666666, \"#ed7953\"], [0.7777777777777778, \"#fb9f3a\"], [0.8888888888888888, \"#fdca26\"], [1.0, \"#f0f921\"]], \"type\": \"histogram2d\"}], \"histogram2dcontour\": [{\"colorbar\": {\"outlinewidth\": 0, \"ticks\": \"\"}, \"colorscale\": [[0.0, \"#0d0887\"], [0.1111111111111111, \"#46039f\"], [0.2222222222222222, \"#7201a8\"], [0.3333333333333333, \"#9c179e\"], [0.4444444444444444, \"#bd3786\"], [0.5555555555555556, \"#d8576b\"], [0.6666666666666666, \"#ed7953\"], [0.7777777777777778, \"#fb9f3a\"], [0.8888888888888888, \"#fdca26\"], [1.0, \"#f0f921\"]], \"type\": \"histogram2dcontour\"}], \"mesh3d\": [{\"colorbar\": {\"outlinewidth\": 0, \"ticks\": \"\"}, \"type\": \"mesh3d\"}], \"parcoords\": [{\"line\": {\"colorbar\": {\"outlinewidth\": 0, \"ticks\": \"\"}}, \"type\": \"parcoords\"}], \"pie\": [{\"automargin\": true, \"type\": \"pie\"}], \"scatter\": [{\"marker\": {\"colorbar\": {\"outlinewidth\": 0, \"ticks\": \"\"}}, \"type\": \"scatter\"}], \"scatter3d\": [{\"line\": {\"colorbar\": {\"outlinewidth\": 0, \"ticks\": \"\"}}, \"marker\": {\"colorbar\": {\"outlinewidth\": 0, \"ticks\": \"\"}}, \"type\": \"scatter3d\"}], \"scattercarpet\": [{\"marker\": {\"colorbar\": {\"outlinewidth\": 0, \"ticks\": \"\"}}, \"type\": \"scattercarpet\"}], \"scattergeo\": [{\"marker\": {\"colorbar\": {\"outlinewidth\": 0, \"ticks\": \"\"}}, \"type\": \"scattergeo\"}], \"scattergl\": [{\"marker\": {\"colorbar\": {\"outlinewidth\": 0, \"ticks\": \"\"}}, \"type\": \"scattergl\"}], \"scattermapbox\": [{\"marker\": {\"colorbar\": {\"outlinewidth\": 0, \"ticks\": \"\"}}, \"type\": \"scattermapbox\"}], \"scatterpolar\": [{\"marker\": {\"colorbar\": {\"outlinewidth\": 0, \"ticks\": \"\"}}, \"type\": \"scatterpolar\"}], \"scatterpolargl\": [{\"marker\": {\"colorbar\": {\"outlinewidth\": 0, \"ticks\": \"\"}}, \"type\": \"scatterpolargl\"}], \"scatterternary\": [{\"marker\": {\"colorbar\": {\"outlinewidth\": 0, \"ticks\": \"\"}}, \"type\": \"scatterternary\"}], \"surface\": [{\"colorbar\": {\"outlinewidth\": 0, \"ticks\": \"\"}, \"colorscale\": [[0.0, \"#0d0887\"], [0.1111111111111111, \"#46039f\"], [0.2222222222222222, \"#7201a8\"], [0.3333333333333333, \"#9c179e\"], [0.4444444444444444, \"#bd3786\"], [0.5555555555555556, \"#d8576b\"], [0.6666666666666666, \"#ed7953\"], [0.7777777777777778, \"#fb9f3a\"], [0.8888888888888888, \"#fdca26\"], [1.0, \"#f0f921\"]], \"type\": \"surface\"}], \"table\": [{\"cells\": {\"fill\": {\"color\": \"#EBF0F8\"}, \"line\": {\"color\": \"white\"}}, \"header\": {\"fill\": {\"color\": \"#C8D4E3\"}, \"line\": {\"color\": \"white\"}}, \"type\": \"table\"}]}, \"layout\": {\"annotationdefaults\": {\"arrowcolor\": \"#2a3f5f\", \"arrowhead\": 0, \"arrowwidth\": 1}, \"coloraxis\": {\"colorbar\": {\"outlinewidth\": 0, \"ticks\": \"\"}}, \"colorscale\": {\"diverging\": [[0, \"#8e0152\"], [0.1, \"#c51b7d\"], [0.2, \"#de77ae\"], [0.3, \"#f1b6da\"], [0.4, \"#fde0ef\"], [0.5, \"#f7f7f7\"], [0.6, \"#e6f5d0\"], [0.7, \"#b8e186\"], [0.8, \"#7fbc41\"], [0.9, \"#4d9221\"], [1, \"#276419\"]], \"sequential\": [[0.0, \"#0d0887\"], [0.1111111111111111, \"#46039f\"], [0.2222222222222222, \"#7201a8\"], [0.3333333333333333, \"#9c179e\"], [0.4444444444444444, \"#bd3786\"], [0.5555555555555556, \"#d8576b\"], [0.6666666666666666, \"#ed7953\"], [0.7777777777777778, \"#fb9f3a\"], [0.8888888888888888, \"#fdca26\"], [1.0, \"#f0f921\"]], \"sequentialminus\": [[0.0, \"#0d0887\"], [0.1111111111111111, \"#46039f\"], [0.2222222222222222, \"#7201a8\"], [0.3333333333333333, \"#9c179e\"], [0.4444444444444444, \"#bd3786\"], [0.5555555555555556, \"#d8576b\"], [0.6666666666666666, \"#ed7953\"], [0.7777777777777778, \"#fb9f3a\"], [0.8888888888888888, \"#fdca26\"], [1.0, \"#f0f921\"]]}, \"colorway\": [\"#636efa\", \"#EF553B\", \"#00cc96\", \"#ab63fa\", \"#FFA15A\", \"#19d3f3\", \"#FF6692\", \"#B6E880\", \"#FF97FF\", \"#FECB52\"], \"font\": {\"color\": \"#2a3f5f\"}, \"geo\": {\"bgcolor\": \"white\", \"lakecolor\": \"white\", \"landcolor\": \"#E5ECF6\", \"showlakes\": true, \"showland\": true, \"subunitcolor\": \"white\"}, \"hoverlabel\": {\"align\": \"left\"}, \"hovermode\": \"closest\", \"mapbox\": {\"style\": \"light\"}, \"paper_bgcolor\": \"white\", \"plot_bgcolor\": \"#E5ECF6\", \"polar\": {\"angularaxis\": {\"gridcolor\": \"white\", \"linecolor\": \"white\", \"ticks\": \"\"}, \"bgcolor\": \"#E5ECF6\", \"radialaxis\": {\"gridcolor\": \"white\", \"linecolor\": \"white\", \"ticks\": \"\"}}, \"scene\": {\"xaxis\": {\"backgroundcolor\": \"#E5ECF6\", \"gridcolor\": \"white\", \"gridwidth\": 2, \"linecolor\": \"white\", \"showbackground\": true, \"ticks\": \"\", \"zerolinecolor\": \"white\"}, \"yaxis\": {\"backgroundcolor\": \"#E5ECF6\", \"gridcolor\": \"white\", \"gridwidth\": 2, \"linecolor\": \"white\", \"showbackground\": true, \"ticks\": \"\", \"zerolinecolor\": \"white\"}, \"zaxis\": {\"backgroundcolor\": \"#E5ECF6\", \"gridcolor\": \"white\", \"gridwidth\": 2, \"linecolor\": \"white\", \"showbackground\": true, \"ticks\": \"\", \"zerolinecolor\": \"white\"}}, \"shapedefaults\": {\"line\": {\"color\": \"#2a3f5f\"}}, \"ternary\": {\"aaxis\": {\"gridcolor\": \"white\", \"linecolor\": \"white\", \"ticks\": \"\"}, \"baxis\": {\"gridcolor\": \"white\", \"linecolor\": \"white\", \"ticks\": \"\"}, \"bgcolor\": \"#E5ECF6\", \"caxis\": {\"gridcolor\": \"white\", \"linecolor\": \"white\", \"ticks\": \"\"}}, \"title\": {\"x\": 0.05}, \"xaxis\": {\"automargin\": true, \"gridcolor\": \"white\", \"linecolor\": \"white\", \"ticks\": \"\", \"title\": {\"standoff\": 15}, \"zerolinecolor\": \"white\", \"zerolinewidth\": 2}, \"yaxis\": {\"automargin\": true, \"gridcolor\": \"white\", \"linecolor\": \"white\", \"ticks\": \"\", \"title\": {\"standoff\": 15}, \"zerolinecolor\": \"white\", \"zerolinewidth\": 2}}}},\n",
       "                        {\"responsive\": true}\n",
       "                    ).then(function(){\n",
       "                            \n",
       "var gd = document.getElementById('e22cb0b3-6a5c-453a-b11c-1c24de24b18d');\n",
       "var x = new MutationObserver(function (mutations, observer) {{\n",
       "        var display = window.getComputedStyle(gd).display;\n",
       "        if (!display || display === 'none') {{\n",
       "            console.log([gd, 'removed!']);\n",
       "            Plotly.purge(gd);\n",
       "            observer.disconnect();\n",
       "        }}\n",
       "}});\n",
       "\n",
       "// Listen for the removal of the full notebook cells\n",
       "var notebookContainer = gd.closest('#notebook-container');\n",
       "if (notebookContainer) {{\n",
       "    x.observe(notebookContainer, {childList: true});\n",
       "}}\n",
       "\n",
       "// Listen for the clearing of the current output cell\n",
       "var outputEl = gd.closest('.output');\n",
       "if (outputEl) {{\n",
       "    x.observe(outputEl, {childList: true});\n",
       "}}\n",
       "\n",
       "                        })\n",
       "                };\n",
       "                });\n",
       "            </script>\n",
       "        </div>"
      ]
     },
     "metadata": {},
     "output_type": "display_data"
    }
   ],
   "source": [
    "fig = SIRt.plot(b.dynamic.estimate(city))\n",
    "sample.plot(fig)"
   ]
  },
  {
   "cell_type": "code",
   "execution_count": 346,
   "metadata": {},
   "outputs": [
    {
     "data": {
      "application/vnd.plotly.v1+json": {
       "config": {
        "plotlyServerURL": "https://plot.ly"
       },
       "data": [
        {
         "hovertemplate": "%{y}",
         "name": "Susceptible",
         "type": "scatter",
         "x": [
          0,
          1,
          2,
          3,
          4,
          5,
          6,
          7,
          8,
          9,
          10,
          11,
          12,
          13,
          14,
          15,
          16,
          17,
          18,
          19,
          20,
          21,
          22,
          23,
          24,
          25,
          26,
          27,
          28,
          29,
          30,
          31,
          32,
          33,
          34,
          35,
          36,
          37,
          38,
          39,
          40,
          41,
          42,
          43,
          44,
          45,
          46,
          47,
          48,
          49,
          50,
          51,
          52,
          53,
          54,
          55,
          56,
          57,
          58,
          59,
          60,
          61,
          62,
          63,
          64,
          65,
          66,
          67,
          68,
          69,
          70,
          71,
          72,
          73,
          74,
          75,
          76,
          77,
          78,
          79,
          80,
          81,
          82,
          83,
          84,
          85,
          86,
          87,
          88,
          89,
          90,
          91,
          92,
          93,
          94,
          95,
          96,
          97,
          98,
          99,
          100
         ],
         "y": [
          990,
          988,
          985,
          983,
          980,
          978,
          974,
          971,
          967,
          962,
          956,
          949,
          942,
          934,
          925,
          915,
          904,
          891,
          878,
          863,
          846,
          828,
          809,
          788,
          766,
          742,
          712,
          680,
          647,
          611,
          575,
          538,
          502,
          458,
          416,
          375,
          336,
          301,
          269,
          240,
          215,
          193,
          177,
          164,
          152,
          142,
          133,
          128,
          124,
          120,
          116,
          114,
          112,
          110,
          108,
          107,
          105,
          104,
          103,
          102,
          101,
          100,
          99,
          99,
          98,
          98,
          97,
          97,
          96,
          96,
          96,
          96,
          95,
          95,
          95,
          95,
          95,
          94,
          94,
          94,
          94,
          94,
          94,
          94,
          94,
          93,
          93,
          93,
          93,
          93,
          93,
          93,
          93,
          93,
          93,
          93,
          93,
          93,
          93,
          93,
          93
         ]
        },
        {
         "hovertemplate": "%{y}",
         "name": "Infectious",
         "type": "scatter",
         "x": [
          0,
          1,
          2,
          3,
          4,
          5,
          6,
          7,
          8,
          9,
          10,
          11,
          12,
          13,
          14,
          15,
          16,
          17,
          18,
          19,
          20,
          21,
          22,
          23,
          24,
          25,
          26,
          27,
          28,
          29,
          30,
          31,
          32,
          33,
          34,
          35,
          36,
          37,
          38,
          39,
          40,
          41,
          42,
          43,
          44,
          45,
          46,
          47,
          48,
          49,
          50,
          51,
          52,
          53,
          54,
          55,
          56,
          57,
          58,
          59,
          60,
          61,
          62,
          63,
          64,
          65,
          66,
          67,
          68,
          69,
          70,
          71,
          72,
          73,
          74,
          75,
          76,
          77,
          78,
          79,
          80,
          81,
          82,
          83,
          84,
          85,
          86,
          87,
          88,
          89,
          90,
          91,
          92,
          93,
          94,
          95,
          96,
          97,
          98,
          99,
          100
         ],
         "y": [
          10,
          10,
          12,
          13,
          14,
          15,
          17,
          19,
          21,
          24,
          27,
          31,
          35,
          40,
          45,
          50,
          57,
          63,
          71,
          79,
          88,
          97,
          107,
          117,
          128,
          139,
          155,
          172,
          189,
          205,
          221,
          236,
          250,
          268,
          284,
          296,
          304,
          308,
          308,
          304,
          297,
          287,
          272,
          257,
          241,
          226,
          211,
          193,
          177,
          162,
          148,
          134,
          122,
          111,
          100,
          91,
          82,
          75,
          68,
          62,
          56,
          51,
          47,
          42,
          39,
          35,
          32,
          29,
          27,
          24,
          22,
          20,
          18,
          17,
          15,
          14,
          12,
          11,
          10,
          9,
          8,
          8,
          7,
          6,
          6,
          5,
          5,
          4,
          4,
          3,
          3,
          3,
          2,
          2,
          2,
          2,
          1,
          1,
          1,
          1,
          1
         ]
        },
        {
         "hovertemplate": "%{y}",
         "name": "Removed",
         "type": "scatter",
         "x": [
          0,
          1,
          2,
          3,
          4,
          5,
          6,
          7,
          8,
          9,
          10,
          11,
          12,
          13,
          14,
          15,
          16,
          17,
          18,
          19,
          20,
          21,
          22,
          23,
          24,
          25,
          26,
          27,
          28,
          29,
          30,
          31,
          32,
          33,
          34,
          35,
          36,
          37,
          38,
          39,
          40,
          41,
          42,
          43,
          44,
          45,
          46,
          47,
          48,
          49,
          50,
          51,
          52,
          53,
          54,
          55,
          56,
          57,
          58,
          59,
          60,
          61,
          62,
          63,
          64,
          65,
          66,
          67,
          68,
          69,
          70,
          71,
          72,
          73,
          74,
          75,
          76,
          77,
          78,
          79,
          80,
          81,
          82,
          83,
          84,
          85,
          86,
          87,
          88,
          89,
          90,
          91,
          92,
          93,
          94,
          95,
          96,
          97,
          98,
          99,
          100
         ],
         "y": [
          0,
          1,
          2,
          3,
          4,
          6,
          7,
          9,
          11,
          13,
          15,
          18,
          21,
          25,
          29,
          33,
          38,
          44,
          50,
          57,
          65,
          73,
          83,
          93,
          105,
          117,
          131,
          146,
          163,
          182,
          202,
          224,
          247,
          272,
          299,
          328,
          358,
          390,
          422,
          455,
          487,
          518,
          549,
          578,
          605,
          631,
          655,
          677,
          698,
          717,
          734,
          750,
          765,
          778,
          790,
          801,
          811,
          820,
          828,
          835,
          841,
          847,
          853,
          857,
          862,
          866,
          869,
          872,
          875,
          878,
          881,
          883,
          885,
          887,
          888,
          890,
          892,
          893,
          894,
          895,
          896,
          897,
          898,
          899,
          899,
          900,
          901,
          901,
          902,
          902,
          902,
          903,
          903,
          903,
          904,
          904,
          904,
          904,
          904,
          905,
          905
         ]
        },
        {
         "hovertemplate": "%{y}",
         "marker": {
          "symbol": 1
         },
         "mode": "markers",
         "name": "Guessed",
         "type": "scatter",
         "x": [
          10,
          20,
          30,
          40,
          50,
          60,
          70,
          80,
          90
         ],
         "y": [
          0,
          100,
          200,
          300,
          100,
          100,
          0,
          0,
          0
         ]
        }
       ],
       "layout": {
        "margin": {
         "b": 0,
         "l": 0,
         "r": 0,
         "t": 25
        },
        "template": {
         "data": {
          "bar": [
           {
            "error_x": {
             "color": "#2a3f5f"
            },
            "error_y": {
             "color": "#2a3f5f"
            },
            "marker": {
             "line": {
              "color": "#E5ECF6",
              "width": 0.5
             }
            },
            "type": "bar"
           }
          ],
          "barpolar": [
           {
            "marker": {
             "line": {
              "color": "#E5ECF6",
              "width": 0.5
             }
            },
            "type": "barpolar"
           }
          ],
          "carpet": [
           {
            "aaxis": {
             "endlinecolor": "#2a3f5f",
             "gridcolor": "white",
             "linecolor": "white",
             "minorgridcolor": "white",
             "startlinecolor": "#2a3f5f"
            },
            "baxis": {
             "endlinecolor": "#2a3f5f",
             "gridcolor": "white",
             "linecolor": "white",
             "minorgridcolor": "white",
             "startlinecolor": "#2a3f5f"
            },
            "type": "carpet"
           }
          ],
          "choropleth": [
           {
            "colorbar": {
             "outlinewidth": 0,
             "ticks": ""
            },
            "type": "choropleth"
           }
          ],
          "contour": [
           {
            "colorbar": {
             "outlinewidth": 0,
             "ticks": ""
            },
            "colorscale": [
             [
              0,
              "#0d0887"
             ],
             [
              0.1111111111111111,
              "#46039f"
             ],
             [
              0.2222222222222222,
              "#7201a8"
             ],
             [
              0.3333333333333333,
              "#9c179e"
             ],
             [
              0.4444444444444444,
              "#bd3786"
             ],
             [
              0.5555555555555556,
              "#d8576b"
             ],
             [
              0.6666666666666666,
              "#ed7953"
             ],
             [
              0.7777777777777778,
              "#fb9f3a"
             ],
             [
              0.8888888888888888,
              "#fdca26"
             ],
             [
              1,
              "#f0f921"
             ]
            ],
            "type": "contour"
           }
          ],
          "contourcarpet": [
           {
            "colorbar": {
             "outlinewidth": 0,
             "ticks": ""
            },
            "type": "contourcarpet"
           }
          ],
          "heatmap": [
           {
            "colorbar": {
             "outlinewidth": 0,
             "ticks": ""
            },
            "colorscale": [
             [
              0,
              "#0d0887"
             ],
             [
              0.1111111111111111,
              "#46039f"
             ],
             [
              0.2222222222222222,
              "#7201a8"
             ],
             [
              0.3333333333333333,
              "#9c179e"
             ],
             [
              0.4444444444444444,
              "#bd3786"
             ],
             [
              0.5555555555555556,
              "#d8576b"
             ],
             [
              0.6666666666666666,
              "#ed7953"
             ],
             [
              0.7777777777777778,
              "#fb9f3a"
             ],
             [
              0.8888888888888888,
              "#fdca26"
             ],
             [
              1,
              "#f0f921"
             ]
            ],
            "type": "heatmap"
           }
          ],
          "heatmapgl": [
           {
            "colorbar": {
             "outlinewidth": 0,
             "ticks": ""
            },
            "colorscale": [
             [
              0,
              "#0d0887"
             ],
             [
              0.1111111111111111,
              "#46039f"
             ],
             [
              0.2222222222222222,
              "#7201a8"
             ],
             [
              0.3333333333333333,
              "#9c179e"
             ],
             [
              0.4444444444444444,
              "#bd3786"
             ],
             [
              0.5555555555555556,
              "#d8576b"
             ],
             [
              0.6666666666666666,
              "#ed7953"
             ],
             [
              0.7777777777777778,
              "#fb9f3a"
             ],
             [
              0.8888888888888888,
              "#fdca26"
             ],
             [
              1,
              "#f0f921"
             ]
            ],
            "type": "heatmapgl"
           }
          ],
          "histogram": [
           {
            "marker": {
             "colorbar": {
              "outlinewidth": 0,
              "ticks": ""
             }
            },
            "type": "histogram"
           }
          ],
          "histogram2d": [
           {
            "colorbar": {
             "outlinewidth": 0,
             "ticks": ""
            },
            "colorscale": [
             [
              0,
              "#0d0887"
             ],
             [
              0.1111111111111111,
              "#46039f"
             ],
             [
              0.2222222222222222,
              "#7201a8"
             ],
             [
              0.3333333333333333,
              "#9c179e"
             ],
             [
              0.4444444444444444,
              "#bd3786"
             ],
             [
              0.5555555555555556,
              "#d8576b"
             ],
             [
              0.6666666666666666,
              "#ed7953"
             ],
             [
              0.7777777777777778,
              "#fb9f3a"
             ],
             [
              0.8888888888888888,
              "#fdca26"
             ],
             [
              1,
              "#f0f921"
             ]
            ],
            "type": "histogram2d"
           }
          ],
          "histogram2dcontour": [
           {
            "colorbar": {
             "outlinewidth": 0,
             "ticks": ""
            },
            "colorscale": [
             [
              0,
              "#0d0887"
             ],
             [
              0.1111111111111111,
              "#46039f"
             ],
             [
              0.2222222222222222,
              "#7201a8"
             ],
             [
              0.3333333333333333,
              "#9c179e"
             ],
             [
              0.4444444444444444,
              "#bd3786"
             ],
             [
              0.5555555555555556,
              "#d8576b"
             ],
             [
              0.6666666666666666,
              "#ed7953"
             ],
             [
              0.7777777777777778,
              "#fb9f3a"
             ],
             [
              0.8888888888888888,
              "#fdca26"
             ],
             [
              1,
              "#f0f921"
             ]
            ],
            "type": "histogram2dcontour"
           }
          ],
          "mesh3d": [
           {
            "colorbar": {
             "outlinewidth": 0,
             "ticks": ""
            },
            "type": "mesh3d"
           }
          ],
          "parcoords": [
           {
            "line": {
             "colorbar": {
              "outlinewidth": 0,
              "ticks": ""
             }
            },
            "type": "parcoords"
           }
          ],
          "pie": [
           {
            "automargin": true,
            "type": "pie"
           }
          ],
          "scatter": [
           {
            "marker": {
             "colorbar": {
              "outlinewidth": 0,
              "ticks": ""
             }
            },
            "type": "scatter"
           }
          ],
          "scatter3d": [
           {
            "line": {
             "colorbar": {
              "outlinewidth": 0,
              "ticks": ""
             }
            },
            "marker": {
             "colorbar": {
              "outlinewidth": 0,
              "ticks": ""
             }
            },
            "type": "scatter3d"
           }
          ],
          "scattercarpet": [
           {
            "marker": {
             "colorbar": {
              "outlinewidth": 0,
              "ticks": ""
             }
            },
            "type": "scattercarpet"
           }
          ],
          "scattergeo": [
           {
            "marker": {
             "colorbar": {
              "outlinewidth": 0,
              "ticks": ""
             }
            },
            "type": "scattergeo"
           }
          ],
          "scattergl": [
           {
            "marker": {
             "colorbar": {
              "outlinewidth": 0,
              "ticks": ""
             }
            },
            "type": "scattergl"
           }
          ],
          "scattermapbox": [
           {
            "marker": {
             "colorbar": {
              "outlinewidth": 0,
              "ticks": ""
             }
            },
            "type": "scattermapbox"
           }
          ],
          "scatterpolar": [
           {
            "marker": {
             "colorbar": {
              "outlinewidth": 0,
              "ticks": ""
             }
            },
            "type": "scatterpolar"
           }
          ],
          "scatterpolargl": [
           {
            "marker": {
             "colorbar": {
              "outlinewidth": 0,
              "ticks": ""
             }
            },
            "type": "scatterpolargl"
           }
          ],
          "scatterternary": [
           {
            "marker": {
             "colorbar": {
              "outlinewidth": 0,
              "ticks": ""
             }
            },
            "type": "scatterternary"
           }
          ],
          "surface": [
           {
            "colorbar": {
             "outlinewidth": 0,
             "ticks": ""
            },
            "colorscale": [
             [
              0,
              "#0d0887"
             ],
             [
              0.1111111111111111,
              "#46039f"
             ],
             [
              0.2222222222222222,
              "#7201a8"
             ],
             [
              0.3333333333333333,
              "#9c179e"
             ],
             [
              0.4444444444444444,
              "#bd3786"
             ],
             [
              0.5555555555555556,
              "#d8576b"
             ],
             [
              0.6666666666666666,
              "#ed7953"
             ],
             [
              0.7777777777777778,
              "#fb9f3a"
             ],
             [
              0.8888888888888888,
              "#fdca26"
             ],
             [
              1,
              "#f0f921"
             ]
            ],
            "type": "surface"
           }
          ],
          "table": [
           {
            "cells": {
             "fill": {
              "color": "#EBF0F8"
             },
             "line": {
              "color": "white"
             }
            },
            "header": {
             "fill": {
              "color": "#C8D4E3"
             },
             "line": {
              "color": "white"
             }
            },
            "type": "table"
           }
          ]
         },
         "layout": {
          "annotationdefaults": {
           "arrowcolor": "#2a3f5f",
           "arrowhead": 0,
           "arrowwidth": 1
          },
          "coloraxis": {
           "colorbar": {
            "outlinewidth": 0,
            "ticks": ""
           }
          },
          "colorscale": {
           "diverging": [
            [
             0,
             "#8e0152"
            ],
            [
             0.1,
             "#c51b7d"
            ],
            [
             0.2,
             "#de77ae"
            ],
            [
             0.3,
             "#f1b6da"
            ],
            [
             0.4,
             "#fde0ef"
            ],
            [
             0.5,
             "#f7f7f7"
            ],
            [
             0.6,
             "#e6f5d0"
            ],
            [
             0.7,
             "#b8e186"
            ],
            [
             0.8,
             "#7fbc41"
            ],
            [
             0.9,
             "#4d9221"
            ],
            [
             1,
             "#276419"
            ]
           ],
           "sequential": [
            [
             0,
             "#0d0887"
            ],
            [
             0.1111111111111111,
             "#46039f"
            ],
            [
             0.2222222222222222,
             "#7201a8"
            ],
            [
             0.3333333333333333,
             "#9c179e"
            ],
            [
             0.4444444444444444,
             "#bd3786"
            ],
            [
             0.5555555555555556,
             "#d8576b"
            ],
            [
             0.6666666666666666,
             "#ed7953"
            ],
            [
             0.7777777777777778,
             "#fb9f3a"
            ],
            [
             0.8888888888888888,
             "#fdca26"
            ],
            [
             1,
             "#f0f921"
            ]
           ],
           "sequentialminus": [
            [
             0,
             "#0d0887"
            ],
            [
             0.1111111111111111,
             "#46039f"
            ],
            [
             0.2222222222222222,
             "#7201a8"
            ],
            [
             0.3333333333333333,
             "#9c179e"
            ],
            [
             0.4444444444444444,
             "#bd3786"
            ],
            [
             0.5555555555555556,
             "#d8576b"
            ],
            [
             0.6666666666666666,
             "#ed7953"
            ],
            [
             0.7777777777777778,
             "#fb9f3a"
            ],
            [
             0.8888888888888888,
             "#fdca26"
            ],
            [
             1,
             "#f0f921"
            ]
           ]
          },
          "colorway": [
           "#636efa",
           "#EF553B",
           "#00cc96",
           "#ab63fa",
           "#FFA15A",
           "#19d3f3",
           "#FF6692",
           "#B6E880",
           "#FF97FF",
           "#FECB52"
          ],
          "font": {
           "color": "#2a3f5f"
          },
          "geo": {
           "bgcolor": "white",
           "lakecolor": "white",
           "landcolor": "#E5ECF6",
           "showlakes": true,
           "showland": true,
           "subunitcolor": "white"
          },
          "hoverlabel": {
           "align": "left"
          },
          "hovermode": "closest",
          "mapbox": {
           "style": "light"
          },
          "paper_bgcolor": "white",
          "plot_bgcolor": "#E5ECF6",
          "polar": {
           "angularaxis": {
            "gridcolor": "white",
            "linecolor": "white",
            "ticks": ""
           },
           "bgcolor": "#E5ECF6",
           "radialaxis": {
            "gridcolor": "white",
            "linecolor": "white",
            "ticks": ""
           }
          },
          "scene": {
           "xaxis": {
            "backgroundcolor": "#E5ECF6",
            "gridcolor": "white",
            "gridwidth": 2,
            "linecolor": "white",
            "showbackground": true,
            "ticks": "",
            "zerolinecolor": "white"
           },
           "yaxis": {
            "backgroundcolor": "#E5ECF6",
            "gridcolor": "white",
            "gridwidth": 2,
            "linecolor": "white",
            "showbackground": true,
            "ticks": "",
            "zerolinecolor": "white"
           },
           "zaxis": {
            "backgroundcolor": "#E5ECF6",
            "gridcolor": "white",
            "gridwidth": 2,
            "linecolor": "white",
            "showbackground": true,
            "ticks": "",
            "zerolinecolor": "white"
           }
          },
          "shapedefaults": {
           "line": {
            "color": "#2a3f5f"
           }
          },
          "ternary": {
           "aaxis": {
            "gridcolor": "white",
            "linecolor": "white",
            "ticks": ""
           },
           "baxis": {
            "gridcolor": "white",
            "linecolor": "white",
            "ticks": ""
           },
           "bgcolor": "#E5ECF6",
           "caxis": {
            "gridcolor": "white",
            "linecolor": "white",
            "ticks": ""
           }
          },
          "title": {
           "x": 0.05
          },
          "xaxis": {
           "automargin": true,
           "gridcolor": "white",
           "linecolor": "white",
           "ticks": "",
           "title": {
            "standoff": 15
           },
           "zerolinecolor": "white",
           "zerolinewidth": 2
          },
          "yaxis": {
           "automargin": true,
           "gridcolor": "white",
           "linecolor": "white",
           "ticks": "",
           "title": {
            "standoff": 15
           },
           "zerolinecolor": "white",
           "zerolinewidth": 2
          }
         }
        }
       }
      },
      "text/html": [
       "<div>\n",
       "        \n",
       "        \n",
       "            <div id=\"22f13c2e-e7ce-4a29-a7f9-72eea859b48a\" class=\"plotly-graph-div\" style=\"height:525px; width:100%;\"></div>\n",
       "            <script type=\"text/javascript\">\n",
       "                require([\"plotly\"], function(Plotly) {\n",
       "                    window.PLOTLYENV=window.PLOTLYENV || {};\n",
       "                    \n",
       "                if (document.getElementById(\"22f13c2e-e7ce-4a29-a7f9-72eea859b48a\")) {\n",
       "                    Plotly.newPlot(\n",
       "                        '22f13c2e-e7ce-4a29-a7f9-72eea859b48a',\n",
       "                        [{\"hovertemplate\": \"%{y}\", \"name\": \"Susceptible\", \"type\": \"scatter\", \"x\": [0, 1, 2, 3, 4, 5, 6, 7, 8, 9, 10, 11, 12, 13, 14, 15, 16, 17, 18, 19, 20, 21, 22, 23, 24, 25, 26, 27, 28, 29, 30, 31, 32, 33, 34, 35, 36, 37, 38, 39, 40, 41, 42, 43, 44, 45, 46, 47, 48, 49, 50, 51, 52, 53, 54, 55, 56, 57, 58, 59, 60, 61, 62, 63, 64, 65, 66, 67, 68, 69, 70, 71, 72, 73, 74, 75, 76, 77, 78, 79, 80, 81, 82, 83, 84, 85, 86, 87, 88, 89, 90, 91, 92, 93, 94, 95, 96, 97, 98, 99, 100], \"y\": [990, 988, 985, 983, 980, 978, 974, 971, 967, 962, 956, 949, 942, 934, 925, 915, 904, 891, 878, 863, 846, 828, 809, 788, 766, 742, 712, 680, 647, 611, 575, 538, 502, 458, 416, 375, 336, 301, 269, 240, 215, 193, 177, 164, 152, 142, 133, 128, 124, 120, 116, 114, 112, 110, 108, 107, 105, 104, 103, 102, 101, 100, 99, 99, 98, 98, 97, 97, 96, 96, 96, 96, 95, 95, 95, 95, 95, 94, 94, 94, 94, 94, 94, 94, 94, 93, 93, 93, 93, 93, 93, 93, 93, 93, 93, 93, 93, 93, 93, 93, 93]}, {\"hovertemplate\": \"%{y}\", \"name\": \"Infectious\", \"type\": \"scatter\", \"x\": [0, 1, 2, 3, 4, 5, 6, 7, 8, 9, 10, 11, 12, 13, 14, 15, 16, 17, 18, 19, 20, 21, 22, 23, 24, 25, 26, 27, 28, 29, 30, 31, 32, 33, 34, 35, 36, 37, 38, 39, 40, 41, 42, 43, 44, 45, 46, 47, 48, 49, 50, 51, 52, 53, 54, 55, 56, 57, 58, 59, 60, 61, 62, 63, 64, 65, 66, 67, 68, 69, 70, 71, 72, 73, 74, 75, 76, 77, 78, 79, 80, 81, 82, 83, 84, 85, 86, 87, 88, 89, 90, 91, 92, 93, 94, 95, 96, 97, 98, 99, 100], \"y\": [10, 10, 12, 13, 14, 15, 17, 19, 21, 24, 27, 31, 35, 40, 45, 50, 57, 63, 71, 79, 88, 97, 107, 117, 128, 139, 155, 172, 189, 205, 221, 236, 250, 268, 284, 296, 304, 308, 308, 304, 297, 287, 272, 257, 241, 226, 211, 193, 177, 162, 148, 134, 122, 111, 100, 91, 82, 75, 68, 62, 56, 51, 47, 42, 39, 35, 32, 29, 27, 24, 22, 20, 18, 17, 15, 14, 12, 11, 10, 9, 8, 8, 7, 6, 6, 5, 5, 4, 4, 3, 3, 3, 2, 2, 2, 2, 1, 1, 1, 1, 1]}, {\"hovertemplate\": \"%{y}\", \"name\": \"Removed\", \"type\": \"scatter\", \"x\": [0, 1, 2, 3, 4, 5, 6, 7, 8, 9, 10, 11, 12, 13, 14, 15, 16, 17, 18, 19, 20, 21, 22, 23, 24, 25, 26, 27, 28, 29, 30, 31, 32, 33, 34, 35, 36, 37, 38, 39, 40, 41, 42, 43, 44, 45, 46, 47, 48, 49, 50, 51, 52, 53, 54, 55, 56, 57, 58, 59, 60, 61, 62, 63, 64, 65, 66, 67, 68, 69, 70, 71, 72, 73, 74, 75, 76, 77, 78, 79, 80, 81, 82, 83, 84, 85, 86, 87, 88, 89, 90, 91, 92, 93, 94, 95, 96, 97, 98, 99, 100], \"y\": [0, 1, 2, 3, 4, 6, 7, 9, 11, 13, 15, 18, 21, 25, 29, 33, 38, 44, 50, 57, 65, 73, 83, 93, 105, 117, 131, 146, 163, 182, 202, 224, 247, 272, 299, 328, 358, 390, 422, 455, 487, 518, 549, 578, 605, 631, 655, 677, 698, 717, 734, 750, 765, 778, 790, 801, 811, 820, 828, 835, 841, 847, 853, 857, 862, 866, 869, 872, 875, 878, 881, 883, 885, 887, 888, 890, 892, 893, 894, 895, 896, 897, 898, 899, 899, 900, 901, 901, 902, 902, 902, 903, 903, 903, 904, 904, 904, 904, 904, 905, 905]}, {\"hovertemplate\": \"%{y}\", \"marker\": {\"symbol\": 1}, \"mode\": \"markers\", \"name\": \"Guessed\", \"type\": \"scatter\", \"x\": [10, 20, 30, 40, 50, 60, 70, 80, 90], \"y\": [0.0, 100.0, 200.0, 300.0, 100.0, 100.0, 0.0, 0.0, 0.0]}],\n",
       "                        {\"margin\": {\"b\": 0, \"l\": 0, \"r\": 0, \"t\": 25}, \"template\": {\"data\": {\"bar\": [{\"error_x\": {\"color\": \"#2a3f5f\"}, \"error_y\": {\"color\": \"#2a3f5f\"}, \"marker\": {\"line\": {\"color\": \"#E5ECF6\", \"width\": 0.5}}, \"type\": \"bar\"}], \"barpolar\": [{\"marker\": {\"line\": {\"color\": \"#E5ECF6\", \"width\": 0.5}}, \"type\": \"barpolar\"}], \"carpet\": [{\"aaxis\": {\"endlinecolor\": \"#2a3f5f\", \"gridcolor\": \"white\", \"linecolor\": \"white\", \"minorgridcolor\": \"white\", \"startlinecolor\": \"#2a3f5f\"}, \"baxis\": {\"endlinecolor\": \"#2a3f5f\", \"gridcolor\": \"white\", \"linecolor\": \"white\", \"minorgridcolor\": \"white\", \"startlinecolor\": \"#2a3f5f\"}, \"type\": \"carpet\"}], \"choropleth\": [{\"colorbar\": {\"outlinewidth\": 0, \"ticks\": \"\"}, \"type\": \"choropleth\"}], \"contour\": [{\"colorbar\": {\"outlinewidth\": 0, \"ticks\": \"\"}, \"colorscale\": [[0.0, \"#0d0887\"], [0.1111111111111111, \"#46039f\"], [0.2222222222222222, \"#7201a8\"], [0.3333333333333333, \"#9c179e\"], [0.4444444444444444, \"#bd3786\"], [0.5555555555555556, \"#d8576b\"], [0.6666666666666666, \"#ed7953\"], [0.7777777777777778, \"#fb9f3a\"], [0.8888888888888888, \"#fdca26\"], [1.0, \"#f0f921\"]], \"type\": \"contour\"}], \"contourcarpet\": [{\"colorbar\": {\"outlinewidth\": 0, \"ticks\": \"\"}, \"type\": \"contourcarpet\"}], \"heatmap\": [{\"colorbar\": {\"outlinewidth\": 0, \"ticks\": \"\"}, \"colorscale\": [[0.0, \"#0d0887\"], [0.1111111111111111, \"#46039f\"], [0.2222222222222222, \"#7201a8\"], [0.3333333333333333, \"#9c179e\"], [0.4444444444444444, \"#bd3786\"], [0.5555555555555556, \"#d8576b\"], [0.6666666666666666, \"#ed7953\"], [0.7777777777777778, \"#fb9f3a\"], [0.8888888888888888, \"#fdca26\"], [1.0, \"#f0f921\"]], \"type\": \"heatmap\"}], \"heatmapgl\": [{\"colorbar\": {\"outlinewidth\": 0, \"ticks\": \"\"}, \"colorscale\": [[0.0, \"#0d0887\"], [0.1111111111111111, \"#46039f\"], [0.2222222222222222, \"#7201a8\"], [0.3333333333333333, \"#9c179e\"], [0.4444444444444444, \"#bd3786\"], [0.5555555555555556, \"#d8576b\"], [0.6666666666666666, \"#ed7953\"], [0.7777777777777778, \"#fb9f3a\"], [0.8888888888888888, \"#fdca26\"], [1.0, \"#f0f921\"]], \"type\": \"heatmapgl\"}], \"histogram\": [{\"marker\": {\"colorbar\": {\"outlinewidth\": 0, \"ticks\": \"\"}}, \"type\": \"histogram\"}], \"histogram2d\": [{\"colorbar\": {\"outlinewidth\": 0, \"ticks\": \"\"}, \"colorscale\": [[0.0, \"#0d0887\"], [0.1111111111111111, \"#46039f\"], [0.2222222222222222, \"#7201a8\"], [0.3333333333333333, \"#9c179e\"], [0.4444444444444444, \"#bd3786\"], [0.5555555555555556, \"#d8576b\"], [0.6666666666666666, \"#ed7953\"], [0.7777777777777778, \"#fb9f3a\"], [0.8888888888888888, \"#fdca26\"], [1.0, \"#f0f921\"]], \"type\": \"histogram2d\"}], \"histogram2dcontour\": [{\"colorbar\": {\"outlinewidth\": 0, \"ticks\": \"\"}, \"colorscale\": [[0.0, \"#0d0887\"], [0.1111111111111111, \"#46039f\"], [0.2222222222222222, \"#7201a8\"], [0.3333333333333333, \"#9c179e\"], [0.4444444444444444, \"#bd3786\"], [0.5555555555555556, \"#d8576b\"], [0.6666666666666666, \"#ed7953\"], [0.7777777777777778, \"#fb9f3a\"], [0.8888888888888888, \"#fdca26\"], [1.0, \"#f0f921\"]], \"type\": \"histogram2dcontour\"}], \"mesh3d\": [{\"colorbar\": {\"outlinewidth\": 0, \"ticks\": \"\"}, \"type\": \"mesh3d\"}], \"parcoords\": [{\"line\": {\"colorbar\": {\"outlinewidth\": 0, \"ticks\": \"\"}}, \"type\": \"parcoords\"}], \"pie\": [{\"automargin\": true, \"type\": \"pie\"}], \"scatter\": [{\"marker\": {\"colorbar\": {\"outlinewidth\": 0, \"ticks\": \"\"}}, \"type\": \"scatter\"}], \"scatter3d\": [{\"line\": {\"colorbar\": {\"outlinewidth\": 0, \"ticks\": \"\"}}, \"marker\": {\"colorbar\": {\"outlinewidth\": 0, \"ticks\": \"\"}}, \"type\": \"scatter3d\"}], \"scattercarpet\": [{\"marker\": {\"colorbar\": {\"outlinewidth\": 0, \"ticks\": \"\"}}, \"type\": \"scattercarpet\"}], \"scattergeo\": [{\"marker\": {\"colorbar\": {\"outlinewidth\": 0, \"ticks\": \"\"}}, \"type\": \"scattergeo\"}], \"scattergl\": [{\"marker\": {\"colorbar\": {\"outlinewidth\": 0, \"ticks\": \"\"}}, \"type\": \"scattergl\"}], \"scattermapbox\": [{\"marker\": {\"colorbar\": {\"outlinewidth\": 0, \"ticks\": \"\"}}, \"type\": \"scattermapbox\"}], \"scatterpolar\": [{\"marker\": {\"colorbar\": {\"outlinewidth\": 0, \"ticks\": \"\"}}, \"type\": \"scatterpolar\"}], \"scatterpolargl\": [{\"marker\": {\"colorbar\": {\"outlinewidth\": 0, \"ticks\": \"\"}}, \"type\": \"scatterpolargl\"}], \"scatterternary\": [{\"marker\": {\"colorbar\": {\"outlinewidth\": 0, \"ticks\": \"\"}}, \"type\": \"scatterternary\"}], \"surface\": [{\"colorbar\": {\"outlinewidth\": 0, \"ticks\": \"\"}, \"colorscale\": [[0.0, \"#0d0887\"], [0.1111111111111111, \"#46039f\"], [0.2222222222222222, \"#7201a8\"], [0.3333333333333333, \"#9c179e\"], [0.4444444444444444, \"#bd3786\"], [0.5555555555555556, \"#d8576b\"], [0.6666666666666666, \"#ed7953\"], [0.7777777777777778, \"#fb9f3a\"], [0.8888888888888888, \"#fdca26\"], [1.0, \"#f0f921\"]], \"type\": \"surface\"}], \"table\": [{\"cells\": {\"fill\": {\"color\": \"#EBF0F8\"}, \"line\": {\"color\": \"white\"}}, \"header\": {\"fill\": {\"color\": \"#C8D4E3\"}, \"line\": {\"color\": \"white\"}}, \"type\": \"table\"}]}, \"layout\": {\"annotationdefaults\": {\"arrowcolor\": \"#2a3f5f\", \"arrowhead\": 0, \"arrowwidth\": 1}, \"coloraxis\": {\"colorbar\": {\"outlinewidth\": 0, \"ticks\": \"\"}}, \"colorscale\": {\"diverging\": [[0, \"#8e0152\"], [0.1, \"#c51b7d\"], [0.2, \"#de77ae\"], [0.3, \"#f1b6da\"], [0.4, \"#fde0ef\"], [0.5, \"#f7f7f7\"], [0.6, \"#e6f5d0\"], [0.7, \"#b8e186\"], [0.8, \"#7fbc41\"], [0.9, \"#4d9221\"], [1, \"#276419\"]], \"sequential\": [[0.0, \"#0d0887\"], [0.1111111111111111, \"#46039f\"], [0.2222222222222222, \"#7201a8\"], [0.3333333333333333, \"#9c179e\"], [0.4444444444444444, \"#bd3786\"], [0.5555555555555556, \"#d8576b\"], [0.6666666666666666, \"#ed7953\"], [0.7777777777777778, \"#fb9f3a\"], [0.8888888888888888, \"#fdca26\"], [1.0, \"#f0f921\"]], \"sequentialminus\": [[0.0, \"#0d0887\"], [0.1111111111111111, \"#46039f\"], [0.2222222222222222, \"#7201a8\"], [0.3333333333333333, \"#9c179e\"], [0.4444444444444444, \"#bd3786\"], [0.5555555555555556, \"#d8576b\"], [0.6666666666666666, \"#ed7953\"], [0.7777777777777778, \"#fb9f3a\"], [0.8888888888888888, \"#fdca26\"], [1.0, \"#f0f921\"]]}, \"colorway\": [\"#636efa\", \"#EF553B\", \"#00cc96\", \"#ab63fa\", \"#FFA15A\", \"#19d3f3\", \"#FF6692\", \"#B6E880\", \"#FF97FF\", \"#FECB52\"], \"font\": {\"color\": \"#2a3f5f\"}, \"geo\": {\"bgcolor\": \"white\", \"lakecolor\": \"white\", \"landcolor\": \"#E5ECF6\", \"showlakes\": true, \"showland\": true, \"subunitcolor\": \"white\"}, \"hoverlabel\": {\"align\": \"left\"}, \"hovermode\": \"closest\", \"mapbox\": {\"style\": \"light\"}, \"paper_bgcolor\": \"white\", \"plot_bgcolor\": \"#E5ECF6\", \"polar\": {\"angularaxis\": {\"gridcolor\": \"white\", \"linecolor\": \"white\", \"ticks\": \"\"}, \"bgcolor\": \"#E5ECF6\", \"radialaxis\": {\"gridcolor\": \"white\", \"linecolor\": \"white\", \"ticks\": \"\"}}, \"scene\": {\"xaxis\": {\"backgroundcolor\": \"#E5ECF6\", \"gridcolor\": \"white\", \"gridwidth\": 2, \"linecolor\": \"white\", \"showbackground\": true, \"ticks\": \"\", \"zerolinecolor\": \"white\"}, \"yaxis\": {\"backgroundcolor\": \"#E5ECF6\", \"gridcolor\": \"white\", \"gridwidth\": 2, \"linecolor\": \"white\", \"showbackground\": true, \"ticks\": \"\", \"zerolinecolor\": \"white\"}, \"zaxis\": {\"backgroundcolor\": \"#E5ECF6\", \"gridcolor\": \"white\", \"gridwidth\": 2, \"linecolor\": \"white\", \"showbackground\": true, \"ticks\": \"\", \"zerolinecolor\": \"white\"}}, \"shapedefaults\": {\"line\": {\"color\": \"#2a3f5f\"}}, \"ternary\": {\"aaxis\": {\"gridcolor\": \"white\", \"linecolor\": \"white\", \"ticks\": \"\"}, \"baxis\": {\"gridcolor\": \"white\", \"linecolor\": \"white\", \"ticks\": \"\"}, \"bgcolor\": \"#E5ECF6\", \"caxis\": {\"gridcolor\": \"white\", \"linecolor\": \"white\", \"ticks\": \"\"}}, \"title\": {\"x\": 0.05}, \"xaxis\": {\"automargin\": true, \"gridcolor\": \"white\", \"linecolor\": \"white\", \"ticks\": \"\", \"title\": {\"standoff\": 15}, \"zerolinecolor\": \"white\", \"zerolinewidth\": 2}, \"yaxis\": {\"automargin\": true, \"gridcolor\": \"white\", \"linecolor\": \"white\", \"ticks\": \"\", \"title\": {\"standoff\": 15}, \"zerolinecolor\": \"white\", \"zerolinewidth\": 2}}}},\n",
       "                        {\"responsive\": true}\n",
       "                    ).then(function(){\n",
       "                            \n",
       "var gd = document.getElementById('22f13c2e-e7ce-4a29-a7f9-72eea859b48a');\n",
       "var x = new MutationObserver(function (mutations, observer) {{\n",
       "        var display = window.getComputedStyle(gd).display;\n",
       "        if (!display || display === 'none') {{\n",
       "            console.log([gd, 'removed!']);\n",
       "            Plotly.purge(gd);\n",
       "            observer.disconnect();\n",
       "        }}\n",
       "}});\n",
       "\n",
       "// Listen for the removal of the full notebook cells\n",
       "var notebookContainer = gd.closest('#notebook-container');\n",
       "if (notebookContainer) {{\n",
       "    x.observe(notebookContainer, {childList: true});\n",
       "}}\n",
       "\n",
       "// Listen for the clearing of the current output cell\n",
       "var outputEl = gd.closest('.output');\n",
       "if (outputEl) {{\n",
       "    x.observe(outputEl, {childList: true});\n",
       "}}\n",
       "\n",
       "                        })\n",
       "                };\n",
       "                });\n",
       "            </script>\n",
       "        </div>"
      ]
     },
     "metadata": {},
     "output_type": "display_data"
    }
   ],
   "source": [
    "fig = SIRt.plot(epidemic)\n",
    "sample.plot(fig)"
   ]
  },
  {
   "cell_type": "code",
   "execution_count": 399,
   "metadata": {},
   "outputs": [
    {
     "name": "stdout",
     "output_type": "stream",
     "text": [
      "-3.1986397737053562\n"
     ]
    },
    {
     "data": {
      "application/vnd.plotly.v1+json": {
       "config": {
        "plotlyServerURL": "https://plot.ly"
       },
       "data": [
        {
         "hovertemplate": "%{y}",
         "line": {
          "shape": "hv"
         },
         "name": "β",
         "type": "scatter",
         "x": [
          0,
          1,
          2,
          3,
          4,
          5,
          6,
          7,
          8,
          9,
          10,
          11,
          12,
          13,
          14,
          15,
          16,
          17,
          18,
          19,
          20,
          21,
          22,
          23,
          24,
          25,
          26,
          27,
          28,
          29,
          30,
          31,
          32,
          33,
          34,
          35,
          36,
          37,
          38,
          39,
          40,
          41,
          42,
          43,
          44,
          45,
          46,
          47,
          48,
          49,
          50,
          51,
          52,
          53,
          54,
          55,
          56,
          57,
          58,
          59,
          60,
          61,
          62,
          63,
          64,
          65,
          66,
          67,
          68,
          69,
          70,
          71,
          72,
          73,
          74,
          75,
          76,
          77,
          78,
          79,
          80,
          81,
          82,
          83,
          84,
          85,
          86,
          87,
          88,
          89
         ],
         "y": [
          0.21199552885365572,
          0.1687184320984177,
          0.28228734227747937,
          0.23366777189452098,
          0.25386960641445583,
          0.211022001183404,
          0.23780500273856098,
          0.3033005182624531,
          0.14396602863353214,
          0.13937735465356807,
          0.2635379693987158,
          0.2324133849106395,
          0.17166514162946742,
          0.1892411704865265,
          0.09276692340513355,
          0.26101484864789803,
          0.39261990830385374,
          0.35412840871309786,
          0.2620837472815747,
          0.2461244728044102,
          0.32570076606707876,
          0.15817724864846427,
          0.35023917979242264,
          0.34966686529833013,
          0.3461082710489722,
          0.36324157809336977,
          0.30674921367726155,
          0.13308197315161832,
          0.1067238929859538,
          0.2159084439556008,
          0.28959895721305984,
          0.22135869422837368,
          0.15969678041928392,
          0.08187171570227589,
          0.31506010074028534,
          0.11091199075394,
          0.2249153269145696,
          0.30569561442919246,
          0.34210490239243996,
          0.33844709028912023,
          0.25373108684658185,
          0.12479011213701095,
          0.25983651709119354,
          0.27759344182852014,
          0.3496352444248593,
          0.1748446993533455,
          0.24430456439517695,
          0.1506854539111745,
          0.2310027139121978,
          0.32121586968895277,
          0.2639379552267103,
          0.1836741133206504,
          0.2429673632036371,
          0.1691043677023328,
          0.305467194610023,
          0.16882454703945565,
          0.13477157843143092,
          0.20599458123402953,
          0.286132272176902,
          0.16022040317182554,
          0.13702505091809722,
          0.13902636263102747,
          0.25014604850085376,
          0.17520508063452156,
          0.22130310853401017,
          0.2444165128819997,
          0.12168694322400334,
          0.2535320457048855,
          0.19269305018904115,
          0.1388570201005322,
          0.21663739787881747,
          0.28957215973734785,
          0.26364137680611005,
          0.1680088204404193,
          0.1744826441176343,
          0.15280178996808322,
          0.12293992166681748,
          0.18994811058187452,
          0.21222080517923417,
          0.1808932166735575,
          0.21241815227052663,
          0.16843580860404497,
          0.18569051341413062,
          0.25470362135696095,
          0.28085915635984543,
          0.1889461115590022,
          0.2178179938246409,
          0.16568721241697948,
          0.09134686063858577,
          0.19508789414051483
         ]
        },
        {
         "hovertemplate": "%{y}",
         "line": {
          "shape": "hv"
         },
         "name": "γ",
         "type": "scatter",
         "x": [
          0,
          1,
          2,
          3,
          4,
          5,
          6,
          7,
          8,
          9,
          10,
          11,
          12,
          13,
          14,
          15,
          16,
          17,
          18,
          19,
          20,
          21,
          22,
          23,
          24,
          25,
          26,
          27,
          28,
          29,
          30,
          31,
          32,
          33,
          34,
          35,
          36,
          37,
          38,
          39,
          40,
          41,
          42,
          43,
          44,
          45,
          46,
          47,
          48,
          49,
          50,
          51,
          52,
          53,
          54,
          55,
          56,
          57,
          58,
          59,
          60,
          61,
          62,
          63,
          64,
          65,
          66,
          67,
          68,
          69,
          70,
          71,
          72,
          73,
          74,
          75,
          76,
          77,
          78,
          79,
          80,
          81,
          82,
          83,
          84,
          85,
          86,
          87,
          88,
          89
         ],
         "y": [
          0.09371289993163626,
          0.09371289993163626,
          0.09371289993163626,
          0.09371289993163626,
          0.09371289993163626,
          0.09371289993163626,
          0.09371289993163626,
          0.09371289993163626,
          0.09371289993163626,
          0.09371289993163626,
          0.09371289993163626,
          0.09371289993163626,
          0.09371289993163626,
          0.09371289993163626,
          0.09371289993163626,
          0.09371289993163626,
          0.09371289993163626,
          0.09371289993163626,
          0.09371289993163626,
          0.09371289993163626,
          0.09371289993163626,
          0.09371289993163626,
          0.09371289993163626,
          0.09371289993163626,
          0.09371289993163626,
          0.09371289993163626,
          0.09371289993163626,
          0.09371289993163626,
          0.09371289993163626,
          0.09371289993163626,
          0.09371289993163626,
          0.09371289993163626,
          0.09371289993163626,
          0.09371289993163626,
          0.09371289993163626,
          0.09371289993163626,
          0.09371289993163626,
          0.09371289993163626,
          0.09371289993163626,
          0.09371289993163626,
          0.09371289993163626,
          0.09371289993163626,
          0.09371289993163626,
          0.09371289993163626,
          0.09371289993163626,
          0.09371289993163626,
          0.09371289993163626,
          0.09371289993163626,
          0.09371289993163626,
          0.09371289993163626,
          0.09371289993163626,
          0.09371289993163626,
          0.09371289993163626,
          0.09371289993163626,
          0.09371289993163626,
          0.09371289993163626,
          0.09371289993163626,
          0.09371289993163626,
          0.09371289993163626,
          0.09371289993163626,
          0.09371289993163626,
          0.09371289993163626,
          0.09371289993163626,
          0.09371289993163626,
          0.09371289993163626,
          0.09371289993163626,
          0.09371289993163626,
          0.09371289993163626,
          0.09371289993163626,
          0.09371289993163626,
          0.09371289993163626,
          0.09371289993163626,
          0.09371289993163626,
          0.09371289993163626,
          0.09371289993163626,
          0.09371289993163626,
          0.09371289993163626,
          0.09371289993163626,
          0.09371289993163626,
          0.09371289993163626,
          0.09371289993163626,
          0.09371289993163626,
          0.09371289993163626,
          0.09371289993163626,
          0.09371289993163626,
          0.09371289993163626,
          0.09371289993163626,
          0.09371289993163626,
          0.09371289993163626,
          0.09371289993163626
         ]
        }
       ],
       "layout": {
        "template": {
         "data": {
          "bar": [
           {
            "error_x": {
             "color": "#2a3f5f"
            },
            "error_y": {
             "color": "#2a3f5f"
            },
            "marker": {
             "line": {
              "color": "#E5ECF6",
              "width": 0.5
             }
            },
            "type": "bar"
           }
          ],
          "barpolar": [
           {
            "marker": {
             "line": {
              "color": "#E5ECF6",
              "width": 0.5
             }
            },
            "type": "barpolar"
           }
          ],
          "carpet": [
           {
            "aaxis": {
             "endlinecolor": "#2a3f5f",
             "gridcolor": "white",
             "linecolor": "white",
             "minorgridcolor": "white",
             "startlinecolor": "#2a3f5f"
            },
            "baxis": {
             "endlinecolor": "#2a3f5f",
             "gridcolor": "white",
             "linecolor": "white",
             "minorgridcolor": "white",
             "startlinecolor": "#2a3f5f"
            },
            "type": "carpet"
           }
          ],
          "choropleth": [
           {
            "colorbar": {
             "outlinewidth": 0,
             "ticks": ""
            },
            "type": "choropleth"
           }
          ],
          "contour": [
           {
            "colorbar": {
             "outlinewidth": 0,
             "ticks": ""
            },
            "colorscale": [
             [
              0,
              "#0d0887"
             ],
             [
              0.1111111111111111,
              "#46039f"
             ],
             [
              0.2222222222222222,
              "#7201a8"
             ],
             [
              0.3333333333333333,
              "#9c179e"
             ],
             [
              0.4444444444444444,
              "#bd3786"
             ],
             [
              0.5555555555555556,
              "#d8576b"
             ],
             [
              0.6666666666666666,
              "#ed7953"
             ],
             [
              0.7777777777777778,
              "#fb9f3a"
             ],
             [
              0.8888888888888888,
              "#fdca26"
             ],
             [
              1,
              "#f0f921"
             ]
            ],
            "type": "contour"
           }
          ],
          "contourcarpet": [
           {
            "colorbar": {
             "outlinewidth": 0,
             "ticks": ""
            },
            "type": "contourcarpet"
           }
          ],
          "heatmap": [
           {
            "colorbar": {
             "outlinewidth": 0,
             "ticks": ""
            },
            "colorscale": [
             [
              0,
              "#0d0887"
             ],
             [
              0.1111111111111111,
              "#46039f"
             ],
             [
              0.2222222222222222,
              "#7201a8"
             ],
             [
              0.3333333333333333,
              "#9c179e"
             ],
             [
              0.4444444444444444,
              "#bd3786"
             ],
             [
              0.5555555555555556,
              "#d8576b"
             ],
             [
              0.6666666666666666,
              "#ed7953"
             ],
             [
              0.7777777777777778,
              "#fb9f3a"
             ],
             [
              0.8888888888888888,
              "#fdca26"
             ],
             [
              1,
              "#f0f921"
             ]
            ],
            "type": "heatmap"
           }
          ],
          "heatmapgl": [
           {
            "colorbar": {
             "outlinewidth": 0,
             "ticks": ""
            },
            "colorscale": [
             [
              0,
              "#0d0887"
             ],
             [
              0.1111111111111111,
              "#46039f"
             ],
             [
              0.2222222222222222,
              "#7201a8"
             ],
             [
              0.3333333333333333,
              "#9c179e"
             ],
             [
              0.4444444444444444,
              "#bd3786"
             ],
             [
              0.5555555555555556,
              "#d8576b"
             ],
             [
              0.6666666666666666,
              "#ed7953"
             ],
             [
              0.7777777777777778,
              "#fb9f3a"
             ],
             [
              0.8888888888888888,
              "#fdca26"
             ],
             [
              1,
              "#f0f921"
             ]
            ],
            "type": "heatmapgl"
           }
          ],
          "histogram": [
           {
            "marker": {
             "colorbar": {
              "outlinewidth": 0,
              "ticks": ""
             }
            },
            "type": "histogram"
           }
          ],
          "histogram2d": [
           {
            "colorbar": {
             "outlinewidth": 0,
             "ticks": ""
            },
            "colorscale": [
             [
              0,
              "#0d0887"
             ],
             [
              0.1111111111111111,
              "#46039f"
             ],
             [
              0.2222222222222222,
              "#7201a8"
             ],
             [
              0.3333333333333333,
              "#9c179e"
             ],
             [
              0.4444444444444444,
              "#bd3786"
             ],
             [
              0.5555555555555556,
              "#d8576b"
             ],
             [
              0.6666666666666666,
              "#ed7953"
             ],
             [
              0.7777777777777778,
              "#fb9f3a"
             ],
             [
              0.8888888888888888,
              "#fdca26"
             ],
             [
              1,
              "#f0f921"
             ]
            ],
            "type": "histogram2d"
           }
          ],
          "histogram2dcontour": [
           {
            "colorbar": {
             "outlinewidth": 0,
             "ticks": ""
            },
            "colorscale": [
             [
              0,
              "#0d0887"
             ],
             [
              0.1111111111111111,
              "#46039f"
             ],
             [
              0.2222222222222222,
              "#7201a8"
             ],
             [
              0.3333333333333333,
              "#9c179e"
             ],
             [
              0.4444444444444444,
              "#bd3786"
             ],
             [
              0.5555555555555556,
              "#d8576b"
             ],
             [
              0.6666666666666666,
              "#ed7953"
             ],
             [
              0.7777777777777778,
              "#fb9f3a"
             ],
             [
              0.8888888888888888,
              "#fdca26"
             ],
             [
              1,
              "#f0f921"
             ]
            ],
            "type": "histogram2dcontour"
           }
          ],
          "mesh3d": [
           {
            "colorbar": {
             "outlinewidth": 0,
             "ticks": ""
            },
            "type": "mesh3d"
           }
          ],
          "parcoords": [
           {
            "line": {
             "colorbar": {
              "outlinewidth": 0,
              "ticks": ""
             }
            },
            "type": "parcoords"
           }
          ],
          "pie": [
           {
            "automargin": true,
            "type": "pie"
           }
          ],
          "scatter": [
           {
            "marker": {
             "colorbar": {
              "outlinewidth": 0,
              "ticks": ""
             }
            },
            "type": "scatter"
           }
          ],
          "scatter3d": [
           {
            "line": {
             "colorbar": {
              "outlinewidth": 0,
              "ticks": ""
             }
            },
            "marker": {
             "colorbar": {
              "outlinewidth": 0,
              "ticks": ""
             }
            },
            "type": "scatter3d"
           }
          ],
          "scattercarpet": [
           {
            "marker": {
             "colorbar": {
              "outlinewidth": 0,
              "ticks": ""
             }
            },
            "type": "scattercarpet"
           }
          ],
          "scattergeo": [
           {
            "marker": {
             "colorbar": {
              "outlinewidth": 0,
              "ticks": ""
             }
            },
            "type": "scattergeo"
           }
          ],
          "scattergl": [
           {
            "marker": {
             "colorbar": {
              "outlinewidth": 0,
              "ticks": ""
             }
            },
            "type": "scattergl"
           }
          ],
          "scattermapbox": [
           {
            "marker": {
             "colorbar": {
              "outlinewidth": 0,
              "ticks": ""
             }
            },
            "type": "scattermapbox"
           }
          ],
          "scatterpolar": [
           {
            "marker": {
             "colorbar": {
              "outlinewidth": 0,
              "ticks": ""
             }
            },
            "type": "scatterpolar"
           }
          ],
          "scatterpolargl": [
           {
            "marker": {
             "colorbar": {
              "outlinewidth": 0,
              "ticks": ""
             }
            },
            "type": "scatterpolargl"
           }
          ],
          "scatterternary": [
           {
            "marker": {
             "colorbar": {
              "outlinewidth": 0,
              "ticks": ""
             }
            },
            "type": "scatterternary"
           }
          ],
          "surface": [
           {
            "colorbar": {
             "outlinewidth": 0,
             "ticks": ""
            },
            "colorscale": [
             [
              0,
              "#0d0887"
             ],
             [
              0.1111111111111111,
              "#46039f"
             ],
             [
              0.2222222222222222,
              "#7201a8"
             ],
             [
              0.3333333333333333,
              "#9c179e"
             ],
             [
              0.4444444444444444,
              "#bd3786"
             ],
             [
              0.5555555555555556,
              "#d8576b"
             ],
             [
              0.6666666666666666,
              "#ed7953"
             ],
             [
              0.7777777777777778,
              "#fb9f3a"
             ],
             [
              0.8888888888888888,
              "#fdca26"
             ],
             [
              1,
              "#f0f921"
             ]
            ],
            "type": "surface"
           }
          ],
          "table": [
           {
            "cells": {
             "fill": {
              "color": "#EBF0F8"
             },
             "line": {
              "color": "white"
             }
            },
            "header": {
             "fill": {
              "color": "#C8D4E3"
             },
             "line": {
              "color": "white"
             }
            },
            "type": "table"
           }
          ]
         },
         "layout": {
          "annotationdefaults": {
           "arrowcolor": "#2a3f5f",
           "arrowhead": 0,
           "arrowwidth": 1
          },
          "coloraxis": {
           "colorbar": {
            "outlinewidth": 0,
            "ticks": ""
           }
          },
          "colorscale": {
           "diverging": [
            [
             0,
             "#8e0152"
            ],
            [
             0.1,
             "#c51b7d"
            ],
            [
             0.2,
             "#de77ae"
            ],
            [
             0.3,
             "#f1b6da"
            ],
            [
             0.4,
             "#fde0ef"
            ],
            [
             0.5,
             "#f7f7f7"
            ],
            [
             0.6,
             "#e6f5d0"
            ],
            [
             0.7,
             "#b8e186"
            ],
            [
             0.8,
             "#7fbc41"
            ],
            [
             0.9,
             "#4d9221"
            ],
            [
             1,
             "#276419"
            ]
           ],
           "sequential": [
            [
             0,
             "#0d0887"
            ],
            [
             0.1111111111111111,
             "#46039f"
            ],
            [
             0.2222222222222222,
             "#7201a8"
            ],
            [
             0.3333333333333333,
             "#9c179e"
            ],
            [
             0.4444444444444444,
             "#bd3786"
            ],
            [
             0.5555555555555556,
             "#d8576b"
            ],
            [
             0.6666666666666666,
             "#ed7953"
            ],
            [
             0.7777777777777778,
             "#fb9f3a"
            ],
            [
             0.8888888888888888,
             "#fdca26"
            ],
            [
             1,
             "#f0f921"
            ]
           ],
           "sequentialminus": [
            [
             0,
             "#0d0887"
            ],
            [
             0.1111111111111111,
             "#46039f"
            ],
            [
             0.2222222222222222,
             "#7201a8"
            ],
            [
             0.3333333333333333,
             "#9c179e"
            ],
            [
             0.4444444444444444,
             "#bd3786"
            ],
            [
             0.5555555555555556,
             "#d8576b"
            ],
            [
             0.6666666666666666,
             "#ed7953"
            ],
            [
             0.7777777777777778,
             "#fb9f3a"
            ],
            [
             0.8888888888888888,
             "#fdca26"
            ],
            [
             1,
             "#f0f921"
            ]
           ]
          },
          "colorway": [
           "#636efa",
           "#EF553B",
           "#00cc96",
           "#ab63fa",
           "#FFA15A",
           "#19d3f3",
           "#FF6692",
           "#B6E880",
           "#FF97FF",
           "#FECB52"
          ],
          "font": {
           "color": "#2a3f5f"
          },
          "geo": {
           "bgcolor": "white",
           "lakecolor": "white",
           "landcolor": "#E5ECF6",
           "showlakes": true,
           "showland": true,
           "subunitcolor": "white"
          },
          "hoverlabel": {
           "align": "left"
          },
          "hovermode": "closest",
          "mapbox": {
           "style": "light"
          },
          "paper_bgcolor": "white",
          "plot_bgcolor": "#E5ECF6",
          "polar": {
           "angularaxis": {
            "gridcolor": "white",
            "linecolor": "white",
            "ticks": ""
           },
           "bgcolor": "#E5ECF6",
           "radialaxis": {
            "gridcolor": "white",
            "linecolor": "white",
            "ticks": ""
           }
          },
          "scene": {
           "xaxis": {
            "backgroundcolor": "#E5ECF6",
            "gridcolor": "white",
            "gridwidth": 2,
            "linecolor": "white",
            "showbackground": true,
            "ticks": "",
            "zerolinecolor": "white"
           },
           "yaxis": {
            "backgroundcolor": "#E5ECF6",
            "gridcolor": "white",
            "gridwidth": 2,
            "linecolor": "white",
            "showbackground": true,
            "ticks": "",
            "zerolinecolor": "white"
           },
           "zaxis": {
            "backgroundcolor": "#E5ECF6",
            "gridcolor": "white",
            "gridwidth": 2,
            "linecolor": "white",
            "showbackground": true,
            "ticks": "",
            "zerolinecolor": "white"
           }
          },
          "shapedefaults": {
           "line": {
            "color": "#2a3f5f"
           }
          },
          "ternary": {
           "aaxis": {
            "gridcolor": "white",
            "linecolor": "white",
            "ticks": ""
           },
           "baxis": {
            "gridcolor": "white",
            "linecolor": "white",
            "ticks": ""
           },
           "bgcolor": "#E5ECF6",
           "caxis": {
            "gridcolor": "white",
            "linecolor": "white",
            "ticks": ""
           }
          },
          "title": {
           "x": 0.05
          },
          "xaxis": {
           "automargin": true,
           "gridcolor": "white",
           "linecolor": "white",
           "ticks": "",
           "title": {
            "standoff": 15
           },
           "zerolinecolor": "white",
           "zerolinewidth": 2
          },
          "yaxis": {
           "automargin": true,
           "gridcolor": "white",
           "linecolor": "white",
           "ticks": "",
           "title": {
            "standoff": 15
           },
           "zerolinecolor": "white",
           "zerolinewidth": 2
          }
         }
        },
        "yaxis": {
         "type": "log"
        }
       }
      },
      "text/html": [
       "<div>\n",
       "        \n",
       "        \n",
       "            <div id=\"298a72a1-64bd-4c25-b045-28fda92c49a0\" class=\"plotly-graph-div\" style=\"height:525px; width:100%;\"></div>\n",
       "            <script type=\"text/javascript\">\n",
       "                require([\"plotly\"], function(Plotly) {\n",
       "                    window.PLOTLYENV=window.PLOTLYENV || {};\n",
       "                    \n",
       "                if (document.getElementById(\"298a72a1-64bd-4c25-b045-28fda92c49a0\")) {\n",
       "                    Plotly.newPlot(\n",
       "                        '298a72a1-64bd-4c25-b045-28fda92c49a0',\n",
       "                        [{\"hovertemplate\": \"%{y}\", \"line\": {\"shape\": \"hv\"}, \"name\": \"\\u03b2\", \"type\": \"scatter\", \"x\": [0, 1, 2, 3, 4, 5, 6, 7, 8, 9, 10, 11, 12, 13, 14, 15, 16, 17, 18, 19, 20, 21, 22, 23, 24, 25, 26, 27, 28, 29, 30, 31, 32, 33, 34, 35, 36, 37, 38, 39, 40, 41, 42, 43, 44, 45, 46, 47, 48, 49, 50, 51, 52, 53, 54, 55, 56, 57, 58, 59, 60, 61, 62, 63, 64, 65, 66, 67, 68, 69, 70, 71, 72, 73, 74, 75, 76, 77, 78, 79, 80, 81, 82, 83, 84, 85, 86, 87, 88, 89], \"y\": [0.21199552885365572, 0.1687184320984177, 0.28228734227747937, 0.23366777189452098, 0.25386960641445583, 0.211022001183404, 0.23780500273856098, 0.3033005182624531, 0.14396602863353214, 0.13937735465356807, 0.2635379693987158, 0.2324133849106395, 0.17166514162946742, 0.1892411704865265, 0.09276692340513355, 0.26101484864789803, 0.39261990830385374, 0.35412840871309786, 0.2620837472815747, 0.2461244728044102, 0.32570076606707876, 0.15817724864846427, 0.35023917979242264, 0.34966686529833013, 0.3461082710489722, 0.36324157809336977, 0.30674921367726155, 0.13308197315161832, 0.1067238929859538, 0.2159084439556008, 0.28959895721305984, 0.22135869422837368, 0.15969678041928392, 0.08187171570227589, 0.31506010074028534, 0.11091199075394, 0.2249153269145696, 0.30569561442919246, 0.34210490239243996, 0.33844709028912023, 0.25373108684658185, 0.12479011213701095, 0.25983651709119354, 0.27759344182852014, 0.3496352444248593, 0.1748446993533455, 0.24430456439517695, 0.1506854539111745, 0.2310027139121978, 0.32121586968895277, 0.2639379552267103, 0.1836741133206504, 0.2429673632036371, 0.1691043677023328, 0.305467194610023, 0.16882454703945565, 0.13477157843143092, 0.20599458123402953, 0.286132272176902, 0.16022040317182554, 0.13702505091809722, 0.13902636263102747, 0.25014604850085376, 0.17520508063452156, 0.22130310853401017, 0.2444165128819997, 0.12168694322400334, 0.2535320457048855, 0.19269305018904115, 0.1388570201005322, 0.21663739787881747, 0.28957215973734785, 0.26364137680611005, 0.1680088204404193, 0.1744826441176343, 0.15280178996808322, 0.12293992166681748, 0.18994811058187452, 0.21222080517923417, 0.1808932166735575, 0.21241815227052663, 0.16843580860404497, 0.18569051341413062, 0.25470362135696095, 0.28085915635984543, 0.1889461115590022, 0.2178179938246409, 0.16568721241697948, 0.09134686063858577, 0.19508789414051483]}, {\"hovertemplate\": \"%{y}\", \"line\": {\"shape\": \"hv\"}, \"name\": \"\\u03b3\", \"type\": \"scatter\", \"x\": [0, 1, 2, 3, 4, 5, 6, 7, 8, 9, 10, 11, 12, 13, 14, 15, 16, 17, 18, 19, 20, 21, 22, 23, 24, 25, 26, 27, 28, 29, 30, 31, 32, 33, 34, 35, 36, 37, 38, 39, 40, 41, 42, 43, 44, 45, 46, 47, 48, 49, 50, 51, 52, 53, 54, 55, 56, 57, 58, 59, 60, 61, 62, 63, 64, 65, 66, 67, 68, 69, 70, 71, 72, 73, 74, 75, 76, 77, 78, 79, 80, 81, 82, 83, 84, 85, 86, 87, 88, 89], \"y\": [0.09371289993163626, 0.09371289993163626, 0.09371289993163626, 0.09371289993163626, 0.09371289993163626, 0.09371289993163626, 0.09371289993163626, 0.09371289993163626, 0.09371289993163626, 0.09371289993163626, 0.09371289993163626, 0.09371289993163626, 0.09371289993163626, 0.09371289993163626, 0.09371289993163626, 0.09371289993163626, 0.09371289993163626, 0.09371289993163626, 0.09371289993163626, 0.09371289993163626, 0.09371289993163626, 0.09371289993163626, 0.09371289993163626, 0.09371289993163626, 0.09371289993163626, 0.09371289993163626, 0.09371289993163626, 0.09371289993163626, 0.09371289993163626, 0.09371289993163626, 0.09371289993163626, 0.09371289993163626, 0.09371289993163626, 0.09371289993163626, 0.09371289993163626, 0.09371289993163626, 0.09371289993163626, 0.09371289993163626, 0.09371289993163626, 0.09371289993163626, 0.09371289993163626, 0.09371289993163626, 0.09371289993163626, 0.09371289993163626, 0.09371289993163626, 0.09371289993163626, 0.09371289993163626, 0.09371289993163626, 0.09371289993163626, 0.09371289993163626, 0.09371289993163626, 0.09371289993163626, 0.09371289993163626, 0.09371289993163626, 0.09371289993163626, 0.09371289993163626, 0.09371289993163626, 0.09371289993163626, 0.09371289993163626, 0.09371289993163626, 0.09371289993163626, 0.09371289993163626, 0.09371289993163626, 0.09371289993163626, 0.09371289993163626, 0.09371289993163626, 0.09371289993163626, 0.09371289993163626, 0.09371289993163626, 0.09371289993163626, 0.09371289993163626, 0.09371289993163626, 0.09371289993163626, 0.09371289993163626, 0.09371289993163626, 0.09371289993163626, 0.09371289993163626, 0.09371289993163626, 0.09371289993163626, 0.09371289993163626, 0.09371289993163626, 0.09371289993163626, 0.09371289993163626, 0.09371289993163626, 0.09371289993163626, 0.09371289993163626, 0.09371289993163626, 0.09371289993163626, 0.09371289993163626, 0.09371289993163626]}],\n",
       "                        {\"template\": {\"data\": {\"bar\": [{\"error_x\": {\"color\": \"#2a3f5f\"}, \"error_y\": {\"color\": \"#2a3f5f\"}, \"marker\": {\"line\": {\"color\": \"#E5ECF6\", \"width\": 0.5}}, \"type\": \"bar\"}], \"barpolar\": [{\"marker\": {\"line\": {\"color\": \"#E5ECF6\", \"width\": 0.5}}, \"type\": \"barpolar\"}], \"carpet\": [{\"aaxis\": {\"endlinecolor\": \"#2a3f5f\", \"gridcolor\": \"white\", \"linecolor\": \"white\", \"minorgridcolor\": \"white\", \"startlinecolor\": \"#2a3f5f\"}, \"baxis\": {\"endlinecolor\": \"#2a3f5f\", \"gridcolor\": \"white\", \"linecolor\": \"white\", \"minorgridcolor\": \"white\", \"startlinecolor\": \"#2a3f5f\"}, \"type\": \"carpet\"}], \"choropleth\": [{\"colorbar\": {\"outlinewidth\": 0, \"ticks\": \"\"}, \"type\": \"choropleth\"}], \"contour\": [{\"colorbar\": {\"outlinewidth\": 0, \"ticks\": \"\"}, \"colorscale\": [[0.0, \"#0d0887\"], [0.1111111111111111, \"#46039f\"], [0.2222222222222222, \"#7201a8\"], [0.3333333333333333, \"#9c179e\"], [0.4444444444444444, \"#bd3786\"], [0.5555555555555556, \"#d8576b\"], [0.6666666666666666, \"#ed7953\"], [0.7777777777777778, \"#fb9f3a\"], [0.8888888888888888, \"#fdca26\"], [1.0, \"#f0f921\"]], \"type\": \"contour\"}], \"contourcarpet\": [{\"colorbar\": {\"outlinewidth\": 0, \"ticks\": \"\"}, \"type\": \"contourcarpet\"}], \"heatmap\": [{\"colorbar\": {\"outlinewidth\": 0, \"ticks\": \"\"}, \"colorscale\": [[0.0, \"#0d0887\"], [0.1111111111111111, \"#46039f\"], [0.2222222222222222, \"#7201a8\"], [0.3333333333333333, \"#9c179e\"], [0.4444444444444444, \"#bd3786\"], [0.5555555555555556, \"#d8576b\"], [0.6666666666666666, \"#ed7953\"], [0.7777777777777778, \"#fb9f3a\"], [0.8888888888888888, \"#fdca26\"], [1.0, \"#f0f921\"]], \"type\": \"heatmap\"}], \"heatmapgl\": [{\"colorbar\": {\"outlinewidth\": 0, \"ticks\": \"\"}, \"colorscale\": [[0.0, \"#0d0887\"], [0.1111111111111111, \"#46039f\"], [0.2222222222222222, \"#7201a8\"], [0.3333333333333333, \"#9c179e\"], [0.4444444444444444, \"#bd3786\"], [0.5555555555555556, \"#d8576b\"], [0.6666666666666666, \"#ed7953\"], [0.7777777777777778, \"#fb9f3a\"], [0.8888888888888888, \"#fdca26\"], [1.0, \"#f0f921\"]], \"type\": \"heatmapgl\"}], \"histogram\": [{\"marker\": {\"colorbar\": {\"outlinewidth\": 0, \"ticks\": \"\"}}, \"type\": \"histogram\"}], \"histogram2d\": [{\"colorbar\": {\"outlinewidth\": 0, \"ticks\": \"\"}, \"colorscale\": [[0.0, \"#0d0887\"], [0.1111111111111111, \"#46039f\"], [0.2222222222222222, \"#7201a8\"], [0.3333333333333333, \"#9c179e\"], [0.4444444444444444, \"#bd3786\"], [0.5555555555555556, \"#d8576b\"], [0.6666666666666666, \"#ed7953\"], [0.7777777777777778, \"#fb9f3a\"], [0.8888888888888888, \"#fdca26\"], [1.0, \"#f0f921\"]], \"type\": \"histogram2d\"}], \"histogram2dcontour\": [{\"colorbar\": {\"outlinewidth\": 0, \"ticks\": \"\"}, \"colorscale\": [[0.0, \"#0d0887\"], [0.1111111111111111, \"#46039f\"], [0.2222222222222222, \"#7201a8\"], [0.3333333333333333, \"#9c179e\"], [0.4444444444444444, \"#bd3786\"], [0.5555555555555556, \"#d8576b\"], [0.6666666666666666, \"#ed7953\"], [0.7777777777777778, \"#fb9f3a\"], [0.8888888888888888, \"#fdca26\"], [1.0, \"#f0f921\"]], \"type\": \"histogram2dcontour\"}], \"mesh3d\": [{\"colorbar\": {\"outlinewidth\": 0, \"ticks\": \"\"}, \"type\": \"mesh3d\"}], \"parcoords\": [{\"line\": {\"colorbar\": {\"outlinewidth\": 0, \"ticks\": \"\"}}, \"type\": \"parcoords\"}], \"pie\": [{\"automargin\": true, \"type\": \"pie\"}], \"scatter\": [{\"marker\": {\"colorbar\": {\"outlinewidth\": 0, \"ticks\": \"\"}}, \"type\": \"scatter\"}], \"scatter3d\": [{\"line\": {\"colorbar\": {\"outlinewidth\": 0, \"ticks\": \"\"}}, \"marker\": {\"colorbar\": {\"outlinewidth\": 0, \"ticks\": \"\"}}, \"type\": \"scatter3d\"}], \"scattercarpet\": [{\"marker\": {\"colorbar\": {\"outlinewidth\": 0, \"ticks\": \"\"}}, \"type\": \"scattercarpet\"}], \"scattergeo\": [{\"marker\": {\"colorbar\": {\"outlinewidth\": 0, \"ticks\": \"\"}}, \"type\": \"scattergeo\"}], \"scattergl\": [{\"marker\": {\"colorbar\": {\"outlinewidth\": 0, \"ticks\": \"\"}}, \"type\": \"scattergl\"}], \"scattermapbox\": [{\"marker\": {\"colorbar\": {\"outlinewidth\": 0, \"ticks\": \"\"}}, \"type\": \"scattermapbox\"}], \"scatterpolar\": [{\"marker\": {\"colorbar\": {\"outlinewidth\": 0, \"ticks\": \"\"}}, \"type\": \"scatterpolar\"}], \"scatterpolargl\": [{\"marker\": {\"colorbar\": {\"outlinewidth\": 0, \"ticks\": \"\"}}, \"type\": \"scatterpolargl\"}], \"scatterternary\": [{\"marker\": {\"colorbar\": {\"outlinewidth\": 0, \"ticks\": \"\"}}, \"type\": \"scatterternary\"}], \"surface\": [{\"colorbar\": {\"outlinewidth\": 0, \"ticks\": \"\"}, \"colorscale\": [[0.0, \"#0d0887\"], [0.1111111111111111, \"#46039f\"], [0.2222222222222222, \"#7201a8\"], [0.3333333333333333, \"#9c179e\"], [0.4444444444444444, \"#bd3786\"], [0.5555555555555556, \"#d8576b\"], [0.6666666666666666, \"#ed7953\"], [0.7777777777777778, \"#fb9f3a\"], [0.8888888888888888, \"#fdca26\"], [1.0, \"#f0f921\"]], \"type\": \"surface\"}], \"table\": [{\"cells\": {\"fill\": {\"color\": \"#EBF0F8\"}, \"line\": {\"color\": \"white\"}}, \"header\": {\"fill\": {\"color\": \"#C8D4E3\"}, \"line\": {\"color\": \"white\"}}, \"type\": \"table\"}]}, \"layout\": {\"annotationdefaults\": {\"arrowcolor\": \"#2a3f5f\", \"arrowhead\": 0, \"arrowwidth\": 1}, \"coloraxis\": {\"colorbar\": {\"outlinewidth\": 0, \"ticks\": \"\"}}, \"colorscale\": {\"diverging\": [[0, \"#8e0152\"], [0.1, \"#c51b7d\"], [0.2, \"#de77ae\"], [0.3, \"#f1b6da\"], [0.4, \"#fde0ef\"], [0.5, \"#f7f7f7\"], [0.6, \"#e6f5d0\"], [0.7, \"#b8e186\"], [0.8, \"#7fbc41\"], [0.9, \"#4d9221\"], [1, \"#276419\"]], \"sequential\": [[0.0, \"#0d0887\"], [0.1111111111111111, \"#46039f\"], [0.2222222222222222, \"#7201a8\"], [0.3333333333333333, \"#9c179e\"], [0.4444444444444444, \"#bd3786\"], [0.5555555555555556, \"#d8576b\"], [0.6666666666666666, \"#ed7953\"], [0.7777777777777778, \"#fb9f3a\"], [0.8888888888888888, \"#fdca26\"], [1.0, \"#f0f921\"]], \"sequentialminus\": [[0.0, \"#0d0887\"], [0.1111111111111111, \"#46039f\"], [0.2222222222222222, \"#7201a8\"], [0.3333333333333333, \"#9c179e\"], [0.4444444444444444, \"#bd3786\"], [0.5555555555555556, \"#d8576b\"], [0.6666666666666666, \"#ed7953\"], [0.7777777777777778, \"#fb9f3a\"], [0.8888888888888888, \"#fdca26\"], [1.0, \"#f0f921\"]]}, \"colorway\": [\"#636efa\", \"#EF553B\", \"#00cc96\", \"#ab63fa\", \"#FFA15A\", \"#19d3f3\", \"#FF6692\", \"#B6E880\", \"#FF97FF\", \"#FECB52\"], \"font\": {\"color\": \"#2a3f5f\"}, \"geo\": {\"bgcolor\": \"white\", \"lakecolor\": \"white\", \"landcolor\": \"#E5ECF6\", \"showlakes\": true, \"showland\": true, \"subunitcolor\": \"white\"}, \"hoverlabel\": {\"align\": \"left\"}, \"hovermode\": \"closest\", \"mapbox\": {\"style\": \"light\"}, \"paper_bgcolor\": \"white\", \"plot_bgcolor\": \"#E5ECF6\", \"polar\": {\"angularaxis\": {\"gridcolor\": \"white\", \"linecolor\": \"white\", \"ticks\": \"\"}, \"bgcolor\": \"#E5ECF6\", \"radialaxis\": {\"gridcolor\": \"white\", \"linecolor\": \"white\", \"ticks\": \"\"}}, \"scene\": {\"xaxis\": {\"backgroundcolor\": \"#E5ECF6\", \"gridcolor\": \"white\", \"gridwidth\": 2, \"linecolor\": \"white\", \"showbackground\": true, \"ticks\": \"\", \"zerolinecolor\": \"white\"}, \"yaxis\": {\"backgroundcolor\": \"#E5ECF6\", \"gridcolor\": \"white\", \"gridwidth\": 2, \"linecolor\": \"white\", \"showbackground\": true, \"ticks\": \"\", \"zerolinecolor\": \"white\"}, \"zaxis\": {\"backgroundcolor\": \"#E5ECF6\", \"gridcolor\": \"white\", \"gridwidth\": 2, \"linecolor\": \"white\", \"showbackground\": true, \"ticks\": \"\", \"zerolinecolor\": \"white\"}}, \"shapedefaults\": {\"line\": {\"color\": \"#2a3f5f\"}}, \"ternary\": {\"aaxis\": {\"gridcolor\": \"white\", \"linecolor\": \"white\", \"ticks\": \"\"}, \"baxis\": {\"gridcolor\": \"white\", \"linecolor\": \"white\", \"ticks\": \"\"}, \"bgcolor\": \"#E5ECF6\", \"caxis\": {\"gridcolor\": \"white\", \"linecolor\": \"white\", \"ticks\": \"\"}}, \"title\": {\"x\": 0.05}, \"xaxis\": {\"automargin\": true, \"gridcolor\": \"white\", \"linecolor\": \"white\", \"ticks\": \"\", \"title\": {\"standoff\": 15}, \"zerolinecolor\": \"white\", \"zerolinewidth\": 2}, \"yaxis\": {\"automargin\": true, \"gridcolor\": \"white\", \"linecolor\": \"white\", \"ticks\": \"\", \"title\": {\"standoff\": 15}, \"zerolinecolor\": \"white\", \"zerolinewidth\": 2}}}, \"yaxis\": {\"type\": \"log\"}},\n",
       "                        {\"responsive\": true}\n",
       "                    ).then(function(){\n",
       "                            \n",
       "var gd = document.getElementById('298a72a1-64bd-4c25-b045-28fda92c49a0');\n",
       "var x = new MutationObserver(function (mutations, observer) {{\n",
       "        var display = window.getComputedStyle(gd).display;\n",
       "        if (!display || display === 'none') {{\n",
       "            console.log([gd, 'removed!']);\n",
       "            Plotly.purge(gd);\n",
       "            observer.disconnect();\n",
       "        }}\n",
       "}});\n",
       "\n",
       "// Listen for the removal of the full notebook cells\n",
       "var notebookContainer = gd.closest('#notebook-container');\n",
       "if (notebookContainer) {{\n",
       "    x.observe(notebookContainer, {childList: true});\n",
       "}}\n",
       "\n",
       "// Listen for the clearing of the current output cell\n",
       "var outputEl = gd.closest('.output');\n",
       "if (outputEl) {{\n",
       "    x.observe(outputEl, {childList: true});\n",
       "}}\n",
       "\n",
       "                        })\n",
       "                };\n",
       "                });\n",
       "            </script>\n",
       "        </div>"
      ]
     },
     "metadata": {},
     "output_type": "display_data"
    },
    {
     "data": {
      "text/plain": []
     },
     "execution_count": 399,
     "metadata": {},
     "output_type": "execute_result"
    }
   ],
   "source": [
    "c = InferSIRt(penalty_b=variation1, weight_b=4, algo='mcmc')\n",
    "c.fit(city, sample, method='mirror', move='u', width=0.1, N=100000, B=10000)\n",
    "print(c.loglikely)\n",
    "c.dynamic"
   ]
  },
  {
   "cell_type": "code",
   "execution_count": 400,
   "metadata": {},
   "outputs": [
    {
     "data": {
      "application/vnd.plotly.v1+json": {
       "config": {
        "plotlyServerURL": "https://plot.ly"
       },
       "data": [
        {
         "hovertemplate": "%{y}",
         "name": "Susceptible",
         "type": "scatter",
         "x": [
          0,
          1,
          2,
          3,
          4,
          5,
          6,
          7,
          8,
          9,
          10,
          11,
          12,
          13,
          14,
          15,
          16,
          17,
          18,
          19,
          20,
          21,
          22,
          23,
          24,
          25,
          26,
          27,
          28,
          29,
          30,
          31,
          32,
          33,
          34,
          35,
          36,
          37,
          38,
          39,
          40,
          41,
          42,
          43,
          44,
          45,
          46,
          47,
          48,
          49,
          50,
          51,
          52,
          53,
          54,
          55,
          56,
          57,
          58,
          59,
          60,
          61,
          62,
          63,
          64,
          65,
          66,
          67,
          68,
          69,
          70,
          71,
          72,
          73,
          74,
          75,
          76,
          77,
          78,
          79,
          80,
          81,
          82,
          83,
          84,
          85,
          86,
          87,
          88,
          89,
          90
         ],
         "y": [
          990,
          987,
          986,
          982,
          979,
          975,
          971,
          966,
          959,
          956,
          952,
          944,
          936,
          930,
          922,
          918,
          907,
          889,
          868,
          849,
          830,
          802,
          787,
          753,
          714,
          672,
          623,
          580,
          560,
          545,
          517,
          481,
          453,
          434,
          425,
          393,
          382,
          362,
          336,
          308,
          282,
          265,
          257,
          241,
          227,
          210,
          202,
          192,
          186,
          179,
          169,
          161,
          157,
          151,
          148,
          142,
          139,
          137,
          134,
          130,
          128,
          127,
          125,
          123,
          121,
          120,
          118,
          117,
          116,
          115,
          114,
          113,
          112,
          110,
          110,
          109,
          109,
          108,
          108,
          107,
          107,
          107,
          106,
          106,
          105,
          105,
          105,
          104,
          104,
          104,
          104
         ]
        },
        {
         "hovertemplate": "%{y}",
         "name": "Infectious",
         "type": "scatter",
         "x": [
          0,
          1,
          2,
          3,
          4,
          5,
          6,
          7,
          8,
          9,
          10,
          11,
          12,
          13,
          14,
          15,
          16,
          17,
          18,
          19,
          20,
          21,
          22,
          23,
          24,
          25,
          26,
          27,
          28,
          29,
          30,
          31,
          32,
          33,
          34,
          35,
          36,
          37,
          38,
          39,
          40,
          41,
          42,
          43,
          44,
          45,
          46,
          47,
          48,
          49,
          50,
          51,
          52,
          53,
          54,
          55,
          56,
          57,
          58,
          59,
          60,
          61,
          62,
          63,
          64,
          65,
          66,
          67,
          68,
          69,
          70,
          71,
          72,
          73,
          74,
          75,
          76,
          77,
          78,
          79,
          80,
          81,
          82,
          83,
          84,
          85,
          86,
          87,
          88,
          89,
          90
         ],
         "y": [
          10,
          11,
          11,
          14,
          16,
          18,
          20,
          23,
          28,
          29,
          30,
          35,
          39,
          42,
          46,
          45,
          52,
          66,
          80,
          91,
          102,
          120,
          124,
          147,
          171,
          198,
          228,
          250,
          246,
          238,
          243,
          257,
          260,
          255,
          240,
          250,
          237,
          235,
          239,
          244,
          247,
          242,
          227,
          221,
          215,
          212,
          200,
          191,
          179,
          169,
          163,
          155,
          145,
          137,
          128,
          122,
          113,
          105,
          98,
          92,
          86,
          79,
          73,
          68,
          63,
          59,
          55,
          51,
          48,
          44,
          41,
          38,
          36,
          33,
          31,
          28,
          26,
          24,
          22,
          21,
          19,
          18,
          16,
          15,
          14,
          13,
          12,
          11,
          10,
          9,
          9
         ]
        },
        {
         "hovertemplate": "%{y}",
         "name": "Removed",
         "type": "scatter",
         "x": [
          0,
          1,
          2,
          3,
          4,
          5,
          6,
          7,
          8,
          9,
          10,
          11,
          12,
          13,
          14,
          15,
          16,
          17,
          18,
          19,
          20,
          21,
          22,
          23,
          24,
          25,
          26,
          27,
          28,
          29,
          30,
          31,
          32,
          33,
          34,
          35,
          36,
          37,
          38,
          39,
          40,
          41,
          42,
          43,
          44,
          45,
          46,
          47,
          48,
          49,
          50,
          51,
          52,
          53,
          54,
          55,
          56,
          57,
          58,
          59,
          60,
          61,
          62,
          63,
          64,
          65,
          66,
          67,
          68,
          69,
          70,
          71,
          72,
          73,
          74,
          75,
          76,
          77,
          78,
          79,
          80,
          81,
          82,
          83,
          84,
          85,
          86,
          87,
          88,
          89,
          90
         ],
         "y": [
          0,
          0,
          1,
          3,
          4,
          5,
          7,
          9,
          11,
          14,
          17,
          20,
          23,
          27,
          31,
          35,
          39,
          44,
          50,
          58,
          67,
          76,
          87,
          99,
          113,
          129,
          148,
          169,
          192,
          216,
          238,
          261,
          285,
          309,
          333,
          356,
          379,
          401,
          424,
          446,
          469,
          492,
          515,
          536,
          557,
          577,
          597,
          616,
          634,
          650,
          666,
          682,
          696,
          710,
          723,
          735,
          746,
          757,
          767,
          776,
          785,
          793,
          800,
          807,
          814,
          820,
          825,
          830,
          835,
          840,
          844,
          848,
          851,
          855,
          858,
          861,
          864,
          866,
          868,
          871,
          873,
          874,
          876,
          878,
          879,
          880,
          882,
          883,
          884,
          885,
          886
         ]
        },
        {
         "hovertemplate": "%{y}",
         "marker": {
          "symbol": 1
         },
         "mode": "markers",
         "name": "Guessed",
         "type": "scatter",
         "x": [
          10,
          20,
          30,
          40,
          50,
          60,
          70,
          80,
          90
         ],
         "y": [
          0,
          100,
          200,
          300,
          100,
          100,
          0,
          0,
          0
         ]
        }
       ],
       "layout": {
        "margin": {
         "b": 0,
         "l": 0,
         "r": 0,
         "t": 25
        },
        "template": {
         "data": {
          "bar": [
           {
            "error_x": {
             "color": "#2a3f5f"
            },
            "error_y": {
             "color": "#2a3f5f"
            },
            "marker": {
             "line": {
              "color": "#E5ECF6",
              "width": 0.5
             }
            },
            "type": "bar"
           }
          ],
          "barpolar": [
           {
            "marker": {
             "line": {
              "color": "#E5ECF6",
              "width": 0.5
             }
            },
            "type": "barpolar"
           }
          ],
          "carpet": [
           {
            "aaxis": {
             "endlinecolor": "#2a3f5f",
             "gridcolor": "white",
             "linecolor": "white",
             "minorgridcolor": "white",
             "startlinecolor": "#2a3f5f"
            },
            "baxis": {
             "endlinecolor": "#2a3f5f",
             "gridcolor": "white",
             "linecolor": "white",
             "minorgridcolor": "white",
             "startlinecolor": "#2a3f5f"
            },
            "type": "carpet"
           }
          ],
          "choropleth": [
           {
            "colorbar": {
             "outlinewidth": 0,
             "ticks": ""
            },
            "type": "choropleth"
           }
          ],
          "contour": [
           {
            "colorbar": {
             "outlinewidth": 0,
             "ticks": ""
            },
            "colorscale": [
             [
              0,
              "#0d0887"
             ],
             [
              0.1111111111111111,
              "#46039f"
             ],
             [
              0.2222222222222222,
              "#7201a8"
             ],
             [
              0.3333333333333333,
              "#9c179e"
             ],
             [
              0.4444444444444444,
              "#bd3786"
             ],
             [
              0.5555555555555556,
              "#d8576b"
             ],
             [
              0.6666666666666666,
              "#ed7953"
             ],
             [
              0.7777777777777778,
              "#fb9f3a"
             ],
             [
              0.8888888888888888,
              "#fdca26"
             ],
             [
              1,
              "#f0f921"
             ]
            ],
            "type": "contour"
           }
          ],
          "contourcarpet": [
           {
            "colorbar": {
             "outlinewidth": 0,
             "ticks": ""
            },
            "type": "contourcarpet"
           }
          ],
          "heatmap": [
           {
            "colorbar": {
             "outlinewidth": 0,
             "ticks": ""
            },
            "colorscale": [
             [
              0,
              "#0d0887"
             ],
             [
              0.1111111111111111,
              "#46039f"
             ],
             [
              0.2222222222222222,
              "#7201a8"
             ],
             [
              0.3333333333333333,
              "#9c179e"
             ],
             [
              0.4444444444444444,
              "#bd3786"
             ],
             [
              0.5555555555555556,
              "#d8576b"
             ],
             [
              0.6666666666666666,
              "#ed7953"
             ],
             [
              0.7777777777777778,
              "#fb9f3a"
             ],
             [
              0.8888888888888888,
              "#fdca26"
             ],
             [
              1,
              "#f0f921"
             ]
            ],
            "type": "heatmap"
           }
          ],
          "heatmapgl": [
           {
            "colorbar": {
             "outlinewidth": 0,
             "ticks": ""
            },
            "colorscale": [
             [
              0,
              "#0d0887"
             ],
             [
              0.1111111111111111,
              "#46039f"
             ],
             [
              0.2222222222222222,
              "#7201a8"
             ],
             [
              0.3333333333333333,
              "#9c179e"
             ],
             [
              0.4444444444444444,
              "#bd3786"
             ],
             [
              0.5555555555555556,
              "#d8576b"
             ],
             [
              0.6666666666666666,
              "#ed7953"
             ],
             [
              0.7777777777777778,
              "#fb9f3a"
             ],
             [
              0.8888888888888888,
              "#fdca26"
             ],
             [
              1,
              "#f0f921"
             ]
            ],
            "type": "heatmapgl"
           }
          ],
          "histogram": [
           {
            "marker": {
             "colorbar": {
              "outlinewidth": 0,
              "ticks": ""
             }
            },
            "type": "histogram"
           }
          ],
          "histogram2d": [
           {
            "colorbar": {
             "outlinewidth": 0,
             "ticks": ""
            },
            "colorscale": [
             [
              0,
              "#0d0887"
             ],
             [
              0.1111111111111111,
              "#46039f"
             ],
             [
              0.2222222222222222,
              "#7201a8"
             ],
             [
              0.3333333333333333,
              "#9c179e"
             ],
             [
              0.4444444444444444,
              "#bd3786"
             ],
             [
              0.5555555555555556,
              "#d8576b"
             ],
             [
              0.6666666666666666,
              "#ed7953"
             ],
             [
              0.7777777777777778,
              "#fb9f3a"
             ],
             [
              0.8888888888888888,
              "#fdca26"
             ],
             [
              1,
              "#f0f921"
             ]
            ],
            "type": "histogram2d"
           }
          ],
          "histogram2dcontour": [
           {
            "colorbar": {
             "outlinewidth": 0,
             "ticks": ""
            },
            "colorscale": [
             [
              0,
              "#0d0887"
             ],
             [
              0.1111111111111111,
              "#46039f"
             ],
             [
              0.2222222222222222,
              "#7201a8"
             ],
             [
              0.3333333333333333,
              "#9c179e"
             ],
             [
              0.4444444444444444,
              "#bd3786"
             ],
             [
              0.5555555555555556,
              "#d8576b"
             ],
             [
              0.6666666666666666,
              "#ed7953"
             ],
             [
              0.7777777777777778,
              "#fb9f3a"
             ],
             [
              0.8888888888888888,
              "#fdca26"
             ],
             [
              1,
              "#f0f921"
             ]
            ],
            "type": "histogram2dcontour"
           }
          ],
          "mesh3d": [
           {
            "colorbar": {
             "outlinewidth": 0,
             "ticks": ""
            },
            "type": "mesh3d"
           }
          ],
          "parcoords": [
           {
            "line": {
             "colorbar": {
              "outlinewidth": 0,
              "ticks": ""
             }
            },
            "type": "parcoords"
           }
          ],
          "pie": [
           {
            "automargin": true,
            "type": "pie"
           }
          ],
          "scatter": [
           {
            "marker": {
             "colorbar": {
              "outlinewidth": 0,
              "ticks": ""
             }
            },
            "type": "scatter"
           }
          ],
          "scatter3d": [
           {
            "line": {
             "colorbar": {
              "outlinewidth": 0,
              "ticks": ""
             }
            },
            "marker": {
             "colorbar": {
              "outlinewidth": 0,
              "ticks": ""
             }
            },
            "type": "scatter3d"
           }
          ],
          "scattercarpet": [
           {
            "marker": {
             "colorbar": {
              "outlinewidth": 0,
              "ticks": ""
             }
            },
            "type": "scattercarpet"
           }
          ],
          "scattergeo": [
           {
            "marker": {
             "colorbar": {
              "outlinewidth": 0,
              "ticks": ""
             }
            },
            "type": "scattergeo"
           }
          ],
          "scattergl": [
           {
            "marker": {
             "colorbar": {
              "outlinewidth": 0,
              "ticks": ""
             }
            },
            "type": "scattergl"
           }
          ],
          "scattermapbox": [
           {
            "marker": {
             "colorbar": {
              "outlinewidth": 0,
              "ticks": ""
             }
            },
            "type": "scattermapbox"
           }
          ],
          "scatterpolar": [
           {
            "marker": {
             "colorbar": {
              "outlinewidth": 0,
              "ticks": ""
             }
            },
            "type": "scatterpolar"
           }
          ],
          "scatterpolargl": [
           {
            "marker": {
             "colorbar": {
              "outlinewidth": 0,
              "ticks": ""
             }
            },
            "type": "scatterpolargl"
           }
          ],
          "scatterternary": [
           {
            "marker": {
             "colorbar": {
              "outlinewidth": 0,
              "ticks": ""
             }
            },
            "type": "scatterternary"
           }
          ],
          "surface": [
           {
            "colorbar": {
             "outlinewidth": 0,
             "ticks": ""
            },
            "colorscale": [
             [
              0,
              "#0d0887"
             ],
             [
              0.1111111111111111,
              "#46039f"
             ],
             [
              0.2222222222222222,
              "#7201a8"
             ],
             [
              0.3333333333333333,
              "#9c179e"
             ],
             [
              0.4444444444444444,
              "#bd3786"
             ],
             [
              0.5555555555555556,
              "#d8576b"
             ],
             [
              0.6666666666666666,
              "#ed7953"
             ],
             [
              0.7777777777777778,
              "#fb9f3a"
             ],
             [
              0.8888888888888888,
              "#fdca26"
             ],
             [
              1,
              "#f0f921"
             ]
            ],
            "type": "surface"
           }
          ],
          "table": [
           {
            "cells": {
             "fill": {
              "color": "#EBF0F8"
             },
             "line": {
              "color": "white"
             }
            },
            "header": {
             "fill": {
              "color": "#C8D4E3"
             },
             "line": {
              "color": "white"
             }
            },
            "type": "table"
           }
          ]
         },
         "layout": {
          "annotationdefaults": {
           "arrowcolor": "#2a3f5f",
           "arrowhead": 0,
           "arrowwidth": 1
          },
          "coloraxis": {
           "colorbar": {
            "outlinewidth": 0,
            "ticks": ""
           }
          },
          "colorscale": {
           "diverging": [
            [
             0,
             "#8e0152"
            ],
            [
             0.1,
             "#c51b7d"
            ],
            [
             0.2,
             "#de77ae"
            ],
            [
             0.3,
             "#f1b6da"
            ],
            [
             0.4,
             "#fde0ef"
            ],
            [
             0.5,
             "#f7f7f7"
            ],
            [
             0.6,
             "#e6f5d0"
            ],
            [
             0.7,
             "#b8e186"
            ],
            [
             0.8,
             "#7fbc41"
            ],
            [
             0.9,
             "#4d9221"
            ],
            [
             1,
             "#276419"
            ]
           ],
           "sequential": [
            [
             0,
             "#0d0887"
            ],
            [
             0.1111111111111111,
             "#46039f"
            ],
            [
             0.2222222222222222,
             "#7201a8"
            ],
            [
             0.3333333333333333,
             "#9c179e"
            ],
            [
             0.4444444444444444,
             "#bd3786"
            ],
            [
             0.5555555555555556,
             "#d8576b"
            ],
            [
             0.6666666666666666,
             "#ed7953"
            ],
            [
             0.7777777777777778,
             "#fb9f3a"
            ],
            [
             0.8888888888888888,
             "#fdca26"
            ],
            [
             1,
             "#f0f921"
            ]
           ],
           "sequentialminus": [
            [
             0,
             "#0d0887"
            ],
            [
             0.1111111111111111,
             "#46039f"
            ],
            [
             0.2222222222222222,
             "#7201a8"
            ],
            [
             0.3333333333333333,
             "#9c179e"
            ],
            [
             0.4444444444444444,
             "#bd3786"
            ],
            [
             0.5555555555555556,
             "#d8576b"
            ],
            [
             0.6666666666666666,
             "#ed7953"
            ],
            [
             0.7777777777777778,
             "#fb9f3a"
            ],
            [
             0.8888888888888888,
             "#fdca26"
            ],
            [
             1,
             "#f0f921"
            ]
           ]
          },
          "colorway": [
           "#636efa",
           "#EF553B",
           "#00cc96",
           "#ab63fa",
           "#FFA15A",
           "#19d3f3",
           "#FF6692",
           "#B6E880",
           "#FF97FF",
           "#FECB52"
          ],
          "font": {
           "color": "#2a3f5f"
          },
          "geo": {
           "bgcolor": "white",
           "lakecolor": "white",
           "landcolor": "#E5ECF6",
           "showlakes": true,
           "showland": true,
           "subunitcolor": "white"
          },
          "hoverlabel": {
           "align": "left"
          },
          "hovermode": "closest",
          "mapbox": {
           "style": "light"
          },
          "paper_bgcolor": "white",
          "plot_bgcolor": "#E5ECF6",
          "polar": {
           "angularaxis": {
            "gridcolor": "white",
            "linecolor": "white",
            "ticks": ""
           },
           "bgcolor": "#E5ECF6",
           "radialaxis": {
            "gridcolor": "white",
            "linecolor": "white",
            "ticks": ""
           }
          },
          "scene": {
           "xaxis": {
            "backgroundcolor": "#E5ECF6",
            "gridcolor": "white",
            "gridwidth": 2,
            "linecolor": "white",
            "showbackground": true,
            "ticks": "",
            "zerolinecolor": "white"
           },
           "yaxis": {
            "backgroundcolor": "#E5ECF6",
            "gridcolor": "white",
            "gridwidth": 2,
            "linecolor": "white",
            "showbackground": true,
            "ticks": "",
            "zerolinecolor": "white"
           },
           "zaxis": {
            "backgroundcolor": "#E5ECF6",
            "gridcolor": "white",
            "gridwidth": 2,
            "linecolor": "white",
            "showbackground": true,
            "ticks": "",
            "zerolinecolor": "white"
           }
          },
          "shapedefaults": {
           "line": {
            "color": "#2a3f5f"
           }
          },
          "ternary": {
           "aaxis": {
            "gridcolor": "white",
            "linecolor": "white",
            "ticks": ""
           },
           "baxis": {
            "gridcolor": "white",
            "linecolor": "white",
            "ticks": ""
           },
           "bgcolor": "#E5ECF6",
           "caxis": {
            "gridcolor": "white",
            "linecolor": "white",
            "ticks": ""
           }
          },
          "title": {
           "x": 0.05
          },
          "xaxis": {
           "automargin": true,
           "gridcolor": "white",
           "linecolor": "white",
           "ticks": "",
           "title": {
            "standoff": 15
           },
           "zerolinecolor": "white",
           "zerolinewidth": 2
          },
          "yaxis": {
           "automargin": true,
           "gridcolor": "white",
           "linecolor": "white",
           "ticks": "",
           "title": {
            "standoff": 15
           },
           "zerolinecolor": "white",
           "zerolinewidth": 2
          }
         }
        }
       }
      },
      "text/html": [
       "<div>\n",
       "        \n",
       "        \n",
       "            <div id=\"07655dbd-f428-4eff-846f-8ffd0977d81e\" class=\"plotly-graph-div\" style=\"height:525px; width:100%;\"></div>\n",
       "            <script type=\"text/javascript\">\n",
       "                require([\"plotly\"], function(Plotly) {\n",
       "                    window.PLOTLYENV=window.PLOTLYENV || {};\n",
       "                    \n",
       "                if (document.getElementById(\"07655dbd-f428-4eff-846f-8ffd0977d81e\")) {\n",
       "                    Plotly.newPlot(\n",
       "                        '07655dbd-f428-4eff-846f-8ffd0977d81e',\n",
       "                        [{\"hovertemplate\": \"%{y}\", \"name\": \"Susceptible\", \"type\": \"scatter\", \"x\": [0, 1, 2, 3, 4, 5, 6, 7, 8, 9, 10, 11, 12, 13, 14, 15, 16, 17, 18, 19, 20, 21, 22, 23, 24, 25, 26, 27, 28, 29, 30, 31, 32, 33, 34, 35, 36, 37, 38, 39, 40, 41, 42, 43, 44, 45, 46, 47, 48, 49, 50, 51, 52, 53, 54, 55, 56, 57, 58, 59, 60, 61, 62, 63, 64, 65, 66, 67, 68, 69, 70, 71, 72, 73, 74, 75, 76, 77, 78, 79, 80, 81, 82, 83, 84, 85, 86, 87, 88, 89, 90], \"y\": [990, 987, 986, 982, 979, 975, 971, 966, 959, 956, 952, 944, 936, 930, 922, 918, 907, 889, 868, 849, 830, 802, 787, 753, 714, 672, 623, 580, 560, 545, 517, 481, 453, 434, 425, 393, 382, 362, 336, 308, 282, 265, 257, 241, 227, 210, 202, 192, 186, 179, 169, 161, 157, 151, 148, 142, 139, 137, 134, 130, 128, 127, 125, 123, 121, 120, 118, 117, 116, 115, 114, 113, 112, 110, 110, 109, 109, 108, 108, 107, 107, 107, 106, 106, 105, 105, 105, 104, 104, 104, 104]}, {\"hovertemplate\": \"%{y}\", \"name\": \"Infectious\", \"type\": \"scatter\", \"x\": [0, 1, 2, 3, 4, 5, 6, 7, 8, 9, 10, 11, 12, 13, 14, 15, 16, 17, 18, 19, 20, 21, 22, 23, 24, 25, 26, 27, 28, 29, 30, 31, 32, 33, 34, 35, 36, 37, 38, 39, 40, 41, 42, 43, 44, 45, 46, 47, 48, 49, 50, 51, 52, 53, 54, 55, 56, 57, 58, 59, 60, 61, 62, 63, 64, 65, 66, 67, 68, 69, 70, 71, 72, 73, 74, 75, 76, 77, 78, 79, 80, 81, 82, 83, 84, 85, 86, 87, 88, 89, 90], \"y\": [10, 11, 11, 14, 16, 18, 20, 23, 28, 29, 30, 35, 39, 42, 46, 45, 52, 66, 80, 91, 102, 120, 124, 147, 171, 198, 228, 250, 246, 238, 243, 257, 260, 255, 240, 250, 237, 235, 239, 244, 247, 242, 227, 221, 215, 212, 200, 191, 179, 169, 163, 155, 145, 137, 128, 122, 113, 105, 98, 92, 86, 79, 73, 68, 63, 59, 55, 51, 48, 44, 41, 38, 36, 33, 31, 28, 26, 24, 22, 21, 19, 18, 16, 15, 14, 13, 12, 11, 10, 9, 9]}, {\"hovertemplate\": \"%{y}\", \"name\": \"Removed\", \"type\": \"scatter\", \"x\": [0, 1, 2, 3, 4, 5, 6, 7, 8, 9, 10, 11, 12, 13, 14, 15, 16, 17, 18, 19, 20, 21, 22, 23, 24, 25, 26, 27, 28, 29, 30, 31, 32, 33, 34, 35, 36, 37, 38, 39, 40, 41, 42, 43, 44, 45, 46, 47, 48, 49, 50, 51, 52, 53, 54, 55, 56, 57, 58, 59, 60, 61, 62, 63, 64, 65, 66, 67, 68, 69, 70, 71, 72, 73, 74, 75, 76, 77, 78, 79, 80, 81, 82, 83, 84, 85, 86, 87, 88, 89, 90], \"y\": [0, 0, 1, 3, 4, 5, 7, 9, 11, 14, 17, 20, 23, 27, 31, 35, 39, 44, 50, 58, 67, 76, 87, 99, 113, 129, 148, 169, 192, 216, 238, 261, 285, 309, 333, 356, 379, 401, 424, 446, 469, 492, 515, 536, 557, 577, 597, 616, 634, 650, 666, 682, 696, 710, 723, 735, 746, 757, 767, 776, 785, 793, 800, 807, 814, 820, 825, 830, 835, 840, 844, 848, 851, 855, 858, 861, 864, 866, 868, 871, 873, 874, 876, 878, 879, 880, 882, 883, 884, 885, 886]}, {\"hovertemplate\": \"%{y}\", \"marker\": {\"symbol\": 1}, \"mode\": \"markers\", \"name\": \"Guessed\", \"type\": \"scatter\", \"x\": [10, 20, 30, 40, 50, 60, 70, 80, 90], \"y\": [0.0, 100.0, 200.0, 300.0, 100.0, 100.0, 0.0, 0.0, 0.0]}],\n",
       "                        {\"margin\": {\"b\": 0, \"l\": 0, \"r\": 0, \"t\": 25}, \"template\": {\"data\": {\"bar\": [{\"error_x\": {\"color\": \"#2a3f5f\"}, \"error_y\": {\"color\": \"#2a3f5f\"}, \"marker\": {\"line\": {\"color\": \"#E5ECF6\", \"width\": 0.5}}, \"type\": \"bar\"}], \"barpolar\": [{\"marker\": {\"line\": {\"color\": \"#E5ECF6\", \"width\": 0.5}}, \"type\": \"barpolar\"}], \"carpet\": [{\"aaxis\": {\"endlinecolor\": \"#2a3f5f\", \"gridcolor\": \"white\", \"linecolor\": \"white\", \"minorgridcolor\": \"white\", \"startlinecolor\": \"#2a3f5f\"}, \"baxis\": {\"endlinecolor\": \"#2a3f5f\", \"gridcolor\": \"white\", \"linecolor\": \"white\", \"minorgridcolor\": \"white\", \"startlinecolor\": \"#2a3f5f\"}, \"type\": \"carpet\"}], \"choropleth\": [{\"colorbar\": {\"outlinewidth\": 0, \"ticks\": \"\"}, \"type\": \"choropleth\"}], \"contour\": [{\"colorbar\": {\"outlinewidth\": 0, \"ticks\": \"\"}, \"colorscale\": [[0.0, \"#0d0887\"], [0.1111111111111111, \"#46039f\"], [0.2222222222222222, \"#7201a8\"], [0.3333333333333333, \"#9c179e\"], [0.4444444444444444, \"#bd3786\"], [0.5555555555555556, \"#d8576b\"], [0.6666666666666666, \"#ed7953\"], [0.7777777777777778, \"#fb9f3a\"], [0.8888888888888888, \"#fdca26\"], [1.0, \"#f0f921\"]], \"type\": \"contour\"}], \"contourcarpet\": [{\"colorbar\": {\"outlinewidth\": 0, \"ticks\": \"\"}, \"type\": \"contourcarpet\"}], \"heatmap\": [{\"colorbar\": {\"outlinewidth\": 0, \"ticks\": \"\"}, \"colorscale\": [[0.0, \"#0d0887\"], [0.1111111111111111, \"#46039f\"], [0.2222222222222222, \"#7201a8\"], [0.3333333333333333, \"#9c179e\"], [0.4444444444444444, \"#bd3786\"], [0.5555555555555556, \"#d8576b\"], [0.6666666666666666, \"#ed7953\"], [0.7777777777777778, \"#fb9f3a\"], [0.8888888888888888, \"#fdca26\"], [1.0, \"#f0f921\"]], \"type\": \"heatmap\"}], \"heatmapgl\": [{\"colorbar\": {\"outlinewidth\": 0, \"ticks\": \"\"}, \"colorscale\": [[0.0, \"#0d0887\"], [0.1111111111111111, \"#46039f\"], [0.2222222222222222, \"#7201a8\"], [0.3333333333333333, \"#9c179e\"], [0.4444444444444444, \"#bd3786\"], [0.5555555555555556, \"#d8576b\"], [0.6666666666666666, \"#ed7953\"], [0.7777777777777778, \"#fb9f3a\"], [0.8888888888888888, \"#fdca26\"], [1.0, \"#f0f921\"]], \"type\": \"heatmapgl\"}], \"histogram\": [{\"marker\": {\"colorbar\": {\"outlinewidth\": 0, \"ticks\": \"\"}}, \"type\": \"histogram\"}], \"histogram2d\": [{\"colorbar\": {\"outlinewidth\": 0, \"ticks\": \"\"}, \"colorscale\": [[0.0, \"#0d0887\"], [0.1111111111111111, \"#46039f\"], [0.2222222222222222, \"#7201a8\"], [0.3333333333333333, \"#9c179e\"], [0.4444444444444444, \"#bd3786\"], [0.5555555555555556, \"#d8576b\"], [0.6666666666666666, \"#ed7953\"], [0.7777777777777778, \"#fb9f3a\"], [0.8888888888888888, \"#fdca26\"], [1.0, \"#f0f921\"]], \"type\": \"histogram2d\"}], \"histogram2dcontour\": [{\"colorbar\": {\"outlinewidth\": 0, \"ticks\": \"\"}, \"colorscale\": [[0.0, \"#0d0887\"], [0.1111111111111111, \"#46039f\"], [0.2222222222222222, \"#7201a8\"], [0.3333333333333333, \"#9c179e\"], [0.4444444444444444, \"#bd3786\"], [0.5555555555555556, \"#d8576b\"], [0.6666666666666666, \"#ed7953\"], [0.7777777777777778, \"#fb9f3a\"], [0.8888888888888888, \"#fdca26\"], [1.0, \"#f0f921\"]], \"type\": \"histogram2dcontour\"}], \"mesh3d\": [{\"colorbar\": {\"outlinewidth\": 0, \"ticks\": \"\"}, \"type\": \"mesh3d\"}], \"parcoords\": [{\"line\": {\"colorbar\": {\"outlinewidth\": 0, \"ticks\": \"\"}}, \"type\": \"parcoords\"}], \"pie\": [{\"automargin\": true, \"type\": \"pie\"}], \"scatter\": [{\"marker\": {\"colorbar\": {\"outlinewidth\": 0, \"ticks\": \"\"}}, \"type\": \"scatter\"}], \"scatter3d\": [{\"line\": {\"colorbar\": {\"outlinewidth\": 0, \"ticks\": \"\"}}, \"marker\": {\"colorbar\": {\"outlinewidth\": 0, \"ticks\": \"\"}}, \"type\": \"scatter3d\"}], \"scattercarpet\": [{\"marker\": {\"colorbar\": {\"outlinewidth\": 0, \"ticks\": \"\"}}, \"type\": \"scattercarpet\"}], \"scattergeo\": [{\"marker\": {\"colorbar\": {\"outlinewidth\": 0, \"ticks\": \"\"}}, \"type\": \"scattergeo\"}], \"scattergl\": [{\"marker\": {\"colorbar\": {\"outlinewidth\": 0, \"ticks\": \"\"}}, \"type\": \"scattergl\"}], \"scattermapbox\": [{\"marker\": {\"colorbar\": {\"outlinewidth\": 0, \"ticks\": \"\"}}, \"type\": \"scattermapbox\"}], \"scatterpolar\": [{\"marker\": {\"colorbar\": {\"outlinewidth\": 0, \"ticks\": \"\"}}, \"type\": \"scatterpolar\"}], \"scatterpolargl\": [{\"marker\": {\"colorbar\": {\"outlinewidth\": 0, \"ticks\": \"\"}}, \"type\": \"scatterpolargl\"}], \"scatterternary\": [{\"marker\": {\"colorbar\": {\"outlinewidth\": 0, \"ticks\": \"\"}}, \"type\": \"scatterternary\"}], \"surface\": [{\"colorbar\": {\"outlinewidth\": 0, \"ticks\": \"\"}, \"colorscale\": [[0.0, \"#0d0887\"], [0.1111111111111111, \"#46039f\"], [0.2222222222222222, \"#7201a8\"], [0.3333333333333333, \"#9c179e\"], [0.4444444444444444, \"#bd3786\"], [0.5555555555555556, \"#d8576b\"], [0.6666666666666666, \"#ed7953\"], [0.7777777777777778, \"#fb9f3a\"], [0.8888888888888888, \"#fdca26\"], [1.0, \"#f0f921\"]], \"type\": \"surface\"}], \"table\": [{\"cells\": {\"fill\": {\"color\": \"#EBF0F8\"}, \"line\": {\"color\": \"white\"}}, \"header\": {\"fill\": {\"color\": \"#C8D4E3\"}, \"line\": {\"color\": \"white\"}}, \"type\": \"table\"}]}, \"layout\": {\"annotationdefaults\": {\"arrowcolor\": \"#2a3f5f\", \"arrowhead\": 0, \"arrowwidth\": 1}, \"coloraxis\": {\"colorbar\": {\"outlinewidth\": 0, \"ticks\": \"\"}}, \"colorscale\": {\"diverging\": [[0, \"#8e0152\"], [0.1, \"#c51b7d\"], [0.2, \"#de77ae\"], [0.3, \"#f1b6da\"], [0.4, \"#fde0ef\"], [0.5, \"#f7f7f7\"], [0.6, \"#e6f5d0\"], [0.7, \"#b8e186\"], [0.8, \"#7fbc41\"], [0.9, \"#4d9221\"], [1, \"#276419\"]], \"sequential\": [[0.0, \"#0d0887\"], [0.1111111111111111, \"#46039f\"], [0.2222222222222222, \"#7201a8\"], [0.3333333333333333, \"#9c179e\"], [0.4444444444444444, \"#bd3786\"], [0.5555555555555556, \"#d8576b\"], [0.6666666666666666, \"#ed7953\"], [0.7777777777777778, \"#fb9f3a\"], [0.8888888888888888, \"#fdca26\"], [1.0, \"#f0f921\"]], \"sequentialminus\": [[0.0, \"#0d0887\"], [0.1111111111111111, \"#46039f\"], [0.2222222222222222, \"#7201a8\"], [0.3333333333333333, \"#9c179e\"], [0.4444444444444444, \"#bd3786\"], [0.5555555555555556, \"#d8576b\"], [0.6666666666666666, \"#ed7953\"], [0.7777777777777778, \"#fb9f3a\"], [0.8888888888888888, \"#fdca26\"], [1.0, \"#f0f921\"]]}, \"colorway\": [\"#636efa\", \"#EF553B\", \"#00cc96\", \"#ab63fa\", \"#FFA15A\", \"#19d3f3\", \"#FF6692\", \"#B6E880\", \"#FF97FF\", \"#FECB52\"], \"font\": {\"color\": \"#2a3f5f\"}, \"geo\": {\"bgcolor\": \"white\", \"lakecolor\": \"white\", \"landcolor\": \"#E5ECF6\", \"showlakes\": true, \"showland\": true, \"subunitcolor\": \"white\"}, \"hoverlabel\": {\"align\": \"left\"}, \"hovermode\": \"closest\", \"mapbox\": {\"style\": \"light\"}, \"paper_bgcolor\": \"white\", \"plot_bgcolor\": \"#E5ECF6\", \"polar\": {\"angularaxis\": {\"gridcolor\": \"white\", \"linecolor\": \"white\", \"ticks\": \"\"}, \"bgcolor\": \"#E5ECF6\", \"radialaxis\": {\"gridcolor\": \"white\", \"linecolor\": \"white\", \"ticks\": \"\"}}, \"scene\": {\"xaxis\": {\"backgroundcolor\": \"#E5ECF6\", \"gridcolor\": \"white\", \"gridwidth\": 2, \"linecolor\": \"white\", \"showbackground\": true, \"ticks\": \"\", \"zerolinecolor\": \"white\"}, \"yaxis\": {\"backgroundcolor\": \"#E5ECF6\", \"gridcolor\": \"white\", \"gridwidth\": 2, \"linecolor\": \"white\", \"showbackground\": true, \"ticks\": \"\", \"zerolinecolor\": \"white\"}, \"zaxis\": {\"backgroundcolor\": \"#E5ECF6\", \"gridcolor\": \"white\", \"gridwidth\": 2, \"linecolor\": \"white\", \"showbackground\": true, \"ticks\": \"\", \"zerolinecolor\": \"white\"}}, \"shapedefaults\": {\"line\": {\"color\": \"#2a3f5f\"}}, \"ternary\": {\"aaxis\": {\"gridcolor\": \"white\", \"linecolor\": \"white\", \"ticks\": \"\"}, \"baxis\": {\"gridcolor\": \"white\", \"linecolor\": \"white\", \"ticks\": \"\"}, \"bgcolor\": \"#E5ECF6\", \"caxis\": {\"gridcolor\": \"white\", \"linecolor\": \"white\", \"ticks\": \"\"}}, \"title\": {\"x\": 0.05}, \"xaxis\": {\"automargin\": true, \"gridcolor\": \"white\", \"linecolor\": \"white\", \"ticks\": \"\", \"title\": {\"standoff\": 15}, \"zerolinecolor\": \"white\", \"zerolinewidth\": 2}, \"yaxis\": {\"automargin\": true, \"gridcolor\": \"white\", \"linecolor\": \"white\", \"ticks\": \"\", \"title\": {\"standoff\": 15}, \"zerolinecolor\": \"white\", \"zerolinewidth\": 2}}}},\n",
       "                        {\"responsive\": true}\n",
       "                    ).then(function(){\n",
       "                            \n",
       "var gd = document.getElementById('07655dbd-f428-4eff-846f-8ffd0977d81e');\n",
       "var x = new MutationObserver(function (mutations, observer) {{\n",
       "        var display = window.getComputedStyle(gd).display;\n",
       "        if (!display || display === 'none') {{\n",
       "            console.log([gd, 'removed!']);\n",
       "            Plotly.purge(gd);\n",
       "            observer.disconnect();\n",
       "        }}\n",
       "}});\n",
       "\n",
       "// Listen for the removal of the full notebook cells\n",
       "var notebookContainer = gd.closest('#notebook-container');\n",
       "if (notebookContainer) {{\n",
       "    x.observe(notebookContainer, {childList: true});\n",
       "}}\n",
       "\n",
       "// Listen for the clearing of the current output cell\n",
       "var outputEl = gd.closest('.output');\n",
       "if (outputEl) {{\n",
       "    x.observe(outputEl, {childList: true});\n",
       "}}\n",
       "\n",
       "                        })\n",
       "                };\n",
       "                });\n",
       "            </script>\n",
       "        </div>"
      ]
     },
     "metadata": {},
     "output_type": "display_data"
    }
   ],
   "source": [
    "fig = SIRt.plot(c.dynamic.estimate(city))\n",
    "sample.plot(fig)"
   ]
  },
  {
   "cell_type": "code",
   "execution_count": 404,
   "metadata": {},
   "outputs": [
    {
     "data": {
      "application/vnd.plotly.v1+json": {
       "config": {
        "plotlyServerURL": "https://plot.ly"
       },
       "data": [
        {
         "hoverlabel": {
          "namelength": 0
         },
         "hovertemplate": "y=%{y}",
         "legendgroup": "",
         "line": {
          "color": "#636efa",
          "dash": "solid"
         },
         "mode": "lines",
         "name": "",
         "showlegend": false,
         "type": "scatter",
         "xaxis": "x",
         "y": [
          0.5079502333182438,
          0.5115968674256124,
          0.5083530262749665,
          0.509962302931001,
          0.48422884734370725,
          0.5117123152219002,
          0.4851966092534507,
          0.5040789449369926,
          0.5108598445033224,
          0.49093994940080093,
          0.48421813809005537,
          0.5233531267858608,
          0.4912099270222931,
          0.48516195139643453,
          0.4775446832136706,
          0.48033045919944567,
          0.48147174876610593,
          0.4936694372968913,
          0.4786146159245808,
          0.5009009710464475,
          0.4917729570889351,
          0.48124870268876746,
          0.4995075284129918,
          0.4886213814385197,
          0.5229092766647336,
          0.5169565056144357,
          0.5167104839121895,
          0.493202200571014,
          0.5151888400066275,
          0.4766384554851322,
          0.48165306650666706,
          0.5225473521694313,
          0.49706040064331686,
          0.5039256660376983,
          0.5195048288635782,
          0.523361012049034,
          0.4927750888855322,
          0.5223607900198544,
          0.48391959408746144,
          0.5024883705739054,
          0.494535807989374,
          0.4908167174840404,
          0.49588086527120406,
          0.4789328999606229,
          0.4968979040053095,
          0.5226807643444673,
          0.47887402840854976,
          0.49067925114963146,
          0.5113276802332529,
          0.4824225070752706,
          0.5145439276735131,
          0.4868563543962863,
          0.5023029640011153,
          0.5080114389112612,
          0.5169813539947413,
          0.5147366781637654,
          0.52326448280592,
          0.5013338221040945,
          0.515133231138308,
          0.4783324294108599,
          0.4919455037301059,
          0.51734036620617,
          0.5184021423507258,
          0.5128750558824036,
          0.5126085041332533,
          0.48718978535129864,
          0.48257264116938536,
          0.5083588390380421,
          0.48948663528348463,
          0.5181152448483981,
          0.48579444498782753,
          0.4804396829397049,
          0.5090781635075345,
          0.4875933807343308,
          0.48166921549122294,
          0.5236664337620907,
          0.49387754272010714,
          0.48198880638673663,
          0.5217489832567308,
          0.5247766271600168,
          0.4837024192186137,
          0.5254072279547131,
          0.5112152289550824,
          0.5220933754069469,
          0.5126252935160084,
          0.5111322662418133,
          0.5125678176995168,
          0.5097573647992366,
          0.5042191483404713,
          0.48714072612872733,
          0.5009616320280611
         ],
         "yaxis": "y"
        }
       ],
       "layout": {
        "legend": {
         "tracegroupgap": 0
        },
        "margin": {
         "t": 60
        },
        "template": {
         "data": {
          "bar": [
           {
            "error_x": {
             "color": "#2a3f5f"
            },
            "error_y": {
             "color": "#2a3f5f"
            },
            "marker": {
             "line": {
              "color": "#E5ECF6",
              "width": 0.5
             }
            },
            "type": "bar"
           }
          ],
          "barpolar": [
           {
            "marker": {
             "line": {
              "color": "#E5ECF6",
              "width": 0.5
             }
            },
            "type": "barpolar"
           }
          ],
          "carpet": [
           {
            "aaxis": {
             "endlinecolor": "#2a3f5f",
             "gridcolor": "white",
             "linecolor": "white",
             "minorgridcolor": "white",
             "startlinecolor": "#2a3f5f"
            },
            "baxis": {
             "endlinecolor": "#2a3f5f",
             "gridcolor": "white",
             "linecolor": "white",
             "minorgridcolor": "white",
             "startlinecolor": "#2a3f5f"
            },
            "type": "carpet"
           }
          ],
          "choropleth": [
           {
            "colorbar": {
             "outlinewidth": 0,
             "ticks": ""
            },
            "type": "choropleth"
           }
          ],
          "contour": [
           {
            "colorbar": {
             "outlinewidth": 0,
             "ticks": ""
            },
            "colorscale": [
             [
              0,
              "#0d0887"
             ],
             [
              0.1111111111111111,
              "#46039f"
             ],
             [
              0.2222222222222222,
              "#7201a8"
             ],
             [
              0.3333333333333333,
              "#9c179e"
             ],
             [
              0.4444444444444444,
              "#bd3786"
             ],
             [
              0.5555555555555556,
              "#d8576b"
             ],
             [
              0.6666666666666666,
              "#ed7953"
             ],
             [
              0.7777777777777778,
              "#fb9f3a"
             ],
             [
              0.8888888888888888,
              "#fdca26"
             ],
             [
              1,
              "#f0f921"
             ]
            ],
            "type": "contour"
           }
          ],
          "contourcarpet": [
           {
            "colorbar": {
             "outlinewidth": 0,
             "ticks": ""
            },
            "type": "contourcarpet"
           }
          ],
          "heatmap": [
           {
            "colorbar": {
             "outlinewidth": 0,
             "ticks": ""
            },
            "colorscale": [
             [
              0,
              "#0d0887"
             ],
             [
              0.1111111111111111,
              "#46039f"
             ],
             [
              0.2222222222222222,
              "#7201a8"
             ],
             [
              0.3333333333333333,
              "#9c179e"
             ],
             [
              0.4444444444444444,
              "#bd3786"
             ],
             [
              0.5555555555555556,
              "#d8576b"
             ],
             [
              0.6666666666666666,
              "#ed7953"
             ],
             [
              0.7777777777777778,
              "#fb9f3a"
             ],
             [
              0.8888888888888888,
              "#fdca26"
             ],
             [
              1,
              "#f0f921"
             ]
            ],
            "type": "heatmap"
           }
          ],
          "heatmapgl": [
           {
            "colorbar": {
             "outlinewidth": 0,
             "ticks": ""
            },
            "colorscale": [
             [
              0,
              "#0d0887"
             ],
             [
              0.1111111111111111,
              "#46039f"
             ],
             [
              0.2222222222222222,
              "#7201a8"
             ],
             [
              0.3333333333333333,
              "#9c179e"
             ],
             [
              0.4444444444444444,
              "#bd3786"
             ],
             [
              0.5555555555555556,
              "#d8576b"
             ],
             [
              0.6666666666666666,
              "#ed7953"
             ],
             [
              0.7777777777777778,
              "#fb9f3a"
             ],
             [
              0.8888888888888888,
              "#fdca26"
             ],
             [
              1,
              "#f0f921"
             ]
            ],
            "type": "heatmapgl"
           }
          ],
          "histogram": [
           {
            "marker": {
             "colorbar": {
              "outlinewidth": 0,
              "ticks": ""
             }
            },
            "type": "histogram"
           }
          ],
          "histogram2d": [
           {
            "colorbar": {
             "outlinewidth": 0,
             "ticks": ""
            },
            "colorscale": [
             [
              0,
              "#0d0887"
             ],
             [
              0.1111111111111111,
              "#46039f"
             ],
             [
              0.2222222222222222,
              "#7201a8"
             ],
             [
              0.3333333333333333,
              "#9c179e"
             ],
             [
              0.4444444444444444,
              "#bd3786"
             ],
             [
              0.5555555555555556,
              "#d8576b"
             ],
             [
              0.6666666666666666,
              "#ed7953"
             ],
             [
              0.7777777777777778,
              "#fb9f3a"
             ],
             [
              0.8888888888888888,
              "#fdca26"
             ],
             [
              1,
              "#f0f921"
             ]
            ],
            "type": "histogram2d"
           }
          ],
          "histogram2dcontour": [
           {
            "colorbar": {
             "outlinewidth": 0,
             "ticks": ""
            },
            "colorscale": [
             [
              0,
              "#0d0887"
             ],
             [
              0.1111111111111111,
              "#46039f"
             ],
             [
              0.2222222222222222,
              "#7201a8"
             ],
             [
              0.3333333333333333,
              "#9c179e"
             ],
             [
              0.4444444444444444,
              "#bd3786"
             ],
             [
              0.5555555555555556,
              "#d8576b"
             ],
             [
              0.6666666666666666,
              "#ed7953"
             ],
             [
              0.7777777777777778,
              "#fb9f3a"
             ],
             [
              0.8888888888888888,
              "#fdca26"
             ],
             [
              1,
              "#f0f921"
             ]
            ],
            "type": "histogram2dcontour"
           }
          ],
          "mesh3d": [
           {
            "colorbar": {
             "outlinewidth": 0,
             "ticks": ""
            },
            "type": "mesh3d"
           }
          ],
          "parcoords": [
           {
            "line": {
             "colorbar": {
              "outlinewidth": 0,
              "ticks": ""
             }
            },
            "type": "parcoords"
           }
          ],
          "pie": [
           {
            "automargin": true,
            "type": "pie"
           }
          ],
          "scatter": [
           {
            "marker": {
             "colorbar": {
              "outlinewidth": 0,
              "ticks": ""
             }
            },
            "type": "scatter"
           }
          ],
          "scatter3d": [
           {
            "line": {
             "colorbar": {
              "outlinewidth": 0,
              "ticks": ""
             }
            },
            "marker": {
             "colorbar": {
              "outlinewidth": 0,
              "ticks": ""
             }
            },
            "type": "scatter3d"
           }
          ],
          "scattercarpet": [
           {
            "marker": {
             "colorbar": {
              "outlinewidth": 0,
              "ticks": ""
             }
            },
            "type": "scattercarpet"
           }
          ],
          "scattergeo": [
           {
            "marker": {
             "colorbar": {
              "outlinewidth": 0,
              "ticks": ""
             }
            },
            "type": "scattergeo"
           }
          ],
          "scattergl": [
           {
            "marker": {
             "colorbar": {
              "outlinewidth": 0,
              "ticks": ""
             }
            },
            "type": "scattergl"
           }
          ],
          "scattermapbox": [
           {
            "marker": {
             "colorbar": {
              "outlinewidth": 0,
              "ticks": ""
             }
            },
            "type": "scattermapbox"
           }
          ],
          "scatterpolar": [
           {
            "marker": {
             "colorbar": {
              "outlinewidth": 0,
              "ticks": ""
             }
            },
            "type": "scatterpolar"
           }
          ],
          "scatterpolargl": [
           {
            "marker": {
             "colorbar": {
              "outlinewidth": 0,
              "ticks": ""
             }
            },
            "type": "scatterpolargl"
           }
          ],
          "scatterternary": [
           {
            "marker": {
             "colorbar": {
              "outlinewidth": 0,
              "ticks": ""
             }
            },
            "type": "scatterternary"
           }
          ],
          "surface": [
           {
            "colorbar": {
             "outlinewidth": 0,
             "ticks": ""
            },
            "colorscale": [
             [
              0,
              "#0d0887"
             ],
             [
              0.1111111111111111,
              "#46039f"
             ],
             [
              0.2222222222222222,
              "#7201a8"
             ],
             [
              0.3333333333333333,
              "#9c179e"
             ],
             [
              0.4444444444444444,
              "#bd3786"
             ],
             [
              0.5555555555555556,
              "#d8576b"
             ],
             [
              0.6666666666666666,
              "#ed7953"
             ],
             [
              0.7777777777777778,
              "#fb9f3a"
             ],
             [
              0.8888888888888888,
              "#fdca26"
             ],
             [
              1,
              "#f0f921"
             ]
            ],
            "type": "surface"
           }
          ],
          "table": [
           {
            "cells": {
             "fill": {
              "color": "#EBF0F8"
             },
             "line": {
              "color": "white"
             }
            },
            "header": {
             "fill": {
              "color": "#C8D4E3"
             },
             "line": {
              "color": "white"
             }
            },
            "type": "table"
           }
          ]
         },
         "layout": {
          "annotationdefaults": {
           "arrowcolor": "#2a3f5f",
           "arrowhead": 0,
           "arrowwidth": 1
          },
          "coloraxis": {
           "colorbar": {
            "outlinewidth": 0,
            "ticks": ""
           }
          },
          "colorscale": {
           "diverging": [
            [
             0,
             "#8e0152"
            ],
            [
             0.1,
             "#c51b7d"
            ],
            [
             0.2,
             "#de77ae"
            ],
            [
             0.3,
             "#f1b6da"
            ],
            [
             0.4,
             "#fde0ef"
            ],
            [
             0.5,
             "#f7f7f7"
            ],
            [
             0.6,
             "#e6f5d0"
            ],
            [
             0.7,
             "#b8e186"
            ],
            [
             0.8,
             "#7fbc41"
            ],
            [
             0.9,
             "#4d9221"
            ],
            [
             1,
             "#276419"
            ]
           ],
           "sequential": [
            [
             0,
             "#0d0887"
            ],
            [
             0.1111111111111111,
             "#46039f"
            ],
            [
             0.2222222222222222,
             "#7201a8"
            ],
            [
             0.3333333333333333,
             "#9c179e"
            ],
            [
             0.4444444444444444,
             "#bd3786"
            ],
            [
             0.5555555555555556,
             "#d8576b"
            ],
            [
             0.6666666666666666,
             "#ed7953"
            ],
            [
             0.7777777777777778,
             "#fb9f3a"
            ],
            [
             0.8888888888888888,
             "#fdca26"
            ],
            [
             1,
             "#f0f921"
            ]
           ],
           "sequentialminus": [
            [
             0,
             "#0d0887"
            ],
            [
             0.1111111111111111,
             "#46039f"
            ],
            [
             0.2222222222222222,
             "#7201a8"
            ],
            [
             0.3333333333333333,
             "#9c179e"
            ],
            [
             0.4444444444444444,
             "#bd3786"
            ],
            [
             0.5555555555555556,
             "#d8576b"
            ],
            [
             0.6666666666666666,
             "#ed7953"
            ],
            [
             0.7777777777777778,
             "#fb9f3a"
            ],
            [
             0.8888888888888888,
             "#fdca26"
            ],
            [
             1,
             "#f0f921"
            ]
           ]
          },
          "colorway": [
           "#636efa",
           "#EF553B",
           "#00cc96",
           "#ab63fa",
           "#FFA15A",
           "#19d3f3",
           "#FF6692",
           "#B6E880",
           "#FF97FF",
           "#FECB52"
          ],
          "font": {
           "color": "#2a3f5f"
          },
          "geo": {
           "bgcolor": "white",
           "lakecolor": "white",
           "landcolor": "#E5ECF6",
           "showlakes": true,
           "showland": true,
           "subunitcolor": "white"
          },
          "hoverlabel": {
           "align": "left"
          },
          "hovermode": "closest",
          "mapbox": {
           "style": "light"
          },
          "paper_bgcolor": "white",
          "plot_bgcolor": "#E5ECF6",
          "polar": {
           "angularaxis": {
            "gridcolor": "white",
            "linecolor": "white",
            "ticks": ""
           },
           "bgcolor": "#E5ECF6",
           "radialaxis": {
            "gridcolor": "white",
            "linecolor": "white",
            "ticks": ""
           }
          },
          "scene": {
           "xaxis": {
            "backgroundcolor": "#E5ECF6",
            "gridcolor": "white",
            "gridwidth": 2,
            "linecolor": "white",
            "showbackground": true,
            "ticks": "",
            "zerolinecolor": "white"
           },
           "yaxis": {
            "backgroundcolor": "#E5ECF6",
            "gridcolor": "white",
            "gridwidth": 2,
            "linecolor": "white",
            "showbackground": true,
            "ticks": "",
            "zerolinecolor": "white"
           },
           "zaxis": {
            "backgroundcolor": "#E5ECF6",
            "gridcolor": "white",
            "gridwidth": 2,
            "linecolor": "white",
            "showbackground": true,
            "ticks": "",
            "zerolinecolor": "white"
           }
          },
          "shapedefaults": {
           "line": {
            "color": "#2a3f5f"
           }
          },
          "ternary": {
           "aaxis": {
            "gridcolor": "white",
            "linecolor": "white",
            "ticks": ""
           },
           "baxis": {
            "gridcolor": "white",
            "linecolor": "white",
            "ticks": ""
           },
           "bgcolor": "#E5ECF6",
           "caxis": {
            "gridcolor": "white",
            "linecolor": "white",
            "ticks": ""
           }
          },
          "title": {
           "x": 0.05
          },
          "xaxis": {
           "automargin": true,
           "gridcolor": "white",
           "linecolor": "white",
           "ticks": "",
           "title": {
            "standoff": 15
           },
           "zerolinecolor": "white",
           "zerolinewidth": 2
          },
          "yaxis": {
           "automargin": true,
           "gridcolor": "white",
           "linecolor": "white",
           "ticks": "",
           "title": {
            "standoff": 15
           },
           "zerolinecolor": "white",
           "zerolinewidth": 2
          }
         }
        },
        "xaxis": {
         "anchor": "y",
         "domain": [
          0,
          1
         ]
        },
        "yaxis": {
         "anchor": "x",
         "domain": [
          0,
          1
         ],
         "title": {
          "text": "y"
         }
        }
       }
      },
      "text/html": [
       "<div>\n",
       "        \n",
       "        \n",
       "            <div id=\"890b842d-f7ec-485b-afc6-6a23f038b36b\" class=\"plotly-graph-div\" style=\"height:525px; width:100%;\"></div>\n",
       "            <script type=\"text/javascript\">\n",
       "                require([\"plotly\"], function(Plotly) {\n",
       "                    window.PLOTLYENV=window.PLOTLYENV || {};\n",
       "                    \n",
       "                if (document.getElementById(\"890b842d-f7ec-485b-afc6-6a23f038b36b\")) {\n",
       "                    Plotly.newPlot(\n",
       "                        '890b842d-f7ec-485b-afc6-6a23f038b36b',\n",
       "                        [{\"hoverlabel\": {\"namelength\": 0}, \"hovertemplate\": \"y=%{y}\", \"legendgroup\": \"\", \"line\": {\"color\": \"#636efa\", \"dash\": \"solid\"}, \"mode\": \"lines\", \"name\": \"\", \"showlegend\": false, \"type\": \"scatter\", \"xaxis\": \"x\", \"y\": [0.5079502333182438, 0.5115968674256124, 0.5083530262749665, 0.509962302931001, 0.48422884734370725, 0.5117123152219002, 0.4851966092534507, 0.5040789449369926, 0.5108598445033224, 0.49093994940080093, 0.48421813809005537, 0.5233531267858608, 0.4912099270222931, 0.48516195139643453, 0.4775446832136706, 0.48033045919944567, 0.48147174876610593, 0.4936694372968913, 0.4786146159245808, 0.5009009710464475, 0.4917729570889351, 0.48124870268876746, 0.4995075284129918, 0.4886213814385197, 0.5229092766647336, 0.5169565056144357, 0.5167104839121895, 0.493202200571014, 0.5151888400066275, 0.4766384554851322, 0.48165306650666706, 0.5225473521694313, 0.49706040064331686, 0.5039256660376983, 0.5195048288635782, 0.523361012049034, 0.4927750888855322, 0.5223607900198544, 0.48391959408746144, 0.5024883705739054, 0.494535807989374, 0.4908167174840404, 0.49588086527120406, 0.4789328999606229, 0.4968979040053095, 0.5226807643444673, 0.47887402840854976, 0.49067925114963146, 0.5113276802332529, 0.4824225070752706, 0.5145439276735131, 0.4868563543962863, 0.5023029640011153, 0.5080114389112612, 0.5169813539947413, 0.5147366781637654, 0.52326448280592, 0.5013338221040945, 0.515133231138308, 0.4783324294108599, 0.4919455037301059, 0.51734036620617, 0.5184021423507258, 0.5128750558824036, 0.5126085041332533, 0.48718978535129864, 0.48257264116938536, 0.5083588390380421, 0.48948663528348463, 0.5181152448483981, 0.48579444498782753, 0.4804396829397049, 0.5090781635075345, 0.4875933807343308, 0.48166921549122294, 0.5236664337620907, 0.49387754272010714, 0.48198880638673663, 0.5217489832567308, 0.5247766271600168, 0.4837024192186137, 0.5254072279547131, 0.5112152289550824, 0.5220933754069469, 0.5126252935160084, 0.5111322662418133, 0.5125678176995168, 0.5097573647992366, 0.5042191483404713, 0.48714072612872733, 0.5009616320280611], \"yaxis\": \"y\"}],\n",
       "                        {\"legend\": {\"tracegroupgap\": 0}, \"margin\": {\"t\": 60}, \"template\": {\"data\": {\"bar\": [{\"error_x\": {\"color\": \"#2a3f5f\"}, \"error_y\": {\"color\": \"#2a3f5f\"}, \"marker\": {\"line\": {\"color\": \"#E5ECF6\", \"width\": 0.5}}, \"type\": \"bar\"}], \"barpolar\": [{\"marker\": {\"line\": {\"color\": \"#E5ECF6\", \"width\": 0.5}}, \"type\": \"barpolar\"}], \"carpet\": [{\"aaxis\": {\"endlinecolor\": \"#2a3f5f\", \"gridcolor\": \"white\", \"linecolor\": \"white\", \"minorgridcolor\": \"white\", \"startlinecolor\": \"#2a3f5f\"}, \"baxis\": {\"endlinecolor\": \"#2a3f5f\", \"gridcolor\": \"white\", \"linecolor\": \"white\", \"minorgridcolor\": \"white\", \"startlinecolor\": \"#2a3f5f\"}, \"type\": \"carpet\"}], \"choropleth\": [{\"colorbar\": {\"outlinewidth\": 0, \"ticks\": \"\"}, \"type\": \"choropleth\"}], \"contour\": [{\"colorbar\": {\"outlinewidth\": 0, \"ticks\": \"\"}, \"colorscale\": [[0.0, \"#0d0887\"], [0.1111111111111111, \"#46039f\"], [0.2222222222222222, \"#7201a8\"], [0.3333333333333333, \"#9c179e\"], [0.4444444444444444, \"#bd3786\"], [0.5555555555555556, \"#d8576b\"], [0.6666666666666666, \"#ed7953\"], [0.7777777777777778, \"#fb9f3a\"], [0.8888888888888888, \"#fdca26\"], [1.0, \"#f0f921\"]], \"type\": \"contour\"}], \"contourcarpet\": [{\"colorbar\": {\"outlinewidth\": 0, \"ticks\": \"\"}, \"type\": \"contourcarpet\"}], \"heatmap\": [{\"colorbar\": {\"outlinewidth\": 0, \"ticks\": \"\"}, \"colorscale\": [[0.0, \"#0d0887\"], [0.1111111111111111, \"#46039f\"], [0.2222222222222222, \"#7201a8\"], [0.3333333333333333, \"#9c179e\"], [0.4444444444444444, \"#bd3786\"], [0.5555555555555556, \"#d8576b\"], [0.6666666666666666, \"#ed7953\"], [0.7777777777777778, \"#fb9f3a\"], [0.8888888888888888, \"#fdca26\"], [1.0, \"#f0f921\"]], \"type\": \"heatmap\"}], \"heatmapgl\": [{\"colorbar\": {\"outlinewidth\": 0, \"ticks\": \"\"}, \"colorscale\": [[0.0, \"#0d0887\"], [0.1111111111111111, \"#46039f\"], [0.2222222222222222, \"#7201a8\"], [0.3333333333333333, \"#9c179e\"], [0.4444444444444444, \"#bd3786\"], [0.5555555555555556, \"#d8576b\"], [0.6666666666666666, \"#ed7953\"], [0.7777777777777778, \"#fb9f3a\"], [0.8888888888888888, \"#fdca26\"], [1.0, \"#f0f921\"]], \"type\": \"heatmapgl\"}], \"histogram\": [{\"marker\": {\"colorbar\": {\"outlinewidth\": 0, \"ticks\": \"\"}}, \"type\": \"histogram\"}], \"histogram2d\": [{\"colorbar\": {\"outlinewidth\": 0, \"ticks\": \"\"}, \"colorscale\": [[0.0, \"#0d0887\"], [0.1111111111111111, \"#46039f\"], [0.2222222222222222, \"#7201a8\"], [0.3333333333333333, \"#9c179e\"], [0.4444444444444444, \"#bd3786\"], [0.5555555555555556, \"#d8576b\"], [0.6666666666666666, \"#ed7953\"], [0.7777777777777778, \"#fb9f3a\"], [0.8888888888888888, \"#fdca26\"], [1.0, \"#f0f921\"]], \"type\": \"histogram2d\"}], \"histogram2dcontour\": [{\"colorbar\": {\"outlinewidth\": 0, \"ticks\": \"\"}, \"colorscale\": [[0.0, \"#0d0887\"], [0.1111111111111111, \"#46039f\"], [0.2222222222222222, \"#7201a8\"], [0.3333333333333333, \"#9c179e\"], [0.4444444444444444, \"#bd3786\"], [0.5555555555555556, \"#d8576b\"], [0.6666666666666666, \"#ed7953\"], [0.7777777777777778, \"#fb9f3a\"], [0.8888888888888888, \"#fdca26\"], [1.0, \"#f0f921\"]], \"type\": \"histogram2dcontour\"}], \"mesh3d\": [{\"colorbar\": {\"outlinewidth\": 0, \"ticks\": \"\"}, \"type\": \"mesh3d\"}], \"parcoords\": [{\"line\": {\"colorbar\": {\"outlinewidth\": 0, \"ticks\": \"\"}}, \"type\": \"parcoords\"}], \"pie\": [{\"automargin\": true, \"type\": \"pie\"}], \"scatter\": [{\"marker\": {\"colorbar\": {\"outlinewidth\": 0, \"ticks\": \"\"}}, \"type\": \"scatter\"}], \"scatter3d\": [{\"line\": {\"colorbar\": {\"outlinewidth\": 0, \"ticks\": \"\"}}, \"marker\": {\"colorbar\": {\"outlinewidth\": 0, \"ticks\": \"\"}}, \"type\": \"scatter3d\"}], \"scattercarpet\": [{\"marker\": {\"colorbar\": {\"outlinewidth\": 0, \"ticks\": \"\"}}, \"type\": \"scattercarpet\"}], \"scattergeo\": [{\"marker\": {\"colorbar\": {\"outlinewidth\": 0, \"ticks\": \"\"}}, \"type\": \"scattergeo\"}], \"scattergl\": [{\"marker\": {\"colorbar\": {\"outlinewidth\": 0, \"ticks\": \"\"}}, \"type\": \"scattergl\"}], \"scattermapbox\": [{\"marker\": {\"colorbar\": {\"outlinewidth\": 0, \"ticks\": \"\"}}, \"type\": \"scattermapbox\"}], \"scatterpolar\": [{\"marker\": {\"colorbar\": {\"outlinewidth\": 0, \"ticks\": \"\"}}, \"type\": \"scatterpolar\"}], \"scatterpolargl\": [{\"marker\": {\"colorbar\": {\"outlinewidth\": 0, \"ticks\": \"\"}}, \"type\": \"scatterpolargl\"}], \"scatterternary\": [{\"marker\": {\"colorbar\": {\"outlinewidth\": 0, \"ticks\": \"\"}}, \"type\": \"scatterternary\"}], \"surface\": [{\"colorbar\": {\"outlinewidth\": 0, \"ticks\": \"\"}, \"colorscale\": [[0.0, \"#0d0887\"], [0.1111111111111111, \"#46039f\"], [0.2222222222222222, \"#7201a8\"], [0.3333333333333333, \"#9c179e\"], [0.4444444444444444, \"#bd3786\"], [0.5555555555555556, \"#d8576b\"], [0.6666666666666666, \"#ed7953\"], [0.7777777777777778, \"#fb9f3a\"], [0.8888888888888888, \"#fdca26\"], [1.0, \"#f0f921\"]], \"type\": \"surface\"}], \"table\": [{\"cells\": {\"fill\": {\"color\": \"#EBF0F8\"}, \"line\": {\"color\": \"white\"}}, \"header\": {\"fill\": {\"color\": \"#C8D4E3\"}, \"line\": {\"color\": \"white\"}}, \"type\": \"table\"}]}, \"layout\": {\"annotationdefaults\": {\"arrowcolor\": \"#2a3f5f\", \"arrowhead\": 0, \"arrowwidth\": 1}, \"coloraxis\": {\"colorbar\": {\"outlinewidth\": 0, \"ticks\": \"\"}}, \"colorscale\": {\"diverging\": [[0, \"#8e0152\"], [0.1, \"#c51b7d\"], [0.2, \"#de77ae\"], [0.3, \"#f1b6da\"], [0.4, \"#fde0ef\"], [0.5, \"#f7f7f7\"], [0.6, \"#e6f5d0\"], [0.7, \"#b8e186\"], [0.8, \"#7fbc41\"], [0.9, \"#4d9221\"], [1, \"#276419\"]], \"sequential\": [[0.0, \"#0d0887\"], [0.1111111111111111, \"#46039f\"], [0.2222222222222222, \"#7201a8\"], [0.3333333333333333, \"#9c179e\"], [0.4444444444444444, \"#bd3786\"], [0.5555555555555556, \"#d8576b\"], [0.6666666666666666, \"#ed7953\"], [0.7777777777777778, \"#fb9f3a\"], [0.8888888888888888, \"#fdca26\"], [1.0, \"#f0f921\"]], \"sequentialminus\": [[0.0, \"#0d0887\"], [0.1111111111111111, \"#46039f\"], [0.2222222222222222, \"#7201a8\"], [0.3333333333333333, \"#9c179e\"], [0.4444444444444444, \"#bd3786\"], [0.5555555555555556, \"#d8576b\"], [0.6666666666666666, \"#ed7953\"], [0.7777777777777778, \"#fb9f3a\"], [0.8888888888888888, \"#fdca26\"], [1.0, \"#f0f921\"]]}, \"colorway\": [\"#636efa\", \"#EF553B\", \"#00cc96\", \"#ab63fa\", \"#FFA15A\", \"#19d3f3\", \"#FF6692\", \"#B6E880\", \"#FF97FF\", \"#FECB52\"], \"font\": {\"color\": \"#2a3f5f\"}, \"geo\": {\"bgcolor\": \"white\", \"lakecolor\": \"white\", \"landcolor\": \"#E5ECF6\", \"showlakes\": true, \"showland\": true, \"subunitcolor\": \"white\"}, \"hoverlabel\": {\"align\": \"left\"}, \"hovermode\": \"closest\", \"mapbox\": {\"style\": \"light\"}, \"paper_bgcolor\": \"white\", \"plot_bgcolor\": \"#E5ECF6\", \"polar\": {\"angularaxis\": {\"gridcolor\": \"white\", \"linecolor\": \"white\", \"ticks\": \"\"}, \"bgcolor\": \"#E5ECF6\", \"radialaxis\": {\"gridcolor\": \"white\", \"linecolor\": \"white\", \"ticks\": \"\"}}, \"scene\": {\"xaxis\": {\"backgroundcolor\": \"#E5ECF6\", \"gridcolor\": \"white\", \"gridwidth\": 2, \"linecolor\": \"white\", \"showbackground\": true, \"ticks\": \"\", \"zerolinecolor\": \"white\"}, \"yaxis\": {\"backgroundcolor\": \"#E5ECF6\", \"gridcolor\": \"white\", \"gridwidth\": 2, \"linecolor\": \"white\", \"showbackground\": true, \"ticks\": \"\", \"zerolinecolor\": \"white\"}, \"zaxis\": {\"backgroundcolor\": \"#E5ECF6\", \"gridcolor\": \"white\", \"gridwidth\": 2, \"linecolor\": \"white\", \"showbackground\": true, \"ticks\": \"\", \"zerolinecolor\": \"white\"}}, \"shapedefaults\": {\"line\": {\"color\": \"#2a3f5f\"}}, \"ternary\": {\"aaxis\": {\"gridcolor\": \"white\", \"linecolor\": \"white\", \"ticks\": \"\"}, \"baxis\": {\"gridcolor\": \"white\", \"linecolor\": \"white\", \"ticks\": \"\"}, \"bgcolor\": \"#E5ECF6\", \"caxis\": {\"gridcolor\": \"white\", \"linecolor\": \"white\", \"ticks\": \"\"}}, \"title\": {\"x\": 0.05}, \"xaxis\": {\"automargin\": true, \"gridcolor\": \"white\", \"linecolor\": \"white\", \"ticks\": \"\", \"title\": {\"standoff\": 15}, \"zerolinecolor\": \"white\", \"zerolinewidth\": 2}, \"yaxis\": {\"automargin\": true, \"gridcolor\": \"white\", \"linecolor\": \"white\", \"ticks\": \"\", \"title\": {\"standoff\": 15}, \"zerolinecolor\": \"white\", \"zerolinewidth\": 2}}}, \"xaxis\": {\"anchor\": \"y\", \"domain\": [0.0, 1.0]}, \"yaxis\": {\"anchor\": \"x\", \"domain\": [0.0, 1.0], \"title\": {\"text\": \"y\"}}},\n",
       "                        {\"responsive\": true}\n",
       "                    ).then(function(){\n",
       "                            \n",
       "var gd = document.getElementById('890b842d-f7ec-485b-afc6-6a23f038b36b');\n",
       "var x = new MutationObserver(function (mutations, observer) {{\n",
       "        var display = window.getComputedStyle(gd).display;\n",
       "        if (!display || display === 'none') {{\n",
       "            console.log([gd, 'removed!']);\n",
       "            Plotly.purge(gd);\n",
       "            observer.disconnect();\n",
       "        }}\n",
       "}});\n",
       "\n",
       "// Listen for the removal of the full notebook cells\n",
       "var notebookContainer = gd.closest('#notebook-container');\n",
       "if (notebookContainer) {{\n",
       "    x.observe(notebookContainer, {childList: true});\n",
       "}}\n",
       "\n",
       "// Listen for the clearing of the current output cell\n",
       "var outputEl = gd.closest('.output');\n",
       "if (outputEl) {{\n",
       "    x.observe(outputEl, {childList: true});\n",
       "}}\n",
       "\n",
       "                        })\n",
       "                };\n",
       "                });\n",
       "            </script>\n",
       "        </div>"
      ]
     },
     "metadata": {},
     "output_type": "display_data"
    }
   ],
   "source": [
    "px.line(y=c.walker[1, ])"
   ]
  },
  {
   "cell_type": "code",
   "execution_count": null,
   "metadata": {},
   "outputs": [],
   "source": []
  }
 ],
 "metadata": {
  "@webio": {
   "lastCommId": null,
   "lastKernelId": null
  },
  "kernelspec": {
   "display_name": "Python 3",
   "language": "python",
   "name": "python3"
  },
  "language_info": {
   "codemirror_mode": {
    "name": "ipython",
    "version": 3
   },
   "file_extension": ".py",
   "mimetype": "text/x-python",
   "name": "python",
   "nbconvert_exporter": "python",
   "pygments_lexer": "ipython3",
   "version": "3.7.3"
  }
 },
 "nbformat": 4,
 "nbformat_minor": 2
}
