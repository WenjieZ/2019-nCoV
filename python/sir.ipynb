{
 "cells": [
  {
   "cell_type": "markdown",
   "metadata": {},
   "source": [
    " \\\\[\n",
    " \\begin{aligned}\n",
    " \\frac{dS}{dt} &= -\\frac{\\beta SI}{N} \\\\\n",
    " \\frac{dI}{dt} &= \\frac{\\beta SI}{N} - \\gamma I\\\\\n",
    " \\frac{dR}{dt} &= \\gamma I \n",
    " \\end{aligned}\n",
    " \\\\]\n"
   ]
  },
  {
   "cell_type": "code",
   "execution_count": 1,
   "metadata": {},
   "outputs": [],
   "source": [
    "import numpy as np\n",
    "from scipy.optimize import minimize\n",
    "import plotly.graph_objects as go \n",
    "import plotly.express as px \n",
    "import plotly.io as pio\n",
    "from plotly.subplots import make_subplots"
   ]
  },
  {
   "cell_type": "code",
   "execution_count": 2,
   "metadata": {},
   "outputs": [],
   "source": [
    "def binomial(trial, density):\n",
    "    return np.random.binomial(trial, density)\n",
    "\n",
    "def poisson(trial, density):\n",
    "    return np.random.poisson(trial*density)"
   ]
  },
  {
   "cell_type": "code",
   "execution_count": 3,
   "metadata": {},
   "outputs": [],
   "source": [
    "def loglikely(model, obs):\n",
    "    a, b = model, obs\n",
    "    lamb = a.I[b.ts] / a.N * b.ns\n",
    "    return -np.sum(lamb) + np.dot(b.xs, np.log(lamb)) \n",
    "\n",
    "def likely(model, obs):\n",
    "    return np.exp(loglikely(model, obs))"
   ]
  },
  {
   "cell_type": "code",
   "execution_count": 30,
   "metadata": {},
   "outputs": [],
   "source": [
    "class SIR_Model:\n",
    "    def __init__(self, beta=1, gamma=1, dt=1):\n",
    "        self.beta = beta*dt\n",
    "        self.gamma = gamma*dt\n",
    "        self.R0 = beta / gamma\n",
    "        \n",
    "    def __str__(self):\n",
    "        return \"β=\" + str(self.beta) + \" γ=\" + str(self.gamma)\n",
    "    \n",
    "    def inhabit(self, S0, I0, R0):\n",
    "        self.S0 = S0\n",
    "        self.I0 = I0\n",
    "        self.R0 = R0\n",
    "        self.N = S0 + I0 + R0\n",
    "        \n",
    "    def epidemic(self, T):\n",
    "        S = np.zeros(T+1)\n",
    "        I = np.zeros(T+1)\n",
    "        R = np.zeros(T+1)\n",
    "        S[0] = self.S0\n",
    "        I[0] = self.I0\n",
    "        R[0] = self.R0\n",
    "\n",
    "        for t in range(T):\n",
    "            a, b = self.beta*S[t]*I[t]/self.N, self.gamma*I[t]\n",
    "            S[t+1] = S[t] - a\n",
    "            I[t+1] = I[t] + a - b\n",
    "            R[t+1] = R[t] + b\n",
    "            \n",
    "        self.S = S\n",
    "        self.I = I\n",
    "        self.R = R\n",
    "        self.T = T\n",
    "        \n",
    "    def plot(self):\n",
    "        fig = go.Figure()\n",
    "        fig.update_layout(\n",
    "            margin=dict(b=0, l=0, r=0, t=50)\n",
    "        )\n",
    "        T = self.T\n",
    "        fig.add_scatter(x=np.arange(T+1), y=self.S.astype(int), name=\"Susceptible\", hovertemplate=\"%{y}\")\n",
    "        fig.add_scatter(x=np.arange(T+1), y=self.I.astype(int), name=\"Infectious\", hovertemplate=\"%{y}\")\n",
    "        fig.add_scatter(x=np.arange(T+1), y=self.R.astype(int), name=\"Removed\", hovertemplate=\"%{y}\")\n",
    "        return fig\n",
    "    \n",
    "    def sample(self, time, export, f):\n",
    "        for t, e in zip(time, export):\n",
    "            yield f(e, self.I[t]/self.N)\n",
    "            \n",
    "    def infer_obs_map(self, obs):\n",
    "        def fun(x):\n",
    "            m = SIR_Model(x[0], x[1])\n",
    "            m.inhabit(self.S0, self.I0, self.R0)\n",
    "            m.epidemic(self.T)\n",
    "            return (-loglikely(m, obs))\n",
    "        \n",
    "        res = minimize(fun, (0.5,0.5), method='nelder-mead', options={'xatol': 1e-8, 'disp': True})\n",
    "        return res.x\n",
    "    \n",
    "    def infer_obs_mcmc(self, obs):\n",
    "        def fun(x):\n",
    "            m = SIR_Model(x[0], x[1])\n",
    "            m.inhabit(self.S0, self.I0, self.R0)\n",
    "            m.epidemic(self.T)\n",
    "            return likely(m, obs)\n",
    "        \n",
    "        N = 1000\n",
    "        walk = np.zeros((N+1, 2))\n",
    "        x = np.array([0.5, 0.5])\n",
    "        px = fun(x)\n",
    "        walk[0, :] = x\n",
    "        for n in range(N):\n",
    "            y = x + np.random.multivariate_normal((0, 0), [[0.01, 0],[0, 0.01]])\n",
    "            if y[0]<=0 or y[0]>=1 or y[1]<=0 or y[1]>=1:\n",
    "                y = x\n",
    "            py = fun(y)\n",
    "            if np.random.rand() < py/px:\n",
    "                x, px = y, py\n",
    "            walk[n+1, :] = x\n",
    "        return np.mean(walk[100:, :], axis=0), walk"
   ]
  },
  {
   "cell_type": "code",
   "execution_count": 31,
   "metadata": {},
   "outputs": [
    {
     "data": {
      "application/vnd.plotly.v1+json": {
       "config": {
        "plotlyServerURL": "https://plot.ly"
       },
       "data": [
        {
         "hovertemplate": "%{y}",
         "name": "Susceptible",
         "type": "scatter",
         "x": [
          0,
          1,
          2,
          3,
          4,
          5,
          6,
          7,
          8,
          9,
          10,
          11,
          12,
          13,
          14,
          15,
          16,
          17,
          18,
          19,
          20,
          21,
          22,
          23,
          24,
          25,
          26,
          27,
          28,
          29,
          30,
          31,
          32,
          33,
          34,
          35,
          36,
          37,
          38,
          39,
          40,
          41,
          42,
          43,
          44,
          45,
          46,
          47,
          48,
          49,
          50,
          51,
          52,
          53,
          54,
          55,
          56,
          57,
          58,
          59,
          60,
          61,
          62,
          63,
          64,
          65,
          66,
          67,
          68,
          69,
          70,
          71,
          72,
          73,
          74,
          75,
          76,
          77,
          78,
          79,
          80,
          81,
          82,
          83,
          84,
          85,
          86,
          87,
          88,
          89,
          90,
          91,
          92,
          93,
          94,
          95,
          96,
          97,
          98,
          99,
          100
         ],
         "y": [
          9990000,
          9987003,
          9983408,
          9979098,
          9973930,
          9967734,
          9960310,
          9951414,
          9940759,
          9928002,
          9912736,
          9894478,
          9872657,
          9846598,
          9815509,
          9778462,
          9734378,
          9682008,
          9619917,
          9546474,
          9459846,
          9358004,
          9238742,
          9099719,
          8938529,
          8752803,
          8540355,
          8299361,
          8028584,
          7727616,
          7397127,
          7039067,
          6656800,
          6255103,
          5840012,
          5418497,
          4997995,
          4585864,
          4188832,
          3812546,
          3461273,
          3137780,
          2843395,
          2578194,
          2341263,
          2130979,
          1945279,
          1781876,
          1638431,
          1512673,
          1402471,
          1305879,
          1221149,
          1146735,
          1081284,
          1023618,
          972714,
          927694,
          887799,
          852374,
          820858,
          792767,
          767682,
          745241,
          725134,
          707088,
          690868,
          676269,
          663111,
          651238,
          640511,
          630810,
          622028,
          614070,
          606853,
          600302,
          594352,
          588945,
          584026,
          579551,
          575476,
          571764,
          568380,
          565296,
          562483,
          559916,
          557574,
          555435,
          553482,
          551698,
          550068,
          548578,
          547217,
          545972,
          544834,
          543793,
          542841,
          541971,
          541174,
          540446,
          539779
         ]
        },
        {
         "hovertemplate": "%{y}",
         "name": "Infectious",
         "type": "scatter",
         "x": [
          0,
          1,
          2,
          3,
          4,
          5,
          6,
          7,
          8,
          9,
          10,
          11,
          12,
          13,
          14,
          15,
          16,
          17,
          18,
          19,
          20,
          21,
          22,
          23,
          24,
          25,
          26,
          27,
          28,
          29,
          30,
          31,
          32,
          33,
          34,
          35,
          36,
          37,
          38,
          39,
          40,
          41,
          42,
          43,
          44,
          45,
          46,
          47,
          48,
          49,
          50,
          51,
          52,
          53,
          54,
          55,
          56,
          57,
          58,
          59,
          60,
          61,
          62,
          63,
          64,
          65,
          66,
          67,
          68,
          69,
          70,
          71,
          72,
          73,
          74,
          75,
          76,
          77,
          78,
          79,
          80,
          81,
          82,
          83,
          84,
          85,
          86,
          87,
          88,
          89,
          90,
          91,
          92,
          93,
          94,
          95,
          96,
          97,
          98,
          99,
          100
         ],
         "y": [
          10000,
          11997,
          14391,
          17262,
          20704,
          24829,
          29771,
          35690,
          42776,
          51255,
          61395,
          73513,
          87984,
          105244,
          125809,
          150274,
          179331,
          213768,
          254482,
          302477,
          358857,
          424813,
          501594,
          590458,
          692602,
          809067,
          940609,
          1087542,
          1249565,
          1425576,
          1613507,
          1810216,
          2011462,
          2212012,
          2405902,
          2586827,
          2748646,
          2885913,
          2994354,
          3071204,
          3115357,
          3127314,
          3108967,
          3063271,
          2993875,
          2904771,
          2799995,
          2683398,
          2558503,
          2428411,
          2295771,
          2162787,
          2031238,
          1902528,
          1777726,
          1657620,
          1542761,
          1433505,
          1330050,
          1232470,
          1140738,
          1054756,
          974366,
          899369,
          829540,
          764631,
          704388,
          648548,
          596851,
          549040,
          504862,
          464077,
          426452,
          391764,
          359805,
          330375,
          303287,
          278366,
          255448,
          234379,
          215016,
          197226,
          180887,
          165882,
          152107,
          139463,
          127859,
          117212,
          107444,
          98484,
          90265,
          82728,
          75817,
          69480,
          63670,
          58343,
          53461,
          48985,
          44883,
          41124,
          37678
         ]
        },
        {
         "hovertemplate": "%{y}",
         "name": "Removed",
         "type": "scatter",
         "x": [
          0,
          1,
          2,
          3,
          4,
          5,
          6,
          7,
          8,
          9,
          10,
          11,
          12,
          13,
          14,
          15,
          16,
          17,
          18,
          19,
          20,
          21,
          22,
          23,
          24,
          25,
          26,
          27,
          28,
          29,
          30,
          31,
          32,
          33,
          34,
          35,
          36,
          37,
          38,
          39,
          40,
          41,
          42,
          43,
          44,
          45,
          46,
          47,
          48,
          49,
          50,
          51,
          52,
          53,
          54,
          55,
          56,
          57,
          58,
          59,
          60,
          61,
          62,
          63,
          64,
          65,
          66,
          67,
          68,
          69,
          70,
          71,
          72,
          73,
          74,
          75,
          76,
          77,
          78,
          79,
          80,
          81,
          82,
          83,
          84,
          85,
          86,
          87,
          88,
          89,
          90,
          91,
          92,
          93,
          94,
          95,
          96,
          97,
          98,
          99,
          100
         ],
         "y": [
          0,
          1000,
          2199,
          3638,
          5365,
          7435,
          9918,
          12895,
          16464,
          20742,
          25867,
          32007,
          39358,
          48157,
          58681,
          71262,
          86290,
          104223,
          125599,
          151048,
          181295,
          217181,
          259663,
          309822,
          368868,
          438128,
          519035,
          613096,
          721850,
          846807,
          989364,
          1150715,
          1331737,
          1532883,
          1754084,
          1994674,
          2253357,
          2528222,
          2816813,
          3116249,
          3423369,
          3734905,
          4047636,
          4358533,
          4664860,
          4964248,
          5254725,
          5534724,
          5803064,
          6058915,
          6301756,
          6531333,
          6747612,
          6950736,
          7140988,
          7318761,
          7484523,
          7638799,
          7782150,
          7915155,
          8038402,
          8152476,
          8257951,
          8355388,
          8445325,
          8528279,
          8604742,
          8675181,
          8740036,
          8799721,
          8854625,
          8905111,
          8951519,
          8994164,
          9033341,
          9069321,
          9102359,
          9132688,
          9160524,
          9186069,
          9209507,
          9231009,
          9250731,
          9268820,
          9285408,
          9300619,
          9314566,
          9327352,
          9339073,
          9349817,
          9359666,
          9368692,
          9376965,
          9384547,
          9391495,
          9397862,
          9403696,
          9409042,
          9413941,
          9418429,
          9422542
         ]
        },
        {
         "hovertemplate": "%{y}",
         "mode": "markers",
         "name": "Guessed",
         "type": "scatter",
         "x": [
          10,
          20,
          30,
          40,
          50,
          60,
          70,
          80,
          90
         ],
         "y": [
          0,
          1000000,
          2000000,
          6000000,
          1000000,
          0,
          0,
          1000000,
          0
         ]
        }
       ],
       "layout": {
        "margin": {
         "b": 0,
         "l": 0,
         "r": 0,
         "t": 50
        },
        "template": {
         "data": {
          "bar": [
           {
            "error_x": {
             "color": "#2a3f5f"
            },
            "error_y": {
             "color": "#2a3f5f"
            },
            "marker": {
             "line": {
              "color": "#E5ECF6",
              "width": 0.5
             }
            },
            "type": "bar"
           }
          ],
          "barpolar": [
           {
            "marker": {
             "line": {
              "color": "#E5ECF6",
              "width": 0.5
             }
            },
            "type": "barpolar"
           }
          ],
          "carpet": [
           {
            "aaxis": {
             "endlinecolor": "#2a3f5f",
             "gridcolor": "white",
             "linecolor": "white",
             "minorgridcolor": "white",
             "startlinecolor": "#2a3f5f"
            },
            "baxis": {
             "endlinecolor": "#2a3f5f",
             "gridcolor": "white",
             "linecolor": "white",
             "minorgridcolor": "white",
             "startlinecolor": "#2a3f5f"
            },
            "type": "carpet"
           }
          ],
          "choropleth": [
           {
            "colorbar": {
             "outlinewidth": 0,
             "ticks": ""
            },
            "type": "choropleth"
           }
          ],
          "contour": [
           {
            "colorbar": {
             "outlinewidth": 0,
             "ticks": ""
            },
            "colorscale": [
             [
              0,
              "#0d0887"
             ],
             [
              0.1111111111111111,
              "#46039f"
             ],
             [
              0.2222222222222222,
              "#7201a8"
             ],
             [
              0.3333333333333333,
              "#9c179e"
             ],
             [
              0.4444444444444444,
              "#bd3786"
             ],
             [
              0.5555555555555556,
              "#d8576b"
             ],
             [
              0.6666666666666666,
              "#ed7953"
             ],
             [
              0.7777777777777778,
              "#fb9f3a"
             ],
             [
              0.8888888888888888,
              "#fdca26"
             ],
             [
              1,
              "#f0f921"
             ]
            ],
            "type": "contour"
           }
          ],
          "contourcarpet": [
           {
            "colorbar": {
             "outlinewidth": 0,
             "ticks": ""
            },
            "type": "contourcarpet"
           }
          ],
          "heatmap": [
           {
            "colorbar": {
             "outlinewidth": 0,
             "ticks": ""
            },
            "colorscale": [
             [
              0,
              "#0d0887"
             ],
             [
              0.1111111111111111,
              "#46039f"
             ],
             [
              0.2222222222222222,
              "#7201a8"
             ],
             [
              0.3333333333333333,
              "#9c179e"
             ],
             [
              0.4444444444444444,
              "#bd3786"
             ],
             [
              0.5555555555555556,
              "#d8576b"
             ],
             [
              0.6666666666666666,
              "#ed7953"
             ],
             [
              0.7777777777777778,
              "#fb9f3a"
             ],
             [
              0.8888888888888888,
              "#fdca26"
             ],
             [
              1,
              "#f0f921"
             ]
            ],
            "type": "heatmap"
           }
          ],
          "heatmapgl": [
           {
            "colorbar": {
             "outlinewidth": 0,
             "ticks": ""
            },
            "colorscale": [
             [
              0,
              "#0d0887"
             ],
             [
              0.1111111111111111,
              "#46039f"
             ],
             [
              0.2222222222222222,
              "#7201a8"
             ],
             [
              0.3333333333333333,
              "#9c179e"
             ],
             [
              0.4444444444444444,
              "#bd3786"
             ],
             [
              0.5555555555555556,
              "#d8576b"
             ],
             [
              0.6666666666666666,
              "#ed7953"
             ],
             [
              0.7777777777777778,
              "#fb9f3a"
             ],
             [
              0.8888888888888888,
              "#fdca26"
             ],
             [
              1,
              "#f0f921"
             ]
            ],
            "type": "heatmapgl"
           }
          ],
          "histogram": [
           {
            "marker": {
             "colorbar": {
              "outlinewidth": 0,
              "ticks": ""
             }
            },
            "type": "histogram"
           }
          ],
          "histogram2d": [
           {
            "colorbar": {
             "outlinewidth": 0,
             "ticks": ""
            },
            "colorscale": [
             [
              0,
              "#0d0887"
             ],
             [
              0.1111111111111111,
              "#46039f"
             ],
             [
              0.2222222222222222,
              "#7201a8"
             ],
             [
              0.3333333333333333,
              "#9c179e"
             ],
             [
              0.4444444444444444,
              "#bd3786"
             ],
             [
              0.5555555555555556,
              "#d8576b"
             ],
             [
              0.6666666666666666,
              "#ed7953"
             ],
             [
              0.7777777777777778,
              "#fb9f3a"
             ],
             [
              0.8888888888888888,
              "#fdca26"
             ],
             [
              1,
              "#f0f921"
             ]
            ],
            "type": "histogram2d"
           }
          ],
          "histogram2dcontour": [
           {
            "colorbar": {
             "outlinewidth": 0,
             "ticks": ""
            },
            "colorscale": [
             [
              0,
              "#0d0887"
             ],
             [
              0.1111111111111111,
              "#46039f"
             ],
             [
              0.2222222222222222,
              "#7201a8"
             ],
             [
              0.3333333333333333,
              "#9c179e"
             ],
             [
              0.4444444444444444,
              "#bd3786"
             ],
             [
              0.5555555555555556,
              "#d8576b"
             ],
             [
              0.6666666666666666,
              "#ed7953"
             ],
             [
              0.7777777777777778,
              "#fb9f3a"
             ],
             [
              0.8888888888888888,
              "#fdca26"
             ],
             [
              1,
              "#f0f921"
             ]
            ],
            "type": "histogram2dcontour"
           }
          ],
          "mesh3d": [
           {
            "colorbar": {
             "outlinewidth": 0,
             "ticks": ""
            },
            "type": "mesh3d"
           }
          ],
          "parcoords": [
           {
            "line": {
             "colorbar": {
              "outlinewidth": 0,
              "ticks": ""
             }
            },
            "type": "parcoords"
           }
          ],
          "pie": [
           {
            "automargin": true,
            "type": "pie"
           }
          ],
          "scatter": [
           {
            "marker": {
             "colorbar": {
              "outlinewidth": 0,
              "ticks": ""
             }
            },
            "type": "scatter"
           }
          ],
          "scatter3d": [
           {
            "line": {
             "colorbar": {
              "outlinewidth": 0,
              "ticks": ""
             }
            },
            "marker": {
             "colorbar": {
              "outlinewidth": 0,
              "ticks": ""
             }
            },
            "type": "scatter3d"
           }
          ],
          "scattercarpet": [
           {
            "marker": {
             "colorbar": {
              "outlinewidth": 0,
              "ticks": ""
             }
            },
            "type": "scattercarpet"
           }
          ],
          "scattergeo": [
           {
            "marker": {
             "colorbar": {
              "outlinewidth": 0,
              "ticks": ""
             }
            },
            "type": "scattergeo"
           }
          ],
          "scattergl": [
           {
            "marker": {
             "colorbar": {
              "outlinewidth": 0,
              "ticks": ""
             }
            },
            "type": "scattergl"
           }
          ],
          "scattermapbox": [
           {
            "marker": {
             "colorbar": {
              "outlinewidth": 0,
              "ticks": ""
             }
            },
            "type": "scattermapbox"
           }
          ],
          "scatterpolar": [
           {
            "marker": {
             "colorbar": {
              "outlinewidth": 0,
              "ticks": ""
             }
            },
            "type": "scatterpolar"
           }
          ],
          "scatterpolargl": [
           {
            "marker": {
             "colorbar": {
              "outlinewidth": 0,
              "ticks": ""
             }
            },
            "type": "scatterpolargl"
           }
          ],
          "scatterternary": [
           {
            "marker": {
             "colorbar": {
              "outlinewidth": 0,
              "ticks": ""
             }
            },
            "type": "scatterternary"
           }
          ],
          "surface": [
           {
            "colorbar": {
             "outlinewidth": 0,
             "ticks": ""
            },
            "colorscale": [
             [
              0,
              "#0d0887"
             ],
             [
              0.1111111111111111,
              "#46039f"
             ],
             [
              0.2222222222222222,
              "#7201a8"
             ],
             [
              0.3333333333333333,
              "#9c179e"
             ],
             [
              0.4444444444444444,
              "#bd3786"
             ],
             [
              0.5555555555555556,
              "#d8576b"
             ],
             [
              0.6666666666666666,
              "#ed7953"
             ],
             [
              0.7777777777777778,
              "#fb9f3a"
             ],
             [
              0.8888888888888888,
              "#fdca26"
             ],
             [
              1,
              "#f0f921"
             ]
            ],
            "type": "surface"
           }
          ],
          "table": [
           {
            "cells": {
             "fill": {
              "color": "#EBF0F8"
             },
             "line": {
              "color": "white"
             }
            },
            "header": {
             "fill": {
              "color": "#C8D4E3"
             },
             "line": {
              "color": "white"
             }
            },
            "type": "table"
           }
          ]
         },
         "layout": {
          "annotationdefaults": {
           "arrowcolor": "#2a3f5f",
           "arrowhead": 0,
           "arrowwidth": 1
          },
          "coloraxis": {
           "colorbar": {
            "outlinewidth": 0,
            "ticks": ""
           }
          },
          "colorscale": {
           "diverging": [
            [
             0,
             "#8e0152"
            ],
            [
             0.1,
             "#c51b7d"
            ],
            [
             0.2,
             "#de77ae"
            ],
            [
             0.3,
             "#f1b6da"
            ],
            [
             0.4,
             "#fde0ef"
            ],
            [
             0.5,
             "#f7f7f7"
            ],
            [
             0.6,
             "#e6f5d0"
            ],
            [
             0.7,
             "#b8e186"
            ],
            [
             0.8,
             "#7fbc41"
            ],
            [
             0.9,
             "#4d9221"
            ],
            [
             1,
             "#276419"
            ]
           ],
           "sequential": [
            [
             0,
             "#0d0887"
            ],
            [
             0.1111111111111111,
             "#46039f"
            ],
            [
             0.2222222222222222,
             "#7201a8"
            ],
            [
             0.3333333333333333,
             "#9c179e"
            ],
            [
             0.4444444444444444,
             "#bd3786"
            ],
            [
             0.5555555555555556,
             "#d8576b"
            ],
            [
             0.6666666666666666,
             "#ed7953"
            ],
            [
             0.7777777777777778,
             "#fb9f3a"
            ],
            [
             0.8888888888888888,
             "#fdca26"
            ],
            [
             1,
             "#f0f921"
            ]
           ],
           "sequentialminus": [
            [
             0,
             "#0d0887"
            ],
            [
             0.1111111111111111,
             "#46039f"
            ],
            [
             0.2222222222222222,
             "#7201a8"
            ],
            [
             0.3333333333333333,
             "#9c179e"
            ],
            [
             0.4444444444444444,
             "#bd3786"
            ],
            [
             0.5555555555555556,
             "#d8576b"
            ],
            [
             0.6666666666666666,
             "#ed7953"
            ],
            [
             0.7777777777777778,
             "#fb9f3a"
            ],
            [
             0.8888888888888888,
             "#fdca26"
            ],
            [
             1,
             "#f0f921"
            ]
           ]
          },
          "colorway": [
           "#636efa",
           "#EF553B",
           "#00cc96",
           "#ab63fa",
           "#FFA15A",
           "#19d3f3",
           "#FF6692",
           "#B6E880",
           "#FF97FF",
           "#FECB52"
          ],
          "font": {
           "color": "#2a3f5f"
          },
          "geo": {
           "bgcolor": "white",
           "lakecolor": "white",
           "landcolor": "#E5ECF6",
           "showlakes": true,
           "showland": true,
           "subunitcolor": "white"
          },
          "hoverlabel": {
           "align": "left"
          },
          "hovermode": "closest",
          "mapbox": {
           "style": "light"
          },
          "paper_bgcolor": "white",
          "plot_bgcolor": "#E5ECF6",
          "polar": {
           "angularaxis": {
            "gridcolor": "white",
            "linecolor": "white",
            "ticks": ""
           },
           "bgcolor": "#E5ECF6",
           "radialaxis": {
            "gridcolor": "white",
            "linecolor": "white",
            "ticks": ""
           }
          },
          "scene": {
           "xaxis": {
            "backgroundcolor": "#E5ECF6",
            "gridcolor": "white",
            "gridwidth": 2,
            "linecolor": "white",
            "showbackground": true,
            "ticks": "",
            "zerolinecolor": "white"
           },
           "yaxis": {
            "backgroundcolor": "#E5ECF6",
            "gridcolor": "white",
            "gridwidth": 2,
            "linecolor": "white",
            "showbackground": true,
            "ticks": "",
            "zerolinecolor": "white"
           },
           "zaxis": {
            "backgroundcolor": "#E5ECF6",
            "gridcolor": "white",
            "gridwidth": 2,
            "linecolor": "white",
            "showbackground": true,
            "ticks": "",
            "zerolinecolor": "white"
           }
          },
          "shapedefaults": {
           "line": {
            "color": "#2a3f5f"
           }
          },
          "ternary": {
           "aaxis": {
            "gridcolor": "white",
            "linecolor": "white",
            "ticks": ""
           },
           "baxis": {
            "gridcolor": "white",
            "linecolor": "white",
            "ticks": ""
           },
           "bgcolor": "#E5ECF6",
           "caxis": {
            "gridcolor": "white",
            "linecolor": "white",
            "ticks": ""
           }
          },
          "title": {
           "x": 0.05
          },
          "xaxis": {
           "automargin": true,
           "gridcolor": "white",
           "linecolor": "white",
           "ticks": "",
           "title": {
            "standoff": 15
           },
           "zerolinecolor": "white",
           "zerolinewidth": 2
          },
          "yaxis": {
           "automargin": true,
           "gridcolor": "white",
           "linecolor": "white",
           "ticks": "",
           "title": {
            "standoff": 15
           },
           "zerolinecolor": "white",
           "zerolinewidth": 2
          }
         }
        }
       }
      },
      "text/html": [
       "<div>\n",
       "        \n",
       "        \n",
       "            <div id=\"3b23f396-f35d-40fd-b733-1dd6f2e3d927\" class=\"plotly-graph-div\" style=\"height:525px; width:100%;\"></div>\n",
       "            <script type=\"text/javascript\">\n",
       "                require([\"plotly\"], function(Plotly) {\n",
       "                    window.PLOTLYENV=window.PLOTLYENV || {};\n",
       "                    \n",
       "                if (document.getElementById(\"3b23f396-f35d-40fd-b733-1dd6f2e3d927\")) {\n",
       "                    Plotly.newPlot(\n",
       "                        '3b23f396-f35d-40fd-b733-1dd6f2e3d927',\n",
       "                        [{\"hovertemplate\": \"%{y}\", \"name\": \"Susceptible\", \"type\": \"scatter\", \"x\": [0, 1, 2, 3, 4, 5, 6, 7, 8, 9, 10, 11, 12, 13, 14, 15, 16, 17, 18, 19, 20, 21, 22, 23, 24, 25, 26, 27, 28, 29, 30, 31, 32, 33, 34, 35, 36, 37, 38, 39, 40, 41, 42, 43, 44, 45, 46, 47, 48, 49, 50, 51, 52, 53, 54, 55, 56, 57, 58, 59, 60, 61, 62, 63, 64, 65, 66, 67, 68, 69, 70, 71, 72, 73, 74, 75, 76, 77, 78, 79, 80, 81, 82, 83, 84, 85, 86, 87, 88, 89, 90, 91, 92, 93, 94, 95, 96, 97, 98, 99, 100], \"y\": [9990000, 9987003, 9983408, 9979098, 9973930, 9967734, 9960310, 9951414, 9940759, 9928002, 9912736, 9894478, 9872657, 9846598, 9815509, 9778462, 9734378, 9682008, 9619917, 9546474, 9459846, 9358004, 9238742, 9099719, 8938529, 8752803, 8540355, 8299361, 8028584, 7727616, 7397127, 7039067, 6656800, 6255103, 5840012, 5418497, 4997995, 4585864, 4188832, 3812546, 3461273, 3137780, 2843395, 2578194, 2341263, 2130979, 1945279, 1781876, 1638431, 1512673, 1402471, 1305879, 1221149, 1146735, 1081284, 1023618, 972714, 927694, 887799, 852374, 820858, 792767, 767682, 745241, 725134, 707088, 690868, 676269, 663111, 651238, 640511, 630810, 622028, 614070, 606853, 600302, 594352, 588945, 584026, 579551, 575476, 571764, 568380, 565296, 562483, 559916, 557574, 555435, 553482, 551698, 550068, 548578, 547217, 545972, 544834, 543793, 542841, 541971, 541174, 540446, 539779]}, {\"hovertemplate\": \"%{y}\", \"name\": \"Infectious\", \"type\": \"scatter\", \"x\": [0, 1, 2, 3, 4, 5, 6, 7, 8, 9, 10, 11, 12, 13, 14, 15, 16, 17, 18, 19, 20, 21, 22, 23, 24, 25, 26, 27, 28, 29, 30, 31, 32, 33, 34, 35, 36, 37, 38, 39, 40, 41, 42, 43, 44, 45, 46, 47, 48, 49, 50, 51, 52, 53, 54, 55, 56, 57, 58, 59, 60, 61, 62, 63, 64, 65, 66, 67, 68, 69, 70, 71, 72, 73, 74, 75, 76, 77, 78, 79, 80, 81, 82, 83, 84, 85, 86, 87, 88, 89, 90, 91, 92, 93, 94, 95, 96, 97, 98, 99, 100], \"y\": [10000, 11997, 14391, 17262, 20704, 24829, 29771, 35690, 42776, 51255, 61395, 73513, 87984, 105244, 125809, 150274, 179331, 213768, 254482, 302477, 358857, 424813, 501594, 590458, 692602, 809067, 940609, 1087542, 1249565, 1425576, 1613507, 1810216, 2011462, 2212012, 2405902, 2586827, 2748646, 2885913, 2994354, 3071204, 3115357, 3127314, 3108967, 3063271, 2993875, 2904771, 2799995, 2683398, 2558503, 2428411, 2295771, 2162787, 2031238, 1902528, 1777726, 1657620, 1542761, 1433505, 1330050, 1232470, 1140738, 1054756, 974366, 899369, 829540, 764631, 704388, 648548, 596851, 549040, 504862, 464077, 426452, 391764, 359805, 330375, 303287, 278366, 255448, 234379, 215016, 197226, 180887, 165882, 152107, 139463, 127859, 117212, 107444, 98484, 90265, 82728, 75817, 69480, 63670, 58343, 53461, 48985, 44883, 41124, 37678]}, {\"hovertemplate\": \"%{y}\", \"name\": \"Removed\", \"type\": \"scatter\", \"x\": [0, 1, 2, 3, 4, 5, 6, 7, 8, 9, 10, 11, 12, 13, 14, 15, 16, 17, 18, 19, 20, 21, 22, 23, 24, 25, 26, 27, 28, 29, 30, 31, 32, 33, 34, 35, 36, 37, 38, 39, 40, 41, 42, 43, 44, 45, 46, 47, 48, 49, 50, 51, 52, 53, 54, 55, 56, 57, 58, 59, 60, 61, 62, 63, 64, 65, 66, 67, 68, 69, 70, 71, 72, 73, 74, 75, 76, 77, 78, 79, 80, 81, 82, 83, 84, 85, 86, 87, 88, 89, 90, 91, 92, 93, 94, 95, 96, 97, 98, 99, 100], \"y\": [0, 1000, 2199, 3638, 5365, 7435, 9918, 12895, 16464, 20742, 25867, 32007, 39358, 48157, 58681, 71262, 86290, 104223, 125599, 151048, 181295, 217181, 259663, 309822, 368868, 438128, 519035, 613096, 721850, 846807, 989364, 1150715, 1331737, 1532883, 1754084, 1994674, 2253357, 2528222, 2816813, 3116249, 3423369, 3734905, 4047636, 4358533, 4664860, 4964248, 5254725, 5534724, 5803064, 6058915, 6301756, 6531333, 6747612, 6950736, 7140988, 7318761, 7484523, 7638799, 7782150, 7915155, 8038402, 8152476, 8257951, 8355388, 8445325, 8528279, 8604742, 8675181, 8740036, 8799721, 8854625, 8905111, 8951519, 8994164, 9033341, 9069321, 9102359, 9132688, 9160524, 9186069, 9209507, 9231009, 9250731, 9268820, 9285408, 9300619, 9314566, 9327352, 9339073, 9349817, 9359666, 9368692, 9376965, 9384547, 9391495, 9397862, 9403696, 9409042, 9413941, 9418429, 9422542]}, {\"hovertemplate\": \"%{y}\", \"mode\": \"markers\", \"name\": \"Guessed\", \"type\": \"scatter\", \"x\": [10, 20, 30, 40, 50, 60, 70, 80, 90], \"y\": [0.0, 1000000.0, 2000000.0, 6000000.0, 1000000.0, 0.0, 0.0, 1000000.0, 0.0]}],\n",
       "                        {\"margin\": {\"b\": 0, \"l\": 0, \"r\": 0, \"t\": 50}, \"template\": {\"data\": {\"bar\": [{\"error_x\": {\"color\": \"#2a3f5f\"}, \"error_y\": {\"color\": \"#2a3f5f\"}, \"marker\": {\"line\": {\"color\": \"#E5ECF6\", \"width\": 0.5}}, \"type\": \"bar\"}], \"barpolar\": [{\"marker\": {\"line\": {\"color\": \"#E5ECF6\", \"width\": 0.5}}, \"type\": \"barpolar\"}], \"carpet\": [{\"aaxis\": {\"endlinecolor\": \"#2a3f5f\", \"gridcolor\": \"white\", \"linecolor\": \"white\", \"minorgridcolor\": \"white\", \"startlinecolor\": \"#2a3f5f\"}, \"baxis\": {\"endlinecolor\": \"#2a3f5f\", \"gridcolor\": \"white\", \"linecolor\": \"white\", \"minorgridcolor\": \"white\", \"startlinecolor\": \"#2a3f5f\"}, \"type\": \"carpet\"}], \"choropleth\": [{\"colorbar\": {\"outlinewidth\": 0, \"ticks\": \"\"}, \"type\": \"choropleth\"}], \"contour\": [{\"colorbar\": {\"outlinewidth\": 0, \"ticks\": \"\"}, \"colorscale\": [[0.0, \"#0d0887\"], [0.1111111111111111, \"#46039f\"], [0.2222222222222222, \"#7201a8\"], [0.3333333333333333, \"#9c179e\"], [0.4444444444444444, \"#bd3786\"], [0.5555555555555556, \"#d8576b\"], [0.6666666666666666, \"#ed7953\"], [0.7777777777777778, \"#fb9f3a\"], [0.8888888888888888, \"#fdca26\"], [1.0, \"#f0f921\"]], \"type\": \"contour\"}], \"contourcarpet\": [{\"colorbar\": {\"outlinewidth\": 0, \"ticks\": \"\"}, \"type\": \"contourcarpet\"}], \"heatmap\": [{\"colorbar\": {\"outlinewidth\": 0, \"ticks\": \"\"}, \"colorscale\": [[0.0, \"#0d0887\"], [0.1111111111111111, \"#46039f\"], [0.2222222222222222, \"#7201a8\"], [0.3333333333333333, \"#9c179e\"], [0.4444444444444444, \"#bd3786\"], [0.5555555555555556, \"#d8576b\"], [0.6666666666666666, \"#ed7953\"], [0.7777777777777778, \"#fb9f3a\"], [0.8888888888888888, \"#fdca26\"], [1.0, \"#f0f921\"]], \"type\": \"heatmap\"}], \"heatmapgl\": [{\"colorbar\": {\"outlinewidth\": 0, \"ticks\": \"\"}, \"colorscale\": [[0.0, \"#0d0887\"], [0.1111111111111111, \"#46039f\"], [0.2222222222222222, \"#7201a8\"], [0.3333333333333333, \"#9c179e\"], [0.4444444444444444, \"#bd3786\"], [0.5555555555555556, \"#d8576b\"], [0.6666666666666666, \"#ed7953\"], [0.7777777777777778, \"#fb9f3a\"], [0.8888888888888888, \"#fdca26\"], [1.0, \"#f0f921\"]], \"type\": \"heatmapgl\"}], \"histogram\": [{\"marker\": {\"colorbar\": {\"outlinewidth\": 0, \"ticks\": \"\"}}, \"type\": \"histogram\"}], \"histogram2d\": [{\"colorbar\": {\"outlinewidth\": 0, \"ticks\": \"\"}, \"colorscale\": [[0.0, \"#0d0887\"], [0.1111111111111111, \"#46039f\"], [0.2222222222222222, \"#7201a8\"], [0.3333333333333333, \"#9c179e\"], [0.4444444444444444, \"#bd3786\"], [0.5555555555555556, \"#d8576b\"], [0.6666666666666666, \"#ed7953\"], [0.7777777777777778, \"#fb9f3a\"], [0.8888888888888888, \"#fdca26\"], [1.0, \"#f0f921\"]], \"type\": \"histogram2d\"}], \"histogram2dcontour\": [{\"colorbar\": {\"outlinewidth\": 0, \"ticks\": \"\"}, \"colorscale\": [[0.0, \"#0d0887\"], [0.1111111111111111, \"#46039f\"], [0.2222222222222222, \"#7201a8\"], [0.3333333333333333, \"#9c179e\"], [0.4444444444444444, \"#bd3786\"], [0.5555555555555556, \"#d8576b\"], [0.6666666666666666, \"#ed7953\"], [0.7777777777777778, \"#fb9f3a\"], [0.8888888888888888, \"#fdca26\"], [1.0, \"#f0f921\"]], \"type\": \"histogram2dcontour\"}], \"mesh3d\": [{\"colorbar\": {\"outlinewidth\": 0, \"ticks\": \"\"}, \"type\": \"mesh3d\"}], \"parcoords\": [{\"line\": {\"colorbar\": {\"outlinewidth\": 0, \"ticks\": \"\"}}, \"type\": \"parcoords\"}], \"pie\": [{\"automargin\": true, \"type\": \"pie\"}], \"scatter\": [{\"marker\": {\"colorbar\": {\"outlinewidth\": 0, \"ticks\": \"\"}}, \"type\": \"scatter\"}], \"scatter3d\": [{\"line\": {\"colorbar\": {\"outlinewidth\": 0, \"ticks\": \"\"}}, \"marker\": {\"colorbar\": {\"outlinewidth\": 0, \"ticks\": \"\"}}, \"type\": \"scatter3d\"}], \"scattercarpet\": [{\"marker\": {\"colorbar\": {\"outlinewidth\": 0, \"ticks\": \"\"}}, \"type\": \"scattercarpet\"}], \"scattergeo\": [{\"marker\": {\"colorbar\": {\"outlinewidth\": 0, \"ticks\": \"\"}}, \"type\": \"scattergeo\"}], \"scattergl\": [{\"marker\": {\"colorbar\": {\"outlinewidth\": 0, \"ticks\": \"\"}}, \"type\": \"scattergl\"}], \"scattermapbox\": [{\"marker\": {\"colorbar\": {\"outlinewidth\": 0, \"ticks\": \"\"}}, \"type\": \"scattermapbox\"}], \"scatterpolar\": [{\"marker\": {\"colorbar\": {\"outlinewidth\": 0, \"ticks\": \"\"}}, \"type\": \"scatterpolar\"}], \"scatterpolargl\": [{\"marker\": {\"colorbar\": {\"outlinewidth\": 0, \"ticks\": \"\"}}, \"type\": \"scatterpolargl\"}], \"scatterternary\": [{\"marker\": {\"colorbar\": {\"outlinewidth\": 0, \"ticks\": \"\"}}, \"type\": \"scatterternary\"}], \"surface\": [{\"colorbar\": {\"outlinewidth\": 0, \"ticks\": \"\"}, \"colorscale\": [[0.0, \"#0d0887\"], [0.1111111111111111, \"#46039f\"], [0.2222222222222222, \"#7201a8\"], [0.3333333333333333, \"#9c179e\"], [0.4444444444444444, \"#bd3786\"], [0.5555555555555556, \"#d8576b\"], [0.6666666666666666, \"#ed7953\"], [0.7777777777777778, \"#fb9f3a\"], [0.8888888888888888, \"#fdca26\"], [1.0, \"#f0f921\"]], \"type\": \"surface\"}], \"table\": [{\"cells\": {\"fill\": {\"color\": \"#EBF0F8\"}, \"line\": {\"color\": \"white\"}}, \"header\": {\"fill\": {\"color\": \"#C8D4E3\"}, \"line\": {\"color\": \"white\"}}, \"type\": \"table\"}]}, \"layout\": {\"annotationdefaults\": {\"arrowcolor\": \"#2a3f5f\", \"arrowhead\": 0, \"arrowwidth\": 1}, \"coloraxis\": {\"colorbar\": {\"outlinewidth\": 0, \"ticks\": \"\"}}, \"colorscale\": {\"diverging\": [[0, \"#8e0152\"], [0.1, \"#c51b7d\"], [0.2, \"#de77ae\"], [0.3, \"#f1b6da\"], [0.4, \"#fde0ef\"], [0.5, \"#f7f7f7\"], [0.6, \"#e6f5d0\"], [0.7, \"#b8e186\"], [0.8, \"#7fbc41\"], [0.9, \"#4d9221\"], [1, \"#276419\"]], \"sequential\": [[0.0, \"#0d0887\"], [0.1111111111111111, \"#46039f\"], [0.2222222222222222, \"#7201a8\"], [0.3333333333333333, \"#9c179e\"], [0.4444444444444444, \"#bd3786\"], [0.5555555555555556, \"#d8576b\"], [0.6666666666666666, \"#ed7953\"], [0.7777777777777778, \"#fb9f3a\"], [0.8888888888888888, \"#fdca26\"], [1.0, \"#f0f921\"]], \"sequentialminus\": [[0.0, \"#0d0887\"], [0.1111111111111111, \"#46039f\"], [0.2222222222222222, \"#7201a8\"], [0.3333333333333333, \"#9c179e\"], [0.4444444444444444, \"#bd3786\"], [0.5555555555555556, \"#d8576b\"], [0.6666666666666666, \"#ed7953\"], [0.7777777777777778, \"#fb9f3a\"], [0.8888888888888888, \"#fdca26\"], [1.0, \"#f0f921\"]]}, \"colorway\": [\"#636efa\", \"#EF553B\", \"#00cc96\", \"#ab63fa\", \"#FFA15A\", \"#19d3f3\", \"#FF6692\", \"#B6E880\", \"#FF97FF\", \"#FECB52\"], \"font\": {\"color\": \"#2a3f5f\"}, \"geo\": {\"bgcolor\": \"white\", \"lakecolor\": \"white\", \"landcolor\": \"#E5ECF6\", \"showlakes\": true, \"showland\": true, \"subunitcolor\": \"white\"}, \"hoverlabel\": {\"align\": \"left\"}, \"hovermode\": \"closest\", \"mapbox\": {\"style\": \"light\"}, \"paper_bgcolor\": \"white\", \"plot_bgcolor\": \"#E5ECF6\", \"polar\": {\"angularaxis\": {\"gridcolor\": \"white\", \"linecolor\": \"white\", \"ticks\": \"\"}, \"bgcolor\": \"#E5ECF6\", \"radialaxis\": {\"gridcolor\": \"white\", \"linecolor\": \"white\", \"ticks\": \"\"}}, \"scene\": {\"xaxis\": {\"backgroundcolor\": \"#E5ECF6\", \"gridcolor\": \"white\", \"gridwidth\": 2, \"linecolor\": \"white\", \"showbackground\": true, \"ticks\": \"\", \"zerolinecolor\": \"white\"}, \"yaxis\": {\"backgroundcolor\": \"#E5ECF6\", \"gridcolor\": \"white\", \"gridwidth\": 2, \"linecolor\": \"white\", \"showbackground\": true, \"ticks\": \"\", \"zerolinecolor\": \"white\"}, \"zaxis\": {\"backgroundcolor\": \"#E5ECF6\", \"gridcolor\": \"white\", \"gridwidth\": 2, \"linecolor\": \"white\", \"showbackground\": true, \"ticks\": \"\", \"zerolinecolor\": \"white\"}}, \"shapedefaults\": {\"line\": {\"color\": \"#2a3f5f\"}}, \"ternary\": {\"aaxis\": {\"gridcolor\": \"white\", \"linecolor\": \"white\", \"ticks\": \"\"}, \"baxis\": {\"gridcolor\": \"white\", \"linecolor\": \"white\", \"ticks\": \"\"}, \"bgcolor\": \"#E5ECF6\", \"caxis\": {\"gridcolor\": \"white\", \"linecolor\": \"white\", \"ticks\": \"\"}}, \"title\": {\"x\": 0.05}, \"xaxis\": {\"automargin\": true, \"gridcolor\": \"white\", \"linecolor\": \"white\", \"ticks\": \"\", \"title\": {\"standoff\": 15}, \"zerolinecolor\": \"white\", \"zerolinewidth\": 2}, \"yaxis\": {\"automargin\": true, \"gridcolor\": \"white\", \"linecolor\": \"white\", \"ticks\": \"\", \"title\": {\"standoff\": 15}, \"zerolinecolor\": \"white\", \"zerolinewidth\": 2}}}},\n",
       "                        {\"responsive\": true}\n",
       "                    ).then(function(){\n",
       "                            \n",
       "var gd = document.getElementById('3b23f396-f35d-40fd-b733-1dd6f2e3d927');\n",
       "var x = new MutationObserver(function (mutations, observer) {{\n",
       "        var display = window.getComputedStyle(gd).display;\n",
       "        if (!display || display === 'none') {{\n",
       "            console.log([gd, 'removed!']);\n",
       "            Plotly.purge(gd);\n",
       "            observer.disconnect();\n",
       "        }}\n",
       "}});\n",
       "\n",
       "// Listen for the removal of the full notebook cells\n",
       "var notebookContainer = gd.closest('#notebook-container');\n",
       "if (notebookContainer) {{\n",
       "    x.observe(notebookContainer, {childList: true});\n",
       "}}\n",
       "\n",
       "// Listen for the clearing of the current output cell\n",
       "var outputEl = gd.closest('.output');\n",
       "if (outputEl) {{\n",
       "    x.observe(outputEl, {childList: true});\n",
       "}}\n",
       "\n",
       "                        })\n",
       "                };\n",
       "                });\n",
       "            </script>\n",
       "        </div>"
      ]
     },
     "metadata": {},
     "output_type": "display_data"
    }
   ],
   "source": [
    "a = SIR_Model(3, 1, 0.1)\n",
    "a.inhabit(1e7-1e4, 1e4, 0)\n",
    "\n",
    "T = 100\n",
    "a.epidemic(T)\n",
    "\n",
    "np.random.seed(0)\n",
    "b_design = np.arange(T//10, T, T//10)\n",
    "export = 10*np.ones_like(b_design)\n",
    "positive = np.array(list(a.sample(b_design, export, poisson)))\n",
    "\n",
    "fig = a.plot()\n",
    "fig.add_scatter(x=b_design, y=positive/export*a.N, mode=\"markers\", name=\"Guessed\", hovertemplate=\"%{y}\")"
   ]
  },
  {
   "cell_type": "code",
   "execution_count": 32,
   "metadata": {},
   "outputs": [],
   "source": [
    "class Obs:\n",
    "    def __init__(self, ts, ns, xs):\n",
    "        self.ts = ts\n",
    "        self.ns = ns\n",
    "        self.xs = xs"
   ]
  },
  {
   "cell_type": "code",
   "execution_count": 33,
   "metadata": {},
   "outputs": [],
   "source": [
    "b = Obs(b_design, export, positive)"
   ]
  },
  {
   "cell_type": "code",
   "execution_count": 34,
   "metadata": {},
   "outputs": [],
   "source": [
    "x, y = np.logspace(-2, 0, 20), np.logspace(-2, 0, 20)\n",
    "z = np.zeros((len(y), len(x)))\n",
    "for i in range(len(y)):\n",
    "    for j in range(len(x)):\n",
    "        m = SIR_Model(x[j], y[i])\n",
    "        m.inhabit(a.S0, a.I0, a.R0)\n",
    "        m.epidemic(100)\n",
    "        z[len(x)-1-i, j] = loglikely(m, b)"
   ]
  },
  {
   "cell_type": "code",
   "execution_count": 35,
   "metadata": {},
   "outputs": [
    {
     "data": {
      "text/plain": [
       "array([-4.60517019, -4.36279281, -4.12041543, -3.87803805, -3.63566067,\n",
       "       -3.39328329, -3.15090592, -2.90852854, -2.66615116, -2.42377378,\n",
       "       -2.1813964 , -1.93901903, -1.69664165, -1.45426427, -1.21188689,\n",
       "       -0.96950951, -0.72713213, -0.48475476, -0.24237738,  0.        ])"
      ]
     },
     "execution_count": 35,
     "metadata": {},
     "output_type": "execute_result"
    }
   ],
   "source": [
    "np.log(x)"
   ]
  },
  {
   "cell_type": "code",
   "execution_count": 48,
   "metadata": {},
   "outputs": [
    {
     "data": {
      "application/vnd.plotly.v1+json": {
       "config": {
        "plotlyServerURL": "https://plot.ly"
       },
       "data": [
        {
         "type": "contour",
         "x": [
          -4.605170185988091,
          -4.362792807778192,
          -4.120415429568292,
          -3.8780380513583923,
          -3.635660673148493,
          -3.393283294938594,
          -3.150905916728694,
          -2.9085285385187944,
          -2.666151160308895,
          -2.423773782098996,
          -2.181396403889096,
          -1.9390190256791964,
          -1.696641647469297,
          -1.4542642692593977,
          -1.211886891049498,
          -0.9695095128395982,
          -0.7271321346296988,
          -0.4847547564197996,
          -0.24237737820989982,
          0
         ],
         "y": [
          -4.605170185988091,
          -4.362792807778192,
          -4.120415429568292,
          -3.8780380513583923,
          -3.635660673148493,
          -3.393283294938594,
          -3.150905916728694,
          -2.9085285385187944,
          -2.666151160308895,
          -2.423773782098996,
          -2.181396403889096,
          -1.9390190256791964,
          -1.696641647469297,
          -1.4542642692593977,
          -1.211886891049498,
          -0.9695095128395982,
          -0.7271321346296988,
          -0.4847547564197996,
          -0.24237737820989982,
          0
         ],
         "z": [
          [
           7.660791805975706,
           7.608061534650552,
           7.552395429116452,
           7.493447246390694,
           7.430805643329913,
           7.363976762234159,
           7.29236057480007,
           7.215218091879497,
           7.1316248512737905,
           7.040403161029855,
           6.940020278864557,
           6.828429670588274,
           6.702812334518729,
           6.559131771066813,
           6.3913142403097005,
           6.189598672900879,
           5.936789642618581,
           5.5981288136094065,
           5.085256776563631,
           4.087169022659653
          ],
          [
           6.581251975542694,
           6.573681225693278,
           6.564082833044416,
           6.551928175756454,
           6.536557923716055,
           6.517152403081063,
           6.49269535693022,
           6.461928385908096,
           6.423290782055713,
           6.3748343303653545,
           6.314092581156349,
           6.237864166210793,
           6.141828403022946,
           6.019818091910435,
           5.86233699988836,
           5.653207282747147,
           5.360699224019518,
           4.907369641143298,
           4.034849053138035,
           3.798260337792752
          ],
          [
           6.1519389913512725,
           6.14527885422213,
           6.136794413104137,
           6.125985877246386,
           6.112215759873552,
           6.094669721043442,
           6.07230476988617,
           6.043779115638075,
           6.007353888575834,
           5.960748973757358,
           5.9009188745496575,
           5.823679372687267,
           5.723034735512145,
           5.589849944516138,
           5.4089192631599445,
           5.151424184904537,
           4.750512423265429,
           3.9982077902818984,
           3.3575818136446283,
           4.337769328856715
          ],
          [
           5.826488223224086,
           5.819580361746437,
           5.810760505992696,
           5.799492544684719,
           5.785085068705548,
           5.766642574625795,
           5.742998237402043,
           5.712618682031039,
           5.673464056825637,
           5.622772519474333,
           5.556708216060982,
           5.469743483852969,
           5.3534753872433205,
           5.194095292504804,
           4.966124061872914,
           4.61325913588785,
           3.9733641684757828,
           3.0708155848732743,
           3.7736677392603792,
           4.52944549414831
          ],
          [
           5.553185984892373,
           5.545598679318655,
           5.535894417169568,
           5.5234688821466955,
           5.507535829181608,
           5.487065500421727,
           5.460696991269627,
           5.4266093933305735,
           5.382324262518153,
           5.324386551770621,
           5.247814579531306,
           5.145071798952178,
           5.003936280903736,
           4.802441736888661,
           4.494344259882775,
           3.956927973122252,
           3.034983152553701,
           3.132519357293396,
           3.981829714773389,
           4.501732995347544
          ],
          [
           5.314623768612754,
           5.306090047127325,
           5.295157359206046,
           5.2811292798707115,
           5.263092097863726,
           5.23983617167173,
           5.209740609230876,
           5.170597607189544,
           5.1193318296365105,
           5.051524684417122,
           4.960545607628484,
           4.8358083408049914,
           4.658808074529978,
           4.392455095051232,
           3.9462372639479946,
           3.155139397730692,
           2.524911833086681,
           3.3276045003974146,
           3.9708772138579262,
           4.340393572323921
          ],
          [
           5.10313524164798,
           5.093454894047503,
           5.081032531110999,
           5.065058543906113,
           5.044461590868898,
           5.017807584346391,
           4.983147149970399,
           4.9377750064446415,
           4.877829246260153,
           4.797577165703674,
           4.688028252088039,
           4.533922704472047,
           4.306151670022143,
           3.9393560054493353,
           3.3082104553389313,
           2.3701133897667717,
           2.5251997589743302,
           3.3399665162902434,
           3.8194246897248934,
           4.094921724893771
          ],
          [
           4.914890034079276,
           4.903907460021733,
           4.889789586912764,
           4.871594433465099,
           4.84806435998936,
           4.817496371849822,
           4.777540472045561,
           4.72487027434966,
           4.65461085848317,
           4.559265128472491,
           4.426490016055082,
           4.233868502517165,
           3.93494971591831,
           3.442015123749331,
           2.6660796508073545,
           1.80210713188761,
           2.5140635654716377,
           3.2122209009506917,
           3.5753649053713863,
           3.7981193768559183
          ],
          [
           4.7477683409538205,
           4.735370552340708,
           4.719404925064119,
           4.698780291273708,
           4.672026413362918,
           4.637128499130714,
           4.5912624361823315,
           4.530347138040059,
           4.448233829336522,
           4.335105645244778,
           4.1739640784936105,
           3.9321312711355954,
           3.549117682645522,
           2.9936655268078676,
           2.0180964914515327,
           1.5050862651381913,
           2.38305420359734,
           2.9876778132019157,
           3.2701844344168065,
           3.4739333255837517
          ],
          [
           4.600396820527032,
           4.586516871760472,
           4.568610079768228,
           4.545422737653402,
           4.51524988417692,
           4.475726652488866,
           4.423485194759385,
           4.353555455830671,
           4.258238025507556,
           4.124790304700929,
           3.9303245833580087,
           3.63377336244259,
           3.2220572646444023,
           2.6083283360322427,
           1.448354250232492,
           1.3227751054770964,
           2.1726141962516508,
           2.7057031245698835,
           2.9322896002629926,
           3.1432478819670826
          ],
          [
           4.47165063766141,
           4.45627060948806,
           4.436392900240546,
           4.41059264727818,
           4.376914497462869,
           4.332614120990056,
           4.27372279078872,
           4.194266332376058,
           4.084761132859462,
           3.929160894314182,
           3.6998254510388726,
           3.3758496374539466,
           3.005208672217937,
           2.312471739909253,
           1.1349667847341482,
           1.224754448114168,
           1.9576962138632872,
           2.418336886317684,
           2.600483763104794,
           2.83457227331542
          ],
          [
           4.36039150040266,
           4.343542278332461,
           4.321728335096709,
           4.293350945492547,
           4.256197582086262,
           4.207129274649846,
           4.141544709101115,
           4.0524073669049665,
           3.928406078457162,
           3.750881441753375,
           3.4973407410294195,
           3.2154586018101714,
           2.879433032289705,
           2.166000945857308,
           1.2081406922732179,
           1.301800907540361,
           1.8459477665541975,
           2.2052969440836048,
           2.3401072287777196,
           2.5961879344981313
          ],
          [
           4.265349169219886,
           4.247106045349679,
           4.223450285955168,
           4.19261331105656,
           4.152129654090251,
           4.0984704299815045,
           4.026412089741795,
           3.927912058658605,
           3.790235162447421,
           3.595347475668893,
           3.3488723522246064,
           3.15179702727334,
           2.8368719091897163,
           2.191316240554055,
           1.5442181300468856,
           1.5765439566450494,
           1.9198584802238863,
           2.1525139350224354,
           2.2342655717346824,
           2.4878134422449634
          ],
          [
           4.185096791494725,
           4.165571114844465,
           4.14021752433885,
           4.107108396791256,
           4.063541592644702,
           4.005626910027735,
           3.927585249751336,
           3.8205950078651014,
           3.6716056732949442,
           3.4699561071786587,
           3.270859422482016,
           3.1503659885891677,
           2.864994771509252,
           2.3419563706732798,
           1.9433997868569584,
           1.9452646483208136,
           2.1493496328398054,
           2.2758524737616854,
           2.314404152525749,
           2.534194561459125
          ],
          [
           4.118084438733894,
           4.0974123804983105,
           4.07053998997041,
           4.035397272418413,
           3.989072656348006,
           3.9273664093872225,
           3.8440687790542736,
           3.7299902010909785,
           3.573603322537418,
           3.3803593789783317,
           3.2528516932249816,
           3.1854409075809347,
           2.941201971446932,
           2.5467065941610896,
           2.3097241184469217,
           2.3088118627528096,
           2.4391588169892238,
           2.5042153548292743,
           2.5199340942584856,
           2.695031625194284
          ],
          [
           4.062702591439275,
           4.041032745228156,
           4.01283893410074,
           3.9759293696396245,
           3.927217901143436,
           3.86226362315347,
           3.774593090735073,
           3.655187766837972,
           3.496262763270906,
           3.326317842174562,
           3.271347088870939,
           3.2398698925410385,
           3.041322330120072,
           2.7553719613591414,
           2.6185007593241236,
           2.6256154269399996,
           2.721120132350357,
           2.7581307059079476,
           2.766264700419578,
           2.9041460006085416
          ],
          [
           4.017353883120188,
           3.99483569814873,
           3.9655201564706313,
           3.9271156876840823,
           3.876399282771324,
           3.808763208820787,
           3.7176502112983574,
           3.594772642420711,
           3.4381166726908297,
           3.301443128485862,
           3.3069764267571147,
           3.301775892219845,
           3.1468281543016934,
           2.9441709993264165,
           2.870333858145603,
           2.887898730120511,
           2.9676708061097186,
           2.994005939325758,
           3.0018820640766752,
           3.1140324411019877
          ],
          [
           3.9805177804663434,
           3.9572924571066737,
           3.927044310266754,
           3.8874031381985383,
           3.835045075995589,
           3.7652652624745686,
           3.671585413285661,
           3.5469214660684845,
           3.396397535966437,
           3.2966356182449164,
           3.3480564783807214,
           3.3634424688550357,
           3.246523598544153,
           3.1054015849416876,
           3.0727121442337837,
           3.1001395289532536,
           3.1731294194604875,
           3.196595530885982,
           3.206911238554196,
           3.3023610281487477
          ],
          [
           3.950799135493363,
           3.9269937421887424,
           3.895983126687907,
           3.8553371387279634,
           3.801662114460943,
           3.730213669811564,
           3.634717673636748,
           3.5096122831389196,
           3.367699013553201,
           3.3035574870652864,
           3.3884170298747227,
           3.4204443322929245,
           3.335024492666699,
           3.2389058866440035,
           3.2341095441756202,
           3.2699589060564835,
           3.3403342553610806,
           3.3641622355457943,
           3.3775777870319716,
           3.4622925772432027
          ],
          [
           3.926957414414374,
           3.9026820855283195,
           3.8710561026590886,
           3.8296048094033535,
           3.7748893732642954,
           3.7021682488852683,
           3.6054516301549513,
           3.480850083397473,
           3.348667200933773,
           3.316147637646905,
           3.4251326221379084,
           3.4707009323124502,
           3.410623462299078,
           3.3475053356799482,
           3.3622465878437264,
           3.404994540472447,
           3.474681664641632,
           3.5000574866679717,
           3.5164484102388065,
           3.5941794562764153
          ]
         ]
        }
       ],
       "layout": {
        "template": {
         "data": {
          "bar": [
           {
            "error_x": {
             "color": "#2a3f5f"
            },
            "error_y": {
             "color": "#2a3f5f"
            },
            "marker": {
             "line": {
              "color": "#E5ECF6",
              "width": 0.5
             }
            },
            "type": "bar"
           }
          ],
          "barpolar": [
           {
            "marker": {
             "line": {
              "color": "#E5ECF6",
              "width": 0.5
             }
            },
            "type": "barpolar"
           }
          ],
          "carpet": [
           {
            "aaxis": {
             "endlinecolor": "#2a3f5f",
             "gridcolor": "white",
             "linecolor": "white",
             "minorgridcolor": "white",
             "startlinecolor": "#2a3f5f"
            },
            "baxis": {
             "endlinecolor": "#2a3f5f",
             "gridcolor": "white",
             "linecolor": "white",
             "minorgridcolor": "white",
             "startlinecolor": "#2a3f5f"
            },
            "type": "carpet"
           }
          ],
          "choropleth": [
           {
            "colorbar": {
             "outlinewidth": 0,
             "ticks": ""
            },
            "type": "choropleth"
           }
          ],
          "contour": [
           {
            "colorbar": {
             "outlinewidth": 0,
             "ticks": ""
            },
            "colorscale": [
             [
              0,
              "#0d0887"
             ],
             [
              0.1111111111111111,
              "#46039f"
             ],
             [
              0.2222222222222222,
              "#7201a8"
             ],
             [
              0.3333333333333333,
              "#9c179e"
             ],
             [
              0.4444444444444444,
              "#bd3786"
             ],
             [
              0.5555555555555556,
              "#d8576b"
             ],
             [
              0.6666666666666666,
              "#ed7953"
             ],
             [
              0.7777777777777778,
              "#fb9f3a"
             ],
             [
              0.8888888888888888,
              "#fdca26"
             ],
             [
              1,
              "#f0f921"
             ]
            ],
            "type": "contour"
           }
          ],
          "contourcarpet": [
           {
            "colorbar": {
             "outlinewidth": 0,
             "ticks": ""
            },
            "type": "contourcarpet"
           }
          ],
          "heatmap": [
           {
            "colorbar": {
             "outlinewidth": 0,
             "ticks": ""
            },
            "colorscale": [
             [
              0,
              "#0d0887"
             ],
             [
              0.1111111111111111,
              "#46039f"
             ],
             [
              0.2222222222222222,
              "#7201a8"
             ],
             [
              0.3333333333333333,
              "#9c179e"
             ],
             [
              0.4444444444444444,
              "#bd3786"
             ],
             [
              0.5555555555555556,
              "#d8576b"
             ],
             [
              0.6666666666666666,
              "#ed7953"
             ],
             [
              0.7777777777777778,
              "#fb9f3a"
             ],
             [
              0.8888888888888888,
              "#fdca26"
             ],
             [
              1,
              "#f0f921"
             ]
            ],
            "type": "heatmap"
           }
          ],
          "heatmapgl": [
           {
            "colorbar": {
             "outlinewidth": 0,
             "ticks": ""
            },
            "colorscale": [
             [
              0,
              "#0d0887"
             ],
             [
              0.1111111111111111,
              "#46039f"
             ],
             [
              0.2222222222222222,
              "#7201a8"
             ],
             [
              0.3333333333333333,
              "#9c179e"
             ],
             [
              0.4444444444444444,
              "#bd3786"
             ],
             [
              0.5555555555555556,
              "#d8576b"
             ],
             [
              0.6666666666666666,
              "#ed7953"
             ],
             [
              0.7777777777777778,
              "#fb9f3a"
             ],
             [
              0.8888888888888888,
              "#fdca26"
             ],
             [
              1,
              "#f0f921"
             ]
            ],
            "type": "heatmapgl"
           }
          ],
          "histogram": [
           {
            "marker": {
             "colorbar": {
              "outlinewidth": 0,
              "ticks": ""
             }
            },
            "type": "histogram"
           }
          ],
          "histogram2d": [
           {
            "colorbar": {
             "outlinewidth": 0,
             "ticks": ""
            },
            "colorscale": [
             [
              0,
              "#0d0887"
             ],
             [
              0.1111111111111111,
              "#46039f"
             ],
             [
              0.2222222222222222,
              "#7201a8"
             ],
             [
              0.3333333333333333,
              "#9c179e"
             ],
             [
              0.4444444444444444,
              "#bd3786"
             ],
             [
              0.5555555555555556,
              "#d8576b"
             ],
             [
              0.6666666666666666,
              "#ed7953"
             ],
             [
              0.7777777777777778,
              "#fb9f3a"
             ],
             [
              0.8888888888888888,
              "#fdca26"
             ],
             [
              1,
              "#f0f921"
             ]
            ],
            "type": "histogram2d"
           }
          ],
          "histogram2dcontour": [
           {
            "colorbar": {
             "outlinewidth": 0,
             "ticks": ""
            },
            "colorscale": [
             [
              0,
              "#0d0887"
             ],
             [
              0.1111111111111111,
              "#46039f"
             ],
             [
              0.2222222222222222,
              "#7201a8"
             ],
             [
              0.3333333333333333,
              "#9c179e"
             ],
             [
              0.4444444444444444,
              "#bd3786"
             ],
             [
              0.5555555555555556,
              "#d8576b"
             ],
             [
              0.6666666666666666,
              "#ed7953"
             ],
             [
              0.7777777777777778,
              "#fb9f3a"
             ],
             [
              0.8888888888888888,
              "#fdca26"
             ],
             [
              1,
              "#f0f921"
             ]
            ],
            "type": "histogram2dcontour"
           }
          ],
          "mesh3d": [
           {
            "colorbar": {
             "outlinewidth": 0,
             "ticks": ""
            },
            "type": "mesh3d"
           }
          ],
          "parcoords": [
           {
            "line": {
             "colorbar": {
              "outlinewidth": 0,
              "ticks": ""
             }
            },
            "type": "parcoords"
           }
          ],
          "pie": [
           {
            "automargin": true,
            "type": "pie"
           }
          ],
          "scatter": [
           {
            "marker": {
             "colorbar": {
              "outlinewidth": 0,
              "ticks": ""
             }
            },
            "type": "scatter"
           }
          ],
          "scatter3d": [
           {
            "line": {
             "colorbar": {
              "outlinewidth": 0,
              "ticks": ""
             }
            },
            "marker": {
             "colorbar": {
              "outlinewidth": 0,
              "ticks": ""
             }
            },
            "type": "scatter3d"
           }
          ],
          "scattercarpet": [
           {
            "marker": {
             "colorbar": {
              "outlinewidth": 0,
              "ticks": ""
             }
            },
            "type": "scattercarpet"
           }
          ],
          "scattergeo": [
           {
            "marker": {
             "colorbar": {
              "outlinewidth": 0,
              "ticks": ""
             }
            },
            "type": "scattergeo"
           }
          ],
          "scattergl": [
           {
            "marker": {
             "colorbar": {
              "outlinewidth": 0,
              "ticks": ""
             }
            },
            "type": "scattergl"
           }
          ],
          "scattermapbox": [
           {
            "marker": {
             "colorbar": {
              "outlinewidth": 0,
              "ticks": ""
             }
            },
            "type": "scattermapbox"
           }
          ],
          "scatterpolar": [
           {
            "marker": {
             "colorbar": {
              "outlinewidth": 0,
              "ticks": ""
             }
            },
            "type": "scatterpolar"
           }
          ],
          "scatterpolargl": [
           {
            "marker": {
             "colorbar": {
              "outlinewidth": 0,
              "ticks": ""
             }
            },
            "type": "scatterpolargl"
           }
          ],
          "scatterternary": [
           {
            "marker": {
             "colorbar": {
              "outlinewidth": 0,
              "ticks": ""
             }
            },
            "type": "scatterternary"
           }
          ],
          "surface": [
           {
            "colorbar": {
             "outlinewidth": 0,
             "ticks": ""
            },
            "colorscale": [
             [
              0,
              "#0d0887"
             ],
             [
              0.1111111111111111,
              "#46039f"
             ],
             [
              0.2222222222222222,
              "#7201a8"
             ],
             [
              0.3333333333333333,
              "#9c179e"
             ],
             [
              0.4444444444444444,
              "#bd3786"
             ],
             [
              0.5555555555555556,
              "#d8576b"
             ],
             [
              0.6666666666666666,
              "#ed7953"
             ],
             [
              0.7777777777777778,
              "#fb9f3a"
             ],
             [
              0.8888888888888888,
              "#fdca26"
             ],
             [
              1,
              "#f0f921"
             ]
            ],
            "type": "surface"
           }
          ],
          "table": [
           {
            "cells": {
             "fill": {
              "color": "#EBF0F8"
             },
             "line": {
              "color": "white"
             }
            },
            "header": {
             "fill": {
              "color": "#C8D4E3"
             },
             "line": {
              "color": "white"
             }
            },
            "type": "table"
           }
          ]
         },
         "layout": {
          "annotationdefaults": {
           "arrowcolor": "#2a3f5f",
           "arrowhead": 0,
           "arrowwidth": 1
          },
          "coloraxis": {
           "colorbar": {
            "outlinewidth": 0,
            "ticks": ""
           }
          },
          "colorscale": {
           "diverging": [
            [
             0,
             "#8e0152"
            ],
            [
             0.1,
             "#c51b7d"
            ],
            [
             0.2,
             "#de77ae"
            ],
            [
             0.3,
             "#f1b6da"
            ],
            [
             0.4,
             "#fde0ef"
            ],
            [
             0.5,
             "#f7f7f7"
            ],
            [
             0.6,
             "#e6f5d0"
            ],
            [
             0.7,
             "#b8e186"
            ],
            [
             0.8,
             "#7fbc41"
            ],
            [
             0.9,
             "#4d9221"
            ],
            [
             1,
             "#276419"
            ]
           ],
           "sequential": [
            [
             0,
             "#0d0887"
            ],
            [
             0.1111111111111111,
             "#46039f"
            ],
            [
             0.2222222222222222,
             "#7201a8"
            ],
            [
             0.3333333333333333,
             "#9c179e"
            ],
            [
             0.4444444444444444,
             "#bd3786"
            ],
            [
             0.5555555555555556,
             "#d8576b"
            ],
            [
             0.6666666666666666,
             "#ed7953"
            ],
            [
             0.7777777777777778,
             "#fb9f3a"
            ],
            [
             0.8888888888888888,
             "#fdca26"
            ],
            [
             1,
             "#f0f921"
            ]
           ],
           "sequentialminus": [
            [
             0,
             "#0d0887"
            ],
            [
             0.1111111111111111,
             "#46039f"
            ],
            [
             0.2222222222222222,
             "#7201a8"
            ],
            [
             0.3333333333333333,
             "#9c179e"
            ],
            [
             0.4444444444444444,
             "#bd3786"
            ],
            [
             0.5555555555555556,
             "#d8576b"
            ],
            [
             0.6666666666666666,
             "#ed7953"
            ],
            [
             0.7777777777777778,
             "#fb9f3a"
            ],
            [
             0.8888888888888888,
             "#fdca26"
            ],
            [
             1,
             "#f0f921"
            ]
           ]
          },
          "colorway": [
           "#636efa",
           "#EF553B",
           "#00cc96",
           "#ab63fa",
           "#FFA15A",
           "#19d3f3",
           "#FF6692",
           "#B6E880",
           "#FF97FF",
           "#FECB52"
          ],
          "font": {
           "color": "#2a3f5f"
          },
          "geo": {
           "bgcolor": "white",
           "lakecolor": "white",
           "landcolor": "#E5ECF6",
           "showlakes": true,
           "showland": true,
           "subunitcolor": "white"
          },
          "hoverlabel": {
           "align": "left"
          },
          "hovermode": "closest",
          "mapbox": {
           "style": "light"
          },
          "paper_bgcolor": "white",
          "plot_bgcolor": "#E5ECF6",
          "polar": {
           "angularaxis": {
            "gridcolor": "white",
            "linecolor": "white",
            "ticks": ""
           },
           "bgcolor": "#E5ECF6",
           "radialaxis": {
            "gridcolor": "white",
            "linecolor": "white",
            "ticks": ""
           }
          },
          "scene": {
           "xaxis": {
            "backgroundcolor": "#E5ECF6",
            "gridcolor": "white",
            "gridwidth": 2,
            "linecolor": "white",
            "showbackground": true,
            "ticks": "",
            "zerolinecolor": "white"
           },
           "yaxis": {
            "backgroundcolor": "#E5ECF6",
            "gridcolor": "white",
            "gridwidth": 2,
            "linecolor": "white",
            "showbackground": true,
            "ticks": "",
            "zerolinecolor": "white"
           },
           "zaxis": {
            "backgroundcolor": "#E5ECF6",
            "gridcolor": "white",
            "gridwidth": 2,
            "linecolor": "white",
            "showbackground": true,
            "ticks": "",
            "zerolinecolor": "white"
           }
          },
          "shapedefaults": {
           "line": {
            "color": "#2a3f5f"
           }
          },
          "ternary": {
           "aaxis": {
            "gridcolor": "white",
            "linecolor": "white",
            "ticks": ""
           },
           "baxis": {
            "gridcolor": "white",
            "linecolor": "white",
            "ticks": ""
           },
           "bgcolor": "#E5ECF6",
           "caxis": {
            "gridcolor": "white",
            "linecolor": "white",
            "ticks": ""
           }
          },
          "title": {
           "x": 0.05
          },
          "xaxis": {
           "automargin": true,
           "gridcolor": "white",
           "linecolor": "white",
           "ticks": "",
           "title": {
            "standoff": 15
           },
           "zerolinecolor": "white",
           "zerolinewidth": 2
          },
          "yaxis": {
           "automargin": true,
           "gridcolor": "white",
           "linecolor": "white",
           "ticks": "",
           "title": {
            "standoff": 15
           },
           "zerolinecolor": "white",
           "zerolinewidth": 2
          }
         }
        }
       }
      },
      "text/html": [
       "<div>\n",
       "        \n",
       "        \n",
       "            <div id=\"3d279ee3-f101-4db1-bf32-00fbc3d5fcb0\" class=\"plotly-graph-div\" style=\"height:525px; width:100%;\"></div>\n",
       "            <script type=\"text/javascript\">\n",
       "                require([\"plotly\"], function(Plotly) {\n",
       "                    window.PLOTLYENV=window.PLOTLYENV || {};\n",
       "                    \n",
       "                if (document.getElementById(\"3d279ee3-f101-4db1-bf32-00fbc3d5fcb0\")) {\n",
       "                    Plotly.newPlot(\n",
       "                        '3d279ee3-f101-4db1-bf32-00fbc3d5fcb0',\n",
       "                        [{\"type\": \"contour\", \"x\": [-4.605170185988091, -4.362792807778192, -4.120415429568292, -3.8780380513583923, -3.635660673148493, -3.393283294938594, -3.150905916728694, -2.9085285385187944, -2.666151160308895, -2.423773782098996, -2.181396403889096, -1.9390190256791964, -1.696641647469297, -1.4542642692593977, -1.211886891049498, -0.9695095128395982, -0.7271321346296988, -0.4847547564197996, -0.24237737820989982, 0.0], \"y\": [-4.605170185988091, -4.362792807778192, -4.120415429568292, -3.8780380513583923, -3.635660673148493, -3.393283294938594, -3.150905916728694, -2.9085285385187944, -2.666151160308895, -2.423773782098996, -2.181396403889096, -1.9390190256791964, -1.696641647469297, -1.4542642692593977, -1.211886891049498, -0.9695095128395982, -0.7271321346296988, -0.4847547564197996, -0.24237737820989982, 0.0], \"z\": [[7.660791805975706, 7.608061534650552, 7.552395429116452, 7.493447246390694, 7.430805643329913, 7.363976762234159, 7.29236057480007, 7.215218091879497, 7.1316248512737905, 7.040403161029855, 6.940020278864557, 6.828429670588274, 6.702812334518729, 6.559131771066813, 6.3913142403097005, 6.189598672900879, 5.936789642618581, 5.5981288136094065, 5.085256776563631, 4.087169022659653], [6.581251975542694, 6.573681225693278, 6.564082833044416, 6.551928175756454, 6.536557923716055, 6.517152403081063, 6.49269535693022, 6.461928385908096, 6.423290782055713, 6.3748343303653545, 6.314092581156349, 6.237864166210793, 6.141828403022946, 6.019818091910435, 5.86233699988836, 5.653207282747147, 5.360699224019518, 4.907369641143298, 4.034849053138035, 3.798260337792752], [6.1519389913512725, 6.14527885422213, 6.136794413104137, 6.125985877246386, 6.112215759873552, 6.094669721043442, 6.07230476988617, 6.043779115638075, 6.007353888575834, 5.960748973757358, 5.9009188745496575, 5.823679372687267, 5.723034735512145, 5.589849944516138, 5.4089192631599445, 5.151424184904537, 4.750512423265429, 3.9982077902818984, 3.3575818136446283, 4.337769328856715], [5.826488223224086, 5.819580361746437, 5.810760505992696, 5.799492544684719, 5.785085068705548, 5.766642574625795, 5.742998237402043, 5.712618682031039, 5.673464056825637, 5.622772519474333, 5.556708216060982, 5.469743483852969, 5.3534753872433205, 5.194095292504804, 4.966124061872914, 4.61325913588785, 3.9733641684757828, 3.0708155848732743, 3.7736677392603792, 4.52944549414831], [5.553185984892373, 5.545598679318655, 5.535894417169568, 5.5234688821466955, 5.507535829181608, 5.487065500421727, 5.460696991269627, 5.4266093933305735, 5.382324262518153, 5.324386551770621, 5.247814579531306, 5.145071798952178, 5.003936280903736, 4.802441736888661, 4.494344259882775, 3.956927973122252, 3.034983152553701, 3.132519357293396, 3.981829714773389, 4.501732995347544], [5.314623768612754, 5.306090047127325, 5.295157359206046, 5.2811292798707115, 5.263092097863726, 5.23983617167173, 5.209740609230876, 5.170597607189544, 5.1193318296365105, 5.051524684417122, 4.960545607628484, 4.8358083408049914, 4.658808074529978, 4.392455095051232, 3.9462372639479946, 3.155139397730692, 2.524911833086681, 3.3276045003974146, 3.9708772138579262, 4.340393572323921], [5.10313524164798, 5.093454894047503, 5.081032531110999, 5.065058543906113, 5.044461590868898, 5.017807584346391, 4.983147149970399, 4.9377750064446415, 4.877829246260153, 4.797577165703674, 4.688028252088039, 4.533922704472047, 4.306151670022143, 3.9393560054493353, 3.3082104553389313, 2.3701133897667717, 2.5251997589743302, 3.3399665162902434, 3.8194246897248934, 4.094921724893771], [4.914890034079276, 4.903907460021733, 4.889789586912764, 4.871594433465099, 4.84806435998936, 4.817496371849822, 4.777540472045561, 4.72487027434966, 4.65461085848317, 4.559265128472491, 4.426490016055082, 4.233868502517165, 3.93494971591831, 3.442015123749331, 2.6660796508073545, 1.80210713188761, 2.5140635654716377, 3.2122209009506917, 3.5753649053713863, 3.7981193768559183], [4.7477683409538205, 4.735370552340708, 4.719404925064119, 4.698780291273708, 4.672026413362918, 4.637128499130714, 4.5912624361823315, 4.530347138040059, 4.448233829336522, 4.335105645244778, 4.1739640784936105, 3.9321312711355954, 3.549117682645522, 2.9936655268078676, 2.0180964914515327, 1.5050862651381913, 2.38305420359734, 2.9876778132019157, 3.2701844344168065, 3.4739333255837517], [4.600396820527032, 4.586516871760472, 4.568610079768228, 4.545422737653402, 4.51524988417692, 4.475726652488866, 4.423485194759385, 4.353555455830671, 4.258238025507556, 4.124790304700929, 3.9303245833580087, 3.63377336244259, 3.2220572646444023, 2.6083283360322427, 1.448354250232492, 1.3227751054770964, 2.1726141962516508, 2.7057031245698835, 2.9322896002629926, 3.1432478819670826], [4.47165063766141, 4.45627060948806, 4.436392900240546, 4.41059264727818, 4.376914497462869, 4.332614120990056, 4.27372279078872, 4.194266332376058, 4.084761132859462, 3.929160894314182, 3.6998254510388726, 3.3758496374539466, 3.005208672217937, 2.312471739909253, 1.1349667847341482, 1.224754448114168, 1.9576962138632872, 2.418336886317684, 2.600483763104794, 2.83457227331542], [4.36039150040266, 4.343542278332461, 4.321728335096709, 4.293350945492547, 4.256197582086262, 4.207129274649846, 4.141544709101115, 4.0524073669049665, 3.928406078457162, 3.750881441753375, 3.4973407410294195, 3.2154586018101714, 2.879433032289705, 2.166000945857308, 1.2081406922732179, 1.301800907540361, 1.8459477665541975, 2.2052969440836048, 2.3401072287777196, 2.5961879344981313], [4.265349169219886, 4.247106045349679, 4.223450285955168, 4.19261331105656, 4.152129654090251, 4.0984704299815045, 4.026412089741795, 3.927912058658605, 3.790235162447421, 3.595347475668893, 3.3488723522246064, 3.15179702727334, 2.8368719091897163, 2.191316240554055, 1.5442181300468856, 1.5765439566450494, 1.9198584802238863, 2.1525139350224354, 2.2342655717346824, 2.4878134422449634], [4.185096791494725, 4.165571114844465, 4.14021752433885, 4.107108396791256, 4.063541592644702, 4.005626910027735, 3.927585249751336, 3.8205950078651014, 3.6716056732949442, 3.4699561071786587, 3.270859422482016, 3.1503659885891677, 2.864994771509252, 2.3419563706732798, 1.9433997868569584, 1.9452646483208136, 2.1493496328398054, 2.2758524737616854, 2.314404152525749, 2.534194561459125], [4.118084438733894, 4.0974123804983105, 4.07053998997041, 4.035397272418413, 3.989072656348006, 3.9273664093872225, 3.8440687790542736, 3.7299902010909785, 3.573603322537418, 3.3803593789783317, 3.2528516932249816, 3.1854409075809347, 2.941201971446932, 2.5467065941610896, 2.3097241184469217, 2.3088118627528096, 2.4391588169892238, 2.5042153548292743, 2.5199340942584856, 2.695031625194284], [4.062702591439275, 4.041032745228156, 4.01283893410074, 3.9759293696396245, 3.927217901143436, 3.86226362315347, 3.774593090735073, 3.655187766837972, 3.496262763270906, 3.326317842174562, 3.271347088870939, 3.2398698925410385, 3.041322330120072, 2.7553719613591414, 2.6185007593241236, 2.6256154269399996, 2.721120132350357, 2.7581307059079476, 2.766264700419578, 2.9041460006085416], [4.017353883120188, 3.99483569814873, 3.9655201564706313, 3.9271156876840823, 3.876399282771324, 3.808763208820787, 3.7176502112983574, 3.594772642420711, 3.4381166726908297, 3.301443128485862, 3.3069764267571147, 3.301775892219845, 3.1468281543016934, 2.9441709993264165, 2.870333858145603, 2.887898730120511, 2.9676708061097186, 2.994005939325758, 3.0018820640766752, 3.1140324411019877], [3.9805177804663434, 3.9572924571066737, 3.927044310266754, 3.8874031381985383, 3.835045075995589, 3.7652652624745686, 3.671585413285661, 3.5469214660684845, 3.396397535966437, 3.2966356182449164, 3.3480564783807214, 3.3634424688550357, 3.246523598544153, 3.1054015849416876, 3.0727121442337837, 3.1001395289532536, 3.1731294194604875, 3.196595530885982, 3.206911238554196, 3.3023610281487477], [3.950799135493363, 3.9269937421887424, 3.895983126687907, 3.8553371387279634, 3.801662114460943, 3.730213669811564, 3.634717673636748, 3.5096122831389196, 3.367699013553201, 3.3035574870652864, 3.3884170298747227, 3.4204443322929245, 3.335024492666699, 3.2389058866440035, 3.2341095441756202, 3.2699589060564835, 3.3403342553610806, 3.3641622355457943, 3.3775777870319716, 3.4622925772432027], [3.926957414414374, 3.9026820855283195, 3.8710561026590886, 3.8296048094033535, 3.7748893732642954, 3.7021682488852683, 3.6054516301549513, 3.480850083397473, 3.348667200933773, 3.316147637646905, 3.4251326221379084, 3.4707009323124502, 3.410623462299078, 3.3475053356799482, 3.3622465878437264, 3.404994540472447, 3.474681664641632, 3.5000574866679717, 3.5164484102388065, 3.5941794562764153]]}],\n",
       "                        {\"template\": {\"data\": {\"bar\": [{\"error_x\": {\"color\": \"#2a3f5f\"}, \"error_y\": {\"color\": \"#2a3f5f\"}, \"marker\": {\"line\": {\"color\": \"#E5ECF6\", \"width\": 0.5}}, \"type\": \"bar\"}], \"barpolar\": [{\"marker\": {\"line\": {\"color\": \"#E5ECF6\", \"width\": 0.5}}, \"type\": \"barpolar\"}], \"carpet\": [{\"aaxis\": {\"endlinecolor\": \"#2a3f5f\", \"gridcolor\": \"white\", \"linecolor\": \"white\", \"minorgridcolor\": \"white\", \"startlinecolor\": \"#2a3f5f\"}, \"baxis\": {\"endlinecolor\": \"#2a3f5f\", \"gridcolor\": \"white\", \"linecolor\": \"white\", \"minorgridcolor\": \"white\", \"startlinecolor\": \"#2a3f5f\"}, \"type\": \"carpet\"}], \"choropleth\": [{\"colorbar\": {\"outlinewidth\": 0, \"ticks\": \"\"}, \"type\": \"choropleth\"}], \"contour\": [{\"colorbar\": {\"outlinewidth\": 0, \"ticks\": \"\"}, \"colorscale\": [[0.0, \"#0d0887\"], [0.1111111111111111, \"#46039f\"], [0.2222222222222222, \"#7201a8\"], [0.3333333333333333, \"#9c179e\"], [0.4444444444444444, \"#bd3786\"], [0.5555555555555556, \"#d8576b\"], [0.6666666666666666, \"#ed7953\"], [0.7777777777777778, \"#fb9f3a\"], [0.8888888888888888, \"#fdca26\"], [1.0, \"#f0f921\"]], \"type\": \"contour\"}], \"contourcarpet\": [{\"colorbar\": {\"outlinewidth\": 0, \"ticks\": \"\"}, \"type\": \"contourcarpet\"}], \"heatmap\": [{\"colorbar\": {\"outlinewidth\": 0, \"ticks\": \"\"}, \"colorscale\": [[0.0, \"#0d0887\"], [0.1111111111111111, \"#46039f\"], [0.2222222222222222, \"#7201a8\"], [0.3333333333333333, \"#9c179e\"], [0.4444444444444444, \"#bd3786\"], [0.5555555555555556, \"#d8576b\"], [0.6666666666666666, \"#ed7953\"], [0.7777777777777778, \"#fb9f3a\"], [0.8888888888888888, \"#fdca26\"], [1.0, \"#f0f921\"]], \"type\": \"heatmap\"}], \"heatmapgl\": [{\"colorbar\": {\"outlinewidth\": 0, \"ticks\": \"\"}, \"colorscale\": [[0.0, \"#0d0887\"], [0.1111111111111111, \"#46039f\"], [0.2222222222222222, \"#7201a8\"], [0.3333333333333333, \"#9c179e\"], [0.4444444444444444, \"#bd3786\"], [0.5555555555555556, \"#d8576b\"], [0.6666666666666666, \"#ed7953\"], [0.7777777777777778, \"#fb9f3a\"], [0.8888888888888888, \"#fdca26\"], [1.0, \"#f0f921\"]], \"type\": \"heatmapgl\"}], \"histogram\": [{\"marker\": {\"colorbar\": {\"outlinewidth\": 0, \"ticks\": \"\"}}, \"type\": \"histogram\"}], \"histogram2d\": [{\"colorbar\": {\"outlinewidth\": 0, \"ticks\": \"\"}, \"colorscale\": [[0.0, \"#0d0887\"], [0.1111111111111111, \"#46039f\"], [0.2222222222222222, \"#7201a8\"], [0.3333333333333333, \"#9c179e\"], [0.4444444444444444, \"#bd3786\"], [0.5555555555555556, \"#d8576b\"], [0.6666666666666666, \"#ed7953\"], [0.7777777777777778, \"#fb9f3a\"], [0.8888888888888888, \"#fdca26\"], [1.0, \"#f0f921\"]], \"type\": \"histogram2d\"}], \"histogram2dcontour\": [{\"colorbar\": {\"outlinewidth\": 0, \"ticks\": \"\"}, \"colorscale\": [[0.0, \"#0d0887\"], [0.1111111111111111, \"#46039f\"], [0.2222222222222222, \"#7201a8\"], [0.3333333333333333, \"#9c179e\"], [0.4444444444444444, \"#bd3786\"], [0.5555555555555556, \"#d8576b\"], [0.6666666666666666, \"#ed7953\"], [0.7777777777777778, \"#fb9f3a\"], [0.8888888888888888, \"#fdca26\"], [1.0, \"#f0f921\"]], \"type\": \"histogram2dcontour\"}], \"mesh3d\": [{\"colorbar\": {\"outlinewidth\": 0, \"ticks\": \"\"}, \"type\": \"mesh3d\"}], \"parcoords\": [{\"line\": {\"colorbar\": {\"outlinewidth\": 0, \"ticks\": \"\"}}, \"type\": \"parcoords\"}], \"pie\": [{\"automargin\": true, \"type\": \"pie\"}], \"scatter\": [{\"marker\": {\"colorbar\": {\"outlinewidth\": 0, \"ticks\": \"\"}}, \"type\": \"scatter\"}], \"scatter3d\": [{\"line\": {\"colorbar\": {\"outlinewidth\": 0, \"ticks\": \"\"}}, \"marker\": {\"colorbar\": {\"outlinewidth\": 0, \"ticks\": \"\"}}, \"type\": \"scatter3d\"}], \"scattercarpet\": [{\"marker\": {\"colorbar\": {\"outlinewidth\": 0, \"ticks\": \"\"}}, \"type\": \"scattercarpet\"}], \"scattergeo\": [{\"marker\": {\"colorbar\": {\"outlinewidth\": 0, \"ticks\": \"\"}}, \"type\": \"scattergeo\"}], \"scattergl\": [{\"marker\": {\"colorbar\": {\"outlinewidth\": 0, \"ticks\": \"\"}}, \"type\": \"scattergl\"}], \"scattermapbox\": [{\"marker\": {\"colorbar\": {\"outlinewidth\": 0, \"ticks\": \"\"}}, \"type\": \"scattermapbox\"}], \"scatterpolar\": [{\"marker\": {\"colorbar\": {\"outlinewidth\": 0, \"ticks\": \"\"}}, \"type\": \"scatterpolar\"}], \"scatterpolargl\": [{\"marker\": {\"colorbar\": {\"outlinewidth\": 0, \"ticks\": \"\"}}, \"type\": \"scatterpolargl\"}], \"scatterternary\": [{\"marker\": {\"colorbar\": {\"outlinewidth\": 0, \"ticks\": \"\"}}, \"type\": \"scatterternary\"}], \"surface\": [{\"colorbar\": {\"outlinewidth\": 0, \"ticks\": \"\"}, \"colorscale\": [[0.0, \"#0d0887\"], [0.1111111111111111, \"#46039f\"], [0.2222222222222222, \"#7201a8\"], [0.3333333333333333, \"#9c179e\"], [0.4444444444444444, \"#bd3786\"], [0.5555555555555556, \"#d8576b\"], [0.6666666666666666, \"#ed7953\"], [0.7777777777777778, \"#fb9f3a\"], [0.8888888888888888, \"#fdca26\"], [1.0, \"#f0f921\"]], \"type\": \"surface\"}], \"table\": [{\"cells\": {\"fill\": {\"color\": \"#EBF0F8\"}, \"line\": {\"color\": \"white\"}}, \"header\": {\"fill\": {\"color\": \"#C8D4E3\"}, \"line\": {\"color\": \"white\"}}, \"type\": \"table\"}]}, \"layout\": {\"annotationdefaults\": {\"arrowcolor\": \"#2a3f5f\", \"arrowhead\": 0, \"arrowwidth\": 1}, \"coloraxis\": {\"colorbar\": {\"outlinewidth\": 0, \"ticks\": \"\"}}, \"colorscale\": {\"diverging\": [[0, \"#8e0152\"], [0.1, \"#c51b7d\"], [0.2, \"#de77ae\"], [0.3, \"#f1b6da\"], [0.4, \"#fde0ef\"], [0.5, \"#f7f7f7\"], [0.6, \"#e6f5d0\"], [0.7, \"#b8e186\"], [0.8, \"#7fbc41\"], [0.9, \"#4d9221\"], [1, \"#276419\"]], \"sequential\": [[0.0, \"#0d0887\"], [0.1111111111111111, \"#46039f\"], [0.2222222222222222, \"#7201a8\"], [0.3333333333333333, \"#9c179e\"], [0.4444444444444444, \"#bd3786\"], [0.5555555555555556, \"#d8576b\"], [0.6666666666666666, \"#ed7953\"], [0.7777777777777778, \"#fb9f3a\"], [0.8888888888888888, \"#fdca26\"], [1.0, \"#f0f921\"]], \"sequentialminus\": [[0.0, \"#0d0887\"], [0.1111111111111111, \"#46039f\"], [0.2222222222222222, \"#7201a8\"], [0.3333333333333333, \"#9c179e\"], [0.4444444444444444, \"#bd3786\"], [0.5555555555555556, \"#d8576b\"], [0.6666666666666666, \"#ed7953\"], [0.7777777777777778, \"#fb9f3a\"], [0.8888888888888888, \"#fdca26\"], [1.0, \"#f0f921\"]]}, \"colorway\": [\"#636efa\", \"#EF553B\", \"#00cc96\", \"#ab63fa\", \"#FFA15A\", \"#19d3f3\", \"#FF6692\", \"#B6E880\", \"#FF97FF\", \"#FECB52\"], \"font\": {\"color\": \"#2a3f5f\"}, \"geo\": {\"bgcolor\": \"white\", \"lakecolor\": \"white\", \"landcolor\": \"#E5ECF6\", \"showlakes\": true, \"showland\": true, \"subunitcolor\": \"white\"}, \"hoverlabel\": {\"align\": \"left\"}, \"hovermode\": \"closest\", \"mapbox\": {\"style\": \"light\"}, \"paper_bgcolor\": \"white\", \"plot_bgcolor\": \"#E5ECF6\", \"polar\": {\"angularaxis\": {\"gridcolor\": \"white\", \"linecolor\": \"white\", \"ticks\": \"\"}, \"bgcolor\": \"#E5ECF6\", \"radialaxis\": {\"gridcolor\": \"white\", \"linecolor\": \"white\", \"ticks\": \"\"}}, \"scene\": {\"xaxis\": {\"backgroundcolor\": \"#E5ECF6\", \"gridcolor\": \"white\", \"gridwidth\": 2, \"linecolor\": \"white\", \"showbackground\": true, \"ticks\": \"\", \"zerolinecolor\": \"white\"}, \"yaxis\": {\"backgroundcolor\": \"#E5ECF6\", \"gridcolor\": \"white\", \"gridwidth\": 2, \"linecolor\": \"white\", \"showbackground\": true, \"ticks\": \"\", \"zerolinecolor\": \"white\"}, \"zaxis\": {\"backgroundcolor\": \"#E5ECF6\", \"gridcolor\": \"white\", \"gridwidth\": 2, \"linecolor\": \"white\", \"showbackground\": true, \"ticks\": \"\", \"zerolinecolor\": \"white\"}}, \"shapedefaults\": {\"line\": {\"color\": \"#2a3f5f\"}}, \"ternary\": {\"aaxis\": {\"gridcolor\": \"white\", \"linecolor\": \"white\", \"ticks\": \"\"}, \"baxis\": {\"gridcolor\": \"white\", \"linecolor\": \"white\", \"ticks\": \"\"}, \"bgcolor\": \"#E5ECF6\", \"caxis\": {\"gridcolor\": \"white\", \"linecolor\": \"white\", \"ticks\": \"\"}}, \"title\": {\"x\": 0.05}, \"xaxis\": {\"automargin\": true, \"gridcolor\": \"white\", \"linecolor\": \"white\", \"ticks\": \"\", \"title\": {\"standoff\": 15}, \"zerolinecolor\": \"white\", \"zerolinewidth\": 2}, \"yaxis\": {\"automargin\": true, \"gridcolor\": \"white\", \"linecolor\": \"white\", \"ticks\": \"\", \"title\": {\"standoff\": 15}, \"zerolinecolor\": \"white\", \"zerolinewidth\": 2}}}},\n",
       "                        {\"responsive\": true}\n",
       "                    ).then(function(){\n",
       "                            \n",
       "var gd = document.getElementById('3d279ee3-f101-4db1-bf32-00fbc3d5fcb0');\n",
       "var x = new MutationObserver(function (mutations, observer) {{\n",
       "        var display = window.getComputedStyle(gd).display;\n",
       "        if (!display || display === 'none') {{\n",
       "            console.log([gd, 'removed!']);\n",
       "            Plotly.purge(gd);\n",
       "            observer.disconnect();\n",
       "        }}\n",
       "}});\n",
       "\n",
       "// Listen for the removal of the full notebook cells\n",
       "var notebookContainer = gd.closest('#notebook-container');\n",
       "if (notebookContainer) {{\n",
       "    x.observe(notebookContainer, {childList: true});\n",
       "}}\n",
       "\n",
       "// Listen for the clearing of the current output cell\n",
       "var outputEl = gd.closest('.output');\n",
       "if (outputEl) {{\n",
       "    x.observe(outputEl, {childList: true});\n",
       "}}\n",
       "\n",
       "                        })\n",
       "                };\n",
       "                });\n",
       "            </script>\n",
       "        </div>"
      ]
     },
     "metadata": {},
     "output_type": "display_data"
    }
   ],
   "source": [
    "fig = go.Figure(data=go.Contour(z=np.log(-z), x=np.log(x), y=np.log(y)))\n",
    "fig.show()"
   ]
  },
  {
   "cell_type": "code",
   "execution_count": 49,
   "metadata": {},
   "outputs": [
    {
     "data": {
      "text/plain": [
       "array([0.34355863, 0.09339253])"
      ]
     },
     "execution_count": 49,
     "metadata": {},
     "output_type": "execute_result"
    }
   ],
   "source": [
    "res, walk = a.infer_obs_mcmc(b)\n",
    "res"
   ]
  },
  {
   "cell_type": "code",
   "execution_count": 50,
   "metadata": {},
   "outputs": [
    {
     "data": {
      "application/vnd.plotly.v1+json": {
       "config": {
        "plotlyServerURL": "https://plot.ly"
       },
       "data": [
        {
         "type": "contour",
         "x": [
          -4.605170185988091,
          -4.362792807778192,
          -4.120415429568292,
          -3.8780380513583923,
          -3.635660673148493,
          -3.393283294938594,
          -3.150905916728694,
          -2.9085285385187944,
          -2.666151160308895,
          -2.423773782098996,
          -2.181396403889096,
          -1.9390190256791964,
          -1.696641647469297,
          -1.4542642692593977,
          -1.211886891049498,
          -0.9695095128395982,
          -0.7271321346296988,
          -0.4847547564197996,
          -0.24237737820989982,
          0
         ],
         "y": [
          -4.605170185988091,
          -4.362792807778192,
          -4.120415429568292,
          -3.8780380513583923,
          -3.635660673148493,
          -3.393283294938594,
          -3.150905916728694,
          -2.9085285385187944,
          -2.666151160308895,
          -2.423773782098996,
          -2.181396403889096,
          -1.9390190256791964,
          -1.696641647469297,
          -1.4542642692593977,
          -1.211886891049498,
          -0.9695095128395982,
          -0.7271321346296988,
          -0.4847547564197996,
          -0.24237737820989982,
          0
         ],
         "z": [
          [
           7.660791805975706,
           7.608061534650552,
           7.552395429116452,
           7.493447246390694,
           7.430805643329913,
           7.363976762234159,
           7.29236057480007,
           7.215218091879497,
           7.1316248512737905,
           7.040403161029855,
           6.940020278864557,
           6.828429670588274,
           6.702812334518729,
           6.559131771066813,
           6.3913142403097005,
           6.189598672900879,
           5.936789642618581,
           5.5981288136094065,
           5.085256776563631,
           4.087169022659653
          ],
          [
           6.581251975542694,
           6.573681225693278,
           6.564082833044416,
           6.551928175756454,
           6.536557923716055,
           6.517152403081063,
           6.49269535693022,
           6.461928385908096,
           6.423290782055713,
           6.3748343303653545,
           6.314092581156349,
           6.237864166210793,
           6.141828403022946,
           6.019818091910435,
           5.86233699988836,
           5.653207282747147,
           5.360699224019518,
           4.907369641143298,
           4.034849053138035,
           3.798260337792752
          ],
          [
           6.1519389913512725,
           6.14527885422213,
           6.136794413104137,
           6.125985877246386,
           6.112215759873552,
           6.094669721043442,
           6.07230476988617,
           6.043779115638075,
           6.007353888575834,
           5.960748973757358,
           5.9009188745496575,
           5.823679372687267,
           5.723034735512145,
           5.589849944516138,
           5.4089192631599445,
           5.151424184904537,
           4.750512423265429,
           3.9982077902818984,
           3.3575818136446283,
           4.337769328856715
          ],
          [
           5.826488223224086,
           5.819580361746437,
           5.810760505992696,
           5.799492544684719,
           5.785085068705548,
           5.766642574625795,
           5.742998237402043,
           5.712618682031039,
           5.673464056825637,
           5.622772519474333,
           5.556708216060982,
           5.469743483852969,
           5.3534753872433205,
           5.194095292504804,
           4.966124061872914,
           4.61325913588785,
           3.9733641684757828,
           3.0708155848732743,
           3.7736677392603792,
           4.52944549414831
          ],
          [
           5.553185984892373,
           5.545598679318655,
           5.535894417169568,
           5.5234688821466955,
           5.507535829181608,
           5.487065500421727,
           5.460696991269627,
           5.4266093933305735,
           5.382324262518153,
           5.324386551770621,
           5.247814579531306,
           5.145071798952178,
           5.003936280903736,
           4.802441736888661,
           4.494344259882775,
           3.956927973122252,
           3.034983152553701,
           3.132519357293396,
           3.981829714773389,
           4.501732995347544
          ],
          [
           5.314623768612754,
           5.306090047127325,
           5.295157359206046,
           5.2811292798707115,
           5.263092097863726,
           5.23983617167173,
           5.209740609230876,
           5.170597607189544,
           5.1193318296365105,
           5.051524684417122,
           4.960545607628484,
           4.8358083408049914,
           4.658808074529978,
           4.392455095051232,
           3.9462372639479946,
           3.155139397730692,
           2.524911833086681,
           3.3276045003974146,
           3.9708772138579262,
           4.340393572323921
          ],
          [
           5.10313524164798,
           5.093454894047503,
           5.081032531110999,
           5.065058543906113,
           5.044461590868898,
           5.017807584346391,
           4.983147149970399,
           4.9377750064446415,
           4.877829246260153,
           4.797577165703674,
           4.688028252088039,
           4.533922704472047,
           4.306151670022143,
           3.9393560054493353,
           3.3082104553389313,
           2.3701133897667717,
           2.5251997589743302,
           3.3399665162902434,
           3.8194246897248934,
           4.094921724893771
          ],
          [
           4.914890034079276,
           4.903907460021733,
           4.889789586912764,
           4.871594433465099,
           4.84806435998936,
           4.817496371849822,
           4.777540472045561,
           4.72487027434966,
           4.65461085848317,
           4.559265128472491,
           4.426490016055082,
           4.233868502517165,
           3.93494971591831,
           3.442015123749331,
           2.6660796508073545,
           1.80210713188761,
           2.5140635654716377,
           3.2122209009506917,
           3.5753649053713863,
           3.7981193768559183
          ],
          [
           4.7477683409538205,
           4.735370552340708,
           4.719404925064119,
           4.698780291273708,
           4.672026413362918,
           4.637128499130714,
           4.5912624361823315,
           4.530347138040059,
           4.448233829336522,
           4.335105645244778,
           4.1739640784936105,
           3.9321312711355954,
           3.549117682645522,
           2.9936655268078676,
           2.0180964914515327,
           1.5050862651381913,
           2.38305420359734,
           2.9876778132019157,
           3.2701844344168065,
           3.4739333255837517
          ],
          [
           4.600396820527032,
           4.586516871760472,
           4.568610079768228,
           4.545422737653402,
           4.51524988417692,
           4.475726652488866,
           4.423485194759385,
           4.353555455830671,
           4.258238025507556,
           4.124790304700929,
           3.9303245833580087,
           3.63377336244259,
           3.2220572646444023,
           2.6083283360322427,
           1.448354250232492,
           1.3227751054770964,
           2.1726141962516508,
           2.7057031245698835,
           2.9322896002629926,
           3.1432478819670826
          ],
          [
           4.47165063766141,
           4.45627060948806,
           4.436392900240546,
           4.41059264727818,
           4.376914497462869,
           4.332614120990056,
           4.27372279078872,
           4.194266332376058,
           4.084761132859462,
           3.929160894314182,
           3.6998254510388726,
           3.3758496374539466,
           3.005208672217937,
           2.312471739909253,
           1.1349667847341482,
           1.224754448114168,
           1.9576962138632872,
           2.418336886317684,
           2.600483763104794,
           2.83457227331542
          ],
          [
           4.36039150040266,
           4.343542278332461,
           4.321728335096709,
           4.293350945492547,
           4.256197582086262,
           4.207129274649846,
           4.141544709101115,
           4.0524073669049665,
           3.928406078457162,
           3.750881441753375,
           3.4973407410294195,
           3.2154586018101714,
           2.879433032289705,
           2.166000945857308,
           1.2081406922732179,
           1.301800907540361,
           1.8459477665541975,
           2.2052969440836048,
           2.3401072287777196,
           2.5961879344981313
          ],
          [
           4.265349169219886,
           4.247106045349679,
           4.223450285955168,
           4.19261331105656,
           4.152129654090251,
           4.0984704299815045,
           4.026412089741795,
           3.927912058658605,
           3.790235162447421,
           3.595347475668893,
           3.3488723522246064,
           3.15179702727334,
           2.8368719091897163,
           2.191316240554055,
           1.5442181300468856,
           1.5765439566450494,
           1.9198584802238863,
           2.1525139350224354,
           2.2342655717346824,
           2.4878134422449634
          ],
          [
           4.185096791494725,
           4.165571114844465,
           4.14021752433885,
           4.107108396791256,
           4.063541592644702,
           4.005626910027735,
           3.927585249751336,
           3.8205950078651014,
           3.6716056732949442,
           3.4699561071786587,
           3.270859422482016,
           3.1503659885891677,
           2.864994771509252,
           2.3419563706732798,
           1.9433997868569584,
           1.9452646483208136,
           2.1493496328398054,
           2.2758524737616854,
           2.314404152525749,
           2.534194561459125
          ],
          [
           4.118084438733894,
           4.0974123804983105,
           4.07053998997041,
           4.035397272418413,
           3.989072656348006,
           3.9273664093872225,
           3.8440687790542736,
           3.7299902010909785,
           3.573603322537418,
           3.3803593789783317,
           3.2528516932249816,
           3.1854409075809347,
           2.941201971446932,
           2.5467065941610896,
           2.3097241184469217,
           2.3088118627528096,
           2.4391588169892238,
           2.5042153548292743,
           2.5199340942584856,
           2.695031625194284
          ],
          [
           4.062702591439275,
           4.041032745228156,
           4.01283893410074,
           3.9759293696396245,
           3.927217901143436,
           3.86226362315347,
           3.774593090735073,
           3.655187766837972,
           3.496262763270906,
           3.326317842174562,
           3.271347088870939,
           3.2398698925410385,
           3.041322330120072,
           2.7553719613591414,
           2.6185007593241236,
           2.6256154269399996,
           2.721120132350357,
           2.7581307059079476,
           2.766264700419578,
           2.9041460006085416
          ],
          [
           4.017353883120188,
           3.99483569814873,
           3.9655201564706313,
           3.9271156876840823,
           3.876399282771324,
           3.808763208820787,
           3.7176502112983574,
           3.594772642420711,
           3.4381166726908297,
           3.301443128485862,
           3.3069764267571147,
           3.301775892219845,
           3.1468281543016934,
           2.9441709993264165,
           2.870333858145603,
           2.887898730120511,
           2.9676708061097186,
           2.994005939325758,
           3.0018820640766752,
           3.1140324411019877
          ],
          [
           3.9805177804663434,
           3.9572924571066737,
           3.927044310266754,
           3.8874031381985383,
           3.835045075995589,
           3.7652652624745686,
           3.671585413285661,
           3.5469214660684845,
           3.396397535966437,
           3.2966356182449164,
           3.3480564783807214,
           3.3634424688550357,
           3.246523598544153,
           3.1054015849416876,
           3.0727121442337837,
           3.1001395289532536,
           3.1731294194604875,
           3.196595530885982,
           3.206911238554196,
           3.3023610281487477
          ],
          [
           3.950799135493363,
           3.9269937421887424,
           3.895983126687907,
           3.8553371387279634,
           3.801662114460943,
           3.730213669811564,
           3.634717673636748,
           3.5096122831389196,
           3.367699013553201,
           3.3035574870652864,
           3.3884170298747227,
           3.4204443322929245,
           3.335024492666699,
           3.2389058866440035,
           3.2341095441756202,
           3.2699589060564835,
           3.3403342553610806,
           3.3641622355457943,
           3.3775777870319716,
           3.4622925772432027
          ],
          [
           3.926957414414374,
           3.9026820855283195,
           3.8710561026590886,
           3.8296048094033535,
           3.7748893732642954,
           3.7021682488852683,
           3.6054516301549513,
           3.480850083397473,
           3.348667200933773,
           3.316147637646905,
           3.4251326221379084,
           3.4707009323124502,
           3.410623462299078,
           3.3475053356799482,
           3.3622465878437264,
           3.404994540472447,
           3.474681664641632,
           3.5000574866679717,
           3.5164484102388065,
           3.5941794562764153
          ]
         ]
        },
        {
         "mode": "markers",
         "opacity": 0.7,
         "type": "scatter",
         "x": [
          -0.6931471805599453,
          -0.5457828424088492,
          -0.5457828424088492,
          -0.5457828424088492,
          -0.5457828424088492,
          -0.5457828424088492,
          -0.5457828424088492,
          -0.5457828424088492,
          -0.5457828424088492,
          -0.5457828424088492,
          -0.5457828424088492,
          -0.5457828424088492,
          -0.5457828424088492,
          -0.5457828424088492,
          -0.5373451767794853,
          -0.5373451767794853,
          -0.5373451767794853,
          -0.5373451767794853,
          -0.582644646848457,
          -0.6673541408664739,
          -0.6673541408664739,
          -0.7085312471860687,
          -0.9021338297126942,
          -0.9021338297126942,
          -0.9021338297126942,
          -1.0039724046158858,
          -1.0039724046158858,
          -1.0039724046158858,
          -1.0039724046158858,
          -1.0039724046158858,
          -1.084328126391262,
          -1.084328126391262,
          -0.9114895482826323,
          -0.9114895482826323,
          -0.9114895482826323,
          -0.9114895482826323,
          -0.9114895482826323,
          -0.9114895482826323,
          -0.9114895482826323,
          -0.9114895482826323,
          -0.9114895482826323,
          -1.0112841103410903,
          -1.0112841103410903,
          -1.0112841103410903,
          -1.0112841103410903,
          -1.0112841103410903,
          -1.0112841103410903,
          -1.0112841103410903,
          -1.0112841103410903,
          -1.0112841103410903,
          -0.7885415899528929,
          -0.7885415899528929,
          -0.7885415899528929,
          -0.7885415899528929,
          -0.7885415899528929,
          -0.7885415899528929,
          -0.7885415899528929,
          -1.1601956967982605,
          -1.1601956967982605,
          -1.1601956967982605,
          -1.1601956967982605,
          -1.0669822980416075,
          -1.0669822980416075,
          -1.0669822980416075,
          -0.9567656861258356,
          -1.0040061066918544,
          -1.0040061066918544,
          -1.0040061066918544,
          -1.0040061066918544,
          -1.0040061066918544,
          -1.0040061066918544,
          -1.0040061066918544,
          -0.9612270307158646,
          -1.2321090946021325,
          -1.2321090946021325,
          -1.2321090946021325,
          -1.2321090946021325,
          -1.2321090946021325,
          -1.2321090946021325,
          -1.2321090946021325,
          -1.2321090946021325,
          -1.2321090946021325,
          -1.2321090946021325,
          -1.2321090946021325,
          -1.2321090946021325,
          -1.2321090946021325,
          -1.2321090946021325,
          -1.2321090946021325,
          -1.2321090946021325,
          -1.2321090946021325,
          -1.2321090946021325,
          -1.2321090946021325,
          -1.2321090946021325,
          -1.2321090946021325,
          -1.2321090946021325,
          -1.2321090946021325,
          -1.2321090946021325,
          -1.2321090946021325,
          -1.2321090946021325,
          -1.2321090946021325,
          -1.2321090946021325,
          -1.2321090946021325,
          -1.2321090946021325,
          -1.2321090946021325,
          -1.2321090946021325,
          -1.2321090946021325,
          -1.2321090946021325,
          -1.2321090946021325,
          -1.2321090946021325,
          -1.2321090946021325,
          -1.2321090946021325,
          -1.2321090946021325,
          -1.2321090946021325,
          -1.2321090946021325,
          -1.2321090946021325,
          -1.2321090946021325,
          -1.2321090946021325,
          -1.2321090946021325,
          -1.2321090946021325,
          -1.2321090946021325,
          -1.2321090946021325,
          -1.2321090946021325,
          -1.2321090946021325,
          -1.2321090946021325,
          -1.2321090946021325,
          -1.2321090946021325,
          -1.2321090946021325,
          -1.2321090946021325,
          -1.2321090946021325,
          -1.2321090946021325,
          -1.2321090946021325,
          -1.2321090946021325,
          -1.2321090946021325,
          -1.2321090946021325,
          -1.2321090946021325,
          -1.2321090946021325,
          -1.2321090946021325,
          -1.2321090946021325,
          -1.2321090946021325,
          -1.2321090946021325,
          -1.2321090946021325,
          -1.2321090946021325,
          -1.2321090946021325,
          -1.2321090946021325,
          -1.2321090946021325,
          -1.2321090946021325,
          -1.2321090946021325,
          -1.2321090946021325,
          -1.2321090946021325,
          -1.2321090946021325,
          -1.2321090946021325,
          -1.2321090946021325,
          -1.2321090946021325,
          -1.2321090946021325,
          -1.2321090946021325,
          -1.2321090946021325,
          -1.2321090946021325,
          -1.2321090946021325,
          -1.2321090946021325,
          -1.2321090946021325,
          -1.1246259938966259,
          -0.8936177099493828,
          -0.8936177099493828,
          -0.8936177099493828,
          -0.8936177099493828,
          -0.967744734378751,
          -0.967744734378751,
          -0.967744734378751,
          -0.967744734378751,
          -0.967744734378751,
          -0.967744734378751,
          -1.2495590753811003,
          -1.2495590753811003,
          -1.1400588960699027,
          -1.1400588960699027,
          -1.1400588960699027,
          -1.1400588960699027,
          -1.0188013859877103,
          -1.0188013859877103,
          -1.0188013859877103,
          -1.0188013859877103,
          -1.0188013859877103,
          -1.0188013859877103,
          -1.0188013859877103,
          -1.0188013859877103,
          -1.0188013859877103,
          -1.0188013859877103,
          -1.0188013859877103,
          -1.0188013859877103,
          -1.0188013859877103,
          -1.0188013859877103,
          -1.0188013859877103,
          -1.0188013859877103,
          -1.0188013859877103,
          -1.0188013859877103,
          -1.0188013859877103,
          -1.0188013859877103,
          -1.0188013859877103,
          -1.0188013859877103,
          -0.9775879347903329,
          -0.9775879347903329,
          -0.9775879347903329,
          -0.9775879347903329,
          -0.9775879347903329,
          -0.9775879347903329,
          -0.9775879347903329,
          -0.9775879347903329,
          -0.9775879347903329,
          -0.9775879347903329,
          -1.3232658279350664,
          -1.3232658279350664,
          -1.3232658279350664,
          -1.3232658279350664,
          -1.3232658279350664,
          -1.3232658279350664,
          -1.3232658279350664,
          -1.3232658279350664,
          -1.3232658279350664,
          -1.3232658279350664,
          -1.3232658279350664,
          -1.3232658279350664,
          -1.1001437534711516,
          -1.1001437534711516,
          -1.1001437534711516,
          -1.1001437534711516,
          -1.1001437534711516,
          -1.1001437534711516,
          -0.987187911584802,
          -0.987187911584802,
          -0.987187911584802,
          -0.987187911584802,
          -0.987187911584802,
          -0.987187911584802,
          -0.987187911584802,
          -0.987187911584802,
          -0.987187911584802,
          -1.1636926074215155,
          -1.1636926074215155,
          -1.1636926074215155,
          -0.927557684755887,
          -0.9178316876935744,
          -0.9178316876935744,
          -0.9178316876935744,
          -0.9020596252041967,
          -0.9020596252041967,
          -0.9020596252041967,
          -0.9020596252041967,
          -0.9020596252041967,
          -1.143273148311893,
          -1.143273148311893,
          -1.010473199843265,
          -1.010473199843265,
          -1.010473199843265,
          -0.9810653012738868,
          -0.9810653012738868,
          -0.9810653012738868,
          -0.9810653012738868,
          -0.9810653012738868,
          -0.9810653012738868,
          -0.9810653012738868,
          -0.9810653012738868,
          -0.9810653012738868,
          -0.9810653012738868,
          -0.9810653012738868,
          -1.0138589964441131,
          -1.0138589964441131,
          -1.0138589964441131,
          -1.0138589964441131,
          -1.0138589964441131,
          -1.0138589964441131,
          -1.0489961047214533,
          -0.9904176642693556,
          -0.9904176642693556,
          -0.9904176642693556,
          -0.9904176642693556,
          -0.9904176642693556,
          -0.9904176642693556,
          -1.1301014481877472,
          -1.1301014481877472,
          -1.1301014481877472,
          -1.1301014481877472,
          -1.1301014481877472,
          -1.1301014481877472,
          -1.1301014481877472,
          -1.1301014481877472,
          -1.1301014481877472,
          -1.1301014481877472,
          -1.1301014481877472,
          -1.1301014481877472,
          -1.1301014481877472,
          -1.1301014481877472,
          -1.1301014481877472,
          -1.1301014481877472,
          -1.1301014481877472,
          -1.1301014481877472,
          -0.9477239588310455,
          -0.9477239588310455,
          -0.9477239588310455,
          -0.9477239588310455,
          -0.9477239588310455,
          -1.0378801518622935,
          -1.0378801518622935,
          -1.0378801518622935,
          -1.0378801518622935,
          -1.0378801518622935,
          -1.1477149969628078,
          -1.1477149969628078,
          -1.1477149969628078,
          -1.1477149969628078,
          -1.1477149969628078,
          -1.1477149969628078,
          -1.1477149969628078,
          -1.1477149969628078,
          -1.1477149969628078,
          -1.0936360406087189,
          -1.0936360406087189,
          -1.0936360406087189,
          -0.9488021931465968,
          -1.113498561348927,
          -1.113498561348927,
          -1.113498561348927,
          -1.113498561348927,
          -1.113498561348927,
          -1.113498561348927,
          -1.113498561348927,
          -1.113498561348927,
          -1.113498561348927,
          -1.113498561348927,
          -1.113498561348927,
          -1.113498561348927,
          -1.113498561348927,
          -1.113498561348927,
          -1.113498561348927,
          -1.113498561348927,
          -1.113498561348927,
          -1.113498561348927,
          -1.113498561348927,
          -1.113498561348927,
          -1.113498561348927,
          -1.113498561348927,
          -1.113498561348927,
          -1.113498561348927,
          -1.113498561348927,
          -1.113498561348927,
          -1.113498561348927,
          -1.113498561348927,
          -1.113498561348927,
          -1.113498561348927,
          -1.113498561348927,
          -1.113498561348927,
          -1.113498561348927,
          -1.113498561348927,
          -1.113498561348927,
          -1.113498561348927,
          -1.113498561348927,
          -1.113498561348927,
          -1.2630498922720108,
          -1.2630498922720108,
          -1.2630498922720108,
          -1.2630498922720108,
          -1.2630498922720108,
          -1.2630498922720108,
          -1.2630498922720108,
          -1.2630498922720108,
          -1.2630498922720108,
          -1.0057964510992279,
          -1.1750535523135452,
          -1.1750535523135452,
          -1.1750535523135452,
          -1.1750535523135452,
          -1.1750535523135452,
          -1.1750535523135452,
          -1.1750535523135452,
          -1.1750535523135452,
          -1.1750535523135452,
          -1.1750535523135452,
          -1.1750535523135452,
          -1.1750535523135452,
          -1.1750535523135452,
          -1.1750535523135452,
          -1.1420825393525398,
          -1.1420825393525398,
          -1.1420825393525398,
          -1.1420825393525398,
          -1.1420825393525398,
          -1.1420825393525398,
          -1.1420825393525398,
          -1.1420825393525398,
          -1.1420825393525398,
          -1.1420825393525398,
          -1.1420825393525398,
          -1.1420825393525398,
          -1.1420825393525398,
          -1.1420825393525398,
          -1.1420825393525398,
          -1.1420825393525398,
          -1.1420825393525398,
          -1.1420825393525398,
          -1.1420825393525398,
          -1.1420825393525398,
          -1.1420825393525398,
          -1.1420825393525398,
          -1.1420825393525398,
          -1.1420825393525398,
          -1.1420825393525398,
          -0.9417601025522294,
          -0.9417601025522294,
          -0.9417601025522294,
          -0.9417601025522294,
          -0.9417601025522294,
          -1.0491869736715898,
          -1.0491869736715898,
          -1.0491869736715898,
          -1.0491869736715898,
          -1.0491869736715898,
          -1.0491869736715898,
          -1.0491869736715898,
          -1.0491869736715898,
          -1.0491869736715898,
          -1.0491869736715898,
          -1.0491869736715898,
          -1.0491869736715898,
          -1.0491869736715898,
          -1.0491869736715898,
          -1.0491869736715898,
          -1.0491869736715898,
          -1.0491869736715898,
          -1.0491869736715898,
          -1.0491869736715898,
          -1.0491869736715898,
          -1.0491869736715898,
          -1.0491869736715898,
          -1.0491869736715898,
          -1.0491869736715898,
          -1.0491869736715898,
          -1.0491869736715898,
          -1.0491869736715898,
          -1.0491869736715898,
          -1.0491869736715898,
          -1.0491869736715898,
          -1.0491869736715898,
          -1.0491869736715898,
          -1.0491869736715898,
          -1.0491869736715898,
          -1.115010220157153,
          -1.115010220157153,
          -1.115010220157153,
          -1.115010220157153,
          -1.115010220157153,
          -1.1446830885797128,
          -1.1446830885797128,
          -1.1446830885797128,
          -1.1446830885797128,
          -1.1446830885797128,
          -1.1446830885797128,
          -1.1446830885797128,
          -1.1446830885797128,
          -1.1446830885797128,
          -1.1446830885797128,
          -1.1446830885797128,
          -1.1446830885797128,
          -1.1446830885797128,
          -1.1460431606401285,
          -1.1460431606401285,
          -1.1460431606401285,
          -1.1460431606401285,
          -1.1460431606401285,
          -1.1460431606401285,
          -1.1460431606401285,
          -1.1460431606401285,
          -1.1460431606401285,
          -1.1460431606401285,
          -1.1460431606401285,
          -1.1460431606401285,
          -1.1460431606401285,
          -1.1460431606401285,
          -1.1460431606401285,
          -1.1460431606401285,
          -1.1460431606401285,
          -1.1460431606401285,
          -1.1460431606401285,
          -1.1460431606401285,
          -1.1460431606401285,
          -1.1460431606401285,
          -1.1460431606401285,
          -1.1460431606401285,
          -1.1460431606401285,
          -1.1460431606401285,
          -1.1460431606401285,
          -1.1460431606401285,
          -1.1460431606401285,
          -1.1460431606401285,
          -1.1460431606401285,
          -1.1460431606401285,
          -1.1460431606401285,
          -1.1460431606401285,
          -1.1460431606401285,
          -1.042449273181101,
          -1.042449273181101,
          -1.042449273181101,
          -0.953678909137638,
          -0.953678909137638,
          -0.953678909137638,
          -0.9419341057625672,
          -0.9419341057625672,
          -0.9419341057625672,
          -0.9419341057625672,
          -1.0724551313440966,
          -1.09423418646902,
          -1.09423418646902,
          -1.09423418646902,
          -1.09423418646902,
          -1.09423418646902,
          -1.09423418646902,
          -1.09423418646902,
          -1.09423418646902,
          -1.09423418646902,
          -1.09423418646902,
          -1.09423418646902,
          -1.09423418646902,
          -1.09423418646902,
          -1.09423418646902,
          -1.09423418646902,
          -1.09423418646902,
          -1.09423418646902,
          -1.09423418646902,
          -1.09423418646902,
          -1.09423418646902,
          -1.09423418646902,
          -1.09423418646902,
          -1.09423418646902,
          -1.015597223713643,
          -1.015597223713643,
          -1.015597223713643,
          -1.015597223713643,
          -1.015597223713643,
          -1.04563073566122,
          -1.04563073566122,
          -1.04563073566122,
          -0.9916158678769499,
          -0.9916158678769499,
          -0.9916158678769499,
          -0.8450298639940785,
          -0.8450298639940785,
          -0.8450298639940785,
          -0.8450298639940785,
          -0.8450298639940785,
          -0.8450298639940785,
          -0.8450298639940785,
          -0.8450298639940785,
          -0.8450298639940785,
          -0.97081234612996,
          -0.97081234612996,
          -0.97081234612996,
          -0.97081234612996,
          -0.97081234612996,
          -1.0823394193843694,
          -1.0822387881069215,
          -1.0822387881069215,
          -1.0822387881069215,
          -1.1270439703918669,
          -1.1270439703918669,
          -1.1270439703918669,
          -1.1270439703918669,
          -1.1270439703918669,
          -1.1270439703918669,
          -1.1270439703918669,
          -1.1270439703918669,
          -1.1270439703918669,
          -1.1270439703918669,
          -1.1270439703918669,
          -1.2108847011114263,
          -1.2108847011114263,
          -1.2108847011114263,
          -1.0447450392478161,
          -1.0447450392478161,
          -1.0447450392478161,
          -1.0447450392478161,
          -0.9907643874282596,
          -0.9907643874282596,
          -0.9907643874282596,
          -0.9907643874282596,
          -0.9907643874282596,
          -0.9907643874282596,
          -0.9907643874282596,
          -1.1080939183449379,
          -1.0069430199141156,
          -1.0069430199141156,
          -0.8810950311336608,
          -1.0475067492872803,
          -1.0475067492872803,
          -1.0475067492872803,
          -0.9329147321840535,
          -0.9329147321840535,
          -0.9782078675057939,
          -0.9782078675057939,
          -0.9782078675057939,
          -0.9782078675057939,
          -0.9782078675057939,
          -0.9815682062517807,
          -1.01855139197342,
          -1.01855139197342,
          -1.01855139197342,
          -1.01855139197342,
          -1.01855139197342,
          -1.01855139197342,
          -0.9368990137910571,
          -0.9368990137910571,
          -0.9368990137910571,
          -0.9368990137910571,
          -1.0682025790899832,
          -1.0682025790899832,
          -1.0682025790899832,
          -1.0682025790899832,
          -1.1916478972886348,
          -1.1916478972886348,
          -1.0697434785100577,
          -1.099865051780815,
          -1.099865051780815,
          -1.099865051780815,
          -0.8771165360132623,
          -0.8771165360132623,
          -0.8771165360132623,
          -0.8431409248791457,
          -0.7911396825030663,
          -0.7911396825030663,
          -0.8456069545593252,
          -0.8456069545593252,
          -0.8456069545593252,
          -0.8456069545593252,
          -0.7105896650073227,
          -0.7105896650073227,
          -0.7105896650073227,
          -0.7268416344310521,
          -0.7268416344310521,
          -0.834509293136818,
          -0.834509293136818,
          -0.834509293136818,
          -0.834509293136818,
          -0.834509293136818,
          -0.9047515597561347,
          -0.9047515597561347,
          -1.2034406521058338,
          -1.2301766882779708,
          -1.2301766882779708,
          -1.2301766882779708,
          -1.2301766882779708,
          -1.2301766882779708,
          -1.2301766882779708,
          -1.2301766882779708,
          -1.2301766882779708,
          -1.2301766882779708,
          -1.0761035666496586,
          -1.0761035666496586,
          -1.0761035666496586,
          -1.0761035666496586,
          -1.0761035666496586,
          -1.0761035666496586,
          -1.0761035666496586,
          -1.046549437734226,
          -1.046549437734226,
          -1.046549437734226,
          -1.046549437734226,
          -1.046549437734226,
          -1.046549437734226,
          -1.046549437734226,
          -1.046549437734226,
          -1.046549437734226,
          -1.046549437734226,
          -1.046549437734226,
          -1.046549437734226,
          -1.046549437734226,
          -1.046549437734226,
          -1.046549437734226,
          -1.046549437734226,
          -1.046549437734226,
          -1.046549437734226,
          -1.046549437734226,
          -1.046549437734226,
          -1.046549437734226,
          -1.046549437734226,
          -1.046549437734226,
          -1.046549437734226,
          -1.046549437734226,
          -1.046549437734226,
          -0.8610318562618856,
          -0.8610318562618856,
          -0.8610318562618856,
          -0.8610318562618856,
          -0.8610318562618856,
          -0.8610318562618856,
          -0.8610318562618856,
          -0.8610318562618856,
          -0.8610318562618856,
          -0.8610318562618856,
          -0.8610318562618856,
          -0.6865836124653198,
          -0.6865836124653198,
          -0.7741482058011483,
          -0.7741482058011483,
          -0.7741482058011483,
          -1.2276935021998112,
          -1.2276935021998112,
          -1.2276935021998112,
          -1.2276935021998112,
          -1.2276935021998112,
          -1.2276935021998112,
          -1.0500255117971815,
          -1.0500255117971815,
          -1.0500255117971815,
          -1.0500255117971815,
          -1.0500255117971815,
          -0.8109077752484701,
          -0.8109077752484701,
          -0.8109077752484701,
          -1.0751501387806561,
          -1.0751501387806561,
          -1.004626956960324,
          -0.9896232853341288,
          -0.9896232853341288,
          -0.9896232853341288,
          -1.135500161859323,
          -1.135500161859323,
          -1.135500161859323,
          -1.135500161859323,
          -1.135500161859323,
          -1.135500161859323,
          -1.135500161859323,
          -1.135500161859323,
          -1.135500161859323,
          -1.135500161859323,
          -1.135500161859323,
          -1.135500161859323,
          -1.135500161859323,
          -1.135500161859323,
          -1.135500161859323,
          -1.135500161859323,
          -1.135500161859323,
          -1.1894004238745024,
          -1.1894004238745024,
          -1.0989514583030724,
          -1.0989514583030724,
          -1.0989514583030724,
          -1.0989514583030724,
          -1.0989514583030724,
          -1.0989514583030724,
          -1.0989514583030724,
          -1.0989514583030724,
          -1.0989514583030724,
          -1.0989514583030724,
          -1.0989514583030724,
          -1.0989514583030724,
          -1.0989514583030724,
          -1.0989514583030724,
          -1.0989514583030724,
          -1.0989514583030724,
          -1.0989514583030724,
          -1.0989514583030724,
          -1.0989514583030724,
          -1.0989514583030724,
          -1.0989514583030724,
          -1.0989514583030724,
          -1.0989514583030724,
          -1.0989514583030724,
          -1.0989514583030724,
          -1.0989514583030724,
          -1.0989514583030724,
          -1.0132042339812433,
          -1.0263475839397027,
          -1.0263475839397027,
          -1.0263475839397027,
          -1.0263475839397027,
          -1.0263475839397027,
          -1.0263475839397027,
          -1.0263475839397027,
          -1.0263475839397027,
          -1.0263475839397027,
          -1.0263475839397027,
          -1.0263475839397027,
          -1.0263475839397027,
          -1.0263475839397027,
          -1.0263475839397027,
          -1.0263475839397027,
          -1.0263475839397027,
          -1.0263475839397027,
          -1.0263475839397027,
          -0.940614075662007,
          -0.940614075662007,
          -0.940614075662007,
          -0.940614075662007,
          -0.940614075662007,
          -0.940614075662007,
          -0.940614075662007,
          -0.940614075662007,
          -1.0872537603338577,
          -1.0872537603338577,
          -1.0872537603338577,
          -1.1743580171128216,
          -1.1743580171128216,
          -1.1743580171128216,
          -1.1743580171128216,
          -1.1743580171128216,
          -1.1743580171128216,
          -1.1743580171128216,
          -1.1743580171128216,
          -1.1743580171128216,
          -1.1743580171128216,
          -1.1743580171128216,
          -1.1743580171128216,
          -1.1743580171128216,
          -1.1743580171128216,
          -1.1743580171128216,
          -1.1743580171128216,
          -1.1743580171128216,
          -1.1743580171128216,
          -1.1743580171128216,
          -1.1743580171128216,
          -1.1743580171128216,
          -1.1743580171128216,
          -1.1743580171128216,
          -1.1743580171128216,
          -1.1743580171128216,
          -1.07010112733763,
          -1.07010112733763,
          -1.07010112733763,
          -1.07010112733763,
          -1.07010112733763,
          -1.07010112733763,
          -0.8587082579146613,
          -0.8587082579146613,
          -1.1491314360341018,
          -1.1491314360341018,
          -1.1491314360341018,
          -1.058009750370804,
          -1.058009750370804,
          -1.058009750370804,
          -1.058009750370804,
          -1.058009750370804,
          -1.2286171798324932,
          -1.2286171798324932,
          -1.2286171798324932,
          -0.9854975183426663,
          -0.9854975183426663,
          -0.9854975183426663,
          -0.9854975183426663,
          -1.0632558588846093,
          -0.9014008446332274,
          -0.9477987014726416,
          -0.9477987014726416,
          -0.9477987014726416,
          -0.9477987014726416,
          -0.9477987014726416,
          -0.9477987014726416,
          -0.9477987014726416,
          -0.9477987014726416,
          -0.9477987014726416,
          -0.9477987014726416,
          -1.1293791075621955,
          -1.1293791075621955,
          -1.069670722916671,
          -1.069670722916671,
          -1.069670722916671,
          -1.069670722916671,
          -1.069670722916671,
          -1.069670722916671,
          -1.2177781181600338,
          -1.2177781181600338,
          -1.2177781181600338,
          -1.2177781181600338,
          -1.2177781181600338,
          -1.2177781181600338,
          -1.2197332576664166,
          -1.2197332576664166,
          -1.2205526647926384,
          -1.2205526647926384,
          -1.2205526647926384,
          -1.2205526647926384,
          -1.2205526647926384,
          -1.2205526647926384,
          -1.2205526647926384,
          -1.2205526647926384,
          -1.2205526647926384,
          -1.2205526647926384,
          -1.2205526647926384,
          -1.0382418982334116,
          -1.0754548512661304,
          -1.0754548512661304,
          -1.0754548512661304,
          -1.0754548512661304,
          -1.0754548512661304,
          -1.0754548512661304,
          -1.0754548512661304,
          -1.0754548512661304,
          -1.0754548512661304,
          -1.0754548512661304,
          -0.948357719927089,
          -0.948357719927089,
          -0.9621115824653046,
          -0.9621115824653046,
          -0.9621115824653046,
          -0.9621115824653046,
          -0.9621115824653046,
          -0.9621115824653046,
          -0.9621115824653046,
          -0.9621115824653046,
          -0.9621115824653046,
          -0.9621115824653046,
          -0.9621115824653046,
          -0.9621115824653046,
          -0.9302899451238219,
          -0.9302899451238219,
          -0.9302899451238219,
          -0.9302899451238219,
          -0.9302899451238219,
          -0.9302899451238219,
          -0.9302899451238219,
          -0.9302899451238219,
          -0.9302899451238219,
          -0.8126601415019447,
          -0.8126601415019447,
          -0.8126601415019447,
          -0.8126601415019447,
          -0.8126601415019447,
          -1.2338170841180147,
          -1.2338170841180147,
          -1.0779618446327701,
          -1.0779618446327701,
          -1.0779618446327701,
          -1.0779618446327701,
          -1.006944001755955,
          -1.006944001755955,
          -1.006944001755955,
          -1.006944001755955,
          -1.006944001755955,
          -1.006944001755955,
          -1.1038165346815276,
          -1.1038165346815276,
          -1.1038165346815276,
          -1.1038165346815276,
          -1.1038165346815276,
          -1.1038165346815276,
          -1.0077003610319664,
          -1.0077003610319664,
          -1.0077003610319664,
          -1.0077003610319664,
          -1.0077003610319664,
          -1.0077003610319664,
          -0.974258992840199,
          -0.974258992840199,
          -0.974258992840199,
          -0.974258992840199,
          -0.974258992840199,
          -0.974258992840199,
          -1.0563294419679967,
          -1.0563294419679967,
          -1.0563294419679967,
          -1.0563294419679967,
          -1.1386857592880388,
          -1.1386857592880388,
          -1.1386857592880388,
          -1.1386857592880388,
          -1.1386857592880388,
          -1.1386857592880388,
          -1.1386857592880388,
          -1.1386857592880388,
          -1.1386857592880388,
          -1.2257243713041106,
          -1.2257243713041106,
          -1.2257243713041106,
          -1.2257243713041106,
          -1.0949699762219252,
          -1.0949699762219252,
          -1.1048475213238869,
          -1.1048475213238869,
          -1.1048475213238869,
          -1.1048475213238869,
          -1.1048475213238869,
          -1.1048475213238869,
          -1.1048475213238869,
          -1.1048475213238869,
          -1.1048475213238869,
          -1.1048475213238869,
          -1.1048475213238869,
          -1.1048475213238869,
          -1.1048475213238869,
          -1.1048475213238869,
          -1.1048475213238869,
          -1.1048475213238869,
          -1.1048475213238869,
          -1.1048475213238869,
          -1.1048475213238869,
          -1.1048475213238869,
          -1.1048475213238869,
          -1.1048475213238869,
          -1.002390443653292,
          -1.002390443653292,
          -1.002390443653292,
          -1.002390443653292,
          -1.002390443653292,
          -1.002390443653292,
          -1.002390443653292
         ],
         "y": [
          -0.6931471805599453,
          -0.8437875937088065,
          -0.8437875937088065,
          -0.8437875937088065,
          -0.8437875937088065,
          -0.8437875937088065,
          -0.8437875937088065,
          -0.8437875937088065,
          -0.8437875937088065,
          -0.8437875937088065,
          -0.8437875937088065,
          -0.8437875937088065,
          -0.8437875937088065,
          -0.8437875937088065,
          -0.8661659120763777,
          -0.8661659120763777,
          -0.8661659120763777,
          -0.8661659120763777,
          -1.0625498154703474,
          -1.4007556172509212,
          -1.4007556172509212,
          -1.6603114766275768,
          -1.7511013495457188,
          -1.7511013495457188,
          -1.7511013495457188,
          -1.9664323571156768,
          -1.9664323571156768,
          -1.9664323571156768,
          -1.9664323571156768,
          -1.9664323571156768,
          -2.9533473342081153,
          -2.9533473342081153,
          -2.6455795266274893,
          -2.6455795266274893,
          -2.6455795266274893,
          -2.6455795266274893,
          -2.6455795266274893,
          -2.6455795266274893,
          -2.6455795266274893,
          -2.6455795266274893,
          -2.6455795266274893,
          -2.888048601618681,
          -2.888048601618681,
          -2.888048601618681,
          -2.888048601618681,
          -2.888048601618681,
          -2.888048601618681,
          -2.888048601618681,
          -2.888048601618681,
          -2.888048601618681,
          -2.55410360720099,
          -2.55410360720099,
          -2.55410360720099,
          -2.55410360720099,
          -2.55410360720099,
          -2.55410360720099,
          -2.55410360720099,
          -2.361770724065292,
          -2.361770724065292,
          -2.361770724065292,
          -2.361770724065292,
          -2.0354402104936207,
          -2.0354402104936207,
          -2.0354402104936207,
          -2.452292394046057,
          -3.033629754943778,
          -3.033629754943778,
          -3.033629754943778,
          -3.033629754943778,
          -3.033629754943778,
          -3.033629754943778,
          -3.033629754943778,
          -2.3891345991577575,
          -2.6246019995954355,
          -2.6246019995954355,
          -2.6246019995954355,
          -2.6246019995954355,
          -2.6246019995954355,
          -2.6246019995954355,
          -2.6246019995954355,
          -2.6246019995954355,
          -2.6246019995954355,
          -2.6246019995954355,
          -2.6246019995954355,
          -2.6246019995954355,
          -2.6246019995954355,
          -2.6246019995954355,
          -2.6246019995954355,
          -2.6246019995954355,
          -2.6246019995954355,
          -2.6246019995954355,
          -2.6246019995954355,
          -2.6246019995954355,
          -2.6246019995954355,
          -2.6246019995954355,
          -2.6246019995954355,
          -2.6246019995954355,
          -2.6246019995954355,
          -2.6246019995954355,
          -2.6246019995954355,
          -2.6246019995954355,
          -2.6246019995954355,
          -2.6246019995954355,
          -2.6246019995954355,
          -2.6246019995954355,
          -2.6246019995954355,
          -2.6246019995954355,
          -2.6246019995954355,
          -2.6246019995954355,
          -2.6246019995954355,
          -2.6246019995954355,
          -2.6246019995954355,
          -2.6246019995954355,
          -2.6246019995954355,
          -2.6246019995954355,
          -2.6246019995954355,
          -2.6246019995954355,
          -2.6246019995954355,
          -2.6246019995954355,
          -2.6246019995954355,
          -2.6246019995954355,
          -2.6246019995954355,
          -2.6246019995954355,
          -2.6246019995954355,
          -2.6246019995954355,
          -2.6246019995954355,
          -2.6246019995954355,
          -2.6246019995954355,
          -2.6246019995954355,
          -2.6246019995954355,
          -2.6246019995954355,
          -2.6246019995954355,
          -2.6246019995954355,
          -2.6246019995954355,
          -2.6246019995954355,
          -2.6246019995954355,
          -2.6246019995954355,
          -2.6246019995954355,
          -2.6246019995954355,
          -2.6246019995954355,
          -2.6246019995954355,
          -2.6246019995954355,
          -2.6246019995954355,
          -2.6246019995954355,
          -2.6246019995954355,
          -2.6246019995954355,
          -2.6246019995954355,
          -2.6246019995954355,
          -2.6246019995954355,
          -2.6246019995954355,
          -2.6246019995954355,
          -2.6246019995954355,
          -2.6246019995954355,
          -2.6246019995954355,
          -2.6246019995954355,
          -2.6246019995954355,
          -2.6246019995954355,
          -2.6246019995954355,
          -2.6246019995954355,
          -2.6246019995954355,
          -2.326632734741341,
          -2.0255476717724483,
          -2.0255476717724483,
          -2.0255476717724483,
          -2.0255476717724483,
          -2.1841990163015224,
          -2.1841990163015224,
          -2.1841990163015224,
          -2.1841990163015224,
          -2.1841990163015224,
          -2.1841990163015224,
          -2.4226055322377653,
          -2.4226055322377653,
          -2.6293219368330605,
          -2.6293219368330605,
          -2.6293219368330605,
          -2.6293219368330605,
          -2.0725292685764973,
          -2.0725292685764973,
          -2.0725292685764973,
          -2.0725292685764973,
          -2.0725292685764973,
          -2.0725292685764973,
          -2.0725292685764973,
          -2.0725292685764973,
          -2.0725292685764973,
          -2.0725292685764973,
          -2.0725292685764973,
          -2.0725292685764973,
          -2.0725292685764973,
          -2.0725292685764973,
          -2.0725292685764973,
          -2.0725292685764973,
          -2.0725292685764973,
          -2.0725292685764973,
          -2.0725292685764973,
          -2.0725292685764973,
          -2.0725292685764973,
          -2.0725292685764973,
          -2.686125343648151,
          -2.686125343648151,
          -2.686125343648151,
          -2.686125343648151,
          -2.686125343648151,
          -2.686125343648151,
          -2.686125343648151,
          -2.686125343648151,
          -2.686125343648151,
          -2.686125343648151,
          -2.5659700331527855,
          -2.5659700331527855,
          -2.5659700331527855,
          -2.5659700331527855,
          -2.5659700331527855,
          -2.5659700331527855,
          -2.5659700331527855,
          -2.5659700331527855,
          -2.5659700331527855,
          -2.5659700331527855,
          -2.5659700331527855,
          -2.5659700331527855,
          -2.561275079638293,
          -2.561275079638293,
          -2.561275079638293,
          -2.561275079638293,
          -2.561275079638293,
          -2.561275079638293,
          -2.2927912406851387,
          -2.2927912406851387,
          -2.2927912406851387,
          -2.2927912406851387,
          -2.2927912406851387,
          -2.2927912406851387,
          -2.2927912406851387,
          -2.2927912406851387,
          -2.2927912406851387,
          -2.2892988632619793,
          -2.2892988632619793,
          -2.2892988632619793,
          -2.282551039132837,
          -2.518226937937959,
          -2.518226937937959,
          -2.518226937937959,
          -2.8393553307484205,
          -2.8393553307484205,
          -2.8393553307484205,
          -2.8393553307484205,
          -2.8393553307484205,
          -2.0551150684642487,
          -2.0551150684642487,
          -2.542639365621215,
          -2.542639365621215,
          -2.542639365621215,
          -2.488054476607558,
          -2.488054476607558,
          -2.488054476607558,
          -2.488054476607558,
          -2.488054476607558,
          -2.488054476607558,
          -2.488054476607558,
          -2.488054476607558,
          -2.488054476607558,
          -2.488054476607558,
          -2.488054476607558,
          -1.95871110726151,
          -1.95871110726151,
          -1.95871110726151,
          -1.95871110726151,
          -1.95871110726151,
          -1.95871110726151,
          -1.9340189709448639,
          -2.08484333342289,
          -2.08484333342289,
          -2.08484333342289,
          -2.08484333342289,
          -2.08484333342289,
          -2.08484333342289,
          -2.3910361513036693,
          -2.3910361513036693,
          -2.3910361513036693,
          -2.3910361513036693,
          -2.3910361513036693,
          -2.3910361513036693,
          -2.3910361513036693,
          -2.3910361513036693,
          -2.3910361513036693,
          -2.3910361513036693,
          -2.3910361513036693,
          -2.3910361513036693,
          -2.3910361513036693,
          -2.3910361513036693,
          -2.3910361513036693,
          -2.3910361513036693,
          -2.3910361513036693,
          -2.3910361513036693,
          -2.5462158346232697,
          -2.5462158346232697,
          -2.5462158346232697,
          -2.5462158346232697,
          -2.5462158346232697,
          -2.433304516724833,
          -2.433304516724833,
          -2.433304516724833,
          -2.433304516724833,
          -2.433304516724833,
          -1.9905155681255013,
          -1.9905155681255013,
          -1.9905155681255013,
          -1.9905155681255013,
          -1.9905155681255013,
          -1.9905155681255013,
          -1.9905155681255013,
          -1.9905155681255013,
          -1.9905155681255013,
          -1.9260988836014619,
          -1.9260988836014619,
          -1.9260988836014619,
          -2.3537778786601535,
          -2.315414621520841,
          -2.315414621520841,
          -2.315414621520841,
          -2.315414621520841,
          -2.315414621520841,
          -2.315414621520841,
          -2.315414621520841,
          -2.315414621520841,
          -2.315414621520841,
          -2.315414621520841,
          -2.315414621520841,
          -2.315414621520841,
          -2.315414621520841,
          -2.315414621520841,
          -2.315414621520841,
          -2.315414621520841,
          -2.315414621520841,
          -2.315414621520841,
          -2.315414621520841,
          -2.315414621520841,
          -2.315414621520841,
          -2.315414621520841,
          -2.315414621520841,
          -2.315414621520841,
          -2.315414621520841,
          -2.315414621520841,
          -2.315414621520841,
          -2.315414621520841,
          -2.315414621520841,
          -2.315414621520841,
          -2.315414621520841,
          -2.315414621520841,
          -2.315414621520841,
          -2.315414621520841,
          -2.315414621520841,
          -2.315414621520841,
          -2.315414621520841,
          -2.315414621520841,
          -2.5403388549911594,
          -2.5403388549911594,
          -2.5403388549911594,
          -2.5403388549911594,
          -2.5403388549911594,
          -2.5403388549911594,
          -2.5403388549911594,
          -2.5403388549911594,
          -2.5403388549911594,
          -2.1187797864055877,
          -2.2543448836976703,
          -2.2543448836976703,
          -2.2543448836976703,
          -2.2543448836976703,
          -2.2543448836976703,
          -2.2543448836976703,
          -2.2543448836976703,
          -2.2543448836976703,
          -2.2543448836976703,
          -2.2543448836976703,
          -2.2543448836976703,
          -2.2543448836976703,
          -2.2543448836976703,
          -2.2543448836976703,
          -2.4295735258843156,
          -2.4295735258843156,
          -2.4295735258843156,
          -2.4295735258843156,
          -2.4295735258843156,
          -2.4295735258843156,
          -2.4295735258843156,
          -2.4295735258843156,
          -2.4295735258843156,
          -2.4295735258843156,
          -2.4295735258843156,
          -2.4295735258843156,
          -2.4295735258843156,
          -2.4295735258843156,
          -2.4295735258843156,
          -2.4295735258843156,
          -2.4295735258843156,
          -2.4295735258843156,
          -2.4295735258843156,
          -2.4295735258843156,
          -2.4295735258843156,
          -2.4295735258843156,
          -2.4295735258843156,
          -2.4295735258843156,
          -2.4295735258843156,
          -2.4547663187406052,
          -2.4547663187406052,
          -2.4547663187406052,
          -2.4547663187406052,
          -2.4547663187406052,
          -2.6993269331317107,
          -2.6993269331317107,
          -2.6993269331317107,
          -2.6993269331317107,
          -2.6993269331317107,
          -2.6993269331317107,
          -2.6993269331317107,
          -2.6993269331317107,
          -2.6993269331317107,
          -2.6993269331317107,
          -2.6993269331317107,
          -2.6993269331317107,
          -2.6993269331317107,
          -2.6993269331317107,
          -2.6993269331317107,
          -2.6993269331317107,
          -2.6993269331317107,
          -2.6993269331317107,
          -2.6993269331317107,
          -2.6993269331317107,
          -2.6993269331317107,
          -2.6993269331317107,
          -2.6993269331317107,
          -2.6993269331317107,
          -2.6993269331317107,
          -2.6993269331317107,
          -2.6993269331317107,
          -2.6993269331317107,
          -2.6993269331317107,
          -2.6993269331317107,
          -2.6993269331317107,
          -2.6993269331317107,
          -2.6993269331317107,
          -2.6993269331317107,
          -2.8506454410338695,
          -2.8506454410338695,
          -2.8506454410338695,
          -2.8506454410338695,
          -2.8506454410338695,
          -2.329435416056239,
          -2.329435416056239,
          -2.329435416056239,
          -2.329435416056239,
          -2.329435416056239,
          -2.329435416056239,
          -2.329435416056239,
          -2.329435416056239,
          -2.329435416056239,
          -2.329435416056239,
          -2.329435416056239,
          -2.329435416056239,
          -2.329435416056239,
          -2.482430314689529,
          -2.482430314689529,
          -2.482430314689529,
          -2.482430314689529,
          -2.482430314689529,
          -2.482430314689529,
          -2.482430314689529,
          -2.482430314689529,
          -2.482430314689529,
          -2.482430314689529,
          -2.482430314689529,
          -2.482430314689529,
          -2.482430314689529,
          -2.482430314689529,
          -2.482430314689529,
          -2.482430314689529,
          -2.482430314689529,
          -2.482430314689529,
          -2.482430314689529,
          -2.482430314689529,
          -2.482430314689529,
          -2.482430314689529,
          -2.482430314689529,
          -2.482430314689529,
          -2.482430314689529,
          -2.482430314689529,
          -2.482430314689529,
          -2.482430314689529,
          -2.482430314689529,
          -2.482430314689529,
          -2.482430314689529,
          -2.482430314689529,
          -2.482430314689529,
          -2.482430314689529,
          -2.482430314689529,
          -2.218767526721276,
          -2.218767526721276,
          -2.218767526721276,
          -2.737491113321814,
          -2.737491113321814,
          -2.737491113321814,
          -2.056187541516059,
          -2.056187541516059,
          -2.056187541516059,
          -2.056187541516059,
          -1.9310171885724563,
          -2.172865079006813,
          -2.172865079006813,
          -2.172865079006813,
          -2.172865079006813,
          -2.172865079006813,
          -2.172865079006813,
          -2.172865079006813,
          -2.172865079006813,
          -2.172865079006813,
          -2.172865079006813,
          -2.172865079006813,
          -2.172865079006813,
          -2.172865079006813,
          -2.172865079006813,
          -2.172865079006813,
          -2.172865079006813,
          -2.172865079006813,
          -2.172865079006813,
          -2.172865079006813,
          -2.172865079006813,
          -2.172865079006813,
          -2.172865079006813,
          -2.172865079006813,
          -2.3765126306966806,
          -2.3765126306966806,
          -2.3765126306966806,
          -2.3765126306966806,
          -2.3765126306966806,
          -2.4171039654211643,
          -2.4171039654211643,
          -2.4171039654211643,
          -2.077206063299479,
          -2.077206063299479,
          -2.077206063299479,
          -2.452899754236399,
          -2.452899754236399,
          -2.452899754236399,
          -2.452899754236399,
          -2.452899754236399,
          -2.452899754236399,
          -2.452899754236399,
          -2.452899754236399,
          -2.452899754236399,
          -2.6311534354273154,
          -2.6311534354273154,
          -2.6311534354273154,
          -2.6311534354273154,
          -2.6311534354273154,
          -2.3242435361425082,
          -2.3899205776494536,
          -2.3899205776494536,
          -2.3899205776494536,
          -2.465829488632869,
          -2.465829488632869,
          -2.465829488632869,
          -2.465829488632869,
          -2.465829488632869,
          -2.465829488632869,
          -2.465829488632869,
          -2.465829488632869,
          -2.465829488632869,
          -2.465829488632869,
          -2.465829488632869,
          -2.324482472195924,
          -2.324482472195924,
          -2.324482472195924,
          -2.3386281384745917,
          -2.3386281384745917,
          -2.3386281384745917,
          -2.3386281384745917,
          -2.6478005336286077,
          -2.6478005336286077,
          -2.6478005336286077,
          -2.6478005336286077,
          -2.6478005336286077,
          -2.6478005336286077,
          -2.6478005336286077,
          -1.9259534730110797,
          -2.826201272993211,
          -2.826201272993211,
          -2.327723503320118,
          -1.845887335939871,
          -1.845887335939871,
          -1.845887335939871,
          -2.0931123869451547,
          -2.0931123869451547,
          -2.197254729837715,
          -2.197254729837715,
          -2.197254729837715,
          -2.197254729837715,
          -2.197254729837715,
          -1.9424623672959827,
          -2.587052692474036,
          -2.587052692474036,
          -2.587052692474036,
          -2.587052692474036,
          -2.587052692474036,
          -2.587052692474036,
          -2.422769884233001,
          -2.422769884233001,
          -2.422769884233001,
          -2.422769884233001,
          -2.472451039880158,
          -2.472451039880158,
          -2.472451039880158,
          -2.472451039880158,
          -2.5431356036641515,
          -2.5431356036641515,
          -1.794479250618589,
          -1.8884492223601206,
          -1.8884492223601206,
          -1.8884492223601206,
          -1.968730275092557,
          -1.968730275092557,
          -1.968730275092557,
          -1.8795673480690822,
          -1.8555054166870533,
          -1.8555054166870533,
          -2.8011205240813757,
          -2.8011205240813757,
          -2.8011205240813757,
          -2.8011205240813757,
          -2.7879413089207707,
          -2.7879413089207707,
          -2.7879413089207707,
          -2.645855685958739,
          -2.645855685958739,
          -1.9003735986854915,
          -1.9003735986854915,
          -1.9003735986854915,
          -1.9003735986854915,
          -1.9003735986854915,
          -2.0354645963893128,
          -2.0354645963893128,
          -2.1445217040011233,
          -2.7430386659509742,
          -2.7430386659509742,
          -2.7430386659509742,
          -2.7430386659509742,
          -2.7430386659509742,
          -2.7430386659509742,
          -2.7430386659509742,
          -2.7430386659509742,
          -2.7430386659509742,
          -2.3901348851951965,
          -2.3901348851951965,
          -2.3901348851951965,
          -2.3901348851951965,
          -2.3901348851951965,
          -2.3901348851951965,
          -2.3901348851951965,
          -2.737593291660505,
          -2.737593291660505,
          -2.737593291660505,
          -2.737593291660505,
          -2.737593291660505,
          -2.737593291660505,
          -2.737593291660505,
          -2.737593291660505,
          -2.737593291660505,
          -2.737593291660505,
          -2.737593291660505,
          -2.737593291660505,
          -2.737593291660505,
          -2.737593291660505,
          -2.737593291660505,
          -2.737593291660505,
          -2.737593291660505,
          -2.737593291660505,
          -2.737593291660505,
          -2.737593291660505,
          -2.737593291660505,
          -2.737593291660505,
          -2.737593291660505,
          -2.737593291660505,
          -2.737593291660505,
          -2.737593291660505,
          -2.518347316792908,
          -2.518347316792908,
          -2.518347316792908,
          -2.518347316792908,
          -2.518347316792908,
          -2.518347316792908,
          -2.518347316792908,
          -2.518347316792908,
          -2.518347316792908,
          -2.518347316792908,
          -2.518347316792908,
          -2.9901979182188043,
          -2.9901979182188043,
          -2.117578724586359,
          -2.117578724586359,
          -2.117578724586359,
          -2.2512957224938734,
          -2.2512957224938734,
          -2.2512957224938734,
          -2.2512957224938734,
          -2.2512957224938734,
          -2.2512957224938734,
          -2.553192361923265,
          -2.553192361923265,
          -2.553192361923265,
          -2.553192361923265,
          -2.553192361923265,
          -2.5287163333274116,
          -2.5287163333274116,
          -2.5287163333274116,
          -3.1391908691683907,
          -3.1391908691683907,
          -2.32102393478803,
          -2.643560772347069,
          -2.643560772347069,
          -2.643560772347069,
          -2.3114697432537863,
          -2.3114697432537863,
          -2.3114697432537863,
          -2.3114697432537863,
          -2.3114697432537863,
          -2.3114697432537863,
          -2.3114697432537863,
          -2.3114697432537863,
          -2.3114697432537863,
          -2.3114697432537863,
          -2.3114697432537863,
          -2.3114697432537863,
          -2.3114697432537863,
          -2.3114697432537863,
          -2.3114697432537863,
          -2.3114697432537863,
          -2.3114697432537863,
          -2.224325896145413,
          -2.224325896145413,
          -2.582166063651303,
          -2.582166063651303,
          -2.582166063651303,
          -2.582166063651303,
          -2.582166063651303,
          -2.582166063651303,
          -2.582166063651303,
          -2.582166063651303,
          -2.582166063651303,
          -2.582166063651303,
          -2.582166063651303,
          -2.582166063651303,
          -2.582166063651303,
          -2.582166063651303,
          -2.582166063651303,
          -2.582166063651303,
          -2.582166063651303,
          -2.582166063651303,
          -2.582166063651303,
          -2.582166063651303,
          -2.582166063651303,
          -2.582166063651303,
          -2.582166063651303,
          -2.582166063651303,
          -2.582166063651303,
          -2.582166063651303,
          -2.582166063651303,
          -2.321884980371713,
          -2.046597111037896,
          -2.046597111037896,
          -2.046597111037896,
          -2.046597111037896,
          -2.046597111037896,
          -2.046597111037896,
          -2.046597111037896,
          -2.046597111037896,
          -2.046597111037896,
          -2.046597111037896,
          -2.046597111037896,
          -2.046597111037896,
          -2.046597111037896,
          -2.046597111037896,
          -2.046597111037896,
          -2.046597111037896,
          -2.046597111037896,
          -2.046597111037896,
          -2.57967442248425,
          -2.57967442248425,
          -2.57967442248425,
          -2.57967442248425,
          -2.57967442248425,
          -2.57967442248425,
          -2.57967442248425,
          -2.57967442248425,
          -2.2365014833366055,
          -2.2365014833366055,
          -2.2365014833366055,
          -2.220984329652815,
          -2.220984329652815,
          -2.220984329652815,
          -2.220984329652815,
          -2.220984329652815,
          -2.220984329652815,
          -2.220984329652815,
          -2.220984329652815,
          -2.220984329652815,
          -2.220984329652815,
          -2.220984329652815,
          -2.220984329652815,
          -2.220984329652815,
          -2.220984329652815,
          -2.220984329652815,
          -2.220984329652815,
          -2.220984329652815,
          -2.220984329652815,
          -2.220984329652815,
          -2.220984329652815,
          -2.220984329652815,
          -2.220984329652815,
          -2.220984329652815,
          -2.220984329652815,
          -2.220984329652815,
          -2.052679583645021,
          -2.052679583645021,
          -2.052679583645021,
          -2.052679583645021,
          -2.052679583645021,
          -2.052679583645021,
          -2.8342331014821074,
          -2.8342331014821074,
          -2.017296114752327,
          -2.017296114752327,
          -2.017296114752327,
          -2.949019218065099,
          -2.949019218065099,
          -2.949019218065099,
          -2.949019218065099,
          -2.949019218065099,
          -3.1154344826672737,
          -3.1154344826672737,
          -3.1154344826672737,
          -1.6995632714532671,
          -1.6995632714532671,
          -1.6995632714532671,
          -1.6995632714532671,
          -1.8078883668057169,
          -2.4438948212866447,
          -2.679230633174963,
          -2.679230633174963,
          -2.679230633174963,
          -2.679230633174963,
          -2.679230633174963,
          -2.679230633174963,
          -2.679230633174963,
          -2.679230633174963,
          -2.679230633174963,
          -2.679230633174963,
          -2.4389398176104726,
          -2.4389398176104726,
          -2.0306452918310485,
          -2.0306452918310485,
          -2.0306452918310485,
          -2.0306452918310485,
          -2.0306452918310485,
          -2.0306452918310485,
          -2.392706606641097,
          -2.392706606641097,
          -2.392706606641097,
          -2.392706606641097,
          -2.392706606641097,
          -2.392706606641097,
          -2.4724038116439253,
          -2.4724038116439253,
          -2.639951390079885,
          -2.639951390079885,
          -2.639951390079885,
          -2.639951390079885,
          -2.639951390079885,
          -2.639951390079885,
          -2.639951390079885,
          -2.639951390079885,
          -2.639951390079885,
          -2.639951390079885,
          -2.639951390079885,
          -2.230234079484281,
          -2.1473071360425515,
          -2.1473071360425515,
          -2.1473071360425515,
          -2.1473071360425515,
          -2.1473071360425515,
          -2.1473071360425515,
          -2.1473071360425515,
          -2.1473071360425515,
          -2.1473071360425515,
          -2.1473071360425515,
          -2.041886095440298,
          -2.041886095440298,
          -2.6387935979955883,
          -2.6387935979955883,
          -2.6387935979955883,
          -2.6387935979955883,
          -2.6387935979955883,
          -2.6387935979955883,
          -2.6387935979955883,
          -2.6387935979955883,
          -2.6387935979955883,
          -2.6387935979955883,
          -2.6387935979955883,
          -2.6387935979955883,
          -2.5492449384166256,
          -2.5492449384166256,
          -2.5492449384166256,
          -2.5492449384166256,
          -2.5492449384166256,
          -2.5492449384166256,
          -2.5492449384166256,
          -2.5492449384166256,
          -2.5492449384166256,
          -2.5081726593785008,
          -2.5081726593785008,
          -2.5081726593785008,
          -2.5081726593785008,
          -2.5081726593785008,
          -2.3127549197450046,
          -2.3127549197450046,
          -2.7734066494300937,
          -2.7734066494300937,
          -2.7734066494300937,
          -2.7734066494300937,
          -2.0687773345833484,
          -2.0687773345833484,
          -2.0687773345833484,
          -2.0687773345833484,
          -2.0687773345833484,
          -2.0687773345833484,
          -1.9823654895778025,
          -1.9823654895778025,
          -1.9823654895778025,
          -1.9823654895778025,
          -1.9823654895778025,
          -1.9823654895778025,
          -1.8738420261002433,
          -1.8738420261002433,
          -1.8738420261002433,
          -1.8738420261002433,
          -1.8738420261002433,
          -1.8738420261002433,
          -2.4993024172520344,
          -2.4993024172520344,
          -2.4993024172520344,
          -2.4993024172520344,
          -2.4993024172520344,
          -2.4993024172520344,
          -2.261674576212442,
          -2.261674576212442,
          -2.261674576212442,
          -2.261674576212442,
          -2.402841108600126,
          -2.402841108600126,
          -2.402841108600126,
          -2.402841108600126,
          -2.402841108600126,
          -2.402841108600126,
          -2.402841108600126,
          -2.402841108600126,
          -2.402841108600126,
          -2.690334672386957,
          -2.690334672386957,
          -2.690334672386957,
          -2.690334672386957,
          -2.225734893782085,
          -2.225734893782085,
          -2.13724728607156,
          -2.13724728607156,
          -2.13724728607156,
          -2.13724728607156,
          -2.13724728607156,
          -2.13724728607156,
          -2.13724728607156,
          -2.13724728607156,
          -2.13724728607156,
          -2.13724728607156,
          -2.13724728607156,
          -2.13724728607156,
          -2.13724728607156,
          -2.13724728607156,
          -2.13724728607156,
          -2.13724728607156,
          -2.13724728607156,
          -2.13724728607156,
          -2.13724728607156,
          -2.13724728607156,
          -2.13724728607156,
          -2.13724728607156,
          -2.2690846083875065,
          -2.2690846083875065,
          -2.2690846083875065,
          -2.2690846083875065,
          -2.2690846083875065,
          -2.2690846083875065,
          -2.2690846083875065
         ]
        }
       ],
       "layout": {
        "template": {
         "data": {
          "bar": [
           {
            "error_x": {
             "color": "#2a3f5f"
            },
            "error_y": {
             "color": "#2a3f5f"
            },
            "marker": {
             "line": {
              "color": "#E5ECF6",
              "width": 0.5
             }
            },
            "type": "bar"
           }
          ],
          "barpolar": [
           {
            "marker": {
             "line": {
              "color": "#E5ECF6",
              "width": 0.5
             }
            },
            "type": "barpolar"
           }
          ],
          "carpet": [
           {
            "aaxis": {
             "endlinecolor": "#2a3f5f",
             "gridcolor": "white",
             "linecolor": "white",
             "minorgridcolor": "white",
             "startlinecolor": "#2a3f5f"
            },
            "baxis": {
             "endlinecolor": "#2a3f5f",
             "gridcolor": "white",
             "linecolor": "white",
             "minorgridcolor": "white",
             "startlinecolor": "#2a3f5f"
            },
            "type": "carpet"
           }
          ],
          "choropleth": [
           {
            "colorbar": {
             "outlinewidth": 0,
             "ticks": ""
            },
            "type": "choropleth"
           }
          ],
          "contour": [
           {
            "colorbar": {
             "outlinewidth": 0,
             "ticks": ""
            },
            "colorscale": [
             [
              0,
              "#0d0887"
             ],
             [
              0.1111111111111111,
              "#46039f"
             ],
             [
              0.2222222222222222,
              "#7201a8"
             ],
             [
              0.3333333333333333,
              "#9c179e"
             ],
             [
              0.4444444444444444,
              "#bd3786"
             ],
             [
              0.5555555555555556,
              "#d8576b"
             ],
             [
              0.6666666666666666,
              "#ed7953"
             ],
             [
              0.7777777777777778,
              "#fb9f3a"
             ],
             [
              0.8888888888888888,
              "#fdca26"
             ],
             [
              1,
              "#f0f921"
             ]
            ],
            "type": "contour"
           }
          ],
          "contourcarpet": [
           {
            "colorbar": {
             "outlinewidth": 0,
             "ticks": ""
            },
            "type": "contourcarpet"
           }
          ],
          "heatmap": [
           {
            "colorbar": {
             "outlinewidth": 0,
             "ticks": ""
            },
            "colorscale": [
             [
              0,
              "#0d0887"
             ],
             [
              0.1111111111111111,
              "#46039f"
             ],
             [
              0.2222222222222222,
              "#7201a8"
             ],
             [
              0.3333333333333333,
              "#9c179e"
             ],
             [
              0.4444444444444444,
              "#bd3786"
             ],
             [
              0.5555555555555556,
              "#d8576b"
             ],
             [
              0.6666666666666666,
              "#ed7953"
             ],
             [
              0.7777777777777778,
              "#fb9f3a"
             ],
             [
              0.8888888888888888,
              "#fdca26"
             ],
             [
              1,
              "#f0f921"
             ]
            ],
            "type": "heatmap"
           }
          ],
          "heatmapgl": [
           {
            "colorbar": {
             "outlinewidth": 0,
             "ticks": ""
            },
            "colorscale": [
             [
              0,
              "#0d0887"
             ],
             [
              0.1111111111111111,
              "#46039f"
             ],
             [
              0.2222222222222222,
              "#7201a8"
             ],
             [
              0.3333333333333333,
              "#9c179e"
             ],
             [
              0.4444444444444444,
              "#bd3786"
             ],
             [
              0.5555555555555556,
              "#d8576b"
             ],
             [
              0.6666666666666666,
              "#ed7953"
             ],
             [
              0.7777777777777778,
              "#fb9f3a"
             ],
             [
              0.8888888888888888,
              "#fdca26"
             ],
             [
              1,
              "#f0f921"
             ]
            ],
            "type": "heatmapgl"
           }
          ],
          "histogram": [
           {
            "marker": {
             "colorbar": {
              "outlinewidth": 0,
              "ticks": ""
             }
            },
            "type": "histogram"
           }
          ],
          "histogram2d": [
           {
            "colorbar": {
             "outlinewidth": 0,
             "ticks": ""
            },
            "colorscale": [
             [
              0,
              "#0d0887"
             ],
             [
              0.1111111111111111,
              "#46039f"
             ],
             [
              0.2222222222222222,
              "#7201a8"
             ],
             [
              0.3333333333333333,
              "#9c179e"
             ],
             [
              0.4444444444444444,
              "#bd3786"
             ],
             [
              0.5555555555555556,
              "#d8576b"
             ],
             [
              0.6666666666666666,
              "#ed7953"
             ],
             [
              0.7777777777777778,
              "#fb9f3a"
             ],
             [
              0.8888888888888888,
              "#fdca26"
             ],
             [
              1,
              "#f0f921"
             ]
            ],
            "type": "histogram2d"
           }
          ],
          "histogram2dcontour": [
           {
            "colorbar": {
             "outlinewidth": 0,
             "ticks": ""
            },
            "colorscale": [
             [
              0,
              "#0d0887"
             ],
             [
              0.1111111111111111,
              "#46039f"
             ],
             [
              0.2222222222222222,
              "#7201a8"
             ],
             [
              0.3333333333333333,
              "#9c179e"
             ],
             [
              0.4444444444444444,
              "#bd3786"
             ],
             [
              0.5555555555555556,
              "#d8576b"
             ],
             [
              0.6666666666666666,
              "#ed7953"
             ],
             [
              0.7777777777777778,
              "#fb9f3a"
             ],
             [
              0.8888888888888888,
              "#fdca26"
             ],
             [
              1,
              "#f0f921"
             ]
            ],
            "type": "histogram2dcontour"
           }
          ],
          "mesh3d": [
           {
            "colorbar": {
             "outlinewidth": 0,
             "ticks": ""
            },
            "type": "mesh3d"
           }
          ],
          "parcoords": [
           {
            "line": {
             "colorbar": {
              "outlinewidth": 0,
              "ticks": ""
             }
            },
            "type": "parcoords"
           }
          ],
          "pie": [
           {
            "automargin": true,
            "type": "pie"
           }
          ],
          "scatter": [
           {
            "marker": {
             "colorbar": {
              "outlinewidth": 0,
              "ticks": ""
             }
            },
            "type": "scatter"
           }
          ],
          "scatter3d": [
           {
            "line": {
             "colorbar": {
              "outlinewidth": 0,
              "ticks": ""
             }
            },
            "marker": {
             "colorbar": {
              "outlinewidth": 0,
              "ticks": ""
             }
            },
            "type": "scatter3d"
           }
          ],
          "scattercarpet": [
           {
            "marker": {
             "colorbar": {
              "outlinewidth": 0,
              "ticks": ""
             }
            },
            "type": "scattercarpet"
           }
          ],
          "scattergeo": [
           {
            "marker": {
             "colorbar": {
              "outlinewidth": 0,
              "ticks": ""
             }
            },
            "type": "scattergeo"
           }
          ],
          "scattergl": [
           {
            "marker": {
             "colorbar": {
              "outlinewidth": 0,
              "ticks": ""
             }
            },
            "type": "scattergl"
           }
          ],
          "scattermapbox": [
           {
            "marker": {
             "colorbar": {
              "outlinewidth": 0,
              "ticks": ""
             }
            },
            "type": "scattermapbox"
           }
          ],
          "scatterpolar": [
           {
            "marker": {
             "colorbar": {
              "outlinewidth": 0,
              "ticks": ""
             }
            },
            "type": "scatterpolar"
           }
          ],
          "scatterpolargl": [
           {
            "marker": {
             "colorbar": {
              "outlinewidth": 0,
              "ticks": ""
             }
            },
            "type": "scatterpolargl"
           }
          ],
          "scatterternary": [
           {
            "marker": {
             "colorbar": {
              "outlinewidth": 0,
              "ticks": ""
             }
            },
            "type": "scatterternary"
           }
          ],
          "surface": [
           {
            "colorbar": {
             "outlinewidth": 0,
             "ticks": ""
            },
            "colorscale": [
             [
              0,
              "#0d0887"
             ],
             [
              0.1111111111111111,
              "#46039f"
             ],
             [
              0.2222222222222222,
              "#7201a8"
             ],
             [
              0.3333333333333333,
              "#9c179e"
             ],
             [
              0.4444444444444444,
              "#bd3786"
             ],
             [
              0.5555555555555556,
              "#d8576b"
             ],
             [
              0.6666666666666666,
              "#ed7953"
             ],
             [
              0.7777777777777778,
              "#fb9f3a"
             ],
             [
              0.8888888888888888,
              "#fdca26"
             ],
             [
              1,
              "#f0f921"
             ]
            ],
            "type": "surface"
           }
          ],
          "table": [
           {
            "cells": {
             "fill": {
              "color": "#EBF0F8"
             },
             "line": {
              "color": "white"
             }
            },
            "header": {
             "fill": {
              "color": "#C8D4E3"
             },
             "line": {
              "color": "white"
             }
            },
            "type": "table"
           }
          ]
         },
         "layout": {
          "annotationdefaults": {
           "arrowcolor": "#2a3f5f",
           "arrowhead": 0,
           "arrowwidth": 1
          },
          "coloraxis": {
           "colorbar": {
            "outlinewidth": 0,
            "ticks": ""
           }
          },
          "colorscale": {
           "diverging": [
            [
             0,
             "#8e0152"
            ],
            [
             0.1,
             "#c51b7d"
            ],
            [
             0.2,
             "#de77ae"
            ],
            [
             0.3,
             "#f1b6da"
            ],
            [
             0.4,
             "#fde0ef"
            ],
            [
             0.5,
             "#f7f7f7"
            ],
            [
             0.6,
             "#e6f5d0"
            ],
            [
             0.7,
             "#b8e186"
            ],
            [
             0.8,
             "#7fbc41"
            ],
            [
             0.9,
             "#4d9221"
            ],
            [
             1,
             "#276419"
            ]
           ],
           "sequential": [
            [
             0,
             "#0d0887"
            ],
            [
             0.1111111111111111,
             "#46039f"
            ],
            [
             0.2222222222222222,
             "#7201a8"
            ],
            [
             0.3333333333333333,
             "#9c179e"
            ],
            [
             0.4444444444444444,
             "#bd3786"
            ],
            [
             0.5555555555555556,
             "#d8576b"
            ],
            [
             0.6666666666666666,
             "#ed7953"
            ],
            [
             0.7777777777777778,
             "#fb9f3a"
            ],
            [
             0.8888888888888888,
             "#fdca26"
            ],
            [
             1,
             "#f0f921"
            ]
           ],
           "sequentialminus": [
            [
             0,
             "#0d0887"
            ],
            [
             0.1111111111111111,
             "#46039f"
            ],
            [
             0.2222222222222222,
             "#7201a8"
            ],
            [
             0.3333333333333333,
             "#9c179e"
            ],
            [
             0.4444444444444444,
             "#bd3786"
            ],
            [
             0.5555555555555556,
             "#d8576b"
            ],
            [
             0.6666666666666666,
             "#ed7953"
            ],
            [
             0.7777777777777778,
             "#fb9f3a"
            ],
            [
             0.8888888888888888,
             "#fdca26"
            ],
            [
             1,
             "#f0f921"
            ]
           ]
          },
          "colorway": [
           "#636efa",
           "#EF553B",
           "#00cc96",
           "#ab63fa",
           "#FFA15A",
           "#19d3f3",
           "#FF6692",
           "#B6E880",
           "#FF97FF",
           "#FECB52"
          ],
          "font": {
           "color": "#2a3f5f"
          },
          "geo": {
           "bgcolor": "white",
           "lakecolor": "white",
           "landcolor": "#E5ECF6",
           "showlakes": true,
           "showland": true,
           "subunitcolor": "white"
          },
          "hoverlabel": {
           "align": "left"
          },
          "hovermode": "closest",
          "mapbox": {
           "style": "light"
          },
          "paper_bgcolor": "white",
          "plot_bgcolor": "#E5ECF6",
          "polar": {
           "angularaxis": {
            "gridcolor": "white",
            "linecolor": "white",
            "ticks": ""
           },
           "bgcolor": "#E5ECF6",
           "radialaxis": {
            "gridcolor": "white",
            "linecolor": "white",
            "ticks": ""
           }
          },
          "scene": {
           "xaxis": {
            "backgroundcolor": "#E5ECF6",
            "gridcolor": "white",
            "gridwidth": 2,
            "linecolor": "white",
            "showbackground": true,
            "ticks": "",
            "zerolinecolor": "white"
           },
           "yaxis": {
            "backgroundcolor": "#E5ECF6",
            "gridcolor": "white",
            "gridwidth": 2,
            "linecolor": "white",
            "showbackground": true,
            "ticks": "",
            "zerolinecolor": "white"
           },
           "zaxis": {
            "backgroundcolor": "#E5ECF6",
            "gridcolor": "white",
            "gridwidth": 2,
            "linecolor": "white",
            "showbackground": true,
            "ticks": "",
            "zerolinecolor": "white"
           }
          },
          "shapedefaults": {
           "line": {
            "color": "#2a3f5f"
           }
          },
          "ternary": {
           "aaxis": {
            "gridcolor": "white",
            "linecolor": "white",
            "ticks": ""
           },
           "baxis": {
            "gridcolor": "white",
            "linecolor": "white",
            "ticks": ""
           },
           "bgcolor": "#E5ECF6",
           "caxis": {
            "gridcolor": "white",
            "linecolor": "white",
            "ticks": ""
           }
          },
          "title": {
           "x": 0.05
          },
          "xaxis": {
           "automargin": true,
           "gridcolor": "white",
           "linecolor": "white",
           "ticks": "",
           "title": {
            "standoff": 15
           },
           "zerolinecolor": "white",
           "zerolinewidth": 2
          },
          "yaxis": {
           "automargin": true,
           "gridcolor": "white",
           "linecolor": "white",
           "ticks": "",
           "title": {
            "standoff": 15
           },
           "zerolinecolor": "white",
           "zerolinewidth": 2
          }
         }
        }
       }
      },
      "text/html": [
       "<div>\n",
       "        \n",
       "        \n",
       "            <div id=\"1dd0637b-8311-48ce-a7d6-1567bb67a704\" class=\"plotly-graph-div\" style=\"height:525px; width:100%;\"></div>\n",
       "            <script type=\"text/javascript\">\n",
       "                require([\"plotly\"], function(Plotly) {\n",
       "                    window.PLOTLYENV=window.PLOTLYENV || {};\n",
       "                    \n",
       "                if (document.getElementById(\"1dd0637b-8311-48ce-a7d6-1567bb67a704\")) {\n",
       "                    Plotly.newPlot(\n",
       "                        '1dd0637b-8311-48ce-a7d6-1567bb67a704',\n",
       "                        [{\"type\": \"contour\", \"x\": [-4.605170185988091, -4.362792807778192, -4.120415429568292, -3.8780380513583923, -3.635660673148493, -3.393283294938594, -3.150905916728694, -2.9085285385187944, -2.666151160308895, -2.423773782098996, -2.181396403889096, -1.9390190256791964, -1.696641647469297, -1.4542642692593977, -1.211886891049498, -0.9695095128395982, -0.7271321346296988, -0.4847547564197996, -0.24237737820989982, 0.0], \"y\": [-4.605170185988091, -4.362792807778192, -4.120415429568292, -3.8780380513583923, -3.635660673148493, -3.393283294938594, -3.150905916728694, -2.9085285385187944, -2.666151160308895, -2.423773782098996, -2.181396403889096, -1.9390190256791964, -1.696641647469297, -1.4542642692593977, -1.211886891049498, -0.9695095128395982, -0.7271321346296988, -0.4847547564197996, -0.24237737820989982, 0.0], \"z\": [[7.660791805975706, 7.608061534650552, 7.552395429116452, 7.493447246390694, 7.430805643329913, 7.363976762234159, 7.29236057480007, 7.215218091879497, 7.1316248512737905, 7.040403161029855, 6.940020278864557, 6.828429670588274, 6.702812334518729, 6.559131771066813, 6.3913142403097005, 6.189598672900879, 5.936789642618581, 5.5981288136094065, 5.085256776563631, 4.087169022659653], [6.581251975542694, 6.573681225693278, 6.564082833044416, 6.551928175756454, 6.536557923716055, 6.517152403081063, 6.49269535693022, 6.461928385908096, 6.423290782055713, 6.3748343303653545, 6.314092581156349, 6.237864166210793, 6.141828403022946, 6.019818091910435, 5.86233699988836, 5.653207282747147, 5.360699224019518, 4.907369641143298, 4.034849053138035, 3.798260337792752], [6.1519389913512725, 6.14527885422213, 6.136794413104137, 6.125985877246386, 6.112215759873552, 6.094669721043442, 6.07230476988617, 6.043779115638075, 6.007353888575834, 5.960748973757358, 5.9009188745496575, 5.823679372687267, 5.723034735512145, 5.589849944516138, 5.4089192631599445, 5.151424184904537, 4.750512423265429, 3.9982077902818984, 3.3575818136446283, 4.337769328856715], [5.826488223224086, 5.819580361746437, 5.810760505992696, 5.799492544684719, 5.785085068705548, 5.766642574625795, 5.742998237402043, 5.712618682031039, 5.673464056825637, 5.622772519474333, 5.556708216060982, 5.469743483852969, 5.3534753872433205, 5.194095292504804, 4.966124061872914, 4.61325913588785, 3.9733641684757828, 3.0708155848732743, 3.7736677392603792, 4.52944549414831], [5.553185984892373, 5.545598679318655, 5.535894417169568, 5.5234688821466955, 5.507535829181608, 5.487065500421727, 5.460696991269627, 5.4266093933305735, 5.382324262518153, 5.324386551770621, 5.247814579531306, 5.145071798952178, 5.003936280903736, 4.802441736888661, 4.494344259882775, 3.956927973122252, 3.034983152553701, 3.132519357293396, 3.981829714773389, 4.501732995347544], [5.314623768612754, 5.306090047127325, 5.295157359206046, 5.2811292798707115, 5.263092097863726, 5.23983617167173, 5.209740609230876, 5.170597607189544, 5.1193318296365105, 5.051524684417122, 4.960545607628484, 4.8358083408049914, 4.658808074529978, 4.392455095051232, 3.9462372639479946, 3.155139397730692, 2.524911833086681, 3.3276045003974146, 3.9708772138579262, 4.340393572323921], [5.10313524164798, 5.093454894047503, 5.081032531110999, 5.065058543906113, 5.044461590868898, 5.017807584346391, 4.983147149970399, 4.9377750064446415, 4.877829246260153, 4.797577165703674, 4.688028252088039, 4.533922704472047, 4.306151670022143, 3.9393560054493353, 3.3082104553389313, 2.3701133897667717, 2.5251997589743302, 3.3399665162902434, 3.8194246897248934, 4.094921724893771], [4.914890034079276, 4.903907460021733, 4.889789586912764, 4.871594433465099, 4.84806435998936, 4.817496371849822, 4.777540472045561, 4.72487027434966, 4.65461085848317, 4.559265128472491, 4.426490016055082, 4.233868502517165, 3.93494971591831, 3.442015123749331, 2.6660796508073545, 1.80210713188761, 2.5140635654716377, 3.2122209009506917, 3.5753649053713863, 3.7981193768559183], [4.7477683409538205, 4.735370552340708, 4.719404925064119, 4.698780291273708, 4.672026413362918, 4.637128499130714, 4.5912624361823315, 4.530347138040059, 4.448233829336522, 4.335105645244778, 4.1739640784936105, 3.9321312711355954, 3.549117682645522, 2.9936655268078676, 2.0180964914515327, 1.5050862651381913, 2.38305420359734, 2.9876778132019157, 3.2701844344168065, 3.4739333255837517], [4.600396820527032, 4.586516871760472, 4.568610079768228, 4.545422737653402, 4.51524988417692, 4.475726652488866, 4.423485194759385, 4.353555455830671, 4.258238025507556, 4.124790304700929, 3.9303245833580087, 3.63377336244259, 3.2220572646444023, 2.6083283360322427, 1.448354250232492, 1.3227751054770964, 2.1726141962516508, 2.7057031245698835, 2.9322896002629926, 3.1432478819670826], [4.47165063766141, 4.45627060948806, 4.436392900240546, 4.41059264727818, 4.376914497462869, 4.332614120990056, 4.27372279078872, 4.194266332376058, 4.084761132859462, 3.929160894314182, 3.6998254510388726, 3.3758496374539466, 3.005208672217937, 2.312471739909253, 1.1349667847341482, 1.224754448114168, 1.9576962138632872, 2.418336886317684, 2.600483763104794, 2.83457227331542], [4.36039150040266, 4.343542278332461, 4.321728335096709, 4.293350945492547, 4.256197582086262, 4.207129274649846, 4.141544709101115, 4.0524073669049665, 3.928406078457162, 3.750881441753375, 3.4973407410294195, 3.2154586018101714, 2.879433032289705, 2.166000945857308, 1.2081406922732179, 1.301800907540361, 1.8459477665541975, 2.2052969440836048, 2.3401072287777196, 2.5961879344981313], [4.265349169219886, 4.247106045349679, 4.223450285955168, 4.19261331105656, 4.152129654090251, 4.0984704299815045, 4.026412089741795, 3.927912058658605, 3.790235162447421, 3.595347475668893, 3.3488723522246064, 3.15179702727334, 2.8368719091897163, 2.191316240554055, 1.5442181300468856, 1.5765439566450494, 1.9198584802238863, 2.1525139350224354, 2.2342655717346824, 2.4878134422449634], [4.185096791494725, 4.165571114844465, 4.14021752433885, 4.107108396791256, 4.063541592644702, 4.005626910027735, 3.927585249751336, 3.8205950078651014, 3.6716056732949442, 3.4699561071786587, 3.270859422482016, 3.1503659885891677, 2.864994771509252, 2.3419563706732798, 1.9433997868569584, 1.9452646483208136, 2.1493496328398054, 2.2758524737616854, 2.314404152525749, 2.534194561459125], [4.118084438733894, 4.0974123804983105, 4.07053998997041, 4.035397272418413, 3.989072656348006, 3.9273664093872225, 3.8440687790542736, 3.7299902010909785, 3.573603322537418, 3.3803593789783317, 3.2528516932249816, 3.1854409075809347, 2.941201971446932, 2.5467065941610896, 2.3097241184469217, 2.3088118627528096, 2.4391588169892238, 2.5042153548292743, 2.5199340942584856, 2.695031625194284], [4.062702591439275, 4.041032745228156, 4.01283893410074, 3.9759293696396245, 3.927217901143436, 3.86226362315347, 3.774593090735073, 3.655187766837972, 3.496262763270906, 3.326317842174562, 3.271347088870939, 3.2398698925410385, 3.041322330120072, 2.7553719613591414, 2.6185007593241236, 2.6256154269399996, 2.721120132350357, 2.7581307059079476, 2.766264700419578, 2.9041460006085416], [4.017353883120188, 3.99483569814873, 3.9655201564706313, 3.9271156876840823, 3.876399282771324, 3.808763208820787, 3.7176502112983574, 3.594772642420711, 3.4381166726908297, 3.301443128485862, 3.3069764267571147, 3.301775892219845, 3.1468281543016934, 2.9441709993264165, 2.870333858145603, 2.887898730120511, 2.9676708061097186, 2.994005939325758, 3.0018820640766752, 3.1140324411019877], [3.9805177804663434, 3.9572924571066737, 3.927044310266754, 3.8874031381985383, 3.835045075995589, 3.7652652624745686, 3.671585413285661, 3.5469214660684845, 3.396397535966437, 3.2966356182449164, 3.3480564783807214, 3.3634424688550357, 3.246523598544153, 3.1054015849416876, 3.0727121442337837, 3.1001395289532536, 3.1731294194604875, 3.196595530885982, 3.206911238554196, 3.3023610281487477], [3.950799135493363, 3.9269937421887424, 3.895983126687907, 3.8553371387279634, 3.801662114460943, 3.730213669811564, 3.634717673636748, 3.5096122831389196, 3.367699013553201, 3.3035574870652864, 3.3884170298747227, 3.4204443322929245, 3.335024492666699, 3.2389058866440035, 3.2341095441756202, 3.2699589060564835, 3.3403342553610806, 3.3641622355457943, 3.3775777870319716, 3.4622925772432027], [3.926957414414374, 3.9026820855283195, 3.8710561026590886, 3.8296048094033535, 3.7748893732642954, 3.7021682488852683, 3.6054516301549513, 3.480850083397473, 3.348667200933773, 3.316147637646905, 3.4251326221379084, 3.4707009323124502, 3.410623462299078, 3.3475053356799482, 3.3622465878437264, 3.404994540472447, 3.474681664641632, 3.5000574866679717, 3.5164484102388065, 3.5941794562764153]]}, {\"mode\": \"markers\", \"opacity\": 0.7, \"type\": \"scatter\", \"x\": [-0.6931471805599453, -0.5457828424088492, -0.5457828424088492, -0.5457828424088492, -0.5457828424088492, -0.5457828424088492, -0.5457828424088492, -0.5457828424088492, -0.5457828424088492, -0.5457828424088492, -0.5457828424088492, -0.5457828424088492, -0.5457828424088492, -0.5457828424088492, -0.5373451767794853, -0.5373451767794853, -0.5373451767794853, -0.5373451767794853, -0.582644646848457, -0.6673541408664739, -0.6673541408664739, -0.7085312471860687, -0.9021338297126942, -0.9021338297126942, -0.9021338297126942, -1.0039724046158858, -1.0039724046158858, -1.0039724046158858, -1.0039724046158858, -1.0039724046158858, -1.084328126391262, -1.084328126391262, -0.9114895482826323, -0.9114895482826323, -0.9114895482826323, -0.9114895482826323, -0.9114895482826323, -0.9114895482826323, -0.9114895482826323, -0.9114895482826323, -0.9114895482826323, -1.0112841103410903, -1.0112841103410903, -1.0112841103410903, -1.0112841103410903, -1.0112841103410903, -1.0112841103410903, -1.0112841103410903, -1.0112841103410903, -1.0112841103410903, -0.7885415899528929, -0.7885415899528929, -0.7885415899528929, -0.7885415899528929, -0.7885415899528929, -0.7885415899528929, -0.7885415899528929, -1.1601956967982605, -1.1601956967982605, -1.1601956967982605, -1.1601956967982605, -1.0669822980416075, -1.0669822980416075, -1.0669822980416075, -0.9567656861258356, -1.0040061066918544, -1.0040061066918544, -1.0040061066918544, -1.0040061066918544, -1.0040061066918544, -1.0040061066918544, -1.0040061066918544, -0.9612270307158646, -1.2321090946021325, -1.2321090946021325, -1.2321090946021325, -1.2321090946021325, -1.2321090946021325, -1.2321090946021325, -1.2321090946021325, -1.2321090946021325, -1.2321090946021325, -1.2321090946021325, -1.2321090946021325, -1.2321090946021325, -1.2321090946021325, -1.2321090946021325, -1.2321090946021325, -1.2321090946021325, -1.2321090946021325, -1.2321090946021325, -1.2321090946021325, -1.2321090946021325, -1.2321090946021325, -1.2321090946021325, -1.2321090946021325, -1.2321090946021325, -1.2321090946021325, -1.2321090946021325, -1.2321090946021325, -1.2321090946021325, -1.2321090946021325, -1.2321090946021325, -1.2321090946021325, -1.2321090946021325, -1.2321090946021325, -1.2321090946021325, -1.2321090946021325, -1.2321090946021325, -1.2321090946021325, -1.2321090946021325, -1.2321090946021325, -1.2321090946021325, -1.2321090946021325, -1.2321090946021325, -1.2321090946021325, -1.2321090946021325, -1.2321090946021325, -1.2321090946021325, -1.2321090946021325, -1.2321090946021325, -1.2321090946021325, -1.2321090946021325, -1.2321090946021325, -1.2321090946021325, -1.2321090946021325, -1.2321090946021325, -1.2321090946021325, -1.2321090946021325, -1.2321090946021325, -1.2321090946021325, -1.2321090946021325, -1.2321090946021325, -1.2321090946021325, -1.2321090946021325, -1.2321090946021325, -1.2321090946021325, -1.2321090946021325, -1.2321090946021325, -1.2321090946021325, -1.2321090946021325, -1.2321090946021325, -1.2321090946021325, -1.2321090946021325, -1.2321090946021325, -1.2321090946021325, -1.2321090946021325, -1.2321090946021325, -1.2321090946021325, -1.2321090946021325, -1.2321090946021325, -1.2321090946021325, -1.2321090946021325, -1.2321090946021325, -1.2321090946021325, -1.2321090946021325, -1.2321090946021325, -1.2321090946021325, -1.2321090946021325, -1.2321090946021325, -1.1246259938966259, -0.8936177099493828, -0.8936177099493828, -0.8936177099493828, -0.8936177099493828, -0.967744734378751, -0.967744734378751, -0.967744734378751, -0.967744734378751, -0.967744734378751, -0.967744734378751, -1.2495590753811003, -1.2495590753811003, -1.1400588960699027, -1.1400588960699027, -1.1400588960699027, -1.1400588960699027, -1.0188013859877103, -1.0188013859877103, -1.0188013859877103, -1.0188013859877103, -1.0188013859877103, -1.0188013859877103, -1.0188013859877103, -1.0188013859877103, -1.0188013859877103, -1.0188013859877103, -1.0188013859877103, -1.0188013859877103, -1.0188013859877103, -1.0188013859877103, -1.0188013859877103, -1.0188013859877103, -1.0188013859877103, -1.0188013859877103, -1.0188013859877103, -1.0188013859877103, -1.0188013859877103, -1.0188013859877103, -0.9775879347903329, -0.9775879347903329, -0.9775879347903329, -0.9775879347903329, -0.9775879347903329, -0.9775879347903329, -0.9775879347903329, -0.9775879347903329, -0.9775879347903329, -0.9775879347903329, -1.3232658279350664, -1.3232658279350664, -1.3232658279350664, -1.3232658279350664, -1.3232658279350664, -1.3232658279350664, -1.3232658279350664, -1.3232658279350664, -1.3232658279350664, -1.3232658279350664, -1.3232658279350664, -1.3232658279350664, -1.1001437534711516, -1.1001437534711516, -1.1001437534711516, -1.1001437534711516, -1.1001437534711516, -1.1001437534711516, -0.987187911584802, -0.987187911584802, -0.987187911584802, -0.987187911584802, -0.987187911584802, -0.987187911584802, -0.987187911584802, -0.987187911584802, -0.987187911584802, -1.1636926074215155, -1.1636926074215155, -1.1636926074215155, -0.927557684755887, -0.9178316876935744, -0.9178316876935744, -0.9178316876935744, -0.9020596252041967, -0.9020596252041967, -0.9020596252041967, -0.9020596252041967, -0.9020596252041967, -1.143273148311893, -1.143273148311893, -1.010473199843265, -1.010473199843265, -1.010473199843265, -0.9810653012738868, -0.9810653012738868, -0.9810653012738868, -0.9810653012738868, -0.9810653012738868, -0.9810653012738868, -0.9810653012738868, -0.9810653012738868, -0.9810653012738868, -0.9810653012738868, -0.9810653012738868, -1.0138589964441131, -1.0138589964441131, -1.0138589964441131, -1.0138589964441131, -1.0138589964441131, -1.0138589964441131, -1.0489961047214533, -0.9904176642693556, -0.9904176642693556, -0.9904176642693556, -0.9904176642693556, -0.9904176642693556, -0.9904176642693556, -1.1301014481877472, -1.1301014481877472, -1.1301014481877472, -1.1301014481877472, -1.1301014481877472, -1.1301014481877472, -1.1301014481877472, -1.1301014481877472, -1.1301014481877472, -1.1301014481877472, -1.1301014481877472, -1.1301014481877472, -1.1301014481877472, -1.1301014481877472, -1.1301014481877472, -1.1301014481877472, -1.1301014481877472, -1.1301014481877472, -0.9477239588310455, -0.9477239588310455, -0.9477239588310455, -0.9477239588310455, -0.9477239588310455, -1.0378801518622935, -1.0378801518622935, -1.0378801518622935, -1.0378801518622935, -1.0378801518622935, -1.1477149969628078, -1.1477149969628078, -1.1477149969628078, -1.1477149969628078, -1.1477149969628078, -1.1477149969628078, -1.1477149969628078, -1.1477149969628078, -1.1477149969628078, -1.0936360406087189, -1.0936360406087189, -1.0936360406087189, -0.9488021931465968, -1.113498561348927, -1.113498561348927, -1.113498561348927, -1.113498561348927, -1.113498561348927, -1.113498561348927, -1.113498561348927, -1.113498561348927, -1.113498561348927, -1.113498561348927, -1.113498561348927, -1.113498561348927, -1.113498561348927, -1.113498561348927, -1.113498561348927, -1.113498561348927, -1.113498561348927, -1.113498561348927, -1.113498561348927, -1.113498561348927, -1.113498561348927, -1.113498561348927, -1.113498561348927, -1.113498561348927, -1.113498561348927, -1.113498561348927, -1.113498561348927, -1.113498561348927, -1.113498561348927, -1.113498561348927, -1.113498561348927, -1.113498561348927, -1.113498561348927, -1.113498561348927, -1.113498561348927, -1.113498561348927, -1.113498561348927, -1.113498561348927, -1.2630498922720108, -1.2630498922720108, -1.2630498922720108, -1.2630498922720108, -1.2630498922720108, -1.2630498922720108, -1.2630498922720108, -1.2630498922720108, -1.2630498922720108, -1.0057964510992279, -1.1750535523135452, -1.1750535523135452, -1.1750535523135452, -1.1750535523135452, -1.1750535523135452, -1.1750535523135452, -1.1750535523135452, -1.1750535523135452, -1.1750535523135452, -1.1750535523135452, -1.1750535523135452, -1.1750535523135452, -1.1750535523135452, -1.1750535523135452, -1.1420825393525398, -1.1420825393525398, -1.1420825393525398, -1.1420825393525398, -1.1420825393525398, -1.1420825393525398, -1.1420825393525398, -1.1420825393525398, -1.1420825393525398, -1.1420825393525398, -1.1420825393525398, -1.1420825393525398, -1.1420825393525398, -1.1420825393525398, -1.1420825393525398, -1.1420825393525398, -1.1420825393525398, -1.1420825393525398, -1.1420825393525398, -1.1420825393525398, -1.1420825393525398, -1.1420825393525398, -1.1420825393525398, -1.1420825393525398, -1.1420825393525398, -0.9417601025522294, -0.9417601025522294, -0.9417601025522294, -0.9417601025522294, -0.9417601025522294, -1.0491869736715898, -1.0491869736715898, -1.0491869736715898, -1.0491869736715898, -1.0491869736715898, -1.0491869736715898, -1.0491869736715898, -1.0491869736715898, -1.0491869736715898, -1.0491869736715898, -1.0491869736715898, -1.0491869736715898, -1.0491869736715898, -1.0491869736715898, -1.0491869736715898, -1.0491869736715898, -1.0491869736715898, -1.0491869736715898, -1.0491869736715898, -1.0491869736715898, -1.0491869736715898, -1.0491869736715898, -1.0491869736715898, -1.0491869736715898, -1.0491869736715898, -1.0491869736715898, -1.0491869736715898, -1.0491869736715898, -1.0491869736715898, -1.0491869736715898, -1.0491869736715898, -1.0491869736715898, -1.0491869736715898, -1.0491869736715898, -1.115010220157153, -1.115010220157153, -1.115010220157153, -1.115010220157153, -1.115010220157153, -1.1446830885797128, -1.1446830885797128, -1.1446830885797128, -1.1446830885797128, -1.1446830885797128, -1.1446830885797128, -1.1446830885797128, -1.1446830885797128, -1.1446830885797128, -1.1446830885797128, -1.1446830885797128, -1.1446830885797128, -1.1446830885797128, -1.1460431606401285, -1.1460431606401285, -1.1460431606401285, -1.1460431606401285, -1.1460431606401285, -1.1460431606401285, -1.1460431606401285, -1.1460431606401285, -1.1460431606401285, -1.1460431606401285, -1.1460431606401285, -1.1460431606401285, -1.1460431606401285, -1.1460431606401285, -1.1460431606401285, -1.1460431606401285, -1.1460431606401285, -1.1460431606401285, -1.1460431606401285, -1.1460431606401285, -1.1460431606401285, -1.1460431606401285, -1.1460431606401285, -1.1460431606401285, -1.1460431606401285, -1.1460431606401285, -1.1460431606401285, -1.1460431606401285, -1.1460431606401285, -1.1460431606401285, -1.1460431606401285, -1.1460431606401285, -1.1460431606401285, -1.1460431606401285, -1.1460431606401285, -1.042449273181101, -1.042449273181101, -1.042449273181101, -0.953678909137638, -0.953678909137638, -0.953678909137638, -0.9419341057625672, -0.9419341057625672, -0.9419341057625672, -0.9419341057625672, -1.0724551313440966, -1.09423418646902, -1.09423418646902, -1.09423418646902, -1.09423418646902, -1.09423418646902, -1.09423418646902, -1.09423418646902, -1.09423418646902, -1.09423418646902, -1.09423418646902, -1.09423418646902, -1.09423418646902, -1.09423418646902, -1.09423418646902, -1.09423418646902, -1.09423418646902, -1.09423418646902, -1.09423418646902, -1.09423418646902, -1.09423418646902, -1.09423418646902, -1.09423418646902, -1.09423418646902, -1.015597223713643, -1.015597223713643, -1.015597223713643, -1.015597223713643, -1.015597223713643, -1.04563073566122, -1.04563073566122, -1.04563073566122, -0.9916158678769499, -0.9916158678769499, -0.9916158678769499, -0.8450298639940785, -0.8450298639940785, -0.8450298639940785, -0.8450298639940785, -0.8450298639940785, -0.8450298639940785, -0.8450298639940785, -0.8450298639940785, -0.8450298639940785, -0.97081234612996, -0.97081234612996, -0.97081234612996, -0.97081234612996, -0.97081234612996, -1.0823394193843694, -1.0822387881069215, -1.0822387881069215, -1.0822387881069215, -1.1270439703918669, -1.1270439703918669, -1.1270439703918669, -1.1270439703918669, -1.1270439703918669, -1.1270439703918669, -1.1270439703918669, -1.1270439703918669, -1.1270439703918669, -1.1270439703918669, -1.1270439703918669, -1.2108847011114263, -1.2108847011114263, -1.2108847011114263, -1.0447450392478161, -1.0447450392478161, -1.0447450392478161, -1.0447450392478161, -0.9907643874282596, -0.9907643874282596, -0.9907643874282596, -0.9907643874282596, -0.9907643874282596, -0.9907643874282596, -0.9907643874282596, -1.1080939183449379, -1.0069430199141156, -1.0069430199141156, -0.8810950311336608, -1.0475067492872803, -1.0475067492872803, -1.0475067492872803, -0.9329147321840535, -0.9329147321840535, -0.9782078675057939, -0.9782078675057939, -0.9782078675057939, -0.9782078675057939, -0.9782078675057939, -0.9815682062517807, -1.01855139197342, -1.01855139197342, -1.01855139197342, -1.01855139197342, -1.01855139197342, -1.01855139197342, -0.9368990137910571, -0.9368990137910571, -0.9368990137910571, -0.9368990137910571, -1.0682025790899832, -1.0682025790899832, -1.0682025790899832, -1.0682025790899832, -1.1916478972886348, -1.1916478972886348, -1.0697434785100577, -1.099865051780815, -1.099865051780815, -1.099865051780815, -0.8771165360132623, -0.8771165360132623, -0.8771165360132623, -0.8431409248791457, -0.7911396825030663, -0.7911396825030663, -0.8456069545593252, -0.8456069545593252, -0.8456069545593252, -0.8456069545593252, -0.7105896650073227, -0.7105896650073227, -0.7105896650073227, -0.7268416344310521, -0.7268416344310521, -0.834509293136818, -0.834509293136818, -0.834509293136818, -0.834509293136818, -0.834509293136818, -0.9047515597561347, -0.9047515597561347, -1.2034406521058338, -1.2301766882779708, -1.2301766882779708, -1.2301766882779708, -1.2301766882779708, -1.2301766882779708, -1.2301766882779708, -1.2301766882779708, -1.2301766882779708, -1.2301766882779708, -1.0761035666496586, -1.0761035666496586, -1.0761035666496586, -1.0761035666496586, -1.0761035666496586, -1.0761035666496586, -1.0761035666496586, -1.046549437734226, -1.046549437734226, -1.046549437734226, -1.046549437734226, -1.046549437734226, -1.046549437734226, -1.046549437734226, -1.046549437734226, -1.046549437734226, -1.046549437734226, -1.046549437734226, -1.046549437734226, -1.046549437734226, -1.046549437734226, -1.046549437734226, -1.046549437734226, -1.046549437734226, -1.046549437734226, -1.046549437734226, -1.046549437734226, -1.046549437734226, -1.046549437734226, -1.046549437734226, -1.046549437734226, -1.046549437734226, -1.046549437734226, -0.8610318562618856, -0.8610318562618856, -0.8610318562618856, -0.8610318562618856, -0.8610318562618856, -0.8610318562618856, -0.8610318562618856, -0.8610318562618856, -0.8610318562618856, -0.8610318562618856, -0.8610318562618856, -0.6865836124653198, -0.6865836124653198, -0.7741482058011483, -0.7741482058011483, -0.7741482058011483, -1.2276935021998112, -1.2276935021998112, -1.2276935021998112, -1.2276935021998112, -1.2276935021998112, -1.2276935021998112, -1.0500255117971815, -1.0500255117971815, -1.0500255117971815, -1.0500255117971815, -1.0500255117971815, -0.8109077752484701, -0.8109077752484701, -0.8109077752484701, -1.0751501387806561, -1.0751501387806561, -1.004626956960324, -0.9896232853341288, -0.9896232853341288, -0.9896232853341288, -1.135500161859323, -1.135500161859323, -1.135500161859323, -1.135500161859323, -1.135500161859323, -1.135500161859323, -1.135500161859323, -1.135500161859323, -1.135500161859323, -1.135500161859323, -1.135500161859323, -1.135500161859323, -1.135500161859323, -1.135500161859323, -1.135500161859323, -1.135500161859323, -1.135500161859323, -1.1894004238745024, -1.1894004238745024, -1.0989514583030724, -1.0989514583030724, -1.0989514583030724, -1.0989514583030724, -1.0989514583030724, -1.0989514583030724, -1.0989514583030724, -1.0989514583030724, -1.0989514583030724, -1.0989514583030724, -1.0989514583030724, -1.0989514583030724, -1.0989514583030724, -1.0989514583030724, -1.0989514583030724, -1.0989514583030724, -1.0989514583030724, -1.0989514583030724, -1.0989514583030724, -1.0989514583030724, -1.0989514583030724, -1.0989514583030724, -1.0989514583030724, -1.0989514583030724, -1.0989514583030724, -1.0989514583030724, -1.0989514583030724, -1.0132042339812433, -1.0263475839397027, -1.0263475839397027, -1.0263475839397027, -1.0263475839397027, -1.0263475839397027, -1.0263475839397027, -1.0263475839397027, -1.0263475839397027, -1.0263475839397027, -1.0263475839397027, -1.0263475839397027, -1.0263475839397027, -1.0263475839397027, -1.0263475839397027, -1.0263475839397027, -1.0263475839397027, -1.0263475839397027, -1.0263475839397027, -0.940614075662007, -0.940614075662007, -0.940614075662007, -0.940614075662007, -0.940614075662007, -0.940614075662007, -0.940614075662007, -0.940614075662007, -1.0872537603338577, -1.0872537603338577, -1.0872537603338577, -1.1743580171128216, -1.1743580171128216, -1.1743580171128216, -1.1743580171128216, -1.1743580171128216, -1.1743580171128216, -1.1743580171128216, -1.1743580171128216, -1.1743580171128216, -1.1743580171128216, -1.1743580171128216, -1.1743580171128216, -1.1743580171128216, -1.1743580171128216, -1.1743580171128216, -1.1743580171128216, -1.1743580171128216, -1.1743580171128216, -1.1743580171128216, -1.1743580171128216, -1.1743580171128216, -1.1743580171128216, -1.1743580171128216, -1.1743580171128216, -1.1743580171128216, -1.07010112733763, -1.07010112733763, -1.07010112733763, -1.07010112733763, -1.07010112733763, -1.07010112733763, -0.8587082579146613, -0.8587082579146613, -1.1491314360341018, -1.1491314360341018, -1.1491314360341018, -1.058009750370804, -1.058009750370804, -1.058009750370804, -1.058009750370804, -1.058009750370804, -1.2286171798324932, -1.2286171798324932, -1.2286171798324932, -0.9854975183426663, -0.9854975183426663, -0.9854975183426663, -0.9854975183426663, -1.0632558588846093, -0.9014008446332274, -0.9477987014726416, -0.9477987014726416, -0.9477987014726416, -0.9477987014726416, -0.9477987014726416, -0.9477987014726416, -0.9477987014726416, -0.9477987014726416, -0.9477987014726416, -0.9477987014726416, -1.1293791075621955, -1.1293791075621955, -1.069670722916671, -1.069670722916671, -1.069670722916671, -1.069670722916671, -1.069670722916671, -1.069670722916671, -1.2177781181600338, -1.2177781181600338, -1.2177781181600338, -1.2177781181600338, -1.2177781181600338, -1.2177781181600338, -1.2197332576664166, -1.2197332576664166, -1.2205526647926384, -1.2205526647926384, -1.2205526647926384, -1.2205526647926384, -1.2205526647926384, -1.2205526647926384, -1.2205526647926384, -1.2205526647926384, -1.2205526647926384, -1.2205526647926384, -1.2205526647926384, -1.0382418982334116, -1.0754548512661304, -1.0754548512661304, -1.0754548512661304, -1.0754548512661304, -1.0754548512661304, -1.0754548512661304, -1.0754548512661304, -1.0754548512661304, -1.0754548512661304, -1.0754548512661304, -0.948357719927089, -0.948357719927089, -0.9621115824653046, -0.9621115824653046, -0.9621115824653046, -0.9621115824653046, -0.9621115824653046, -0.9621115824653046, -0.9621115824653046, -0.9621115824653046, -0.9621115824653046, -0.9621115824653046, -0.9621115824653046, -0.9621115824653046, -0.9302899451238219, -0.9302899451238219, -0.9302899451238219, -0.9302899451238219, -0.9302899451238219, -0.9302899451238219, -0.9302899451238219, -0.9302899451238219, -0.9302899451238219, -0.8126601415019447, -0.8126601415019447, -0.8126601415019447, -0.8126601415019447, -0.8126601415019447, -1.2338170841180147, -1.2338170841180147, -1.0779618446327701, -1.0779618446327701, -1.0779618446327701, -1.0779618446327701, -1.006944001755955, -1.006944001755955, -1.006944001755955, -1.006944001755955, -1.006944001755955, -1.006944001755955, -1.1038165346815276, -1.1038165346815276, -1.1038165346815276, -1.1038165346815276, -1.1038165346815276, -1.1038165346815276, -1.0077003610319664, -1.0077003610319664, -1.0077003610319664, -1.0077003610319664, -1.0077003610319664, -1.0077003610319664, -0.974258992840199, -0.974258992840199, -0.974258992840199, -0.974258992840199, -0.974258992840199, -0.974258992840199, -1.0563294419679967, -1.0563294419679967, -1.0563294419679967, -1.0563294419679967, -1.1386857592880388, -1.1386857592880388, -1.1386857592880388, -1.1386857592880388, -1.1386857592880388, -1.1386857592880388, -1.1386857592880388, -1.1386857592880388, -1.1386857592880388, -1.2257243713041106, -1.2257243713041106, -1.2257243713041106, -1.2257243713041106, -1.0949699762219252, -1.0949699762219252, -1.1048475213238869, -1.1048475213238869, -1.1048475213238869, -1.1048475213238869, -1.1048475213238869, -1.1048475213238869, -1.1048475213238869, -1.1048475213238869, -1.1048475213238869, -1.1048475213238869, -1.1048475213238869, -1.1048475213238869, -1.1048475213238869, -1.1048475213238869, -1.1048475213238869, -1.1048475213238869, -1.1048475213238869, -1.1048475213238869, -1.1048475213238869, -1.1048475213238869, -1.1048475213238869, -1.1048475213238869, -1.002390443653292, -1.002390443653292, -1.002390443653292, -1.002390443653292, -1.002390443653292, -1.002390443653292, -1.002390443653292], \"y\": [-0.6931471805599453, -0.8437875937088065, -0.8437875937088065, -0.8437875937088065, -0.8437875937088065, -0.8437875937088065, -0.8437875937088065, -0.8437875937088065, -0.8437875937088065, -0.8437875937088065, -0.8437875937088065, -0.8437875937088065, -0.8437875937088065, -0.8437875937088065, -0.8661659120763777, -0.8661659120763777, -0.8661659120763777, -0.8661659120763777, -1.0625498154703474, -1.4007556172509212, -1.4007556172509212, -1.6603114766275768, -1.7511013495457188, -1.7511013495457188, -1.7511013495457188, -1.9664323571156768, -1.9664323571156768, -1.9664323571156768, -1.9664323571156768, -1.9664323571156768, -2.9533473342081153, -2.9533473342081153, -2.6455795266274893, -2.6455795266274893, -2.6455795266274893, -2.6455795266274893, -2.6455795266274893, -2.6455795266274893, -2.6455795266274893, -2.6455795266274893, -2.6455795266274893, -2.888048601618681, -2.888048601618681, -2.888048601618681, -2.888048601618681, -2.888048601618681, -2.888048601618681, -2.888048601618681, -2.888048601618681, -2.888048601618681, -2.55410360720099, -2.55410360720099, -2.55410360720099, -2.55410360720099, -2.55410360720099, -2.55410360720099, -2.55410360720099, -2.361770724065292, -2.361770724065292, -2.361770724065292, -2.361770724065292, -2.0354402104936207, -2.0354402104936207, -2.0354402104936207, -2.452292394046057, -3.033629754943778, -3.033629754943778, -3.033629754943778, -3.033629754943778, -3.033629754943778, -3.033629754943778, -3.033629754943778, -2.3891345991577575, -2.6246019995954355, -2.6246019995954355, -2.6246019995954355, -2.6246019995954355, -2.6246019995954355, -2.6246019995954355, -2.6246019995954355, -2.6246019995954355, -2.6246019995954355, -2.6246019995954355, -2.6246019995954355, -2.6246019995954355, -2.6246019995954355, -2.6246019995954355, -2.6246019995954355, -2.6246019995954355, -2.6246019995954355, -2.6246019995954355, -2.6246019995954355, -2.6246019995954355, -2.6246019995954355, -2.6246019995954355, -2.6246019995954355, -2.6246019995954355, -2.6246019995954355, -2.6246019995954355, -2.6246019995954355, -2.6246019995954355, -2.6246019995954355, -2.6246019995954355, -2.6246019995954355, -2.6246019995954355, -2.6246019995954355, -2.6246019995954355, -2.6246019995954355, -2.6246019995954355, -2.6246019995954355, -2.6246019995954355, -2.6246019995954355, -2.6246019995954355, -2.6246019995954355, -2.6246019995954355, -2.6246019995954355, -2.6246019995954355, -2.6246019995954355, -2.6246019995954355, -2.6246019995954355, -2.6246019995954355, -2.6246019995954355, -2.6246019995954355, -2.6246019995954355, -2.6246019995954355, -2.6246019995954355, -2.6246019995954355, -2.6246019995954355, -2.6246019995954355, -2.6246019995954355, -2.6246019995954355, -2.6246019995954355, -2.6246019995954355, -2.6246019995954355, -2.6246019995954355, -2.6246019995954355, -2.6246019995954355, -2.6246019995954355, -2.6246019995954355, -2.6246019995954355, -2.6246019995954355, -2.6246019995954355, -2.6246019995954355, -2.6246019995954355, -2.6246019995954355, -2.6246019995954355, -2.6246019995954355, -2.6246019995954355, -2.6246019995954355, -2.6246019995954355, -2.6246019995954355, -2.6246019995954355, -2.6246019995954355, -2.6246019995954355, -2.6246019995954355, -2.6246019995954355, -2.6246019995954355, -2.6246019995954355, -2.6246019995954355, -2.6246019995954355, -2.326632734741341, -2.0255476717724483, -2.0255476717724483, -2.0255476717724483, -2.0255476717724483, -2.1841990163015224, -2.1841990163015224, -2.1841990163015224, -2.1841990163015224, -2.1841990163015224, -2.1841990163015224, -2.4226055322377653, -2.4226055322377653, -2.6293219368330605, -2.6293219368330605, -2.6293219368330605, -2.6293219368330605, -2.0725292685764973, -2.0725292685764973, -2.0725292685764973, -2.0725292685764973, -2.0725292685764973, -2.0725292685764973, -2.0725292685764973, -2.0725292685764973, -2.0725292685764973, -2.0725292685764973, -2.0725292685764973, -2.0725292685764973, -2.0725292685764973, -2.0725292685764973, -2.0725292685764973, -2.0725292685764973, -2.0725292685764973, -2.0725292685764973, -2.0725292685764973, -2.0725292685764973, -2.0725292685764973, -2.0725292685764973, -2.686125343648151, -2.686125343648151, -2.686125343648151, -2.686125343648151, -2.686125343648151, -2.686125343648151, -2.686125343648151, -2.686125343648151, -2.686125343648151, -2.686125343648151, -2.5659700331527855, -2.5659700331527855, -2.5659700331527855, -2.5659700331527855, -2.5659700331527855, -2.5659700331527855, -2.5659700331527855, -2.5659700331527855, -2.5659700331527855, -2.5659700331527855, -2.5659700331527855, -2.5659700331527855, -2.561275079638293, -2.561275079638293, -2.561275079638293, -2.561275079638293, -2.561275079638293, -2.561275079638293, -2.2927912406851387, -2.2927912406851387, -2.2927912406851387, -2.2927912406851387, -2.2927912406851387, -2.2927912406851387, -2.2927912406851387, -2.2927912406851387, -2.2927912406851387, -2.2892988632619793, -2.2892988632619793, -2.2892988632619793, -2.282551039132837, -2.518226937937959, -2.518226937937959, -2.518226937937959, -2.8393553307484205, -2.8393553307484205, -2.8393553307484205, -2.8393553307484205, -2.8393553307484205, -2.0551150684642487, -2.0551150684642487, -2.542639365621215, -2.542639365621215, -2.542639365621215, -2.488054476607558, -2.488054476607558, -2.488054476607558, -2.488054476607558, -2.488054476607558, -2.488054476607558, -2.488054476607558, -2.488054476607558, -2.488054476607558, -2.488054476607558, -2.488054476607558, -1.95871110726151, -1.95871110726151, -1.95871110726151, -1.95871110726151, -1.95871110726151, -1.95871110726151, -1.9340189709448639, -2.08484333342289, -2.08484333342289, -2.08484333342289, -2.08484333342289, -2.08484333342289, -2.08484333342289, -2.3910361513036693, -2.3910361513036693, -2.3910361513036693, -2.3910361513036693, -2.3910361513036693, -2.3910361513036693, -2.3910361513036693, -2.3910361513036693, -2.3910361513036693, -2.3910361513036693, -2.3910361513036693, -2.3910361513036693, -2.3910361513036693, -2.3910361513036693, -2.3910361513036693, -2.3910361513036693, -2.3910361513036693, -2.3910361513036693, -2.5462158346232697, -2.5462158346232697, -2.5462158346232697, -2.5462158346232697, -2.5462158346232697, -2.433304516724833, -2.433304516724833, -2.433304516724833, -2.433304516724833, -2.433304516724833, -1.9905155681255013, -1.9905155681255013, -1.9905155681255013, -1.9905155681255013, -1.9905155681255013, -1.9905155681255013, -1.9905155681255013, -1.9905155681255013, -1.9905155681255013, -1.9260988836014619, -1.9260988836014619, -1.9260988836014619, -2.3537778786601535, -2.315414621520841, -2.315414621520841, -2.315414621520841, -2.315414621520841, -2.315414621520841, -2.315414621520841, -2.315414621520841, -2.315414621520841, -2.315414621520841, -2.315414621520841, -2.315414621520841, -2.315414621520841, -2.315414621520841, -2.315414621520841, -2.315414621520841, -2.315414621520841, -2.315414621520841, -2.315414621520841, -2.315414621520841, -2.315414621520841, -2.315414621520841, -2.315414621520841, -2.315414621520841, -2.315414621520841, -2.315414621520841, -2.315414621520841, -2.315414621520841, -2.315414621520841, -2.315414621520841, -2.315414621520841, -2.315414621520841, -2.315414621520841, -2.315414621520841, -2.315414621520841, -2.315414621520841, -2.315414621520841, -2.315414621520841, -2.315414621520841, -2.5403388549911594, -2.5403388549911594, -2.5403388549911594, -2.5403388549911594, -2.5403388549911594, -2.5403388549911594, -2.5403388549911594, -2.5403388549911594, -2.5403388549911594, -2.1187797864055877, -2.2543448836976703, -2.2543448836976703, -2.2543448836976703, -2.2543448836976703, -2.2543448836976703, -2.2543448836976703, -2.2543448836976703, -2.2543448836976703, -2.2543448836976703, -2.2543448836976703, -2.2543448836976703, -2.2543448836976703, -2.2543448836976703, -2.2543448836976703, -2.4295735258843156, -2.4295735258843156, -2.4295735258843156, -2.4295735258843156, -2.4295735258843156, -2.4295735258843156, -2.4295735258843156, -2.4295735258843156, -2.4295735258843156, -2.4295735258843156, -2.4295735258843156, -2.4295735258843156, -2.4295735258843156, -2.4295735258843156, -2.4295735258843156, -2.4295735258843156, -2.4295735258843156, -2.4295735258843156, -2.4295735258843156, -2.4295735258843156, -2.4295735258843156, -2.4295735258843156, -2.4295735258843156, -2.4295735258843156, -2.4295735258843156, -2.4547663187406052, -2.4547663187406052, -2.4547663187406052, -2.4547663187406052, -2.4547663187406052, -2.6993269331317107, -2.6993269331317107, -2.6993269331317107, -2.6993269331317107, -2.6993269331317107, -2.6993269331317107, -2.6993269331317107, -2.6993269331317107, -2.6993269331317107, -2.6993269331317107, -2.6993269331317107, -2.6993269331317107, -2.6993269331317107, -2.6993269331317107, -2.6993269331317107, -2.6993269331317107, -2.6993269331317107, -2.6993269331317107, -2.6993269331317107, -2.6993269331317107, -2.6993269331317107, -2.6993269331317107, -2.6993269331317107, -2.6993269331317107, -2.6993269331317107, -2.6993269331317107, -2.6993269331317107, -2.6993269331317107, -2.6993269331317107, -2.6993269331317107, -2.6993269331317107, -2.6993269331317107, -2.6993269331317107, -2.6993269331317107, -2.8506454410338695, -2.8506454410338695, -2.8506454410338695, -2.8506454410338695, -2.8506454410338695, -2.329435416056239, -2.329435416056239, -2.329435416056239, -2.329435416056239, -2.329435416056239, -2.329435416056239, -2.329435416056239, -2.329435416056239, -2.329435416056239, -2.329435416056239, -2.329435416056239, -2.329435416056239, -2.329435416056239, -2.482430314689529, -2.482430314689529, -2.482430314689529, -2.482430314689529, -2.482430314689529, -2.482430314689529, -2.482430314689529, -2.482430314689529, -2.482430314689529, -2.482430314689529, -2.482430314689529, -2.482430314689529, -2.482430314689529, -2.482430314689529, -2.482430314689529, -2.482430314689529, -2.482430314689529, -2.482430314689529, -2.482430314689529, -2.482430314689529, -2.482430314689529, -2.482430314689529, -2.482430314689529, -2.482430314689529, -2.482430314689529, -2.482430314689529, -2.482430314689529, -2.482430314689529, -2.482430314689529, -2.482430314689529, -2.482430314689529, -2.482430314689529, -2.482430314689529, -2.482430314689529, -2.482430314689529, -2.218767526721276, -2.218767526721276, -2.218767526721276, -2.737491113321814, -2.737491113321814, -2.737491113321814, -2.056187541516059, -2.056187541516059, -2.056187541516059, -2.056187541516059, -1.9310171885724563, -2.172865079006813, -2.172865079006813, -2.172865079006813, -2.172865079006813, -2.172865079006813, -2.172865079006813, -2.172865079006813, -2.172865079006813, -2.172865079006813, -2.172865079006813, -2.172865079006813, -2.172865079006813, -2.172865079006813, -2.172865079006813, -2.172865079006813, -2.172865079006813, -2.172865079006813, -2.172865079006813, -2.172865079006813, -2.172865079006813, -2.172865079006813, -2.172865079006813, -2.172865079006813, -2.3765126306966806, -2.3765126306966806, -2.3765126306966806, -2.3765126306966806, -2.3765126306966806, -2.4171039654211643, -2.4171039654211643, -2.4171039654211643, -2.077206063299479, -2.077206063299479, -2.077206063299479, -2.452899754236399, -2.452899754236399, -2.452899754236399, -2.452899754236399, -2.452899754236399, -2.452899754236399, -2.452899754236399, -2.452899754236399, -2.452899754236399, -2.6311534354273154, -2.6311534354273154, -2.6311534354273154, -2.6311534354273154, -2.6311534354273154, -2.3242435361425082, -2.3899205776494536, -2.3899205776494536, -2.3899205776494536, -2.465829488632869, -2.465829488632869, -2.465829488632869, -2.465829488632869, -2.465829488632869, -2.465829488632869, -2.465829488632869, -2.465829488632869, -2.465829488632869, -2.465829488632869, -2.465829488632869, -2.324482472195924, -2.324482472195924, -2.324482472195924, -2.3386281384745917, -2.3386281384745917, -2.3386281384745917, -2.3386281384745917, -2.6478005336286077, -2.6478005336286077, -2.6478005336286077, -2.6478005336286077, -2.6478005336286077, -2.6478005336286077, -2.6478005336286077, -1.9259534730110797, -2.826201272993211, -2.826201272993211, -2.327723503320118, -1.845887335939871, -1.845887335939871, -1.845887335939871, -2.0931123869451547, -2.0931123869451547, -2.197254729837715, -2.197254729837715, -2.197254729837715, -2.197254729837715, -2.197254729837715, -1.9424623672959827, -2.587052692474036, -2.587052692474036, -2.587052692474036, -2.587052692474036, -2.587052692474036, -2.587052692474036, -2.422769884233001, -2.422769884233001, -2.422769884233001, -2.422769884233001, -2.472451039880158, -2.472451039880158, -2.472451039880158, -2.472451039880158, -2.5431356036641515, -2.5431356036641515, -1.794479250618589, -1.8884492223601206, -1.8884492223601206, -1.8884492223601206, -1.968730275092557, -1.968730275092557, -1.968730275092557, -1.8795673480690822, -1.8555054166870533, -1.8555054166870533, -2.8011205240813757, -2.8011205240813757, -2.8011205240813757, -2.8011205240813757, -2.7879413089207707, -2.7879413089207707, -2.7879413089207707, -2.645855685958739, -2.645855685958739, -1.9003735986854915, -1.9003735986854915, -1.9003735986854915, -1.9003735986854915, -1.9003735986854915, -2.0354645963893128, -2.0354645963893128, -2.1445217040011233, -2.7430386659509742, -2.7430386659509742, -2.7430386659509742, -2.7430386659509742, -2.7430386659509742, -2.7430386659509742, -2.7430386659509742, -2.7430386659509742, -2.7430386659509742, -2.3901348851951965, -2.3901348851951965, -2.3901348851951965, -2.3901348851951965, -2.3901348851951965, -2.3901348851951965, -2.3901348851951965, -2.737593291660505, -2.737593291660505, -2.737593291660505, -2.737593291660505, -2.737593291660505, -2.737593291660505, -2.737593291660505, -2.737593291660505, -2.737593291660505, -2.737593291660505, -2.737593291660505, -2.737593291660505, -2.737593291660505, -2.737593291660505, -2.737593291660505, -2.737593291660505, -2.737593291660505, -2.737593291660505, -2.737593291660505, -2.737593291660505, -2.737593291660505, -2.737593291660505, -2.737593291660505, -2.737593291660505, -2.737593291660505, -2.737593291660505, -2.518347316792908, -2.518347316792908, -2.518347316792908, -2.518347316792908, -2.518347316792908, -2.518347316792908, -2.518347316792908, -2.518347316792908, -2.518347316792908, -2.518347316792908, -2.518347316792908, -2.9901979182188043, -2.9901979182188043, -2.117578724586359, -2.117578724586359, -2.117578724586359, -2.2512957224938734, -2.2512957224938734, -2.2512957224938734, -2.2512957224938734, -2.2512957224938734, -2.2512957224938734, -2.553192361923265, -2.553192361923265, -2.553192361923265, -2.553192361923265, -2.553192361923265, -2.5287163333274116, -2.5287163333274116, -2.5287163333274116, -3.1391908691683907, -3.1391908691683907, -2.32102393478803, -2.643560772347069, -2.643560772347069, -2.643560772347069, -2.3114697432537863, -2.3114697432537863, -2.3114697432537863, -2.3114697432537863, -2.3114697432537863, -2.3114697432537863, -2.3114697432537863, -2.3114697432537863, -2.3114697432537863, -2.3114697432537863, -2.3114697432537863, -2.3114697432537863, -2.3114697432537863, -2.3114697432537863, -2.3114697432537863, -2.3114697432537863, -2.3114697432537863, -2.224325896145413, -2.224325896145413, -2.582166063651303, -2.582166063651303, -2.582166063651303, -2.582166063651303, -2.582166063651303, -2.582166063651303, -2.582166063651303, -2.582166063651303, -2.582166063651303, -2.582166063651303, -2.582166063651303, -2.582166063651303, -2.582166063651303, -2.582166063651303, -2.582166063651303, -2.582166063651303, -2.582166063651303, -2.582166063651303, -2.582166063651303, -2.582166063651303, -2.582166063651303, -2.582166063651303, -2.582166063651303, -2.582166063651303, -2.582166063651303, -2.582166063651303, -2.582166063651303, -2.321884980371713, -2.046597111037896, -2.046597111037896, -2.046597111037896, -2.046597111037896, -2.046597111037896, -2.046597111037896, -2.046597111037896, -2.046597111037896, -2.046597111037896, -2.046597111037896, -2.046597111037896, -2.046597111037896, -2.046597111037896, -2.046597111037896, -2.046597111037896, -2.046597111037896, -2.046597111037896, -2.046597111037896, -2.57967442248425, -2.57967442248425, -2.57967442248425, -2.57967442248425, -2.57967442248425, -2.57967442248425, -2.57967442248425, -2.57967442248425, -2.2365014833366055, -2.2365014833366055, -2.2365014833366055, -2.220984329652815, -2.220984329652815, -2.220984329652815, -2.220984329652815, -2.220984329652815, -2.220984329652815, -2.220984329652815, -2.220984329652815, -2.220984329652815, -2.220984329652815, -2.220984329652815, -2.220984329652815, -2.220984329652815, -2.220984329652815, -2.220984329652815, -2.220984329652815, -2.220984329652815, -2.220984329652815, -2.220984329652815, -2.220984329652815, -2.220984329652815, -2.220984329652815, -2.220984329652815, -2.220984329652815, -2.220984329652815, -2.052679583645021, -2.052679583645021, -2.052679583645021, -2.052679583645021, -2.052679583645021, -2.052679583645021, -2.8342331014821074, -2.8342331014821074, -2.017296114752327, -2.017296114752327, -2.017296114752327, -2.949019218065099, -2.949019218065099, -2.949019218065099, -2.949019218065099, -2.949019218065099, -3.1154344826672737, -3.1154344826672737, -3.1154344826672737, -1.6995632714532671, -1.6995632714532671, -1.6995632714532671, -1.6995632714532671, -1.8078883668057169, -2.4438948212866447, -2.679230633174963, -2.679230633174963, -2.679230633174963, -2.679230633174963, -2.679230633174963, -2.679230633174963, -2.679230633174963, -2.679230633174963, -2.679230633174963, -2.679230633174963, -2.4389398176104726, -2.4389398176104726, -2.0306452918310485, -2.0306452918310485, -2.0306452918310485, -2.0306452918310485, -2.0306452918310485, -2.0306452918310485, -2.392706606641097, -2.392706606641097, -2.392706606641097, -2.392706606641097, -2.392706606641097, -2.392706606641097, -2.4724038116439253, -2.4724038116439253, -2.639951390079885, -2.639951390079885, -2.639951390079885, -2.639951390079885, -2.639951390079885, -2.639951390079885, -2.639951390079885, -2.639951390079885, -2.639951390079885, -2.639951390079885, -2.639951390079885, -2.230234079484281, -2.1473071360425515, -2.1473071360425515, -2.1473071360425515, -2.1473071360425515, -2.1473071360425515, -2.1473071360425515, -2.1473071360425515, -2.1473071360425515, -2.1473071360425515, -2.1473071360425515, -2.041886095440298, -2.041886095440298, -2.6387935979955883, -2.6387935979955883, -2.6387935979955883, -2.6387935979955883, -2.6387935979955883, -2.6387935979955883, -2.6387935979955883, -2.6387935979955883, -2.6387935979955883, -2.6387935979955883, -2.6387935979955883, -2.6387935979955883, -2.5492449384166256, -2.5492449384166256, -2.5492449384166256, -2.5492449384166256, -2.5492449384166256, -2.5492449384166256, -2.5492449384166256, -2.5492449384166256, -2.5492449384166256, -2.5081726593785008, -2.5081726593785008, -2.5081726593785008, -2.5081726593785008, -2.5081726593785008, -2.3127549197450046, -2.3127549197450046, -2.7734066494300937, -2.7734066494300937, -2.7734066494300937, -2.7734066494300937, -2.0687773345833484, -2.0687773345833484, -2.0687773345833484, -2.0687773345833484, -2.0687773345833484, -2.0687773345833484, -1.9823654895778025, -1.9823654895778025, -1.9823654895778025, -1.9823654895778025, -1.9823654895778025, -1.9823654895778025, -1.8738420261002433, -1.8738420261002433, -1.8738420261002433, -1.8738420261002433, -1.8738420261002433, -1.8738420261002433, -2.4993024172520344, -2.4993024172520344, -2.4993024172520344, -2.4993024172520344, -2.4993024172520344, -2.4993024172520344, -2.261674576212442, -2.261674576212442, -2.261674576212442, -2.261674576212442, -2.402841108600126, -2.402841108600126, -2.402841108600126, -2.402841108600126, -2.402841108600126, -2.402841108600126, -2.402841108600126, -2.402841108600126, -2.402841108600126, -2.690334672386957, -2.690334672386957, -2.690334672386957, -2.690334672386957, -2.225734893782085, -2.225734893782085, -2.13724728607156, -2.13724728607156, -2.13724728607156, -2.13724728607156, -2.13724728607156, -2.13724728607156, -2.13724728607156, -2.13724728607156, -2.13724728607156, -2.13724728607156, -2.13724728607156, -2.13724728607156, -2.13724728607156, -2.13724728607156, -2.13724728607156, -2.13724728607156, -2.13724728607156, -2.13724728607156, -2.13724728607156, -2.13724728607156, -2.13724728607156, -2.13724728607156, -2.2690846083875065, -2.2690846083875065, -2.2690846083875065, -2.2690846083875065, -2.2690846083875065, -2.2690846083875065, -2.2690846083875065]}],\n",
       "                        {\"template\": {\"data\": {\"bar\": [{\"error_x\": {\"color\": \"#2a3f5f\"}, \"error_y\": {\"color\": \"#2a3f5f\"}, \"marker\": {\"line\": {\"color\": \"#E5ECF6\", \"width\": 0.5}}, \"type\": \"bar\"}], \"barpolar\": [{\"marker\": {\"line\": {\"color\": \"#E5ECF6\", \"width\": 0.5}}, \"type\": \"barpolar\"}], \"carpet\": [{\"aaxis\": {\"endlinecolor\": \"#2a3f5f\", \"gridcolor\": \"white\", \"linecolor\": \"white\", \"minorgridcolor\": \"white\", \"startlinecolor\": \"#2a3f5f\"}, \"baxis\": {\"endlinecolor\": \"#2a3f5f\", \"gridcolor\": \"white\", \"linecolor\": \"white\", \"minorgridcolor\": \"white\", \"startlinecolor\": \"#2a3f5f\"}, \"type\": \"carpet\"}], \"choropleth\": [{\"colorbar\": {\"outlinewidth\": 0, \"ticks\": \"\"}, \"type\": \"choropleth\"}], \"contour\": [{\"colorbar\": {\"outlinewidth\": 0, \"ticks\": \"\"}, \"colorscale\": [[0.0, \"#0d0887\"], [0.1111111111111111, \"#46039f\"], [0.2222222222222222, \"#7201a8\"], [0.3333333333333333, \"#9c179e\"], [0.4444444444444444, \"#bd3786\"], [0.5555555555555556, \"#d8576b\"], [0.6666666666666666, \"#ed7953\"], [0.7777777777777778, \"#fb9f3a\"], [0.8888888888888888, \"#fdca26\"], [1.0, \"#f0f921\"]], \"type\": \"contour\"}], \"contourcarpet\": [{\"colorbar\": {\"outlinewidth\": 0, \"ticks\": \"\"}, \"type\": \"contourcarpet\"}], \"heatmap\": [{\"colorbar\": {\"outlinewidth\": 0, \"ticks\": \"\"}, \"colorscale\": [[0.0, \"#0d0887\"], [0.1111111111111111, \"#46039f\"], [0.2222222222222222, \"#7201a8\"], [0.3333333333333333, \"#9c179e\"], [0.4444444444444444, \"#bd3786\"], [0.5555555555555556, \"#d8576b\"], [0.6666666666666666, \"#ed7953\"], [0.7777777777777778, \"#fb9f3a\"], [0.8888888888888888, \"#fdca26\"], [1.0, \"#f0f921\"]], \"type\": \"heatmap\"}], \"heatmapgl\": [{\"colorbar\": {\"outlinewidth\": 0, \"ticks\": \"\"}, \"colorscale\": [[0.0, \"#0d0887\"], [0.1111111111111111, \"#46039f\"], [0.2222222222222222, \"#7201a8\"], [0.3333333333333333, \"#9c179e\"], [0.4444444444444444, \"#bd3786\"], [0.5555555555555556, \"#d8576b\"], [0.6666666666666666, \"#ed7953\"], [0.7777777777777778, \"#fb9f3a\"], [0.8888888888888888, \"#fdca26\"], [1.0, \"#f0f921\"]], \"type\": \"heatmapgl\"}], \"histogram\": [{\"marker\": {\"colorbar\": {\"outlinewidth\": 0, \"ticks\": \"\"}}, \"type\": \"histogram\"}], \"histogram2d\": [{\"colorbar\": {\"outlinewidth\": 0, \"ticks\": \"\"}, \"colorscale\": [[0.0, \"#0d0887\"], [0.1111111111111111, \"#46039f\"], [0.2222222222222222, \"#7201a8\"], [0.3333333333333333, \"#9c179e\"], [0.4444444444444444, \"#bd3786\"], [0.5555555555555556, \"#d8576b\"], [0.6666666666666666, \"#ed7953\"], [0.7777777777777778, \"#fb9f3a\"], [0.8888888888888888, \"#fdca26\"], [1.0, \"#f0f921\"]], \"type\": \"histogram2d\"}], \"histogram2dcontour\": [{\"colorbar\": {\"outlinewidth\": 0, \"ticks\": \"\"}, \"colorscale\": [[0.0, \"#0d0887\"], [0.1111111111111111, \"#46039f\"], [0.2222222222222222, \"#7201a8\"], [0.3333333333333333, \"#9c179e\"], [0.4444444444444444, \"#bd3786\"], [0.5555555555555556, \"#d8576b\"], [0.6666666666666666, \"#ed7953\"], [0.7777777777777778, \"#fb9f3a\"], [0.8888888888888888, \"#fdca26\"], [1.0, \"#f0f921\"]], \"type\": \"histogram2dcontour\"}], \"mesh3d\": [{\"colorbar\": {\"outlinewidth\": 0, \"ticks\": \"\"}, \"type\": \"mesh3d\"}], \"parcoords\": [{\"line\": {\"colorbar\": {\"outlinewidth\": 0, \"ticks\": \"\"}}, \"type\": \"parcoords\"}], \"pie\": [{\"automargin\": true, \"type\": \"pie\"}], \"scatter\": [{\"marker\": {\"colorbar\": {\"outlinewidth\": 0, \"ticks\": \"\"}}, \"type\": \"scatter\"}], \"scatter3d\": [{\"line\": {\"colorbar\": {\"outlinewidth\": 0, \"ticks\": \"\"}}, \"marker\": {\"colorbar\": {\"outlinewidth\": 0, \"ticks\": \"\"}}, \"type\": \"scatter3d\"}], \"scattercarpet\": [{\"marker\": {\"colorbar\": {\"outlinewidth\": 0, \"ticks\": \"\"}}, \"type\": \"scattercarpet\"}], \"scattergeo\": [{\"marker\": {\"colorbar\": {\"outlinewidth\": 0, \"ticks\": \"\"}}, \"type\": \"scattergeo\"}], \"scattergl\": [{\"marker\": {\"colorbar\": {\"outlinewidth\": 0, \"ticks\": \"\"}}, \"type\": \"scattergl\"}], \"scattermapbox\": [{\"marker\": {\"colorbar\": {\"outlinewidth\": 0, \"ticks\": \"\"}}, \"type\": \"scattermapbox\"}], \"scatterpolar\": [{\"marker\": {\"colorbar\": {\"outlinewidth\": 0, \"ticks\": \"\"}}, \"type\": \"scatterpolar\"}], \"scatterpolargl\": [{\"marker\": {\"colorbar\": {\"outlinewidth\": 0, \"ticks\": \"\"}}, \"type\": \"scatterpolargl\"}], \"scatterternary\": [{\"marker\": {\"colorbar\": {\"outlinewidth\": 0, \"ticks\": \"\"}}, \"type\": \"scatterternary\"}], \"surface\": [{\"colorbar\": {\"outlinewidth\": 0, \"ticks\": \"\"}, \"colorscale\": [[0.0, \"#0d0887\"], [0.1111111111111111, \"#46039f\"], [0.2222222222222222, \"#7201a8\"], [0.3333333333333333, \"#9c179e\"], [0.4444444444444444, \"#bd3786\"], [0.5555555555555556, \"#d8576b\"], [0.6666666666666666, \"#ed7953\"], [0.7777777777777778, \"#fb9f3a\"], [0.8888888888888888, \"#fdca26\"], [1.0, \"#f0f921\"]], \"type\": \"surface\"}], \"table\": [{\"cells\": {\"fill\": {\"color\": \"#EBF0F8\"}, \"line\": {\"color\": \"white\"}}, \"header\": {\"fill\": {\"color\": \"#C8D4E3\"}, \"line\": {\"color\": \"white\"}}, \"type\": \"table\"}]}, \"layout\": {\"annotationdefaults\": {\"arrowcolor\": \"#2a3f5f\", \"arrowhead\": 0, \"arrowwidth\": 1}, \"coloraxis\": {\"colorbar\": {\"outlinewidth\": 0, \"ticks\": \"\"}}, \"colorscale\": {\"diverging\": [[0, \"#8e0152\"], [0.1, \"#c51b7d\"], [0.2, \"#de77ae\"], [0.3, \"#f1b6da\"], [0.4, \"#fde0ef\"], [0.5, \"#f7f7f7\"], [0.6, \"#e6f5d0\"], [0.7, \"#b8e186\"], [0.8, \"#7fbc41\"], [0.9, \"#4d9221\"], [1, \"#276419\"]], \"sequential\": [[0.0, \"#0d0887\"], [0.1111111111111111, \"#46039f\"], [0.2222222222222222, \"#7201a8\"], [0.3333333333333333, \"#9c179e\"], [0.4444444444444444, \"#bd3786\"], [0.5555555555555556, \"#d8576b\"], [0.6666666666666666, \"#ed7953\"], [0.7777777777777778, \"#fb9f3a\"], [0.8888888888888888, \"#fdca26\"], [1.0, \"#f0f921\"]], \"sequentialminus\": [[0.0, \"#0d0887\"], [0.1111111111111111, \"#46039f\"], [0.2222222222222222, \"#7201a8\"], [0.3333333333333333, \"#9c179e\"], [0.4444444444444444, \"#bd3786\"], [0.5555555555555556, \"#d8576b\"], [0.6666666666666666, \"#ed7953\"], [0.7777777777777778, \"#fb9f3a\"], [0.8888888888888888, \"#fdca26\"], [1.0, \"#f0f921\"]]}, \"colorway\": [\"#636efa\", \"#EF553B\", \"#00cc96\", \"#ab63fa\", \"#FFA15A\", \"#19d3f3\", \"#FF6692\", \"#B6E880\", \"#FF97FF\", \"#FECB52\"], \"font\": {\"color\": \"#2a3f5f\"}, \"geo\": {\"bgcolor\": \"white\", \"lakecolor\": \"white\", \"landcolor\": \"#E5ECF6\", \"showlakes\": true, \"showland\": true, \"subunitcolor\": \"white\"}, \"hoverlabel\": {\"align\": \"left\"}, \"hovermode\": \"closest\", \"mapbox\": {\"style\": \"light\"}, \"paper_bgcolor\": \"white\", \"plot_bgcolor\": \"#E5ECF6\", \"polar\": {\"angularaxis\": {\"gridcolor\": \"white\", \"linecolor\": \"white\", \"ticks\": \"\"}, \"bgcolor\": \"#E5ECF6\", \"radialaxis\": {\"gridcolor\": \"white\", \"linecolor\": \"white\", \"ticks\": \"\"}}, \"scene\": {\"xaxis\": {\"backgroundcolor\": \"#E5ECF6\", \"gridcolor\": \"white\", \"gridwidth\": 2, \"linecolor\": \"white\", \"showbackground\": true, \"ticks\": \"\", \"zerolinecolor\": \"white\"}, \"yaxis\": {\"backgroundcolor\": \"#E5ECF6\", \"gridcolor\": \"white\", \"gridwidth\": 2, \"linecolor\": \"white\", \"showbackground\": true, \"ticks\": \"\", \"zerolinecolor\": \"white\"}, \"zaxis\": {\"backgroundcolor\": \"#E5ECF6\", \"gridcolor\": \"white\", \"gridwidth\": 2, \"linecolor\": \"white\", \"showbackground\": true, \"ticks\": \"\", \"zerolinecolor\": \"white\"}}, \"shapedefaults\": {\"line\": {\"color\": \"#2a3f5f\"}}, \"ternary\": {\"aaxis\": {\"gridcolor\": \"white\", \"linecolor\": \"white\", \"ticks\": \"\"}, \"baxis\": {\"gridcolor\": \"white\", \"linecolor\": \"white\", \"ticks\": \"\"}, \"bgcolor\": \"#E5ECF6\", \"caxis\": {\"gridcolor\": \"white\", \"linecolor\": \"white\", \"ticks\": \"\"}}, \"title\": {\"x\": 0.05}, \"xaxis\": {\"automargin\": true, \"gridcolor\": \"white\", \"linecolor\": \"white\", \"ticks\": \"\", \"title\": {\"standoff\": 15}, \"zerolinecolor\": \"white\", \"zerolinewidth\": 2}, \"yaxis\": {\"automargin\": true, \"gridcolor\": \"white\", \"linecolor\": \"white\", \"ticks\": \"\", \"title\": {\"standoff\": 15}, \"zerolinecolor\": \"white\", \"zerolinewidth\": 2}}}},\n",
       "                        {\"responsive\": true}\n",
       "                    ).then(function(){\n",
       "                            \n",
       "var gd = document.getElementById('1dd0637b-8311-48ce-a7d6-1567bb67a704');\n",
       "var x = new MutationObserver(function (mutations, observer) {{\n",
       "        var display = window.getComputedStyle(gd).display;\n",
       "        if (!display || display === 'none') {{\n",
       "            console.log([gd, 'removed!']);\n",
       "            Plotly.purge(gd);\n",
       "            observer.disconnect();\n",
       "        }}\n",
       "}});\n",
       "\n",
       "// Listen for the removal of the full notebook cells\n",
       "var notebookContainer = gd.closest('#notebook-container');\n",
       "if (notebookContainer) {{\n",
       "    x.observe(notebookContainer, {childList: true});\n",
       "}}\n",
       "\n",
       "// Listen for the clearing of the current output cell\n",
       "var outputEl = gd.closest('.output');\n",
       "if (outputEl) {{\n",
       "    x.observe(outputEl, {childList: true});\n",
       "}}\n",
       "\n",
       "                        })\n",
       "                };\n",
       "                });\n",
       "            </script>\n",
       "        </div>"
      ]
     },
     "metadata": {},
     "output_type": "display_data"
    }
   ],
   "source": [
    "fig.add_scatter(x=np.log(walk[:, 0]), y=np.log(walk[:, 1]), mode=\"markers\", opacity=0.7)"
   ]
  },
  {
   "cell_type": "code",
   "execution_count": 39,
   "metadata": {},
   "outputs": [
    {
     "name": "stdout",
     "output_type": "stream",
     "text": [
      "Optimization terminated successfully.\n",
      "         Current function value: 2.487482\n",
      "         Iterations: 68\n",
      "         Function evaluations: 132\n"
     ]
    },
    {
     "data": {
      "text/plain": [
       "array([0.32905169, 0.08998246])"
      ]
     },
     "execution_count": 39,
     "metadata": {},
     "output_type": "execute_result"
    }
   ],
   "source": [
    "a.infer_obs_map(b)"
   ]
  },
  {
   "cell_type": "code",
   "execution_count": 40,
   "metadata": {},
   "outputs": [],
   "source": [
    "a.beta, a.gamma = res[0], res[1]"
   ]
  },
  {
   "cell_type": "code",
   "execution_count": 41,
   "metadata": {},
   "outputs": [
    {
     "data": {
      "text/plain": [
       "1.2094653016504042"
      ]
     },
     "execution_count": 41,
     "metadata": {},
     "output_type": "execute_result"
    }
   ],
   "source": [
    "np.log(-loglikely(a, b))"
   ]
  },
  {
   "cell_type": "code",
   "execution_count": null,
   "metadata": {},
   "outputs": [],
   "source": []
  }
 ],
 "metadata": {
  "@webio": {
   "lastCommId": null,
   "lastKernelId": null
  },
  "kernelspec": {
   "display_name": "Python 3",
   "language": "python",
   "name": "python3"
  },
  "language_info": {
   "codemirror_mode": {
    "name": "ipython",
    "version": 3
   },
   "file_extension": ".py",
   "mimetype": "text/x-python",
   "name": "python",
   "nbconvert_exporter": "python",
   "pygments_lexer": "ipython3",
   "version": "3.7.3"
  }
 },
 "nbformat": 4,
 "nbformat_minor": 2
}
